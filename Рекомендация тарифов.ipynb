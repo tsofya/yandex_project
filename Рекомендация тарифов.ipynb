{
 "cells": [
  {
   "cell_type": "markdown",
   "metadata": {},
   "source": [
    "# Результат ревью:\n",
    "\n",
    "Я отмечаю адекватный уровень твоей программистской подготовки. Ты используешь продвинутые концепции языка Python, библиотеки pandas и одной из основных библиотек машинного обучения sckit-learn. Это показывает твой уровень владения инструментами анализа данных и machine learning.\n",
    "\n",
    "С комментированием никаких проблем нет. Твоих объяснений достаточно для понимания твоими коллегами хода мыслей. Ссылки из брифа проекта в нужных местах также помогают следовать за развитием событий и дают полную информацию касаемо того, что будет происходить в том или ином разделе проекта.\n",
    "\n",
    "Мне было просто проверять твой проект, потому что он чётко структурирован, с использованием оглавления. \n",
    "\n",
    "Зелёным цветом я отметил и прокомментировал удачные и элегантные решения, на которые ты можешь опираться в будущих проектах.\n",
    "\n",
    "Жёлтым цветом я выделил то, что в следующий раз можно сделать по-другому. Ты можешь учесть эти комментарии при выполнении будущих заданий или доработать проект сейчас.\n",
    "\n",
    "Красных комментариев, которые бы не позволяли мне принять твой проект в его нынешнем состоянии - нет. \n",
    "\n",
    "ПРОЕКТ ПРИНЯТ!\n",
    "\n",
    "Подводя итог: отличная работа, молодец! Желаю тебе успехов в учёбе, желаю, чтобы проекты сдавались или сразу, или после первой итерации! Удачи!\n",
    "\n",
    "p.s. я тебе на твой адрес эл/почты сейчас вышлю некоторые материалы из своей электронной библиотеки - надеюсь они будут тебе полезными в учёбе.</div>"
   ]
  },
  {
   "cell_type": "code",
   "execution_count": null,
   "metadata": {},
   "outputs": [],
   "source": []
  },
  {
   "cell_type": "markdown",
   "metadata": {},
   "source": [
    "Приветствую Софья! \n",
    "\n",
    "Меня зовут Александр Непомнящий и я буду проверять твой проект. Предлагаю общаться на «ты» :))) Но, если это не удобно - мы вполне можем перейти на вы\".\n",
    "\n",
    "Вкратце обо мне: я работаю в сфере информационных технологий, аналитика (анализ) данных - это и мой рабочий функционал и личная, интересная мне область для саморазвития. Используемый стек: python, pandas, графические библиотеки matplotlib/seaborn/plotly. Сфера применения: маркетинговая аналитика в медицинской клинике (Клиника «Кивач», www.kivach.ru, республика Карелия). Если вдруг есть вопрос – что делает аналитик в коммерческой медицине – то вот короткий ответ. Самый главный вопрос, на который мы хотим получить ответ (и который в дальнейшем приведёт к перераспределению рекламного бюджета, плюс напрямую повлияет на разработку и предложению рынку новых лечебных программ) - это КТО ОН, НАШ КЛИЕНТ? Фактически это задача (на нашем внутреннем языке формулируется как построение и анализ «ПОРТРЕТА КЛИЕНТА»). Визуализируем и пытаемся придать смысл половозрастным данным наших клиентов, кто из какого региона и в какие времена года к нам приезжает. Учитываем количество приездов. Учитываем на какую программу этот конкретный клиент приехал в первый раз и как в дальнейшем меняются его предпочтения. Пытаемся построить модель оттока и спрогнозировать, когда клиент уйдёт в отток. Смотрим цифры (суммы трат клиентов на отдельных группах медицинских программ). Анализируем медицинские услуги, которые входят в путёвку, а также что, в каких количествах и на какую сумму клиент покупает дополнительно. Очень вкратце как-то так.\n",
    "\n",
    "Теперь к сути: основная цель моей проверки - пройти по шагам, по логике твоего решения и обсудить те моменты, которые можно изменить, улучшить, довести до идеала. Такой формат работы двух программистов (аналитиков) ты или уже встречал(а), или встретишь на своей новой работе. Кто-то такой процесс называет \"код-ревью\", ну а как по мне, так это обмен опытом двух коллег, когда каждый из нас становиться лучше в процессе дискуссии.\n",
    "\n",
    "Свои мысли, советы, комментарии и вопросы я буду оставлять в текстовых ячейках (markdown) ПОД твоим кодом. \n",
    "Для твоего удобства все эти заметки будут \"цветными\", как на примерах ниже:\n",
    "\n",
    "\"Зелеными\" комментариями я буду отмечать твой элегантный (\"красивый\") код и/или удачные решения, на которые ты можешь смело опираться в будущих проектах.\n",
    "<div class=\"alert alert-success\">\n",
    "<b>Отлично! 👍</b>\n",
    "\n",
    "Отличная находка, элегантный код ...</div>\n",
    "\n",
    "\"Жёлтые\" комментарии - это мои размышления, предложения, что-то, что на следующей итерации можно сделать по-другому. Твоя реакция на \"жёлтые\" комментарий необходима и подразумевает или правки, или реакцию или аргументированное согласие/не согласие. Я искренне верю, что наш двусторонний диалог под \"желтым\" комментарием - это то, от чего твой проект только выиграет. <div class=\"alert alert-warning\">\n",
    "<b>Комментарий 👉</b>\n",
    "\n",
    "Здесь я бы предложил использовать .... Мои аргументы в пользу этого ...</div>\n",
    "\n",
    "\"Красные\" комментарий будут появляться, когда что-то пойдёт не так: например, код будет выдавать ошибку. Или, когда в проекте не будет ответов на основные вопросы, ради которых весь анализ и выполнялся. \"Красные\" комментарии необходимо будет исправить, прежде чем я смогу принять проект.\n",
    "<div class=\"alert alert-danger\">\n",
    "<b>Необходимо исправить ❌</b>\n",
    "\n",
    "В этой ячейке код работает не так как задумано ...</div>\n",
    "\n",
    "Пожалуйста, не перемещай, не изменяй и не удаляй мои комментарии. Это поможет мне оперативно выполнить повторную проверку твоего проекта.\n",
    "\n",
    "Давай работать над проектом в диалоге: если ты что-то меняешь в проекте по моим рекомендациям — пиши об этом, лучше всего в новой ячейке, сразу под моим комментарием. Если для своих комментариев ты будешь использовать какой-то заметный цвет, то мне будет легче отследить твои изменения, например так:\n",
    "\n",
    "<div style=\"background: #B0E0E6; padding: 5px; border: 1px solid SteelBlue; border-radius: 5px;\">\n",
    "    <font color='4682B4'><u><b>КОММЕНТАРИЙ СТУДЕНТА</b></u></font>\n",
    "    <br />\n",
    "    <font color='4682B4'>Текст твоего комментария ...</font>\n",
    "</div>\n",
    "\n",
    "Ну и наконец информируй меня в том случае, если по твоему проекту подходит дедлайн! В таком случае я приложу усилия, чтобы ты сдал(а) его вовремя; буду оперативно, в приоритете проверять итерации ревью, а также отвечать на твои вопросы, если этого будет требовать ситуация.\n",
    "\n",
    "**Распространенные типичные недочёты в проектах студентов:**\n",
    "\n",
    "<div class=\"alert alert-danger\" ❌>\n",
    "Неработоспособный код. Проверь проект на работоспособность перед отправкой на проверку. Это важный навык, который тебе пригодится как на собеседовании, при выполнении тестового задания, так и перед совещанием у руководства компании.</div>\n",
    "\n",
    "<div class=\"alert alert-danger\" ❌>\n",
    "Проект не структурирован. В проекте должна быть структура, т.е. названия разделов и подразделов должны быть записаны в ячейках Markdown.</div>\n",
    "\n",
    "<div class=\"alert alert-warning\" 👉 >\n",
    "Отсутствие описания, целей проекта, его задач, выводов. В описании должны быть озвучены поставленные задачи, содержание датасета, промежуточные и финальные выводы. Как правило, заказчик читает только финальный вывод, поэтому важно добавить информацию о проведенном исследовании, применить форматирование текста, в общем, сделать красиво, чтобы было понятно, что проведено настоящее исследование и выводу можно верить.</div>  \n",
    "\n",
    "<div class=\"alert alert-warning\" 👉 >\n",
    "\"Длинный код\". Код и и комментарии, которые прячутся за правым концом ячейки нужно переносить на новую строку. Твои будущие коллеги не оценят необходимость постоянного скроллинга. Согласно PEP8: https://www.python.org/dev/peps/pep-0008/ длина строки не должна превышать 79 символов.</div>\n",
    "\n",
    "<div class=\"alert alert-warning\" 👉 >\n",
    "Твои коллеги ценят и твое и своё время, поэтому \"подсвечивай\" свои комментарии в ячейках Markdown. Подробнее про синтаксис Markdown, с примерами, можно почитать здесь: https://paulradzkov.com/2014/markdown_cheatsheet/?</div>\n"
   ]
  },
  {
   "cell_type": "code",
   "execution_count": null,
   "metadata": {},
   "outputs": [],
   "source": []
  },
  {
   "cell_type": "markdown",
   "metadata": {},
   "source": [
    "# Рекомендация тарифов"
   ]
  },
  {
   "cell_type": "markdown",
   "metadata": {},
   "source": [
    "В вашем распоряжении данные о поведении клиентов, которые уже перешли на эти тарифы (из проекта курса «Статистический анализ данных»). Нужно построить модель для задачи классификации, которая выберет подходящий тариф. Предобработка данных не понадобится — вы её уже сделали.\n",
    "\n",
    "Постройте модель с максимально большим значением *accuracy*. Чтобы сдать проект успешно, нужно довести долю правильных ответов по крайней мере до 0.75. Проверьте *accuracy* на тестовой выборке самостоятельно."
   ]
  },
  {
   "cell_type": "markdown",
   "metadata": {},
   "source": [
    "## Откройте и изучите файл"
   ]
  },
  {
   "cell_type": "code",
   "execution_count": 1,
   "metadata": {},
   "outputs": [
    {
     "data": {
      "text/html": [
       "<div>\n",
       "<style scoped>\n",
       "    .dataframe tbody tr th:only-of-type {\n",
       "        vertical-align: middle;\n",
       "    }\n",
       "\n",
       "    .dataframe tbody tr th {\n",
       "        vertical-align: top;\n",
       "    }\n",
       "\n",
       "    .dataframe thead th {\n",
       "        text-align: right;\n",
       "    }\n",
       "</style>\n",
       "<table border=\"1\" class=\"dataframe\">\n",
       "  <thead>\n",
       "    <tr style=\"text-align: right;\">\n",
       "      <th></th>\n",
       "      <th>calls</th>\n",
       "      <th>minutes</th>\n",
       "      <th>messages</th>\n",
       "      <th>mb_used</th>\n",
       "      <th>is_ultra</th>\n",
       "    </tr>\n",
       "  </thead>\n",
       "  <tbody>\n",
       "    <tr>\n",
       "      <th>0</th>\n",
       "      <td>40.0</td>\n",
       "      <td>311.90</td>\n",
       "      <td>83.0</td>\n",
       "      <td>19915.42</td>\n",
       "      <td>0</td>\n",
       "    </tr>\n",
       "    <tr>\n",
       "      <th>1</th>\n",
       "      <td>85.0</td>\n",
       "      <td>516.75</td>\n",
       "      <td>56.0</td>\n",
       "      <td>22696.96</td>\n",
       "      <td>0</td>\n",
       "    </tr>\n",
       "    <tr>\n",
       "      <th>2</th>\n",
       "      <td>77.0</td>\n",
       "      <td>467.66</td>\n",
       "      <td>86.0</td>\n",
       "      <td>21060.45</td>\n",
       "      <td>0</td>\n",
       "    </tr>\n",
       "    <tr>\n",
       "      <th>3</th>\n",
       "      <td>106.0</td>\n",
       "      <td>745.53</td>\n",
       "      <td>81.0</td>\n",
       "      <td>8437.39</td>\n",
       "      <td>1</td>\n",
       "    </tr>\n",
       "    <tr>\n",
       "      <th>4</th>\n",
       "      <td>66.0</td>\n",
       "      <td>418.74</td>\n",
       "      <td>1.0</td>\n",
       "      <td>14502.75</td>\n",
       "      <td>0</td>\n",
       "    </tr>\n",
       "  </tbody>\n",
       "</table>\n",
       "</div>"
      ],
      "text/plain": [
       "   calls  minutes  messages   mb_used  is_ultra\n",
       "0   40.0   311.90      83.0  19915.42         0\n",
       "1   85.0   516.75      56.0  22696.96         0\n",
       "2   77.0   467.66      86.0  21060.45         0\n",
       "3  106.0   745.53      81.0   8437.39         1\n",
       "4   66.0   418.74       1.0  14502.75         0"
      ]
     },
     "execution_count": 1,
     "metadata": {},
     "output_type": "execute_result"
    }
   ],
   "source": [
    "import pandas as pd\n",
    "from sklearn.model_selection import train_test_split\n",
    "\n",
    "from sklearn.linear_model import LogisticRegression\n",
    "from sklearn.ensemble import RandomForestClassifier\n",
    "from sklearn.tree import DecisionTreeClassifier\n",
    "from sklearn.dummy import DummyClassifier\n",
    "\n",
    "df = pd.read_csv('/datasets/users_behavior.csv')\n",
    "df.head()"
   ]
  },
  {
   "cell_type": "markdown",
   "metadata": {},
   "source": [
    "<div class=\"alert alert-success\">\n",
    "<b>ОТЛИЧНО! 👍</b>\n",
    "\n",
    "Отлично. Импортировали требуемые для анализа библиотеки и загрузили данные. Сейчас посмотрим на их состояние и если всё ОК, сможем приступать к построению моделей....\n",
    "</div>"
   ]
  },
  {
   "cell_type": "code",
   "execution_count": 2,
   "metadata": {},
   "outputs": [
    {
     "name": "stdout",
     "output_type": "stream",
     "text": [
      "<class 'pandas.core.frame.DataFrame'>\n",
      "RangeIndex: 3214 entries, 0 to 3213\n",
      "Data columns (total 5 columns):\n",
      " #   Column    Non-Null Count  Dtype  \n",
      "---  ------    --------------  -----  \n",
      " 0   calls     3214 non-null   float64\n",
      " 1   minutes   3214 non-null   float64\n",
      " 2   messages  3214 non-null   float64\n",
      " 3   mb_used   3214 non-null   float64\n",
      " 4   is_ultra  3214 non-null   int64  \n",
      "dtypes: float64(4), int64(1)\n",
      "memory usage: 125.7 KB\n"
     ]
    }
   ],
   "source": [
    "df.info()"
   ]
  },
  {
   "cell_type": "code",
   "execution_count": 3,
   "metadata": {},
   "outputs": [
    {
     "data": {
      "text/plain": [
       "0"
      ]
     },
     "execution_count": 3,
     "metadata": {},
     "output_type": "execute_result"
    }
   ],
   "source": [
    "df.duplicated().sum()"
   ]
  },
  {
   "cell_type": "markdown",
   "metadata": {},
   "source": [
    "Преобразуем тип данных в столбцах \"messages\" и \"calls\" к типу int."
   ]
  },
  {
   "cell_type": "code",
   "execution_count": 4,
   "metadata": {},
   "outputs": [
    {
     "name": "stdout",
     "output_type": "stream",
     "text": [
      "<class 'pandas.core.frame.DataFrame'>\n",
      "RangeIndex: 3214 entries, 0 to 3213\n",
      "Data columns (total 5 columns):\n",
      " #   Column    Non-Null Count  Dtype  \n",
      "---  ------    --------------  -----  \n",
      " 0   calls     3214 non-null   int64  \n",
      " 1   minutes   3214 non-null   float64\n",
      " 2   messages  3214 non-null   int64  \n",
      " 3   mb_used   3214 non-null   float64\n",
      " 4   is_ultra  3214 non-null   int64  \n",
      "dtypes: float64(2), int64(3)\n",
      "memory usage: 125.7 KB\n"
     ]
    }
   ],
   "source": [
    "df['messages']=df['messages'].astype(\"int\")\n",
    "df['calls']=df['calls'].astype(\"int\")\n",
    "df.info()"
   ]
  },
  {
   "cell_type": "markdown",
   "metadata": {},
   "source": [
    "**Вывод** Полученные данные представляют собой таблицу из 3214 строк и 5 столбцов. Явных дубликатов нет. В ходе изучения данных было принято изменить тип двух столбцов для сохраннения памяти."
   ]
  },
  {
   "cell_type": "markdown",
   "metadata": {},
   "source": [
    "<div class=\"alert alert-success\">\n",
    "<b>ОТЛИЧНО! 👍</b>\n",
    "\n",
    "Данные загружены, отлично.\n",
    "\n",
    "Хорошо, что применяешь метод .head()/.sample() таким образом в память не будет загружен весь датасет, объем которого может быть огромным.\n",
    "\n",
    "Методы .info, .describe, .value_counts(), .unique() как правило часто встречаются и обязательны к применению в задачах по исследованию данных, ведь с их помощью можно получить первые инсайты. \n",
    "\n",
    "Итак, мы провели предварительный анализ данных, проверили данные на наличие пропусков (*из применяемых тобой методов видно что пропусков нет*) и затем обработали их (аргументированно заполнили / удалили / оставили как есть). Теперь можно приступать собственно к построению моделей и ответам на вопросы проекта.\n",
    "</div>"
   ]
  },
  {
   "cell_type": "markdown",
   "metadata": {},
   "source": [
    "<div class=\"alert alert-warning\">\n",
    "<b>Комментарий 👉</b>\n",
    "\n",
    "Несколько моментов \"на будущее\" (сейчас забегаю чуть вперед, но будущем это будет важно) которые я хотел озвучить перед переходом к собственно исследованию:\n",
    "    \n",
    "- имеет смысл критично посмотреть на данные с точки зрения наличия пропусков в признаках (вопрос: все ли ml-модели \"любят\" пропуски?). Из результата info / describe / .duplicated() видно что пропусков нет, но я бы ещё явно это сказал. \n",
    "    \n",
    "- имеет смысл явно обозначить какую задачу мы будем решать: с учителем / без учителя, классификации / регрессии ...\n",
    "    \n",
    "- в моделях бинарной классификации имеет смысл смотреть на баланс классов. Два взгляда (с разных сторон) на эту проблему тут: https://alexanderdyakonov.wordpress.com/2021/05/27/imbalance/ и https://habr.com/ru/post/349078/\n",
    "    \n",
    "- имеет смысл смотреть на корреляцию признаков. При высокой их степени коррелированности возникает проблема  мультиколлиниарность признаков. Проблема \"мультиколлинеарности\" это и про переобучение модели и про её интерпретируемость и про сложность модели (содержание в модели избыточного количества переменных). В чем негативный эффект сложной модели? Вот в чем: усложняется интерпретация параметров, оценки параметров ненадежны – получаются большие стандартные ошибки, которые меняются с изменением объема наблюдений, что делает модель регрессии непригодной для прогнозирования.\n",
    "    \n",
    "А теперь давай про интерпретируемость. Согласись - это важно, чтобы результат, который выдает модель можно было бы понять и объяснить с точки зрения предметной области. В случае включения в модель коллинеарных признаков может случиться так, что коэффициенты (да, проблема присуща моделям линейным ... регрессия среди них!) могут менять знаки и попытка объяснения предметной области с помощью этих коэффициентов будет противоречить здравому смыслу.\n",
    "    \n",
    "Вот классная статья. Простым языком, на примере показана проблема. А также, что важно - разобраны варианты как её (проблему) победить. Статья: https://habr.com/ru/company/akbarsdigital/blog/592493/ \n",
    "</div>"
   ]
  },
  {
   "cell_type": "markdown",
   "metadata": {},
   "source": [
    "## Разбейте данные на выборки"
   ]
  },
  {
   "cell_type": "markdown",
   "metadata": {},
   "source": [
    "Разделим исходные данные на обучающую, валидационную и тестовую выборки. в итоге должны получить соотношение 60/20/20"
   ]
  },
  {
   "cell_type": "markdown",
   "metadata": {},
   "source": [
    "Разобьем выборки на 60% обучающую и 40% валидационную"
   ]
  },
  {
   "cell_type": "code",
   "execution_count": 5,
   "metadata": {},
   "outputs": [],
   "source": [
    "features = df.drop('is_ultra', axis=1) # извлекаем признак\n",
    "target = df['is_ultra'] #цизвлекаем нулевой признак\n",
    "\n",
    "features_train, features_test, target_train, target_test  = train_test_split(features, target, test_size=0.4, random_state=12345)"
   ]
  },
  {
   "cell_type": "markdown",
   "metadata": {},
   "source": [
    "<div class=\"alert alert-success\">\n",
    "<b>ОТЛИЧНО! 👍</b>\n",
    "\n",
    "1. Здесь хорошо, происходит фиксация random_state. Воспроизводимость результатов разбиения выборки на обучающую (тренировочную) / тестовую / валидационную мы обеспечили, значит при всех последующих запусках нашего кода подвыборки будут идентичными.\n",
    "    \n",
    "2. Доли размеров train/test/valid 3:1:1 - хорошо.\n",
    "</div>"
   ]
  },
  {
   "cell_type": "markdown",
   "metadata": {},
   "source": [
    "Валидационную на тестовую и валидацонную в соотношении 50/50"
   ]
  },
  {
   "cell_type": "code",
   "execution_count": 1,
   "metadata": {},
   "outputs": [
    {
     "ename": "SyntaxError",
     "evalue": "invalid syntax (3042931883.py, line 2)",
     "output_type": "error",
     "traceback": [
      "\u001b[0;36m  File \u001b[0;32m\"/tmp/ipykernel_31/3042931883.py\"\u001b[0;36m, line \u001b[0;32m2\u001b[0m\n\u001b[0;31m    (features_test,target_test,test_size=0.5  , random_state=12345)\u001b[0m\n\u001b[0m                                        ^\u001b[0m\n\u001b[0;31mSyntaxError\u001b[0m\u001b[0;31m:\u001b[0m invalid syntax\n"
     ]
    }
   ],
   "source": [
    "features_valid, features_test, target_valid, target_test =train_test_split(features_test,\n",
    "                                                                           target_test,test_size=0.5  , \n",
    "                                                                           random_state=12345)"
   ]
  },
  {
   "cell_type": "markdown",
   "metadata": {},
   "source": [
    "<div class=\"alert alert-warning\">\n",
    "<b>Комментарий 👉</b>\n",
    "\n",
    "Обрати внимание на ячейку, которую я сейчас комментирую – видишь слайдер («бегунок») снизу? Он показывает, что код не помещается в видимые границы ячейки (и чтобы его полностью «прочитать» - нужно использовать мышь. Код очень длинный.\n",
    "\n",
    "Код очень длинный (а PEP8 определяет длину строки в 79 символов) - попробуй длинные - переносить, а между строками использовать пустые строки. Ну и желательно код комментировать, хотя бы коротко (что делаешь и каков будет результат - так твоим коллегам будет проще за твоей мыслью следить). Этот комментарий может относиться к нескольким ячейкам этой «тетрадки».\n",
    "\n",
    "Хороший разработчик форматирует и комментирует свой код, тогда другие разработчики быстрее разберутся в программе. Это важно, ведь код чаще читают, чем пишут: напишет один, а прочтут — сотни или тысячи (если код хороший). \n",
    "«Пишите код так, как будто сопровождать его будет склонный к насилию психопат, который знает, где вы живете.» ©1991, John F. Woods, разработчик\n",
    "\n",
    "---\n",
    "Давай обсудим стиль кодирования (программирования)? Смотри что сейчас происходит в этой ячейке (**не всё применимо к твоему коду здесь, но я попытался собрать и представить здесь самые ценные советы из PEP8 по организации кода**) и что можно сделать по-другому, чуть лучше:\n",
    "\n",
    "1. Комментарии к строке кода: они должны располагаться выше соответствующей строки кода (выше строки к которой относятся) и должны быть от этой строки отделены пустой строкой. Если же они расположены справа, то для того чтобы увидеть, что там написано приходится пользоваться скроллиногом. Надо добиться того, чтобы ячейку не приходилось прокручивать, т.к. это не добавляет удобства ни при отладке кода, ни для понимания что в этой ячейке \"происходит\". Как альтернатива – комментарий может размещаться выше, в Markdown-ячейке.\n",
    "    \n",
    "2. Бывает, что встречаются очень длинные строки кода, которые также уходят за правый край ячейки. Такие строки должны разбиваться разделителем (вот таким: \\\\). Это best practice, требование PEP8, а именно: PEP8 определяет длину строки в 79 символов.\n",
    "    \n",
    "3. **В идеале**: одна ячейка - одна строка кода. Почему так? Да как минимум из соображения понятности: будучи выполненной, под этой ячейкой должен отображаться результат трансформации данных. Ты или твой коллега должны видеть, как поменялись данные после выполнения ячейки с кодом. Следующая ячейка - ещё строка кода и соответствующим output'ом. Будешь делать так - коллеги будут тебе благодарны за то, что легко будут следовать за твоей мыслью. И отладку это упрощает. Ну и как противоположность - можно в одну ячейку \"положить\" результат 3-х последовательных groupby + ещё чего-нибудь. Разобраться с ходу \"что происходит\" будет очень трудно, придётся всё равно код разносить по ячейкам и смотреть последовательно что происходит. Но ведь логично это делать удобным способом сразу, ведь так?\n",
    "    \n",
    "4. Неиспользуемые, закомментированные строки выше вынеси в другую ячейку, отдельную, выше. Можешь для удобства своего прокомментировать (на память). И оставь там это код, так, чтобы он не смешивался с рабочим кодом.\n",
    "\n",
    "p.s. возможно и в следующих ячейках твоей «тетрадки» будет код, который просмотреть можно только используя мышку, но я этот момент более комментировать не буду – просто обращай внимание на слайдер под ячейкой с кодом.\n",
    "</div>"
   ]
  },
  {
   "cell_type": "markdown",
   "metadata": {},
   "source": [
    "Проверка:"
   ]
  },
  {
   "cell_type": "code",
   "execution_count": 7,
   "metadata": {},
   "outputs": [
    {
     "name": "stdout",
     "output_type": "stream",
     "text": [
      "тренировочная 60.0%\n",
      "валидационная 20.0%\n",
      "тестовая 20.0%\n"
     ]
    }
   ],
   "source": [
    "print(f'тренировочная {features_train.shape[0] / len(df):.1%}')\n",
    "print(f'валидационная {features_valid.shape[0] / len(df):.1%}')\n",
    "print(f'тестовая {features_test.shape[0] / len(df):.1%}')"
   ]
  },
  {
   "cell_type": "markdown",
   "metadata": {},
   "source": [
    "<div class=\"alert alert-success\">\n",
    "<b>ОТЛИЧНО! 👍</b>\n",
    "\n",
    "Молодец, что после разбиения данных на выборки смотришь на их размеры и размерности. Метод shape для этого - идеальный помощник. \"Цифры\" по выборкам показывают верно ли мы произвели \"разделение\" данных.\n",
    "\n",
    "p.s. так (**псевдокод**): X_train.shape[0] – «покажет» количество строк в тренировочной выборке, а X_train.shape[1] - количество столбцов в ней же. Ну а X_train.shape – выведет размерность train'а в виде кортежа с 2мя значениями (первое число – количество строк, второе – столбцов).</div>"
   ]
  },
  {
   "cell_type": "markdown",
   "metadata": {},
   "source": [
    "**Вывод:** данные поделены корректно."
   ]
  },
  {
   "attachments": {
    "image.png": {
     "image/png": "[encoded data removed]"
    }
   },
   "cell_type": "markdown",
   "metadata": {},
   "source": [
    "<div class=\"alert alert-warning\">\n",
    "<b>Комментарий 👉</b>\n",
    "\n",
    "Исключительно как вариант, а также воспользоваться советом со Стэковерфлоу: https://stackoverflow.com/questions/38250710/how-to-split-data-into-3-sets-train-validation-and-test/38251213#38251213\n",
    "\n",
    "\ttrain, valid, test = np.split(df.sample(frac=1, random_state=821), [int(.6*len(df)), int(.8*len(df))])\n",
    "\n",
    "Также, разбивать данные можно и автоматизировано, используя библиотеку fast_ml (см. скрин). К этому скрину один комментарий – не факт, что эта библиотека fast_ml развернута здесь, на Хабе, НО дома, своей локальной машине, с установленной средой (например Анакондой: https://www.anaconda.com/products/distribution) ты вполне можешь этим вариантом пользоваться (после установки **!pip install fast_ml**):\n",
    "</div>\n",
    "\n",
    "![image.png](attachment:image.png)"
   ]
  },
  {
   "cell_type": "markdown",
   "metadata": {},
   "source": [
    "## Исследуйте модели"
   ]
  },
  {
   "cell_type": "markdown",
   "metadata": {},
   "source": [
    "### Логистическая регрессия"
   ]
  },
  {
   "cell_type": "code",
   "execution_count": 8,
   "metadata": {},
   "outputs": [
    {
     "name": "stdout",
     "output_type": "stream",
     "text": [
      "Качество: 0.7107309486780715\n"
     ]
    }
   ],
   "source": [
    "model = LogisticRegression(random_state=12345, solver='lbfgs', max_iter=10000) \n",
    "model.fit(features_train,target_train) # обучите модель на тренировочной выборке\n",
    "accuracy = model.score(features_valid, target_valid)\n",
    "print(\"Качество:\", accuracy)"
   ]
  },
  {
   "cell_type": "markdown",
   "metadata": {},
   "source": [
    "### Дерево решений"
   ]
  },
  {
   "cell_type": "code",
   "execution_count": 9,
   "metadata": {},
   "outputs": [
    {
     "name": "stdout",
     "output_type": "stream",
     "text": [
      "Глубина дерева: 3 Качество: 0.7853810264385692\n"
     ]
    }
   ],
   "source": [
    "best_model = None\n",
    "best_depth = 0\n",
    "best_accuracy = 0\n",
    "for depth in range(1, 6):\n",
    "    model = DecisionTreeClassifier(random_state=12345,max_depth=depth)  # инициализируйте модель \n",
    "    model.fit(features_train,target_train) # обучите модель на тренировочной выборке\n",
    "    accuracy = model.score(features_valid, target_valid) \n",
    "    if accuracy > best_accuracy:\n",
    "        best_accuracy = accuracy\n",
    "        best_model = model\n",
    "        best_depth = depth\n",
    "print(\"Глубина дерева:\", best_depth,  \"Качество:\", best_accuracy)        "
   ]
  },
  {
   "cell_type": "markdown",
   "metadata": {},
   "source": [
    "### Случайный лес\n"
   ]
  },
  {
   "cell_type": "code",
   "execution_count": 10,
   "metadata": {},
   "outputs": [
    {
     "name": "stdout",
     "output_type": "stream",
     "text": [
      "Глубина дерева: 7 Количество деревьев: 11 Минимальное количество выборок внутреннего узла: 3 Качество: 0.8055987558320373\n"
     ]
    }
   ],
   "source": [
    "best_model = None\n",
    "best_est = 0\n",
    "best_depth = 0\n",
    "best_accuracy = 0\n",
    "mss=2\n",
    "for est in range(1,15,1):\n",
    "    for depth in range(1,11):\n",
    "        for mss in range(2,6):\n",
    "            model = RandomForestClassifier(random_state = 12345, n_estimators = est, max_depth = depth,min_samples_split=mss)\n",
    "            model.fit(features_train,target_train)\n",
    "            accuracy = model.score(features_valid, target_valid) \n",
    "            if accuracy > best_accuracy:\n",
    "                    best_accuracy = accuracy\n",
    "                    best_model = model\n",
    "                    best_depth = depth\n",
    "                    best_est = est\n",
    "                    best_mss = mss\n",
    "\n",
    "print(\"Глубина дерева:\", best_depth, \"Количество деревьев:\",\n",
    "      best_est, 'Минимальное количество выборок внутреннего узла:', \n",
    "      best_mss, \"Качество:\", best_accuracy) \n",
    "\n"
   ]
  },
  {
   "cell_type": "markdown",
   "metadata": {},
   "source": [
    "<div class=\"alert alert-success\">\n",
    "<b>ОТЛИЧНО! 👍</b>\n",
    "\n",
    "Здесь отлично: определили лучшую модель. На валидации ею оказалась модель \"случайного леса\". \n",
    "\n",
    "После того, как лучшая модель найдена – тестируем её (можно - только её) на тестовых данных. Все прочие модели нас уже больше не интересуют. \n",
    "</div>"
   ]
  },
  {
   "cell_type": "markdown",
   "metadata": {},
   "source": [
    "*при кол-ве деревьев = 31 качество увеличивалось до 0.809, но было принято решение оставитть качество = 0.806 в пользу меньшего  кол-ва деревьев, чтоб модель не разрасталась*"
   ]
  },
  {
   "cell_type": "markdown",
   "metadata": {},
   "source": [
    "**Вывод:** В результате исследования модели было выявлено, что самым высоким качеством (аccuracy) обладает модель \"RandomForestClassifier\" (случайный лес), результат составил 0.806. Наиболее оптимальные гиперпараметры: max_depth=7, min_samples_split=3, n_estimators=11 \n",
    "\n",
    "Второе место у модели \"DecisionTreeClassifier\" (дерево решений) показатель аccuracy = 0.785 при max_depth=5\n",
    "\n",
    "Тройку лидеров закрывает модель \"LogisticRegression\" (логистическая регрессия) у нее качество 0.711 при solver='lbfgs', max_iter=10000"
   ]
  },
  {
   "cell_type": "markdown",
   "metadata": {},
   "source": [
    "## Проверьте модель на тестовой выборке"
   ]
  },
  {
   "cell_type": "markdown",
   "metadata": {},
   "source": [
    "### Логистическая регрессия"
   ]
  },
  {
   "cell_type": "code",
   "execution_count": 11,
   "metadata": {},
   "outputs": [
    {
     "name": "stdout",
     "output_type": "stream",
     "text": [
      "Качество: 0.6842923794712286\n"
     ]
    }
   ],
   "source": [
    "model = LogisticRegression(random_state=12345, solver='lbfgs', max_iter=10000)\n",
    "model.fit(features_train, target_train)\n",
    "accuracy = model.score(features_test, target_test)\n",
    "print(\"Качество:\", accuracy)"
   ]
  },
  {
   "cell_type": "markdown",
   "metadata": {},
   "source": [
    "### Дерево решений"
   ]
  },
  {
   "cell_type": "code",
   "execution_count": 12,
   "metadata": {},
   "outputs": [
    {
     "name": "stdout",
     "output_type": "stream",
     "text": [
      "Качество: 0.7744945567651633\n"
     ]
    }
   ],
   "source": [
    "model = DecisionTreeClassifier(max_depth=4, random_state=1515)\n",
    "model.fit(features_train, target_train)\n",
    "accuracy = model.score(features_test, target_test)\n",
    "print(\"Качество:\", accuracy)"
   ]
  },
  {
   "cell_type": "markdown",
   "metadata": {},
   "source": [
    "### Случайный лес"
   ]
  },
  {
   "cell_type": "code",
   "execution_count": 13,
   "metadata": {},
   "outputs": [
    {
     "name": "stdout",
     "output_type": "stream",
     "text": [
      "Качество: 0.8087091757387247\n"
     ]
    }
   ],
   "source": [
    "model = RandomForestClassifier(max_depth=10, n_estimators=10,min_samples_split=4, random_state=12345)\n",
    "model.fit(features_train, target_train)\n",
    "accuracy = model.score(features_test, target_test)\n",
    "print(\"Качество:\", accuracy)"
   ]
  },
  {
   "cell_type": "markdown",
   "metadata": {},
   "source": [
    "<div class=\"alert alert-success\">\n",
    "<b>ОТЛИЧНО! 👍</b>\n",
    "\n",
    "Здесь отлично: проверили \"качество\" нашей лучшей модели на тестовых данных.\n",
    "</div>"
   ]
  },
  {
   "cell_type": "markdown",
   "metadata": {},
   "source": [
    "**Вывод:** После объективной оценки окончательной модели у нас получились следующие значения метрики Accuracy на тестовой выборке:\n",
    "\n",
    "Логистическая регрессия -  0.684\n",
    "\n",
    "Дерево решений - 0.778\n",
    "\n",
    "Случайный лес - 0.801"
   ]
  },
  {
   "cell_type": "markdown",
   "metadata": {},
   "source": [
    "## (бонус) Проверьте модели на адекватность"
   ]
  },
  {
   "cell_type": "markdown",
   "metadata": {},
   "source": [
    "Для проверки моделей используем классификатор DummyClassifier, он сделает прогнозы с использованем  простых правил и не генерирует никаких ценных сведений о данных  "
   ]
  },
  {
   "cell_type": "markdown",
   "metadata": {},
   "source": [
    "Наиболее эффективно себя показала модель случайного леса - RandomForestClassifier, поэтому для сравнения с результатами DummyClassifier возьмем ее.\n",
    "         *Аналогично ей можно рассмотреть и DecisionTreeClassifier*\n"
   ]
  },
  {
   "cell_type": "code",
   "execution_count": 14,
   "metadata": {},
   "outputs": [
    {
     "name": "stdout",
     "output_type": "stream",
     "text": [
      "качество с параметром prior: 0.7060653188180405\n"
     ]
    }
   ],
   "source": [
    "model = DummyClassifier(strategy='prior', random_state=12345)\n",
    "model.fit(features_train, target_train)\n",
    "accuracy = model.score(features_valid, target_valid)\n",
    "print('качество с параметром prior:', accuracy)"
   ]
  },
  {
   "cell_type": "code",
   "execution_count": 15,
   "metadata": {},
   "outputs": [
    {
     "name": "stdout",
     "output_type": "stream",
     "text": [
      "качество с параметром stratified: 0.5925349922239502\n"
     ]
    }
   ],
   "source": [
    "model = DummyClassifier(strategy='stratified', random_state=12345)\n",
    "model.fit(features_train, target_train)\n",
    "accuracy = model.score(features_valid, target_valid)\n",
    "print('качество с параметром stratified:', accuracy)"
   ]
  },
  {
   "cell_type": "code",
   "execution_count": 16,
   "metadata": {},
   "outputs": [
    {
     "name": "stdout",
     "output_type": "stream",
     "text": [
      "качество с параметром uniform: 0.5038880248833593\n"
     ]
    }
   ],
   "source": [
    "model = DummyClassifier(strategy='uniform', random_state=12345)\n",
    "model.fit(features_train, target_train)\n",
    "accuracy = model.score(features_valid, target_valid)\n",
    "print('качество с параметром uniform:', accuracy)"
   ]
  },
  {
   "cell_type": "markdown",
   "metadata": {},
   "source": [
    "**Вывод:** После сравнения реального значения качества с фиктивными результатами, можем утверждать, что модели адекватны, так как истинные значения качества больше фиктивных."
   ]
  },
  {
   "cell_type": "markdown",
   "metadata": {},
   "source": [
    "<div class=\"alert alert-success\">\n",
    "<b>ОТЛИЧНО! 👍</b>\n",
    "\n",
    "Верно, здесь мы используем простейшую (dummy) модель: DummyClassifier (для нашей задачи бинарной классификации). DummyClassifier \"предсказывает\" наиболее часто встречающийся класс. Здесь мы получаем контрольную accuracy, чтобы сравнить её с результатом работы нашей самой лучшей модели. Ну и конечно, из общих соображений понятно, что наша лучшая модель должна \"побить\" DummyClassifier.\n",
    "    \n",
    "p.s. (на перспективу!): можно было бы построить Confusion Matrix, чтобы детально посмотреть где ошибается модель. Подробнее о Confusion Matrix: https://neptune.ai/blog/evaluation-metrics-binary-classification     \n",
    "\n",
    "p.s. ещё вариант - сравнить самый часто встречающийся класс в наших данных (это is_ultra == 0). Таких значений 2.229 в нашем датафрейме. Всего же значений в датафрейме 3.214. Значит самый часто встречающийся класс \"занимает\" 69% (2229 / 3214 == 0.693528313627878). Вот мы и получили контрольные данные для сравнительной оценки, построенной нами \"лучшей\" модели. Наша лучшая модель должна \"побить\" этот скор.\n",
    "</div>\n"
   ]
  },
  {
   "cell_type": "markdown",
   "metadata": {},
   "source": [
    "## Общий вывод:\n",
    "**В ходе работы с данными был заменен тип у двух столбцов, больше никаких преобразований не проводилось.**\n",
    "\n",
    "**Качество (accuracy) - это самый важный критерий для бизнеса: чем выше качество, тем больше прибыли приносит продукт.**\n",
    "\n",
    "<ul><li>Самое высокое качество у случайного леса, ввиду того, что вместо одного решающего дерева он использует несколько. В нашем случае наилучшее качество составило 0.806 с гипермараметрами: Глубина дерева-7; Количество деревьев-11, минимальное количество выборок -3. На тестовой выборке с глубиной дерева - 10 и кол. деревьев - 10,минимальное количество выборок -4,  аccuracy = 0.801. Так же модель прошла проверку на адекватность.</li>\n",
    "    \n",
    "<li>На втором месте — дерево решений. аccuracy = 0.785, глубина дерева = 3. Модель является адекватной и эффективной.</li>\n",
    "<li>Самое низкое качество предсказания у логистической регрессии. аccuracy = 0.711</li>\n",
    "\n",
    "*Рекомендации: так как у модели LogisticRegression качество хуже, следует использовать ее в последнюю очередь или не использовать. А предпочтение отдать - RandomForestClassifier*"
   ]
  },
  {
   "cell_type": "markdown",
   "metadata": {},
   "source": [
    "<div class=\"alert alert-success\">\n",
    "<b>ОТЛИЧНО! 👍</b>\n",
    "\n",
    "Всё отлично, результат достигнут.\n",
    "    \n",
    "Один совет (также, на будущее): как попытаться улучшить полученный результат, с минимум усилий? Ответ: мы использовали train для обучения модели, а valid - для поиска лучших значений гиперпараметров. Лучшие параметры нашли. Так почему бы теперь наши модели с выбранными гиперпараметрами не обучить на *общей* (тренировочной + валидационной) выборке (pd.concat() можно использовать для объединения). Чем больше данных, тем *лучше* модели смогут обучиться (надо проверять!). И вот теперь эту дообученную модель мы уже финально проверим на тестовой выборке (test).\n",
    "\n",
    "Но следует учесть вот какой момент: нужно быть аккуратным с подобным «улучшением», если мы кодируем или масштабируем наши выборки. Например, в следующем проекте мы обучаемся на train’е, а затем делаем transform на валидации и тесте. Если после этого объединить трейн и валид, то это будет не совсем верно.\n",
    "\n",
    "p.s. а вообще, достижение высокого скора не такая простая задача. Много моментов может влиять (подбор гиперпараметров - всего лишь один из них). В этой конкретно задаче мне кажется, что данных маловато, а также, возможно и фичей (столбцов в наших данных). Из-за этого модели не могут точно \"настроиться на данные\".\n",
    "</div>"
   ]
  },
  {
   "cell_type": "markdown",
   "metadata": {},
   "source": [
    "## Чек-лист готовности проекта"
   ]
  },
  {
   "cell_type": "markdown",
   "metadata": {},
   "source": [
    "Поставьте 'x' в выполненных пунктах. Далее нажмите Shift+Enter."
   ]
  },
  {
   "cell_type": "markdown",
   "metadata": {},
   "source": [
    "- [x] Jupyter Notebook открыт\n",
    "- [x] Весь код исполняется без ошибок\n",
    "- [x] Ячейки с кодом расположены в порядке исполнения\n",
    "- [x] Выполнено задание 1: данные загружены и изучены\n",
    "- [x] Выполнено задание 2: данные разбиты на три выборки\n",
    "- [x] Выполнено задание 3: проведено исследование моделей\n",
    "    - [x] Рассмотрено больше одной модели\n",
    "    - [x] Рассмотрено хотя бы 3 значения гипепараметров для какой-нибудь модели\n",
    "    - [x] Написаны выводы по результатам исследования\n",
    "- [x] Выполнено задание 3: Проведено тестирование\n",
    "- [x] Удалось достичь accuracy не меньше 0.75\n"
   ]
  },
  {
   "cell_type": "markdown",
   "metadata": {},
   "source": [
    "<div class=\"alert alert-success\">\n",
    "<b>ОТЛИЧНО! 👍</b>\n",
    "\n",
    "Софья, у тебя хорошая работа, все четко, осмысленно. Выводы присутствуют, с комментированием кода тоже никаких проблем нет.\n",
    "\n",
    "Я оставил ряд советов на будущее (на результат этого проекта они не влияют). \n",
    "\n",
    "Я отправляю тебе проект ещё раз лишь для того, чтобы удостовериться что у тебя нет вопросов ко мне. Если их нет - пошли мне тетрадку ещё раз, и я тут же, без слов приму твою работу! \n",
    "</div>\n"
   ]
  }
 ],
 "metadata": {
  "ExecuteTimeLog": [
   {
    "duration": 1141,
    "start_time": "2023-02-27T12:01:50.500Z"
   },
   {
    "duration": 142,
    "start_time": "2023-02-27T12:02:10.591Z"
   },
   {
    "duration": 12,
    "start_time": "2023-02-27T12:02:38.951Z"
   },
   {
    "duration": 4,
    "start_time": "2023-02-27T12:03:24.583Z"
   },
   {
    "duration": 13,
    "start_time": "2023-02-27T12:03:32.781Z"
   },
   {
    "duration": 52,
    "start_time": "2023-03-12T16:55:27.287Z"
   },
   {
    "duration": 7,
    "start_time": "2023-03-12T16:55:28.344Z"
   },
   {
    "duration": 1224,
    "start_time": "2023-03-12T16:55:31.027Z"
   },
   {
    "duration": 12,
    "start_time": "2023-03-12T16:55:32.253Z"
   },
   {
    "duration": 20,
    "start_time": "2023-03-12T16:55:32.267Z"
   },
   {
    "duration": 6,
    "start_time": "2023-03-12T16:55:32.496Z"
   },
   {
    "duration": 4,
    "start_time": "2023-03-12T16:55:33.032Z"
   },
   {
    "duration": 48,
    "start_time": "2023-03-13T19:38:32.374Z"
   },
   {
    "duration": 1192,
    "start_time": "2023-03-13T20:23:49.929Z"
   },
   {
    "duration": 10,
    "start_time": "2023-03-13T20:23:51.122Z"
   },
   {
    "duration": 12,
    "start_time": "2023-03-13T20:23:52.093Z"
   },
   {
    "duration": 66,
    "start_time": "2023-03-13T20:23:53.354Z"
   },
   {
    "duration": 7,
    "start_time": "2023-03-13T20:25:55.893Z"
   },
   {
    "duration": 5,
    "start_time": "2023-03-13T20:25:57.907Z"
   },
   {
    "duration": 38,
    "start_time": "2023-03-13T20:25:58.757Z"
   },
   {
    "duration": 42,
    "start_time": "2023-03-13T20:27:18.746Z"
   },
   {
    "duration": 51,
    "start_time": "2023-03-13T20:27:28.715Z"
   },
   {
    "duration": 3,
    "start_time": "2023-03-13T20:27:43.939Z"
   },
   {
    "duration": 4,
    "start_time": "2023-03-13T20:29:17.033Z"
   },
   {
    "duration": 4,
    "start_time": "2023-03-13T20:30:04.330Z"
   },
   {
    "duration": 4,
    "start_time": "2023-03-13T20:30:39.293Z"
   },
   {
    "duration": 3,
    "start_time": "2023-03-13T20:30:39.697Z"
   },
   {
    "duration": 6,
    "start_time": "2023-03-13T20:32:09.337Z"
   },
   {
    "duration": 4,
    "start_time": "2023-03-13T20:32:10.397Z"
   },
   {
    "duration": 9,
    "start_time": "2023-03-13T20:32:30.936Z"
   },
   {
    "duration": 6,
    "start_time": "2023-03-13T20:32:31.870Z"
   },
   {
    "duration": 4,
    "start_time": "2023-03-13T20:32:32.647Z"
   },
   {
    "duration": 6,
    "start_time": "2023-03-13T20:32:54.517Z"
   },
   {
    "duration": 6,
    "start_time": "2023-03-13T20:32:55.948Z"
   },
   {
    "duration": 4,
    "start_time": "2023-03-13T20:32:56.620Z"
   },
   {
    "duration": 7,
    "start_time": "2023-03-13T20:44:06.224Z"
   },
   {
    "duration": 5,
    "start_time": "2023-03-13T20:44:07.693Z"
   },
   {
    "duration": 3,
    "start_time": "2023-03-13T20:44:08.393Z"
   },
   {
    "duration": 6,
    "start_time": "2023-03-13T20:44:14.793Z"
   },
   {
    "duration": 4,
    "start_time": "2023-03-13T20:44:16.153Z"
   },
   {
    "duration": 4,
    "start_time": "2023-03-13T20:44:16.797Z"
   },
   {
    "duration": 63,
    "start_time": "2023-03-16T12:11:11.345Z"
   },
   {
    "duration": 1390,
    "start_time": "2023-03-16T12:11:18.652Z"
   },
   {
    "duration": 13,
    "start_time": "2023-03-16T12:11:20.044Z"
   },
   {
    "duration": 14,
    "start_time": "2023-03-16T12:11:20.254Z"
   },
   {
    "duration": 7,
    "start_time": "2023-03-16T12:11:21.192Z"
   },
   {
    "duration": 5,
    "start_time": "2023-03-16T12:11:22.005Z"
   },
   {
    "duration": 4,
    "start_time": "2023-03-16T12:11:22.312Z"
   },
   {
    "duration": 69,
    "start_time": "2023-03-16T12:11:24.589Z"
   },
   {
    "duration": 32,
    "start_time": "2023-03-16T12:13:51.837Z"
   },
   {
    "duration": 39,
    "start_time": "2023-03-16T12:14:36.710Z"
   },
   {
    "duration": 26,
    "start_time": "2023-03-16T12:15:04.778Z"
   },
   {
    "duration": 27,
    "start_time": "2023-03-16T12:16:36.714Z"
   },
   {
    "duration": 14,
    "start_time": "2023-03-16T12:17:37.597Z"
   },
   {
    "duration": 70,
    "start_time": "2023-03-16T12:17:57.230Z"
   },
   {
    "duration": 28,
    "start_time": "2023-03-16T12:18:02.912Z"
   },
   {
    "duration": 14,
    "start_time": "2023-03-16T12:18:12.303Z"
   },
   {
    "duration": 10,
    "start_time": "2023-03-16T12:22:45.715Z"
   },
   {
    "duration": 3,
    "start_time": "2023-03-16T12:23:16.897Z"
   },
   {
    "duration": 4,
    "start_time": "2023-03-16T12:33:26.289Z"
   },
   {
    "duration": 22,
    "start_time": "2023-03-16T12:33:53.504Z"
   },
   {
    "duration": 22,
    "start_time": "2023-03-16T12:33:59.304Z"
   },
   {
    "duration": 32,
    "start_time": "2023-03-16T12:43:20.507Z"
   },
   {
    "duration": 4011,
    "start_time": "2023-03-16T12:43:39.737Z"
   },
   {
    "duration": 4049,
    "start_time": "2023-03-16T12:43:50.128Z"
   },
   {
    "duration": 7374,
    "start_time": "2023-03-16T12:44:47.444Z"
   },
   {
    "duration": 4137,
    "start_time": "2023-03-16T12:45:00.640Z"
   },
   {
    "duration": 75,
    "start_time": "2023-03-16T12:45:23.306Z"
   },
   {
    "duration": 4067,
    "start_time": "2023-03-16T12:45:27.383Z"
   },
   {
    "duration": 1720,
    "start_time": "2023-03-16T12:46:30.119Z"
   },
   {
    "duration": 1635,
    "start_time": "2023-03-16T12:47:32.208Z"
   },
   {
    "duration": 4197,
    "start_time": "2023-03-16T12:47:46.810Z"
   },
   {
    "duration": 3601,
    "start_time": "2023-03-16T12:48:35.506Z"
   },
   {
    "duration": 6316,
    "start_time": "2023-03-16T12:49:20.226Z"
   },
   {
    "duration": 2880,
    "start_time": "2023-03-16T12:49:43.127Z"
   },
   {
    "duration": 508,
    "start_time": "2023-03-16T12:49:53.352Z"
   },
   {
    "duration": 1478,
    "start_time": "2023-03-16T12:50:00.932Z"
   },
   {
    "duration": 1984,
    "start_time": "2023-03-16T12:50:12.951Z"
   },
   {
    "duration": 1227,
    "start_time": "2023-03-16T12:50:26.409Z"
   },
   {
    "duration": 693,
    "start_time": "2023-03-16T12:50:34.105Z"
   },
   {
    "duration": 5027,
    "start_time": "2023-03-16T12:50:47.434Z"
   },
   {
    "duration": 2832,
    "start_time": "2023-03-16T12:51:05.222Z"
   },
   {
    "duration": 1848,
    "start_time": "2023-03-16T13:02:05.666Z"
   },
   {
    "duration": 1839,
    "start_time": "2023-03-16T13:03:37.028Z"
   },
   {
    "duration": 1856,
    "start_time": "2023-03-16T13:04:03.135Z"
   },
   {
    "duration": 1882,
    "start_time": "2023-03-16T13:04:50.507Z"
   },
   {
    "duration": 3446,
    "start_time": "2023-03-16T13:05:01.468Z"
   },
   {
    "duration": 13,
    "start_time": "2023-03-16T13:09:07.195Z"
   },
   {
    "duration": 25,
    "start_time": "2023-03-16T13:09:13.822Z"
   },
   {
    "duration": 27,
    "start_time": "2023-03-16T13:09:18.725Z"
   },
   {
    "duration": 42,
    "start_time": "2023-03-16T13:13:01.290Z"
   },
   {
    "duration": 11,
    "start_time": "2023-03-16T13:13:02.636Z"
   },
   {
    "duration": 13,
    "start_time": "2023-03-16T13:13:03.143Z"
   },
   {
    "duration": 7,
    "start_time": "2023-03-16T13:13:03.914Z"
   },
   {
    "duration": 5,
    "start_time": "2023-03-16T13:13:04.874Z"
   },
   {
    "duration": 12,
    "start_time": "2023-03-16T13:13:04.881Z"
   },
   {
    "duration": 37,
    "start_time": "2023-03-16T13:13:06.121Z"
   },
   {
    "duration": 3843,
    "start_time": "2023-03-16T13:13:06.809Z"
   },
   {
    "duration": 3154,
    "start_time": "2023-03-16T13:13:55.553Z"
   },
   {
    "duration": 38,
    "start_time": "2023-03-16T13:14:36.569Z"
   },
   {
    "duration": 1932,
    "start_time": "2023-03-16T13:15:58.668Z"
   },
   {
    "duration": 33204,
    "start_time": "2023-03-16T13:16:15.269Z"
   },
   {
    "duration": 1859,
    "start_time": "2023-03-16T13:17:29.112Z"
   },
   {
    "duration": 12,
    "start_time": "2023-03-16T13:20:33.006Z"
   },
   {
    "duration": 16,
    "start_time": "2023-03-16T13:20:39.223Z"
   },
   {
    "duration": 32,
    "start_time": "2023-03-16T13:22:24.598Z"
   },
   {
    "duration": 73,
    "start_time": "2023-03-16T13:23:04.598Z"
   },
   {
    "duration": 388,
    "start_time": "2023-03-16T13:23:16.214Z"
   },
   {
    "duration": 15,
    "start_time": "2023-03-16T13:23:42.692Z"
   },
   {
    "duration": 366,
    "start_time": "2023-03-16T13:24:01.533Z"
   },
   {
    "duration": 389,
    "start_time": "2023-03-16T13:24:40.559Z"
   },
   {
    "duration": 85,
    "start_time": "2023-03-16T13:24:48.211Z"
   },
   {
    "duration": 94,
    "start_time": "2023-03-16T13:24:51.964Z"
   },
   {
    "duration": 77,
    "start_time": "2023-03-16T13:26:49.411Z"
   },
   {
    "duration": 71,
    "start_time": "2023-03-16T13:26:58.809Z"
   },
   {
    "duration": 74,
    "start_time": "2023-03-16T13:27:02.206Z"
   },
   {
    "duration": 72,
    "start_time": "2023-03-16T13:27:05.994Z"
   },
   {
    "duration": 1886,
    "start_time": "2023-03-16T13:27:10.074Z"
   },
   {
    "duration": 26,
    "start_time": "2023-03-16T13:28:23.457Z"
   },
   {
    "duration": 30,
    "start_time": "2023-03-16T13:28:52.517Z"
   },
   {
    "duration": 36,
    "start_time": "2023-03-16T13:31:01.440Z"
   },
   {
    "duration": 129,
    "start_time": "2023-03-16T13:31:24.319Z"
   },
   {
    "duration": 36,
    "start_time": "2023-03-16T13:31:32.727Z"
   },
   {
    "duration": 279,
    "start_time": "2023-03-16T13:31:39.989Z"
   },
   {
    "duration": 555,
    "start_time": "2023-03-16T13:31:45.992Z"
   },
   {
    "duration": 3649,
    "start_time": "2023-03-16T13:31:50.089Z"
   },
   {
    "duration": 38,
    "start_time": "2023-03-16T13:32:38.483Z"
   },
   {
    "duration": 10,
    "start_time": "2023-03-16T13:33:04.951Z"
   },
   {
    "duration": 15,
    "start_time": "2023-03-16T13:33:21.878Z"
   },
   {
    "duration": 11,
    "start_time": "2023-03-16T13:33:35.176Z"
   },
   {
    "duration": 19,
    "start_time": "2023-03-16T13:45:58.947Z"
   },
   {
    "duration": 45,
    "start_time": "2023-03-16T13:46:11.583Z"
   },
   {
    "duration": 27,
    "start_time": "2023-03-16T13:49:37.920Z"
   },
   {
    "duration": 27,
    "start_time": "2023-03-16T13:49:40.683Z"
   },
   {
    "duration": 28,
    "start_time": "2023-03-16T13:49:45.113Z"
   },
   {
    "duration": 27,
    "start_time": "2023-03-16T13:50:27.293Z"
   },
   {
    "duration": 26,
    "start_time": "2023-03-16T13:50:31.878Z"
   },
   {
    "duration": 27,
    "start_time": "2023-03-16T13:50:34.628Z"
   },
   {
    "duration": 27,
    "start_time": "2023-03-16T13:50:37.620Z"
   },
   {
    "duration": 95,
    "start_time": "2023-03-16T13:50:41.243Z"
   },
   {
    "duration": 28,
    "start_time": "2023-03-16T13:50:59.000Z"
   },
   {
    "duration": 27,
    "start_time": "2023-03-16T13:51:04.478Z"
   },
   {
    "duration": 37,
    "start_time": "2023-03-16T13:58:46.925Z"
   },
   {
    "duration": 26,
    "start_time": "2023-03-16T14:00:29.644Z"
   },
   {
    "duration": 26,
    "start_time": "2023-03-16T14:00:37.887Z"
   },
   {
    "duration": 28,
    "start_time": "2023-03-16T14:00:40.805Z"
   },
   {
    "duration": 89,
    "start_time": "2023-03-16T14:28:18.493Z"
   },
   {
    "duration": 7,
    "start_time": "2023-03-16T14:32:36.451Z"
   },
   {
    "duration": 82,
    "start_time": "2023-03-16T14:34:46.896Z"
   },
   {
    "duration": 5,
    "start_time": "2023-03-16T14:35:31.444Z"
   },
   {
    "duration": 5,
    "start_time": "2023-03-16T14:35:46.504Z"
   },
   {
    "duration": 4,
    "start_time": "2023-03-16T14:35:55.976Z"
   },
   {
    "duration": 7,
    "start_time": "2023-03-16T14:36:25.824Z"
   },
   {
    "duration": 11,
    "start_time": "2023-03-16T15:09:47.481Z"
   },
   {
    "duration": 6,
    "start_time": "2023-03-16T15:10:11.582Z"
   },
   {
    "duration": 6,
    "start_time": "2023-03-16T15:28:43.644Z"
   },
   {
    "duration": 6,
    "start_time": "2023-03-16T15:28:49.993Z"
   },
   {
    "duration": 7,
    "start_time": "2023-03-16T15:28:50.542Z"
   },
   {
    "duration": 6,
    "start_time": "2023-03-16T15:29:00.340Z"
   },
   {
    "duration": 7,
    "start_time": "2023-03-16T15:29:26.846Z"
   },
   {
    "duration": 13,
    "start_time": "2023-03-16T15:29:52.351Z"
   },
   {
    "duration": 6,
    "start_time": "2023-03-16T15:30:11.246Z"
   },
   {
    "duration": 90,
    "start_time": "2023-03-16T15:32:26.945Z"
   },
   {
    "duration": 6,
    "start_time": "2023-03-16T15:34:10.789Z"
   },
   {
    "duration": 7,
    "start_time": "2023-03-16T15:34:11.194Z"
   },
   {
    "duration": 6,
    "start_time": "2023-03-16T15:34:11.603Z"
   },
   {
    "duration": 6,
    "start_time": "2023-03-16T15:34:57.417Z"
   },
   {
    "duration": 6,
    "start_time": "2023-03-16T15:34:57.718Z"
   },
   {
    "duration": 5,
    "start_time": "2023-03-16T15:34:57.976Z"
   },
   {
    "duration": 5,
    "start_time": "2023-03-16T15:35:07.517Z"
   },
   {
    "duration": 13,
    "start_time": "2023-03-16T15:50:02.230Z"
   },
   {
    "duration": 14,
    "start_time": "2023-03-16T15:50:07.085Z"
   },
   {
    "duration": 30,
    "start_time": "2023-03-16T15:50:38.656Z"
   },
   {
    "duration": 18,
    "start_time": "2023-03-16T15:50:44.038Z"
   },
   {
    "duration": 15,
    "start_time": "2023-03-16T15:50:48.871Z"
   },
   {
    "duration": 32,
    "start_time": "2023-03-16T15:51:53.786Z"
   },
   {
    "duration": 6,
    "start_time": "2023-03-16T15:55:26.232Z"
   },
   {
    "duration": 9636,
    "start_time": "2023-03-16T16:15:04.460Z"
   },
   {
    "duration": 3805,
    "start_time": "2023-03-16T16:15:31.700Z"
   },
   {
    "duration": 9499,
    "start_time": "2023-03-16T16:15:50.466Z"
   },
   {
    "duration": 0,
    "start_time": "2023-03-16T16:17:59.898Z"
   },
   {
    "duration": 93,
    "start_time": "2023-03-16T16:18:48.432Z"
   },
   {
    "duration": 7869,
    "start_time": "2023-03-16T16:18:57.658Z"
   },
   {
    "duration": 7835,
    "start_time": "2023-03-16T16:19:38.503Z"
   },
   {
    "duration": 4636,
    "start_time": "2023-03-16T16:20:16.640Z"
   },
   {
    "duration": 4709,
    "start_time": "2023-03-16T16:21:56.460Z"
   },
   {
    "duration": 45,
    "start_time": "2023-03-16T16:22:38.310Z"
   },
   {
    "duration": 46,
    "start_time": "2023-03-16T16:22:45.955Z"
   },
   {
    "duration": 43,
    "start_time": "2023-03-16T16:22:58.137Z"
   },
   {
    "duration": 45,
    "start_time": "2023-03-16T16:23:04.011Z"
   },
   {
    "duration": 43,
    "start_time": "2023-03-16T16:23:11.673Z"
   },
   {
    "duration": 44,
    "start_time": "2023-03-16T16:23:16.242Z"
   },
   {
    "duration": 51,
    "start_time": "2023-03-16T16:23:20.391Z"
   },
   {
    "duration": 36,
    "start_time": "2023-03-16T16:29:08.662Z"
   },
   {
    "duration": 11,
    "start_time": "2023-03-16T16:29:09.190Z"
   },
   {
    "duration": 7,
    "start_time": "2023-03-16T16:29:09.667Z"
   },
   {
    "duration": 17,
    "start_time": "2023-03-16T16:29:10.500Z"
   },
   {
    "duration": 7,
    "start_time": "2023-03-16T16:29:11.958Z"
   },
   {
    "duration": 6,
    "start_time": "2023-03-16T16:29:12.550Z"
   },
   {
    "duration": 4,
    "start_time": "2023-03-16T16:29:13.123Z"
   },
   {
    "duration": 28,
    "start_time": "2023-03-16T16:29:14.310Z"
   },
   {
    "duration": 36,
    "start_time": "2023-03-16T16:29:14.868Z"
   },
   {
    "duration": 4682,
    "start_time": "2023-03-16T16:29:15.392Z"
   },
   {
    "duration": 27,
    "start_time": "2023-03-16T16:29:20.076Z"
   },
   {
    "duration": 11,
    "start_time": "2023-03-16T16:29:20.105Z"
   },
   {
    "duration": 63,
    "start_time": "2023-03-16T16:29:20.119Z"
   },
   {
    "duration": 5,
    "start_time": "2023-03-16T16:29:20.184Z"
   },
   {
    "duration": 14,
    "start_time": "2023-03-16T16:29:20.191Z"
   },
   {
    "duration": 10,
    "start_time": "2023-03-16T16:29:20.208Z"
   },
   {
    "duration": 4615,
    "start_time": "2023-03-16T16:33:19.562Z"
   },
   {
    "duration": 4727,
    "start_time": "2023-03-16T16:33:43.278Z"
   },
   {
    "duration": 4699,
    "start_time": "2023-03-16T16:34:35.047Z"
   },
   {
    "duration": 5622,
    "start_time": "2023-03-16T16:34:45.143Z"
   },
   {
    "duration": 8991,
    "start_time": "2023-03-16T16:35:13.765Z"
   },
   {
    "duration": 13336,
    "start_time": "2023-03-16T16:35:46.831Z"
   },
   {
    "duration": 13283,
    "start_time": "2023-03-16T16:36:00.471Z"
   },
   {
    "duration": 34,
    "start_time": "2023-03-16T16:36:19.393Z"
   },
   {
    "duration": 34,
    "start_time": "2023-03-16T16:37:52.957Z"
   },
   {
    "duration": 2137,
    "start_time": "2023-03-16T17:22:35.766Z"
   },
   {
    "duration": 11,
    "start_time": "2023-03-16T17:22:37.905Z"
   },
   {
    "duration": 13,
    "start_time": "2023-03-16T17:22:37.918Z"
   },
   {
    "duration": 13,
    "start_time": "2023-03-16T17:22:37.933Z"
   },
   {
    "duration": 8,
    "start_time": "2023-03-16T17:22:37.948Z"
   },
   {
    "duration": 7,
    "start_time": "2023-03-16T17:22:37.957Z"
   },
   {
    "duration": 4,
    "start_time": "2023-03-16T17:22:37.965Z"
   },
   {
    "duration": 27,
    "start_time": "2023-03-16T17:22:37.970Z"
   },
   {
    "duration": 31,
    "start_time": "2023-03-16T17:22:37.999Z"
   },
   {
    "duration": 12892,
    "start_time": "2023-03-16T17:22:38.031Z"
   },
   {
    "duration": 25,
    "start_time": "2023-03-16T17:22:50.924Z"
   },
   {
    "duration": 10,
    "start_time": "2023-03-16T17:22:50.961Z"
   },
   {
    "duration": 42,
    "start_time": "2023-03-16T17:22:50.973Z"
   },
   {
    "duration": 5,
    "start_time": "2023-03-16T17:22:51.017Z"
   },
   {
    "duration": 16,
    "start_time": "2023-03-16T17:22:51.024Z"
   },
   {
    "duration": 26,
    "start_time": "2023-03-16T17:22:51.042Z"
   },
   {
    "duration": 176,
    "start_time": "2023-03-17T10:58:57.457Z"
   }
  ],
  "kernelspec": {
   "display_name": "Python 3 (ipykernel)",
   "language": "python",
   "name": "python3"
  },
  "language_info": {
   "codemirror_mode": {
    "name": "ipython",
    "version": 3
   },
   "file_extension": ".py",
   "mimetype": "text/x-python",
   "name": "python",
   "nbconvert_exporter": "python",
   "pygments_lexer": "ipython3",
   "version": "3.9.5"
  },
  "toc": {
   "base_numbering": 1,
   "nav_menu": {},
   "number_sections": true,
   "sideBar": true,
   "skip_h1_title": true,
   "title_cell": "Table of Contents",
   "title_sidebar": "Contents",
   "toc_cell": false,
   "toc_position": {
    "height": "calc(100% - 180px)",
    "left": "10px",
    "top": "150px",
    "width": "165px"
   },
   "toc_section_display": true,
   "toc_window_display": true
  }
 },
 "nbformat": 4,
 "nbformat_minor": 2
}
