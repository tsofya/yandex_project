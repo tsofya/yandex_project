{
 "cells": [
  {
   "cell_type": "markdown",
   "metadata": {},
   "source": [
    "# Анализ продажи компьютерных игр\n",
    "\n",
    "Перед нами данные до 2016 года. \n",
    "\n",
    "Цель иссследования:\n",
    "выявить параметры, определяющие успешность игр, для дальнейшего прогназирования продаж. Проверить гипотезы.\n",
    "\n",
    "Ход исследования:\n",
    "Данные о продажах я получу из файла \"/datasets/games.csv\". О качестве даннных ничего не известно. Поэтому перед тем, как приступать к целям исследования, понадобится обзор данных.\n",
    "\n",
    "Я проверю данные на ошибки и оценю их влияние на исследование. Затем, на этапе предобработки я поищу возможность исправить все ошибки данных, которые не приведут к искажению конечного результата. Далее, создам необходимые столбцы, и приступлю к проведению исследовательского анализа.\n",
    "\n",
    "Таким образом, мое исследование пройдет в шесть этапов:\n",
    "\n",
    "<ol><li>Обзор данных\n",
    "<li>Предобработка данных\n",
    "<li>Исследовательский анализ данных\n",
    "<li>Составление портерета пользователя каждого региона \n",
    "<li>Проверка гипотезы\n",
    "<li>Написание общего вывода "
   ]
  },
  {
   "cell_type": "markdown",
   "metadata": {},
   "source": [
    "<div class=\"alert alert-block alert-success\">\n",
    " \n",
    "### Комментарий ревьюера\n",
    "    \n",
    "#### Успех\n",
    "    \n",
    "Спасибо тебе за оформление оглавления к проекту. "
   ]
  },
  {
   "cell_type": "markdown",
   "metadata": {},
   "source": [
    "## Открытие файла с данными и изучение общей информации"
   ]
  },
  {
   "cell_type": "code",
   "execution_count": 1,
   "metadata": {},
   "outputs": [
    {
     "data": {
      "text/html": [
       "<div>\n",
       "<style scoped>\n",
       "    .dataframe tbody tr th:only-of-type {\n",
       "        vertical-align: middle;\n",
       "    }\n",
       "\n",
       "    .dataframe tbody tr th {\n",
       "        vertical-align: top;\n",
       "    }\n",
       "\n",
       "    .dataframe thead th {\n",
       "        text-align: right;\n",
       "    }\n",
       "</style>\n",
       "<table border=\"1\" class=\"dataframe\">\n",
       "  <thead>\n",
       "    <tr style=\"text-align: right;\">\n",
       "      <th></th>\n",
       "      <th>Name</th>\n",
       "      <th>Platform</th>\n",
       "      <th>Year_of_Release</th>\n",
       "      <th>Genre</th>\n",
       "      <th>NA_sales</th>\n",
       "      <th>EU_sales</th>\n",
       "      <th>JP_sales</th>\n",
       "      <th>Other_sales</th>\n",
       "      <th>Critic_Score</th>\n",
       "      <th>User_Score</th>\n",
       "      <th>Rating</th>\n",
       "    </tr>\n",
       "  </thead>\n",
       "  <tbody>\n",
       "    <tr>\n",
       "      <th>0</th>\n",
       "      <td>Wii Sports</td>\n",
       "      <td>Wii</td>\n",
       "      <td>2006.0</td>\n",
       "      <td>Sports</td>\n",
       "      <td>41.36</td>\n",
       "      <td>28.96</td>\n",
       "      <td>3.77</td>\n",
       "      <td>8.45</td>\n",
       "      <td>76.0</td>\n",
       "      <td>8</td>\n",
       "      <td>E</td>\n",
       "    </tr>\n",
       "    <tr>\n",
       "      <th>1</th>\n",
       "      <td>Super Mario Bros.</td>\n",
       "      <td>NES</td>\n",
       "      <td>1985.0</td>\n",
       "      <td>Platform</td>\n",
       "      <td>29.08</td>\n",
       "      <td>3.58</td>\n",
       "      <td>6.81</td>\n",
       "      <td>0.77</td>\n",
       "      <td>NaN</td>\n",
       "      <td>NaN</td>\n",
       "      <td>NaN</td>\n",
       "    </tr>\n",
       "    <tr>\n",
       "      <th>2</th>\n",
       "      <td>Mario Kart Wii</td>\n",
       "      <td>Wii</td>\n",
       "      <td>2008.0</td>\n",
       "      <td>Racing</td>\n",
       "      <td>15.68</td>\n",
       "      <td>12.76</td>\n",
       "      <td>3.79</td>\n",
       "      <td>3.29</td>\n",
       "      <td>82.0</td>\n",
       "      <td>8.3</td>\n",
       "      <td>E</td>\n",
       "    </tr>\n",
       "    <tr>\n",
       "      <th>3</th>\n",
       "      <td>Wii Sports Resort</td>\n",
       "      <td>Wii</td>\n",
       "      <td>2009.0</td>\n",
       "      <td>Sports</td>\n",
       "      <td>15.61</td>\n",
       "      <td>10.93</td>\n",
       "      <td>3.28</td>\n",
       "      <td>2.95</td>\n",
       "      <td>80.0</td>\n",
       "      <td>8</td>\n",
       "      <td>E</td>\n",
       "    </tr>\n",
       "    <tr>\n",
       "      <th>4</th>\n",
       "      <td>Pokemon Red/Pokemon Blue</td>\n",
       "      <td>GB</td>\n",
       "      <td>1996.0</td>\n",
       "      <td>Role-Playing</td>\n",
       "      <td>11.27</td>\n",
       "      <td>8.89</td>\n",
       "      <td>10.22</td>\n",
       "      <td>1.00</td>\n",
       "      <td>NaN</td>\n",
       "      <td>NaN</td>\n",
       "      <td>NaN</td>\n",
       "    </tr>\n",
       "    <tr>\n",
       "      <th>5</th>\n",
       "      <td>Tetris</td>\n",
       "      <td>GB</td>\n",
       "      <td>1989.0</td>\n",
       "      <td>Puzzle</td>\n",
       "      <td>23.20</td>\n",
       "      <td>2.26</td>\n",
       "      <td>4.22</td>\n",
       "      <td>0.58</td>\n",
       "      <td>NaN</td>\n",
       "      <td>NaN</td>\n",
       "      <td>NaN</td>\n",
       "    </tr>\n",
       "    <tr>\n",
       "      <th>6</th>\n",
       "      <td>New Super Mario Bros.</td>\n",
       "      <td>DS</td>\n",
       "      <td>2006.0</td>\n",
       "      <td>Platform</td>\n",
       "      <td>11.28</td>\n",
       "      <td>9.14</td>\n",
       "      <td>6.50</td>\n",
       "      <td>2.88</td>\n",
       "      <td>89.0</td>\n",
       "      <td>8.5</td>\n",
       "      <td>E</td>\n",
       "    </tr>\n",
       "    <tr>\n",
       "      <th>7</th>\n",
       "      <td>Wii Play</td>\n",
       "      <td>Wii</td>\n",
       "      <td>2006.0</td>\n",
       "      <td>Misc</td>\n",
       "      <td>13.96</td>\n",
       "      <td>9.18</td>\n",
       "      <td>2.93</td>\n",
       "      <td>2.84</td>\n",
       "      <td>58.0</td>\n",
       "      <td>6.6</td>\n",
       "      <td>E</td>\n",
       "    </tr>\n",
       "    <tr>\n",
       "      <th>8</th>\n",
       "      <td>New Super Mario Bros. Wii</td>\n",
       "      <td>Wii</td>\n",
       "      <td>2009.0</td>\n",
       "      <td>Platform</td>\n",
       "      <td>14.44</td>\n",
       "      <td>6.94</td>\n",
       "      <td>4.70</td>\n",
       "      <td>2.24</td>\n",
       "      <td>87.0</td>\n",
       "      <td>8.4</td>\n",
       "      <td>E</td>\n",
       "    </tr>\n",
       "    <tr>\n",
       "      <th>9</th>\n",
       "      <td>Duck Hunt</td>\n",
       "      <td>NES</td>\n",
       "      <td>1984.0</td>\n",
       "      <td>Shooter</td>\n",
       "      <td>26.93</td>\n",
       "      <td>0.63</td>\n",
       "      <td>0.28</td>\n",
       "      <td>0.47</td>\n",
       "      <td>NaN</td>\n",
       "      <td>NaN</td>\n",
       "      <td>NaN</td>\n",
       "    </tr>\n",
       "    <tr>\n",
       "      <th>10</th>\n",
       "      <td>Nintendogs</td>\n",
       "      <td>DS</td>\n",
       "      <td>2005.0</td>\n",
       "      <td>Simulation</td>\n",
       "      <td>9.05</td>\n",
       "      <td>10.95</td>\n",
       "      <td>1.93</td>\n",
       "      <td>2.74</td>\n",
       "      <td>NaN</td>\n",
       "      <td>NaN</td>\n",
       "      <td>NaN</td>\n",
       "    </tr>\n",
       "    <tr>\n",
       "      <th>11</th>\n",
       "      <td>Mario Kart DS</td>\n",
       "      <td>DS</td>\n",
       "      <td>2005.0</td>\n",
       "      <td>Racing</td>\n",
       "      <td>9.71</td>\n",
       "      <td>7.47</td>\n",
       "      <td>4.13</td>\n",
       "      <td>1.90</td>\n",
       "      <td>91.0</td>\n",
       "      <td>8.6</td>\n",
       "      <td>E</td>\n",
       "    </tr>\n",
       "    <tr>\n",
       "      <th>12</th>\n",
       "      <td>Pokemon Gold/Pokemon Silver</td>\n",
       "      <td>GB</td>\n",
       "      <td>1999.0</td>\n",
       "      <td>Role-Playing</td>\n",
       "      <td>9.00</td>\n",
       "      <td>6.18</td>\n",
       "      <td>7.20</td>\n",
       "      <td>0.71</td>\n",
       "      <td>NaN</td>\n",
       "      <td>NaN</td>\n",
       "      <td>NaN</td>\n",
       "    </tr>\n",
       "    <tr>\n",
       "      <th>13</th>\n",
       "      <td>Wii Fit</td>\n",
       "      <td>Wii</td>\n",
       "      <td>2007.0</td>\n",
       "      <td>Sports</td>\n",
       "      <td>8.92</td>\n",
       "      <td>8.03</td>\n",
       "      <td>3.60</td>\n",
       "      <td>2.15</td>\n",
       "      <td>80.0</td>\n",
       "      <td>7.7</td>\n",
       "      <td>E</td>\n",
       "    </tr>\n",
       "    <tr>\n",
       "      <th>14</th>\n",
       "      <td>Kinect Adventures!</td>\n",
       "      <td>X360</td>\n",
       "      <td>2010.0</td>\n",
       "      <td>Misc</td>\n",
       "      <td>15.00</td>\n",
       "      <td>4.89</td>\n",
       "      <td>0.24</td>\n",
       "      <td>1.69</td>\n",
       "      <td>61.0</td>\n",
       "      <td>6.3</td>\n",
       "      <td>E</td>\n",
       "    </tr>\n",
       "    <tr>\n",
       "      <th>15</th>\n",
       "      <td>Wii Fit Plus</td>\n",
       "      <td>Wii</td>\n",
       "      <td>2009.0</td>\n",
       "      <td>Sports</td>\n",
       "      <td>9.01</td>\n",
       "      <td>8.49</td>\n",
       "      <td>2.53</td>\n",
       "      <td>1.77</td>\n",
       "      <td>80.0</td>\n",
       "      <td>7.4</td>\n",
       "      <td>E</td>\n",
       "    </tr>\n",
       "    <tr>\n",
       "      <th>16</th>\n",
       "      <td>Grand Theft Auto V</td>\n",
       "      <td>PS3</td>\n",
       "      <td>2013.0</td>\n",
       "      <td>Action</td>\n",
       "      <td>7.02</td>\n",
       "      <td>9.09</td>\n",
       "      <td>0.98</td>\n",
       "      <td>3.96</td>\n",
       "      <td>97.0</td>\n",
       "      <td>8.2</td>\n",
       "      <td>M</td>\n",
       "    </tr>\n",
       "    <tr>\n",
       "      <th>17</th>\n",
       "      <td>Grand Theft Auto: San Andreas</td>\n",
       "      <td>PS2</td>\n",
       "      <td>2004.0</td>\n",
       "      <td>Action</td>\n",
       "      <td>9.43</td>\n",
       "      <td>0.40</td>\n",
       "      <td>0.41</td>\n",
       "      <td>10.57</td>\n",
       "      <td>95.0</td>\n",
       "      <td>9</td>\n",
       "      <td>M</td>\n",
       "    </tr>\n",
       "    <tr>\n",
       "      <th>18</th>\n",
       "      <td>Super Mario World</td>\n",
       "      <td>SNES</td>\n",
       "      <td>1990.0</td>\n",
       "      <td>Platform</td>\n",
       "      <td>12.78</td>\n",
       "      <td>3.75</td>\n",
       "      <td>3.54</td>\n",
       "      <td>0.55</td>\n",
       "      <td>NaN</td>\n",
       "      <td>NaN</td>\n",
       "      <td>NaN</td>\n",
       "    </tr>\n",
       "    <tr>\n",
       "      <th>19</th>\n",
       "      <td>Brain Age: Train Your Brain in Minutes a Day</td>\n",
       "      <td>DS</td>\n",
       "      <td>2005.0</td>\n",
       "      <td>Misc</td>\n",
       "      <td>4.74</td>\n",
       "      <td>9.20</td>\n",
       "      <td>4.16</td>\n",
       "      <td>2.04</td>\n",
       "      <td>77.0</td>\n",
       "      <td>7.9</td>\n",
       "      <td>E</td>\n",
       "    </tr>\n",
       "  </tbody>\n",
       "</table>\n",
       "</div>"
      ],
      "text/plain": [
       "                                            Name Platform  Year_of_Release  \\\n",
       "0                                     Wii Sports      Wii           2006.0   \n",
       "1                              Super Mario Bros.      NES           1985.0   \n",
       "2                                 Mario Kart Wii      Wii           2008.0   \n",
       "3                              Wii Sports Resort      Wii           2009.0   \n",
       "4                       Pokemon Red/Pokemon Blue       GB           1996.0   \n",
       "5                                         Tetris       GB           1989.0   \n",
       "6                          New Super Mario Bros.       DS           2006.0   \n",
       "7                                       Wii Play      Wii           2006.0   \n",
       "8                      New Super Mario Bros. Wii      Wii           2009.0   \n",
       "9                                      Duck Hunt      NES           1984.0   \n",
       "10                                    Nintendogs       DS           2005.0   \n",
       "11                                 Mario Kart DS       DS           2005.0   \n",
       "12                   Pokemon Gold/Pokemon Silver       GB           1999.0   \n",
       "13                                       Wii Fit      Wii           2007.0   \n",
       "14                            Kinect Adventures!     X360           2010.0   \n",
       "15                                  Wii Fit Plus      Wii           2009.0   \n",
       "16                            Grand Theft Auto V      PS3           2013.0   \n",
       "17                 Grand Theft Auto: San Andreas      PS2           2004.0   \n",
       "18                             Super Mario World     SNES           1990.0   \n",
       "19  Brain Age: Train Your Brain in Minutes a Day       DS           2005.0   \n",
       "\n",
       "           Genre  NA_sales  EU_sales  JP_sales  Other_sales  Critic_Score  \\\n",
       "0         Sports     41.36     28.96      3.77         8.45          76.0   \n",
       "1       Platform     29.08      3.58      6.81         0.77           NaN   \n",
       "2         Racing     15.68     12.76      3.79         3.29          82.0   \n",
       "3         Sports     15.61     10.93      3.28         2.95          80.0   \n",
       "4   Role-Playing     11.27      8.89     10.22         1.00           NaN   \n",
       "5         Puzzle     23.20      2.26      4.22         0.58           NaN   \n",
       "6       Platform     11.28      9.14      6.50         2.88          89.0   \n",
       "7           Misc     13.96      9.18      2.93         2.84          58.0   \n",
       "8       Platform     14.44      6.94      4.70         2.24          87.0   \n",
       "9        Shooter     26.93      0.63      0.28         0.47           NaN   \n",
       "10    Simulation      9.05     10.95      1.93         2.74           NaN   \n",
       "11        Racing      9.71      7.47      4.13         1.90          91.0   \n",
       "12  Role-Playing      9.00      6.18      7.20         0.71           NaN   \n",
       "13        Sports      8.92      8.03      3.60         2.15          80.0   \n",
       "14          Misc     15.00      4.89      0.24         1.69          61.0   \n",
       "15        Sports      9.01      8.49      2.53         1.77          80.0   \n",
       "16        Action      7.02      9.09      0.98         3.96          97.0   \n",
       "17        Action      9.43      0.40      0.41        10.57          95.0   \n",
       "18      Platform     12.78      3.75      3.54         0.55           NaN   \n",
       "19          Misc      4.74      9.20      4.16         2.04          77.0   \n",
       "\n",
       "   User_Score Rating  \n",
       "0           8      E  \n",
       "1         NaN    NaN  \n",
       "2         8.3      E  \n",
       "3           8      E  \n",
       "4         NaN    NaN  \n",
       "5         NaN    NaN  \n",
       "6         8.5      E  \n",
       "7         6.6      E  \n",
       "8         8.4      E  \n",
       "9         NaN    NaN  \n",
       "10        NaN    NaN  \n",
       "11        8.6      E  \n",
       "12        NaN    NaN  \n",
       "13        7.7      E  \n",
       "14        6.3      E  \n",
       "15        7.4      E  \n",
       "16        8.2      M  \n",
       "17          9      M  \n",
       "18        NaN    NaN  \n",
       "19        7.9      E  "
      ]
     },
     "execution_count": 1,
     "metadata": {},
     "output_type": "execute_result"
    }
   ],
   "source": [
    "import pandas as pd\n",
    "import numpy as np\n",
    "import seaborn\n",
    "import matplotlib.pyplot as plt\n",
    "from scipy import stats as st\n",
    "\n",
    "data = pd.read_csv('/datasets/games.csv')\n",
    "data.head(20)"
   ]
  },
  {
   "cell_type": "code",
   "execution_count": 2,
   "metadata": {},
   "outputs": [
    {
     "name": "stdout",
     "output_type": "stream",
     "text": [
      "<class 'pandas.core.frame.DataFrame'>\n",
      "RangeIndex: 16715 entries, 0 to 16714\n",
      "Data columns (total 11 columns):\n",
      " #   Column           Non-Null Count  Dtype  \n",
      "---  ------           --------------  -----  \n",
      " 0   Name             16713 non-null  object \n",
      " 1   Platform         16715 non-null  object \n",
      " 2   Year_of_Release  16446 non-null  float64\n",
      " 3   Genre            16713 non-null  object \n",
      " 4   NA_sales         16715 non-null  float64\n",
      " 5   EU_sales         16715 non-null  float64\n",
      " 6   JP_sales         16715 non-null  float64\n",
      " 7   Other_sales      16715 non-null  float64\n",
      " 8   Critic_Score     8137 non-null   float64\n",
      " 9   User_Score       10014 non-null  object \n",
      " 10  Rating           9949 non-null   object \n",
      "dtypes: float64(6), object(5)\n",
      "memory usage: 1.4+ MB\n"
     ]
    }
   ],
   "source": [
    "data.info()"
   ]
  },
  {
   "cell_type": "markdown",
   "metadata": {},
   "source": [
    "<div class=\"alert alert-block alert-success\">\n",
    " \n",
    "### Комментарий ревьюера\n",
    "    \n",
    "#### Успех\n",
    "    \n",
    "Первичная информация о данных получена. Супер. "
   ]
  },
  {
   "cell_type": "code",
   "execution_count": 3,
   "metadata": {},
   "outputs": [
    {
     "data": {
      "image/png": "[encoded data removed]",
      "text/plain": [
       "<Figure size 1080x1440 with 6 Axes>"
      ]
     },
     "metadata": {
      "needs_background": "light"
     },
     "output_type": "display_data"
    }
   ],
   "source": [
    "data.hist(figsize=(15, 20));"
   ]
  },
  {
   "cell_type": "markdown",
   "metadata": {},
   "source": [
    "<div class=\"alert alert-block alert-danger\">\n",
    " \n",
    "### Комментарий ревьюера\n",
    "    \n",
    "#### Ошибка\n",
    "    \n",
    "Тут надо добавить небольшой промежуточный вывод. В нем обычно пишут то, что заметили в ходе знакомства с данными. "
   ]
  },
  {
   "cell_type": "markdown",
   "metadata": {},
   "source": [
    "<div class=\"alert alert-block alert-info\">\n",
    "    \n",
    "**Вывод**   \n",
    "    \n",
    "В результате обзора данных выявлено, в датасете 11 столбцов и 16715 строк. Есть пропуски в некоторых столбцах, названия столбцов не приведены к нижнему регистру, необходимо изменить тип данных в нескольких столбцах. В целом, объма данных достаточно, для проведения исследования\n",
    "    "
   ]
  },
  {
   "cell_type": "markdown",
   "metadata": {},
   "source": [
    "<div class=\"alert alert-block alert-success\">\n",
    " \n",
    "# Комментарий ревьюера ver.2 \n",
    "    \n",
    "#### Успех\n",
    "    \n",
    "Отлично. Вот теперь другое дело. "
   ]
  },
  {
   "cell_type": "markdown",
   "metadata": {},
   "source": [
    "## Предобработка данных"
   ]
  },
  {
   "cell_type": "markdown",
   "metadata": {},
   "source": [
    "### Сделаем название столбцов в нижнем регистре"
   ]
  },
  {
   "cell_type": "code",
   "execution_count": 4,
   "metadata": {},
   "outputs": [
    {
     "data": {
      "text/html": [
       "<div>\n",
       "<style scoped>\n",
       "    .dataframe tbody tr th:only-of-type {\n",
       "        vertical-align: middle;\n",
       "    }\n",
       "\n",
       "    .dataframe tbody tr th {\n",
       "        vertical-align: top;\n",
       "    }\n",
       "\n",
       "    .dataframe thead th {\n",
       "        text-align: right;\n",
       "    }\n",
       "</style>\n",
       "<table border=\"1\" class=\"dataframe\">\n",
       "  <thead>\n",
       "    <tr style=\"text-align: right;\">\n",
       "      <th></th>\n",
       "      <th>name</th>\n",
       "      <th>platform</th>\n",
       "      <th>year_of_release</th>\n",
       "      <th>genre</th>\n",
       "      <th>na_sales</th>\n",
       "      <th>eu_sales</th>\n",
       "      <th>jp_sales</th>\n",
       "      <th>other_sales</th>\n",
       "      <th>critic_score</th>\n",
       "      <th>user_score</th>\n",
       "      <th>rating</th>\n",
       "    </tr>\n",
       "  </thead>\n",
       "  <tbody>\n",
       "    <tr>\n",
       "      <th>0</th>\n",
       "      <td>Wii Sports</td>\n",
       "      <td>Wii</td>\n",
       "      <td>2006.0</td>\n",
       "      <td>Sports</td>\n",
       "      <td>41.36</td>\n",
       "      <td>28.96</td>\n",
       "      <td>3.77</td>\n",
       "      <td>8.45</td>\n",
       "      <td>76.0</td>\n",
       "      <td>8</td>\n",
       "      <td>E</td>\n",
       "    </tr>\n",
       "    <tr>\n",
       "      <th>1</th>\n",
       "      <td>Super Mario Bros.</td>\n",
       "      <td>NES</td>\n",
       "      <td>1985.0</td>\n",
       "      <td>Platform</td>\n",
       "      <td>29.08</td>\n",
       "      <td>3.58</td>\n",
       "      <td>6.81</td>\n",
       "      <td>0.77</td>\n",
       "      <td>NaN</td>\n",
       "      <td>NaN</td>\n",
       "      <td>NaN</td>\n",
       "    </tr>\n",
       "    <tr>\n",
       "      <th>2</th>\n",
       "      <td>Mario Kart Wii</td>\n",
       "      <td>Wii</td>\n",
       "      <td>2008.0</td>\n",
       "      <td>Racing</td>\n",
       "      <td>15.68</td>\n",
       "      <td>12.76</td>\n",
       "      <td>3.79</td>\n",
       "      <td>3.29</td>\n",
       "      <td>82.0</td>\n",
       "      <td>8.3</td>\n",
       "      <td>E</td>\n",
       "    </tr>\n",
       "    <tr>\n",
       "      <th>3</th>\n",
       "      <td>Wii Sports Resort</td>\n",
       "      <td>Wii</td>\n",
       "      <td>2009.0</td>\n",
       "      <td>Sports</td>\n",
       "      <td>15.61</td>\n",
       "      <td>10.93</td>\n",
       "      <td>3.28</td>\n",
       "      <td>2.95</td>\n",
       "      <td>80.0</td>\n",
       "      <td>8</td>\n",
       "      <td>E</td>\n",
       "    </tr>\n",
       "    <tr>\n",
       "      <th>4</th>\n",
       "      <td>Pokemon Red/Pokemon Blue</td>\n",
       "      <td>GB</td>\n",
       "      <td>1996.0</td>\n",
       "      <td>Role-Playing</td>\n",
       "      <td>11.27</td>\n",
       "      <td>8.89</td>\n",
       "      <td>10.22</td>\n",
       "      <td>1.00</td>\n",
       "      <td>NaN</td>\n",
       "      <td>NaN</td>\n",
       "      <td>NaN</td>\n",
       "    </tr>\n",
       "  </tbody>\n",
       "</table>\n",
       "</div>"
      ],
      "text/plain": [
       "                       name platform  year_of_release         genre  na_sales  \\\n",
       "0                Wii Sports      Wii           2006.0        Sports     41.36   \n",
       "1         Super Mario Bros.      NES           1985.0      Platform     29.08   \n",
       "2            Mario Kart Wii      Wii           2008.0        Racing     15.68   \n",
       "3         Wii Sports Resort      Wii           2009.0        Sports     15.61   \n",
       "4  Pokemon Red/Pokemon Blue       GB           1996.0  Role-Playing     11.27   \n",
       "\n",
       "   eu_sales  jp_sales  other_sales  critic_score user_score rating  \n",
       "0     28.96      3.77         8.45          76.0          8      E  \n",
       "1      3.58      6.81         0.77           NaN        NaN    NaN  \n",
       "2     12.76      3.79         3.29          82.0        8.3      E  \n",
       "3     10.93      3.28         2.95          80.0          8      E  \n",
       "4      8.89     10.22         1.00           NaN        NaN    NaN  "
      ]
     },
     "execution_count": 4,
     "metadata": {},
     "output_type": "execute_result"
    }
   ],
   "source": [
    "data.columns = data.columns.str.lower()\n",
    "data.head()"
   ]
  },
  {
   "cell_type": "markdown",
   "metadata": {},
   "source": [
    "<div class=\"alert alert-block alert-success\">\n",
    " \n",
    "### Комментарий ревьюера\n",
    "    \n",
    "#### Успех\n",
    "    \n",
    "Классный метод приведения к нижнему регистру. "
   ]
  },
  {
   "cell_type": "code",
   "execution_count": 5,
   "metadata": {},
   "outputs": [
    {
     "data": {
      "text/plain": [
       "0"
      ]
     },
     "execution_count": 5,
     "metadata": {},
     "output_type": "execute_result"
    }
   ],
   "source": [
    "data.duplicated().sum()\n",
    "#явных дубликатов нет"
   ]
  },
  {
   "cell_type": "markdown",
   "metadata": {},
   "source": [
    "### Изучение пропущенных значения в столбцах"
   ]
  },
  {
   "cell_type": "code",
   "execution_count": 6,
   "metadata": {},
   "outputs": [
    {
     "data": {
      "text/html": [
       "<style  type=\"text/css\" >\n",
       "#T_02774_row0_col0,#T_02774_row1_col0,#T_02774_row3_col0,#T_02774_row4_col0,#T_02774_row5_col0,#T_02774_row6_col0,#T_02774_row7_col0{\n",
       "            background-color:  #3b4cc0;\n",
       "            color:  #f1f1f1;\n",
       "        }#T_02774_row2_col0{\n",
       "            background-color:  #465ecf;\n",
       "            color:  #f1f1f1;\n",
       "        }#T_02774_row8_col0{\n",
       "            background-color:  #b40426;\n",
       "            color:  #f1f1f1;\n",
       "        }#T_02774_row9_col0,#T_02774_row10_col0{\n",
       "            background-color:  #f08b6e;\n",
       "            color:  #000000;\n",
       "        }</style><table id=\"T_02774_\" ><thead>    <tr>        <th class=\"blank level0\" ></th>        <th class=\"col_heading level0 col0\" >0</th>    </tr></thead><tbody>\n",
       "                <tr>\n",
       "                        <th id=\"T_02774_level0_row0\" class=\"row_heading level0 row0\" >name</th>\n",
       "                        <td id=\"T_02774_row0_col0\" class=\"data row0 col0\" >0.000000</td>\n",
       "            </tr>\n",
       "            <tr>\n",
       "                        <th id=\"T_02774_level0_row1\" class=\"row_heading level0 row1\" >platform</th>\n",
       "                        <td id=\"T_02774_row1_col0\" class=\"data row1 col0\" >0.000000</td>\n",
       "            </tr>\n",
       "            <tr>\n",
       "                        <th id=\"T_02774_level0_row2\" class=\"row_heading level0 row2\" >year_of_release</th>\n",
       "                        <td id=\"T_02774_row2_col0\" class=\"data row2 col0\" >2.000000</td>\n",
       "            </tr>\n",
       "            <tr>\n",
       "                        <th id=\"T_02774_level0_row3\" class=\"row_heading level0 row3\" >genre</th>\n",
       "                        <td id=\"T_02774_row3_col0\" class=\"data row3 col0\" >0.000000</td>\n",
       "            </tr>\n",
       "            <tr>\n",
       "                        <th id=\"T_02774_level0_row4\" class=\"row_heading level0 row4\" >na_sales</th>\n",
       "                        <td id=\"T_02774_row4_col0\" class=\"data row4 col0\" >0.000000</td>\n",
       "            </tr>\n",
       "            <tr>\n",
       "                        <th id=\"T_02774_level0_row5\" class=\"row_heading level0 row5\" >eu_sales</th>\n",
       "                        <td id=\"T_02774_row5_col0\" class=\"data row5 col0\" >0.000000</td>\n",
       "            </tr>\n",
       "            <tr>\n",
       "                        <th id=\"T_02774_level0_row6\" class=\"row_heading level0 row6\" >jp_sales</th>\n",
       "                        <td id=\"T_02774_row6_col0\" class=\"data row6 col0\" >0.000000</td>\n",
       "            </tr>\n",
       "            <tr>\n",
       "                        <th id=\"T_02774_level0_row7\" class=\"row_heading level0 row7\" >other_sales</th>\n",
       "                        <td id=\"T_02774_row7_col0\" class=\"data row7 col0\" >0.000000</td>\n",
       "            </tr>\n",
       "            <tr>\n",
       "                        <th id=\"T_02774_level0_row8\" class=\"row_heading level0 row8\" >critic_score</th>\n",
       "                        <td id=\"T_02774_row8_col0\" class=\"data row8 col0\" >51.000000</td>\n",
       "            </tr>\n",
       "            <tr>\n",
       "                        <th id=\"T_02774_level0_row9\" class=\"row_heading level0 row9\" >user_score</th>\n",
       "                        <td id=\"T_02774_row9_col0\" class=\"data row9 col0\" >40.000000</td>\n",
       "            </tr>\n",
       "            <tr>\n",
       "                        <th id=\"T_02774_level0_row10\" class=\"row_heading level0 row10\" >rating</th>\n",
       "                        <td id=\"T_02774_row10_col0\" class=\"data row10 col0\" >40.000000</td>\n",
       "            </tr>\n",
       "    </tbody></table>"
      ],
      "text/plain": [
       "<pandas.io.formats.style.Styler at 0x7fd49e792a00>"
      ]
     },
     "execution_count": 6,
     "metadata": {},
     "output_type": "execute_result"
    }
   ],
   "source": [
    "# колличество пропусков в %\n",
    "pd.DataFrame(round(data.isna().mean()*100,)).style.background_gradient('coolwarm')"
   ]
  },
  {
   "cell_type": "markdown",
   "metadata": {},
   "source": [
    "<div class=\"alert alert-block alert-warning\">\n",
    " \n",
    "### Комментарий ревьюера\n",
    "    \n",
    "#### Совет\n",
    "    \n",
    "Для визуализации пропусков лучше всего исопльзовать такой метод https://russianblogs.com/article/5001266235/"
   ]
  },
  {
   "cell_type": "code",
   "execution_count": 7,
   "metadata": {},
   "outputs": [
    {
     "data": {
      "text/plain": [
       "name                  2\n",
       "platform              0\n",
       "year_of_release     269\n",
       "genre                 2\n",
       "na_sales              0\n",
       "eu_sales              0\n",
       "jp_sales              0\n",
       "other_sales           0\n",
       "critic_score       8578\n",
       "user_score         6701\n",
       "rating             6766\n",
       "dtype: int64"
      ]
     },
     "execution_count": 7,
     "metadata": {},
     "output_type": "execute_result"
    }
   ],
   "source": [
    "data.isna().sum()"
   ]
  },
  {
   "cell_type": "markdown",
   "metadata": {},
   "source": [
    "**В 6 столбцах из 11 есть пропуски**\n",
    "\n",
    "Больштнство пропусков имеют стлбцы:\n",
    "Critic_Score — оценка критиков (максимум 100)\n",
    "User_Score — оценка пользователей (максимум 10)\n",
    "Rating — рейтинг от организации ESRB\n",
    "\n",
    "Если пропускков меньше 5-10% их лучше сразу удалить\n",
    "\n",
    "В остальных случаях корректней оставить пропуски, так как удаление такого большого количества данных может сильно повлиять на исследоание."
   ]
  },
  {
   "cell_type": "code",
   "execution_count": 8,
   "metadata": {},
   "outputs": [
    {
     "data": {
      "text/plain": [
       "name                  0\n",
       "platform              0\n",
       "year_of_release       0\n",
       "genre                 0\n",
       "na_sales              0\n",
       "eu_sales              0\n",
       "jp_sales              0\n",
       "other_sales           0\n",
       "critic_score       8461\n",
       "user_score         6605\n",
       "rating             6676\n",
       "dtype: int64"
      ]
     },
     "execution_count": 8,
     "metadata": {},
     "output_type": "execute_result"
    }
   ],
   "source": [
    "data = data.dropna(subset = ['name'])\n",
    "data = data.dropna(subset = ['year_of_release'])\n",
    "data = data.dropna(subset = ['genre'])\n",
    "data.isna().sum()"
   ]
  },
  {
   "cell_type": "markdown",
   "metadata": {},
   "source": [
    "<div class=\"alert alert-block alert-success\">\n",
    " \n",
    "### Комментарий ревьюера\n",
    "    \n",
    "#### Успех\n",
    "    \n",
    "Логично. Пропусков мало и проще всего от них избавиться.  "
   ]
  },
  {
   "cell_type": "markdown",
   "metadata": {},
   "source": [
    "*рассмотрим пропуски подобробнее*\n"
   ]
  },
  {
   "cell_type": "code",
   "execution_count": 9,
   "metadata": {},
   "outputs": [
    {
     "data": {
      "text/plain": [
       "array([76., nan, 82., 80., 89., 58., 87., 91., 61., 97., 95., 77., 88.,\n",
       "       83., 94., 93., 85., 86., 98., 96., 90., 84., 73., 74., 78., 92.,\n",
       "       71., 72., 68., 62., 49., 67., 81., 66., 56., 79., 70., 59., 64.,\n",
       "       75., 60., 63., 69., 50., 25., 42., 44., 55., 48., 57., 29., 47.,\n",
       "       65., 54., 20., 53., 37., 38., 33., 52., 30., 32., 43., 45., 51.,\n",
       "       40., 46., 39., 34., 41., 36., 31., 27., 35., 26., 19., 28., 23.,\n",
       "       24., 21., 17., 13.])"
      ]
     },
     "execution_count": 9,
     "metadata": {},
     "output_type": "execute_result"
    }
   ],
   "source": [
    "data['critic_score'].unique()"
   ]
  },
  {
   "cell_type": "code",
   "execution_count": 10,
   "metadata": {},
   "outputs": [
    {
     "data": {
      "text/plain": [
       "array(['8', nan, '8.3', '8.5', '6.6', '8.4', '8.6', '7.7', '6.3', '7.4',\n",
       "       '8.2', '9', '7.9', '8.1', '8.7', '7.1', '3.4', '5.3', '4.8', '3.2',\n",
       "       '8.9', '6.4', '7.8', '7.5', '2.6', '7.2', '9.2', '7', '7.3', '4.3',\n",
       "       '7.6', '5.7', '5', '9.1', '6.5', 'tbd', '8.8', '6.9', '9.4', '6.8',\n",
       "       '6.1', '6.7', '5.4', '4', '4.9', '4.5', '9.3', '6.2', '4.2', '6',\n",
       "       '3.7', '4.1', '5.8', '5.6', '5.5', '4.4', '4.6', '5.9', '3.9',\n",
       "       '3.1', '2.9', '5.2', '3.3', '4.7', '5.1', '3.5', '2.5', '1.9', '3',\n",
       "       '2.7', '2.2', '2', '9.5', '2.1', '3.6', '2.8', '1.8', '3.8', '0',\n",
       "       '1.6', '9.6', '2.4', '1.7', '1.1', '0.3', '1.5', '0.7', '1.2',\n",
       "       '2.3', '0.5', '1.3', '0.2', '0.6', '1.4', '0.9', '1', '9.7'],\n",
       "      dtype=object)"
      ]
     },
     "execution_count": 10,
     "metadata": {},
     "output_type": "execute_result"
    }
   ],
   "source": [
    "data['user_score'].unique()"
   ]
  },
  {
   "cell_type": "code",
   "execution_count": 11,
   "metadata": {},
   "outputs": [
    {
     "data": {
      "text/plain": [
       "tbd    2376\n",
       "7.8     322\n",
       "8       285\n",
       "8.2     276\n",
       "8.3     252\n",
       "       ... \n",
       "1.9       2\n",
       "1.3       2\n",
       "0.7       2\n",
       "9.7       1\n",
       "0         1\n",
       "Name: user_score, Length: 96, dtype: int64"
      ]
     },
     "execution_count": 11,
     "metadata": {},
     "output_type": "execute_result"
    }
   ],
   "source": [
    "data['user_score'].value_counts()"
   ]
  },
  {
   "cell_type": "markdown",
   "metadata": {},
   "source": [
    "2376 значений равны tbd, из-за большого количества таких значений удалить их нельзя. Возможно, игры, где встречаются такие значения просто не имеют рейтинга. Поэтому заменим его на значение пропуска"
   ]
  },
  {
   "cell_type": "code",
   "execution_count": 12,
   "metadata": {},
   "outputs": [],
   "source": [
    "data['user_score'] = pd.to_numeric(data['user_score'], errors='coerce')"
   ]
  },
  {
   "cell_type": "code",
   "execution_count": 13,
   "metadata": {},
   "outputs": [
    {
     "data": {
      "text/plain": [
       "array(['E', nan, 'M', 'T', 'E10+', 'K-A', 'AO', 'EC', 'RP'], dtype=object)"
      ]
     },
     "execution_count": 13,
     "metadata": {},
     "output_type": "execute_result"
    }
   ],
   "source": [
    "data['rating'].unique()"
   ]
  },
  {
   "cell_type": "markdown",
   "metadata": {},
   "source": [
    "Поставим заглушку на пропуски в рейтинге, что бы игры без рейтинга не были исключены из анализа."
   ]
  },
  {
   "cell_type": "code",
   "execution_count": 14,
   "metadata": {},
   "outputs": [],
   "source": [
    "data['rating'] = data['rating'].fillna('Unknown')"
   ]
  },
  {
   "cell_type": "markdown",
   "metadata": {},
   "source": [
    "<div class=\"alert alert-block alert-success\">\n",
    " \n",
    "### Комментарий ревьюера\n",
    "    \n",
    "#### Успех\n",
    "    \n",
    "Значение-заглушка - это хорошее решение в данном случае. "
   ]
  },
  {
   "cell_type": "code",
   "execution_count": 15,
   "metadata": {},
   "outputs": [
    {
     "data": {
      "text/plain": [
       "Unknown    6676\n",
       "E          3921\n",
       "T          2905\n",
       "M          1536\n",
       "E10+       1393\n",
       "EC            8\n",
       "K-A           3\n",
       "AO            1\n",
       "RP            1\n",
       "Name: rating, dtype: int64"
      ]
     },
     "execution_count": 15,
     "metadata": {},
     "output_type": "execute_result"
    }
   ],
   "source": [
    "data['rating'].value_counts()"
   ]
  },
  {
   "cell_type": "markdown",
   "metadata": {},
   "source": [
    "Есть 4 категории EC, K-A, RP, AO, они встречаются очень редко, для корректности исследования исключим строки с этими значениями"
   ]
  },
  {
   "cell_type": "code",
   "execution_count": 16,
   "metadata": {},
   "outputs": [
    {
     "data": {
      "text/plain": [
       "Unknown    6676\n",
       "E          3921\n",
       "T          2905\n",
       "M          1536\n",
       "E10+       1393\n",
       "Name: rating, dtype: int64"
      ]
     },
     "execution_count": 16,
     "metadata": {},
     "output_type": "execute_result"
    }
   ],
   "source": [
    "data = data[(data['rating'] != 'EC') & (data['rating'] != 'K-A') & (data['rating'] != 'RP') & (data['rating'] != 'AO')]\n",
    "data['rating'].value_counts()"
   ]
  },
  {
   "cell_type": "markdown",
   "metadata": {},
   "source": [
    "**Вывод** при исследовании у нас в большей степени были выявлены пропуски в 3-ёх стобцах (рэйтинг, оценка критиков и пользователей). Пропуски могли возникнуть из-за того, что данные по игре не загрузили или игра могла быть еще не оценена. Некоторые пропуски могли возникнуть из-за технических ошибок или ошибок при заполнении данных.  "
   ]
  },
  {
   "cell_type": "markdown",
   "metadata": {},
   "source": [
    "<div class=\"alert alert-block alert-success\">\n",
    " \n",
    "### Комментарий ревьюера\n",
    "    \n",
    "#### Успех\n",
    "    \n",
    "Да, вполне могло так и быть. "
   ]
  },
  {
   "cell_type": "markdown",
   "metadata": {},
   "source": [
    "### Изменение типов"
   ]
  },
  {
   "cell_type": "code",
   "execution_count": 17,
   "metadata": {
    "scrolled": true
   },
   "outputs": [
    {
     "data": {
      "text/plain": [
       "name                object\n",
       "platform            object\n",
       "year_of_release    float64\n",
       "genre               object\n",
       "na_sales           float64\n",
       "eu_sales           float64\n",
       "jp_sales           float64\n",
       "other_sales        float64\n",
       "critic_score       float64\n",
       "user_score         float64\n",
       "rating              object\n",
       "dtype: object"
      ]
     },
     "execution_count": 17,
     "metadata": {},
     "output_type": "execute_result"
    }
   ],
   "source": [
    "data.dtypes"
   ]
  },
  {
   "cell_type": "markdown",
   "metadata": {},
   "source": [
    "Изменим тип year_of_release на int, так как год представляет собой целое число не привышающее границы типа int\n",
    "\n",
    "Так же изменим critic_score на int так как оценка критиков является целым числом и не привышает 100, так как в данном столбце есть пропуски, что затрудняет перевод в тип INT, мы преобразуем пропуски, заменим неизвестные значения на -1. \n",
    "\n",
    "Столбeц user_score  приведем к типу float64, так как в нем численные значения и в дальнейшем, возможно нам потребуется производить с этими данными рассчеты.\n",
    "\n",
    "остальные значения в столбцах соответсвуют своим типам"
   ]
  },
  {
   "cell_type": "code",
   "execution_count": 18,
   "metadata": {
    "scrolled": true
   },
   "outputs": [
    {
     "data": {
      "text/plain": [
       "name                object\n",
       "platform            object\n",
       "year_of_release      int64\n",
       "genre               object\n",
       "na_sales           float64\n",
       "eu_sales           float64\n",
       "jp_sales           float64\n",
       "other_sales        float64\n",
       "critic_score         int64\n",
       "user_score         float64\n",
       "rating              object\n",
       "dtype: object"
      ]
     },
     "execution_count": 18,
     "metadata": {},
     "output_type": "execute_result"
    }
   ],
   "source": [
    "data['year_of_release'] = data['year_of_release'].astype('int')\n",
    "data['critic_score'] = data['critic_score'].fillna(-1)\n",
    "data['critic_score'] = data['critic_score'].astype('int')\n",
    "data['user_score'] = data['user_score'].astype('float')\n",
    "data.dtypes"
   ]
  },
  {
   "cell_type": "markdown",
   "metadata": {},
   "source": [
    "<div class=\"alert alert-block alert-warning\">\n",
    " \n",
    "### Комментарий ревьюера\n",
    "    \n",
    "#### Совет\n",
    "    \n",
    "Для экономии вычислительной памяти лучше всего перевести их в int32 или float32"
   ]
  },
  {
   "cell_type": "markdown",
   "metadata": {},
   "source": [
    "### Создадим столбец с общими продажами во всех регионах "
   ]
  },
  {
   "cell_type": "code",
   "execution_count": 19,
   "metadata": {},
   "outputs": [],
   "source": [
    "data['total_sales'] = data['na_sales'] + data['eu_sales'] + data['jp_sales'] + data['other_sales']"
   ]
  },
  {
   "cell_type": "code",
   "execution_count": 20,
   "metadata": {},
   "outputs": [
    {
     "data": {
      "text/html": [
       "<div>\n",
       "<style scoped>\n",
       "    .dataframe tbody tr th:only-of-type {\n",
       "        vertical-align: middle;\n",
       "    }\n",
       "\n",
       "    .dataframe tbody tr th {\n",
       "        vertical-align: top;\n",
       "    }\n",
       "\n",
       "    .dataframe thead th {\n",
       "        text-align: right;\n",
       "    }\n",
       "</style>\n",
       "<table border=\"1\" class=\"dataframe\">\n",
       "  <thead>\n",
       "    <tr style=\"text-align: right;\">\n",
       "      <th></th>\n",
       "      <th>name</th>\n",
       "      <th>platform</th>\n",
       "      <th>year_of_release</th>\n",
       "      <th>genre</th>\n",
       "      <th>na_sales</th>\n",
       "      <th>eu_sales</th>\n",
       "      <th>jp_sales</th>\n",
       "      <th>other_sales</th>\n",
       "      <th>critic_score</th>\n",
       "      <th>user_score</th>\n",
       "      <th>rating</th>\n",
       "      <th>total_sales</th>\n",
       "    </tr>\n",
       "  </thead>\n",
       "  <tbody>\n",
       "    <tr>\n",
       "      <th>0</th>\n",
       "      <td>Wii Sports</td>\n",
       "      <td>Wii</td>\n",
       "      <td>2006</td>\n",
       "      <td>Sports</td>\n",
       "      <td>41.36</td>\n",
       "      <td>28.96</td>\n",
       "      <td>3.77</td>\n",
       "      <td>8.45</td>\n",
       "      <td>76</td>\n",
       "      <td>8.0</td>\n",
       "      <td>E</td>\n",
       "      <td>82.54</td>\n",
       "    </tr>\n",
       "    <tr>\n",
       "      <th>1</th>\n",
       "      <td>Super Mario Bros.</td>\n",
       "      <td>NES</td>\n",
       "      <td>1985</td>\n",
       "      <td>Platform</td>\n",
       "      <td>29.08</td>\n",
       "      <td>3.58</td>\n",
       "      <td>6.81</td>\n",
       "      <td>0.77</td>\n",
       "      <td>-1</td>\n",
       "      <td>NaN</td>\n",
       "      <td>Unknown</td>\n",
       "      <td>40.24</td>\n",
       "    </tr>\n",
       "    <tr>\n",
       "      <th>2</th>\n",
       "      <td>Mario Kart Wii</td>\n",
       "      <td>Wii</td>\n",
       "      <td>2008</td>\n",
       "      <td>Racing</td>\n",
       "      <td>15.68</td>\n",
       "      <td>12.76</td>\n",
       "      <td>3.79</td>\n",
       "      <td>3.29</td>\n",
       "      <td>82</td>\n",
       "      <td>8.3</td>\n",
       "      <td>E</td>\n",
       "      <td>35.52</td>\n",
       "    </tr>\n",
       "    <tr>\n",
       "      <th>3</th>\n",
       "      <td>Wii Sports Resort</td>\n",
       "      <td>Wii</td>\n",
       "      <td>2009</td>\n",
       "      <td>Sports</td>\n",
       "      <td>15.61</td>\n",
       "      <td>10.93</td>\n",
       "      <td>3.28</td>\n",
       "      <td>2.95</td>\n",
       "      <td>80</td>\n",
       "      <td>8.0</td>\n",
       "      <td>E</td>\n",
       "      <td>32.77</td>\n",
       "    </tr>\n",
       "    <tr>\n",
       "      <th>4</th>\n",
       "      <td>Pokemon Red/Pokemon Blue</td>\n",
       "      <td>GB</td>\n",
       "      <td>1996</td>\n",
       "      <td>Role-Playing</td>\n",
       "      <td>11.27</td>\n",
       "      <td>8.89</td>\n",
       "      <td>10.22</td>\n",
       "      <td>1.00</td>\n",
       "      <td>-1</td>\n",
       "      <td>NaN</td>\n",
       "      <td>Unknown</td>\n",
       "      <td>31.38</td>\n",
       "    </tr>\n",
       "  </tbody>\n",
       "</table>\n",
       "</div>"
      ],
      "text/plain": [
       "                       name platform  year_of_release         genre  na_sales  \\\n",
       "0                Wii Sports      Wii             2006        Sports     41.36   \n",
       "1         Super Mario Bros.      NES             1985      Platform     29.08   \n",
       "2            Mario Kart Wii      Wii             2008        Racing     15.68   \n",
       "3         Wii Sports Resort      Wii             2009        Sports     15.61   \n",
       "4  Pokemon Red/Pokemon Blue       GB             1996  Role-Playing     11.27   \n",
       "\n",
       "   eu_sales  jp_sales  other_sales  critic_score  user_score   rating  \\\n",
       "0     28.96      3.77         8.45            76         8.0        E   \n",
       "1      3.58      6.81         0.77            -1         NaN  Unknown   \n",
       "2     12.76      3.79         3.29            82         8.3        E   \n",
       "3     10.93      3.28         2.95            80         8.0        E   \n",
       "4      8.89     10.22         1.00            -1         NaN  Unknown   \n",
       "\n",
       "   total_sales  \n",
       "0        82.54  \n",
       "1        40.24  \n",
       "2        35.52  \n",
       "3        32.77  \n",
       "4        31.38  "
      ]
     },
     "execution_count": 20,
     "metadata": {},
     "output_type": "execute_result"
    }
   ],
   "source": [
    "data.head()"
   ]
  },
  {
   "cell_type": "markdown",
   "metadata": {},
   "source": [
    "**Вывод** Данные подготовлены для дальнейшего исследования. Мы заменили регистр, преобразовали типы, обработали пропуски и создали новый столбец"
   ]
  },
  {
   "cell_type": "markdown",
   "metadata": {},
   "source": [
    "<div class=\"alert alert-block alert-success\">\n",
    " \n",
    "### Комментарий ревьюера\n",
    "    \n",
    "#### Успех\n",
    "    \n",
    "Столбец с суммарными продажами получен и данные подготовленны к Исследовательскому анализу. Здорово. "
   ]
  },
  {
   "cell_type": "markdown",
   "metadata": {},
   "source": [
    "## Исследовательский анализ данных"
   ]
  },
  {
   "cell_type": "markdown",
   "metadata": {},
   "source": [
    "### Рассмотрим разные периоды выпуска игр"
   ]
  },
  {
   "cell_type": "code",
   "execution_count": 21,
   "metadata": {},
   "outputs": [
    {
     "data": {
      "text/plain": [
       "count    16431.000000\n",
       "mean      2006.486763\n",
       "std          5.875814\n",
       "min       1980.000000\n",
       "25%       2003.000000\n",
       "50%       2007.000000\n",
       "75%       2010.000000\n",
       "max       2016.000000\n",
       "Name: year_of_release, dtype: float64"
      ]
     },
     "metadata": {},
     "output_type": "display_data"
    },
    {
     "data": {
      "image/png": "[encoded data removed]",
      "text/plain": [
       "<Figure size 936x576 with 1 Axes>"
      ]
     },
     "metadata": {
      "needs_background": "light"
     },
     "output_type": "display_data"
    }
   ],
   "source": [
    "display(data['year_of_release'].describe());\n",
    "data.pivot_table(index='year_of_release', values='total_sales', aggfunc='count').plot(grid=True, figsize=(13, 8));"
   ]
  },
  {
   "cell_type": "code",
   "execution_count": 22,
   "metadata": {},
   "outputs": [
    {
     "data": {
      "image/png": "[encoded data removed]",
      "text/plain": [
       "<Figure size 432x288 with 1 Axes>"
      ]
     },
     "metadata": {
      "needs_background": "light"
     },
     "output_type": "display_data"
    }
   ],
   "source": [
    "data.boxplot('year_of_release');"
   ]
  },
  {
   "cell_type": "markdown",
   "metadata": {},
   "source": [
    "**Вывод** На графике видно, что в самом начале рассматриваемого перода с 1980 до 1993 количество выпущенных игр оставалось постоянным. В течение следующих 5 лет начался рост количества игр. С 2000 по 2009 стримительно увеличилось количесвто выпущенных игр, (с 2002 по 2004 количество игр не менялось, а в 2009 наблюдался пик). После данного периода до 2016 начался \"спад\". \n",
    "С точки зрения актуальности, все данные нет необходимости использовать.\n",
    "\n",
    "За актуальный период возьмем последние 3 года,  так как индустрия компьютерных игр быстро меняется, и при прогнозировании мы можем захватить устаревшие тренды в этой отросли.\n"
   ]
  },
  {
   "cell_type": "markdown",
   "metadata": {},
   "source": [
    "<div class=\"alert alert-block alert-success\">\n",
    " \n",
    "### Комментарий ревьюера\n",
    "    \n",
    "#### Успех\n",
    "    \n",
    "Классный график получился. На нем мы отчетливо видим, как вел себя выпуск игр каждый год. "
   ]
  },
  {
   "cell_type": "markdown",
   "metadata": {},
   "source": [
    "### Рассмотрим как менялись продажи по платформам"
   ]
  },
  {
   "cell_type": "code",
   "execution_count": 23,
   "metadata": {},
   "outputs": [
    {
     "data": {
      "text/html": [
       "<div>\n",
       "<style scoped>\n",
       "    .dataframe tbody tr th:only-of-type {\n",
       "        vertical-align: middle;\n",
       "    }\n",
       "\n",
       "    .dataframe tbody tr th {\n",
       "        vertical-align: top;\n",
       "    }\n",
       "\n",
       "    .dataframe thead th {\n",
       "        text-align: right;\n",
       "    }\n",
       "</style>\n",
       "<table border=\"1\" class=\"dataframe\">\n",
       "  <thead>\n",
       "    <tr style=\"text-align: right;\">\n",
       "      <th></th>\n",
       "      <th>total_sales</th>\n",
       "    </tr>\n",
       "    <tr>\n",
       "      <th>platform</th>\n",
       "      <th></th>\n",
       "    </tr>\n",
       "  </thead>\n",
       "  <tbody>\n",
       "    <tr>\n",
       "      <th>PS2</th>\n",
       "      <td>1233.32</td>\n",
       "    </tr>\n",
       "    <tr>\n",
       "      <th>X360</th>\n",
       "      <td>961.24</td>\n",
       "    </tr>\n",
       "    <tr>\n",
       "      <th>PS3</th>\n",
       "      <td>931.34</td>\n",
       "    </tr>\n",
       "    <tr>\n",
       "      <th>Wii</th>\n",
       "      <td>890.52</td>\n",
       "    </tr>\n",
       "    <tr>\n",
       "      <th>DS</th>\n",
       "      <td>802.13</td>\n",
       "    </tr>\n",
       "    <tr>\n",
       "      <th>PS</th>\n",
       "      <td>725.67</td>\n",
       "    </tr>\n",
       "    <tr>\n",
       "      <th>PS4</th>\n",
       "      <td>314.14</td>\n",
       "    </tr>\n",
       "    <tr>\n",
       "      <th>GBA</th>\n",
       "      <td>312.88</td>\n",
       "    </tr>\n",
       "    <tr>\n",
       "      <th>PSP</th>\n",
       "      <td>289.53</td>\n",
       "    </tr>\n",
       "    <tr>\n",
       "      <th>3DS</th>\n",
       "      <td>257.81</td>\n",
       "    </tr>\n",
       "    <tr>\n",
       "      <th>GB</th>\n",
       "      <td>254.43</td>\n",
       "    </tr>\n",
       "    <tr>\n",
       "      <th>PC</th>\n",
       "      <td>253.22</td>\n",
       "    </tr>\n",
       "    <tr>\n",
       "      <th>NES</th>\n",
       "      <td>251.05</td>\n",
       "    </tr>\n",
       "    <tr>\n",
       "      <th>XB</th>\n",
       "      <td>249.61</td>\n",
       "    </tr>\n",
       "    <tr>\n",
       "      <th>N64</th>\n",
       "      <td>218.01</td>\n",
       "    </tr>\n",
       "    <tr>\n",
       "      <th>SNES</th>\n",
       "      <td>200.04</td>\n",
       "    </tr>\n",
       "    <tr>\n",
       "      <th>GC</th>\n",
       "      <td>196.62</td>\n",
       "    </tr>\n",
       "    <tr>\n",
       "      <th>XOne</th>\n",
       "      <td>159.32</td>\n",
       "    </tr>\n",
       "    <tr>\n",
       "      <th>2600</th>\n",
       "      <td>86.48</td>\n",
       "    </tr>\n",
       "    <tr>\n",
       "      <th>WiiU</th>\n",
       "      <td>82.19</td>\n",
       "    </tr>\n",
       "    <tr>\n",
       "      <th>PSV</th>\n",
       "      <td>53.81</td>\n",
       "    </tr>\n",
       "    <tr>\n",
       "      <th>SAT</th>\n",
       "      <td>33.59</td>\n",
       "    </tr>\n",
       "    <tr>\n",
       "      <th>GEN</th>\n",
       "      <td>28.35</td>\n",
       "    </tr>\n",
       "    <tr>\n",
       "      <th>DC</th>\n",
       "      <td>15.95</td>\n",
       "    </tr>\n",
       "    <tr>\n",
       "      <th>SCD</th>\n",
       "      <td>1.86</td>\n",
       "    </tr>\n",
       "    <tr>\n",
       "      <th>NG</th>\n",
       "      <td>1.44</td>\n",
       "    </tr>\n",
       "    <tr>\n",
       "      <th>WS</th>\n",
       "      <td>1.42</td>\n",
       "    </tr>\n",
       "    <tr>\n",
       "      <th>TG16</th>\n",
       "      <td>0.16</td>\n",
       "    </tr>\n",
       "    <tr>\n",
       "      <th>3DO</th>\n",
       "      <td>0.10</td>\n",
       "    </tr>\n",
       "    <tr>\n",
       "      <th>GG</th>\n",
       "      <td>0.04</td>\n",
       "    </tr>\n",
       "    <tr>\n",
       "      <th>PCFX</th>\n",
       "      <td>0.03</td>\n",
       "    </tr>\n",
       "  </tbody>\n",
       "</table>\n",
       "</div>"
      ],
      "text/plain": [
       "          total_sales\n",
       "platform             \n",
       "PS2           1233.32\n",
       "X360           961.24\n",
       "PS3            931.34\n",
       "Wii            890.52\n",
       "DS             802.13\n",
       "PS             725.67\n",
       "PS4            314.14\n",
       "GBA            312.88\n",
       "PSP            289.53\n",
       "3DS            257.81\n",
       "GB             254.43\n",
       "PC             253.22\n",
       "NES            251.05\n",
       "XB             249.61\n",
       "N64            218.01\n",
       "SNES           200.04\n",
       "GC             196.62\n",
       "XOne           159.32\n",
       "2600            86.48\n",
       "WiiU            82.19\n",
       "PSV             53.81\n",
       "SAT             33.59\n",
       "GEN             28.35\n",
       "DC              15.95\n",
       "SCD              1.86\n",
       "NG               1.44\n",
       "WS               1.42\n",
       "TG16             0.16\n",
       "3DO              0.10\n",
       "GG               0.04\n",
       "PCFX             0.03"
      ]
     },
     "execution_count": 23,
     "metadata": {},
     "output_type": "execute_result"
    }
   ],
   "source": [
    "data.pivot_table(index='platform', values='total_sales', aggfunc='sum').sort_values('total_sales', ascending=False)"
   ]
  },
  {
   "cell_type": "markdown",
   "metadata": {},
   "source": [
    "<div class=\"alert alert-block alert-success\">\n",
    " \n",
    "### Комментарий ревьюера\n",
    "    \n",
    "#### Успех\n",
    "    \n",
    "А вот и на продажи среди платформ глянули. "
   ]
  },
  {
   "cell_type": "markdown",
   "metadata": {},
   "source": [
    "Платформы с наибольшими суммарными продажами: PS2, X360, PS3, Wii, DS, PS\n",
    "\n",
    "Ниже построим распределение по годам для этих платформ:"
   ]
  },
  {
   "cell_type": "code",
   "execution_count": 24,
   "metadata": {},
   "outputs": [
    {
     "data": {
      "image/png": "[encoded data removed]",
      "text/plain": [
       "<Figure size 432x288 with 1 Axes>"
      ]
     },
     "metadata": {
      "needs_background": "light"
     },
     "output_type": "display_data"
    }
   ],
   "source": [
    "data.query('platform == \"PS2\"').pivot_table(index='year_of_release', values='total_sales', aggfunc='sum').plot(kind='bar', title='PS2');"
   ]
  },
  {
   "cell_type": "markdown",
   "metadata": {},
   "source": [
    "Пик продаж на платформе PS2 был в период с 2001 по 2005 год. В настоящее время продаж по платформе не обнаружено. Платформа не актуальна."
   ]
  },
  {
   "cell_type": "code",
   "execution_count": 25,
   "metadata": {},
   "outputs": [
    {
     "data": {
      "image/png": "[encoded data removed]",
      "text/plain": [
       "<Figure size 432x288 with 1 Axes>"
      ]
     },
     "metadata": {
      "needs_background": "light"
     },
     "output_type": "display_data"
    }
   ],
   "source": [
    "data.query('platform == \"X360\"').pivot_table(index='year_of_release', values='total_sales', aggfunc='sum').plot(kind='bar', title='X360');"
   ]
  },
  {
   "cell_type": "markdown",
   "metadata": {},
   "source": [
    "Пик продаж на платформе X360 был в 2010 году. В настоящее время продаж по платформе мало. "
   ]
  },
  {
   "cell_type": "code",
   "execution_count": 26,
   "metadata": {},
   "outputs": [
    {
     "data": {
      "image/png": "[encoded data removed]",
      "text/plain": [
       "<Figure size 432x288 with 1 Axes>"
      ]
     },
     "metadata": {
      "needs_background": "light"
     },
     "output_type": "display_data"
    }
   ],
   "source": [
    "data.query('platform == \"PS3\"').pivot_table(index='year_of_release', values='total_sales', aggfunc='sum').plot(kind='bar', title='PS3');"
   ]
  },
  {
   "cell_type": "markdown",
   "metadata": {},
   "source": [
    "Пик продаж на платформе PS3 был в период с 2008 по 2011год. В настоящее время продаж по платформе мало. "
   ]
  },
  {
   "cell_type": "code",
   "execution_count": 27,
   "metadata": {},
   "outputs": [
    {
     "data": {
      "image/png": "[encoded data removed]",
      "text/plain": [
       "<Figure size 432x288 with 1 Axes>"
      ]
     },
     "metadata": {
      "needs_background": "light"
     },
     "output_type": "display_data"
    }
   ],
   "source": [
    "data.query('platform == \"Wii\"').pivot_table(index='year_of_release', values='total_sales', aggfunc='sum').plot(kind='bar', title='Wii');"
   ]
  },
  {
   "cell_type": "markdown",
   "metadata": {},
   "source": [
    "Пик продаж на платформе Wii был в 2009 году. В настоящее время продаж по платформе мало. "
   ]
  },
  {
   "cell_type": "code",
   "execution_count": 28,
   "metadata": {},
   "outputs": [
    {
     "data": {
      "image/png": "[encoded data removed]",
      "text/plain": [
       "<Figure size 432x288 with 1 Axes>"
      ]
     },
     "metadata": {
      "needs_background": "light"
     },
     "output_type": "display_data"
    }
   ],
   "source": [
    "data.query('platform == \"DS\"').pivot_table(index='year_of_release', values='total_sales', aggfunc='sum').plot(kind='bar', title='DS');"
   ]
  },
  {
   "cell_type": "markdown",
   "metadata": {},
   "source": [
    "Пик продаж на платформе DS был в период с 2005 по 2009 год. В настоящее время продаж по платформе не обнаружено. Платформа не актуальна."
   ]
  },
  {
   "cell_type": "code",
   "execution_count": 29,
   "metadata": {},
   "outputs": [
    {
     "data": {
      "image/png": "[encoded data removed]",
      "text/plain": [
       "<Figure size 432x288 with 1 Axes>"
      ]
     },
     "metadata": {
      "needs_background": "light"
     },
     "output_type": "display_data"
    }
   ],
   "source": [
    "data.query('platform == \"PS\"').pivot_table(index='year_of_release', values='total_sales', aggfunc='sum').plot(kind='bar', title='PS');"
   ]
  },
  {
   "cell_type": "markdown",
   "metadata": {},
   "source": [
    "<div class=\"alert alert-block alert-warning\">\n",
    " \n",
    "### Комментарий ревьюера\n",
    "    \n",
    "#### Совет\n",
    "    \n",
    "В идеале все бы эти графики вывести через цикл автоматически. "
   ]
  },
  {
   "cell_type": "markdown",
   "metadata": {},
   "source": [
    "Пик продаж на платформе DS был в 1998 году. В настоящее время продаж по платформе не обнаружено. Платформа не актуальна."
   ]
  },
  {
   "cell_type": "markdown",
   "metadata": {},
   "source": [
    "**Вывод** В среднем пик продаж на середину \"жизни\" платформы, максимум продаж происходит в течение 5 лет, после чего на плотформе происходит резкий спад."
   ]
  },
  {
   "cell_type": "markdown",
   "metadata": {},
   "source": [
    "### Выбор данных за актуальный период.\n"
   ]
  },
  {
   "cell_type": "markdown",
   "metadata": {},
   "source": [
    "На предыдущих шагах было выяснено, что актуальный период это последние 3 года (2014,2015,2016)"
   ]
  },
  {
   "cell_type": "code",
   "execution_count": 30,
   "metadata": {
    "scrolled": true
   },
   "outputs": [
    {
     "data": {
      "text/html": [
       "<div>\n",
       "<style scoped>\n",
       "    .dataframe tbody tr th:only-of-type {\n",
       "        vertical-align: middle;\n",
       "    }\n",
       "\n",
       "    .dataframe tbody tr th {\n",
       "        vertical-align: top;\n",
       "    }\n",
       "\n",
       "    .dataframe thead th {\n",
       "        text-align: right;\n",
       "    }\n",
       "</style>\n",
       "<table border=\"1\" class=\"dataframe\">\n",
       "  <thead>\n",
       "    <tr style=\"text-align: right;\">\n",
       "      <th></th>\n",
       "      <th>name</th>\n",
       "      <th>platform</th>\n",
       "      <th>year_of_release</th>\n",
       "      <th>genre</th>\n",
       "      <th>na_sales</th>\n",
       "      <th>eu_sales</th>\n",
       "      <th>jp_sales</th>\n",
       "      <th>other_sales</th>\n",
       "      <th>critic_score</th>\n",
       "      <th>user_score</th>\n",
       "      <th>rating</th>\n",
       "      <th>total_sales</th>\n",
       "    </tr>\n",
       "  </thead>\n",
       "  <tbody>\n",
       "    <tr>\n",
       "      <th>0</th>\n",
       "      <td>Call of Duty: Black Ops 3</td>\n",
       "      <td>PS4</td>\n",
       "      <td>2015</td>\n",
       "      <td>Shooter</td>\n",
       "      <td>6.03</td>\n",
       "      <td>5.86</td>\n",
       "      <td>0.36</td>\n",
       "      <td>2.38</td>\n",
       "      <td>-1</td>\n",
       "      <td>NaN</td>\n",
       "      <td>Unknown</td>\n",
       "      <td>14.63</td>\n",
       "    </tr>\n",
       "    <tr>\n",
       "      <th>1</th>\n",
       "      <td>Grand Theft Auto V</td>\n",
       "      <td>PS4</td>\n",
       "      <td>2014</td>\n",
       "      <td>Action</td>\n",
       "      <td>3.96</td>\n",
       "      <td>6.31</td>\n",
       "      <td>0.38</td>\n",
       "      <td>1.97</td>\n",
       "      <td>97</td>\n",
       "      <td>8.3</td>\n",
       "      <td>M</td>\n",
       "      <td>12.62</td>\n",
       "    </tr>\n",
       "    <tr>\n",
       "      <th>2</th>\n",
       "      <td>Pokemon Omega Ruby/Pokemon Alpha Sapphire</td>\n",
       "      <td>3DS</td>\n",
       "      <td>2014</td>\n",
       "      <td>Role-Playing</td>\n",
       "      <td>4.35</td>\n",
       "      <td>3.49</td>\n",
       "      <td>3.10</td>\n",
       "      <td>0.74</td>\n",
       "      <td>-1</td>\n",
       "      <td>NaN</td>\n",
       "      <td>Unknown</td>\n",
       "      <td>11.68</td>\n",
       "    </tr>\n",
       "    <tr>\n",
       "      <th>3</th>\n",
       "      <td>FIFA 16</td>\n",
       "      <td>PS4</td>\n",
       "      <td>2015</td>\n",
       "      <td>Sports</td>\n",
       "      <td>1.12</td>\n",
       "      <td>6.12</td>\n",
       "      <td>0.06</td>\n",
       "      <td>1.28</td>\n",
       "      <td>82</td>\n",
       "      <td>4.3</td>\n",
       "      <td>E</td>\n",
       "      <td>8.58</td>\n",
       "    </tr>\n",
       "    <tr>\n",
       "      <th>4</th>\n",
       "      <td>Star Wars Battlefront (2015)</td>\n",
       "      <td>PS4</td>\n",
       "      <td>2015</td>\n",
       "      <td>Shooter</td>\n",
       "      <td>2.99</td>\n",
       "      <td>3.49</td>\n",
       "      <td>0.22</td>\n",
       "      <td>1.28</td>\n",
       "      <td>-1</td>\n",
       "      <td>NaN</td>\n",
       "      <td>Unknown</td>\n",
       "      <td>7.98</td>\n",
       "    </tr>\n",
       "  </tbody>\n",
       "</table>\n",
       "</div>"
      ],
      "text/plain": [
       "                                        name platform  year_of_release  \\\n",
       "0                  Call of Duty: Black Ops 3      PS4             2015   \n",
       "1                         Grand Theft Auto V      PS4             2014   \n",
       "2  Pokemon Omega Ruby/Pokemon Alpha Sapphire      3DS             2014   \n",
       "3                                    FIFA 16      PS4             2015   \n",
       "4               Star Wars Battlefront (2015)      PS4             2015   \n",
       "\n",
       "          genre  na_sales  eu_sales  jp_sales  other_sales  critic_score  \\\n",
       "0       Shooter      6.03      5.86      0.36         2.38            -1   \n",
       "1        Action      3.96      6.31      0.38         1.97            97   \n",
       "2  Role-Playing      4.35      3.49      3.10         0.74            -1   \n",
       "3        Sports      1.12      6.12      0.06         1.28            82   \n",
       "4       Shooter      2.99      3.49      0.22         1.28            -1   \n",
       "\n",
       "   user_score   rating  total_sales  \n",
       "0         NaN  Unknown        14.63  \n",
       "1         8.3        M        12.62  \n",
       "2         NaN  Unknown        11.68  \n",
       "3         4.3        E         8.58  \n",
       "4         NaN  Unknown         7.98  "
      ]
     },
     "execution_count": 30,
     "metadata": {},
     "output_type": "execute_result"
    }
   ],
   "source": [
    "# создадим отдельный датафрейм для хранения только актульных данных\n",
    "actual_data = data.query('year_of_release >= 2014').copy()\n",
    "# сбросим индексацию \n",
    "actual_data.reset_index(drop=True,inplace=True) \n",
    "actual_data.head()"
   ]
  },
  {
   "cell_type": "markdown",
   "metadata": {},
   "source": [
    "<div class=\"alert alert-block alert-success\">\n",
    " \n",
    "### Комментарий ревьюера\n",
    "    \n",
    "#### Успех\n",
    "    \n",
    "С актуальным периодом согласен. Нам не стоит обращать внимание на очень старые данные. "
   ]
  },
  {
   "cell_type": "markdown",
   "metadata": {},
   "source": [
    "Созданная таблица хранит в себе данные за **актуальный период** и не учитывает данные за **предыдущие годы**"
   ]
  },
  {
   "cell_type": "markdown",
   "metadata": {},
   "source": [
    "### Определение лидирующих платформ "
   ]
  },
  {
   "cell_type": "code",
   "execution_count": 31,
   "metadata": {},
   "outputs": [
    {
     "data": {
      "text/html": [
       "<div>\n",
       "<style scoped>\n",
       "    .dataframe tbody tr th:only-of-type {\n",
       "        vertical-align: middle;\n",
       "    }\n",
       "\n",
       "    .dataframe tbody tr th {\n",
       "        vertical-align: top;\n",
       "    }\n",
       "\n",
       "    .dataframe thead th {\n",
       "        text-align: right;\n",
       "    }\n",
       "</style>\n",
       "<table border=\"1\" class=\"dataframe\">\n",
       "  <thead>\n",
       "    <tr style=\"text-align: right;\">\n",
       "      <th></th>\n",
       "      <th>total_sales</th>\n",
       "    </tr>\n",
       "    <tr>\n",
       "      <th>platform</th>\n",
       "      <th></th>\n",
       "    </tr>\n",
       "  </thead>\n",
       "  <tbody>\n",
       "    <tr>\n",
       "      <th>PS4</th>\n",
       "      <td>288.15</td>\n",
       "    </tr>\n",
       "    <tr>\n",
       "      <th>XOne</th>\n",
       "      <td>140.36</td>\n",
       "    </tr>\n",
       "    <tr>\n",
       "      <th>3DS</th>\n",
       "      <td>86.68</td>\n",
       "    </tr>\n",
       "    <tr>\n",
       "      <th>PS3</th>\n",
       "      <td>68.18</td>\n",
       "    </tr>\n",
       "    <tr>\n",
       "      <th>X360</th>\n",
       "      <td>48.22</td>\n",
       "    </tr>\n",
       "    <tr>\n",
       "      <th>WiiU</th>\n",
       "      <td>42.98</td>\n",
       "    </tr>\n",
       "    <tr>\n",
       "      <th>PC</th>\n",
       "      <td>27.05</td>\n",
       "    </tr>\n",
       "    <tr>\n",
       "      <th>PSV</th>\n",
       "      <td>22.40</td>\n",
       "    </tr>\n",
       "    <tr>\n",
       "      <th>Wii</th>\n",
       "      <td>5.07</td>\n",
       "    </tr>\n",
       "    <tr>\n",
       "      <th>PSP</th>\n",
       "      <td>0.36</td>\n",
       "    </tr>\n",
       "  </tbody>\n",
       "</table>\n",
       "</div>"
      ],
      "text/plain": [
       "          total_sales\n",
       "platform             \n",
       "PS4            288.15\n",
       "XOne           140.36\n",
       "3DS             86.68\n",
       "PS3             68.18\n",
       "X360            48.22\n",
       "WiiU            42.98\n",
       "PC              27.05\n",
       "PSV             22.40\n",
       "Wii              5.07\n",
       "PSP              0.36"
      ]
     },
     "execution_count": 31,
     "metadata": {},
     "output_type": "execute_result"
    }
   ],
   "source": [
    "actual_data.pivot_table(index='platform', values='total_sales', aggfunc='sum').sort_values('total_sales', ascending=False)"
   ]
  },
  {
   "cell_type": "code",
   "execution_count": 32,
   "metadata": {},
   "outputs": [
    {
     "data": {
      "image/png": "[encoded data removed]",
      "text/plain": [
       "<Figure size 432x288 with 1 Axes>"
      ]
     },
     "metadata": {
      "needs_background": "light"
     },
     "output_type": "display_data"
    }
   ],
   "source": [
    "actual_data.pivot_table(index='platform', values='total_sales', aggfunc='sum').sort_values('total_sales', ascending=False).plot(kind='bar');"
   ]
  },
  {
   "cell_type": "markdown",
   "metadata": {},
   "source": [
    "За актуальный период у нас есть 10 \"живых\" платформ. Лидируют по продажам **PS4, XOne и 3DS** (последняя составляет всего ~30% от PS4)"
   ]
  },
  {
   "cell_type": "markdown",
   "metadata": {},
   "source": [
    "Для ответа на вопрос \"Какие платформы растут или падают?\" построим гистограмму распределения для каждой из платформы в актуальном периоде:"
   ]
  },
  {
   "cell_type": "code",
   "execution_count": 33,
   "metadata": {},
   "outputs": [
    {
     "data": {
      "image/png": "[encoded data removed]",
      "text/plain": [
       "<Figure size 432x288 with 1 Axes>"
      ]
     },
     "metadata": {
      "needs_background": "light"
     },
     "output_type": "display_data"
    }
   ],
   "source": [
    "actual_data.query('platform == \"PS4\"').pivot_table(index='year_of_release', values='total_sales', aggfunc='sum').plot(kind='bar', title='PS4');"
   ]
  },
  {
   "cell_type": "markdown",
   "metadata": {},
   "source": [
    "Общие продажи по платформе PS4 в 2015 году были максимальны, после пошли на спад."
   ]
  },
  {
   "cell_type": "code",
   "execution_count": 34,
   "metadata": {},
   "outputs": [
    {
     "data": {
      "image/png": "[encoded data removed]",
      "text/plain": [
       "<Figure size 432x288 with 1 Axes>"
      ]
     },
     "metadata": {
      "needs_background": "light"
     },
     "output_type": "display_data"
    }
   ],
   "source": [
    "actual_data.query('platform == \"XOne\"').pivot_table(index='year_of_release', values='total_sales', aggfunc='sum').plot(kind='bar', title='XOne');"
   ]
  },
  {
   "cell_type": "markdown",
   "metadata": {},
   "source": [
    "Общие продажи по платформе XOne в 2014-2015 году были максимальны, после пошли на спад."
   ]
  },
  {
   "cell_type": "code",
   "execution_count": 35,
   "metadata": {},
   "outputs": [
    {
     "data": {
      "image/png": "[encoded data removed]",
      "text/plain": [
       "<Figure size 432x288 with 1 Axes>"
      ]
     },
     "metadata": {
      "needs_background": "light"
     },
     "output_type": "display_data"
    }
   ],
   "source": [
    "actual_data.query('platform == \"3DS\"').pivot_table(index='year_of_release', values='total_sales', aggfunc='sum').plot(kind='bar', title='3DS');"
   ]
  },
  {
   "cell_type": "markdown",
   "metadata": {},
   "source": [
    "Общие продажи по платформе 3DS в 2014 году были максимальны, после пошли медленно на спад."
   ]
  },
  {
   "cell_type": "code",
   "execution_count": 36,
   "metadata": {},
   "outputs": [
    {
     "data": {
      "image/png": "[encoded data removed]",
      "text/plain": [
       "<Figure size 432x288 with 1 Axes>"
      ]
     },
     "metadata": {
      "needs_background": "light"
     },
     "output_type": "display_data"
    }
   ],
   "source": [
    "actual_data.query('platform == \"PS3\"').pivot_table(index='year_of_release', values='total_sales', aggfunc='sum').plot(kind='bar', title='PS3');"
   ]
  },
  {
   "cell_type": "markdown",
   "metadata": {},
   "source": [
    "Общие продажи по платформе PS3 в 2014 году были максимальны, после пошли резко на спад."
   ]
  },
  {
   "cell_type": "code",
   "execution_count": 37,
   "metadata": {},
   "outputs": [
    {
     "data": {
      "image/png": "[encoded data removed]",
      "text/plain": [
       "<Figure size 432x288 with 1 Axes>"
      ]
     },
     "metadata": {
      "needs_background": "light"
     },
     "output_type": "display_data"
    }
   ],
   "source": [
    "actual_data.query('platform == \"X360\"').pivot_table(index='year_of_release', values='total_sales', aggfunc='sum').plot(kind='bar', title='X360');"
   ]
  },
  {
   "cell_type": "markdown",
   "metadata": {},
   "source": [
    "Общие продажи по платформе X360 в 2014 году были максимальны, после пошли резко на спад."
   ]
  },
  {
   "cell_type": "code",
   "execution_count": 38,
   "metadata": {},
   "outputs": [
    {
     "data": {
      "image/png": "[encoded data removed]",
      "text/plain": [
       "<Figure size 432x288 with 1 Axes>"
      ]
     },
     "metadata": {
      "needs_background": "light"
     },
     "output_type": "display_data"
    }
   ],
   "source": [
    "actual_data.query('platform == \"WiiU\"').pivot_table(index='year_of_release', values='total_sales', aggfunc='sum').plot(kind='bar', title='WiiU');"
   ]
  },
  {
   "cell_type": "markdown",
   "metadata": {},
   "source": [
    "Общие продажи по платформе WiiU в 2014-2015 году были максимальны, после произошел резкий спад."
   ]
  },
  {
   "cell_type": "code",
   "execution_count": 39,
   "metadata": {},
   "outputs": [
    {
     "data": {
      "image/png": "[encoded data removed]",
      "text/plain": [
       "<Figure size 432x288 with 1 Axes>"
      ]
     },
     "metadata": {
      "needs_background": "light"
     },
     "output_type": "display_data"
    }
   ],
   "source": [
    "actual_data.query('platform == \"PC\"').pivot_table(index='year_of_release', values='total_sales', aggfunc='sum').plot(kind='bar', title='PC');"
   ]
  },
  {
   "cell_type": "markdown",
   "metadata": {},
   "source": [
    "Общие продажи по платформе PC в 2014 году были максимальны, после произошел медленный спад (почти в 2 раза)."
   ]
  },
  {
   "cell_type": "code",
   "execution_count": 40,
   "metadata": {},
   "outputs": [
    {
     "data": {
      "image/png": "[encoded data removed]",
      "text/plain": [
       "<Figure size 432x288 with 1 Axes>"
      ]
     },
     "metadata": {
      "needs_background": "light"
     },
     "output_type": "display_data"
    }
   ],
   "source": [
    "actual_data.query('platform == \"PSV\"').pivot_table(index='year_of_release', values='total_sales', aggfunc='sum').plot(kind='bar', title='PSV');"
   ]
  },
  {
   "cell_type": "markdown",
   "metadata": {},
   "source": [
    "Общие продажи по платформе PSV в 2014 году были максимальны, после резкий  спад (почти в 3 раза)."
   ]
  },
  {
   "cell_type": "code",
   "execution_count": 41,
   "metadata": {},
   "outputs": [
    {
     "data": {
      "image/png": "[encoded data removed]",
      "text/plain": [
       "<Figure size 432x288 with 1 Axes>"
      ]
     },
     "metadata": {
      "needs_background": "light"
     },
     "output_type": "display_data"
    }
   ],
   "source": [
    "actual_data.query('platform == \"PSV\"').pivot_table(index='year_of_release', values='total_sales', aggfunc='sum').plot(kind='bar', title='PSV');"
   ]
  },
  {
   "cell_type": "code",
   "execution_count": 42,
   "metadata": {},
   "outputs": [
    {
     "data": {
      "image/png": "[encoded data removed]",
      "text/plain": [
       "<Figure size 432x288 with 1 Axes>"
      ]
     },
     "metadata": {
      "needs_background": "light"
     },
     "output_type": "display_data"
    }
   ],
   "source": [
    "actual_data.query('platform == \"Wii\"').pivot_table(index='year_of_release', values='total_sales', aggfunc='sum').plot(kind='bar', title='Wii');"
   ]
  },
  {
   "cell_type": "markdown",
   "metadata": {},
   "source": [
    "Общие продажи по платформе Wii в 2014 году были максимальны, после резкий  спад (почти в 7 раза)."
   ]
  },
  {
   "cell_type": "code",
   "execution_count": 43,
   "metadata": {},
   "outputs": [
    {
     "data": {
      "image/png": "[encoded data removed]",
      "text/plain": [
       "<Figure size 432x288 with 1 Axes>"
      ]
     },
     "metadata": {
      "needs_background": "light"
     },
     "output_type": "display_data"
    }
   ],
   "source": [
    "actual_data.query('platform == \"PSP\"').pivot_table(index='year_of_release', values='total_sales', aggfunc='sum').plot(kind='bar', title='PSP');"
   ]
  },
  {
   "cell_type": "markdown",
   "metadata": {},
   "source": [
    "Общие продажи по платформе PSP в 2014 году были максимальны, после резкий  спад. Можем предположить, что по данной платформе нет данных за 2016 и продажи больше не происходят"
   ]
  },
  {
   "cell_type": "markdown",
   "metadata": {},
   "source": [
    "**Вывод** После исследования данных по платформам, и принимая тот факт, что у нас не полные данные по платформам за 2016 год. Можем предположить:\n",
    "<ul>\n",
    "<li> Стабильная ситуация и возможный рост возможен у следующих платформ: PS4, XOne, 3DS\n",
    " <li>   Тенденцию к снижеиню демонстрируют следующие платформы: WiiU, PC, PSV\n",
    " <li>   Потеряли свою актуальность (вывод сделан из-за резкого снижения продаж) : X360, PS3, Wii\n",
    " <li>   Платформу PSP счиатем не актуальной, так как по ней нет данных за 2016. </li>\n",
    "     \n",
    "     \n",
    "    \n",
    "Самые большие продажи у PS4, на втором месте XOne (ее продажи в 2 раза меньше)\n",
    "\n",
    "Хуже всего обстоят дела у PSP, его продажи почти в 500 раз меньше лидирующих\n"
   ]
  },
  {
   "cell_type": "markdown",
   "metadata": {},
   "source": [
    "<div class=\"alert alert-block alert-warning\">\n",
    " \n",
    "### Комментарий ревьюера\n",
    "    \n",
    "### Совет\n",
    "    \n",
    "Вышло у тебя хорошо, c выводами согласен.  Я бы только или черези цикл все выводил или показал все платформы на одном графике. Так было бы удобнее для сравнения. "
   ]
  },
  {
   "cell_type": "markdown",
   "metadata": {},
   "source": [
    "### График «ящик с усами» по глобальным продажам игр в разбивке по платформам"
   ]
  },
  {
   "cell_type": "code",
   "execution_count": 44,
   "metadata": {},
   "outputs": [
    {
     "data": {
      "text/html": [
       "<div>\n",
       "<style scoped>\n",
       "    .dataframe tbody tr th:only-of-type {\n",
       "        vertical-align: middle;\n",
       "    }\n",
       "\n",
       "    .dataframe tbody tr th {\n",
       "        vertical-align: top;\n",
       "    }\n",
       "\n",
       "    .dataframe thead th {\n",
       "        text-align: right;\n",
       "    }\n",
       "</style>\n",
       "<table border=\"1\" class=\"dataframe\">\n",
       "  <thead>\n",
       "    <tr style=\"text-align: right;\">\n",
       "      <th></th>\n",
       "      <th>count</th>\n",
       "      <th>mean</th>\n",
       "      <th>std</th>\n",
       "      <th>min</th>\n",
       "      <th>25%</th>\n",
       "      <th>50%</th>\n",
       "      <th>75%</th>\n",
       "      <th>max</th>\n",
       "    </tr>\n",
       "    <tr>\n",
       "      <th>platform</th>\n",
       "      <th></th>\n",
       "      <th></th>\n",
       "      <th></th>\n",
       "      <th></th>\n",
       "      <th></th>\n",
       "      <th></th>\n",
       "      <th></th>\n",
       "      <th></th>\n",
       "    </tr>\n",
       "  </thead>\n",
       "  <tbody>\n",
       "    <tr>\n",
       "      <th>3DS</th>\n",
       "      <td>212.0</td>\n",
       "      <td>0.408868</td>\n",
       "      <td>1.188368</td>\n",
       "      <td>0.01</td>\n",
       "      <td>0.0300</td>\n",
       "      <td>0.090</td>\n",
       "      <td>0.2500</td>\n",
       "      <td>11.68</td>\n",
       "    </tr>\n",
       "    <tr>\n",
       "      <th>PC</th>\n",
       "      <td>151.0</td>\n",
       "      <td>0.179139</td>\n",
       "      <td>0.329359</td>\n",
       "      <td>0.01</td>\n",
       "      <td>0.0200</td>\n",
       "      <td>0.060</td>\n",
       "      <td>0.2000</td>\n",
       "      <td>3.05</td>\n",
       "    </tr>\n",
       "    <tr>\n",
       "      <th>PS3</th>\n",
       "      <td>219.0</td>\n",
       "      <td>0.311324</td>\n",
       "      <td>0.633059</td>\n",
       "      <td>0.01</td>\n",
       "      <td>0.0400</td>\n",
       "      <td>0.110</td>\n",
       "      <td>0.3250</td>\n",
       "      <td>5.27</td>\n",
       "    </tr>\n",
       "    <tr>\n",
       "      <th>PS4</th>\n",
       "      <td>376.0</td>\n",
       "      <td>0.766356</td>\n",
       "      <td>1.614969</td>\n",
       "      <td>0.01</td>\n",
       "      <td>0.0575</td>\n",
       "      <td>0.185</td>\n",
       "      <td>0.6900</td>\n",
       "      <td>14.63</td>\n",
       "    </tr>\n",
       "    <tr>\n",
       "      <th>PSP</th>\n",
       "      <td>13.0</td>\n",
       "      <td>0.027692</td>\n",
       "      <td>0.027735</td>\n",
       "      <td>0.01</td>\n",
       "      <td>0.0100</td>\n",
       "      <td>0.020</td>\n",
       "      <td>0.0200</td>\n",
       "      <td>0.09</td>\n",
       "    </tr>\n",
       "    <tr>\n",
       "      <th>PSV</th>\n",
       "      <td>295.0</td>\n",
       "      <td>0.075932</td>\n",
       "      <td>0.141591</td>\n",
       "      <td>0.01</td>\n",
       "      <td>0.0200</td>\n",
       "      <td>0.040</td>\n",
       "      <td>0.0900</td>\n",
       "      <td>1.96</td>\n",
       "    </tr>\n",
       "    <tr>\n",
       "      <th>Wii</th>\n",
       "      <td>11.0</td>\n",
       "      <td>0.460909</td>\n",
       "      <td>0.625451</td>\n",
       "      <td>0.01</td>\n",
       "      <td>0.0350</td>\n",
       "      <td>0.180</td>\n",
       "      <td>0.7550</td>\n",
       "      <td>2.01</td>\n",
       "    </tr>\n",
       "    <tr>\n",
       "      <th>WiiU</th>\n",
       "      <td>73.0</td>\n",
       "      <td>0.588767</td>\n",
       "      <td>1.161467</td>\n",
       "      <td>0.01</td>\n",
       "      <td>0.0500</td>\n",
       "      <td>0.190</td>\n",
       "      <td>0.5700</td>\n",
       "      <td>7.09</td>\n",
       "    </tr>\n",
       "    <tr>\n",
       "      <th>X360</th>\n",
       "      <td>111.0</td>\n",
       "      <td>0.434414</td>\n",
       "      <td>0.628967</td>\n",
       "      <td>0.01</td>\n",
       "      <td>0.0700</td>\n",
       "      <td>0.180</td>\n",
       "      <td>0.5050</td>\n",
       "      <td>4.28</td>\n",
       "    </tr>\n",
       "    <tr>\n",
       "      <th>XOne</th>\n",
       "      <td>228.0</td>\n",
       "      <td>0.615614</td>\n",
       "      <td>1.046513</td>\n",
       "      <td>0.01</td>\n",
       "      <td>0.0500</td>\n",
       "      <td>0.205</td>\n",
       "      <td>0.6325</td>\n",
       "      <td>7.39</td>\n",
       "    </tr>\n",
       "  </tbody>\n",
       "</table>\n",
       "</div>"
      ],
      "text/plain": [
       "          count      mean       std   min     25%    50%     75%    max\n",
       "platform                                                               \n",
       "3DS       212.0  0.408868  1.188368  0.01  0.0300  0.090  0.2500  11.68\n",
       "PC        151.0  0.179139  0.329359  0.01  0.0200  0.060  0.2000   3.05\n",
       "PS3       219.0  0.311324  0.633059  0.01  0.0400  0.110  0.3250   5.27\n",
       "PS4       376.0  0.766356  1.614969  0.01  0.0575  0.185  0.6900  14.63\n",
       "PSP        13.0  0.027692  0.027735  0.01  0.0100  0.020  0.0200   0.09\n",
       "PSV       295.0  0.075932  0.141591  0.01  0.0200  0.040  0.0900   1.96\n",
       "Wii        11.0  0.460909  0.625451  0.01  0.0350  0.180  0.7550   2.01\n",
       "WiiU       73.0  0.588767  1.161467  0.01  0.0500  0.190  0.5700   7.09\n",
       "X360      111.0  0.434414  0.628967  0.01  0.0700  0.180  0.5050   4.28\n",
       "XOne      228.0  0.615614  1.046513  0.01  0.0500  0.205  0.6325   7.39"
      ]
     },
     "execution_count": 44,
     "metadata": {},
     "output_type": "execute_result"
    }
   ],
   "source": [
    "actual_data.groupby('platform')['total_sales'].describe()"
   ]
  },
  {
   "cell_type": "code",
   "execution_count": 45,
   "metadata": {},
   "outputs": [
    {
     "data": {
      "image/png": "[encoded data removed]",
      "text/plain": [
       "<Figure size 432x288 with 1 Axes>"
      ]
     },
     "metadata": {
      "needs_background": "light"
     },
     "output_type": "display_data"
    }
   ],
   "source": [
    "actual_data.groupby('platform')[['total_sales']].sum().boxplot();"
   ]
  },
  {
   "cell_type": "markdown",
   "metadata": {},
   "source": [
    "<div class=\"alert alert-block alert-info\">\n",
    "Рассмотрим каждую плтаформу на \"Ящике с усами\""
   ]
  },
  {
   "cell_type": "code",
   "execution_count": 46,
   "metadata": {},
   "outputs": [
    {
     "data": {
      "image/png": "[encoded data removed]",
      "text/plain": [
       "<Figure size 1440x1080 with 1 Axes>"
      ]
     },
     "metadata": {
      "needs_background": "light"
     },
     "output_type": "display_data"
    }
   ],
   "source": [
    "fig = plt.figure(figsize = (20,15))\n",
    "seaborn.boxplot(data = actual_data, y = 'total_sales', x='platform').set(title = 'Продажи по платформам за 2014-2016 гг',  ylim=(0, 2));\n"
   ]
  },
  {
   "cell_type": "markdown",
   "metadata": {},
   "source": [
    "<div class=\"alert alert-block alert-danger\">\n",
    " \n",
    "### Комментарий ревьюера\n",
    "    \n",
    "#### Ошибка\n",
    "    \n",
    "А вот здесь надо вывести не общий график, а показать каждую платформу на \"Ящике с усами\". "
   ]
  },
  {
   "cell_type": "markdown",
   "metadata": {},
   "source": [
    "<div class=\"alert alert-block alert-success\">\n",
    " \n",
    "# Комментарий ревьюера ver.2 \n",
    "    \n",
    "#### Успех\n",
    "    \n",
    "Исправлено "
   ]
  },
  {
   "cell_type": "markdown",
   "metadata": {},
   "source": [
    "**Вывод** У всех платформ наблюдается, что среднее значние продаж больше медианы, также они все имеют выбросы. Ящик с усами нам показывает, что в среднем по платформам верхняя граница не превышает 150, нижняя - нуля. Верхний и нижний квартили в среднем соответственно равны . Медиана примерно 50.\n",
    "\n",
    "Из данного анализа следует, что большей популярностью пользуются уже вышеуказанные платформы PS4, WiiU и XOne, их медианы и средние значения практически совпадают.\n"
   ]
  },
  {
   "cell_type": "markdown",
   "metadata": {},
   "source": [
    "### Влияние отзывов пользователей и критиков на продажи"
   ]
  },
  {
   "cell_type": "markdown",
   "metadata": {},
   "source": [
    "Рассмотрим платформу PS4. "
   ]
  },
  {
   "cell_type": "code",
   "execution_count": 47,
   "metadata": {},
   "outputs": [
    {
     "data": {
      "image/png": "[encoded data removed]",
      "text/plain": [
       "<Figure size 432x288 with 1 Axes>"
      ]
     },
     "metadata": {
      "needs_background": "light"
     },
     "output_type": "display_data"
    },
    {
     "data": {
      "image/png": "[encoded data removed]",
      "text/plain": [
       "<Figure size 432x288 with 1 Axes>"
      ]
     },
     "metadata": {
      "needs_background": "light"
     },
     "output_type": "display_data"
    }
   ],
   "source": [
    "ps4 = actual_data.query('platform == \"PS4\"')\n",
    "ps4.plot(x='user_score', y='total_sales', kind='scatter', alpha=0.3,title='Влияние отзывов пользователей на продажи');\n",
    "ps4[ps4['critic_score'] != -1].plot(kind='scatter', x='critic_score', y='total_sales',alpha = 0.3, title='Влияние отзывов критиков на продажи');\n"
   ]
  },
  {
   "cell_type": "markdown",
   "metadata": {},
   "source": [
    "Считаем корреляцию Пирсона"
   ]
  },
  {
   "cell_type": "code",
   "execution_count": 48,
   "metadata": {},
   "outputs": [
    {
     "data": {
      "text/plain": [
       "-0.040131589472697356"
      ]
     },
     "execution_count": 48,
     "metadata": {},
     "output_type": "execute_result"
    }
   ],
   "source": [
    "ps4['total_sales'].corr(ps4['user_score'])"
   ]
  },
  {
   "cell_type": "code",
   "execution_count": 49,
   "metadata": {},
   "outputs": [
    {
     "data": {
      "text/plain": [
       "0.2108468533672136"
      ]
     },
     "execution_count": 49,
     "metadata": {},
     "output_type": "execute_result"
    }
   ],
   "source": [
    "ps4['total_sales'].corr(ps4['critic_score'])"
   ]
  },
  {
   "cell_type": "markdown",
   "metadata": {},
   "source": [
    "<div class=\"alert alert-block alert-info\">\n",
    "Рассмотрим платформу WiiU."
   ]
  },
  {
   "cell_type": "code",
   "execution_count": 76,
   "metadata": {},
   "outputs": [
    {
     "data": {
      "image/png": "[encoded data removed]",
      "text/plain": [
       "<Figure size 432x288 with 1 Axes>"
      ]
     },
     "metadata": {
      "needs_background": "light"
     },
     "output_type": "display_data"
    },
    {
     "data": {
      "image/png": "[encoded data removed]",
      "text/plain": [
       "<Figure size 432x288 with 1 Axes>"
      ]
     },
     "metadata": {
      "needs_background": "light"
     },
     "output_type": "display_data"
    }
   ],
   "source": [
    "WiiU = actual_data.query('platform == \"WiiU\"')\n",
    "WiiU.plot(x='user_score', y='total_sales', kind='scatter', alpha=0.3,title='Влияние отзывов пользователей на продажи');\n",
    "WiiU[WiiU['critic_score'] != -1].plot(kind='scatter', x='critic_score', y='total_sales',alpha = 0.5, title='Влияние отзывов критиков на продажи');\n"
   ]
  },
  {
   "cell_type": "markdown",
   "metadata": {},
   "source": [
    "Считаем корреляцию Пирсона для WiiU"
   ]
  },
  {
   "cell_type": "code",
   "execution_count": 72,
   "metadata": {},
   "outputs": [
    {
     "data": {
      "text/plain": [
       "-0.0703839280647581"
      ]
     },
     "execution_count": 72,
     "metadata": {},
     "output_type": "execute_result"
    }
   ],
   "source": [
    "WiiU['total_sales'].corr(WiiU['user_score']) "
   ]
  },
  {
   "cell_type": "code",
   "execution_count": 73,
   "metadata": {},
   "outputs": [
    {
     "data": {
      "text/plain": [
       "0.27147591419241845"
      ]
     },
     "execution_count": 73,
     "metadata": {},
     "output_type": "execute_result"
    }
   ],
   "source": [
    "WiiU['total_sales'].corr(WiiU['critic_score'])"
   ]
  },
  {
   "cell_type": "markdown",
   "metadata": {},
   "source": [
    "Посчитаем коэффициент корреляции по всем плотформам не учитывая WiiU и PS4"
   ]
  },
  {
   "cell_type": "code",
   "execution_count": 75,
   "metadata": {},
   "outputs": [
    {
     "name": "stdout",
     "output_type": "stream",
     "text": [
      "0.14743773550475714\n"
     ]
    },
    {
     "data": {
      "text/plain": [
       "-0.08198447298822369"
      ]
     },
     "execution_count": 75,
     "metadata": {},
     "output_type": "execute_result"
    }
   ],
   "source": [
    "print(actual_data[(actual_data['platform'] != 'PS4') & (actual_data['platform'] != 'WiiU')]['total_sales'].corr(actual_data[actual_data['platform'] != 'PS4']['critic_score']))\n",
    "actual_data[(actual_data['platform'] != 'PS4') & (actual_data['platform'] != 'WiiU')]['total_sales'].corr(actual_data[actual_data['platform'] != 'PS4']['user_score'])"
   ]
  },
  {
   "cell_type": "markdown",
   "metadata": {},
   "source": [
    "<div class=\"alert alert-block alert-success\">\n",
    " \n",
    "### Комментарий ревьюера\n",
    "    \n",
    "#### Успех\n",
    "    \n",
    "Отличный способ визуализации зависимости на графике у тебя вышел. "
   ]
  },
  {
   "cell_type": "markdown",
   "metadata": {},
   "source": [
    "**Вывод** На диаграмме не обнаружено зависимости. Из чего мы можем сделать вывод что отзывы пользователей и критиков в значительной мере не влияют на продажи. Корреляция должна нам показать наличие (или отсутствие) линейной связи между total_sales и отзывами. У user_score коэффициент в среднем -0.081, это означает, что корреляция близка к 0, значит что первый парметр меняется, а второй нет.\n",
    "В случае с critic_score коэффициент в среднем равен 0.147, что показывает слабую зависимость между величинами.\n",
    "\n",
    "В остальных случаях значения коэффициента корреляции приблизительно соответствуют значениям платформы PS4 и WiiU, что позволяет нам сделать вывод, что нет связи между продажами и оценкой пользователей, и очень слабая прямая связь между продажами и оценками критиков.\n"
   ]
  },
  {
   "cell_type": "markdown",
   "metadata": {},
   "source": [
    "<div class=\"alert alert-block alert-danger\">\n",
    " \n",
    "### Комментарий ревьюера\n",
    "    \n",
    "#### Ошибка\n",
    "    \n",
    "Тут надо рассмотреть зависимость хотя бы еще от одной платформы. Так выводы будут выглядет убедительнее. "
   ]
  },
  {
   "cell_type": "markdown",
   "metadata": {},
   "source": [
    "<div class=\"alert alert-block alert-success\">\n",
    " \n",
    "# Комментарий ревьюера ver.2 \n",
    "    \n",
    "#### Успех\n",
    "    \n",
    "Вот так лучше "
   ]
  },
  {
   "cell_type": "markdown",
   "metadata": {},
   "source": [
    "### Выявление прибыльных жанров"
   ]
  },
  {
   "cell_type": "code",
   "execution_count": 54,
   "metadata": {},
   "outputs": [
    {
     "data": {
      "text/plain": [
       "Action          619\n",
       "Role-Playing    221\n",
       "Adventure       185\n",
       "Sports          161\n",
       "Shooter         128\n",
       "Misc            113\n",
       "Racing           69\n",
       "Fighting         60\n",
       "Simulation       44\n",
       "Platform         38\n",
       "Strategy         37\n",
       "Puzzle           14\n",
       "Name: genre, dtype: int64"
      ]
     },
     "execution_count": 54,
     "metadata": {},
     "output_type": "execute_result"
    }
   ],
   "source": [
    "actual_data['genre'].value_counts() # распределение по жанрам среди актуальных данных"
   ]
  },
  {
   "cell_type": "markdown",
   "metadata": {},
   "source": [
    "Больше всего игр представленно в жанре Action, второе и третье место занимают жанры Role-Playing и Adventure соответственно, стоит отметить, что они почти в треть отстают от \"лидера\""
   ]
  },
  {
   "cell_type": "code",
   "execution_count": 55,
   "metadata": {},
   "outputs": [
    {
     "data": {
      "text/html": [
       "<div>\n",
       "<style scoped>\n",
       "    .dataframe tbody tr th:only-of-type {\n",
       "        vertical-align: middle;\n",
       "    }\n",
       "\n",
       "    .dataframe tbody tr th {\n",
       "        vertical-align: top;\n",
       "    }\n",
       "\n",
       "    .dataframe thead th {\n",
       "        text-align: right;\n",
       "    }\n",
       "</style>\n",
       "<table border=\"1\" class=\"dataframe\">\n",
       "  <thead>\n",
       "    <tr style=\"text-align: right;\">\n",
       "      <th></th>\n",
       "      <th>total_sales</th>\n",
       "    </tr>\n",
       "    <tr>\n",
       "      <th>genre</th>\n",
       "      <th></th>\n",
       "    </tr>\n",
       "  </thead>\n",
       "  <tbody>\n",
       "    <tr>\n",
       "      <th>Action</th>\n",
       "      <td>199.36</td>\n",
       "    </tr>\n",
       "    <tr>\n",
       "      <th>Shooter</th>\n",
       "      <td>170.94</td>\n",
       "    </tr>\n",
       "    <tr>\n",
       "      <th>Sports</th>\n",
       "      <td>109.48</td>\n",
       "    </tr>\n",
       "    <tr>\n",
       "      <th>Role-Playing</th>\n",
       "      <td>101.44</td>\n",
       "    </tr>\n",
       "    <tr>\n",
       "      <th>Misc</th>\n",
       "      <td>37.55</td>\n",
       "    </tr>\n",
       "    <tr>\n",
       "      <th>Fighting</th>\n",
       "      <td>28.22</td>\n",
       "    </tr>\n",
       "    <tr>\n",
       "      <th>Racing</th>\n",
       "      <td>27.52</td>\n",
       "    </tr>\n",
       "    <tr>\n",
       "      <th>Platform</th>\n",
       "      <td>18.09</td>\n",
       "    </tr>\n",
       "    <tr>\n",
       "      <th>Adventure</th>\n",
       "      <td>17.55</td>\n",
       "    </tr>\n",
       "    <tr>\n",
       "      <th>Simulation</th>\n",
       "      <td>13.13</td>\n",
       "    </tr>\n",
       "    <tr>\n",
       "      <th>Strategy</th>\n",
       "      <td>3.96</td>\n",
       "    </tr>\n",
       "    <tr>\n",
       "      <th>Puzzle</th>\n",
       "      <td>2.21</td>\n",
       "    </tr>\n",
       "  </tbody>\n",
       "</table>\n",
       "</div>"
      ],
      "text/plain": [
       "              total_sales\n",
       "genre                    \n",
       "Action             199.36\n",
       "Shooter            170.94\n",
       "Sports             109.48\n",
       "Role-Playing       101.44\n",
       "Misc                37.55\n",
       "Fighting            28.22\n",
       "Racing              27.52\n",
       "Platform            18.09\n",
       "Adventure           17.55\n",
       "Simulation          13.13\n",
       "Strategy             3.96\n",
       "Puzzle               2.21"
      ]
     },
     "execution_count": 55,
     "metadata": {},
     "output_type": "execute_result"
    }
   ],
   "source": [
    "actual_data.pivot_table(index='genre', values='total_sales', aggfunc='sum').sort_values('total_sales', ascending=False)"
   ]
  },
  {
   "cell_type": "code",
   "execution_count": 56,
   "metadata": {},
   "outputs": [
    {
     "data": {
      "image/png": "[encoded data removed]",
      "text/plain": [
       "<Figure size 936x576 with 1 Axes>"
      ]
     },
     "metadata": {
      "needs_background": "light"
     },
     "output_type": "display_data"
    }
   ],
   "source": [
    "plt.figure(figsize=(13, 8))\n",
    "genre = actual_data.pivot_table(index='genre', values='total_sales', aggfunc='sum').sort_values('total_sales', ascending=False)\n",
    "seaborn.barplot(data = genre, x = genre.index, y = 'total_sales',).set(title = 'Средние продажи за 2014-2016');"
   ]
  },
  {
   "cell_type": "markdown",
   "metadata": {},
   "source": [
    "<div class=\"alert alert-block alert-info\">"
   ]
  },
  {
   "cell_type": "code",
   "execution_count": 57,
   "metadata": {},
   "outputs": [
    {
     "data": {
      "image/png": "[encoded data removed]",
      "text/plain": [
       "<Figure size 936x576 with 1 Axes>"
      ]
     },
     "metadata": {
      "needs_background": "light"
     },
     "output_type": "display_data"
    }
   ],
   "source": [
    "plt.figure(figsize=(13, 8))\n",
    "genre = actual_data.pivot_table(index='genre', values='total_sales', aggfunc='median').sort_values('total_sales', ascending=False)\n",
    "seaborn.barplot(data = genre, x = genre.index, y = 'total_sales',).set(title = 'Средние продажи за 2014-2016');"
   ]
  },
  {
   "cell_type": "code",
   "execution_count": 78,
   "metadata": {
    "scrolled": true
   },
   "outputs": [
    {
     "data": {
      "text/html": [
       "<div>\n",
       "<style scoped>\n",
       "    .dataframe tbody tr th:only-of-type {\n",
       "        vertical-align: middle;\n",
       "    }\n",
       "\n",
       "    .dataframe tbody tr th {\n",
       "        vertical-align: top;\n",
       "    }\n",
       "\n",
       "    .dataframe thead th {\n",
       "        text-align: right;\n",
       "    }\n",
       "</style>\n",
       "<table border=\"1\" class=\"dataframe\">\n",
       "  <thead>\n",
       "    <tr style=\"text-align: right;\">\n",
       "      <th></th>\n",
       "      <th>count</th>\n",
       "      <th>mean</th>\n",
       "      <th>std</th>\n",
       "      <th>min</th>\n",
       "      <th>25%</th>\n",
       "      <th>50%</th>\n",
       "      <th>75%</th>\n",
       "      <th>max</th>\n",
       "    </tr>\n",
       "    <tr>\n",
       "      <th>genre</th>\n",
       "      <th></th>\n",
       "      <th></th>\n",
       "      <th></th>\n",
       "      <th></th>\n",
       "      <th></th>\n",
       "      <th></th>\n",
       "      <th></th>\n",
       "      <th></th>\n",
       "    </tr>\n",
       "  </thead>\n",
       "  <tbody>\n",
       "    <tr>\n",
       "      <th>Action</th>\n",
       "      <td>619.0</td>\n",
       "      <td>0.322068</td>\n",
       "      <td>0.798181</td>\n",
       "      <td>0.01</td>\n",
       "      <td>0.0300</td>\n",
       "      <td>0.090</td>\n",
       "      <td>0.2800</td>\n",
       "      <td>12.62</td>\n",
       "    </tr>\n",
       "    <tr>\n",
       "      <th>Adventure</th>\n",
       "      <td>185.0</td>\n",
       "      <td>0.094865</td>\n",
       "      <td>0.203147</td>\n",
       "      <td>0.01</td>\n",
       "      <td>0.0200</td>\n",
       "      <td>0.030</td>\n",
       "      <td>0.0800</td>\n",
       "      <td>1.66</td>\n",
       "    </tr>\n",
       "    <tr>\n",
       "      <th>Fighting</th>\n",
       "      <td>60.0</td>\n",
       "      <td>0.470333</td>\n",
       "      <td>1.188053</td>\n",
       "      <td>0.01</td>\n",
       "      <td>0.0600</td>\n",
       "      <td>0.125</td>\n",
       "      <td>0.3200</td>\n",
       "      <td>7.55</td>\n",
       "    </tr>\n",
       "    <tr>\n",
       "      <th>Misc</th>\n",
       "      <td>113.0</td>\n",
       "      <td>0.332301</td>\n",
       "      <td>0.736999</td>\n",
       "      <td>0.01</td>\n",
       "      <td>0.0300</td>\n",
       "      <td>0.090</td>\n",
       "      <td>0.3200</td>\n",
       "      <td>5.27</td>\n",
       "    </tr>\n",
       "    <tr>\n",
       "      <th>Platform</th>\n",
       "      <td>38.0</td>\n",
       "      <td>0.476053</td>\n",
       "      <td>0.722561</td>\n",
       "      <td>0.01</td>\n",
       "      <td>0.0625</td>\n",
       "      <td>0.140</td>\n",
       "      <td>0.4675</td>\n",
       "      <td>3.21</td>\n",
       "    </tr>\n",
       "    <tr>\n",
       "      <th>Puzzle</th>\n",
       "      <td>14.0</td>\n",
       "      <td>0.157857</td>\n",
       "      <td>0.320629</td>\n",
       "      <td>0.01</td>\n",
       "      <td>0.0200</td>\n",
       "      <td>0.045</td>\n",
       "      <td>0.1000</td>\n",
       "      <td>1.19</td>\n",
       "    </tr>\n",
       "    <tr>\n",
       "      <th>Racing</th>\n",
       "      <td>69.0</td>\n",
       "      <td>0.398841</td>\n",
       "      <td>0.963716</td>\n",
       "      <td>0.01</td>\n",
       "      <td>0.0300</td>\n",
       "      <td>0.090</td>\n",
       "      <td>0.2500</td>\n",
       "      <td>7.09</td>\n",
       "    </tr>\n",
       "    <tr>\n",
       "      <th>Role-Playing</th>\n",
       "      <td>221.0</td>\n",
       "      <td>0.459005</td>\n",
       "      <td>1.177284</td>\n",
       "      <td>0.01</td>\n",
       "      <td>0.0500</td>\n",
       "      <td>0.110</td>\n",
       "      <td>0.3600</td>\n",
       "      <td>11.68</td>\n",
       "    </tr>\n",
       "    <tr>\n",
       "      <th>Shooter</th>\n",
       "      <td>128.0</td>\n",
       "      <td>1.335469</td>\n",
       "      <td>2.050567</td>\n",
       "      <td>0.01</td>\n",
       "      <td>0.1725</td>\n",
       "      <td>0.515</td>\n",
       "      <td>1.6175</td>\n",
       "      <td>14.63</td>\n",
       "    </tr>\n",
       "    <tr>\n",
       "      <th>Simulation</th>\n",
       "      <td>44.0</td>\n",
       "      <td>0.298409</td>\n",
       "      <td>0.646925</td>\n",
       "      <td>0.01</td>\n",
       "      <td>0.0200</td>\n",
       "      <td>0.100</td>\n",
       "      <td>0.3275</td>\n",
       "      <td>3.05</td>\n",
       "    </tr>\n",
       "    <tr>\n",
       "      <th>Sports</th>\n",
       "      <td>161.0</td>\n",
       "      <td>0.680000</td>\n",
       "      <td>1.239736</td>\n",
       "      <td>0.01</td>\n",
       "      <td>0.0600</td>\n",
       "      <td>0.180</td>\n",
       "      <td>0.6400</td>\n",
       "      <td>8.58</td>\n",
       "    </tr>\n",
       "    <tr>\n",
       "      <th>Strategy</th>\n",
       "      <td>37.0</td>\n",
       "      <td>0.107027</td>\n",
       "      <td>0.118412</td>\n",
       "      <td>0.01</td>\n",
       "      <td>0.0300</td>\n",
       "      <td>0.060</td>\n",
       "      <td>0.1400</td>\n",
       "      <td>0.52</td>\n",
       "    </tr>\n",
       "  </tbody>\n",
       "</table>\n",
       "</div>"
      ],
      "text/plain": [
       "              count      mean       std   min     25%    50%     75%    max\n",
       "genre                                                                      \n",
       "Action        619.0  0.322068  0.798181  0.01  0.0300  0.090  0.2800  12.62\n",
       "Adventure     185.0  0.094865  0.203147  0.01  0.0200  0.030  0.0800   1.66\n",
       "Fighting       60.0  0.470333  1.188053  0.01  0.0600  0.125  0.3200   7.55\n",
       "Misc          113.0  0.332301  0.736999  0.01  0.0300  0.090  0.3200   5.27\n",
       "Platform       38.0  0.476053  0.722561  0.01  0.0625  0.140  0.4675   3.21\n",
       "Puzzle         14.0  0.157857  0.320629  0.01  0.0200  0.045  0.1000   1.19\n",
       "Racing         69.0  0.398841  0.963716  0.01  0.0300  0.090  0.2500   7.09\n",
       "Role-Playing  221.0  0.459005  1.177284  0.01  0.0500  0.110  0.3600  11.68\n",
       "Shooter       128.0  1.335469  2.050567  0.01  0.1725  0.515  1.6175  14.63\n",
       "Simulation     44.0  0.298409  0.646925  0.01  0.0200  0.100  0.3275   3.05\n",
       "Sports        161.0  0.680000  1.239736  0.01  0.0600  0.180  0.6400   8.58\n",
       "Strategy       37.0  0.107027  0.118412  0.01  0.0300  0.060  0.1400   0.52"
      ]
     },
     "execution_count": 78,
     "metadata": {},
     "output_type": "execute_result"
    }
   ],
   "source": [
    "actual_data.groupby('genre')['total_sales'].describe()"
   ]
  },
  {
   "cell_type": "markdown",
   "metadata": {},
   "source": [
    "**Вывод** Общие продажи максимальны у **Action** и **Shooter**, очти в два раза привысили продажи по остальным жанрам. Так же можно отметить **Sports**, **Role-Playing** их показатели хуже лидирующих, но примерно в 3 и более раз лучше остальных \n",
    "\n",
    "У прибыльных жанров наблюдаем значительную разницу между средними и медианными значениями и большое значение стандартных отклонений, что свидетельствует о неоднородности данных.\n",
    "\n",
    "После рассмотрения медианных значений можно сделать вывод: жанром-лидером со стабильными продажами является **Shooter**.\n"
   ]
  },
  {
   "cell_type": "markdown",
   "metadata": {},
   "source": [
    "<div class=\"alert alert-block alert-danger\">\n",
    " \n",
    "### Комментарий ревьюера\n",
    "    \n",
    "#### Ошибка\n",
    "    \n",
    "Общие продажи - плохая метрика для поиска наиболее прибыльного жанра. За высокими показателями общих продаж может скрываться множество мелких игр с низкими продажами. Или 2-3 звезды и куча провалов. Лучше найти жанр, где игры стабильно приносят высокий доход - для этого стоит рассмотреть средние или медианные продажи"
   ]
  },
  {
   "cell_type": "markdown",
   "metadata": {},
   "source": [
    "<div class=\"alert alert-block alert-success\">\n",
    " \n",
    "# Комментарий ревьюера ver.2 \n",
    "    \n",
    "#### Успех\n",
    "    \n",
    "Сейчас исправлено. "
   ]
  },
  {
   "cell_type": "markdown",
   "metadata": {},
   "source": [
    "## Портрет пользователя каждорого региона"
   ]
  },
  {
   "cell_type": "markdown",
   "metadata": {},
   "source": [
    "### Самые популярные жанры (топ-5)."
   ]
  },
  {
   "cell_type": "markdown",
   "metadata": {},
   "source": [
    " **для пользователя каждого региона (NA, EU, JP):**"
   ]
  },
  {
   "cell_type": "code",
   "execution_count": 59,
   "metadata": {},
   "outputs": [
    {
     "data": {
      "text/html": [
       "<div>\n",
       "<style scoped>\n",
       "    .dataframe tbody tr th:only-of-type {\n",
       "        vertical-align: middle;\n",
       "    }\n",
       "\n",
       "    .dataframe tbody tr th {\n",
       "        vertical-align: top;\n",
       "    }\n",
       "\n",
       "    .dataframe thead th {\n",
       "        text-align: right;\n",
       "    }\n",
       "</style>\n",
       "<table border=\"1\" class=\"dataframe\">\n",
       "  <thead>\n",
       "    <tr style=\"text-align: right;\">\n",
       "      <th></th>\n",
       "      <th>na_sales</th>\n",
       "    </tr>\n",
       "    <tr>\n",
       "      <th>genre</th>\n",
       "      <th></th>\n",
       "    </tr>\n",
       "  </thead>\n",
       "  <tbody>\n",
       "    <tr>\n",
       "      <th>Shooter</th>\n",
       "      <td>79.02</td>\n",
       "    </tr>\n",
       "    <tr>\n",
       "      <th>Action</th>\n",
       "      <td>72.53</td>\n",
       "    </tr>\n",
       "    <tr>\n",
       "      <th>Sports</th>\n",
       "      <td>46.13</td>\n",
       "    </tr>\n",
       "    <tr>\n",
       "      <th>Role-Playing</th>\n",
       "      <td>33.47</td>\n",
       "    </tr>\n",
       "    <tr>\n",
       "      <th>Misc</th>\n",
       "      <td>15.05</td>\n",
       "    </tr>\n",
       "  </tbody>\n",
       "</table>\n",
       "</div>"
      ],
      "text/plain": [
       "              na_sales\n",
       "genre                 \n",
       "Shooter          79.02\n",
       "Action           72.53\n",
       "Sports           46.13\n",
       "Role-Playing     33.47\n",
       "Misc             15.05"
      ]
     },
     "execution_count": 59,
     "metadata": {},
     "output_type": "execute_result"
    }
   ],
   "source": [
    "# Для пользователя из Северной Америки\n",
    "top_genre_na = actual_data.pivot_table(index='genre', values='na_sales', aggfunc='sum').sort_values('na_sales', ascending=False)\n",
    "top_genre_na.head()"
   ]
  },
  {
   "cell_type": "markdown",
   "metadata": {},
   "source": [
    "В Северной Америке лидерамии продаж являются жанры Shooter и Action, их количество превышает другие жанры в 1,5 и более раз."
   ]
  },
  {
   "cell_type": "code",
   "execution_count": 60,
   "metadata": {},
   "outputs": [
    {
     "data": {
      "text/html": [
       "<div>\n",
       "<style scoped>\n",
       "    .dataframe tbody tr th:only-of-type {\n",
       "        vertical-align: middle;\n",
       "    }\n",
       "\n",
       "    .dataframe tbody tr th {\n",
       "        vertical-align: top;\n",
       "    }\n",
       "\n",
       "    .dataframe thead th {\n",
       "        text-align: right;\n",
       "    }\n",
       "</style>\n",
       "<table border=\"1\" class=\"dataframe\">\n",
       "  <thead>\n",
       "    <tr style=\"text-align: right;\">\n",
       "      <th></th>\n",
       "      <th>eu_sales</th>\n",
       "    </tr>\n",
       "    <tr>\n",
       "      <th>genre</th>\n",
       "      <th></th>\n",
       "    </tr>\n",
       "  </thead>\n",
       "  <tbody>\n",
       "    <tr>\n",
       "      <th>Action</th>\n",
       "      <td>74.68</td>\n",
       "    </tr>\n",
       "    <tr>\n",
       "      <th>Shooter</th>\n",
       "      <td>65.52</td>\n",
       "    </tr>\n",
       "    <tr>\n",
       "      <th>Sports</th>\n",
       "      <td>45.73</td>\n",
       "    </tr>\n",
       "    <tr>\n",
       "      <th>Role-Playing</th>\n",
       "      <td>28.17</td>\n",
       "    </tr>\n",
       "    <tr>\n",
       "      <th>Racing</th>\n",
       "      <td>14.13</td>\n",
       "    </tr>\n",
       "  </tbody>\n",
       "</table>\n",
       "</div>"
      ],
      "text/plain": [
       "              eu_sales\n",
       "genre                 \n",
       "Action           74.68\n",
       "Shooter          65.52\n",
       "Sports           45.73\n",
       "Role-Playing     28.17\n",
       "Racing           14.13"
      ]
     },
     "execution_count": 60,
     "metadata": {},
     "output_type": "execute_result"
    }
   ],
   "source": [
    "# Для пользователя из Европы\n",
    "top_genre_eu = actual_data.pivot_table(index='genre', values='eu_sales', aggfunc='sum').sort_values('eu_sales', ascending=False)\n",
    "top_genre_eu.head()"
   ]
  },
  {
   "cell_type": "markdown",
   "metadata": {},
   "source": [
    "В Европе лидером среди остальных является жанр Action. На втором месте Shooter. Закрывает тройку лидеров Sports, отстающий от лидера почти в 1,5 раза по количеству"
   ]
  },
  {
   "cell_type": "code",
   "execution_count": 61,
   "metadata": {},
   "outputs": [
    {
     "data": {
      "text/html": [
       "<div>\n",
       "<style scoped>\n",
       "    .dataframe tbody tr th:only-of-type {\n",
       "        vertical-align: middle;\n",
       "    }\n",
       "\n",
       "    .dataframe tbody tr th {\n",
       "        vertical-align: top;\n",
       "    }\n",
       "\n",
       "    .dataframe thead th {\n",
       "        text-align: right;\n",
       "    }\n",
       "</style>\n",
       "<table border=\"1\" class=\"dataframe\">\n",
       "  <thead>\n",
       "    <tr style=\"text-align: right;\">\n",
       "      <th></th>\n",
       "      <th>jp_sales</th>\n",
       "    </tr>\n",
       "    <tr>\n",
       "      <th>genre</th>\n",
       "      <th></th>\n",
       "    </tr>\n",
       "  </thead>\n",
       "  <tbody>\n",
       "    <tr>\n",
       "      <th>Role-Playing</th>\n",
       "      <td>31.16</td>\n",
       "    </tr>\n",
       "    <tr>\n",
       "      <th>Action</th>\n",
       "      <td>29.58</td>\n",
       "    </tr>\n",
       "    <tr>\n",
       "      <th>Fighting</th>\n",
       "      <td>6.37</td>\n",
       "    </tr>\n",
       "    <tr>\n",
       "      <th>Misc</th>\n",
       "      <td>5.61</td>\n",
       "    </tr>\n",
       "    <tr>\n",
       "      <th>Shooter</th>\n",
       "      <td>4.87</td>\n",
       "    </tr>\n",
       "  </tbody>\n",
       "</table>\n",
       "</div>"
      ],
      "text/plain": [
       "              jp_sales\n",
       "genre                 \n",
       "Role-Playing     31.16\n",
       "Action           29.58\n",
       "Fighting          6.37\n",
       "Misc              5.61\n",
       "Shooter           4.87"
      ]
     },
     "execution_count": 61,
     "metadata": {},
     "output_type": "execute_result"
    }
   ],
   "source": [
    "# Для пользователя из Японии\n",
    "top_genre_jp = actual_data.pivot_table(index='genre', values='jp_sales', aggfunc='sum').sort_values('jp_sales', ascending=False)\n",
    "top_genre_jp.head() "
   ]
  },
  {
   "cell_type": "markdown",
   "metadata": {},
   "source": [
    "В Японии показатели меньше по сравнению с другими регионами (почти в 2 раза), но это не мешает определить популярные жанры. С большим приемущестовм (более чем в 3 раза) популярными жанрами является Role-Playing и Action."
   ]
  },
  {
   "cell_type": "markdown",
   "metadata": {},
   "source": [
    "**Вывод**  Во всех трех регионах в лидерах присутствует жанр Action, в NA около 73 млн.шт, в EU - 75, в JP - 30. Это хорошие показатели. Жанр Shooter, не во всех регионах показал лидирующие позиции, но вошел в 5 везде. Так в Америке игр с данным жанром почти 80 млн, в Европе - 66. С меньшим количеством, но все рав но присутствует в пятерке во всех регионах жанр Role-Playing (31 млн в Японии, 28 в Европе, 33 в Америке) \n"
   ]
  },
  {
   "cell_type": "markdown",
   "metadata": {},
   "source": [
    "### Самые популярные платформы (топ-5)"
   ]
  },
  {
   "cell_type": "code",
   "execution_count": 62,
   "metadata": {},
   "outputs": [
    {
     "data": {
      "text/html": [
       "<div>\n",
       "<style scoped>\n",
       "    .dataframe tbody tr th:only-of-type {\n",
       "        vertical-align: middle;\n",
       "    }\n",
       "\n",
       "    .dataframe tbody tr th {\n",
       "        vertical-align: top;\n",
       "    }\n",
       "\n",
       "    .dataframe thead th {\n",
       "        text-align: right;\n",
       "    }\n",
       "</style>\n",
       "<table border=\"1\" class=\"dataframe\">\n",
       "  <thead>\n",
       "    <tr style=\"text-align: right;\">\n",
       "      <th></th>\n",
       "      <th>na_sales</th>\n",
       "    </tr>\n",
       "    <tr>\n",
       "      <th>platform</th>\n",
       "      <th></th>\n",
       "    </tr>\n",
       "  </thead>\n",
       "  <tbody>\n",
       "    <tr>\n",
       "      <th>PS4</th>\n",
       "      <td>98.61</td>\n",
       "    </tr>\n",
       "    <tr>\n",
       "      <th>XOne</th>\n",
       "      <td>81.27</td>\n",
       "    </tr>\n",
       "    <tr>\n",
       "      <th>X360</th>\n",
       "      <td>28.30</td>\n",
       "    </tr>\n",
       "    <tr>\n",
       "      <th>3DS</th>\n",
       "      <td>22.64</td>\n",
       "    </tr>\n",
       "    <tr>\n",
       "      <th>PS3</th>\n",
       "      <td>22.05</td>\n",
       "    </tr>\n",
       "  </tbody>\n",
       "</table>\n",
       "</div>"
      ],
      "text/plain": [
       "          na_sales\n",
       "platform          \n",
       "PS4          98.61\n",
       "XOne         81.27\n",
       "X360         28.30\n",
       "3DS          22.64\n",
       "PS3          22.05"
      ]
     },
     "execution_count": 62,
     "metadata": {},
     "output_type": "execute_result"
    }
   ],
   "source": [
    "# Для пользователя из Северной Америки\n",
    "top_platf_na = actual_data.pivot_table(index='platform', values='na_sales', aggfunc='sum').sort_values('na_sales', ascending=False)\n",
    "top_platf_na.head()"
   ]
  },
  {
   "cell_type": "markdown",
   "metadata": {},
   "source": [
    "В Северной Америке явными лидерами являются платформы PS4 и XOne, их количество продаж составляет 99 и 81 млн шт соответственно "
   ]
  },
  {
   "cell_type": "code",
   "execution_count": 63,
   "metadata": {},
   "outputs": [
    {
     "data": {
      "text/html": [
       "<div>\n",
       "<style scoped>\n",
       "    .dataframe tbody tr th:only-of-type {\n",
       "        vertical-align: middle;\n",
       "    }\n",
       "\n",
       "    .dataframe tbody tr th {\n",
       "        vertical-align: top;\n",
       "    }\n",
       "\n",
       "    .dataframe thead th {\n",
       "        text-align: right;\n",
       "    }\n",
       "</style>\n",
       "<table border=\"1\" class=\"dataframe\">\n",
       "  <thead>\n",
       "    <tr style=\"text-align: right;\">\n",
       "      <th></th>\n",
       "      <th>eu_sales</th>\n",
       "    </tr>\n",
       "    <tr>\n",
       "      <th>platform</th>\n",
       "      <th></th>\n",
       "    </tr>\n",
       "  </thead>\n",
       "  <tbody>\n",
       "    <tr>\n",
       "      <th>PS4</th>\n",
       "      <td>130.04</td>\n",
       "    </tr>\n",
       "    <tr>\n",
       "      <th>XOne</th>\n",
       "      <td>46.25</td>\n",
       "    </tr>\n",
       "    <tr>\n",
       "      <th>PS3</th>\n",
       "      <td>25.54</td>\n",
       "    </tr>\n",
       "    <tr>\n",
       "      <th>PC</th>\n",
       "      <td>17.97</td>\n",
       "    </tr>\n",
       "    <tr>\n",
       "      <th>3DS</th>\n",
       "      <td>16.12</td>\n",
       "    </tr>\n",
       "  </tbody>\n",
       "</table>\n",
       "</div>"
      ],
      "text/plain": [
       "          eu_sales\n",
       "platform          \n",
       "PS4         130.04\n",
       "XOne         46.25\n",
       "PS3          25.54\n",
       "PC           17.97\n",
       "3DS          16.12"
      ]
     },
     "execution_count": 63,
     "metadata": {},
     "output_type": "execute_result"
    }
   ],
   "source": [
    "# Для пользователя из Европы\n",
    "top_platf_eu = actual_data.pivot_table(index='platform', values='eu_sales', aggfunc='sum').sort_values('eu_sales', ascending=False)\n",
    "top_platf_eu.head()"
   ]
  },
  {
   "cell_type": "markdown",
   "metadata": {},
   "source": [
    "В Европе абсолютным лидером является PS4 с количеством продаж - 130 млн"
   ]
  },
  {
   "cell_type": "code",
   "execution_count": 64,
   "metadata": {},
   "outputs": [
    {
     "data": {
      "text/html": [
       "<div>\n",
       "<style scoped>\n",
       "    .dataframe tbody tr th:only-of-type {\n",
       "        vertical-align: middle;\n",
       "    }\n",
       "\n",
       "    .dataframe tbody tr th {\n",
       "        vertical-align: top;\n",
       "    }\n",
       "\n",
       "    .dataframe thead th {\n",
       "        text-align: right;\n",
       "    }\n",
       "</style>\n",
       "<table border=\"1\" class=\"dataframe\">\n",
       "  <thead>\n",
       "    <tr style=\"text-align: right;\">\n",
       "      <th></th>\n",
       "      <th>jp_sales</th>\n",
       "    </tr>\n",
       "    <tr>\n",
       "      <th>platform</th>\n",
       "      <th></th>\n",
       "    </tr>\n",
       "  </thead>\n",
       "  <tbody>\n",
       "    <tr>\n",
       "      <th>3DS</th>\n",
       "      <td>44.24</td>\n",
       "    </tr>\n",
       "    <tr>\n",
       "      <th>PS4</th>\n",
       "      <td>15.02</td>\n",
       "    </tr>\n",
       "    <tr>\n",
       "      <th>PSV</th>\n",
       "      <td>14.54</td>\n",
       "    </tr>\n",
       "    <tr>\n",
       "      <th>PS3</th>\n",
       "      <td>11.22</td>\n",
       "    </tr>\n",
       "    <tr>\n",
       "      <th>WiiU</th>\n",
       "      <td>7.31</td>\n",
       "    </tr>\n",
       "  </tbody>\n",
       "</table>\n",
       "</div>"
      ],
      "text/plain": [
       "          jp_sales\n",
       "platform          \n",
       "3DS          44.24\n",
       "PS4          15.02\n",
       "PSV          14.54\n",
       "PS3          11.22\n",
       "WiiU          7.31"
      ]
     },
     "execution_count": 64,
     "metadata": {},
     "output_type": "execute_result"
    }
   ],
   "source": [
    "# Для пользователя из Японии\n",
    "top_platf_jp = actual_data.pivot_table(index='platform', values='jp_sales', aggfunc='sum').sort_values('jp_sales', ascending=False)\n",
    "top_platf_jp.head() "
   ]
  },
  {
   "cell_type": "markdown",
   "metadata": {},
   "source": [
    "Лидером среди плафтформ в Японии является 3DS,доля продаж по этой платформе составила 44 млн. Примерно одинаковые значение (от 10 млн до 15 млн) имеют платформы PS4, PSV и PS3\t"
   ]
  },
  {
   "cell_type": "markdown",
   "metadata": {},
   "source": [
    "**Вывод** В Европе и Америке большей популярностью пользуется платформа PS4, в Японии она тоже входит в топ 5, но спрос на нее меньше. В то время как лидирующая в Японии платформа 3DS в других регионах занимает 4 и 5 место.\n",
    "\n",
    "Исходя из полученных данных этого мы можем сделать вывод, что полпулярностью в Японии пользуются другие платформы, не такие как в других регионах"
   ]
  },
  {
   "cell_type": "markdown",
   "metadata": {},
   "source": [
    "<div class=\"alert alert-block alert-success\">\n",
    " \n",
    "### Комментарий ревьюера\n",
    "    \n",
    "#### Успех\n",
    "    \n",
    "Первое представление о региональных особенностях получено. Здорово. "
   ]
  },
  {
   "cell_type": "markdown",
   "metadata": {},
   "source": [
    "### Влияет ли рейтинг ESRB на продажи в отдельном регионе?"
   ]
  },
  {
   "cell_type": "code",
   "execution_count": 65,
   "metadata": {},
   "outputs": [
    {
     "data": {
      "text/html": [
       "<div>\n",
       "<style scoped>\n",
       "    .dataframe tbody tr th:only-of-type {\n",
       "        vertical-align: middle;\n",
       "    }\n",
       "\n",
       "    .dataframe tbody tr th {\n",
       "        vertical-align: top;\n",
       "    }\n",
       "\n",
       "    .dataframe thead th {\n",
       "        text-align: right;\n",
       "    }\n",
       "</style>\n",
       "<table border=\"1\" class=\"dataframe\">\n",
       "  <thead>\n",
       "    <tr style=\"text-align: right;\">\n",
       "      <th></th>\n",
       "      <th></th>\n",
       "      <th>na_sales</th>\n",
       "    </tr>\n",
       "    <tr>\n",
       "      <th>platform</th>\n",
       "      <th>rating</th>\n",
       "      <th></th>\n",
       "    </tr>\n",
       "  </thead>\n",
       "  <tbody>\n",
       "    <tr>\n",
       "      <th>XOne</th>\n",
       "      <th>M</th>\n",
       "      <td>38.42</td>\n",
       "    </tr>\n",
       "    <tr>\n",
       "      <th rowspan=\"3\" valign=\"top\">PS4</th>\n",
       "      <th>M</th>\n",
       "      <td>37.72</td>\n",
       "    </tr>\n",
       "    <tr>\n",
       "      <th>Unknown</th>\n",
       "      <td>23.31</td>\n",
       "    </tr>\n",
       "    <tr>\n",
       "      <th>T</th>\n",
       "      <td>16.38</td>\n",
       "    </tr>\n",
       "    <tr>\n",
       "      <th>XOne</th>\n",
       "      <th>Unknown</th>\n",
       "      <td>14.41</td>\n",
       "    </tr>\n",
       "    <tr>\n",
       "      <th>PS4</th>\n",
       "      <th>E</th>\n",
       "      <td>14.38</td>\n",
       "    </tr>\n",
       "    <tr>\n",
       "      <th>3DS</th>\n",
       "      <th>Unknown</th>\n",
       "      <td>13.32</td>\n",
       "    </tr>\n",
       "    <tr>\n",
       "      <th rowspan=\"2\" valign=\"top\">XOne</th>\n",
       "      <th>E</th>\n",
       "      <td>10.97</td>\n",
       "    </tr>\n",
       "    <tr>\n",
       "      <th>T</th>\n",
       "      <td>10.06</td>\n",
       "    </tr>\n",
       "    <tr>\n",
       "      <th>X360</th>\n",
       "      <th>M</th>\n",
       "      <td>8.62</td>\n",
       "    </tr>\n",
       "    <tr>\n",
       "      <th>WiiU</th>\n",
       "      <th>E</th>\n",
       "      <td>7.90</td>\n",
       "    </tr>\n",
       "    <tr>\n",
       "      <th>XOne</th>\n",
       "      <th>E10+</th>\n",
       "      <td>7.41</td>\n",
       "    </tr>\n",
       "    <tr>\n",
       "      <th>X360</th>\n",
       "      <th>E</th>\n",
       "      <td>7.28</td>\n",
       "    </tr>\n",
       "    <tr>\n",
       "      <th>PS4</th>\n",
       "      <th>E10+</th>\n",
       "      <td>6.82</td>\n",
       "    </tr>\n",
       "    <tr>\n",
       "      <th>PS3</th>\n",
       "      <th>E</th>\n",
       "      <td>5.66</td>\n",
       "    </tr>\n",
       "  </tbody>\n",
       "</table>\n",
       "</div>"
      ],
      "text/plain": [
       "                  na_sales\n",
       "platform rating           \n",
       "XOne     M           38.42\n",
       "PS4      M           37.72\n",
       "         Unknown     23.31\n",
       "         T           16.38\n",
       "XOne     Unknown     14.41\n",
       "PS4      E           14.38\n",
       "3DS      Unknown     13.32\n",
       "XOne     E           10.97\n",
       "         T           10.06\n",
       "X360     M            8.62\n",
       "WiiU     E            7.90\n",
       "XOne     E10+         7.41\n",
       "X360     E            7.28\n",
       "PS4      E10+         6.82\n",
       "PS3      E            5.66"
      ]
     },
     "execution_count": 65,
     "metadata": {},
     "output_type": "execute_result"
    }
   ],
   "source": [
    "# Для пользователя из Северной Америки\n",
    "top_rating_na = actual_data.pivot_table(index=['platform', 'rating'], values='na_sales', aggfunc='sum').sort_values('na_sales', ascending=False)\n",
    "top_rating_na.head(15)"
   ]
  },
  {
   "cell_type": "markdown",
   "metadata": {},
   "source": [
    "**Вывод** В Северной Америке у наиболее популярных платформ стоит рейтинг М, затем Т, Е и Е10+ "
   ]
  },
  {
   "cell_type": "code",
   "execution_count": 66,
   "metadata": {},
   "outputs": [
    {
     "data": {
      "text/html": [
       "<div>\n",
       "<style scoped>\n",
       "    .dataframe tbody tr th:only-of-type {\n",
       "        vertical-align: middle;\n",
       "    }\n",
       "\n",
       "    .dataframe tbody tr th {\n",
       "        vertical-align: top;\n",
       "    }\n",
       "\n",
       "    .dataframe thead th {\n",
       "        text-align: right;\n",
       "    }\n",
       "</style>\n",
       "<table border=\"1\" class=\"dataframe\">\n",
       "  <thead>\n",
       "    <tr style=\"text-align: right;\">\n",
       "      <th></th>\n",
       "      <th></th>\n",
       "      <th>eu_sales</th>\n",
       "    </tr>\n",
       "    <tr>\n",
       "      <th>platform</th>\n",
       "      <th>rating</th>\n",
       "      <th></th>\n",
       "    </tr>\n",
       "  </thead>\n",
       "  <tbody>\n",
       "    <tr>\n",
       "      <th rowspan=\"3\" valign=\"top\">PS4</th>\n",
       "      <th>M</th>\n",
       "      <td>52.81</td>\n",
       "    </tr>\n",
       "    <tr>\n",
       "      <th>Unknown</th>\n",
       "      <td>27.69</td>\n",
       "    </tr>\n",
       "    <tr>\n",
       "      <th>E</th>\n",
       "      <td>25.14</td>\n",
       "    </tr>\n",
       "    <tr>\n",
       "      <th>XOne</th>\n",
       "      <th>M</th>\n",
       "      <td>21.06</td>\n",
       "    </tr>\n",
       "    <tr>\n",
       "      <th>PS4</th>\n",
       "      <th>T</th>\n",
       "      <td>18.31</td>\n",
       "    </tr>\n",
       "    <tr>\n",
       "      <th>3DS</th>\n",
       "      <th>Unknown</th>\n",
       "      <td>8.96</td>\n",
       "    </tr>\n",
       "    <tr>\n",
       "      <th rowspan=\"2\" valign=\"top\">XOne</th>\n",
       "      <th>E</th>\n",
       "      <td>8.74</td>\n",
       "    </tr>\n",
       "    <tr>\n",
       "      <th>Unknown</th>\n",
       "      <td>8.12</td>\n",
       "    </tr>\n",
       "    <tr>\n",
       "      <th>PS3</th>\n",
       "      <th>E</th>\n",
       "      <td>7.62</td>\n",
       "    </tr>\n",
       "    <tr>\n",
       "      <th>PC</th>\n",
       "      <th>M</th>\n",
       "      <td>7.48</td>\n",
       "    </tr>\n",
       "    <tr>\n",
       "      <th>PS3</th>\n",
       "      <th>M</th>\n",
       "      <td>6.66</td>\n",
       "    </tr>\n",
       "    <tr>\n",
       "      <th>PS4</th>\n",
       "      <th>E10+</th>\n",
       "      <td>6.09</td>\n",
       "    </tr>\n",
       "    <tr>\n",
       "      <th>PS3</th>\n",
       "      <th>Unknown</th>\n",
       "      <td>5.85</td>\n",
       "    </tr>\n",
       "    <tr>\n",
       "      <th>WiiU</th>\n",
       "      <th>E</th>\n",
       "      <td>5.59</td>\n",
       "    </tr>\n",
       "    <tr>\n",
       "      <th>XOne</th>\n",
       "      <th>T</th>\n",
       "      <td>4.99</td>\n",
       "    </tr>\n",
       "  </tbody>\n",
       "</table>\n",
       "</div>"
      ],
      "text/plain": [
       "                  eu_sales\n",
       "platform rating           \n",
       "PS4      M           52.81\n",
       "         Unknown     27.69\n",
       "         E           25.14\n",
       "XOne     M           21.06\n",
       "PS4      T           18.31\n",
       "3DS      Unknown      8.96\n",
       "XOne     E            8.74\n",
       "         Unknown      8.12\n",
       "PS3      E            7.62\n",
       "PC       M            7.48\n",
       "PS3      M            6.66\n",
       "PS4      E10+         6.09\n",
       "PS3      Unknown      5.85\n",
       "WiiU     E            5.59\n",
       "XOne     T            4.99"
      ]
     },
     "execution_count": 66,
     "metadata": {},
     "output_type": "execute_result"
    }
   ],
   "source": [
    "# Для пользователя из Европы\n",
    "top_rating_eu = actual_data.pivot_table(index=['platform', 'rating'], values='eu_sales', aggfunc='sum').sort_values('eu_sales', ascending=False)\n",
    "top_rating_eu.head(15)"
   ]
  },
  {
   "cell_type": "markdown",
   "metadata": {},
   "source": [
    "**Вывод**  В Европе у наиболее популярных платформ стоит рейтинг М, затем Т и Е "
   ]
  },
  {
   "cell_type": "code",
   "execution_count": 67,
   "metadata": {},
   "outputs": [
    {
     "data": {
      "text/html": [
       "<div>\n",
       "<style scoped>\n",
       "    .dataframe tbody tr th:only-of-type {\n",
       "        vertical-align: middle;\n",
       "    }\n",
       "\n",
       "    .dataframe tbody tr th {\n",
       "        vertical-align: top;\n",
       "    }\n",
       "\n",
       "    .dataframe thead th {\n",
       "        text-align: right;\n",
       "    }\n",
       "</style>\n",
       "<table border=\"1\" class=\"dataframe\">\n",
       "  <thead>\n",
       "    <tr style=\"text-align: right;\">\n",
       "      <th></th>\n",
       "      <th></th>\n",
       "      <th>jp_sales</th>\n",
       "    </tr>\n",
       "    <tr>\n",
       "      <th>platform</th>\n",
       "      <th>rating</th>\n",
       "      <th></th>\n",
       "    </tr>\n",
       "  </thead>\n",
       "  <tbody>\n",
       "    <tr>\n",
       "      <th>3DS</th>\n",
       "      <th>Unknown</th>\n",
       "      <td>33.24</td>\n",
       "    </tr>\n",
       "    <tr>\n",
       "      <th>PSV</th>\n",
       "      <th>Unknown</th>\n",
       "      <td>9.36</td>\n",
       "    </tr>\n",
       "    <tr>\n",
       "      <th>PS4</th>\n",
       "      <th>Unknown</th>\n",
       "      <td>6.25</td>\n",
       "    </tr>\n",
       "    <tr>\n",
       "      <th>PS3</th>\n",
       "      <th>Unknown</th>\n",
       "      <td>6.10</td>\n",
       "    </tr>\n",
       "    <tr>\n",
       "      <th>PS4</th>\n",
       "      <th>M</th>\n",
       "      <td>4.87</td>\n",
       "    </tr>\n",
       "    <tr>\n",
       "      <th rowspan=\"2\" valign=\"top\">3DS</th>\n",
       "      <th>T</th>\n",
       "      <td>4.57</td>\n",
       "    </tr>\n",
       "    <tr>\n",
       "      <th>E</th>\n",
       "      <td>4.07</td>\n",
       "    </tr>\n",
       "    <tr>\n",
       "      <th>PSV</th>\n",
       "      <th>T</th>\n",
       "      <td>4.05</td>\n",
       "    </tr>\n",
       "    <tr>\n",
       "      <th>WiiU</th>\n",
       "      <th>E</th>\n",
       "      <td>3.42</td>\n",
       "    </tr>\n",
       "    <tr>\n",
       "      <th>PS4</th>\n",
       "      <th>T</th>\n",
       "      <td>2.97</td>\n",
       "    </tr>\n",
       "    <tr>\n",
       "      <th>PS3</th>\n",
       "      <th>T</th>\n",
       "      <td>2.78</td>\n",
       "    </tr>\n",
       "    <tr>\n",
       "      <th>3DS</th>\n",
       "      <th>E10+</th>\n",
       "      <td>1.99</td>\n",
       "    </tr>\n",
       "    <tr>\n",
       "      <th>WiiU</th>\n",
       "      <th>E10+</th>\n",
       "      <td>1.81</td>\n",
       "    </tr>\n",
       "    <tr>\n",
       "      <th>PS3</th>\n",
       "      <th>M</th>\n",
       "      <td>1.55</td>\n",
       "    </tr>\n",
       "    <tr>\n",
       "      <th>WiiU</th>\n",
       "      <th>Unknown</th>\n",
       "      <td>1.53</td>\n",
       "    </tr>\n",
       "  </tbody>\n",
       "</table>\n",
       "</div>"
      ],
      "text/plain": [
       "                  jp_sales\n",
       "platform rating           \n",
       "3DS      Unknown     33.24\n",
       "PSV      Unknown      9.36\n",
       "PS4      Unknown      6.25\n",
       "PS3      Unknown      6.10\n",
       "PS4      M            4.87\n",
       "3DS      T            4.57\n",
       "         E            4.07\n",
       "PSV      T            4.05\n",
       "WiiU     E            3.42\n",
       "PS4      T            2.97\n",
       "PS3      T            2.78\n",
       "3DS      E10+         1.99\n",
       "WiiU     E10+         1.81\n",
       "PS3      M            1.55\n",
       "WiiU     Unknown      1.53"
      ]
     },
     "execution_count": 67,
     "metadata": {},
     "output_type": "execute_result"
    }
   ],
   "source": [
    "# Для пользователя из Японии\n",
    "top_rating_jp = actual_data.pivot_table(index=['platform', 'rating'], values='jp_sales', aggfunc='sum').sort_values('jp_sales', ascending=False)\n",
    "top_rating_jp.head(15)"
   ]
  },
  {
   "cell_type": "markdown",
   "metadata": {},
   "source": [
    "**Вывод**  В Японии у наиболее популярных платформ зачастую не определен рейтинг.Чем платформа менее популярна тем вероятнее, что ее рейтинг будет M, T или E10+"
   ]
  },
  {
   "cell_type": "markdown",
   "metadata": {},
   "source": [
    "<div class=\"alert alert-block alert-success\">\n",
    " \n",
    "### Комментарий ревьюера\n",
    "    \n",
    "#### Успех\n",
    "    \n",
    "Теперь мы точно знаем, что каждый из регионов по-своему особенный. "
   ]
  },
  {
   "cell_type": "markdown",
   "metadata": {},
   "source": []
  },
  {
   "cell_type": "markdown",
   "metadata": {},
   "source": [
    "## Проверка гипотез"
   ]
  },
  {
   "cell_type": "markdown",
   "metadata": {},
   "source": [
    "### Средние пользовательские рейтинги платформ Xbox One и PC одинаковые"
   ]
  },
  {
   "cell_type": "markdown",
   "metadata": {},
   "source": [
    "**Нулевая гипотеза:** средние пользовательские рейтинги платформ Xbox One равны средним пользовательским рейтингам платформы PC. \n",
    "\n",
    "**Альтернативная гипотеза:** средние пользовательские рейтинги платформ Xbox One и PC различаются."
   ]
  },
  {
   "cell_type": "code",
   "execution_count": 68,
   "metadata": {},
   "outputs": [],
   "source": [
    "#actual_data['user_score'].unique()"
   ]
  },
  {
   "cell_type": "code",
   "execution_count": 69,
   "metadata": {},
   "outputs": [
    {
     "name": "stdout",
     "output_type": "stream",
     "text": [
      "p-значение: 0.10450507919348415\n",
      "Не получилось отвергнуть нулевую гипотезу\n"
     ]
    }
   ],
   "source": [
    "alpha = .05\n",
    "\n",
    "results = st.ttest_ind(\n",
    "    actual_data[actual_data['platform'] == 'PC']['user_score'].dropna(), \n",
    "    actual_data[actual_data['platform'] == 'XOne']['user_score'].dropna()\n",
    ")\n",
    "\n",
    "print('p-значение:', results.pvalue)\n",
    "\n",
    "if results.pvalue < alpha:\n",
    "    print(\"Отвергаем нулевую гипотезу\")\n",
    "else:\n",
    "    print(\"Не получилось отвергнуть нулевую гипотезу\")"
   ]
  },
  {
   "cell_type": "markdown",
   "metadata": {},
   "source": [
    "<div class=\"alert alert-block alert-success\">\n",
    " \n",
    "### Комментарий ревьюера\n",
    "    \n",
    "#### Успех\n",
    "    \n",
    "Гипотезы сформулированы и верно определен метод проверки. С выводами согласен. "
   ]
  },
  {
   "cell_type": "markdown",
   "metadata": {},
   "source": [
    "Данные предоставляют достаточное основание — для выбранного уровня значимости — принять нулевую гипотезу. Но утверждать, что средние пользовательские рейтинги платформ Xbox One и PC различаются на его основании мы не можем."
   ]
  },
  {
   "cell_type": "markdown",
   "metadata": {},
   "source": [
    "### Средние пользовательские рейтинги жанров Action и Sports разные."
   ]
  },
  {
   "cell_type": "markdown",
   "metadata": {},
   "source": [
    "**Нулевая гипотеза:** Средние пользовательские рейтинги жанров Action и Sports одинаковые.\n",
    "\n",
    "**Альтернативная гипотеза:** Средние пользовательские рейтинги жанров Action и Sports различаются."
   ]
  },
  {
   "cell_type": "code",
   "execution_count": 70,
   "metadata": {},
   "outputs": [
    {
     "name": "stdout",
     "output_type": "stream",
     "text": [
      "p-значение: 2.8711147985105864e-19\n",
      "Отвергаем нулевую гипотезу\n"
     ]
    }
   ],
   "source": [
    "alpha = .05\n",
    "\n",
    "results = st.ttest_ind(\n",
    "    actual_data[actual_data['genre'] == 'Action']['user_score'].dropna(), \n",
    "    actual_data[actual_data['genre'] == 'Sports']['user_score'].dropna()\n",
    ")\n",
    "\n",
    "print('p-значение:', results.pvalue)\n",
    "\n",
    "if results.pvalue < alpha:\n",
    "    print(\"Отвергаем нулевую гипотезу\")\n",
    "else:\n",
    "    print(\"Не получилось отвергнуть нулевую гипотезу\")"
   ]
  },
  {
   "cell_type": "markdown",
   "metadata": {},
   "source": [
    "Данные предоставляют достаточное основание — для выбранного уровня значимости — отвергнуть нулевую гипотезу в пользу альтернативной. "
   ]
  },
  {
   "cell_type": "markdown",
   "metadata": {},
   "source": [
    "Выбрали именно этот метод, так как имеем две генеральные совокупности и нам необходимо соопоставить их средние. "
   ]
  },
  {
   "cell_type": "markdown",
   "metadata": {},
   "source": [
    "<div class=\"alert alert-block alert-success\">\n",
    " \n",
    "### Комментарий ревьюера\n",
    "    \n",
    "#### Успех\n",
    "    \n",
    "Аналогично. "
   ]
  },
  {
   "cell_type": "markdown",
   "metadata": {},
   "source": [
    "## Общий вывод"
   ]
  },
  {
   "cell_type": "markdown",
   "metadata": {},
   "source": [
    "*Было проведено исследование, чтобы выявить параметры, определяющие успешность игр, для дальнейшего управления продуктами. Входные данные – данные до 2016 года, могут быть неполными. Результаты исследования помогут сформировать рекламную компанию и сделать ставку на определенный продукт в следющем году на основе предыдущих лет*\n",
    "\n",
    "**В ходе выполнения данного проекта:**\n",
    "Проведен обзор данных и выполнена предобработка данных, были обработаны пропуски, в некоторых случаях строки были удалены, так как их количество мало по сравнению со всей выбркой, изменили тип данных в некоторых столбцах, нашли и устранили уникальное значение в данных по пользовательскому рейтингу.Оказалось, что значение tbd соотвтетсвует тому, что пользователь не определял рейтинг игры.\n",
    "\n",
    "Интересным замечанием является то, что в большей степени были выявлены пропуски в 3-ёх стобцах (рейтинг, оценка критиков и пользователей)\n",
    "\n",
    "Для получения корректных данных мы решили, что нам необходимо рассматривать только актуальный период - это последние три года (2014, 2015 и 2016). Это сделано для того, что бы охватить данные, которые еще не ушли с рынка.\n",
    "\n",
    "При рассмотрение всего периода можно выделить несколько периодов по выпуску компьютерных игр\n",
    "<ol>\n",
    "<li>с 1980 до 1993 количество выпущенных игр оставалось постоянным </li>\n",
    "<li>с 1993 до 1998 наблюдается плавный рост </li>\n",
    "<li>с 1998 до 2000 небольшой спад</li>\n",
    "<li> С 2000 по 2009 стримительно увеличивалось количесвто выпускаемых игр(с 2002 по 2004 количество игр не менялось)</li>\n",
    "<li>С 2009 по 2016 наблюдается спад по выпуску</li>\n",
    "</ol>\n",
    "\n",
    "*Пик по выпуску компьютерных игр пришелся на 2009 год\n",
    "\n",
    "\n",
    "**При проведение исследовательского анализа данных:**\n",
    "\n",
    "<ul>\n",
    "<li> Рассмотрены разные периоды выпуска игр\n",
    "<li> Выбран актуальные период, произведена выборка данных только за этот период\n",
    "<li> Проведен анализ продаж по платформам за весь период и актуальный в отдельности\n",
    "<li> Построен график «ящик с усами» по глобальным продажам игр.\n",
    "<li>Рассмотрено влияние отзывово пользователей и критиков на продажи\n",
    "</ul>\n",
    "\n",
    "\n",
    "\n",
    "\n",
    "**Вывод**\n",
    "<ul>\n",
    "    <li>В среднем пик продаж приходиться на середину \"жизни\" платформы, максимум продаж происходит в течение 5 лет, после чего на плотформе происходит резкий спад.\n",
    "    <li>Платформы с наибольшими суммарными продажами за все время : PS2, X360, PS3, Wii, DS, PS\n",
    "    <li>За актуальный период по продажам лидируют платформы: PS4, XOne и 3DS их продажи по всем регионам составили 288, 140 и 87 млн проданных копий соотвтесвтенно.\n",
    "    <li>Рост возможен у следующих платформ: PS4, XOne, 3DS\n",
    "    <li>Тенденцию к снижеиню демонстрируют следующие платформы: WiiU, PC, PSV\n",
    "    <li>Самые большие продажи у PS4, на втором месте XOne (ее продажи в 2 раза меньше)\n",
    "    <li>Не обнаружено связи между продажами и оценкой пользователей, и очень слабая прямая связь между продажами и оценками критиков.\n",
    "    <li>наиболее прибыльными жанрами является Action и Shooter\n",
    "    </ul>\n",
    "    \n",
    "**В ходе исследования был составлен портрет пользователя по каждому региону, вот что удалось выяснить:**\n",
    "\n",
    " <ul><li>В Северной Америке пользуются популярностью жанры Shooter и Action, их количество превышает другие жанры в 1,5 и более раз.Наиболее используемые платформы: PS4 и XOne. Рейтинг игр зачастую М и Unknown.\n",
    "<li>В Европе самым популярным жанром является Action его продажи составляют 75 млн копий. Что касается платформы, абсолютным лидером является PS4 с количеством продаж - 130 млн.Рейтинг игр зачастую М и Unknown.\n",
    "<li> В японии лидером среди остальных стал жанр Role-Playingю Лидирующая платформа - 3DS. У популярных игр занчения рейтнга Unknown.\n",
    "</ul>\n",
    "         \n",
    "*Предпочтения пользователей Америки и Европы во многом схожи, предпочтения пользователей из Японии существенно отличаются, различие в данных вызвано тем, что в Японии своя система рейтинга, в их регионе закрыта статистика по возрасту покупателей. \n",
    "\n",
    "\n",
    "**Проверка гипотез**\n",
    "<ul><li>Средние пользовательские рейтинги платформ Xbox One и PC одинаковые: проведённый статистический тест не позволяет нам отвергнуть нулевую гипотезу. Но и утверждать, что средние пользовательские рейтинги платформ Xbox One и PC различаются на его основании мы не можем.\n",
    "    \n",
    "<li>   Принимаем альтернативную гипотезу, p-значение достаточно мало, что дает основание отвергнуть предположение об отсутствии различий между cредними пользовательскими рейтингами жанров Action и Sports. </ul>\n",
    "    \n",
    "    \n",
    "    \n",
    "    \n",
    "*Рекомендации для корректировки данных рекомендуется обновлять данные для прогноза на последующие года. Для более подробного анализа можно запросить и рассмотреть данные из других регионов (Не только Европа, Америка и Япония). Для устранения пропусков и корректировки результатов желательно более подробно оценить ситуацию с рейтингом в Японии.*\n"
   ]
  },
  {
   "cell_type": "markdown",
   "metadata": {},
   "source": [
    "<div class=\"alert alert-block alert-success\">\n",
    " \n",
    "### Комментарий ревьюера\n",
    "    \n",
    "#### Успех\n",
    "    \n",
    "Тот момент, когда итоговый вывод стал отличным дополнением проекта. Данных нам точно хватит, чтобы составить прогноз на 2017 год. У тебя отлично получилось.  "
   ]
  },
  {
   "cell_type": "markdown",
   "metadata": {},
   "source": [
    "<div class=\"alert alert-block alert-info\">\n",
    "\n",
    "## Итоговый комментарии от ревьюера:\n",
    "    \n",
    "#### Успех\n",
    "\n",
    "Поздравляю тебя с выполнением твоего первого Сборного проекта. Мне показалось, что работа выполненна прекрасно и ты здорово постаралась. Понравилось, что ты хорошо владеешь отличными навыками Предобработки данных и проверки Гипотез. А еще особенно ценно, что ты везде пишешь аргументацию своим действиям. Так, если проект попадет в руки незнакомому человеку, он сможет разобраться. Это тебе очень пригодится в будущем.\n",
    "\n",
    "В проекте осталось небольшое замечение:\n",
    "\n",
    "* Исправить график \"Ящик с усами\".\n",
    "* Требуется определить самый прибыльный жанр по медианному или среднему значению.\n",
    "       \n",
    "Еще я оставил рекомендации. Очень надеюсь, что ты учтешь их в этом и последующих проектах.\n",
    "    \n",
    "    \n",
    "Жду проект после доработки. Уверен, ты справишься.\n",
    "</div>"
   ]
  },
  {
   "cell_type": "markdown",
   "metadata": {},
   "source": [
    "<div class=\"alert alert-block alert-info\">\n",
    "Вячеслав, привет! Спасибо за обратную связь, постаралась учесть критические замечания и исправила их 😊 "
   ]
  },
  {
   "cell_type": "code",
   "execution_count": null,
   "metadata": {},
   "outputs": [],
   "source": []
  }
 ],
 "metadata": {
  "ExecuteTimeLog": [
   {
    "duration": 433,
    "start_time": "2023-01-24T10:28:44.167Z"
   },
   {
    "duration": 44,
    "start_time": "2023-01-24T10:29:41.578Z"
   },
   {
    "duration": 59,
    "start_time": "2023-01-24T10:29:54.611Z"
   },
   {
    "duration": 7,
    "start_time": "2023-01-24T10:30:04.120Z"
   },
   {
    "duration": 115,
    "start_time": "2023-01-24T10:30:17.980Z"
   },
   {
    "duration": 57,
    "start_time": "2023-01-24T10:30:32.389Z"
   },
   {
    "duration": 13,
    "start_time": "2023-01-24T10:30:35.777Z"
   },
   {
    "duration": 1043,
    "start_time": "2023-01-24T10:31:14.869Z"
   },
   {
    "duration": 59,
    "start_time": "2023-01-24T10:37:00.494Z"
   },
   {
    "duration": 14,
    "start_time": "2023-01-24T10:37:01.184Z"
   },
   {
    "duration": 771,
    "start_time": "2023-01-24T10:37:01.934Z"
   },
   {
    "duration": 9,
    "start_time": "2023-01-24T10:37:03.124Z"
   },
   {
    "duration": 18,
    "start_time": "2023-01-24T10:37:04.132Z"
   },
   {
    "duration": 9,
    "start_time": "2023-01-24T10:37:50.361Z"
   },
   {
    "duration": 49,
    "start_time": "2023-01-24T10:38:00.182Z"
   },
   {
    "duration": 25,
    "start_time": "2023-01-24T10:45:32.570Z"
   },
   {
    "duration": 46,
    "start_time": "2023-01-24T10:49:16.876Z"
   },
   {
    "duration": 10,
    "start_time": "2023-01-24T10:49:22.737Z"
   },
   {
    "duration": 13,
    "start_time": "2023-01-24T10:49:33.341Z"
   },
   {
    "duration": 5,
    "start_time": "2023-01-24T10:51:48.672Z"
   },
   {
    "duration": 7,
    "start_time": "2023-01-24T11:00:05.985Z"
   },
   {
    "duration": 7,
    "start_time": "2023-01-24T11:00:08.405Z"
   },
   {
    "duration": 4,
    "start_time": "2023-01-24T11:00:18.754Z"
   },
   {
    "duration": 9,
    "start_time": "2023-01-24T11:17:24.727Z"
   },
   {
    "duration": 4,
    "start_time": "2023-01-24T11:17:32.887Z"
   },
   {
    "duration": 17,
    "start_time": "2023-01-24T11:17:50.406Z"
   },
   {
    "duration": 49,
    "start_time": "2023-01-25T11:42:54.444Z"
   },
   {
    "duration": 464,
    "start_time": "2023-01-25T11:42:59.766Z"
   },
   {
    "duration": 15,
    "start_time": "2023-01-25T11:43:00.326Z"
   },
   {
    "duration": 1155,
    "start_time": "2023-01-25T11:43:00.867Z"
   },
   {
    "duration": 10,
    "start_time": "2023-01-25T11:43:02.186Z"
   },
   {
    "duration": 105,
    "start_time": "2023-01-25T11:43:02.455Z"
   },
   {
    "duration": 19,
    "start_time": "2023-01-25T11:43:02.847Z"
   },
   {
    "duration": 15,
    "start_time": "2023-01-25T11:43:03.454Z"
   },
   {
    "duration": 6,
    "start_time": "2023-01-25T11:43:04.974Z"
   },
   {
    "duration": 4,
    "start_time": "2023-01-25T11:43:05.877Z"
   },
   {
    "duration": 18,
    "start_time": "2023-01-25T11:43:06.686Z"
   },
   {
    "duration": 6,
    "start_time": "2023-01-25T11:51:40.669Z"
   },
   {
    "duration": 58,
    "start_time": "2023-01-25T11:59:56.297Z"
   },
   {
    "duration": 15,
    "start_time": "2023-01-25T11:59:56.765Z"
   },
   {
    "duration": 775,
    "start_time": "2023-01-25T11:59:57.272Z"
   },
   {
    "duration": 10,
    "start_time": "2023-01-25T11:59:59.629Z"
   },
   {
    "duration": 16,
    "start_time": "2023-01-25T12:00:00.103Z"
   },
   {
    "duration": 20,
    "start_time": "2023-01-25T12:00:00.978Z"
   },
   {
    "duration": 16,
    "start_time": "2023-01-25T12:00:02.091Z"
   },
   {
    "duration": 5,
    "start_time": "2023-01-25T12:00:03.290Z"
   },
   {
    "duration": 5,
    "start_time": "2023-01-25T12:00:04.706Z"
   },
   {
    "duration": 15,
    "start_time": "2023-01-25T12:00:05.610Z"
   },
   {
    "duration": 43,
    "start_time": "2023-01-25T12:00:06.028Z"
   },
   {
    "duration": 584,
    "start_time": "2023-01-26T21:37:56.911Z"
   },
   {
    "duration": 66,
    "start_time": "2023-01-26T21:38:16.880Z"
   },
   {
    "duration": 67,
    "start_time": "2023-01-26T21:38:26.061Z"
   },
   {
    "duration": 5,
    "start_time": "2023-01-26T21:39:40.441Z"
   },
   {
    "duration": 80,
    "start_time": "2023-01-26T21:41:30.414Z"
   },
   {
    "duration": 18,
    "start_time": "2023-01-26T21:41:30.641Z"
   },
   {
    "duration": 1281,
    "start_time": "2023-01-26T21:41:30.854Z"
   },
   {
    "duration": 15,
    "start_time": "2023-01-26T21:41:32.137Z"
   },
   {
    "duration": 7,
    "start_time": "2023-01-26T21:41:32.833Z"
   },
   {
    "duration": 89,
    "start_time": "2023-01-26T21:41:36.062Z"
   },
   {
    "duration": 19,
    "start_time": "2023-01-26T21:48:58.303Z"
   },
   {
    "duration": 11,
    "start_time": "2023-01-26T21:49:53.441Z"
   },
   {
    "duration": 13,
    "start_time": "2023-01-26T21:50:28.627Z"
   },
   {
    "duration": 16,
    "start_time": "2023-01-26T21:54:12.553Z"
   },
   {
    "duration": 12,
    "start_time": "2023-01-26T21:54:42.181Z"
   },
   {
    "duration": 14,
    "start_time": "2023-01-26T21:55:12.717Z"
   },
   {
    "duration": 13,
    "start_time": "2023-01-26T21:55:28.221Z"
   },
   {
    "duration": 120,
    "start_time": "2023-01-26T21:55:51.925Z"
   },
   {
    "duration": 25,
    "start_time": "2023-01-26T21:55:52.047Z"
   },
   {
    "duration": 702,
    "start_time": "2023-01-26T21:55:52.073Z"
   },
   {
    "duration": 13,
    "start_time": "2023-01-26T21:55:53.453Z"
   },
   {
    "duration": 10,
    "start_time": "2023-01-26T21:55:53.468Z"
   },
   {
    "duration": 15,
    "start_time": "2023-01-26T21:55:53.716Z"
   },
   {
    "duration": 2,
    "start_time": "2023-01-26T21:56:47.821Z"
   },
   {
    "duration": 51,
    "start_time": "2023-01-26T21:57:17.172Z"
   },
   {
    "duration": 19,
    "start_time": "2023-01-26T21:58:45.661Z"
   },
   {
    "duration": 17,
    "start_time": "2023-01-26T21:58:46.873Z"
   },
   {
    "duration": 20,
    "start_time": "2023-01-26T21:59:11.277Z"
   },
   {
    "duration": 5,
    "start_time": "2023-01-26T21:59:13.280Z"
   },
   {
    "duration": 4,
    "start_time": "2023-01-26T21:59:21.160Z"
   },
   {
    "duration": 9,
    "start_time": "2023-01-26T21:59:23.818Z"
   },
   {
    "duration": 6,
    "start_time": "2023-01-26T21:59:35.941Z"
   },
   {
    "duration": 6,
    "start_time": "2023-01-26T21:59:38.913Z"
   },
   {
    "duration": 9,
    "start_time": "2023-01-26T21:59:41.177Z"
   },
   {
    "duration": 4,
    "start_time": "2023-01-26T21:59:51.309Z"
   },
   {
    "duration": 9,
    "start_time": "2023-01-26T22:01:58.981Z"
   },
   {
    "duration": 17,
    "start_time": "2023-01-26T22:02:44.781Z"
   },
   {
    "duration": 7,
    "start_time": "2023-01-26T22:11:20.681Z"
   },
   {
    "duration": 7,
    "start_time": "2023-01-26T22:12:01.849Z"
   },
   {
    "duration": 2,
    "start_time": "2023-01-26T22:12:48.522Z"
   },
   {
    "duration": 10,
    "start_time": "2023-01-26T22:18:18.433Z"
   },
   {
    "duration": 7,
    "start_time": "2023-01-26T22:18:32.512Z"
   },
   {
    "duration": 62,
    "start_time": "2023-01-26T22:20:13.442Z"
   },
   {
    "duration": 13,
    "start_time": "2023-01-26T22:20:14.082Z"
   },
   {
    "duration": 696,
    "start_time": "2023-01-26T22:20:14.830Z"
   },
   {
    "duration": 13,
    "start_time": "2023-01-26T22:20:16.589Z"
   },
   {
    "duration": 14,
    "start_time": "2023-01-26T22:20:18.433Z"
   },
   {
    "duration": 9,
    "start_time": "2023-01-26T22:20:19.636Z"
   },
   {
    "duration": 18,
    "start_time": "2023-01-26T22:20:23.882Z"
   },
   {
    "duration": 8,
    "start_time": "2023-01-26T22:20:36.461Z"
   },
   {
    "duration": 15,
    "start_time": "2023-01-26T22:21:40.661Z"
   },
   {
    "duration": 7,
    "start_time": "2023-01-26T22:22:01.274Z"
   },
   {
    "duration": 8,
    "start_time": "2023-01-26T22:22:10.926Z"
   },
   {
    "duration": 97,
    "start_time": "2023-01-26T22:22:15.634Z"
   },
   {
    "duration": 5,
    "start_time": "2023-01-26T22:22:21.082Z"
   },
   {
    "duration": 12,
    "start_time": "2023-01-26T22:23:04.882Z"
   },
   {
    "duration": 9,
    "start_time": "2023-01-26T22:24:21.890Z"
   },
   {
    "duration": 4,
    "start_time": "2023-01-26T22:24:27.317Z"
   },
   {
    "duration": 6,
    "start_time": "2023-01-26T22:24:50.282Z"
   },
   {
    "duration": 8,
    "start_time": "2023-01-26T22:25:17.978Z"
   },
   {
    "duration": 66,
    "start_time": "2023-01-26T22:31:55.916Z"
   },
   {
    "duration": 13,
    "start_time": "2023-01-26T22:35:40.062Z"
   },
   {
    "duration": 11,
    "start_time": "2023-01-26T22:36:02.443Z"
   },
   {
    "duration": 8,
    "start_time": "2023-01-26T22:39:07.854Z"
   },
   {
    "duration": 14,
    "start_time": "2023-01-26T22:40:06.749Z"
   },
   {
    "duration": 94,
    "start_time": "2023-01-26T22:45:15.583Z"
   },
   {
    "duration": 16,
    "start_time": "2023-01-26T22:53:35.199Z"
   },
   {
    "duration": 17,
    "start_time": "2023-01-26T22:55:51.429Z"
   },
   {
    "duration": 15,
    "start_time": "2023-01-26T22:56:03.809Z"
   },
   {
    "duration": 7,
    "start_time": "2023-01-26T22:57:28.488Z"
   },
   {
    "duration": 10,
    "start_time": "2023-01-26T22:59:14.947Z"
   },
   {
    "duration": 9,
    "start_time": "2023-01-26T23:12:00.708Z"
   },
   {
    "duration": 182,
    "start_time": "2023-01-26T23:13:11.880Z"
   },
   {
    "duration": 297,
    "start_time": "2023-01-26T23:15:08.220Z"
   },
   {
    "duration": 240,
    "start_time": "2023-01-26T23:16:38.529Z"
   },
   {
    "duration": 200,
    "start_time": "2023-01-26T23:16:43.685Z"
   },
   {
    "duration": 184,
    "start_time": "2023-01-26T23:19:10.742Z"
   },
   {
    "duration": 167,
    "start_time": "2023-01-26T23:19:22.174Z"
   },
   {
    "duration": 103,
    "start_time": "2023-01-26T23:19:27.350Z"
   },
   {
    "duration": 113,
    "start_time": "2023-01-26T23:19:53.455Z"
   },
   {
    "duration": 4,
    "start_time": "2023-01-26T23:51:58.335Z"
   },
   {
    "duration": 6,
    "start_time": "2023-01-26T23:51:59.747Z"
   },
   {
    "duration": 8,
    "start_time": "2023-01-27T00:00:26.983Z"
   },
   {
    "duration": 10,
    "start_time": "2023-01-27T00:00:33.626Z"
   },
   {
    "duration": 11,
    "start_time": "2023-01-27T00:00:56.235Z"
   },
   {
    "duration": 20,
    "start_time": "2023-01-27T00:01:02.575Z"
   },
   {
    "duration": 88,
    "start_time": "2023-01-27T00:04:39.718Z"
   },
   {
    "duration": 8,
    "start_time": "2023-01-27T00:08:10.420Z"
   },
   {
    "duration": 173,
    "start_time": "2023-01-27T00:08:26.231Z"
   },
   {
    "duration": 173,
    "start_time": "2023-01-27T00:08:32.196Z"
   },
   {
    "duration": 176,
    "start_time": "2023-01-27T00:11:20.884Z"
   },
   {
    "duration": 176,
    "start_time": "2023-01-27T00:11:35.620Z"
   },
   {
    "duration": 160,
    "start_time": "2023-01-27T00:13:55.534Z"
   },
   {
    "duration": 251,
    "start_time": "2023-01-27T00:16:43.724Z"
   },
   {
    "duration": 162,
    "start_time": "2023-01-27T00:20:52.147Z"
   },
   {
    "duration": 167,
    "start_time": "2023-01-27T00:22:18.539Z"
   },
   {
    "duration": 155,
    "start_time": "2023-01-27T00:23:19.094Z"
   },
   {
    "duration": 6,
    "start_time": "2023-01-27T00:32:31.284Z"
   },
   {
    "duration": 17,
    "start_time": "2023-01-27T00:32:45.059Z"
   },
   {
    "duration": 15,
    "start_time": "2023-01-27T00:34:02.417Z"
   },
   {
    "duration": 85,
    "start_time": "2023-01-27T00:42:14.880Z"
   },
   {
    "duration": 146,
    "start_time": "2023-01-27T00:42:21.059Z"
   },
   {
    "duration": 143,
    "start_time": "2023-01-27T00:42:28.128Z"
   },
   {
    "duration": 14,
    "start_time": "2023-01-27T00:43:20.779Z"
   },
   {
    "duration": 153,
    "start_time": "2023-01-27T00:50:23.939Z"
   },
   {
    "duration": 9,
    "start_time": "2023-01-27T00:50:40.759Z"
   },
   {
    "duration": 158,
    "start_time": "2023-01-27T00:50:41.439Z"
   },
   {
    "duration": 11,
    "start_time": "2023-01-27T00:50:46.834Z"
   },
   {
    "duration": 9,
    "start_time": "2023-01-27T00:51:49.627Z"
   },
   {
    "duration": 13,
    "start_time": "2023-01-27T00:52:03.613Z"
   },
   {
    "duration": 128,
    "start_time": "2023-01-27T00:58:35.135Z"
   },
   {
    "duration": 114,
    "start_time": "2023-01-27T00:58:49.644Z"
   },
   {
    "duration": 114,
    "start_time": "2023-01-27T01:01:59.136Z"
   },
   {
    "duration": 19,
    "start_time": "2023-01-27T01:04:45.696Z"
   },
   {
    "duration": 175,
    "start_time": "2023-01-27T01:04:57.897Z"
   },
   {
    "duration": 73,
    "start_time": "2023-01-27T01:05:31.936Z"
   },
   {
    "duration": 116,
    "start_time": "2023-01-27T01:06:00.779Z"
   },
   {
    "duration": 152,
    "start_time": "2023-01-27T01:06:04.669Z"
   },
   {
    "duration": 115,
    "start_time": "2023-01-27T01:07:07.729Z"
   },
   {
    "duration": 112,
    "start_time": "2023-01-27T01:08:14.065Z"
   },
   {
    "duration": 122,
    "start_time": "2023-01-27T01:10:10.381Z"
   },
   {
    "duration": 19,
    "start_time": "2023-01-27T01:11:39.397Z"
   },
   {
    "duration": 134,
    "start_time": "2023-01-27T01:11:43.986Z"
   },
   {
    "duration": 129,
    "start_time": "2023-01-27T01:13:14.375Z"
   },
   {
    "duration": 115,
    "start_time": "2023-01-27T01:14:12.530Z"
   },
   {
    "duration": 7,
    "start_time": "2023-01-27T01:41:24.940Z"
   },
   {
    "duration": 9,
    "start_time": "2023-01-27T01:41:46.493Z"
   },
   {
    "duration": 34,
    "start_time": "2023-01-27T01:42:03.900Z"
   },
   {
    "duration": 9,
    "start_time": "2023-01-27T01:55:00.628Z"
   },
   {
    "duration": 118,
    "start_time": "2023-01-27T01:55:05.525Z"
   },
   {
    "duration": 78,
    "start_time": "2023-01-27T01:55:17.331Z"
   },
   {
    "duration": 85,
    "start_time": "2023-01-27T01:55:21.124Z"
   },
   {
    "duration": 10,
    "start_time": "2023-01-27T02:00:46.704Z"
   },
   {
    "duration": 150,
    "start_time": "2023-01-27T02:00:58.464Z"
   },
   {
    "duration": 239,
    "start_time": "2023-01-27T02:22:13.918Z"
   },
   {
    "duration": 243,
    "start_time": "2023-01-27T02:22:31.774Z"
   },
   {
    "duration": 248,
    "start_time": "2023-01-27T02:22:41.595Z"
   },
   {
    "duration": 12,
    "start_time": "2023-01-27T02:24:05.825Z"
   },
   {
    "duration": 238,
    "start_time": "2023-01-27T02:24:09.386Z"
   },
   {
    "duration": 287,
    "start_time": "2023-01-27T02:24:34.524Z"
   },
   {
    "duration": 241,
    "start_time": "2023-01-27T02:24:45.505Z"
   },
   {
    "duration": 260,
    "start_time": "2023-01-27T02:25:55.865Z"
   },
   {
    "duration": 254,
    "start_time": "2023-01-27T02:26:38.825Z"
   },
   {
    "duration": 269,
    "start_time": "2023-01-27T02:28:02.213Z"
   },
   {
    "duration": 285,
    "start_time": "2023-01-27T02:28:08.826Z"
   },
   {
    "duration": 337,
    "start_time": "2023-01-27T02:28:20.457Z"
   },
   {
    "duration": 275,
    "start_time": "2023-01-27T02:28:31.322Z"
   },
   {
    "duration": 295,
    "start_time": "2023-01-27T02:28:38.466Z"
   },
   {
    "duration": 3,
    "start_time": "2023-01-27T02:34:47.215Z"
   },
   {
    "duration": 10,
    "start_time": "2023-01-27T02:35:14.345Z"
   },
   {
    "duration": 8,
    "start_time": "2023-01-27T02:38:01.557Z"
   },
   {
    "duration": 1211,
    "start_time": "2023-01-27T02:38:13.201Z"
   },
   {
    "duration": 8,
    "start_time": "2023-01-27T02:38:26.057Z"
   },
   {
    "duration": 87,
    "start_time": "2023-01-27T02:40:45.805Z"
   },
   {
    "duration": 8,
    "start_time": "2023-01-27T02:42:19.357Z"
   },
   {
    "duration": 5,
    "start_time": "2023-01-27T02:42:30.705Z"
   },
   {
    "duration": 4,
    "start_time": "2023-01-27T02:43:16.026Z"
   },
   {
    "duration": 264,
    "start_time": "2023-01-27T02:43:55.985Z"
   },
   {
    "duration": 4,
    "start_time": "2023-01-27T02:43:56.857Z"
   },
   {
    "duration": 4,
    "start_time": "2023-01-27T02:43:57.205Z"
   },
   {
    "duration": 14,
    "start_time": "2023-01-27T02:44:22.051Z"
   },
   {
    "duration": 7,
    "start_time": "2023-01-27T02:44:40.125Z"
   },
   {
    "duration": 12,
    "start_time": "2023-01-27T02:45:29.105Z"
   },
   {
    "duration": 10,
    "start_time": "2023-01-27T02:45:45.605Z"
   },
   {
    "duration": 4,
    "start_time": "2023-01-27T02:46:45.626Z"
   },
   {
    "duration": 7,
    "start_time": "2023-01-27T02:47:55.325Z"
   },
   {
    "duration": 5,
    "start_time": "2023-01-27T02:48:05.057Z"
   },
   {
    "duration": 294,
    "start_time": "2023-01-27T02:48:08.345Z"
   },
   {
    "duration": 279,
    "start_time": "2023-01-27T02:48:30.619Z"
   },
   {
    "duration": 273,
    "start_time": "2023-01-27T02:48:36.835Z"
   },
   {
    "duration": 256,
    "start_time": "2023-01-27T02:48:39.675Z"
   },
   {
    "duration": 13,
    "start_time": "2023-01-27T02:49:12.886Z"
   },
   {
    "duration": 281,
    "start_time": "2023-01-27T02:49:38.005Z"
   },
   {
    "duration": 15,
    "start_time": "2023-01-27T02:49:50.497Z"
   },
   {
    "duration": 278,
    "start_time": "2023-01-27T02:50:35.345Z"
   },
   {
    "duration": 5,
    "start_time": "2023-01-27T02:50:38.597Z"
   },
   {
    "duration": 5,
    "start_time": "2023-01-27T02:50:39.397Z"
   },
   {
    "duration": 264,
    "start_time": "2023-01-27T02:52:30.039Z"
   },
   {
    "duration": 339,
    "start_time": "2023-01-27T02:52:39.505Z"
   },
   {
    "duration": 5,
    "start_time": "2023-01-27T02:52:47.182Z"
   },
   {
    "duration": 6,
    "start_time": "2023-01-27T02:52:47.677Z"
   },
   {
    "duration": 304,
    "start_time": "2023-01-27T02:54:10.866Z"
   },
   {
    "duration": 279,
    "start_time": "2023-01-27T02:54:24.900Z"
   },
   {
    "duration": 1195,
    "start_time": "2023-01-27T03:05:30.941Z"
   },
   {
    "duration": 7,
    "start_time": "2023-01-27T03:05:48.114Z"
   },
   {
    "duration": 10,
    "start_time": "2023-01-27T03:06:17.052Z"
   },
   {
    "duration": 6,
    "start_time": "2023-01-27T03:10:37.207Z"
   },
   {
    "duration": 9,
    "start_time": "2023-01-27T03:10:47.948Z"
   },
   {
    "duration": 5,
    "start_time": "2023-01-27T03:10:57.229Z"
   },
   {
    "duration": 6,
    "start_time": "2023-01-27T03:11:18.849Z"
   },
   {
    "duration": 138,
    "start_time": "2023-01-27T03:11:59.007Z"
   },
   {
    "duration": 155,
    "start_time": "2023-01-27T03:12:12.067Z"
   },
   {
    "duration": 95,
    "start_time": "2023-01-27T03:13:21.207Z"
   },
   {
    "duration": 135,
    "start_time": "2023-01-27T03:13:29.527Z"
   },
   {
    "duration": 1067,
    "start_time": "2023-01-27T08:03:03.304Z"
   },
   {
    "duration": 14,
    "start_time": "2023-01-27T08:03:04.373Z"
   },
   {
    "duration": 1136,
    "start_time": "2023-01-27T08:03:04.523Z"
   },
   {
    "duration": 17,
    "start_time": "2023-01-27T08:03:06.003Z"
   },
   {
    "duration": 25,
    "start_time": "2023-01-27T08:03:06.683Z"
   },
   {
    "duration": 149,
    "start_time": "2023-01-27T08:03:09.442Z"
   },
   {
    "duration": 13,
    "start_time": "2023-01-27T08:03:14.943Z"
   },
   {
    "duration": 25,
    "start_time": "2023-01-27T08:03:16.963Z"
   },
   {
    "duration": 6,
    "start_time": "2023-01-27T08:03:18.622Z"
   },
   {
    "duration": 7,
    "start_time": "2023-01-27T08:03:19.505Z"
   },
   {
    "duration": 7,
    "start_time": "2023-01-27T08:03:20.375Z"
   },
   {
    "duration": 8,
    "start_time": "2023-01-27T08:03:22.755Z"
   },
   {
    "duration": 6,
    "start_time": "2023-01-27T08:03:22.904Z"
   },
   {
    "duration": 5,
    "start_time": "2023-01-27T08:03:24.463Z"
   },
   {
    "duration": 7,
    "start_time": "2023-01-27T08:03:25.083Z"
   },
   {
    "duration": 14,
    "start_time": "2023-01-27T08:03:26.105Z"
   },
   {
    "duration": 5,
    "start_time": "2023-01-27T08:03:27.549Z"
   },
   {
    "duration": 10,
    "start_time": "2023-01-27T08:03:28.502Z"
   },
   {
    "duration": 5,
    "start_time": "2023-01-27T08:03:29.475Z"
   },
   {
    "duration": 16,
    "start_time": "2023-01-27T08:03:29.983Z"
   },
   {
    "duration": 191,
    "start_time": "2023-01-27T08:03:31.862Z"
   },
   {
    "duration": 114,
    "start_time": "2023-01-27T08:03:33.443Z"
   },
   {
    "duration": 15,
    "start_time": "2023-01-27T08:03:35.463Z"
   },
   {
    "duration": 190,
    "start_time": "2023-01-27T08:03:36.462Z"
   },
   {
    "duration": 169,
    "start_time": "2023-01-27T08:03:37.603Z"
   },
   {
    "duration": 207,
    "start_time": "2023-01-27T08:03:38.963Z"
   },
   {
    "duration": 167,
    "start_time": "2023-01-27T08:03:39.723Z"
   },
   {
    "duration": 154,
    "start_time": "2023-01-27T08:03:40.523Z"
   },
   {
    "duration": 160,
    "start_time": "2023-01-27T08:03:41.383Z"
   },
   {
    "duration": 17,
    "start_time": "2023-01-27T08:03:43.964Z"
   },
   {
    "duration": 12,
    "start_time": "2023-01-27T08:03:46.723Z"
   },
   {
    "duration": 192,
    "start_time": "2023-01-27T08:03:47.329Z"
   },
   {
    "duration": 130,
    "start_time": "2023-01-27T08:03:49.315Z"
   },
   {
    "duration": 196,
    "start_time": "2023-01-27T08:03:50.324Z"
   },
   {
    "duration": 142,
    "start_time": "2023-01-27T08:03:51.337Z"
   },
   {
    "duration": 119,
    "start_time": "2023-01-27T08:03:52.339Z"
   },
   {
    "duration": 133,
    "start_time": "2023-01-27T08:03:53.273Z"
   },
   {
    "duration": 116,
    "start_time": "2023-01-27T08:03:54.139Z"
   },
   {
    "duration": 128,
    "start_time": "2023-01-27T08:03:54.913Z"
   },
   {
    "duration": 120,
    "start_time": "2023-01-27T08:03:55.633Z"
   },
   {
    "duration": 165,
    "start_time": "2023-01-27T08:03:56.287Z"
   },
   {
    "duration": 155,
    "start_time": "2023-01-27T08:03:56.537Z"
   },
   {
    "duration": 117,
    "start_time": "2023-01-27T08:03:58.159Z"
   },
   {
    "duration": 33,
    "start_time": "2023-01-27T08:04:01.869Z"
   },
   {
    "duration": 97,
    "start_time": "2023-01-27T08:04:02.523Z"
   },
   {
    "duration": 344,
    "start_time": "2023-01-27T08:04:05.392Z"
   },
   {
    "duration": 6,
    "start_time": "2023-01-27T08:04:07.735Z"
   },
   {
    "duration": 5,
    "start_time": "2023-01-27T08:04:08.360Z"
   },
   {
    "duration": 13,
    "start_time": "2023-01-27T08:04:09.104Z"
   },
   {
    "duration": 6,
    "start_time": "2023-01-27T08:04:12.615Z"
   },
   {
    "duration": 122,
    "start_time": "2023-01-27T08:19:29.131Z"
   },
   {
    "duration": 164,
    "start_time": "2023-01-27T08:22:46.564Z"
   },
   {
    "duration": 165,
    "start_time": "2023-01-27T08:26:08.728Z"
   },
   {
    "duration": 157,
    "start_time": "2023-01-27T08:26:31.532Z"
   },
   {
    "duration": 157,
    "start_time": "2023-01-27T08:27:56.144Z"
   },
   {
    "duration": 189,
    "start_time": "2023-01-27T08:28:54.412Z"
   },
   {
    "duration": 182,
    "start_time": "2023-01-27T08:30:03.227Z"
   },
   {
    "duration": 175,
    "start_time": "2023-01-27T08:30:09.308Z"
   },
   {
    "duration": 191,
    "start_time": "2023-01-27T08:30:47.411Z"
   },
   {
    "duration": 184,
    "start_time": "2023-01-27T08:31:45.832Z"
   },
   {
    "duration": 20,
    "start_time": "2023-01-27T08:32:56.465Z"
   },
   {
    "duration": 1134,
    "start_time": "2023-01-27T08:33:08.373Z"
   },
   {
    "duration": 245,
    "start_time": "2023-01-27T08:34:01.129Z"
   },
   {
    "duration": 124,
    "start_time": "2023-01-27T08:35:03.991Z"
   },
   {
    "duration": 140,
    "start_time": "2023-01-27T08:35:17.505Z"
   },
   {
    "duration": 119,
    "start_time": "2023-01-27T08:35:24.846Z"
   },
   {
    "duration": 117,
    "start_time": "2023-01-27T08:35:29.660Z"
   },
   {
    "duration": 141,
    "start_time": "2023-01-27T08:36:50.487Z"
   },
   {
    "duration": 152,
    "start_time": "2023-01-27T08:37:01.704Z"
   },
   {
    "duration": 237,
    "start_time": "2023-01-27T08:37:11.907Z"
   },
   {
    "duration": 148,
    "start_time": "2023-01-27T08:37:19.465Z"
   },
   {
    "duration": 181,
    "start_time": "2023-01-27T08:37:57.537Z"
   },
   {
    "duration": 248,
    "start_time": "2023-01-27T08:38:08.617Z"
   },
   {
    "duration": 103,
    "start_time": "2023-01-27T08:38:32.707Z"
   },
   {
    "duration": 6,
    "start_time": "2023-01-27T08:39:20.490Z"
   },
   {
    "duration": 132,
    "start_time": "2023-01-27T08:39:53.534Z"
   },
   {
    "duration": 116,
    "start_time": "2023-01-27T08:40:15.171Z"
   },
   {
    "duration": 136,
    "start_time": "2023-01-27T08:40:19.772Z"
   },
   {
    "duration": 118,
    "start_time": "2023-01-27T08:40:31.671Z"
   },
   {
    "duration": 122,
    "start_time": "2023-01-27T08:40:37.946Z"
   },
   {
    "duration": 75,
    "start_time": "2023-01-27T08:42:31.787Z"
   },
   {
    "duration": 5,
    "start_time": "2023-01-27T08:42:42.974Z"
   },
   {
    "duration": 7,
    "start_time": "2023-01-27T08:42:48.706Z"
   },
   {
    "duration": 1376,
    "start_time": "2023-01-27T08:43:10.707Z"
   },
   {
    "duration": 118,
    "start_time": "2023-01-27T08:44:44.925Z"
   },
   {
    "duration": 10,
    "start_time": "2023-01-27T08:46:53.261Z"
   },
   {
    "duration": 11,
    "start_time": "2023-01-27T08:47:07.568Z"
   },
   {
    "duration": 15,
    "start_time": "2023-01-27T08:47:28.462Z"
   },
   {
    "duration": 138,
    "start_time": "2023-01-27T08:47:52.962Z"
   },
   {
    "duration": 23,
    "start_time": "2023-01-27T08:47:59.488Z"
   },
   {
    "duration": 242,
    "start_time": "2023-01-27T08:48:27.215Z"
   },
   {
    "duration": 183,
    "start_time": "2023-01-27T08:48:53.847Z"
   },
   {
    "duration": 19,
    "start_time": "2023-01-27T08:48:58.712Z"
   },
   {
    "duration": 243,
    "start_time": "2023-01-27T08:49:07.979Z"
   },
   {
    "duration": 179,
    "start_time": "2023-01-27T08:50:20.589Z"
   },
   {
    "duration": 187,
    "start_time": "2023-01-27T08:50:25.716Z"
   },
   {
    "duration": 17,
    "start_time": "2023-01-27T08:51:08.520Z"
   },
   {
    "duration": 177,
    "start_time": "2023-01-27T08:51:16.812Z"
   },
   {
    "duration": 185,
    "start_time": "2023-01-27T08:55:22.601Z"
   },
   {
    "duration": 134,
    "start_time": "2023-01-27T08:55:31.868Z"
   },
   {
    "duration": 203,
    "start_time": "2023-01-27T08:55:39.767Z"
   },
   {
    "duration": 611,
    "start_time": "2023-01-27T09:02:46.787Z"
   },
   {
    "duration": 69,
    "start_time": "2023-01-27T09:03:35.507Z"
   },
   {
    "duration": 43,
    "start_time": "2023-01-27T09:03:43.778Z"
   },
   {
    "duration": 10,
    "start_time": "2023-01-27T09:04:15.407Z"
   },
   {
    "duration": 10,
    "start_time": "2023-01-27T09:04:38.367Z"
   },
   {
    "duration": 13,
    "start_time": "2023-01-27T09:04:54.547Z"
   },
   {
    "duration": 107,
    "start_time": "2023-01-27T09:05:06.347Z"
   },
   {
    "duration": 14,
    "start_time": "2023-01-27T09:05:06.607Z"
   },
   {
    "duration": 719,
    "start_time": "2023-01-27T09:05:06.888Z"
   },
   {
    "duration": 24,
    "start_time": "2023-01-27T09:05:07.610Z"
   },
   {
    "duration": 24,
    "start_time": "2023-01-27T09:05:07.747Z"
   },
   {
    "duration": 21,
    "start_time": "2023-01-27T09:05:08.310Z"
   },
   {
    "duration": 12,
    "start_time": "2023-01-27T09:05:08.514Z"
   },
   {
    "duration": 19,
    "start_time": "2023-01-27T09:05:08.834Z"
   },
   {
    "duration": 6,
    "start_time": "2023-01-27T09:05:09.207Z"
   },
   {
    "duration": 6,
    "start_time": "2023-01-27T09:05:09.367Z"
   },
   {
    "duration": 7,
    "start_time": "2023-01-27T09:05:09.567Z"
   },
   {
    "duration": 8,
    "start_time": "2023-01-27T09:05:09.987Z"
   },
   {
    "duration": 5,
    "start_time": "2023-01-27T09:05:10.187Z"
   },
   {
    "duration": 4,
    "start_time": "2023-01-27T09:05:10.559Z"
   },
   {
    "duration": 6,
    "start_time": "2023-01-27T09:05:10.747Z"
   },
   {
    "duration": 13,
    "start_time": "2023-01-27T09:05:11.147Z"
   },
   {
    "duration": 5,
    "start_time": "2023-01-27T09:05:11.767Z"
   },
   {
    "duration": 8,
    "start_time": "2023-01-27T09:05:12.190Z"
   },
   {
    "duration": 5,
    "start_time": "2023-01-27T09:05:12.607Z"
   },
   {
    "duration": 14,
    "start_time": "2023-01-27T09:05:12.809Z"
   },
   {
    "duration": 205,
    "start_time": "2023-01-27T09:05:13.646Z"
   },
   {
    "duration": 111,
    "start_time": "2023-01-27T09:05:14.139Z"
   },
   {
    "duration": 18,
    "start_time": "2023-01-27T09:05:14.466Z"
   },
   {
    "duration": 189,
    "start_time": "2023-01-27T09:05:15.066Z"
   },
   {
    "duration": 212,
    "start_time": "2023-01-27T09:05:15.587Z"
   },
   {
    "duration": 272,
    "start_time": "2023-01-27T09:05:15.987Z"
   },
   {
    "duration": 218,
    "start_time": "2023-01-27T09:05:16.303Z"
   },
   {
    "duration": 180,
    "start_time": "2023-01-27T09:05:16.866Z"
   },
   {
    "duration": 171,
    "start_time": "2023-01-27T09:05:17.049Z"
   },
   {
    "duration": 17,
    "start_time": "2023-01-27T09:05:17.222Z"
   },
   {
    "duration": 19,
    "start_time": "2023-01-27T09:05:17.240Z"
   },
   {
    "duration": 159,
    "start_time": "2023-01-27T09:05:17.261Z"
   },
   {
    "duration": 131,
    "start_time": "2023-01-27T09:05:17.422Z"
   },
   {
    "duration": 136,
    "start_time": "2023-01-27T09:05:17.555Z"
   },
   {
    "duration": 137,
    "start_time": "2023-01-27T09:05:17.693Z"
   },
   {
    "duration": 136,
    "start_time": "2023-01-27T09:05:17.832Z"
   },
   {
    "duration": 151,
    "start_time": "2023-01-27T09:05:17.969Z"
   },
   {
    "duration": 119,
    "start_time": "2023-01-27T09:05:18.121Z"
   },
   {
    "duration": 131,
    "start_time": "2023-01-27T09:05:18.242Z"
   },
   {
    "duration": 124,
    "start_time": "2023-01-27T09:05:18.375Z"
   },
   {
    "duration": 136,
    "start_time": "2023-01-27T09:05:18.501Z"
   },
   {
    "duration": 137,
    "start_time": "2023-01-27T09:05:18.640Z"
   },
   {
    "duration": 150,
    "start_time": "2023-01-27T09:05:18.779Z"
   },
   {
    "duration": 34,
    "start_time": "2023-01-27T09:05:19.667Z"
   },
   {
    "duration": 215,
    "start_time": "2023-01-27T09:05:20.087Z"
   },
   {
    "duration": 278,
    "start_time": "2023-01-27T09:05:21.567Z"
   },
   {
    "duration": 5,
    "start_time": "2023-01-27T09:05:22.039Z"
   },
   {
    "duration": 5,
    "start_time": "2023-01-27T09:05:22.267Z"
   },
   {
    "duration": 10,
    "start_time": "2023-01-27T09:05:22.467Z"
   },
   {
    "duration": 6,
    "start_time": "2023-01-27T09:05:23.158Z"
   },
   {
    "duration": 14,
    "start_time": "2023-01-27T09:05:23.638Z"
   },
   {
    "duration": 18,
    "start_time": "2023-01-27T09:05:23.989Z"
   },
   {
    "duration": 19,
    "start_time": "2023-01-27T09:06:18.326Z"
   },
   {
    "duration": 98,
    "start_time": "2023-01-27T09:07:23.446Z"
   },
   {
    "duration": 19,
    "start_time": "2023-01-27T09:07:27.787Z"
   },
   {
    "duration": 120,
    "start_time": "2023-01-27T09:07:59.166Z"
   },
   {
    "duration": 115,
    "start_time": "2023-01-27T09:09:10.787Z"
   },
   {
    "duration": 183,
    "start_time": "2023-01-27T09:09:22.547Z"
   },
   {
    "duration": 231,
    "start_time": "2023-01-27T09:10:03.310Z"
   },
   {
    "duration": 164,
    "start_time": "2023-01-27T09:10:11.888Z"
   },
   {
    "duration": 10,
    "start_time": "2023-01-27T09:11:15.926Z"
   },
   {
    "duration": 19,
    "start_time": "2023-01-27T09:11:29.127Z"
   },
   {
    "duration": 187,
    "start_time": "2023-01-27T09:11:40.371Z"
   },
   {
    "duration": 193,
    "start_time": "2023-01-27T09:11:52.006Z"
   },
   {
    "duration": 192,
    "start_time": "2023-01-27T09:12:51.526Z"
   },
   {
    "duration": 167,
    "start_time": "2023-01-27T09:13:35.659Z"
   },
   {
    "duration": 195,
    "start_time": "2023-01-27T09:13:49.986Z"
   },
   {
    "duration": 188,
    "start_time": "2023-01-27T09:14:07.722Z"
   },
   {
    "duration": 67,
    "start_time": "2023-01-27T09:15:41.012Z"
   },
   {
    "duration": 335,
    "start_time": "2023-01-27T09:15:47.590Z"
   },
   {
    "duration": 206,
    "start_time": "2023-01-27T09:16:24.346Z"
   },
   {
    "duration": 330,
    "start_time": "2023-01-27T09:17:54.272Z"
   },
   {
    "duration": 294,
    "start_time": "2023-01-27T09:18:01.051Z"
   },
   {
    "duration": 221,
    "start_time": "2023-01-27T09:18:08.596Z"
   },
   {
    "duration": 320,
    "start_time": "2023-01-27T09:18:25.448Z"
   },
   {
    "duration": 73,
    "start_time": "2023-01-27T09:29:22.906Z"
   },
   {
    "duration": 14,
    "start_time": "2023-01-27T09:29:33.676Z"
   },
   {
    "duration": 14,
    "start_time": "2023-01-27T09:30:25.795Z"
   },
   {
    "duration": 16,
    "start_time": "2023-01-27T09:30:43.241Z"
   },
   {
    "duration": 18,
    "start_time": "2023-01-27T09:32:19.767Z"
   },
   {
    "duration": 21,
    "start_time": "2023-01-27T09:32:32.561Z"
   },
   {
    "duration": 17,
    "start_time": "2023-01-27T09:33:19.442Z"
   },
   {
    "duration": 19,
    "start_time": "2023-01-27T09:45:48.288Z"
   },
   {
    "duration": 14,
    "start_time": "2023-01-27T09:45:48.957Z"
   },
   {
    "duration": 13,
    "start_time": "2023-01-27T10:09:22.407Z"
   },
   {
    "duration": 15,
    "start_time": "2023-01-27T10:09:22.422Z"
   },
   {
    "duration": 27,
    "start_time": "2023-01-27T10:09:22.439Z"
   },
   {
    "duration": 14,
    "start_time": "2023-01-27T10:09:26.119Z"
   },
   {
    "duration": 14,
    "start_time": "2023-01-27T10:10:03.604Z"
   },
   {
    "duration": 15,
    "start_time": "2023-01-27T10:12:50.019Z"
   },
   {
    "duration": 17,
    "start_time": "2023-01-27T10:13:22.484Z"
   },
   {
    "duration": 14,
    "start_time": "2023-01-27T10:15:35.018Z"
   },
   {
    "duration": 22,
    "start_time": "2023-01-27T10:23:09.041Z"
   },
   {
    "duration": 17,
    "start_time": "2023-01-27T10:23:29.583Z"
   },
   {
    "duration": 203,
    "start_time": "2023-01-27T10:23:39.743Z"
   },
   {
    "duration": 20,
    "start_time": "2023-01-27T10:23:52.005Z"
   },
   {
    "duration": 21,
    "start_time": "2023-01-27T10:24:13.935Z"
   },
   {
    "duration": 21,
    "start_time": "2023-01-27T10:24:22.294Z"
   },
   {
    "duration": 16,
    "start_time": "2023-01-27T10:24:28.623Z"
   },
   {
    "duration": 18,
    "start_time": "2023-01-27T10:31:50.615Z"
   },
   {
    "duration": 17,
    "start_time": "2023-01-27T10:32:00.317Z"
   },
   {
    "duration": 16,
    "start_time": "2023-01-27T10:34:31.612Z"
   },
   {
    "duration": 9,
    "start_time": "2023-01-27T10:39:40.676Z"
   },
   {
    "duration": 10,
    "start_time": "2023-01-27T10:40:12.837Z"
   },
   {
    "duration": 106,
    "start_time": "2023-01-27T10:40:46.237Z"
   },
   {
    "duration": 7,
    "start_time": "2023-01-27T10:40:52.136Z"
   },
   {
    "duration": 6,
    "start_time": "2023-01-27T10:44:17.317Z"
   },
   {
    "duration": 16,
    "start_time": "2023-01-27T10:50:45.577Z"
   },
   {
    "duration": 122,
    "start_time": "2023-01-27T10:50:52.566Z"
   },
   {
    "duration": 128,
    "start_time": "2023-01-27T10:51:01.132Z"
   },
   {
    "duration": 153,
    "start_time": "2023-01-27T10:51:43.810Z"
   },
   {
    "duration": 135,
    "start_time": "2023-01-27T10:52:05.809Z"
   },
   {
    "duration": 29,
    "start_time": "2023-01-27T10:52:14.778Z"
   },
   {
    "duration": 4,
    "start_time": "2023-01-27T10:56:26.480Z"
   },
   {
    "duration": 174,
    "start_time": "2023-01-27T10:56:41.902Z"
   },
   {
    "duration": 18,
    "start_time": "2023-01-27T10:58:17.906Z"
   },
   {
    "duration": 137,
    "start_time": "2023-01-27T10:58:32.003Z"
   },
   {
    "duration": 186,
    "start_time": "2023-01-27T10:58:42.905Z"
   },
   {
    "duration": 16,
    "start_time": "2023-01-27T10:58:55.407Z"
   },
   {
    "duration": 138,
    "start_time": "2023-01-27T10:59:19.764Z"
   },
   {
    "duration": 177,
    "start_time": "2023-01-27T10:59:53.637Z"
   },
   {
    "duration": 276,
    "start_time": "2023-01-27T11:00:05.545Z"
   },
   {
    "duration": 17,
    "start_time": "2023-01-27T11:00:58.970Z"
   },
   {
    "duration": 107,
    "start_time": "2023-01-27T11:01:51.418Z"
   },
   {
    "duration": 137,
    "start_time": "2023-01-27T11:02:57.843Z"
   },
   {
    "duration": 19,
    "start_time": "2023-01-27T11:03:03.505Z"
   },
   {
    "duration": 21,
    "start_time": "2023-01-27T11:03:08.878Z"
   },
   {
    "duration": 23,
    "start_time": "2023-01-27T11:03:44.038Z"
   },
   {
    "duration": 8,
    "start_time": "2023-01-27T11:04:02.189Z"
   },
   {
    "duration": 3,
    "start_time": "2023-01-27T12:48:08.174Z"
   },
   {
    "duration": 8,
    "start_time": "2023-01-27T12:48:08.662Z"
   },
   {
    "duration": 114,
    "start_time": "2023-01-27T12:54:05.363Z"
   },
   {
    "duration": 73,
    "start_time": "2023-01-28T13:37:41.233Z"
   },
   {
    "duration": 40,
    "start_time": "2023-01-28T13:39:05.928Z"
   },
   {
    "duration": 6,
    "start_time": "2023-01-28T13:40:11.934Z"
   },
   {
    "duration": 1483,
    "start_time": "2023-01-28T13:40:19.984Z"
   },
   {
    "duration": 13,
    "start_time": "2023-01-28T13:40:21.469Z"
   },
   {
    "duration": 719,
    "start_time": "2023-01-28T13:40:21.483Z"
   },
   {
    "duration": 15,
    "start_time": "2023-01-28T13:40:22.324Z"
   },
   {
    "duration": 17,
    "start_time": "2023-01-28T13:40:22.722Z"
   },
   {
    "duration": 51,
    "start_time": "2023-01-28T13:40:23.028Z"
   },
   {
    "duration": 10,
    "start_time": "2023-01-28T13:40:23.684Z"
   },
   {
    "duration": 18,
    "start_time": "2023-01-28T13:40:24.154Z"
   },
   {
    "duration": 4,
    "start_time": "2023-01-28T13:40:24.735Z"
   },
   {
    "duration": 5,
    "start_time": "2023-01-28T13:40:24.935Z"
   },
   {
    "duration": 8,
    "start_time": "2023-01-28T13:40:25.099Z"
   },
   {
    "duration": 7,
    "start_time": "2023-01-28T13:40:25.494Z"
   },
   {
    "duration": 5,
    "start_time": "2023-01-28T13:40:25.659Z"
   },
   {
    "duration": 5,
    "start_time": "2023-01-28T13:40:26.030Z"
   },
   {
    "duration": 8,
    "start_time": "2023-01-28T13:40:26.399Z"
   },
   {
    "duration": 12,
    "start_time": "2023-01-28T13:40:26.827Z"
   },
   {
    "duration": 4,
    "start_time": "2023-01-28T13:40:27.629Z"
   },
   {
    "duration": 8,
    "start_time": "2023-01-28T13:40:27.980Z"
   },
   {
    "duration": 5,
    "start_time": "2023-01-28T13:40:29.156Z"
   },
   {
    "duration": 12,
    "start_time": "2023-01-28T13:40:29.517Z"
   },
   {
    "duration": 183,
    "start_time": "2023-01-28T13:40:30.933Z"
   },
   {
    "duration": 108,
    "start_time": "2023-01-28T13:40:31.299Z"
   },
   {
    "duration": 18,
    "start_time": "2023-01-28T13:40:36.555Z"
   },
   {
    "duration": 171,
    "start_time": "2023-01-28T13:40:37.526Z"
   },
   {
    "duration": 180,
    "start_time": "2023-01-28T13:40:37.939Z"
   },
   {
    "duration": 236,
    "start_time": "2023-01-28T13:40:38.485Z"
   },
   {
    "duration": 175,
    "start_time": "2023-01-28T13:40:39.028Z"
   },
   {
    "duration": 169,
    "start_time": "2023-01-28T13:40:39.527Z"
   },
   {
    "duration": 165,
    "start_time": "2023-01-28T13:40:40.027Z"
   },
   {
    "duration": 17,
    "start_time": "2023-01-28T13:40:41.659Z"
   },
   {
    "duration": 13,
    "start_time": "2023-01-28T13:40:43.149Z"
   },
   {
    "duration": 149,
    "start_time": "2023-01-28T13:40:43.333Z"
   },
   {
    "duration": 116,
    "start_time": "2023-01-28T13:40:44.055Z"
   },
   {
    "duration": 112,
    "start_time": "2023-01-28T13:40:44.515Z"
   },
   {
    "duration": 104,
    "start_time": "2023-01-28T13:40:44.934Z"
   },
   {
    "duration": 117,
    "start_time": "2023-01-28T13:40:45.289Z"
   },
   {
    "duration": 127,
    "start_time": "2023-01-28T13:40:45.664Z"
   },
   {
    "duration": 114,
    "start_time": "2023-01-28T13:40:46.026Z"
   },
   {
    "duration": 238,
    "start_time": "2023-01-28T13:40:46.435Z"
   },
   {
    "duration": 117,
    "start_time": "2023-01-28T13:40:46.794Z"
   },
   {
    "duration": 120,
    "start_time": "2023-01-28T13:40:47.194Z"
   },
   {
    "duration": 132,
    "start_time": "2023-01-28T13:40:47.389Z"
   },
   {
    "duration": 115,
    "start_time": "2023-01-28T13:40:47.845Z"
   },
   {
    "duration": 48,
    "start_time": "2023-01-28T13:40:48.854Z"
   },
   {
    "duration": 96,
    "start_time": "2023-01-28T13:40:49.036Z"
   },
   {
    "duration": 67,
    "start_time": "2023-01-28T13:40:51.317Z"
   },
   {
    "duration": 293,
    "start_time": "2023-01-28T13:41:07.029Z"
   },
   {
    "duration": 291,
    "start_time": "2023-01-28T13:41:17.494Z"
   },
   {
    "duration": 398,
    "start_time": "2023-01-28T13:42:09.306Z"
   },
   {
    "duration": 310,
    "start_time": "2023-01-28T13:42:28.085Z"
   },
   {
    "duration": 320,
    "start_time": "2023-01-28T13:42:44.880Z"
   },
   {
    "duration": 307,
    "start_time": "2023-01-28T13:42:47.324Z"
   },
   {
    "duration": 1741,
    "start_time": "2023-01-28T14:19:25.649Z"
   },
   {
    "duration": 21,
    "start_time": "2023-01-28T14:19:27.393Z"
   },
   {
    "duration": 978,
    "start_time": "2023-01-28T14:19:27.419Z"
   },
   {
    "duration": 20,
    "start_time": "2023-01-28T14:19:28.406Z"
   },
   {
    "duration": 36,
    "start_time": "2023-01-28T14:19:28.430Z"
   },
   {
    "duration": 68,
    "start_time": "2023-01-28T14:19:28.469Z"
   },
   {
    "duration": 10,
    "start_time": "2023-01-28T14:19:28.541Z"
   },
   {
    "duration": 23,
    "start_time": "2023-01-28T14:19:28.553Z"
   },
   {
    "duration": 7,
    "start_time": "2023-01-28T14:19:28.578Z"
   },
   {
    "duration": 67,
    "start_time": "2023-01-28T14:19:28.587Z"
   },
   {
    "duration": 12,
    "start_time": "2023-01-28T14:19:28.657Z"
   },
   {
    "duration": 24,
    "start_time": "2023-01-28T14:19:28.671Z"
   },
   {
    "duration": 50,
    "start_time": "2023-01-28T14:19:28.697Z"
   },
   {
    "duration": 9,
    "start_time": "2023-01-28T14:19:28.751Z"
   },
   {
    "duration": 20,
    "start_time": "2023-01-28T14:19:28.762Z"
   },
   {
    "duration": 31,
    "start_time": "2023-01-28T14:19:28.784Z"
   },
   {
    "duration": 47,
    "start_time": "2023-01-28T14:19:28.817Z"
   },
   {
    "duration": 12,
    "start_time": "2023-01-28T14:19:28.866Z"
   },
   {
    "duration": 7,
    "start_time": "2023-01-28T14:19:28.880Z"
   },
   {
    "duration": 36,
    "start_time": "2023-01-28T14:19:28.889Z"
   },
   {
    "duration": 342,
    "start_time": "2023-01-28T14:19:28.929Z"
   },
   {
    "duration": 157,
    "start_time": "2023-01-28T14:19:29.273Z"
   },
   {
    "duration": 16,
    "start_time": "2023-01-28T14:19:29.440Z"
   },
   {
    "duration": 219,
    "start_time": "2023-01-28T14:19:29.458Z"
   },
   {
    "duration": 219,
    "start_time": "2023-01-28T14:19:29.678Z"
   },
   {
    "duration": 348,
    "start_time": "2023-01-28T14:19:29.898Z"
   },
   {
    "duration": 214,
    "start_time": "2023-01-28T14:19:30.248Z"
   },
   {
    "duration": 201,
    "start_time": "2023-01-28T14:19:30.463Z"
   },
   {
    "duration": 202,
    "start_time": "2023-01-28T14:19:30.666Z"
   },
   {
    "duration": 19,
    "start_time": "2023-01-28T14:19:30.871Z"
   },
   {
    "duration": 70,
    "start_time": "2023-01-28T14:19:30.893Z"
   },
   {
    "duration": 286,
    "start_time": "2023-01-28T14:19:30.965Z"
   },
   {
    "duration": 160,
    "start_time": "2023-01-28T14:19:31.253Z"
   },
   {
    "duration": 148,
    "start_time": "2023-01-28T14:19:31.415Z"
   },
   {
    "duration": 172,
    "start_time": "2023-01-28T14:19:31.566Z"
   },
   {
    "duration": 153,
    "start_time": "2023-01-28T14:19:31.740Z"
   },
   {
    "duration": 158,
    "start_time": "2023-01-28T14:19:31.895Z"
   },
   {
    "duration": 161,
    "start_time": "2023-01-28T14:19:32.054Z"
   },
   {
    "duration": 235,
    "start_time": "2023-01-28T14:19:32.223Z"
   },
   {
    "duration": 164,
    "start_time": "2023-01-28T14:19:32.461Z"
   },
   {
    "duration": 141,
    "start_time": "2023-01-28T14:19:32.633Z"
   },
   {
    "duration": 146,
    "start_time": "2023-01-28T14:19:32.775Z"
   },
   {
    "duration": 155,
    "start_time": "2023-01-28T14:19:32.925Z"
   },
   {
    "duration": 57,
    "start_time": "2023-01-28T14:19:33.081Z"
   },
   {
    "duration": 117,
    "start_time": "2023-01-28T14:19:33.140Z"
   },
   {
    "duration": 391,
    "start_time": "2023-01-28T14:19:33.259Z"
   },
   {
    "duration": 323,
    "start_time": "2023-01-28T14:19:33.652Z"
   },
   {
    "duration": 6,
    "start_time": "2023-01-28T14:19:33.977Z"
   },
   {
    "duration": 71,
    "start_time": "2023-01-28T14:19:33.986Z"
   },
   {
    "duration": 16,
    "start_time": "2023-01-28T14:19:34.059Z"
   },
   {
    "duration": 9,
    "start_time": "2023-01-28T14:19:34.077Z"
   },
   {
    "duration": 34,
    "start_time": "2023-01-28T14:19:34.088Z"
   },
   {
    "duration": 362,
    "start_time": "2023-01-28T14:19:34.123Z"
   },
   {
    "duration": 22,
    "start_time": "2023-01-28T14:19:34.488Z"
   },
   {
    "duration": 55,
    "start_time": "2023-01-28T14:19:34.511Z"
   },
   {
    "duration": 20,
    "start_time": "2023-01-28T14:19:34.569Z"
   },
   {
    "duration": 53,
    "start_time": "2023-01-28T14:19:34.592Z"
   },
   {
    "duration": 17,
    "start_time": "2023-01-28T14:19:34.646Z"
   },
   {
    "duration": 18,
    "start_time": "2023-01-28T14:19:34.665Z"
   },
   {
    "duration": 20,
    "start_time": "2023-01-28T14:19:34.685Z"
   },
   {
    "duration": 45,
    "start_time": "2023-01-28T14:19:34.708Z"
   },
   {
    "duration": 24,
    "start_time": "2023-01-28T14:19:34.755Z"
   },
   {
    "duration": 3,
    "start_time": "2023-01-28T14:19:34.781Z"
   },
   {
    "duration": 12,
    "start_time": "2023-01-28T14:19:34.785Z"
   },
   {
    "duration": 42,
    "start_time": "2023-01-28T14:19:34.799Z"
   },
   {
    "duration": 328,
    "start_time": "2023-01-28T14:22:05.429Z"
   },
   {
    "duration": 413,
    "start_time": "2023-01-28T14:22:18.974Z"
   },
   {
    "duration": 313,
    "start_time": "2023-01-28T14:22:23.548Z"
   },
   {
    "duration": 369,
    "start_time": "2023-01-28T14:22:31.894Z"
   },
   {
    "duration": 7,
    "start_time": "2023-01-28T14:23:42.474Z"
   },
   {
    "duration": 6,
    "start_time": "2023-01-28T14:24:18.435Z"
   },
   {
    "duration": 6,
    "start_time": "2023-01-28T14:24:18.986Z"
   },
   {
    "duration": 17,
    "start_time": "2023-01-28T14:25:06.634Z"
   },
   {
    "duration": 22,
    "start_time": "2023-01-28T14:25:23.101Z"
   },
   {
    "duration": 167,
    "start_time": "2023-01-28T14:36:18.197Z"
   },
   {
    "duration": 66,
    "start_time": "2023-01-28T14:36:31.033Z"
   },
   {
    "duration": 286,
    "start_time": "2023-01-28T14:45:25.231Z"
   },
   {
    "duration": 48,
    "start_time": "2023-01-28T14:46:47.494Z"
   },
   {
    "duration": 63,
    "start_time": "2023-01-28T14:47:00.989Z"
   },
   {
    "duration": 1456,
    "start_time": "2023-01-28T14:47:05.398Z"
   },
   {
    "duration": 19,
    "start_time": "2023-01-28T14:47:06.857Z"
   },
   {
    "duration": 976,
    "start_time": "2023-01-28T14:47:06.879Z"
   },
   {
    "duration": 17,
    "start_time": "2023-01-28T14:47:07.857Z"
   },
   {
    "duration": 33,
    "start_time": "2023-01-28T14:47:07.876Z"
   },
   {
    "duration": 76,
    "start_time": "2023-01-28T14:47:07.910Z"
   },
   {
    "duration": 24,
    "start_time": "2023-01-28T14:47:07.988Z"
   },
   {
    "duration": 55,
    "start_time": "2023-01-28T14:47:08.014Z"
   },
   {
    "duration": 8,
    "start_time": "2023-01-28T14:47:08.070Z"
   },
   {
    "duration": 13,
    "start_time": "2023-01-28T14:47:08.081Z"
   },
   {
    "duration": 15,
    "start_time": "2023-01-28T14:47:08.097Z"
   },
   {
    "duration": 36,
    "start_time": "2023-01-28T14:47:08.114Z"
   },
   {
    "duration": 14,
    "start_time": "2023-01-28T14:47:08.152Z"
   },
   {
    "duration": 24,
    "start_time": "2023-01-28T14:47:08.168Z"
   },
   {
    "duration": 13,
    "start_time": "2023-01-28T14:47:08.194Z"
   },
   {
    "duration": 50,
    "start_time": "2023-01-28T14:47:08.209Z"
   },
   {
    "duration": 19,
    "start_time": "2023-01-28T14:47:08.261Z"
   },
   {
    "duration": 20,
    "start_time": "2023-01-28T14:47:08.282Z"
   },
   {
    "duration": 43,
    "start_time": "2023-01-28T14:47:08.311Z"
   },
   {
    "duration": 20,
    "start_time": "2023-01-28T14:47:08.356Z"
   },
   {
    "duration": 271,
    "start_time": "2023-01-28T14:47:08.378Z"
   },
   {
    "duration": 139,
    "start_time": "2023-01-28T14:47:08.651Z"
   },
   {
    "duration": 33,
    "start_time": "2023-01-28T14:47:08.792Z"
   },
   {
    "duration": 238,
    "start_time": "2023-01-28T14:47:08.827Z"
   },
   {
    "duration": 229,
    "start_time": "2023-01-28T14:47:09.067Z"
   },
   {
    "duration": 325,
    "start_time": "2023-01-28T14:47:09.298Z"
   },
   {
    "duration": 224,
    "start_time": "2023-01-28T14:47:09.631Z"
   },
   {
    "duration": 208,
    "start_time": "2023-01-28T14:47:09.861Z"
   },
   {
    "duration": 274,
    "start_time": "2023-01-28T14:47:10.072Z"
   },
   {
    "duration": 20,
    "start_time": "2023-01-28T14:47:10.348Z"
   },
   {
    "duration": 24,
    "start_time": "2023-01-28T14:47:10.369Z"
   },
   {
    "duration": 193,
    "start_time": "2023-01-28T14:47:10.407Z"
   },
   {
    "duration": 162,
    "start_time": "2023-01-28T14:47:10.603Z"
   },
   {
    "duration": 171,
    "start_time": "2023-01-28T14:47:10.767Z"
   },
   {
    "duration": 153,
    "start_time": "2023-01-28T14:47:10.940Z"
   },
   {
    "duration": 168,
    "start_time": "2023-01-28T14:47:11.095Z"
   },
   {
    "duration": 180,
    "start_time": "2023-01-28T14:47:11.265Z"
   },
   {
    "duration": 152,
    "start_time": "2023-01-28T14:47:11.447Z"
   },
   {
    "duration": 251,
    "start_time": "2023-01-28T14:47:11.601Z"
   },
   {
    "duration": 171,
    "start_time": "2023-01-28T14:47:11.854Z"
   },
   {
    "duration": 155,
    "start_time": "2023-01-28T14:47:12.027Z"
   },
   {
    "duration": 166,
    "start_time": "2023-01-28T14:47:12.184Z"
   },
   {
    "duration": 160,
    "start_time": "2023-01-28T14:47:12.352Z"
   },
   {
    "duration": 42,
    "start_time": "2023-01-28T14:47:12.514Z"
   },
   {
    "duration": 129,
    "start_time": "2023-01-28T14:47:12.557Z"
   },
   {
    "duration": 408,
    "start_time": "2023-01-28T14:47:12.687Z"
   },
   {
    "duration": 365,
    "start_time": "2023-01-28T14:47:13.098Z"
   },
   {
    "duration": 5,
    "start_time": "2023-01-28T14:47:13.466Z"
   },
   {
    "duration": 11,
    "start_time": "2023-01-28T14:47:13.473Z"
   },
   {
    "duration": 464,
    "start_time": "2023-01-28T14:47:13.486Z"
   },
   {
    "duration": 6,
    "start_time": "2023-01-28T14:47:13.951Z"
   },
   {
    "duration": 8,
    "start_time": "2023-01-28T14:47:13.959Z"
   },
   {
    "duration": 39,
    "start_time": "2023-01-28T14:47:13.969Z"
   },
   {
    "duration": 7,
    "start_time": "2023-01-28T14:47:14.015Z"
   },
   {
    "duration": 40,
    "start_time": "2023-01-28T14:47:14.024Z"
   },
   {
    "duration": 165,
    "start_time": "2023-01-28T14:47:14.066Z"
   },
   {
    "duration": 0,
    "start_time": "2023-01-28T14:47:14.234Z"
   },
   {
    "duration": 0,
    "start_time": "2023-01-28T14:47:14.238Z"
   },
   {
    "duration": 0,
    "start_time": "2023-01-28T14:47:14.240Z"
   },
   {
    "duration": 0,
    "start_time": "2023-01-28T14:47:14.241Z"
   },
   {
    "duration": 0,
    "start_time": "2023-01-28T14:47:14.243Z"
   },
   {
    "duration": 0,
    "start_time": "2023-01-28T14:47:14.244Z"
   },
   {
    "duration": 0,
    "start_time": "2023-01-28T14:47:14.245Z"
   },
   {
    "duration": 0,
    "start_time": "2023-01-28T14:47:14.247Z"
   },
   {
    "duration": 0,
    "start_time": "2023-01-28T14:47:14.249Z"
   },
   {
    "duration": 0,
    "start_time": "2023-01-28T14:47:14.253Z"
   },
   {
    "duration": 0,
    "start_time": "2023-01-28T14:47:14.254Z"
   },
   {
    "duration": 0,
    "start_time": "2023-01-28T14:47:14.255Z"
   },
   {
    "duration": 0,
    "start_time": "2023-01-28T14:47:14.256Z"
   },
   {
    "duration": 261,
    "start_time": "2023-01-28T14:47:52.359Z"
   },
   {
    "duration": 388,
    "start_time": "2023-01-28T14:48:01.375Z"
   },
   {
    "duration": 324,
    "start_time": "2023-01-28T14:48:16.875Z"
   },
   {
    "duration": 70,
    "start_time": "2023-01-28T14:48:29.421Z"
   },
   {
    "duration": 310,
    "start_time": "2023-01-28T14:48:40.083Z"
   },
   {
    "duration": 83,
    "start_time": "2023-01-28T14:59:30.308Z"
   },
   {
    "duration": 1621,
    "start_time": "2023-01-28T15:00:35.858Z"
   },
   {
    "duration": 20,
    "start_time": "2023-01-28T15:00:37.481Z"
   },
   {
    "duration": 937,
    "start_time": "2023-01-28T15:00:37.506Z"
   },
   {
    "duration": 20,
    "start_time": "2023-01-28T15:00:38.448Z"
   },
   {
    "duration": 34,
    "start_time": "2023-01-28T15:00:38.470Z"
   },
   {
    "duration": 110,
    "start_time": "2023-01-28T15:00:38.506Z"
   },
   {
    "duration": 14,
    "start_time": "2023-01-28T15:00:38.618Z"
   },
   {
    "duration": 49,
    "start_time": "2023-01-28T15:00:38.634Z"
   },
   {
    "duration": 6,
    "start_time": "2023-01-28T15:00:38.684Z"
   },
   {
    "duration": 7,
    "start_time": "2023-01-28T15:00:38.693Z"
   },
   {
    "duration": 52,
    "start_time": "2023-01-28T15:00:38.707Z"
   },
   {
    "duration": 15,
    "start_time": "2023-01-28T15:00:38.762Z"
   },
   {
    "duration": 9,
    "start_time": "2023-01-28T15:00:38.779Z"
   },
   {
    "duration": 9,
    "start_time": "2023-01-28T15:00:38.790Z"
   },
   {
    "duration": 62,
    "start_time": "2023-01-28T15:00:38.801Z"
   },
   {
    "duration": 16,
    "start_time": "2023-01-28T15:00:38.865Z"
   },
   {
    "duration": 6,
    "start_time": "2023-01-28T15:00:38.883Z"
   },
   {
    "duration": 20,
    "start_time": "2023-01-28T15:00:38.891Z"
   },
   {
    "duration": 12,
    "start_time": "2023-01-28T15:00:38.913Z"
   },
   {
    "duration": 45,
    "start_time": "2023-01-28T15:00:38.931Z"
   },
   {
    "duration": 286,
    "start_time": "2023-01-28T15:00:38.978Z"
   },
   {
    "duration": 167,
    "start_time": "2023-01-28T15:00:39.266Z"
   },
   {
    "duration": 24,
    "start_time": "2023-01-28T15:00:39.435Z"
   },
   {
    "duration": 231,
    "start_time": "2023-01-28T15:00:39.462Z"
   },
   {
    "duration": 262,
    "start_time": "2023-01-28T15:00:39.695Z"
   },
   {
    "duration": 806,
    "start_time": "2023-01-28T15:00:39.961Z"
   },
   {
    "duration": 681,
    "start_time": "2023-01-28T15:00:40.772Z"
   },
   {
    "duration": 548,
    "start_time": "2023-01-28T15:00:41.461Z"
   },
   {
    "duration": 455,
    "start_time": "2023-01-28T15:00:42.015Z"
   },
   {
    "duration": 41,
    "start_time": "2023-01-28T15:00:42.473Z"
   },
   {
    "duration": 55,
    "start_time": "2023-01-28T15:00:42.516Z"
   },
   {
    "duration": 215,
    "start_time": "2023-01-28T15:00:42.573Z"
   },
   {
    "duration": 171,
    "start_time": "2023-01-28T15:00:42.790Z"
   },
   {
    "duration": 230,
    "start_time": "2023-01-28T15:00:42.966Z"
   },
   {
    "duration": 189,
    "start_time": "2023-01-28T15:00:43.198Z"
   },
   {
    "duration": 188,
    "start_time": "2023-01-28T15:00:43.389Z"
   },
   {
    "duration": 188,
    "start_time": "2023-01-28T15:00:43.580Z"
   },
   {
    "duration": 178,
    "start_time": "2023-01-28T15:00:43.771Z"
   },
   {
    "duration": 287,
    "start_time": "2023-01-28T15:00:43.954Z"
   },
   {
    "duration": 223,
    "start_time": "2023-01-28T15:00:44.243Z"
   },
   {
    "duration": 195,
    "start_time": "2023-01-28T15:00:44.469Z"
   },
   {
    "duration": 190,
    "start_time": "2023-01-28T15:00:44.666Z"
   },
   {
    "duration": 171,
    "start_time": "2023-01-28T15:00:44.858Z"
   },
   {
    "duration": 47,
    "start_time": "2023-01-28T15:00:45.031Z"
   },
   {
    "duration": 203,
    "start_time": "2023-01-28T15:00:45.080Z"
   },
   {
    "duration": 497,
    "start_time": "2023-01-28T15:00:45.285Z"
   },
   {
    "duration": 385,
    "start_time": "2023-01-28T15:00:45.784Z"
   },
   {
    "duration": 6,
    "start_time": "2023-01-28T15:00:46.171Z"
   },
   {
    "duration": 9,
    "start_time": "2023-01-28T15:00:46.179Z"
   },
   {
    "duration": 415,
    "start_time": "2023-01-28T15:00:46.189Z"
   },
   {
    "duration": 5,
    "start_time": "2023-01-28T15:00:46.608Z"
   },
   {
    "duration": 56,
    "start_time": "2023-01-28T15:00:46.615Z"
   },
   {
    "duration": 20,
    "start_time": "2023-01-28T15:00:46.673Z"
   },
   {
    "duration": 8,
    "start_time": "2023-01-28T15:00:46.695Z"
   },
   {
    "duration": 68,
    "start_time": "2023-01-28T15:00:46.711Z"
   },
   {
    "duration": 280,
    "start_time": "2023-01-28T15:00:46.781Z"
   },
   {
    "duration": 400,
    "start_time": "2023-01-28T15:00:47.067Z"
   },
   {
    "duration": 58,
    "start_time": "2023-01-28T15:00:47.470Z"
   },
   {
    "duration": 20,
    "start_time": "2023-01-28T15:00:47.530Z"
   },
   {
    "duration": 34,
    "start_time": "2023-01-28T15:00:47.553Z"
   },
   {
    "duration": 27,
    "start_time": "2023-01-28T15:00:47.589Z"
   },
   {
    "duration": 57,
    "start_time": "2023-01-28T15:00:47.617Z"
   },
   {
    "duration": 14,
    "start_time": "2023-01-28T15:00:47.676Z"
   },
   {
    "duration": 59,
    "start_time": "2023-01-28T15:00:47.692Z"
   },
   {
    "duration": 32,
    "start_time": "2023-01-28T15:00:47.753Z"
   },
   {
    "duration": 17,
    "start_time": "2023-01-28T15:00:47.787Z"
   },
   {
    "duration": 39,
    "start_time": "2023-01-28T15:00:47.807Z"
   },
   {
    "duration": 24,
    "start_time": "2023-01-28T15:00:47.848Z"
   },
   {
    "duration": 11,
    "start_time": "2023-01-28T15:00:47.874Z"
   },
   {
    "duration": 11,
    "start_time": "2023-01-28T15:00:47.887Z"
   },
   {
    "duration": 331,
    "start_time": "2023-01-28T15:02:53.541Z"
   },
   {
    "duration": 11,
    "start_time": "2023-01-28T15:03:02.719Z"
   },
   {
    "duration": 5,
    "start_time": "2023-01-28T15:03:03.463Z"
   },
   {
    "duration": 15,
    "start_time": "2023-01-28T15:03:15.929Z"
   },
   {
    "duration": 19,
    "start_time": "2023-01-28T15:03:23.955Z"
   },
   {
    "duration": 320,
    "start_time": "2023-01-28T15:03:35.269Z"
   },
   {
    "duration": 49,
    "start_time": "2023-01-28T15:06:02.149Z"
   },
   {
    "duration": 48,
    "start_time": "2023-01-28T15:06:54.978Z"
   }
  ],
  "kernelspec": {
   "display_name": "Python 3 (ipykernel)",
   "language": "python",
   "name": "python3"
  },
  "language_info": {
   "codemirror_mode": {
    "name": "ipython",
    "version": 3
   },
   "file_extension": ".py",
   "mimetype": "text/x-python",
   "name": "python",
   "nbconvert_exporter": "python",
   "pygments_lexer": "ipython3",
   "version": "3.9.5"
  },
  "toc": {
   "base_numbering": 1,
   "nav_menu": {},
   "number_sections": true,
   "sideBar": true,
   "skip_h1_title": true,
   "title_cell": "Table of Contents",
   "title_sidebar": "Contents",
   "toc_cell": false,
   "toc_position": {
    "height": "calc(100% - 180px)",
    "left": "10px",
    "top": "150px",
    "width": "165px"
   },
   "toc_section_display": true,
   "toc_window_display": true
  }
 },
 "nbformat": 4,
 "nbformat_minor": 2
}
