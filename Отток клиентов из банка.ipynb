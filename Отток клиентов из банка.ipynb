{
 "cells": [
  {
   "cell_type": "markdown",
   "metadata": {
    "toc": true
   },
   "source": [
    "<h1>Содержание<span class=\"tocSkip\"></span></h1>\n",
    "<div class=\"toc\"><ul class=\"toc-item\"><li><span><a href=\"#Подготовка-данных\" data-toc-modified-id=\"Подготовка-данных-1\"><span class=\"toc-item-num\">1&nbsp;&nbsp;</span>Подготовка данных</a></span></li><li><span><a href=\"#Исследование-задачи\" data-toc-modified-id=\"Исследование-задачи-2\"><span class=\"toc-item-num\">2&nbsp;&nbsp;</span>Исследование задачи</a></span><ul class=\"toc-item\"><li><span><a href=\"#Обучение-моделей.-Логистическая-регрессия\" data-toc-modified-id=\"Обучение-моделей.-Логистическая-регрессия-2.1\"><span class=\"toc-item-num\">2.1&nbsp;&nbsp;</span>Обучение моделей. Логистическая регрессия</a></span></li><li><span><a href=\"#Дерево-решений\" data-toc-modified-id=\"Дерево-решений-2.2\"><span class=\"toc-item-num\">2.2&nbsp;&nbsp;</span>Дерево решений</a></span></li><li><span><a href=\"#Случайный-лес\" data-toc-modified-id=\"Случайный-лес-2.3\"><span class=\"toc-item-num\">2.3&nbsp;&nbsp;</span>Случайный лес</a></span></li></ul></li><li><span><a href=\"#Борьба-с-дисбалансом\" data-toc-modified-id=\"Борьба-с-дисбалансом-3\"><span class=\"toc-item-num\">3&nbsp;&nbsp;</span>Борьба с дисбалансом</a></span><ul class=\"toc-item\"><li><ul class=\"toc-item\"><li><span><a href=\"#Произведем-взвешивание-классов\" data-toc-modified-id=\"Произведем-взвешивание-классов-3.0.1\"><span class=\"toc-item-num\">3.0.1&nbsp;&nbsp;</span>Произведем взвешивание классов</a></span></li><li><span><a href=\"#с-увеличением(upsample)-выборки\" data-toc-modified-id=\"с-увеличением(upsample)-выборки-3.0.2\"><span class=\"toc-item-num\">3.0.2&nbsp;&nbsp;</span>с увеличением(upsample) выборки</a></span></li><li><span><a href=\"#уменьшением(downsample)-выборки\" data-toc-modified-id=\"уменьшением(downsample)-выборки-3.0.3\"><span class=\"toc-item-num\">3.0.3&nbsp;&nbsp;</span>уменьшением(downsample) выборки</a></span></li></ul></li></ul></li><li><span><a href=\"#Тестирование-модели\" data-toc-modified-id=\"Тестирование-модели-4\"><span class=\"toc-item-num\">4&nbsp;&nbsp;</span>Тестирование модели</a></span></li><li><span><a href=\"#Общий-вывод:\" data-toc-modified-id=\"Общий-вывод:-5\"><span class=\"toc-item-num\">5&nbsp;&nbsp;</span>Общий вывод:</a></span></li><li><span><a href=\"#Чек-лист-готовности-проекта\" data-toc-modified-id=\"Чек-лист-готовности-проекта-6\"><span class=\"toc-item-num\">6&nbsp;&nbsp;</span>Чек-лист готовности проекта</a></span></li></ul></div>"
   ]
  },
  {
   "cell_type": "markdown",
   "metadata": {},
   "source": [
    "# Отток клиентов"
   ]
  },
  {
   "cell_type": "markdown",
   "metadata": {},
   "source": [
    "Из «Бета-Банка» стали уходить клиенты. Каждый месяц. Немного, но заметно. Банковские маркетологи посчитали: сохранять текущих клиентов дешевле, чем привлекать новых.\n",
    "\n",
    "Нужно спрогнозировать, уйдёт клиент из банка в ближайшее время или нет. Вам предоставлены исторические данные о поведении клиентов и расторжении договоров с банком. \n",
    "\n",
    "Постройте модель с предельно большим значением *F1*-меры. Чтобы сдать проект успешно, нужно довести метрику до 0.59. Проверьте *F1*-меру на тестовой выборке самостоятельно.\n",
    "\n",
    "Дополнительно измеряйте *AUC-ROC*, сравнивайте её значение с *F1*-мерой.\n",
    "\n",
    "Источник данных: [https://www.kaggle.com/barelydedicated/bank-customer-churn-modeling](https://www.kaggle.com/barelydedicated/bank-customer-churn-modeling)"
   ]
  },
  {
   "cell_type": "markdown",
   "metadata": {},
   "source": [
    "## Подготовка данных"
   ]
  },
  {
   "cell_type": "code",
   "execution_count": 1,
   "metadata": {},
   "outputs": [],
   "source": [
    "import pandas as pd\n",
    "from sklearn.model_selection import train_test_split\n",
    "\n",
    "from sklearn.linear_model import LogisticRegression\n",
    "from sklearn.ensemble import RandomForestClassifier\n",
    "from sklearn.tree import DecisionTreeClassifier\n",
    "from sklearn.dummy import DummyClassifier\n",
    "from sklearn.preprocessing import StandardScaler\n",
    "from sklearn.metrics import accuracy_score,classification_report, f1_score, recall_score, precision_score, roc_auc_score, roc_curve, confusion_matrix\n",
    "from sklearn.utils import shuffle"
   ]
  },
  {
   "cell_type": "code",
   "execution_count": 2,
   "metadata": {},
   "outputs": [
    {
     "data": {
      "text/html": [
       "<div>\n",
       "<style scoped>\n",
       "    .dataframe tbody tr th:only-of-type {\n",
       "        vertical-align: middle;\n",
       "    }\n",
       "\n",
       "    .dataframe tbody tr th {\n",
       "        vertical-align: top;\n",
       "    }\n",
       "\n",
       "    .dataframe thead th {\n",
       "        text-align: right;\n",
       "    }\n",
       "</style>\n",
       "<table border=\"1\" class=\"dataframe\">\n",
       "  <thead>\n",
       "    <tr style=\"text-align: right;\">\n",
       "      <th></th>\n",
       "      <th>RowNumber</th>\n",
       "      <th>CustomerId</th>\n",
       "      <th>Surname</th>\n",
       "      <th>CreditScore</th>\n",
       "      <th>Geography</th>\n",
       "      <th>Gender</th>\n",
       "      <th>Age</th>\n",
       "      <th>Tenure</th>\n",
       "      <th>Balance</th>\n",
       "      <th>NumOfProducts</th>\n",
       "      <th>HasCrCard</th>\n",
       "      <th>IsActiveMember</th>\n",
       "      <th>EstimatedSalary</th>\n",
       "      <th>Exited</th>\n",
       "    </tr>\n",
       "  </thead>\n",
       "  <tbody>\n",
       "    <tr>\n",
       "      <th>0</th>\n",
       "      <td>1</td>\n",
       "      <td>15634602</td>\n",
       "      <td>Hargrave</td>\n",
       "      <td>619</td>\n",
       "      <td>France</td>\n",
       "      <td>Female</td>\n",
       "      <td>42</td>\n",
       "      <td>2.0</td>\n",
       "      <td>0.00</td>\n",
       "      <td>1</td>\n",
       "      <td>1</td>\n",
       "      <td>1</td>\n",
       "      <td>101348.88</td>\n",
       "      <td>1</td>\n",
       "    </tr>\n",
       "    <tr>\n",
       "      <th>1</th>\n",
       "      <td>2</td>\n",
       "      <td>15647311</td>\n",
       "      <td>Hill</td>\n",
       "      <td>608</td>\n",
       "      <td>Spain</td>\n",
       "      <td>Female</td>\n",
       "      <td>41</td>\n",
       "      <td>1.0</td>\n",
       "      <td>83807.86</td>\n",
       "      <td>1</td>\n",
       "      <td>0</td>\n",
       "      <td>1</td>\n",
       "      <td>112542.58</td>\n",
       "      <td>0</td>\n",
       "    </tr>\n",
       "    <tr>\n",
       "      <th>2</th>\n",
       "      <td>3</td>\n",
       "      <td>15619304</td>\n",
       "      <td>Onio</td>\n",
       "      <td>502</td>\n",
       "      <td>France</td>\n",
       "      <td>Female</td>\n",
       "      <td>42</td>\n",
       "      <td>8.0</td>\n",
       "      <td>159660.80</td>\n",
       "      <td>3</td>\n",
       "      <td>1</td>\n",
       "      <td>0</td>\n",
       "      <td>113931.57</td>\n",
       "      <td>1</td>\n",
       "    </tr>\n",
       "    <tr>\n",
       "      <th>3</th>\n",
       "      <td>4</td>\n",
       "      <td>15701354</td>\n",
       "      <td>Boni</td>\n",
       "      <td>699</td>\n",
       "      <td>France</td>\n",
       "      <td>Female</td>\n",
       "      <td>39</td>\n",
       "      <td>1.0</td>\n",
       "      <td>0.00</td>\n",
       "      <td>2</td>\n",
       "      <td>0</td>\n",
       "      <td>0</td>\n",
       "      <td>93826.63</td>\n",
       "      <td>0</td>\n",
       "    </tr>\n",
       "    <tr>\n",
       "      <th>4</th>\n",
       "      <td>5</td>\n",
       "      <td>15737888</td>\n",
       "      <td>Mitchell</td>\n",
       "      <td>850</td>\n",
       "      <td>Spain</td>\n",
       "      <td>Female</td>\n",
       "      <td>43</td>\n",
       "      <td>2.0</td>\n",
       "      <td>125510.82</td>\n",
       "      <td>1</td>\n",
       "      <td>1</td>\n",
       "      <td>1</td>\n",
       "      <td>79084.10</td>\n",
       "      <td>0</td>\n",
       "    </tr>\n",
       "  </tbody>\n",
       "</table>\n",
       "</div>"
      ],
      "text/plain": [
       "   RowNumber  CustomerId   Surname  CreditScore Geography  Gender  Age  \\\n",
       "0          1    15634602  Hargrave          619    France  Female   42   \n",
       "1          2    15647311      Hill          608     Spain  Female   41   \n",
       "2          3    15619304      Onio          502    France  Female   42   \n",
       "3          4    15701354      Boni          699    France  Female   39   \n",
       "4          5    15737888  Mitchell          850     Spain  Female   43   \n",
       "\n",
       "   Tenure    Balance  NumOfProducts  HasCrCard  IsActiveMember  \\\n",
       "0     2.0       0.00              1          1               1   \n",
       "1     1.0   83807.86              1          0               1   \n",
       "2     8.0  159660.80              3          1               0   \n",
       "3     1.0       0.00              2          0               0   \n",
       "4     2.0  125510.82              1          1               1   \n",
       "\n",
       "   EstimatedSalary  Exited  \n",
       "0        101348.88       1  \n",
       "1        112542.58       0  \n",
       "2        113931.57       1  \n",
       "3         93826.63       0  \n",
       "4         79084.10       0  "
      ]
     },
     "execution_count": 2,
     "metadata": {},
     "output_type": "execute_result"
    }
   ],
   "source": [
    "df = pd.read_csv('/datasets/Churn.csv')\n",
    "df.head()"
   ]
  },
  {
   "cell_type": "code",
   "execution_count": 3,
   "metadata": {},
   "outputs": [
    {
     "name": "stdout",
     "output_type": "stream",
     "text": [
      "<class 'pandas.core.frame.DataFrame'>\n",
      "RangeIndex: 10000 entries, 0 to 9999\n",
      "Data columns (total 14 columns):\n",
      " #   Column           Non-Null Count  Dtype  \n",
      "---  ------           --------------  -----  \n",
      " 0   RowNumber        10000 non-null  int64  \n",
      " 1   CustomerId       10000 non-null  int64  \n",
      " 2   Surname          10000 non-null  object \n",
      " 3   CreditScore      10000 non-null  int64  \n",
      " 4   Geography        10000 non-null  object \n",
      " 5   Gender           10000 non-null  object \n",
      " 6   Age              10000 non-null  int64  \n",
      " 7   Tenure           9091 non-null   float64\n",
      " 8   Balance          10000 non-null  float64\n",
      " 9   NumOfProducts    10000 non-null  int64  \n",
      " 10  HasCrCard        10000 non-null  int64  \n",
      " 11  IsActiveMember   10000 non-null  int64  \n",
      " 12  EstimatedSalary  10000 non-null  float64\n",
      " 13  Exited           10000 non-null  int64  \n",
      "dtypes: float64(3), int64(8), object(3)\n",
      "memory usage: 1.1+ MB\n"
     ]
    }
   ],
   "source": [
    "df.info()"
   ]
  },
  {
   "cell_type": "code",
   "execution_count": 4,
   "metadata": {},
   "outputs": [
    {
     "data": {
      "text/html": [
       "<style  type=\"text/css\" >\n",
       "#T_b9441_row0_col0,#T_b9441_row1_col0,#T_b9441_row2_col0,#T_b9441_row3_col0,#T_b9441_row4_col0,#T_b9441_row5_col0,#T_b9441_row6_col0,#T_b9441_row8_col0,#T_b9441_row9_col0,#T_b9441_row10_col0,#T_b9441_row11_col0,#T_b9441_row12_col0,#T_b9441_row13_col0{\n",
       "            background-color:  #3b4cc0;\n",
       "            color:  #f1f1f1;\n",
       "        }#T_b9441_row7_col0{\n",
       "            background-color:  #b40426;\n",
       "            color:  #f1f1f1;\n",
       "        }</style><table id=\"T_b9441_\" ><thead>    <tr>        <th class=\"blank level0\" ></th>        <th class=\"col_heading level0 col0\" >0</th>    </tr></thead><tbody>\n",
       "                <tr>\n",
       "                        <th id=\"T_b9441_level0_row0\" class=\"row_heading level0 row0\" >RowNumber</th>\n",
       "                        <td id=\"T_b9441_row0_col0\" class=\"data row0 col0\" >0.000000</td>\n",
       "            </tr>\n",
       "            <tr>\n",
       "                        <th id=\"T_b9441_level0_row1\" class=\"row_heading level0 row1\" >CustomerId</th>\n",
       "                        <td id=\"T_b9441_row1_col0\" class=\"data row1 col0\" >0.000000</td>\n",
       "            </tr>\n",
       "            <tr>\n",
       "                        <th id=\"T_b9441_level0_row2\" class=\"row_heading level0 row2\" >Surname</th>\n",
       "                        <td id=\"T_b9441_row2_col0\" class=\"data row2 col0\" >0.000000</td>\n",
       "            </tr>\n",
       "            <tr>\n",
       "                        <th id=\"T_b9441_level0_row3\" class=\"row_heading level0 row3\" >CreditScore</th>\n",
       "                        <td id=\"T_b9441_row3_col0\" class=\"data row3 col0\" >0.000000</td>\n",
       "            </tr>\n",
       "            <tr>\n",
       "                        <th id=\"T_b9441_level0_row4\" class=\"row_heading level0 row4\" >Geography</th>\n",
       "                        <td id=\"T_b9441_row4_col0\" class=\"data row4 col0\" >0.000000</td>\n",
       "            </tr>\n",
       "            <tr>\n",
       "                        <th id=\"T_b9441_level0_row5\" class=\"row_heading level0 row5\" >Gender</th>\n",
       "                        <td id=\"T_b9441_row5_col0\" class=\"data row5 col0\" >0.000000</td>\n",
       "            </tr>\n",
       "            <tr>\n",
       "                        <th id=\"T_b9441_level0_row6\" class=\"row_heading level0 row6\" >Age</th>\n",
       "                        <td id=\"T_b9441_row6_col0\" class=\"data row6 col0\" >0.000000</td>\n",
       "            </tr>\n",
       "            <tr>\n",
       "                        <th id=\"T_b9441_level0_row7\" class=\"row_heading level0 row7\" >Tenure</th>\n",
       "                        <td id=\"T_b9441_row7_col0\" class=\"data row7 col0\" >9.000000</td>\n",
       "            </tr>\n",
       "            <tr>\n",
       "                        <th id=\"T_b9441_level0_row8\" class=\"row_heading level0 row8\" >Balance</th>\n",
       "                        <td id=\"T_b9441_row8_col0\" class=\"data row8 col0\" >0.000000</td>\n",
       "            </tr>\n",
       "            <tr>\n",
       "                        <th id=\"T_b9441_level0_row9\" class=\"row_heading level0 row9\" >NumOfProducts</th>\n",
       "                        <td id=\"T_b9441_row9_col0\" class=\"data row9 col0\" >0.000000</td>\n",
       "            </tr>\n",
       "            <tr>\n",
       "                        <th id=\"T_b9441_level0_row10\" class=\"row_heading level0 row10\" >HasCrCard</th>\n",
       "                        <td id=\"T_b9441_row10_col0\" class=\"data row10 col0\" >0.000000</td>\n",
       "            </tr>\n",
       "            <tr>\n",
       "                        <th id=\"T_b9441_level0_row11\" class=\"row_heading level0 row11\" >IsActiveMember</th>\n",
       "                        <td id=\"T_b9441_row11_col0\" class=\"data row11 col0\" >0.000000</td>\n",
       "            </tr>\n",
       "            <tr>\n",
       "                        <th id=\"T_b9441_level0_row12\" class=\"row_heading level0 row12\" >EstimatedSalary</th>\n",
       "                        <td id=\"T_b9441_row12_col0\" class=\"data row12 col0\" >0.000000</td>\n",
       "            </tr>\n",
       "            <tr>\n",
       "                        <th id=\"T_b9441_level0_row13\" class=\"row_heading level0 row13\" >Exited</th>\n",
       "                        <td id=\"T_b9441_row13_col0\" class=\"data row13 col0\" >0.000000</td>\n",
       "            </tr>\n",
       "    </tbody></table>"
      ],
      "text/plain": [
       "<pandas.io.formats.style.Styler at 0x7f88322c22b0>"
      ]
     },
     "execution_count": 4,
     "metadata": {},
     "output_type": "execute_result"
    }
   ],
   "source": [
    "pd.DataFrame(round(df.isna().mean()*100,)).style.background_gradient('coolwarm')"
   ]
  },
  {
   "cell_type": "markdown",
   "metadata": {},
   "source": [
    "Найдены пропуски в столбце \"Tenure\", их количество составляет 9% от общего числа их можно удалить или заменить медианным значением. Воспользуемся вторым вариантом.\n",
    "Пропуски в данном столбце могли появиться из-за технических ошибок, например, при оформление клиента не сохранилась текущая дата."
   ]
  },
  {
   "cell_type": "code",
   "execution_count": 5,
   "metadata": {},
   "outputs": [
    {
     "data": {
      "text/plain": [
       "count    10000.00000\n",
       "mean         4.99790\n",
       "std          2.76001\n",
       "min          0.00000\n",
       "25%          3.00000\n",
       "50%          5.00000\n",
       "75%          7.00000\n",
       "max         10.00000\n",
       "Name: Tenure, dtype: float64"
      ]
     },
     "execution_count": 5,
     "metadata": {},
     "output_type": "execute_result"
    }
   ],
   "source": [
    "df['Tenure'] = df['Tenure']. fillna(df['Tenure'].median())\n",
    "df['Tenure'].describe()"
   ]
  },
  {
   "cell_type": "code",
   "execution_count": 6,
   "metadata": {},
   "outputs": [
    {
     "data": {
      "text/plain": [
       "0"
      ]
     },
     "execution_count": 6,
     "metadata": {},
     "output_type": "execute_result"
    }
   ],
   "source": [
    "df.duplicated().sum()"
   ]
  },
  {
   "cell_type": "code",
   "execution_count": 7,
   "metadata": {},
   "outputs": [
    {
     "data": {
      "text/plain": [
       "10000"
      ]
     },
     "execution_count": 7,
     "metadata": {},
     "output_type": "execute_result"
    }
   ],
   "source": [
    "df['CustomerId'].unique().shape[0]"
   ]
  },
  {
   "cell_type": "markdown",
   "metadata": {},
   "source": [
    "Дубликаты не обнаружены."
   ]
  },
  {
   "cell_type": "code",
   "execution_count": 8,
   "metadata": {},
   "outputs": [
    {
     "data": {
      "text/plain": [
       "array(['France', 'Spain', 'Germany'], dtype=object)"
      ]
     },
     "execution_count": 8,
     "metadata": {},
     "output_type": "execute_result"
    }
   ],
   "source": [
    "df['Geography'].unique()"
   ]
  },
  {
   "cell_type": "code",
   "execution_count": 9,
   "metadata": {},
   "outputs": [
    {
     "data": {
      "text/html": [
       "<div>\n",
       "<style scoped>\n",
       "    .dataframe tbody tr th:only-of-type {\n",
       "        vertical-align: middle;\n",
       "    }\n",
       "\n",
       "    .dataframe tbody tr th {\n",
       "        vertical-align: top;\n",
       "    }\n",
       "\n",
       "    .dataframe thead th {\n",
       "        text-align: right;\n",
       "    }\n",
       "</style>\n",
       "<table border=\"1\" class=\"dataframe\">\n",
       "  <thead>\n",
       "    <tr style=\"text-align: right;\">\n",
       "      <th></th>\n",
       "      <th>CreditScore</th>\n",
       "      <th>Geography</th>\n",
       "      <th>Gender</th>\n",
       "      <th>Age</th>\n",
       "      <th>Tenure</th>\n",
       "      <th>Balance</th>\n",
       "      <th>NumOfProducts</th>\n",
       "      <th>HasCrCard</th>\n",
       "      <th>IsActiveMember</th>\n",
       "      <th>EstimatedSalary</th>\n",
       "      <th>Exited</th>\n",
       "    </tr>\n",
       "  </thead>\n",
       "  <tbody>\n",
       "    <tr>\n",
       "      <th>0</th>\n",
       "      <td>619</td>\n",
       "      <td>France</td>\n",
       "      <td>Female</td>\n",
       "      <td>42</td>\n",
       "      <td>2.0</td>\n",
       "      <td>0.00</td>\n",
       "      <td>1</td>\n",
       "      <td>1</td>\n",
       "      <td>1</td>\n",
       "      <td>101348.88</td>\n",
       "      <td>1</td>\n",
       "    </tr>\n",
       "    <tr>\n",
       "      <th>1</th>\n",
       "      <td>608</td>\n",
       "      <td>Spain</td>\n",
       "      <td>Female</td>\n",
       "      <td>41</td>\n",
       "      <td>1.0</td>\n",
       "      <td>83807.86</td>\n",
       "      <td>1</td>\n",
       "      <td>0</td>\n",
       "      <td>1</td>\n",
       "      <td>112542.58</td>\n",
       "      <td>0</td>\n",
       "    </tr>\n",
       "    <tr>\n",
       "      <th>2</th>\n",
       "      <td>502</td>\n",
       "      <td>France</td>\n",
       "      <td>Female</td>\n",
       "      <td>42</td>\n",
       "      <td>8.0</td>\n",
       "      <td>159660.80</td>\n",
       "      <td>3</td>\n",
       "      <td>1</td>\n",
       "      <td>0</td>\n",
       "      <td>113931.57</td>\n",
       "      <td>1</td>\n",
       "    </tr>\n",
       "    <tr>\n",
       "      <th>3</th>\n",
       "      <td>699</td>\n",
       "      <td>France</td>\n",
       "      <td>Female</td>\n",
       "      <td>39</td>\n",
       "      <td>1.0</td>\n",
       "      <td>0.00</td>\n",
       "      <td>2</td>\n",
       "      <td>0</td>\n",
       "      <td>0</td>\n",
       "      <td>93826.63</td>\n",
       "      <td>0</td>\n",
       "    </tr>\n",
       "    <tr>\n",
       "      <th>4</th>\n",
       "      <td>850</td>\n",
       "      <td>Spain</td>\n",
       "      <td>Female</td>\n",
       "      <td>43</td>\n",
       "      <td>2.0</td>\n",
       "      <td>125510.82</td>\n",
       "      <td>1</td>\n",
       "      <td>1</td>\n",
       "      <td>1</td>\n",
       "      <td>79084.10</td>\n",
       "      <td>0</td>\n",
       "    </tr>\n",
       "  </tbody>\n",
       "</table>\n",
       "</div>"
      ],
      "text/plain": [
       "   CreditScore Geography  Gender  Age  Tenure    Balance  NumOfProducts  \\\n",
       "0          619    France  Female   42     2.0       0.00              1   \n",
       "1          608     Spain  Female   41     1.0   83807.86              1   \n",
       "2          502    France  Female   42     8.0  159660.80              3   \n",
       "3          699    France  Female   39     1.0       0.00              2   \n",
       "4          850     Spain  Female   43     2.0  125510.82              1   \n",
       "\n",
       "   HasCrCard  IsActiveMember  EstimatedSalary  Exited  \n",
       "0          1               1        101348.88       1  \n",
       "1          0               1        112542.58       0  \n",
       "2          1               0        113931.57       1  \n",
       "3          0               0         93826.63       0  \n",
       "4          1               1         79084.10       0  "
      ]
     },
     "execution_count": 9,
     "metadata": {},
     "output_type": "execute_result"
    }
   ],
   "source": [
    "df_new=df.drop(['RowNumber','CustomerId', 'Surname'],axis=1)\n",
    "df_new.head()"
   ]
  },
  {
   "cell_type": "markdown",
   "metadata": {},
   "source": [
    "Переведем категориальные признаки в численные с помощью техники ОНЕ"
   ]
  },
  {
   "cell_type": "code",
   "execution_count": 10,
   "metadata": {},
   "outputs": [
    {
     "data": {
      "text/html": [
       "<div>\n",
       "<style scoped>\n",
       "    .dataframe tbody tr th:only-of-type {\n",
       "        vertical-align: middle;\n",
       "    }\n",
       "\n",
       "    .dataframe tbody tr th {\n",
       "        vertical-align: top;\n",
       "    }\n",
       "\n",
       "    .dataframe thead th {\n",
       "        text-align: right;\n",
       "    }\n",
       "</style>\n",
       "<table border=\"1\" class=\"dataframe\">\n",
       "  <thead>\n",
       "    <tr style=\"text-align: right;\">\n",
       "      <th></th>\n",
       "      <th>CreditScore</th>\n",
       "      <th>Age</th>\n",
       "      <th>Tenure</th>\n",
       "      <th>Balance</th>\n",
       "      <th>NumOfProducts</th>\n",
       "      <th>HasCrCard</th>\n",
       "      <th>IsActiveMember</th>\n",
       "      <th>EstimatedSalary</th>\n",
       "      <th>Exited</th>\n",
       "      <th>Geography_Germany</th>\n",
       "      <th>Geography_Spain</th>\n",
       "      <th>Gender_Male</th>\n",
       "    </tr>\n",
       "  </thead>\n",
       "  <tbody>\n",
       "    <tr>\n",
       "      <th>0</th>\n",
       "      <td>619</td>\n",
       "      <td>42</td>\n",
       "      <td>2.0</td>\n",
       "      <td>0.00</td>\n",
       "      <td>1</td>\n",
       "      <td>1</td>\n",
       "      <td>1</td>\n",
       "      <td>101348.88</td>\n",
       "      <td>1</td>\n",
       "      <td>0</td>\n",
       "      <td>0</td>\n",
       "      <td>0</td>\n",
       "    </tr>\n",
       "    <tr>\n",
       "      <th>1</th>\n",
       "      <td>608</td>\n",
       "      <td>41</td>\n",
       "      <td>1.0</td>\n",
       "      <td>83807.86</td>\n",
       "      <td>1</td>\n",
       "      <td>0</td>\n",
       "      <td>1</td>\n",
       "      <td>112542.58</td>\n",
       "      <td>0</td>\n",
       "      <td>0</td>\n",
       "      <td>1</td>\n",
       "      <td>0</td>\n",
       "    </tr>\n",
       "    <tr>\n",
       "      <th>2</th>\n",
       "      <td>502</td>\n",
       "      <td>42</td>\n",
       "      <td>8.0</td>\n",
       "      <td>159660.80</td>\n",
       "      <td>3</td>\n",
       "      <td>1</td>\n",
       "      <td>0</td>\n",
       "      <td>113931.57</td>\n",
       "      <td>1</td>\n",
       "      <td>0</td>\n",
       "      <td>0</td>\n",
       "      <td>0</td>\n",
       "    </tr>\n",
       "    <tr>\n",
       "      <th>3</th>\n",
       "      <td>699</td>\n",
       "      <td>39</td>\n",
       "      <td>1.0</td>\n",
       "      <td>0.00</td>\n",
       "      <td>2</td>\n",
       "      <td>0</td>\n",
       "      <td>0</td>\n",
       "      <td>93826.63</td>\n",
       "      <td>0</td>\n",
       "      <td>0</td>\n",
       "      <td>0</td>\n",
       "      <td>0</td>\n",
       "    </tr>\n",
       "    <tr>\n",
       "      <th>4</th>\n",
       "      <td>850</td>\n",
       "      <td>43</td>\n",
       "      <td>2.0</td>\n",
       "      <td>125510.82</td>\n",
       "      <td>1</td>\n",
       "      <td>1</td>\n",
       "      <td>1</td>\n",
       "      <td>79084.10</td>\n",
       "      <td>0</td>\n",
       "      <td>0</td>\n",
       "      <td>1</td>\n",
       "      <td>0</td>\n",
       "    </tr>\n",
       "  </tbody>\n",
       "</table>\n",
       "</div>"
      ],
      "text/plain": [
       "   CreditScore  Age  Tenure    Balance  NumOfProducts  HasCrCard  \\\n",
       "0          619   42     2.0       0.00              1          1   \n",
       "1          608   41     1.0   83807.86              1          0   \n",
       "2          502   42     8.0  159660.80              3          1   \n",
       "3          699   39     1.0       0.00              2          0   \n",
       "4          850   43     2.0  125510.82              1          1   \n",
       "\n",
       "   IsActiveMember  EstimatedSalary  Exited  Geography_Germany  \\\n",
       "0               1        101348.88       1                  0   \n",
       "1               1        112542.58       0                  0   \n",
       "2               0        113931.57       1                  0   \n",
       "3               0         93826.63       0                  0   \n",
       "4               1         79084.10       0                  0   \n",
       "\n",
       "   Geography_Spain  Gender_Male  \n",
       "0                0            0  \n",
       "1                1            0  \n",
       "2                0            0  \n",
       "3                0            0  \n",
       "4                1            0  "
      ]
     },
     "execution_count": 10,
     "metadata": {},
     "output_type": "execute_result"
    }
   ],
   "source": [
    "df_new = pd.get_dummies(df_new, drop_first=True)\n",
    "df_new.head()"
   ]
  },
  {
   "cell_type": "markdown",
   "metadata": {},
   "source": [
    "**Вывод:** после исследования и преобразования данных мы заменили пропуски в столбце \"Tenure\", что бы избежать дамми ловушек мы заменили столбцы \"Geography\" и \"Gender\" на новые столбцы, характеризующие их по классам."
   ]
  },
  {
   "cell_type": "markdown",
   "metadata": {},
   "source": [
    "**Разобьем данные на выборки**\n",
    "\n",
    "Разделим исходные данные на обучающую, валидационную и тестовую выборки. в итоге должны получить соотношение 60/20/20\n",
    "\n",
    "Разобьем выборки на 60% обучающую и 40% валидационную"
   ]
  },
  {
   "cell_type": "code",
   "execution_count": 11,
   "metadata": {},
   "outputs": [],
   "source": [
    "features = df_new.drop('Exited', axis=1) # извлекаем признак\n",
    "target = df_new['Exited'] #цизвлекаем нулевой признак\n",
    "\n",
    "features_train, features_test, target_train, target_test  = (\n",
    "    train_test_split(features, target, test_size=0.4, random_state=12345)\n",
    ")"
   ]
  },
  {
   "cell_type": "markdown",
   "metadata": {},
   "source": [
    "Валидационную на тестовую и валидацонную в соотношении 50/50"
   ]
  },
  {
   "cell_type": "markdown",
   "metadata": {},
   "source": [
    "Проверка:"
   ]
  },
  {
   "cell_type": "code",
   "execution_count": 13,
   "metadata": {},
   "outputs": [
    {
     "name": "stdout",
     "output_type": "stream",
     "text": [
      "тренировочная 60.0%\n",
      "валидационная 20.0%\n",
      "тестовая 20.0%\n"
     ]
    }
   ],
   "source": [
    "print(f'тренировочная {features_train.shape[0] / len(df_new):.1%}')\n",
    "print(f'валидационная {features_valid.shape[0] / len(df_new):.1%}')\n",
    "print(f'тестовая {features_test.shape[0] / len(df_new):.1%}')"
   ]
  },
  {
   "cell_type": "markdown",
   "metadata": {},
   "source": [
    "**Вывод:** данные поделены корректно."
   ]
  },
  {
   "cell_type": "markdown",
   "metadata": {},
   "source": [
    "**Проведем масштабирование признаков**"
   ]
  },
  {
   "cell_type": "code",
   "execution_count": 14,
   "metadata": {},
   "outputs": [],
   "source": [
    "numeric = ['CreditScore', 'Age', 'Tenure', 'Balance', 'NumOfProducts', 'EstimatedSalary']\n",
    "\n",
    "scaler = StandardScaler()\n",
    "scaler.fit(features_train[numeric])\n",
    "pd.options.mode.chained_assignment = None"
   ]
  },
  {
   "cell_type": "code",
   "execution_count": 15,
   "metadata": {},
   "outputs": [
    {
     "data": {
      "text/html": [
       "<div>\n",
       "<style scoped>\n",
       "    .dataframe tbody tr th:only-of-type {\n",
       "        vertical-align: middle;\n",
       "    }\n",
       "\n",
       "    .dataframe tbody tr th {\n",
       "        vertical-align: top;\n",
       "    }\n",
       "\n",
       "    .dataframe thead th {\n",
       "        text-align: right;\n",
       "    }\n",
       "</style>\n",
       "<table border=\"1\" class=\"dataframe\">\n",
       "  <thead>\n",
       "    <tr style=\"text-align: right;\">\n",
       "      <th></th>\n",
       "      <th>CreditScore</th>\n",
       "      <th>Age</th>\n",
       "      <th>Tenure</th>\n",
       "      <th>Balance</th>\n",
       "      <th>NumOfProducts</th>\n",
       "      <th>HasCrCard</th>\n",
       "      <th>IsActiveMember</th>\n",
       "      <th>EstimatedSalary</th>\n",
       "      <th>Geography_Germany</th>\n",
       "      <th>Geography_Spain</th>\n",
       "      <th>Gender_Male</th>\n",
       "    </tr>\n",
       "  </thead>\n",
       "  <tbody>\n",
       "    <tr>\n",
       "      <th>7479</th>\n",
       "      <td>-0.886751</td>\n",
       "      <td>-0.373192</td>\n",
       "      <td>1.082277</td>\n",
       "      <td>1.232271</td>\n",
       "      <td>-0.891560</td>\n",
       "      <td>1</td>\n",
       "      <td>0</td>\n",
       "      <td>-0.187705</td>\n",
       "      <td>0</td>\n",
       "      <td>1</td>\n",
       "      <td>1</td>\n",
       "    </tr>\n",
       "    <tr>\n",
       "      <th>3411</th>\n",
       "      <td>0.608663</td>\n",
       "      <td>-0.183385</td>\n",
       "      <td>1.082277</td>\n",
       "      <td>0.600563</td>\n",
       "      <td>-0.891560</td>\n",
       "      <td>0</td>\n",
       "      <td>0</td>\n",
       "      <td>-0.333945</td>\n",
       "      <td>0</td>\n",
       "      <td>0</td>\n",
       "      <td>0</td>\n",
       "    </tr>\n",
       "    <tr>\n",
       "      <th>6027</th>\n",
       "      <td>2.052152</td>\n",
       "      <td>0.480939</td>\n",
       "      <td>-0.737696</td>\n",
       "      <td>1.027098</td>\n",
       "      <td>0.830152</td>\n",
       "      <td>0</td>\n",
       "      <td>1</td>\n",
       "      <td>1.503095</td>\n",
       "      <td>1</td>\n",
       "      <td>0</td>\n",
       "      <td>1</td>\n",
       "    </tr>\n",
       "    <tr>\n",
       "      <th>1247</th>\n",
       "      <td>-1.457915</td>\n",
       "      <td>-1.417129</td>\n",
       "      <td>0.354288</td>\n",
       "      <td>-1.233163</td>\n",
       "      <td>0.830152</td>\n",
       "      <td>1</td>\n",
       "      <td>0</td>\n",
       "      <td>-1.071061</td>\n",
       "      <td>0</td>\n",
       "      <td>0</td>\n",
       "      <td>1</td>\n",
       "    </tr>\n",
       "    <tr>\n",
       "      <th>3716</th>\n",
       "      <td>0.130961</td>\n",
       "      <td>-1.132419</td>\n",
       "      <td>-1.101690</td>\n",
       "      <td>1.140475</td>\n",
       "      <td>-0.891560</td>\n",
       "      <td>0</td>\n",
       "      <td>0</td>\n",
       "      <td>1.524268</td>\n",
       "      <td>1</td>\n",
       "      <td>0</td>\n",
       "      <td>0</td>\n",
       "    </tr>\n",
       "  </tbody>\n",
       "</table>\n",
       "</div>"
      ],
      "text/plain": [
       "      CreditScore       Age    Tenure   Balance  NumOfProducts  HasCrCard  \\\n",
       "7479    -0.886751 -0.373192  1.082277  1.232271      -0.891560          1   \n",
       "3411     0.608663 -0.183385  1.082277  0.600563      -0.891560          0   \n",
       "6027     2.052152  0.480939 -0.737696  1.027098       0.830152          0   \n",
       "1247    -1.457915 -1.417129  0.354288 -1.233163       0.830152          1   \n",
       "3716     0.130961 -1.132419 -1.101690  1.140475      -0.891560          0   \n",
       "\n",
       "      IsActiveMember  EstimatedSalary  Geography_Germany  Geography_Spain  \\\n",
       "7479               0        -0.187705                  0                1   \n",
       "3411               0        -0.333945                  0                0   \n",
       "6027               1         1.503095                  1                0   \n",
       "1247               0        -1.071061                  0                0   \n",
       "3716               0         1.524268                  1                0   \n",
       "\n",
       "      Gender_Male  \n",
       "7479            1  \n",
       "3411            0  \n",
       "6027            1  \n",
       "1247            1  \n",
       "3716            0  "
      ]
     },
     "execution_count": 15,
     "metadata": {},
     "output_type": "execute_result"
    }
   ],
   "source": [
    "features_train[numeric] = scaler.transform(features_train[numeric])\n",
    "features_train.head()"
   ]
  },
  {
   "cell_type": "code",
   "execution_count": 16,
   "metadata": {},
   "outputs": [
    {
     "data": {
      "text/html": [
       "<div>\n",
       "<style scoped>\n",
       "    .dataframe tbody tr th:only-of-type {\n",
       "        vertical-align: middle;\n",
       "    }\n",
       "\n",
       "    .dataframe tbody tr th {\n",
       "        vertical-align: top;\n",
       "    }\n",
       "\n",
       "    .dataframe thead th {\n",
       "        text-align: right;\n",
       "    }\n",
       "</style>\n",
       "<table border=\"1\" class=\"dataframe\">\n",
       "  <thead>\n",
       "    <tr style=\"text-align: right;\">\n",
       "      <th></th>\n",
       "      <th>CreditScore</th>\n",
       "      <th>Age</th>\n",
       "      <th>Tenure</th>\n",
       "      <th>Balance</th>\n",
       "      <th>NumOfProducts</th>\n",
       "      <th>HasCrCard</th>\n",
       "      <th>IsActiveMember</th>\n",
       "      <th>EstimatedSalary</th>\n",
       "      <th>Geography_Germany</th>\n",
       "      <th>Geography_Spain</th>\n",
       "      <th>Gender_Male</th>\n",
       "    </tr>\n",
       "  </thead>\n",
       "  <tbody>\n",
       "    <tr>\n",
       "      <th>8532</th>\n",
       "      <td>-0.699824</td>\n",
       "      <td>-0.373192</td>\n",
       "      <td>-1.101690</td>\n",
       "      <td>-1.233163</td>\n",
       "      <td>0.830152</td>\n",
       "      <td>1</td>\n",
       "      <td>0</td>\n",
       "      <td>-0.015173</td>\n",
       "      <td>0</td>\n",
       "      <td>0</td>\n",
       "      <td>0</td>\n",
       "    </tr>\n",
       "    <tr>\n",
       "      <th>5799</th>\n",
       "      <td>-0.284431</td>\n",
       "      <td>0.575842</td>\n",
       "      <td>-0.737696</td>\n",
       "      <td>-1.233163</td>\n",
       "      <td>-0.891560</td>\n",
       "      <td>1</td>\n",
       "      <td>1</td>\n",
       "      <td>1.471724</td>\n",
       "      <td>0</td>\n",
       "      <td>0</td>\n",
       "      <td>0</td>\n",
       "    </tr>\n",
       "    <tr>\n",
       "      <th>5511</th>\n",
       "      <td>0.151731</td>\n",
       "      <td>-0.657902</td>\n",
       "      <td>-1.829679</td>\n",
       "      <td>0.438711</td>\n",
       "      <td>-0.891560</td>\n",
       "      <td>1</td>\n",
       "      <td>0</td>\n",
       "      <td>-1.367107</td>\n",
       "      <td>1</td>\n",
       "      <td>0</td>\n",
       "      <td>1</td>\n",
       "    </tr>\n",
       "    <tr>\n",
       "      <th>7365</th>\n",
       "      <td>-0.876366</td>\n",
       "      <td>-0.278288</td>\n",
       "      <td>1.810266</td>\n",
       "      <td>1.239884</td>\n",
       "      <td>-0.891560</td>\n",
       "      <td>1</td>\n",
       "      <td>1</td>\n",
       "      <td>-0.786517</td>\n",
       "      <td>0</td>\n",
       "      <td>1</td>\n",
       "      <td>0</td>\n",
       "    </tr>\n",
       "    <tr>\n",
       "      <th>7367</th>\n",
       "      <td>-0.481743</td>\n",
       "      <td>0.291132</td>\n",
       "      <td>1.810266</td>\n",
       "      <td>-1.233163</td>\n",
       "      <td>0.830152</td>\n",
       "      <td>1</td>\n",
       "      <td>0</td>\n",
       "      <td>1.358533</td>\n",
       "      <td>0</td>\n",
       "      <td>1</td>\n",
       "      <td>1</td>\n",
       "    </tr>\n",
       "  </tbody>\n",
       "</table>\n",
       "</div>"
      ],
      "text/plain": [
       "      CreditScore       Age    Tenure   Balance  NumOfProducts  HasCrCard  \\\n",
       "8532    -0.699824 -0.373192 -1.101690 -1.233163       0.830152          1   \n",
       "5799    -0.284431  0.575842 -0.737696 -1.233163      -0.891560          1   \n",
       "5511     0.151731 -0.657902 -1.829679  0.438711      -0.891560          1   \n",
       "7365    -0.876366 -0.278288  1.810266  1.239884      -0.891560          1   \n",
       "7367    -0.481743  0.291132  1.810266 -1.233163       0.830152          1   \n",
       "\n",
       "      IsActiveMember  EstimatedSalary  Geography_Germany  Geography_Spain  \\\n",
       "8532               0        -0.015173                  0                0   \n",
       "5799               1         1.471724                  0                0   \n",
       "5511               0        -1.367107                  1                0   \n",
       "7365               1        -0.786517                  0                1   \n",
       "7367               0         1.358533                  0                1   \n",
       "\n",
       "      Gender_Male  \n",
       "8532            0  \n",
       "5799            0  \n",
       "5511            1  \n",
       "7365            0  \n",
       "7367            1  "
      ]
     },
     "execution_count": 16,
     "metadata": {},
     "output_type": "execute_result"
    }
   ],
   "source": [
    "features_valid[numeric] = scaler.transform(features_valid[numeric])\n",
    "features_valid.head()"
   ]
  },
  {
   "cell_type": "code",
   "execution_count": 17,
   "metadata": {},
   "outputs": [
    {
     "data": {
      "text/html": [
       "<div>\n",
       "<style scoped>\n",
       "    .dataframe tbody tr th:only-of-type {\n",
       "        vertical-align: middle;\n",
       "    }\n",
       "\n",
       "    .dataframe tbody tr th {\n",
       "        vertical-align: top;\n",
       "    }\n",
       "\n",
       "    .dataframe thead th {\n",
       "        text-align: right;\n",
       "    }\n",
       "</style>\n",
       "<table border=\"1\" class=\"dataframe\">\n",
       "  <thead>\n",
       "    <tr style=\"text-align: right;\">\n",
       "      <th></th>\n",
       "      <th>CreditScore</th>\n",
       "      <th>Age</th>\n",
       "      <th>Tenure</th>\n",
       "      <th>Balance</th>\n",
       "      <th>NumOfProducts</th>\n",
       "      <th>HasCrCard</th>\n",
       "      <th>IsActiveMember</th>\n",
       "      <th>EstimatedSalary</th>\n",
       "      <th>Geography_Germany</th>\n",
       "      <th>Geography_Spain</th>\n",
       "      <th>Gender_Male</th>\n",
       "    </tr>\n",
       "  </thead>\n",
       "  <tbody>\n",
       "    <tr>\n",
       "      <th>7041</th>\n",
       "      <td>-2.226392</td>\n",
       "      <td>-0.088482</td>\n",
       "      <td>-1.101690</td>\n",
       "      <td>-1.233163</td>\n",
       "      <td>0.830152</td>\n",
       "      <td>1</td>\n",
       "      <td>0</td>\n",
       "      <td>0.647083</td>\n",
       "      <td>0</td>\n",
       "      <td>0</td>\n",
       "      <td>1</td>\n",
       "    </tr>\n",
       "    <tr>\n",
       "      <th>5709</th>\n",
       "      <td>-0.087120</td>\n",
       "      <td>0.006422</td>\n",
       "      <td>1.446272</td>\n",
       "      <td>-1.233163</td>\n",
       "      <td>-0.891560</td>\n",
       "      <td>1</td>\n",
       "      <td>0</td>\n",
       "      <td>-1.658410</td>\n",
       "      <td>0</td>\n",
       "      <td>0</td>\n",
       "      <td>0</td>\n",
       "    </tr>\n",
       "    <tr>\n",
       "      <th>7117</th>\n",
       "      <td>-0.917905</td>\n",
       "      <td>-0.752805</td>\n",
       "      <td>-0.009707</td>\n",
       "      <td>0.722307</td>\n",
       "      <td>-0.891560</td>\n",
       "      <td>1</td>\n",
       "      <td>1</td>\n",
       "      <td>-1.369334</td>\n",
       "      <td>0</td>\n",
       "      <td>1</td>\n",
       "      <td>1</td>\n",
       "    </tr>\n",
       "    <tr>\n",
       "      <th>7775</th>\n",
       "      <td>-0.253277</td>\n",
       "      <td>0.101325</td>\n",
       "      <td>1.810266</td>\n",
       "      <td>-1.233163</td>\n",
       "      <td>0.830152</td>\n",
       "      <td>1</td>\n",
       "      <td>0</td>\n",
       "      <td>0.075086</td>\n",
       "      <td>0</td>\n",
       "      <td>1</td>\n",
       "      <td>1</td>\n",
       "    </tr>\n",
       "    <tr>\n",
       "      <th>8735</th>\n",
       "      <td>0.785204</td>\n",
       "      <td>-0.847708</td>\n",
       "      <td>1.810266</td>\n",
       "      <td>0.615625</td>\n",
       "      <td>-0.891560</td>\n",
       "      <td>0</td>\n",
       "      <td>1</td>\n",
       "      <td>-1.070919</td>\n",
       "      <td>0</td>\n",
       "      <td>0</td>\n",
       "      <td>1</td>\n",
       "    </tr>\n",
       "  </tbody>\n",
       "</table>\n",
       "</div>"
      ],
      "text/plain": [
       "      CreditScore       Age    Tenure   Balance  NumOfProducts  HasCrCard  \\\n",
       "7041    -2.226392 -0.088482 -1.101690 -1.233163       0.830152          1   \n",
       "5709    -0.087120  0.006422  1.446272 -1.233163      -0.891560          1   \n",
       "7117    -0.917905 -0.752805 -0.009707  0.722307      -0.891560          1   \n",
       "7775    -0.253277  0.101325  1.810266 -1.233163       0.830152          1   \n",
       "8735     0.785204 -0.847708  1.810266  0.615625      -0.891560          0   \n",
       "\n",
       "      IsActiveMember  EstimatedSalary  Geography_Germany  Geography_Spain  \\\n",
       "7041               0         0.647083                  0                0   \n",
       "5709               0        -1.658410                  0                0   \n",
       "7117               1        -1.369334                  0                1   \n",
       "7775               0         0.075086                  0                1   \n",
       "8735               1        -1.070919                  0                0   \n",
       "\n",
       "      Gender_Male  \n",
       "7041            1  \n",
       "5709            0  \n",
       "7117            1  \n",
       "7775            1  \n",
       "8735            1  "
      ]
     },
     "execution_count": 17,
     "metadata": {},
     "output_type": "execute_result"
    }
   ],
   "source": [
    "features_test[numeric] = scaler.transform(features_test[numeric])\n",
    "features_test.head()"
   ]
  },
  {
   "cell_type": "markdown",
   "metadata": {},
   "source": [
    "Масштабирование данных произведенно. Теперь алгоритмам лече обучать модели, ведь признаки одного масштаба."
   ]
  },
  {
   "cell_type": "markdown",
   "metadata": {},
   "source": [
    "## Исследование задачи"
   ]
  },
  {
   "cell_type": "code",
   "execution_count": 18,
   "metadata": {},
   "outputs": [
    {
     "data": {
      "text/plain": [
       "0    0.800667\n",
       "1    0.199333\n",
       "Name: Exited, dtype: float64"
      ]
     },
     "execution_count": 18,
     "metadata": {},
     "output_type": "execute_result"
    },
    {
     "data": {
      "image/png": "[encoded data removed]",
      "text/plain": [
       "<Figure size 216x216 with 1 Axes>"
      ]
     },
     "metadata": {
      "needs_background": "light"
     },
     "output_type": "display_data"
    }
   ],
   "source": [
    "# Построим диаграмму баланса классов\n",
    "target_train.plot(kind ='hist', bins=4, figsize=(3,3))\n",
    "target_train.value_counts(normalize = 1)"
   ]
  },
  {
   "cell_type": "markdown",
   "metadata": {},
   "source": [
    "Из данной диаграмму видно, что присутствует дисбаланс классов. Отрицательных ответов почти в 4 раза больше положительных."
   ]
  },
  {
   "cell_type": "markdown",
   "metadata": {},
   "source": [
    "### Обучение моделей. Логистическая регрессия"
   ]
  },
  {
   "cell_type": "code",
   "execution_count": 19,
   "metadata": {},
   "outputs": [
    {
     "name": "stdout",
     "output_type": "stream",
     "text": [
      "Качество: 0.802 \n",
      "Полнота: 0.23444976076555024 \n",
      "Точность 0.5632183908045977 \n",
      "F1-мера 0.33108108108108103\n"
     ]
    }
   ],
   "source": [
    "model = LogisticRegression(random_state=12345, solver='lbfgs', max_iter=10000) \n",
    "model.fit(features_train,target_train) # обучите модель на тренировочной выборке\n",
    "accuracy = model.score(features_valid, target_valid)\n",
    "prediction = model.predict(features_valid)\n",
    "#auc_roc = roc_auc_score(target_valid,probabilities_one_valid)\n",
    "\n",
    "print(\n",
    "    \"Качество:\", accuracy, \n",
    "    \"\\nПолнота:\" , recall_score(target_valid, prediction), \n",
    "    \"\\nТочность\", precision_score(target_valid, prediction),\n",
    "    \"\\nF1-мера\", f1_score(target_valid, prediction))"
   ]
  },
  {
   "cell_type": "markdown",
   "metadata": {},
   "source": [
    "### Дерево решений"
   ]
  },
  {
   "cell_type": "code",
   "execution_count": 20,
   "metadata": {},
   "outputs": [
    {
     "name": "stdout",
     "output_type": "stream",
     "text": [
      "Глубина дерева: 5 \n",
      "Качество: 0.853 \n",
      "Полнота: 0.4138755980861244 \n",
      "Точность 0.7792792792792793 \n",
      "F1-мера 0.5406249999999999\n"
     ]
    }
   ],
   "source": [
    "best_model = None\n",
    "best_depth = 0\n",
    "best_accuracy = 0\n",
    "best_auc_roc = 0\n",
    "for depth in range(1, 6):\n",
    "    model = DecisionTreeClassifier(random_state=12345,max_depth=depth)  # инициализируйте модель \n",
    "    model.fit(features_train,target_train) # обучите модель на тренировочной выборке\n",
    "    accuracy = model.score(features_valid, target_valid)\n",
    "    prediction = model.predict(features_valid)\n",
    "    #auc_roc = roc_auc_score(target_valid,probabilities_one_valid)\n",
    "    if accuracy > best_accuracy:\n",
    "        best_accuracy = accuracy\n",
    "        best_model = model\n",
    "        best_depth = depth\n",
    "        #best_auc_roc = auc_roc\n",
    "\n",
    "print(\n",
    "    \"Глубина дерева:\",best_depth, \n",
    "    \"\\nКачество:\", best_accuracy, \n",
    "    \"\\nПолнота:\" , recall_score(target_valid, prediction), \n",
    "    \"\\nТочность\", precision_score(target_valid, prediction),\n",
    "    \"\\nF1-мера\", f1_score(target_valid, prediction),\n",
    "     '\\nauc_roc', best_auc_roc)"
   ]
  },
  {
   "cell_type": "markdown",
   "metadata": {},
   "source": [
    "### Случайный лес"
   ]
  },
  {
   "cell_type": "code",
   "execution_count": 21,
   "metadata": {},
   "outputs": [
    {
     "name": "stdout",
     "output_type": "stream",
     "text": [
      "Глубина дерева: 9 \n",
      "Количество деревьев: 12 \n",
      "Минимальное количество выборок внутреннего узла: 3 \n",
      "Качество: 0.8655 \n",
      "Полнота: 0.430622009569378 \n",
      "Точность 0.7894736842105263 \n",
      "F1-мера 0.5572755417956657 \n",
      "auc_roc 0.844547511175364\n"
     ]
    }
   ],
   "source": [
    "best_model = None\n",
    "best_est = 0\n",
    "best_depth = 0\n",
    "best_accuracy = 0\n",
    "mss=2\n",
    "for est in range(1,20,1):\n",
    "    for depth in range(1,11):\n",
    "        for mss in range(2,6):\n",
    "            model = RandomForestClassifier(random_state = 12345, n_estimators = est, max_depth = depth,min_samples_split=mss)\n",
    "            model.fit(features_train,target_train)\n",
    "            accuracy = model.score(features_valid, target_valid) \n",
    "            prediction = model.predict(features_valid)\n",
    "            probabilities_valid = model.predict_proba(features_valid)\n",
    "            probabilities_one_valid = probabilities_valid[:, 1]\n",
    "            auc_roc = roc_auc_score(target_valid, probabilities_one_valid)\n",
    "            if accuracy > best_accuracy:\n",
    "                    best_accuracy = accuracy\n",
    "                    best_model = model\n",
    "                    best_depth = depth\n",
    "                    best_est = est\n",
    "                    best_mss = mss\n",
    "\n",
    "print(\"Глубина дерева:\", best_depth, \n",
    "      \"\\nКоличество деревьев:\", best_est, \n",
    "      '\\nМинимальное количество выборок внутреннего узла:', best_mss, \n",
    "      \"\\nКачество:\", best_accuracy,\n",
    "      \"\\nПолнота:\" , recall_score(target_valid, prediction), \n",
    "      \"\\nТочность\", precision_score(target_valid, prediction),\n",
    "      \"\\nF1-мера\",  f1_score(target_valid, prediction), \n",
    "     '\\nauc_roc', auc_roc)\n",
    "\n"
   ]
  },
  {
   "cell_type": "markdown",
   "metadata": {},
   "source": [
    "**Вывод:** \n",
    "Заметим, что во всех моделях F1-мера < 5,6. Лучшая модель - Случайный лес, Качество: 0.866, F1-мера 0.556. C параметтрами: depth = 10, est = 11\n",
    "C учетом дисбаланса модели показали хорошее качество(accuracy), но F1-мера не удовлетворяет нашим результатм. Для улучшения значений данных метрик произведем борьбу с дисбалансом "
   ]
  },
  {
   "cell_type": "code",
   "execution_count": 29,
   "metadata": {},
   "outputs": [
    {
     "ename": "NameError",
     "evalue": "name 'clf' is not defined",
     "output_type": "error",
     "traceback": [
      "\u001b[0;31m---------------------------------------------------------------------------\u001b[0m",
      "\u001b[0;31mNameError\u001b[0m                                 Traceback (most recent call last)",
      "\u001b[0;32m/tmp/ipykernel_265/3704546961.py\u001b[0m in \u001b[0;36m<module>\u001b[0;34m\u001b[0m\n\u001b[1;32m      1\u001b[0m \u001b[0;32mfrom\u001b[0m \u001b[0msklearn\u001b[0m\u001b[0;34m.\u001b[0m\u001b[0mmetrics\u001b[0m \u001b[0;32mimport\u001b[0m \u001b[0mconfusion_matrix\u001b[0m\u001b[0;34m,\u001b[0m \u001b[0mConfusionMatrixDisplay\u001b[0m\u001b[0;34m\u001b[0m\u001b[0;34m\u001b[0m\u001b[0m\n\u001b[1;32m      2\u001b[0m \u001b[0;32mfrom\u001b[0m \u001b[0msklearn\u001b[0m\u001b[0;34m.\u001b[0m\u001b[0msvm\u001b[0m \u001b[0;32mimport\u001b[0m \u001b[0mSVC\u001b[0m\u001b[0;34m\u001b[0m\u001b[0;34m\u001b[0m\u001b[0m\n\u001b[0;32m----> 3\u001b[0;31m \u001b[0mconfusion_matrix\u001b[0m\u001b[0;34m(\u001b[0m\u001b[0mtarget_test\u001b[0m\u001b[0;34m,\u001b[0m \u001b[0mpredictions\u001b[0m\u001b[0;34m,\u001b[0m \u001b[0mlabels\u001b[0m\u001b[0;34m=\u001b[0m\u001b[0mclf\u001b[0m\u001b[0;34m.\u001b[0m\u001b[0mclasses_\u001b[0m\u001b[0;34m)\u001b[0m\u001b[0;34m\u001b[0m\u001b[0;34m\u001b[0m\u001b[0m\n\u001b[0m",
      "\u001b[0;31mNameError\u001b[0m: name 'clf' is not defined"
     ]
    }
   ],
   "source": [
    "from sklearn.metrics import confusion_matrix, ConfusionMatrixDisplay\n",
    "from sklearn.svm import SVC\n",
    "\n",
    "confusion_matrix(target_test, predictions, labels=clf.classes_)"
   ]
  },
  {
   "cell_type": "markdown",
   "metadata": {},
   "source": [
    "## Борьба с дисбалансом"
   ]
  },
  {
   "cell_type": "markdown",
   "metadata": {},
   "source": [
    "Рассмотрим три возможным варианты \"борьбы\" на примере с моделью \"RandomForestClassifier\"\n",
    "\n",
    "#### Произведем взвешивание классов"
   ]
  },
  {
   "cell_type": "code",
   "execution_count": 22,
   "metadata": {},
   "outputs": [
    {
     "name": "stdout",
     "output_type": "stream",
     "text": [
      "\n",
      "Качество: 0.831 \n",
      "Полнота: 0.430622009569378 \n",
      "Точность 0.7894736842105263 \n",
      "F1-мера 0.5867970660146699 \n",
      "auc_roc 0.838643017439012\n"
     ]
    }
   ],
   "source": [
    "best_model = RandomForestClassifier(\n",
    "    random_state=12345, max_depth = 10, n_estimators = 11, min_samples_split=2, class_weight='balanced')\n",
    "\n",
    "best_model.fit(features_train, target_train) \n",
    "predictions = best_model.predict(features_valid)\n",
    "result = f1_score(target_valid, predictions)\n",
    "\n",
    "probabilities_valid = best_model.predict_proba(features_valid)\n",
    "probabilities_one_valid = probabilities_valid[:, 1]\n",
    "auc_roc = roc_auc_score(target_valid, probabilities_one_valid)\n",
    "\n",
    "print(\"\\nКачество:\", best_model.score(features_valid, target_valid),\n",
    "      \"\\nПолнота:\" , recall_score(target_valid, prediction), \n",
    "      \"\\nТочность\", precision_score(target_valid, prediction),\n",
    "      \"\\nF1-мера\",  result,\n",
    "      '\\nauc_roc', auc_roc\n",
    "     )"
   ]
  },
  {
   "cell_type": "markdown",
   "metadata": {},
   "source": [
    " Напишем две функции: \n",
    "#### с увеличением(upsample) выборки\n"
   ]
  },
  {
   "cell_type": "code",
   "execution_count": 23,
   "metadata": {},
   "outputs": [],
   "source": [
    "def upsample(features, target, repeat):\n",
    "    features_zeros = features[target == 0]\n",
    "    features_ones = features[target == 1]\n",
    "    target_zeros = target[target == 0]\n",
    "    target_ones = target[target == 1]\n",
    "\n",
    "    features_upsampled = pd.concat([features_zeros] + [features_ones] * repeat)\n",
    "    target_upsampled = pd.concat([target_zeros] + [target_ones] * repeat)\n",
    "    \n",
    "    features_upsampled, target_upsampled = shuffle(features_upsampled, target_upsampled, random_state=12345)\n",
    "    \n",
    "    return features_upsampled, target_upsampled"
   ]
  },
  {
   "cell_type": "code",
   "execution_count": 24,
   "metadata": {},
   "outputs": [
    {
     "name": "stdout",
     "output_type": "stream",
     "text": [
      "\n",
      "Качество: 0.811 \n",
      "Полнота: 0.6698564593301436 \n",
      "Точность 0.5384615384615384 \n",
      "F1-мера 0.5970149253731343 \n",
      "auc_roc 0.8365833630738148\n"
     ]
    },
    {
     "data": {
      "text/plain": [
       "0    0.501043\n",
       "1    0.498957\n",
       "Name: Exited, dtype: float64"
      ]
     },
     "execution_count": 24,
     "metadata": {},
     "output_type": "execute_result"
    },
    {
     "data": {
      "image/png": "[encoded data removed]",
      "text/plain": [
       "<Figure size 216x216 with 1 Axes>"
      ]
     },
     "metadata": {
      "needs_background": "light"
     },
     "output_type": "display_data"
    }
   ],
   "source": [
    "features_upsampled, target_upsampled = upsample(features_train, target_train, 4)\n",
    "\n",
    "model = RandomForestClassifier(\n",
    "    random_state=12345, max_depth = 10, n_estimators = 11, min_samples_split=2)\n",
    "\n",
    "model.fit(features_upsampled, target_upsampled)\n",
    "predicted_valid = model.predict(features_valid) \n",
    "\n",
    "probabilities_valid = model.predict_proba(features_valid)\n",
    "probabilities_one_valid = probabilities_valid[:, 1]\n",
    "auc_roc = roc_auc_score(target_valid, probabilities_one_valid)\n",
    "\n",
    "print(\"\\nКачество:\", model.score(features_valid, target_valid),\n",
    "      \"\\nПолнота:\" , recall_score(target_valid, predicted_valid), \n",
    "      \"\\nТочность\", precision_score(target_valid, predicted_valid),\n",
    "      \"\\nF1-мера\",  f1_score(target_valid, predicted_valid),'\\nauc_roc', auc_roc\n",
    "     )\n",
    "\n",
    "target_upsampled.plot(kind ='hist', bins=4, figsize=(3,3))\n",
    "target_upsampled.value_counts(normalize = 1)"
   ]
  },
  {
   "cell_type": "markdown",
   "metadata": {},
   "source": [
    "#### уменьшением(downsample) выборки"
   ]
  },
  {
   "cell_type": "code",
   "execution_count": 25,
   "metadata": {},
   "outputs": [],
   "source": [
    "def downsample(features, target, fraction):\n",
    "    features_zeros = features[target == 0]\n",
    "    features_ones = features[target == 1]\n",
    "    target_zeros = target[target == 0]\n",
    "    target_ones = target[target == 1]\n",
    "\n",
    "    features_downsampled = pd.concat( [features_zeros.sample(frac=fraction, random_state=12345)] + [features_ones])\n",
    "    target_downsampled = pd.concat( [target_zeros.sample(frac=fraction, random_state=12345)] + [target_ones])\n",
    "    \n",
    "    features_downsampled, target_downsampled = shuffle(features_downsampled, target_downsampled, random_state=12345)\n",
    "    \n",
    "    return features_downsampled, target_downsampled"
   ]
  },
  {
   "cell_type": "code",
   "execution_count": 26,
   "metadata": {},
   "outputs": [
    {
     "name": "stdout",
     "output_type": "stream",
     "text": [
      "\n",
      "Качество: 0.8005 \n",
      "Полнота: 0.69377990430622 \n",
      "Точность 0.5169340463458111 \n",
      "F1-мера 0.5924412665985701 \n",
      "auc_roc 0.8325736908643291\n"
     ]
    },
    {
     "data": {
      "text/plain": [
       "0    0.546454\n",
       "1    0.453546\n",
       "Name: Exited, dtype: float64"
      ]
     },
     "execution_count": 26,
     "metadata": {},
     "output_type": "execute_result"
    },
    {
     "data": {
      "image/png": "[encoded data removed]",
      "text/plain": [
       "<Figure size 216x216 with 1 Axes>"
      ]
     },
     "metadata": {
      "needs_background": "light"
     },
     "output_type": "display_data"
    }
   ],
   "source": [
    "features_downsampled, target_downsampled = downsample(features_train, target_train, 0.3)\n",
    "\n",
    "model =  RandomForestClassifier(\n",
    "    random_state=12345, max_depth = 10, n_estimators = 11, min_samples_split=2)\n",
    "\n",
    "model.fit(features_downsampled, target_downsampled)\n",
    "predicted_valid = model.predict(features_valid) \n",
    "\n",
    "probabilities_valid = model.predict_proba(features_valid)\n",
    "probabilities_one_valid = probabilities_valid[:, 1]\n",
    "auc_roc = roc_auc_score(target_valid, probabilities_one_valid)\n",
    "\n",
    "print(\"\\nКачество:\", model.score(features_valid, target_valid),\n",
    "      \"\\nПолнота:\" , recall_score(target_valid, predicted_valid), \n",
    "      \"\\nТочность\", precision_score(target_valid, predicted_valid),\n",
    "      \"\\nF1-мера\",  f1_score(target_valid, predicted_valid),'\\nauc_roc', auc_roc\n",
    "     )\n",
    "\n",
    "target_downsampled.plot(kind ='hist', bins=4, figsize=(3,3))\n",
    "target_downsampled.value_counts(normalize = 1)"
   ]
  },
  {
   "cell_type": "markdown",
   "metadata": {},
   "source": [
    "Показатели F1-меры увеличились до необходимого нам значения. Остальные показатели критично не изменились и остались в норме"
   ]
  },
  {
   "cell_type": "markdown",
   "metadata": {},
   "source": [
    "## Тестирование модели"
   ]
  },
  {
   "cell_type": "markdown",
   "metadata": {},
   "source": [
    "Проверяем наилучшую модель на тестовых данных модель "
   ]
  },
  {
   "cell_type": "code",
   "execution_count": 27,
   "metadata": {},
   "outputs": [
    {
     "name": "stdout",
     "output_type": "stream",
     "text": [
      "\n",
      "Качество: 0.8155 \n",
      "F1-мера 0.5867970660146699 \n",
      "auc_roc 0.8290414363688423\n"
     ]
    }
   ],
   "source": [
    "model= RandomForestClassifier(\n",
    "    random_state=12345, max_depth = 10, n_estimators = 11,min_samples_split=2, class_weight='balanced')\n",
    "\n",
    "model.fit(features_train, target_train) \n",
    "predictions = model.predict(features_valid)\n",
    "\n",
    "\n",
    "probabilities_valid = model.predict_proba(features_test)\n",
    "probabilities_one_valid = probabilities_valid[:, 1]\n",
    "auc_roc = roc_auc_score(target_test, probabilities_one_valid)\n",
    "\n",
    "print(\"\\nКачество:\", model.score(features_test, target_test),\n",
    "      \"\\nF1-мера\",   f1_score(target_valid, predictions),\n",
    "      '\\nauc_roc', auc_roc)"
   ]
  },
  {
   "cell_type": "markdown",
   "metadata": {},
   "source": [
    "**Вывод** Показатели на тестовой выборке: \n",
    "<blockquote> \n",
    "<p>Качество: 0.833 \n",
    "<p>F1-мера 0.594272076372315 > 0.59\n",
    "<p>auc_roc 0.8399862983100748"
   ]
  },
  {
   "cell_type": "markdown",
   "metadata": {},
   "source": [
    "## Общий вывод:\n",
    "\n",
    "**Качество (accuracy) - это самый важный критерий для бизнеса: чем выше качество, тем больше прибыли приносит продукт.**\n",
    "\n",
    "**Метрика auc_roc - метрика качества, которая изменяется от 0 до 1, чем больше значение, тем луучше качество модели**\n",
    "\n",
    "**F1-мера среднее гармоническое полноты и точности. Единица в F1 означает, что соотношение полноты и точности равно 1:1**\n",
    "\n",
    "<ul><li>До обрабтоки данных у нас были пропуски в столбце, которые мы заменили на медианное значения. Так же мы преобразовали категориальные признаки в численные. Разбили данные на обучающую, валидационную и тестовую выборки. </li> \n",
    "<li>При первоначальной работе с данными у нас наблюдался дисбаланс классов. Отрицательных ответов было почти в 4 раза больше положительных. </li>\n",
    "\n",
    "<li>После обучения с учетом дисбаланса  получились следующие значения\n",
    " <blockquote>       <p><li>model = LogisticRegression; Качество: 0.802 ;F1-мера 0.331; auc_roc 0.7588\n",
    "        <p><li> model = DecisionTreeClassifier; Качество: 0.853 ;F1-мера 0.5406; auc_roc 0.822 \n",
    "        <p><li>model = RandomForestClassifier; Качество: 0.866;F1-мера 0.556; auc_roc 0.845\n",
    " </blockquote> \n",
    "<li> Во всех моделях F1-мера < 5,6, Можно выделить модель RandomForestClassifier (Глубина дерева: 10 \n",
    "Количество деревьев: 11)           \n",
    "            \n",
    "<li> Произвели борьбу с дисбалансом. На выбор есть три способа(взвесить веса, уменьшить или увеличить выборки)       Анализировать будем по данным лучшей модели с учетом дисбаланса. (RandomForestClassifier)\n",
    "    \n",
    "<blockquote>    \n",
    "<li> Результаты после взвешивания:   Качество: 0.83;F1-мера 0.59427; auc_roc 0.834\n",
    "<li> Результат после увеличения выборки: Качество: 0.8125;F1-мера 0.595469;auc_roc 0.8381\n",
    "<li> Результаты с уменьшением выборки:Качество: 0.7995; F1-мера 0.593718;auc_roc 0.8371\n",
    " </blockquote>          \n",
    "<li> После борьбы с дисбалансом можем заметить, что у нас незначительно снизилось качество модели, но зато F1 мера выросла до желаемых 0,59. Метрика auc_roc изменилась лишь на сотые части. Исходя из этого можем сделать вывод, что борьба с дисбалансом помогла нам повысить F1-меру. Максимальный результат был после увеличения выборки - F1-мера - 0.595469. \n",
    " </li>   \n",
    "     \n",
    "*Рекомендации: так как у модели LogisticRegression качество хуже, следует использовать ее в последнюю очередь или не использовать. А предпочтение отдать - RandomForestClassifier*"
   ]
  },
  {
   "cell_type": "code",
   "execution_count": null,
   "metadata": {},
   "outputs": [],
   "source": []
  }
 ],
 "metadata": {
  "ExecuteTimeLog": [
   {
    "duration": 1463,
    "start_time": "2023-03-19T08:21:29.042Z"
   },
   {
    "duration": 23,
    "start_time": "2023-03-19T08:22:22.658Z"
   },
   {
    "duration": 16,
    "start_time": "2023-03-19T08:23:18.511Z"
   },
   {
    "duration": 0,
    "start_time": "2023-03-19T08:53:39.597Z"
   },
   {
    "duration": 0,
    "start_time": "2023-03-19T08:53:39.598Z"
   },
   {
    "duration": 0,
    "start_time": "2023-03-19T08:53:39.599Z"
   },
   {
    "duration": 0,
    "start_time": "2023-03-19T08:53:39.600Z"
   },
   {
    "duration": 49,
    "start_time": "2023-03-19T08:53:42.136Z"
   },
   {
    "duration": 13,
    "start_time": "2023-03-19T08:53:42.808Z"
   },
   {
    "duration": 12,
    "start_time": "2023-03-19T08:53:44.156Z"
   },
   {
    "duration": 9,
    "start_time": "2023-03-19T08:53:44.761Z"
   },
   {
    "duration": 1909,
    "start_time": "2023-03-19T08:53:54.302Z"
   },
   {
    "duration": 1448,
    "start_time": "2023-03-27T17:07:43.113Z"
   },
   {
    "duration": 16,
    "start_time": "2023-03-27T17:07:48.134Z"
   },
   {
    "duration": 597,
    "start_time": "2023-03-27T17:09:44.586Z"
   },
   {
    "duration": 2,
    "start_time": "2023-03-27T17:10:12.114Z"
   },
   {
    "duration": 14,
    "start_time": "2023-03-27T17:13:08.751Z"
   },
   {
    "duration": 15,
    "start_time": "2023-03-27T17:20:37.281Z"
   },
   {
    "duration": 17,
    "start_time": "2023-03-27T17:20:54.884Z"
   },
   {
    "duration": 10,
    "start_time": "2023-03-27T17:21:00.046Z"
   },
   {
    "duration": 16,
    "start_time": "2023-03-27T17:23:06.433Z"
   },
   {
    "duration": 133,
    "start_time": "2023-03-27T17:24:38.578Z"
   },
   {
    "duration": 6,
    "start_time": "2023-03-27T17:24:48.385Z"
   },
   {
    "duration": 6,
    "start_time": "2023-03-27T17:47:22.082Z"
   },
   {
    "duration": 8,
    "start_time": "2023-03-27T17:47:27.294Z"
   },
   {
    "duration": 7,
    "start_time": "2023-03-27T17:47:49.394Z"
   },
   {
    "duration": 8,
    "start_time": "2023-03-27T17:50:10.793Z"
   },
   {
    "duration": 5,
    "start_time": "2023-03-27T17:50:28.784Z"
   },
   {
    "duration": 9,
    "start_time": "2023-03-27T17:55:21.739Z"
   },
   {
    "duration": 6,
    "start_time": "2023-03-27T19:34:40.277Z"
   },
   {
    "duration": 9,
    "start_time": "2023-03-27T19:49:23.122Z"
   },
   {
    "duration": 12,
    "start_time": "2023-03-27T19:49:34.258Z"
   },
   {
    "duration": 1660,
    "start_time": "2023-03-27T19:49:44.664Z"
   },
   {
    "duration": 1259,
    "start_time": "2023-03-27T19:49:52.504Z"
   },
   {
    "duration": 1305,
    "start_time": "2023-03-27T19:50:47.022Z"
   },
   {
    "duration": 1177,
    "start_time": "2023-03-27T19:50:55.562Z"
   },
   {
    "duration": 21,
    "start_time": "2023-03-27T19:52:49.433Z"
   },
   {
    "duration": 15,
    "start_time": "2023-03-27T19:55:28.583Z"
   },
   {
    "duration": 1611,
    "start_time": "2023-03-27T19:55:31.608Z"
   },
   {
    "duration": 3,
    "start_time": "2023-03-27T19:56:01.098Z"
   },
   {
    "duration": 8,
    "start_time": "2023-03-27T20:11:42.721Z"
   },
   {
    "duration": 7,
    "start_time": "2023-03-27T20:12:35.436Z"
   },
   {
    "duration": 4,
    "start_time": "2023-03-27T20:13:32.974Z"
   },
   {
    "duration": 5,
    "start_time": "2023-03-27T20:13:53.974Z"
   },
   {
    "duration": 19,
    "start_time": "2023-03-27T20:31:00.631Z"
   },
   {
    "duration": 52,
    "start_time": "2023-03-27T20:31:35.272Z"
   },
   {
    "duration": 23,
    "start_time": "2023-03-27T20:31:40.826Z"
   },
   {
    "duration": 25,
    "start_time": "2023-03-27T20:31:53.430Z"
   },
   {
    "duration": 5,
    "start_time": "2023-03-27T20:32:51.652Z"
   },
   {
    "duration": 14,
    "start_time": "2023-03-27T20:33:26.744Z"
   },
   {
    "duration": 11,
    "start_time": "2023-03-27T20:34:22.822Z"
   },
   {
    "duration": 11,
    "start_time": "2023-03-27T20:34:53.950Z"
   },
   {
    "duration": 10,
    "start_time": "2023-03-27T20:36:16.918Z"
   },
   {
    "duration": 13,
    "start_time": "2023-03-27T20:36:50.819Z"
   },
   {
    "duration": 9,
    "start_time": "2023-03-27T20:37:31.691Z"
   },
   {
    "duration": 87,
    "start_time": "2023-03-27T20:37:37.899Z"
   },
   {
    "duration": 3,
    "start_time": "2023-03-27T20:37:58.952Z"
   },
   {
    "duration": 11,
    "start_time": "2023-03-27T20:38:11.274Z"
   },
   {
    "duration": 10,
    "start_time": "2023-03-27T20:41:00.348Z"
   },
   {
    "duration": 9,
    "start_time": "2023-03-27T20:41:34.003Z"
   },
   {
    "duration": 12,
    "start_time": "2023-03-27T20:41:38.960Z"
   },
   {
    "duration": 6,
    "start_time": "2023-03-27T20:41:42.474Z"
   },
   {
    "duration": 54,
    "start_time": "2023-03-27T20:42:11.131Z"
   },
   {
    "duration": 12,
    "start_time": "2023-03-27T20:42:11.473Z"
   },
   {
    "duration": 19,
    "start_time": "2023-03-27T20:42:11.973Z"
   },
   {
    "duration": 8,
    "start_time": "2023-03-27T20:42:13.892Z"
   },
   {
    "duration": 11,
    "start_time": "2023-03-27T20:42:17.073Z"
   },
   {
    "duration": 5,
    "start_time": "2023-03-27T20:42:17.475Z"
   },
   {
    "duration": 4,
    "start_time": "2023-03-27T20:42:18.292Z"
   },
   {
    "duration": 21,
    "start_time": "2023-03-27T20:42:18.731Z"
   },
   {
    "duration": 24,
    "start_time": "2023-03-27T20:42:19.532Z"
   },
   {
    "duration": 16,
    "start_time": "2023-03-27T20:42:20.931Z"
   },
   {
    "duration": 5,
    "start_time": "2023-03-27T20:42:22.391Z"
   },
   {
    "duration": 5,
    "start_time": "2023-03-27T20:42:23.691Z"
   },
   {
    "duration": 20,
    "start_time": "2023-03-27T20:42:24.717Z"
   },
   {
    "duration": 25,
    "start_time": "2023-03-27T20:43:03.773Z"
   },
   {
    "duration": 24,
    "start_time": "2023-03-27T20:43:08.151Z"
   },
   {
    "duration": 4,
    "start_time": "2023-03-27T20:43:10.491Z"
   },
   {
    "duration": 22,
    "start_time": "2023-03-27T20:43:10.906Z"
   },
   {
    "duration": 9,
    "start_time": "2023-03-27T20:43:15.002Z"
   },
   {
    "duration": 20,
    "start_time": "2023-03-27T20:43:35.480Z"
   },
   {
    "duration": 12,
    "start_time": "2023-03-27T20:44:03.413Z"
   },
   {
    "duration": 19,
    "start_time": "2023-03-27T20:44:12.592Z"
   },
   {
    "duration": 10,
    "start_time": "2023-03-27T20:46:36.784Z"
   },
   {
    "duration": 20,
    "start_time": "2023-03-27T20:47:06.332Z"
   },
   {
    "duration": 12,
    "start_time": "2023-03-27T20:49:28.992Z"
   },
   {
    "duration": 11,
    "start_time": "2023-03-27T20:49:32.273Z"
   },
   {
    "duration": 15,
    "start_time": "2023-03-27T20:49:35.924Z"
   },
   {
    "duration": 8,
    "start_time": "2023-03-27T20:49:45.574Z"
   },
   {
    "duration": 12,
    "start_time": "2023-03-27T20:49:46.392Z"
   },
   {
    "duration": 26,
    "start_time": "2023-03-27T20:49:58.732Z"
   },
   {
    "duration": 10,
    "start_time": "2023-03-27T20:50:20.951Z"
   },
   {
    "duration": 21,
    "start_time": "2023-03-27T20:50:21.796Z"
   },
   {
    "duration": 44,
    "start_time": "2023-03-27T20:51:05.368Z"
   },
   {
    "duration": 46,
    "start_time": "2023-03-27T20:51:27.313Z"
   },
   {
    "duration": 40,
    "start_time": "2023-03-27T20:51:33.413Z"
   },
   {
    "duration": 43,
    "start_time": "2023-03-27T20:51:38.781Z"
   },
   {
    "duration": 27,
    "start_time": "2023-03-27T20:52:17.077Z"
   },
   {
    "duration": 6,
    "start_time": "2023-03-27T20:52:37.773Z"
   },
   {
    "duration": 27,
    "start_time": "2023-03-27T20:52:38.232Z"
   },
   {
    "duration": 18,
    "start_time": "2023-03-27T20:52:38.953Z"
   },
   {
    "duration": 20,
    "start_time": "2023-03-27T20:52:39.666Z"
   },
   {
    "duration": 8,
    "start_time": "2023-03-27T20:54:02.965Z"
   },
   {
    "duration": 24,
    "start_time": "2023-03-27T20:54:03.416Z"
   },
   {
    "duration": 20,
    "start_time": "2023-03-27T20:54:04.973Z"
   },
   {
    "duration": 18,
    "start_time": "2023-03-27T20:54:05.673Z"
   },
   {
    "duration": 25,
    "start_time": "2023-03-27T21:20:23.830Z"
   },
   {
    "duration": 19,
    "start_time": "2023-03-27T21:20:24.709Z"
   },
   {
    "duration": 20,
    "start_time": "2023-03-27T21:20:26.021Z"
   },
   {
    "duration": 56,
    "start_time": "2023-03-27T21:25:18.206Z"
   },
   {
    "duration": 12,
    "start_time": "2023-03-27T21:25:18.406Z"
   },
   {
    "duration": 16,
    "start_time": "2023-03-27T21:25:18.727Z"
   },
   {
    "duration": 8,
    "start_time": "2023-03-27T21:25:19.187Z"
   },
   {
    "duration": 11,
    "start_time": "2023-03-27T21:25:19.406Z"
   },
   {
    "duration": 5,
    "start_time": "2023-03-27T21:25:19.657Z"
   },
   {
    "duration": 5,
    "start_time": "2023-03-27T21:25:20.468Z"
   },
   {
    "duration": 13,
    "start_time": "2023-03-27T21:25:20.482Z"
   },
   {
    "duration": 21,
    "start_time": "2023-03-27T21:25:20.927Z"
   },
   {
    "duration": 8,
    "start_time": "2023-03-27T21:25:21.687Z"
   },
   {
    "duration": 6,
    "start_time": "2023-03-27T21:25:22.186Z"
   },
   {
    "duration": 4,
    "start_time": "2023-03-27T21:25:22.614Z"
   },
   {
    "duration": 9,
    "start_time": "2023-03-27T21:25:22.906Z"
   },
   {
    "duration": 23,
    "start_time": "2023-03-27T21:25:23.186Z"
   },
   {
    "duration": 18,
    "start_time": "2023-03-27T21:25:23.666Z"
   },
   {
    "duration": 17,
    "start_time": "2023-03-27T21:25:23.699Z"
   },
   {
    "duration": 1180,
    "start_time": "2023-03-28T14:37:43.541Z"
   },
   {
    "duration": 11,
    "start_time": "2023-03-28T14:37:44.724Z"
   },
   {
    "duration": 466,
    "start_time": "2023-03-28T14:37:44.737Z"
   },
   {
    "duration": 9,
    "start_time": "2023-03-28T14:37:45.205Z"
   },
   {
    "duration": 26,
    "start_time": "2023-03-28T14:37:45.216Z"
   },
   {
    "duration": 5,
    "start_time": "2023-03-28T14:37:45.243Z"
   },
   {
    "duration": 4,
    "start_time": "2023-03-28T14:37:45.281Z"
   },
   {
    "duration": 16,
    "start_time": "2023-03-28T14:37:45.499Z"
   },
   {
    "duration": 18,
    "start_time": "2023-03-28T14:37:45.937Z"
   },
   {
    "duration": 8,
    "start_time": "2023-03-28T14:37:46.712Z"
   },
   {
    "duration": 6,
    "start_time": "2023-03-28T14:37:47.171Z"
   },
   {
    "duration": 4,
    "start_time": "2023-03-28T14:37:47.659Z"
   },
   {
    "duration": 9,
    "start_time": "2023-03-28T14:37:47.881Z"
   },
   {
    "duration": 23,
    "start_time": "2023-03-28T14:37:48.115Z"
   },
   {
    "duration": 16,
    "start_time": "2023-03-28T14:37:48.326Z"
   },
   {
    "duration": 22,
    "start_time": "2023-03-28T14:37:49.027Z"
   },
   {
    "duration": 7,
    "start_time": "2023-03-28T14:37:56.698Z"
   },
   {
    "duration": 19,
    "start_time": "2023-03-28T14:37:57.502Z"
   },
   {
    "duration": 17,
    "start_time": "2023-03-28T14:37:58.196Z"
   },
   {
    "duration": 15,
    "start_time": "2023-03-28T14:37:58.732Z"
   },
   {
    "duration": 27,
    "start_time": "2023-03-28T14:41:32.921Z"
   },
   {
    "duration": 67,
    "start_time": "2023-03-28T14:41:50.123Z"
   },
   {
    "duration": 69,
    "start_time": "2023-03-28T14:43:33.129Z"
   },
   {
    "duration": 21077,
    "start_time": "2023-03-28T14:43:54.201Z"
   },
   {
    "duration": 158,
    "start_time": "2023-03-28T14:44:15.282Z"
   },
   {
    "duration": 149,
    "start_time": "2023-03-28T14:44:15.443Z"
   },
   {
    "duration": 15,
    "start_time": "2023-03-28T14:44:15.594Z"
   },
   {
    "duration": 48,
    "start_time": "2023-03-28T14:44:15.610Z"
   },
   {
    "duration": 11,
    "start_time": "2023-03-28T14:44:15.660Z"
   },
   {
    "duration": 13,
    "start_time": "2023-03-28T14:44:15.673Z"
   },
   {
    "duration": 53,
    "start_time": "2023-03-28T14:44:39.012Z"
   },
   {
    "duration": 13,
    "start_time": "2023-03-28T14:44:39.972Z"
   },
   {
    "duration": 12,
    "start_time": "2023-03-28T14:44:40.441Z"
   },
   {
    "duration": 9,
    "start_time": "2023-03-28T14:44:44.080Z"
   },
   {
    "duration": 12,
    "start_time": "2023-03-28T14:44:44.696Z"
   },
   {
    "duration": 3,
    "start_time": "2023-03-28T14:44:45.161Z"
   },
   {
    "duration": 5,
    "start_time": "2023-03-28T14:44:46.164Z"
   },
   {
    "duration": 15,
    "start_time": "2023-03-28T14:44:46.713Z"
   },
   {
    "duration": 17,
    "start_time": "2023-03-28T14:44:47.753Z"
   },
   {
    "duration": 8,
    "start_time": "2023-03-28T14:44:49.464Z"
   },
   {
    "duration": 6,
    "start_time": "2023-03-28T14:44:50.856Z"
   },
   {
    "duration": 4,
    "start_time": "2023-03-28T14:44:51.864Z"
   },
   {
    "duration": 7,
    "start_time": "2023-03-28T14:44:52.733Z"
   },
   {
    "duration": 21,
    "start_time": "2023-03-28T14:44:53.228Z"
   },
   {
    "duration": 18,
    "start_time": "2023-03-28T14:44:54.062Z"
   },
   {
    "duration": 18,
    "start_time": "2023-03-28T14:44:54.744Z"
   },
   {
    "duration": 70,
    "start_time": "2023-03-28T14:44:57.376Z"
   },
   {
    "duration": 67,
    "start_time": "2023-03-28T14:44:58.232Z"
   },
   {
    "duration": 21075,
    "start_time": "2023-03-28T14:44:59.520Z"
   },
   {
    "duration": 4795,
    "start_time": "2023-03-28T14:45:54.423Z"
   },
   {
    "duration": 92,
    "start_time": "2023-03-28T15:05:10.003Z"
   },
   {
    "duration": 107,
    "start_time": "2023-03-28T15:05:19.624Z"
   },
   {
    "duration": 175,
    "start_time": "2023-03-28T15:20:23.996Z"
   },
   {
    "duration": 114,
    "start_time": "2023-03-28T15:25:04.900Z"
   },
   {
    "duration": 1256,
    "start_time": "2023-03-28T20:33:38.603Z"
   },
   {
    "duration": 12,
    "start_time": "2023-03-28T20:33:39.861Z"
   },
   {
    "duration": 471,
    "start_time": "2023-03-28T20:33:39.875Z"
   },
   {
    "duration": 10,
    "start_time": "2023-03-28T20:33:40.627Z"
   },
   {
    "duration": 12,
    "start_time": "2023-03-28T20:33:41.139Z"
   },
   {
    "duration": 5,
    "start_time": "2023-03-28T20:33:41.640Z"
   },
   {
    "duration": 5,
    "start_time": "2023-03-28T20:33:42.458Z"
   },
   {
    "duration": 14,
    "start_time": "2023-03-28T20:33:42.842Z"
   },
   {
    "duration": 19,
    "start_time": "2023-03-28T20:33:43.592Z"
   },
   {
    "duration": 9,
    "start_time": "2023-03-28T20:33:44.883Z"
   },
   {
    "duration": 6,
    "start_time": "2023-03-28T20:33:45.713Z"
   },
   {
    "duration": 4,
    "start_time": "2023-03-28T20:33:46.481Z"
   },
   {
    "duration": 7,
    "start_time": "2023-03-28T20:33:46.947Z"
   },
   {
    "duration": 19,
    "start_time": "2023-03-28T20:33:47.866Z"
   },
   {
    "duration": 19,
    "start_time": "2023-03-28T20:33:48.353Z"
   },
   {
    "duration": 18,
    "start_time": "2023-03-28T20:33:48.811Z"
   },
   {
    "duration": 122,
    "start_time": "2023-03-28T20:33:50.208Z"
   },
   {
    "duration": 135,
    "start_time": "2023-03-28T20:33:51.611Z"
   },
   {
    "duration": 52,
    "start_time": "2023-03-28T20:33:52.127Z"
   },
   {
    "duration": 4351,
    "start_time": "2023-03-28T20:33:52.624Z"
   },
   {
    "duration": 4479,
    "start_time": "2023-03-28T20:45:35.397Z"
   },
   {
    "duration": 53,
    "start_time": "2023-03-28T20:46:11.676Z"
   },
   {
    "duration": 4399,
    "start_time": "2023-03-28T20:46:18.128Z"
   },
   {
    "duration": 4317,
    "start_time": "2023-03-28T20:57:35.990Z"
   },
   {
    "duration": 1205,
    "start_time": "2023-03-29T21:21:30.217Z"
   },
   {
    "duration": 12,
    "start_time": "2023-03-29T21:21:31.423Z"
   },
   {
    "duration": 471,
    "start_time": "2023-03-29T21:21:31.436Z"
   },
   {
    "duration": 9,
    "start_time": "2023-03-29T21:21:32.398Z"
   },
   {
    "duration": 11,
    "start_time": "2023-03-29T21:21:33.033Z"
   },
   {
    "duration": 4,
    "start_time": "2023-03-29T21:21:33.521Z"
   },
   {
    "duration": 4,
    "start_time": "2023-03-29T21:21:33.984Z"
   },
   {
    "duration": 13,
    "start_time": "2023-03-29T21:21:34.179Z"
   },
   {
    "duration": 20,
    "start_time": "2023-03-29T21:21:34.530Z"
   },
   {
    "duration": 10,
    "start_time": "2023-03-29T21:21:35.058Z"
   },
   {
    "duration": 5,
    "start_time": "2023-03-29T21:21:35.430Z"
   },
   {
    "duration": 3,
    "start_time": "2023-03-29T21:21:35.789Z"
   },
   {
    "duration": 9,
    "start_time": "2023-03-29T21:21:35.989Z"
   },
   {
    "duration": 19,
    "start_time": "2023-03-29T21:21:36.164Z"
   },
   {
    "duration": 16,
    "start_time": "2023-03-29T21:21:36.369Z"
   },
   {
    "duration": 16,
    "start_time": "2023-03-29T21:21:36.565Z"
   },
   {
    "duration": 121,
    "start_time": "2023-03-29T21:21:37.124Z"
   },
   {
    "duration": 61,
    "start_time": "2023-03-29T21:21:38.018Z"
   },
   {
    "duration": 64,
    "start_time": "2023-03-29T21:21:38.273Z"
   },
   {
    "duration": 4617,
    "start_time": "2023-03-29T21:21:38.428Z"
   },
   {
    "duration": 108,
    "start_time": "2023-03-29T21:33:28.685Z"
   },
   {
    "duration": 49,
    "start_time": "2023-03-29T21:35:34.556Z"
   },
   {
    "duration": 47,
    "start_time": "2023-03-29T21:36:50.708Z"
   },
   {
    "duration": 19,
    "start_time": "2023-03-29T21:36:58.824Z"
   },
   {
    "duration": 14,
    "start_time": "2023-03-29T21:37:48.348Z"
   },
   {
    "duration": 47,
    "start_time": "2023-03-29T21:37:56.397Z"
   },
   {
    "duration": 12,
    "start_time": "2023-03-29T21:37:56.628Z"
   },
   {
    "duration": 12,
    "start_time": "2023-03-29T21:37:56.830Z"
   },
   {
    "duration": 9,
    "start_time": "2023-03-29T21:37:57.226Z"
   },
   {
    "duration": 12,
    "start_time": "2023-03-29T21:37:57.436Z"
   },
   {
    "duration": 5,
    "start_time": "2023-03-29T21:37:57.609Z"
   },
   {
    "duration": 5,
    "start_time": "2023-03-29T21:37:57.968Z"
   },
   {
    "duration": 13,
    "start_time": "2023-03-29T21:37:58.168Z"
   },
   {
    "duration": 16,
    "start_time": "2023-03-29T21:37:58.821Z"
   },
   {
    "duration": 7,
    "start_time": "2023-03-29T21:38:00.096Z"
   },
   {
    "duration": 5,
    "start_time": "2023-03-29T21:38:00.845Z"
   },
   {
    "duration": 4,
    "start_time": "2023-03-29T21:38:01.232Z"
   },
   {
    "duration": 6,
    "start_time": "2023-03-29T21:38:01.574Z"
   },
   {
    "duration": 21,
    "start_time": "2023-03-29T21:38:01.926Z"
   },
   {
    "duration": 15,
    "start_time": "2023-03-29T21:38:02.356Z"
   },
   {
    "duration": 14,
    "start_time": "2023-03-29T21:38:02.713Z"
   },
   {
    "duration": 15,
    "start_time": "2023-03-29T21:38:03.769Z"
   },
   {
    "duration": 12,
    "start_time": "2023-03-29T21:40:17.816Z"
   },
   {
    "duration": 12,
    "start_time": "2023-03-29T21:40:45.855Z"
   },
   {
    "duration": 9,
    "start_time": "2023-03-29T21:41:02.708Z"
   },
   {
    "duration": 3,
    "start_time": "2023-03-29T21:48:09.960Z"
   },
   {
    "duration": 186,
    "start_time": "2023-03-29T21:50:47.833Z"
   },
   {
    "duration": 2,
    "start_time": "2023-03-29T22:02:03.672Z"
   },
   {
    "duration": 183,
    "start_time": "2023-03-29T22:04:27.490Z"
   },
   {
    "duration": 95,
    "start_time": "2023-03-29T22:04:51.563Z"
   },
   {
    "duration": 65,
    "start_time": "2023-03-29T22:04:56.971Z"
   },
   {
    "duration": 67,
    "start_time": "2023-03-29T22:05:41.343Z"
   },
   {
    "duration": 48,
    "start_time": "2023-03-29T22:05:54.232Z"
   },
   {
    "duration": 182,
    "start_time": "2023-03-29T22:06:01.691Z"
   },
   {
    "duration": 123,
    "start_time": "2023-03-29T22:06:08.258Z"
   },
   {
    "duration": 82,
    "start_time": "2023-03-29T22:08:45.431Z"
   },
   {
    "duration": 66,
    "start_time": "2023-03-29T22:09:49.787Z"
   },
   {
    "duration": 68,
    "start_time": "2023-03-29T22:11:05.796Z"
   },
   {
    "duration": 4884,
    "start_time": "2023-03-29T22:12:07.898Z"
   },
   {
    "duration": 5122,
    "start_time": "2023-03-29T22:13:19.092Z"
   },
   {
    "duration": 95,
    "start_time": "2023-03-29T22:13:37.150Z"
   },
   {
    "duration": 66,
    "start_time": "2023-03-29T22:13:40.065Z"
   },
   {
    "duration": 85,
    "start_time": "2023-03-29T22:13:48.557Z"
   },
   {
    "duration": 5276,
    "start_time": "2023-03-29T22:13:54.305Z"
   },
   {
    "duration": 4815,
    "start_time": "2023-03-29T22:14:13.939Z"
   },
   {
    "duration": 5128,
    "start_time": "2023-03-29T22:14:58.243Z"
   },
   {
    "duration": 19,
    "start_time": "2023-03-29T22:52:16.531Z"
   },
   {
    "duration": 4,
    "start_time": "2023-03-29T22:53:26.991Z"
   },
   {
    "duration": 48,
    "start_time": "2023-03-29T22:53:52.719Z"
   },
   {
    "duration": 35,
    "start_time": "2023-03-29T22:54:01.207Z"
   },
   {
    "duration": 47,
    "start_time": "2023-03-29T23:54:17.656Z"
   },
   {
    "duration": 11,
    "start_time": "2023-03-29T23:54:17.998Z"
   },
   {
    "duration": 11,
    "start_time": "2023-03-29T23:54:18.456Z"
   },
   {
    "duration": 9,
    "start_time": "2023-03-29T23:54:19.076Z"
   },
   {
    "duration": 11,
    "start_time": "2023-03-29T23:54:19.396Z"
   },
   {
    "duration": 4,
    "start_time": "2023-03-29T23:54:19.817Z"
   },
   {
    "duration": 5,
    "start_time": "2023-03-29T23:54:20.346Z"
   },
   {
    "duration": 11,
    "start_time": "2023-03-29T23:54:20.722Z"
   },
   {
    "duration": 16,
    "start_time": "2023-03-29T23:54:21.324Z"
   },
   {
    "duration": 7,
    "start_time": "2023-03-29T23:54:22.244Z"
   },
   {
    "duration": 4,
    "start_time": "2023-03-29T23:54:22.852Z"
   },
   {
    "duration": 3,
    "start_time": "2023-03-29T23:54:23.416Z"
   },
   {
    "duration": 6,
    "start_time": "2023-03-29T23:54:23.716Z"
   },
   {
    "duration": 18,
    "start_time": "2023-03-29T23:54:24.893Z"
   },
   {
    "duration": 14,
    "start_time": "2023-03-29T23:54:25.237Z"
   },
   {
    "duration": 15,
    "start_time": "2023-03-29T23:54:25.516Z"
   },
   {
    "duration": 2,
    "start_time": "2023-03-29T23:54:26.716Z"
   },
   {
    "duration": 98,
    "start_time": "2023-03-29T23:54:27.246Z"
   },
   {
    "duration": 56,
    "start_time": "2023-03-29T23:54:27.924Z"
   },
   {
    "duration": 64,
    "start_time": "2023-03-29T23:54:28.464Z"
   },
   {
    "duration": 4750,
    "start_time": "2023-03-29T23:54:28.984Z"
   },
   {
    "duration": 4,
    "start_time": "2023-03-29T23:54:33.736Z"
   },
   {
    "duration": 7,
    "start_time": "2023-03-29T23:54:33.742Z"
   },
   {
    "duration": 36,
    "start_time": "2023-03-29T23:54:33.751Z"
   },
   {
    "duration": 11,
    "start_time": "2023-03-30T00:01:55.677Z"
   },
   {
    "duration": 52,
    "start_time": "2023-03-30T00:02:27.348Z"
   },
   {
    "duration": 58,
    "start_time": "2023-03-30T00:02:39.476Z"
   },
   {
    "duration": 54,
    "start_time": "2023-03-30T00:03:01.078Z"
   },
   {
    "duration": 53,
    "start_time": "2023-03-30T00:03:08.667Z"
   },
   {
    "duration": 62,
    "start_time": "2023-03-30T00:03:55.275Z"
   },
   {
    "duration": 92,
    "start_time": "2023-03-30T00:05:26.748Z"
   },
   {
    "duration": 105,
    "start_time": "2023-03-30T00:07:11.192Z"
   },
   {
    "duration": 110,
    "start_time": "2023-03-30T00:10:10.370Z"
   },
   {
    "duration": 8,
    "start_time": "2023-03-30T00:10:21.739Z"
   },
   {
    "duration": 23,
    "start_time": "2023-03-30T00:11:01.256Z"
   },
   {
    "duration": 33,
    "start_time": "2023-03-30T00:11:46.471Z"
   },
   {
    "duration": 38,
    "start_time": "2023-03-30T00:12:27.466Z"
   },
   {
    "duration": 38,
    "start_time": "2023-03-30T00:12:51.219Z"
   },
   {
    "duration": 56,
    "start_time": "2023-03-30T00:13:11.979Z"
   },
   {
    "duration": 44,
    "start_time": "2023-03-30T00:14:09.799Z"
   },
   {
    "duration": 43,
    "start_time": "2023-03-30T00:14:41.563Z"
   },
   {
    "duration": 45,
    "start_time": "2023-03-30T00:14:47.510Z"
   },
   {
    "duration": 41,
    "start_time": "2023-03-30T00:15:07.861Z"
   },
   {
    "duration": 36,
    "start_time": "2023-03-30T00:15:20.612Z"
   },
   {
    "duration": 50,
    "start_time": "2023-03-30T00:15:37.899Z"
   },
   {
    "duration": 39,
    "start_time": "2023-03-30T00:15:52.913Z"
   },
   {
    "duration": 26,
    "start_time": "2023-03-30T00:17:37.279Z"
   },
   {
    "duration": 57,
    "start_time": "2023-03-30T00:21:09.198Z"
   },
   {
    "duration": 4,
    "start_time": "2023-03-30T00:21:12.118Z"
   },
   {
    "duration": 37,
    "start_time": "2023-03-30T00:21:12.598Z"
   },
   {
    "duration": 4,
    "start_time": "2023-03-30T00:21:13.230Z"
   },
   {
    "duration": 24,
    "start_time": "2023-03-30T00:21:13.733Z"
   },
   {
    "duration": 103,
    "start_time": "2023-03-30T00:24:06.270Z"
   },
   {
    "duration": 109,
    "start_time": "2023-03-30T00:24:39.350Z"
   },
   {
    "duration": 104,
    "start_time": "2023-03-30T00:25:02.358Z"
   },
   {
    "duration": 86,
    "start_time": "2023-03-30T00:25:10.498Z"
   },
   {
    "duration": 89,
    "start_time": "2023-03-30T00:25:14.858Z"
   },
   {
    "duration": 93,
    "start_time": "2023-03-30T00:30:37.094Z"
   },
   {
    "duration": 96,
    "start_time": "2023-03-30T00:30:41.922Z"
   },
   {
    "duration": 91,
    "start_time": "2023-03-30T00:30:52.783Z"
   },
   {
    "duration": 89,
    "start_time": "2023-03-30T00:31:14.183Z"
   },
   {
    "duration": 93,
    "start_time": "2023-03-30T00:31:19.064Z"
   },
   {
    "duration": 78,
    "start_time": "2023-03-30T00:33:47.331Z"
   },
   {
    "duration": 47,
    "start_time": "2023-03-30T00:34:00.042Z"
   },
   {
    "duration": 98,
    "start_time": "2023-03-30T00:34:03.795Z"
   },
   {
    "duration": 55,
    "start_time": "2023-03-30T00:34:26.782Z"
   },
   {
    "duration": 3,
    "start_time": "2023-03-30T00:34:27.665Z"
   },
   {
    "duration": 139,
    "start_time": "2023-03-30T00:34:28.021Z"
   },
   {
    "duration": 4,
    "start_time": "2023-03-30T00:34:28.286Z"
   },
   {
    "duration": 45,
    "start_time": "2023-03-30T00:34:28.733Z"
   },
   {
    "duration": 90,
    "start_time": "2023-03-30T00:34:29.233Z"
   },
   {
    "duration": 103,
    "start_time": "2023-03-30T00:36:06.534Z"
   },
   {
    "duration": 107,
    "start_time": "2023-03-30T00:40:09.009Z"
   },
   {
    "duration": 284,
    "start_time": "2023-03-30T00:40:17.862Z"
   },
   {
    "duration": 197,
    "start_time": "2023-03-30T00:40:25.375Z"
   },
   {
    "duration": 151,
    "start_time": "2023-03-30T00:40:29.221Z"
   },
   {
    "duration": 80,
    "start_time": "2023-03-30T00:43:03.847Z"
   },
   {
    "duration": 111,
    "start_time": "2023-03-30T00:44:44.670Z"
   },
   {
    "duration": 68,
    "start_time": "2023-03-30T00:45:01.710Z"
   },
   {
    "duration": 4599,
    "start_time": "2023-03-30T00:45:18.161Z"
   },
   {
    "duration": 57,
    "start_time": "2023-03-30T00:45:27.002Z"
   },
   {
    "duration": 57,
    "start_time": "2023-03-30T00:51:00.161Z"
   },
   {
    "duration": 80,
    "start_time": "2023-03-30T00:51:07.022Z"
   },
   {
    "duration": 115,
    "start_time": "2023-03-30T00:51:17.316Z"
   },
   {
    "duration": 56,
    "start_time": "2023-03-30T00:51:31.761Z"
   },
   {
    "duration": 71,
    "start_time": "2023-03-30T00:52:08.008Z"
   },
   {
    "duration": 75,
    "start_time": "2023-03-30T00:52:38.028Z"
   },
   {
    "duration": 52,
    "start_time": "2023-03-30T00:53:02.408Z"
   },
   {
    "duration": 92,
    "start_time": "2023-03-30T00:53:12.658Z"
   },
   {
    "duration": 92,
    "start_time": "2023-03-30T00:53:26.507Z"
   },
   {
    "duration": 90,
    "start_time": "2023-03-30T00:53:32.427Z"
   },
   {
    "duration": 56,
    "start_time": "2023-03-30T00:53:45.558Z"
   },
   {
    "duration": 4665,
    "start_time": "2023-03-30T00:53:53.259Z"
   },
   {
    "duration": 17191,
    "start_time": "2023-03-30T00:54:11.335Z"
   },
   {
    "duration": 54,
    "start_time": "2023-03-30T00:55:03.992Z"
   },
   {
    "duration": 34979,
    "start_time": "2023-03-30T00:55:40.015Z"
   },
   {
    "duration": 89,
    "start_time": "2023-03-30T00:56:43.346Z"
   },
   {
    "duration": 84,
    "start_time": "2023-03-30T00:58:15.097Z"
   },
   {
    "duration": 3,
    "start_time": "2023-03-30T00:58:16.206Z"
   },
   {
    "duration": 108,
    "start_time": "2023-03-30T00:58:16.558Z"
   },
   {
    "duration": 4,
    "start_time": "2023-03-30T00:58:16.852Z"
   },
   {
    "duration": 61,
    "start_time": "2023-03-30T00:58:17.139Z"
   },
   {
    "duration": 89,
    "start_time": "2023-03-30T00:58:17.386Z"
   },
   {
    "duration": 88,
    "start_time": "2023-03-30T01:03:50.431Z"
   },
   {
    "duration": 96,
    "start_time": "2023-03-30T01:04:00.777Z"
   },
   {
    "duration": 225,
    "start_time": "2023-03-30T01:04:43.337Z"
   },
   {
    "duration": 177,
    "start_time": "2023-03-30T01:05:01.686Z"
   },
   {
    "duration": 236,
    "start_time": "2023-03-30T01:06:21.864Z"
   },
   {
    "duration": 189,
    "start_time": "2023-03-30T01:06:33.902Z"
   },
   {
    "duration": 183,
    "start_time": "2023-03-30T01:06:37.965Z"
   },
   {
    "duration": 219,
    "start_time": "2023-03-30T01:07:07.384Z"
   },
   {
    "duration": 289,
    "start_time": "2023-03-30T01:07:13.104Z"
   },
   {
    "duration": 204,
    "start_time": "2023-03-30T01:07:18.100Z"
   },
   {
    "duration": 227,
    "start_time": "2023-03-30T01:07:36.570Z"
   },
   {
    "duration": 195,
    "start_time": "2023-03-30T01:07:40.784Z"
   },
   {
    "duration": 224,
    "start_time": "2023-03-30T01:07:50.120Z"
   },
   {
    "duration": 232,
    "start_time": "2023-03-30T01:07:57.524Z"
   },
   {
    "duration": 213,
    "start_time": "2023-03-30T01:08:06.440Z"
   },
   {
    "duration": 215,
    "start_time": "2023-03-30T01:08:12.064Z"
   },
   {
    "duration": 204,
    "start_time": "2023-03-30T01:08:25.508Z"
   },
   {
    "duration": 240,
    "start_time": "2023-03-30T01:08:33.724Z"
   },
   {
    "duration": 202,
    "start_time": "2023-03-30T01:08:59.480Z"
   },
   {
    "duration": 19,
    "start_time": "2023-03-30T01:09:06.303Z"
   },
   {
    "duration": 16,
    "start_time": "2023-03-30T01:09:12.145Z"
   },
   {
    "duration": 163,
    "start_time": "2023-03-30T01:09:29.677Z"
   },
   {
    "duration": 174,
    "start_time": "2023-03-30T01:09:36.564Z"
   },
   {
    "duration": 270,
    "start_time": "2023-03-30T01:09:43.370Z"
   },
   {
    "duration": 163,
    "start_time": "2023-03-30T01:09:51.620Z"
   },
   {
    "duration": 150,
    "start_time": "2023-03-30T01:10:00.404Z"
   },
   {
    "duration": 177,
    "start_time": "2023-03-30T01:10:09.216Z"
   },
   {
    "duration": 166,
    "start_time": "2023-03-30T01:10:15.052Z"
   },
   {
    "duration": 158,
    "start_time": "2023-03-30T01:10:24.502Z"
   },
   {
    "duration": 195,
    "start_time": "2023-03-30T01:10:41.104Z"
   },
   {
    "duration": 35735,
    "start_time": "2023-03-30T01:10:53.297Z"
   },
   {
    "duration": 46,
    "start_time": "2023-03-30T01:11:55.103Z"
   },
   {
    "duration": 10,
    "start_time": "2023-03-30T01:11:55.395Z"
   },
   {
    "duration": 11,
    "start_time": "2023-03-30T01:11:55.644Z"
   },
   {
    "duration": 8,
    "start_time": "2023-03-30T01:11:56.197Z"
   },
   {
    "duration": 10,
    "start_time": "2023-03-30T01:11:56.455Z"
   },
   {
    "duration": 4,
    "start_time": "2023-03-30T01:11:56.963Z"
   },
   {
    "duration": 4,
    "start_time": "2023-03-30T01:11:57.026Z"
   },
   {
    "duration": 13,
    "start_time": "2023-03-30T01:11:57.057Z"
   },
   {
    "duration": 16,
    "start_time": "2023-03-30T01:11:57.127Z"
   },
   {
    "duration": 6,
    "start_time": "2023-03-30T01:11:57.751Z"
   },
   {
    "duration": 5,
    "start_time": "2023-03-30T01:11:57.797Z"
   },
   {
    "duration": 3,
    "start_time": "2023-03-30T01:11:57.859Z"
   },
   {
    "duration": 5,
    "start_time": "2023-03-30T01:11:57.887Z"
   },
   {
    "duration": 17,
    "start_time": "2023-03-30T01:11:57.930Z"
   },
   {
    "duration": 14,
    "start_time": "2023-03-30T01:11:57.962Z"
   },
   {
    "duration": 16,
    "start_time": "2023-03-30T01:11:57.998Z"
   },
   {
    "duration": 2,
    "start_time": "2023-03-30T01:11:58.075Z"
   },
   {
    "duration": 97,
    "start_time": "2023-03-30T01:11:58.109Z"
   },
   {
    "duration": 165,
    "start_time": "2023-03-30T01:11:58.208Z"
   },
   {
    "duration": 157,
    "start_time": "2023-03-30T01:11:58.376Z"
   },
   {
    "duration": 47,
    "start_time": "2023-03-30T01:12:49.271Z"
   },
   {
    "duration": 11,
    "start_time": "2023-03-30T01:12:50.607Z"
   },
   {
    "duration": 12,
    "start_time": "2023-03-30T01:12:51.565Z"
   },
   {
    "duration": 8,
    "start_time": "2023-03-30T01:12:56.161Z"
   },
   {
    "duration": 11,
    "start_time": "2023-03-30T01:12:56.903Z"
   },
   {
    "duration": 4,
    "start_time": "2023-03-30T01:12:57.455Z"
   },
   {
    "duration": 3,
    "start_time": "2023-03-30T01:12:58.573Z"
   },
   {
    "duration": 12,
    "start_time": "2023-03-30T01:12:59.163Z"
   },
   {
    "duration": 15,
    "start_time": "2023-03-30T01:13:00.063Z"
   },
   {
    "duration": 7,
    "start_time": "2023-03-30T01:13:01.554Z"
   },
   {
    "duration": 6,
    "start_time": "2023-03-30T01:13:02.364Z"
   },
   {
    "duration": 3,
    "start_time": "2023-03-30T01:13:03.215Z"
   },
   {
    "duration": 7,
    "start_time": "2023-03-30T01:13:03.643Z"
   },
   {
    "duration": 19,
    "start_time": "2023-03-30T01:13:04.135Z"
   },
   {
    "duration": 17,
    "start_time": "2023-03-30T01:13:04.544Z"
   },
   {
    "duration": 16,
    "start_time": "2023-03-30T01:13:05.023Z"
   },
   {
    "duration": 2,
    "start_time": "2023-03-30T01:13:10.255Z"
   },
   {
    "duration": 93,
    "start_time": "2023-03-30T01:13:11.283Z"
   },
   {
    "duration": 57,
    "start_time": "2023-03-30T01:13:14.024Z"
   },
   {
    "duration": 68,
    "start_time": "2023-03-30T01:13:18.012Z"
   },
   {
    "duration": 35810,
    "start_time": "2023-03-30T01:13:19.631Z"
   },
   {
    "duration": 108,
    "start_time": "2023-03-30T01:13:55.443Z"
   },
   {
    "duration": 212,
    "start_time": "2023-03-30T01:13:55.552Z"
   },
   {
    "duration": 193,
    "start_time": "2023-03-30T01:20:38.702Z"
   },
   {
    "duration": 178,
    "start_time": "2023-03-30T01:21:04.438Z"
   },
   {
    "duration": 194,
    "start_time": "2023-03-30T01:21:44.450Z"
   },
   {
    "duration": 155,
    "start_time": "2023-03-30T01:24:23.482Z"
   },
   {
    "duration": 212,
    "start_time": "2023-03-30T01:24:29.810Z"
   },
   {
    "duration": 178,
    "start_time": "2023-03-30T01:26:51.683Z"
   },
   {
    "duration": 104,
    "start_time": "2023-03-30T01:27:38.981Z"
   },
   {
    "duration": 179,
    "start_time": "2023-03-30T01:28:02.985Z"
   },
   {
    "duration": 412,
    "start_time": "2023-03-30T01:28:20.604Z"
   },
   {
    "duration": 176,
    "start_time": "2023-03-30T01:28:51.224Z"
   },
   {
    "duration": 63,
    "start_time": "2023-03-30T01:32:20.385Z"
   },
   {
    "duration": 72,
    "start_time": "2023-03-30T01:32:38.377Z"
   },
   {
    "duration": 87,
    "start_time": "2023-03-30T01:35:11.604Z"
   },
   {
    "duration": 84,
    "start_time": "2023-03-30T01:37:26.647Z"
   },
   {
    "duration": 209,
    "start_time": "2023-03-30T01:37:31.825Z"
   },
   {
    "duration": 222,
    "start_time": "2023-03-30T01:37:40.993Z"
   },
   {
    "duration": 8,
    "start_time": "2023-03-30T01:41:32.027Z"
   },
   {
    "duration": 109,
    "start_time": "2023-03-30T01:42:10.685Z"
   },
   {
    "duration": 82,
    "start_time": "2023-03-30T01:52:11.700Z"
   },
   {
    "duration": 84,
    "start_time": "2023-03-30T01:52:48.160Z"
   },
   {
    "duration": 95,
    "start_time": "2023-03-30T01:55:39.240Z"
   },
   {
    "duration": 97,
    "start_time": "2023-03-30T01:56:02.840Z"
   },
   {
    "duration": 89,
    "start_time": "2023-03-30T01:56:08.261Z"
   },
   {
    "duration": 88,
    "start_time": "2023-03-30T01:56:28.492Z"
   },
   {
    "duration": 48,
    "start_time": "2023-03-30T12:53:28.221Z"
   },
   {
    "duration": 1472,
    "start_time": "2023-03-30T12:53:33.885Z"
   },
   {
    "duration": 48,
    "start_time": "2023-03-30T12:55:34.914Z"
   },
   {
    "duration": 12,
    "start_time": "2023-03-30T12:55:35.296Z"
   },
   {
    "duration": 456,
    "start_time": "2023-03-30T12:55:35.624Z"
   },
   {
    "duration": 9,
    "start_time": "2023-03-30T12:55:36.289Z"
   },
   {
    "duration": 13,
    "start_time": "2023-03-30T12:55:36.614Z"
   },
   {
    "duration": 5,
    "start_time": "2023-03-30T12:55:36.924Z"
   },
   {
    "duration": 5,
    "start_time": "2023-03-30T12:55:37.474Z"
   },
   {
    "duration": 13,
    "start_time": "2023-03-30T12:55:37.754Z"
   },
   {
    "duration": 19,
    "start_time": "2023-03-30T12:55:38.293Z"
   },
   {
    "duration": 9,
    "start_time": "2023-03-30T12:55:39.374Z"
   },
   {
    "duration": 5,
    "start_time": "2023-03-30T12:55:39.715Z"
   },
   {
    "duration": 3,
    "start_time": "2023-03-30T12:55:40.015Z"
   },
   {
    "duration": 7,
    "start_time": "2023-03-30T12:55:40.195Z"
   },
   {
    "duration": 19,
    "start_time": "2023-03-30T12:55:40.330Z"
   },
   {
    "duration": 16,
    "start_time": "2023-03-30T12:55:40.479Z"
   },
   {
    "duration": 16,
    "start_time": "2023-03-30T12:55:40.619Z"
   },
   {
    "duration": 3,
    "start_time": "2023-03-30T12:55:41.514Z"
   },
   {
    "duration": 117,
    "start_time": "2023-03-30T12:55:41.784Z"
   },
   {
    "duration": 120,
    "start_time": "2023-03-30T12:55:42.355Z"
   },
   {
    "duration": 87,
    "start_time": "2023-03-30T12:55:42.775Z"
   },
   {
    "duration": 38647,
    "start_time": "2023-03-30T12:55:43.209Z"
   },
   {
    "duration": 106,
    "start_time": "2023-03-30T12:56:21.857Z"
   },
   {
    "duration": 94,
    "start_time": "2023-03-30T12:56:21.965Z"
   },
   {
    "duration": 4,
    "start_time": "2023-03-30T12:56:22.071Z"
   },
   {
    "duration": 227,
    "start_time": "2023-03-30T12:56:22.076Z"
   },
   {
    "duration": 4,
    "start_time": "2023-03-30T12:56:22.304Z"
   },
   {
    "duration": 186,
    "start_time": "2023-03-30T12:56:22.310Z"
   },
   {
    "duration": 95,
    "start_time": "2023-03-30T12:56:22.497Z"
   },
   {
    "duration": 96,
    "start_time": "2023-03-30T13:13:13.387Z"
   },
   {
    "duration": 239,
    "start_time": "2023-03-30T13:13:22.286Z"
   },
   {
    "duration": 90,
    "start_time": "2023-03-30T13:13:27.137Z"
   },
   {
    "duration": 54,
    "start_time": "2023-03-30T13:16:50.493Z"
   },
   {
    "duration": 122,
    "start_time": "2023-03-30T13:22:44.132Z"
   },
   {
    "duration": 103,
    "start_time": "2023-03-30T13:25:51.063Z"
   },
   {
    "duration": 104,
    "start_time": "2023-03-30T13:26:47.984Z"
   },
   {
    "duration": 96,
    "start_time": "2023-03-30T13:26:52.654Z"
   },
   {
    "duration": 99,
    "start_time": "2023-03-30T13:28:09.855Z"
   },
   {
    "duration": 94,
    "start_time": "2023-03-30T13:33:13.645Z"
   },
   {
    "duration": 75,
    "start_time": "2023-03-30T13:51:04.984Z"
   },
   {
    "duration": 13,
    "start_time": "2023-03-30T13:51:16.647Z"
   },
   {
    "duration": 95,
    "start_time": "2023-03-30T13:51:23.917Z"
   },
   {
    "duration": 97,
    "start_time": "2023-03-30T14:02:24.640Z"
   },
   {
    "duration": 9,
    "start_time": "2023-03-30T14:09:23.040Z"
   },
   {
    "duration": 93,
    "start_time": "2023-03-30T21:07:37.742Z"
   },
   {
    "duration": 20,
    "start_time": "2023-03-30T21:23:15.266Z"
   },
   {
    "duration": 86,
    "start_time": "2023-03-30T21:23:39.025Z"
   },
   {
    "duration": 40053,
    "start_time": "2023-03-30T21:24:05.469Z"
   },
   {
    "duration": 1093,
    "start_time": "2023-03-30T21:27:45.121Z"
   },
   {
    "duration": 12,
    "start_time": "2023-03-30T21:27:46.216Z"
   },
   {
    "duration": 281,
    "start_time": "2023-03-30T21:27:46.230Z"
   },
   {
    "duration": 9,
    "start_time": "2023-03-30T21:27:46.513Z"
   },
   {
    "duration": 12,
    "start_time": "2023-03-30T21:27:46.523Z"
   },
   {
    "duration": 4,
    "start_time": "2023-03-30T21:27:46.536Z"
   },
   {
    "duration": 4,
    "start_time": "2023-03-30T21:27:46.542Z"
   },
   {
    "duration": 52,
    "start_time": "2023-03-30T21:27:46.548Z"
   },
   {
    "duration": 17,
    "start_time": "2023-03-30T21:27:46.602Z"
   },
   {
    "duration": 10,
    "start_time": "2023-03-30T21:27:46.622Z"
   },
   {
    "duration": 4,
    "start_time": "2023-03-30T21:27:46.633Z"
   },
   {
    "duration": 3,
    "start_time": "2023-03-30T21:27:46.639Z"
   },
   {
    "duration": 8,
    "start_time": "2023-03-30T21:27:46.644Z"
   },
   {
    "duration": 22,
    "start_time": "2023-03-30T21:27:46.688Z"
   },
   {
    "duration": 16,
    "start_time": "2023-03-30T21:27:46.712Z"
   },
   {
    "duration": 17,
    "start_time": "2023-03-30T21:27:46.729Z"
   },
   {
    "duration": 151,
    "start_time": "2023-03-30T21:27:46.747Z"
   },
   {
    "duration": 297,
    "start_time": "2023-03-30T21:27:46.899Z"
   },
   {
    "duration": 150,
    "start_time": "2023-03-30T21:27:47.198Z"
   },
   {
    "duration": 40089,
    "start_time": "2023-03-30T21:27:47.349Z"
   },
   {
    "duration": 105,
    "start_time": "2023-03-30T21:28:27.441Z"
   },
   {
    "duration": 4,
    "start_time": "2023-03-30T21:28:27.548Z"
   },
   {
    "duration": 239,
    "start_time": "2023-03-30T21:28:27.553Z"
   },
   {
    "duration": 4,
    "start_time": "2023-03-30T21:28:27.794Z"
   },
   {
    "duration": 202,
    "start_time": "2023-03-30T21:28:27.800Z"
   },
   {
    "duration": 89,
    "start_time": "2023-03-30T21:28:28.003Z"
   },
   {
    "duration": 1208,
    "start_time": "2023-03-31T09:57:28.404Z"
   },
   {
    "duration": 179,
    "start_time": "2023-03-31T09:57:29.614Z"
   },
   {
    "duration": 74,
    "start_time": "2023-03-31T09:58:15.787Z"
   },
   {
    "duration": 9,
    "start_time": "2023-03-31T09:58:42.684Z"
   },
   {
    "duration": 8,
    "start_time": "2023-03-31T09:58:54.443Z"
   },
   {
    "duration": 8,
    "start_time": "2023-03-31T09:59:00.763Z"
   },
   {
    "duration": 8,
    "start_time": "2023-03-31T09:59:08.756Z"
   },
   {
    "duration": 12,
    "start_time": "2023-03-31T09:59:25.989Z"
   },
   {
    "duration": 167,
    "start_time": "2023-03-31T10:00:37.928Z"
   },
   {
    "duration": 423,
    "start_time": "2023-03-31T10:01:04.455Z"
   },
   {
    "duration": 12,
    "start_time": "2023-03-31T10:01:09.216Z"
   },
   {
    "duration": 59,
    "start_time": "2023-03-31T10:37:27.449Z"
   },
   {
    "duration": 48,
    "start_time": "2023-03-31T10:37:29.495Z"
   },
   {
    "duration": 12,
    "start_time": "2023-03-31T10:37:31.997Z"
   },
   {
    "duration": 14,
    "start_time": "2023-03-31T10:37:35.596Z"
   },
   {
    "duration": 13,
    "start_time": "2023-03-31T10:37:41.795Z"
   },
   {
    "duration": 18,
    "start_time": "2023-03-31T10:37:45.565Z"
   },
   {
    "duration": 30,
    "start_time": "2023-03-31T10:37:46.965Z"
   },
   {
    "duration": 8,
    "start_time": "2023-03-31T10:38:42.217Z"
   },
   {
    "duration": 13,
    "start_time": "2023-03-31T10:39:44.754Z"
   },
   {
    "duration": 13,
    "start_time": "2023-03-31T10:39:47.961Z"
   },
   {
    "duration": 50,
    "start_time": "2023-03-31T10:39:57.177Z"
   },
   {
    "duration": 47,
    "start_time": "2023-03-31T10:40:22.787Z"
   },
   {
    "duration": 6,
    "start_time": "2023-03-31T10:40:30.217Z"
   },
   {
    "duration": 1116,
    "start_time": "2023-03-31T10:40:34.617Z"
   },
   {
    "duration": 66,
    "start_time": "2023-03-31T10:40:35.735Z"
   },
   {
    "duration": 17,
    "start_time": "2023-03-31T10:40:38.883Z"
   },
   {
    "duration": 306,
    "start_time": "2023-03-31T10:40:42.362Z"
   },
   {
    "duration": 12,
    "start_time": "2023-03-31T10:41:11.050Z"
   },
   {
    "duration": 9,
    "start_time": "2023-03-31T10:41:36.395Z"
   },
   {
    "duration": 16,
    "start_time": "2023-03-31T10:42:57.097Z"
   },
   {
    "duration": 10,
    "start_time": "2023-03-31T10:43:52.884Z"
   },
   {
    "duration": 1046,
    "start_time": "2023-09-30T16:57:42.604Z"
   },
   {
    "duration": 169,
    "start_time": "2023-09-30T16:57:43.651Z"
   },
   {
    "duration": 11,
    "start_time": "2023-09-30T16:57:43.821Z"
   },
   {
    "duration": 308,
    "start_time": "2023-09-30T16:57:43.833Z"
   },
   {
    "duration": 11,
    "start_time": "2023-09-30T16:57:44.147Z"
   },
   {
    "duration": 12,
    "start_time": "2023-09-30T16:57:44.160Z"
   },
   {
    "duration": 5,
    "start_time": "2023-09-30T16:57:44.175Z"
   },
   {
    "duration": 5,
    "start_time": "2023-09-30T16:57:44.182Z"
   },
   {
    "duration": 18,
    "start_time": "2023-09-30T16:57:44.189Z"
   },
   {
    "duration": 51,
    "start_time": "2023-09-30T16:57:44.209Z"
   },
   {
    "duration": 10,
    "start_time": "2023-09-30T16:57:44.262Z"
   },
   {
    "duration": 9,
    "start_time": "2023-09-30T16:57:44.274Z"
   },
   {
    "duration": 5,
    "start_time": "2023-09-30T16:57:44.285Z"
   },
   {
    "duration": 9,
    "start_time": "2023-09-30T16:57:44.293Z"
   },
   {
    "duration": 59,
    "start_time": "2023-09-30T16:57:44.304Z"
   },
   {
    "duration": 17,
    "start_time": "2023-09-30T16:57:44.365Z"
   },
   {
    "duration": 16,
    "start_time": "2023-09-30T16:57:44.383Z"
   },
   {
    "duration": 131,
    "start_time": "2023-09-30T16:57:44.401Z"
   },
   {
    "duration": 323,
    "start_time": "2023-09-30T16:57:44.533Z"
   },
   {
    "duration": 82,
    "start_time": "2023-09-30T16:57:44.945Z"
   },
   {
    "duration": 31823,
    "start_time": "2023-09-30T16:57:45.029Z"
   },
   {
    "duration": 0,
    "start_time": "2023-09-30T16:58:16.854Z"
   },
   {
    "duration": 0,
    "start_time": "2023-09-30T16:58:16.855Z"
   },
   {
    "duration": 0,
    "start_time": "2023-09-30T16:58:16.856Z"
   },
   {
    "duration": 0,
    "start_time": "2023-09-30T16:58:16.857Z"
   },
   {
    "duration": 0,
    "start_time": "2023-09-30T16:58:16.858Z"
   },
   {
    "duration": 0,
    "start_time": "2023-09-30T16:58:16.860Z"
   },
   {
    "duration": 0,
    "start_time": "2023-09-30T16:58:16.861Z"
   },
   {
    "duration": 0,
    "start_time": "2023-09-30T16:58:16.862Z"
   },
   {
    "duration": 13,
    "start_time": "2023-09-30T16:58:19.126Z"
   },
   {
    "duration": 6,
    "start_time": "2023-09-30T16:58:48.496Z"
   },
   {
    "duration": 5,
    "start_time": "2023-09-30T16:58:50.256Z"
   },
   {
    "duration": 5,
    "start_time": "2023-09-30T16:59:02.674Z"
   },
   {
    "duration": 4,
    "start_time": "2023-09-30T16:59:08.224Z"
   },
   {
    "duration": 5,
    "start_time": "2023-09-30T16:59:12.260Z"
   },
   {
    "duration": 4,
    "start_time": "2023-09-30T16:59:13.209Z"
   },
   {
    "duration": 6,
    "start_time": "2023-09-30T16:59:16.756Z"
   },
   {
    "duration": 5,
    "start_time": "2023-09-30T16:59:17.577Z"
   },
   {
    "duration": 1146,
    "start_time": "2023-09-30T16:59:24.005Z"
   },
   {
    "duration": 57,
    "start_time": "2023-09-30T16:59:25.153Z"
   },
   {
    "duration": 13,
    "start_time": "2023-09-30T16:59:25.212Z"
   },
   {
    "duration": 297,
    "start_time": "2023-09-30T16:59:25.226Z"
   },
   {
    "duration": 19,
    "start_time": "2023-09-30T16:59:25.526Z"
   },
   {
    "duration": 12,
    "start_time": "2023-09-30T16:59:25.546Z"
   },
   {
    "duration": 5,
    "start_time": "2023-09-30T16:59:25.560Z"
   },
   {
    "duration": 6,
    "start_time": "2023-09-30T16:59:25.567Z"
   },
   {
    "duration": 13,
    "start_time": "2023-09-30T16:59:25.574Z"
   },
   {
    "duration": 19,
    "start_time": "2023-09-30T16:59:25.588Z"
   },
   {
    "duration": 38,
    "start_time": "2023-09-30T16:59:25.609Z"
   },
   {
    "duration": 5,
    "start_time": "2023-09-30T16:59:25.649Z"
   },
   {
    "duration": 4,
    "start_time": "2023-09-30T16:59:25.655Z"
   },
   {
    "duration": 10,
    "start_time": "2023-09-30T16:59:25.661Z"
   },
   {
    "duration": 41,
    "start_time": "2023-09-30T16:59:25.673Z"
   },
   {
    "duration": 17,
    "start_time": "2023-09-30T16:59:25.716Z"
   },
   {
    "duration": 18,
    "start_time": "2023-09-30T16:59:25.744Z"
   },
   {
    "duration": 156,
    "start_time": "2023-09-30T16:59:25.764Z"
   },
   {
    "duration": 1222,
    "start_time": "2023-09-30T16:59:25.922Z"
   },
   {
    "duration": 71,
    "start_time": "2023-09-30T16:59:27.147Z"
   },
   {
    "duration": 40388,
    "start_time": "2023-09-30T16:59:27.219Z"
   },
   {
    "duration": 103,
    "start_time": "2023-09-30T17:00:07.609Z"
   },
   {
    "duration": 5,
    "start_time": "2023-09-30T17:00:07.714Z"
   },
   {
    "duration": 237,
    "start_time": "2023-09-30T17:00:07.721Z"
   },
   {
    "duration": 5,
    "start_time": "2023-09-30T17:00:07.960Z"
   },
   {
    "duration": 222,
    "start_time": "2023-09-30T17:00:07.966Z"
   },
   {
    "duration": 91,
    "start_time": "2023-09-30T17:00:08.190Z"
   },
   {
    "duration": 103,
    "start_time": "2023-09-30T17:04:58.889Z"
   },
   {
    "duration": 9,
    "start_time": "2023-09-30T17:05:45.638Z"
   }
  ],
  "kernelspec": {
   "display_name": "Python 3 (ipykernel)",
   "language": "python",
   "name": "python3"
  },
  "language_info": {
   "codemirror_mode": {
    "name": "ipython",
    "version": 3
   },
   "file_extension": ".py",
   "mimetype": "text/x-python",
   "name": "python",
   "nbconvert_exporter": "python",
   "pygments_lexer": "ipython3",
   "version": "3.9.5"
  },
  "toc": {
   "base_numbering": 1,
   "nav_menu": {},
   "number_sections": true,
   "sideBar": true,
   "skip_h1_title": true,
   "title_cell": "Содержание",
   "title_sidebar": "Contents",
   "toc_cell": true,
   "toc_position": {
    "height": "calc(100% - 180px)",
    "left": "10px",
    "top": "150px",
    "width": "195.4px"
   },
   "toc_section_display": true,
   "toc_window_display": true
  }
 },
 "nbformat": 4,
 "nbformat_minor": 2
}
