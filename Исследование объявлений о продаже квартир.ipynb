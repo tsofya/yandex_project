{
 "cells": [
  {
   "cell_type": "markdown",
   "metadata": {},
   "source": [
    "# Исследование объявлений о продаже квартир\n",
    "\n",
    "В вашем распоряжении данные сервиса Яндекс.Недвижимость — архив объявлений о продаже квартир в Санкт-Петербурге и соседних населённых пунктов за несколько лет. Нужно научиться определять рыночную стоимость объектов недвижимости. Ваша задача — установить параметры. Это позволит построить автоматизированную систему: она отследит аномалии и мошенническую деятельность. \n",
    "\n",
    "По каждой квартире на продажу доступны два вида данных. Первые вписаны пользователем, вторые — получены автоматически на основе картографических данных. Например, расстояние до центра, аэропорта, ближайшего парка и водоёма. \n",
    "\n",
    "**Цель исследования**:\n",
    "1) Определить рыночную стоимость объектов недвижимости.\n",
    "2) Построить автоматизированную систему, которая отследит аномалии и мошенническую деятельность.\n",
    "3) Установить, какие факторы влияют на ценообразование стоимости квартиры.\n",
    "\n",
    "**Ход исследования:**\n",
    "Данные я получу  из файла '/datasets/real_estate_data.csv'. О качестве данных ничего не известно. Поэтому перед тем, как приступать к целям исследования проверим данные на ошибки. Выясним их влияние и по возможности исправим. проведем исследовательский анализ."
   ]
  },
  {
   "cell_type": "markdown",
   "metadata": {},
   "source": [
    "### Откройте файл с данными и изучите общую информацию. "
   ]
  },
  {
   "cell_type": "code",
   "execution_count": 1,
   "metadata": {},
   "outputs": [
    {
     "data": {
      "text/html": [
       "<div>\n",
       "<style scoped>\n",
       "    .dataframe tbody tr th:only-of-type {\n",
       "        vertical-align: middle;\n",
       "    }\n",
       "\n",
       "    .dataframe tbody tr th {\n",
       "        vertical-align: top;\n",
       "    }\n",
       "\n",
       "    .dataframe thead th {\n",
       "        text-align: right;\n",
       "    }\n",
       "</style>\n",
       "<table border=\"1\" class=\"dataframe\">\n",
       "  <thead>\n",
       "    <tr style=\"text-align: right;\">\n",
       "      <th></th>\n",
       "      <th>total_images</th>\n",
       "      <th>last_price</th>\n",
       "      <th>total_area</th>\n",
       "      <th>first_day_exposition</th>\n",
       "      <th>rooms</th>\n",
       "      <th>ceiling_height</th>\n",
       "      <th>floors_total</th>\n",
       "      <th>living_area</th>\n",
       "      <th>floor</th>\n",
       "      <th>is_apartment</th>\n",
       "      <th>...</th>\n",
       "      <th>kitchen_area</th>\n",
       "      <th>balcony</th>\n",
       "      <th>locality_name</th>\n",
       "      <th>airports_nearest</th>\n",
       "      <th>cityCenters_nearest</th>\n",
       "      <th>parks_around3000</th>\n",
       "      <th>parks_nearest</th>\n",
       "      <th>ponds_around3000</th>\n",
       "      <th>ponds_nearest</th>\n",
       "      <th>days_exposition</th>\n",
       "    </tr>\n",
       "  </thead>\n",
       "  <tbody>\n",
       "    <tr>\n",
       "      <th>0</th>\n",
       "      <td>20</td>\n",
       "      <td>13000000.0</td>\n",
       "      <td>108.00</td>\n",
       "      <td>2019-03-07T00:00:00</td>\n",
       "      <td>3</td>\n",
       "      <td>2.70</td>\n",
       "      <td>16.0</td>\n",
       "      <td>51.00</td>\n",
       "      <td>8</td>\n",
       "      <td>NaN</td>\n",
       "      <td>...</td>\n",
       "      <td>25.00</td>\n",
       "      <td>NaN</td>\n",
       "      <td>Санкт-Петербург</td>\n",
       "      <td>18863.0</td>\n",
       "      <td>16028.0</td>\n",
       "      <td>1.0</td>\n",
       "      <td>482.0</td>\n",
       "      <td>2.0</td>\n",
       "      <td>755.0</td>\n",
       "      <td>NaN</td>\n",
       "    </tr>\n",
       "    <tr>\n",
       "      <th>1</th>\n",
       "      <td>7</td>\n",
       "      <td>3350000.0</td>\n",
       "      <td>40.40</td>\n",
       "      <td>2018-12-04T00:00:00</td>\n",
       "      <td>1</td>\n",
       "      <td>NaN</td>\n",
       "      <td>11.0</td>\n",
       "      <td>18.60</td>\n",
       "      <td>1</td>\n",
       "      <td>NaN</td>\n",
       "      <td>...</td>\n",
       "      <td>11.00</td>\n",
       "      <td>2.0</td>\n",
       "      <td>посёлок Шушары</td>\n",
       "      <td>12817.0</td>\n",
       "      <td>18603.0</td>\n",
       "      <td>0.0</td>\n",
       "      <td>NaN</td>\n",
       "      <td>0.0</td>\n",
       "      <td>NaN</td>\n",
       "      <td>81.0</td>\n",
       "    </tr>\n",
       "    <tr>\n",
       "      <th>2</th>\n",
       "      <td>10</td>\n",
       "      <td>5196000.0</td>\n",
       "      <td>56.00</td>\n",
       "      <td>2015-08-20T00:00:00</td>\n",
       "      <td>2</td>\n",
       "      <td>NaN</td>\n",
       "      <td>5.0</td>\n",
       "      <td>34.30</td>\n",
       "      <td>4</td>\n",
       "      <td>NaN</td>\n",
       "      <td>...</td>\n",
       "      <td>8.30</td>\n",
       "      <td>0.0</td>\n",
       "      <td>Санкт-Петербург</td>\n",
       "      <td>21741.0</td>\n",
       "      <td>13933.0</td>\n",
       "      <td>1.0</td>\n",
       "      <td>90.0</td>\n",
       "      <td>2.0</td>\n",
       "      <td>574.0</td>\n",
       "      <td>558.0</td>\n",
       "    </tr>\n",
       "    <tr>\n",
       "      <th>3</th>\n",
       "      <td>0</td>\n",
       "      <td>64900000.0</td>\n",
       "      <td>159.00</td>\n",
       "      <td>2015-07-24T00:00:00</td>\n",
       "      <td>3</td>\n",
       "      <td>NaN</td>\n",
       "      <td>14.0</td>\n",
       "      <td>NaN</td>\n",
       "      <td>9</td>\n",
       "      <td>NaN</td>\n",
       "      <td>...</td>\n",
       "      <td>NaN</td>\n",
       "      <td>0.0</td>\n",
       "      <td>Санкт-Петербург</td>\n",
       "      <td>28098.0</td>\n",
       "      <td>6800.0</td>\n",
       "      <td>2.0</td>\n",
       "      <td>84.0</td>\n",
       "      <td>3.0</td>\n",
       "      <td>234.0</td>\n",
       "      <td>424.0</td>\n",
       "    </tr>\n",
       "    <tr>\n",
       "      <th>4</th>\n",
       "      <td>2</td>\n",
       "      <td>10000000.0</td>\n",
       "      <td>100.00</td>\n",
       "      <td>2018-06-19T00:00:00</td>\n",
       "      <td>2</td>\n",
       "      <td>3.03</td>\n",
       "      <td>14.0</td>\n",
       "      <td>32.00</td>\n",
       "      <td>13</td>\n",
       "      <td>NaN</td>\n",
       "      <td>...</td>\n",
       "      <td>41.00</td>\n",
       "      <td>NaN</td>\n",
       "      <td>Санкт-Петербург</td>\n",
       "      <td>31856.0</td>\n",
       "      <td>8098.0</td>\n",
       "      <td>2.0</td>\n",
       "      <td>112.0</td>\n",
       "      <td>1.0</td>\n",
       "      <td>48.0</td>\n",
       "      <td>121.0</td>\n",
       "    </tr>\n",
       "    <tr>\n",
       "      <th>5</th>\n",
       "      <td>10</td>\n",
       "      <td>2890000.0</td>\n",
       "      <td>30.40</td>\n",
       "      <td>2018-09-10T00:00:00</td>\n",
       "      <td>1</td>\n",
       "      <td>NaN</td>\n",
       "      <td>12.0</td>\n",
       "      <td>14.40</td>\n",
       "      <td>5</td>\n",
       "      <td>NaN</td>\n",
       "      <td>...</td>\n",
       "      <td>9.10</td>\n",
       "      <td>NaN</td>\n",
       "      <td>городской посёлок Янино-1</td>\n",
       "      <td>NaN</td>\n",
       "      <td>NaN</td>\n",
       "      <td>NaN</td>\n",
       "      <td>NaN</td>\n",
       "      <td>NaN</td>\n",
       "      <td>NaN</td>\n",
       "      <td>55.0</td>\n",
       "    </tr>\n",
       "    <tr>\n",
       "      <th>6</th>\n",
       "      <td>6</td>\n",
       "      <td>3700000.0</td>\n",
       "      <td>37.30</td>\n",
       "      <td>2017-11-02T00:00:00</td>\n",
       "      <td>1</td>\n",
       "      <td>NaN</td>\n",
       "      <td>26.0</td>\n",
       "      <td>10.60</td>\n",
       "      <td>6</td>\n",
       "      <td>NaN</td>\n",
       "      <td>...</td>\n",
       "      <td>14.40</td>\n",
       "      <td>1.0</td>\n",
       "      <td>посёлок Парголово</td>\n",
       "      <td>52996.0</td>\n",
       "      <td>19143.0</td>\n",
       "      <td>0.0</td>\n",
       "      <td>NaN</td>\n",
       "      <td>0.0</td>\n",
       "      <td>NaN</td>\n",
       "      <td>155.0</td>\n",
       "    </tr>\n",
       "    <tr>\n",
       "      <th>7</th>\n",
       "      <td>5</td>\n",
       "      <td>7915000.0</td>\n",
       "      <td>71.60</td>\n",
       "      <td>2019-04-18T00:00:00</td>\n",
       "      <td>2</td>\n",
       "      <td>NaN</td>\n",
       "      <td>24.0</td>\n",
       "      <td>NaN</td>\n",
       "      <td>22</td>\n",
       "      <td>NaN</td>\n",
       "      <td>...</td>\n",
       "      <td>18.90</td>\n",
       "      <td>2.0</td>\n",
       "      <td>Санкт-Петербург</td>\n",
       "      <td>23982.0</td>\n",
       "      <td>11634.0</td>\n",
       "      <td>0.0</td>\n",
       "      <td>NaN</td>\n",
       "      <td>0.0</td>\n",
       "      <td>NaN</td>\n",
       "      <td>NaN</td>\n",
       "    </tr>\n",
       "    <tr>\n",
       "      <th>8</th>\n",
       "      <td>20</td>\n",
       "      <td>2900000.0</td>\n",
       "      <td>33.16</td>\n",
       "      <td>2018-05-23T00:00:00</td>\n",
       "      <td>1</td>\n",
       "      <td>NaN</td>\n",
       "      <td>27.0</td>\n",
       "      <td>15.43</td>\n",
       "      <td>26</td>\n",
       "      <td>NaN</td>\n",
       "      <td>...</td>\n",
       "      <td>8.81</td>\n",
       "      <td>NaN</td>\n",
       "      <td>посёлок Мурино</td>\n",
       "      <td>NaN</td>\n",
       "      <td>NaN</td>\n",
       "      <td>NaN</td>\n",
       "      <td>NaN</td>\n",
       "      <td>NaN</td>\n",
       "      <td>NaN</td>\n",
       "      <td>189.0</td>\n",
       "    </tr>\n",
       "    <tr>\n",
       "      <th>9</th>\n",
       "      <td>18</td>\n",
       "      <td>5400000.0</td>\n",
       "      <td>61.00</td>\n",
       "      <td>2017-02-26T00:00:00</td>\n",
       "      <td>3</td>\n",
       "      <td>2.50</td>\n",
       "      <td>9.0</td>\n",
       "      <td>43.60</td>\n",
       "      <td>7</td>\n",
       "      <td>NaN</td>\n",
       "      <td>...</td>\n",
       "      <td>6.50</td>\n",
       "      <td>2.0</td>\n",
       "      <td>Санкт-Петербург</td>\n",
       "      <td>50898.0</td>\n",
       "      <td>15008.0</td>\n",
       "      <td>0.0</td>\n",
       "      <td>NaN</td>\n",
       "      <td>0.0</td>\n",
       "      <td>NaN</td>\n",
       "      <td>289.0</td>\n",
       "    </tr>\n",
       "    <tr>\n",
       "      <th>10</th>\n",
       "      <td>5</td>\n",
       "      <td>5050000.0</td>\n",
       "      <td>39.60</td>\n",
       "      <td>2017-11-16T00:00:00</td>\n",
       "      <td>1</td>\n",
       "      <td>2.67</td>\n",
       "      <td>12.0</td>\n",
       "      <td>20.30</td>\n",
       "      <td>3</td>\n",
       "      <td>NaN</td>\n",
       "      <td>...</td>\n",
       "      <td>8.50</td>\n",
       "      <td>NaN</td>\n",
       "      <td>Санкт-Петербург</td>\n",
       "      <td>38357.0</td>\n",
       "      <td>13878.0</td>\n",
       "      <td>1.0</td>\n",
       "      <td>310.0</td>\n",
       "      <td>2.0</td>\n",
       "      <td>553.0</td>\n",
       "      <td>137.0</td>\n",
       "    </tr>\n",
       "    <tr>\n",
       "      <th>11</th>\n",
       "      <td>9</td>\n",
       "      <td>3300000.0</td>\n",
       "      <td>44.00</td>\n",
       "      <td>2018-08-27T00:00:00</td>\n",
       "      <td>2</td>\n",
       "      <td>NaN</td>\n",
       "      <td>5.0</td>\n",
       "      <td>31.00</td>\n",
       "      <td>4</td>\n",
       "      <td>False</td>\n",
       "      <td>...</td>\n",
       "      <td>6.00</td>\n",
       "      <td>1.0</td>\n",
       "      <td>Ломоносов</td>\n",
       "      <td>48252.0</td>\n",
       "      <td>51677.0</td>\n",
       "      <td>0.0</td>\n",
       "      <td>NaN</td>\n",
       "      <td>0.0</td>\n",
       "      <td>NaN</td>\n",
       "      <td>7.0</td>\n",
       "    </tr>\n",
       "    <tr>\n",
       "      <th>12</th>\n",
       "      <td>10</td>\n",
       "      <td>3890000.0</td>\n",
       "      <td>54.00</td>\n",
       "      <td>2016-06-30T00:00:00</td>\n",
       "      <td>2</td>\n",
       "      <td>NaN</td>\n",
       "      <td>5.0</td>\n",
       "      <td>30.00</td>\n",
       "      <td>5</td>\n",
       "      <td>NaN</td>\n",
       "      <td>...</td>\n",
       "      <td>9.00</td>\n",
       "      <td>0.0</td>\n",
       "      <td>Сертолово</td>\n",
       "      <td>NaN</td>\n",
       "      <td>NaN</td>\n",
       "      <td>NaN</td>\n",
       "      <td>NaN</td>\n",
       "      <td>NaN</td>\n",
       "      <td>NaN</td>\n",
       "      <td>90.0</td>\n",
       "    </tr>\n",
       "    <tr>\n",
       "      <th>13</th>\n",
       "      <td>20</td>\n",
       "      <td>3550000.0</td>\n",
       "      <td>42.80</td>\n",
       "      <td>2017-07-01T00:00:00</td>\n",
       "      <td>2</td>\n",
       "      <td>2.56</td>\n",
       "      <td>5.0</td>\n",
       "      <td>27.00</td>\n",
       "      <td>5</td>\n",
       "      <td>NaN</td>\n",
       "      <td>...</td>\n",
       "      <td>5.20</td>\n",
       "      <td>1.0</td>\n",
       "      <td>Петергоф</td>\n",
       "      <td>37868.0</td>\n",
       "      <td>33058.0</td>\n",
       "      <td>1.0</td>\n",
       "      <td>294.0</td>\n",
       "      <td>3.0</td>\n",
       "      <td>298.0</td>\n",
       "      <td>366.0</td>\n",
       "    </tr>\n",
       "    <tr>\n",
       "      <th>14</th>\n",
       "      <td>1</td>\n",
       "      <td>4400000.0</td>\n",
       "      <td>36.00</td>\n",
       "      <td>2016-06-23T00:00:00</td>\n",
       "      <td>1</td>\n",
       "      <td>NaN</td>\n",
       "      <td>6.0</td>\n",
       "      <td>17.00</td>\n",
       "      <td>1</td>\n",
       "      <td>NaN</td>\n",
       "      <td>...</td>\n",
       "      <td>8.00</td>\n",
       "      <td>0.0</td>\n",
       "      <td>Пушкин</td>\n",
       "      <td>20782.0</td>\n",
       "      <td>30759.0</td>\n",
       "      <td>0.0</td>\n",
       "      <td>NaN</td>\n",
       "      <td>1.0</td>\n",
       "      <td>96.0</td>\n",
       "      <td>203.0</td>\n",
       "    </tr>\n",
       "    <tr>\n",
       "      <th>15</th>\n",
       "      <td>16</td>\n",
       "      <td>4650000.0</td>\n",
       "      <td>39.00</td>\n",
       "      <td>2017-11-18T00:00:00</td>\n",
       "      <td>1</td>\n",
       "      <td>NaN</td>\n",
       "      <td>14.0</td>\n",
       "      <td>20.50</td>\n",
       "      <td>5</td>\n",
       "      <td>NaN</td>\n",
       "      <td>...</td>\n",
       "      <td>7.60</td>\n",
       "      <td>1.0</td>\n",
       "      <td>Санкт-Петербург</td>\n",
       "      <td>12900.0</td>\n",
       "      <td>14259.0</td>\n",
       "      <td>1.0</td>\n",
       "      <td>590.0</td>\n",
       "      <td>1.0</td>\n",
       "      <td>296.0</td>\n",
       "      <td>19.0</td>\n",
       "    </tr>\n",
       "    <tr>\n",
       "      <th>16</th>\n",
       "      <td>11</td>\n",
       "      <td>6700000.0</td>\n",
       "      <td>82.00</td>\n",
       "      <td>2017-11-23T00:00:00</td>\n",
       "      <td>3</td>\n",
       "      <td>3.05</td>\n",
       "      <td>5.0</td>\n",
       "      <td>55.60</td>\n",
       "      <td>1</td>\n",
       "      <td>NaN</td>\n",
       "      <td>...</td>\n",
       "      <td>9.00</td>\n",
       "      <td>NaN</td>\n",
       "      <td>Санкт-Петербург</td>\n",
       "      <td>22108.0</td>\n",
       "      <td>10698.0</td>\n",
       "      <td>3.0</td>\n",
       "      <td>420.0</td>\n",
       "      <td>0.0</td>\n",
       "      <td>NaN</td>\n",
       "      <td>397.0</td>\n",
       "    </tr>\n",
       "    <tr>\n",
       "      <th>17</th>\n",
       "      <td>6</td>\n",
       "      <td>4180000.0</td>\n",
       "      <td>36.00</td>\n",
       "      <td>2016-09-09T00:00:00</td>\n",
       "      <td>1</td>\n",
       "      <td>NaN</td>\n",
       "      <td>17.0</td>\n",
       "      <td>16.50</td>\n",
       "      <td>7</td>\n",
       "      <td>NaN</td>\n",
       "      <td>...</td>\n",
       "      <td>11.00</td>\n",
       "      <td>1.0</td>\n",
       "      <td>Санкт-Петербург</td>\n",
       "      <td>33564.0</td>\n",
       "      <td>14616.0</td>\n",
       "      <td>0.0</td>\n",
       "      <td>NaN</td>\n",
       "      <td>1.0</td>\n",
       "      <td>859.0</td>\n",
       "      <td>571.0</td>\n",
       "    </tr>\n",
       "    <tr>\n",
       "      <th>18</th>\n",
       "      <td>8</td>\n",
       "      <td>3250000.0</td>\n",
       "      <td>31.00</td>\n",
       "      <td>2017-01-27T00:00:00</td>\n",
       "      <td>1</td>\n",
       "      <td>2.50</td>\n",
       "      <td>5.0</td>\n",
       "      <td>19.40</td>\n",
       "      <td>2</td>\n",
       "      <td>NaN</td>\n",
       "      <td>...</td>\n",
       "      <td>5.60</td>\n",
       "      <td>1.0</td>\n",
       "      <td>Санкт-Петербург</td>\n",
       "      <td>44060.0</td>\n",
       "      <td>10842.0</td>\n",
       "      <td>1.0</td>\n",
       "      <td>759.0</td>\n",
       "      <td>0.0</td>\n",
       "      <td>NaN</td>\n",
       "      <td>168.0</td>\n",
       "    </tr>\n",
       "    <tr>\n",
       "      <th>19</th>\n",
       "      <td>16</td>\n",
       "      <td>14200000.0</td>\n",
       "      <td>121.00</td>\n",
       "      <td>2019-01-09T00:00:00</td>\n",
       "      <td>3</td>\n",
       "      <td>2.75</td>\n",
       "      <td>16.0</td>\n",
       "      <td>76.00</td>\n",
       "      <td>8</td>\n",
       "      <td>NaN</td>\n",
       "      <td>...</td>\n",
       "      <td>12.00</td>\n",
       "      <td>NaN</td>\n",
       "      <td>Санкт-Петербург</td>\n",
       "      <td>38900.0</td>\n",
       "      <td>12843.0</td>\n",
       "      <td>0.0</td>\n",
       "      <td>NaN</td>\n",
       "      <td>0.0</td>\n",
       "      <td>NaN</td>\n",
       "      <td>97.0</td>\n",
       "    </tr>\n",
       "  </tbody>\n",
       "</table>\n",
       "<p>20 rows × 22 columns</p>\n",
       "</div>"
      ],
      "text/plain": [
       "    total_images  last_price  total_area first_day_exposition  rooms  \\\n",
       "0             20  13000000.0      108.00  2019-03-07T00:00:00      3   \n",
       "1              7   3350000.0       40.40  2018-12-04T00:00:00      1   \n",
       "2             10   5196000.0       56.00  2015-08-20T00:00:00      2   \n",
       "3              0  64900000.0      159.00  2015-07-24T00:00:00      3   \n",
       "4              2  10000000.0      100.00  2018-06-19T00:00:00      2   \n",
       "5             10   2890000.0       30.40  2018-09-10T00:00:00      1   \n",
       "6              6   3700000.0       37.30  2017-11-02T00:00:00      1   \n",
       "7              5   7915000.0       71.60  2019-04-18T00:00:00      2   \n",
       "8             20   2900000.0       33.16  2018-05-23T00:00:00      1   \n",
       "9             18   5400000.0       61.00  2017-02-26T00:00:00      3   \n",
       "10             5   5050000.0       39.60  2017-11-16T00:00:00      1   \n",
       "11             9   3300000.0       44.00  2018-08-27T00:00:00      2   \n",
       "12            10   3890000.0       54.00  2016-06-30T00:00:00      2   \n",
       "13            20   3550000.0       42.80  2017-07-01T00:00:00      2   \n",
       "14             1   4400000.0       36.00  2016-06-23T00:00:00      1   \n",
       "15            16   4650000.0       39.00  2017-11-18T00:00:00      1   \n",
       "16            11   6700000.0       82.00  2017-11-23T00:00:00      3   \n",
       "17             6   4180000.0       36.00  2016-09-09T00:00:00      1   \n",
       "18             8   3250000.0       31.00  2017-01-27T00:00:00      1   \n",
       "19            16  14200000.0      121.00  2019-01-09T00:00:00      3   \n",
       "\n",
       "    ceiling_height  floors_total  living_area  floor is_apartment  ...  \\\n",
       "0             2.70          16.0        51.00      8          NaN  ...   \n",
       "1              NaN          11.0        18.60      1          NaN  ...   \n",
       "2              NaN           5.0        34.30      4          NaN  ...   \n",
       "3              NaN          14.0          NaN      9          NaN  ...   \n",
       "4             3.03          14.0        32.00     13          NaN  ...   \n",
       "5              NaN          12.0        14.40      5          NaN  ...   \n",
       "6              NaN          26.0        10.60      6          NaN  ...   \n",
       "7              NaN          24.0          NaN     22          NaN  ...   \n",
       "8              NaN          27.0        15.43     26          NaN  ...   \n",
       "9             2.50           9.0        43.60      7          NaN  ...   \n",
       "10            2.67          12.0        20.30      3          NaN  ...   \n",
       "11             NaN           5.0        31.00      4        False  ...   \n",
       "12             NaN           5.0        30.00      5          NaN  ...   \n",
       "13            2.56           5.0        27.00      5          NaN  ...   \n",
       "14             NaN           6.0        17.00      1          NaN  ...   \n",
       "15             NaN          14.0        20.50      5          NaN  ...   \n",
       "16            3.05           5.0        55.60      1          NaN  ...   \n",
       "17             NaN          17.0        16.50      7          NaN  ...   \n",
       "18            2.50           5.0        19.40      2          NaN  ...   \n",
       "19            2.75          16.0        76.00      8          NaN  ...   \n",
       "\n",
       "    kitchen_area  balcony              locality_name  airports_nearest  \\\n",
       "0          25.00      NaN            Санкт-Петербург           18863.0   \n",
       "1          11.00      2.0             посёлок Шушары           12817.0   \n",
       "2           8.30      0.0            Санкт-Петербург           21741.0   \n",
       "3            NaN      0.0            Санкт-Петербург           28098.0   \n",
       "4          41.00      NaN            Санкт-Петербург           31856.0   \n",
       "5           9.10      NaN  городской посёлок Янино-1               NaN   \n",
       "6          14.40      1.0          посёлок Парголово           52996.0   \n",
       "7          18.90      2.0            Санкт-Петербург           23982.0   \n",
       "8           8.81      NaN             посёлок Мурино               NaN   \n",
       "9           6.50      2.0            Санкт-Петербург           50898.0   \n",
       "10          8.50      NaN            Санкт-Петербург           38357.0   \n",
       "11          6.00      1.0                  Ломоносов           48252.0   \n",
       "12          9.00      0.0                  Сертолово               NaN   \n",
       "13          5.20      1.0                   Петергоф           37868.0   \n",
       "14          8.00      0.0                     Пушкин           20782.0   \n",
       "15          7.60      1.0            Санкт-Петербург           12900.0   \n",
       "16          9.00      NaN            Санкт-Петербург           22108.0   \n",
       "17         11.00      1.0            Санкт-Петербург           33564.0   \n",
       "18          5.60      1.0            Санкт-Петербург           44060.0   \n",
       "19         12.00      NaN            Санкт-Петербург           38900.0   \n",
       "\n",
       "   cityCenters_nearest  parks_around3000  parks_nearest  ponds_around3000  \\\n",
       "0              16028.0               1.0          482.0               2.0   \n",
       "1              18603.0               0.0            NaN               0.0   \n",
       "2              13933.0               1.0           90.0               2.0   \n",
       "3               6800.0               2.0           84.0               3.0   \n",
       "4               8098.0               2.0          112.0               1.0   \n",
       "5                  NaN               NaN            NaN               NaN   \n",
       "6              19143.0               0.0            NaN               0.0   \n",
       "7              11634.0               0.0            NaN               0.0   \n",
       "8                  NaN               NaN            NaN               NaN   \n",
       "9              15008.0               0.0            NaN               0.0   \n",
       "10             13878.0               1.0          310.0               2.0   \n",
       "11             51677.0               0.0            NaN               0.0   \n",
       "12                 NaN               NaN            NaN               NaN   \n",
       "13             33058.0               1.0          294.0               3.0   \n",
       "14             30759.0               0.0            NaN               1.0   \n",
       "15             14259.0               1.0          590.0               1.0   \n",
       "16             10698.0               3.0          420.0               0.0   \n",
       "17             14616.0               0.0            NaN               1.0   \n",
       "18             10842.0               1.0          759.0               0.0   \n",
       "19             12843.0               0.0            NaN               0.0   \n",
       "\n",
       "    ponds_nearest  days_exposition  \n",
       "0           755.0              NaN  \n",
       "1             NaN             81.0  \n",
       "2           574.0            558.0  \n",
       "3           234.0            424.0  \n",
       "4            48.0            121.0  \n",
       "5             NaN             55.0  \n",
       "6             NaN            155.0  \n",
       "7             NaN              NaN  \n",
       "8             NaN            189.0  \n",
       "9             NaN            289.0  \n",
       "10          553.0            137.0  \n",
       "11            NaN              7.0  \n",
       "12            NaN             90.0  \n",
       "13          298.0            366.0  \n",
       "14           96.0            203.0  \n",
       "15          296.0             19.0  \n",
       "16            NaN            397.0  \n",
       "17          859.0            571.0  \n",
       "18            NaN            168.0  \n",
       "19            NaN             97.0  \n",
       "\n",
       "[20 rows x 22 columns]"
      ]
     },
     "execution_count": 1,
     "metadata": {},
     "output_type": "execute_result"
    }
   ],
   "source": [
    "import pandas as pd\n",
    "import numpy as np\n",
    "\n",
    "data = pd.read_csv ('/datasets/real_estate_data.csv', sep='\\t')\n",
    "data.head(20)"
   ]
  },
  {
   "cell_type": "code",
   "execution_count": 2,
   "metadata": {},
   "outputs": [
    {
     "name": "stdout",
     "output_type": "stream",
     "text": [
      "<class 'pandas.core.frame.DataFrame'>\n",
      "RangeIndex: 23699 entries, 0 to 23698\n",
      "Data columns (total 22 columns):\n",
      " #   Column                Non-Null Count  Dtype  \n",
      "---  ------                --------------  -----  \n",
      " 0   total_images          23699 non-null  int64  \n",
      " 1   last_price            23699 non-null  float64\n",
      " 2   total_area            23699 non-null  float64\n",
      " 3   first_day_exposition  23699 non-null  object \n",
      " 4   rooms                 23699 non-null  int64  \n",
      " 5   ceiling_height        14504 non-null  float64\n",
      " 6   floors_total          23613 non-null  float64\n",
      " 7   living_area           21796 non-null  float64\n",
      " 8   floor                 23699 non-null  int64  \n",
      " 9   is_apartment          2775 non-null   object \n",
      " 10  studio                23699 non-null  bool   \n",
      " 11  open_plan             23699 non-null  bool   \n",
      " 12  kitchen_area          21421 non-null  float64\n",
      " 13  balcony               12180 non-null  float64\n",
      " 14  locality_name         23650 non-null  object \n",
      " 15  airports_nearest      18157 non-null  float64\n",
      " 16  cityCenters_nearest   18180 non-null  float64\n",
      " 17  parks_around3000      18181 non-null  float64\n",
      " 18  parks_nearest         8079 non-null   float64\n",
      " 19  ponds_around3000      18181 non-null  float64\n",
      " 20  ponds_nearest         9110 non-null   float64\n",
      " 21  days_exposition       20518 non-null  float64\n",
      "dtypes: bool(2), float64(14), int64(3), object(3)\n",
      "memory usage: 3.7+ MB\n"
     ]
    }
   ],
   "source": [
    "data.info()"
   ]
  },
  {
   "cell_type": "code",
   "execution_count": 3,
   "metadata": {},
   "outputs": [
    {
     "data": {
      "image/png": "[encoded data removed]",
      "text/plain": [
       "<Figure size 1080x1440 with 20 Axes>"
      ]
     },
     "metadata": {
      "needs_background": "light"
     },
     "output_type": "display_data"
    }
   ],
   "source": [
    "data.hist(figsize=(15, 20));"
   ]
  },
  {
   "cell_type": "markdown",
   "metadata": {},
   "source": [
    "### Предобработка данных"
   ]
  },
  {
   "cell_type": "markdown",
   "metadata": {},
   "source": [
    "#### Найдите и изучите пропущенные значения в столбцах"
   ]
  },
  {
   "cell_type": "code",
   "execution_count": 4,
   "metadata": {},
   "outputs": [
    {
     "data": {
      "text/html": [
       "<style  type=\"text/css\" >\n",
       "#T_dc477_row0_col0,#T_dc477_row1_col0,#T_dc477_row2_col0,#T_dc477_row3_col0,#T_dc477_row4_col0,#T_dc477_row6_col0,#T_dc477_row8_col0,#T_dc477_row10_col0,#T_dc477_row11_col0,#T_dc477_row14_col0{\n",
       "            background-color:  #3b4cc0;\n",
       "            color:  #f1f1f1;\n",
       "        }#T_dc477_row5_col0{\n",
       "            background-color:  #cdd9ec;\n",
       "            color:  #000000;\n",
       "        }#T_dc477_row7_col0{\n",
       "            background-color:  #5673e0;\n",
       "            color:  #000000;\n",
       "        }#T_dc477_row9_col0{\n",
       "            background-color:  #b40426;\n",
       "            color:  #f1f1f1;\n",
       "        }#T_dc477_row12_col0{\n",
       "            background-color:  #5e7de7;\n",
       "            color:  #000000;\n",
       "        }#T_dc477_row13_col0{\n",
       "            background-color:  #ead4c8;\n",
       "            color:  #000000;\n",
       "        }#T_dc477_row15_col0,#T_dc477_row16_col0,#T_dc477_row17_col0,#T_dc477_row19_col0{\n",
       "            background-color:  #90b2fe;\n",
       "            color:  #000000;\n",
       "        }#T_dc477_row18_col0{\n",
       "            background-color:  #f4987a;\n",
       "            color:  #000000;\n",
       "        }#T_dc477_row20_col0{\n",
       "            background-color:  #f7aa8c;\n",
       "            color:  #000000;\n",
       "        }#T_dc477_row21_col0{\n",
       "            background-color:  #688aef;\n",
       "            color:  #000000;\n",
       "        }</style><table id=\"T_dc477_\" ><thead>    <tr>        <th class=\"blank level0\" ></th>        <th class=\"col_heading level0 col0\" >0</th>    </tr></thead><tbody>\n",
       "                <tr>\n",
       "                        <th id=\"T_dc477_level0_row0\" class=\"row_heading level0 row0\" >total_images</th>\n",
       "                        <td id=\"T_dc477_row0_col0\" class=\"data row0 col0\" >0.000000</td>\n",
       "            </tr>\n",
       "            <tr>\n",
       "                        <th id=\"T_dc477_level0_row1\" class=\"row_heading level0 row1\" >last_price</th>\n",
       "                        <td id=\"T_dc477_row1_col0\" class=\"data row1 col0\" >0.000000</td>\n",
       "            </tr>\n",
       "            <tr>\n",
       "                        <th id=\"T_dc477_level0_row2\" class=\"row_heading level0 row2\" >total_area</th>\n",
       "                        <td id=\"T_dc477_row2_col0\" class=\"data row2 col0\" >0.000000</td>\n",
       "            </tr>\n",
       "            <tr>\n",
       "                        <th id=\"T_dc477_level0_row3\" class=\"row_heading level0 row3\" >first_day_exposition</th>\n",
       "                        <td id=\"T_dc477_row3_col0\" class=\"data row3 col0\" >0.000000</td>\n",
       "            </tr>\n",
       "            <tr>\n",
       "                        <th id=\"T_dc477_level0_row4\" class=\"row_heading level0 row4\" >rooms</th>\n",
       "                        <td id=\"T_dc477_row4_col0\" class=\"data row4 col0\" >0.000000</td>\n",
       "            </tr>\n",
       "            <tr>\n",
       "                        <th id=\"T_dc477_level0_row5\" class=\"row_heading level0 row5\" >ceiling_height</th>\n",
       "                        <td id=\"T_dc477_row5_col0\" class=\"data row5 col0\" >39.000000</td>\n",
       "            </tr>\n",
       "            <tr>\n",
       "                        <th id=\"T_dc477_level0_row6\" class=\"row_heading level0 row6\" >floors_total</th>\n",
       "                        <td id=\"T_dc477_row6_col0\" class=\"data row6 col0\" >0.000000</td>\n",
       "            </tr>\n",
       "            <tr>\n",
       "                        <th id=\"T_dc477_level0_row7\" class=\"row_heading level0 row7\" >living_area</th>\n",
       "                        <td id=\"T_dc477_row7_col0\" class=\"data row7 col0\" >8.000000</td>\n",
       "            </tr>\n",
       "            <tr>\n",
       "                        <th id=\"T_dc477_level0_row8\" class=\"row_heading level0 row8\" >floor</th>\n",
       "                        <td id=\"T_dc477_row8_col0\" class=\"data row8 col0\" >0.000000</td>\n",
       "            </tr>\n",
       "            <tr>\n",
       "                        <th id=\"T_dc477_level0_row9\" class=\"row_heading level0 row9\" >is_apartment</th>\n",
       "                        <td id=\"T_dc477_row9_col0\" class=\"data row9 col0\" >88.000000</td>\n",
       "            </tr>\n",
       "            <tr>\n",
       "                        <th id=\"T_dc477_level0_row10\" class=\"row_heading level0 row10\" >studio</th>\n",
       "                        <td id=\"T_dc477_row10_col0\" class=\"data row10 col0\" >0.000000</td>\n",
       "            </tr>\n",
       "            <tr>\n",
       "                        <th id=\"T_dc477_level0_row11\" class=\"row_heading level0 row11\" >open_plan</th>\n",
       "                        <td id=\"T_dc477_row11_col0\" class=\"data row11 col0\" >0.000000</td>\n",
       "            </tr>\n",
       "            <tr>\n",
       "                        <th id=\"T_dc477_level0_row12\" class=\"row_heading level0 row12\" >kitchen_area</th>\n",
       "                        <td id=\"T_dc477_row12_col0\" class=\"data row12 col0\" >10.000000</td>\n",
       "            </tr>\n",
       "            <tr>\n",
       "                        <th id=\"T_dc477_level0_row13\" class=\"row_heading level0 row13\" >balcony</th>\n",
       "                        <td id=\"T_dc477_row13_col0\" class=\"data row13 col0\" >49.000000</td>\n",
       "            </tr>\n",
       "            <tr>\n",
       "                        <th id=\"T_dc477_level0_row14\" class=\"row_heading level0 row14\" >locality_name</th>\n",
       "                        <td id=\"T_dc477_row14_col0\" class=\"data row14 col0\" >0.000000</td>\n",
       "            </tr>\n",
       "            <tr>\n",
       "                        <th id=\"T_dc477_level0_row15\" class=\"row_heading level0 row15\" >airports_nearest</th>\n",
       "                        <td id=\"T_dc477_row15_col0\" class=\"data row15 col0\" >23.000000</td>\n",
       "            </tr>\n",
       "            <tr>\n",
       "                        <th id=\"T_dc477_level0_row16\" class=\"row_heading level0 row16\" >cityCenters_nearest</th>\n",
       "                        <td id=\"T_dc477_row16_col0\" class=\"data row16 col0\" >23.000000</td>\n",
       "            </tr>\n",
       "            <tr>\n",
       "                        <th id=\"T_dc477_level0_row17\" class=\"row_heading level0 row17\" >parks_around3000</th>\n",
       "                        <td id=\"T_dc477_row17_col0\" class=\"data row17 col0\" >23.000000</td>\n",
       "            </tr>\n",
       "            <tr>\n",
       "                        <th id=\"T_dc477_level0_row18\" class=\"row_heading level0 row18\" >parks_nearest</th>\n",
       "                        <td id=\"T_dc477_row18_col0\" class=\"data row18 col0\" >66.000000</td>\n",
       "            </tr>\n",
       "            <tr>\n",
       "                        <th id=\"T_dc477_level0_row19\" class=\"row_heading level0 row19\" >ponds_around3000</th>\n",
       "                        <td id=\"T_dc477_row19_col0\" class=\"data row19 col0\" >23.000000</td>\n",
       "            </tr>\n",
       "            <tr>\n",
       "                        <th id=\"T_dc477_level0_row20\" class=\"row_heading level0 row20\" >ponds_nearest</th>\n",
       "                        <td id=\"T_dc477_row20_col0\" class=\"data row20 col0\" >62.000000</td>\n",
       "            </tr>\n",
       "            <tr>\n",
       "                        <th id=\"T_dc477_level0_row21\" class=\"row_heading level0 row21\" >days_exposition</th>\n",
       "                        <td id=\"T_dc477_row21_col0\" class=\"data row21 col0\" >13.000000</td>\n",
       "            </tr>\n",
       "    </tbody></table>"
      ],
      "text/plain": [
       "<pandas.io.formats.style.Styler at 0x7fec23218ac0>"
      ]
     },
     "execution_count": 4,
     "metadata": {},
     "output_type": "execute_result"
    }
   ],
   "source": [
    "pd.DataFrame(round(data.isna().mean()*100,)).style.background_gradient('coolwarm')"
   ]
  },
  {
   "cell_type": "markdown",
   "metadata": {},
   "source": [
    "**В 14 из 22 двух столбцах есть пропущенные значения**\n",
    "\n",
    "обратим внимание на столбцы, в которых пропуски можно заменить, например:\n",
    "<ul>\n",
    "<li> balcony -  скорее всего, в квартире нет балкона, заменим пропуск на 0 </li>\n",
    "<li> is_apartment - скорее всего, это не апартаменты, заменим на False </li>\n",
    "<li> kitchen_area - если квартира соответсвует студии, то заменяем значение в колонке на 0 </li>   \n",
    "<li> locality_name - количество пропусков мало по сравнению с общим количеством данных, строки с пропусками можно удалить </li>\n",
    "<li> floors_total - количество пропусков мало по сравнению с общим количеством данных, строки с пропусками можно удалить </li>\n",
    "</ul>   \n",
    "\n",
    "\n",
    "В остальных случаях корректней оставить пропуск.\n",
    "\n",
    "Пропуски могли возникнуть так как какие-то данные просто не заполнили (жилая площадь, количество этажей, название населенного пункта) или данные характеристики отсутствуют у квартиры(аэропорта, парков и прудов рядом нет)Пропуски в days_exposition, возможно означают, что объявление так и не закрыли\n",
    " "
   ]
  },
  {
   "cell_type": "code",
   "execution_count": 5,
   "metadata": {},
   "outputs": [],
   "source": [
    "data['is_apartment'] = data['is_apartment'].fillna('False')"
   ]
  },
  {
   "cell_type": "code",
   "execution_count": 6,
   "metadata": {},
   "outputs": [],
   "source": [
    "data['balcony'] = data['balcony'].fillna(0)"
   ]
  },
  {
   "cell_type": "code",
   "execution_count": 7,
   "metadata": {
    "scrolled": true
   },
   "outputs": [],
   "source": [
    "data.loc[(data['kitchen_area'].isna() == True) & (data['studio'] == True), 'kitchen_area'] = 0"
   ]
  },
  {
   "cell_type": "code",
   "execution_count": 8,
   "metadata": {},
   "outputs": [],
   "source": [
    "data = data.dropna(subset = ['floors_total'])"
   ]
  },
  {
   "cell_type": "code",
   "execution_count": 9,
   "metadata": {},
   "outputs": [],
   "source": [
    "data = data.dropna(subset = ['locality_name'])"
   ]
  },
  {
   "cell_type": "markdown",
   "metadata": {},
   "source": [
    "Если пропускков меньше 5-10% их лучше сразу удалить"
   ]
  },
  {
   "cell_type": "code",
   "execution_count": 10,
   "metadata": {},
   "outputs": [
    {
     "data": {
      "text/plain": [
       "total_images                0\n",
       "last_price                  0\n",
       "total_area                  0\n",
       "first_day_exposition        0\n",
       "rooms                       0\n",
       "ceiling_height           9084\n",
       "floors_total                0\n",
       "living_area              1865\n",
       "floor                       0\n",
       "is_apartment                0\n",
       "studio                      0\n",
       "open_plan                   0\n",
       "kitchen_area             2076\n",
       "balcony                     0\n",
       "locality_name               0\n",
       "airports_nearest         5524\n",
       "cityCenters_nearest      5501\n",
       "parks_around3000         5500\n",
       "parks_nearest           15535\n",
       "ponds_around3000         5500\n",
       "ponds_nearest           14529\n",
       "days_exposition          3171\n",
       "dtype: int64"
      ]
     },
     "execution_count": 10,
     "metadata": {},
     "output_type": "execute_result"
    }
   ],
   "source": [
    "data.isna().sum()"
   ]
  },
  {
   "cell_type": "markdown",
   "metadata": {},
   "source": [
    "#### Рассмотрите типы данных в каждом столбце:"
   ]
  },
  {
   "cell_type": "code",
   "execution_count": 11,
   "metadata": {},
   "outputs": [
    {
     "data": {
      "text/plain": [
       "total_images              int64\n",
       "last_price              float64\n",
       "total_area              float64\n",
       "first_day_exposition     object\n",
       "rooms                     int64\n",
       "ceiling_height          float64\n",
       "floors_total            float64\n",
       "living_area             float64\n",
       "floor                     int64\n",
       "is_apartment             object\n",
       "studio                     bool\n",
       "open_plan                  bool\n",
       "kitchen_area            float64\n",
       "balcony                 float64\n",
       "locality_name            object\n",
       "airports_nearest        float64\n",
       "cityCenters_nearest     float64\n",
       "parks_around3000        float64\n",
       "parks_nearest           float64\n",
       "ponds_around3000        float64\n",
       "ponds_nearest           float64\n",
       "days_exposition         float64\n",
       "dtype: object"
      ]
     },
     "execution_count": 11,
     "metadata": {},
     "output_type": "execute_result"
    }
   ],
   "source": [
    "data.dtypes"
   ]
  },
  {
   "cell_type": "markdown",
   "metadata": {},
   "source": [
    "Изменим тип для столбцов:\n",
    "<ul>\n",
    "<li> last_price на int, для сравнения цен нам нужны только целые значения, цифры после запятой существенно не влияют на показатель, так же мы экономим память  </li>\n",
    "<li> floors_total на int, для дальнейшего сравнения с этим столбцом </li>\n",
    "<li> first_day_exposition на date, для наглядности и комфортной работы с датами </li>\n",
    "<li> is_apartment на bool, для экономии памяти и работы со значениями как с булевскими переменными  </li>\n",
    "\n",
    "</ul>"
   ]
  },
  {
   "cell_type": "code",
   "execution_count": 12,
   "metadata": {},
   "outputs": [],
   "source": [
    "data['last_price'] = data['last_price'].astype(int)"
   ]
  },
  {
   "cell_type": "code",
   "execution_count": 13,
   "metadata": {},
   "outputs": [],
   "source": [
    "data['floors_total'] = data['floors_total'].astype(int)"
   ]
  },
  {
   "cell_type": "code",
   "execution_count": 14,
   "metadata": {},
   "outputs": [],
   "source": [
    "data['first_day_exposition'] = pd.to_datetime(data['first_day_exposition'],format='%Y-%m-%dT%H:%M:%S')"
   ]
  },
  {
   "cell_type": "code",
   "execution_count": 15,
   "metadata": {},
   "outputs": [],
   "source": [
    "data['is_apartment'] = data['is_apartment'].map({'False':False, 'True':True})"
   ]
  },
  {
   "cell_type": "code",
   "execution_count": 16,
   "metadata": {},
   "outputs": [
    {
     "data": {
      "text/plain": [
       "total_images                     int64\n",
       "last_price                       int64\n",
       "total_area                     float64\n",
       "first_day_exposition    datetime64[ns]\n",
       "rooms                            int64\n",
       "ceiling_height                 float64\n",
       "floors_total                     int64\n",
       "living_area                    float64\n",
       "floor                            int64\n",
       "is_apartment                    object\n",
       "studio                            bool\n",
       "open_plan                         bool\n",
       "kitchen_area                   float64\n",
       "balcony                          int64\n",
       "locality_name                   object\n",
       "airports_nearest               float64\n",
       "cityCenters_nearest            float64\n",
       "parks_around3000               float64\n",
       "parks_nearest                  float64\n",
       "ponds_around3000               float64\n",
       "ponds_nearest                  float64\n",
       "days_exposition                float64\n",
       "dtype: object"
      ]
     },
     "execution_count": 16,
     "metadata": {},
     "output_type": "execute_result"
    }
   ],
   "source": [
    "data['balcony'] = data['balcony'].astype(int)\n",
    "data.dtypes"
   ]
  },
  {
   "cell_type": "markdown",
   "metadata": {},
   "source": [
    "#### Изучите уникальные значения в столбце:\n"
   ]
  },
  {
   "cell_type": "code",
   "execution_count": 17,
   "metadata": {},
   "outputs": [
    {
     "data": {
      "text/plain": [
       "364"
      ]
     },
     "execution_count": 17,
     "metadata": {},
     "output_type": "execute_result"
    }
   ],
   "source": [
    "# количество уникальных значений в locality_name\n",
    "data['locality_name'].unique().shape[0]"
   ]
  },
  {
   "cell_type": "code",
   "execution_count": 18,
   "metadata": {},
   "outputs": [
    {
     "data": {
      "text/plain": [
       "323"
      ]
     },
     "execution_count": 18,
     "metadata": {},
     "output_type": "execute_result"
    }
   ],
   "source": [
    "# проверяем наличие неявных дубликатов, устараняем их возможные варианты\n",
    "# 1 меняем ё на е\n",
    "data['locality_name'] = data['locality_name'].str.replace('ё', 'е')\n",
    "# 2 меняем \"городской поселок\" на \"поселок городского типа\"\n",
    "data = data.apply(lambda x: x.replace({'поселок':'посёлок', 'городской посёлок': 'посёлок', 'посёлок городского типа': 'посёлок', 'коттеджный посёлок': 'посёлок', 'посёлок при железнодорожной станции': 'посёлок станции'}, regex=True))\n",
    "len(data.locality_name.unique())"
   ]
  },
  {
   "cell_type": "markdown",
   "metadata": {},
   "source": [
    "Количестов неявных дубликатов уменьшилось"
   ]
  },
  {
   "cell_type": "markdown",
   "metadata": {},
   "source": [
    "#### Найдите и устраните редкие и выбивающиеся значения.\n"
   ]
  },
  {
   "cell_type": "markdown",
   "metadata": {},
   "source": [
    "Проанализируем данные, с помощью функции describe(), обратим внимание на минимальные и максимальные значения столбцов.\n"
   ]
  },
  {
   "cell_type": "code",
   "execution_count": 19,
   "metadata": {},
   "outputs": [
    {
     "data": {
      "text/html": [
       "<div>\n",
       "<style scoped>\n",
       "    .dataframe tbody tr th:only-of-type {\n",
       "        vertical-align: middle;\n",
       "    }\n",
       "\n",
       "    .dataframe tbody tr th {\n",
       "        vertical-align: top;\n",
       "    }\n",
       "\n",
       "    .dataframe thead th {\n",
       "        text-align: right;\n",
       "    }\n",
       "</style>\n",
       "<table border=\"1\" class=\"dataframe\">\n",
       "  <thead>\n",
       "    <tr style=\"text-align: right;\">\n",
       "      <th></th>\n",
       "      <th>total_images</th>\n",
       "      <th>last_price</th>\n",
       "      <th>total_area</th>\n",
       "      <th>rooms</th>\n",
       "      <th>ceiling_height</th>\n",
       "      <th>floors_total</th>\n",
       "      <th>living_area</th>\n",
       "      <th>floor</th>\n",
       "      <th>kitchen_area</th>\n",
       "      <th>balcony</th>\n",
       "      <th>airports_nearest</th>\n",
       "      <th>cityCenters_nearest</th>\n",
       "      <th>parks_around3000</th>\n",
       "      <th>parks_nearest</th>\n",
       "      <th>ponds_around3000</th>\n",
       "      <th>ponds_nearest</th>\n",
       "      <th>days_exposition</th>\n",
       "    </tr>\n",
       "  </thead>\n",
       "  <tbody>\n",
       "    <tr>\n",
       "      <th>count</th>\n",
       "      <td>23565.000000</td>\n",
       "      <td>2.356500e+04</td>\n",
       "      <td>23565.000000</td>\n",
       "      <td>23565.000000</td>\n",
       "      <td>14481.000000</td>\n",
       "      <td>23565.000000</td>\n",
       "      <td>21700.000000</td>\n",
       "      <td>23565.000000</td>\n",
       "      <td>21489.000000</td>\n",
       "      <td>23565.000000</td>\n",
       "      <td>18041.000000</td>\n",
       "      <td>18064.000000</td>\n",
       "      <td>18065.000000</td>\n",
       "      <td>8030.000000</td>\n",
       "      <td>18065.000000</td>\n",
       "      <td>9036.000000</td>\n",
       "      <td>20394.000000</td>\n",
       "    </tr>\n",
       "    <tr>\n",
       "      <th>mean</th>\n",
       "      <td>9.878421</td>\n",
       "      <td>6.540058e+06</td>\n",
       "      <td>60.322824</td>\n",
       "      <td>2.070656</td>\n",
       "      <td>2.771283</td>\n",
       "      <td>10.675875</td>\n",
       "      <td>34.454822</td>\n",
       "      <td>5.878124</td>\n",
       "      <td>10.489241</td>\n",
       "      <td>0.593677</td>\n",
       "      <td>28797.082701</td>\n",
       "      <td>14192.656056</td>\n",
       "      <td>0.611569</td>\n",
       "      <td>490.580448</td>\n",
       "      <td>0.769499</td>\n",
       "      <td>518.289509</td>\n",
       "      <td>180.741395</td>\n",
       "    </tr>\n",
       "    <tr>\n",
       "      <th>std</th>\n",
       "      <td>5.681156</td>\n",
       "      <td>1.091093e+07</td>\n",
       "      <td>35.657060</td>\n",
       "      <td>1.078591</td>\n",
       "      <td>1.261983</td>\n",
       "      <td>6.594823</td>\n",
       "      <td>22.045359</td>\n",
       "      <td>4.871485</td>\n",
       "      <td>5.944202</td>\n",
       "      <td>0.960660</td>\n",
       "      <td>12632.499735</td>\n",
       "      <td>8613.348153</td>\n",
       "      <td>0.802088</td>\n",
       "      <td>341.572956</td>\n",
       "      <td>0.938669</td>\n",
       "      <td>278.009558</td>\n",
       "      <td>219.732782</td>\n",
       "    </tr>\n",
       "    <tr>\n",
       "      <th>min</th>\n",
       "      <td>0.000000</td>\n",
       "      <td>1.219000e+04</td>\n",
       "      <td>12.000000</td>\n",
       "      <td>0.000000</td>\n",
       "      <td>1.000000</td>\n",
       "      <td>1.000000</td>\n",
       "      <td>2.000000</td>\n",
       "      <td>1.000000</td>\n",
       "      <td>0.000000</td>\n",
       "      <td>0.000000</td>\n",
       "      <td>0.000000</td>\n",
       "      <td>181.000000</td>\n",
       "      <td>0.000000</td>\n",
       "      <td>1.000000</td>\n",
       "      <td>0.000000</td>\n",
       "      <td>13.000000</td>\n",
       "      <td>1.000000</td>\n",
       "    </tr>\n",
       "    <tr>\n",
       "      <th>25%</th>\n",
       "      <td>6.000000</td>\n",
       "      <td>3.400000e+06</td>\n",
       "      <td>40.000000</td>\n",
       "      <td>1.000000</td>\n",
       "      <td>2.510000</td>\n",
       "      <td>5.000000</td>\n",
       "      <td>18.600000</td>\n",
       "      <td>2.000000</td>\n",
       "      <td>7.000000</td>\n",
       "      <td>0.000000</td>\n",
       "      <td>18565.000000</td>\n",
       "      <td>9238.000000</td>\n",
       "      <td>0.000000</td>\n",
       "      <td>288.000000</td>\n",
       "      <td>0.000000</td>\n",
       "      <td>293.000000</td>\n",
       "      <td>45.000000</td>\n",
       "    </tr>\n",
       "    <tr>\n",
       "      <th>50%</th>\n",
       "      <td>9.000000</td>\n",
       "      <td>4.646000e+06</td>\n",
       "      <td>52.000000</td>\n",
       "      <td>2.000000</td>\n",
       "      <td>2.650000</td>\n",
       "      <td>9.000000</td>\n",
       "      <td>30.000000</td>\n",
       "      <td>4.000000</td>\n",
       "      <td>9.000000</td>\n",
       "      <td>0.000000</td>\n",
       "      <td>26757.000000</td>\n",
       "      <td>13096.500000</td>\n",
       "      <td>0.000000</td>\n",
       "      <td>455.000000</td>\n",
       "      <td>1.000000</td>\n",
       "      <td>503.000000</td>\n",
       "      <td>95.000000</td>\n",
       "    </tr>\n",
       "    <tr>\n",
       "      <th>75%</th>\n",
       "      <td>14.000000</td>\n",
       "      <td>6.790000e+06</td>\n",
       "      <td>69.700000</td>\n",
       "      <td>3.000000</td>\n",
       "      <td>2.800000</td>\n",
       "      <td>16.000000</td>\n",
       "      <td>42.300000</td>\n",
       "      <td>8.000000</td>\n",
       "      <td>12.000000</td>\n",
       "      <td>1.000000</td>\n",
       "      <td>37273.000000</td>\n",
       "      <td>16285.000000</td>\n",
       "      <td>1.000000</td>\n",
       "      <td>612.000000</td>\n",
       "      <td>1.000000</td>\n",
       "      <td>730.000000</td>\n",
       "      <td>231.000000</td>\n",
       "    </tr>\n",
       "    <tr>\n",
       "      <th>max</th>\n",
       "      <td>50.000000</td>\n",
       "      <td>7.630000e+08</td>\n",
       "      <td>900.000000</td>\n",
       "      <td>19.000000</td>\n",
       "      <td>100.000000</td>\n",
       "      <td>60.000000</td>\n",
       "      <td>409.700000</td>\n",
       "      <td>33.000000</td>\n",
       "      <td>112.000000</td>\n",
       "      <td>5.000000</td>\n",
       "      <td>84869.000000</td>\n",
       "      <td>65968.000000</td>\n",
       "      <td>3.000000</td>\n",
       "      <td>3190.000000</td>\n",
       "      <td>3.000000</td>\n",
       "      <td>1344.000000</td>\n",
       "      <td>1580.000000</td>\n",
       "    </tr>\n",
       "  </tbody>\n",
       "</table>\n",
       "</div>"
      ],
      "text/plain": [
       "       total_images    last_price    total_area         rooms  ceiling_height  \\\n",
       "count  23565.000000  2.356500e+04  23565.000000  23565.000000    14481.000000   \n",
       "mean       9.878421  6.540058e+06     60.322824      2.070656        2.771283   \n",
       "std        5.681156  1.091093e+07     35.657060      1.078591        1.261983   \n",
       "min        0.000000  1.219000e+04     12.000000      0.000000        1.000000   \n",
       "25%        6.000000  3.400000e+06     40.000000      1.000000        2.510000   \n",
       "50%        9.000000  4.646000e+06     52.000000      2.000000        2.650000   \n",
       "75%       14.000000  6.790000e+06     69.700000      3.000000        2.800000   \n",
       "max       50.000000  7.630000e+08    900.000000     19.000000      100.000000   \n",
       "\n",
       "       floors_total   living_area         floor  kitchen_area       balcony  \\\n",
       "count  23565.000000  21700.000000  23565.000000  21489.000000  23565.000000   \n",
       "mean      10.675875     34.454822      5.878124     10.489241      0.593677   \n",
       "std        6.594823     22.045359      4.871485      5.944202      0.960660   \n",
       "min        1.000000      2.000000      1.000000      0.000000      0.000000   \n",
       "25%        5.000000     18.600000      2.000000      7.000000      0.000000   \n",
       "50%        9.000000     30.000000      4.000000      9.000000      0.000000   \n",
       "75%       16.000000     42.300000      8.000000     12.000000      1.000000   \n",
       "max       60.000000    409.700000     33.000000    112.000000      5.000000   \n",
       "\n",
       "       airports_nearest  cityCenters_nearest  parks_around3000  parks_nearest  \\\n",
       "count      18041.000000         18064.000000      18065.000000    8030.000000   \n",
       "mean       28797.082701         14192.656056          0.611569     490.580448   \n",
       "std        12632.499735          8613.348153          0.802088     341.572956   \n",
       "min            0.000000           181.000000          0.000000       1.000000   \n",
       "25%        18565.000000          9238.000000          0.000000     288.000000   \n",
       "50%        26757.000000         13096.500000          0.000000     455.000000   \n",
       "75%        37273.000000         16285.000000          1.000000     612.000000   \n",
       "max        84869.000000         65968.000000          3.000000    3190.000000   \n",
       "\n",
       "       ponds_around3000  ponds_nearest  days_exposition  \n",
       "count      18065.000000    9036.000000     20394.000000  \n",
       "mean           0.769499     518.289509       180.741395  \n",
       "std            0.938669     278.009558       219.732782  \n",
       "min            0.000000      13.000000         1.000000  \n",
       "25%            0.000000     293.000000        45.000000  \n",
       "50%            1.000000     503.000000        95.000000  \n",
       "75%            1.000000     730.000000       231.000000  \n",
       "max            3.000000    1344.000000      1580.000000  "
      ]
     },
     "execution_count": 19,
     "metadata": {},
     "output_type": "execute_result"
    }
   ],
   "source": [
    "data.describe()"
   ]
  },
  {
   "cell_type": "markdown",
   "metadata": {},
   "source": [
    "Рассмотрим каждый столбец в отдельности. Обратим внимание на выбросы.\n"
   ]
  },
  {
   "cell_type": "markdown",
   "metadata": {},
   "source": [
    "**total_images**"
   ]
  },
  {
   "cell_type": "code",
   "execution_count": 20,
   "metadata": {},
   "outputs": [
    {
     "data": {
      "text/plain": [
       "<AxesSubplot:>"
      ]
     },
     "execution_count": 20,
     "metadata": {},
     "output_type": "execute_result"
    },
    {
     "data": {
      "image/png": "[encoded data removed]",
      "text/plain": [
       "<Figure size 432x288 with 1 Axes>"
      ]
     },
     "metadata": {
      "needs_background": "light"
     },
     "output_type": "display_data"
    }
   ],
   "source": [
    "data['total_images'].hist()\n",
    "#выбросов нет, распределение выглядит адекватно"
   ]
  },
  {
   "cell_type": "markdown",
   "metadata": {},
   "source": [
    "**last_price**\n",
    "\n",
    "имеет странный минимум  и максимму, посмотрим количество таких значений, если их число мало(< 236(1% от общего числа)),то удалим их \n",
    "* принимаем значения квартиры от 500.000 до 30.000.000 рублей"
   ]
  },
  {
   "cell_type": "code",
   "execution_count": 21,
   "metadata": {},
   "outputs": [],
   "source": [
    "data.query('last_price < 5e+05')['last_price'].count() # 1 квартира\n",
    "data.query('last_price > 3e+07')['last_price'].count() # 183 квартиры\n",
    "\n",
    "data.drop(index=data.query('last_price < 5e+05').index,inplace=True)\n",
    "data.drop(index=data.query('last_price > 3e+07').index,inplace=True)"
   ]
  },
  {
   "cell_type": "code",
   "execution_count": 22,
   "metadata": {},
   "outputs": [
    {
     "data": {
      "text/plain": [
       "<AxesSubplot:>"
      ]
     },
     "execution_count": 22,
     "metadata": {},
     "output_type": "execute_result"
    },
    {
     "data": {
      "image/png": "[encoded data removed]",
      "text/plain": [
       "<Figure size 432x288 with 1 Axes>"
      ]
     },
     "metadata": {
      "needs_background": "light"
     },
     "output_type": "display_data"
    }
   ],
   "source": [
    "data['last_price'].hist( bins=50, range=(0,3e+07))\n",
    "#выбросов нет"
   ]
  },
  {
   "cell_type": "markdown",
   "metadata": {},
   "source": [
    "**total_area**\n",
    "\n",
    "имеет странный максимму, посмотрим количество таких значений, если их число мало(< 236(1% от общего числа)),то удалим\n",
    "* принимаем значения квартиры от 10 до 200 кв.м"
   ]
  },
  {
   "cell_type": "code",
   "execution_count": 23,
   "metadata": {},
   "outputs": [
    {
     "data": {
      "text/plain": [
       "<AxesSubplot:>"
      ]
     },
     "execution_count": 23,
     "metadata": {},
     "output_type": "execute_result"
    },
    {
     "data": {
      "image/png": "[encoded data removed]",
      "text/plain": [
       "<Figure size 432x288 with 1 Axes>"
      ]
     },
     "metadata": {
      "needs_background": "light"
     },
     "output_type": "display_data"
    }
   ],
   "source": [
    "data.query('total_area > 300')['total_area'].count() # 12 квартира\n",
    "data['total_area'].hist(bins=50, range=(10,300))"
   ]
  },
  {
   "cell_type": "markdown",
   "metadata": {},
   "source": [
    "**rooms**\n",
    "\n",
    "имеет странный максимум (19 комнат, похоже это целый отель)), посмотрим количество таких значений, если их число мало(< 236(1% от общего числа)),то удалим\n",
    "* принимае значения квартиры от 1 до 5 комнат"
   ]
  },
  {
   "cell_type": "code",
   "execution_count": 24,
   "metadata": {},
   "outputs": [
    {
     "data": {
      "text/plain": [
       "<AxesSubplot:>"
      ]
     },
     "execution_count": 24,
     "metadata": {},
     "output_type": "execute_result"
    },
    {
     "data": {
      "image/png": "[encoded data removed]",
      "text/plain": [
       "<Figure size 432x288 with 1 Axes>"
      ]
     },
     "metadata": {
      "needs_background": "light"
     },
     "output_type": "display_data"
    }
   ],
   "source": [
    "data.query('rooms > 5')['rooms'].count() # 134 квартиры\n",
    "data.drop(index=data.query('rooms > 5').index,inplace=True)\n",
    "data['rooms'].hist(bins=10, range=(0,10))"
   ]
  },
  {
   "cell_type": "markdown",
   "metadata": {},
   "source": [
    "**ceiling_height**\n",
    "\n",
    "Высота потолков в России регламинтирована, они не могут буть ниже 2.5 метров, так же значения высоты потолков, которые выше 4 и 36 метров кажутся подозрительными, избавимся от них. Предположим, что 25м = 2.5м,а 36м = 3.6м, заменим эти значения.\n",
    "* принимае адекватные значения квартиры с высотой потолка от 2.5 до 4 метров"
   ]
  },
  {
   "cell_type": "code",
   "execution_count": 25,
   "metadata": {},
   "outputs": [
    {
     "data": {
      "text/plain": [
       "1"
      ]
     },
     "execution_count": 25,
     "metadata": {},
     "output_type": "execute_result"
    }
   ],
   "source": [
    "data.query('ceiling_height < 2.5')['ceiling_height'].count() # 73 квартирa\n",
    "data.query('ceiling_height > 4 and ceiling_height < 25')['ceiling_height'].count() #40\n",
    "data.query('ceiling_height >= 25 and ceiling_height <= 36')['ceiling_height'].count() #19\n",
    "data.query('ceiling_height > 36')['ceiling_height'].count() #1"
   ]
  },
  {
   "cell_type": "code",
   "execution_count": 26,
   "metadata": {},
   "outputs": [
    {
     "data": {
      "text/plain": [
       "<AxesSubplot:>"
      ]
     },
     "execution_count": 26,
     "metadata": {},
     "output_type": "execute_result"
    },
    {
     "data": {
      "image/png": "[encoded data removed]",
      "text/plain": [
       "<Figure size 432x288 with 1 Axes>"
      ]
     },
     "metadata": {
      "needs_background": "light"
     },
     "output_type": "display_data"
    }
   ],
   "source": [
    "data.drop(index=data.query('ceiling_height < 2.5').index,inplace=True)\n",
    "data.drop(index=data.query('ceiling_height > 4 and ceiling_height < 25').index,inplace=True)\n",
    "data.update(data[(data['ceiling_height'] >= 25) & (data['ceiling_height'] <= 36)]['ceiling_height']/10)\n",
    "data.drop(index=data.query('ceiling_height > 36').index,inplace=True)\n",
    "\n",
    "data['ceiling_height'].hist(bins=10, range=(2.4,4))"
   ]
  },
  {
   "cell_type": "markdown",
   "metadata": {},
   "source": [
    "**floors_total**\n",
    "\n",
    "Нет выбевающихся значений, минимум и максимум подозрений не вызывают"
   ]
  },
  {
   "cell_type": "code",
   "execution_count": 27,
   "metadata": {},
   "outputs": [
    {
     "data": {
      "image/png": "[encoded data removed]",
      "text/plain": [
       "<Figure size 432x288 with 1 Axes>"
      ]
     },
     "metadata": {
      "needs_background": "light"
     },
     "output_type": "display_data"
    }
   ],
   "source": [
    "data['floors_total'].hist(bins=30, range=(1,50));"
   ]
  },
  {
   "cell_type": "markdown",
   "metadata": {},
   "source": [
    "**living_area**\n",
    "\n",
    "имеет странный максимум возможно, квартиры с большой площадью продаются для специальных целей или относятся к категории элитного жилья.\n",
    "* принимае адекватные значения квартиры от 10 до 200 кв.м"
   ]
  },
  {
   "cell_type": "code",
   "execution_count": 28,
   "metadata": {},
   "outputs": [
    {
     "data": {
      "text/plain": [
       "0"
      ]
     },
     "execution_count": 28,
     "metadata": {},
     "output_type": "execute_result"
    }
   ],
   "source": [
    "data.query('living_area < 10')['living_area'].count() #24\n",
    "data.query('living_area > 200')['living_area'].count() #4\n"
   ]
  },
  {
   "cell_type": "code",
   "execution_count": 29,
   "metadata": {},
   "outputs": [
    {
     "data": {
      "text/plain": [
       "<AxesSubplot:>"
      ]
     },
     "execution_count": 29,
     "metadata": {},
     "output_type": "execute_result"
    },
    {
     "data": {
      "image/png": "[encoded data removed]",
      "text/plain": [
       "<Figure size 432x288 with 1 Axes>"
      ]
     },
     "metadata": {
      "needs_background": "light"
     },
     "output_type": "display_data"
    }
   ],
   "source": [
    "data.drop(index=data.query('living_area < 10').index,inplace=True)\n",
    "data.drop(index=data.query('living_area > 200').index,inplace=True)\n",
    "\n",
    "data['living_area'].hist(bins=60, range=(0,100))"
   ]
  },
  {
   "cell_type": "markdown",
   "metadata": {},
   "source": [
    "**floor**\n",
    "\n",
    "Нет выбевающихся значений, минимум и максимум подозрений не вызывают"
   ]
  },
  {
   "cell_type": "code",
   "execution_count": 30,
   "metadata": {},
   "outputs": [
    {
     "data": {
      "text/plain": [
       "<AxesSubplot:>"
      ]
     },
     "execution_count": 30,
     "metadata": {},
     "output_type": "execute_result"
    },
    {
     "data": {
      "image/png": "[encoded data removed]",
      "text/plain": [
       "<Figure size 432x288 with 1 Axes>"
      ]
     },
     "metadata": {
      "needs_background": "light"
     },
     "output_type": "display_data"
    }
   ],
   "source": [
    "data.query('floor > floors_total')['floor'].count() #0\n",
    "data['floor'].hist(bins=20)"
   ]
  },
  {
   "cell_type": "markdown",
   "metadata": {},
   "source": [
    "**kitchen_area**\n",
    "\n",
    "имеет странный максимум и минимум возможно, кухни с размером менее 2 кв.м очень маленькие, наверное произошла ошибка при вводе данных. удалим строки с кухнами менее 2кв.м. и больше 50кв.м.\n",
    "* принимае адекватные размеры кухни от 2 до 50 кв.м"
   ]
  },
  {
   "cell_type": "code",
   "execution_count": 31,
   "metadata": {},
   "outputs": [
    {
     "data": {
      "text/plain": [
       "0"
      ]
     },
     "execution_count": 31,
     "metadata": {},
     "output_type": "execute_result"
    }
   ],
   "source": [
    "data.query('kitchen_area < 2')['kitchen_area'].count() #144\n",
    "data.query('kitchen_area > 50')['kitchen_area'].count() #17\n",
    "data.query('kitchen_area > total_area')['kitchen_area'].count()\n"
   ]
  },
  {
   "cell_type": "code",
   "execution_count": 32,
   "metadata": {},
   "outputs": [
    {
     "data": {
      "text/plain": [
       "<AxesSubplot:>"
      ]
     },
     "execution_count": 32,
     "metadata": {},
     "output_type": "execute_result"
    },
    {
     "data": {
      "image/png": "[encoded data removed]",
      "text/plain": [
       "<Figure size 432x288 with 1 Axes>"
      ]
     },
     "metadata": {
      "needs_background": "light"
     },
     "output_type": "display_data"
    }
   ],
   "source": [
    "data.drop(index=data.query('kitchen_area < 2').index,inplace=True)\n",
    "data.drop(index=data.query('kitchen_area > 50').index,inplace=True)\n",
    "data['kitchen_area'].hist(bins=30, range=(0,50))"
   ]
  },
  {
   "cell_type": "markdown",
   "metadata": {},
   "source": [
    "**balcony**\n",
    "\n",
    "Нет выбевающихся значений, минимум и максимум подозрений не вызывают"
   ]
  },
  {
   "cell_type": "code",
   "execution_count": 33,
   "metadata": {},
   "outputs": [
    {
     "data": {
      "text/plain": [
       "<AxesSubplot:>"
      ]
     },
     "execution_count": 33,
     "metadata": {},
     "output_type": "execute_result"
    },
    {
     "data": {
      "image/png": "[encoded data removed]",
      "text/plain": [
       "<Figure size 432x288 with 1 Axes>"
      ]
     },
     "metadata": {
      "needs_background": "light"
     },
     "output_type": "display_data"
    }
   ],
   "source": [
    "data['balcony'].hist(bins=5, range=(0,10))"
   ]
  },
  {
   "cell_type": "markdown",
   "metadata": {},
   "source": [
    "**days_exposition**\n",
    "\n",
    "Видим, что в целом график нормальный. Нулевых значений нет. Объявления, которые висели дольше 3-х лет отбросим, так как их не много и скорее всего они потеряли свою актуальность."
   ]
  },
  {
   "cell_type": "code",
   "execution_count": 34,
   "metadata": {},
   "outputs": [
    {
     "data": {
      "text/plain": [
       "<AxesSubplot:>"
      ]
     },
     "execution_count": 34,
     "metadata": {},
     "output_type": "execute_result"
    },
    {
     "data": {
      "image/png": "[encoded data removed]",
      "text/plain": [
       "<Figure size 432x288 with 1 Axes>"
      ]
     },
     "metadata": {
      "needs_background": "light"
     },
     "output_type": "display_data"
    }
   ],
   "source": [
    "data.query('days_exposition > 365*3')['days_exposition'].count()#160\n",
    "data.drop(index=data.query('days_exposition > 365*3').index,inplace=True)\n",
    "data['days_exposition'].hist(bins=60, range=(0,1000))"
   ]
  },
  {
   "cell_type": "markdown",
   "metadata": {},
   "source": [
    "**airports_nearest;\tcity_centers_nearest;\tparks_around3000;\tparks_nearest;\tponds_around3000;\tponds_nearest**\n",
    "\n",
    "Эти данные собраны автоматизированно. По гистогрммам в начале выглядят адекватно. МИнимум и Максимум подозрений не вызывают . Выбивается одна строчка в airports_nearest (расстояние от аэропорта 5 км). Её надо удалить. "
   ]
  },
  {
   "cell_type": "code",
   "execution_count": 35,
   "metadata": {},
   "outputs": [
    {
     "data": {
      "image/png": "[encoded data removed]",
      "text/plain": [
       "<Figure size 432x288 with 1 Axes>"
      ]
     },
     "metadata": {
      "needs_background": "light"
     },
     "output_type": "display_data"
    }
   ],
   "source": [
    "data.query('airports_nearest < 8000')['airports_nearest'].count()\n",
    "data.hist('airports_nearest', bins=100, range=(0,20000));"
   ]
  },
  {
   "cell_type": "markdown",
   "metadata": {},
   "source": [
    "<div class=\"alert alert-info\"> Проверяем на явные дубликаты:"
   ]
  },
  {
   "cell_type": "code",
   "execution_count": 36,
   "metadata": {},
   "outputs": [
    {
     "data": {
      "text/plain": [
       "0"
      ]
     },
     "execution_count": 36,
     "metadata": {},
     "output_type": "execute_result"
    }
   ],
   "source": [
    "data.duplicated().sum()\n",
    "#явных дубликатов нет"
   ]
  },
  {
   "cell_type": "markdown",
   "metadata": {},
   "source": [
    "Cбросим индексацию после удаления строк."
   ]
  },
  {
   "cell_type": "code",
   "execution_count": 37,
   "metadata": {},
   "outputs": [],
   "source": [
    "data.reset_index(drop=True,inplace=True)"
   ]
  },
  {
   "cell_type": "markdown",
   "metadata": {},
   "source": [
    "<div class=\"alert alert-info\">\n",
    "<b>Вывод:</b>  Представленные данные имели выбросы,которые в процессе обработки мы удалили, получили 22646 строк вместо 23699 исходных, около 1000 строк отсеились. Принимаем эту разницу не критической и считаем, что исходные данные были качественными "
   ]
  },
  {
   "cell_type": "markdown",
   "metadata": {},
   "source": [
    "### Посчитайте и добавьте в таблицу новые столбцы"
   ]
  },
  {
   "cell_type": "markdown",
   "metadata": {},
   "source": [
    "#### цена одного квадратного метра"
   ]
  },
  {
   "cell_type": "code",
   "execution_count": 38,
   "metadata": {},
   "outputs": [
    {
     "data": {
      "text/plain": [
       "0        120370.370370\n",
       "1         82920.792079\n",
       "2         92785.714286\n",
       "3        100000.000000\n",
       "4         95065.789474\n",
       "             ...      \n",
       "22641     72490.845228\n",
       "22642     52542.372881\n",
       "22643     44091.710758\n",
       "22644    149511.400651\n",
       "22645     41795.665635\n",
       "Name: price_one_sqm, Length: 22646, dtype: float64"
      ]
     },
     "execution_count": 38,
     "metadata": {},
     "output_type": "execute_result"
    }
   ],
   "source": [
    "data['price_one_sqm'] = data['last_price'] / data['total_area']\n",
    "data['price_one_sqm']"
   ]
  },
  {
   "cell_type": "markdown",
   "metadata": {},
   "source": [
    "#### день недели публикации объявления (0 — понедельник, 1 — вторник и так далее)"
   ]
  },
  {
   "cell_type": "code",
   "execution_count": 39,
   "metadata": {},
   "outputs": [
    {
     "data": {
      "text/plain": [
       "0        3\n",
       "1        1\n",
       "2        3\n",
       "3        1\n",
       "4        0\n",
       "        ..\n",
       "22641    1\n",
       "22642    0\n",
       "22643    6\n",
       "22644    1\n",
       "22645    4\n",
       "Name: dayofweek_public, Length: 22646, dtype: int64"
      ]
     },
     "execution_count": 39,
     "metadata": {},
     "output_type": "execute_result"
    }
   ],
   "source": [
    "data['dayofweek_public'] = data['first_day_exposition'].dt.dayofweek\n",
    "data['dayofweek_public']"
   ]
  },
  {
   "cell_type": "markdown",
   "metadata": {},
   "source": [
    "\n",
    "#### месяц публикации объявления"
   ]
  },
  {
   "cell_type": "code",
   "execution_count": 40,
   "metadata": {},
   "outputs": [],
   "source": [
    "data['month_public'] = data['first_day_exposition'].dt.month"
   ]
  },
  {
   "cell_type": "markdown",
   "metadata": {},
   "source": [
    "#### год публикации объявления"
   ]
  },
  {
   "cell_type": "code",
   "execution_count": 78,
   "metadata": {},
   "outputs": [
    {
     "data": {
      "text/plain": [
       "0       2019-03-01\n",
       "1       2018-12-01\n",
       "2       2015-08-01\n",
       "3       2018-06-01\n",
       "4       2018-09-01\n",
       "           ...    \n",
       "22641   2017-03-01\n",
       "22642   2018-01-01\n",
       "22643   2018-02-01\n",
       "22644   2017-03-01\n",
       "22645   2017-07-01\n",
       "Name: first_day_exposition, Length: 22646, dtype: datetime64[ns]"
      ]
     },
     "execution_count": 78,
     "metadata": {},
     "output_type": "execute_result"
    }
   ],
   "source": [
    "data['first_day_exposition'].dt.date #приводим к временному формату\n",
    "data['first_day_exposition'].astype('datetime64[M]') "
   ]
  },
  {
   "cell_type": "code",
   "execution_count": 42,
   "metadata": {},
   "outputs": [
    {
     "data": {
      "text/plain": [
       "0        другой\n",
       "1        первый\n",
       "2        другой\n",
       "3        другой\n",
       "4        другой\n",
       "          ...  \n",
       "22641    другой\n",
       "22642    другой\n",
       "22643    первый\n",
       "22644    другой\n",
       "22645    первый\n",
       "Name: floor_type, Length: 22646, dtype: object"
      ]
     },
     "execution_count": 42,
     "metadata": {},
     "output_type": "execute_result"
    }
   ],
   "source": [
    "def floor_type (floor):\n",
    "    if floor['floors_total'] > 1:\n",
    "        if floor['floors_total'] == floor['floor'] :\n",
    "            return 'последний'\n",
    "        elif floor['floor'] == 1:\n",
    "            return 'первый'\n",
    "        else:\n",
    "            return 'другой'\n",
    "        \n",
    "data['floor_type'] = data.apply(floor_type, axis =1)\n",
    "data['floor_type']"
   ]
  },
  {
   "cell_type": "markdown",
   "metadata": {},
   "source": [
    "#### расстояние до центра города в километрах (переведите из м в км и округлите до целых значений)"
   ]
  },
  {
   "cell_type": "code",
   "execution_count": 43,
   "metadata": {},
   "outputs": [
    {
     "data": {
      "text/plain": [
       "0        16.0\n",
       "1        19.0\n",
       "2        14.0\n",
       "3         8.0\n",
       "4         NaN\n",
       "         ... \n",
       "22641     4.0\n",
       "22642     NaN\n",
       "22643     NaN\n",
       "22644    10.0\n",
       "22645     NaN\n",
       "Name: city_centers_nearest_km, Length: 22646, dtype: float64"
      ]
     },
     "execution_count": 43,
     "metadata": {},
     "output_type": "execute_result"
    }
   ],
   "source": [
    "data['city_centers_nearest_km'] = round(data['cityCenters_nearest'] / 1000)\n",
    "data['city_centers_nearest_km']"
   ]
  },
  {
   "cell_type": "markdown",
   "metadata": {},
   "source": [
    "### Проведите исследовательский анализ данных"
   ]
  },
  {
   "cell_type": "markdown",
   "metadata": {},
   "source": [
    "#### Изучите следующие параметры объектов:"
   ]
  },
  {
   "cell_type": "markdown",
   "metadata": {},
   "source": [
    "##### общая площадь"
   ]
  },
  {
   "cell_type": "code",
   "execution_count": 44,
   "metadata": {},
   "outputs": [
    {
     "data": {
      "image/png": "[encoded data removed]",
      "text/plain": [
       "<Figure size 432x288 with 1 Axes>"
      ]
     },
     "metadata": {
      "needs_background": "light"
     },
     "output_type": "display_data"
    }
   ],
   "source": [
    "data.hist('total_area', bins=20, range=(10,100));"
   ]
  },
  {
   "cell_type": "markdown",
   "metadata": {},
   "source": [
    "Похоже на Гаусовское распределение. Больше всего квартир с площадью от 30 до 60 кв.м после этой отметки наблюдается снижение предложений"
   ]
  },
  {
   "cell_type": "markdown",
   "metadata": {},
   "source": [
    "##### жилая площадь"
   ]
  },
  {
   "cell_type": "code",
   "execution_count": 45,
   "metadata": {},
   "outputs": [
    {
     "data": {
      "image/png": "[encoded data removed]",
      "text/plain": [
       "<Figure size 432x288 with 1 Axes>"
      ]
     },
     "metadata": {
      "needs_background": "light"
     },
     "output_type": "display_data"
    }
   ],
   "source": [
    "data.hist('living_area', bins=20, range=(10,100));"
   ]
  },
  {
   "cell_type": "markdown",
   "metadata": {},
   "source": [
    "Жилая площадь имеет два наиболее часто встречающихся значения, это пик в 18 кв.м и пик в 30 кв.м ;\n",
    "меньше всего квартир с площадью больше 50 кв.м"
   ]
  },
  {
   "cell_type": "markdown",
   "metadata": {},
   "source": [
    "##### площадь кухни"
   ]
  },
  {
   "cell_type": "code",
   "execution_count": 46,
   "metadata": {},
   "outputs": [
    {
     "data": {
      "text/plain": [
       "array([[<AxesSubplot:title={'center':'kitchen_area'}>]], dtype=object)"
      ]
     },
     "execution_count": 46,
     "metadata": {},
     "output_type": "execute_result"
    },
    {
     "data": {
      "image/png": "[encoded data removed]",
      "text/plain": [
       "<Figure size 432x288 with 1 Axes>"
      ]
     },
     "metadata": {
      "needs_background": "light"
     },
     "output_type": "display_data"
    }
   ],
   "source": [
    "data.hist('kitchen_area', bins=20, range=(4,30))"
   ]
  },
  {
   "cell_type": "markdown",
   "metadata": {},
   "source": [
    "Больше всего распространены квартиры с маленькими кухнями, площадью от 5 до 12 кв.м"
   ]
  },
  {
   "cell_type": "markdown",
   "metadata": {},
   "source": [
    "##### цена объекта"
   ]
  },
  {
   "cell_type": "code",
   "execution_count": 47,
   "metadata": {},
   "outputs": [
    {
     "data": {
      "text/plain": [
       "array([[<AxesSubplot:title={'center':'last_price'}>]], dtype=object)"
      ]
     },
     "execution_count": 47,
     "metadata": {},
     "output_type": "execute_result"
    },
    {
     "data": {
      "image/png": "[encoded data removed]",
      "text/plain": [
       "<Figure size 432x288 with 1 Axes>"
      ]
     },
     "metadata": {
      "needs_background": "light"
     },
     "output_type": "display_data"
    }
   ],
   "source": [
    "data.hist('last_price', bins=100, range=(0,2e+07))"
   ]
  },
  {
   "cell_type": "markdown",
   "metadata": {},
   "source": [
    "в среднем цена за квартиру варьируется от 2500000 до 6000000 рублей"
   ]
  },
  {
   "cell_type": "markdown",
   "metadata": {},
   "source": [
    "##### количество комнат"
   ]
  },
  {
   "cell_type": "code",
   "execution_count": 48,
   "metadata": {},
   "outputs": [
    {
     "data": {
      "text/plain": [
       "array([[<AxesSubplot:title={'center':'rooms'}>]], dtype=object)"
      ]
     },
     "execution_count": 48,
     "metadata": {},
     "output_type": "execute_result"
    },
    {
     "data": {
      "image/png": "[encoded data removed]",
      "text/plain": [
       "<Figure size 432x288 with 1 Axes>"
      ]
     },
     "metadata": {
      "needs_background": "light"
     },
     "output_type": "display_data"
    }
   ],
   "source": [
    "data.hist('rooms', bins=5)"
   ]
  },
  {
   "cell_type": "markdown",
   "metadata": {},
   "source": [
    "Больше всего двух и трёх-комнатных квартир"
   ]
  },
  {
   "cell_type": "markdown",
   "metadata": {},
   "source": [
    "##### высота потолков"
   ]
  },
  {
   "cell_type": "code",
   "execution_count": 49,
   "metadata": {},
   "outputs": [
    {
     "data": {
      "text/plain": [
       "array([[<AxesSubplot:title={'center':'ceiling_height'}>]], dtype=object)"
      ]
     },
     "execution_count": 49,
     "metadata": {},
     "output_type": "execute_result"
    },
    {
     "data": {
      "image/png": "[encoded data removed]",
      "text/plain": [
       "<Figure size 432x288 with 1 Axes>"
      ]
     },
     "metadata": {
      "needs_background": "light"
     },
     "output_type": "display_data"
    }
   ],
   "source": [
    "data.hist('ceiling_height', bins=30, range = (2.4,4))"
   ]
  },
  {
   "cell_type": "markdown",
   "metadata": {},
   "source": [
    "Большинство квартир имеют высоту потолка в 2.5м, высота больше 3 метров наблюдается редко"
   ]
  },
  {
   "cell_type": "markdown",
   "metadata": {},
   "source": [
    "##### этаж квартиры"
   ]
  },
  {
   "cell_type": "code",
   "execution_count": 50,
   "metadata": {},
   "outputs": [
    {
     "data": {
      "text/plain": [
       "array([[<AxesSubplot:title={'center':'floor'}>]], dtype=object)"
      ]
     },
     "execution_count": 50,
     "metadata": {},
     "output_type": "execute_result"
    },
    {
     "data": {
      "image/png": "[encoded data removed]",
      "text/plain": [
       "<Figure size 432x288 with 1 Axes>"
      ]
     },
     "metadata": {
      "needs_background": "light"
     },
     "output_type": "display_data"
    }
   ],
   "source": [
    "data.hist('floor', bins=25, range=(1,25))"
   ]
  },
  {
   "cell_type": "markdown",
   "metadata": {},
   "source": [
    "Больше всего квартир расположено с 1 по 5 этаж, почти в 2.5 раза меньше квартир находится с 6 по 12 этаж, квартир на высоких этажах представлено меньше"
   ]
  },
  {
   "cell_type": "markdown",
   "metadata": {},
   "source": [
    "##### тип этажа квартиры («первый», «последний», «другой»)"
   ]
  },
  {
   "cell_type": "code",
   "execution_count": 51,
   "metadata": {},
   "outputs": [
    {
     "data": {
      "image/png": "[encoded data removed]",
      "text/plain": [
       "<Figure size 432x288 with 1 Axes>"
      ]
     },
     "metadata": {
      "needs_background": "light"
     },
     "output_type": "display_data"
    }
   ],
   "source": [
    "data.groupby(by='floor_type')['floor_type'].count().plot(kind='bar', ylabel = 'count');"
   ]
  },
  {
   "cell_type": "markdown",
   "metadata": {},
   "source": [
    "На первом и последнем этаже меньше всего продаваемых квартир, логично что на других этажах больше вариантов\n"
   ]
  },
  {
   "cell_type": "markdown",
   "metadata": {},
   "source": [
    "##### общее количество этажей в доме"
   ]
  },
  {
   "cell_type": "code",
   "execution_count": 52,
   "metadata": {},
   "outputs": [
    {
     "data": {
      "text/plain": [
       "array([[<AxesSubplot:title={'center':'floors_total'}>]], dtype=object)"
      ]
     },
     "execution_count": 52,
     "metadata": {},
     "output_type": "execute_result"
    },
    {
     "data": {
      "image/png": "[encoded data removed]",
      "text/plain": [
       "<Figure size 432x288 with 1 Axes>"
      ]
     },
     "metadata": {
      "needs_background": "light"
     },
     "output_type": "display_data"
    }
   ],
   "source": [
    "data.hist('floors_total', bins=15, range = (1,28))"
   ]
  },
  {
   "cell_type": "markdown",
   "metadata": {},
   "source": [
    "Так как Санкт-Петербург исторический город, а все рядом находящиеся города и поселки не отличаются большим количеством населения, логично что большинство домов в этих местах не являются многоэтажными. \n",
    "\n",
    "Пики наблюдаются среди 5-и, 9-и и 16-и этажных домов"
   ]
  },
  {
   "cell_type": "markdown",
   "metadata": {},
   "source": [
    "##### расстояние до центра города в метрах"
   ]
  },
  {
   "cell_type": "code",
   "execution_count": 53,
   "metadata": {},
   "outputs": [
    {
     "data": {
      "text/plain": [
       "array([[<AxesSubplot:title={'center':'cityCenters_nearest'}>]],\n",
       "      dtype=object)"
      ]
     },
     "execution_count": 53,
     "metadata": {},
     "output_type": "execute_result"
    },
    {
     "data": {
      "image/png": "[encoded data removed]",
      "text/plain": [
       "<Figure size 432x288 with 1 Axes>"
      ]
     },
     "metadata": {
      "needs_background": "light"
     },
     "output_type": "display_data"
    }
   ],
   "source": [
    "data.hist('cityCenters_nearest', bins=50, range=(0,50000))"
   ]
  },
  {
   "cell_type": "markdown",
   "metadata": {},
   "source": [
    "Здесь наблюдаем два пика, один маленький, 5км и другой побльшой от 10 км до 15 км. Так же есть совсем небольшие всплески на 30 км. и 50 км, возможно на этом расстояние расположены какие-то поселки или район с ЖК"
   ]
  },
  {
   "cell_type": "markdown",
   "metadata": {},
   "source": [
    "##### расстояние до ближайшего аэропорта"
   ]
  },
  {
   "cell_type": "code",
   "execution_count": 54,
   "metadata": {},
   "outputs": [
    {
     "data": {
      "text/plain": [
       "array([[<AxesSubplot:title={'center':'airports_nearest'}>]], dtype=object)"
      ]
     },
     "execution_count": 54,
     "metadata": {},
     "output_type": "execute_result"
    },
    {
     "data": {
      "image/png": "[encoded data removed]",
      "text/plain": [
       "<Figure size 432x288 with 1 Axes>"
      ]
     },
     "metadata": {
      "needs_background": "light"
     },
     "output_type": "display_data"
    }
   ],
   "source": [
    "data.hist('airports_nearest', bins=100, range = (5000, 60000))"
   ]
  },
  {
   "cell_type": "markdown",
   "metadata": {},
   "source": [
    "аэропорт в Санкт-Петербурге один, поэтому все расстояния указаны относительно него. Гистограмма выглядит адекватно\n"
   ]
  },
  {
   "cell_type": "markdown",
   "metadata": {},
   "source": [
    "##### расстояние до ближайшего парка"
   ]
  },
  {
   "cell_type": "code",
   "execution_count": 55,
   "metadata": {},
   "outputs": [
    {
     "data": {
      "text/plain": [
       "array([[<AxesSubplot:title={'center':'parks_nearest'}>]], dtype=object)"
      ]
     },
     "execution_count": 55,
     "metadata": {},
     "output_type": "execute_result"
    },
    {
     "data": {
      "image/png": "[encoded data removed]",
      "text/plain": [
       "<Figure size 432x288 with 1 Axes>"
      ]
     },
     "metadata": {
      "needs_background": "light"
     },
     "output_type": "display_data"
    }
   ],
   "source": [
    "data.hist('parks_nearest', bins=25,range=(0,900))"
   ]
  },
  {
   "cell_type": "markdown",
   "metadata": {},
   "source": [
    "Распределение похоже на нормальное, так мы понимаем, что в среднем квартиры находятся на расстоянии от 200 до 700 метров от парка "
   ]
  },
  {
   "cell_type": "markdown",
   "metadata": {},
   "source": [
    "##### день и месяц публикации объявления"
   ]
  },
  {
   "cell_type": "code",
   "execution_count": 56,
   "metadata": {},
   "outputs": [
    {
     "data": {
      "text/plain": [
       "array([[<AxesSubplot:title={'center':'dayofweek_public'}>]], dtype=object)"
      ]
     },
     "execution_count": 56,
     "metadata": {},
     "output_type": "execute_result"
    },
    {
     "data": {
      "image/png": "[encoded data removed]",
      "text/plain": [
       "<Figure size 432x288 with 1 Axes>"
      ]
     },
     "metadata": {
      "needs_background": "light"
     },
     "output_type": "display_data"
    }
   ],
   "source": [
    "data.hist('dayofweek_public', bins=7)"
   ]
  },
  {
   "cell_type": "markdown",
   "metadata": {},
   "source": [
    "Большинство квартир опубликовали в будние дни, можно связать это с тем, что риэлторские компании, которые помогают в продажах квартир работаю чаще всего побудням"
   ]
  },
  {
   "cell_type": "code",
   "execution_count": 57,
   "metadata": {},
   "outputs": [
    {
     "data": {
      "text/plain": [
       "array([[<AxesSubplot:title={'center':'month_public'}>]], dtype=object)"
      ]
     },
     "execution_count": 57,
     "metadata": {},
     "output_type": "execute_result"
    },
    {
     "data": {
      "image/png": "[encoded data removed]",
      "text/plain": [
       "<Figure size 432x288 with 1 Axes>"
      ]
     },
     "metadata": {
      "needs_background": "light"
     },
     "output_type": "display_data"
    }
   ],
   "source": [
    "data.hist('month_public', bins=12)"
   ]
  },
  {
   "cell_type": "markdown",
   "metadata": {},
   "source": [
    "Большинсвто квартир опубликовали весной, так же есть тенденция продажи квартир в осенний пероуд"
   ]
  },
  {
   "cell_type": "markdown",
   "metadata": {},
   "source": [
    "#### как быстро продавались квартиры (столбец days_exposition)"
   ]
  },
  {
   "cell_type": "code",
   "execution_count": 58,
   "metadata": {},
   "outputs": [
    {
     "name": "stdout",
     "output_type": "stream",
     "text": [
      "среднее: 170\n",
      "медиана: 93\n"
     ]
    },
    {
     "data": {
      "image/png": "[encoded data removed]",
      "text/plain": [
       "<Figure size 432x288 with 1 Axes>"
      ]
     },
     "metadata": {
      "needs_background": "light"
     },
     "output_type": "display_data"
    }
   ],
   "source": [
    "#строим гистограмму\n",
    "data.hist('days_exposition', bins=50, range=(1,900))\n",
    "#считаем среднее и медиану\n",
    "print('среднее:', int(data['days_exposition'].mean()))\n",
    "print('медиана:',int(data['days_exposition'].median()))"
   ]
  },
  {
   "cell_type": "code",
   "execution_count": 59,
   "metadata": {},
   "outputs": [
    {
     "data": {
      "text/plain": [
       "array([[<AxesSubplot:title={'center':'days_exposition'}>]], dtype=object)"
      ]
     },
     "execution_count": 59,
     "metadata": {},
     "output_type": "execute_result"
    },
    {
     "data": {
      "image/png": "[encoded data removed]",
      "text/plain": [
       "<Figure size 432x288 with 1 Axes>"
      ]
     },
     "metadata": {
      "needs_background": "light"
     },
     "output_type": "display_data"
    }
   ],
   "source": [
    "data.hist('days_exposition', bins=50, range=(1,200))"
   ]
  },
  {
   "cell_type": "code",
   "execution_count": 60,
   "metadata": {},
   "outputs": [
    {
     "data": {
      "text/plain": [
       "array([[<AxesSubplot:title={'center':'days_exposition'}>]], dtype=object)"
      ]
     },
     "execution_count": 60,
     "metadata": {},
     "output_type": "execute_result"
    },
    {
     "data": {
      "image/png": "[encoded data removed]",
      "text/plain": [
       "<Figure size 432x288 with 1 Axes>"
      ]
     },
     "metadata": {
      "needs_background": "light"
     },
     "output_type": "display_data"
    }
   ],
   "source": [
    "data.hist('days_exposition', bins=100, range=(0,100))"
   ]
  },
  {
   "cell_type": "code",
   "execution_count": 61,
   "metadata": {},
   "outputs": [
    {
     "data": {
      "text/plain": [
       "array([[<AxesSubplot:title={'center':'days_exposition'}>]], dtype=object)"
      ]
     },
     "execution_count": 61,
     "metadata": {},
     "output_type": "execute_result"
    },
    {
     "data": {
      "image/png": "[encoded data removed]",
      "text/plain": [
       "<Figure size 432x288 with 1 Axes>"
      ]
     },
     "metadata": {
      "needs_background": "light"
     },
     "output_type": "display_data"
    }
   ],
   "source": [
    "data.hist('days_exposition', bins=15, range=(80,95))"
   ]
  },
  {
   "cell_type": "code",
   "execution_count": 62,
   "metadata": {},
   "outputs": [
    {
     "data": {
      "text/plain": [
       "array([[<AxesSubplot:title={'center':'days_exposition'}>]], dtype=object)"
      ]
     },
     "execution_count": 62,
     "metadata": {},
     "output_type": "execute_result"
    },
    {
     "data": {
      "image/png": "[encoded data removed]",
      "text/plain": [
       "<Figure size 432x288 with 1 Axes>"
      ]
     },
     "metadata": {
      "needs_background": "light"
     },
     "output_type": "display_data"
    }
   ],
   "source": [
    "data.hist('days_exposition', bins=10, range=(40,50))"
   ]
  },
  {
   "cell_type": "code",
   "execution_count": 63,
   "metadata": {},
   "outputs": [
    {
     "data": {
      "text/plain": [
       "array([[<AxesSubplot:title={'center':'days_exposition'}>]], dtype=object)"
      ]
     },
     "execution_count": 63,
     "metadata": {},
     "output_type": "execute_result"
    },
    {
     "data": {
      "image/png": "[encoded data removed]",
      "text/plain": [
       "<Figure size 432x288 with 1 Axes>"
      ]
     },
     "metadata": {
      "needs_background": "light"
     },
     "output_type": "display_data"
    }
   ],
   "source": [
    "data.hist('days_exposition', bins=5, range=(3,7))"
   ]
  },
  {
   "cell_type": "code",
   "execution_count": 64,
   "metadata": {},
   "outputs": [
    {
     "data": {
      "text/plain": [
       "<AxesSubplot:>"
      ]
     },
     "execution_count": 64,
     "metadata": {},
     "output_type": "execute_result"
    },
    {
     "data": {
      "image/png": "[encoded data removed]",
      "text/plain": [
       "<Figure size 432x288 with 1 Axes>"
      ]
     },
     "metadata": {
      "needs_background": "light"
     },
     "output_type": "display_data"
    }
   ],
   "source": [
    "data.boxplot('days_exposition')"
   ]
  },
  {
   "cell_type": "code",
   "execution_count": 65,
   "metadata": {},
   "outputs": [
    {
     "name": "stdout",
     "output_type": "stream",
     "text": [
      "\n",
      "[Выбросы] Количество объявлений, которые сняты через:\n",
      "7 дней: 228\n",
      "30 дней: 199\n",
      "45 дней: 862\n",
      "60 дней: 531\n",
      "90 дней: 179\n"
     ]
    }
   ],
   "source": [
    "print('\\n[Выбросы] Количество объявлений, которые сняты через:')\n",
    "data['days_exposition'] = data['days_exposition'].fillna(0)\n",
    "data['days_exposition'] = data['days_exposition'].astype('int') \n",
    "print('7 дней:',data.loc[data.loc[:,'days_exposition'] == 7]['days_exposition'].count())\n",
    "print('30 дней:',data.loc[data.loc[:,'days_exposition'] == 30]['days_exposition'].count())\n",
    "print('45 дней:',data.loc[data.loc[:,'days_exposition'] == 45]['days_exposition'].count())\n",
    "print('60 дней:',data.loc[data.loc[:,'days_exposition'] == 60]['days_exposition'].count())\n",
    "print('90 дней:',data.loc[data.loc[:,'days_exposition'] == 90]['days_exposition'].count())"
   ]
  },
  {
   "cell_type": "markdown",
   "metadata": {},
   "source": [
    "**Вывод:** в среднем время продажи составляет около 179 дней (примерно 5 месяцев)\n",
    "Быстрыми можно считать продажи, которые закрылись до 90 дней.\n",
    "Необычно долгие - свыше 179 дня.\n",
    "Можно выделить несколько временных периодов, в которые продажи достигали больших значений: \n",
    "<ul>\n",
    "<li>В течении 7 дней закрыто 228 объявления;\n",
    "<li>30 дней: 199\n",
    "<li>45 дней: 862\n",
    "<li>60 дней: 531\n",
    "<li>90 дней: 179</li></ul>\n",
    "Можно предположить, что выбросы - платные объявления, так как  они закрывались через определенное время, схожее со средним временем подписок"
   ]
  },
  {
   "cell_type": "markdown",
   "metadata": {},
   "source": [
    "#### Исследование факторов, влияющих на полную стоимость квартиры;"
   ]
  },
  {
   "cell_type": "code",
   "execution_count": 66,
   "metadata": {},
   "outputs": [
    {
     "data": {
      "text/plain": [
       "1.0    16666\n",
       "2.0     3160\n",
       "0.0     2798\n",
       "Name: floor_type_numb, dtype: int64"
      ]
     },
     "execution_count": 66,
     "metadata": {},
     "output_type": "execute_result"
    }
   ],
   "source": [
    "def floor_type_numb (floor):\n",
    "    if floor['floors_total'] > 1:\n",
    "        if floor['floor_type'] == 'последний' :\n",
    "            return 2\n",
    "        elif floor['floor_type'] == 'первый':\n",
    "            return 0\n",
    "        else:\n",
    "            return 1\n",
    "        \n",
    "data['floor_type_numb'] = data.apply(floor_type_numb, axis =1)\n",
    "data['floor_type_numb'].value_counts()"
   ]
  },
  {
   "cell_type": "code",
   "execution_count": 67,
   "metadata": {},
   "outputs": [
    {
     "name": "stdout",
     "output_type": "stream",
     "text": [
      "корреляция между last_price и total_area составляет: 0.7816766160062717\n",
      "корреляция между last_price и living_area составляет: 0.671068966529199\n",
      "корреляция между last_price и kitchen_area составляет: 0.6072467694751963\n",
      "корреляция между last_price и rooms составляет: 0.48482016007205536\n",
      "корреляция между last_price и floor_type_numb составляет: 0.05530659993748228\n",
      "корреляция между last_price и dayofweek_public составляет: -0.02005599488051998\n",
      "корреляция между last_price и month_public составляет: 0.003412998559605064\n",
      "корреляция между last_price и year_public составляет: -0.0253650621521579\n"
     ]
    }
   ],
   "source": [
    "list = ['total_area',\n",
    "                  'living_area',\n",
    "                  'kitchen_area',\n",
    "                  'rooms',\n",
    "                  'floor_type_numb',\n",
    "                  'dayofweek_public',\n",
    "                  'month_public',\n",
    "                  'year_public']\n",
    "for values in list :\n",
    "    corr = data['last_price'].corr(data[values])\n",
    "    print(f'корреляция между last_price и {values} составляет: {corr}')"
   ]
  },
  {
   "cell_type": "markdown",
   "metadata": {},
   "source": [
    "<div class=\"alert alert-info\">\n",
    "<b>Вывод:</b> Корреляция нам показывает наличие линейной связи между last_price и характеристиками квартиры. У значений площади (общей\\жилой и кухни)  и кол-во комнат коэффициент положительный и в некоторых случая близок к 1, это означает, что с ростом первой величины растет и вторая. В остальных случаях корреляция близка к 0, это значит что первый парметр меняется, а второй нет.\n",
    "\n",
    "\n",
    "Для параметров, которые показали положительную зависимость построим диаграмму рассеяния "
   ]
  },
  {
   "cell_type": "code",
   "execution_count": 68,
   "metadata": {},
   "outputs": [
    {
     "data": {
      "text/plain": [
       "<AxesSubplot:xlabel='last_price', ylabel='total_area'>"
      ]
     },
     "execution_count": 68,
     "metadata": {},
     "output_type": "execute_result"
    },
    {
     "data": {
      "image/png": "[encoded data removed]",
      "text/plain": [
       "<Figure size 432x288 with 1 Axes>"
      ]
     },
     "metadata": {
      "needs_background": "light"
     },
     "output_type": "display_data"
    }
   ],
   "source": [
    "data.plot(x='last_price', y='total_area', kind='scatter', alpha=0.1)"
   ]
  },
  {
   "cell_type": "markdown",
   "metadata": {},
   "source": [
    "Диаграмма подтверждает зависимость, так как точки расположены тесно к линии, то зависимость сильная"
   ]
  },
  {
   "cell_type": "code",
   "execution_count": 69,
   "metadata": {},
   "outputs": [
    {
     "data": {
      "text/plain": [
       "<AxesSubplot:xlabel='last_price', ylabel='living_area'>"
      ]
     },
     "execution_count": 69,
     "metadata": {},
     "output_type": "execute_result"
    },
    {
     "data": {
      "image/png": "[encoded data removed]",
      "text/plain": [
       "<Figure size 432x288 with 1 Axes>"
      ]
     },
     "metadata": {
      "needs_background": "light"
     },
     "output_type": "display_data"
    }
   ],
   "source": [
    "data.plot(x='last_price', y='living_area', kind='scatter', alpha=0.1)"
   ]
  },
  {
   "cell_type": "markdown",
   "metadata": {},
   "source": [
    "Большинстов значений скопилось в одном месте, но зависимость просматривается, похоже на слабую положительную корреляцию"
   ]
  },
  {
   "cell_type": "code",
   "execution_count": 70,
   "metadata": {},
   "outputs": [
    {
     "data": {
      "text/plain": [
       "<AxesSubplot:xlabel='last_price', ylabel='kitchen_area'>"
      ]
     },
     "execution_count": 70,
     "metadata": {},
     "output_type": "execute_result"
    },
    {
     "data": {
      "image/png": "[encoded data removed]",
      "text/plain": [
       "<Figure size 432x288 with 1 Axes>"
      ]
     },
     "metadata": {
      "needs_background": "light"
     },
     "output_type": "display_data"
    }
   ],
   "source": [
    "data.plot(x='last_price', y='kitchen_area', kind='scatter', alpha=0.1)"
   ]
  },
  {
   "cell_type": "markdown",
   "metadata": {},
   "source": [
    "На данной диаграмме больше, чем на предыдущих видно, что есть значения не поддающиеся зависимости, но тенденци к росту цены от роста площади на кухне просматривается, но корреляция слабая"
   ]
  },
  {
   "cell_type": "code",
   "execution_count": 71,
   "metadata": {},
   "outputs": [
    {
     "data": {
      "text/plain": [
       "<AxesSubplot:xlabel='last_price', ylabel='rooms'>"
      ]
     },
     "execution_count": 71,
     "metadata": {},
     "output_type": "execute_result"
    },
    {
     "data": {
      "image/png": "[encoded data removed]",
      "text/plain": [
       "<Figure size 432x288 with 1 Axes>"
      ]
     },
     "metadata": {
      "needs_background": "light"
     },
     "output_type": "display_data"
    }
   ],
   "source": [
    "data.plot(x='last_price', y='rooms', kind='scatter', alpha=0.1)"
   ]
  },
  {
   "cell_type": "code",
   "execution_count": 72,
   "metadata": {},
   "outputs": [
    {
     "data": {
      "text/plain": [
       "<AxesSubplot:xlabel='rooms'>"
      ]
     },
     "execution_count": 72,
     "metadata": {},
     "output_type": "execute_result"
    },
    {
     "data": {
      "image/png": "[encoded data removed]",
      "text/plain": [
       "<Figure size 432x288 with 1 Axes>"
      ]
     },
     "metadata": {
      "needs_background": "light"
     },
     "output_type": "display_data"
    }
   ],
   "source": [
    "data.pivot_table(index='rooms',values='last_price').plot(y='last_price', kind='bar');"
   ]
  },
  {
   "cell_type": "markdown",
   "metadata": {},
   "source": [
    "График наглядно показывает, что зависимость есть, чем больше комнат, тем выше цена.  Можем предположить что корелляция всего 50 процентов, потому, что значений с большим (4 и 5) количестовм комнат меньше"
   ]
  },
  {
   "cell_type": "code",
   "execution_count": 73,
   "metadata": {},
   "outputs": [
    {
     "data": {
      "text/plain": [
       "<AxesSubplot:xlabel='last_price', ylabel='floor_type_numb'>"
      ]
     },
     "execution_count": 73,
     "metadata": {},
     "output_type": "execute_result"
    },
    {
     "data": {
      "image/png": "[encoded data removed]",
      "text/plain": [
       "<Figure size 432x288 with 1 Axes>"
      ]
     },
     "metadata": {
      "needs_background": "light"
     },
     "output_type": "display_data"
    }
   ],
   "source": [
    "data.plot(x='last_price', y='floor_type_numb', kind='scatter', alpha=0.1);"
   ]
  },
  {
   "cell_type": "code",
   "execution_count": 74,
   "metadata": {},
   "outputs": [
    {
     "data": {
      "text/plain": [
       "<AxesSubplot:xlabel='floor_type'>"
      ]
     },
     "execution_count": 74,
     "metadata": {},
     "output_type": "execute_result"
    },
    {
     "data": {
      "image/png": "[encoded data removed]",
      "text/plain": [
       "<Figure size 432x288 with 1 Axes>"
      ]
     },
     "metadata": {
      "needs_background": "light"
     },
     "output_type": "display_data"
    }
   ],
   "source": [
    "data.pivot_table(index='floor_type',values='last_price').plot(y='last_price', kind='bar');"
   ]
  },
  {
   "cell_type": "markdown",
   "metadata": {},
   "source": [
    "Дешевле всего покупать квартиру на первом этаже, а вот самые дорогие квартиры находятся на других этажах, не косаясь последнего"
   ]
  },
  {
   "cell_type": "code",
   "execution_count": 75,
   "metadata": {},
   "outputs": [
    {
     "data": {
      "text/plain": [
       "<AxesSubplot:xlabel='year_public'>"
      ]
     },
     "execution_count": 75,
     "metadata": {},
     "output_type": "execute_result"
    },
    {
     "data": {
      "image/png": "[encoded data removed]",
      "text/plain": [
       "<Figure size 432x288 with 1 Axes>"
      ]
     },
     "metadata": {
      "needs_background": "light"
     },
     "output_type": "display_data"
    }
   ],
   "source": [
    "data.pivot_table(index='year_public',values='last_price').plot(y='last_price', kind='bar');"
   ]
  },
  {
   "cell_type": "markdown",
   "metadata": {},
   "source": [
    "В 2014 году средняя стоимость продаваемых квартир была наибольшей. В последующих годах средняя стоимость была одинаковой и не привышала 7 млн руб. На это могло повлиять изменение характеристик продаваемых квартир или количество."
   ]
  },
  {
   "cell_type": "markdown",
   "metadata": {},
   "source": [
    "**Вывод**\n",
    "\n",
    "В ходе расчета корреляции между ценой и параметрами квартиры удалось выяснить, что самая большая зависимость от\n",
    "<ul>\n",
    "<li>общей площади, корреляция составила 78.17%, близка к 100% </li>\n",
    "    Далее по убыванию перечислим другие параметры и их взаимную зависимость с ценой (в процентах)\n",
    "<li>жилая площадь - 67.11%\n",
    "<li>площадь кухни - 60.72%\n",
    "<li>количества комнат 48.48% </li></ul>\n",
    "Цена практически на зависит от:\n",
    "<ul>\n",
    "<li>этажа, на котором расположена квартира;\n",
    "<li>дня, месяца и года размещения объявления</li></ul>"
   ]
  },
  {
   "cell_type": "markdown",
   "metadata": {},
   "source": [
    "#### Анализ десяти населённых пунктов с наибольшим числом объявлений, анализ стоимости квадратного метра\n"
   ]
  },
  {
   "cell_type": "code",
   "execution_count": 76,
   "metadata": {},
   "outputs": [
    {
     "name": "stdout",
     "output_type": "stream",
     "text": [
      "                   last_price_sum  total_area_sum  last_price_count  \\\n",
      "locality_name                                                         \n",
      "Санкт-Петербург      100966478427       903190.68             14907   \n",
      "Пушкин                 2192547964        20902.50               355   \n",
      "деревня Кудрово        1245883220        13714.85               292   \n",
      "поселок Парголово      1448200459        16519.37               322   \n",
      "поселок Мурино         1960512930        23663.79               530   \n",
      "поселок Шушары         1786855999        23469.96               433   \n",
      "Колпино                1294830246        17539.32               335   \n",
      "Гатчина                1070919360        15639.48               307   \n",
      "Всеволожск             1485349965        21954.33               388   \n",
      "Выборг                  759683000        13123.56               234   \n",
      "\n",
      "                   total_area_count  price_per_sqm  \n",
      "locality_name                                       \n",
      "Санкт-Петербург               14907       111789.0  \n",
      "Пушкин                          355       104894.0  \n",
      "деревня Кудрово                 292        90842.0  \n",
      "поселок Парголово               322        87667.0  \n",
      "поселок Мурино                  530        82849.0  \n",
      "поселок Шушары                  433        76134.0  \n",
      "Колпино                         335        73824.0  \n",
      "Гатчина                         307        68475.0  \n",
      "Всеволожск                      388        67656.0  \n",
      "Выборг                          234        57887.0  \n"
     ]
    }
   ],
   "source": [
    "locality_max_abs = data.pivot_table(index='locality_name', values=['last_price','total_area'],aggfunc=['sum','count'])\n",
    "locality_max_abs.columns=['last_price_sum','total_area_sum','last_price_count','total_area_count']\n",
    "\n",
    "locality_max_abs.sort_values(by=['last_price_count'],ascending=False, inplace=True)\n",
    "locality_max_abs = locality_max_abs.iloc[:10]\n",
    "\n",
    "locality_max_abs['price_per_sqm'] = round(locality_max_abs['last_price_sum']/locality_max_abs['total_area_sum'])\n",
    "locality_max_abs.sort_values(by=['price_per_sqm'], ascending=False, inplace=True)\n",
    "print(locality_max_abs)"
   ]
  },
  {
   "cell_type": "markdown",
   "metadata": {},
   "source": [
    "Получилось, что самый дорогой квадратный метр продается в самом Санкт-Петербурге, его цена в среднем составиляет 111855 рублей. Далее по убыванию идут туристические города и ближайшие деревни и поселки.\n",
    "\n"
   ]
  },
  {
   "cell_type": "markdown",
   "metadata": {},
   "source": [
    "#### Анализ изменения цены квадратного метра в Санкт-Петербурге для каждого километра по степени удалённости от центра."
   ]
  },
  {
   "cell_type": "code",
   "execution_count": 77,
   "metadata": {},
   "outputs": [
    {
     "name": "stdout",
     "output_type": "stream",
     "text": [
      "-0.8426499492903353\n"
     ]
    },
    {
     "data": {
      "image/png": "[encoded data removed]",
      "text/plain": [
       "<Figure size 432x288 with 2 Axes>"
      ]
     },
     "metadata": {
      "needs_background": "light"
     },
     "output_type": "display_data"
    }
   ],
   "source": [
    "spb_price_km = data.query(\"locality_name == 'Санкт-Петербург'\")\n",
    "spb_price_km = spb_price_km.pivot_table(index='city_centers_nearest_km', values=['last_price'], aggfunc='mean')\n",
    "\n",
    "spb_price_km.columns=[\"last_price_mean\"]\n",
    "spb_price_km['city_centers_nearest_km'] = np.arange(spb_price_km.shape[0])\n",
    "\n",
    "\n",
    "correlation = spb_price_km[\"city_centers_nearest_km\"].corr(spb_price_km['last_price_mean'])\n",
    "print(correlation)\n",
    "spb_price_km.plot(kind='hexbin',x='last_price_mean', y='city_centers_nearest_km', gridsize=15, title = 'Заголовок');\n"
   ]
  },
  {
   "cell_type": "markdown",
   "metadata": {},
   "source": [
    "Большую среднюю цену имеют квартиры расположенные ближе к центру. Дальше с увиличением расстояния цена убывает, пока не доходит до пика в 15 и 27 км, возможно, высокая цена связана с какими-то особенностями местности (элитное жилье\\достопримечательности) или на этом расстояние находится уже другой город. \n",
    "\n",
    "Не считая выбросов, можно сказать, что чем дальше от центра находится квартира, тем дешевле ее стоимость, об этом так же свидетельствует отрицательный коэффициент корреляции -0.8 (расстояние увеличивается, цена уменьшается)"
   ]
  },
  {
   "cell_type": "markdown",
   "metadata": {},
   "source": [
    "### Общий вывод"
   ]
  },
  {
   "cell_type": "markdown",
   "metadata": {},
   "source": [
    "*Было проведено исследование по данным сервиса Яндекс Недвижимость, чтобы выявить зависимости, которые существуют на рынке недвижимости.\n",
    "Входные данные – архив объявлений за несколько лет о продаже квартир в Санкт-Петербурге и соседних населённых пунктах (данные двух типов: добавленные пользователем и картографические).\n",
    "Результаты исследования помогут учесть особенности продажи квартир и понять, за счет чего чаще всего формируется цена на квартиру.*\n",
    "\n",
    "**В ходе выполнения данного проекта:**\n",
    "Проведен обзор данных и выполнена предобработка данных, выявлены недостатки в данных, были обработаны пропуски, в некоторых случаях строки были удалены, так как их количество мало по сравнению со всей выбркой, в некоторых случаях мы предположили пользовательскую ошибку и заменили данные на возможные (высота потолков). При обработке, большинство значений максимальных и минимальных показателей выбивались из общего числа данных, поэтому мы обработали данные и получили следующие границы показателей квартиры:\n",
    "<ol>\n",
    "<li>Цена от 500.000 до 30.000.000 рублей </li>\n",
    "<li>Общая и жилая площадь от 10 до 200 кв.м</li>\n",
    "<li>В квартире максимум 5 комнат</li>\n",
    "<li>Высоота потолков от 2.5 до 4 метров</li>\n",
    "<li>Площадь кухни от 2 до 50 кв.м</li>\n",
    "<li>Объявления, которые продавались менее 3-ёх лет</li>\n",
    "</ol>\n",
    "\n",
    "*Остальные показатели не выражали аномальных значений\n",
    "\n",
    "**При проведение исследовательского анализа данных:**\n",
    "<ul>\n",
    "<li> Построены гистограммы по всем исследуемым параметрам квартиры\n",
    "<li> Проведен анализ факторов, влияющих на полную стоимость квартиры\n",
    "<li> Отобран топ 10 населенных пунктов с наибольшим числом объявлений и рассчитана средняя стоимость квадратного метра в этих пунктах\n",
    "<li> Проведен анализ изменнения цены квартиры по удаленности от центра \n",
    "</ul>\n",
    "\n",
    "**Вывод**\n",
    "<ul><li><b>Большинство квартир имеют следующие параметры:</b>\n",
    "   <ol> <li>от 30 до 60 кв.м общей площади\n",
    "    <li>18 и 30 кв.м жилой площади\n",
    "    <li>с площадью кухни от 5 до 12 квадратов\n",
    "    <li>цена варьируется от 2500000 до 6000000 рублей\n",
    "    <li>количестов комнат 2 или 3\n",
    "    <li>с высотой потолков 2.5м\n",
    "    <li>на этажах с 2 по 4, в  5-и этажных домах\n",
    "    <li>на расстояние от 10 до 15 км от центра\n",
    "    <li>в не зависимости от близости к аэропорту, но не ближе 10 км к нему\n",
    "    <li>находятся на расстоянии от 200 до 700 метров от парка</li></ol>\n",
    "    \n",
    "<li>Период пиков количества закрытх объявлений по квартирам выпадал <b>на 45 и 60 дней</b>,  в такие промежутки времени были сняты объявления 862 и 531 квартиры соответственно. Это на 5% и 3% больше чем в среднем.Либо квартиры по истечению данного времени действительно продавались, или на сайте есть реклама по продвижению, после ее истечения, объявление скрывают</li>\n",
    "      \n",
    "<li><b>Так же мы выяснили от чего в большей степени (больше 50%) зависит цена на квартиру:</b><ol>\n",
    "    <li> Чем больше площадь, тем дороже квартира, это подтверждает коэффициент корреляции почти близкий к 1 (0.8)       \n",
    "    <li>Логично, что мы прослеживаем зависимость цены и жилой площади корреляция составила почти 0.7\n",
    "    <li>так же при ценообразовнии роль имеет площадь кухни, чем она больше, тем выше цена</li></ol></li></ul>\n",
    "\n",
    " <ul>   <li>Выяснили, что самая высокая <b>стоимость 1 кв.м в Санкт-Петербурге и составляет 111855 рублей</b>\n",
    "     <li>относительно центра стоимость значительно не меняется, но <b>в пределах 5км от центра наблюдается повышение цены до 20.000.000 рублей</b>. Так же подозрительными кажутся квартиры на расстояние 15, 20 и 27 км от центра, для более достоверного утверждения на счет этих расстояний, я бы предложила более подробно рассмотреть эти случаи.</ul>\n",
    "         \n",
    " <b><i>Если обобщить, то получилось, что цена квартиры зависит от ее размера и расположения.</i></b>\n",
    " \n",
    " *Общие рекомедации*: Можно рассмотреть данные, показывающие есть ли зависимость между ценой и ее расположением относительно парков и прудов; влияет ли количество изображений на цену и скорость продажи,"
   ]
  },
  {
   "cell_type": "code",
   "execution_count": null,
   "metadata": {},
   "outputs": [],
   "source": []
  }
 ],
 "metadata": {
  "ExecuteTimeLog": [
   {
    "duration": 747,
    "start_time": "2023-01-09T14:37:52.735Z"
   },
   {
    "duration": 119,
    "start_time": "2023-01-09T14:37:59.755Z"
   },
   {
    "duration": 67,
    "start_time": "2023-01-09T14:38:18.528Z"
   },
   {
    "duration": 78,
    "start_time": "2023-01-09T14:40:41.258Z"
   },
   {
    "duration": 98,
    "start_time": "2023-01-09T14:40:48.851Z"
   },
   {
    "duration": 24,
    "start_time": "2023-01-09T14:40:53.977Z"
   },
   {
    "duration": 23,
    "start_time": "2023-01-09T14:41:04.173Z"
   },
   {
    "duration": 24,
    "start_time": "2023-01-09T14:41:06.412Z"
   },
   {
    "duration": 23,
    "start_time": "2023-01-09T14:41:09.108Z"
   },
   {
    "duration": 22,
    "start_time": "2023-01-09T14:41:40.009Z"
   },
   {
    "duration": 23,
    "start_time": "2023-01-09T14:41:58.579Z"
   },
   {
    "duration": 24,
    "start_time": "2023-01-09T14:42:35.739Z"
   },
   {
    "duration": 23,
    "start_time": "2023-01-09T14:42:39.194Z"
   },
   {
    "duration": 22,
    "start_time": "2023-01-09T14:42:43.753Z"
   },
   {
    "duration": 13,
    "start_time": "2023-01-09T14:45:00.887Z"
   },
   {
    "duration": 342,
    "start_time": "2023-01-09T14:45:30.493Z"
   },
   {
    "duration": 24,
    "start_time": "2023-01-09T14:46:50.099Z"
   },
   {
    "duration": 103,
    "start_time": "2023-01-09T14:47:41.703Z"
   },
   {
    "duration": 126,
    "start_time": "2023-01-09T14:47:59.918Z"
   },
   {
    "duration": 16,
    "start_time": "2023-01-09T14:48:48.800Z"
   },
   {
    "duration": 2369,
    "start_time": "2023-01-09T14:49:13.346Z"
   },
   {
    "duration": 135,
    "start_time": "2023-01-09T15:11:51.832Z"
   },
   {
    "duration": 9,
    "start_time": "2023-01-09T15:16:22.640Z"
   },
   {
    "duration": 253,
    "start_time": "2023-01-09T15:53:58.593Z"
   },
   {
    "duration": 5,
    "start_time": "2023-01-09T15:57:38.342Z"
   },
   {
    "duration": 28,
    "start_time": "2023-01-09T15:58:29.587Z"
   },
   {
    "duration": 11,
    "start_time": "2023-01-09T15:58:51.733Z"
   },
   {
    "duration": 5,
    "start_time": "2023-01-09T16:01:25.327Z"
   },
   {
    "duration": 4,
    "start_time": "2023-01-09T16:01:25.726Z"
   },
   {
    "duration": 8,
    "start_time": "2023-01-09T16:01:26.151Z"
   },
   {
    "duration": 11,
    "start_time": "2023-01-09T16:01:26.687Z"
   },
   {
    "duration": 15,
    "start_time": "2023-01-09T16:01:57.788Z"
   },
   {
    "duration": 5,
    "start_time": "2023-01-09T16:02:03.837Z"
   },
   {
    "duration": 12,
    "start_time": "2023-01-09T16:02:04.245Z"
   },
   {
    "duration": 103,
    "start_time": "2023-01-09T16:08:01.377Z"
   },
   {
    "duration": 120,
    "start_time": "2023-01-09T16:08:32.741Z"
   },
   {
    "duration": 1228,
    "start_time": "2023-01-09T16:09:07.682Z"
   },
   {
    "duration": 26,
    "start_time": "2023-01-09T16:10:29.433Z"
   },
   {
    "duration": 37,
    "start_time": "2023-01-09T16:10:49.552Z"
   },
   {
    "duration": 8,
    "start_time": "2023-01-09T16:10:56.772Z"
   },
   {
    "duration": 16,
    "start_time": "2023-01-09T16:10:57.373Z"
   },
   {
    "duration": 3,
    "start_time": "2023-01-09T16:11:22.288Z"
   },
   {
    "duration": 21,
    "start_time": "2023-01-09T16:11:22.293Z"
   },
   {
    "duration": 20,
    "start_time": "2023-01-09T16:11:22.316Z"
   },
   {
    "duration": 130,
    "start_time": "2023-01-09T16:11:53.754Z"
   },
   {
    "duration": 12,
    "start_time": "2023-01-09T16:12:25.086Z"
   },
   {
    "duration": 1295,
    "start_time": "2023-01-09T16:14:40.701Z"
   },
   {
    "duration": 0,
    "start_time": "2023-01-09T16:14:41.998Z"
   },
   {
    "duration": 17,
    "start_time": "2023-01-09T16:14:42.573Z"
   },
   {
    "duration": 1363,
    "start_time": "2023-01-09T16:14:52.696Z"
   },
   {
    "duration": 0,
    "start_time": "2023-01-09T16:14:54.065Z"
   },
   {
    "duration": 0,
    "start_time": "2023-01-09T16:14:54.067Z"
   },
   {
    "duration": 1362,
    "start_time": "2023-01-09T16:15:58.386Z"
   },
   {
    "duration": 0,
    "start_time": "2023-01-09T16:15:59.750Z"
   },
   {
    "duration": 0,
    "start_time": "2023-01-09T16:15:59.751Z"
   },
   {
    "duration": 10,
    "start_time": "2023-01-09T16:18:33.475Z"
   },
   {
    "duration": 6,
    "start_time": "2023-01-09T16:19:04.778Z"
   },
   {
    "duration": 6,
    "start_time": "2023-01-09T16:19:18.787Z"
   },
   {
    "duration": 4,
    "start_time": "2023-01-09T16:19:24.147Z"
   },
   {
    "duration": 12,
    "start_time": "2023-01-09T16:20:31.053Z"
   },
   {
    "duration": 9,
    "start_time": "2023-01-09T16:22:33.171Z"
   },
   {
    "duration": 10,
    "start_time": "2023-01-09T16:23:07.749Z"
   },
   {
    "duration": 11,
    "start_time": "2023-01-09T16:23:20.045Z"
   },
   {
    "duration": 1279,
    "start_time": "2023-01-09T16:56:16.405Z"
   },
   {
    "duration": 1196,
    "start_time": "2023-01-09T17:01:21.656Z"
   },
   {
    "duration": 8,
    "start_time": "2023-01-09T17:04:08.085Z"
   },
   {
    "duration": 6,
    "start_time": "2023-01-09T17:04:11.628Z"
   },
   {
    "duration": 6,
    "start_time": "2023-01-09T17:04:15.236Z"
   },
   {
    "duration": 17,
    "start_time": "2023-01-09T17:04:15.841Z"
   },
   {
    "duration": 85,
    "start_time": "2023-01-09T17:04:58.013Z"
   },
   {
    "duration": 53,
    "start_time": "2023-01-09T17:05:10.214Z"
   },
   {
    "duration": 6,
    "start_time": "2023-01-09T17:06:06.887Z"
   },
   {
    "duration": 7,
    "start_time": "2023-01-09T17:06:07.461Z"
   },
   {
    "duration": 11,
    "start_time": "2023-01-09T17:06:08.122Z"
   },
   {
    "duration": 8,
    "start_time": "2023-01-09T17:15:24.099Z"
   },
   {
    "duration": 6,
    "start_time": "2023-01-09T17:15:39.877Z"
   },
   {
    "duration": 51,
    "start_time": "2023-01-09T17:26:53.902Z"
   },
   {
    "duration": 618,
    "start_time": "2023-01-09T17:27:01.849Z"
   },
   {
    "duration": 15,
    "start_time": "2023-01-09T17:27:02.469Z"
   },
   {
    "duration": 2488,
    "start_time": "2023-01-09T17:27:02.486Z"
   },
   {
    "duration": 9,
    "start_time": "2023-01-09T17:27:04.977Z"
   },
   {
    "duration": 30,
    "start_time": "2023-01-09T17:27:04.988Z"
   },
   {
    "duration": 36,
    "start_time": "2023-01-09T17:27:05.020Z"
   },
   {
    "duration": 5,
    "start_time": "2023-01-09T17:27:18.861Z"
   },
   {
    "duration": 13,
    "start_time": "2023-01-09T17:27:37.464Z"
   },
   {
    "duration": 6,
    "start_time": "2023-01-09T17:27:46.674Z"
   },
   {
    "duration": 12,
    "start_time": "2023-01-09T17:27:47.616Z"
   },
   {
    "duration": 638,
    "start_time": "2023-01-09T18:56:45.603Z"
   },
   {
    "duration": 17,
    "start_time": "2023-01-09T18:56:46.243Z"
   },
   {
    "duration": 2323,
    "start_time": "2023-01-09T18:56:46.447Z"
   },
   {
    "duration": 11,
    "start_time": "2023-01-09T18:56:48.772Z"
   },
   {
    "duration": 60,
    "start_time": "2023-01-09T18:56:48.784Z"
   },
   {
    "duration": 7,
    "start_time": "2023-01-09T18:56:48.847Z"
   },
   {
    "duration": 8,
    "start_time": "2023-01-09T18:56:48.889Z"
   },
   {
    "duration": 5,
    "start_time": "2023-01-09T18:56:49.820Z"
   },
   {
    "duration": 17,
    "start_time": "2023-01-09T18:56:49.827Z"
   },
   {
    "duration": 6,
    "start_time": "2023-01-09T18:56:50.312Z"
   },
   {
    "duration": 6,
    "start_time": "2023-01-09T18:56:51.568Z"
   },
   {
    "duration": 4,
    "start_time": "2023-01-09T18:56:51.771Z"
   },
   {
    "duration": 4,
    "start_time": "2023-01-09T18:56:52.007Z"
   },
   {
    "duration": 4,
    "start_time": "2023-01-09T18:56:52.207Z"
   },
   {
    "duration": 4,
    "start_time": "2023-01-09T18:56:52.488Z"
   },
   {
    "duration": 4,
    "start_time": "2023-01-09T18:58:13.667Z"
   },
   {
    "duration": 4,
    "start_time": "2023-01-09T19:07:08.738Z"
   },
   {
    "duration": 16,
    "start_time": "2023-01-09T19:07:08.745Z"
   },
   {
    "duration": 90,
    "start_time": "2023-01-09T19:08:16.711Z"
   },
   {
    "duration": 7,
    "start_time": "2023-01-09T19:08:29.853Z"
   },
   {
    "duration": 100,
    "start_time": "2023-01-09T19:08:53.122Z"
   },
   {
    "duration": 7,
    "start_time": "2023-01-09T19:09:05.624Z"
   },
   {
    "duration": 7,
    "start_time": "2023-01-09T19:09:19.222Z"
   },
   {
    "duration": 7,
    "start_time": "2023-01-09T19:10:38.405Z"
   },
   {
    "duration": 8,
    "start_time": "2023-01-09T19:12:08.338Z"
   },
   {
    "duration": 7,
    "start_time": "2023-01-09T19:14:52.432Z"
   },
   {
    "duration": 10,
    "start_time": "2023-01-09T19:15:57.710Z"
   },
   {
    "duration": 14,
    "start_time": "2023-01-09T19:16:54.414Z"
   },
   {
    "duration": 5,
    "start_time": "2023-01-09T19:17:14.154Z"
   },
   {
    "duration": 24,
    "start_time": "2023-01-09T19:17:14.161Z"
   },
   {
    "duration": 11,
    "start_time": "2023-01-09T19:17:22.989Z"
   },
   {
    "duration": 9,
    "start_time": "2023-01-09T19:18:09.101Z"
   },
   {
    "duration": 4,
    "start_time": "2023-01-09T19:18:13.301Z"
   },
   {
    "duration": 4,
    "start_time": "2023-01-09T19:18:33.888Z"
   },
   {
    "duration": 9,
    "start_time": "2023-01-09T19:18:36.708Z"
   },
   {
    "duration": 140,
    "start_time": "2023-01-09T19:18:49.818Z"
   },
   {
    "duration": 16,
    "start_time": "2023-01-09T19:18:50.269Z"
   },
   {
    "duration": 1937,
    "start_time": "2023-01-09T19:18:50.869Z"
   },
   {
    "duration": 14,
    "start_time": "2023-01-09T19:18:52.808Z"
   },
   {
    "duration": 6,
    "start_time": "2023-01-09T19:18:54.289Z"
   },
   {
    "duration": 4,
    "start_time": "2023-01-09T19:18:55.008Z"
   },
   {
    "duration": 5,
    "start_time": "2023-01-09T19:18:55.528Z"
   },
   {
    "duration": 7,
    "start_time": "2023-01-09T19:18:56.091Z"
   },
   {
    "duration": 4,
    "start_time": "2023-01-09T19:18:56.637Z"
   },
   {
    "duration": 13,
    "start_time": "2023-01-09T19:18:58.050Z"
   },
   {
    "duration": 172,
    "start_time": "2023-01-09T19:19:42.678Z"
   },
   {
    "duration": 19,
    "start_time": "2023-01-09T19:19:43.028Z"
   },
   {
    "duration": 2194,
    "start_time": "2023-01-09T19:19:43.447Z"
   },
   {
    "duration": 11,
    "start_time": "2023-01-09T19:19:45.643Z"
   },
   {
    "duration": 17,
    "start_time": "2023-01-09T19:19:45.655Z"
   },
   {
    "duration": 38,
    "start_time": "2023-01-09T19:19:45.679Z"
   },
   {
    "duration": 5,
    "start_time": "2023-01-09T19:19:45.907Z"
   },
   {
    "duration": 5,
    "start_time": "2023-01-09T19:19:46.229Z"
   },
   {
    "duration": 4,
    "start_time": "2023-01-09T19:19:46.520Z"
   },
   {
    "duration": 14,
    "start_time": "2023-01-09T19:19:46.895Z"
   },
   {
    "duration": 7,
    "start_time": "2023-01-09T19:20:04.128Z"
   },
   {
    "duration": 4,
    "start_time": "2023-01-09T19:20:04.504Z"
   },
   {
    "duration": 13,
    "start_time": "2023-01-09T19:20:04.795Z"
   },
   {
    "duration": 9,
    "start_time": "2023-01-09T19:20:32.096Z"
   },
   {
    "duration": 4,
    "start_time": "2023-01-09T19:20:32.695Z"
   },
   {
    "duration": 5,
    "start_time": "2023-01-09T19:21:33.707Z"
   },
   {
    "duration": 5,
    "start_time": "2023-01-09T19:21:34.299Z"
   },
   {
    "duration": 13,
    "start_time": "2023-01-09T19:21:35.075Z"
   },
   {
    "duration": 5,
    "start_time": "2023-01-09T19:21:55.908Z"
   },
   {
    "duration": 12,
    "start_time": "2023-01-09T19:21:56.533Z"
   },
   {
    "duration": 7,
    "start_time": "2023-01-09T19:22:22.863Z"
   },
   {
    "duration": 15,
    "start_time": "2023-01-09T19:22:23.700Z"
   },
   {
    "duration": 7,
    "start_time": "2023-01-09T19:22:50.142Z"
   },
   {
    "duration": 5,
    "start_time": "2023-01-09T19:22:50.603Z"
   },
   {
    "duration": 6,
    "start_time": "2023-01-09T19:22:51.009Z"
   },
   {
    "duration": 5,
    "start_time": "2023-01-09T19:22:51.338Z"
   },
   {
    "duration": 10,
    "start_time": "2023-01-09T19:22:51.649Z"
   },
   {
    "duration": 17,
    "start_time": "2023-01-09T19:22:52.131Z"
   },
   {
    "duration": 4,
    "start_time": "2023-01-09T19:23:10.559Z"
   },
   {
    "duration": 6,
    "start_time": "2023-01-09T19:23:11.199Z"
   },
   {
    "duration": 18,
    "start_time": "2023-01-09T19:23:11.685Z"
   },
   {
    "duration": 4,
    "start_time": "2023-01-09T19:24:00.840Z"
   },
   {
    "duration": 6,
    "start_time": "2023-01-09T19:24:01.236Z"
   },
   {
    "duration": 4,
    "start_time": "2023-01-09T19:24:01.499Z"
   },
   {
    "duration": 4,
    "start_time": "2023-01-09T19:24:01.784Z"
   },
   {
    "duration": 13,
    "start_time": "2023-01-09T19:24:02.222Z"
   },
   {
    "duration": 22,
    "start_time": "2023-01-09T19:24:11.116Z"
   },
   {
    "duration": 2132,
    "start_time": "2023-01-09T19:24:12.078Z"
   },
   {
    "duration": 13,
    "start_time": "2023-01-09T19:24:14.213Z"
   },
   {
    "duration": 5,
    "start_time": "2023-01-09T19:24:16.223Z"
   },
   {
    "duration": 4,
    "start_time": "2023-01-09T19:24:16.569Z"
   },
   {
    "duration": 6,
    "start_time": "2023-01-09T19:24:16.804Z"
   },
   {
    "duration": 5,
    "start_time": "2023-01-09T19:24:17.106Z"
   },
   {
    "duration": 4,
    "start_time": "2023-01-09T19:24:17.430Z"
   },
   {
    "duration": 10,
    "start_time": "2023-01-09T19:24:18.618Z"
   },
   {
    "duration": 159,
    "start_time": "2023-01-09T19:24:29.245Z"
   },
   {
    "duration": 16,
    "start_time": "2023-01-09T19:24:29.667Z"
   },
   {
    "duration": 2301,
    "start_time": "2023-01-09T19:24:29.910Z"
   },
   {
    "duration": 10,
    "start_time": "2023-01-09T19:24:32.214Z"
   },
   {
    "duration": 9,
    "start_time": "2023-01-09T19:24:32.225Z"
   },
   {
    "duration": 9,
    "start_time": "2023-01-09T19:24:32.236Z"
   },
   {
    "duration": 59,
    "start_time": "2023-01-09T19:24:32.246Z"
   },
   {
    "duration": 6,
    "start_time": "2023-01-09T19:24:32.330Z"
   },
   {
    "duration": 4,
    "start_time": "2023-01-09T19:24:32.595Z"
   },
   {
    "duration": 11,
    "start_time": "2023-01-09T19:24:32.921Z"
   },
   {
    "duration": 14,
    "start_time": "2023-01-09T19:28:22.562Z"
   },
   {
    "duration": 6,
    "start_time": "2023-01-09T19:29:18.717Z"
   },
   {
    "duration": 4,
    "start_time": "2023-01-09T19:29:20.210Z"
   },
   {
    "duration": 15,
    "start_time": "2023-01-09T19:29:20.601Z"
   },
   {
    "duration": 5,
    "start_time": "2023-01-09T19:29:44.449Z"
   },
   {
    "duration": 4,
    "start_time": "2023-01-09T19:29:44.888Z"
   },
   {
    "duration": 10,
    "start_time": "2023-01-09T19:29:45.194Z"
   },
   {
    "duration": 20,
    "start_time": "2023-01-09T19:31:05.122Z"
   },
   {
    "duration": 10,
    "start_time": "2023-01-09T19:31:10.576Z"
   },
   {
    "duration": 2,
    "start_time": "2023-01-09T19:31:10.948Z"
   },
   {
    "duration": 6,
    "start_time": "2023-01-09T19:31:11.296Z"
   },
   {
    "duration": 5,
    "start_time": "2023-01-09T19:31:11.597Z"
   },
   {
    "duration": 4,
    "start_time": "2023-01-09T19:31:11.828Z"
   },
   {
    "duration": 9,
    "start_time": "2023-01-09T19:31:12.497Z"
   },
   {
    "duration": 14,
    "start_time": "2023-01-09T19:31:22.698Z"
   },
   {
    "duration": 1278,
    "start_time": "2023-01-09T19:31:42.855Z"
   },
   {
    "duration": 1190,
    "start_time": "2023-01-09T19:31:46.965Z"
   },
   {
    "duration": 11,
    "start_time": "2023-01-09T19:31:54.725Z"
   },
   {
    "duration": 3,
    "start_time": "2023-01-09T19:32:04.043Z"
   },
   {
    "duration": 8,
    "start_time": "2023-01-09T19:33:15.021Z"
   },
   {
    "duration": 11,
    "start_time": "2023-01-09T19:46:24.085Z"
   },
   {
    "duration": 12,
    "start_time": "2023-01-09T19:46:32.065Z"
   },
   {
    "duration": 7,
    "start_time": "2023-01-09T19:47:11.819Z"
   },
   {
    "duration": 14,
    "start_time": "2023-01-09T19:53:18.942Z"
   },
   {
    "duration": 30,
    "start_time": "2023-01-09T19:55:21.837Z"
   },
   {
    "duration": 784,
    "start_time": "2023-01-12T14:34:50.651Z"
   },
   {
    "duration": 121,
    "start_time": "2023-01-12T14:34:53.974Z"
   },
   {
    "duration": 15,
    "start_time": "2023-01-12T14:34:58.066Z"
   },
   {
    "duration": 9,
    "start_time": "2023-01-12T14:35:02.353Z"
   },
   {
    "duration": 5,
    "start_time": "2023-01-12T14:35:08.387Z"
   },
   {
    "duration": 3,
    "start_time": "2023-01-12T14:35:08.871Z"
   },
   {
    "duration": 5,
    "start_time": "2023-01-12T14:35:09.655Z"
   },
   {
    "duration": 19,
    "start_time": "2023-01-12T14:35:09.662Z"
   },
   {
    "duration": 4,
    "start_time": "2023-01-12T14:35:09.706Z"
   },
   {
    "duration": 9,
    "start_time": "2023-01-12T14:35:10.204Z"
   },
   {
    "duration": 44,
    "start_time": "2023-01-12T17:05:57.398Z"
   },
   {
    "duration": 6,
    "start_time": "2023-01-12T17:05:58.047Z"
   },
   {
    "duration": 737,
    "start_time": "2023-01-12T17:06:14.227Z"
   },
   {
    "duration": 14,
    "start_time": "2023-01-12T17:06:14.966Z"
   },
   {
    "duration": 2223,
    "start_time": "2023-01-12T17:06:14.981Z"
   },
   {
    "duration": 9,
    "start_time": "2023-01-12T17:06:17.206Z"
   },
   {
    "duration": 17,
    "start_time": "2023-01-12T17:06:17.216Z"
   },
   {
    "duration": 13,
    "start_time": "2023-01-12T17:06:17.234Z"
   },
   {
    "duration": 11,
    "start_time": "2023-01-12T17:06:17.248Z"
   },
   {
    "duration": 7,
    "start_time": "2023-01-12T17:06:17.261Z"
   },
   {
    "duration": 18,
    "start_time": "2023-01-12T17:06:17.269Z"
   },
   {
    "duration": 12,
    "start_time": "2023-01-12T17:06:17.288Z"
   },
   {
    "duration": 9,
    "start_time": "2023-01-12T17:06:39.699Z"
   },
   {
    "duration": 9,
    "start_time": "2023-01-12T17:06:41.659Z"
   },
   {
    "duration": 9,
    "start_time": "2023-01-12T17:06:42.285Z"
   },
   {
    "duration": 10,
    "start_time": "2023-01-12T17:06:42.640Z"
   },
   {
    "duration": 5,
    "start_time": "2023-01-12T17:06:48.087Z"
   },
   {
    "duration": 661,
    "start_time": "2023-01-14T14:43:58.705Z"
   },
   {
    "duration": 16,
    "start_time": "2023-01-14T14:43:59.379Z"
   },
   {
    "duration": 2713,
    "start_time": "2023-01-14T14:44:00.279Z"
   },
   {
    "duration": 16,
    "start_time": "2023-01-14T14:44:04.657Z"
   },
   {
    "duration": 7,
    "start_time": "2023-01-14T14:44:10.597Z"
   },
   {
    "duration": 4,
    "start_time": "2023-01-14T14:44:11.168Z"
   },
   {
    "duration": 6,
    "start_time": "2023-01-14T14:44:11.878Z"
   },
   {
    "duration": 13,
    "start_time": "2023-01-14T14:44:13.113Z"
   },
   {
    "duration": 14,
    "start_time": "2023-01-14T14:44:15.128Z"
   },
   {
    "duration": 10,
    "start_time": "2023-01-14T14:44:15.899Z"
   },
   {
    "duration": 18,
    "start_time": "2023-01-14T14:44:17.518Z"
   },
   {
    "duration": 4,
    "start_time": "2023-01-14T14:44:22.141Z"
   },
   {
    "duration": 9,
    "start_time": "2023-01-14T14:44:22.568Z"
   },
   {
    "duration": 6,
    "start_time": "2023-01-14T14:44:22.777Z"
   },
   {
    "duration": 84,
    "start_time": "2023-01-14T14:44:23.080Z"
   },
   {
    "duration": 7,
    "start_time": "2023-01-14T14:44:23.986Z"
   },
   {
    "duration": 7,
    "start_time": "2023-01-14T14:44:32.677Z"
   },
   {
    "duration": 30,
    "start_time": "2023-01-14T14:45:09.039Z"
   },
   {
    "duration": 7,
    "start_time": "2023-01-14T14:46:41.987Z"
   },
   {
    "duration": 10,
    "start_time": "2023-01-14T14:46:55.869Z"
   },
   {
    "duration": 6,
    "start_time": "2023-01-14T14:47:02.076Z"
   },
   {
    "duration": 15,
    "start_time": "2023-01-14T14:47:10.711Z"
   },
   {
    "duration": 7,
    "start_time": "2023-01-14T14:47:37.981Z"
   },
   {
    "duration": 9,
    "start_time": "2023-01-14T14:49:01.805Z"
   },
   {
    "duration": 6,
    "start_time": "2023-01-14T14:49:05.748Z"
   },
   {
    "duration": 29,
    "start_time": "2023-01-14T14:54:56.116Z"
   },
   {
    "duration": 26,
    "start_time": "2023-01-14T14:55:05.986Z"
   },
   {
    "duration": 6,
    "start_time": "2023-01-14T14:55:09.299Z"
   },
   {
    "duration": 25,
    "start_time": "2023-01-14T14:55:09.967Z"
   },
   {
    "duration": 7,
    "start_time": "2023-01-14T14:55:18.066Z"
   },
   {
    "duration": 7,
    "start_time": "2023-01-14T14:55:20.736Z"
   },
   {
    "duration": 34,
    "start_time": "2023-01-14T14:55:21.306Z"
   },
   {
    "duration": 14,
    "start_time": "2023-01-14T14:55:52.606Z"
   },
   {
    "duration": 137,
    "start_time": "2023-01-14T14:56:02.848Z"
   },
   {
    "duration": 15,
    "start_time": "2023-01-14T14:56:03.632Z"
   },
   {
    "duration": 2026,
    "start_time": "2023-01-14T14:56:04.740Z"
   },
   {
    "duration": 9,
    "start_time": "2023-01-14T14:56:11.407Z"
   },
   {
    "duration": 4,
    "start_time": "2023-01-14T14:56:12.437Z"
   },
   {
    "duration": 10,
    "start_time": "2023-01-14T14:56:13.020Z"
   },
   {
    "duration": 8,
    "start_time": "2023-01-14T14:56:13.719Z"
   },
   {
    "duration": 8,
    "start_time": "2023-01-14T14:56:14.533Z"
   },
   {
    "duration": 10,
    "start_time": "2023-01-14T14:56:15.258Z"
   },
   {
    "duration": 11,
    "start_time": "2023-01-14T14:56:16.560Z"
   },
   {
    "duration": 7,
    "start_time": "2023-01-14T14:56:18.840Z"
   },
   {
    "duration": 5,
    "start_time": "2023-01-14T14:56:20.286Z"
   },
   {
    "duration": 8,
    "start_time": "2023-01-14T14:56:20.675Z"
   },
   {
    "duration": 11,
    "start_time": "2023-01-14T14:56:21.020Z"
   },
   {
    "duration": 14,
    "start_time": "2023-01-14T14:56:21.641Z"
   },
   {
    "duration": 130,
    "start_time": "2023-01-14T14:56:52.187Z"
   },
   {
    "duration": 15,
    "start_time": "2023-01-14T14:56:53.606Z"
   },
   {
    "duration": 2106,
    "start_time": "2023-01-14T14:57:22.341Z"
   },
   {
    "duration": 8,
    "start_time": "2023-01-14T14:57:29.059Z"
   },
   {
    "duration": 8,
    "start_time": "2023-01-14T14:57:34.286Z"
   },
   {
    "duration": 5,
    "start_time": "2023-01-14T14:57:35.378Z"
   },
   {
    "duration": 5,
    "start_time": "2023-01-14T14:57:37.578Z"
   },
   {
    "duration": 7,
    "start_time": "2023-01-14T14:57:38.472Z"
   },
   {
    "duration": 9,
    "start_time": "2023-01-14T14:57:41.536Z"
   },
   {
    "duration": 9,
    "start_time": "2023-01-14T14:57:42.987Z"
   },
   {
    "duration": 6,
    "start_time": "2023-01-14T14:57:46.579Z"
   },
   {
    "duration": 13,
    "start_time": "2023-01-14T14:58:10.086Z"
   },
   {
    "duration": 12,
    "start_time": "2023-01-14T14:58:35.392Z"
   },
   {
    "duration": 8,
    "start_time": "2023-01-14T14:58:52.146Z"
   },
   {
    "duration": 17,
    "start_time": "2023-01-14T14:59:30.259Z"
   },
   {
    "duration": 12,
    "start_time": "2023-01-14T14:59:38.347Z"
   },
   {
    "duration": 9,
    "start_time": "2023-01-14T15:00:45.366Z"
   },
   {
    "duration": 13,
    "start_time": "2023-01-14T15:01:04.953Z"
   },
   {
    "duration": 14,
    "start_time": "2023-01-14T15:01:10.186Z"
   },
   {
    "duration": 10,
    "start_time": "2023-01-14T15:01:21.286Z"
   },
   {
    "duration": 5,
    "start_time": "2023-01-14T15:01:37.178Z"
   },
   {
    "duration": 5,
    "start_time": "2023-01-14T15:06:59.761Z"
   },
   {
    "duration": 8,
    "start_time": "2023-01-14T15:07:07.391Z"
   },
   {
    "duration": 12,
    "start_time": "2023-01-14T15:09:19.925Z"
   },
   {
    "duration": 18,
    "start_time": "2023-01-14T15:10:11.753Z"
   },
   {
    "duration": 79,
    "start_time": "2023-01-14T15:10:34.271Z"
   },
   {
    "duration": 9,
    "start_time": "2023-01-14T15:10:40.883Z"
   },
   {
    "duration": 135,
    "start_time": "2023-01-14T15:12:08.536Z"
   },
   {
    "duration": 7,
    "start_time": "2023-01-14T15:12:14.149Z"
   },
   {
    "duration": 14,
    "start_time": "2023-01-14T15:12:24.036Z"
   },
   {
    "duration": 14,
    "start_time": "2023-01-14T15:12:43.241Z"
   },
   {
    "duration": 6,
    "start_time": "2023-01-14T15:13:56.097Z"
   },
   {
    "duration": 5,
    "start_time": "2023-01-14T15:14:11.149Z"
   },
   {
    "duration": 14,
    "start_time": "2023-01-14T15:14:22.562Z"
   },
   {
    "duration": 5,
    "start_time": "2023-01-14T15:14:36.452Z"
   },
   {
    "duration": 19,
    "start_time": "2023-01-14T15:14:40.316Z"
   },
   {
    "duration": 8,
    "start_time": "2023-01-14T15:15:21.159Z"
   },
   {
    "duration": 14,
    "start_time": "2023-01-14T15:16:00.751Z"
   },
   {
    "duration": 12,
    "start_time": "2023-01-14T15:18:15.891Z"
   },
   {
    "duration": 13,
    "start_time": "2023-01-14T15:18:23.437Z"
   },
   {
    "duration": 16,
    "start_time": "2023-01-14T15:18:54.060Z"
   },
   {
    "duration": 6,
    "start_time": "2023-01-14T15:19:08.151Z"
   },
   {
    "duration": 4,
    "start_time": "2023-01-14T15:19:15.584Z"
   },
   {
    "duration": 5,
    "start_time": "2023-01-14T15:19:17.956Z"
   },
   {
    "duration": 14,
    "start_time": "2023-01-14T15:19:53.649Z"
   },
   {
    "duration": 10,
    "start_time": "2023-01-14T15:20:00.841Z"
   },
   {
    "duration": 8,
    "start_time": "2023-01-14T15:20:08.809Z"
   },
   {
    "duration": 14,
    "start_time": "2023-01-14T15:20:42.712Z"
   },
   {
    "duration": 6,
    "start_time": "2023-01-14T15:20:43.854Z"
   },
   {
    "duration": 5,
    "start_time": "2023-01-14T15:20:45.163Z"
   },
   {
    "duration": 9,
    "start_time": "2023-01-14T15:20:45.874Z"
   },
   {
    "duration": 14,
    "start_time": "2023-01-14T15:20:45.885Z"
   },
   {
    "duration": 4,
    "start_time": "2023-01-14T15:20:46.211Z"
   },
   {
    "duration": 8,
    "start_time": "2023-01-14T15:20:46.700Z"
   },
   {
    "duration": 6,
    "start_time": "2023-01-14T15:20:48.815Z"
   },
   {
    "duration": 28,
    "start_time": "2023-01-14T15:20:50.976Z"
   },
   {
    "duration": 28,
    "start_time": "2023-01-14T15:22:00.150Z"
   },
   {
    "duration": 54,
    "start_time": "2023-01-14T15:22:57.191Z"
   },
   {
    "duration": 99,
    "start_time": "2023-01-14T15:29:13.244Z"
   },
   {
    "duration": 161,
    "start_time": "2023-01-14T15:37:01.552Z"
   },
   {
    "duration": 141,
    "start_time": "2023-01-14T15:37:57.476Z"
   },
   {
    "duration": 403,
    "start_time": "2023-01-14T15:38:14.731Z"
   },
   {
    "duration": 154,
    "start_time": "2023-01-14T15:38:28.555Z"
   },
   {
    "duration": 196,
    "start_time": "2023-01-14T15:38:36.655Z"
   },
   {
    "duration": 197,
    "start_time": "2023-01-14T15:39:44.864Z"
   },
   {
    "duration": 156,
    "start_time": "2023-01-14T15:39:52.315Z"
   },
   {
    "duration": 511,
    "start_time": "2023-01-14T15:39:57.693Z"
   },
   {
    "duration": 254,
    "start_time": "2023-01-14T15:40:03.953Z"
   },
   {
    "duration": 96,
    "start_time": "2023-01-14T15:45:58.309Z"
   },
   {
    "duration": 12,
    "start_time": "2023-01-14T15:46:07.327Z"
   },
   {
    "duration": 11,
    "start_time": "2023-01-14T15:46:43.319Z"
   },
   {
    "duration": 10,
    "start_time": "2023-01-14T15:47:18.077Z"
   },
   {
    "duration": 25,
    "start_time": "2023-01-14T15:48:21.314Z"
   },
   {
    "duration": 27,
    "start_time": "2023-01-14T15:48:57.488Z"
   },
   {
    "duration": 12,
    "start_time": "2023-01-14T15:50:30.343Z"
   },
   {
    "duration": 16,
    "start_time": "2023-01-14T15:50:39.471Z"
   },
   {
    "duration": 23,
    "start_time": "2023-01-14T15:51:02.495Z"
   },
   {
    "duration": 277,
    "start_time": "2023-01-14T15:51:13.719Z"
   },
   {
    "duration": 204,
    "start_time": "2023-01-14T15:51:21.255Z"
   },
   {
    "duration": 163,
    "start_time": "2023-01-14T15:51:26.415Z"
   },
   {
    "duration": 16,
    "start_time": "2023-01-14T15:52:55.283Z"
   },
   {
    "duration": 208,
    "start_time": "2023-01-14T15:53:14.197Z"
   },
   {
    "duration": 174,
    "start_time": "2023-01-14T15:53:47.586Z"
   },
   {
    "duration": 232,
    "start_time": "2023-01-14T15:54:34.314Z"
   },
   {
    "duration": 200,
    "start_time": "2023-01-14T15:55:19.415Z"
   },
   {
    "duration": 10,
    "start_time": "2023-01-14T15:58:47.337Z"
   },
   {
    "duration": 17,
    "start_time": "2023-01-14T15:58:50.627Z"
   },
   {
    "duration": 199,
    "start_time": "2023-01-14T15:59:20.340Z"
   },
   {
    "duration": 199,
    "start_time": "2023-01-14T15:59:29.546Z"
   },
   {
    "duration": 10,
    "start_time": "2023-01-14T16:00:36.191Z"
   },
   {
    "duration": 8,
    "start_time": "2023-01-14T16:00:38.512Z"
   },
   {
    "duration": 208,
    "start_time": "2023-01-14T16:00:41.795Z"
   },
   {
    "duration": 8,
    "start_time": "2023-01-14T16:00:43.140Z"
   },
   {
    "duration": 8,
    "start_time": "2023-01-14T16:00:49.442Z"
   },
   {
    "duration": 268,
    "start_time": "2023-01-14T16:00:55.005Z"
   },
   {
    "duration": 161,
    "start_time": "2023-01-14T16:00:56.954Z"
   },
   {
    "duration": 33,
    "start_time": "2023-01-14T16:00:57.122Z"
   },
   {
    "duration": 194,
    "start_time": "2023-01-14T16:00:57.500Z"
   },
   {
    "duration": 8,
    "start_time": "2023-01-14T16:00:58.451Z"
   },
   {
    "duration": 134,
    "start_time": "2023-01-14T16:01:18.175Z"
   },
   {
    "duration": 25,
    "start_time": "2023-01-14T16:01:18.519Z"
   },
   {
    "duration": 2037,
    "start_time": "2023-01-14T16:01:18.592Z"
   },
   {
    "duration": 13,
    "start_time": "2023-01-14T16:01:20.631Z"
   },
   {
    "duration": 8,
    "start_time": "2023-01-14T16:01:20.645Z"
   },
   {
    "duration": 13,
    "start_time": "2023-01-14T16:01:20.654Z"
   },
   {
    "duration": 20,
    "start_time": "2023-01-14T16:01:20.669Z"
   },
   {
    "duration": 53,
    "start_time": "2023-01-14T16:01:20.691Z"
   },
   {
    "duration": 14,
    "start_time": "2023-01-14T16:01:20.746Z"
   },
   {
    "duration": 9,
    "start_time": "2023-01-14T16:01:20.970Z"
   },
   {
    "duration": 6,
    "start_time": "2023-01-14T16:01:21.140Z"
   },
   {
    "duration": 4,
    "start_time": "2023-01-14T16:01:21.673Z"
   },
   {
    "duration": 8,
    "start_time": "2023-01-14T16:01:21.901Z"
   },
   {
    "duration": 14,
    "start_time": "2023-01-14T16:01:22.121Z"
   },
   {
    "duration": 18,
    "start_time": "2023-01-14T16:01:22.337Z"
   },
   {
    "duration": 8,
    "start_time": "2023-01-14T16:01:22.541Z"
   },
   {
    "duration": 6,
    "start_time": "2023-01-14T16:01:23.338Z"
   },
   {
    "duration": 127,
    "start_time": "2023-01-14T16:02:04.975Z"
   },
   {
    "duration": 2333,
    "start_time": "2023-01-14T16:02:23.558Z"
   },
   {
    "duration": 9,
    "start_time": "2023-01-14T16:02:30.376Z"
   },
   {
    "duration": 5,
    "start_time": "2023-01-14T16:02:33.789Z"
   },
   {
    "duration": 5,
    "start_time": "2023-01-14T16:02:34.235Z"
   },
   {
    "duration": 8,
    "start_time": "2023-01-14T16:02:35.830Z"
   },
   {
    "duration": 8,
    "start_time": "2023-01-14T16:02:36.254Z"
   },
   {
    "duration": 8,
    "start_time": "2023-01-14T16:02:36.298Z"
   },
   {
    "duration": 21,
    "start_time": "2023-01-14T16:02:38.210Z"
   },
   {
    "duration": 6,
    "start_time": "2023-01-14T16:02:41.597Z"
   },
   {
    "duration": 4,
    "start_time": "2023-01-14T16:02:43.682Z"
   },
   {
    "duration": 18,
    "start_time": "2023-01-14T16:02:44.235Z"
   },
   {
    "duration": 6,
    "start_time": "2023-01-14T16:02:44.714Z"
   },
   {
    "duration": 16,
    "start_time": "2023-01-14T16:02:45.290Z"
   },
   {
    "duration": 8,
    "start_time": "2023-01-14T16:02:55.366Z"
   },
   {
    "duration": 6,
    "start_time": "2023-01-14T16:03:01.470Z"
   },
   {
    "duration": 38,
    "start_time": "2023-01-14T16:03:02.510Z"
   },
   {
    "duration": 92,
    "start_time": "2023-01-14T16:03:21.191Z"
   },
   {
    "duration": 144,
    "start_time": "2023-01-14T16:03:29.011Z"
   },
   {
    "duration": 174,
    "start_time": "2023-01-14T16:04:16.633Z"
   },
   {
    "duration": 204,
    "start_time": "2023-01-14T16:04:26.283Z"
   },
   {
    "duration": 22,
    "start_time": "2023-01-14T16:04:48.151Z"
   },
   {
    "duration": 180,
    "start_time": "2023-01-14T16:04:48.736Z"
   },
   {
    "duration": 196,
    "start_time": "2023-01-14T16:05:00.519Z"
   },
   {
    "duration": 23,
    "start_time": "2023-01-14T16:05:04.886Z"
   },
   {
    "duration": 184,
    "start_time": "2023-01-14T16:05:05.459Z"
   },
   {
    "duration": 213,
    "start_time": "2023-01-14T16:05:09.732Z"
   },
   {
    "duration": 182,
    "start_time": "2023-01-14T16:05:14.591Z"
   },
   {
    "duration": 210,
    "start_time": "2023-01-14T16:05:51.138Z"
   },
   {
    "duration": 241,
    "start_time": "2023-01-14T16:05:55.811Z"
   },
   {
    "duration": 12,
    "start_time": "2023-01-14T16:06:40.951Z"
   },
   {
    "duration": 12,
    "start_time": "2023-01-14T16:06:46.281Z"
   },
   {
    "duration": 226,
    "start_time": "2023-01-14T16:07:05.047Z"
   },
   {
    "duration": 11,
    "start_time": "2023-01-14T16:07:06.964Z"
   },
   {
    "duration": 24,
    "start_time": "2023-01-14T16:07:12.189Z"
   },
   {
    "duration": 204,
    "start_time": "2023-01-14T16:07:13.612Z"
   },
   {
    "duration": 208,
    "start_time": "2023-01-14T16:07:18.464Z"
   },
   {
    "duration": 30,
    "start_time": "2023-01-14T16:07:46.304Z"
   },
   {
    "duration": 22,
    "start_time": "2023-01-14T16:07:48.744Z"
   },
   {
    "duration": 12,
    "start_time": "2023-01-14T16:08:02.338Z"
   },
   {
    "duration": 10,
    "start_time": "2023-01-14T16:08:05.209Z"
   },
   {
    "duration": 11,
    "start_time": "2023-01-14T16:08:07.104Z"
   },
   {
    "duration": 139,
    "start_time": "2023-01-14T16:08:42.268Z"
   },
   {
    "duration": 499,
    "start_time": "2023-01-14T16:08:43.568Z"
   },
   {
    "duration": 13,
    "start_time": "2023-01-14T16:08:44.070Z"
   },
   {
    "duration": 200,
    "start_time": "2023-01-14T16:08:44.986Z"
   },
   {
    "duration": 30,
    "start_time": "2023-01-14T16:09:23.701Z"
   },
   {
    "duration": 203,
    "start_time": "2023-01-14T16:09:25.239Z"
   },
   {
    "duration": 13,
    "start_time": "2023-01-14T16:10:04.066Z"
   },
   {
    "duration": 8,
    "start_time": "2023-01-14T16:10:12.902Z"
   },
   {
    "duration": 8,
    "start_time": "2023-01-14T16:10:27.192Z"
   },
   {
    "duration": 9,
    "start_time": "2023-01-14T16:10:32.746Z"
   },
   {
    "duration": 8,
    "start_time": "2023-01-14T16:10:47.998Z"
   },
   {
    "duration": 2357,
    "start_time": "2023-01-14T16:11:31.641Z"
   },
   {
    "duration": 516,
    "start_time": "2023-01-14T16:11:57.285Z"
   },
   {
    "duration": 194,
    "start_time": "2023-01-14T16:13:22.985Z"
   },
   {
    "duration": 187,
    "start_time": "2023-01-14T16:13:26.782Z"
   },
   {
    "duration": 14,
    "start_time": "2023-01-14T16:17:11.679Z"
   },
   {
    "duration": 12,
    "start_time": "2023-01-14T16:17:21.399Z"
   },
   {
    "duration": 11,
    "start_time": "2023-01-14T16:17:27.715Z"
   },
   {
    "duration": 19,
    "start_time": "2023-01-14T16:17:30.914Z"
   },
   {
    "duration": 175,
    "start_time": "2023-01-14T16:18:09.872Z"
   },
   {
    "duration": 150,
    "start_time": "2023-01-14T16:18:18.541Z"
   },
   {
    "duration": 156,
    "start_time": "2023-01-14T16:18:22.943Z"
   },
   {
    "duration": 174,
    "start_time": "2023-01-14T16:18:34.364Z"
   },
   {
    "duration": 178,
    "start_time": "2023-01-14T16:18:41.721Z"
   },
   {
    "duration": 151,
    "start_time": "2023-01-14T16:18:54.743Z"
   },
   {
    "duration": 173,
    "start_time": "2023-01-14T16:19:01.018Z"
   },
   {
    "duration": 154,
    "start_time": "2023-01-14T16:19:05.054Z"
   },
   {
    "duration": 9,
    "start_time": "2023-01-14T16:20:04.201Z"
   },
   {
    "duration": 7,
    "start_time": "2023-01-14T16:21:16.678Z"
   },
   {
    "duration": 217,
    "start_time": "2023-01-14T16:21:33.185Z"
   },
   {
    "duration": 191,
    "start_time": "2023-01-14T16:21:41.351Z"
   },
   {
    "duration": 208,
    "start_time": "2023-01-14T16:21:46.851Z"
   },
   {
    "duration": 160,
    "start_time": "2023-01-14T16:21:52.374Z"
   },
   {
    "duration": 35,
    "start_time": "2023-01-14T16:24:28.504Z"
   },
   {
    "duration": 31,
    "start_time": "2023-01-14T16:24:47.321Z"
   },
   {
    "duration": 11,
    "start_time": "2023-01-14T16:25:13.333Z"
   },
   {
    "duration": 9,
    "start_time": "2023-01-14T16:26:21.267Z"
   },
   {
    "duration": 665,
    "start_time": "2023-01-14T16:27:24.906Z"
   },
   {
    "duration": 10,
    "start_time": "2023-01-14T16:27:28.086Z"
   },
   {
    "duration": 9,
    "start_time": "2023-01-14T16:27:32.595Z"
   },
   {
    "duration": 9,
    "start_time": "2023-01-14T16:27:37.688Z"
   },
   {
    "duration": 8,
    "start_time": "2023-01-14T16:28:51.243Z"
   },
   {
    "duration": 8,
    "start_time": "2023-01-14T16:29:03.873Z"
   },
   {
    "duration": 7,
    "start_time": "2023-01-14T16:29:12.065Z"
   },
   {
    "duration": 11,
    "start_time": "2023-01-14T16:30:21.159Z"
   },
   {
    "duration": 14,
    "start_time": "2023-01-14T16:30:57.347Z"
   },
   {
    "duration": 17,
    "start_time": "2023-01-14T16:31:03.723Z"
   },
   {
    "duration": 16,
    "start_time": "2023-01-14T16:33:03.690Z"
   },
   {
    "duration": 18,
    "start_time": "2023-01-14T16:33:09.335Z"
   },
   {
    "duration": 17,
    "start_time": "2023-01-14T16:33:27.243Z"
   },
   {
    "duration": 45,
    "start_time": "2023-01-14T16:33:34.106Z"
   },
   {
    "duration": 31,
    "start_time": "2023-01-14T16:33:35.483Z"
   },
   {
    "duration": 107,
    "start_time": "2023-01-14T16:34:19.170Z"
   },
   {
    "duration": 225,
    "start_time": "2023-01-14T16:34:25.672Z"
   },
   {
    "duration": 220,
    "start_time": "2023-01-14T16:34:32.732Z"
   },
   {
    "duration": 313,
    "start_time": "2023-01-14T16:34:37.759Z"
   },
   {
    "duration": 177,
    "start_time": "2023-01-14T16:34:41.755Z"
   },
   {
    "duration": 170,
    "start_time": "2023-01-14T16:34:49.636Z"
   },
   {
    "duration": 172,
    "start_time": "2023-01-14T16:34:57.217Z"
   },
   {
    "duration": 168,
    "start_time": "2023-01-14T16:35:04.684Z"
   },
   {
    "duration": 181,
    "start_time": "2023-01-14T16:35:14.997Z"
   },
   {
    "duration": 17,
    "start_time": "2023-01-14T16:39:40.063Z"
   },
   {
    "duration": 169,
    "start_time": "2023-01-14T16:39:40.794Z"
   },
   {
    "duration": 171,
    "start_time": "2023-01-14T16:40:06.634Z"
   },
   {
    "duration": 183,
    "start_time": "2023-01-14T16:40:48.986Z"
   },
   {
    "duration": 181,
    "start_time": "2023-01-14T16:40:55.849Z"
   },
   {
    "duration": 152,
    "start_time": "2023-01-14T16:41:03.063Z"
   },
   {
    "duration": 9,
    "start_time": "2023-01-14T16:42:05.254Z"
   },
   {
    "duration": 16,
    "start_time": "2023-01-14T16:42:11.317Z"
   },
   {
    "duration": 11,
    "start_time": "2023-01-14T16:42:26.672Z"
   },
   {
    "duration": 10,
    "start_time": "2023-01-14T16:42:44.804Z"
   },
   {
    "duration": 251,
    "start_time": "2023-01-14T16:43:50.878Z"
   },
   {
    "duration": 213,
    "start_time": "2023-01-14T16:44:01.795Z"
   },
   {
    "duration": 205,
    "start_time": "2023-01-14T16:44:08.437Z"
   },
   {
    "duration": 7,
    "start_time": "2023-01-14T16:45:35.157Z"
   },
   {
    "duration": 181,
    "start_time": "2023-01-14T16:46:05.205Z"
   },
   {
    "duration": 186,
    "start_time": "2023-01-14T16:46:36.253Z"
   },
   {
    "duration": 16,
    "start_time": "2023-01-14T16:47:55.269Z"
   },
   {
    "duration": 21,
    "start_time": "2023-01-14T16:48:25.706Z"
   },
   {
    "duration": 17,
    "start_time": "2023-01-14T16:49:54.981Z"
   },
   {
    "duration": 9,
    "start_time": "2023-01-14T16:51:31.596Z"
   },
   {
    "duration": 8,
    "start_time": "2023-01-14T16:51:40.564Z"
   },
   {
    "duration": 13,
    "start_time": "2023-01-14T16:51:54.828Z"
   },
   {
    "duration": 10,
    "start_time": "2023-01-14T16:52:33.102Z"
   },
   {
    "duration": 14,
    "start_time": "2023-01-14T16:52:43.556Z"
   },
   {
    "duration": 14,
    "start_time": "2023-01-14T16:52:51.360Z"
   },
   {
    "duration": 17,
    "start_time": "2023-01-14T16:53:02.135Z"
   },
   {
    "duration": 204,
    "start_time": "2023-01-14T16:53:37.365Z"
   },
   {
    "duration": 151,
    "start_time": "2023-01-14T16:55:00.285Z"
   },
   {
    "duration": 171,
    "start_time": "2023-01-14T16:55:10.371Z"
   },
   {
    "duration": 148,
    "start_time": "2023-01-14T16:55:14.566Z"
   },
   {
    "duration": 130,
    "start_time": "2023-01-14T16:55:26.738Z"
   },
   {
    "duration": 142,
    "start_time": "2023-01-14T16:55:32.724Z"
   },
   {
    "duration": 523,
    "start_time": "2023-01-14T16:56:54.967Z"
   },
   {
    "duration": 132,
    "start_time": "2023-01-14T16:57:01.265Z"
   },
   {
    "duration": 180,
    "start_time": "2023-01-14T16:57:04.499Z"
   },
   {
    "duration": 350,
    "start_time": "2023-01-14T16:57:14.191Z"
   },
   {
    "duration": 229,
    "start_time": "2023-01-14T16:57:26.768Z"
   },
   {
    "duration": 243,
    "start_time": "2023-01-14T16:57:38.649Z"
   },
   {
    "duration": 198,
    "start_time": "2023-01-14T16:57:41.881Z"
   },
   {
    "duration": 191,
    "start_time": "2023-01-14T16:59:13.465Z"
   },
   {
    "duration": 195,
    "start_time": "2023-01-14T16:59:23.665Z"
   },
   {
    "duration": 214,
    "start_time": "2023-01-14T16:59:33.226Z"
   },
   {
    "duration": 9,
    "start_time": "2023-01-14T17:00:07.852Z"
   },
   {
    "duration": 9,
    "start_time": "2023-01-14T17:00:17.601Z"
   },
   {
    "duration": 9,
    "start_time": "2023-01-14T17:00:20.996Z"
   },
   {
    "duration": 8,
    "start_time": "2023-01-14T17:00:25.161Z"
   },
   {
    "duration": 196,
    "start_time": "2023-01-14T17:00:28.044Z"
   },
   {
    "duration": 6,
    "start_time": "2023-01-14T17:04:37.845Z"
   },
   {
    "duration": 9,
    "start_time": "2023-01-14T17:04:42.351Z"
   },
   {
    "duration": 397,
    "start_time": "2023-01-14T17:04:48.035Z"
   },
   {
    "duration": 9,
    "start_time": "2023-01-14T17:05:12.295Z"
   },
   {
    "duration": 9,
    "start_time": "2023-01-14T17:05:18.957Z"
   },
   {
    "duration": 99,
    "start_time": "2023-01-14T17:12:35.085Z"
   },
   {
    "duration": 282,
    "start_time": "2023-01-14T17:12:46.615Z"
   },
   {
    "duration": 3,
    "start_time": "2023-01-14T17:13:05.485Z"
   },
   {
    "duration": 79,
    "start_time": "2023-01-14T17:14:42.528Z"
   },
   {
    "duration": 122,
    "start_time": "2023-01-14T17:15:09.179Z"
   },
   {
    "duration": 103,
    "start_time": "2023-01-14T17:15:55.242Z"
   },
   {
    "duration": 65,
    "start_time": "2023-01-14T17:16:18.869Z"
   },
   {
    "duration": 40,
    "start_time": "2023-01-14T17:17:00.288Z"
   },
   {
    "duration": 46,
    "start_time": "2023-01-14T17:17:08.608Z"
   },
   {
    "duration": 53,
    "start_time": "2023-01-14T17:17:12.789Z"
   },
   {
    "duration": 17,
    "start_time": "2023-01-14T17:17:29.488Z"
   },
   {
    "duration": 8,
    "start_time": "2023-01-14T17:17:29.800Z"
   },
   {
    "duration": 13,
    "start_time": "2023-01-14T17:17:31.118Z"
   },
   {
    "duration": 32,
    "start_time": "2023-01-14T17:17:31.809Z"
   },
   {
    "duration": 85,
    "start_time": "2023-01-14T17:17:39.549Z"
   },
   {
    "duration": 137,
    "start_time": "2023-01-14T17:17:47.548Z"
   },
   {
    "duration": 218,
    "start_time": "2023-01-14T17:17:48.590Z"
   },
   {
    "duration": 29,
    "start_time": "2023-01-14T17:17:49.139Z"
   },
   {
    "duration": 214,
    "start_time": "2023-01-14T17:17:49.680Z"
   },
   {
    "duration": 190,
    "start_time": "2023-01-14T17:17:50.358Z"
   },
   {
    "duration": 153,
    "start_time": "2023-01-14T17:17:50.922Z"
   },
   {
    "duration": 23,
    "start_time": "2023-01-14T17:17:51.320Z"
   },
   {
    "duration": 208,
    "start_time": "2023-01-14T17:17:51.535Z"
   },
   {
    "duration": 164,
    "start_time": "2023-01-14T17:17:52.001Z"
   },
   {
    "duration": 12,
    "start_time": "2023-01-14T17:17:52.500Z"
   },
   {
    "duration": 242,
    "start_time": "2023-01-14T17:17:52.688Z"
   },
   {
    "duration": 213,
    "start_time": "2023-01-14T17:17:53.100Z"
   },
   {
    "duration": 19,
    "start_time": "2023-01-14T17:17:53.549Z"
   },
   {
    "duration": 203,
    "start_time": "2023-01-14T17:17:53.781Z"
   },
   {
    "duration": 134,
    "start_time": "2023-01-14T17:17:54.441Z"
   },
   {
    "duration": 196,
    "start_time": "2023-01-14T17:17:54.909Z"
   },
   {
    "duration": 291,
    "start_time": "2023-01-14T17:17:55.334Z"
   },
   {
    "duration": 59,
    "start_time": "2023-01-14T17:17:55.885Z"
   },
   {
    "duration": 154,
    "start_time": "2023-01-14T17:18:47.968Z"
   },
   {
    "duration": 22,
    "start_time": "2023-01-14T17:18:52.608Z"
   },
   {
    "duration": 181,
    "start_time": "2023-01-14T17:18:52.797Z"
   },
   {
    "duration": 160,
    "start_time": "2023-01-14T17:18:53.199Z"
   },
   {
    "duration": 11,
    "start_time": "2023-01-14T17:18:53.580Z"
   },
   {
    "duration": 226,
    "start_time": "2023-01-14T17:18:53.770Z"
   },
   {
    "duration": 632,
    "start_time": "2023-01-14T17:18:54.261Z"
   },
   {
    "duration": 26,
    "start_time": "2023-01-14T17:18:54.919Z"
   },
   {
    "duration": 236,
    "start_time": "2023-01-14T17:18:55.208Z"
   },
   {
    "duration": 148,
    "start_time": "2023-01-14T17:18:55.700Z"
   },
   {
    "duration": 201,
    "start_time": "2023-01-14T17:18:56.411Z"
   },
   {
    "duration": 297,
    "start_time": "2023-01-14T17:18:56.888Z"
   },
   {
    "duration": 91,
    "start_time": "2023-01-14T17:18:57.441Z"
   },
   {
    "duration": 4,
    "start_time": "2023-01-14T17:26:17.487Z"
   },
   {
    "duration": 6,
    "start_time": "2023-01-14T17:26:33.899Z"
   },
   {
    "duration": 13,
    "start_time": "2023-01-14T17:28:54.260Z"
   },
   {
    "duration": 7,
    "start_time": "2023-01-14T17:29:15.086Z"
   },
   {
    "duration": 8,
    "start_time": "2023-01-14T17:29:25.387Z"
   },
   {
    "duration": 7,
    "start_time": "2023-01-14T17:29:29.166Z"
   },
   {
    "duration": 5,
    "start_time": "2023-01-14T17:29:31.707Z"
   },
   {
    "duration": 6,
    "start_time": "2023-01-14T17:29:37.548Z"
   },
   {
    "duration": 11,
    "start_time": "2023-01-14T17:30:46.150Z"
   },
   {
    "duration": 6,
    "start_time": "2023-01-14T17:31:29.959Z"
   },
   {
    "duration": 6,
    "start_time": "2023-01-14T17:31:50.581Z"
   },
   {
    "duration": 620,
    "start_time": "2023-01-14T17:33:32.869Z"
   },
   {
    "duration": 623,
    "start_time": "2023-01-14T17:34:10.809Z"
   },
   {
    "duration": 642,
    "start_time": "2023-01-14T17:40:15.514Z"
   },
   {
    "duration": 11,
    "start_time": "2023-01-14T17:50:30.039Z"
   },
   {
    "duration": 10,
    "start_time": "2023-01-14T17:50:49.755Z"
   },
   {
    "duration": 15,
    "start_time": "2023-01-14T17:59:29.411Z"
   },
   {
    "duration": 83,
    "start_time": "2023-01-14T17:59:56.753Z"
   },
   {
    "duration": 9,
    "start_time": "2023-01-14T18:00:09.444Z"
   },
   {
    "duration": 4,
    "start_time": "2023-01-14T18:01:03.182Z"
   },
   {
    "duration": 23,
    "start_time": "2023-01-14T18:01:04.111Z"
   },
   {
    "duration": 7,
    "start_time": "2023-01-14T18:01:04.449Z"
   },
   {
    "duration": 17,
    "start_time": "2023-01-14T18:01:05.132Z"
   },
   {
    "duration": 10,
    "start_time": "2023-01-14T18:01:06.132Z"
   },
   {
    "duration": 6,
    "start_time": "2023-01-14T18:01:40.295Z"
   },
   {
    "duration": 4,
    "start_time": "2023-01-14T18:01:40.981Z"
   },
   {
    "duration": 4,
    "start_time": "2023-01-14T18:01:41.196Z"
   },
   {
    "duration": 10,
    "start_time": "2023-01-14T18:01:41.405Z"
   },
   {
    "duration": 13,
    "start_time": "2023-01-14T18:01:41.580Z"
   },
   {
    "duration": 17,
    "start_time": "2023-01-14T18:01:41.755Z"
   },
   {
    "duration": 7,
    "start_time": "2023-01-14T18:01:42.270Z"
   },
   {
    "duration": 6,
    "start_time": "2023-01-14T18:01:42.344Z"
   },
   {
    "duration": 27,
    "start_time": "2023-01-14T18:01:42.391Z"
   },
   {
    "duration": 93,
    "start_time": "2023-01-14T18:01:42.505Z"
   },
   {
    "duration": 146,
    "start_time": "2023-01-14T18:01:42.600Z"
   },
   {
    "duration": 216,
    "start_time": "2023-01-14T18:01:42.748Z"
   },
   {
    "duration": 24,
    "start_time": "2023-01-14T18:01:42.966Z"
   },
   {
    "duration": 210,
    "start_time": "2023-01-14T18:01:42.992Z"
   },
   {
    "duration": 197,
    "start_time": "2023-01-14T18:01:43.204Z"
   },
   {
    "duration": 157,
    "start_time": "2023-01-14T18:01:43.402Z"
   },
   {
    "duration": 19,
    "start_time": "2023-01-14T18:01:43.561Z"
   },
   {
    "duration": 186,
    "start_time": "2023-01-14T18:01:43.581Z"
   },
   {
    "duration": 148,
    "start_time": "2023-01-14T18:01:43.769Z"
   },
   {
    "duration": 11,
    "start_time": "2023-01-14T18:01:44.349Z"
   },
   {
    "duration": 205,
    "start_time": "2023-01-14T18:01:44.733Z"
   },
   {
    "duration": 161,
    "start_time": "2023-01-14T18:01:45.451Z"
   },
   {
    "duration": 14,
    "start_time": "2023-01-14T18:01:46.536Z"
   },
   {
    "duration": 174,
    "start_time": "2023-01-14T18:01:47.270Z"
   },
   {
    "duration": 144,
    "start_time": "2023-01-14T18:01:48.237Z"
   },
   {
    "duration": 212,
    "start_time": "2023-01-14T18:01:49.082Z"
   },
   {
    "duration": 279,
    "start_time": "2023-01-14T18:01:49.721Z"
   },
   {
    "duration": 67,
    "start_time": "2023-01-14T18:01:50.392Z"
   },
   {
    "duration": 7,
    "start_time": "2023-01-14T18:01:52.232Z"
   },
   {
    "duration": 14,
    "start_time": "2023-01-14T18:01:53.416Z"
   },
   {
    "duration": 6,
    "start_time": "2023-01-14T18:01:54.386Z"
   },
   {
    "duration": 8,
    "start_time": "2023-01-14T18:01:55.021Z"
   },
   {
    "duration": 10,
    "start_time": "2023-01-14T18:01:55.946Z"
   },
   {
    "duration": 9,
    "start_time": "2023-01-14T18:02:12.710Z"
   },
   {
    "duration": 12,
    "start_time": "2023-01-14T18:04:04.069Z"
   },
   {
    "duration": 9,
    "start_time": "2023-01-14T18:08:48.272Z"
   },
   {
    "duration": 380,
    "start_time": "2023-01-14T18:10:40.634Z"
   },
   {
    "duration": 374,
    "start_time": "2023-01-14T18:10:42.911Z"
   },
   {
    "duration": 397,
    "start_time": "2023-01-14T18:10:49.439Z"
   },
   {
    "duration": 1268,
    "start_time": "2023-01-14T18:13:40.473Z"
   },
   {
    "duration": 1235,
    "start_time": "2023-01-14T18:13:56.544Z"
   },
   {
    "duration": 1280,
    "start_time": "2023-01-14T18:14:27.180Z"
   },
   {
    "duration": 1200,
    "start_time": "2023-01-14T18:14:37.570Z"
   },
   {
    "duration": 1315,
    "start_time": "2023-01-14T18:15:03.032Z"
   },
   {
    "duration": 15,
    "start_time": "2023-01-14T18:15:58.937Z"
   },
   {
    "duration": 14,
    "start_time": "2023-01-14T18:16:10.932Z"
   },
   {
    "duration": 14,
    "start_time": "2023-01-14T18:17:37.938Z"
   },
   {
    "duration": 8,
    "start_time": "2023-01-14T18:17:41.908Z"
   },
   {
    "duration": 8,
    "start_time": "2023-01-14T18:22:49.750Z"
   },
   {
    "duration": 8,
    "start_time": "2023-01-14T18:23:03.884Z"
   },
   {
    "duration": 232,
    "start_time": "2023-01-14T18:35:22.550Z"
   },
   {
    "duration": 743,
    "start_time": "2023-01-14T18:48:22.547Z"
   },
   {
    "duration": 261,
    "start_time": "2023-01-14T18:48:44.447Z"
   },
   {
    "duration": 278,
    "start_time": "2023-01-14T18:49:02.747Z"
   },
   {
    "duration": 204,
    "start_time": "2023-01-14T18:49:18.953Z"
   },
   {
    "duration": 283,
    "start_time": "2023-01-14T18:49:28.822Z"
   },
   {
    "duration": 141,
    "start_time": "2023-01-14T18:49:33.658Z"
   },
   {
    "duration": 164,
    "start_time": "2023-01-14T18:49:45.481Z"
   },
   {
    "duration": 202,
    "start_time": "2023-01-14T18:50:34.968Z"
   },
   {
    "duration": 189,
    "start_time": "2023-01-14T18:50:44.780Z"
   },
   {
    "duration": 166,
    "start_time": "2023-01-14T18:50:52.339Z"
   },
   {
    "duration": 169,
    "start_time": "2023-01-14T18:52:11.140Z"
   },
   {
    "duration": 200,
    "start_time": "2023-01-14T18:52:45.802Z"
   },
   {
    "duration": 274,
    "start_time": "2023-01-14T18:53:39.916Z"
   },
   {
    "duration": 143,
    "start_time": "2023-01-14T18:54:16.461Z"
   },
   {
    "duration": 143,
    "start_time": "2023-01-14T18:54:27.359Z"
   },
   {
    "duration": 191,
    "start_time": "2023-01-14T18:54:56.375Z"
   },
   {
    "duration": 181,
    "start_time": "2023-01-14T18:55:03.188Z"
   },
   {
    "duration": 184,
    "start_time": "2023-01-14T18:55:10.473Z"
   },
   {
    "duration": 189,
    "start_time": "2023-01-14T18:55:16.708Z"
   },
   {
    "duration": 196,
    "start_time": "2023-01-14T18:55:23.079Z"
   },
   {
    "duration": 184,
    "start_time": "2023-01-14T18:55:32.487Z"
   },
   {
    "duration": 198,
    "start_time": "2023-01-14T18:55:37.947Z"
   },
   {
    "duration": 177,
    "start_time": "2023-01-14T18:55:56.839Z"
   },
   {
    "duration": 187,
    "start_time": "2023-01-14T18:56:06.502Z"
   },
   {
    "duration": 172,
    "start_time": "2023-01-14T18:56:13.440Z"
   },
   {
    "duration": 180,
    "start_time": "2023-01-14T18:56:26.017Z"
   },
   {
    "duration": 132,
    "start_time": "2023-01-14T18:58:07.462Z"
   },
   {
    "duration": 201,
    "start_time": "2023-01-14T18:58:30.652Z"
   },
   {
    "duration": 182,
    "start_time": "2023-01-14T18:58:46.355Z"
   },
   {
    "duration": 169,
    "start_time": "2023-01-14T18:58:52.447Z"
   },
   {
    "duration": 161,
    "start_time": "2023-01-14T18:58:57.697Z"
   },
   {
    "duration": 21,
    "start_time": "2023-01-14T18:59:22.514Z"
   },
   {
    "duration": 13,
    "start_time": "2023-01-14T18:59:38.739Z"
   },
   {
    "duration": 255,
    "start_time": "2023-01-14T19:00:16.342Z"
   },
   {
    "duration": 288,
    "start_time": "2023-01-14T19:00:35.072Z"
   },
   {
    "duration": 283,
    "start_time": "2023-01-14T19:00:46.652Z"
   },
   {
    "duration": 277,
    "start_time": "2023-01-14T19:00:55.154Z"
   },
   {
    "duration": 252,
    "start_time": "2023-01-14T19:01:15.006Z"
   },
   {
    "duration": 283,
    "start_time": "2023-01-14T19:01:35.189Z"
   },
   {
    "duration": 263,
    "start_time": "2023-01-14T19:01:44.447Z"
   },
   {
    "duration": 874,
    "start_time": "2023-01-14T19:01:48.689Z"
   },
   {
    "duration": 280,
    "start_time": "2023-01-14T19:01:53.449Z"
   },
   {
    "duration": 327,
    "start_time": "2023-01-14T19:02:00.589Z"
   },
   {
    "duration": 385,
    "start_time": "2023-01-14T19:02:24.208Z"
   },
   {
    "duration": 300,
    "start_time": "2023-01-14T19:02:41.374Z"
   },
   {
    "duration": 300,
    "start_time": "2023-01-14T19:02:51.805Z"
   },
   {
    "duration": 270,
    "start_time": "2023-01-14T19:02:58.159Z"
   },
   {
    "duration": 276,
    "start_time": "2023-01-14T19:03:03.506Z"
   },
   {
    "duration": 201,
    "start_time": "2023-01-14T19:03:12.779Z"
   },
   {
    "duration": 182,
    "start_time": "2023-01-14T19:03:20.406Z"
   },
   {
    "duration": 184,
    "start_time": "2023-01-14T19:03:24.684Z"
   },
   {
    "duration": 168,
    "start_time": "2023-01-14T19:03:27.911Z"
   },
   {
    "duration": 172,
    "start_time": "2023-01-14T19:03:40.695Z"
   },
   {
    "duration": 179,
    "start_time": "2023-01-14T19:03:44.460Z"
   },
   {
    "duration": 157,
    "start_time": "2023-01-14T19:03:47.560Z"
   },
   {
    "duration": 154,
    "start_time": "2023-01-14T19:04:28.609Z"
   },
   {
    "duration": 151,
    "start_time": "2023-01-14T19:04:50.507Z"
   },
   {
    "duration": 199,
    "start_time": "2023-01-14T19:06:34.402Z"
   },
   {
    "duration": 214,
    "start_time": "2023-01-14T19:06:39.460Z"
   },
   {
    "duration": 188,
    "start_time": "2023-01-14T19:06:43.219Z"
   },
   {
    "duration": 318,
    "start_time": "2023-01-14T19:07:24.957Z"
   },
   {
    "duration": 308,
    "start_time": "2023-01-14T19:07:35.129Z"
   },
   {
    "duration": 280,
    "start_time": "2023-01-14T19:07:46.902Z"
   },
   {
    "duration": 255,
    "start_time": "2023-01-14T19:07:55.223Z"
   },
   {
    "duration": 295,
    "start_time": "2023-01-14T19:08:11.215Z"
   },
   {
    "duration": 272,
    "start_time": "2023-01-14T19:08:26.055Z"
   },
   {
    "duration": 428,
    "start_time": "2023-01-14T19:08:31.038Z"
   },
   {
    "duration": 292,
    "start_time": "2023-01-14T19:08:45.893Z"
   },
   {
    "duration": 255,
    "start_time": "2023-01-14T19:08:52.511Z"
   },
   {
    "duration": 158,
    "start_time": "2023-01-14T19:24:20.621Z"
   },
   {
    "duration": 155,
    "start_time": "2023-01-14T19:24:21.560Z"
   },
   {
    "duration": 171,
    "start_time": "2023-01-14T19:24:22.787Z"
   },
   {
    "duration": 153,
    "start_time": "2023-01-14T20:05:54.940Z"
   },
   {
    "duration": 150,
    "start_time": "2023-01-14T20:05:55.095Z"
   },
   {
    "duration": 130,
    "start_time": "2023-01-14T20:05:55.249Z"
   },
   {
    "duration": 2562,
    "start_time": "2023-01-14T20:06:00.006Z"
   },
   {
    "duration": 13,
    "start_time": "2023-01-14T20:07:39.280Z"
   },
   {
    "duration": 130,
    "start_time": "2023-01-14T20:07:58.239Z"
   },
   {
    "duration": 17,
    "start_time": "2023-01-14T20:07:58.520Z"
   },
   {
    "duration": 2051,
    "start_time": "2023-01-14T20:07:59.941Z"
   },
   {
    "duration": 10,
    "start_time": "2023-01-14T20:08:01.994Z"
   },
   {
    "duration": 28,
    "start_time": "2023-01-14T20:08:02.006Z"
   },
   {
    "duration": 20,
    "start_time": "2023-01-14T20:08:02.036Z"
   },
   {
    "duration": 24,
    "start_time": "2023-01-14T20:08:02.058Z"
   },
   {
    "duration": 21,
    "start_time": "2023-01-14T20:08:02.084Z"
   },
   {
    "duration": 23,
    "start_time": "2023-01-14T20:08:02.107Z"
   },
   {
    "duration": 12,
    "start_time": "2023-01-14T20:08:02.133Z"
   },
   {
    "duration": 14,
    "start_time": "2023-01-14T20:08:02.147Z"
   },
   {
    "duration": 10,
    "start_time": "2023-01-14T20:08:02.162Z"
   },
   {
    "duration": 28,
    "start_time": "2023-01-14T20:08:02.173Z"
   },
   {
    "duration": 10,
    "start_time": "2023-01-14T20:08:02.203Z"
   },
   {
    "duration": 20,
    "start_time": "2023-01-14T20:08:02.215Z"
   },
   {
    "duration": 27,
    "start_time": "2023-01-14T20:08:02.238Z"
   },
   {
    "duration": 0,
    "start_time": "2023-01-14T20:08:02.266Z"
   },
   {
    "duration": 0,
    "start_time": "2023-01-14T20:08:02.268Z"
   },
   {
    "duration": 0,
    "start_time": "2023-01-14T20:08:02.269Z"
   },
   {
    "duration": 83,
    "start_time": "2023-01-14T20:08:03.453Z"
   },
   {
    "duration": 3,
    "start_time": "2023-01-14T20:08:49.879Z"
   },
   {
    "duration": 10,
    "start_time": "2023-01-14T20:08:51.948Z"
   },
   {
    "duration": 4,
    "start_time": "2023-01-14T20:09:18.739Z"
   },
   {
    "duration": 5,
    "start_time": "2023-01-14T20:09:19.065Z"
   },
   {
    "duration": 17,
    "start_time": "2023-01-14T20:09:19.298Z"
   },
   {
    "duration": 14,
    "start_time": "2023-01-14T20:09:19.518Z"
   },
   {
    "duration": 8,
    "start_time": "2023-01-14T20:09:20.279Z"
   },
   {
    "duration": 5,
    "start_time": "2023-01-14T20:09:50.866Z"
   },
   {
    "duration": 37,
    "start_time": "2023-01-14T20:09:51.828Z"
   },
   {
    "duration": 98,
    "start_time": "2023-01-14T20:09:55.678Z"
   },
   {
    "duration": 138,
    "start_time": "2023-01-14T20:09:59.305Z"
   },
   {
    "duration": 206,
    "start_time": "2023-01-14T20:10:02.866Z"
   },
   {
    "duration": 22,
    "start_time": "2023-01-14T20:10:03.074Z"
   },
   {
    "duration": 239,
    "start_time": "2023-01-14T20:10:03.098Z"
   },
   {
    "duration": 211,
    "start_time": "2023-01-14T20:10:03.339Z"
   },
   {
    "duration": 153,
    "start_time": "2023-01-14T20:10:03.552Z"
   },
   {
    "duration": 21,
    "start_time": "2023-01-14T20:10:03.970Z"
   },
   {
    "duration": 183,
    "start_time": "2023-01-14T20:10:04.358Z"
   },
   {
    "duration": 143,
    "start_time": "2023-01-14T20:10:04.970Z"
   },
   {
    "duration": 11,
    "start_time": "2023-01-14T20:10:05.236Z"
   },
   {
    "duration": 229,
    "start_time": "2023-01-14T20:10:05.416Z"
   },
   {
    "duration": 166,
    "start_time": "2023-01-14T20:10:05.858Z"
   },
   {
    "duration": 18,
    "start_time": "2023-01-14T20:10:06.098Z"
   },
   {
    "duration": 183,
    "start_time": "2023-01-14T20:10:06.275Z"
   },
   {
    "duration": 136,
    "start_time": "2023-01-14T20:10:06.981Z"
   },
   {
    "duration": 185,
    "start_time": "2023-01-14T20:10:07.123Z"
   },
   {
    "duration": 285,
    "start_time": "2023-01-14T20:10:07.639Z"
   },
   {
    "duration": 47,
    "start_time": "2023-01-14T20:10:08.039Z"
   },
   {
    "duration": 7,
    "start_time": "2023-01-14T20:10:09.495Z"
   },
   {
    "duration": 10,
    "start_time": "2023-01-14T20:10:10.418Z"
   },
   {
    "duration": 6,
    "start_time": "2023-01-14T20:10:10.938Z"
   },
   {
    "duration": 6,
    "start_time": "2023-01-14T20:10:12.057Z"
   },
   {
    "duration": 371,
    "start_time": "2023-01-14T20:10:12.065Z"
   },
   {
    "duration": 7,
    "start_time": "2023-01-14T20:10:12.438Z"
   },
   {
    "duration": 130,
    "start_time": "2023-01-14T20:10:13.037Z"
   },
   {
    "duration": 137,
    "start_time": "2023-01-14T20:10:13.498Z"
   },
   {
    "duration": 151,
    "start_time": "2023-01-14T20:10:13.857Z"
   },
   {
    "duration": 251,
    "start_time": "2023-01-14T20:10:15.162Z"
   },
   {
    "duration": 152,
    "start_time": "2023-01-14T20:10:15.415Z"
   },
   {
    "duration": 205,
    "start_time": "2023-01-14T20:10:15.568Z"
   },
   {
    "duration": 196,
    "start_time": "2023-01-14T20:10:15.775Z"
   },
   {
    "duration": 139,
    "start_time": "2023-01-14T20:10:15.973Z"
   },
   {
    "duration": 161,
    "start_time": "2023-01-14T20:10:16.803Z"
   },
   {
    "duration": 198,
    "start_time": "2023-01-14T20:10:17.266Z"
   },
   {
    "duration": 266,
    "start_time": "2023-01-14T20:10:18.217Z"
   },
   {
    "duration": 164,
    "start_time": "2023-01-14T20:10:18.485Z"
   },
   {
    "duration": 156,
    "start_time": "2023-01-14T20:10:18.652Z"
   },
   {
    "duration": 147,
    "start_time": "2023-01-14T20:10:18.965Z"
   },
   {
    "duration": 251,
    "start_time": "2023-01-14T20:12:23.404Z"
   },
   {
    "duration": 267,
    "start_time": "2023-01-14T20:12:32.933Z"
   },
   {
    "duration": 173,
    "start_time": "2023-01-14T20:12:46.172Z"
   },
   {
    "duration": 171,
    "start_time": "2023-01-14T20:13:11.164Z"
   },
   {
    "duration": 194,
    "start_time": "2023-01-14T20:13:21.845Z"
   },
   {
    "duration": 74,
    "start_time": "2023-01-14T20:13:52.443Z"
   },
   {
    "duration": 0,
    "start_time": "2023-01-14T20:14:06.877Z"
   },
   {
    "duration": 75,
    "start_time": "2023-01-14T20:14:20.376Z"
   },
   {
    "duration": 191,
    "start_time": "2023-01-14T20:14:37.306Z"
   },
   {
    "duration": 171,
    "start_time": "2023-01-14T20:15:14.943Z"
   },
   {
    "duration": 182,
    "start_time": "2023-01-14T20:15:22.763Z"
   },
   {
    "duration": 202,
    "start_time": "2023-01-14T20:15:26.503Z"
   },
   {
    "duration": 178,
    "start_time": "2023-01-14T20:15:29.662Z"
   },
   {
    "duration": 246,
    "start_time": "2023-01-14T20:19:56.022Z"
   },
   {
    "duration": 964,
    "start_time": "2023-01-14T20:21:07.248Z"
   },
   {
    "duration": 180,
    "start_time": "2023-01-14T20:22:04.888Z"
   },
   {
    "duration": 169,
    "start_time": "2023-01-14T20:22:10.332Z"
   },
   {
    "duration": 249,
    "start_time": "2023-01-14T20:23:44.918Z"
   },
   {
    "duration": 340,
    "start_time": "2023-01-14T20:23:54.016Z"
   },
   {
    "duration": 286,
    "start_time": "2023-01-14T20:24:55.809Z"
   },
   {
    "duration": 272,
    "start_time": "2023-01-14T20:25:01.601Z"
   },
   {
    "duration": 387,
    "start_time": "2023-01-14T20:26:21.514Z"
   },
   {
    "duration": 371,
    "start_time": "2023-01-14T20:26:42.148Z"
   },
   {
    "duration": 379,
    "start_time": "2023-01-14T20:28:27.459Z"
   },
   {
    "duration": 247,
    "start_time": "2023-01-14T20:28:44.346Z"
   },
   {
    "duration": 264,
    "start_time": "2023-01-14T20:28:50.813Z"
   },
   {
    "duration": 17,
    "start_time": "2023-01-14T20:29:15.823Z"
   },
   {
    "duration": 10,
    "start_time": "2023-01-14T20:29:18.587Z"
   },
   {
    "duration": 9,
    "start_time": "2023-01-14T20:29:21.036Z"
   },
   {
    "duration": 9,
    "start_time": "2023-01-14T20:29:53.887Z"
   },
   {
    "duration": 9,
    "start_time": "2023-01-14T20:30:28.059Z"
   },
   {
    "duration": 10,
    "start_time": "2023-01-14T20:31:38.279Z"
   },
   {
    "duration": 14,
    "start_time": "2023-01-14T20:31:48.340Z"
   },
   {
    "duration": 21,
    "start_time": "2023-01-14T20:32:11.505Z"
   },
   {
    "duration": 10,
    "start_time": "2023-01-14T20:32:46.469Z"
   },
   {
    "duration": 12,
    "start_time": "2023-01-14T20:32:48.741Z"
   },
   {
    "duration": 13,
    "start_time": "2023-01-14T20:32:54.279Z"
   },
   {
    "duration": 204,
    "start_time": "2023-01-14T20:33:04.265Z"
   },
   {
    "duration": 9,
    "start_time": "2023-01-14T20:35:44.165Z"
   },
   {
    "duration": 183,
    "start_time": "2023-01-14T20:36:11.920Z"
   },
   {
    "duration": 173,
    "start_time": "2023-01-14T20:36:33.404Z"
   },
   {
    "duration": 129,
    "start_time": "2023-01-14T20:38:30.750Z"
   },
   {
    "duration": 13,
    "start_time": "2023-01-14T20:38:31.487Z"
   },
   {
    "duration": 1852,
    "start_time": "2023-01-14T20:38:31.562Z"
   },
   {
    "duration": 18,
    "start_time": "2023-01-14T20:38:33.416Z"
   },
   {
    "duration": 14,
    "start_time": "2023-01-14T20:38:33.436Z"
   },
   {
    "duration": 24,
    "start_time": "2023-01-14T20:38:33.452Z"
   },
   {
    "duration": 30,
    "start_time": "2023-01-14T20:38:33.477Z"
   },
   {
    "duration": 7,
    "start_time": "2023-01-14T20:38:33.665Z"
   },
   {
    "duration": 11,
    "start_time": "2023-01-14T20:38:33.815Z"
   },
   {
    "duration": 10,
    "start_time": "2023-01-14T20:38:34.032Z"
   },
   {
    "duration": 11,
    "start_time": "2023-01-14T20:38:34.432Z"
   },
   {
    "duration": 4,
    "start_time": "2023-01-14T20:38:34.885Z"
   },
   {
    "duration": 5,
    "start_time": "2023-01-14T20:38:35.065Z"
   },
   {
    "duration": 7,
    "start_time": "2023-01-14T20:38:35.267Z"
   },
   {
    "duration": 6,
    "start_time": "2023-01-14T20:38:35.495Z"
   },
   {
    "duration": 8,
    "start_time": "2023-01-14T20:38:35.667Z"
   },
   {
    "duration": 6,
    "start_time": "2023-01-14T20:38:36.077Z"
   },
   {
    "duration": 25,
    "start_time": "2023-01-14T20:38:36.274Z"
   },
   {
    "duration": 73,
    "start_time": "2023-01-14T20:38:37.147Z"
   },
   {
    "duration": 155,
    "start_time": "2023-01-14T20:38:37.796Z"
   },
   {
    "duration": 205,
    "start_time": "2023-01-14T20:38:38.244Z"
   },
   {
    "duration": 20,
    "start_time": "2023-01-14T20:38:38.458Z"
   },
   {
    "duration": 185,
    "start_time": "2023-01-14T20:38:38.696Z"
   },
   {
    "duration": 168,
    "start_time": "2023-01-14T20:38:39.143Z"
   },
   {
    "duration": 138,
    "start_time": "2023-01-14T20:38:39.603Z"
   },
   {
    "duration": 18,
    "start_time": "2023-01-14T20:38:40.184Z"
   },
   {
    "duration": 153,
    "start_time": "2023-01-14T20:38:40.405Z"
   },
   {
    "duration": 142,
    "start_time": "2023-01-14T20:38:40.775Z"
   },
   {
    "duration": 16,
    "start_time": "2023-01-14T20:38:41.219Z"
   },
   {
    "duration": 203,
    "start_time": "2023-01-14T20:38:41.394Z"
   },
   {
    "duration": 179,
    "start_time": "2023-01-14T20:38:41.799Z"
   },
   {
    "duration": 26,
    "start_time": "2023-01-14T20:38:42.217Z"
   },
   {
    "duration": 170,
    "start_time": "2023-01-14T20:38:42.402Z"
   },
   {
    "duration": 124,
    "start_time": "2023-01-14T20:38:42.763Z"
   },
   {
    "duration": 179,
    "start_time": "2023-01-14T20:38:43.347Z"
   },
   {
    "duration": 257,
    "start_time": "2023-01-14T20:38:43.536Z"
   },
   {
    "duration": 61,
    "start_time": "2023-01-14T20:38:43.795Z"
   },
   {
    "duration": 7,
    "start_time": "2023-01-14T20:38:43.858Z"
   },
   {
    "duration": 39,
    "start_time": "2023-01-14T20:38:43.867Z"
   },
   {
    "duration": 32,
    "start_time": "2023-01-14T20:38:43.908Z"
   },
   {
    "duration": 32,
    "start_time": "2023-01-14T20:38:43.942Z"
   },
   {
    "duration": 381,
    "start_time": "2023-01-14T20:38:44.206Z"
   },
   {
    "duration": 7,
    "start_time": "2023-01-14T20:38:44.591Z"
   },
   {
    "duration": 131,
    "start_time": "2023-01-14T20:38:45.372Z"
   },
   {
    "duration": 146,
    "start_time": "2023-01-14T20:38:45.736Z"
   },
   {
    "duration": 168,
    "start_time": "2023-01-14T20:38:46.125Z"
   },
   {
    "duration": 248,
    "start_time": "2023-01-14T20:38:46.513Z"
   },
   {
    "duration": 140,
    "start_time": "2023-01-14T20:38:47.216Z"
   },
   {
    "duration": 165,
    "start_time": "2023-01-14T20:38:47.655Z"
   },
   {
    "duration": 161,
    "start_time": "2023-01-14T20:38:48.056Z"
   },
   {
    "duration": 117,
    "start_time": "2023-01-14T20:38:48.482Z"
   },
   {
    "duration": 156,
    "start_time": "2023-01-14T20:38:48.964Z"
   },
   {
    "duration": 193,
    "start_time": "2023-01-14T20:38:49.381Z"
   },
   {
    "duration": 245,
    "start_time": "2023-01-14T20:38:49.868Z"
   },
   {
    "duration": 144,
    "start_time": "2023-01-14T20:38:50.337Z"
   },
   {
    "duration": 150,
    "start_time": "2023-01-14T20:38:50.791Z"
   },
   {
    "duration": 128,
    "start_time": "2023-01-14T20:38:51.069Z"
   },
   {
    "duration": 188,
    "start_time": "2023-01-14T20:38:51.484Z"
   },
   {
    "duration": 265,
    "start_time": "2023-01-14T20:38:52.916Z"
   },
   {
    "duration": 10,
    "start_time": "2023-01-14T20:38:53.463Z"
   },
   {
    "duration": 165,
    "start_time": "2023-01-14T20:39:05.244Z"
   },
   {
    "duration": 1029,
    "start_time": "2023-01-14T20:39:11.567Z"
   },
   {
    "duration": 7,
    "start_time": "2023-01-14T20:39:21.494Z"
   },
   {
    "duration": 213,
    "start_time": "2023-01-14T20:40:01.925Z"
   },
   {
    "duration": 263,
    "start_time": "2023-01-14T20:40:44.019Z"
   },
   {
    "duration": 254,
    "start_time": "2023-01-14T20:40:58.263Z"
   },
   {
    "duration": 246,
    "start_time": "2023-01-14T20:41:01.937Z"
   },
   {
    "duration": 19,
    "start_time": "2023-01-14T20:42:10.722Z"
   },
   {
    "duration": 14,
    "start_time": "2023-01-14T20:42:53.142Z"
   },
   {
    "duration": 15,
    "start_time": "2023-01-14T20:42:57.662Z"
   },
   {
    "duration": 16,
    "start_time": "2023-01-14T20:43:30.042Z"
   },
   {
    "duration": 16,
    "start_time": "2023-01-14T20:43:38.702Z"
   },
   {
    "duration": 16,
    "start_time": "2023-01-14T20:43:49.961Z"
   },
   {
    "duration": 19,
    "start_time": "2023-01-14T20:44:30.254Z"
   },
   {
    "duration": 15,
    "start_time": "2023-01-14T20:44:38.584Z"
   },
   {
    "duration": 22,
    "start_time": "2023-01-14T20:44:43.214Z"
   },
   {
    "duration": 16,
    "start_time": "2023-01-14T20:44:53.090Z"
   },
   {
    "duration": 16,
    "start_time": "2023-01-14T20:44:58.483Z"
   },
   {
    "duration": 15,
    "start_time": "2023-01-14T20:45:02.480Z"
   },
   {
    "duration": 16,
    "start_time": "2023-01-14T20:45:10.962Z"
   },
   {
    "duration": 17,
    "start_time": "2023-01-14T20:45:15.184Z"
   },
   {
    "duration": 16,
    "start_time": "2023-01-14T20:45:19.155Z"
   },
   {
    "duration": 16,
    "start_time": "2023-01-14T20:45:24.467Z"
   },
   {
    "duration": 19,
    "start_time": "2023-01-14T20:45:28.392Z"
   },
   {
    "duration": 17,
    "start_time": "2023-01-14T20:45:32.236Z"
   },
   {
    "duration": 18,
    "start_time": "2023-01-14T20:45:35.368Z"
   },
   {
    "duration": 171,
    "start_time": "2023-01-14T20:45:59.662Z"
   },
   {
    "duration": 150,
    "start_time": "2023-01-14T20:46:22.536Z"
   },
   {
    "duration": 172,
    "start_time": "2023-01-14T20:46:32.421Z"
   },
   {
    "duration": 156,
    "start_time": "2023-01-14T20:46:40.681Z"
   },
   {
    "duration": 158,
    "start_time": "2023-01-14T20:46:46.947Z"
   },
   {
    "duration": 151,
    "start_time": "2023-01-14T20:46:54.945Z"
   },
   {
    "duration": 17,
    "start_time": "2023-01-14T20:47:09.553Z"
   },
   {
    "duration": 16,
    "start_time": "2023-01-14T20:47:36.056Z"
   },
   {
    "duration": 17,
    "start_time": "2023-01-14T20:47:47.589Z"
   },
   {
    "duration": 17,
    "start_time": "2023-01-14T20:47:58.082Z"
   },
   {
    "duration": 18,
    "start_time": "2023-01-14T20:48:24.596Z"
   },
   {
    "duration": 21,
    "start_time": "2023-01-14T20:50:18.821Z"
   },
   {
    "duration": 140,
    "start_time": "2023-01-14T20:51:47.949Z"
   },
   {
    "duration": 130,
    "start_time": "2023-01-14T20:52:11.269Z"
   },
   {
    "duration": 129,
    "start_time": "2023-01-14T20:52:20.469Z"
   },
   {
    "duration": 17,
    "start_time": "2023-01-14T20:52:36.544Z"
   },
   {
    "duration": 17,
    "start_time": "2023-01-14T20:54:25.583Z"
   },
   {
    "duration": 19,
    "start_time": "2023-01-14T20:54:44.071Z"
   },
   {
    "duration": 17,
    "start_time": "2023-01-14T20:54:47.195Z"
   },
   {
    "duration": 18,
    "start_time": "2023-01-14T20:54:57.279Z"
   },
   {
    "duration": 17,
    "start_time": "2023-01-14T20:55:01.964Z"
   },
   {
    "duration": 21,
    "start_time": "2023-01-14T20:55:15.633Z"
   },
   {
    "duration": 17,
    "start_time": "2023-01-14T20:55:27.259Z"
   },
   {
    "duration": 21,
    "start_time": "2023-01-14T20:55:51.236Z"
   },
   {
    "duration": 132,
    "start_time": "2023-01-14T20:57:09.432Z"
   },
   {
    "duration": 78,
    "start_time": "2023-01-14T20:57:16.218Z"
   },
   {
    "duration": 125,
    "start_time": "2023-01-14T20:57:22.065Z"
   },
   {
    "duration": 146,
    "start_time": "2023-01-14T20:57:38.353Z"
   },
   {
    "duration": 161,
    "start_time": "2023-01-14T20:57:48.619Z"
   },
   {
    "duration": 15,
    "start_time": "2023-01-14T20:58:06.070Z"
   },
   {
    "duration": 156,
    "start_time": "2023-01-14T20:58:19.585Z"
   },
   {
    "duration": 645,
    "start_time": "2023-01-14T20:59:54.373Z"
   },
   {
    "duration": 10,
    "start_time": "2023-01-14T21:00:19.303Z"
   },
   {
    "duration": 122,
    "start_time": "2023-01-14T21:00:29.459Z"
   },
   {
    "duration": 134,
    "start_time": "2023-01-14T21:02:08.555Z"
   },
   {
    "duration": 151,
    "start_time": "2023-01-14T21:02:38.898Z"
   },
   {
    "duration": 130,
    "start_time": "2023-01-14T21:02:48.111Z"
   },
   {
    "duration": 133,
    "start_time": "2023-01-14T21:03:10.366Z"
   },
   {
    "duration": 15,
    "start_time": "2023-01-14T21:03:20.584Z"
   },
   {
    "duration": 72,
    "start_time": "2023-01-14T21:03:42.351Z"
   },
   {
    "duration": 74,
    "start_time": "2023-01-14T21:03:47.604Z"
   },
   {
    "duration": 134,
    "start_time": "2023-01-14T21:03:52.225Z"
   },
   {
    "duration": 122,
    "start_time": "2023-01-14T21:03:58.797Z"
   },
   {
    "duration": 137,
    "start_time": "2023-01-14T21:04:10.567Z"
   },
   {
    "duration": 137,
    "start_time": "2023-01-14T21:04:22.004Z"
   },
   {
    "duration": 134,
    "start_time": "2023-01-14T21:04:30.488Z"
   },
   {
    "duration": 125,
    "start_time": "2023-01-14T21:04:39.608Z"
   },
   {
    "duration": 112,
    "start_time": "2023-01-14T21:04:48.278Z"
   },
   {
    "duration": 127,
    "start_time": "2023-01-14T21:04:55.431Z"
   },
   {
    "duration": 1106,
    "start_time": "2023-01-14T21:14:46.809Z"
   },
   {
    "duration": 345,
    "start_time": "2023-01-14T21:16:47.650Z"
   },
   {
    "duration": 344,
    "start_time": "2023-01-14T21:23:58.973Z"
   },
   {
    "duration": 9,
    "start_time": "2023-01-14T21:24:17.051Z"
   },
   {
    "duration": 322,
    "start_time": "2023-01-14T21:24:30.501Z"
   },
   {
    "duration": 298,
    "start_time": "2023-01-14T21:24:49.924Z"
   },
   {
    "duration": 353,
    "start_time": "2023-01-14T21:25:06.630Z"
   },
   {
    "duration": 1153,
    "start_time": "2023-01-14T21:25:34.017Z"
   },
   {
    "duration": 12,
    "start_time": "2023-01-14T21:26:10.011Z"
   },
   {
    "duration": 12,
    "start_time": "2023-01-14T21:28:26.546Z"
   },
   {
    "duration": 7,
    "start_time": "2023-01-14T21:33:28.810Z"
   },
   {
    "duration": 9,
    "start_time": "2023-01-14T21:33:36.507Z"
   },
   {
    "duration": 167,
    "start_time": "2023-01-14T21:36:39.030Z"
   },
   {
    "duration": 174,
    "start_time": "2023-01-14T21:36:54.725Z"
   },
   {
    "duration": 182,
    "start_time": "2023-01-14T21:37:13.891Z"
   },
   {
    "duration": 232,
    "start_time": "2023-01-14T21:37:54.070Z"
   },
   {
    "duration": 1299,
    "start_time": "2023-01-14T21:38:33.851Z"
   },
   {
    "duration": 190,
    "start_time": "2023-01-14T21:38:40.867Z"
   },
   {
    "duration": 1246,
    "start_time": "2023-01-14T21:38:58.291Z"
   },
   {
    "duration": 175,
    "start_time": "2023-01-14T21:39:04.304Z"
   },
   {
    "duration": 344,
    "start_time": "2023-01-14T21:39:35.561Z"
   },
   {
    "duration": 321,
    "start_time": "2023-01-14T21:41:28.063Z"
   },
   {
    "duration": 368,
    "start_time": "2023-01-14T21:42:03.522Z"
   },
   {
    "duration": 348,
    "start_time": "2023-01-14T21:43:05.308Z"
   },
   {
    "duration": 181,
    "start_time": "2023-01-14T21:43:12.402Z"
   },
   {
    "duration": 148,
    "start_time": "2023-01-14T21:43:21.660Z"
   },
   {
    "duration": 153,
    "start_time": "2023-01-14T21:44:44.354Z"
   },
   {
    "duration": 127,
    "start_time": "2023-01-14T21:44:51.520Z"
   },
   {
    "duration": 154,
    "start_time": "2023-01-14T21:45:00.454Z"
   },
   {
    "duration": 149,
    "start_time": "2023-01-14T21:45:12.094Z"
   },
   {
    "duration": 173,
    "start_time": "2023-01-14T21:45:21.440Z"
   },
   {
    "duration": 151,
    "start_time": "2023-01-14T21:45:38.589Z"
   },
   {
    "duration": 152,
    "start_time": "2023-01-14T21:45:49.594Z"
   },
   {
    "duration": 170,
    "start_time": "2023-01-14T21:46:30.779Z"
   },
   {
    "duration": 209,
    "start_time": "2023-01-14T21:46:44.140Z"
   },
   {
    "duration": 157,
    "start_time": "2023-01-14T21:46:51.335Z"
   },
   {
    "duration": 7,
    "start_time": "2023-01-14T21:47:42.075Z"
   },
   {
    "duration": 0,
    "start_time": "2023-01-14T22:02:37.576Z"
   },
   {
    "duration": 0,
    "start_time": "2023-01-14T22:02:37.578Z"
   },
   {
    "duration": 0,
    "start_time": "2023-01-14T22:02:37.622Z"
   },
   {
    "duration": 0,
    "start_time": "2023-01-14T22:02:37.624Z"
   },
   {
    "duration": 16,
    "start_time": "2023-01-14T22:02:50.855Z"
   },
   {
    "duration": 123,
    "start_time": "2023-01-14T22:02:59.435Z"
   },
   {
    "duration": 15,
    "start_time": "2023-01-14T22:03:00.037Z"
   },
   {
    "duration": 1834,
    "start_time": "2023-01-14T22:03:00.639Z"
   },
   {
    "duration": 9,
    "start_time": "2023-01-14T22:03:02.476Z"
   },
   {
    "duration": 117,
    "start_time": "2023-01-14T22:03:48.841Z"
   },
   {
    "duration": 120,
    "start_time": "2023-01-14T22:03:55.164Z"
   },
   {
    "duration": 123,
    "start_time": "2023-01-14T22:22:32.257Z"
   },
   {
    "duration": 17,
    "start_time": "2023-01-14T22:22:32.874Z"
   },
   {
    "duration": 1830,
    "start_time": "2023-01-14T22:22:33.746Z"
   },
   {
    "duration": 9,
    "start_time": "2023-01-14T22:22:35.578Z"
   },
   {
    "duration": 6,
    "start_time": "2023-01-14T22:22:36.305Z"
   },
   {
    "duration": 4,
    "start_time": "2023-01-14T22:22:36.799Z"
   },
   {
    "duration": 5,
    "start_time": "2023-01-14T22:22:37.190Z"
   },
   {
    "duration": 7,
    "start_time": "2023-01-14T22:22:37.674Z"
   },
   {
    "duration": 8,
    "start_time": "2023-01-14T22:22:38.120Z"
   },
   {
    "duration": 9,
    "start_time": "2023-01-14T22:22:38.581Z"
   },
   {
    "duration": 6,
    "start_time": "2023-01-14T22:22:43.010Z"
   },
   {
    "duration": 5,
    "start_time": "2023-01-14T22:22:43.710Z"
   },
   {
    "duration": 4,
    "start_time": "2023-01-14T22:22:43.951Z"
   },
   {
    "duration": 9,
    "start_time": "2023-01-14T22:22:44.156Z"
   },
   {
    "duration": 6,
    "start_time": "2023-01-14T22:22:44.338Z"
   },
   {
    "duration": 8,
    "start_time": "2023-01-14T22:22:44.543Z"
   },
   {
    "duration": 6,
    "start_time": "2023-01-14T22:22:44.874Z"
   },
   {
    "duration": 25,
    "start_time": "2023-01-14T22:22:45.038Z"
   },
   {
    "duration": 103,
    "start_time": "2023-01-14T22:22:45.824Z"
   },
   {
    "duration": 143,
    "start_time": "2023-01-14T22:22:46.423Z"
   },
   {
    "duration": 206,
    "start_time": "2023-01-14T22:22:46.845Z"
   },
   {
    "duration": 23,
    "start_time": "2023-01-14T22:22:47.252Z"
   },
   {
    "duration": 175,
    "start_time": "2023-01-14T22:22:48.067Z"
   },
   {
    "duration": 205,
    "start_time": "2023-01-14T22:22:48.929Z"
   },
   {
    "duration": 156,
    "start_time": "2023-01-14T22:22:49.499Z"
   },
   {
    "duration": 20,
    "start_time": "2023-01-14T22:22:50.196Z"
   },
   {
    "duration": 156,
    "start_time": "2023-01-14T22:22:50.546Z"
   },
   {
    "duration": 156,
    "start_time": "2023-01-14T22:22:51.518Z"
   },
   {
    "duration": 14,
    "start_time": "2023-01-14T22:22:52.601Z"
   },
   {
    "duration": 192,
    "start_time": "2023-01-14T22:22:53.014Z"
   },
   {
    "duration": 176,
    "start_time": "2023-01-14T22:22:53.952Z"
   },
   {
    "duration": 14,
    "start_time": "2023-01-14T22:22:54.967Z"
   },
   {
    "duration": 175,
    "start_time": "2023-01-14T22:22:55.395Z"
   },
   {
    "duration": 126,
    "start_time": "2023-01-14T22:22:56.641Z"
   },
   {
    "duration": 204,
    "start_time": "2023-01-14T22:22:57.648Z"
   },
   {
    "duration": 251,
    "start_time": "2023-01-14T22:22:58.295Z"
   },
   {
    "duration": 46,
    "start_time": "2023-01-14T22:22:59.236Z"
   },
   {
    "duration": 8,
    "start_time": "2023-01-14T22:23:00.295Z"
   },
   {
    "duration": 9,
    "start_time": "2023-01-14T22:23:01.095Z"
   },
   {
    "duration": 5,
    "start_time": "2023-01-14T22:23:01.932Z"
   },
   {
    "duration": 5,
    "start_time": "2023-01-14T22:23:02.704Z"
   },
   {
    "duration": 354,
    "start_time": "2023-01-14T22:23:03.521Z"
   },
   {
    "duration": 9,
    "start_time": "2023-01-14T22:23:04.595Z"
   },
   {
    "duration": 134,
    "start_time": "2023-01-14T22:23:06.165Z"
   },
   {
    "duration": 135,
    "start_time": "2023-01-14T22:23:07.021Z"
   },
   {
    "duration": 164,
    "start_time": "2023-01-14T22:23:08.313Z"
   },
   {
    "duration": 249,
    "start_time": "2023-01-14T22:23:09.299Z"
   },
   {
    "duration": 147,
    "start_time": "2023-01-14T22:23:10.418Z"
   },
   {
    "duration": 174,
    "start_time": "2023-01-14T22:23:11.609Z"
   },
   {
    "duration": 143,
    "start_time": "2023-01-14T22:23:13.410Z"
   },
   {
    "duration": 150,
    "start_time": "2023-01-14T22:23:14.766Z"
   },
   {
    "duration": 135,
    "start_time": "2023-01-14T22:23:15.578Z"
   },
   {
    "duration": 187,
    "start_time": "2023-01-14T22:23:16.152Z"
   },
   {
    "duration": 229,
    "start_time": "2023-01-14T22:23:17.095Z"
   },
   {
    "duration": 152,
    "start_time": "2023-01-14T22:23:17.782Z"
   },
   {
    "duration": 137,
    "start_time": "2023-01-14T22:23:18.868Z"
   },
   {
    "duration": 141,
    "start_time": "2023-01-14T22:23:19.318Z"
   },
   {
    "duration": 168,
    "start_time": "2023-01-14T22:23:20.332Z"
   },
   {
    "duration": 205,
    "start_time": "2023-01-14T22:23:20.917Z"
   },
   {
    "duration": 237,
    "start_time": "2023-01-14T22:23:21.360Z"
   },
   {
    "duration": 156,
    "start_time": "2023-01-14T22:23:21.956Z"
   },
   {
    "duration": 122,
    "start_time": "2023-01-14T22:23:22.462Z"
   },
   {
    "duration": 130,
    "start_time": "2023-01-14T22:23:23.143Z"
   },
   {
    "duration": 118,
    "start_time": "2023-01-14T22:23:23.611Z"
   },
   {
    "duration": 18,
    "start_time": "2023-01-14T22:23:24.003Z"
   },
   {
    "duration": 300,
    "start_time": "2023-01-14T22:24:34.195Z"
   },
   {
    "duration": 11,
    "start_time": "2023-01-14T22:24:34.703Z"
   },
   {
    "duration": 175,
    "start_time": "2023-01-14T22:24:39.713Z"
   },
   {
    "duration": 192,
    "start_time": "2023-01-14T22:24:40.204Z"
   },
   {
    "duration": 178,
    "start_time": "2023-01-14T22:24:41.332Z"
   },
   {
    "duration": 168,
    "start_time": "2023-01-14T22:24:42.212Z"
   },
   {
    "duration": 133,
    "start_time": "2023-01-14T22:24:43.173Z"
   },
   {
    "duration": 191,
    "start_time": "2023-01-14T22:25:57.646Z"
   },
   {
    "duration": 137,
    "start_time": "2023-01-14T22:26:33.119Z"
   },
   {
    "duration": 127,
    "start_time": "2023-01-14T22:27:43.734Z"
   },
   {
    "duration": 143,
    "start_time": "2023-01-14T22:27:50.324Z"
   },
   {
    "duration": 0,
    "start_time": "2023-01-14T22:28:19.573Z"
   },
   {
    "duration": 199,
    "start_time": "2023-01-14T22:28:20.920Z"
   },
   {
    "duration": 96,
    "start_time": "2023-01-14T22:33:59.994Z"
   },
   {
    "duration": 17,
    "start_time": "2023-01-14T22:37:02.453Z"
   },
   {
    "duration": 179,
    "start_time": "2023-01-14T22:37:14.886Z"
   },
   {
    "duration": 926,
    "start_time": "2023-01-14T22:37:35.865Z"
   },
   {
    "duration": 199,
    "start_time": "2023-01-14T22:40:41.431Z"
   },
   {
    "duration": 310,
    "start_time": "2023-01-14T22:41:20.258Z"
   },
   {
    "duration": 345,
    "start_time": "2023-01-14T22:43:40.939Z"
   },
   {
    "duration": 311,
    "start_time": "2023-01-14T22:43:50.587Z"
   },
   {
    "duration": 135,
    "start_time": "2023-01-14T22:44:14.173Z"
   },
   {
    "duration": 11,
    "start_time": "2023-01-14T22:45:09.778Z"
   },
   {
    "duration": 856,
    "start_time": "2023-01-14T22:45:32.888Z"
   },
   {
    "duration": 77,
    "start_time": "2023-01-14T22:46:08.999Z"
   },
   {
    "duration": 69,
    "start_time": "2023-01-14T22:46:29.428Z"
   },
   {
    "duration": 911,
    "start_time": "2023-01-14T22:46:37.264Z"
   },
   {
    "duration": 825,
    "start_time": "2023-01-14T22:48:34.273Z"
   },
   {
    "duration": 436,
    "start_time": "2023-01-14T22:57:13.756Z"
   },
   {
    "duration": 159,
    "start_time": "2023-01-14T23:08:58.581Z"
   },
   {
    "duration": 184,
    "start_time": "2023-01-14T23:21:30.576Z"
   },
   {
    "duration": 163,
    "start_time": "2023-01-14T23:22:12.232Z"
   },
   {
    "duration": 179,
    "start_time": "2023-01-14T23:22:30.381Z"
   },
   {
    "duration": 158,
    "start_time": "2023-01-14T23:22:39.242Z"
   },
   {
    "duration": 175,
    "start_time": "2023-01-14T23:23:01.991Z"
   },
   {
    "duration": 169,
    "start_time": "2023-01-14T23:23:50.453Z"
   },
   {
    "duration": 174,
    "start_time": "2023-01-14T23:24:15.897Z"
   },
   {
    "duration": 179,
    "start_time": "2023-01-14T23:24:40.533Z"
   },
   {
    "duration": 165,
    "start_time": "2023-01-14T23:25:21.081Z"
   },
   {
    "duration": 189,
    "start_time": "2023-01-14T23:25:31.612Z"
   },
   {
    "duration": 163,
    "start_time": "2023-01-14T23:26:19.453Z"
   },
   {
    "duration": 160,
    "start_time": "2023-01-14T23:26:51.074Z"
   },
   {
    "duration": 175,
    "start_time": "2023-01-14T23:27:10.466Z"
   },
   {
    "duration": 169,
    "start_time": "2023-01-14T23:27:22.963Z"
   },
   {
    "duration": 129,
    "start_time": "2023-01-14T23:28:33.235Z"
   },
   {
    "duration": 136,
    "start_time": "2023-01-14T23:29:04.642Z"
   },
   {
    "duration": 153,
    "start_time": "2023-01-14T23:31:14.235Z"
   },
   {
    "duration": 28,
    "start_time": "2023-01-14T23:32:04.153Z"
   },
   {
    "duration": 29,
    "start_time": "2023-01-14T23:32:52.471Z"
   },
   {
    "duration": 28,
    "start_time": "2023-01-14T23:33:04.806Z"
   },
   {
    "duration": 124,
    "start_time": "2023-01-14T23:40:06.836Z"
   },
   {
    "duration": 14,
    "start_time": "2023-01-14T23:40:08.376Z"
   },
   {
    "duration": 1729,
    "start_time": "2023-01-14T23:40:08.649Z"
   },
   {
    "duration": 9,
    "start_time": "2023-01-14T23:40:10.380Z"
   },
   {
    "duration": 32,
    "start_time": "2023-01-14T23:40:10.390Z"
   },
   {
    "duration": 4,
    "start_time": "2023-01-14T23:40:10.424Z"
   },
   {
    "duration": 8,
    "start_time": "2023-01-14T23:40:10.429Z"
   },
   {
    "duration": 14,
    "start_time": "2023-01-14T23:40:10.439Z"
   },
   {
    "duration": 9,
    "start_time": "2023-01-14T23:40:10.455Z"
   },
   {
    "duration": 10,
    "start_time": "2023-01-14T23:40:10.586Z"
   },
   {
    "duration": 5,
    "start_time": "2023-01-14T23:40:10.989Z"
   },
   {
    "duration": 5,
    "start_time": "2023-01-14T23:40:11.397Z"
   },
   {
    "duration": 4,
    "start_time": "2023-01-14T23:40:11.588Z"
   },
   {
    "duration": 7,
    "start_time": "2023-01-14T23:40:11.791Z"
   },
   {
    "duration": 5,
    "start_time": "2023-01-14T23:40:12.009Z"
   },
   {
    "duration": 8,
    "start_time": "2023-01-14T23:40:12.529Z"
   },
   {
    "duration": 5,
    "start_time": "2023-01-14T23:40:13.445Z"
   },
   {
    "duration": 25,
    "start_time": "2023-01-14T23:40:13.630Z"
   },
   {
    "duration": 74,
    "start_time": "2023-01-14T23:40:14.397Z"
   },
   {
    "duration": 127,
    "start_time": "2023-01-14T23:40:14.896Z"
   },
   {
    "duration": 189,
    "start_time": "2023-01-14T23:40:15.256Z"
   },
   {
    "duration": 26,
    "start_time": "2023-01-14T23:40:15.448Z"
   },
   {
    "duration": 191,
    "start_time": "2023-01-14T23:40:15.602Z"
   },
   {
    "duration": 177,
    "start_time": "2023-01-14T23:40:15.982Z"
   },
   {
    "duration": 133,
    "start_time": "2023-01-14T23:40:16.362Z"
   },
   {
    "duration": 19,
    "start_time": "2023-01-14T23:40:16.731Z"
   },
   {
    "duration": 163,
    "start_time": "2023-01-14T23:40:16.925Z"
   },
   {
    "duration": 133,
    "start_time": "2023-01-14T23:40:17.308Z"
   },
   {
    "duration": 12,
    "start_time": "2023-01-14T23:40:17.697Z"
   },
   {
    "duration": 175,
    "start_time": "2023-01-14T23:40:17.856Z"
   },
   {
    "duration": 135,
    "start_time": "2023-01-14T23:40:18.250Z"
   },
   {
    "duration": 13,
    "start_time": "2023-01-14T23:40:18.630Z"
   },
   {
    "duration": 184,
    "start_time": "2023-01-14T23:40:18.818Z"
   },
   {
    "duration": 125,
    "start_time": "2023-01-14T23:40:19.193Z"
   },
   {
    "duration": 177,
    "start_time": "2023-01-14T23:40:19.617Z"
   },
   {
    "duration": 241,
    "start_time": "2023-01-14T23:40:19.989Z"
   },
   {
    "duration": 47,
    "start_time": "2023-01-14T23:40:20.689Z"
   },
   {
    "duration": 7,
    "start_time": "2023-01-14T23:40:20.782Z"
   },
   {
    "duration": 9,
    "start_time": "2023-01-14T23:40:20.852Z"
   },
   {
    "duration": 6,
    "start_time": "2023-01-14T23:40:20.920Z"
   },
   {
    "duration": 5,
    "start_time": "2023-01-14T23:40:20.979Z"
   },
   {
    "duration": 354,
    "start_time": "2023-01-14T23:40:21.057Z"
   },
   {
    "duration": 14,
    "start_time": "2023-01-14T23:40:21.413Z"
   },
   {
    "duration": 152,
    "start_time": "2023-01-14T23:40:21.429Z"
   },
   {
    "duration": 166,
    "start_time": "2023-01-14T23:40:21.584Z"
   },
   {
    "duration": 187,
    "start_time": "2023-01-14T23:40:21.752Z"
   },
   {
    "duration": 257,
    "start_time": "2023-01-14T23:40:21.941Z"
   },
   {
    "duration": 150,
    "start_time": "2023-01-14T23:40:22.200Z"
   },
   {
    "duration": 188,
    "start_time": "2023-01-14T23:40:22.351Z"
   },
   {
    "duration": 159,
    "start_time": "2023-01-14T23:40:22.541Z"
   },
   {
    "duration": 122,
    "start_time": "2023-01-14T23:40:22.701Z"
   },
   {
    "duration": 152,
    "start_time": "2023-01-14T23:40:22.825Z"
   },
   {
    "duration": 201,
    "start_time": "2023-01-14T23:40:22.978Z"
   },
   {
    "duration": 255,
    "start_time": "2023-01-14T23:40:23.181Z"
   },
   {
    "duration": 155,
    "start_time": "2023-01-14T23:40:23.438Z"
   },
   {
    "duration": 167,
    "start_time": "2023-01-14T23:40:23.595Z"
   },
   {
    "duration": 167,
    "start_time": "2023-01-14T23:40:23.764Z"
   },
   {
    "duration": 205,
    "start_time": "2023-01-14T23:40:23.933Z"
   },
   {
    "duration": 215,
    "start_time": "2023-01-14T23:40:24.140Z"
   },
   {
    "duration": 237,
    "start_time": "2023-01-14T23:40:24.356Z"
   },
   {
    "duration": 166,
    "start_time": "2023-01-14T23:40:24.595Z"
   },
   {
    "duration": 138,
    "start_time": "2023-01-14T23:40:24.763Z"
   },
   {
    "duration": 148,
    "start_time": "2023-01-14T23:40:24.904Z"
   },
   {
    "duration": 130,
    "start_time": "2023-01-14T23:40:25.054Z"
   },
   {
    "duration": 37,
    "start_time": "2023-01-14T23:40:25.186Z"
   },
   {
    "duration": 307,
    "start_time": "2023-01-14T23:40:25.224Z"
   },
   {
    "duration": 10,
    "start_time": "2023-01-14T23:40:25.533Z"
   },
   {
    "duration": 208,
    "start_time": "2023-01-14T23:40:25.546Z"
   },
   {
    "duration": 227,
    "start_time": "2023-01-14T23:40:25.755Z"
   },
   {
    "duration": 205,
    "start_time": "2023-01-14T23:40:25.983Z"
   },
   {
    "duration": 190,
    "start_time": "2023-01-14T23:40:26.190Z"
   },
   {
    "duration": 154,
    "start_time": "2023-01-14T23:40:26.382Z"
   },
   {
    "duration": 192,
    "start_time": "2023-01-14T23:40:26.537Z"
   },
   {
    "duration": 144,
    "start_time": "2023-01-14T23:40:26.731Z"
   },
   {
    "duration": 131,
    "start_time": "2023-01-14T23:40:26.970Z"
   },
   {
    "duration": 422,
    "start_time": "2023-01-14T23:40:27.164Z"
   },
   {
    "duration": 33,
    "start_time": "2023-01-14T23:40:28.645Z"
   },
   {
    "duration": 33,
    "start_time": "2023-01-14T23:40:41.536Z"
   },
   {
    "duration": 28,
    "start_time": "2023-01-14T23:40:54.508Z"
   },
   {
    "duration": 27,
    "start_time": "2023-01-14T23:41:16.652Z"
   },
   {
    "duration": 30,
    "start_time": "2023-01-14T23:42:25.860Z"
   },
   {
    "duration": 28,
    "start_time": "2023-01-14T23:43:55.368Z"
   },
   {
    "duration": 22,
    "start_time": "2023-01-14T23:59:33.895Z"
   },
   {
    "duration": 21,
    "start_time": "2023-01-15T00:00:44.952Z"
   },
   {
    "duration": 8,
    "start_time": "2023-01-15T00:01:28.759Z"
   },
   {
    "duration": 19,
    "start_time": "2023-01-15T00:01:37.715Z"
   },
   {
    "duration": 45,
    "start_time": "2023-01-15T00:01:51.522Z"
   },
   {
    "duration": 26,
    "start_time": "2023-01-15T00:02:38.122Z"
   },
   {
    "duration": 22,
    "start_time": "2023-01-15T00:02:47.656Z"
   },
   {
    "duration": 21,
    "start_time": "2023-01-15T00:03:17.079Z"
   },
   {
    "duration": 15,
    "start_time": "2023-01-15T00:04:22.039Z"
   },
   {
    "duration": 21,
    "start_time": "2023-01-15T00:04:28.990Z"
   },
   {
    "duration": 22,
    "start_time": "2023-01-15T00:05:14.018Z"
   },
   {
    "duration": 21,
    "start_time": "2023-01-15T00:05:44.700Z"
   },
   {
    "duration": 21,
    "start_time": "2023-01-15T00:05:53.600Z"
   },
   {
    "duration": 15,
    "start_time": "2023-01-15T00:07:34.399Z"
   },
   {
    "duration": 23,
    "start_time": "2023-01-15T00:07:46.391Z"
   },
   {
    "duration": 22,
    "start_time": "2023-01-15T00:08:03.720Z"
   },
   {
    "duration": 271,
    "start_time": "2023-01-15T00:08:31.208Z"
   },
   {
    "duration": 26,
    "start_time": "2023-01-15T00:08:37.720Z"
   },
   {
    "duration": 21,
    "start_time": "2023-01-15T00:09:59.400Z"
   },
   {
    "duration": 22,
    "start_time": "2023-01-15T00:10:21.860Z"
   },
   {
    "duration": 321,
    "start_time": "2023-01-15T00:10:37.975Z"
   },
   {
    "duration": 1189,
    "start_time": "2023-01-15T00:10:59.884Z"
   },
   {
    "duration": 1350,
    "start_time": "2023-01-15T00:11:20.900Z"
   },
   {
    "duration": 1167,
    "start_time": "2023-01-15T00:13:28.580Z"
   },
   {
    "duration": 1158,
    "start_time": "2023-01-15T00:13:51.724Z"
   },
   {
    "duration": 24,
    "start_time": "2023-01-15T00:18:02.900Z"
   },
   {
    "duration": 1151,
    "start_time": "2023-01-15T00:18:16.985Z"
   },
   {
    "duration": 22,
    "start_time": "2023-01-15T00:18:49.407Z"
   },
   {
    "duration": 297,
    "start_time": "2023-01-15T00:19:08.635Z"
   },
   {
    "duration": 24,
    "start_time": "2023-01-15T00:19:24.302Z"
   },
   {
    "duration": 24,
    "start_time": "2023-01-15T00:20:48.833Z"
   },
   {
    "duration": 283,
    "start_time": "2023-01-15T00:21:06.133Z"
   },
   {
    "duration": 155,
    "start_time": "2023-01-15T00:21:22.600Z"
   },
   {
    "duration": 230,
    "start_time": "2023-01-15T00:21:49.733Z"
   },
   {
    "duration": 237,
    "start_time": "2023-01-15T00:21:57.012Z"
   },
   {
    "duration": 259,
    "start_time": "2023-01-15T00:22:44.891Z"
   },
   {
    "duration": 146,
    "start_time": "2023-01-15T00:22:57.434Z"
   },
   {
    "duration": 28,
    "start_time": "2023-01-15T00:24:18.121Z"
   },
   {
    "duration": 1155,
    "start_time": "2023-01-15T00:26:35.522Z"
   },
   {
    "duration": 23,
    "start_time": "2023-01-15T00:27:03.640Z"
   },
   {
    "duration": 34,
    "start_time": "2023-01-15T00:27:16.662Z"
   },
   {
    "duration": 35,
    "start_time": "2023-01-15T00:28:17.626Z"
   },
   {
    "duration": 23,
    "start_time": "2023-01-15T00:28:25.505Z"
   },
   {
    "duration": 21,
    "start_time": "2023-01-15T00:28:41.502Z"
   },
   {
    "duration": 19,
    "start_time": "2023-01-15T00:30:54.593Z"
   },
   {
    "duration": 21,
    "start_time": "2023-01-15T00:31:11.082Z"
   },
   {
    "duration": 225,
    "start_time": "2023-01-15T00:31:25.849Z"
   },
   {
    "duration": 229,
    "start_time": "2023-01-15T00:32:05.916Z"
   },
   {
    "duration": 228,
    "start_time": "2023-01-15T00:32:32.412Z"
   },
   {
    "duration": 218,
    "start_time": "2023-01-15T00:33:05.524Z"
   },
   {
    "duration": 521,
    "start_time": "2023-01-15T00:33:59.547Z"
   },
   {
    "duration": 565,
    "start_time": "2023-01-15T00:35:33.762Z"
   },
   {
    "duration": 508,
    "start_time": "2023-01-15T00:37:28.983Z"
   },
   {
    "duration": 532,
    "start_time": "2023-01-15T00:37:39.523Z"
   },
   {
    "duration": 559,
    "start_time": "2023-01-15T00:37:45.523Z"
   },
   {
    "duration": 21,
    "start_time": "2023-01-15T00:38:42.264Z"
   },
   {
    "duration": 222,
    "start_time": "2023-01-15T00:38:47.815Z"
   },
   {
    "duration": 222,
    "start_time": "2023-01-15T00:39:09.021Z"
   },
   {
    "duration": 90,
    "start_time": "2023-01-15T00:41:10.724Z"
   },
   {
    "duration": 529,
    "start_time": "2023-01-15T00:41:17.155Z"
   },
   {
    "duration": 212,
    "start_time": "2023-01-15T00:43:08.833Z"
   },
   {
    "duration": 223,
    "start_time": "2023-01-15T00:44:47.581Z"
   },
   {
    "duration": 214,
    "start_time": "2023-01-15T00:45:04.940Z"
   },
   {
    "duration": 205,
    "start_time": "2023-01-15T00:45:14.191Z"
   },
   {
    "duration": 211,
    "start_time": "2023-01-15T00:45:24.541Z"
   },
   {
    "duration": 249,
    "start_time": "2023-01-15T00:45:31.113Z"
   },
   {
    "duration": 223,
    "start_time": "2023-01-15T00:45:36.393Z"
   },
   {
    "duration": 234,
    "start_time": "2023-01-15T00:45:55.806Z"
   },
   {
    "duration": 215,
    "start_time": "2023-01-15T00:46:06.901Z"
   },
   {
    "duration": 214,
    "start_time": "2023-01-15T00:46:13.036Z"
   },
   {
    "duration": 180,
    "start_time": "2023-01-15T00:59:03.995Z"
   },
   {
    "duration": 7,
    "start_time": "2023-01-15T01:11:47.703Z"
   },
   {
    "duration": 10,
    "start_time": "2023-01-15T01:12:00.192Z"
   },
   {
    "duration": 10,
    "start_time": "2023-01-15T01:12:11.152Z"
   },
   {
    "duration": 7,
    "start_time": "2023-01-15T01:12:26.363Z"
   },
   {
    "duration": 11,
    "start_time": "2023-01-15T01:12:36.253Z"
   },
   {
    "duration": 16,
    "start_time": "2023-01-15T01:12:49.355Z"
   },
   {
    "duration": 17,
    "start_time": "2023-01-15T01:14:36.271Z"
   },
   {
    "duration": 12,
    "start_time": "2023-01-15T01:14:43.583Z"
   },
   {
    "duration": 173,
    "start_time": "2023-01-15T01:15:18.923Z"
   },
   {
    "duration": 140,
    "start_time": "2023-01-15T01:15:23.204Z"
   },
   {
    "duration": 138,
    "start_time": "2023-01-15T01:15:28.595Z"
   },
   {
    "duration": 138,
    "start_time": "2023-01-15T01:15:40.375Z"
   },
   {
    "duration": 119,
    "start_time": "2023-01-15T01:16:17.556Z"
   },
   {
    "duration": 17,
    "start_time": "2023-01-15T01:16:18.005Z"
   },
   {
    "duration": 1722,
    "start_time": "2023-01-15T01:16:18.644Z"
   },
   {
    "duration": 9,
    "start_time": "2023-01-15T01:16:20.368Z"
   },
   {
    "duration": 5,
    "start_time": "2023-01-15T01:16:35.400Z"
   },
   {
    "duration": 4,
    "start_time": "2023-01-15T01:16:36.035Z"
   },
   {
    "duration": 6,
    "start_time": "2023-01-15T01:16:37.442Z"
   },
   {
    "duration": 9,
    "start_time": "2023-01-15T01:16:38.055Z"
   },
   {
    "duration": 8,
    "start_time": "2023-01-15T01:16:38.877Z"
   },
   {
    "duration": 8,
    "start_time": "2023-01-15T01:16:39.543Z"
   },
   {
    "duration": 5,
    "start_time": "2023-01-15T01:16:40.884Z"
   },
   {
    "duration": 4,
    "start_time": "2023-01-15T01:16:41.924Z"
   },
   {
    "duration": 5,
    "start_time": "2023-01-15T01:16:46.966Z"
   },
   {
    "duration": 7,
    "start_time": "2023-01-15T01:16:47.278Z"
   },
   {
    "duration": 6,
    "start_time": "2023-01-15T01:16:47.544Z"
   },
   {
    "duration": 8,
    "start_time": "2023-01-15T01:16:47.716Z"
   },
   {
    "duration": 5,
    "start_time": "2023-01-15T01:16:48.123Z"
   },
   {
    "duration": 24,
    "start_time": "2023-01-15T01:16:48.504Z"
   },
   {
    "duration": 74,
    "start_time": "2023-01-15T01:16:49.615Z"
   },
   {
    "duration": 126,
    "start_time": "2023-01-15T01:16:50.575Z"
   },
   {
    "duration": 24,
    "start_time": "2023-01-15T01:16:51.323Z"
   },
   {
    "duration": 181,
    "start_time": "2023-01-15T01:16:51.883Z"
   },
   {
    "duration": 191,
    "start_time": "2023-01-15T01:16:52.863Z"
   },
   {
    "duration": 149,
    "start_time": "2023-01-15T01:16:54.103Z"
   },
   {
    "duration": 19,
    "start_time": "2023-01-15T01:16:55.357Z"
   },
   {
    "duration": 146,
    "start_time": "2023-01-15T01:16:57.344Z"
   },
   {
    "duration": 133,
    "start_time": "2023-01-15T01:16:58.281Z"
   },
   {
    "duration": 13,
    "start_time": "2023-01-15T01:16:59.823Z"
   },
   {
    "duration": 178,
    "start_time": "2023-01-15T01:17:00.276Z"
   },
   {
    "duration": 137,
    "start_time": "2023-01-15T01:17:01.144Z"
   },
   {
    "duration": 8,
    "start_time": "2023-01-15T01:17:07.633Z"
   },
   {
    "duration": 12,
    "start_time": "2023-01-15T01:17:13.763Z"
   },
   {
    "duration": 10,
    "start_time": "2023-01-15T01:17:28.800Z"
   },
   {
    "duration": 9,
    "start_time": "2023-01-15T01:18:11.072Z"
   },
   {
    "duration": 10,
    "start_time": "2023-01-15T01:18:13.096Z"
   },
   {
    "duration": 200,
    "start_time": "2023-01-15T01:18:13.994Z"
   },
   {
    "duration": 11,
    "start_time": "2023-01-15T01:18:19.432Z"
   },
   {
    "duration": 171,
    "start_time": "2023-01-15T01:18:20.723Z"
   },
   {
    "duration": 12,
    "start_time": "2023-01-15T01:18:22.803Z"
   },
   {
    "duration": 179,
    "start_time": "2023-01-15T01:18:25.215Z"
   },
   {
    "duration": 9,
    "start_time": "2023-01-15T01:18:45.463Z"
   },
   {
    "duration": 165,
    "start_time": "2023-01-15T01:21:33.784Z"
   },
   {
    "duration": 167,
    "start_time": "2023-01-15T01:21:51.064Z"
   },
   {
    "duration": 179,
    "start_time": "2023-01-15T01:21:56.196Z"
   },
   {
    "duration": 162,
    "start_time": "2023-01-15T01:22:02.004Z"
   },
   {
    "duration": 165,
    "start_time": "2023-01-15T01:22:06.831Z"
   },
   {
    "duration": 130,
    "start_time": "2023-01-15T01:26:16.116Z"
   },
   {
    "duration": 126,
    "start_time": "2023-01-15T01:26:33.084Z"
   },
   {
    "duration": 136,
    "start_time": "2023-01-15T01:26:55.603Z"
   },
   {
    "duration": 146,
    "start_time": "2023-01-15T01:27:00.430Z"
   },
   {
    "duration": 124,
    "start_time": "2023-01-15T01:27:03.836Z"
   },
   {
    "duration": 127,
    "start_time": "2023-01-15T01:28:28.497Z"
   },
   {
    "duration": 3,
    "start_time": "2023-01-15T01:41:04.777Z"
   },
   {
    "duration": 171,
    "start_time": "2023-01-15T01:42:37.106Z"
   },
   {
    "duration": 75,
    "start_time": "2023-01-15T01:48:17.606Z"
   },
   {
    "duration": 87,
    "start_time": "2023-01-15T01:49:51.778Z"
   },
   {
    "duration": 75,
    "start_time": "2023-01-15T01:55:12.947Z"
   },
   {
    "duration": 98,
    "start_time": "2023-01-15T02:04:58.888Z"
   },
   {
    "duration": 2502,
    "start_time": "2023-01-15T02:08:07.488Z"
   },
   {
    "duration": 1182,
    "start_time": "2023-01-15T02:15:10.528Z"
   },
   {
    "duration": 1285,
    "start_time": "2023-01-15T02:16:41.687Z"
   },
   {
    "duration": 0,
    "start_time": "2023-01-15T02:16:42.974Z"
   },
   {
    "duration": 1171,
    "start_time": "2023-01-15T02:16:45.560Z"
   },
   {
    "duration": 129,
    "start_time": "2023-01-15T02:17:18.449Z"
   },
   {
    "duration": 16,
    "start_time": "2023-01-15T02:17:18.728Z"
   },
   {
    "duration": 1777,
    "start_time": "2023-01-15T02:17:18.960Z"
   },
   {
    "duration": 10,
    "start_time": "2023-01-15T02:17:20.739Z"
   },
   {
    "duration": 7,
    "start_time": "2023-01-15T02:17:20.751Z"
   },
   {
    "duration": 12,
    "start_time": "2023-01-15T02:17:20.760Z"
   },
   {
    "duration": 11,
    "start_time": "2023-01-15T02:17:20.774Z"
   },
   {
    "duration": 7,
    "start_time": "2023-01-15T02:17:20.998Z"
   },
   {
    "duration": 8,
    "start_time": "2023-01-15T02:17:21.248Z"
   },
   {
    "duration": 8,
    "start_time": "2023-01-15T02:17:21.440Z"
   },
   {
    "duration": 6,
    "start_time": "2023-01-15T02:17:21.840Z"
   },
   {
    "duration": 5,
    "start_time": "2023-01-15T02:17:22.262Z"
   },
   {
    "duration": 4,
    "start_time": "2023-01-15T02:17:22.468Z"
   },
   {
    "duration": 7,
    "start_time": "2023-01-15T02:17:22.720Z"
   },
   {
    "duration": 6,
    "start_time": "2023-01-15T02:17:22.920Z"
   },
   {
    "duration": 10,
    "start_time": "2023-01-15T02:17:23.140Z"
   },
   {
    "duration": 6,
    "start_time": "2023-01-15T02:17:23.543Z"
   },
   {
    "duration": 24,
    "start_time": "2023-01-15T02:17:23.768Z"
   },
   {
    "duration": 73,
    "start_time": "2023-01-15T02:17:24.540Z"
   },
   {
    "duration": 132,
    "start_time": "2023-01-15T02:17:25.161Z"
   },
   {
    "duration": 25,
    "start_time": "2023-01-15T02:17:25.529Z"
   },
   {
    "duration": 193,
    "start_time": "2023-01-15T02:17:25.688Z"
   },
   {
    "duration": 172,
    "start_time": "2023-01-15T02:17:26.045Z"
   },
   {
    "duration": 138,
    "start_time": "2023-01-15T02:17:26.397Z"
   },
   {
    "duration": 19,
    "start_time": "2023-01-15T02:17:26.779Z"
   },
   {
    "duration": 148,
    "start_time": "2023-01-15T02:17:26.934Z"
   },
   {
    "duration": 130,
    "start_time": "2023-01-15T02:17:27.233Z"
   },
   {
    "duration": 12,
    "start_time": "2023-01-15T02:17:28.352Z"
   },
   {
    "duration": 195,
    "start_time": "2023-01-15T02:17:28.485Z"
   },
   {
    "duration": 145,
    "start_time": "2023-01-15T02:17:28.795Z"
   },
   {
    "duration": 13,
    "start_time": "2023-01-15T02:17:29.316Z"
   },
   {
    "duration": 169,
    "start_time": "2023-01-15T02:17:29.461Z"
   },
   {
    "duration": 138,
    "start_time": "2023-01-15T02:17:29.808Z"
   },
   {
    "duration": 190,
    "start_time": "2023-01-15T02:17:30.128Z"
   },
   {
    "duration": 254,
    "start_time": "2023-01-15T02:17:30.421Z"
   },
   {
    "duration": 3,
    "start_time": "2023-01-15T02:17:30.719Z"
   },
   {
    "duration": 8,
    "start_time": "2023-01-15T02:17:31.164Z"
   },
   {
    "duration": 9,
    "start_time": "2023-01-15T02:17:31.500Z"
   },
   {
    "duration": 6,
    "start_time": "2023-01-15T02:17:31.817Z"
   },
   {
    "duration": 6,
    "start_time": "2023-01-15T02:17:32.101Z"
   },
   {
    "duration": 340,
    "start_time": "2023-01-15T02:17:32.608Z"
   },
   {
    "duration": 8,
    "start_time": "2023-01-15T02:17:33.135Z"
   },
   {
    "duration": 147,
    "start_time": "2023-01-15T02:17:33.927Z"
   },
   {
    "duration": 138,
    "start_time": "2023-01-15T02:17:34.445Z"
   },
   {
    "duration": 174,
    "start_time": "2023-01-15T02:17:35.120Z"
   },
   {
    "duration": 257,
    "start_time": "2023-01-15T02:17:35.780Z"
   },
   {
    "duration": 131,
    "start_time": "2023-01-15T02:17:36.330Z"
   },
   {
    "duration": 158,
    "start_time": "2023-01-15T02:17:36.848Z"
   },
   {
    "duration": 156,
    "start_time": "2023-01-15T02:17:37.317Z"
   },
   {
    "duration": 121,
    "start_time": "2023-01-15T02:17:37.861Z"
   },
   {
    "duration": 133,
    "start_time": "2023-01-15T02:17:38.367Z"
   },
   {
    "duration": 187,
    "start_time": "2023-01-15T02:17:38.916Z"
   },
   {
    "duration": 237,
    "start_time": "2023-01-15T02:17:39.420Z"
   },
   {
    "duration": 135,
    "start_time": "2023-01-15T02:17:40.161Z"
   },
   {
    "duration": 155,
    "start_time": "2023-01-15T02:17:40.910Z"
   },
   {
    "duration": 131,
    "start_time": "2023-01-15T02:17:41.235Z"
   },
   {
    "duration": 158,
    "start_time": "2023-01-15T02:17:42.028Z"
   },
   {
    "duration": 192,
    "start_time": "2023-01-15T02:17:42.205Z"
   },
   {
    "duration": 246,
    "start_time": "2023-01-15T02:17:42.399Z"
   },
   {
    "duration": 157,
    "start_time": "2023-01-15T02:17:42.646Z"
   },
   {
    "duration": 145,
    "start_time": "2023-01-15T02:17:42.804Z"
   },
   {
    "duration": 126,
    "start_time": "2023-01-15T02:17:42.984Z"
   },
   {
    "duration": 100,
    "start_time": "2023-01-15T02:17:43.238Z"
   },
   {
    "duration": 18,
    "start_time": "2023-01-15T02:17:43.457Z"
   },
   {
    "duration": 307,
    "start_time": "2023-01-15T02:17:44.020Z"
   },
   {
    "duration": 12,
    "start_time": "2023-01-15T02:17:44.329Z"
   },
   {
    "duration": 177,
    "start_time": "2023-01-15T02:17:51.024Z"
   },
   {
    "duration": 192,
    "start_time": "2023-01-15T02:17:51.651Z"
   },
   {
    "duration": 12,
    "start_time": "2023-01-15T02:18:25.557Z"
   },
   {
    "duration": 73,
    "start_time": "2023-01-15T02:20:39.999Z"
   },
   {
    "duration": 76,
    "start_time": "2023-01-15T02:22:37.118Z"
   },
   {
    "duration": 69,
    "start_time": "2023-01-15T02:25:45.143Z"
   },
   {
    "duration": 71,
    "start_time": "2023-01-15T02:27:29.849Z"
   },
   {
    "duration": 32,
    "start_time": "2023-01-15T02:30:00.020Z"
   },
   {
    "duration": 179,
    "start_time": "2023-01-15T02:30:00.959Z"
   },
   {
    "duration": 28,
    "start_time": "2023-01-15T02:30:10.310Z"
   },
   {
    "duration": 26,
    "start_time": "2023-01-15T02:30:14.895Z"
   },
   {
    "duration": 25,
    "start_time": "2023-01-15T02:30:19.604Z"
   },
   {
    "duration": 168,
    "start_time": "2023-01-15T02:30:21.392Z"
   },
   {
    "duration": 122,
    "start_time": "2023-01-15T02:30:47.479Z"
   },
   {
    "duration": 15,
    "start_time": "2023-01-15T02:30:48.420Z"
   },
   {
    "duration": 1752,
    "start_time": "2023-01-15T02:30:49.070Z"
   },
   {
    "duration": 10,
    "start_time": "2023-01-15T02:30:51.480Z"
   },
   {
    "duration": 4,
    "start_time": "2023-01-15T02:30:56.320Z"
   },
   {
    "duration": 3,
    "start_time": "2023-01-15T02:30:56.940Z"
   },
   {
    "duration": 6,
    "start_time": "2023-01-15T02:30:57.659Z"
   },
   {
    "duration": 7,
    "start_time": "2023-01-15T02:30:58.080Z"
   },
   {
    "duration": 8,
    "start_time": "2023-01-15T02:30:58.528Z"
   },
   {
    "duration": 10,
    "start_time": "2023-01-15T02:30:59.247Z"
   },
   {
    "duration": 6,
    "start_time": "2023-01-15T02:31:00.701Z"
   },
   {
    "duration": 5,
    "start_time": "2023-01-15T02:31:04.067Z"
   },
   {
    "duration": 4,
    "start_time": "2023-01-15T02:31:08.460Z"
   },
   {
    "duration": 8,
    "start_time": "2023-01-15T02:31:08.887Z"
   },
   {
    "duration": 6,
    "start_time": "2023-01-15T02:31:09.240Z"
   },
   {
    "duration": 8,
    "start_time": "2023-01-15T02:31:09.947Z"
   },
   {
    "duration": 5,
    "start_time": "2023-01-15T02:31:11.876Z"
   },
   {
    "duration": 24,
    "start_time": "2023-01-15T02:31:12.556Z"
   },
   {
    "duration": 72,
    "start_time": "2023-01-15T02:31:17.114Z"
   },
   {
    "duration": 125,
    "start_time": "2023-01-15T02:31:26.681Z"
   },
   {
    "duration": 27,
    "start_time": "2023-01-15T02:31:39.742Z"
   },
   {
    "duration": 171,
    "start_time": "2023-01-15T02:31:40.508Z"
   },
   {
    "duration": 24,
    "start_time": "2023-01-15T02:31:53.947Z"
   },
   {
    "duration": 160,
    "start_time": "2023-01-15T02:31:54.700Z"
   },
   {
    "duration": 25,
    "start_time": "2023-01-15T02:32:57.678Z"
   },
   {
    "duration": 192,
    "start_time": "2023-01-15T02:32:57.704Z"
   },
   {
    "duration": 22,
    "start_time": "2023-01-15T02:33:13.548Z"
   },
   {
    "duration": 176,
    "start_time": "2023-01-15T02:33:13.929Z"
   },
   {
    "duration": 165,
    "start_time": "2023-01-15T02:33:21.160Z"
   },
   {
    "duration": 24,
    "start_time": "2023-01-15T02:33:27.347Z"
   },
   {
    "duration": 158,
    "start_time": "2023-01-15T02:33:27.839Z"
   },
   {
    "duration": 25,
    "start_time": "2023-01-15T02:33:54.777Z"
   },
   {
    "duration": 173,
    "start_time": "2023-01-15T02:33:55.408Z"
   },
   {
    "duration": 188,
    "start_time": "2023-01-15T02:33:58.427Z"
   },
   {
    "duration": 138,
    "start_time": "2023-01-15T02:33:59.440Z"
   },
   {
    "duration": 22,
    "start_time": "2023-01-15T02:34:00.539Z"
   },
   {
    "duration": 159,
    "start_time": "2023-01-15T02:34:01.268Z"
   },
   {
    "duration": 132,
    "start_time": "2023-01-15T02:34:02.800Z"
   },
   {
    "duration": 16,
    "start_time": "2023-01-15T02:34:03.988Z"
   },
   {
    "duration": 50,
    "start_time": "2023-01-15T11:47:55.327Z"
   },
   {
    "duration": 749,
    "start_time": "2023-01-15T11:48:01.707Z"
   },
   {
    "duration": 27,
    "start_time": "2023-01-15T11:48:09.347Z"
   },
   {
    "duration": 5,
    "start_time": "2023-01-15T11:56:00.249Z"
   },
   {
    "duration": 36,
    "start_time": "2023-01-15T11:56:00.664Z"
   },
   {
    "duration": 8,
    "start_time": "2023-01-15T11:56:01.126Z"
   },
   {
    "duration": 7,
    "start_time": "2023-01-15T11:56:01.975Z"
   },
   {
    "duration": 5,
    "start_time": "2023-01-15T11:56:02.658Z"
   },
   {
    "duration": 125,
    "start_time": "2023-01-15T11:56:16.871Z"
   },
   {
    "duration": 23,
    "start_time": "2023-01-15T11:56:17.486Z"
   },
   {
    "duration": 2324,
    "start_time": "2023-01-15T11:56:17.961Z"
   },
   {
    "duration": 18,
    "start_time": "2023-01-15T11:56:20.287Z"
   },
   {
    "duration": 5,
    "start_time": "2023-01-15T11:56:21.761Z"
   },
   {
    "duration": 4,
    "start_time": "2023-01-15T11:56:22.221Z"
   },
   {
    "duration": 5,
    "start_time": "2023-01-15T11:56:22.582Z"
   },
   {
    "duration": 9,
    "start_time": "2023-01-15T11:56:22.917Z"
   },
   {
    "duration": 10,
    "start_time": "2023-01-15T11:56:23.276Z"
   },
   {
    "duration": 8,
    "start_time": "2023-01-15T11:56:23.789Z"
   },
   {
    "duration": 6,
    "start_time": "2023-01-15T11:56:24.770Z"
   },
   {
    "duration": 5,
    "start_time": "2023-01-15T11:56:25.861Z"
   },
   {
    "duration": 4,
    "start_time": "2023-01-15T11:56:26.571Z"
   },
   {
    "duration": 8,
    "start_time": "2023-01-15T11:56:27.442Z"
   },
   {
    "duration": 6,
    "start_time": "2023-01-15T11:56:28.279Z"
   },
   {
    "duration": 20,
    "start_time": "2023-01-15T11:56:28.288Z"
   },
   {
    "duration": 730,
    "start_time": "2023-01-15T12:04:18.857Z"
   },
   {
    "duration": 16,
    "start_time": "2023-01-15T12:04:19.589Z"
   },
   {
    "duration": 2257,
    "start_time": "2023-01-15T12:04:19.606Z"
   },
   {
    "duration": 9,
    "start_time": "2023-01-15T12:04:21.866Z"
   },
   {
    "duration": 6,
    "start_time": "2023-01-15T12:04:21.876Z"
   },
   {
    "duration": 5,
    "start_time": "2023-01-15T12:04:21.884Z"
   },
   {
    "duration": 7,
    "start_time": "2023-01-15T12:04:21.891Z"
   },
   {
    "duration": 9,
    "start_time": "2023-01-15T12:04:21.899Z"
   },
   {
    "duration": 9,
    "start_time": "2023-01-15T12:04:21.909Z"
   },
   {
    "duration": 9,
    "start_time": "2023-01-15T12:04:21.921Z"
   },
   {
    "duration": 10,
    "start_time": "2023-01-15T12:04:21.932Z"
   },
   {
    "duration": 8,
    "start_time": "2023-01-15T12:04:21.944Z"
   },
   {
    "duration": 5,
    "start_time": "2023-01-15T12:04:21.954Z"
   },
   {
    "duration": 13,
    "start_time": "2023-01-15T12:04:21.962Z"
   },
   {
    "duration": 36,
    "start_time": "2023-01-15T12:04:21.976Z"
   },
   {
    "duration": 9,
    "start_time": "2023-01-15T12:04:22.014Z"
   },
   {
    "duration": 8,
    "start_time": "2023-01-15T12:04:22.025Z"
   },
   {
    "duration": 27,
    "start_time": "2023-01-15T12:04:22.035Z"
   },
   {
    "duration": 91,
    "start_time": "2023-01-15T12:04:22.064Z"
   },
   {
    "duration": 164,
    "start_time": "2023-01-15T12:04:22.156Z"
   },
   {
    "duration": 21,
    "start_time": "2023-01-15T12:04:22.322Z"
   },
   {
    "duration": 195,
    "start_time": "2023-01-15T12:04:22.345Z"
   },
   {
    "duration": 199,
    "start_time": "2023-01-15T12:04:22.542Z"
   },
   {
    "duration": 148,
    "start_time": "2023-01-15T12:04:22.743Z"
   },
   {
    "duration": 24,
    "start_time": "2023-01-15T12:04:22.892Z"
   },
   {
    "duration": 167,
    "start_time": "2023-01-15T12:04:22.918Z"
   },
   {
    "duration": 231,
    "start_time": "2023-01-15T12:04:23.087Z"
   },
   {
    "duration": 11,
    "start_time": "2023-01-15T12:04:23.321Z"
   },
   {
    "duration": 215,
    "start_time": "2023-01-15T12:04:23.334Z"
   },
   {
    "duration": 156,
    "start_time": "2023-01-15T12:04:23.551Z"
   },
   {
    "duration": 12,
    "start_time": "2023-01-15T12:04:23.711Z"
   },
   {
    "duration": 178,
    "start_time": "2023-01-15T12:04:23.725Z"
   },
   {
    "duration": 141,
    "start_time": "2023-01-15T12:04:23.905Z"
   },
   {
    "duration": 216,
    "start_time": "2023-01-15T12:04:24.049Z"
   },
   {
    "duration": 264,
    "start_time": "2023-01-15T12:04:24.266Z"
   },
   {
    "duration": 3,
    "start_time": "2023-01-15T12:04:24.532Z"
   },
   {
    "duration": 28,
    "start_time": "2023-01-15T12:04:24.536Z"
   },
   {
    "duration": 13,
    "start_time": "2023-01-15T12:04:24.565Z"
   },
   {
    "duration": 8,
    "start_time": "2023-01-15T12:04:24.579Z"
   },
   {
    "duration": 7,
    "start_time": "2023-01-15T12:04:24.588Z"
   },
   {
    "duration": 507,
    "start_time": "2023-01-15T12:04:24.596Z"
   },
   {
    "duration": 11,
    "start_time": "2023-01-15T12:04:25.105Z"
   },
   {
    "duration": 164,
    "start_time": "2023-01-15T12:04:25.118Z"
   },
   {
    "duration": 149,
    "start_time": "2023-01-15T12:04:25.284Z"
   },
   {
    "duration": 173,
    "start_time": "2023-01-15T12:04:25.435Z"
   },
   {
    "duration": 293,
    "start_time": "2023-01-15T12:04:25.612Z"
   },
   {
    "duration": 167,
    "start_time": "2023-01-15T12:04:25.907Z"
   },
   {
    "duration": 227,
    "start_time": "2023-01-15T12:04:26.076Z"
   },
   {
    "duration": 190,
    "start_time": "2023-01-15T12:04:26.305Z"
   },
   {
    "duration": 160,
    "start_time": "2023-01-15T12:04:26.497Z"
   },
   {
    "duration": 163,
    "start_time": "2023-01-15T12:04:26.659Z"
   },
   {
    "duration": 207,
    "start_time": "2023-01-15T12:04:26.823Z"
   },
   {
    "duration": 377,
    "start_time": "2023-01-15T12:04:27.031Z"
   },
   {
    "duration": 150,
    "start_time": "2023-01-15T12:04:27.412Z"
   },
   {
    "duration": 195,
    "start_time": "2023-01-15T12:04:27.564Z"
   },
   {
    "duration": 143,
    "start_time": "2023-01-15T12:04:27.761Z"
   },
   {
    "duration": 181,
    "start_time": "2023-01-15T12:04:27.912Z"
   },
   {
    "duration": 226,
    "start_time": "2023-01-15T12:04:28.095Z"
   },
   {
    "duration": 239,
    "start_time": "2023-01-15T12:04:28.323Z"
   },
   {
    "duration": 169,
    "start_time": "2023-01-15T12:04:28.563Z"
   },
   {
    "duration": 144,
    "start_time": "2023-01-15T12:04:28.734Z"
   },
   {
    "duration": 140,
    "start_time": "2023-01-15T12:04:28.880Z"
   },
   {
    "duration": 126,
    "start_time": "2023-01-15T12:04:29.023Z"
   },
   {
    "duration": 17,
    "start_time": "2023-01-15T12:04:29.151Z"
   },
   {
    "duration": 436,
    "start_time": "2023-01-15T12:04:29.170Z"
   },
   {
    "duration": 12,
    "start_time": "2023-01-15T12:04:29.608Z"
   },
   {
    "duration": 195,
    "start_time": "2023-01-15T12:04:29.621Z"
   },
   {
    "duration": 199,
    "start_time": "2023-01-15T12:04:29.817Z"
   },
   {
    "duration": 205,
    "start_time": "2023-01-15T12:04:30.017Z"
   },
   {
    "duration": 179,
    "start_time": "2023-01-15T12:04:30.224Z"
   },
   {
    "duration": 141,
    "start_time": "2023-01-15T12:04:30.405Z"
   },
   {
    "duration": 188,
    "start_time": "2023-01-15T12:04:30.548Z"
   },
   {
    "duration": 137,
    "start_time": "2023-01-15T12:04:30.738Z"
   },
   {
    "duration": 139,
    "start_time": "2023-01-15T12:04:30.877Z"
   },
   {
    "duration": 30,
    "start_time": "2023-01-15T12:04:31.017Z"
   },
   {
    "duration": 97,
    "start_time": "2023-01-15T12:04:31.048Z"
   },
   {
    "duration": 14,
    "start_time": "2023-01-15T12:05:36.256Z"
   },
   {
    "duration": 4,
    "start_time": "2023-01-15T12:06:31.493Z"
   },
   {
    "duration": 15,
    "start_time": "2023-01-15T12:06:55.539Z"
   },
   {
    "duration": 117,
    "start_time": "2023-01-15T14:43:07.308Z"
   },
   {
    "duration": 14,
    "start_time": "2023-01-15T14:43:11.859Z"
   },
   {
    "duration": 1876,
    "start_time": "2023-01-15T14:43:15.310Z"
   },
   {
    "duration": 11,
    "start_time": "2023-01-15T14:43:55.128Z"
   },
   {
    "duration": 4,
    "start_time": "2023-01-15T14:43:58.649Z"
   },
   {
    "duration": 4,
    "start_time": "2023-01-15T14:43:59.009Z"
   },
   {
    "duration": 6,
    "start_time": "2023-01-15T14:44:03.455Z"
   },
   {
    "duration": 8,
    "start_time": "2023-01-15T14:44:03.788Z"
   },
   {
    "duration": 9,
    "start_time": "2023-01-15T14:44:04.068Z"
   },
   {
    "duration": 11,
    "start_time": "2023-01-15T14:44:05.729Z"
   },
   {
    "duration": 5,
    "start_time": "2023-01-15T14:44:12.786Z"
   },
   {
    "duration": 7,
    "start_time": "2023-01-15T14:45:53.946Z"
   },
   {
    "duration": 5,
    "start_time": "2023-01-15T14:47:28.053Z"
   },
   {
    "duration": 4,
    "start_time": "2023-01-15T14:47:28.649Z"
   },
   {
    "duration": 11,
    "start_time": "2023-01-15T14:47:29.026Z"
   },
   {
    "duration": 9,
    "start_time": "2023-01-15T14:47:29.406Z"
   },
   {
    "duration": 7,
    "start_time": "2023-01-15T14:47:29.989Z"
   },
   {
    "duration": 7,
    "start_time": "2023-01-15T14:57:22.174Z"
   },
   {
    "duration": 6,
    "start_time": "2023-01-15T14:57:22.974Z"
   },
   {
    "duration": 17,
    "start_time": "2023-01-15T15:01:54.314Z"
   },
   {
    "duration": 27,
    "start_time": "2023-01-15T15:02:05.814Z"
   },
   {
    "duration": 5,
    "start_time": "2023-01-15T15:04:28.927Z"
   },
   {
    "duration": 21,
    "start_time": "2023-01-15T15:04:50.544Z"
   },
   {
    "duration": 31,
    "start_time": "2023-01-15T15:10:12.448Z"
   },
   {
    "duration": 19,
    "start_time": "2023-01-15T15:11:44.546Z"
   },
   {
    "duration": 6,
    "start_time": "2023-01-15T15:12:55.021Z"
   },
   {
    "duration": 27,
    "start_time": "2023-01-15T15:12:55.496Z"
   },
   {
    "duration": 70,
    "start_time": "2023-01-15T15:12:57.331Z"
   },
   {
    "duration": 128,
    "start_time": "2023-01-15T15:12:58.274Z"
   },
   {
    "duration": 175,
    "start_time": "2023-01-15T15:12:58.928Z"
   },
   {
    "duration": 185,
    "start_time": "2023-01-15T15:12:59.659Z"
   },
   {
    "duration": 205,
    "start_time": "2023-01-15T15:13:00.255Z"
   },
   {
    "duration": 154,
    "start_time": "2023-01-15T15:13:01.135Z"
   },
   {
    "duration": 15,
    "start_time": "2023-01-15T15:13:01.635Z"
   },
   {
    "duration": 156,
    "start_time": "2023-01-15T15:13:02.295Z"
   },
   {
    "duration": 144,
    "start_time": "2023-01-15T15:13:02.975Z"
   },
   {
    "duration": 13,
    "start_time": "2023-01-15T15:13:03.696Z"
   },
   {
    "duration": 201,
    "start_time": "2023-01-15T15:13:04.027Z"
   },
   {
    "duration": 151,
    "start_time": "2023-01-15T15:13:04.733Z"
   },
   {
    "duration": 12,
    "start_time": "2023-01-15T15:13:05.355Z"
   },
   {
    "duration": 215,
    "start_time": "2023-01-15T15:13:05.755Z"
   },
   {
    "duration": 123,
    "start_time": "2023-01-15T15:13:06.375Z"
   },
   {
    "duration": 267,
    "start_time": "2023-01-15T15:13:07.147Z"
   },
   {
    "duration": 276,
    "start_time": "2023-01-15T15:13:07.816Z"
   },
   {
    "duration": 19,
    "start_time": "2023-01-15T15:13:08.535Z"
   },
   {
    "duration": 3,
    "start_time": "2023-01-15T15:13:10.895Z"
   },
   {
    "duration": 30,
    "start_time": "2023-01-15T15:13:33.348Z"
   },
   {
    "duration": 29,
    "start_time": "2023-01-15T15:13:49.737Z"
   },
   {
    "duration": 21,
    "start_time": "2023-01-15T15:25:12.042Z"
   },
   {
    "duration": 21,
    "start_time": "2023-01-15T15:25:19.630Z"
   },
   {
    "duration": 21,
    "start_time": "2023-01-15T15:25:28.749Z"
   },
   {
    "duration": 6,
    "start_time": "2023-01-15T15:26:20.569Z"
   },
   {
    "duration": 9,
    "start_time": "2023-01-15T15:26:22.349Z"
   },
   {
    "duration": 5,
    "start_time": "2023-01-15T15:26:23.449Z"
   },
   {
    "duration": 10,
    "start_time": "2023-01-15T15:31:35.913Z"
   },
   {
    "duration": 8,
    "start_time": "2023-01-15T15:31:49.703Z"
   },
   {
    "duration": 8,
    "start_time": "2023-01-15T15:33:12.317Z"
   },
   {
    "duration": 5,
    "start_time": "2023-01-15T15:34:24.680Z"
   },
   {
    "duration": 412,
    "start_time": "2023-01-15T15:34:44.879Z"
   },
   {
    "duration": 8,
    "start_time": "2023-01-15T15:34:46.540Z"
   },
   {
    "duration": 759,
    "start_time": "2023-01-15T15:38:51.517Z"
   },
   {
    "duration": 364,
    "start_time": "2023-01-15T15:39:01.529Z"
   },
   {
    "duration": 12,
    "start_time": "2023-01-15T15:39:02.229Z"
   },
   {
    "duration": 12,
    "start_time": "2023-01-15T15:39:14.848Z"
   },
   {
    "duration": 30,
    "start_time": "2023-01-15T15:51:25.946Z"
   },
   {
    "duration": 25,
    "start_time": "2023-01-15T15:51:38.707Z"
   },
   {
    "duration": 26,
    "start_time": "2023-01-15T15:51:55.646Z"
   },
   {
    "duration": 28,
    "start_time": "2023-01-15T15:52:19.970Z"
   },
   {
    "duration": 114,
    "start_time": "2023-01-15T15:53:34.329Z"
   },
   {
    "duration": 758,
    "start_time": "2023-01-15T15:53:50.028Z"
   },
   {
    "duration": 698,
    "start_time": "2023-01-15T15:53:54.376Z"
   },
   {
    "duration": 707,
    "start_time": "2023-01-15T15:53:55.129Z"
   },
   {
    "duration": 121,
    "start_time": "2023-01-15T15:54:13.929Z"
   },
   {
    "duration": 17,
    "start_time": "2023-01-15T15:54:14.217Z"
   },
   {
    "duration": 2007,
    "start_time": "2023-01-15T15:54:14.428Z"
   },
   {
    "duration": 9,
    "start_time": "2023-01-15T15:54:16.437Z"
   },
   {
    "duration": 4,
    "start_time": "2023-01-15T15:54:16.447Z"
   },
   {
    "duration": 6,
    "start_time": "2023-01-15T15:54:16.453Z"
   },
   {
    "duration": 5,
    "start_time": "2023-01-15T15:54:17.026Z"
   },
   {
    "duration": 7,
    "start_time": "2023-01-15T15:54:17.228Z"
   },
   {
    "duration": 7,
    "start_time": "2023-01-15T15:54:18.089Z"
   },
   {
    "duration": 11,
    "start_time": "2023-01-15T15:54:18.098Z"
   },
   {
    "duration": 5,
    "start_time": "2023-01-15T15:54:18.226Z"
   },
   {
    "duration": 4,
    "start_time": "2023-01-15T15:54:18.669Z"
   },
   {
    "duration": 4,
    "start_time": "2023-01-15T15:54:18.849Z"
   },
   {
    "duration": 11,
    "start_time": "2023-01-15T15:54:19.048Z"
   },
   {
    "duration": 7,
    "start_time": "2023-01-15T15:54:19.268Z"
   },
   {
    "duration": 7,
    "start_time": "2023-01-15T15:54:19.900Z"
   },
   {
    "duration": 5,
    "start_time": "2023-01-15T15:54:20.669Z"
   },
   {
    "duration": 27,
    "start_time": "2023-01-15T15:54:20.872Z"
   },
   {
    "duration": 83,
    "start_time": "2023-01-15T15:54:21.886Z"
   },
   {
    "duration": 133,
    "start_time": "2023-01-15T15:54:22.469Z"
   },
   {
    "duration": 19,
    "start_time": "2023-01-15T15:54:22.888Z"
   },
   {
    "duration": 202,
    "start_time": "2023-01-15T15:54:23.269Z"
   },
   {
    "duration": 196,
    "start_time": "2023-01-15T15:54:23.668Z"
   },
   {
    "duration": 152,
    "start_time": "2023-01-15T15:54:24.091Z"
   },
   {
    "duration": 15,
    "start_time": "2023-01-15T15:54:24.446Z"
   },
   {
    "duration": 306,
    "start_time": "2023-01-15T15:54:24.829Z"
   },
   {
    "duration": 139,
    "start_time": "2023-01-15T15:54:25.272Z"
   },
   {
    "duration": 10,
    "start_time": "2023-01-15T15:54:25.649Z"
   },
   {
    "duration": 202,
    "start_time": "2023-01-15T15:54:25.869Z"
   },
   {
    "duration": 159,
    "start_time": "2023-01-15T15:54:26.228Z"
   },
   {
    "duration": 13,
    "start_time": "2023-01-15T15:54:26.606Z"
   },
   {
    "duration": 173,
    "start_time": "2023-01-15T15:54:26.808Z"
   },
   {
    "duration": 131,
    "start_time": "2023-01-15T15:54:29.969Z"
   },
   {
    "duration": 189,
    "start_time": "2023-01-15T15:54:30.366Z"
   },
   {
    "duration": 258,
    "start_time": "2023-01-15T15:54:30.709Z"
   },
   {
    "duration": 18,
    "start_time": "2023-01-15T15:54:31.109Z"
   },
   {
    "duration": 3,
    "start_time": "2023-01-15T15:54:31.581Z"
   },
   {
    "duration": 8,
    "start_time": "2023-01-15T15:54:32.769Z"
   },
   {
    "duration": 9,
    "start_time": "2023-01-15T15:54:33.186Z"
   },
   {
    "duration": 6,
    "start_time": "2023-01-15T15:54:33.587Z"
   },
   {
    "duration": 8,
    "start_time": "2023-01-15T15:54:34.006Z"
   },
   {
    "duration": 463,
    "start_time": "2023-01-15T15:54:34.628Z"
   },
   {
    "duration": 6,
    "start_time": "2023-01-15T15:54:35.097Z"
   },
   {
    "duration": 157,
    "start_time": "2023-01-15T15:54:36.128Z"
   },
   {
    "duration": 132,
    "start_time": "2023-01-15T15:54:36.982Z"
   },
   {
    "duration": 165,
    "start_time": "2023-01-15T15:54:37.662Z"
   },
   {
    "duration": 245,
    "start_time": "2023-01-15T15:54:38.316Z"
   },
   {
    "duration": 125,
    "start_time": "2023-01-15T15:54:39.649Z"
   },
   {
    "duration": 192,
    "start_time": "2023-01-15T15:54:39.776Z"
   },
   {
    "duration": 154,
    "start_time": "2023-01-15T15:54:40.792Z"
   },
   {
    "duration": 117,
    "start_time": "2023-01-15T15:54:42.527Z"
   },
   {
    "duration": 144,
    "start_time": "2023-01-15T15:54:43.508Z"
   },
   {
    "duration": 192,
    "start_time": "2023-01-15T15:54:44.169Z"
   },
   {
    "duration": 398,
    "start_time": "2023-01-15T15:54:44.847Z"
   },
   {
    "duration": 147,
    "start_time": "2023-01-15T15:54:45.587Z"
   },
   {
    "duration": 149,
    "start_time": "2023-01-15T15:54:46.229Z"
   },
   {
    "duration": 124,
    "start_time": "2023-01-15T15:54:46.649Z"
   },
   {
    "duration": 179,
    "start_time": "2023-01-15T15:54:47.788Z"
   },
   {
    "duration": 177,
    "start_time": "2023-01-15T15:54:48.028Z"
   },
   {
    "duration": 230,
    "start_time": "2023-01-15T15:54:48.266Z"
   },
   {
    "duration": 156,
    "start_time": "2023-01-15T15:54:48.498Z"
   },
   {
    "duration": 116,
    "start_time": "2023-01-15T15:54:48.687Z"
   },
   {
    "duration": 131,
    "start_time": "2023-01-15T15:54:48.966Z"
   },
   {
    "duration": 112,
    "start_time": "2023-01-15T15:54:49.147Z"
   },
   {
    "duration": 16,
    "start_time": "2023-01-15T15:54:49.308Z"
   },
   {
    "duration": 321,
    "start_time": "2023-01-15T15:54:50.169Z"
   },
   {
    "duration": 11,
    "start_time": "2023-01-15T15:54:50.496Z"
   },
   {
    "duration": 178,
    "start_time": "2023-01-15T15:54:51.108Z"
   },
   {
    "duration": 232,
    "start_time": "2023-01-15T15:54:56.130Z"
   },
   {
    "duration": 204,
    "start_time": "2023-01-15T15:54:56.364Z"
   },
   {
    "duration": 325,
    "start_time": "2023-01-15T15:54:56.929Z"
   },
   {
    "duration": 151,
    "start_time": "2023-01-15T15:54:57.256Z"
   },
   {
    "duration": 187,
    "start_time": "2023-01-15T15:54:57.535Z"
   },
   {
    "duration": 131,
    "start_time": "2023-01-15T15:54:57.749Z"
   },
   {
    "duration": 125,
    "start_time": "2023-01-15T15:54:58.429Z"
   },
   {
    "duration": 26,
    "start_time": "2023-01-15T15:54:59.669Z"
   },
   {
    "duration": 224,
    "start_time": "2023-01-15T15:55:00.969Z"
   },
   {
    "duration": 127,
    "start_time": "2023-01-15T16:30:55.765Z"
   },
   {
    "duration": 18,
    "start_time": "2023-01-15T16:30:56.114Z"
   },
   {
    "duration": 1786,
    "start_time": "2023-01-15T16:30:56.337Z"
   },
   {
    "duration": 9,
    "start_time": "2023-01-15T16:30:58.125Z"
   },
   {
    "duration": 5,
    "start_time": "2023-01-15T16:30:59.520Z"
   },
   {
    "duration": 3,
    "start_time": "2023-01-15T16:30:59.828Z"
   },
   {
    "duration": 5,
    "start_time": "2023-01-15T16:31:00.833Z"
   },
   {
    "duration": 6,
    "start_time": "2023-01-15T16:31:01.121Z"
   },
   {
    "duration": 8,
    "start_time": "2023-01-15T16:31:01.386Z"
   },
   {
    "duration": 8,
    "start_time": "2023-01-15T16:31:01.930Z"
   },
   {
    "duration": 5,
    "start_time": "2023-01-15T16:31:02.680Z"
   },
   {
    "duration": 5,
    "start_time": "2023-01-15T16:31:03.608Z"
   },
   {
    "duration": 4,
    "start_time": "2023-01-15T16:31:03.825Z"
   },
   {
    "duration": 12,
    "start_time": "2023-01-15T16:31:04.071Z"
   },
   {
    "duration": 6,
    "start_time": "2023-01-15T16:31:04.350Z"
   },
   {
    "duration": 7,
    "start_time": "2023-01-15T16:31:04.575Z"
   },
   {
    "duration": 6,
    "start_time": "2023-01-15T16:31:05.635Z"
   },
   {
    "duration": 26,
    "start_time": "2023-01-15T16:31:06.017Z"
   },
   {
    "duration": 249,
    "start_time": "2023-01-15T16:31:08.508Z"
   },
   {
    "duration": 138,
    "start_time": "2023-01-15T16:31:10.351Z"
   },
   {
    "duration": 20,
    "start_time": "2023-01-15T16:31:10.497Z"
   },
   {
    "duration": 176,
    "start_time": "2023-01-15T16:31:11.079Z"
   },
   {
    "duration": 183,
    "start_time": "2023-01-15T16:31:15.594Z"
   },
   {
    "duration": 133,
    "start_time": "2023-01-15T16:31:20.616Z"
   },
   {
    "duration": 17,
    "start_time": "2023-01-15T16:31:24.112Z"
   },
   {
    "duration": 174,
    "start_time": "2023-01-15T16:31:26.220Z"
   },
   {
    "duration": 134,
    "start_time": "2023-01-15T16:31:27.923Z"
   },
   {
    "duration": 13,
    "start_time": "2023-01-15T16:31:29.917Z"
   },
   {
    "duration": 214,
    "start_time": "2023-01-15T16:31:30.570Z"
   },
   {
    "duration": 143,
    "start_time": "2023-01-15T16:31:31.939Z"
   },
   {
    "duration": 11,
    "start_time": "2023-01-15T16:31:33.051Z"
   },
   {
    "duration": 159,
    "start_time": "2023-01-15T16:31:33.522Z"
   },
   {
    "duration": 128,
    "start_time": "2023-01-15T16:31:35.823Z"
   },
   {
    "duration": 179,
    "start_time": "2023-01-15T16:31:37.306Z"
   },
   {
    "duration": 253,
    "start_time": "2023-01-15T16:31:39.174Z"
   },
   {
    "duration": 23,
    "start_time": "2023-01-15T16:31:41.707Z"
   },
   {
    "duration": 2,
    "start_time": "2023-01-15T16:31:43.053Z"
   },
   {
    "duration": 7,
    "start_time": "2023-01-15T16:31:49.120Z"
   },
   {
    "duration": 7,
    "start_time": "2023-01-15T16:31:50.540Z"
   },
   {
    "duration": 6,
    "start_time": "2023-01-15T16:31:56.794Z"
   },
   {
    "duration": 7,
    "start_time": "2023-01-15T16:31:58.354Z"
   },
   {
    "duration": 374,
    "start_time": "2023-01-15T16:32:01.578Z"
   },
   {
    "duration": 7,
    "start_time": "2023-01-15T16:32:03.549Z"
   },
   {
    "duration": 131,
    "start_time": "2023-01-15T16:32:09.480Z"
   },
   {
    "duration": 142,
    "start_time": "2023-01-15T16:32:14.552Z"
   },
   {
    "duration": 379,
    "start_time": "2023-01-15T16:32:15.864Z"
   },
   {
    "duration": 249,
    "start_time": "2023-01-15T16:32:17.570Z"
   },
   {
    "duration": 127,
    "start_time": "2023-01-15T16:32:19.318Z"
   },
   {
    "duration": 176,
    "start_time": "2023-01-15T16:32:20.918Z"
   },
   {
    "duration": 146,
    "start_time": "2023-01-15T16:32:22.440Z"
   },
   {
    "duration": 136,
    "start_time": "2023-01-15T16:32:23.854Z"
   },
   {
    "duration": 148,
    "start_time": "2023-01-15T16:32:26.753Z"
   },
   {
    "duration": 212,
    "start_time": "2023-01-15T16:32:28.154Z"
   },
   {
    "duration": 251,
    "start_time": "2023-01-15T16:32:29.550Z"
   },
   {
    "duration": 139,
    "start_time": "2023-01-15T16:33:12.405Z"
   },
   {
    "duration": 136,
    "start_time": "2023-01-15T16:33:14.080Z"
   },
   {
    "duration": 144,
    "start_time": "2023-01-15T16:33:15.408Z"
   },
   {
    "duration": 159,
    "start_time": "2023-01-15T16:33:21.440Z"
   },
   {
    "duration": 190,
    "start_time": "2023-01-15T16:33:21.929Z"
   },
   {
    "duration": 232,
    "start_time": "2023-01-15T16:33:22.154Z"
   },
   {
    "duration": 149,
    "start_time": "2023-01-15T16:33:24.403Z"
   },
   {
    "duration": 134,
    "start_time": "2023-01-15T16:33:25.844Z"
   },
   {
    "duration": 146,
    "start_time": "2023-01-15T16:33:26.966Z"
   },
   {
    "duration": 132,
    "start_time": "2023-01-15T16:33:29.506Z"
   },
   {
    "duration": 17,
    "start_time": "2023-01-15T16:33:31.612Z"
   },
   {
    "duration": 557,
    "start_time": "2023-01-15T16:33:36.181Z"
   },
   {
    "duration": 15,
    "start_time": "2023-01-15T16:33:36.969Z"
   },
   {
    "duration": 28,
    "start_time": "2023-01-15T17:00:08.402Z"
   },
   {
    "duration": 33,
    "start_time": "2023-01-15T17:00:55.889Z"
   },
   {
    "duration": 29,
    "start_time": "2023-01-15T17:01:38.735Z"
   },
   {
    "duration": 618,
    "start_time": "2023-01-15T20:46:22.192Z"
   },
   {
    "duration": 15,
    "start_time": "2023-01-15T20:46:22.812Z"
   },
   {
    "duration": 2384,
    "start_time": "2023-01-15T20:46:22.829Z"
   },
   {
    "duration": 11,
    "start_time": "2023-01-15T20:46:25.221Z"
   },
   {
    "duration": 6,
    "start_time": "2023-01-15T20:46:25.234Z"
   },
   {
    "duration": 6,
    "start_time": "2023-01-15T20:46:25.242Z"
   },
   {
    "duration": 7,
    "start_time": "2023-01-15T20:46:25.249Z"
   },
   {
    "duration": 9,
    "start_time": "2023-01-15T20:46:25.258Z"
   },
   {
    "duration": 10,
    "start_time": "2023-01-15T20:46:25.269Z"
   },
   {
    "duration": 46,
    "start_time": "2023-01-15T20:46:25.282Z"
   },
   {
    "duration": 6,
    "start_time": "2023-01-15T20:46:25.330Z"
   },
   {
    "duration": 8,
    "start_time": "2023-01-15T20:46:25.337Z"
   },
   {
    "duration": 5,
    "start_time": "2023-01-15T20:46:25.347Z"
   },
   {
    "duration": 9,
    "start_time": "2023-01-15T20:46:25.353Z"
   },
   {
    "duration": 7,
    "start_time": "2023-01-15T20:46:25.364Z"
   },
   {
    "duration": 7,
    "start_time": "2023-01-15T20:46:25.373Z"
   },
   {
    "duration": 8,
    "start_time": "2023-01-15T20:46:25.381Z"
   },
   {
    "duration": 26,
    "start_time": "2023-01-15T20:46:25.423Z"
   },
   {
    "duration": 82,
    "start_time": "2023-01-15T20:46:25.451Z"
   },
   {
    "duration": 145,
    "start_time": "2023-01-15T20:46:25.535Z"
   },
   {
    "duration": 19,
    "start_time": "2023-01-15T20:46:25.682Z"
   },
   {
    "duration": 220,
    "start_time": "2023-01-15T20:46:25.702Z"
   },
   {
    "duration": 192,
    "start_time": "2023-01-15T20:46:25.923Z"
   },
   {
    "duration": 143,
    "start_time": "2023-01-15T20:46:26.116Z"
   },
   {
    "duration": 14,
    "start_time": "2023-01-15T20:46:26.261Z"
   },
   {
    "duration": 256,
    "start_time": "2023-01-15T20:46:26.277Z"
   },
   {
    "duration": 138,
    "start_time": "2023-01-15T20:46:26.535Z"
   },
   {
    "duration": 11,
    "start_time": "2023-01-15T20:46:26.678Z"
   },
   {
    "duration": 187,
    "start_time": "2023-01-15T20:46:26.690Z"
   },
   {
    "duration": 165,
    "start_time": "2023-01-15T20:46:26.879Z"
   },
   {
    "duration": 12,
    "start_time": "2023-01-15T20:46:27.046Z"
   },
   {
    "duration": 178,
    "start_time": "2023-01-15T20:46:27.060Z"
   },
   {
    "duration": 135,
    "start_time": "2023-01-15T20:46:27.240Z"
   },
   {
    "duration": 181,
    "start_time": "2023-01-15T20:46:27.377Z"
   },
   {
    "duration": 288,
    "start_time": "2023-01-15T20:46:27.560Z"
   },
   {
    "duration": 20,
    "start_time": "2023-01-15T20:46:27.850Z"
   },
   {
    "duration": 4,
    "start_time": "2023-01-15T20:46:27.872Z"
   },
   {
    "duration": 9,
    "start_time": "2023-01-15T20:46:27.878Z"
   },
   {
    "duration": 10,
    "start_time": "2023-01-15T20:46:27.889Z"
   },
   {
    "duration": 25,
    "start_time": "2023-01-15T20:46:27.900Z"
   },
   {
    "duration": 8,
    "start_time": "2023-01-15T20:46:27.926Z"
   },
   {
    "duration": 428,
    "start_time": "2023-01-15T20:46:27.935Z"
   },
   {
    "duration": 6,
    "start_time": "2023-01-15T20:46:28.364Z"
   },
   {
    "duration": 140,
    "start_time": "2023-01-15T20:46:28.372Z"
   },
   {
    "duration": 127,
    "start_time": "2023-01-15T20:46:28.513Z"
   },
   {
    "duration": 149,
    "start_time": "2023-01-15T20:46:28.641Z"
   },
   {
    "duration": 233,
    "start_time": "2023-01-15T20:46:28.791Z"
   },
   {
    "duration": 131,
    "start_time": "2023-01-15T20:46:29.026Z"
   },
   {
    "duration": 175,
    "start_time": "2023-01-15T20:46:29.159Z"
   },
   {
    "duration": 153,
    "start_time": "2023-01-15T20:46:29.335Z"
   },
   {
    "duration": 204,
    "start_time": "2023-01-15T20:46:29.490Z"
   },
   {
    "duration": 142,
    "start_time": "2023-01-15T20:46:29.696Z"
   },
   {
    "duration": 185,
    "start_time": "2023-01-15T20:46:29.839Z"
   },
   {
    "duration": 251,
    "start_time": "2023-01-15T20:46:30.026Z"
   },
   {
    "duration": 152,
    "start_time": "2023-01-15T20:46:30.278Z"
   },
   {
    "duration": 144,
    "start_time": "2023-01-15T20:46:30.431Z"
   },
   {
    "duration": 132,
    "start_time": "2023-01-15T20:46:30.577Z"
   },
   {
    "duration": 184,
    "start_time": "2023-01-15T20:46:30.711Z"
   },
   {
    "duration": 199,
    "start_time": "2023-01-15T20:46:30.897Z"
   },
   {
    "duration": 335,
    "start_time": "2023-01-15T20:46:31.098Z"
   },
   {
    "duration": 153,
    "start_time": "2023-01-15T20:46:31.435Z"
   },
   {
    "duration": 147,
    "start_time": "2023-01-15T20:46:31.590Z"
   },
   {
    "duration": 156,
    "start_time": "2023-01-15T20:46:31.739Z"
   },
   {
    "duration": 110,
    "start_time": "2023-01-15T20:46:31.897Z"
   },
   {
    "duration": 27,
    "start_time": "2023-01-15T20:46:32.009Z"
   },
   {
    "duration": 304,
    "start_time": "2023-01-15T20:46:32.037Z"
   },
   {
    "duration": 11,
    "start_time": "2023-01-15T20:46:32.342Z"
   },
   {
    "duration": 181,
    "start_time": "2023-01-15T20:46:32.355Z"
   },
   {
    "duration": 199,
    "start_time": "2023-01-15T20:46:32.538Z"
   },
   {
    "duration": 184,
    "start_time": "2023-01-15T20:46:32.738Z"
   },
   {
    "duration": 184,
    "start_time": "2023-01-15T20:46:32.923Z"
   },
   {
    "duration": 148,
    "start_time": "2023-01-15T20:46:33.109Z"
   },
   {
    "duration": 194,
    "start_time": "2023-01-15T20:46:33.259Z"
   },
   {
    "duration": 135,
    "start_time": "2023-01-15T20:46:33.456Z"
   },
   {
    "duration": 130,
    "start_time": "2023-01-15T20:46:33.593Z"
   },
   {
    "duration": 29,
    "start_time": "2023-01-15T20:46:33.726Z"
   },
   {
    "duration": 390,
    "start_time": "2023-01-15T20:46:33.757Z"
   },
   {
    "duration": 236,
    "start_time": "2023-01-15T20:48:00.812Z"
   },
   {
    "duration": 557,
    "start_time": "2023-09-30T16:22:57.378Z"
   },
   {
    "duration": 71,
    "start_time": "2023-09-30T16:23:02.436Z"
   },
   {
    "duration": 449,
    "start_time": "2023-09-30T16:23:14.436Z"
   },
   {
    "duration": 9,
    "start_time": "2023-09-30T16:24:04.934Z"
   },
   {
    "duration": 6,
    "start_time": "2023-09-30T16:24:10.067Z"
   },
   {
    "duration": 3,
    "start_time": "2023-09-30T16:24:10.314Z"
   },
   {
    "duration": 5,
    "start_time": "2023-09-30T16:24:10.518Z"
   },
   {
    "duration": 10,
    "start_time": "2023-09-30T16:24:10.690Z"
   },
   {
    "duration": 10,
    "start_time": "2023-09-30T16:24:10.888Z"
   },
   {
    "duration": 9,
    "start_time": "2023-09-30T16:24:13.860Z"
   },
   {
    "duration": 588,
    "start_time": "2023-09-30T16:24:20.321Z"
   },
   {
    "duration": 16,
    "start_time": "2023-09-30T16:24:20.912Z"
   },
   {
    "duration": 2209,
    "start_time": "2023-09-30T16:24:20.929Z"
   },
   {
    "duration": 53,
    "start_time": "2023-09-30T16:24:23.140Z"
   },
   {
    "duration": 6,
    "start_time": "2023-09-30T16:24:23.194Z"
   },
   {
    "duration": 5,
    "start_time": "2023-09-30T16:24:23.201Z"
   },
   {
    "duration": 9,
    "start_time": "2023-09-30T16:24:23.207Z"
   },
   {
    "duration": 9,
    "start_time": "2023-09-30T16:24:23.217Z"
   },
   {
    "duration": 9,
    "start_time": "2023-09-30T16:24:23.244Z"
   },
   {
    "duration": 9,
    "start_time": "2023-09-30T16:24:23.255Z"
   },
   {
    "duration": 5,
    "start_time": "2023-09-30T16:24:23.265Z"
   },
   {
    "duration": 3,
    "start_time": "2023-09-30T16:24:23.272Z"
   },
   {
    "duration": 4,
    "start_time": "2023-09-30T16:24:23.277Z"
   },
   {
    "duration": 9,
    "start_time": "2023-09-30T16:24:23.282Z"
   },
   {
    "duration": 6,
    "start_time": "2023-09-30T16:24:23.292Z"
   },
   {
    "duration": 8,
    "start_time": "2023-09-30T16:24:23.300Z"
   },
   {
    "duration": 40,
    "start_time": "2023-09-30T16:24:23.309Z"
   },
   {
    "duration": 27,
    "start_time": "2023-09-30T16:24:23.351Z"
   },
   {
    "duration": 89,
    "start_time": "2023-09-30T16:24:23.380Z"
   },
   {
    "duration": 144,
    "start_time": "2023-09-30T16:24:23.471Z"
   },
   {
    "duration": 28,
    "start_time": "2023-09-30T16:24:23.616Z"
   },
   {
    "duration": 195,
    "start_time": "2023-09-30T16:24:23.646Z"
   },
   {
    "duration": 245,
    "start_time": "2023-09-30T16:24:23.842Z"
   },
   {
    "duration": 277,
    "start_time": "2023-09-30T16:24:24.089Z"
   },
   {
    "duration": 15,
    "start_time": "2023-09-30T16:24:24.368Z"
   },
   {
    "duration": 286,
    "start_time": "2023-09-30T16:24:24.385Z"
   },
   {
    "duration": 376,
    "start_time": "2023-09-30T16:24:24.672Z"
   },
   {
    "duration": 11,
    "start_time": "2023-09-30T16:24:25.052Z"
   },
   {
    "duration": 408,
    "start_time": "2023-09-30T16:24:25.065Z"
   },
   {
    "duration": 312,
    "start_time": "2023-09-30T16:24:25.475Z"
   },
   {
    "duration": 65,
    "start_time": "2023-09-30T16:24:25.789Z"
   },
   {
    "duration": 325,
    "start_time": "2023-09-30T16:24:25.856Z"
   },
   {
    "duration": 272,
    "start_time": "2023-09-30T16:24:26.183Z"
   },
   {
    "duration": 206,
    "start_time": "2023-09-30T16:24:26.457Z"
   },
   {
    "duration": 342,
    "start_time": "2023-09-30T16:24:26.665Z"
   },
   {
    "duration": 24,
    "start_time": "2023-09-30T16:24:27.009Z"
   },
   {
    "duration": 3,
    "start_time": "2023-09-30T16:24:27.044Z"
   },
   {
    "duration": 9,
    "start_time": "2023-09-30T16:24:27.049Z"
   },
   {
    "duration": 9,
    "start_time": "2023-09-30T16:24:27.060Z"
   },
   {
    "duration": 42,
    "start_time": "2023-09-30T16:24:27.071Z"
   },
   {
    "duration": 8,
    "start_time": "2023-09-30T16:24:27.115Z"
   },
   {
    "duration": 378,
    "start_time": "2023-09-30T16:24:27.125Z"
   },
   {
    "duration": 6,
    "start_time": "2023-09-30T16:24:27.504Z"
   },
   {
    "duration": 134,
    "start_time": "2023-09-30T16:24:27.512Z"
   },
   {
    "duration": 125,
    "start_time": "2023-09-30T16:24:27.648Z"
   },
   {
    "duration": 160,
    "start_time": "2023-09-30T16:24:27.774Z"
   },
   {
    "duration": 253,
    "start_time": "2023-09-30T16:24:27.936Z"
   },
   {
    "duration": 143,
    "start_time": "2023-09-30T16:24:28.191Z"
   },
   {
    "duration": 163,
    "start_time": "2023-09-30T16:24:28.344Z"
   },
   {
    "duration": 262,
    "start_time": "2023-09-30T16:24:28.509Z"
   },
   {
    "duration": 149,
    "start_time": "2023-09-30T16:24:28.773Z"
   },
   {
    "duration": 156,
    "start_time": "2023-09-30T16:24:28.924Z"
   },
   {
    "duration": 192,
    "start_time": "2023-09-30T16:24:29.082Z"
   },
   {
    "duration": 272,
    "start_time": "2023-09-30T16:24:29.276Z"
   },
   {
    "duration": 187,
    "start_time": "2023-09-30T16:24:29.550Z"
   },
   {
    "duration": 154,
    "start_time": "2023-09-30T16:24:29.739Z"
   },
   {
    "duration": 132,
    "start_time": "2023-09-30T16:24:29.895Z"
   },
   {
    "duration": 195,
    "start_time": "2023-09-30T16:24:30.028Z"
   },
   {
    "duration": 228,
    "start_time": "2023-09-30T16:24:30.225Z"
   },
   {
    "duration": 376,
    "start_time": "2023-09-30T16:24:30.455Z"
   },
   {
    "duration": 196,
    "start_time": "2023-09-30T16:24:30.832Z"
   },
   {
    "duration": 128,
    "start_time": "2023-09-30T16:24:31.030Z"
   },
   {
    "duration": 158,
    "start_time": "2023-09-30T16:24:31.160Z"
   },
   {
    "duration": 144,
    "start_time": "2023-09-30T16:24:31.320Z"
   },
   {
    "duration": 21,
    "start_time": "2023-09-30T16:24:31.466Z"
   },
   {
    "duration": 327,
    "start_time": "2023-09-30T16:24:31.489Z"
   },
   {
    "duration": 11,
    "start_time": "2023-09-30T16:24:31.818Z"
   },
   {
    "duration": 182,
    "start_time": "2023-09-30T16:24:31.845Z"
   },
   {
    "duration": 227,
    "start_time": "2023-09-30T16:24:32.028Z"
   },
   {
    "duration": 205,
    "start_time": "2023-09-30T16:24:32.257Z"
   },
   {
    "duration": 168,
    "start_time": "2023-09-30T16:24:32.465Z"
   },
   {
    "duration": 156,
    "start_time": "2023-09-30T16:24:32.635Z"
   },
   {
    "duration": 187,
    "start_time": "2023-09-30T16:24:32.792Z"
   },
   {
    "duration": 258,
    "start_time": "2023-09-30T16:24:32.981Z"
   },
   {
    "duration": 120,
    "start_time": "2023-09-30T16:24:33.244Z"
   },
   {
    "duration": 26,
    "start_time": "2023-09-30T16:24:33.366Z"
   },
   {
    "duration": 257,
    "start_time": "2023-09-30T16:24:33.394Z"
   },
   {
    "duration": 21,
    "start_time": "2023-09-30T16:29:49.762Z"
   },
   {
    "duration": 1464,
    "start_time": "2023-09-30T16:32:44.585Z"
   },
   {
    "duration": 1247,
    "start_time": "2023-09-30T16:32:51.317Z"
   }
  ],
  "kernelspec": {
   "display_name": "Python 3 (ipykernel)",
   "language": "python",
   "name": "python3"
  },
  "language_info": {
   "codemirror_mode": {
    "name": "ipython",
    "version": 3
   },
   "file_extension": ".py",
   "mimetype": "text/x-python",
   "name": "python",
   "nbconvert_exporter": "python",
   "pygments_lexer": "ipython3",
   "version": "3.9.5"
  },
  "toc": {
   "base_numbering": 1,
   "nav_menu": {},
   "number_sections": true,
   "sideBar": true,
   "skip_h1_title": true,
   "title_cell": "Table of Contents",
   "title_sidebar": "Contents",
   "toc_cell": false,
   "toc_position": {
    "height": "calc(100% - 180px)",
    "left": "10px",
    "top": "150px",
    "width": "165px"
   },
   "toc_section_display": true,
   "toc_window_display": true
  }
 },
 "nbformat": 4,
 "nbformat_minor": 2
}
