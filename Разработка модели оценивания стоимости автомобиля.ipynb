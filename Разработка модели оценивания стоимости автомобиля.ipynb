{
 "cells": [
  {
   "cell_type": "markdown",
   "metadata": {},
   "source": [
    "# Разработка модели оценивания стоимости автомобиля"
   ]
  },
  {
   "cell_type": "markdown",
   "metadata": {},
   "source": [
    "Сервис по продаже автомобилей с пробегом «Не бит, не крашен» разрабатывает приложение для привлечения новых клиентов. В нём можно быстро узнать рыночную стоимость своего автомобиля. В вашем распоряжении исторические данные: технические характеристики, комплектации и цены автомобилей. Вам нужно построить модель для определения стоимости. \n",
    "\n",
    "Заказчику важны:\n",
    "\n",
    "- качество предсказания;\n",
    "- скорость предсказания;\n",
    "- время обучения."
   ]
  },
  {
   "cell_type": "markdown",
   "metadata": {},
   "source": [
    "## Подготовка данных"
   ]
  },
  {
   "cell_type": "code",
   "execution_count": 1,
   "metadata": {},
   "outputs": [],
   "source": [
    "import pandas as pd\n",
    "import numpy as np\n",
    "from sklearn.metrics import mean_squared_error\n",
    "from sklearn.model_selection import train_test_split\n",
    "from sklearn.linear_model import LinearRegression\n",
    "from sklearn.preprocessing import StandardScaler\n",
    "import matplotlib.pyplot as plt\n",
    "from lightgbm import LGBMRegressor\n",
    "from catboost import CatBoostRegressor\n",
    "from sklearn.ensemble import RandomForestRegressor\n",
    "from catboost import Pool, CatBoostRegressor, cv\n",
    "from sklearn.preprocessing import OrdinalEncoder\n",
    "from sklearn.tree import DecisionTreeRegressor\n",
    "from sklearn.model_selection import GridSearchCV\n",
    "import time"
   ]
  },
  {
   "cell_type": "code",
   "execution_count": 2,
   "metadata": {},
   "outputs": [
    {
     "data": {
      "text/html": [
       "<div>\n",
       "<style scoped>\n",
       "    .dataframe tbody tr th:only-of-type {\n",
       "        vertical-align: middle;\n",
       "    }\n",
       "\n",
       "    .dataframe tbody tr th {\n",
       "        vertical-align: top;\n",
       "    }\n",
       "\n",
       "    .dataframe thead th {\n",
       "        text-align: right;\n",
       "    }\n",
       "</style>\n",
       "<table border=\"1\" class=\"dataframe\">\n",
       "  <thead>\n",
       "    <tr style=\"text-align: right;\">\n",
       "      <th></th>\n",
       "      <th>DateCrawled</th>\n",
       "      <th>Price</th>\n",
       "      <th>VehicleType</th>\n",
       "      <th>RegistrationYear</th>\n",
       "      <th>Gearbox</th>\n",
       "      <th>Power</th>\n",
       "      <th>Model</th>\n",
       "      <th>Kilometer</th>\n",
       "      <th>RegistrationMonth</th>\n",
       "      <th>FuelType</th>\n",
       "      <th>Brand</th>\n",
       "      <th>Repaired</th>\n",
       "      <th>DateCreated</th>\n",
       "      <th>NumberOfPictures</th>\n",
       "      <th>PostalCode</th>\n",
       "      <th>LastSeen</th>\n",
       "    </tr>\n",
       "  </thead>\n",
       "  <tbody>\n",
       "    <tr>\n",
       "      <th>0</th>\n",
       "      <td>2016-03-24 11:52:17</td>\n",
       "      <td>480</td>\n",
       "      <td>NaN</td>\n",
       "      <td>1993</td>\n",
       "      <td>manual</td>\n",
       "      <td>0</td>\n",
       "      <td>golf</td>\n",
       "      <td>150000</td>\n",
       "      <td>0</td>\n",
       "      <td>petrol</td>\n",
       "      <td>volkswagen</td>\n",
       "      <td>NaN</td>\n",
       "      <td>2016-03-24 00:00:00</td>\n",
       "      <td>0</td>\n",
       "      <td>70435</td>\n",
       "      <td>2016-04-07 03:16:57</td>\n",
       "    </tr>\n",
       "    <tr>\n",
       "      <th>1</th>\n",
       "      <td>2016-03-24 10:58:45</td>\n",
       "      <td>18300</td>\n",
       "      <td>coupe</td>\n",
       "      <td>2011</td>\n",
       "      <td>manual</td>\n",
       "      <td>190</td>\n",
       "      <td>NaN</td>\n",
       "      <td>125000</td>\n",
       "      <td>5</td>\n",
       "      <td>gasoline</td>\n",
       "      <td>audi</td>\n",
       "      <td>yes</td>\n",
       "      <td>2016-03-24 00:00:00</td>\n",
       "      <td>0</td>\n",
       "      <td>66954</td>\n",
       "      <td>2016-04-07 01:46:50</td>\n",
       "    </tr>\n",
       "    <tr>\n",
       "      <th>2</th>\n",
       "      <td>2016-03-14 12:52:21</td>\n",
       "      <td>9800</td>\n",
       "      <td>suv</td>\n",
       "      <td>2004</td>\n",
       "      <td>auto</td>\n",
       "      <td>163</td>\n",
       "      <td>grand</td>\n",
       "      <td>125000</td>\n",
       "      <td>8</td>\n",
       "      <td>gasoline</td>\n",
       "      <td>jeep</td>\n",
       "      <td>NaN</td>\n",
       "      <td>2016-03-14 00:00:00</td>\n",
       "      <td>0</td>\n",
       "      <td>90480</td>\n",
       "      <td>2016-04-05 12:47:46</td>\n",
       "    </tr>\n",
       "    <tr>\n",
       "      <th>3</th>\n",
       "      <td>2016-03-17 16:54:04</td>\n",
       "      <td>1500</td>\n",
       "      <td>small</td>\n",
       "      <td>2001</td>\n",
       "      <td>manual</td>\n",
       "      <td>75</td>\n",
       "      <td>golf</td>\n",
       "      <td>150000</td>\n",
       "      <td>6</td>\n",
       "      <td>petrol</td>\n",
       "      <td>volkswagen</td>\n",
       "      <td>no</td>\n",
       "      <td>2016-03-17 00:00:00</td>\n",
       "      <td>0</td>\n",
       "      <td>91074</td>\n",
       "      <td>2016-03-17 17:40:17</td>\n",
       "    </tr>\n",
       "    <tr>\n",
       "      <th>4</th>\n",
       "      <td>2016-03-31 17:25:20</td>\n",
       "      <td>3600</td>\n",
       "      <td>small</td>\n",
       "      <td>2008</td>\n",
       "      <td>manual</td>\n",
       "      <td>69</td>\n",
       "      <td>fabia</td>\n",
       "      <td>90000</td>\n",
       "      <td>7</td>\n",
       "      <td>gasoline</td>\n",
       "      <td>skoda</td>\n",
       "      <td>no</td>\n",
       "      <td>2016-03-31 00:00:00</td>\n",
       "      <td>0</td>\n",
       "      <td>60437</td>\n",
       "      <td>2016-04-06 10:17:21</td>\n",
       "    </tr>\n",
       "  </tbody>\n",
       "</table>\n",
       "</div>"
      ],
      "text/plain": [
       "           DateCrawled  Price VehicleType  RegistrationYear Gearbox  Power  \\\n",
       "0  2016-03-24 11:52:17    480         NaN              1993  manual      0   \n",
       "1  2016-03-24 10:58:45  18300       coupe              2011  manual    190   \n",
       "2  2016-03-14 12:52:21   9800         suv              2004    auto    163   \n",
       "3  2016-03-17 16:54:04   1500       small              2001  manual     75   \n",
       "4  2016-03-31 17:25:20   3600       small              2008  manual     69   \n",
       "\n",
       "   Model  Kilometer  RegistrationMonth  FuelType       Brand Repaired  \\\n",
       "0   golf     150000                  0    petrol  volkswagen      NaN   \n",
       "1    NaN     125000                  5  gasoline        audi      yes   \n",
       "2  grand     125000                  8  gasoline        jeep      NaN   \n",
       "3   golf     150000                  6    petrol  volkswagen       no   \n",
       "4  fabia      90000                  7  gasoline       skoda       no   \n",
       "\n",
       "           DateCreated  NumberOfPictures  PostalCode             LastSeen  \n",
       "0  2016-03-24 00:00:00                 0       70435  2016-04-07 03:16:57  \n",
       "1  2016-03-24 00:00:00                 0       66954  2016-04-07 01:46:50  \n",
       "2  2016-03-14 00:00:00                 0       90480  2016-04-05 12:47:46  \n",
       "3  2016-03-17 00:00:00                 0       91074  2016-03-17 17:40:17  \n",
       "4  2016-03-31 00:00:00                 0       60437  2016-04-06 10:17:21  "
      ]
     },
     "execution_count": 2,
     "metadata": {},
     "output_type": "execute_result"
    }
   ],
   "source": [
    "data =  pd.read_csv('/datasets/autos.csv')\n",
    "data.head()"
   ]
  },
  {
   "cell_type": "code",
   "execution_count": 3,
   "metadata": {},
   "outputs": [
    {
     "name": "stdout",
     "output_type": "stream",
     "text": [
      "<class 'pandas.core.frame.DataFrame'>\n",
      "RangeIndex: 354369 entries, 0 to 354368\n",
      "Data columns (total 16 columns):\n",
      " #   Column             Non-Null Count   Dtype \n",
      "---  ------             --------------   ----- \n",
      " 0   DateCrawled        354369 non-null  object\n",
      " 1   Price              354369 non-null  int64 \n",
      " 2   VehicleType        316879 non-null  object\n",
      " 3   RegistrationYear   354369 non-null  int64 \n",
      " 4   Gearbox            334536 non-null  object\n",
      " 5   Power              354369 non-null  int64 \n",
      " 6   Model              334664 non-null  object\n",
      " 7   Kilometer          354369 non-null  int64 \n",
      " 8   RegistrationMonth  354369 non-null  int64 \n",
      " 9   FuelType           321474 non-null  object\n",
      " 10  Brand              354369 non-null  object\n",
      " 11  Repaired           283215 non-null  object\n",
      " 12  DateCreated        354369 non-null  object\n",
      " 13  NumberOfPictures   354369 non-null  int64 \n",
      " 14  PostalCode         354369 non-null  int64 \n",
      " 15  LastSeen           354369 non-null  object\n",
      "dtypes: int64(7), object(9)\n",
      "memory usage: 43.3+ MB\n"
     ]
    }
   ],
   "source": [
    "data.info()"
   ]
  },
  {
   "cell_type": "markdown",
   "metadata": {},
   "source": [
    "**В данных есть пропуски и не все значения в столбце соответствуют своему типу.**"
   ]
  },
  {
   "cell_type": "markdown",
   "metadata": {},
   "source": [
    "Приведём столбцы с датой к формату datetime64"
   ]
  },
  {
   "cell_type": "code",
   "execution_count": 4,
   "metadata": {},
   "outputs": [],
   "source": [
    "data['DateCrawled'] = pd.to_datetime(data['DateCrawled'], format='%Y-%m-%d %H:%M:%S')\n",
    "data['DateCreated'] = pd.to_datetime(data['DateCreated'], format='%Y-%m-%d %H:%M:%S')\n",
    "data['LastSeen'] = pd.to_datetime(data['LastSeen'], format='%Y-%m-%d %H:%M:%S')"
   ]
  },
  {
   "cell_type": "code",
   "execution_count": 5,
   "metadata": {},
   "outputs": [
    {
     "data": {
      "image/png": "[encoded data removed]",
      "text/plain": [
       "<Figure size 3600x3600 with 12 Axes>"
      ]
     },
     "metadata": {
      "needs_background": "light"
     },
     "output_type": "display_data"
    }
   ],
   "source": [
    "data.hist(figsize=(50, 50));"
   ]
  },
  {
   "cell_type": "code",
   "execution_count": 6,
   "metadata": {},
   "outputs": [
    {
     "data": {
      "text/html": [
       "<div>\n",
       "<style scoped>\n",
       "    .dataframe tbody tr th:only-of-type {\n",
       "        vertical-align: middle;\n",
       "    }\n",
       "\n",
       "    .dataframe tbody tr th {\n",
       "        vertical-align: top;\n",
       "    }\n",
       "\n",
       "    .dataframe thead th {\n",
       "        text-align: right;\n",
       "    }\n",
       "</style>\n",
       "<table border=\"1\" class=\"dataframe\">\n",
       "  <thead>\n",
       "    <tr style=\"text-align: right;\">\n",
       "      <th></th>\n",
       "      <th>Price</th>\n",
       "      <th>RegistrationYear</th>\n",
       "      <th>Power</th>\n",
       "      <th>Kilometer</th>\n",
       "      <th>RegistrationMonth</th>\n",
       "      <th>NumberOfPictures</th>\n",
       "      <th>PostalCode</th>\n",
       "    </tr>\n",
       "  </thead>\n",
       "  <tbody>\n",
       "    <tr>\n",
       "      <th>count</th>\n",
       "      <td>354369.000000</td>\n",
       "      <td>354369.000000</td>\n",
       "      <td>354369.000000</td>\n",
       "      <td>354369.000000</td>\n",
       "      <td>354369.000000</td>\n",
       "      <td>354369.0</td>\n",
       "      <td>354369.000000</td>\n",
       "    </tr>\n",
       "    <tr>\n",
       "      <th>mean</th>\n",
       "      <td>4416.656776</td>\n",
       "      <td>2004.234448</td>\n",
       "      <td>110.094337</td>\n",
       "      <td>128211.172535</td>\n",
       "      <td>5.714645</td>\n",
       "      <td>0.0</td>\n",
       "      <td>50508.689087</td>\n",
       "    </tr>\n",
       "    <tr>\n",
       "      <th>std</th>\n",
       "      <td>4514.158514</td>\n",
       "      <td>90.227958</td>\n",
       "      <td>189.850405</td>\n",
       "      <td>37905.341530</td>\n",
       "      <td>3.726421</td>\n",
       "      <td>0.0</td>\n",
       "      <td>25783.096248</td>\n",
       "    </tr>\n",
       "    <tr>\n",
       "      <th>min</th>\n",
       "      <td>0.000000</td>\n",
       "      <td>1000.000000</td>\n",
       "      <td>0.000000</td>\n",
       "      <td>5000.000000</td>\n",
       "      <td>0.000000</td>\n",
       "      <td>0.0</td>\n",
       "      <td>1067.000000</td>\n",
       "    </tr>\n",
       "    <tr>\n",
       "      <th>25%</th>\n",
       "      <td>1050.000000</td>\n",
       "      <td>1999.000000</td>\n",
       "      <td>69.000000</td>\n",
       "      <td>125000.000000</td>\n",
       "      <td>3.000000</td>\n",
       "      <td>0.0</td>\n",
       "      <td>30165.000000</td>\n",
       "    </tr>\n",
       "    <tr>\n",
       "      <th>50%</th>\n",
       "      <td>2700.000000</td>\n",
       "      <td>2003.000000</td>\n",
       "      <td>105.000000</td>\n",
       "      <td>150000.000000</td>\n",
       "      <td>6.000000</td>\n",
       "      <td>0.0</td>\n",
       "      <td>49413.000000</td>\n",
       "    </tr>\n",
       "    <tr>\n",
       "      <th>75%</th>\n",
       "      <td>6400.000000</td>\n",
       "      <td>2008.000000</td>\n",
       "      <td>143.000000</td>\n",
       "      <td>150000.000000</td>\n",
       "      <td>9.000000</td>\n",
       "      <td>0.0</td>\n",
       "      <td>71083.000000</td>\n",
       "    </tr>\n",
       "    <tr>\n",
       "      <th>max</th>\n",
       "      <td>20000.000000</td>\n",
       "      <td>9999.000000</td>\n",
       "      <td>20000.000000</td>\n",
       "      <td>150000.000000</td>\n",
       "      <td>12.000000</td>\n",
       "      <td>0.0</td>\n",
       "      <td>99998.000000</td>\n",
       "    </tr>\n",
       "  </tbody>\n",
       "</table>\n",
       "</div>"
      ],
      "text/plain": [
       "               Price  RegistrationYear          Power      Kilometer  \\\n",
       "count  354369.000000     354369.000000  354369.000000  354369.000000   \n",
       "mean     4416.656776       2004.234448     110.094337  128211.172535   \n",
       "std      4514.158514         90.227958     189.850405   37905.341530   \n",
       "min         0.000000       1000.000000       0.000000    5000.000000   \n",
       "25%      1050.000000       1999.000000      69.000000  125000.000000   \n",
       "50%      2700.000000       2003.000000     105.000000  150000.000000   \n",
       "75%      6400.000000       2008.000000     143.000000  150000.000000   \n",
       "max     20000.000000       9999.000000   20000.000000  150000.000000   \n",
       "\n",
       "       RegistrationMonth  NumberOfPictures     PostalCode  \n",
       "count      354369.000000          354369.0  354369.000000  \n",
       "mean            5.714645               0.0   50508.689087  \n",
       "std             3.726421               0.0   25783.096248  \n",
       "min             0.000000               0.0    1067.000000  \n",
       "25%             3.000000               0.0   30165.000000  \n",
       "50%             6.000000               0.0   49413.000000  \n",
       "75%             9.000000               0.0   71083.000000  \n",
       "max            12.000000               0.0   99998.000000  "
      ]
     },
     "execution_count": 6,
     "metadata": {},
     "output_type": "execute_result"
    }
   ],
   "source": [
    "data.describe()"
   ]
  },
  {
   "cell_type": "markdown",
   "metadata": {},
   "source": [
    "**Подозрительным кажется столбец NumberOfPictures, все его значения = 0**\n",
    "\n",
    "**Разберем далее каждый столбец в отдельност**"
   ]
  },
  {
   "cell_type": "code",
   "execution_count": 7,
   "metadata": {},
   "outputs": [
    {
     "data": {
      "text/html": [
       "<style  type=\"text/css\" >\n",
       "#T_cf626_row0_col0,#T_cf626_row1_col0,#T_cf626_row3_col0,#T_cf626_row5_col0,#T_cf626_row7_col0,#T_cf626_row8_col0,#T_cf626_row10_col0,#T_cf626_row12_col0,#T_cf626_row13_col0,#T_cf626_row14_col0,#T_cf626_row15_col0{\n",
       "            background-color:  #3b4cc0;\n",
       "            color:  #f1f1f1;\n",
       "        }#T_cf626_row2_col0{\n",
       "            background-color:  #e9d5cb;\n",
       "            color:  #000000;\n",
       "        }#T_cf626_row4_col0,#T_cf626_row6_col0{\n",
       "            background-color:  #9ebeff;\n",
       "            color:  #000000;\n",
       "        }#T_cf626_row9_col0{\n",
       "            background-color:  #cfdaea;\n",
       "            color:  #000000;\n",
       "        }#T_cf626_row11_col0{\n",
       "            background-color:  #b40426;\n",
       "            color:  #f1f1f1;\n",
       "        }</style><table id=\"T_cf626_\" ><thead>    <tr>        <th class=\"blank level0\" ></th>        <th class=\"col_heading level0 col0\" >0</th>    </tr></thead><tbody>\n",
       "                <tr>\n",
       "                        <th id=\"T_cf626_level0_row0\" class=\"row_heading level0 row0\" >DateCrawled</th>\n",
       "                        <td id=\"T_cf626_row0_col0\" class=\"data row0 col0\" >0.000000</td>\n",
       "            </tr>\n",
       "            <tr>\n",
       "                        <th id=\"T_cf626_level0_row1\" class=\"row_heading level0 row1\" >Price</th>\n",
       "                        <td id=\"T_cf626_row1_col0\" class=\"data row1 col0\" >0.000000</td>\n",
       "            </tr>\n",
       "            <tr>\n",
       "                        <th id=\"T_cf626_level0_row2\" class=\"row_heading level0 row2\" >VehicleType</th>\n",
       "                        <td id=\"T_cf626_row2_col0\" class=\"data row2 col0\" >11.000000</td>\n",
       "            </tr>\n",
       "            <tr>\n",
       "                        <th id=\"T_cf626_level0_row3\" class=\"row_heading level0 row3\" >RegistrationYear</th>\n",
       "                        <td id=\"T_cf626_row3_col0\" class=\"data row3 col0\" >0.000000</td>\n",
       "            </tr>\n",
       "            <tr>\n",
       "                        <th id=\"T_cf626_level0_row4\" class=\"row_heading level0 row4\" >Gearbox</th>\n",
       "                        <td id=\"T_cf626_row4_col0\" class=\"data row4 col0\" >6.000000</td>\n",
       "            </tr>\n",
       "            <tr>\n",
       "                        <th id=\"T_cf626_level0_row5\" class=\"row_heading level0 row5\" >Power</th>\n",
       "                        <td id=\"T_cf626_row5_col0\" class=\"data row5 col0\" >0.000000</td>\n",
       "            </tr>\n",
       "            <tr>\n",
       "                        <th id=\"T_cf626_level0_row6\" class=\"row_heading level0 row6\" >Model</th>\n",
       "                        <td id=\"T_cf626_row6_col0\" class=\"data row6 col0\" >6.000000</td>\n",
       "            </tr>\n",
       "            <tr>\n",
       "                        <th id=\"T_cf626_level0_row7\" class=\"row_heading level0 row7\" >Kilometer</th>\n",
       "                        <td id=\"T_cf626_row7_col0\" class=\"data row7 col0\" >0.000000</td>\n",
       "            </tr>\n",
       "            <tr>\n",
       "                        <th id=\"T_cf626_level0_row8\" class=\"row_heading level0 row8\" >RegistrationMonth</th>\n",
       "                        <td id=\"T_cf626_row8_col0\" class=\"data row8 col0\" >0.000000</td>\n",
       "            </tr>\n",
       "            <tr>\n",
       "                        <th id=\"T_cf626_level0_row9\" class=\"row_heading level0 row9\" >FuelType</th>\n",
       "                        <td id=\"T_cf626_row9_col0\" class=\"data row9 col0\" >9.000000</td>\n",
       "            </tr>\n",
       "            <tr>\n",
       "                        <th id=\"T_cf626_level0_row10\" class=\"row_heading level0 row10\" >Brand</th>\n",
       "                        <td id=\"T_cf626_row10_col0\" class=\"data row10 col0\" >0.000000</td>\n",
       "            </tr>\n",
       "            <tr>\n",
       "                        <th id=\"T_cf626_level0_row11\" class=\"row_heading level0 row11\" >Repaired</th>\n",
       "                        <td id=\"T_cf626_row11_col0\" class=\"data row11 col0\" >20.000000</td>\n",
       "            </tr>\n",
       "            <tr>\n",
       "                        <th id=\"T_cf626_level0_row12\" class=\"row_heading level0 row12\" >DateCreated</th>\n",
       "                        <td id=\"T_cf626_row12_col0\" class=\"data row12 col0\" >0.000000</td>\n",
       "            </tr>\n",
       "            <tr>\n",
       "                        <th id=\"T_cf626_level0_row13\" class=\"row_heading level0 row13\" >NumberOfPictures</th>\n",
       "                        <td id=\"T_cf626_row13_col0\" class=\"data row13 col0\" >0.000000</td>\n",
       "            </tr>\n",
       "            <tr>\n",
       "                        <th id=\"T_cf626_level0_row14\" class=\"row_heading level0 row14\" >PostalCode</th>\n",
       "                        <td id=\"T_cf626_row14_col0\" class=\"data row14 col0\" >0.000000</td>\n",
       "            </tr>\n",
       "            <tr>\n",
       "                        <th id=\"T_cf626_level0_row15\" class=\"row_heading level0 row15\" >LastSeen</th>\n",
       "                        <td id=\"T_cf626_row15_col0\" class=\"data row15 col0\" >0.000000</td>\n",
       "            </tr>\n",
       "    </tbody></table>"
      ],
      "text/plain": [
       "<pandas.io.formats.style.Styler at 0x7f9017e1edf0>"
      ]
     },
     "execution_count": 7,
     "metadata": {},
     "output_type": "execute_result"
    }
   ],
   "source": [
    "# колличество пропусков в %\n",
    "pd.DataFrame(round(data.isna().mean()*100,)).style.background_gradient('coolwarm')"
   ]
  },
  {
   "cell_type": "markdown",
   "metadata": {},
   "source": [
    "В 5 столбцах из 16 есть пропуски\n",
    "\n",
    "Больштнство пропусков имеет стлбец: Repaired — была машина в ремонте или нет. \n",
    "\n",
    "\n",
    "<div class=\"alert alert-info\">\n",
    "<font size=\"4\"></font>Если пропускков меньше 10% их лучше сразу удалить"
   ]
  },
  {
   "cell_type": "code",
   "execution_count": 8,
   "metadata": {},
   "outputs": [],
   "source": [
    "#data = data.dropna(subset = ['VehicleType'])\n",
    "#data = data.dropna(subset = ['Gearbox'])\n",
    "data = data.dropna(subset = ['Model'])\n",
    "#data = data.dropna(subset = ['FuelType'])"
   ]
  },
  {
   "cell_type": "markdown",
   "metadata": {},
   "source": [
    "<div class=\"alert alert-info\">\n",
    "<font size=\"4\"></font>\n",
    "#значения где пропуски привышают 10% заменим заглушкой "
   ]
  },
  {
   "cell_type": "code",
   "execution_count": 9,
   "metadata": {},
   "outputs": [],
   "source": [
    "data['VehicleType']=data['VehicleType'].fillna('unknown')"
   ]
  },
  {
   "cell_type": "code",
   "execution_count": 10,
   "metadata": {},
   "outputs": [],
   "source": [
    "data['Gearbox']=data['Gearbox'].fillna('unknown')"
   ]
  },
  {
   "cell_type": "code",
   "execution_count": 11,
   "metadata": {},
   "outputs": [],
   "source": [
    "#data['Model']=data['Model'].fillna('unknown')"
   ]
  },
  {
   "cell_type": "code",
   "execution_count": 12,
   "metadata": {},
   "outputs": [],
   "source": [
    "data['FuelType']=data['FuelType'].fillna('unknown')"
   ]
  },
  {
   "cell_type": "code",
   "execution_count": 13,
   "metadata": {},
   "outputs": [
    {
     "data": {
      "text/plain": [
       "0.9443941202531824"
      ]
     },
     "execution_count": 13,
     "metadata": {},
     "output_type": "execute_result"
    }
   ],
   "source": [
    "# КОД РЕВЬЮЕРА\n",
    "data.shape[0] / 354369"
   ]
  },
  {
   "cell_type": "markdown",
   "metadata": {},
   "source": [
    "<div class=\"alert alert-info\">\n",
    "<font size=\"4\"></font> удалила пропуски только в одном столбце, что примерно - 6% )"
   ]
  },
  {
   "cell_type": "code",
   "execution_count": 14,
   "metadata": {},
   "outputs": [
    {
     "data": {
      "text/plain": [
       "array([nan, 'no', 'yes'], dtype=object)"
      ]
     },
     "execution_count": 14,
     "metadata": {},
     "output_type": "execute_result"
    }
   ],
   "source": [
    "data['Repaired'].unique()"
   ]
  },
  {
   "cell_type": "markdown",
   "metadata": {},
   "source": [
    "**В столбце Repaired почти 20% не имеют значчений, это довольно много, поэтому поставим заглушку \"unknown\"**"
   ]
  },
  {
   "cell_type": "code",
   "execution_count": 15,
   "metadata": {},
   "outputs": [],
   "source": [
    "data['Repaired']=data['Repaired'].fillna('unknown')"
   ]
  },
  {
   "cell_type": "code",
   "execution_count": 16,
   "metadata": {},
   "outputs": [
    {
     "data": {
      "text/plain": [
       "DateCrawled          0\n",
       "Price                0\n",
       "VehicleType          0\n",
       "RegistrationYear     0\n",
       "Gearbox              0\n",
       "Power                0\n",
       "Model                0\n",
       "Kilometer            0\n",
       "RegistrationMonth    0\n",
       "FuelType             0\n",
       "Brand                0\n",
       "Repaired             0\n",
       "DateCreated          0\n",
       "NumberOfPictures     0\n",
       "PostalCode           0\n",
       "LastSeen             0\n",
       "dtype: int64"
      ]
     },
     "execution_count": 16,
     "metadata": {},
     "output_type": "execute_result"
    }
   ],
   "source": [
    "data.isna().sum()"
   ]
  },
  {
   "cell_type": "markdown",
   "metadata": {},
   "source": [
    "**Пропуски обработаны**"
   ]
  },
  {
   "cell_type": "code",
   "execution_count": 17,
   "metadata": {},
   "outputs": [
    {
     "data": {
      "text/plain": [
       "31030"
      ]
     },
     "execution_count": 17,
     "metadata": {},
     "output_type": "execute_result"
    }
   ],
   "source": [
    "data.loc[(data['Price'] < 500), 'Price'].count()"
   ]
  },
  {
   "cell_type": "markdown",
   "metadata": {},
   "source": [
    "**Вряд ли есть хорошая машина в нормальном состоянии дешевле 500 евро(45000рубл**"
   ]
  },
  {
   "cell_type": "code",
   "execution_count": 18,
   "metadata": {},
   "outputs": [],
   "source": [
    "data = data.query('Price> 500') #отсеиваем значения по цене"
   ]
  },
  {
   "cell_type": "markdown",
   "metadata": {},
   "source": [
    "**Рассмотрим год регистрации машин** \n",
    "\n",
    "\n",
    "Машины выпущенные позже 90-ых годов являются уже очень старыми, и являются либо не пригодными для использования либо коллекционными/антиквариатом "
   ]
  },
  {
   "cell_type": "code",
   "execution_count": 21,
   "metadata": {},
   "outputs": [
    {
     "data": {
      "text/plain": [
       "array([2004, 2001, 2008, 1995, 2014, 1998, 2005, 2011, 2007, 2009, 2002,\n",
       "       2018, 2017, 1981, 2003, 2016, 1991, 1984, 2006, 1999, 2012, 2010,\n",
       "       2000, 1992, 1993, 1997, 2013, 1994, 1996, 1990, 1989, 2015, 1985,\n",
       "       1982, 1976, 1983, 1973, 1969, 1971, 1987, 1988, 1980, 1986, 1965,\n",
       "       1970, 1945, 1974, 1955, 1978, 1979, 1972, 1968, 1977, 1966, 1975,\n",
       "       1910, 1963, 1967, 9999, 1960, 1500, 1964, 2066, 1949, 2019, 1937,\n",
       "       1951, 1959, 1953, 1954, 1958, 1956, 1962, 9000, 2900, 5911, 1400,\n",
       "       5000, 1961, 4000, 1952, 8500, 1932, 1950, 1000, 3700, 1942, 1933,\n",
       "       1936, 1957, 1923, 2290, 1930, 1001, 7000, 1929, 1943, 1938, 1934,\n",
       "       1935, 1928, 1941, 5555, 1800, 6000, 1931, 4500, 7800, 1947, 1927,\n",
       "       7100, 1600])"
      ]
     },
     "execution_count": 21,
     "metadata": {},
     "output_type": "execute_result"
    }
   ],
   "source": [
    "data.RegistrationYear.unique()"
   ]
  },
  {
   "cell_type": "code",
   "execution_count": 22,
   "metadata": {},
   "outputs": [
    {
     "data": {
      "text/plain": [
       "array([2004, 2001, 2008, 1995, 2014, 1998, 2005, 2011, 2007, 2009, 2002,\n",
       "       2003, 2016, 1991, 2006, 1999, 2012, 2010, 2000, 1992, 1993, 1997,\n",
       "       2013, 1994, 1996, 1990, 2015])"
      ]
     },
     "execution_count": 22,
     "metadata": {},
     "output_type": "execute_result"
    }
   ],
   "source": [
    "data = data.loc[(data['RegistrationYear'] <= 2016) & (data['RegistrationYear'] >= 1990)]\n",
    "data.RegistrationYear.unique()"
   ]
  },
  {
   "cell_type": "markdown",
   "metadata": {},
   "source": [
    "**В среднем мощность машины от 100 до 500**, \n",
    "но возьмем более широкий диапозон в качестве всевозможных исключений"
   ]
  },
  {
   "cell_type": "code",
   "execution_count": 23,
   "metadata": {},
   "outputs": [
    {
     "data": {
      "text/plain": [
       "20725"
      ]
     },
     "execution_count": 23,
     "metadata": {},
     "output_type": "execute_result"
    }
   ],
   "source": [
    "#Колличество объявлений с некорректной мощностью:\n",
    "len(data.loc[(data['Power'] > 1000) | (data['Power'] < 30)])"
   ]
  },
  {
   "cell_type": "code",
   "execution_count": 24,
   "metadata": {},
   "outputs": [],
   "source": [
    "data=data.query('Power > 30 & Power < 1000')"
   ]
  },
  {
   "cell_type": "code",
   "execution_count": 25,
   "metadata": {
    "scrolled": true
   },
   "outputs": [
    {
     "name": "stdout",
     "output_type": "stream",
     "text": [
      "[ 8  6  7 10  0 12 11  2  3  1  4  9  5]\n"
     ]
    },
    {
     "data": {
      "text/plain": [
       "3     27019\n",
       "6     24467\n",
       "4     22747\n",
       "5     22690\n",
       "7     21061\n",
       "10    20842\n",
       "11    19107\n",
       "12    19069\n",
       "9     18968\n",
       "1     17823\n",
       "8     17719\n",
       "2     16632\n",
       "0     11497\n",
       "Name: RegistrationMonth, dtype: int64"
      ]
     },
     "execution_count": 25,
     "metadata": {},
     "output_type": "execute_result"
    }
   ],
   "source": [
    "print(data.RegistrationMonth.unique())\n",
    "data.RegistrationMonth.value_counts()"
   ]
  },
  {
   "cell_type": "markdown",
   "metadata": {},
   "source": [
    "**Так как значений равных нулю не много можем просто избавиться от них**"
   ]
  },
  {
   "cell_type": "code",
   "execution_count": 26,
   "metadata": {},
   "outputs": [],
   "source": [
    "#data=data.query('RegistrationMonth !=0')\n",
    "#data.RegistrationMonth.unique()"
   ]
  },
  {
   "cell_type": "code",
   "execution_count": 27,
   "metadata": {},
   "outputs": [
    {
     "data": {
      "text/plain": [
       "array(['jeep', 'volkswagen', 'skoda', 'bmw', 'peugeot', 'ford', 'mazda',\n",
       "       'nissan', 'renault', 'mercedes_benz', 'honda', 'fiat', 'opel',\n",
       "       'mini', 'smart', 'hyundai', 'audi', 'subaru', 'volvo',\n",
       "       'mitsubishi', 'alfa_romeo', 'kia', 'seat', 'lancia', 'citroen',\n",
       "       'toyota', 'chevrolet', 'dacia', 'suzuki', 'daihatsu', 'chrysler',\n",
       "       'jaguar', 'daewoo', 'rover', 'porsche', 'saab', 'land_rover',\n",
       "       'lada', 'trabant'], dtype=object)"
      ]
     },
     "execution_count": 27,
     "metadata": {},
     "output_type": "execute_result"
    }
   ],
   "source": [
    "data.Brand.unique()"
   ]
  },
  {
   "cell_type": "markdown",
   "metadata": {},
   "source": [
    "**Все названия корректны, пропусков нет, неявных дубликатов нет**"
   ]
  },
  {
   "cell_type": "code",
   "execution_count": 28,
   "metadata": {},
   "outputs": [
    {
     "name": "stderr",
     "output_type": "stream",
     "text": [
      "/tmp/ipykernel_402/892293459.py:1: FutureWarning: Treating datetime data as categorical rather than numeric in `.describe` is deprecated and will be removed in a future version of pandas. Specify `datetime_is_numeric=True` to silence this warning and adopt the future behavior now.\n",
      "  data.DateCreated.describe()\n"
     ]
    },
    {
     "data": {
      "text/plain": [
       "count                  259641\n",
       "unique                    105\n",
       "top       2016-04-03 00:00:00\n",
       "freq                    10323\n",
       "first     2015-03-20 00:00:00\n",
       "last      2016-04-07 00:00:00\n",
       "Name: DateCreated, dtype: object"
      ]
     },
     "execution_count": 28,
     "metadata": {},
     "output_type": "execute_result"
    }
   ],
   "source": [
    "data.DateCreated.describe()"
   ]
  },
  {
   "cell_type": "markdown",
   "metadata": {},
   "source": [
    "**Аномалий не выявлено**"
   ]
  },
  {
   "cell_type": "code",
   "execution_count": 29,
   "metadata": {},
   "outputs": [
    {
     "data": {
      "text/plain": [
       "array([90480, 91074, 60437, ..., 24363, 95691, 86751])"
      ]
     },
     "execution_count": 29,
     "metadata": {},
     "output_type": "execute_result"
    }
   ],
   "source": [
    "data.PostalCode.unique()"
   ]
  },
  {
   "cell_type": "markdown",
   "metadata": {},
   "source": [
    "**Можем предположить, что индекс не влияет на цену машины**"
   ]
  },
  {
   "cell_type": "code",
   "execution_count": 30,
   "metadata": {},
   "outputs": [
    {
     "name": "stderr",
     "output_type": "stream",
     "text": [
      "/tmp/ipykernel_402/4000383376.py:1: FutureWarning: Treating datetime data as categorical rather than numeric in `.describe` is deprecated and will be removed in a future version of pandas. Specify `datetime_is_numeric=True` to silence this warning and adopt the future behavior now.\n",
      "  data.LastSeen.describe()\n"
     ]
    },
    {
     "data": {
      "text/plain": [
       "count                  259641\n",
       "unique                 138222\n",
       "top       2016-04-07 13:17:48\n",
       "freq                       15\n",
       "first     2016-03-05 14:15:08\n",
       "last      2016-04-07 14:58:51\n",
       "Name: LastSeen, dtype: object"
      ]
     },
     "execution_count": 30,
     "metadata": {},
     "output_type": "execute_result"
    }
   ],
   "source": [
    "data.LastSeen.describe()"
   ]
  },
  {
   "cell_type": "code",
   "execution_count": 31,
   "metadata": {
    "scrolled": true
   },
   "outputs": [
    {
     "name": "stderr",
     "output_type": "stream",
     "text": [
      "/opt/conda/lib/python3.9/site-packages/pandas/io/formats/style.py:1264: RuntimeWarning: All-NaN slice encountered\n",
      "  smin = np.nanmin(s.to_numpy()) if vmin is None else vmin\n",
      "/opt/conda/lib/python3.9/site-packages/pandas/io/formats/style.py:1265: RuntimeWarning: All-NaN slice encountered\n",
      "  smax = np.nanmax(s.to_numpy()) if vmax is None else vmax\n"
     ]
    },
    {
     "data": {
      "text/html": [
       "<style  type=\"text/css\" >\n",
       "#T_e68bd_row0_col0,#T_e68bd_row1_col1,#T_e68bd_row2_col2,#T_e68bd_row3_col3,#T_e68bd_row4_col4,#T_e68bd_row6_col6{\n",
       "            background-color:  #b40426;\n",
       "            color:  #f1f1f1;\n",
       "        }#T_e68bd_row0_col1{\n",
       "            background-color:  #f59f80;\n",
       "            color:  #000000;\n",
       "        }#T_e68bd_row0_col2{\n",
       "            background-color:  #d7dce3;\n",
       "            color:  #000000;\n",
       "        }#T_e68bd_row0_col3,#T_e68bd_row6_col2{\n",
       "            background-color:  #4257c9;\n",
       "            color:  #f1f1f1;\n",
       "        }#T_e68bd_row0_col4,#T_e68bd_row2_col6{\n",
       "            background-color:  #4b64d5;\n",
       "            color:  #f1f1f1;\n",
       "        }#T_e68bd_row0_col5,#T_e68bd_row1_col5,#T_e68bd_row2_col5,#T_e68bd_row3_col5,#T_e68bd_row4_col5,#T_e68bd_row5_col0,#T_e68bd_row5_col1,#T_e68bd_row5_col2,#T_e68bd_row5_col3,#T_e68bd_row5_col4,#T_e68bd_row5_col5,#T_e68bd_row5_col6,#T_e68bd_row6_col5{\n",
       "            background-color:  #000000;\n",
       "            color:  #f1f1f1;\n",
       "        }#T_e68bd_row0_col6,#T_e68bd_row1_col2{\n",
       "            background-color:  #506bda;\n",
       "            color:  #000000;\n",
       "        }#T_e68bd_row1_col0{\n",
       "            background-color:  #f6a283;\n",
       "            color:  #000000;\n",
       "        }#T_e68bd_row1_col3,#T_e68bd_row3_col0,#T_e68bd_row3_col1,#T_e68bd_row3_col4,#T_e68bd_row3_col6,#T_e68bd_row4_col2{\n",
       "            background-color:  #3b4cc0;\n",
       "            color:  #f1f1f1;\n",
       "        }#T_e68bd_row1_col4{\n",
       "            background-color:  #445acc;\n",
       "            color:  #f1f1f1;\n",
       "        }#T_e68bd_row1_col6{\n",
       "            background-color:  #465ecf;\n",
       "            color:  #f1f1f1;\n",
       "        }#T_e68bd_row2_col0{\n",
       "            background-color:  #f5c1a9;\n",
       "            color:  #000000;\n",
       "        }#T_e68bd_row2_col1{\n",
       "            background-color:  #b7cff9;\n",
       "            color:  #000000;\n",
       "        }#T_e68bd_row2_col3{\n",
       "            background-color:  #bcd2f7;\n",
       "            color:  #000000;\n",
       "        }#T_e68bd_row2_col4{\n",
       "            background-color:  #455cce;\n",
       "            color:  #f1f1f1;\n",
       "        }#T_e68bd_row3_col2{\n",
       "            background-color:  #5977e3;\n",
       "            color:  #000000;\n",
       "        }#T_e68bd_row4_col0,#T_e68bd_row4_col1{\n",
       "            background-color:  #a5c3fe;\n",
       "            color:  #000000;\n",
       "        }#T_e68bd_row4_col3,#T_e68bd_row6_col3{\n",
       "            background-color:  #9dbdff;\n",
       "            color:  #000000;\n",
       "        }#T_e68bd_row4_col6{\n",
       "            background-color:  #3d50c3;\n",
       "            color:  #f1f1f1;\n",
       "        }#T_e68bd_row6_col0{\n",
       "            background-color:  #a9c6fd;\n",
       "            color:  #000000;\n",
       "        }#T_e68bd_row6_col1{\n",
       "            background-color:  #a7c5fe;\n",
       "            color:  #000000;\n",
       "        }#T_e68bd_row6_col4{\n",
       "            background-color:  #3e51c5;\n",
       "            color:  #f1f1f1;\n",
       "        }</style><table id=\"T_e68bd_\" ><thead>    <tr>        <th class=\"blank level0\" ></th>        <th class=\"col_heading level0 col0\" >Price</th>        <th class=\"col_heading level0 col1\" >RegistrationYear</th>        <th class=\"col_heading level0 col2\" >Power</th>        <th class=\"col_heading level0 col3\" >Kilometer</th>        <th class=\"col_heading level0 col4\" >RegistrationMonth</th>        <th class=\"col_heading level0 col5\" >NumberOfPictures</th>        <th class=\"col_heading level0 col6\" >PostalCode</th>    </tr></thead><tbody>\n",
       "                <tr>\n",
       "                        <th id=\"T_e68bd_level0_row0\" class=\"row_heading level0 row0\" >Price</th>\n",
       "                        <td id=\"T_e68bd_row0_col0\" class=\"data row0 col0\" >1.000000</td>\n",
       "                        <td id=\"T_e68bd_row0_col1\" class=\"data row0 col1\" >0.621305</td>\n",
       "                        <td id=\"T_e68bd_row0_col2\" class=\"data row0 col2\" >0.490411</td>\n",
       "                        <td id=\"T_e68bd_row0_col3\" class=\"data row0 col3\" >-0.402732</td>\n",
       "                        <td id=\"T_e68bd_row0_col4\" class=\"data row0 col4\" >0.045760</td>\n",
       "                        <td id=\"T_e68bd_row0_col5\" class=\"data row0 col5\" >nan</td>\n",
       "                        <td id=\"T_e68bd_row0_col6\" class=\"data row0 col6\" >0.059636</td>\n",
       "            </tr>\n",
       "            <tr>\n",
       "                        <th id=\"T_e68bd_level0_row1\" class=\"row_heading level0 row1\" >RegistrationYear</th>\n",
       "                        <td id=\"T_e68bd_row1_col0\" class=\"data row1 col0\" >0.621305</td>\n",
       "                        <td id=\"T_e68bd_row1_col1\" class=\"data row1 col1\" >1.000000</td>\n",
       "                        <td id=\"T_e68bd_row1_col2\" class=\"data row1 col2\" >0.096093</td>\n",
       "                        <td id=\"T_e68bd_row1_col3\" class=\"data row1 col3\" >-0.438174</td>\n",
       "                        <td id=\"T_e68bd_row1_col4\" class=\"data row1 col4\" >0.018828</td>\n",
       "                        <td id=\"T_e68bd_row1_col5\" class=\"data row1 col5\" >nan</td>\n",
       "                        <td id=\"T_e68bd_row1_col6\" class=\"data row1 col6\" >0.028611</td>\n",
       "            </tr>\n",
       "            <tr>\n",
       "                        <th id=\"T_e68bd_level0_row2\" class=\"row_heading level0 row2\" >Power</th>\n",
       "                        <td id=\"T_e68bd_row2_col0\" class=\"data row2 col0\" >0.490411</td>\n",
       "                        <td id=\"T_e68bd_row2_col1\" class=\"data row2 col1\" >0.096093</td>\n",
       "                        <td id=\"T_e68bd_row2_col2\" class=\"data row2 col2\" >1.000000</td>\n",
       "                        <td id=\"T_e68bd_row2_col3\" class=\"data row2 col3\" >0.119656</td>\n",
       "                        <td id=\"T_e68bd_row2_col4\" class=\"data row2 col4\" >0.024316</td>\n",
       "                        <td id=\"T_e68bd_row2_col5\" class=\"data row2 col5\" >nan</td>\n",
       "                        <td id=\"T_e68bd_row2_col6\" class=\"data row2 col6\" >0.047306</td>\n",
       "            </tr>\n",
       "            <tr>\n",
       "                        <th id=\"T_e68bd_level0_row3\" class=\"row_heading level0 row3\" >Kilometer</th>\n",
       "                        <td id=\"T_e68bd_row3_col0\" class=\"data row3 col0\" >-0.402732</td>\n",
       "                        <td id=\"T_e68bd_row3_col1\" class=\"data row3 col1\" >-0.438174</td>\n",
       "                        <td id=\"T_e68bd_row3_col2\" class=\"data row3 col2\" >0.119656</td>\n",
       "                        <td id=\"T_e68bd_row3_col3\" class=\"data row3 col3\" >1.000000</td>\n",
       "                        <td id=\"T_e68bd_row3_col4\" class=\"data row3 col4\" >-0.012962</td>\n",
       "                        <td id=\"T_e68bd_row3_col5\" class=\"data row3 col5\" >nan</td>\n",
       "                        <td id=\"T_e68bd_row3_col6\" class=\"data row3 col6\" >-0.011782</td>\n",
       "            </tr>\n",
       "            <tr>\n",
       "                        <th id=\"T_e68bd_level0_row4\" class=\"row_heading level0 row4\" >RegistrationMonth</th>\n",
       "                        <td id=\"T_e68bd_row4_col0\" class=\"data row4 col0\" >0.045760</td>\n",
       "                        <td id=\"T_e68bd_row4_col1\" class=\"data row4 col1\" >0.018828</td>\n",
       "                        <td id=\"T_e68bd_row4_col2\" class=\"data row4 col2\" >0.024316</td>\n",
       "                        <td id=\"T_e68bd_row4_col3\" class=\"data row4 col3\" >-0.012962</td>\n",
       "                        <td id=\"T_e68bd_row4_col4\" class=\"data row4 col4\" >1.000000</td>\n",
       "                        <td id=\"T_e68bd_row4_col5\" class=\"data row4 col5\" >nan</td>\n",
       "                        <td id=\"T_e68bd_row4_col6\" class=\"data row4 col6\" >-0.000050</td>\n",
       "            </tr>\n",
       "            <tr>\n",
       "                        <th id=\"T_e68bd_level0_row5\" class=\"row_heading level0 row5\" >NumberOfPictures</th>\n",
       "                        <td id=\"T_e68bd_row5_col0\" class=\"data row5 col0\" >nan</td>\n",
       "                        <td id=\"T_e68bd_row5_col1\" class=\"data row5 col1\" >nan</td>\n",
       "                        <td id=\"T_e68bd_row5_col2\" class=\"data row5 col2\" >nan</td>\n",
       "                        <td id=\"T_e68bd_row5_col3\" class=\"data row5 col3\" >nan</td>\n",
       "                        <td id=\"T_e68bd_row5_col4\" class=\"data row5 col4\" >nan</td>\n",
       "                        <td id=\"T_e68bd_row5_col5\" class=\"data row5 col5\" >nan</td>\n",
       "                        <td id=\"T_e68bd_row5_col6\" class=\"data row5 col6\" >nan</td>\n",
       "            </tr>\n",
       "            <tr>\n",
       "                        <th id=\"T_e68bd_level0_row6\" class=\"row_heading level0 row6\" >PostalCode</th>\n",
       "                        <td id=\"T_e68bd_row6_col0\" class=\"data row6 col0\" >0.059636</td>\n",
       "                        <td id=\"T_e68bd_row6_col1\" class=\"data row6 col1\" >0.028611</td>\n",
       "                        <td id=\"T_e68bd_row6_col2\" class=\"data row6 col2\" >0.047306</td>\n",
       "                        <td id=\"T_e68bd_row6_col3\" class=\"data row6 col3\" >-0.011782</td>\n",
       "                        <td id=\"T_e68bd_row6_col4\" class=\"data row6 col4\" >-0.000050</td>\n",
       "                        <td id=\"T_e68bd_row6_col5\" class=\"data row6 col5\" >nan</td>\n",
       "                        <td id=\"T_e68bd_row6_col6\" class=\"data row6 col6\" >1.000000</td>\n",
       "            </tr>\n",
       "    </tbody></table>"
      ],
      "text/plain": [
       "<pandas.io.formats.style.Styler at 0x7f9013bc2430>"
      ]
     },
     "execution_count": 31,
     "metadata": {},
     "output_type": "execute_result"
    }
   ],
   "source": [
    "data.corr().style.background_gradient(cmap='coolwarm')"
   ]
  },
  {
   "cell_type": "markdown",
   "metadata": {},
   "source": [
    "**Цена подержанного автомобиля складывается из нескольких параметров, в том числе мощности и года регистрации автомобиля, которые имеют сильную положительную корреляцию. С другой стороны, пробег оказывает сильное отрицательное влияние на стоимость автомобиля, поскольку больший пробег дает потребителям основание переживать за состояние и долговечность автомобиля. Однако, следует учитывать, что марка и модель, оснащение и состояние кузова и двигателя также вносят свой вклад в ценообразование подержанных автомобилей.**"
   ]
  },
  {
   "cell_type": "code",
   "execution_count": 32,
   "metadata": {},
   "outputs": [],
   "source": [
    "data_cor = data.drop(['NumberOfPictures', 'PostalCode', 'DateCrawled', 'LastSeen','RegistrationMonth'], axis=1)"
   ]
  },
  {
   "cell_type": "code",
   "execution_count": 33,
   "metadata": {},
   "outputs": [
    {
     "data": {
      "text/html": [
       "<div>\n",
       "<style scoped>\n",
       "    .dataframe tbody tr th:only-of-type {\n",
       "        vertical-align: middle;\n",
       "    }\n",
       "\n",
       "    .dataframe tbody tr th {\n",
       "        vertical-align: top;\n",
       "    }\n",
       "\n",
       "    .dataframe thead th {\n",
       "        text-align: right;\n",
       "    }\n",
       "</style>\n",
       "<table border=\"1\" class=\"dataframe\">\n",
       "  <thead>\n",
       "    <tr style=\"text-align: right;\">\n",
       "      <th></th>\n",
       "      <th>Price</th>\n",
       "      <th>VehicleType</th>\n",
       "      <th>RegistrationYear</th>\n",
       "      <th>Gearbox</th>\n",
       "      <th>Power</th>\n",
       "      <th>Model</th>\n",
       "      <th>Kilometer</th>\n",
       "      <th>FuelType</th>\n",
       "      <th>Brand</th>\n",
       "      <th>Repaired</th>\n",
       "      <th>DateCreated</th>\n",
       "    </tr>\n",
       "  </thead>\n",
       "  <tbody>\n",
       "    <tr>\n",
       "      <th>2</th>\n",
       "      <td>9800</td>\n",
       "      <td>suv</td>\n",
       "      <td>2004</td>\n",
       "      <td>auto</td>\n",
       "      <td>163</td>\n",
       "      <td>grand</td>\n",
       "      <td>125000</td>\n",
       "      <td>gasoline</td>\n",
       "      <td>jeep</td>\n",
       "      <td>unknown</td>\n",
       "      <td>2016-03-14</td>\n",
       "    </tr>\n",
       "    <tr>\n",
       "      <th>3</th>\n",
       "      <td>1500</td>\n",
       "      <td>small</td>\n",
       "      <td>2001</td>\n",
       "      <td>manual</td>\n",
       "      <td>75</td>\n",
       "      <td>golf</td>\n",
       "      <td>150000</td>\n",
       "      <td>petrol</td>\n",
       "      <td>volkswagen</td>\n",
       "      <td>no</td>\n",
       "      <td>2016-03-17</td>\n",
       "    </tr>\n",
       "    <tr>\n",
       "      <th>4</th>\n",
       "      <td>3600</td>\n",
       "      <td>small</td>\n",
       "      <td>2008</td>\n",
       "      <td>manual</td>\n",
       "      <td>69</td>\n",
       "      <td>fabia</td>\n",
       "      <td>90000</td>\n",
       "      <td>gasoline</td>\n",
       "      <td>skoda</td>\n",
       "      <td>no</td>\n",
       "      <td>2016-03-31</td>\n",
       "    </tr>\n",
       "    <tr>\n",
       "      <th>5</th>\n",
       "      <td>650</td>\n",
       "      <td>sedan</td>\n",
       "      <td>1995</td>\n",
       "      <td>manual</td>\n",
       "      <td>102</td>\n",
       "      <td>3er</td>\n",
       "      <td>150000</td>\n",
       "      <td>petrol</td>\n",
       "      <td>bmw</td>\n",
       "      <td>yes</td>\n",
       "      <td>2016-04-04</td>\n",
       "    </tr>\n",
       "    <tr>\n",
       "      <th>6</th>\n",
       "      <td>2200</td>\n",
       "      <td>convertible</td>\n",
       "      <td>2004</td>\n",
       "      <td>manual</td>\n",
       "      <td>109</td>\n",
       "      <td>2_reihe</td>\n",
       "      <td>150000</td>\n",
       "      <td>petrol</td>\n",
       "      <td>peugeot</td>\n",
       "      <td>no</td>\n",
       "      <td>2016-04-01</td>\n",
       "    </tr>\n",
       "  </tbody>\n",
       "</table>\n",
       "</div>"
      ],
      "text/plain": [
       "   Price  VehicleType  RegistrationYear Gearbox  Power    Model  Kilometer  \\\n",
       "2   9800          suv              2004    auto    163    grand     125000   \n",
       "3   1500        small              2001  manual     75     golf     150000   \n",
       "4   3600        small              2008  manual     69    fabia      90000   \n",
       "5    650        sedan              1995  manual    102      3er     150000   \n",
       "6   2200  convertible              2004  manual    109  2_reihe     150000   \n",
       "\n",
       "   FuelType       Brand Repaired DateCreated  \n",
       "2  gasoline        jeep  unknown  2016-03-14  \n",
       "3    petrol  volkswagen       no  2016-03-17  \n",
       "4  gasoline       skoda       no  2016-03-31  \n",
       "5    petrol         bmw      yes  2016-04-04  \n",
       "6    petrol     peugeot       no  2016-04-01  "
      ]
     },
     "execution_count": 33,
     "metadata": {},
     "output_type": "execute_result"
    }
   ],
   "source": [
    "data_cor.head()"
   ]
  },
  {
   "cell_type": "code",
   "execution_count": 34,
   "metadata": {},
   "outputs": [
    {
     "name": "stdout",
     "output_type": "stream",
     "text": [
      "<class 'pandas.core.frame.DataFrame'>\n",
      "Int64Index: 259641 entries, 2 to 354368\n",
      "Data columns (total 11 columns):\n",
      " #   Column            Non-Null Count   Dtype         \n",
      "---  ------            --------------   -----         \n",
      " 0   Price             259641 non-null  int64         \n",
      " 1   VehicleType       259641 non-null  object        \n",
      " 2   RegistrationYear  259641 non-null  int64         \n",
      " 3   Gearbox           259641 non-null  object        \n",
      " 4   Power             259641 non-null  int64         \n",
      " 5   Model             259641 non-null  object        \n",
      " 6   Kilometer         259641 non-null  int64         \n",
      " 7   FuelType          259641 non-null  object        \n",
      " 8   Brand             259641 non-null  object        \n",
      " 9   Repaired          259641 non-null  object        \n",
      " 10  DateCreated       259641 non-null  datetime64[ns]\n",
      "dtypes: datetime64[ns](1), int64(4), object(6)\n",
      "memory usage: 23.8+ MB\n"
     ]
    }
   ],
   "source": [
    "data_cor.info()"
   ]
  },
  {
   "cell_type": "code",
   "execution_count": 35,
   "metadata": {},
   "outputs": [
    {
     "data": {
      "text/html": [
       "<div>\n",
       "<style scoped>\n",
       "    .dataframe tbody tr th:only-of-type {\n",
       "        vertical-align: middle;\n",
       "    }\n",
       "\n",
       "    .dataframe tbody tr th {\n",
       "        vertical-align: top;\n",
       "    }\n",
       "\n",
       "    .dataframe thead th {\n",
       "        text-align: right;\n",
       "    }\n",
       "</style>\n",
       "<table border=\"1\" class=\"dataframe\">\n",
       "  <thead>\n",
       "    <tr style=\"text-align: right;\">\n",
       "      <th></th>\n",
       "      <th>Price</th>\n",
       "      <th>VehicleType</th>\n",
       "      <th>RegistrationYear</th>\n",
       "      <th>Gearbox</th>\n",
       "      <th>Power</th>\n",
       "      <th>Model</th>\n",
       "      <th>Kilometer</th>\n",
       "      <th>FuelType</th>\n",
       "      <th>Brand</th>\n",
       "      <th>Repaired</th>\n",
       "      <th>DateCreated</th>\n",
       "    </tr>\n",
       "  </thead>\n",
       "  <tbody>\n",
       "    <tr>\n",
       "      <th>14</th>\n",
       "      <td>17999</td>\n",
       "      <td>suv</td>\n",
       "      <td>2011</td>\n",
       "      <td>manual</td>\n",
       "      <td>190</td>\n",
       "      <td>navara</td>\n",
       "      <td>70000</td>\n",
       "      <td>gasoline</td>\n",
       "      <td>nissan</td>\n",
       "      <td>no</td>\n",
       "      <td>2016-03-21</td>\n",
       "    </tr>\n",
       "    <tr>\n",
       "      <th>47</th>\n",
       "      <td>2100</td>\n",
       "      <td>wagon</td>\n",
       "      <td>1998</td>\n",
       "      <td>auto</td>\n",
       "      <td>193</td>\n",
       "      <td>5er</td>\n",
       "      <td>150000</td>\n",
       "      <td>petrol</td>\n",
       "      <td>bmw</td>\n",
       "      <td>no</td>\n",
       "      <td>2016-04-03</td>\n",
       "    </tr>\n",
       "    <tr>\n",
       "      <th>64</th>\n",
       "      <td>14999</td>\n",
       "      <td>convertible</td>\n",
       "      <td>2007</td>\n",
       "      <td>manual</td>\n",
       "      <td>218</td>\n",
       "      <td>3er</td>\n",
       "      <td>50000</td>\n",
       "      <td>petrol</td>\n",
       "      <td>bmw</td>\n",
       "      <td>no</td>\n",
       "      <td>2016-03-07</td>\n",
       "    </tr>\n",
       "    <tr>\n",
       "      <th>66</th>\n",
       "      <td>9700</td>\n",
       "      <td>coupe</td>\n",
       "      <td>2008</td>\n",
       "      <td>manual</td>\n",
       "      <td>160</td>\n",
       "      <td>scirocco</td>\n",
       "      <td>150000</td>\n",
       "      <td>petrol</td>\n",
       "      <td>volkswagen</td>\n",
       "      <td>no</td>\n",
       "      <td>2016-03-15</td>\n",
       "    </tr>\n",
       "    <tr>\n",
       "      <th>84</th>\n",
       "      <td>1600</td>\n",
       "      <td>wagon</td>\n",
       "      <td>1997</td>\n",
       "      <td>auto</td>\n",
       "      <td>122</td>\n",
       "      <td>forester</td>\n",
       "      <td>150000</td>\n",
       "      <td>petrol</td>\n",
       "      <td>subaru</td>\n",
       "      <td>no</td>\n",
       "      <td>2016-03-12</td>\n",
       "    </tr>\n",
       "    <tr>\n",
       "      <th>...</th>\n",
       "      <td>...</td>\n",
       "      <td>...</td>\n",
       "      <td>...</td>\n",
       "      <td>...</td>\n",
       "      <td>...</td>\n",
       "      <td>...</td>\n",
       "      <td>...</td>\n",
       "      <td>...</td>\n",
       "      <td>...</td>\n",
       "      <td>...</td>\n",
       "      <td>...</td>\n",
       "    </tr>\n",
       "    <tr>\n",
       "      <th>354311</th>\n",
       "      <td>3000</td>\n",
       "      <td>sedan</td>\n",
       "      <td>2006</td>\n",
       "      <td>manual</td>\n",
       "      <td>105</td>\n",
       "      <td>golf</td>\n",
       "      <td>150000</td>\n",
       "      <td>gasoline</td>\n",
       "      <td>volkswagen</td>\n",
       "      <td>no</td>\n",
       "      <td>2016-03-08</td>\n",
       "    </tr>\n",
       "    <tr>\n",
       "      <th>354317</th>\n",
       "      <td>5990</td>\n",
       "      <td>small</td>\n",
       "      <td>2009</td>\n",
       "      <td>manual</td>\n",
       "      <td>86</td>\n",
       "      <td>ibiza</td>\n",
       "      <td>90000</td>\n",
       "      <td>petrol</td>\n",
       "      <td>seat</td>\n",
       "      <td>no</td>\n",
       "      <td>2016-03-19</td>\n",
       "    </tr>\n",
       "    <tr>\n",
       "      <th>354344</th>\n",
       "      <td>1600</td>\n",
       "      <td>wagon</td>\n",
       "      <td>1998</td>\n",
       "      <td>manual</td>\n",
       "      <td>125</td>\n",
       "      <td>a4</td>\n",
       "      <td>150000</td>\n",
       "      <td>petrol</td>\n",
       "      <td>audi</td>\n",
       "      <td>no</td>\n",
       "      <td>2016-04-01</td>\n",
       "    </tr>\n",
       "    <tr>\n",
       "      <th>354352</th>\n",
       "      <td>6500</td>\n",
       "      <td>sedan</td>\n",
       "      <td>2003</td>\n",
       "      <td>auto</td>\n",
       "      <td>145</td>\n",
       "      <td>e_klasse</td>\n",
       "      <td>150000</td>\n",
       "      <td>gasoline</td>\n",
       "      <td>mercedes_benz</td>\n",
       "      <td>no</td>\n",
       "      <td>2016-03-05</td>\n",
       "    </tr>\n",
       "    <tr>\n",
       "      <th>354355</th>\n",
       "      <td>4400</td>\n",
       "      <td>sedan</td>\n",
       "      <td>2008</td>\n",
       "      <td>manual</td>\n",
       "      <td>105</td>\n",
       "      <td>leon</td>\n",
       "      <td>150000</td>\n",
       "      <td>gasoline</td>\n",
       "      <td>seat</td>\n",
       "      <td>no</td>\n",
       "      <td>2016-03-21</td>\n",
       "    </tr>\n",
       "  </tbody>\n",
       "</table>\n",
       "<p>20932 rows × 11 columns</p>\n",
       "</div>"
      ],
      "text/plain": [
       "        Price  VehicleType  RegistrationYear Gearbox  Power     Model  \\\n",
       "14      17999          suv              2011  manual    190    navara   \n",
       "47       2100        wagon              1998    auto    193       5er   \n",
       "64      14999  convertible              2007  manual    218       3er   \n",
       "66       9700        coupe              2008  manual    160  scirocco   \n",
       "84       1600        wagon              1997    auto    122  forester   \n",
       "...       ...          ...               ...     ...    ...       ...   \n",
       "354311   3000        sedan              2006  manual    105      golf   \n",
       "354317   5990        small              2009  manual     86     ibiza   \n",
       "354344   1600        wagon              1998  manual    125        a4   \n",
       "354352   6500        sedan              2003    auto    145  e_klasse   \n",
       "354355   4400        sedan              2008  manual    105      leon   \n",
       "\n",
       "        Kilometer  FuelType          Brand Repaired DateCreated  \n",
       "14          70000  gasoline         nissan       no  2016-03-21  \n",
       "47         150000    petrol            bmw       no  2016-04-03  \n",
       "64          50000    petrol            bmw       no  2016-03-07  \n",
       "66         150000    petrol     volkswagen       no  2016-03-15  \n",
       "84         150000    petrol         subaru       no  2016-03-12  \n",
       "...           ...       ...            ...      ...         ...  \n",
       "354311     150000  gasoline     volkswagen       no  2016-03-08  \n",
       "354317      90000    petrol           seat       no  2016-03-19  \n",
       "354344     150000    petrol           audi       no  2016-04-01  \n",
       "354352     150000  gasoline  mercedes_benz       no  2016-03-05  \n",
       "354355     150000  gasoline           seat       no  2016-03-21  \n",
       "\n",
       "[20932 rows x 11 columns]"
      ]
     },
     "execution_count": 35,
     "metadata": {},
     "output_type": "execute_result"
    }
   ],
   "source": [
    "#исследование на дубликаты \n",
    "data_cor[data_cor.duplicated(keep=False)]"
   ]
  },
  {
   "cell_type": "code",
   "execution_count": 36,
   "metadata": {},
   "outputs": [],
   "source": [
    "data_cor = data_cor.drop_duplicates() #удаляем дубликаты"
   ]
  },
  {
   "cell_type": "code",
   "execution_count": 37,
   "metadata": {},
   "outputs": [
    {
     "data": {
      "text/plain": [
       "0"
      ]
     },
     "execution_count": 37,
     "metadata": {},
     "output_type": "execute_result"
    }
   ],
   "source": [
    "# КОД РЕВЬЮЕРА\n",
    "data_cor.duplicated().sum()"
   ]
  },
  {
   "cell_type": "code",
   "execution_count": 38,
   "metadata": {},
   "outputs": [],
   "source": [
    "data_cor=data_cor.reset_index(drop=True) #сбрасываем индексы полсле преобразований"
   ]
  },
  {
   "cell_type": "code",
   "execution_count": 39,
   "metadata": {},
   "outputs": [],
   "source": [
    "features=data_cor.drop(['Price'],axis=1)\n",
    "target=data_cor['Price']"
   ]
  },
  {
   "cell_type": "markdown",
   "metadata": {},
   "source": [
    "**Разделим данные на основную выборку и целевые признаки**"
   ]
  },
  {
   "cell_type": "code",
   "execution_count": 40,
   "metadata": {},
   "outputs": [],
   "source": [
    "state = np.random.RandomState(12345) #фиксируем значение для упрощения кода в дальнейшем"
   ]
  },
  {
   "cell_type": "markdown",
   "metadata": {},
   "source": [
    "**Разбиваем на тестовую и тренеровочную выборки**"
   ]
  },
  {
   "cell_type": "markdown",
   "metadata": {},
   "source": [
    "**Кодирование категориальных признаков**\n",
    "\n",
    "**Преобразую категориальные признаки техникой Ordinal Encoding.**"
   ]
  },
  {
   "cell_type": "code",
   "execution_count": 41,
   "metadata": {},
   "outputs": [],
   "source": [
    "# Разделение данных на тренировочный, валидационный и тестовый наборы\n",
    "features_train_val, features_test, target_train_val, target_test = train_test_split(\n",
    "    features, target, test_size=0.2, random_state=state\n",
    ")\n",
    "features_train, features_valid, target_train, target_valid = train_test_split(\n",
    "    features_train_val, target_train_val, test_size=0.25, random_state=state\n",
    ")"
   ]
  },
  {
   "cell_type": "code",
   "execution_count": 48,
   "metadata": {},
   "outputs": [
    {
     "name": "stderr",
     "output_type": "stream",
     "text": [
      "/tmp/ipykernel_402/4212154399.py:4: SettingWithCopyWarning: \n",
      "A value is trying to be set on a copy of a slice from a DataFrame.\n",
      "Try using .loc[row_indexer,col_indexer] = value instead\n",
      "\n",
      "See the caveats in the documentation: https://pandas.pydata.org/pandas-docs/stable/user_guide/indexing.html#returning-a-view-versus-a-copy\n",
      "  features_train[column] = encoder.transform(features_train[column])\n",
      "/opt/conda/lib/python3.9/site-packages/pandas/core/indexing.py:1738: SettingWithCopyWarning: \n",
      "A value is trying to be set on a copy of a slice from a DataFrame.\n",
      "Try using .loc[row_indexer,col_indexer] = value instead\n",
      "\n",
      "See the caveats in the documentation: https://pandas.pydata.org/pandas-docs/stable/user_guide/indexing.html#returning-a-view-versus-a-copy\n",
      "  self._setitem_single_column(loc, value[:, i].tolist(), pi)\n",
      "/tmp/ipykernel_402/4212154399.py:5: SettingWithCopyWarning: \n",
      "A value is trying to be set on a copy of a slice from a DataFrame.\n",
      "Try using .loc[row_indexer,col_indexer] = value instead\n",
      "\n",
      "See the caveats in the documentation: https://pandas.pydata.org/pandas-docs/stable/user_guide/indexing.html#returning-a-view-versus-a-copy\n",
      "  features_valid[column] = encoder.transform(features_valid[column])\n",
      "/opt/conda/lib/python3.9/site-packages/pandas/core/indexing.py:1738: SettingWithCopyWarning: \n",
      "A value is trying to be set on a copy of a slice from a DataFrame.\n",
      "Try using .loc[row_indexer,col_indexer] = value instead\n",
      "\n",
      "See the caveats in the documentation: https://pandas.pydata.org/pandas-docs/stable/user_guide/indexing.html#returning-a-view-versus-a-copy\n",
      "  self._setitem_single_column(loc, value[:, i].tolist(), pi)\n",
      "/tmp/ipykernel_402/4212154399.py:6: SettingWithCopyWarning: \n",
      "A value is trying to be set on a copy of a slice from a DataFrame.\n",
      "Try using .loc[row_indexer,col_indexer] = value instead\n",
      "\n",
      "See the caveats in the documentation: https://pandas.pydata.org/pandas-docs/stable/user_guide/indexing.html#returning-a-view-versus-a-copy\n",
      "  features_test[column] = encoder.transform(features_test[column])\n",
      "/opt/conda/lib/python3.9/site-packages/pandas/core/indexing.py:1738: SettingWithCopyWarning: \n",
      "A value is trying to be set on a copy of a slice from a DataFrame.\n",
      "Try using .loc[row_indexer,col_indexer] = value instead\n",
      "\n",
      "See the caveats in the documentation: https://pandas.pydata.org/pandas-docs/stable/user_guide/indexing.html#returning-a-view-versus-a-copy\n",
      "  self._setitem_single_column(loc, value[:, i].tolist(), pi)\n"
     ]
    }
   ],
   "source": [
    "column = ['VehicleType', 'Gearbox','Model','FuelType', 'Brand', 'Repaired', 'DateCreated']\n",
    "encoder = OrdinalEncoder(handle_unknown='ignore', unknown_value=None)\n",
    "encoder.fit(features_train[column])\n",
    "features_train[column] = encoder.transform(features_train[column])\n",
    "features_valid[column] = encoder.transform(features_valid[column])\n",
    "features_test[column] = encoder.transform(features_test[column])\n",
    "\n",
    "#features_train"
   ]
  },
  {
   "cell_type": "code",
   "execution_count": 49,
   "metadata": {},
   "outputs": [
    {
     "name": "stderr",
     "output_type": "stream",
     "text": [
      "/tmp/ipykernel_402/1289667695.py:6: SettingWithCopyWarning: \n",
      "A value is trying to be set on a copy of a slice from a DataFrame.\n",
      "Try using .loc[row_indexer,col_indexer] = value instead\n",
      "\n",
      "See the caveats in the documentation: https://pandas.pydata.org/pandas-docs/stable/user_guide/indexing.html#returning-a-view-versus-a-copy\n",
      "  features_train[numeric]=scaler.transform(features_train[numeric]) #масштабируем признаки\n",
      "/opt/conda/lib/python3.9/site-packages/pandas/core/indexing.py:1738: SettingWithCopyWarning: \n",
      "A value is trying to be set on a copy of a slice from a DataFrame.\n",
      "Try using .loc[row_indexer,col_indexer] = value instead\n",
      "\n",
      "See the caveats in the documentation: https://pandas.pydata.org/pandas-docs/stable/user_guide/indexing.html#returning-a-view-versus-a-copy\n",
      "  self._setitem_single_column(loc, value[:, i].tolist(), pi)\n"
     ]
    },
    {
     "name": "stdout",
     "output_type": "stream",
     "text": [
      "(149296, 10)\n",
      "(49766, 10)\n"
     ]
    },
    {
     "name": "stderr",
     "output_type": "stream",
     "text": [
      "/tmp/ipykernel_402/1289667695.py:7: SettingWithCopyWarning: \n",
      "A value is trying to be set on a copy of a slice from a DataFrame.\n",
      "Try using .loc[row_indexer,col_indexer] = value instead\n",
      "\n",
      "See the caveats in the documentation: https://pandas.pydata.org/pandas-docs/stable/user_guide/indexing.html#returning-a-view-versus-a-copy\n",
      "  features_test[numeric]=scaler.transform(features_test[numeric])\n",
      "/opt/conda/lib/python3.9/site-packages/pandas/core/indexing.py:1738: SettingWithCopyWarning: \n",
      "A value is trying to be set on a copy of a slice from a DataFrame.\n",
      "Try using .loc[row_indexer,col_indexer] = value instead\n",
      "\n",
      "See the caveats in the documentation: https://pandas.pydata.org/pandas-docs/stable/user_guide/indexing.html#returning-a-view-versus-a-copy\n",
      "  self._setitem_single_column(loc, value[:, i].tolist(), pi)\n",
      "/tmp/ipykernel_402/1289667695.py:8: SettingWithCopyWarning: \n",
      "A value is trying to be set on a copy of a slice from a DataFrame.\n",
      "Try using .loc[row_indexer,col_indexer] = value instead\n",
      "\n",
      "See the caveats in the documentation: https://pandas.pydata.org/pandas-docs/stable/user_guide/indexing.html#returning-a-view-versus-a-copy\n",
      "  features_valid[numeric] = scaler.transform(features_valid[numeric])\n",
      "/opt/conda/lib/python3.9/site-packages/pandas/core/indexing.py:1738: SettingWithCopyWarning: \n",
      "A value is trying to be set on a copy of a slice from a DataFrame.\n",
      "Try using .loc[row_indexer,col_indexer] = value instead\n",
      "\n",
      "See the caveats in the documentation: https://pandas.pydata.org/pandas-docs/stable/user_guide/indexing.html#returning-a-view-versus-a-copy\n",
      "  self._setitem_single_column(loc, value[:, i].tolist(), pi)\n"
     ]
    },
    {
     "data": {
      "text/html": [
       "<div>\n",
       "<style scoped>\n",
       "    .dataframe tbody tr th:only-of-type {\n",
       "        vertical-align: middle;\n",
       "    }\n",
       "\n",
       "    .dataframe tbody tr th {\n",
       "        vertical-align: top;\n",
       "    }\n",
       "\n",
       "    .dataframe thead th {\n",
       "        text-align: right;\n",
       "    }\n",
       "</style>\n",
       "<table border=\"1\" class=\"dataframe\">\n",
       "  <thead>\n",
       "    <tr style=\"text-align: right;\">\n",
       "      <th></th>\n",
       "      <th>VehicleType</th>\n",
       "      <th>RegistrationYear</th>\n",
       "      <th>Gearbox</th>\n",
       "      <th>Power</th>\n",
       "      <th>Model</th>\n",
       "      <th>Kilometer</th>\n",
       "      <th>FuelType</th>\n",
       "      <th>Brand</th>\n",
       "      <th>Repaired</th>\n",
       "      <th>DateCreated</th>\n",
       "    </tr>\n",
       "  </thead>\n",
       "  <tbody>\n",
       "    <tr>\n",
       "      <th>169329</th>\n",
       "      <td>-0.220033</td>\n",
       "      <td>-0.515161</td>\n",
       "      <td>0.449960</td>\n",
       "      <td>0.223705</td>\n",
       "      <td>0.847743</td>\n",
       "      <td>-0.074770</td>\n",
       "      <td>0.681435</td>\n",
       "      <td>-0.395775</td>\n",
       "      <td>-0.469577</td>\n",
       "      <td>1.314042</td>\n",
       "    </tr>\n",
       "    <tr>\n",
       "      <th>15658</th>\n",
       "      <td>0.597172</td>\n",
       "      <td>0.802132</td>\n",
       "      <td>0.449960</td>\n",
       "      <td>0.353878</td>\n",
       "      <td>0.847743</td>\n",
       "      <td>0.606860</td>\n",
       "      <td>-1.407429</td>\n",
       "      <td>-0.776535</td>\n",
       "      <td>-0.469577</td>\n",
       "      <td>1.530519</td>\n",
       "    </tr>\n",
       "    <tr>\n",
       "      <th>48628</th>\n",
       "      <td>1.414376</td>\n",
       "      <td>0.802132</td>\n",
       "      <td>0.449960</td>\n",
       "      <td>0.484052</td>\n",
       "      <td>0.464761</td>\n",
       "      <td>0.606860</td>\n",
       "      <td>-1.407429</td>\n",
       "      <td>0.974962</td>\n",
       "      <td>2.860555</td>\n",
       "      <td>-1.283686</td>\n",
       "    </tr>\n",
       "    <tr>\n",
       "      <th>212718</th>\n",
       "      <td>0.188570</td>\n",
       "      <td>-2.585191</td>\n",
       "      <td>2.775641</td>\n",
       "      <td>1.246497</td>\n",
       "      <td>0.847743</td>\n",
       "      <td>-3.346597</td>\n",
       "      <td>0.681435</td>\n",
       "      <td>0.365746</td>\n",
       "      <td>1.195489</td>\n",
       "      <td>-1.283686</td>\n",
       "    </tr>\n",
       "    <tr>\n",
       "      <th>77027</th>\n",
       "      <td>-0.220033</td>\n",
       "      <td>1.366685</td>\n",
       "      <td>0.449960</td>\n",
       "      <td>1.116323</td>\n",
       "      <td>-1.350854</td>\n",
       "      <td>0.606860</td>\n",
       "      <td>-1.407429</td>\n",
       "      <td>-1.385752</td>\n",
       "      <td>-0.469577</td>\n",
       "      <td>1.422280</td>\n",
       "    </tr>\n",
       "  </tbody>\n",
       "</table>\n",
       "</div>"
      ],
      "text/plain": [
       "        VehicleType  RegistrationYear   Gearbox     Power     Model  \\\n",
       "169329    -0.220033         -0.515161  0.449960  0.223705  0.847743   \n",
       "15658      0.597172          0.802132  0.449960  0.353878  0.847743   \n",
       "48628      1.414376          0.802132  0.449960  0.484052  0.464761   \n",
       "212718     0.188570         -2.585191  2.775641  1.246497  0.847743   \n",
       "77027     -0.220033          1.366685  0.449960  1.116323 -1.350854   \n",
       "\n",
       "        Kilometer  FuelType     Brand  Repaired  DateCreated  \n",
       "169329  -0.074770  0.681435 -0.395775 -0.469577     1.314042  \n",
       "15658    0.606860 -1.407429 -0.776535 -0.469577     1.530519  \n",
       "48628    0.606860 -1.407429  0.974962  2.860555    -1.283686  \n",
       "212718  -3.346597  0.681435  0.365746  1.195489    -1.283686  \n",
       "77027    0.606860 -1.407429 -1.385752 -0.469577     1.422280  "
      ]
     },
     "execution_count": 49,
     "metadata": {},
     "output_type": "execute_result"
    }
   ],
   "source": [
    "numeric=['VehicleType','RegistrationYear','Gearbox','Power','Model','Kilometer','FuelType','Brand','Repaired','DateCreated']\n",
    "scaler=StandardScaler()\n",
    "scaler.fit(features_train[numeric])\n",
    "\n",
    "\n",
    "features_train[numeric]=scaler.transform(features_train[numeric]) #масштабируем признаки\n",
    "features_test[numeric]=scaler.transform(features_test[numeric])\n",
    "features_valid[numeric] = scaler.transform(features_valid[numeric])\n",
    "\n",
    "\n",
    "print(features_train.shape)\n",
    "print(features_test.shape)\n",
    "\n",
    "features_train.head()"
   ]
  },
  {
   "cell_type": "markdown",
   "metadata": {},
   "source": [
    "**Вывод** исходные данные имели пропуски, некорректные значения и дубликаты. После устранения недостатков мы преобразовали категориальныые признаки, разбили на выборки и отмасштабировали их."
   ]
  },
  {
   "cell_type": "markdown",
   "metadata": {},
   "source": [
    "## Обучение моделей"
   ]
  },
  {
   "cell_type": "markdown",
   "metadata": {},
   "source": [
    "**RandomForestRegressor**"
   ]
  },
  {
   "cell_type": "code",
   "execution_count": 51,
   "metadata": {},
   "outputs": [
    {
     "name": "stdout",
     "output_type": "stream",
     "text": [
      "CPU times: user 5.85 s, sys: 29.4 ms, total: 5.88 s\n",
      "Wall time: 5.88 s\n"
     ]
    },
    {
     "data": {
      "text/plain": [
       "RandomForestRegressor(max_depth=15, n_estimators=20,\n",
       "                      random_state=RandomState(MT19937) at 0x7F9013B1C940)"
      ]
     },
     "execution_count": 51,
     "metadata": {},
     "output_type": "execute_result"
    }
   ],
   "source": [
    "%%time\n",
    "forest_model = RandomForestRegressor(\n",
    "    random_state=state, criterion='mse',warm_start=False, n_estimators=20, max_depth = 15)\n",
    "forest_model.fit(features_train, target_train)"
   ]
  },
  {
   "cell_type": "code",
   "execution_count": 52,
   "metadata": {},
   "outputs": [
    {
     "name": "stdout",
     "output_type": "stream",
     "text": [
      "CPU times: user 179 ms, sys: 3.97 ms, total: 183 ms\n",
      "Wall time: 188 ms\n"
     ]
    }
   ],
   "source": [
    "%%time\n",
    "# Получение предсказаний модели на валидационном наборе данных\n",
    "pred_forest_model = forest_model.predict(features_valid)"
   ]
  },
  {
   "cell_type": "code",
   "execution_count": 53,
   "metadata": {},
   "outputs": [
    {
     "name": "stdout",
     "output_type": "stream",
     "text": [
      "RMSE для случайного леса: 1583.67\n"
     ]
    }
   ],
   "source": [
    "# Оценка качества модели на валидационном наборе данных\n",
    "mse_forest_model = mean_squared_error(target_valid, pred_forest_model)\n",
    "print('RMSE для случайного леса:', round((mse_forest_model) ** 0.5, 2))"
   ]
  },
  {
   "cell_type": "markdown",
   "metadata": {},
   "source": [
    "**DecisionTreeRegressor**"
   ]
  },
  {
   "cell_type": "code",
   "execution_count": 54,
   "metadata": {},
   "outputs": [
    {
     "name": "stdout",
     "output_type": "stream",
     "text": [
      "Fitting 5 folds for each of 15 candidates, totalling 75 fits\n",
      "[CV] END ........................................max_depth=1; total time=   0.0s\n",
      "[CV] END ........................................max_depth=1; total time=   0.0s\n",
      "[CV] END ........................................max_depth=1; total time=   0.0s\n",
      "[CV] END ........................................max_depth=1; total time=   0.0s\n",
      "[CV] END ........................................max_depth=1; total time=   0.0s\n",
      "[CV] END ........................................max_depth=2; total time=   0.1s\n",
      "[CV] END ........................................max_depth=2; total time=   0.1s\n",
      "[CV] END ........................................max_depth=2; total time=   0.1s\n",
      "[CV] END ........................................max_depth=2; total time=   0.1s\n",
      "[CV] END ........................................max_depth=2; total time=   0.1s\n",
      "[CV] END ........................................max_depth=3; total time=   0.1s\n",
      "[CV] END ........................................max_depth=3; total time=   0.1s\n",
      "[CV] END ........................................max_depth=3; total time=   0.1s\n",
      "[CV] END ........................................max_depth=3; total time=   0.1s\n",
      "[CV] END ........................................max_depth=3; total time=   0.1s\n",
      "[CV] END ........................................max_depth=4; total time=   0.1s\n",
      "[CV] END ........................................max_depth=4; total time=   0.1s\n",
      "[CV] END ........................................max_depth=4; total time=   0.1s\n",
      "[CV] END ........................................max_depth=4; total time=   0.1s\n",
      "[CV] END ........................................max_depth=4; total time=   0.1s\n",
      "[CV] END ........................................max_depth=5; total time=   0.1s\n",
      "[CV] END ........................................max_depth=5; total time=   0.1s\n",
      "[CV] END ........................................max_depth=5; total time=   0.1s\n",
      "[CV] END ........................................max_depth=5; total time=   0.1s\n",
      "[CV] END ........................................max_depth=5; total time=   0.1s\n",
      "[CV] END ........................................max_depth=6; total time=   0.2s\n",
      "[CV] END ........................................max_depth=6; total time=   0.2s\n",
      "[CV] END ........................................max_depth=6; total time=   0.2s\n",
      "[CV] END ........................................max_depth=6; total time=   0.2s\n",
      "[CV] END ........................................max_depth=6; total time=   0.2s\n",
      "[CV] END ........................................max_depth=7; total time=   0.2s\n",
      "[CV] END ........................................max_depth=7; total time=   0.2s\n",
      "[CV] END ........................................max_depth=7; total time=   0.2s\n",
      "[CV] END ........................................max_depth=7; total time=   0.2s\n",
      "[CV] END ........................................max_depth=7; total time=   0.2s\n",
      "[CV] END ........................................max_depth=8; total time=   0.2s\n",
      "[CV] END ........................................max_depth=8; total time=   0.2s\n",
      "[CV] END ........................................max_depth=8; total time=   0.2s\n",
      "[CV] END ........................................max_depth=8; total time=   0.2s\n",
      "[CV] END ........................................max_depth=8; total time=   0.2s\n",
      "[CV] END ........................................max_depth=9; total time=   0.2s\n",
      "[CV] END ........................................max_depth=9; total time=   0.3s\n",
      "[CV] END ........................................max_depth=9; total time=   0.2s\n",
      "[CV] END ........................................max_depth=9; total time=   0.2s\n",
      "[CV] END ........................................max_depth=9; total time=   0.2s\n",
      "[CV] END .......................................max_depth=10; total time=   0.2s\n",
      "[CV] END .......................................max_depth=10; total time=   0.2s\n",
      "[CV] END .......................................max_depth=10; total time=   0.2s\n",
      "[CV] END .......................................max_depth=10; total time=   0.2s\n",
      "[CV] END .......................................max_depth=10; total time=   0.3s\n",
      "[CV] END .......................................max_depth=11; total time=   0.3s\n",
      "[CV] END .......................................max_depth=11; total time=   0.3s\n",
      "[CV] END .......................................max_depth=11; total time=   0.3s\n",
      "[CV] END .......................................max_depth=11; total time=   0.3s\n",
      "[CV] END .......................................max_depth=11; total time=   0.3s\n",
      "[CV] END .......................................max_depth=12; total time=   0.3s\n",
      "[CV] END .......................................max_depth=12; total time=   0.3s\n",
      "[CV] END .......................................max_depth=12; total time=   0.3s\n",
      "[CV] END .......................................max_depth=12; total time=   0.3s\n",
      "[CV] END .......................................max_depth=12; total time=   0.3s\n",
      "[CV] END .......................................max_depth=13; total time=   0.3s\n",
      "[CV] END .......................................max_depth=13; total time=   0.3s\n",
      "[CV] END .......................................max_depth=13; total time=   0.3s\n",
      "[CV] END .......................................max_depth=13; total time=   0.3s\n",
      "[CV] END .......................................max_depth=13; total time=   0.3s\n",
      "[CV] END .......................................max_depth=14; total time=   0.3s\n",
      "[CV] END .......................................max_depth=14; total time=   0.3s\n",
      "[CV] END .......................................max_depth=14; total time=   0.3s\n",
      "[CV] END .......................................max_depth=14; total time=   0.3s\n",
      "[CV] END .......................................max_depth=14; total time=   0.4s\n",
      "[CV] END .......................................max_depth=15; total time=   0.4s\n",
      "[CV] END .......................................max_depth=15; total time=   0.4s\n",
      "[CV] END .......................................max_depth=15; total time=   0.4s\n",
      "[CV] END .......................................max_depth=15; total time=   0.4s\n",
      "[CV] END .......................................max_depth=15; total time=   0.4s\n",
      "CPU times: user 15.8 s, sys: 33.9 ms, total: 15.8 s\n",
      "Wall time: 15.9 s\n"
     ]
    },
    {
     "data": {
      "text/plain": [
       "DecisionTreeRegressor(max_depth=12,\n",
       "                      random_state=RandomState(MT19937) at 0x7F90066E6440)"
      ]
     },
     "execution_count": 54,
     "metadata": {},
     "output_type": "execute_result"
    }
   ],
   "source": [
    "%%time\n",
    "param_grid = {\n",
    "    'max_depth': [1, 2, 3, 4, 5, 6, 7, 8, 9,10,11,12,13,14,15]\n",
    "}\n",
    "\n",
    "tree_model = DecisionTreeRegressor(random_state=state)\n",
    "grid_search = GridSearchCV(estimator=tree_model, param_grid=param_grid, cv=5, n_jobs=-1, verbose=2)\n",
    "grid_search.fit(features_train, target_train)\n",
    "best_tree_model = grid_search.best_estimator_\n",
    "\n",
    "best_tree_model\n",
    "\n",
    "#tree_model = DecisionTreeRegressor(criterion='mse', \n",
    "#                              max_depth=9, \n",
    "#                              random_state=12345) \n",
    "#tree_model.fit(features_train, target_train)"
   ]
  },
  {
   "cell_type": "code",
   "execution_count": 55,
   "metadata": {},
   "outputs": [],
   "source": [
    "lgbm_model1 = DecisionTreeRegressor(random_state=state, **grid_search.best_params_).fit(features_train, target_train)"
   ]
  },
  {
   "cell_type": "code",
   "execution_count": 56,
   "metadata": {},
   "outputs": [
    {
     "data": {
      "text/plain": [
       "3.016068029403687"
      ]
     },
     "execution_count": 56,
     "metadata": {},
     "output_type": "execute_result"
    }
   ],
   "source": [
    "mean_fit_time = grid_search.cv_results_['mean_fit_time']\n",
    "total_fit_time = sum(mean_fit_time)\n",
    "total_fit_time #в секундах"
   ]
  },
  {
   "cell_type": "markdown",
   "metadata": {},
   "source": [
    "**лучшие параметры для модели DecisionTreeRegressor - max_depth=13**\n",
    "\n",
    "**время обучения 3.05s**"
   ]
  },
  {
   "cell_type": "code",
   "execution_count": 57,
   "metadata": {},
   "outputs": [
    {
     "name": "stdout",
     "output_type": "stream",
     "text": [
      "CPU times: user 8.54 ms, sys: 22 µs, total: 8.56 ms\n",
      "Wall time: 8.01 ms\n"
     ]
    }
   ],
   "source": [
    "%%time\n",
    "pred_tree_model = best_tree_model.predict(features_valid)"
   ]
  },
  {
   "cell_type": "code",
   "execution_count": 58,
   "metadata": {},
   "outputs": [
    {
     "name": "stdout",
     "output_type": "stream",
     "text": [
      "RMSE для DecisionTreeRegresso: 1825.72\n"
     ]
    }
   ],
   "source": [
    "mse_tree_model = mean_squared_error(target_valid, pred_tree_model)\n",
    "print(\"RMSE для DecisionTreeRegresso:\", round((mse_tree_model) ** 0.5, 2))"
   ]
  },
  {
   "cell_type": "markdown",
   "metadata": {},
   "source": [
    "**Регрессия LGBMRegressor**"
   ]
  },
  {
   "cell_type": "code",
   "execution_count": 59,
   "metadata": {},
   "outputs": [
    {
     "name": "stdout",
     "output_type": "stream",
     "text": [
      "CPU times: user 2min 52s, sys: 840 ms, total: 2min 52s\n",
      "Wall time: 2min 55s\n"
     ]
    },
    {
     "data": {
      "text/plain": [
       "LGBMRegressor(max_depth=10, n_estimators=200, num_leaves=63,\n",
       "              random_state=RandomState(MT19937) at 0x7F9013B1C940)"
      ]
     },
     "execution_count": 59,
     "metadata": {},
     "output_type": "execute_result"
    }
   ],
   "source": [
    "%%time\n",
    "lgbm_model = LGBMRegressor(\n",
    "    random_state=state, max_depth=10, n_estimators=200,num_leaves=63)\n",
    "lgbm_model.fit(features_train, target_train)"
   ]
  },
  {
   "cell_type": "markdown",
   "metadata": {},
   "source": [
    "**лучшие параметры для модели LGBMRegressor - max_depth=10, n_estimators=200, num_leaves=63**\n",
    "\n",
    "**время обучения 2min 55s**"
   ]
  },
  {
   "cell_type": "code",
   "execution_count": 60,
   "metadata": {},
   "outputs": [
    {
     "name": "stdout",
     "output_type": "stream",
     "text": [
      "CPU times: user 773 ms, sys: 0 ns, total: 773 ms\n",
      "Wall time: 806 ms\n"
     ]
    }
   ],
   "source": [
    "%%time\n",
    "pred_lgbm_model = lgbm_model.predict(features_valid)"
   ]
  },
  {
   "cell_type": "code",
   "execution_count": 61,
   "metadata": {},
   "outputs": [
    {
     "name": "stdout",
     "output_type": "stream",
     "text": [
      "RMSE для LGBMRegressor: 1504.58\n"
     ]
    }
   ],
   "source": [
    "mse_lgbm_model = mean_squared_error(target_valid, pred_lgbm_model)\n",
    "print(\"RMSE для LGBMRegressor:\", round((mse_lgbm_model) ** 0.5, 2))"
   ]
  },
  {
   "cell_type": "markdown",
   "metadata": {},
   "source": [
    "**CatBoostRegressor**"
   ]
  },
  {
   "cell_type": "code",
   "execution_count": 62,
   "metadata": {
    "scrolled": false
   },
   "outputs": [
    {
     "name": "stdout",
     "output_type": "stream",
     "text": [
      "Fitting 5 folds for each of 27 candidates, totalling 135 fits\n",
      "[CV] END ...learning_rate=0.01, max_depth=5, n_estimators=50; total time=   1.6s\n",
      "[CV] END ...learning_rate=0.01, max_depth=5, n_estimators=50; total time=   1.6s\n",
      "[CV] END ...learning_rate=0.01, max_depth=5, n_estimators=50; total time=   1.3s\n",
      "[CV] END ...learning_rate=0.01, max_depth=5, n_estimators=50; total time=   1.4s\n",
      "[CV] END ...learning_rate=0.01, max_depth=5, n_estimators=50; total time=   1.4s\n",
      "[CV] END ..learning_rate=0.01, max_depth=5, n_estimators=100; total time=   2.2s\n",
      "[CV] END ..learning_rate=0.01, max_depth=5, n_estimators=100; total time=   2.2s\n",
      "[CV] END ..learning_rate=0.01, max_depth=5, n_estimators=100; total time=   2.5s\n",
      "[CV] END ..learning_rate=0.01, max_depth=5, n_estimators=100; total time=   2.2s\n",
      "[CV] END ..learning_rate=0.01, max_depth=5, n_estimators=100; total time=   2.4s\n",
      "[CV] END ..learning_rate=0.01, max_depth=5, n_estimators=150; total time=   3.0s\n",
      "[CV] END ..learning_rate=0.01, max_depth=5, n_estimators=150; total time=   2.8s\n",
      "[CV] END ..learning_rate=0.01, max_depth=5, n_estimators=150; total time=   3.0s\n",
      "[CV] END ..learning_rate=0.01, max_depth=5, n_estimators=150; total time=   2.9s\n",
      "[CV] END ..learning_rate=0.01, max_depth=5, n_estimators=150; total time=   2.9s\n",
      "[CV] END ...learning_rate=0.01, max_depth=7, n_estimators=50; total time=   1.5s\n",
      "[CV] END ...learning_rate=0.01, max_depth=7, n_estimators=50; total time=   1.6s\n",
      "[CV] END ...learning_rate=0.01, max_depth=7, n_estimators=50; total time=   1.5s\n",
      "[CV] END ...learning_rate=0.01, max_depth=7, n_estimators=50; total time=   1.5s\n",
      "[CV] END ...learning_rate=0.01, max_depth=7, n_estimators=50; total time=   1.6s\n",
      "[CV] END ..learning_rate=0.01, max_depth=7, n_estimators=100; total time=   2.4s\n",
      "[CV] END ..learning_rate=0.01, max_depth=7, n_estimators=100; total time=   2.4s\n",
      "[CV] END ..learning_rate=0.01, max_depth=7, n_estimators=100; total time=   2.4s\n",
      "[CV] END ..learning_rate=0.01, max_depth=7, n_estimators=100; total time=   2.4s\n",
      "[CV] END ..learning_rate=0.01, max_depth=7, n_estimators=100; total time=   2.5s\n",
      "[CV] END ..learning_rate=0.01, max_depth=7, n_estimators=150; total time=   3.3s\n",
      "[CV] END ..learning_rate=0.01, max_depth=7, n_estimators=150; total time=   3.6s\n",
      "[CV] END ..learning_rate=0.01, max_depth=7, n_estimators=150; total time=   4.2s\n",
      "[CV] END ..learning_rate=0.01, max_depth=7, n_estimators=150; total time=   3.2s\n",
      "[CV] END ..learning_rate=0.01, max_depth=7, n_estimators=150; total time=   3.6s\n",
      "[CV] END ..learning_rate=0.01, max_depth=10, n_estimators=50; total time=   2.6s\n",
      "[CV] END ..learning_rate=0.01, max_depth=10, n_estimators=50; total time=   2.5s\n",
      "[CV] END ..learning_rate=0.01, max_depth=10, n_estimators=50; total time=   2.7s\n",
      "[CV] END ..learning_rate=0.01, max_depth=10, n_estimators=50; total time=   2.6s\n",
      "[CV] END ..learning_rate=0.01, max_depth=10, n_estimators=50; total time=   2.4s\n",
      "[CV] END .learning_rate=0.01, max_depth=10, n_estimators=100; total time=   4.2s\n",
      "[CV] END .learning_rate=0.01, max_depth=10, n_estimators=100; total time=   4.1s\n",
      "[CV] END .learning_rate=0.01, max_depth=10, n_estimators=100; total time=   4.1s\n",
      "[CV] END .learning_rate=0.01, max_depth=10, n_estimators=100; total time=   4.0s\n",
      "[CV] END .learning_rate=0.01, max_depth=10, n_estimators=100; total time=   4.1s\n",
      "[CV] END .learning_rate=0.01, max_depth=10, n_estimators=150; total time=   5.8s\n",
      "[CV] END .learning_rate=0.01, max_depth=10, n_estimators=150; total time=   5.9s\n",
      "[CV] END .learning_rate=0.01, max_depth=10, n_estimators=150; total time=   6.2s\n",
      "[CV] END .learning_rate=0.01, max_depth=10, n_estimators=150; total time=   5.7s\n",
      "[CV] END .learning_rate=0.01, max_depth=10, n_estimators=150; total time=   6.1s\n",
      "[CV] END ....learning_rate=0.1, max_depth=5, n_estimators=50; total time=   1.4s\n",
      "[CV] END ....learning_rate=0.1, max_depth=5, n_estimators=50; total time=   1.5s\n",
      "[CV] END ....learning_rate=0.1, max_depth=5, n_estimators=50; total time=   1.5s\n",
      "[CV] END ....learning_rate=0.1, max_depth=5, n_estimators=50; total time=   1.3s\n",
      "[CV] END ....learning_rate=0.1, max_depth=5, n_estimators=50; total time=   1.4s\n",
      "[CV] END ...learning_rate=0.1, max_depth=5, n_estimators=100; total time=   2.1s\n",
      "[CV] END ...learning_rate=0.1, max_depth=5, n_estimators=100; total time=   2.1s\n",
      "[CV] END ...learning_rate=0.1, max_depth=5, n_estimators=100; total time=   2.1s\n",
      "[CV] END ...learning_rate=0.1, max_depth=5, n_estimators=100; total time=   2.1s\n",
      "[CV] END ...learning_rate=0.1, max_depth=5, n_estimators=100; total time=   2.1s\n",
      "[CV] END ...learning_rate=0.1, max_depth=5, n_estimators=150; total time=   3.0s\n",
      "[CV] END ...learning_rate=0.1, max_depth=5, n_estimators=150; total time=   2.9s\n",
      "[CV] END ...learning_rate=0.1, max_depth=5, n_estimators=150; total time=   2.9s\n",
      "[CV] END ...learning_rate=0.1, max_depth=5, n_estimators=150; total time=   2.8s\n",
      "[CV] END ...learning_rate=0.1, max_depth=5, n_estimators=150; total time=   2.7s\n",
      "[CV] END ....learning_rate=0.1, max_depth=7, n_estimators=50; total time=   1.5s\n",
      "[CV] END ....learning_rate=0.1, max_depth=7, n_estimators=50; total time=   1.5s\n",
      "[CV] END ....learning_rate=0.1, max_depth=7, n_estimators=50; total time=   1.4s\n",
      "[CV] END ....learning_rate=0.1, max_depth=7, n_estimators=50; total time=   1.5s\n",
      "[CV] END ....learning_rate=0.1, max_depth=7, n_estimators=50; total time=   1.5s\n",
      "[CV] END ...learning_rate=0.1, max_depth=7, n_estimators=100; total time=   2.3s\n",
      "[CV] END ...learning_rate=0.1, max_depth=7, n_estimators=100; total time=   2.4s\n",
      "[CV] END ...learning_rate=0.1, max_depth=7, n_estimators=100; total time=   2.6s\n",
      "[CV] END ...learning_rate=0.1, max_depth=7, n_estimators=100; total time=   2.3s\n",
      "[CV] END ...learning_rate=0.1, max_depth=7, n_estimators=100; total time=   2.4s\n",
      "[CV] END ...learning_rate=0.1, max_depth=7, n_estimators=150; total time=   3.3s\n",
      "[CV] END ...learning_rate=0.1, max_depth=7, n_estimators=150; total time=   3.2s\n",
      "[CV] END ...learning_rate=0.1, max_depth=7, n_estimators=150; total time=   3.3s\n",
      "[CV] END ...learning_rate=0.1, max_depth=7, n_estimators=150; total time=   3.6s\n",
      "[CV] END ...learning_rate=0.1, max_depth=7, n_estimators=150; total time=   3.3s\n",
      "[CV] END ...learning_rate=0.1, max_depth=10, n_estimators=50; total time=   2.3s\n",
      "[CV] END ...learning_rate=0.1, max_depth=10, n_estimators=50; total time=   2.4s\n",
      "[CV] END ...learning_rate=0.1, max_depth=10, n_estimators=50; total time=   2.5s\n",
      "[CV] END ...learning_rate=0.1, max_depth=10, n_estimators=50; total time=   2.5s\n",
      "[CV] END ...learning_rate=0.1, max_depth=10, n_estimators=50; total time=   2.5s\n",
      "[CV] END ..learning_rate=0.1, max_depth=10, n_estimators=100; total time=   4.2s\n",
      "[CV] END ..learning_rate=0.1, max_depth=10, n_estimators=100; total time=   4.2s\n",
      "[CV] END ..learning_rate=0.1, max_depth=10, n_estimators=100; total time=   4.2s\n",
      "[CV] END ..learning_rate=0.1, max_depth=10, n_estimators=100; total time=   4.1s\n",
      "[CV] END ..learning_rate=0.1, max_depth=10, n_estimators=100; total time=   4.1s\n",
      "[CV] END ..learning_rate=0.1, max_depth=10, n_estimators=150; total time=   5.9s\n",
      "[CV] END ..learning_rate=0.1, max_depth=10, n_estimators=150; total time=   5.8s\n",
      "[CV] END ..learning_rate=0.1, max_depth=10, n_estimators=150; total time=   6.0s\n",
      "[CV] END ..learning_rate=0.1, max_depth=10, n_estimators=150; total time=   6.6s\n",
      "[CV] END ..learning_rate=0.1, max_depth=10, n_estimators=150; total time=   6.4s\n",
      "[CV] END ......learning_rate=1, max_depth=5, n_estimators=50; total time=   1.5s\n",
      "[CV] END ......learning_rate=1, max_depth=5, n_estimators=50; total time=   1.5s\n",
      "[CV] END ......learning_rate=1, max_depth=5, n_estimators=50; total time=   1.5s\n",
      "[CV] END ......learning_rate=1, max_depth=5, n_estimators=50; total time=   1.4s\n",
      "[CV] END ......learning_rate=1, max_depth=5, n_estimators=50; total time=   1.4s\n",
      "[CV] END .....learning_rate=1, max_depth=5, n_estimators=100; total time=   2.4s\n",
      "[CV] END .....learning_rate=1, max_depth=5, n_estimators=100; total time=   2.2s\n",
      "[CV] END .....learning_rate=1, max_depth=5, n_estimators=100; total time=   2.1s\n",
      "[CV] END .....learning_rate=1, max_depth=5, n_estimators=100; total time=   2.1s\n",
      "[CV] END .....learning_rate=1, max_depth=5, n_estimators=100; total time=   2.2s\n",
      "[CV] END .....learning_rate=1, max_depth=5, n_estimators=150; total time=   2.8s\n",
      "[CV] END .....learning_rate=1, max_depth=5, n_estimators=150; total time=   2.9s\n",
      "[CV] END .....learning_rate=1, max_depth=5, n_estimators=150; total time=   2.9s\n",
      "[CV] END .....learning_rate=1, max_depth=5, n_estimators=150; total time=   2.7s\n",
      "[CV] END .....learning_rate=1, max_depth=5, n_estimators=150; total time=   3.0s\n",
      "[CV] END ......learning_rate=1, max_depth=7, n_estimators=50; total time=   1.7s\n",
      "[CV] END ......learning_rate=1, max_depth=7, n_estimators=50; total time=   1.5s\n",
      "[CV] END ......learning_rate=1, max_depth=7, n_estimators=50; total time=   1.6s\n",
      "[CV] END ......learning_rate=1, max_depth=7, n_estimators=50; total time=   1.5s\n",
      "[CV] END ......learning_rate=1, max_depth=7, n_estimators=50; total time=   1.5s\n",
      "[CV] END .....learning_rate=1, max_depth=7, n_estimators=100; total time=   2.5s\n",
      "[CV] END .....learning_rate=1, max_depth=7, n_estimators=100; total time=   2.5s\n",
      "[CV] END .....learning_rate=1, max_depth=7, n_estimators=100; total time=   2.5s\n",
      "[CV] END .....learning_rate=1, max_depth=7, n_estimators=100; total time=   3.1s\n",
      "[CV] END .....learning_rate=1, max_depth=7, n_estimators=100; total time=   3.7s\n",
      "[CV] END .....learning_rate=1, max_depth=7, n_estimators=150; total time=   3.5s\n",
      "[CV] END .....learning_rate=1, max_depth=7, n_estimators=150; total time=   3.8s\n",
      "[CV] END .....learning_rate=1, max_depth=7, n_estimators=150; total time=   3.3s\n",
      "[CV] END .....learning_rate=1, max_depth=7, n_estimators=150; total time=   3.2s\n",
      "[CV] END .....learning_rate=1, max_depth=7, n_estimators=150; total time=   4.6s\n",
      "[CV] END .....learning_rate=1, max_depth=10, n_estimators=50; total time=   2.4s\n",
      "[CV] END .....learning_rate=1, max_depth=10, n_estimators=50; total time=   2.4s\n",
      "[CV] END .....learning_rate=1, max_depth=10, n_estimators=50; total time=   2.4s\n",
      "[CV] END .....learning_rate=1, max_depth=10, n_estimators=50; total time=   2.5s\n",
      "[CV] END .....learning_rate=1, max_depth=10, n_estimators=50; total time=   2.6s\n",
      "[CV] END ....learning_rate=1, max_depth=10, n_estimators=100; total time=   4.2s\n",
      "[CV] END ....learning_rate=1, max_depth=10, n_estimators=100; total time=   4.8s\n",
      "[CV] END ....learning_rate=1, max_depth=10, n_estimators=100; total time=   4.3s\n",
      "[CV] END ....learning_rate=1, max_depth=10, n_estimators=100; total time=   4.5s\n",
      "[CV] END ....learning_rate=1, max_depth=10, n_estimators=100; total time=   4.6s\n",
      "[CV] END ....learning_rate=1, max_depth=10, n_estimators=150; total time=   6.3s\n",
      "[CV] END ....learning_rate=1, max_depth=10, n_estimators=150; total time=   6.1s\n",
      "[CV] END ....learning_rate=1, max_depth=10, n_estimators=150; total time=   6.3s\n",
      "[CV] END ....learning_rate=1, max_depth=10, n_estimators=150; total time=   6.0s\n",
      "[CV] END ....learning_rate=1, max_depth=10, n_estimators=150; total time=   6.0s\n",
      "CPU times: user 5min 19s, sys: 2.07 s, total: 5min 21s\n",
      "Wall time: 6min 51s\n"
     ]
    },
    {
     "data": {
      "text/plain": [
       "{'learning_rate': 0.1, 'max_depth': 10, 'n_estimators': 150}"
      ]
     },
     "execution_count": 62,
     "metadata": {},
     "output_type": "execute_result"
    }
   ],
   "source": [
    "%%time\n",
    "state = 12345 \n",
    "np.random.seed(state)\n",
    "\n",
    "param_grid = {\n",
    "    'learning_rate': [0.01, 0.1, 1],\n",
    "    'max_depth': [5, 7, 10],\n",
    "    'n_estimators': [50, 100, 150]\n",
    "}\n",
    "cat_model = CatBoostRegressor(random_state=state, silent=True)\n",
    "grid_search = GridSearchCV(estimator=cat_model, param_grid=param_grid, cv=5, n_jobs=-1, verbose=2)\n",
    "grid_search.fit(features_train, target_train)\n",
    "best_params = grid_search.best_params_\n",
    "best_cat_model = grid_search.best_estimator_\n",
    "\n",
    "best_params"
   ]
  },
  {
   "cell_type": "code",
   "execution_count": 63,
   "metadata": {},
   "outputs": [
    {
     "data": {
      "text/plain": [
       "80.67874455451964"
      ]
     },
     "execution_count": 63,
     "metadata": {},
     "output_type": "execute_result"
    }
   ],
   "source": [
    "mean_fit_time_3 = grid_search.cv_results_['mean_fit_time']\n",
    "total_fit_time_3 = sum(mean_fit_time_3)\n",
    "total_fit_time_3 #в секундах"
   ]
  },
  {
   "cell_type": "markdown",
   "metadata": {},
   "source": [
    "**лучшие параметры для модели CatBoostRegressor - 'learning_rate': 0.1, 'max_depth': 10, 'n_estimators': 150**\n",
    "\n",
    "**время обучения 1min 21s**"
   ]
  },
  {
   "cell_type": "code",
   "execution_count": 64,
   "metadata": {},
   "outputs": [
    {
     "name": "stdout",
     "output_type": "stream",
     "text": [
      "CPU times: user 27.1 ms, sys: 28 µs, total: 27.2 ms\n",
      "Wall time: 26.5 ms\n"
     ]
    }
   ],
   "source": [
    "%%time\n",
    "cat_predict = best_cat_model.predict(features_valid)"
   ]
  },
  {
   "cell_type": "code",
   "execution_count": 65,
   "metadata": {},
   "outputs": [
    {
     "name": "stdout",
     "output_type": "stream",
     "text": [
      "RMSE для CatBoostRegressor: 1549.3\n"
     ]
    }
   ],
   "source": [
    "mse_cat_model = mean_squared_error(target_valid, cat_predict)\n",
    "print(\"RMSE для CatBoostRegressor:\", round((mse_cat_model) ** 0.5, 2))"
   ]
  },
  {
   "cell_type": "markdown",
   "metadata": {},
   "source": [
    "**Вывод**\n",
    "- модель Linear Regression оказалось самой быстрой, но по метрике RMSE у нее самый плохой резльтат (так как значение метрики этой модели больше чем у остальных моделей - 2588) \n",
    "- почти одинаковые значения метрики RMSE у моделей RandomForestRegressor (1558) и LGBMRegressor(1547), их время тоже не сильно отличается, но у Леса время предсказаний в два раза быстрее)\n",
    "- С ними посоревноваться может модель CatBoostRegressor, так как у нее наименьшее значение RMSE (1476), но время обучения в 3 раза больше Леса.\n",
    "- средние показатели у DecisionTreeRegressor, довольное быстрое время обучения и предсказания, одно из самых быстрых, но вот метрики отстает от лидеров (1883)"
   ]
  },
  {
   "cell_type": "markdown",
   "metadata": {},
   "source": [
    "## Анализ моделей"
   ]
  },
  {
   "cell_type": "code",
   "execution_count": 70,
   "metadata": {},
   "outputs": [],
   "source": [
    "df = [  [\"5.88 s\", \"188 ms\", 1583.67],\n",
    "        [\"3.05s\", \"8.01 ms\", 1825.72],\n",
    "        [\"2min 55s\", \"806 ms\", 1504.58],\n",
    "        [\"1min 21s\", \"26.5 ms\", 1549.3]]\n",
    "model = [ \"RandomForestRegressor\", \"DecisionTreeRegressor\", \"LGBMRegressor\", \"CatBoostRegressor\"]"
   ]
  },
  {
   "cell_type": "code",
   "execution_count": 71,
   "metadata": {},
   "outputs": [
    {
     "data": {
      "text/html": [
       "<div>\n",
       "<style scoped>\n",
       "    .dataframe tbody tr th:only-of-type {\n",
       "        vertical-align: middle;\n",
       "    }\n",
       "\n",
       "    .dataframe tbody tr th {\n",
       "        vertical-align: top;\n",
       "    }\n",
       "\n",
       "    .dataframe thead th {\n",
       "        text-align: right;\n",
       "    }\n",
       "</style>\n",
       "<table border=\"1\" class=\"dataframe\">\n",
       "  <thead>\n",
       "    <tr style=\"text-align: right;\">\n",
       "      <th></th>\n",
       "      <th>fit_time</th>\n",
       "      <th>predict_time</th>\n",
       "      <th>RMSE</th>\n",
       "    </tr>\n",
       "  </thead>\n",
       "  <tbody>\n",
       "    <tr>\n",
       "      <th>RandomForestRegressor</th>\n",
       "      <td>5.88 s</td>\n",
       "      <td>188 ms</td>\n",
       "      <td>1583.67</td>\n",
       "    </tr>\n",
       "    <tr>\n",
       "      <th>DecisionTreeRegressor</th>\n",
       "      <td>3.05s</td>\n",
       "      <td>8.01 ms</td>\n",
       "      <td>1825.72</td>\n",
       "    </tr>\n",
       "    <tr>\n",
       "      <th>LGBMRegressor</th>\n",
       "      <td>2min 55s</td>\n",
       "      <td>806 ms</td>\n",
       "      <td>1504.58</td>\n",
       "    </tr>\n",
       "    <tr>\n",
       "      <th>CatBoostRegressor</th>\n",
       "      <td>1min 21s</td>\n",
       "      <td>26.5 ms</td>\n",
       "      <td>1549.30</td>\n",
       "    </tr>\n",
       "  </tbody>\n",
       "</table>\n",
       "</div>"
      ],
      "text/plain": [
       "                       fit_time predict_time     RMSE\n",
       "RandomForestRegressor    5.88 s       188 ms  1583.67\n",
       "DecisionTreeRegressor     3.05s      8.01 ms  1825.72\n",
       "LGBMRegressor          2min 55s       806 ms  1504.58\n",
       "CatBoostRegressor      1min 21s      26.5 ms  1549.30"
      ]
     },
     "execution_count": 71,
     "metadata": {},
     "output_type": "execute_result"
    }
   ],
   "source": [
    "pd.DataFrame(data=df, index=model, columns=[\"fit_time\", \"predict_time\", \"RMSE\"])"
   ]
  },
  {
   "cell_type": "markdown",
   "metadata": {},
   "source": [
    "наилучший результат по времени предсказаний и метрике показала модель CatBoostRegressor, так как ее качестов не сильно отличается от LGBMRegressor, то примим ее за модель, которую можно рекомендовать. Проверим, сохранит ли она такое же качество на тестовой выборке.\n"
   ]
  },
  {
   "cell_type": "code",
   "execution_count": 72,
   "metadata": {},
   "outputs": [
    {
     "name": "stdout",
     "output_type": "stream",
     "text": [
      "RMSE для CatBoostRegressor на тестовой: 1549.09\n"
     ]
    }
   ],
   "source": [
    "cat_predict_test = best_cat_model.predict(features_test)\n",
    "mse_cat_model_test = mean_squared_error(target_test, cat_predict_test)\n",
    "print(\"RMSE для CatBoostRegressor на тестовой:\", round((mse_cat_model_test) ** 0.5, 2))"
   ]
  },
  {
   "cell_type": "markdown",
   "metadata": {},
   "source": [
    "Качество на тестовой выборке критично не изменилось, это говрит нам о том, что выбранная модель не сломается на новых данных и мы можем смело рекомендовать ее."
   ]
  },
  {
   "cell_type": "markdown",
   "metadata": {},
   "source": [
    "**Вывод**\n",
    "\n",
    "Мы стремились создать модель, которая с высокой точностью могла бы прогнозировать стоимость автомобиля на основе имеющихся исторических данных, обладала быстродействием и эффективным временем обучения. Наш исходный набор данных содержал информацию о технических характеристиках, комплектациях и ценах автомобилей.\n",
    "\n",
    "Модель LGBMRegressor продемонстрировала наилучшие показатели точности предсказания - 1560.06, время обучения было дольше других и составило 2min 57s. Хотя модель CatBoostRegressor\t предсказала немного хуже - RMSE = 1567.67, но при этом обучилась значительно быстрее - 1min 25s.\n",
    "\n",
    "Конкурировать с данными моделями так же может RandomForestRegressor, его скорость в разы меньше, а метрика не намного(в сравнение с DecisionTreeRegressor) отличается - (1593.97)\n",
    "\n",
    "В итоге можно рекомендовать компании \"Не бит, не крашен\" использовать модель CatBoostRegressor, так как если рассматривать интересы компании она побеждает по 2 пунктам из 3 по сравнению с LGBMRegressor.\n",
    "\n",
    "Если скорость обучения и времени предсказания критически важны для выполнения работы, то лучше выбрать CatBoostRegressor. Если точность прогнозирования более важна, то лучше выбрать LGBMRegressor. Кроме того, в вашем случае разница в точности прогнозов не является значительной, поэтому разница во времени обучения и время предсказания могут быть решающим фактором в выборе одной модели перед другой.\n",
    "\n",
    "*Рекомендации: для обучения можно попробовать более точно восстановить данные, работая со специалистами в данной области*"
   ]
  }
 ],
 "metadata": {
  "ExecuteTimeLog": [
   {
    "duration": 1859,
    "start_time": "2023-06-06T22:42:51.834Z"
   },
   {
    "duration": 1174,
    "start_time": "2023-06-06T22:42:53.695Z"
   },
   {
    "duration": 147,
    "start_time": "2023-06-06T22:43:22.410Z"
   },
   {
    "duration": 311,
    "start_time": "2023-06-06T22:43:47.092Z"
   },
   {
    "duration": 130,
    "start_time": "2023-06-06T22:44:05.651Z"
   },
   {
    "duration": 97,
    "start_time": "2023-06-06T22:44:22.282Z"
   },
   {
    "duration": 50,
    "start_time": "2023-06-08T22:00:33.449Z"
   },
   {
    "duration": 1551,
    "start_time": "2023-06-08T22:00:36.648Z"
   },
   {
    "duration": 997,
    "start_time": "2023-06-08T22:00:38.201Z"
   },
   {
    "duration": 121,
    "start_time": "2023-06-08T22:00:39.199Z"
   },
   {
    "duration": 285,
    "start_time": "2023-06-08T22:00:39.321Z"
   },
   {
    "duration": 1612,
    "start_time": "2023-06-08T22:00:39.608Z"
   },
   {
    "duration": 93,
    "start_time": "2023-06-08T22:00:41.222Z"
   },
   {
    "duration": 66,
    "start_time": "2023-06-08T22:09:40.995Z"
   },
   {
    "duration": 108,
    "start_time": "2023-06-08T22:15:07.561Z"
   },
   {
    "duration": 189,
    "start_time": "2023-06-08T22:20:29.462Z"
   },
   {
    "duration": 1500,
    "start_time": "2023-06-08T22:45:24.452Z"
   },
   {
    "duration": 1306,
    "start_time": "2023-06-08T22:45:36.232Z"
   },
   {
    "duration": 1663,
    "start_time": "2023-06-08T22:45:44.079Z"
   },
   {
    "duration": 1973,
    "start_time": "2023-06-08T22:45:56.664Z"
   },
   {
    "duration": 15,
    "start_time": "2023-06-08T22:48:06.912Z"
   },
   {
    "duration": 1613,
    "start_time": "2023-06-08T23:04:36.135Z"
   },
   {
    "duration": 15,
    "start_time": "2023-06-08T23:04:43.360Z"
   },
   {
    "duration": 26,
    "start_time": "2023-06-08T23:04:48.871Z"
   },
   {
    "duration": 15,
    "start_time": "2023-06-08T23:05:01.065Z"
   },
   {
    "duration": 16,
    "start_time": "2023-06-08T23:05:03.901Z"
   },
   {
    "duration": 16,
    "start_time": "2023-06-08T23:05:06.540Z"
   },
   {
    "duration": 14,
    "start_time": "2023-06-08T23:05:06.961Z"
   },
   {
    "duration": 1403,
    "start_time": "2023-06-08T23:05:26.171Z"
   },
   {
    "duration": 749,
    "start_time": "2023-06-08T23:05:27.576Z"
   },
   {
    "duration": 115,
    "start_time": "2023-06-08T23:05:28.327Z"
   },
   {
    "duration": 238,
    "start_time": "2023-06-08T23:05:28.444Z"
   },
   {
    "duration": 1971,
    "start_time": "2023-06-08T23:05:28.684Z"
   },
   {
    "duration": 86,
    "start_time": "2023-06-08T23:05:30.657Z"
   },
   {
    "duration": 126,
    "start_time": "2023-06-08T23:05:30.745Z"
   },
   {
    "duration": 239,
    "start_time": "2023-06-08T23:05:30.872Z"
   },
   {
    "duration": 15,
    "start_time": "2023-06-08T23:05:31.112Z"
   },
   {
    "duration": 40,
    "start_time": "2023-06-08T23:05:31.129Z"
   },
   {
    "duration": 130,
    "start_time": "2023-06-08T23:05:55.409Z"
   },
   {
    "duration": 17,
    "start_time": "2023-06-08T23:05:56.002Z"
   },
   {
    "duration": 22,
    "start_time": "2023-06-08T23:05:56.480Z"
   },
   {
    "duration": 64,
    "start_time": "2023-06-08T23:05:59.249Z"
   },
   {
    "duration": 2090,
    "start_time": "2023-06-08T23:07:32.747Z"
   },
   {
    "duration": 5,
    "start_time": "2023-06-08T23:08:57.547Z"
   },
   {
    "duration": 5,
    "start_time": "2023-06-08T23:09:36.026Z"
   },
   {
    "duration": 5,
    "start_time": "2023-06-08T23:09:39.543Z"
   },
   {
    "duration": 4,
    "start_time": "2023-06-08T23:09:46.697Z"
   },
   {
    "duration": 5,
    "start_time": "2023-06-08T23:10:22.272Z"
   },
   {
    "duration": 24,
    "start_time": "2023-06-08T23:10:25.429Z"
   },
   {
    "duration": 117,
    "start_time": "2023-06-08T23:12:46.358Z"
   },
   {
    "duration": 5,
    "start_time": "2023-06-08T23:13:19.926Z"
   },
   {
    "duration": 12,
    "start_time": "2023-06-08T23:13:31.095Z"
   },
   {
    "duration": 7,
    "start_time": "2023-06-08T23:15:02.007Z"
   },
   {
    "duration": 7,
    "start_time": "2023-06-08T23:16:03.139Z"
   },
   {
    "duration": 78,
    "start_time": "2023-06-08T23:17:58.017Z"
   },
   {
    "duration": 29,
    "start_time": "2023-06-08T23:18:54.880Z"
   },
   {
    "duration": 72,
    "start_time": "2023-06-08T23:18:59.510Z"
   },
   {
    "duration": 4,
    "start_time": "2023-06-08T23:21:23.020Z"
   },
   {
    "duration": 5,
    "start_time": "2023-06-08T23:23:23.440Z"
   },
   {
    "duration": 6,
    "start_time": "2023-06-08T23:24:44.596Z"
   },
   {
    "duration": 5,
    "start_time": "2023-06-08T23:26:12.232Z"
   },
   {
    "duration": 22,
    "start_time": "2023-06-08T23:26:17.030Z"
   },
   {
    "duration": 10,
    "start_time": "2023-06-08T23:29:12.273Z"
   },
   {
    "duration": 10,
    "start_time": "2023-06-08T23:29:18.448Z"
   },
   {
    "duration": 189,
    "start_time": "2023-06-08T23:30:31.535Z"
   },
   {
    "duration": 199,
    "start_time": "2023-06-08T23:30:53.773Z"
   },
   {
    "duration": 184,
    "start_time": "2023-06-08T23:31:39.265Z"
   },
   {
    "duration": 190,
    "start_time": "2023-06-08T23:33:35.416Z"
   },
   {
    "duration": 191,
    "start_time": "2023-06-08T23:34:24.865Z"
   },
   {
    "duration": 212,
    "start_time": "2023-06-08T23:34:25.865Z"
   },
   {
    "duration": 207,
    "start_time": "2023-06-08T23:34:30.406Z"
   },
   {
    "duration": 5,
    "start_time": "2023-06-08T23:35:08.273Z"
   },
   {
    "duration": 9,
    "start_time": "2023-06-08T23:37:20.706Z"
   },
   {
    "duration": 4,
    "start_time": "2023-06-08T23:37:31.804Z"
   },
   {
    "duration": 4,
    "start_time": "2023-06-08T23:37:36.313Z"
   },
   {
    "duration": 5,
    "start_time": "2023-06-08T23:37:40.046Z"
   },
   {
    "duration": 5,
    "start_time": "2023-06-08T23:37:51.056Z"
   },
   {
    "duration": 22,
    "start_time": "2023-06-08T23:38:21.734Z"
   },
   {
    "duration": 20,
    "start_time": "2023-06-08T23:38:48.314Z"
   },
   {
    "duration": 45,
    "start_time": "2023-06-08T23:38:56.975Z"
   },
   {
    "duration": 23,
    "start_time": "2023-06-08T23:39:13.706Z"
   },
   {
    "duration": 3,
    "start_time": "2023-06-08T23:44:27.772Z"
   },
   {
    "duration": 8,
    "start_time": "2023-06-08T23:44:34.444Z"
   },
   {
    "duration": 14,
    "start_time": "2023-06-08T23:52:18.739Z"
   },
   {
    "duration": 15,
    "start_time": "2023-06-08T23:52:26.691Z"
   },
   {
    "duration": 9,
    "start_time": "2023-06-08T23:52:35.391Z"
   },
   {
    "duration": 9,
    "start_time": "2023-06-08T23:52:40.970Z"
   },
   {
    "duration": 7,
    "start_time": "2023-06-08T23:53:51.166Z"
   },
   {
    "duration": 10,
    "start_time": "2023-06-08T23:55:13.471Z"
   },
   {
    "duration": 698,
    "start_time": "2023-06-08T23:58:27.261Z"
   },
   {
    "duration": 76,
    "start_time": "2023-06-08T23:59:32.274Z"
   },
   {
    "duration": 37,
    "start_time": "2023-06-09T00:00:51.055Z"
   },
   {
    "duration": 61,
    "start_time": "2023-06-09T00:02:16.267Z"
   },
   {
    "duration": 92,
    "start_time": "2023-06-09T00:02:23.322Z"
   },
   {
    "duration": 17,
    "start_time": "2023-06-09T00:02:39.537Z"
   },
   {
    "duration": 46,
    "start_time": "2023-06-09T00:02:52.398Z"
   },
   {
    "duration": 5,
    "start_time": "2023-06-09T00:02:55.772Z"
   },
   {
    "duration": 2198,
    "start_time": "2023-06-09T18:52:13.301Z"
   },
   {
    "duration": 1695,
    "start_time": "2023-06-09T18:52:15.502Z"
   },
   {
    "duration": 187,
    "start_time": "2023-06-09T18:52:17.209Z"
   },
   {
    "duration": 376,
    "start_time": "2023-06-09T18:52:17.403Z"
   },
   {
    "duration": 3324,
    "start_time": "2023-06-09T18:52:17.781Z"
   },
   {
    "duration": 123,
    "start_time": "2023-06-09T18:52:21.107Z"
   },
   {
    "duration": 299,
    "start_time": "2023-06-09T18:52:21.232Z"
   },
   {
    "duration": 200,
    "start_time": "2023-06-09T18:52:21.533Z"
   },
   {
    "duration": 25,
    "start_time": "2023-06-09T18:52:21.734Z"
   },
   {
    "duration": 43,
    "start_time": "2023-06-09T18:52:21.763Z"
   },
   {
    "duration": 112,
    "start_time": "2023-06-09T18:52:21.809Z"
   },
   {
    "duration": 6,
    "start_time": "2023-06-09T18:52:21.923Z"
   },
   {
    "duration": 91,
    "start_time": "2023-06-09T18:52:21.930Z"
   },
   {
    "duration": 317,
    "start_time": "2023-06-09T18:52:22.022Z"
   },
   {
    "duration": 313,
    "start_time": "2023-06-09T18:52:22.341Z"
   },
   {
    "duration": 7,
    "start_time": "2023-06-09T18:52:22.657Z"
   },
   {
    "duration": 71,
    "start_time": "2023-06-09T18:52:22.666Z"
   },
   {
    "duration": 19,
    "start_time": "2023-06-09T18:52:22.740Z"
   },
   {
    "duration": 90,
    "start_time": "2023-06-09T18:52:22.761Z"
   },
   {
    "duration": 1666,
    "start_time": "2023-06-09T21:59:25.922Z"
   },
   {
    "duration": 1344,
    "start_time": "2023-06-09T21:59:27.590Z"
   },
   {
    "duration": 119,
    "start_time": "2023-06-09T21:59:28.936Z"
   },
   {
    "duration": 327,
    "start_time": "2023-06-09T21:59:29.057Z"
   },
   {
    "duration": 2688,
    "start_time": "2023-06-09T21:59:29.390Z"
   },
   {
    "duration": 88,
    "start_time": "2023-06-09T21:59:32.080Z"
   },
   {
    "duration": 139,
    "start_time": "2023-06-09T21:59:32.169Z"
   },
   {
    "duration": 149,
    "start_time": "2023-06-09T21:59:32.311Z"
   },
   {
    "duration": 36,
    "start_time": "2023-06-09T21:59:32.462Z"
   },
   {
    "duration": 34,
    "start_time": "2023-06-09T21:59:32.500Z"
   },
   {
    "duration": 68,
    "start_time": "2023-06-09T21:59:32.536Z"
   },
   {
    "duration": 11,
    "start_time": "2023-06-09T21:59:32.610Z"
   },
   {
    "duration": 28,
    "start_time": "2023-06-09T21:59:32.623Z"
   },
   {
    "duration": 233,
    "start_time": "2023-06-09T21:59:32.653Z"
   },
   {
    "duration": 226,
    "start_time": "2023-06-09T21:59:32.891Z"
   },
   {
    "duration": 6,
    "start_time": "2023-06-09T21:59:33.121Z"
   },
   {
    "duration": 27,
    "start_time": "2023-06-09T21:59:33.128Z"
   },
   {
    "duration": 21,
    "start_time": "2023-06-09T21:59:33.156Z"
   },
   {
    "duration": 64,
    "start_time": "2023-06-09T21:59:33.181Z"
   },
   {
    "duration": 8,
    "start_time": "2023-06-09T22:08:36.306Z"
   },
   {
    "duration": 12,
    "start_time": "2023-06-09T22:08:44.369Z"
   },
   {
    "duration": 14,
    "start_time": "2023-06-09T22:08:44.897Z"
   },
   {
    "duration": 8,
    "start_time": "2023-06-09T22:10:03.104Z"
   },
   {
    "duration": 1616,
    "start_time": "2023-06-09T22:10:11.330Z"
   },
   {
    "duration": 1002,
    "start_time": "2023-06-09T22:10:12.949Z"
   },
   {
    "duration": 144,
    "start_time": "2023-06-09T22:10:13.952Z"
   },
   {
    "duration": 295,
    "start_time": "2023-06-09T22:10:14.100Z"
   },
   {
    "duration": 2993,
    "start_time": "2023-06-09T22:10:14.397Z"
   },
   {
    "duration": 111,
    "start_time": "2023-06-09T22:10:17.394Z"
   },
   {
    "duration": 152,
    "start_time": "2023-06-09T22:10:17.507Z"
   },
   {
    "duration": 176,
    "start_time": "2023-06-09T22:10:17.662Z"
   },
   {
    "duration": 17,
    "start_time": "2023-06-09T22:10:17.840Z"
   },
   {
    "duration": 34,
    "start_time": "2023-06-09T22:10:17.860Z"
   },
   {
    "duration": 65,
    "start_time": "2023-06-09T22:10:17.899Z"
   },
   {
    "duration": 29,
    "start_time": "2023-06-09T22:10:17.966Z"
   },
   {
    "duration": 32,
    "start_time": "2023-06-09T22:10:17.999Z"
   },
   {
    "duration": 266,
    "start_time": "2023-06-09T22:10:18.033Z"
   },
   {
    "duration": 266,
    "start_time": "2023-06-09T22:10:18.301Z"
   },
   {
    "duration": 19,
    "start_time": "2023-06-09T22:10:18.569Z"
   },
   {
    "duration": 42,
    "start_time": "2023-06-09T22:10:18.594Z"
   },
   {
    "duration": 24,
    "start_time": "2023-06-09T22:10:18.637Z"
   },
   {
    "duration": 59,
    "start_time": "2023-06-09T22:10:18.663Z"
   },
   {
    "duration": 8,
    "start_time": "2023-06-09T22:10:18.724Z"
   },
   {
    "duration": 5,
    "start_time": "2023-06-09T22:10:25.844Z"
   },
   {
    "duration": 956,
    "start_time": "2023-06-09T22:10:26.092Z"
   },
   {
    "duration": 148,
    "start_time": "2023-06-09T22:10:27.050Z"
   },
   {
    "duration": 258,
    "start_time": "2023-06-09T22:10:27.205Z"
   },
   {
    "duration": 2796,
    "start_time": "2023-06-09T22:10:27.465Z"
   },
   {
    "duration": 138,
    "start_time": "2023-06-09T22:10:30.262Z"
   },
   {
    "duration": 119,
    "start_time": "2023-06-09T22:10:30.404Z"
   },
   {
    "duration": 216,
    "start_time": "2023-06-09T22:10:30.526Z"
   },
   {
    "duration": 18,
    "start_time": "2023-06-09T22:10:30.745Z"
   },
   {
    "duration": 50,
    "start_time": "2023-06-09T22:10:30.778Z"
   },
   {
    "duration": 135,
    "start_time": "2023-06-09T22:10:30.829Z"
   },
   {
    "duration": 30,
    "start_time": "2023-06-09T22:10:30.966Z"
   },
   {
    "duration": 68,
    "start_time": "2023-06-09T22:10:30.998Z"
   },
   {
    "duration": 330,
    "start_time": "2023-06-09T22:10:31.068Z"
   },
   {
    "duration": 288,
    "start_time": "2023-06-09T22:10:31.400Z"
   },
   {
    "duration": 10,
    "start_time": "2023-06-09T22:10:31.690Z"
   },
   {
    "duration": 46,
    "start_time": "2023-06-09T22:10:31.703Z"
   },
   {
    "duration": 15,
    "start_time": "2023-06-09T22:10:31.751Z"
   },
   {
    "duration": 72,
    "start_time": "2023-06-09T22:10:31.769Z"
   },
   {
    "duration": 9,
    "start_time": "2023-06-09T22:10:31.842Z"
   },
   {
    "duration": 7,
    "start_time": "2023-06-09T22:12:39.062Z"
   },
   {
    "duration": 7,
    "start_time": "2023-06-09T22:13:00.086Z"
   },
   {
    "duration": 10,
    "start_time": "2023-06-09T22:13:03.174Z"
   },
   {
    "duration": 3,
    "start_time": "2023-06-09T22:13:05.965Z"
   },
   {
    "duration": 11,
    "start_time": "2023-06-09T22:13:08.625Z"
   },
   {
    "duration": 1546,
    "start_time": "2023-06-09T22:13:46.169Z"
   },
   {
    "duration": 793,
    "start_time": "2023-06-09T22:13:47.717Z"
   },
   {
    "duration": 131,
    "start_time": "2023-06-09T22:13:48.512Z"
   },
   {
    "duration": 292,
    "start_time": "2023-06-09T22:13:48.644Z"
   },
   {
    "duration": 2531,
    "start_time": "2023-06-09T22:13:48.938Z"
   },
   {
    "duration": 88,
    "start_time": "2023-06-09T22:13:51.470Z"
   },
   {
    "duration": 154,
    "start_time": "2023-06-09T22:13:51.560Z"
   },
   {
    "duration": 177,
    "start_time": "2023-06-09T22:13:51.716Z"
   },
   {
    "duration": 19,
    "start_time": "2023-06-09T22:13:51.895Z"
   },
   {
    "duration": 21,
    "start_time": "2023-06-09T22:13:51.916Z"
   },
   {
    "duration": 76,
    "start_time": "2023-06-09T22:13:51.938Z"
   },
   {
    "duration": 6,
    "start_time": "2023-06-09T22:13:52.016Z"
   },
   {
    "duration": 34,
    "start_time": "2023-06-09T22:13:52.023Z"
   },
   {
    "duration": 242,
    "start_time": "2023-06-09T22:13:52.058Z"
   },
   {
    "duration": 220,
    "start_time": "2023-06-09T22:13:52.302Z"
   },
   {
    "duration": 5,
    "start_time": "2023-06-09T22:13:52.524Z"
   },
   {
    "duration": 25,
    "start_time": "2023-06-09T22:13:52.531Z"
   },
   {
    "duration": 34,
    "start_time": "2023-06-09T22:13:52.558Z"
   },
   {
    "duration": 43,
    "start_time": "2023-06-09T22:13:52.594Z"
   },
   {
    "duration": 6,
    "start_time": "2023-06-09T22:13:52.639Z"
   },
   {
    "duration": 6,
    "start_time": "2023-06-09T22:14:10.195Z"
   },
   {
    "duration": 4,
    "start_time": "2023-06-09T22:14:16.844Z"
   },
   {
    "duration": 6,
    "start_time": "2023-06-09T22:14:21.712Z"
   },
   {
    "duration": 6,
    "start_time": "2023-06-09T22:14:45.924Z"
   },
   {
    "duration": 3,
    "start_time": "2023-06-09T22:14:48.797Z"
   },
   {
    "duration": 4,
    "start_time": "2023-06-09T22:14:52.749Z"
   },
   {
    "duration": 5,
    "start_time": "2023-06-09T22:14:53.925Z"
   },
   {
    "duration": 5,
    "start_time": "2023-06-09T22:14:54.656Z"
   },
   {
    "duration": 7,
    "start_time": "2023-06-09T22:14:55.799Z"
   },
   {
    "duration": 7,
    "start_time": "2023-06-09T22:14:56.502Z"
   },
   {
    "duration": 1436,
    "start_time": "2023-06-09T22:15:03.897Z"
   },
   {
    "duration": 772,
    "start_time": "2023-06-09T22:15:05.335Z"
   },
   {
    "duration": 120,
    "start_time": "2023-06-09T22:15:06.108Z"
   },
   {
    "duration": 269,
    "start_time": "2023-06-09T22:15:06.230Z"
   },
   {
    "duration": 2604,
    "start_time": "2023-06-09T22:15:06.501Z"
   },
   {
    "duration": 84,
    "start_time": "2023-06-09T22:15:09.106Z"
   },
   {
    "duration": 132,
    "start_time": "2023-06-09T22:15:09.192Z"
   },
   {
    "duration": 163,
    "start_time": "2023-06-09T22:15:09.326Z"
   },
   {
    "duration": 20,
    "start_time": "2023-06-09T22:15:09.491Z"
   },
   {
    "duration": 46,
    "start_time": "2023-06-09T22:15:09.513Z"
   },
   {
    "duration": 95,
    "start_time": "2023-06-09T22:15:09.560Z"
   },
   {
    "duration": 5,
    "start_time": "2023-06-09T22:15:09.657Z"
   },
   {
    "duration": 59,
    "start_time": "2023-06-09T22:15:09.664Z"
   },
   {
    "duration": 242,
    "start_time": "2023-06-09T22:15:09.725Z"
   },
   {
    "duration": 255,
    "start_time": "2023-06-09T22:15:09.969Z"
   },
   {
    "duration": 7,
    "start_time": "2023-06-09T22:15:10.226Z"
   },
   {
    "duration": 157,
    "start_time": "2023-06-09T22:15:10.234Z"
   },
   {
    "duration": 13,
    "start_time": "2023-06-09T22:15:10.396Z"
   },
   {
    "duration": 72,
    "start_time": "2023-06-09T22:15:10.411Z"
   },
   {
    "duration": 46,
    "start_time": "2023-06-09T22:15:10.486Z"
   },
   {
    "duration": 4,
    "start_time": "2023-06-09T22:15:37.049Z"
   },
   {
    "duration": 1493,
    "start_time": "2023-06-09T22:15:42.103Z"
   },
   {
    "duration": 819,
    "start_time": "2023-06-09T22:15:43.599Z"
   },
   {
    "duration": 121,
    "start_time": "2023-06-09T22:15:44.419Z"
   },
   {
    "duration": 299,
    "start_time": "2023-06-09T22:15:44.542Z"
   },
   {
    "duration": 2686,
    "start_time": "2023-06-09T22:15:44.843Z"
   },
   {
    "duration": 91,
    "start_time": "2023-06-09T22:15:47.530Z"
   },
   {
    "duration": 124,
    "start_time": "2023-06-09T22:15:47.623Z"
   },
   {
    "duration": 160,
    "start_time": "2023-06-09T22:15:47.749Z"
   },
   {
    "duration": 17,
    "start_time": "2023-06-09T22:15:47.911Z"
   },
   {
    "duration": 18,
    "start_time": "2023-06-09T22:15:47.930Z"
   },
   {
    "duration": 77,
    "start_time": "2023-06-09T22:15:47.949Z"
   },
   {
    "duration": 5,
    "start_time": "2023-06-09T22:15:48.027Z"
   },
   {
    "duration": 41,
    "start_time": "2023-06-09T22:15:48.034Z"
   },
   {
    "duration": 233,
    "start_time": "2023-06-09T22:15:48.076Z"
   },
   {
    "duration": 244,
    "start_time": "2023-06-09T22:15:48.310Z"
   },
   {
    "duration": 7,
    "start_time": "2023-06-09T22:15:48.556Z"
   },
   {
    "duration": 31,
    "start_time": "2023-06-09T22:15:48.572Z"
   },
   {
    "duration": 19,
    "start_time": "2023-06-09T22:15:48.606Z"
   },
   {
    "duration": 49,
    "start_time": "2023-06-09T22:15:48.627Z"
   },
   {
    "duration": 7,
    "start_time": "2023-06-09T22:15:48.684Z"
   },
   {
    "duration": 5,
    "start_time": "2023-06-09T22:16:02.057Z"
   },
   {
    "duration": 6,
    "start_time": "2023-06-09T22:17:26.285Z"
   },
   {
    "duration": 6,
    "start_time": "2023-06-09T22:17:28.045Z"
   },
   {
    "duration": 10,
    "start_time": "2023-06-09T22:17:53.401Z"
   },
   {
    "duration": 1636,
    "start_time": "2023-06-09T22:18:56.997Z"
   },
   {
    "duration": 906,
    "start_time": "2023-06-09T22:18:58.635Z"
   },
   {
    "duration": 163,
    "start_time": "2023-06-09T22:18:59.542Z"
   },
   {
    "duration": 290,
    "start_time": "2023-06-09T22:18:59.709Z"
   },
   {
    "duration": 2953,
    "start_time": "2023-06-09T22:19:00.000Z"
   },
   {
    "duration": 102,
    "start_time": "2023-06-09T22:19:02.955Z"
   },
   {
    "duration": 154,
    "start_time": "2023-06-09T22:19:03.059Z"
   },
   {
    "duration": 191,
    "start_time": "2023-06-09T22:19:03.215Z"
   },
   {
    "duration": 18,
    "start_time": "2023-06-09T22:19:03.408Z"
   },
   {
    "duration": 19,
    "start_time": "2023-06-09T22:19:03.429Z"
   },
   {
    "duration": 89,
    "start_time": "2023-06-09T22:19:03.450Z"
   },
   {
    "duration": 7,
    "start_time": "2023-06-09T22:19:03.540Z"
   },
   {
    "duration": 54,
    "start_time": "2023-06-09T22:19:03.549Z"
   },
   {
    "duration": 254,
    "start_time": "2023-06-09T22:19:03.605Z"
   },
   {
    "duration": 269,
    "start_time": "2023-06-09T22:19:03.860Z"
   },
   {
    "duration": 7,
    "start_time": "2023-06-09T22:19:04.131Z"
   },
   {
    "duration": 51,
    "start_time": "2023-06-09T22:19:04.140Z"
   },
   {
    "duration": 16,
    "start_time": "2023-06-09T22:19:04.192Z"
   },
   {
    "duration": 37,
    "start_time": "2023-06-09T22:19:04.211Z"
   },
   {
    "duration": 46,
    "start_time": "2023-06-09T22:19:04.249Z"
   },
   {
    "duration": 29,
    "start_time": "2023-06-09T22:19:04.306Z"
   },
   {
    "duration": 18,
    "start_time": "2023-06-09T22:19:39.150Z"
   },
   {
    "duration": 11,
    "start_time": "2023-06-09T22:21:24.532Z"
   },
   {
    "duration": 11,
    "start_time": "2023-06-09T22:21:28.659Z"
   },
   {
    "duration": 11,
    "start_time": "2023-06-09T22:21:36.504Z"
   },
   {
    "duration": 22,
    "start_time": "2023-06-09T22:21:41.046Z"
   },
   {
    "duration": 10,
    "start_time": "2023-06-09T22:21:48.799Z"
   },
   {
    "duration": 1587,
    "start_time": "2023-06-09T22:21:58.380Z"
   },
   {
    "duration": 894,
    "start_time": "2023-06-09T22:21:59.969Z"
   },
   {
    "duration": 140,
    "start_time": "2023-06-09T22:22:00.864Z"
   },
   {
    "duration": 282,
    "start_time": "2023-06-09T22:22:01.006Z"
   },
   {
    "duration": 2491,
    "start_time": "2023-06-09T22:22:01.291Z"
   },
   {
    "duration": 93,
    "start_time": "2023-06-09T22:22:03.784Z"
   },
   {
    "duration": 129,
    "start_time": "2023-06-09T22:22:03.879Z"
   },
   {
    "duration": 149,
    "start_time": "2023-06-09T22:22:04.009Z"
   },
   {
    "duration": 22,
    "start_time": "2023-06-09T22:22:04.159Z"
   },
   {
    "duration": 43,
    "start_time": "2023-06-09T22:22:04.183Z"
   },
   {
    "duration": 65,
    "start_time": "2023-06-09T22:22:04.228Z"
   },
   {
    "duration": 8,
    "start_time": "2023-06-09T22:22:04.296Z"
   },
   {
    "duration": 26,
    "start_time": "2023-06-09T22:22:04.305Z"
   },
   {
    "duration": 223,
    "start_time": "2023-06-09T22:22:04.333Z"
   },
   {
    "duration": 235,
    "start_time": "2023-06-09T22:22:04.558Z"
   },
   {
    "duration": 10,
    "start_time": "2023-06-09T22:22:04.795Z"
   },
   {
    "duration": 40,
    "start_time": "2023-06-09T22:22:04.807Z"
   },
   {
    "duration": 9,
    "start_time": "2023-06-09T22:22:04.849Z"
   },
   {
    "duration": 28,
    "start_time": "2023-06-09T22:22:04.860Z"
   },
   {
    "duration": 29,
    "start_time": "2023-06-09T22:22:04.889Z"
   },
   {
    "duration": 6,
    "start_time": "2023-06-09T22:22:27.614Z"
   },
   {
    "duration": 1510,
    "start_time": "2023-06-09T22:22:34.155Z"
   },
   {
    "duration": 929,
    "start_time": "2023-06-09T22:22:35.667Z"
   },
   {
    "duration": 126,
    "start_time": "2023-06-09T22:22:36.597Z"
   },
   {
    "duration": 268,
    "start_time": "2023-06-09T22:22:36.725Z"
   },
   {
    "duration": 2656,
    "start_time": "2023-06-09T22:22:36.996Z"
   },
   {
    "duration": 94,
    "start_time": "2023-06-09T22:22:39.654Z"
   },
   {
    "duration": 147,
    "start_time": "2023-06-09T22:22:39.750Z"
   },
   {
    "duration": 169,
    "start_time": "2023-06-09T22:22:39.899Z"
   },
   {
    "duration": 33,
    "start_time": "2023-06-09T22:22:40.076Z"
   },
   {
    "duration": 40,
    "start_time": "2023-06-09T22:22:40.112Z"
   },
   {
    "duration": 74,
    "start_time": "2023-06-09T22:22:40.154Z"
   },
   {
    "duration": 5,
    "start_time": "2023-06-09T22:22:40.230Z"
   },
   {
    "duration": 42,
    "start_time": "2023-06-09T22:22:40.236Z"
   },
   {
    "duration": 283,
    "start_time": "2023-06-09T22:22:40.282Z"
   },
   {
    "duration": 259,
    "start_time": "2023-06-09T22:22:40.567Z"
   },
   {
    "duration": 6,
    "start_time": "2023-06-09T22:22:40.828Z"
   },
   {
    "duration": 41,
    "start_time": "2023-06-09T22:22:40.836Z"
   },
   {
    "duration": 42,
    "start_time": "2023-06-09T22:22:40.883Z"
   },
   {
    "duration": 23,
    "start_time": "2023-06-09T22:22:40.927Z"
   },
   {
    "duration": 16,
    "start_time": "2023-06-09T22:22:40.951Z"
   },
   {
    "duration": 6,
    "start_time": "2023-06-09T22:22:55.740Z"
   },
   {
    "duration": 30,
    "start_time": "2023-06-09T22:23:43.371Z"
   },
   {
    "duration": 36,
    "start_time": "2023-06-09T22:24:30.474Z"
   },
   {
    "duration": 24,
    "start_time": "2023-06-09T22:24:48.740Z"
   },
   {
    "duration": 22,
    "start_time": "2023-06-09T22:26:35.733Z"
   },
   {
    "duration": 19,
    "start_time": "2023-06-09T22:29:09.409Z"
   },
   {
    "duration": 19,
    "start_time": "2023-06-09T22:30:08.914Z"
   },
   {
    "duration": 11,
    "start_time": "2023-06-09T22:31:54.112Z"
   },
   {
    "duration": 111,
    "start_time": "2023-06-09T22:34:28.401Z"
   },
   {
    "duration": 1419,
    "start_time": "2023-06-09T22:35:20.918Z"
   },
   {
    "duration": 824,
    "start_time": "2023-06-09T22:35:22.340Z"
   },
   {
    "duration": 132,
    "start_time": "2023-06-09T22:35:23.165Z"
   },
   {
    "duration": 286,
    "start_time": "2023-06-09T22:35:23.299Z"
   },
   {
    "duration": 2458,
    "start_time": "2023-06-09T22:35:23.590Z"
   },
   {
    "duration": 91,
    "start_time": "2023-06-09T22:35:26.050Z"
   },
   {
    "duration": 136,
    "start_time": "2023-06-09T22:35:26.143Z"
   },
   {
    "duration": 150,
    "start_time": "2023-06-09T22:35:26.282Z"
   },
   {
    "duration": 16,
    "start_time": "2023-06-09T22:35:26.433Z"
   },
   {
    "duration": 38,
    "start_time": "2023-06-09T22:35:26.453Z"
   },
   {
    "duration": 68,
    "start_time": "2023-06-09T22:35:26.493Z"
   },
   {
    "duration": 22,
    "start_time": "2023-06-09T22:35:26.563Z"
   },
   {
    "duration": 34,
    "start_time": "2023-06-09T22:35:26.592Z"
   },
   {
    "duration": 212,
    "start_time": "2023-06-09T22:35:26.629Z"
   },
   {
    "duration": 247,
    "start_time": "2023-06-09T22:35:26.843Z"
   },
   {
    "duration": 7,
    "start_time": "2023-06-09T22:35:27.096Z"
   },
   {
    "duration": 36,
    "start_time": "2023-06-09T22:35:27.105Z"
   },
   {
    "duration": 9,
    "start_time": "2023-06-09T22:35:27.143Z"
   },
   {
    "duration": 38,
    "start_time": "2023-06-09T22:35:27.154Z"
   },
   {
    "duration": 19,
    "start_time": "2023-06-09T22:35:27.194Z"
   },
   {
    "duration": 24,
    "start_time": "2023-06-09T22:35:27.215Z"
   },
   {
    "duration": 33,
    "start_time": "2023-06-09T22:35:27.240Z"
   },
   {
    "duration": 17,
    "start_time": "2023-06-09T22:35:27.277Z"
   },
   {
    "duration": 22,
    "start_time": "2023-06-09T22:35:27.295Z"
   },
   {
    "duration": 14,
    "start_time": "2023-06-09T22:35:27.319Z"
   },
   {
    "duration": 22,
    "start_time": "2023-06-09T22:35:27.334Z"
   },
   {
    "duration": 69,
    "start_time": "2023-06-09T22:35:27.358Z"
   },
   {
    "duration": 13,
    "start_time": "2023-06-09T22:35:27.430Z"
   },
   {
    "duration": 35,
    "start_time": "2023-06-09T22:35:27.445Z"
   },
   {
    "duration": 1508,
    "start_time": "2023-06-09T22:36:29.787Z"
   },
   {
    "duration": 799,
    "start_time": "2023-06-09T22:36:31.298Z"
   },
   {
    "duration": 123,
    "start_time": "2023-06-09T22:36:32.099Z"
   },
   {
    "duration": 269,
    "start_time": "2023-06-09T22:36:32.225Z"
   },
   {
    "duration": 2392,
    "start_time": "2023-06-09T22:36:32.496Z"
   },
   {
    "duration": 79,
    "start_time": "2023-06-09T22:36:34.890Z"
   },
   {
    "duration": 116,
    "start_time": "2023-06-09T22:36:34.970Z"
   },
   {
    "duration": 152,
    "start_time": "2023-06-09T22:36:35.092Z"
   },
   {
    "duration": 15,
    "start_time": "2023-06-09T22:36:35.246Z"
   },
   {
    "duration": 25,
    "start_time": "2023-06-09T22:36:35.281Z"
   },
   {
    "duration": 63,
    "start_time": "2023-06-09T22:36:35.307Z"
   },
   {
    "duration": 12,
    "start_time": "2023-06-09T22:36:35.372Z"
   },
   {
    "duration": 35,
    "start_time": "2023-06-09T22:36:35.385Z"
   },
   {
    "duration": 212,
    "start_time": "2023-06-09T22:36:35.422Z"
   },
   {
    "duration": 211,
    "start_time": "2023-06-09T22:36:35.636Z"
   },
   {
    "duration": 6,
    "start_time": "2023-06-09T22:36:35.849Z"
   },
   {
    "duration": 47,
    "start_time": "2023-06-09T22:36:35.857Z"
   },
   {
    "duration": 11,
    "start_time": "2023-06-09T22:36:35.906Z"
   },
   {
    "duration": 25,
    "start_time": "2023-06-09T22:36:35.919Z"
   },
   {
    "duration": 43,
    "start_time": "2023-06-09T22:36:35.946Z"
   },
   {
    "duration": 26,
    "start_time": "2023-06-09T22:36:35.991Z"
   },
   {
    "duration": 16,
    "start_time": "2023-06-09T22:36:36.018Z"
   },
   {
    "duration": 19,
    "start_time": "2023-06-09T22:36:36.036Z"
   },
   {
    "duration": 19,
    "start_time": "2023-06-09T22:36:36.075Z"
   },
   {
    "duration": 8,
    "start_time": "2023-06-09T22:36:36.096Z"
   },
   {
    "duration": 27,
    "start_time": "2023-06-09T22:36:36.106Z"
   },
   {
    "duration": 81,
    "start_time": "2023-06-09T22:36:36.135Z"
   },
   {
    "duration": 14,
    "start_time": "2023-06-09T22:36:36.220Z"
   },
   {
    "duration": 14,
    "start_time": "2023-06-09T22:36:36.236Z"
   },
   {
    "duration": 124,
    "start_time": "2023-06-09T22:41:59.755Z"
   },
   {
    "duration": 10,
    "start_time": "2023-06-09T22:42:52.229Z"
   },
   {
    "duration": 1477,
    "start_time": "2023-06-09T22:43:00.666Z"
   },
   {
    "duration": 806,
    "start_time": "2023-06-09T22:43:02.145Z"
   },
   {
    "duration": 131,
    "start_time": "2023-06-09T22:43:02.953Z"
   },
   {
    "duration": 278,
    "start_time": "2023-06-09T22:43:03.087Z"
   },
   {
    "duration": 2349,
    "start_time": "2023-06-09T22:43:03.367Z"
   },
   {
    "duration": 80,
    "start_time": "2023-06-09T22:43:05.717Z"
   },
   {
    "duration": 110,
    "start_time": "2023-06-09T22:43:05.799Z"
   },
   {
    "duration": 158,
    "start_time": "2023-06-09T22:43:05.910Z"
   },
   {
    "duration": 26,
    "start_time": "2023-06-09T22:43:06.071Z"
   },
   {
    "duration": 35,
    "start_time": "2023-06-09T22:43:06.100Z"
   },
   {
    "duration": 71,
    "start_time": "2023-06-09T22:43:06.137Z"
   },
   {
    "duration": 7,
    "start_time": "2023-06-09T22:43:06.210Z"
   },
   {
    "duration": 26,
    "start_time": "2023-06-09T22:43:06.218Z"
   },
   {
    "duration": 242,
    "start_time": "2023-06-09T22:43:06.246Z"
   },
   {
    "duration": 213,
    "start_time": "2023-06-09T22:43:06.490Z"
   },
   {
    "duration": 6,
    "start_time": "2023-06-09T22:43:06.705Z"
   },
   {
    "duration": 25,
    "start_time": "2023-06-09T22:43:06.713Z"
   },
   {
    "duration": 11,
    "start_time": "2023-06-09T22:43:06.740Z"
   },
   {
    "duration": 27,
    "start_time": "2023-06-09T22:43:06.772Z"
   },
   {
    "duration": 19,
    "start_time": "2023-06-09T22:43:06.801Z"
   },
   {
    "duration": 24,
    "start_time": "2023-06-09T22:43:06.822Z"
   },
   {
    "duration": 17,
    "start_time": "2023-06-09T22:43:06.876Z"
   },
   {
    "duration": 33,
    "start_time": "2023-06-09T22:43:06.894Z"
   },
   {
    "duration": 24,
    "start_time": "2023-06-09T22:43:06.929Z"
   },
   {
    "duration": 6,
    "start_time": "2023-06-09T22:43:06.954Z"
   },
   {
    "duration": 29,
    "start_time": "2023-06-09T22:43:06.961Z"
   },
   {
    "duration": 64,
    "start_time": "2023-06-09T22:43:06.992Z"
   },
   {
    "duration": 25,
    "start_time": "2023-06-09T22:43:07.059Z"
   },
   {
    "duration": 19,
    "start_time": "2023-06-09T22:43:07.087Z"
   },
   {
    "duration": 13,
    "start_time": "2023-06-09T22:43:17.620Z"
   },
   {
    "duration": 11,
    "start_time": "2023-06-09T22:43:28.655Z"
   },
   {
    "duration": 48,
    "start_time": "2023-06-09T22:49:25.304Z"
   },
   {
    "duration": 109,
    "start_time": "2023-06-09T22:52:43.507Z"
   },
   {
    "duration": 15,
    "start_time": "2023-06-09T22:53:02.066Z"
   },
   {
    "duration": 1309,
    "start_time": "2023-06-09T22:55:44.553Z"
   },
   {
    "duration": 14,
    "start_time": "2023-06-09T22:57:17.432Z"
   },
   {
    "duration": 367,
    "start_time": "2023-06-09T22:57:33.812Z"
   },
   {
    "duration": 350,
    "start_time": "2023-06-09T22:59:19.016Z"
   },
   {
    "duration": 12,
    "start_time": "2023-06-09T22:59:20.004Z"
   },
   {
    "duration": 53,
    "start_time": "2023-06-09T23:46:08.417Z"
   },
   {
    "duration": 2,
    "start_time": "2023-06-09T23:46:29.824Z"
   },
   {
    "duration": 44,
    "start_time": "2023-06-09T23:54:06.514Z"
   },
   {
    "duration": 4,
    "start_time": "2023-06-09T23:54:27.167Z"
   },
   {
    "duration": 13,
    "start_time": "2023-06-09T23:55:01.048Z"
   },
   {
    "duration": 13,
    "start_time": "2023-06-09T23:55:16.127Z"
   },
   {
    "duration": 334,
    "start_time": "2023-06-09T23:55:23.439Z"
   },
   {
    "duration": 366,
    "start_time": "2023-06-09T23:59:21.694Z"
   },
   {
    "duration": 12,
    "start_time": "2023-06-09T23:59:23.566Z"
   },
   {
    "duration": 38,
    "start_time": "2023-06-09T23:59:42.866Z"
   },
   {
    "duration": 402,
    "start_time": "2023-06-09T23:59:43.406Z"
   },
   {
    "duration": 127,
    "start_time": "2023-06-10T00:04:38.207Z"
   },
   {
    "duration": 59,
    "start_time": "2023-06-10T00:09:47.318Z"
   },
   {
    "duration": 39,
    "start_time": "2023-06-10T00:09:54.156Z"
   },
   {
    "duration": 384,
    "start_time": "2023-06-10T00:09:54.555Z"
   },
   {
    "duration": 51,
    "start_time": "2023-06-10T00:09:57.407Z"
   },
   {
    "duration": 43,
    "start_time": "2023-06-10T00:10:51.088Z"
   },
   {
    "duration": 16,
    "start_time": "2023-06-10T00:11:44.535Z"
   },
   {
    "duration": 5,
    "start_time": "2023-06-10T00:12:41.628Z"
   },
   {
    "duration": 12,
    "start_time": "2023-06-10T00:13:53.317Z"
   },
   {
    "duration": 48,
    "start_time": "2023-06-10T00:13:57.468Z"
   },
   {
    "duration": 8,
    "start_time": "2023-06-10T00:13:57.799Z"
   },
   {
    "duration": 5,
    "start_time": "2023-06-10T00:13:58.087Z"
   },
   {
    "duration": 100,
    "start_time": "2023-06-10T00:19:40.986Z"
   },
   {
    "duration": 152,
    "start_time": "2023-06-10T00:20:05.635Z"
   },
   {
    "duration": 90,
    "start_time": "2023-06-10T00:20:08.970Z"
   },
   {
    "duration": 82,
    "start_time": "2023-06-10T00:20:09.455Z"
   },
   {
    "duration": 1741,
    "start_time": "2023-06-10T00:25:02.363Z"
   },
   {
    "duration": 736,
    "start_time": "2023-06-10T00:25:04.106Z"
   },
   {
    "duration": 114,
    "start_time": "2023-06-10T00:25:04.844Z"
   },
   {
    "duration": 258,
    "start_time": "2023-06-10T00:25:04.961Z"
   },
   {
    "duration": 2276,
    "start_time": "2023-06-10T00:25:05.220Z"
   },
   {
    "duration": 78,
    "start_time": "2023-06-10T00:25:07.498Z"
   },
   {
    "duration": 108,
    "start_time": "2023-06-10T00:25:07.578Z"
   },
   {
    "duration": 163,
    "start_time": "2023-06-10T00:25:07.688Z"
   },
   {
    "duration": 20,
    "start_time": "2023-06-10T00:25:07.853Z"
   },
   {
    "duration": 31,
    "start_time": "2023-06-10T00:25:07.877Z"
   },
   {
    "duration": 53,
    "start_time": "2023-06-10T00:25:07.910Z"
   },
   {
    "duration": 10,
    "start_time": "2023-06-10T00:25:07.965Z"
   },
   {
    "duration": 31,
    "start_time": "2023-06-10T00:25:07.976Z"
   },
   {
    "duration": 209,
    "start_time": "2023-06-10T00:25:08.009Z"
   },
   {
    "duration": 205,
    "start_time": "2023-06-10T00:25:08.220Z"
   },
   {
    "duration": 4,
    "start_time": "2023-06-10T00:25:08.427Z"
   },
   {
    "duration": 28,
    "start_time": "2023-06-10T00:25:08.433Z"
   },
   {
    "duration": 10,
    "start_time": "2023-06-10T00:25:08.472Z"
   },
   {
    "duration": 39,
    "start_time": "2023-06-10T00:25:08.484Z"
   },
   {
    "duration": 21,
    "start_time": "2023-06-10T00:25:08.525Z"
   },
   {
    "duration": 39,
    "start_time": "2023-06-10T00:25:08.549Z"
   },
   {
    "duration": 19,
    "start_time": "2023-06-10T00:25:08.590Z"
   },
   {
    "duration": 30,
    "start_time": "2023-06-10T00:25:08.611Z"
   },
   {
    "duration": 11,
    "start_time": "2023-06-10T00:25:08.643Z"
   },
   {
    "duration": 6,
    "start_time": "2023-06-10T00:25:08.672Z"
   },
   {
    "duration": 34,
    "start_time": "2023-06-10T00:25:08.679Z"
   },
   {
    "duration": 58,
    "start_time": "2023-06-10T00:25:08.715Z"
   },
   {
    "duration": 12,
    "start_time": "2023-06-10T00:25:08.776Z"
   },
   {
    "duration": 21,
    "start_time": "2023-06-10T00:25:08.789Z"
   },
   {
    "duration": 59,
    "start_time": "2023-06-10T00:25:08.812Z"
   },
   {
    "duration": 21,
    "start_time": "2023-06-10T00:25:08.872Z"
   },
   {
    "duration": 430,
    "start_time": "2023-06-10T00:25:08.894Z"
   },
   {
    "duration": 15,
    "start_time": "2023-06-10T00:25:09.326Z"
   },
   {
    "duration": 53,
    "start_time": "2023-06-10T00:25:09.343Z"
   },
   {
    "duration": 423,
    "start_time": "2023-06-10T00:25:09.397Z"
   },
   {
    "duration": 362,
    "start_time": "2023-06-10T00:25:09.822Z"
   },
   {
    "duration": 113,
    "start_time": "2023-06-10T00:25:10.186Z"
   },
   {
    "duration": 10,
    "start_time": "2023-06-10T00:25:10.302Z"
   },
   {
    "duration": 0,
    "start_time": "2023-06-10T00:25:10.314Z"
   },
   {
    "duration": 0,
    "start_time": "2023-06-10T00:25:10.316Z"
   },
   {
    "duration": 0,
    "start_time": "2023-06-10T00:25:10.317Z"
   },
   {
    "duration": 0,
    "start_time": "2023-06-10T00:25:10.319Z"
   },
   {
    "duration": 0,
    "start_time": "2023-06-10T00:25:10.320Z"
   },
   {
    "duration": 104,
    "start_time": "2023-06-10T00:26:17.188Z"
   },
   {
    "duration": 86,
    "start_time": "2023-06-10T00:26:20.692Z"
   },
   {
    "duration": 88,
    "start_time": "2023-06-10T00:26:24.999Z"
   },
   {
    "duration": 13,
    "start_time": "2023-06-10T00:28:23.823Z"
   },
   {
    "duration": 11,
    "start_time": "2023-06-10T00:28:36.716Z"
   },
   {
    "duration": 13,
    "start_time": "2023-06-10T00:28:50.328Z"
   },
   {
    "duration": 364,
    "start_time": "2023-06-10T00:31:02.290Z"
   },
   {
    "duration": 335,
    "start_time": "2023-06-10T00:31:07.607Z"
   },
   {
    "duration": 13,
    "start_time": "2023-06-10T00:31:21.747Z"
   },
   {
    "duration": 58,
    "start_time": "2023-06-10T00:33:07.078Z"
   },
   {
    "duration": 15,
    "start_time": "2023-06-10T00:33:13.279Z"
   },
   {
    "duration": 8,
    "start_time": "2023-06-10T00:35:32.693Z"
   },
   {
    "duration": 19,
    "start_time": "2023-06-10T00:35:40.026Z"
   },
   {
    "duration": 8,
    "start_time": "2023-06-10T00:36:14.080Z"
   },
   {
    "duration": 10,
    "start_time": "2023-06-10T00:36:17.670Z"
   },
   {
    "duration": 14,
    "start_time": "2023-06-10T00:36:18.340Z"
   },
   {
    "duration": 359,
    "start_time": "2023-06-10T00:36:19.570Z"
   },
   {
    "duration": 12,
    "start_time": "2023-06-10T00:36:21.381Z"
   },
   {
    "duration": 15,
    "start_time": "2023-06-10T00:36:24.346Z"
   },
   {
    "duration": 37,
    "start_time": "2023-06-10T00:36:46.177Z"
   },
   {
    "duration": 34,
    "start_time": "2023-06-10T00:36:51.848Z"
   },
   {
    "duration": 402,
    "start_time": "2023-06-10T00:36:52.470Z"
   },
   {
    "duration": 53,
    "start_time": "2023-06-10T00:37:00.652Z"
   },
   {
    "duration": 14,
    "start_time": "2023-06-10T00:37:01.813Z"
   },
   {
    "duration": 5,
    "start_time": "2023-06-10T00:37:02.820Z"
   },
   {
    "duration": 1495,
    "start_time": "2023-06-10T00:37:40.172Z"
   },
   {
    "duration": 839,
    "start_time": "2023-06-10T00:37:41.672Z"
   },
   {
    "duration": 120,
    "start_time": "2023-06-10T00:37:42.513Z"
   },
   {
    "duration": 295,
    "start_time": "2023-06-10T00:37:42.635Z"
   },
   {
    "duration": 2416,
    "start_time": "2023-06-10T00:37:42.932Z"
   },
   {
    "duration": 78,
    "start_time": "2023-06-10T00:37:45.350Z"
   },
   {
    "duration": 103,
    "start_time": "2023-06-10T00:37:45.430Z"
   },
   {
    "duration": 147,
    "start_time": "2023-06-10T00:37:45.534Z"
   },
   {
    "duration": 14,
    "start_time": "2023-06-10T00:37:45.682Z"
   },
   {
    "duration": 17,
    "start_time": "2023-06-10T00:37:45.698Z"
   },
   {
    "duration": 66,
    "start_time": "2023-06-10T00:37:45.716Z"
   },
   {
    "duration": 6,
    "start_time": "2023-06-10T00:37:45.784Z"
   },
   {
    "duration": 24,
    "start_time": "2023-06-10T00:37:45.791Z"
   },
   {
    "duration": 216,
    "start_time": "2023-06-10T00:37:45.818Z"
   },
   {
    "duration": 206,
    "start_time": "2023-06-10T00:37:46.036Z"
   },
   {
    "duration": 5,
    "start_time": "2023-06-10T00:37:46.243Z"
   },
   {
    "duration": 36,
    "start_time": "2023-06-10T00:37:46.250Z"
   },
   {
    "duration": 9,
    "start_time": "2023-06-10T00:37:46.287Z"
   },
   {
    "duration": 40,
    "start_time": "2023-06-10T00:37:46.298Z"
   },
   {
    "duration": 19,
    "start_time": "2023-06-10T00:37:46.339Z"
   },
   {
    "duration": 31,
    "start_time": "2023-06-10T00:37:46.359Z"
   },
   {
    "duration": 14,
    "start_time": "2023-06-10T00:37:46.392Z"
   },
   {
    "duration": 11,
    "start_time": "2023-06-10T00:37:46.407Z"
   },
   {
    "duration": 10,
    "start_time": "2023-06-10T00:37:46.420Z"
   },
   {
    "duration": 5,
    "start_time": "2023-06-10T00:37:46.431Z"
   },
   {
    "duration": 46,
    "start_time": "2023-06-10T00:37:46.437Z"
   },
   {
    "duration": 53,
    "start_time": "2023-06-10T00:37:46.484Z"
   },
   {
    "duration": 11,
    "start_time": "2023-06-10T00:37:46.539Z"
   },
   {
    "duration": 27,
    "start_time": "2023-06-10T00:37:46.552Z"
   },
   {
    "duration": 46,
    "start_time": "2023-06-10T00:37:46.580Z"
   },
   {
    "duration": 9,
    "start_time": "2023-06-10T00:37:46.628Z"
   },
   {
    "duration": 34,
    "start_time": "2023-06-10T00:37:46.638Z"
   },
   {
    "duration": 379,
    "start_time": "2023-06-10T00:37:46.673Z"
   },
   {
    "duration": 14,
    "start_time": "2023-06-10T00:37:47.053Z"
   },
   {
    "duration": 22,
    "start_time": "2023-06-10T00:37:47.068Z"
   },
   {
    "duration": 39,
    "start_time": "2023-06-10T00:37:47.092Z"
   },
   {
    "duration": 374,
    "start_time": "2023-06-10T00:37:47.133Z"
   },
   {
    "duration": 72,
    "start_time": "2023-06-10T00:37:47.508Z"
   },
   {
    "duration": 91,
    "start_time": "2023-06-10T00:37:47.582Z"
   },
   {
    "duration": 7,
    "start_time": "2023-06-10T00:37:47.675Z"
   },
   {
    "duration": 9651,
    "start_time": "2023-06-10T00:37:47.774Z"
   },
   {
    "duration": 575,
    "start_time": "2023-06-10T00:37:57.427Z"
   },
   {
    "duration": 5,
    "start_time": "2023-06-10T00:37:58.004Z"
   },
   {
    "duration": 219,
    "start_time": "2023-06-10T00:37:58.010Z"
   },
   {
    "duration": 85,
    "start_time": "2023-06-10T00:37:58.231Z"
   },
   {
    "duration": 48,
    "start_time": "2023-06-10T00:38:31.289Z"
   },
   {
    "duration": 43,
    "start_time": "2023-06-10T00:39:24.902Z"
   },
   {
    "duration": 4,
    "start_time": "2023-06-10T00:40:28.439Z"
   },
   {
    "duration": 668,
    "start_time": "2023-06-10T00:40:34.970Z"
   },
   {
    "duration": 98,
    "start_time": "2023-06-10T00:40:38.621Z"
   },
   {
    "duration": 214,
    "start_time": "2023-06-10T00:40:39.870Z"
   },
   {
    "duration": 282,
    "start_time": "2023-06-10T00:40:45.224Z"
   },
   {
    "duration": 9,
    "start_time": "2023-06-10T00:41:20.894Z"
   },
   {
    "duration": 4,
    "start_time": "2023-06-10T00:42:09.816Z"
   },
   {
    "duration": 102,
    "start_time": "2023-06-10T00:44:49.041Z"
   },
   {
    "duration": 90,
    "start_time": "2023-06-10T00:44:49.253Z"
   },
   {
    "duration": 11,
    "start_time": "2023-06-10T00:44:49.471Z"
   },
   {
    "duration": 4,
    "start_time": "2023-06-10T00:45:58.209Z"
   },
   {
    "duration": 87,
    "start_time": "2023-06-10T00:46:04.568Z"
   },
   {
    "duration": 82,
    "start_time": "2023-06-10T00:46:04.841Z"
   },
   {
    "duration": 9,
    "start_time": "2023-06-10T00:46:05.101Z"
   },
   {
    "duration": 85,
    "start_time": "2023-06-10T00:47:46.768Z"
   },
   {
    "duration": 40071,
    "start_time": "2023-06-10T00:48:08.217Z"
   },
   {
    "duration": 9114,
    "start_time": "2023-06-10T00:48:48.290Z"
   },
   {
    "duration": 4,
    "start_time": "2023-06-10T00:48:57.406Z"
   },
   {
    "duration": 3,
    "start_time": "2023-06-10T00:52:11.030Z"
   },
   {
    "duration": 9,
    "start_time": "2023-06-10T00:52:33.998Z"
   },
   {
    "duration": 1438,
    "start_time": "2023-06-10T01:03:29.281Z"
   },
   {
    "duration": 783,
    "start_time": "2023-06-10T01:03:30.721Z"
   },
   {
    "duration": 113,
    "start_time": "2023-06-10T01:03:31.506Z"
   },
   {
    "duration": 257,
    "start_time": "2023-06-10T01:03:31.621Z"
   },
   {
    "duration": 2181,
    "start_time": "2023-06-10T01:03:31.879Z"
   },
   {
    "duration": 86,
    "start_time": "2023-06-10T01:03:34.062Z"
   },
   {
    "duration": 109,
    "start_time": "2023-06-10T01:03:34.150Z"
   },
   {
    "duration": 149,
    "start_time": "2023-06-10T01:03:34.260Z"
   },
   {
    "duration": 15,
    "start_time": "2023-06-10T01:03:34.410Z"
   },
   {
    "duration": 27,
    "start_time": "2023-06-10T01:03:34.427Z"
   },
   {
    "duration": 53,
    "start_time": "2023-06-10T01:03:34.455Z"
   },
   {
    "duration": 5,
    "start_time": "2023-06-10T01:03:34.510Z"
   },
   {
    "duration": 29,
    "start_time": "2023-06-10T01:03:34.516Z"
   },
   {
    "duration": 214,
    "start_time": "2023-06-10T01:03:34.546Z"
   },
   {
    "duration": 215,
    "start_time": "2023-06-10T01:03:34.762Z"
   },
   {
    "duration": 7,
    "start_time": "2023-06-10T01:03:34.979Z"
   },
   {
    "duration": 30,
    "start_time": "2023-06-10T01:03:34.987Z"
   },
   {
    "duration": 11,
    "start_time": "2023-06-10T01:03:35.019Z"
   },
   {
    "duration": 48,
    "start_time": "2023-06-10T01:03:35.032Z"
   },
   {
    "duration": 18,
    "start_time": "2023-06-10T01:03:35.082Z"
   },
   {
    "duration": 23,
    "start_time": "2023-06-10T01:03:35.102Z"
   },
   {
    "duration": 27,
    "start_time": "2023-06-10T01:03:35.127Z"
   },
   {
    "duration": 27,
    "start_time": "2023-06-10T01:03:35.155Z"
   },
   {
    "duration": 19,
    "start_time": "2023-06-10T01:03:35.183Z"
   },
   {
    "duration": 6,
    "start_time": "2023-06-10T01:03:35.203Z"
   },
   {
    "duration": 36,
    "start_time": "2023-06-10T01:03:35.211Z"
   },
   {
    "duration": 58,
    "start_time": "2023-06-10T01:03:35.248Z"
   },
   {
    "duration": 11,
    "start_time": "2023-06-10T01:03:35.309Z"
   },
   {
    "duration": 18,
    "start_time": "2023-06-10T01:03:35.322Z"
   },
   {
    "duration": 73,
    "start_time": "2023-06-10T01:03:35.341Z"
   },
   {
    "duration": 14,
    "start_time": "2023-06-10T01:03:35.416Z"
   },
   {
    "duration": 33,
    "start_time": "2023-06-10T01:03:35.432Z"
   },
   {
    "duration": 387,
    "start_time": "2023-06-10T01:03:35.466Z"
   },
   {
    "duration": 18,
    "start_time": "2023-06-10T01:03:35.855Z"
   },
   {
    "duration": 41,
    "start_time": "2023-06-10T01:03:35.874Z"
   },
   {
    "duration": 54,
    "start_time": "2023-06-10T01:03:35.917Z"
   },
   {
    "duration": 391,
    "start_time": "2023-06-10T01:03:35.973Z"
   },
   {
    "duration": 55,
    "start_time": "2023-06-10T01:03:36.366Z"
   },
   {
    "duration": 62,
    "start_time": "2023-06-10T01:03:36.422Z"
   },
   {
    "duration": 189,
    "start_time": "2023-06-10T01:03:36.485Z"
   },
   {
    "duration": 9901,
    "start_time": "2023-06-10T01:03:36.676Z"
   },
   {
    "duration": 540,
    "start_time": "2023-06-10T01:03:46.579Z"
   },
   {
    "duration": 5,
    "start_time": "2023-06-10T01:03:47.121Z"
   },
   {
    "duration": 333,
    "start_time": "2023-06-10T01:03:47.127Z"
   },
   {
    "duration": 14,
    "start_time": "2023-06-10T01:03:47.462Z"
   },
   {
    "duration": 17,
    "start_time": "2023-06-10T01:03:47.478Z"
   },
   {
    "duration": 41987,
    "start_time": "2023-06-10T01:03:47.496Z"
   },
   {
    "duration": 9823,
    "start_time": "2023-06-10T01:04:29.485Z"
   },
   {
    "duration": 64,
    "start_time": "2023-06-10T01:04:39.310Z"
   },
   {
    "duration": 98,
    "start_time": "2023-06-10T01:04:39.375Z"
   },
   {
    "duration": 20,
    "start_time": "2023-06-10T01:04:39.475Z"
   },
   {
    "duration": 3,
    "start_time": "2023-06-10T01:07:34.177Z"
   },
   {
    "duration": 1546,
    "start_time": "2023-06-10T01:07:39.551Z"
   },
   {
    "duration": 901,
    "start_time": "2023-06-10T01:07:41.099Z"
   },
   {
    "duration": 133,
    "start_time": "2023-06-10T01:07:42.002Z"
   },
   {
    "duration": 312,
    "start_time": "2023-06-10T01:07:42.138Z"
   },
   {
    "duration": 2613,
    "start_time": "2023-06-10T01:07:42.452Z"
   },
   {
    "duration": 95,
    "start_time": "2023-06-10T01:07:45.066Z"
   },
   {
    "duration": 136,
    "start_time": "2023-06-10T01:07:45.172Z"
   },
   {
    "duration": 167,
    "start_time": "2023-06-10T01:07:45.310Z"
   },
   {
    "duration": 17,
    "start_time": "2023-06-10T01:07:45.479Z"
   },
   {
    "duration": 19,
    "start_time": "2023-06-10T01:07:45.499Z"
   },
   {
    "duration": 76,
    "start_time": "2023-06-10T01:07:45.519Z"
   },
   {
    "duration": 6,
    "start_time": "2023-06-10T01:07:45.596Z"
   },
   {
    "duration": 43,
    "start_time": "2023-06-10T01:07:45.604Z"
   },
   {
    "duration": 236,
    "start_time": "2023-06-10T01:07:45.649Z"
   },
   {
    "duration": 233,
    "start_time": "2023-06-10T01:07:45.887Z"
   },
   {
    "duration": 5,
    "start_time": "2023-06-10T01:07:46.121Z"
   },
   {
    "duration": 111,
    "start_time": "2023-06-10T01:07:46.128Z"
   },
   {
    "duration": 11,
    "start_time": "2023-06-10T01:07:46.241Z"
   },
   {
    "duration": 44,
    "start_time": "2023-06-10T01:07:46.254Z"
   },
   {
    "duration": 18,
    "start_time": "2023-06-10T01:07:46.299Z"
   },
   {
    "duration": 30,
    "start_time": "2023-06-10T01:07:46.318Z"
   },
   {
    "duration": 27,
    "start_time": "2023-06-10T01:07:46.349Z"
   },
   {
    "duration": 24,
    "start_time": "2023-06-10T01:07:46.377Z"
   },
   {
    "duration": 10,
    "start_time": "2023-06-10T01:07:46.402Z"
   },
   {
    "duration": 5,
    "start_time": "2023-06-10T01:07:46.414Z"
   },
   {
    "duration": 26,
    "start_time": "2023-06-10T01:07:46.420Z"
   },
   {
    "duration": 72,
    "start_time": "2023-06-10T01:07:46.448Z"
   },
   {
    "duration": 12,
    "start_time": "2023-06-10T01:07:46.523Z"
   },
   {
    "duration": 11,
    "start_time": "2023-06-10T01:07:46.537Z"
   },
   {
    "duration": 67,
    "start_time": "2023-06-10T01:07:46.549Z"
   },
   {
    "duration": 9,
    "start_time": "2023-06-10T01:07:46.617Z"
   },
   {
    "duration": 21,
    "start_time": "2023-06-10T01:07:46.627Z"
   },
   {
    "duration": 386,
    "start_time": "2023-06-10T01:07:46.649Z"
   },
   {
    "duration": 12,
    "start_time": "2023-06-10T01:07:47.036Z"
   },
   {
    "duration": 28,
    "start_time": "2023-06-10T01:07:47.049Z"
   },
   {
    "duration": 43,
    "start_time": "2023-06-10T01:07:47.079Z"
   },
   {
    "duration": 383,
    "start_time": "2023-06-10T01:07:47.124Z"
   },
   {
    "duration": 71,
    "start_time": "2023-06-10T01:07:47.509Z"
   },
   {
    "duration": 92,
    "start_time": "2023-06-10T01:07:47.582Z"
   },
   {
    "duration": 9,
    "start_time": "2023-06-10T01:07:47.676Z"
   },
   {
    "duration": 9162,
    "start_time": "2023-06-10T01:07:47.771Z"
   },
   {
    "duration": 552,
    "start_time": "2023-06-10T01:07:56.934Z"
   },
   {
    "duration": 4,
    "start_time": "2023-06-10T01:07:57.488Z"
   },
   {
    "duration": 290,
    "start_time": "2023-06-10T01:07:57.494Z"
   },
   {
    "duration": 9,
    "start_time": "2023-06-10T01:07:57.785Z"
   },
   {
    "duration": 4,
    "start_time": "2023-06-10T01:07:57.796Z"
   },
   {
    "duration": 48789,
    "start_time": "2023-06-10T01:07:57.801Z"
   },
   {
    "duration": 9107,
    "start_time": "2023-06-10T01:08:46.592Z"
   },
   {
    "duration": 4,
    "start_time": "2023-06-10T01:08:55.701Z"
   },
   {
    "duration": 10,
    "start_time": "2023-06-10T01:08:55.706Z"
   },
   {
    "duration": 20,
    "start_time": "2023-06-10T01:08:55.772Z"
   },
   {
    "duration": 4,
    "start_time": "2023-06-10T01:11:17.963Z"
   },
   {
    "duration": 23612,
    "start_time": "2023-06-10T01:19:07.483Z"
   },
   {
    "duration": 176,
    "start_time": "2023-06-10T01:19:31.097Z"
   },
   {
    "duration": 10,
    "start_time": "2023-06-10T01:19:31.275Z"
   },
   {
    "duration": 59,
    "start_time": "2023-06-10T01:19:58.039Z"
   },
   {
    "duration": 4,
    "start_time": "2023-06-10T01:19:59.062Z"
   },
   {
    "duration": 1562,
    "start_time": "2023-06-10T01:21:13.072Z"
   },
   {
    "duration": 842,
    "start_time": "2023-06-10T01:21:14.636Z"
   },
   {
    "duration": 125,
    "start_time": "2023-06-10T01:21:15.479Z"
   },
   {
    "duration": 283,
    "start_time": "2023-06-10T01:21:15.607Z"
   },
   {
    "duration": 2441,
    "start_time": "2023-06-10T01:21:15.891Z"
   },
   {
    "duration": 83,
    "start_time": "2023-06-10T01:21:18.335Z"
   },
   {
    "duration": 111,
    "start_time": "2023-06-10T01:21:18.420Z"
   },
   {
    "duration": 160,
    "start_time": "2023-06-10T01:21:18.533Z"
   },
   {
    "duration": 15,
    "start_time": "2023-06-10T01:21:18.695Z"
   },
   {
    "duration": 16,
    "start_time": "2023-06-10T01:21:18.712Z"
   },
   {
    "duration": 73,
    "start_time": "2023-06-10T01:21:18.730Z"
   },
   {
    "duration": 6,
    "start_time": "2023-06-10T01:21:18.804Z"
   },
   {
    "duration": 26,
    "start_time": "2023-06-10T01:21:18.811Z"
   },
   {
    "duration": 212,
    "start_time": "2023-06-10T01:21:18.839Z"
   },
   {
    "duration": 220,
    "start_time": "2023-06-10T01:21:19.052Z"
   },
   {
    "duration": 8,
    "start_time": "2023-06-10T01:21:19.274Z"
   },
   {
    "duration": 28,
    "start_time": "2023-06-10T01:21:19.284Z"
   },
   {
    "duration": 9,
    "start_time": "2023-06-10T01:21:19.313Z"
   },
   {
    "duration": 58,
    "start_time": "2023-06-10T01:21:19.324Z"
   },
   {
    "duration": 25,
    "start_time": "2023-06-10T01:21:19.384Z"
   },
   {
    "duration": 65,
    "start_time": "2023-06-10T01:21:19.410Z"
   },
   {
    "duration": 23,
    "start_time": "2023-06-10T01:21:19.477Z"
   },
   {
    "duration": 20,
    "start_time": "2023-06-10T01:21:19.501Z"
   },
   {
    "duration": 61,
    "start_time": "2023-06-10T01:21:19.523Z"
   },
   {
    "duration": 14,
    "start_time": "2023-06-10T01:21:19.586Z"
   },
   {
    "duration": 29,
    "start_time": "2023-06-10T01:21:19.602Z"
   },
   {
    "duration": 60,
    "start_time": "2023-06-10T01:21:19.632Z"
   },
   {
    "duration": 12,
    "start_time": "2023-06-10T01:21:19.695Z"
   },
   {
    "duration": 16,
    "start_time": "2023-06-10T01:21:19.709Z"
   },
   {
    "duration": 63,
    "start_time": "2023-06-10T01:21:19.727Z"
   },
   {
    "duration": 9,
    "start_time": "2023-06-10T01:21:19.792Z"
   },
   {
    "duration": 29,
    "start_time": "2023-06-10T01:21:19.802Z"
   },
   {
    "duration": 424,
    "start_time": "2023-06-10T01:21:19.833Z"
   },
   {
    "duration": 17,
    "start_time": "2023-06-10T01:21:20.259Z"
   },
   {
    "duration": 39,
    "start_time": "2023-06-10T01:21:20.278Z"
   },
   {
    "duration": 61,
    "start_time": "2023-06-10T01:21:20.318Z"
   },
   {
    "duration": 399,
    "start_time": "2023-06-10T01:21:20.381Z"
   },
   {
    "duration": 93,
    "start_time": "2023-06-10T01:21:20.782Z"
   },
   {
    "duration": 98,
    "start_time": "2023-06-10T01:21:20.877Z"
   },
   {
    "duration": 105,
    "start_time": "2023-06-10T01:21:20.976Z"
   },
   {
    "duration": 9730,
    "start_time": "2023-06-10T01:21:21.083Z"
   },
   {
    "duration": 625,
    "start_time": "2023-06-10T01:21:30.814Z"
   },
   {
    "duration": 5,
    "start_time": "2023-06-10T01:21:31.440Z"
   },
   {
    "duration": 336,
    "start_time": "2023-06-10T01:21:31.446Z"
   },
   {
    "duration": 10,
    "start_time": "2023-06-10T01:21:31.784Z"
   },
   {
    "duration": 31,
    "start_time": "2023-06-10T01:21:31.796Z"
   },
   {
    "duration": 44060,
    "start_time": "2023-06-10T01:21:31.829Z"
   },
   {
    "duration": 9502,
    "start_time": "2023-06-10T01:22:15.891Z"
   },
   {
    "duration": 5,
    "start_time": "2023-06-10T01:22:25.395Z"
   },
   {
    "duration": 25633,
    "start_time": "2023-06-10T01:22:25.401Z"
   },
   {
    "duration": 66,
    "start_time": "2023-06-10T01:22:51.036Z"
   },
   {
    "duration": 5,
    "start_time": "2023-06-10T01:22:51.104Z"
   },
   {
    "duration": 50,
    "start_time": "2023-06-10T01:22:51.111Z"
   },
   {
    "duration": 34,
    "start_time": "2023-06-10T01:22:51.163Z"
   },
   {
    "duration": 87,
    "start_time": "2023-06-10T01:25:48.742Z"
   },
   {
    "duration": 9,
    "start_time": "2023-06-10T01:26:34.824Z"
   },
   {
    "duration": 110,
    "start_time": "2023-06-10T01:39:04.231Z"
   },
   {
    "duration": 84,
    "start_time": "2023-06-10T01:40:46.453Z"
   },
   {
    "duration": 10,
    "start_time": "2023-06-10T01:45:18.126Z"
   },
   {
    "duration": 47,
    "start_time": "2023-06-10T01:49:42.446Z"
   },
   {
    "duration": 40,
    "start_time": "2023-06-10T01:51:19.213Z"
   },
   {
    "duration": 6,
    "start_time": "2023-06-10T01:51:19.372Z"
   },
   {
    "duration": 4,
    "start_time": "2023-06-10T01:51:19.852Z"
   },
   {
    "duration": 9269,
    "start_time": "2023-06-10T01:52:37.471Z"
   },
   {
    "duration": 552,
    "start_time": "2023-06-10T01:52:46.742Z"
   },
   {
    "duration": 4,
    "start_time": "2023-06-10T01:52:47.296Z"
   },
   {
    "duration": 5487,
    "start_time": "2023-06-10T01:52:58.458Z"
   },
   {
    "duration": 4513,
    "start_time": "2023-06-10T01:53:23.426Z"
   },
   {
    "duration": 276,
    "start_time": "2023-06-10T01:53:27.943Z"
   },
   {
    "duration": 4,
    "start_time": "2023-06-10T01:53:28.451Z"
   },
   {
    "duration": 7189,
    "start_time": "2023-06-10T01:53:37.319Z"
   },
   {
    "duration": 423,
    "start_time": "2023-06-10T01:53:44.510Z"
   },
   {
    "duration": 5,
    "start_time": "2023-06-10T01:53:44.935Z"
   },
   {
    "duration": 5603,
    "start_time": "2023-06-10T01:53:50.739Z"
   },
   {
    "duration": 337,
    "start_time": "2023-06-10T01:53:56.343Z"
   },
   {
    "duration": 4,
    "start_time": "2023-06-10T01:53:56.681Z"
   },
   {
    "duration": 9072,
    "start_time": "2023-06-10T01:54:32.739Z"
   },
   {
    "duration": 549,
    "start_time": "2023-06-10T01:54:41.813Z"
   },
   {
    "duration": 10,
    "start_time": "2023-06-10T01:54:42.363Z"
   },
   {
    "duration": 4893,
    "start_time": "2023-06-10T01:55:05.660Z"
   },
   {
    "duration": 135,
    "start_time": "2023-06-10T01:55:10.555Z"
   },
   {
    "duration": 5,
    "start_time": "2023-06-10T01:55:10.692Z"
   },
   {
    "duration": 6212,
    "start_time": "2023-06-10T01:55:18.451Z"
   },
   {
    "duration": 208,
    "start_time": "2023-06-10T01:55:24.664Z"
   },
   {
    "duration": 5,
    "start_time": "2023-06-10T01:55:24.873Z"
   },
   {
    "duration": 261,
    "start_time": "2023-06-10T01:57:23.391Z"
   },
   {
    "duration": 10,
    "start_time": "2023-06-10T01:57:23.829Z"
   },
   {
    "duration": 4,
    "start_time": "2023-06-10T01:57:24.742Z"
   },
   {
    "duration": 331,
    "start_time": "2023-06-10T01:59:39.873Z"
   },
   {
    "duration": 11,
    "start_time": "2023-06-10T01:59:40.322Z"
   },
   {
    "duration": 5,
    "start_time": "2023-06-10T01:59:40.773Z"
   },
   {
    "duration": 314,
    "start_time": "2023-06-10T02:00:11.972Z"
   },
   {
    "duration": 10,
    "start_time": "2023-06-10T02:00:13.311Z"
   },
   {
    "duration": 34061,
    "start_time": "2023-06-10T02:01:21.020Z"
   },
   {
    "duration": 9118,
    "start_time": "2023-06-10T02:01:55.083Z"
   },
   {
    "duration": 4,
    "start_time": "2023-06-10T02:02:04.203Z"
   },
   {
    "duration": 12495,
    "start_time": "2023-06-10T02:02:16.181Z"
   },
   {
    "duration": 504,
    "start_time": "2023-06-10T02:02:28.677Z"
   },
   {
    "duration": 4,
    "start_time": "2023-06-10T02:02:29.183Z"
   },
   {
    "duration": 28103,
    "start_time": "2023-06-10T02:05:14.877Z"
   },
   {
    "duration": 3404,
    "start_time": "2023-06-10T02:05:42.982Z"
   },
   {
    "duration": 4,
    "start_time": "2023-06-10T02:05:46.388Z"
   },
   {
    "duration": 5073,
    "start_time": "2023-06-10T02:06:04.900Z"
   },
   {
    "duration": 519,
    "start_time": "2023-06-10T02:06:09.975Z"
   },
   {
    "duration": 76,
    "start_time": "2023-06-10T02:06:10.497Z"
   },
   {
    "duration": 7,
    "start_time": "2023-06-10T02:07:50.738Z"
   },
   {
    "duration": 9,
    "start_time": "2023-06-10T02:07:51.031Z"
   },
   {
    "duration": 70,
    "start_time": "2023-06-10T02:37:34.928Z"
   },
   {
    "duration": 0,
    "start_time": "2023-06-10T02:37:34.999Z"
   },
   {
    "duration": 0,
    "start_time": "2023-06-10T02:37:35.000Z"
   },
   {
    "duration": 0,
    "start_time": "2023-06-10T02:37:35.001Z"
   },
   {
    "duration": 0,
    "start_time": "2023-06-10T02:37:35.002Z"
   },
   {
    "duration": 0,
    "start_time": "2023-06-10T02:37:35.003Z"
   },
   {
    "duration": 0,
    "start_time": "2023-06-10T02:37:35.004Z"
   },
   {
    "duration": 0,
    "start_time": "2023-06-10T02:37:35.005Z"
   },
   {
    "duration": 0,
    "start_time": "2023-06-10T02:37:35.007Z"
   },
   {
    "duration": 0,
    "start_time": "2023-06-10T02:37:35.008Z"
   },
   {
    "duration": 0,
    "start_time": "2023-06-10T02:37:35.008Z"
   },
   {
    "duration": 0,
    "start_time": "2023-06-10T02:37:35.009Z"
   },
   {
    "duration": 0,
    "start_time": "2023-06-10T02:37:35.010Z"
   },
   {
    "duration": 0,
    "start_time": "2023-06-10T02:37:35.011Z"
   },
   {
    "duration": 0,
    "start_time": "2023-06-10T02:37:35.012Z"
   },
   {
    "duration": 0,
    "start_time": "2023-06-10T02:37:35.013Z"
   },
   {
    "duration": 0,
    "start_time": "2023-06-10T02:37:35.014Z"
   },
   {
    "duration": 0,
    "start_time": "2023-06-10T02:37:35.014Z"
   },
   {
    "duration": 0,
    "start_time": "2023-06-10T02:37:35.015Z"
   },
   {
    "duration": 72,
    "start_time": "2023-06-10T02:37:35.017Z"
   },
   {
    "duration": 0,
    "start_time": "2023-06-10T02:37:35.091Z"
   },
   {
    "duration": 0,
    "start_time": "2023-06-10T02:37:35.092Z"
   },
   {
    "duration": 0,
    "start_time": "2023-06-10T02:37:35.093Z"
   },
   {
    "duration": 0,
    "start_time": "2023-06-10T02:37:35.094Z"
   },
   {
    "duration": 0,
    "start_time": "2023-06-10T02:37:35.095Z"
   },
   {
    "duration": 0,
    "start_time": "2023-06-10T02:37:35.096Z"
   },
   {
    "duration": 0,
    "start_time": "2023-06-10T02:37:35.097Z"
   },
   {
    "duration": 0,
    "start_time": "2023-06-10T02:37:35.098Z"
   },
   {
    "duration": 0,
    "start_time": "2023-06-10T02:37:35.099Z"
   },
   {
    "duration": 0,
    "start_time": "2023-06-10T02:37:35.100Z"
   },
   {
    "duration": 0,
    "start_time": "2023-06-10T02:37:35.101Z"
   },
   {
    "duration": 0,
    "start_time": "2023-06-10T02:37:35.102Z"
   },
   {
    "duration": 0,
    "start_time": "2023-06-10T02:37:35.103Z"
   },
   {
    "duration": 0,
    "start_time": "2023-06-10T02:37:35.103Z"
   },
   {
    "duration": 0,
    "start_time": "2023-06-10T02:37:35.105Z"
   },
   {
    "duration": 0,
    "start_time": "2023-06-10T02:37:35.106Z"
   },
   {
    "duration": 0,
    "start_time": "2023-06-10T02:37:35.107Z"
   },
   {
    "duration": 0,
    "start_time": "2023-06-10T02:37:35.108Z"
   },
   {
    "duration": 0,
    "start_time": "2023-06-10T02:37:35.109Z"
   },
   {
    "duration": 0,
    "start_time": "2023-06-10T02:37:35.110Z"
   },
   {
    "duration": 0,
    "start_time": "2023-06-10T02:37:35.111Z"
   },
   {
    "duration": 0,
    "start_time": "2023-06-10T02:37:35.112Z"
   },
   {
    "duration": 81,
    "start_time": "2023-06-10T02:37:35.114Z"
   },
   {
    "duration": 81,
    "start_time": "2023-06-10T02:37:35.197Z"
   },
   {
    "duration": 7,
    "start_time": "2023-06-10T02:37:35.280Z"
   },
   {
    "duration": 0,
    "start_time": "2023-06-10T02:37:35.288Z"
   },
   {
    "duration": 0,
    "start_time": "2023-06-10T02:37:35.290Z"
   },
   {
    "duration": 0,
    "start_time": "2023-06-10T02:37:35.291Z"
   },
   {
    "duration": 0,
    "start_time": "2023-06-10T02:37:35.292Z"
   },
   {
    "duration": 0,
    "start_time": "2023-06-10T02:37:35.293Z"
   },
   {
    "duration": 0,
    "start_time": "2023-06-10T02:37:35.294Z"
   },
   {
    "duration": 0,
    "start_time": "2023-06-10T02:37:35.295Z"
   },
   {
    "duration": 0,
    "start_time": "2023-06-10T02:37:35.296Z"
   },
   {
    "duration": 1377,
    "start_time": "2023-06-10T02:38:10.781Z"
   },
   {
    "duration": 813,
    "start_time": "2023-06-10T02:38:12.160Z"
   },
   {
    "duration": 108,
    "start_time": "2023-06-10T02:38:12.974Z"
   },
   {
    "duration": 257,
    "start_time": "2023-06-10T02:38:13.084Z"
   },
   {
    "duration": 2254,
    "start_time": "2023-06-10T02:38:13.343Z"
   },
   {
    "duration": 79,
    "start_time": "2023-06-10T02:38:15.598Z"
   },
   {
    "duration": 104,
    "start_time": "2023-06-10T02:38:15.679Z"
   },
   {
    "duration": 148,
    "start_time": "2023-06-10T02:38:15.785Z"
   },
   {
    "duration": 14,
    "start_time": "2023-06-10T02:38:15.935Z"
   },
   {
    "duration": 27,
    "start_time": "2023-06-10T02:38:15.950Z"
   },
   {
    "duration": 55,
    "start_time": "2023-06-10T02:38:15.978Z"
   },
   {
    "duration": 5,
    "start_time": "2023-06-10T02:38:16.034Z"
   },
   {
    "duration": 33,
    "start_time": "2023-06-10T02:38:16.041Z"
   },
   {
    "duration": 216,
    "start_time": "2023-06-10T02:38:16.077Z"
   },
   {
    "duration": 204,
    "start_time": "2023-06-10T02:38:16.295Z"
   },
   {
    "duration": 6,
    "start_time": "2023-06-10T02:38:16.500Z"
   },
   {
    "duration": 26,
    "start_time": "2023-06-10T02:38:16.507Z"
   },
   {
    "duration": 10,
    "start_time": "2023-06-10T02:38:16.534Z"
   },
   {
    "duration": 46,
    "start_time": "2023-06-10T02:38:16.545Z"
   },
   {
    "duration": 8,
    "start_time": "2023-06-10T02:38:16.593Z"
   },
   {
    "duration": 31,
    "start_time": "2023-06-10T02:38:16.603Z"
   },
   {
    "duration": 15,
    "start_time": "2023-06-10T02:38:16.635Z"
   },
   {
    "duration": 28,
    "start_time": "2023-06-10T02:38:16.651Z"
   },
   {
    "duration": 5,
    "start_time": "2023-06-10T02:38:16.681Z"
   },
   {
    "duration": 24,
    "start_time": "2023-06-10T02:38:16.688Z"
   },
   {
    "duration": 75,
    "start_time": "2023-06-10T02:38:16.713Z"
   },
   {
    "duration": 11,
    "start_time": "2023-06-10T02:38:16.790Z"
   },
   {
    "duration": 10,
    "start_time": "2023-06-10T02:38:16.803Z"
   },
   {
    "duration": 69,
    "start_time": "2023-06-10T02:38:16.814Z"
   },
   {
    "duration": 9,
    "start_time": "2023-06-10T02:38:16.884Z"
   },
   {
    "duration": 12,
    "start_time": "2023-06-10T02:38:16.895Z"
   },
   {
    "duration": 401,
    "start_time": "2023-06-10T02:38:16.909Z"
   },
   {
    "duration": 12,
    "start_time": "2023-06-10T02:38:17.312Z"
   },
   {
    "duration": 25,
    "start_time": "2023-06-10T02:38:17.325Z"
   },
   {
    "duration": 45,
    "start_time": "2023-06-10T02:38:17.351Z"
   },
   {
    "duration": 365,
    "start_time": "2023-06-10T02:38:17.398Z"
   },
   {
    "duration": 48,
    "start_time": "2023-06-10T02:38:17.772Z"
   },
   {
    "duration": 10,
    "start_time": "2023-06-10T02:38:17.871Z"
   },
   {
    "duration": 191,
    "start_time": "2023-06-10T02:38:17.882Z"
   },
   {
    "duration": 6100,
    "start_time": "2023-06-10T02:38:18.074Z"
   },
   {
    "duration": 204,
    "start_time": "2023-06-10T02:38:24.177Z"
   },
   {
    "duration": 5,
    "start_time": "2023-06-10T02:38:24.382Z"
   },
   {
    "duration": 301,
    "start_time": "2023-06-10T02:38:24.388Z"
   },
   {
    "duration": 9,
    "start_time": "2023-06-10T02:38:24.691Z"
   },
   {
    "duration": 4,
    "start_time": "2023-06-10T02:38:24.702Z"
   },
   {
    "duration": 5076,
    "start_time": "2023-06-10T02:38:24.708Z"
   },
   {
    "duration": 598,
    "start_time": "2023-06-10T02:38:29.785Z"
   },
   {
    "duration": 6,
    "start_time": "2023-06-10T02:38:30.385Z"
   },
   {
    "duration": 23878,
    "start_time": "2023-06-10T02:38:30.393Z"
   },
   {
    "duration": 66,
    "start_time": "2023-06-10T02:38:54.272Z"
   },
   {
    "duration": 5,
    "start_time": "2023-06-10T02:38:54.339Z"
   },
   {
    "duration": 8,
    "start_time": "2023-06-10T02:38:54.346Z"
   },
   {
    "duration": 28,
    "start_time": "2023-06-10T02:38:54.355Z"
   },
   {
    "duration": 2158,
    "start_time": "2023-06-10T16:15:49.796Z"
   },
   {
    "duration": 3888,
    "start_time": "2023-06-10T16:15:51.966Z"
   },
   {
    "duration": 210,
    "start_time": "2023-06-10T16:15:55.864Z"
   },
   {
    "duration": 332,
    "start_time": "2023-06-10T16:15:56.077Z"
   },
   {
    "duration": 3442,
    "start_time": "2023-06-10T16:17:30.403Z"
   },
   {
    "duration": 106,
    "start_time": "2023-06-10T16:17:34.999Z"
   },
   {
    "duration": 204,
    "start_time": "2023-06-10T16:25:43.351Z"
   },
   {
    "duration": 4,
    "start_time": "2023-06-10T16:26:18.580Z"
   },
   {
    "duration": 199,
    "start_time": "2023-06-10T16:27:12.791Z"
   },
   {
    "duration": 4,
    "start_time": "2023-06-10T16:27:12.993Z"
   },
   {
    "duration": 6,
    "start_time": "2023-06-10T16:27:24.204Z"
   },
   {
    "duration": 112,
    "start_time": "2023-06-10T17:01:27.697Z"
   },
   {
    "duration": 8,
    "start_time": "2023-06-10T17:01:44.259Z"
   },
   {
    "duration": 31,
    "start_time": "2023-06-10T17:01:45.299Z"
   },
   {
    "duration": 392,
    "start_time": "2023-06-10T17:03:12.322Z"
   },
   {
    "duration": 289,
    "start_time": "2023-06-10T17:03:12.717Z"
   },
   {
    "duration": 9,
    "start_time": "2023-06-10T17:03:52.055Z"
   },
   {
    "duration": 37,
    "start_time": "2023-06-10T17:03:52.778Z"
   },
   {
    "duration": 18,
    "start_time": "2023-06-10T17:05:27.146Z"
   },
   {
    "duration": 52,
    "start_time": "2023-06-10T17:05:27.508Z"
   },
   {
    "duration": 16,
    "start_time": "2023-06-10T17:05:27.972Z"
   },
   {
    "duration": 22,
    "start_time": "2023-06-10T17:06:53.954Z"
   },
   {
    "duration": 13,
    "start_time": "2023-06-10T17:06:56.887Z"
   },
   {
    "duration": 6,
    "start_time": "2023-06-10T17:06:58.375Z"
   },
   {
    "duration": 28,
    "start_time": "2023-06-10T17:07:01.184Z"
   },
   {
    "duration": 99,
    "start_time": "2023-06-10T17:07:01.905Z"
   },
   {
    "duration": 181,
    "start_time": "2023-06-10T17:07:27.364Z"
   },
   {
    "duration": 101,
    "start_time": "2023-06-10T17:07:33.765Z"
   },
   {
    "duration": 22,
    "start_time": "2023-06-10T17:07:35.415Z"
   },
   {
    "duration": 24,
    "start_time": "2023-06-10T17:07:36.160Z"
   },
   {
    "duration": 100,
    "start_time": "2023-06-10T17:07:36.982Z"
   },
   {
    "duration": 10,
    "start_time": "2023-06-10T17:07:37.680Z"
   },
   {
    "duration": 16,
    "start_time": "2023-06-10T17:07:45.075Z"
   },
   {
    "duration": 186,
    "start_time": "2023-06-10T17:07:58.099Z"
   },
   {
    "duration": 73,
    "start_time": "2023-06-10T17:10:20.115Z"
   },
   {
    "duration": 2183,
    "start_time": "2023-06-10T17:10:38.225Z"
   },
   {
    "duration": 1199,
    "start_time": "2023-06-10T17:10:40.411Z"
   },
   {
    "duration": 216,
    "start_time": "2023-06-10T17:10:41.612Z"
   },
   {
    "duration": 358,
    "start_time": "2023-06-10T17:10:41.830Z"
   },
   {
    "duration": 3272,
    "start_time": "2023-06-10T17:10:42.190Z"
   },
   {
    "duration": 131,
    "start_time": "2023-06-10T17:10:45.464Z"
   },
   {
    "duration": 183,
    "start_time": "2023-06-10T17:10:45.597Z"
   },
   {
    "duration": 215,
    "start_time": "2023-06-10T17:10:45.782Z"
   },
   {
    "duration": 5,
    "start_time": "2023-06-10T17:10:45.999Z"
   },
   {
    "duration": 55,
    "start_time": "2023-06-10T17:10:46.007Z"
   },
   {
    "duration": 20,
    "start_time": "2023-06-10T17:10:46.064Z"
   },
   {
    "duration": 138,
    "start_time": "2023-06-10T17:10:46.087Z"
   },
   {
    "duration": 9,
    "start_time": "2023-06-10T17:10:46.227Z"
   },
   {
    "duration": 43,
    "start_time": "2023-06-10T17:10:46.239Z"
   },
   {
    "duration": 338,
    "start_time": "2023-06-10T17:10:46.283Z"
   },
   {
    "duration": 281,
    "start_time": "2023-06-10T17:10:46.623Z"
   },
   {
    "duration": 6,
    "start_time": "2023-06-10T17:10:46.907Z"
   },
   {
    "duration": 36,
    "start_time": "2023-06-10T17:10:46.925Z"
   },
   {
    "duration": 12,
    "start_time": "2023-06-10T17:10:46.963Z"
   },
   {
    "duration": 48,
    "start_time": "2023-06-10T17:10:46.978Z"
   },
   {
    "duration": 15,
    "start_time": "2023-06-10T17:10:47.029Z"
   },
   {
    "duration": 47,
    "start_time": "2023-06-10T17:10:47.046Z"
   },
   {
    "duration": 31,
    "start_time": "2023-06-10T17:10:47.431Z"
   },
   {
    "duration": 18,
    "start_time": "2023-06-10T17:10:47.912Z"
   },
   {
    "duration": 10,
    "start_time": "2023-06-10T17:10:48.355Z"
   },
   {
    "duration": 37,
    "start_time": "2023-06-10T17:10:48.742Z"
   },
   {
    "duration": 101,
    "start_time": "2023-06-10T17:10:49.014Z"
   },
   {
    "duration": 17,
    "start_time": "2023-06-10T17:10:49.397Z"
   },
   {
    "duration": 18,
    "start_time": "2023-06-10T17:10:49.783Z"
   },
   {
    "duration": 114,
    "start_time": "2023-06-10T17:10:50.081Z"
   },
   {
    "duration": 11,
    "start_time": "2023-06-10T17:10:50.312Z"
   },
   {
    "duration": 15,
    "start_time": "2023-06-10T17:10:50.704Z"
   },
   {
    "duration": 223,
    "start_time": "2023-06-10T17:10:50.842Z"
   },
   {
    "duration": 583,
    "start_time": "2023-06-10T17:10:52.971Z"
   },
   {
    "duration": 21,
    "start_time": "2023-06-10T17:10:58.799Z"
   },
   {
    "duration": 23,
    "start_time": "2023-06-10T17:12:41.086Z"
   },
   {
    "duration": 58,
    "start_time": "2023-06-10T22:25:48.475Z"
   },
   {
    "duration": 2,
    "start_time": "2023-06-10T22:36:16.114Z"
   },
   {
    "duration": 1689,
    "start_time": "2023-06-10T22:52:10.224Z"
   },
   {
    "duration": 1091,
    "start_time": "2023-06-10T22:52:11.915Z"
   },
   {
    "duration": 113,
    "start_time": "2023-06-10T22:52:13.008Z"
   },
   {
    "duration": 282,
    "start_time": "2023-06-10T22:52:13.123Z"
   },
   {
    "duration": 2553,
    "start_time": "2023-06-10T22:52:13.407Z"
   },
   {
    "duration": 111,
    "start_time": "2023-06-10T22:52:15.961Z"
   },
   {
    "duration": 136,
    "start_time": "2023-06-10T22:52:16.074Z"
   },
   {
    "duration": 138,
    "start_time": "2023-06-10T22:52:16.212Z"
   },
   {
    "duration": 17,
    "start_time": "2023-06-10T22:52:16.352Z"
   },
   {
    "duration": 4,
    "start_time": "2023-06-10T22:52:16.372Z"
   },
   {
    "duration": 21,
    "start_time": "2023-06-10T22:52:16.378Z"
   },
   {
    "duration": 48,
    "start_time": "2023-06-10T22:52:16.400Z"
   },
   {
    "duration": 62,
    "start_time": "2023-06-10T22:52:16.449Z"
   },
   {
    "duration": 6,
    "start_time": "2023-06-10T22:52:16.513Z"
   },
   {
    "duration": 47,
    "start_time": "2023-06-10T22:52:16.521Z"
   },
   {
    "duration": 3,
    "start_time": "2023-06-10T22:52:16.570Z"
   },
   {
    "duration": 7,
    "start_time": "2023-06-10T22:52:16.575Z"
   },
   {
    "duration": 15,
    "start_time": "2023-06-10T22:52:16.583Z"
   },
   {
    "duration": 64,
    "start_time": "2023-06-10T22:52:16.601Z"
   },
   {
    "duration": 14,
    "start_time": "2023-06-10T22:52:16.667Z"
   },
   {
    "duration": 32,
    "start_time": "2023-06-10T22:52:16.683Z"
   },
   {
    "duration": 32,
    "start_time": "2023-06-10T22:52:16.717Z"
   },
   {
    "duration": 2,
    "start_time": "2023-06-10T22:52:16.751Z"
   },
   {
    "duration": 23,
    "start_time": "2023-06-10T22:52:16.755Z"
   },
   {
    "duration": 16,
    "start_time": "2023-06-10T22:52:16.779Z"
   },
   {
    "duration": 47,
    "start_time": "2023-06-10T22:52:16.796Z"
   },
   {
    "duration": 27,
    "start_time": "2023-06-10T22:52:16.845Z"
   },
   {
    "duration": 94,
    "start_time": "2023-06-10T22:52:16.876Z"
   },
   {
    "duration": 14,
    "start_time": "2023-06-10T22:52:16.972Z"
   },
   {
    "duration": 13,
    "start_time": "2023-06-10T22:52:16.988Z"
   },
   {
    "duration": 94,
    "start_time": "2023-06-10T22:52:17.003Z"
   },
   {
    "duration": 10,
    "start_time": "2023-06-10T22:52:17.100Z"
   },
   {
    "duration": 35,
    "start_time": "2023-06-10T22:52:17.113Z"
   },
   {
    "duration": 264,
    "start_time": "2023-06-10T22:52:17.150Z"
   },
   {
    "duration": 275,
    "start_time": "2023-06-10T22:52:17.415Z"
   },
   {
    "duration": 134,
    "start_time": "2023-06-10T22:52:17.692Z"
   },
   {
    "duration": 474,
    "start_time": "2023-06-10T22:52:17.827Z"
   },
   {
    "duration": 20,
    "start_time": "2023-06-10T22:52:18.303Z"
   },
   {
    "duration": 39,
    "start_time": "2023-06-10T22:52:18.326Z"
   },
   {
    "duration": 52,
    "start_time": "2023-06-10T22:52:18.368Z"
   },
   {
    "duration": 460,
    "start_time": "2023-06-10T22:52:18.423Z"
   },
   {
    "duration": 161,
    "start_time": "2023-06-10T22:52:18.885Z"
   },
   {
    "duration": 99,
    "start_time": "2023-06-10T22:52:19.048Z"
   },
   {
    "duration": 191,
    "start_time": "2023-06-10T22:52:19.155Z"
   },
   {
    "duration": 7502,
    "start_time": "2023-06-10T22:52:19.348Z"
   },
   {
    "duration": 262,
    "start_time": "2023-06-10T22:52:26.852Z"
   },
   {
    "duration": 4,
    "start_time": "2023-06-10T22:52:27.116Z"
   },
   {
    "duration": 406,
    "start_time": "2023-06-10T22:52:27.122Z"
   },
   {
    "duration": 18,
    "start_time": "2023-06-10T22:52:27.529Z"
   },
   {
    "duration": 8,
    "start_time": "2023-06-10T22:52:27.549Z"
   },
   {
    "duration": 1698,
    "start_time": "2023-06-10T22:54:17.095Z"
   },
   {
    "duration": 928,
    "start_time": "2023-06-10T22:54:18.795Z"
   },
   {
    "duration": 124,
    "start_time": "2023-06-10T22:54:19.725Z"
   },
   {
    "duration": 304,
    "start_time": "2023-06-10T22:54:19.852Z"
   },
   {
    "duration": 2539,
    "start_time": "2023-06-10T22:54:20.158Z"
   },
   {
    "duration": 90,
    "start_time": "2023-06-10T22:54:22.698Z"
   },
   {
    "duration": 116,
    "start_time": "2023-06-10T22:54:22.790Z"
   },
   {
    "duration": 138,
    "start_time": "2023-06-10T22:54:22.907Z"
   },
   {
    "duration": 15,
    "start_time": "2023-06-10T22:54:23.047Z"
   },
   {
    "duration": 6,
    "start_time": "2023-06-10T22:54:23.065Z"
   },
   {
    "duration": 20,
    "start_time": "2023-06-10T22:54:23.073Z"
   },
   {
    "duration": 20,
    "start_time": "2023-06-10T22:54:23.094Z"
   },
   {
    "duration": 84,
    "start_time": "2023-06-10T22:54:23.116Z"
   },
   {
    "duration": 24,
    "start_time": "2023-06-10T22:54:23.202Z"
   },
   {
    "duration": 40,
    "start_time": "2023-06-10T22:54:23.228Z"
   },
   {
    "duration": 2,
    "start_time": "2023-06-10T22:54:23.270Z"
   },
   {
    "duration": 14,
    "start_time": "2023-06-10T22:54:23.273Z"
   },
   {
    "duration": 12,
    "start_time": "2023-06-10T22:54:23.288Z"
   },
   {
    "duration": 53,
    "start_time": "2023-06-10T22:54:23.302Z"
   },
   {
    "duration": 11,
    "start_time": "2023-06-10T22:54:23.357Z"
   },
   {
    "duration": 28,
    "start_time": "2023-06-10T22:54:23.370Z"
   },
   {
    "duration": 42,
    "start_time": "2023-06-10T22:54:23.400Z"
   },
   {
    "duration": 4,
    "start_time": "2023-06-10T22:54:23.444Z"
   },
   {
    "duration": 25,
    "start_time": "2023-06-10T22:54:23.450Z"
   },
   {
    "duration": 16,
    "start_time": "2023-06-10T22:54:23.477Z"
   },
   {
    "duration": 7,
    "start_time": "2023-06-10T22:54:23.494Z"
   },
   {
    "duration": 60,
    "start_time": "2023-06-10T22:54:23.502Z"
   },
   {
    "duration": 88,
    "start_time": "2023-06-10T22:54:23.567Z"
   },
   {
    "duration": 13,
    "start_time": "2023-06-10T22:54:23.656Z"
   },
   {
    "duration": 13,
    "start_time": "2023-06-10T22:54:23.671Z"
   },
   {
    "duration": 80,
    "start_time": "2023-06-10T22:54:23.685Z"
   },
   {
    "duration": 13,
    "start_time": "2023-06-10T22:54:23.767Z"
   },
   {
    "duration": 14,
    "start_time": "2023-06-10T22:54:23.782Z"
   },
   {
    "duration": 408,
    "start_time": "2023-06-10T22:54:23.798Z"
   },
   {
    "duration": 0,
    "start_time": "2023-06-10T22:54:24.209Z"
   },
   {
    "duration": 0,
    "start_time": "2023-06-10T22:54:24.211Z"
   },
   {
    "duration": 0,
    "start_time": "2023-06-10T22:54:24.212Z"
   },
   {
    "duration": 0,
    "start_time": "2023-06-10T22:54:24.214Z"
   },
   {
    "duration": 0,
    "start_time": "2023-06-10T22:54:24.216Z"
   },
   {
    "duration": 0,
    "start_time": "2023-06-10T22:54:24.218Z"
   },
   {
    "duration": 0,
    "start_time": "2023-06-10T22:54:24.219Z"
   },
   {
    "duration": 0,
    "start_time": "2023-06-10T22:54:24.220Z"
   },
   {
    "duration": 0,
    "start_time": "2023-06-10T22:54:24.242Z"
   },
   {
    "duration": 0,
    "start_time": "2023-06-10T22:54:24.243Z"
   },
   {
    "duration": 0,
    "start_time": "2023-06-10T22:54:24.244Z"
   },
   {
    "duration": 0,
    "start_time": "2023-06-10T22:54:24.245Z"
   },
   {
    "duration": 0,
    "start_time": "2023-06-10T22:54:24.246Z"
   },
   {
    "duration": 0,
    "start_time": "2023-06-10T22:54:24.248Z"
   },
   {
    "duration": 0,
    "start_time": "2023-06-10T22:54:24.249Z"
   },
   {
    "duration": 0,
    "start_time": "2023-06-10T22:54:24.250Z"
   },
   {
    "duration": 1,
    "start_time": "2023-06-10T22:54:24.250Z"
   },
   {
    "duration": 1,
    "start_time": "2023-06-10T22:54:24.251Z"
   },
   {
    "duration": 0,
    "start_time": "2023-06-10T22:54:24.252Z"
   },
   {
    "duration": 0,
    "start_time": "2023-06-10T22:54:24.254Z"
   },
   {
    "duration": 0,
    "start_time": "2023-06-10T22:54:24.254Z"
   },
   {
    "duration": 0,
    "start_time": "2023-06-10T22:54:24.255Z"
   },
   {
    "duration": 0,
    "start_time": "2023-06-10T22:54:24.256Z"
   },
   {
    "duration": 0,
    "start_time": "2023-06-10T22:54:24.257Z"
   },
   {
    "duration": 153,
    "start_time": "2023-06-10T22:55:08.791Z"
   },
   {
    "duration": 142,
    "start_time": "2023-06-10T22:55:14.118Z"
   },
   {
    "duration": 122,
    "start_time": "2023-06-10T22:55:15.698Z"
   },
   {
    "duration": 134,
    "start_time": "2023-06-10T23:02:21.167Z"
   },
   {
    "duration": 14,
    "start_time": "2023-06-10T23:02:21.468Z"
   },
   {
    "duration": 16,
    "start_time": "2023-06-10T23:02:21.879Z"
   },
   {
    "duration": 182,
    "start_time": "2023-06-10T23:02:35.042Z"
   },
   {
    "duration": 135,
    "start_time": "2023-06-10T23:02:35.479Z"
   },
   {
    "duration": 135,
    "start_time": "2023-06-10T23:02:36.050Z"
   },
   {
    "duration": 13,
    "start_time": "2023-06-10T23:02:36.488Z"
   },
   {
    "duration": 24,
    "start_time": "2023-06-10T23:02:37.067Z"
   },
   {
    "duration": 390,
    "start_time": "2023-06-10T23:47:11.693Z"
   },
   {
    "duration": 4,
    "start_time": "2023-06-11T00:08:19.061Z"
   },
   {
    "duration": 9,
    "start_time": "2023-06-11T00:08:19.675Z"
   },
   {
    "duration": 4,
    "start_time": "2023-06-11T00:09:36.820Z"
   },
   {
    "duration": 805,
    "start_time": "2023-06-11T00:09:37.134Z"
   },
   {
    "duration": 113,
    "start_time": "2023-06-11T00:09:48.836Z"
   },
   {
    "duration": 219,
    "start_time": "2023-06-11T00:09:49.574Z"
   },
   {
    "duration": 2311,
    "start_time": "2023-06-11T00:09:50.039Z"
   },
   {
    "duration": 106,
    "start_time": "2023-06-11T00:09:52.352Z"
   },
   {
    "duration": 87,
    "start_time": "2023-06-11T00:09:52.459Z"
   },
   {
    "duration": 139,
    "start_time": "2023-06-11T00:09:58.174Z"
   },
   {
    "duration": 15,
    "start_time": "2023-06-11T00:09:58.565Z"
   },
   {
    "duration": 4,
    "start_time": "2023-06-11T00:09:58.802Z"
   },
   {
    "duration": 16,
    "start_time": "2023-06-11T00:09:59.437Z"
   },
   {
    "duration": 17,
    "start_time": "2023-06-11T00:09:59.853Z"
   },
   {
    "duration": 57,
    "start_time": "2023-06-11T00:10:00.253Z"
   },
   {
    "duration": 7,
    "start_time": "2023-06-11T00:10:00.690Z"
   },
   {
    "duration": 33,
    "start_time": "2023-06-11T00:10:01.601Z"
   },
   {
    "duration": 2,
    "start_time": "2023-06-11T00:10:01.804Z"
   },
   {
    "duration": 3,
    "start_time": "2023-06-11T00:10:02.027Z"
   },
   {
    "duration": 7,
    "start_time": "2023-06-11T00:10:03.910Z"
   },
   {
    "duration": 37,
    "start_time": "2023-06-11T00:10:04.271Z"
   },
   {
    "duration": 13,
    "start_time": "2023-06-11T00:10:06.013Z"
   },
   {
    "duration": 25,
    "start_time": "2023-06-11T00:10:06.474Z"
   },
   {
    "duration": 10,
    "start_time": "2023-06-11T00:10:09.501Z"
   },
   {
    "duration": 2,
    "start_time": "2023-06-11T00:10:11.174Z"
   },
   {
    "duration": 16,
    "start_time": "2023-06-11T00:10:16.182Z"
   },
   {
    "duration": 13,
    "start_time": "2023-06-11T00:10:19.934Z"
   },
   {
    "duration": 7,
    "start_time": "2023-06-11T00:10:21.094Z"
   },
   {
    "duration": 25,
    "start_time": "2023-06-11T00:10:22.015Z"
   },
   {
    "duration": 204,
    "start_time": "2023-06-11T00:10:22.642Z"
   },
   {
    "duration": 16,
    "start_time": "2023-06-11T00:10:24.174Z"
   },
   {
    "duration": 13,
    "start_time": "2023-06-11T00:10:25.992Z"
   },
   {
    "duration": 54,
    "start_time": "2023-06-11T00:10:27.702Z"
   },
   {
    "duration": 135,
    "start_time": "2023-06-11T00:10:35.602Z"
   },
   {
    "duration": 124,
    "start_time": "2023-06-11T00:10:42.174Z"
   },
   {
    "duration": 106,
    "start_time": "2023-06-11T00:10:42.641Z"
   },
   {
    "duration": 133,
    "start_time": "2023-06-11T15:56:32.856Z"
   },
   {
    "duration": 1920,
    "start_time": "2023-06-11T15:56:38.581Z"
   },
   {
    "duration": 1339,
    "start_time": "2023-06-11T15:56:40.504Z"
   },
   {
    "duration": 165,
    "start_time": "2023-06-11T15:56:41.846Z"
   },
   {
    "duration": 327,
    "start_time": "2023-06-11T15:56:42.013Z"
   },
   {
    "duration": 2808,
    "start_time": "2023-06-11T15:56:42.344Z"
   },
   {
    "duration": 102,
    "start_time": "2023-06-11T15:56:45.155Z"
   },
   {
    "duration": 157,
    "start_time": "2023-06-11T15:56:45.259Z"
   },
   {
    "duration": 168,
    "start_time": "2023-06-11T15:56:45.419Z"
   },
   {
    "duration": 17,
    "start_time": "2023-06-11T15:56:45.589Z"
   },
   {
    "duration": 17,
    "start_time": "2023-06-11T15:56:45.608Z"
   },
   {
    "duration": 62,
    "start_time": "2023-06-11T15:56:45.627Z"
   },
   {
    "duration": 55,
    "start_time": "2023-06-11T15:56:45.691Z"
   },
   {
    "duration": 111,
    "start_time": "2023-06-11T15:56:45.749Z"
   },
   {
    "duration": 6,
    "start_time": "2023-06-11T15:56:45.863Z"
   },
   {
    "duration": 43,
    "start_time": "2023-06-11T15:56:45.871Z"
   },
   {
    "duration": 10,
    "start_time": "2023-06-11T15:56:45.916Z"
   },
   {
    "duration": 21,
    "start_time": "2023-06-11T15:56:45.927Z"
   },
   {
    "duration": 21,
    "start_time": "2023-06-11T15:56:45.950Z"
   },
   {
    "duration": 65,
    "start_time": "2023-06-11T15:56:45.973Z"
   },
   {
    "duration": 31,
    "start_time": "2023-06-11T15:56:46.041Z"
   },
   {
    "duration": 37,
    "start_time": "2023-06-11T15:56:46.074Z"
   },
   {
    "duration": 10,
    "start_time": "2023-06-11T15:56:46.113Z"
   },
   {
    "duration": 26,
    "start_time": "2023-06-11T15:56:46.125Z"
   },
   {
    "duration": 50,
    "start_time": "2023-06-11T15:56:46.153Z"
   },
   {
    "duration": 38,
    "start_time": "2023-06-11T15:56:46.205Z"
   },
   {
    "duration": 16,
    "start_time": "2023-06-11T15:56:46.245Z"
   },
   {
    "duration": 45,
    "start_time": "2023-06-11T15:56:46.263Z"
   },
   {
    "duration": 73,
    "start_time": "2023-06-11T15:56:46.310Z"
   },
   {
    "duration": 15,
    "start_time": "2023-06-11T15:56:46.385Z"
   },
   {
    "duration": 41,
    "start_time": "2023-06-11T15:56:46.402Z"
   },
   {
    "duration": 95,
    "start_time": "2023-06-11T15:56:46.445Z"
   },
   {
    "duration": 172,
    "start_time": "2023-06-11T15:56:46.542Z"
   },
   {
    "duration": 154,
    "start_time": "2023-06-11T15:56:46.716Z"
   },
   {
    "duration": 158,
    "start_time": "2023-06-11T15:56:46.872Z"
   },
   {
    "duration": 16,
    "start_time": "2023-06-11T15:56:47.032Z"
   },
   {
    "duration": 34,
    "start_time": "2023-06-11T15:56:47.050Z"
   },
   {
    "duration": 15,
    "start_time": "2023-06-11T15:56:47.086Z"
   },
   {
    "duration": 145,
    "start_time": "2023-06-11T15:56:47.102Z"
   },
   {
    "duration": 0,
    "start_time": "2023-06-11T15:56:47.249Z"
   },
   {
    "duration": 0,
    "start_time": "2023-06-11T15:56:47.250Z"
   },
   {
    "duration": 0,
    "start_time": "2023-06-11T15:56:47.251Z"
   },
   {
    "duration": 0,
    "start_time": "2023-06-11T15:56:47.252Z"
   },
   {
    "duration": 0,
    "start_time": "2023-06-11T15:56:47.253Z"
   },
   {
    "duration": 0,
    "start_time": "2023-06-11T15:56:47.255Z"
   },
   {
    "duration": 0,
    "start_time": "2023-06-11T15:56:47.256Z"
   },
   {
    "duration": 0,
    "start_time": "2023-06-11T15:56:47.257Z"
   },
   {
    "duration": 0,
    "start_time": "2023-06-11T15:56:47.258Z"
   },
   {
    "duration": 0,
    "start_time": "2023-06-11T15:56:47.261Z"
   },
   {
    "duration": 0,
    "start_time": "2023-06-11T15:56:47.263Z"
   },
   {
    "duration": 0,
    "start_time": "2023-06-11T15:56:47.264Z"
   },
   {
    "duration": 0,
    "start_time": "2023-06-11T15:56:47.266Z"
   },
   {
    "duration": 0,
    "start_time": "2023-06-11T15:56:47.267Z"
   },
   {
    "duration": 0,
    "start_time": "2023-06-11T15:56:47.269Z"
   },
   {
    "duration": 0,
    "start_time": "2023-06-11T15:56:47.270Z"
   },
   {
    "duration": 0,
    "start_time": "2023-06-11T15:56:47.271Z"
   },
   {
    "duration": 1,
    "start_time": "2023-06-11T15:56:47.272Z"
   },
   {
    "duration": 0,
    "start_time": "2023-06-11T15:56:47.277Z"
   },
   {
    "duration": 0,
    "start_time": "2023-06-11T15:56:47.278Z"
   },
   {
    "duration": 0,
    "start_time": "2023-06-11T15:56:47.326Z"
   },
   {
    "duration": 0,
    "start_time": "2023-06-11T15:56:47.327Z"
   },
   {
    "duration": 11,
    "start_time": "2023-06-11T16:32:00.488Z"
   },
   {
    "duration": 1558,
    "start_time": "2023-06-11T16:33:39.340Z"
   },
   {
    "duration": 940,
    "start_time": "2023-06-11T16:33:40.900Z"
   },
   {
    "duration": 145,
    "start_time": "2023-06-11T16:33:41.841Z"
   },
   {
    "duration": 299,
    "start_time": "2023-06-11T16:33:41.988Z"
   },
   {
    "duration": 2568,
    "start_time": "2023-06-11T16:33:42.289Z"
   },
   {
    "duration": 105,
    "start_time": "2023-06-11T16:33:44.859Z"
   },
   {
    "duration": 160,
    "start_time": "2023-06-11T16:33:44.966Z"
   },
   {
    "duration": 151,
    "start_time": "2023-06-11T16:33:45.127Z"
   },
   {
    "duration": 19,
    "start_time": "2023-06-11T16:33:45.280Z"
   },
   {
    "duration": 71,
    "start_time": "2023-06-11T16:33:45.302Z"
   },
   {
    "duration": 95,
    "start_time": "2023-06-11T16:33:45.375Z"
   },
   {
    "duration": 44,
    "start_time": "2023-06-11T16:33:45.472Z"
   },
   {
    "duration": 120,
    "start_time": "2023-06-11T16:33:45.518Z"
   },
   {
    "duration": 5,
    "start_time": "2023-06-11T16:33:45.640Z"
   },
   {
    "duration": 42,
    "start_time": "2023-06-11T16:33:45.647Z"
   },
   {
    "duration": 9,
    "start_time": "2023-06-11T16:33:45.691Z"
   },
   {
    "duration": 15,
    "start_time": "2023-06-11T16:33:45.701Z"
   },
   {
    "duration": 27,
    "start_time": "2023-06-11T16:33:45.717Z"
   },
   {
    "duration": 29,
    "start_time": "2023-06-11T16:33:45.746Z"
   },
   {
    "duration": 12,
    "start_time": "2023-06-11T16:33:45.777Z"
   },
   {
    "duration": 27,
    "start_time": "2023-06-11T16:33:45.791Z"
   },
   {
    "duration": 13,
    "start_time": "2023-06-11T16:33:45.820Z"
   },
   {
    "duration": 41,
    "start_time": "2023-06-11T16:33:45.835Z"
   },
   {
    "duration": 30,
    "start_time": "2023-06-11T16:33:45.878Z"
   },
   {
    "duration": 23,
    "start_time": "2023-06-11T16:33:45.909Z"
   },
   {
    "duration": 26,
    "start_time": "2023-06-11T16:33:45.934Z"
   },
   {
    "duration": 39,
    "start_time": "2023-06-11T16:33:45.962Z"
   },
   {
    "duration": 64,
    "start_time": "2023-06-11T16:33:46.006Z"
   },
   {
    "duration": 14,
    "start_time": "2023-06-11T16:33:46.072Z"
   },
   {
    "duration": 18,
    "start_time": "2023-06-11T16:33:46.088Z"
   },
   {
    "duration": 88,
    "start_time": "2023-06-11T16:33:46.107Z"
   },
   {
    "duration": 151,
    "start_time": "2023-06-11T16:33:46.197Z"
   },
   {
    "duration": 161,
    "start_time": "2023-06-11T16:33:46.350Z"
   },
   {
    "duration": 147,
    "start_time": "2023-06-11T16:33:46.513Z"
   },
   {
    "duration": 11,
    "start_time": "2023-06-11T16:33:46.661Z"
   },
   {
    "duration": 12,
    "start_time": "2023-06-11T16:33:46.674Z"
   },
   {
    "duration": 3,
    "start_time": "2023-06-11T16:33:46.688Z"
   },
   {
    "duration": 153,
    "start_time": "2023-06-11T16:33:46.692Z"
   },
   {
    "duration": 0,
    "start_time": "2023-06-11T16:33:46.846Z"
   },
   {
    "duration": 0,
    "start_time": "2023-06-11T16:33:46.848Z"
   },
   {
    "duration": 0,
    "start_time": "2023-06-11T16:33:46.849Z"
   },
   {
    "duration": 0,
    "start_time": "2023-06-11T16:33:46.850Z"
   },
   {
    "duration": 0,
    "start_time": "2023-06-11T16:33:46.851Z"
   },
   {
    "duration": 0,
    "start_time": "2023-06-11T16:33:46.852Z"
   },
   {
    "duration": 0,
    "start_time": "2023-06-11T16:33:46.853Z"
   },
   {
    "duration": 0,
    "start_time": "2023-06-11T16:33:46.854Z"
   },
   {
    "duration": 0,
    "start_time": "2023-06-11T16:33:46.855Z"
   },
   {
    "duration": 0,
    "start_time": "2023-06-11T16:33:46.856Z"
   },
   {
    "duration": 0,
    "start_time": "2023-06-11T16:33:46.857Z"
   },
   {
    "duration": 0,
    "start_time": "2023-06-11T16:33:46.858Z"
   },
   {
    "duration": 0,
    "start_time": "2023-06-11T16:33:46.859Z"
   },
   {
    "duration": 0,
    "start_time": "2023-06-11T16:33:46.860Z"
   },
   {
    "duration": 0,
    "start_time": "2023-06-11T16:33:46.861Z"
   },
   {
    "duration": 0,
    "start_time": "2023-06-11T16:33:46.863Z"
   },
   {
    "duration": 0,
    "start_time": "2023-06-11T16:33:46.864Z"
   },
   {
    "duration": 0,
    "start_time": "2023-06-11T16:33:46.864Z"
   },
   {
    "duration": 0,
    "start_time": "2023-06-11T16:33:46.865Z"
   },
   {
    "duration": 0,
    "start_time": "2023-06-11T16:33:46.866Z"
   },
   {
    "duration": 0,
    "start_time": "2023-06-11T16:33:46.867Z"
   },
   {
    "duration": 0,
    "start_time": "2023-06-11T16:33:46.868Z"
   },
   {
    "duration": 0,
    "start_time": "2023-06-11T16:33:46.869Z"
   },
   {
    "duration": 0,
    "start_time": "2023-06-11T16:33:46.870Z"
   },
   {
    "duration": 2398,
    "start_time": "2023-06-11T16:34:07.218Z"
   },
   {
    "duration": 9,
    "start_time": "2023-06-11T18:13:05.808Z"
   },
   {
    "duration": 96,
    "start_time": "2023-06-11T18:13:09.575Z"
   },
   {
    "duration": 4,
    "start_time": "2023-06-11T18:13:10.221Z"
   },
   {
    "duration": 5,
    "start_time": "2023-06-11T18:13:40.735Z"
   },
   {
    "duration": 8,
    "start_time": "2023-06-11T18:14:00.024Z"
   },
   {
    "duration": 4,
    "start_time": "2023-06-11T18:14:30.589Z"
   },
   {
    "duration": 5,
    "start_time": "2023-06-11T18:14:49.918Z"
   },
   {
    "duration": 11,
    "start_time": "2023-06-11T18:40:34.998Z"
   },
   {
    "duration": 829,
    "start_time": "2023-06-11T18:41:14.567Z"
   },
   {
    "duration": 528,
    "start_time": "2023-06-11T18:41:42.150Z"
   },
   {
    "duration": 1637,
    "start_time": "2023-06-11T18:42:16.171Z"
   },
   {
    "duration": 803,
    "start_time": "2023-06-11T18:42:17.810Z"
   },
   {
    "duration": 125,
    "start_time": "2023-06-11T18:42:18.614Z"
   },
   {
    "duration": 238,
    "start_time": "2023-06-11T18:42:18.740Z"
   },
   {
    "duration": 2378,
    "start_time": "2023-06-11T18:42:18.980Z"
   },
   {
    "duration": 77,
    "start_time": "2023-06-11T18:42:21.360Z"
   },
   {
    "duration": 125,
    "start_time": "2023-06-11T18:42:21.439Z"
   },
   {
    "duration": 129,
    "start_time": "2023-06-11T18:42:21.566Z"
   },
   {
    "duration": 17,
    "start_time": "2023-06-11T18:42:21.697Z"
   },
   {
    "duration": 21,
    "start_time": "2023-06-11T18:42:21.724Z"
   },
   {
    "duration": 40,
    "start_time": "2023-06-11T18:42:21.747Z"
   },
   {
    "duration": 40,
    "start_time": "2023-06-11T18:42:21.788Z"
   },
   {
    "duration": 87,
    "start_time": "2023-06-11T18:42:21.830Z"
   },
   {
    "duration": 5,
    "start_time": "2023-06-11T18:42:21.919Z"
   },
   {
    "duration": 37,
    "start_time": "2023-06-11T18:42:21.926Z"
   },
   {
    "duration": 2,
    "start_time": "2023-06-11T18:42:21.965Z"
   },
   {
    "duration": 26,
    "start_time": "2023-06-11T18:42:21.969Z"
   },
   {
    "duration": 34,
    "start_time": "2023-06-11T18:42:21.997Z"
   },
   {
    "duration": 50,
    "start_time": "2023-06-11T18:42:22.033Z"
   },
   {
    "duration": 11,
    "start_time": "2023-06-11T18:42:22.085Z"
   },
   {
    "duration": 41,
    "start_time": "2023-06-11T18:42:22.097Z"
   },
   {
    "duration": 17,
    "start_time": "2023-06-11T18:42:22.139Z"
   },
   {
    "duration": 37,
    "start_time": "2023-06-11T18:42:22.158Z"
   },
   {
    "duration": 50,
    "start_time": "2023-06-11T18:42:22.197Z"
   },
   {
    "duration": 71,
    "start_time": "2023-06-11T18:42:22.249Z"
   },
   {
    "duration": 19,
    "start_time": "2023-06-11T18:42:22.322Z"
   },
   {
    "duration": 52,
    "start_time": "2023-06-11T18:42:22.343Z"
   },
   {
    "duration": 57,
    "start_time": "2023-06-11T18:42:22.400Z"
   },
   {
    "duration": 12,
    "start_time": "2023-06-11T18:42:22.459Z"
   },
   {
    "duration": 18,
    "start_time": "2023-06-11T18:42:22.473Z"
   },
   {
    "duration": 83,
    "start_time": "2023-06-11T18:42:22.493Z"
   },
   {
    "duration": 136,
    "start_time": "2023-06-11T18:42:22.578Z"
   },
   {
    "duration": 131,
    "start_time": "2023-06-11T18:42:22.716Z"
   },
   {
    "duration": 125,
    "start_time": "2023-06-11T18:42:22.849Z"
   },
   {
    "duration": 11,
    "start_time": "2023-06-11T18:42:22.976Z"
   },
   {
    "duration": 37,
    "start_time": "2023-06-11T18:42:22.989Z"
   },
   {
    "duration": 43,
    "start_time": "2023-06-11T18:42:23.028Z"
   },
   {
    "duration": 124,
    "start_time": "2023-06-11T18:42:23.072Z"
   },
   {
    "duration": 3,
    "start_time": "2023-06-11T18:42:23.197Z"
   },
   {
    "duration": 93,
    "start_time": "2023-06-11T18:42:23.201Z"
   },
   {
    "duration": 28,
    "start_time": "2023-06-11T18:42:23.295Z"
   },
   {
    "duration": 79,
    "start_time": "2023-06-11T18:42:23.324Z"
   },
   {
    "duration": 16,
    "start_time": "2023-06-11T18:42:23.405Z"
   },
   {
    "duration": 23,
    "start_time": "2023-06-11T18:42:23.422Z"
   },
   {
    "duration": 681,
    "start_time": "2023-06-11T18:42:23.447Z"
   },
   {
    "duration": 345,
    "start_time": "2023-06-11T18:42:24.130Z"
   },
   {
    "duration": 2,
    "start_time": "2023-06-11T18:42:24.477Z"
   },
   {
    "duration": 14,
    "start_time": "2023-06-11T18:42:24.480Z"
   },
   {
    "duration": 7,
    "start_time": "2023-06-11T18:42:24.495Z"
   },
   {
    "duration": 103,
    "start_time": "2023-06-11T18:42:24.503Z"
   },
   {
    "duration": 0,
    "start_time": "2023-06-11T18:42:24.607Z"
   },
   {
    "duration": 0,
    "start_time": "2023-06-11T18:42:24.608Z"
   },
   {
    "duration": 0,
    "start_time": "2023-06-11T18:42:24.609Z"
   },
   {
    "duration": 0,
    "start_time": "2023-06-11T18:42:24.610Z"
   },
   {
    "duration": 0,
    "start_time": "2023-06-11T18:42:24.611Z"
   },
   {
    "duration": 0,
    "start_time": "2023-06-11T18:42:24.612Z"
   },
   {
    "duration": 0,
    "start_time": "2023-06-11T18:42:24.624Z"
   },
   {
    "duration": 0,
    "start_time": "2023-06-11T18:42:24.625Z"
   },
   {
    "duration": 0,
    "start_time": "2023-06-11T18:42:24.626Z"
   },
   {
    "duration": 0,
    "start_time": "2023-06-11T18:42:24.627Z"
   },
   {
    "duration": 0,
    "start_time": "2023-06-11T18:42:24.628Z"
   },
   {
    "duration": 0,
    "start_time": "2023-06-11T18:42:24.629Z"
   },
   {
    "duration": 0,
    "start_time": "2023-06-11T18:42:24.629Z"
   },
   {
    "duration": 0,
    "start_time": "2023-06-11T18:42:24.631Z"
   },
   {
    "duration": 185,
    "start_time": "2023-06-11T18:43:19.143Z"
   },
   {
    "duration": 5918,
    "start_time": "2023-06-11T18:44:11.985Z"
   },
   {
    "duration": 190,
    "start_time": "2023-06-11T18:44:17.905Z"
   },
   {
    "duration": 12,
    "start_time": "2023-06-11T18:44:18.765Z"
   },
   {
    "duration": 6,
    "start_time": "2023-06-11T18:47:16.337Z"
   },
   {
    "duration": 78,
    "start_time": "2023-06-11T18:48:21.695Z"
   },
   {
    "duration": 5,
    "start_time": "2023-06-11T18:48:33.236Z"
   },
   {
    "duration": 5,
    "start_time": "2023-06-11T18:49:05.925Z"
   },
   {
    "duration": 91,
    "start_time": "2023-06-11T19:28:06.787Z"
   },
   {
    "duration": 5240,
    "start_time": "2023-06-11T19:28:45.947Z"
   },
   {
    "duration": 86,
    "start_time": "2023-06-11T19:34:17.101Z"
   },
   {
    "duration": 5,
    "start_time": "2023-06-11T19:37:31.289Z"
   },
   {
    "duration": 4,
    "start_time": "2023-06-11T19:37:47.336Z"
   },
   {
    "duration": 4,
    "start_time": "2023-06-11T19:38:08.389Z"
   },
   {
    "duration": 1361,
    "start_time": "2023-06-11T19:41:26.055Z"
   },
   {
    "duration": 825,
    "start_time": "2023-06-11T19:41:27.418Z"
   },
   {
    "duration": 140,
    "start_time": "2023-06-11T19:41:28.244Z"
   },
   {
    "duration": 292,
    "start_time": "2023-06-11T19:41:28.386Z"
   },
   {
    "duration": 2337,
    "start_time": "2023-06-11T19:41:28.680Z"
   },
   {
    "duration": 95,
    "start_time": "2023-06-11T19:41:31.019Z"
   },
   {
    "duration": 142,
    "start_time": "2023-06-11T19:41:31.116Z"
   },
   {
    "duration": 131,
    "start_time": "2023-06-11T19:41:31.259Z"
   },
   {
    "duration": 17,
    "start_time": "2023-06-11T19:41:31.391Z"
   },
   {
    "duration": 38,
    "start_time": "2023-06-11T19:41:31.409Z"
   },
   {
    "duration": 57,
    "start_time": "2023-06-11T19:41:31.448Z"
   },
   {
    "duration": 47,
    "start_time": "2023-06-11T19:41:31.506Z"
   },
   {
    "duration": 121,
    "start_time": "2023-06-11T19:41:31.554Z"
   },
   {
    "duration": 7,
    "start_time": "2023-06-11T19:41:31.678Z"
   },
   {
    "duration": 56,
    "start_time": "2023-06-11T19:41:31.686Z"
   },
   {
    "duration": 3,
    "start_time": "2023-06-11T19:41:31.744Z"
   },
   {
    "duration": 23,
    "start_time": "2023-06-11T19:41:31.749Z"
   },
   {
    "duration": 26,
    "start_time": "2023-06-11T19:41:31.775Z"
   },
   {
    "duration": 64,
    "start_time": "2023-06-11T19:41:31.803Z"
   },
   {
    "duration": 11,
    "start_time": "2023-06-11T19:41:31.869Z"
   },
   {
    "duration": 37,
    "start_time": "2023-06-11T19:41:31.881Z"
   },
   {
    "duration": 25,
    "start_time": "2023-06-11T19:41:31.919Z"
   },
   {
    "duration": 27,
    "start_time": "2023-06-11T19:41:31.945Z"
   },
   {
    "duration": 76,
    "start_time": "2023-06-11T19:41:31.974Z"
   },
   {
    "duration": 32,
    "start_time": "2023-06-11T19:41:32.052Z"
   },
   {
    "duration": 7,
    "start_time": "2023-06-11T19:41:32.086Z"
   },
   {
    "duration": 67,
    "start_time": "2023-06-11T19:41:32.095Z"
   },
   {
    "duration": 75,
    "start_time": "2023-06-11T19:41:32.164Z"
   },
   {
    "duration": 11,
    "start_time": "2023-06-11T19:41:32.240Z"
   },
   {
    "duration": 29,
    "start_time": "2023-06-11T19:41:32.252Z"
   },
   {
    "duration": 86,
    "start_time": "2023-06-11T19:41:32.283Z"
   },
   {
    "duration": 147,
    "start_time": "2023-06-11T19:41:32.370Z"
   },
   {
    "duration": 134,
    "start_time": "2023-06-11T19:41:32.519Z"
   },
   {
    "duration": 127,
    "start_time": "2023-06-11T19:41:32.654Z"
   },
   {
    "duration": 11,
    "start_time": "2023-06-11T19:41:32.782Z"
   },
   {
    "duration": 44,
    "start_time": "2023-06-11T19:41:32.795Z"
   },
   {
    "duration": 16,
    "start_time": "2023-06-11T19:41:32.841Z"
   },
   {
    "duration": 116,
    "start_time": "2023-06-11T19:41:32.859Z"
   },
   {
    "duration": 2,
    "start_time": "2023-06-11T19:41:32.977Z"
   },
   {
    "duration": 27,
    "start_time": "2023-06-11T19:41:32.980Z"
   },
   {
    "duration": 29,
    "start_time": "2023-06-11T19:41:33.010Z"
   },
   {
    "duration": 27,
    "start_time": "2023-06-11T19:41:33.040Z"
   },
   {
    "duration": 36,
    "start_time": "2023-06-11T19:41:33.069Z"
   },
   {
    "duration": 6,
    "start_time": "2023-06-11T19:41:33.106Z"
   },
   {
    "duration": 678,
    "start_time": "2023-06-11T19:41:33.114Z"
   },
   {
    "duration": 343,
    "start_time": "2023-06-11T19:41:33.794Z"
   },
   {
    "duration": 3,
    "start_time": "2023-06-11T19:41:34.139Z"
   },
   {
    "duration": 11,
    "start_time": "2023-06-11T19:41:34.143Z"
   },
   {
    "duration": 24,
    "start_time": "2023-06-11T19:41:34.155Z"
   },
   {
    "duration": 1,
    "start_time": "2023-06-11T20:33:31.649Z"
   },
   {
    "duration": 0,
    "start_time": "2023-06-11T20:33:31.650Z"
   },
   {
    "duration": 0,
    "start_time": "2023-06-11T20:33:31.651Z"
   },
   {
    "duration": 0,
    "start_time": "2023-06-11T20:33:31.652Z"
   },
   {
    "duration": 0,
    "start_time": "2023-06-11T20:33:31.653Z"
   },
   {
    "duration": 0,
    "start_time": "2023-06-11T20:33:31.654Z"
   },
   {
    "duration": 0,
    "start_time": "2023-06-11T20:33:31.655Z"
   },
   {
    "duration": 0,
    "start_time": "2023-06-11T20:33:31.656Z"
   },
   {
    "duration": 0,
    "start_time": "2023-06-11T20:33:31.657Z"
   },
   {
    "duration": 0,
    "start_time": "2023-06-11T20:33:31.658Z"
   },
   {
    "duration": 0,
    "start_time": "2023-06-11T20:33:31.662Z"
   },
   {
    "duration": 0,
    "start_time": "2023-06-11T20:33:31.663Z"
   },
   {
    "duration": 0,
    "start_time": "2023-06-11T20:33:31.664Z"
   },
   {
    "duration": 0,
    "start_time": "2023-06-11T20:33:31.665Z"
   },
   {
    "duration": 9,
    "start_time": "2023-06-11T20:33:34.126Z"
   },
   {
    "duration": 82,
    "start_time": "2023-06-11T20:33:37.542Z"
   },
   {
    "duration": 1470,
    "start_time": "2023-06-11T20:42:11.375Z"
   },
   {
    "duration": 868,
    "start_time": "2023-06-11T20:42:12.847Z"
   },
   {
    "duration": 163,
    "start_time": "2023-06-11T20:42:13.717Z"
   },
   {
    "duration": 295,
    "start_time": "2023-06-11T20:42:13.882Z"
   },
   {
    "duration": 2346,
    "start_time": "2023-06-11T20:42:14.179Z"
   },
   {
    "duration": 81,
    "start_time": "2023-06-11T20:42:16.527Z"
   },
   {
    "duration": 132,
    "start_time": "2023-06-11T20:42:16.610Z"
   },
   {
    "duration": 130,
    "start_time": "2023-06-11T20:42:16.743Z"
   },
   {
    "duration": 17,
    "start_time": "2023-06-11T20:42:16.875Z"
   },
   {
    "duration": 25,
    "start_time": "2023-06-11T20:42:16.895Z"
   },
   {
    "duration": 32,
    "start_time": "2023-06-11T20:42:16.922Z"
   },
   {
    "duration": 28,
    "start_time": "2023-06-11T20:42:16.956Z"
   },
   {
    "duration": 88,
    "start_time": "2023-06-11T20:42:16.986Z"
   },
   {
    "duration": 7,
    "start_time": "2023-06-11T20:42:17.075Z"
   },
   {
    "duration": 32,
    "start_time": "2023-06-11T20:42:17.083Z"
   },
   {
    "duration": 7,
    "start_time": "2023-06-11T20:42:17.117Z"
   },
   {
    "duration": 22,
    "start_time": "2023-06-11T20:42:17.126Z"
   },
   {
    "duration": 19,
    "start_time": "2023-06-11T20:42:17.149Z"
   },
   {
    "duration": 47,
    "start_time": "2023-06-11T20:42:17.170Z"
   },
   {
    "duration": 19,
    "start_time": "2023-06-11T20:42:17.219Z"
   },
   {
    "duration": 23,
    "start_time": "2023-06-11T20:42:17.239Z"
   },
   {
    "duration": 21,
    "start_time": "2023-06-11T20:42:17.263Z"
   },
   {
    "duration": 23,
    "start_time": "2023-06-11T20:42:17.286Z"
   },
   {
    "duration": 28,
    "start_time": "2023-06-11T20:42:17.311Z"
   },
   {
    "duration": 21,
    "start_time": "2023-06-11T20:42:17.341Z"
   },
   {
    "duration": 12,
    "start_time": "2023-06-11T20:42:17.363Z"
   },
   {
    "duration": 47,
    "start_time": "2023-06-11T20:42:17.376Z"
   },
   {
    "duration": 57,
    "start_time": "2023-06-11T20:42:17.427Z"
   },
   {
    "duration": 12,
    "start_time": "2023-06-11T20:42:17.485Z"
   },
   {
    "duration": 27,
    "start_time": "2023-06-11T20:42:17.499Z"
   },
   {
    "duration": 66,
    "start_time": "2023-06-11T20:42:17.528Z"
   },
   {
    "duration": 145,
    "start_time": "2023-06-11T20:42:17.596Z"
   },
   {
    "duration": 135,
    "start_time": "2023-06-11T20:42:17.742Z"
   },
   {
    "duration": 117,
    "start_time": "2023-06-11T20:42:17.879Z"
   },
   {
    "duration": 10,
    "start_time": "2023-06-11T20:42:17.998Z"
   },
   {
    "duration": 47,
    "start_time": "2023-06-11T20:42:18.009Z"
   },
   {
    "duration": 19,
    "start_time": "2023-06-11T20:42:18.057Z"
   },
   {
    "duration": 107,
    "start_time": "2023-06-11T20:42:18.078Z"
   },
   {
    "duration": 2,
    "start_time": "2023-06-11T20:42:18.186Z"
   },
   {
    "duration": 12,
    "start_time": "2023-06-11T20:42:18.190Z"
   },
   {
    "duration": 13,
    "start_time": "2023-06-11T20:42:18.204Z"
   },
   {
    "duration": 9,
    "start_time": "2023-06-11T20:42:18.218Z"
   },
   {
    "duration": 7,
    "start_time": "2023-06-11T20:42:18.228Z"
   },
   {
    "duration": 11,
    "start_time": "2023-06-11T20:42:18.236Z"
   },
   {
    "duration": 712,
    "start_time": "2023-06-11T20:42:18.249Z"
   },
   {
    "duration": 345,
    "start_time": "2023-06-11T20:42:18.962Z"
   },
   {
    "duration": 2,
    "start_time": "2023-06-11T20:42:19.308Z"
   },
   {
    "duration": 2,
    "start_time": "2023-06-11T20:42:19.324Z"
   },
   {
    "duration": 11,
    "start_time": "2023-06-11T20:42:19.328Z"
   },
   {
    "duration": 16158,
    "start_time": "2023-06-11T20:42:19.340Z"
   },
   {
    "duration": 11,
    "start_time": "2023-06-11T20:42:35.500Z"
   },
   {
    "duration": 4,
    "start_time": "2023-06-11T20:42:35.524Z"
   },
   {
    "duration": 332,
    "start_time": "2023-06-11T20:42:35.530Z"
   },
   {
    "duration": 12,
    "start_time": "2023-06-11T20:42:35.864Z"
   },
   {
    "duration": 14,
    "start_time": "2023-06-11T20:42:35.878Z"
   },
   {
    "duration": 244343,
    "start_time": "2023-06-11T20:42:35.893Z"
   },
   {
    "duration": 513,
    "start_time": "2023-06-11T20:46:40.238Z"
   },
   {
    "duration": 4,
    "start_time": "2023-06-11T20:46:40.753Z"
   },
   {
    "duration": 19257,
    "start_time": "2023-06-11T20:46:40.759Z"
   },
   {
    "duration": 52,
    "start_time": "2023-06-11T20:47:00.018Z"
   },
   {
    "duration": 5,
    "start_time": "2023-06-11T20:47:00.071Z"
   },
   {
    "duration": 25,
    "start_time": "2023-06-11T20:47:00.077Z"
   },
   {
    "duration": 25,
    "start_time": "2023-06-11T20:47:00.103Z"
   },
   {
    "duration": 1515,
    "start_time": "2023-06-11T21:29:02.417Z"
   },
   {
    "duration": 808,
    "start_time": "2023-06-11T21:29:03.934Z"
   },
   {
    "duration": 173,
    "start_time": "2023-06-11T21:29:04.744Z"
   },
   {
    "duration": 273,
    "start_time": "2023-06-11T21:29:04.925Z"
   },
   {
    "duration": 3869,
    "start_time": "2023-06-11T21:29:05.200Z"
   },
   {
    "duration": 181,
    "start_time": "2023-06-11T21:29:09.071Z"
   },
   {
    "duration": 233,
    "start_time": "2023-06-11T21:29:09.254Z"
   },
   {
    "duration": 138,
    "start_time": "2023-06-11T21:29:09.488Z"
   },
   {
    "duration": 17,
    "start_time": "2023-06-11T21:29:09.628Z"
   },
   {
    "duration": 6,
    "start_time": "2023-06-11T21:29:09.647Z"
   },
   {
    "duration": 20,
    "start_time": "2023-06-11T21:29:09.654Z"
   },
   {
    "duration": 21,
    "start_time": "2023-06-11T21:29:09.676Z"
   },
   {
    "duration": 90,
    "start_time": "2023-06-11T21:29:09.699Z"
   },
   {
    "duration": 5,
    "start_time": "2023-06-11T21:29:09.791Z"
   },
   {
    "duration": 52,
    "start_time": "2023-06-11T21:29:09.797Z"
   },
   {
    "duration": 3,
    "start_time": "2023-06-11T21:29:09.850Z"
   },
   {
    "duration": 9,
    "start_time": "2023-06-11T21:29:09.854Z"
   },
   {
    "duration": 10,
    "start_time": "2023-06-11T21:29:09.864Z"
   },
   {
    "duration": 49,
    "start_time": "2023-06-11T21:29:09.876Z"
   },
   {
    "duration": 10,
    "start_time": "2023-06-11T21:29:09.927Z"
   },
   {
    "duration": 24,
    "start_time": "2023-06-11T21:29:09.939Z"
   },
   {
    "duration": 10,
    "start_time": "2023-06-11T21:29:09.965Z"
   },
   {
    "duration": 3,
    "start_time": "2023-06-11T21:29:09.977Z"
   },
   {
    "duration": 53,
    "start_time": "2023-06-11T21:29:09.982Z"
   },
   {
    "duration": 15,
    "start_time": "2023-06-11T21:29:10.036Z"
   },
   {
    "duration": 6,
    "start_time": "2023-06-11T21:29:10.052Z"
   },
   {
    "duration": 32,
    "start_time": "2023-06-11T21:29:10.059Z"
   },
   {
    "duration": 81,
    "start_time": "2023-06-11T21:29:10.095Z"
   },
   {
    "duration": 13,
    "start_time": "2023-06-11T21:29:10.178Z"
   },
   {
    "duration": 31,
    "start_time": "2023-06-11T21:29:10.194Z"
   },
   {
    "duration": 66,
    "start_time": "2023-06-11T21:29:10.226Z"
   },
   {
    "duration": 149,
    "start_time": "2023-06-11T21:29:10.294Z"
   },
   {
    "duration": 135,
    "start_time": "2023-06-11T21:29:10.445Z"
   },
   {
    "duration": 146,
    "start_time": "2023-06-11T21:29:10.583Z"
   },
   {
    "duration": 12,
    "start_time": "2023-06-11T21:29:10.731Z"
   },
   {
    "duration": 22,
    "start_time": "2023-06-11T21:29:10.744Z"
   },
   {
    "duration": 5,
    "start_time": "2023-06-11T21:29:10.768Z"
   },
   {
    "duration": 118,
    "start_time": "2023-06-11T21:29:10.775Z"
   },
   {
    "duration": 3,
    "start_time": "2023-06-11T21:29:10.895Z"
   },
   {
    "duration": 9,
    "start_time": "2023-06-11T21:29:10.900Z"
   },
   {
    "duration": 15,
    "start_time": "2023-06-11T21:29:10.911Z"
   },
   {
    "duration": 7,
    "start_time": "2023-06-11T21:29:10.927Z"
   },
   {
    "duration": 10,
    "start_time": "2023-06-11T21:29:10.936Z"
   },
   {
    "duration": 8,
    "start_time": "2023-06-11T21:29:10.948Z"
   },
   {
    "duration": 874,
    "start_time": "2023-06-11T21:29:10.959Z"
   },
   {
    "duration": 395,
    "start_time": "2023-06-11T21:29:11.834Z"
   },
   {
    "duration": 2,
    "start_time": "2023-06-11T21:29:12.231Z"
   },
   {
    "duration": 6,
    "start_time": "2023-06-11T21:29:12.235Z"
   },
   {
    "duration": 12,
    "start_time": "2023-06-11T21:29:12.243Z"
   },
   {
    "duration": 1510,
    "start_time": "2023-06-11T21:32:54.188Z"
   },
   {
    "duration": 850,
    "start_time": "2023-06-11T21:32:55.700Z"
   },
   {
    "duration": 139,
    "start_time": "2023-06-11T21:32:56.552Z"
   },
   {
    "duration": 287,
    "start_time": "2023-06-11T21:32:56.693Z"
   },
   {
    "duration": 3249,
    "start_time": "2023-06-11T21:32:56.981Z"
   },
   {
    "duration": 98,
    "start_time": "2023-06-11T21:33:00.232Z"
   },
   {
    "duration": 126,
    "start_time": "2023-06-11T21:33:00.331Z"
   },
   {
    "duration": 130,
    "start_time": "2023-06-11T21:33:00.458Z"
   },
   {
    "duration": 17,
    "start_time": "2023-06-11T21:33:00.590Z"
   },
   {
    "duration": 25,
    "start_time": "2023-06-11T21:33:00.610Z"
   },
   {
    "duration": 66,
    "start_time": "2023-06-11T21:33:00.637Z"
   },
   {
    "duration": 63,
    "start_time": "2023-06-11T21:33:00.705Z"
   },
   {
    "duration": 107,
    "start_time": "2023-06-11T21:33:00.770Z"
   },
   {
    "duration": 5,
    "start_time": "2023-06-11T21:33:00.879Z"
   },
   {
    "duration": 44,
    "start_time": "2023-06-11T21:33:00.886Z"
   },
   {
    "duration": 3,
    "start_time": "2023-06-11T21:33:00.932Z"
   },
   {
    "duration": 34,
    "start_time": "2023-06-11T21:33:00.937Z"
   },
   {
    "duration": 47,
    "start_time": "2023-06-11T21:33:00.973Z"
   },
   {
    "duration": 47,
    "start_time": "2023-06-11T21:33:01.022Z"
   },
   {
    "duration": 42,
    "start_time": "2023-06-11T21:33:01.071Z"
   },
   {
    "duration": 51,
    "start_time": "2023-06-11T21:33:01.115Z"
   },
   {
    "duration": 16,
    "start_time": "2023-06-11T21:33:01.168Z"
   },
   {
    "duration": 51,
    "start_time": "2023-06-11T21:33:01.186Z"
   },
   {
    "duration": 67,
    "start_time": "2023-06-11T21:33:01.240Z"
   },
   {
    "duration": 51,
    "start_time": "2023-06-11T21:33:01.308Z"
   },
   {
    "duration": 34,
    "start_time": "2023-06-11T21:33:01.361Z"
   },
   {
    "duration": 62,
    "start_time": "2023-06-11T21:33:01.397Z"
   },
   {
    "duration": 80,
    "start_time": "2023-06-11T21:33:01.463Z"
   },
   {
    "duration": 14,
    "start_time": "2023-06-11T21:33:01.545Z"
   },
   {
    "duration": 33,
    "start_time": "2023-06-11T21:33:01.561Z"
   },
   {
    "duration": 164,
    "start_time": "2023-06-11T21:33:01.596Z"
   },
   {
    "duration": 189,
    "start_time": "2023-06-11T21:33:01.762Z"
   },
   {
    "duration": 150,
    "start_time": "2023-06-11T21:33:01.952Z"
   },
   {
    "duration": 138,
    "start_time": "2023-06-11T21:33:02.104Z"
   },
   {
    "duration": 11,
    "start_time": "2023-06-11T21:33:02.243Z"
   },
   {
    "duration": 40,
    "start_time": "2023-06-11T21:33:02.255Z"
   },
   {
    "duration": 25,
    "start_time": "2023-06-11T21:33:02.297Z"
   },
   {
    "duration": 170,
    "start_time": "2023-06-11T21:33:02.328Z"
   },
   {
    "duration": 6,
    "start_time": "2023-06-11T21:33:02.499Z"
   },
   {
    "duration": 71,
    "start_time": "2023-06-11T21:33:02.506Z"
   },
   {
    "duration": 44,
    "start_time": "2023-06-11T21:33:02.579Z"
   },
   {
    "duration": 61,
    "start_time": "2023-06-11T21:33:02.624Z"
   },
   {
    "duration": 49,
    "start_time": "2023-06-11T21:33:02.686Z"
   },
   {
    "duration": 41,
    "start_time": "2023-06-11T21:33:02.736Z"
   },
   {
    "duration": 837,
    "start_time": "2023-06-11T21:33:02.778Z"
   },
   {
    "duration": 398,
    "start_time": "2023-06-11T21:33:03.617Z"
   },
   {
    "duration": 9,
    "start_time": "2023-06-11T21:33:04.017Z"
   },
   {
    "duration": 21,
    "start_time": "2023-06-11T21:33:04.029Z"
   },
   {
    "duration": 32,
    "start_time": "2023-06-11T21:33:04.051Z"
   },
   {
    "duration": 6277,
    "start_time": "2023-06-11T21:33:04.085Z"
   },
   {
    "duration": 10,
    "start_time": "2023-06-11T21:33:10.363Z"
   },
   {
    "duration": 13,
    "start_time": "2023-06-11T21:33:10.374Z"
   },
   {
    "duration": 301,
    "start_time": "2023-06-11T21:33:10.389Z"
   },
   {
    "duration": 11,
    "start_time": "2023-06-11T21:33:10.692Z"
   },
   {
    "duration": 23,
    "start_time": "2023-06-11T21:33:10.705Z"
   },
   {
    "duration": 1558,
    "start_time": "2023-06-11T21:34:09.922Z"
   },
   {
    "duration": 896,
    "start_time": "2023-06-11T21:34:11.482Z"
   },
   {
    "duration": 156,
    "start_time": "2023-06-11T21:34:12.379Z"
   },
   {
    "duration": 295,
    "start_time": "2023-06-11T21:34:12.537Z"
   },
   {
    "duration": 2475,
    "start_time": "2023-06-11T21:34:12.834Z"
   },
   {
    "duration": 84,
    "start_time": "2023-06-11T21:34:15.311Z"
   },
   {
    "duration": 132,
    "start_time": "2023-06-11T21:34:15.396Z"
   },
   {
    "duration": 137,
    "start_time": "2023-06-11T21:34:15.530Z"
   },
   {
    "duration": 20,
    "start_time": "2023-06-11T21:34:15.670Z"
   },
   {
    "duration": 19,
    "start_time": "2023-06-11T21:34:15.694Z"
   },
   {
    "duration": 39,
    "start_time": "2023-06-11T21:34:15.714Z"
   },
   {
    "duration": 48,
    "start_time": "2023-06-11T21:34:15.754Z"
   },
   {
    "duration": 71,
    "start_time": "2023-06-11T21:34:15.804Z"
   },
   {
    "duration": 7,
    "start_time": "2023-06-11T21:34:15.876Z"
   },
   {
    "duration": 33,
    "start_time": "2023-06-11T21:34:15.885Z"
   },
   {
    "duration": 2,
    "start_time": "2023-06-11T21:34:15.925Z"
   },
   {
    "duration": 11,
    "start_time": "2023-06-11T21:34:15.929Z"
   },
   {
    "duration": 13,
    "start_time": "2023-06-11T21:34:15.942Z"
   },
   {
    "duration": 27,
    "start_time": "2023-06-11T21:34:15.957Z"
   },
   {
    "duration": 11,
    "start_time": "2023-06-11T21:34:15.986Z"
   },
   {
    "duration": 43,
    "start_time": "2023-06-11T21:34:15.998Z"
   },
   {
    "duration": 9,
    "start_time": "2023-06-11T21:34:16.043Z"
   },
   {
    "duration": 8,
    "start_time": "2023-06-11T21:34:16.053Z"
   },
   {
    "duration": 35,
    "start_time": "2023-06-11T21:34:16.063Z"
   },
   {
    "duration": 14,
    "start_time": "2023-06-11T21:34:16.099Z"
   },
   {
    "duration": 10,
    "start_time": "2023-06-11T21:34:16.115Z"
   },
   {
    "duration": 28,
    "start_time": "2023-06-11T21:34:16.126Z"
   },
   {
    "duration": 77,
    "start_time": "2023-06-11T21:34:16.160Z"
   },
   {
    "duration": 12,
    "start_time": "2023-06-11T21:34:16.238Z"
   },
   {
    "duration": 31,
    "start_time": "2023-06-11T21:34:16.252Z"
   },
   {
    "duration": 76,
    "start_time": "2023-06-11T21:34:16.285Z"
   },
   {
    "duration": 135,
    "start_time": "2023-06-11T21:34:16.362Z"
   },
   {
    "duration": 130,
    "start_time": "2023-06-11T21:34:16.499Z"
   },
   {
    "duration": 123,
    "start_time": "2023-06-11T21:34:16.631Z"
   },
   {
    "duration": 10,
    "start_time": "2023-06-11T21:34:16.756Z"
   },
   {
    "duration": 52,
    "start_time": "2023-06-11T21:34:16.768Z"
   },
   {
    "duration": 66,
    "start_time": "2023-06-11T21:34:16.822Z"
   },
   {
    "duration": 163,
    "start_time": "2023-06-11T21:34:16.889Z"
   },
   {
    "duration": 8,
    "start_time": "2023-06-11T21:34:17.054Z"
   },
   {
    "duration": 12,
    "start_time": "2023-06-11T21:34:17.064Z"
   },
   {
    "duration": 12,
    "start_time": "2023-06-11T21:34:17.078Z"
   },
   {
    "duration": 10,
    "start_time": "2023-06-11T21:34:17.092Z"
   },
   {
    "duration": 10,
    "start_time": "2023-06-11T21:34:17.104Z"
   },
   {
    "duration": 23,
    "start_time": "2023-06-11T21:34:17.117Z"
   },
   {
    "duration": 856,
    "start_time": "2023-06-11T21:34:17.142Z"
   },
   {
    "duration": 383,
    "start_time": "2023-06-11T21:34:18.000Z"
   },
   {
    "duration": 3,
    "start_time": "2023-06-11T21:34:18.385Z"
   },
   {
    "duration": 45,
    "start_time": "2023-06-11T21:34:18.389Z"
   },
   {
    "duration": 22,
    "start_time": "2023-06-11T21:34:18.436Z"
   },
   {
    "duration": 1462,
    "start_time": "2023-06-11T21:40:18.822Z"
   },
   {
    "duration": 833,
    "start_time": "2023-06-11T21:40:20.286Z"
   },
   {
    "duration": 133,
    "start_time": "2023-06-11T21:40:21.120Z"
   },
   {
    "duration": 269,
    "start_time": "2023-06-11T21:40:21.255Z"
   },
   {
    "duration": 2315,
    "start_time": "2023-06-11T21:40:21.526Z"
   },
   {
    "duration": 79,
    "start_time": "2023-06-11T21:40:23.843Z"
   },
   {
    "duration": 121,
    "start_time": "2023-06-11T21:40:23.924Z"
   },
   {
    "duration": 126,
    "start_time": "2023-06-11T21:40:24.047Z"
   },
   {
    "duration": 16,
    "start_time": "2023-06-11T21:40:24.174Z"
   },
   {
    "duration": 21,
    "start_time": "2023-06-11T21:40:24.193Z"
   },
   {
    "duration": 47,
    "start_time": "2023-06-11T21:40:24.215Z"
   },
   {
    "duration": 62,
    "start_time": "2023-06-11T21:40:24.263Z"
   },
   {
    "duration": 80,
    "start_time": "2023-06-11T21:40:24.327Z"
   },
   {
    "duration": 6,
    "start_time": "2023-06-11T21:40:24.409Z"
   },
   {
    "duration": 54,
    "start_time": "2023-06-11T21:40:24.417Z"
   },
   {
    "duration": 3,
    "start_time": "2023-06-11T21:40:24.473Z"
   },
   {
    "duration": 13,
    "start_time": "2023-06-11T21:40:24.478Z"
   },
   {
    "duration": 16,
    "start_time": "2023-06-11T21:40:24.493Z"
   },
   {
    "duration": 28,
    "start_time": "2023-06-11T21:40:24.512Z"
   },
   {
    "duration": 11,
    "start_time": "2023-06-11T21:40:24.541Z"
   },
   {
    "duration": 37,
    "start_time": "2023-06-11T21:40:24.553Z"
   },
   {
    "duration": 10,
    "start_time": "2023-06-11T21:40:24.592Z"
   },
   {
    "duration": 3,
    "start_time": "2023-06-11T21:40:24.604Z"
   },
   {
    "duration": 19,
    "start_time": "2023-06-11T21:40:24.624Z"
   },
   {
    "duration": 34,
    "start_time": "2023-06-11T21:40:24.644Z"
   },
   {
    "duration": 6,
    "start_time": "2023-06-11T21:40:24.680Z"
   },
   {
    "duration": 28,
    "start_time": "2023-06-11T21:40:24.687Z"
   },
   {
    "duration": 80,
    "start_time": "2023-06-11T21:40:24.725Z"
   },
   {
    "duration": 27,
    "start_time": "2023-06-11T21:40:24.807Z"
   },
   {
    "duration": 20,
    "start_time": "2023-06-11T21:40:24.836Z"
   },
   {
    "duration": 93,
    "start_time": "2023-06-11T21:40:24.858Z"
   },
   {
    "duration": 141,
    "start_time": "2023-06-11T21:40:24.953Z"
   },
   {
    "duration": 124,
    "start_time": "2023-06-11T21:40:25.095Z"
   },
   {
    "duration": 118,
    "start_time": "2023-06-11T21:40:25.221Z"
   },
   {
    "duration": 10,
    "start_time": "2023-06-11T21:40:25.341Z"
   },
   {
    "duration": 22,
    "start_time": "2023-06-11T21:40:25.353Z"
   },
   {
    "duration": 19,
    "start_time": "2023-06-11T21:40:25.377Z"
   },
   {
    "duration": 113,
    "start_time": "2023-06-11T21:40:25.398Z"
   },
   {
    "duration": 2,
    "start_time": "2023-06-11T21:40:25.513Z"
   },
   {
    "duration": 26,
    "start_time": "2023-06-11T21:40:25.517Z"
   },
   {
    "duration": 17,
    "start_time": "2023-06-11T21:40:25.545Z"
   },
   {
    "duration": 10,
    "start_time": "2023-06-11T21:40:25.564Z"
   },
   {
    "duration": 21,
    "start_time": "2023-06-11T21:40:25.576Z"
   },
   {
    "duration": 20,
    "start_time": "2023-06-11T21:40:25.599Z"
   },
   {
    "duration": 817,
    "start_time": "2023-06-11T21:40:25.621Z"
   },
   {
    "duration": 372,
    "start_time": "2023-06-11T21:40:26.440Z"
   },
   {
    "duration": 2,
    "start_time": "2023-06-11T21:40:26.824Z"
   },
   {
    "duration": 6,
    "start_time": "2023-06-11T21:40:26.828Z"
   },
   {
    "duration": 7,
    "start_time": "2023-06-11T21:40:26.836Z"
   },
   {
    "duration": 5,
    "start_time": "2023-06-11T21:43:46.423Z"
   },
   {
    "duration": 253,
    "start_time": "2023-06-11T21:43:46.429Z"
   },
   {
    "duration": 13,
    "start_time": "2023-06-11T21:43:46.683Z"
   },
   {
    "duration": 4,
    "start_time": "2023-06-11T21:43:46.697Z"
   },
   {
    "duration": 4729,
    "start_time": "2023-06-11T21:43:46.702Z"
   },
   {
    "duration": 493,
    "start_time": "2023-06-11T21:43:51.433Z"
   },
   {
    "duration": 4,
    "start_time": "2023-06-11T21:43:51.928Z"
   },
   {
    "duration": 18542,
    "start_time": "2023-06-11T21:43:51.933Z"
   },
   {
    "duration": 54,
    "start_time": "2023-06-11T21:44:10.477Z"
   },
   {
    "duration": 5,
    "start_time": "2023-06-11T21:44:10.533Z"
   },
   {
    "duration": 22,
    "start_time": "2023-06-11T21:44:10.539Z"
   },
   {
    "duration": 31,
    "start_time": "2023-06-11T21:44:10.563Z"
   },
   {
    "duration": 20750,
    "start_time": "2023-06-11T21:44:10.600Z"
   },
   {
    "duration": 223,
    "start_time": "2023-06-11T21:44:31.352Z"
   },
   {
    "duration": 14496,
    "start_time": "2023-06-11T21:59:29.693Z"
   },
   {
    "duration": 6182,
    "start_time": "2023-06-11T22:02:12.876Z"
   },
   {
    "duration": 196,
    "start_time": "2023-06-11T22:02:19.060Z"
   },
   {
    "duration": 4,
    "start_time": "2023-06-11T22:02:19.258Z"
   },
   {
    "duration": 224,
    "start_time": "2023-06-11T22:02:22.767Z"
   },
   {
    "duration": 5,
    "start_time": "2023-06-11T22:02:30.191Z"
   },
   {
    "duration": 9,
    "start_time": "2023-06-11T22:03:07.528Z"
   },
   {
    "duration": 5,
    "start_time": "2023-06-11T22:03:08.428Z"
   },
   {
    "duration": 14403,
    "start_time": "2023-06-11T22:03:31.614Z"
   },
   {
    "duration": 12,
    "start_time": "2023-06-11T22:03:48.864Z"
   },
   {
    "duration": 5,
    "start_time": "2023-06-11T22:03:49.488Z"
   },
   {
    "duration": 87,
    "start_time": "2023-06-11T22:09:40.822Z"
   },
   {
    "duration": 1453,
    "start_time": "2023-06-11T22:16:33.709Z"
   },
   {
    "duration": 812,
    "start_time": "2023-06-11T22:16:35.163Z"
   },
   {
    "duration": 134,
    "start_time": "2023-06-11T22:16:35.977Z"
   },
   {
    "duration": 296,
    "start_time": "2023-06-11T22:16:36.113Z"
   },
   {
    "duration": 2439,
    "start_time": "2023-06-11T22:16:36.410Z"
   },
   {
    "duration": 86,
    "start_time": "2023-06-11T22:16:38.851Z"
   },
   {
    "duration": 138,
    "start_time": "2023-06-11T22:16:38.939Z"
   },
   {
    "duration": 146,
    "start_time": "2023-06-11T22:16:39.078Z"
   },
   {
    "duration": 20,
    "start_time": "2023-06-11T22:16:39.226Z"
   },
   {
    "duration": 6,
    "start_time": "2023-06-11T22:16:39.248Z"
   },
   {
    "duration": 37,
    "start_time": "2023-06-11T22:16:39.256Z"
   },
   {
    "duration": 27,
    "start_time": "2023-06-11T22:16:39.295Z"
   },
   {
    "duration": 87,
    "start_time": "2023-06-11T22:16:39.324Z"
   },
   {
    "duration": 7,
    "start_time": "2023-06-11T22:16:39.413Z"
   },
   {
    "duration": 45,
    "start_time": "2023-06-11T22:16:39.425Z"
   },
   {
    "duration": 3,
    "start_time": "2023-06-11T22:16:39.472Z"
   },
   {
    "duration": 35,
    "start_time": "2023-06-11T22:16:39.477Z"
   },
   {
    "duration": 21,
    "start_time": "2023-06-11T22:16:39.514Z"
   },
   {
    "duration": 32,
    "start_time": "2023-06-11T22:16:39.537Z"
   },
   {
    "duration": 10,
    "start_time": "2023-06-11T22:16:39.571Z"
   },
   {
    "duration": 34,
    "start_time": "2023-06-11T22:16:39.583Z"
   },
   {
    "duration": 26,
    "start_time": "2023-06-11T22:16:39.619Z"
   },
   {
    "duration": 7,
    "start_time": "2023-06-11T22:16:39.647Z"
   },
   {
    "duration": 35,
    "start_time": "2023-06-11T22:16:39.655Z"
   },
   {
    "duration": 23,
    "start_time": "2023-06-11T22:16:39.692Z"
   },
   {
    "duration": 15,
    "start_time": "2023-06-11T22:16:39.717Z"
   },
   {
    "duration": 25,
    "start_time": "2023-06-11T22:16:39.734Z"
   },
   {
    "duration": 75,
    "start_time": "2023-06-11T22:16:39.764Z"
   },
   {
    "duration": 11,
    "start_time": "2023-06-11T22:16:39.841Z"
   },
   {
    "duration": 12,
    "start_time": "2023-06-11T22:16:39.854Z"
   },
   {
    "duration": 88,
    "start_time": "2023-06-11T22:16:39.867Z"
   },
   {
    "duration": 149,
    "start_time": "2023-06-11T22:16:39.956Z"
   },
   {
    "duration": 139,
    "start_time": "2023-06-11T22:16:40.107Z"
   },
   {
    "duration": 138,
    "start_time": "2023-06-11T22:16:40.248Z"
   },
   {
    "duration": 11,
    "start_time": "2023-06-11T22:16:40.387Z"
   },
   {
    "duration": 25,
    "start_time": "2023-06-11T22:16:40.400Z"
   },
   {
    "duration": 3,
    "start_time": "2023-06-11T22:16:40.427Z"
   },
   {
    "duration": 112,
    "start_time": "2023-06-11T22:16:40.432Z"
   },
   {
    "duration": 2,
    "start_time": "2023-06-11T22:16:40.546Z"
   },
   {
    "duration": 9,
    "start_time": "2023-06-11T22:16:40.550Z"
   },
   {
    "duration": 7,
    "start_time": "2023-06-11T22:16:40.561Z"
   },
   {
    "duration": 15,
    "start_time": "2023-06-11T22:16:40.570Z"
   },
   {
    "duration": 10,
    "start_time": "2023-06-11T22:16:40.587Z"
   },
   {
    "duration": 11,
    "start_time": "2023-06-11T22:16:40.598Z"
   },
   {
    "duration": 879,
    "start_time": "2023-06-11T22:16:40.611Z"
   },
   {
    "duration": 396,
    "start_time": "2023-06-11T22:16:41.492Z"
   },
   {
    "duration": 3,
    "start_time": "2023-06-11T22:16:41.889Z"
   },
   {
    "duration": 5701,
    "start_time": "2023-06-11T22:16:41.894Z"
   },
   {
    "duration": 208,
    "start_time": "2023-06-11T22:16:47.596Z"
   },
   {
    "duration": 11,
    "start_time": "2023-06-11T22:16:47.805Z"
   },
   {
    "duration": 0,
    "start_time": "2023-06-11T22:16:47.817Z"
   },
   {
    "duration": 0,
    "start_time": "2023-06-11T22:16:47.819Z"
   },
   {
    "duration": 0,
    "start_time": "2023-06-11T22:16:47.820Z"
   },
   {
    "duration": 0,
    "start_time": "2023-06-11T22:16:47.822Z"
   },
   {
    "duration": 0,
    "start_time": "2023-06-11T22:16:47.823Z"
   },
   {
    "duration": 0,
    "start_time": "2023-06-11T22:16:47.824Z"
   },
   {
    "duration": 0,
    "start_time": "2023-06-11T22:16:47.825Z"
   },
   {
    "duration": 0,
    "start_time": "2023-06-11T22:16:47.826Z"
   },
   {
    "duration": 0,
    "start_time": "2023-06-11T22:16:47.827Z"
   },
   {
    "duration": 0,
    "start_time": "2023-06-11T22:16:47.828Z"
   },
   {
    "duration": 0,
    "start_time": "2023-06-11T22:16:47.829Z"
   },
   {
    "duration": 195,
    "start_time": "2023-06-11T22:20:50.982Z"
   },
   {
    "duration": 5,
    "start_time": "2023-06-11T22:21:00.370Z"
   },
   {
    "duration": 15021,
    "start_time": "2023-06-11T22:21:05.948Z"
   },
   {
    "duration": 15,
    "start_time": "2023-06-11T22:21:20.970Z"
   },
   {
    "duration": 5,
    "start_time": "2023-06-11T22:21:20.988Z"
   },
   {
    "duration": 487334,
    "start_time": "2023-06-11T22:21:21.403Z"
   },
   {
    "duration": 910,
    "start_time": "2023-06-11T22:29:28.739Z"
   },
   {
    "duration": 4,
    "start_time": "2023-06-11T22:29:29.651Z"
   },
   {
    "duration": 855,
    "start_time": "2023-06-11T22:33:29.884Z"
   },
   {
    "duration": 13,
    "start_time": "2023-06-11T22:33:30.741Z"
   },
   {
    "duration": 4,
    "start_time": "2023-06-11T22:34:11.609Z"
   },
   {
    "duration": 876,
    "start_time": "2023-06-11T22:35:01.670Z"
   },
   {
    "duration": 5,
    "start_time": "2023-06-11T22:35:02.548Z"
   },
   {
    "duration": 27259,
    "start_time": "2023-06-11T22:35:10.205Z"
   },
   {
    "duration": 26538,
    "start_time": "2023-06-11T22:36:42.036Z"
   },
   {
    "duration": 27628,
    "start_time": "2023-06-11T22:38:31.722Z"
   },
   {
    "duration": 121,
    "start_time": "2023-06-11T22:38:59.352Z"
   },
   {
    "duration": 9,
    "start_time": "2023-06-11T22:38:59.475Z"
   },
   {
    "duration": 3,
    "start_time": "2023-06-11T22:53:38.774Z"
   },
   {
    "duration": 90,
    "start_time": "2023-06-11T22:53:40.674Z"
   },
   {
    "duration": 2,
    "start_time": "2023-06-11T22:53:40.898Z"
   },
   {
    "duration": 2,
    "start_time": "2023-06-11T22:53:41.591Z"
   },
   {
    "duration": 3,
    "start_time": "2023-06-11T22:53:41.718Z"
   },
   {
    "duration": 3,
    "start_time": "2023-06-11T22:53:41.747Z"
   },
   {
    "duration": 2,
    "start_time": "2023-06-11T22:53:41.952Z"
   },
   {
    "duration": 2,
    "start_time": "2023-06-11T22:53:42.851Z"
   },
   {
    "duration": 725,
    "start_time": "2023-06-11T22:53:42.886Z"
   },
   {
    "duration": 26351,
    "start_time": "2023-06-11T22:54:08.826Z"
   },
   {
    "duration": 385975,
    "start_time": "2023-06-11T22:55:55.162Z"
   },
   {
    "duration": 3,
    "start_time": "2023-06-11T23:03:48.418Z"
   },
   {
    "duration": 4,
    "start_time": "2023-06-11T23:04:05.426Z"
   },
   {
    "duration": 29,
    "start_time": "2023-06-11T23:05:51.830Z"
   },
   {
    "duration": 4,
    "start_time": "2023-06-11T23:05:53.902Z"
   },
   {
    "duration": 12,
    "start_time": "2023-06-11T23:07:46.931Z"
   },
   {
    "duration": 9,
    "start_time": "2023-06-11T23:07:55.489Z"
   },
   {
    "duration": 4,
    "start_time": "2023-06-11T23:07:56.023Z"
   },
   {
    "duration": 1384,
    "start_time": "2023-06-11T23:08:18.014Z"
   },
   {
    "duration": 754,
    "start_time": "2023-06-11T23:08:19.400Z"
   },
   {
    "duration": 136,
    "start_time": "2023-06-11T23:08:20.155Z"
   },
   {
    "duration": 266,
    "start_time": "2023-06-11T23:08:20.293Z"
   },
   {
    "duration": 2221,
    "start_time": "2023-06-11T23:08:20.560Z"
   },
   {
    "duration": 78,
    "start_time": "2023-06-11T23:08:22.783Z"
   },
   {
    "duration": 123,
    "start_time": "2023-06-11T23:08:22.863Z"
   },
   {
    "duration": 122,
    "start_time": "2023-06-11T23:08:22.987Z"
   },
   {
    "duration": 20,
    "start_time": "2023-06-11T23:08:23.110Z"
   },
   {
    "duration": 6,
    "start_time": "2023-06-11T23:08:23.132Z"
   },
   {
    "duration": 35,
    "start_time": "2023-06-11T23:08:23.140Z"
   },
   {
    "duration": 24,
    "start_time": "2023-06-11T23:08:23.177Z"
   },
   {
    "duration": 80,
    "start_time": "2023-06-11T23:08:23.203Z"
   },
   {
    "duration": 5,
    "start_time": "2023-06-11T23:08:23.285Z"
   },
   {
    "duration": 37,
    "start_time": "2023-06-11T23:08:23.291Z"
   },
   {
    "duration": 6,
    "start_time": "2023-06-11T23:08:23.330Z"
   },
   {
    "duration": 18,
    "start_time": "2023-06-11T23:08:23.337Z"
   },
   {
    "duration": 25,
    "start_time": "2023-06-11T23:08:23.356Z"
   },
   {
    "duration": 29,
    "start_time": "2023-06-11T23:08:23.382Z"
   },
   {
    "duration": 8,
    "start_time": "2023-06-11T23:08:23.413Z"
   },
   {
    "duration": 26,
    "start_time": "2023-06-11T23:08:23.423Z"
   },
   {
    "duration": 8,
    "start_time": "2023-06-11T23:08:23.450Z"
   },
   {
    "duration": 19,
    "start_time": "2023-06-11T23:08:23.460Z"
   },
   {
    "duration": 26,
    "start_time": "2023-06-11T23:08:23.480Z"
   },
   {
    "duration": 15,
    "start_time": "2023-06-11T23:08:23.508Z"
   },
   {
    "duration": 5,
    "start_time": "2023-06-11T23:08:23.524Z"
   },
   {
    "duration": 41,
    "start_time": "2023-06-11T23:08:23.530Z"
   },
   {
    "duration": 55,
    "start_time": "2023-06-11T23:08:23.575Z"
   },
   {
    "duration": 11,
    "start_time": "2023-06-11T23:08:23.631Z"
   },
   {
    "duration": 15,
    "start_time": "2023-06-11T23:08:23.643Z"
   },
   {
    "duration": 68,
    "start_time": "2023-06-11T23:08:23.659Z"
   },
   {
    "duration": 128,
    "start_time": "2023-06-11T23:08:23.728Z"
   },
   {
    "duration": 119,
    "start_time": "2023-06-11T23:08:23.857Z"
   },
   {
    "duration": 115,
    "start_time": "2023-06-11T23:08:23.978Z"
   },
   {
    "duration": 10,
    "start_time": "2023-06-11T23:08:24.094Z"
   },
   {
    "duration": 19,
    "start_time": "2023-06-11T23:08:24.106Z"
   },
   {
    "duration": 7,
    "start_time": "2023-06-11T23:08:24.127Z"
   },
   {
    "duration": 96,
    "start_time": "2023-06-11T23:08:24.136Z"
   },
   {
    "duration": 2,
    "start_time": "2023-06-11T23:08:24.234Z"
   },
   {
    "duration": 17,
    "start_time": "2023-06-11T23:08:24.238Z"
   },
   {
    "duration": 5,
    "start_time": "2023-06-11T23:08:24.256Z"
   },
   {
    "duration": 9,
    "start_time": "2023-06-11T23:08:24.262Z"
   },
   {
    "duration": 12,
    "start_time": "2023-06-11T23:08:24.272Z"
   },
   {
    "duration": 15,
    "start_time": "2023-06-11T23:08:24.285Z"
   },
   {
    "duration": 770,
    "start_time": "2023-06-11T23:08:24.301Z"
   },
   {
    "duration": 360,
    "start_time": "2023-06-11T23:08:25.073Z"
   },
   {
    "duration": 3,
    "start_time": "2023-06-11T23:08:25.435Z"
   },
   {
    "duration": 5080,
    "start_time": "2023-06-11T23:08:25.440Z"
   },
   {
    "duration": 173,
    "start_time": "2023-06-11T23:08:30.524Z"
   },
   {
    "duration": 4,
    "start_time": "2023-06-11T23:08:30.699Z"
   },
   {
    "duration": 14243,
    "start_time": "2023-06-11T23:08:30.705Z"
   },
   {
    "duration": 11,
    "start_time": "2023-06-11T23:08:44.950Z"
   },
   {
    "duration": 11,
    "start_time": "2023-06-11T23:08:44.962Z"
   },
   {
    "duration": 467473,
    "start_time": "2023-06-11T23:08:44.975Z"
   },
   {
    "duration": 900,
    "start_time": "2023-06-11T23:16:32.525Z"
   },
   {
    "duration": 4,
    "start_time": "2023-06-11T23:16:33.427Z"
   },
   {
    "duration": 377715,
    "start_time": "2023-06-11T23:16:33.432Z"
   },
   {
    "duration": 29,
    "start_time": "2023-06-11T23:22:51.148Z"
   },
   {
    "duration": 5,
    "start_time": "2023-06-11T23:22:51.179Z"
   },
   {
    "duration": 35,
    "start_time": "2023-06-11T23:22:51.185Z"
   },
   {
    "duration": 43,
    "start_time": "2023-06-11T23:22:51.222Z"
   },
   {
    "duration": 3,
    "start_time": "2023-06-11T23:31:46.602Z"
   },
   {
    "duration": 9,
    "start_time": "2023-06-11T23:31:47.119Z"
   },
   {
    "duration": 1422,
    "start_time": "2023-06-12T00:06:45.813Z"
   },
   {
    "duration": 835,
    "start_time": "2023-06-12T00:06:47.237Z"
   },
   {
    "duration": 137,
    "start_time": "2023-06-12T00:06:48.073Z"
   },
   {
    "duration": 271,
    "start_time": "2023-06-12T00:06:48.212Z"
   },
   {
    "duration": 2360,
    "start_time": "2023-06-12T00:06:48.485Z"
   },
   {
    "duration": 80,
    "start_time": "2023-06-12T00:06:50.847Z"
   },
   {
    "duration": 143,
    "start_time": "2023-06-12T00:06:50.928Z"
   },
   {
    "duration": 135,
    "start_time": "2023-06-12T00:06:51.073Z"
   },
   {
    "duration": 21,
    "start_time": "2023-06-12T00:06:51.210Z"
   },
   {
    "duration": 14,
    "start_time": "2023-06-12T00:06:51.234Z"
   },
   {
    "duration": 24,
    "start_time": "2023-06-12T00:06:51.249Z"
   },
   {
    "duration": 25,
    "start_time": "2023-06-12T00:06:51.275Z"
   },
   {
    "duration": 77,
    "start_time": "2023-06-12T00:06:51.302Z"
   },
   {
    "duration": 5,
    "start_time": "2023-06-12T00:06:51.381Z"
   },
   {
    "duration": 37,
    "start_time": "2023-06-12T00:06:51.387Z"
   },
   {
    "duration": 2,
    "start_time": "2023-06-12T00:06:51.426Z"
   },
   {
    "duration": 9,
    "start_time": "2023-06-12T00:06:51.429Z"
   },
   {
    "duration": 12,
    "start_time": "2023-06-12T00:06:51.440Z"
   },
   {
    "duration": 25,
    "start_time": "2023-06-12T00:06:51.454Z"
   },
   {
    "duration": 10,
    "start_time": "2023-06-12T00:06:51.481Z"
   },
   {
    "duration": 40,
    "start_time": "2023-06-12T00:06:51.492Z"
   },
   {
    "duration": 9,
    "start_time": "2023-06-12T00:06:51.534Z"
   },
   {
    "duration": 5,
    "start_time": "2023-06-12T00:06:51.544Z"
   },
   {
    "duration": 22,
    "start_time": "2023-06-12T00:06:51.550Z"
   },
   {
    "duration": 22,
    "start_time": "2023-06-12T00:06:51.574Z"
   },
   {
    "duration": 6,
    "start_time": "2023-06-12T00:06:51.597Z"
   },
   {
    "duration": 23,
    "start_time": "2023-06-12T00:06:51.624Z"
   },
   {
    "duration": 58,
    "start_time": "2023-06-12T00:06:51.650Z"
   },
   {
    "duration": 12,
    "start_time": "2023-06-12T00:06:51.725Z"
   },
   {
    "duration": 13,
    "start_time": "2023-06-12T00:06:51.739Z"
   },
   {
    "duration": 89,
    "start_time": "2023-06-12T00:06:51.753Z"
   },
   {
    "duration": 137,
    "start_time": "2023-06-12T00:06:51.843Z"
   },
   {
    "duration": 126,
    "start_time": "2023-06-12T00:06:51.982Z"
   },
   {
    "duration": 115,
    "start_time": "2023-06-12T00:06:52.110Z"
   },
   {
    "duration": 11,
    "start_time": "2023-06-12T00:06:52.226Z"
   },
   {
    "duration": 11,
    "start_time": "2023-06-12T00:06:52.238Z"
   },
   {
    "duration": 4,
    "start_time": "2023-06-12T00:06:52.250Z"
   },
   {
    "duration": 117,
    "start_time": "2023-06-12T00:06:52.255Z"
   },
   {
    "duration": 3,
    "start_time": "2023-06-12T00:06:52.373Z"
   },
   {
    "duration": 15,
    "start_time": "2023-06-12T00:06:52.377Z"
   },
   {
    "duration": 9,
    "start_time": "2023-06-12T00:06:52.394Z"
   },
   {
    "duration": 18,
    "start_time": "2023-06-12T00:06:52.404Z"
   },
   {
    "duration": 6,
    "start_time": "2023-06-12T00:06:52.423Z"
   },
   {
    "duration": 27,
    "start_time": "2023-06-12T00:06:52.430Z"
   },
   {
    "duration": 785,
    "start_time": "2023-06-12T00:06:52.470Z"
   },
   {
    "duration": 371,
    "start_time": "2023-06-12T00:06:53.257Z"
   },
   {
    "duration": 2,
    "start_time": "2023-06-12T00:06:53.630Z"
   },
   {
    "duration": 5495,
    "start_time": "2023-06-12T00:06:53.634Z"
   },
   {
    "duration": 187,
    "start_time": "2023-06-12T00:06:59.131Z"
   },
   {
    "duration": 6,
    "start_time": "2023-06-12T00:06:59.320Z"
   },
   {
    "duration": 14924,
    "start_time": "2023-06-12T00:06:59.327Z"
   },
   {
    "duration": 11,
    "start_time": "2023-06-12T00:07:14.253Z"
   },
   {
    "duration": 4,
    "start_time": "2023-06-12T00:07:14.266Z"
   },
   {
    "duration": 379555,
    "start_time": "2023-06-12T00:07:14.271Z"
   },
   {
    "duration": 807,
    "start_time": "2023-06-12T00:13:33.827Z"
   },
   {
    "duration": 4,
    "start_time": "2023-06-12T00:13:34.635Z"
   },
   {
    "duration": 390008,
    "start_time": "2023-06-12T00:13:34.641Z"
   },
   {
    "duration": 31,
    "start_time": "2023-06-12T00:20:04.651Z"
   },
   {
    "duration": 4,
    "start_time": "2023-06-12T00:20:04.684Z"
   },
   {
    "duration": 22,
    "start_time": "2023-06-12T00:20:04.689Z"
   },
   {
    "duration": 27,
    "start_time": "2023-06-12T00:20:04.713Z"
   },
   {
    "duration": 2026,
    "start_time": "2023-06-12T19:43:46.035Z"
   },
   {
    "duration": 1428,
    "start_time": "2023-06-12T19:43:48.063Z"
   },
   {
    "duration": 145,
    "start_time": "2023-06-12T19:43:49.492Z"
   },
   {
    "duration": 367,
    "start_time": "2023-06-12T19:43:49.639Z"
   },
   {
    "duration": 2731,
    "start_time": "2023-06-12T19:43:50.007Z"
   },
   {
    "duration": 97,
    "start_time": "2023-06-12T19:43:52.741Z"
   },
   {
    "duration": 174,
    "start_time": "2023-06-12T19:43:52.840Z"
   },
   {
    "duration": 148,
    "start_time": "2023-06-12T19:43:53.016Z"
   },
   {
    "duration": 21,
    "start_time": "2023-06-12T19:43:53.619Z"
   },
   {
    "duration": 4,
    "start_time": "2023-06-12T19:43:54.411Z"
   },
   {
    "duration": 1605,
    "start_time": "2023-06-12T20:34:22.453Z"
   },
   {
    "duration": 1092,
    "start_time": "2023-06-12T20:34:24.061Z"
   },
   {
    "duration": 120,
    "start_time": "2023-06-12T20:34:25.155Z"
   },
   {
    "duration": 267,
    "start_time": "2023-06-12T20:34:25.277Z"
   },
   {
    "duration": 2314,
    "start_time": "2023-06-12T20:34:25.546Z"
   },
   {
    "duration": 83,
    "start_time": "2023-06-12T20:34:27.861Z"
   },
   {
    "duration": 134,
    "start_time": "2023-06-12T20:34:27.946Z"
   },
   {
    "duration": 2,
    "start_time": "2023-06-12T20:34:28.081Z"
   },
   {
    "duration": 24,
    "start_time": "2023-06-12T20:34:28.084Z"
   },
   {
    "duration": 26,
    "start_time": "2023-06-12T20:34:28.110Z"
   },
   {
    "duration": 17,
    "start_time": "2023-06-12T20:34:28.138Z"
   },
   {
    "duration": 22,
    "start_time": "2023-06-12T20:34:28.156Z"
   },
   {
    "duration": 15,
    "start_time": "2023-06-12T20:34:28.180Z"
   },
   {
    "duration": 20,
    "start_time": "2023-06-12T20:34:28.197Z"
   },
   {
    "duration": 22,
    "start_time": "2023-06-12T20:34:28.219Z"
   },
   {
    "duration": 95,
    "start_time": "2023-06-12T20:34:28.243Z"
   },
   {
    "duration": 7,
    "start_time": "2023-06-12T20:34:28.340Z"
   },
   {
    "duration": 51,
    "start_time": "2023-06-12T20:34:28.348Z"
   },
   {
    "duration": 4,
    "start_time": "2023-06-12T20:34:28.400Z"
   },
   {
    "duration": 8,
    "start_time": "2023-06-12T20:34:28.406Z"
   },
   {
    "duration": 10,
    "start_time": "2023-06-12T20:34:28.416Z"
   },
   {
    "duration": 32,
    "start_time": "2023-06-12T20:34:28.428Z"
   },
   {
    "duration": 11,
    "start_time": "2023-06-12T20:34:28.463Z"
   },
   {
    "duration": 44,
    "start_time": "2023-06-12T20:34:28.476Z"
   },
   {
    "duration": 9,
    "start_time": "2023-06-12T20:34:28.522Z"
   },
   {
    "duration": 3,
    "start_time": "2023-06-12T20:34:28.532Z"
   },
   {
    "duration": 20,
    "start_time": "2023-06-12T20:34:28.536Z"
   },
   {
    "duration": 37,
    "start_time": "2023-06-12T20:34:28.559Z"
   },
   {
    "duration": 9,
    "start_time": "2023-06-12T20:34:28.597Z"
   },
   {
    "duration": 45,
    "start_time": "2023-06-12T20:34:28.607Z"
   },
   {
    "duration": 64,
    "start_time": "2023-06-12T20:34:28.654Z"
   },
   {
    "duration": 13,
    "start_time": "2023-06-12T20:34:28.720Z"
   },
   {
    "duration": 30,
    "start_time": "2023-06-12T20:34:28.734Z"
   },
   {
    "duration": 65,
    "start_time": "2023-06-12T20:34:28.766Z"
   },
   {
    "duration": 136,
    "start_time": "2023-06-12T20:34:28.833Z"
   },
   {
    "duration": 127,
    "start_time": "2023-06-12T20:34:28.970Z"
   },
   {
    "duration": 131,
    "start_time": "2023-06-12T20:34:29.099Z"
   },
   {
    "duration": 11,
    "start_time": "2023-06-12T20:34:29.232Z"
   },
   {
    "duration": 18,
    "start_time": "2023-06-12T20:34:29.244Z"
   },
   {
    "duration": 2,
    "start_time": "2023-06-12T20:34:29.264Z"
   },
   {
    "duration": 129,
    "start_time": "2023-06-12T20:34:29.268Z"
   },
   {
    "duration": 2,
    "start_time": "2023-06-12T20:34:29.398Z"
   },
   {
    "duration": 65,
    "start_time": "2023-06-12T20:34:29.402Z"
   },
   {
    "duration": 4,
    "start_time": "2023-06-12T20:34:29.469Z"
   },
   {
    "duration": 6,
    "start_time": "2023-06-12T20:34:29.475Z"
   },
   {
    "duration": 10,
    "start_time": "2023-06-12T20:34:29.482Z"
   },
   {
    "duration": 11,
    "start_time": "2023-06-12T20:34:29.493Z"
   },
   {
    "duration": 813,
    "start_time": "2023-06-12T20:34:29.505Z"
   },
   {
    "duration": 408,
    "start_time": "2023-06-12T20:34:30.320Z"
   },
   {
    "duration": 3,
    "start_time": "2023-06-12T20:34:30.729Z"
   },
   {
    "duration": 6261,
    "start_time": "2023-06-12T20:34:30.733Z"
   },
   {
    "duration": 214,
    "start_time": "2023-06-12T20:34:36.996Z"
   },
   {
    "duration": 4,
    "start_time": "2023-06-12T20:34:37.212Z"
   },
   {
    "duration": 16357,
    "start_time": "2023-06-12T20:34:37.218Z"
   },
   {
    "duration": 3,
    "start_time": "2023-06-12T20:34:53.576Z"
   },
   {
    "duration": 24,
    "start_time": "2023-06-12T20:34:53.581Z"
   },
   {
    "duration": 23,
    "start_time": "2023-06-12T20:34:53.607Z"
   },
   {
    "duration": 4,
    "start_time": "2023-06-12T20:34:53.632Z"
   },
   {
    "duration": 446116,
    "start_time": "2023-06-12T20:34:53.637Z"
   },
   {
    "duration": 103,
    "start_time": "2023-06-12T20:42:19.755Z"
   },
   {
    "duration": 14,
    "start_time": "2023-06-12T20:42:19.860Z"
   },
   {
    "duration": 0,
    "start_time": "2023-06-12T20:42:19.876Z"
   },
   {
    "duration": 0,
    "start_time": "2023-06-12T20:42:19.878Z"
   },
   {
    "duration": 0,
    "start_time": "2023-06-12T20:42:19.879Z"
   },
   {
    "duration": 0,
    "start_time": "2023-06-12T20:42:19.881Z"
   },
   {
    "duration": 0,
    "start_time": "2023-06-12T20:42:19.882Z"
   },
   {
    "duration": 0,
    "start_time": "2023-06-12T20:42:19.884Z"
   },
   {
    "duration": 3,
    "start_time": "2023-06-12T20:42:20.458Z"
   },
   {
    "duration": 15,
    "start_time": "2023-06-12T20:42:20.793Z"
   },
   {
    "duration": 4,
    "start_time": "2023-06-12T20:43:55.517Z"
   },
   {
    "duration": 4,
    "start_time": "2023-06-12T20:44:09.135Z"
   },
   {
    "duration": 141,
    "start_time": "2023-06-12T20:44:22.130Z"
   },
   {
    "duration": 17822,
    "start_time": "2023-06-12T20:44:36.442Z"
   },
   {
    "duration": 2,
    "start_time": "2023-06-12T20:44:54.266Z"
   },
   {
    "duration": 17,
    "start_time": "2023-06-12T20:44:54.269Z"
   },
   {
    "duration": 51,
    "start_time": "2023-06-12T21:16:35.742Z"
   },
   {
    "duration": 5852,
    "start_time": "2023-06-12T21:17:03.577Z"
   },
   {
    "duration": 1364,
    "start_time": "2023-06-12T21:32:32.227Z"
   },
   {
    "duration": 817,
    "start_time": "2023-06-12T21:32:33.595Z"
   },
   {
    "duration": 146,
    "start_time": "2023-06-12T21:32:34.414Z"
   },
   {
    "duration": 363,
    "start_time": "2023-06-12T21:32:34.562Z"
   },
   {
    "duration": 2384,
    "start_time": "2023-06-12T21:32:34.928Z"
   },
   {
    "duration": 77,
    "start_time": "2023-06-12T21:32:37.313Z"
   },
   {
    "duration": 133,
    "start_time": "2023-06-12T21:32:37.392Z"
   },
   {
    "duration": 3,
    "start_time": "2023-06-12T21:32:37.526Z"
   },
   {
    "duration": 44,
    "start_time": "2023-06-12T21:32:37.531Z"
   },
   {
    "duration": 32,
    "start_time": "2023-06-12T21:32:37.578Z"
   },
   {
    "duration": 22,
    "start_time": "2023-06-12T21:32:37.612Z"
   },
   {
    "duration": 39,
    "start_time": "2023-06-12T21:32:37.636Z"
   },
   {
    "duration": 6,
    "start_time": "2023-06-12T21:32:37.677Z"
   },
   {
    "duration": 22,
    "start_time": "2023-06-12T21:32:37.685Z"
   },
   {
    "duration": 25,
    "start_time": "2023-06-12T21:32:37.709Z"
   },
   {
    "duration": 91,
    "start_time": "2023-06-12T21:32:37.736Z"
   },
   {
    "duration": 6,
    "start_time": "2023-06-12T21:32:37.829Z"
   },
   {
    "duration": 36,
    "start_time": "2023-06-12T21:32:37.837Z"
   },
   {
    "duration": 2,
    "start_time": "2023-06-12T21:32:37.874Z"
   },
   {
    "duration": 17,
    "start_time": "2023-06-12T21:32:37.878Z"
   },
   {
    "duration": 8,
    "start_time": "2023-06-12T21:32:37.897Z"
   },
   {
    "duration": 34,
    "start_time": "2023-06-12T21:32:37.906Z"
   },
   {
    "duration": 13,
    "start_time": "2023-06-12T21:32:37.942Z"
   },
   {
    "duration": 61,
    "start_time": "2023-06-12T21:32:37.957Z"
   },
   {
    "duration": 11,
    "start_time": "2023-06-12T21:32:38.020Z"
   },
   {
    "duration": 2,
    "start_time": "2023-06-12T21:32:38.033Z"
   },
   {
    "duration": 22,
    "start_time": "2023-06-12T21:32:38.037Z"
   },
   {
    "duration": 38,
    "start_time": "2023-06-12T21:32:38.063Z"
   },
   {
    "duration": 5,
    "start_time": "2023-06-12T21:32:38.103Z"
   },
   {
    "duration": 35,
    "start_time": "2023-06-12T21:32:38.109Z"
   },
   {
    "duration": 94,
    "start_time": "2023-06-12T21:32:38.145Z"
   },
   {
    "duration": 12,
    "start_time": "2023-06-12T21:32:38.240Z"
   },
   {
    "duration": 17,
    "start_time": "2023-06-12T21:32:38.254Z"
   },
   {
    "duration": 81,
    "start_time": "2023-06-12T21:32:38.273Z"
   },
   {
    "duration": 180,
    "start_time": "2023-06-12T21:32:38.356Z"
   },
   {
    "duration": 192,
    "start_time": "2023-06-12T21:32:38.539Z"
   },
   {
    "duration": 132,
    "start_time": "2023-06-12T21:32:38.733Z"
   },
   {
    "duration": 11,
    "start_time": "2023-06-12T21:32:38.866Z"
   },
   {
    "duration": 25,
    "start_time": "2023-06-12T21:32:38.878Z"
   },
   {
    "duration": 11,
    "start_time": "2023-06-12T21:32:38.904Z"
   },
   {
    "duration": 111,
    "start_time": "2023-06-12T21:32:38.917Z"
   },
   {
    "duration": 3,
    "start_time": "2023-06-12T21:32:39.029Z"
   },
   {
    "duration": 23,
    "start_time": "2023-06-12T21:32:39.033Z"
   },
   {
    "duration": 18,
    "start_time": "2023-06-12T21:32:39.057Z"
   },
   {
    "duration": 11,
    "start_time": "2023-06-12T21:32:39.077Z"
   },
   {
    "duration": 15,
    "start_time": "2023-06-12T21:32:39.090Z"
   },
   {
    "duration": 16,
    "start_time": "2023-06-12T21:32:39.107Z"
   },
   {
    "duration": 776,
    "start_time": "2023-06-12T21:32:39.125Z"
   },
   {
    "duration": 394,
    "start_time": "2023-06-12T21:32:39.903Z"
   },
   {
    "duration": 3,
    "start_time": "2023-06-12T21:32:40.299Z"
   },
   {
    "duration": 6253,
    "start_time": "2023-06-12T21:32:40.304Z"
   },
   {
    "duration": 203,
    "start_time": "2023-06-12T21:32:46.558Z"
   },
   {
    "duration": 4,
    "start_time": "2023-06-12T21:32:46.763Z"
   },
   {
    "duration": 16131,
    "start_time": "2023-06-12T21:32:46.769Z"
   },
   {
    "duration": 399,
    "start_time": "2023-06-12T21:33:02.901Z"
   },
   {
    "duration": 4,
    "start_time": "2023-06-12T21:33:03.302Z"
   },
   {
    "duration": 26,
    "start_time": "2023-06-12T21:33:03.308Z"
   },
   {
    "duration": 28,
    "start_time": "2023-06-12T21:33:03.336Z"
   },
   {
    "duration": 2876777,
    "start_time": "2023-06-12T21:33:03.366Z"
   },
   {
    "duration": 14,
    "start_time": "2023-06-12T22:21:00.145Z"
   },
   {
    "duration": 0,
    "start_time": "2023-06-12T22:21:00.160Z"
   },
   {
    "duration": 0,
    "start_time": "2023-06-12T22:21:00.161Z"
   },
   {
    "duration": 0,
    "start_time": "2023-06-12T22:21:00.162Z"
   },
   {
    "duration": 0,
    "start_time": "2023-06-12T22:21:00.163Z"
   },
   {
    "duration": 0,
    "start_time": "2023-06-12T22:21:00.164Z"
   },
   {
    "duration": 0,
    "start_time": "2023-06-12T22:21:00.165Z"
   },
   {
    "duration": 0,
    "start_time": "2023-06-12T22:21:00.166Z"
   },
   {
    "duration": 0,
    "start_time": "2023-06-12T22:21:00.167Z"
   },
   {
    "duration": 1808,
    "start_time": "2023-06-12T22:32:19.209Z"
   },
   {
    "duration": 952,
    "start_time": "2023-06-12T22:32:21.019Z"
   },
   {
    "duration": 180,
    "start_time": "2023-06-12T22:32:21.972Z"
   },
   {
    "duration": 372,
    "start_time": "2023-06-12T22:32:22.155Z"
   },
   {
    "duration": 2779,
    "start_time": "2023-06-12T22:32:22.531Z"
   },
   {
    "duration": 88,
    "start_time": "2023-06-12T22:32:25.312Z"
   },
   {
    "duration": 137,
    "start_time": "2023-06-12T22:32:25.401Z"
   },
   {
    "duration": 3,
    "start_time": "2023-06-12T22:32:25.539Z"
   },
   {
    "duration": 39,
    "start_time": "2023-06-12T22:32:25.544Z"
   },
   {
    "duration": 35,
    "start_time": "2023-06-12T22:32:25.585Z"
   },
   {
    "duration": 22,
    "start_time": "2023-06-12T22:32:25.621Z"
   },
   {
    "duration": 22,
    "start_time": "2023-06-12T22:32:25.645Z"
   },
   {
    "duration": 18,
    "start_time": "2023-06-12T22:32:25.668Z"
   },
   {
    "duration": 44,
    "start_time": "2023-06-12T22:32:25.689Z"
   },
   {
    "duration": 41,
    "start_time": "2023-06-12T22:32:25.735Z"
   },
   {
    "duration": 93,
    "start_time": "2023-06-12T22:32:25.778Z"
   },
   {
    "duration": 7,
    "start_time": "2023-06-12T22:32:25.873Z"
   },
   {
    "duration": 42,
    "start_time": "2023-06-12T22:32:25.882Z"
   },
   {
    "duration": 3,
    "start_time": "2023-06-12T22:32:25.925Z"
   },
   {
    "duration": 8,
    "start_time": "2023-06-12T22:32:25.929Z"
   },
   {
    "duration": 19,
    "start_time": "2023-06-12T22:32:25.939Z"
   },
   {
    "duration": 54,
    "start_time": "2023-06-12T22:32:25.960Z"
   },
   {
    "duration": 12,
    "start_time": "2023-06-12T22:32:26.016Z"
   },
   {
    "duration": 25,
    "start_time": "2023-06-12T22:32:26.030Z"
   },
   {
    "duration": 9,
    "start_time": "2023-06-12T22:32:26.057Z"
   },
   {
    "duration": 3,
    "start_time": "2023-06-12T22:32:26.067Z"
   },
   {
    "duration": 42,
    "start_time": "2023-06-12T22:32:26.071Z"
   },
   {
    "duration": 14,
    "start_time": "2023-06-12T22:32:26.115Z"
   },
   {
    "duration": 6,
    "start_time": "2023-06-12T22:32:26.131Z"
   },
   {
    "duration": 34,
    "start_time": "2023-06-12T22:32:26.138Z"
   },
   {
    "duration": 84,
    "start_time": "2023-06-12T22:32:26.174Z"
   },
   {
    "duration": 13,
    "start_time": "2023-06-12T22:32:26.259Z"
   },
   {
    "duration": 48,
    "start_time": "2023-06-12T22:32:26.273Z"
   },
   {
    "duration": 97,
    "start_time": "2023-06-12T22:32:26.322Z"
   },
   {
    "duration": 159,
    "start_time": "2023-06-12T22:32:26.421Z"
   },
   {
    "duration": 155,
    "start_time": "2023-06-12T22:32:26.582Z"
   },
   {
    "duration": 148,
    "start_time": "2023-06-12T22:32:26.738Z"
   },
   {
    "duration": 20,
    "start_time": "2023-06-12T22:32:26.888Z"
   },
   {
    "duration": 13,
    "start_time": "2023-06-12T22:32:26.915Z"
   },
   {
    "duration": 4,
    "start_time": "2023-06-12T22:32:26.930Z"
   },
   {
    "duration": 176,
    "start_time": "2023-06-12T22:32:26.940Z"
   },
   {
    "duration": 2,
    "start_time": "2023-06-12T22:32:27.118Z"
   },
   {
    "duration": 20,
    "start_time": "2023-06-12T22:32:27.122Z"
   },
   {
    "duration": 22,
    "start_time": "2023-06-12T22:32:27.144Z"
   },
   {
    "duration": 7,
    "start_time": "2023-06-12T22:32:27.168Z"
   },
   {
    "duration": 10,
    "start_time": "2023-06-12T22:32:27.177Z"
   },
   {
    "duration": 37,
    "start_time": "2023-06-12T22:32:27.189Z"
   },
   {
    "duration": 861,
    "start_time": "2023-06-12T22:32:27.228Z"
   },
   {
    "duration": 437,
    "start_time": "2023-06-12T22:32:28.094Z"
   },
   {
    "duration": 3,
    "start_time": "2023-06-12T22:32:28.532Z"
   },
   {
    "duration": 6513,
    "start_time": "2023-06-12T22:32:28.536Z"
   },
   {
    "duration": 201,
    "start_time": "2023-06-12T22:32:35.050Z"
   },
   {
    "duration": 4,
    "start_time": "2023-06-12T22:32:35.253Z"
   },
   {
    "duration": 17227,
    "start_time": "2023-06-12T22:32:35.259Z"
   },
   {
    "duration": 393,
    "start_time": "2023-06-12T22:32:52.488Z"
   },
   {
    "duration": 4,
    "start_time": "2023-06-12T22:32:52.882Z"
   },
   {
    "duration": 31,
    "start_time": "2023-06-12T22:32:52.887Z"
   },
   {
    "duration": 5,
    "start_time": "2023-06-12T22:32:52.919Z"
   },
   {
    "duration": 1524,
    "start_time": "2023-06-12T22:43:44.110Z"
   },
   {
    "duration": 846,
    "start_time": "2023-06-12T22:43:45.637Z"
   },
   {
    "duration": 159,
    "start_time": "2023-06-12T22:43:46.485Z"
   },
   {
    "duration": 284,
    "start_time": "2023-06-12T22:43:46.646Z"
   },
   {
    "duration": 2524,
    "start_time": "2023-06-12T22:43:46.932Z"
   },
   {
    "duration": 87,
    "start_time": "2023-06-12T22:43:49.457Z"
   },
   {
    "duration": 133,
    "start_time": "2023-06-12T22:43:49.546Z"
   },
   {
    "duration": 2,
    "start_time": "2023-06-12T22:43:49.681Z"
   },
   {
    "duration": 49,
    "start_time": "2023-06-12T22:43:49.685Z"
   },
   {
    "duration": 28,
    "start_time": "2023-06-12T22:43:49.737Z"
   },
   {
    "duration": 20,
    "start_time": "2023-06-12T22:43:49.766Z"
   },
   {
    "duration": 40,
    "start_time": "2023-06-12T22:43:49.788Z"
   },
   {
    "duration": 15,
    "start_time": "2023-06-12T22:43:49.829Z"
   },
   {
    "duration": 32,
    "start_time": "2023-06-12T22:43:49.847Z"
   },
   {
    "duration": 37,
    "start_time": "2023-06-12T22:43:49.880Z"
   },
   {
    "duration": 100,
    "start_time": "2023-06-12T22:43:49.919Z"
   },
   {
    "duration": 7,
    "start_time": "2023-06-12T22:43:50.021Z"
   },
   {
    "duration": 58,
    "start_time": "2023-06-12T22:43:50.030Z"
   },
   {
    "duration": 2,
    "start_time": "2023-06-12T22:43:50.091Z"
   },
   {
    "duration": 27,
    "start_time": "2023-06-12T22:43:50.095Z"
   },
   {
    "duration": 18,
    "start_time": "2023-06-12T22:43:50.124Z"
   },
   {
    "duration": 39,
    "start_time": "2023-06-12T22:43:50.144Z"
   },
   {
    "duration": 26,
    "start_time": "2023-06-12T22:43:50.184Z"
   },
   {
    "duration": 32,
    "start_time": "2023-06-12T22:43:50.212Z"
   },
   {
    "duration": 10,
    "start_time": "2023-06-12T22:43:50.246Z"
   },
   {
    "duration": 4,
    "start_time": "2023-06-12T22:43:50.258Z"
   },
   {
    "duration": 22,
    "start_time": "2023-06-12T22:43:50.264Z"
   },
   {
    "duration": 32,
    "start_time": "2023-06-12T22:43:50.287Z"
   },
   {
    "duration": 5,
    "start_time": "2023-06-12T22:43:50.321Z"
   },
   {
    "duration": 41,
    "start_time": "2023-06-12T22:43:50.327Z"
   },
   {
    "duration": 69,
    "start_time": "2023-06-12T22:43:50.369Z"
   },
   {
    "duration": 24,
    "start_time": "2023-06-12T22:43:50.439Z"
   },
   {
    "duration": 24,
    "start_time": "2023-06-12T22:43:50.465Z"
   },
   {
    "duration": 87,
    "start_time": "2023-06-12T22:43:50.490Z"
   },
   {
    "duration": 154,
    "start_time": "2023-06-12T22:43:50.578Z"
   },
   {
    "duration": 131,
    "start_time": "2023-06-12T22:43:50.733Z"
   },
   {
    "duration": 148,
    "start_time": "2023-06-12T22:43:50.865Z"
   },
   {
    "duration": 14,
    "start_time": "2023-06-12T22:43:51.015Z"
   },
   {
    "duration": 14,
    "start_time": "2023-06-12T22:43:51.031Z"
   },
   {
    "duration": 4,
    "start_time": "2023-06-12T22:43:51.046Z"
   },
   {
    "duration": 135,
    "start_time": "2023-06-12T22:43:51.056Z"
   },
   {
    "duration": 16,
    "start_time": "2023-06-12T22:43:51.194Z"
   },
   {
    "duration": 9,
    "start_time": "2023-06-12T22:43:51.212Z"
   },
   {
    "duration": 19,
    "start_time": "2023-06-12T22:43:51.222Z"
   },
   {
    "duration": 12,
    "start_time": "2023-06-12T22:43:51.243Z"
   },
   {
    "duration": 38,
    "start_time": "2023-06-12T22:43:51.257Z"
   },
   {
    "duration": 25,
    "start_time": "2023-06-12T22:43:51.297Z"
   },
   {
    "duration": 916,
    "start_time": "2023-06-12T22:43:51.323Z"
   },
   {
    "duration": 408,
    "start_time": "2023-06-12T22:43:52.240Z"
   },
   {
    "duration": 2,
    "start_time": "2023-06-12T22:43:52.649Z"
   },
   {
    "duration": 6477,
    "start_time": "2023-06-12T22:43:52.653Z"
   },
   {
    "duration": 205,
    "start_time": "2023-06-12T22:43:59.132Z"
   },
   {
    "duration": 5,
    "start_time": "2023-06-12T22:43:59.338Z"
   },
   {
    "duration": 17671,
    "start_time": "2023-06-12T22:43:59.345Z"
   },
   {
    "duration": 407,
    "start_time": "2023-06-12T22:44:17.018Z"
   },
   {
    "duration": 5,
    "start_time": "2023-06-12T22:44:17.427Z"
   },
   {
    "duration": 36,
    "start_time": "2023-06-12T22:44:17.433Z"
   },
   {
    "duration": 17,
    "start_time": "2023-06-12T22:44:17.471Z"
   },
   {
    "duration": 441659,
    "start_time": "2023-06-12T22:44:17.489Z"
   },
   {
    "duration": 9,
    "start_time": "2023-06-12T22:51:39.150Z"
   },
   {
    "duration": 0,
    "start_time": "2023-06-12T22:51:39.161Z"
   },
   {
    "duration": 0,
    "start_time": "2023-06-12T22:51:39.162Z"
   },
   {
    "duration": 0,
    "start_time": "2023-06-12T22:51:39.163Z"
   },
   {
    "duration": 0,
    "start_time": "2023-06-12T22:51:39.164Z"
   },
   {
    "duration": 0,
    "start_time": "2023-06-12T22:51:39.166Z"
   },
   {
    "duration": 0,
    "start_time": "2023-06-12T22:51:39.166Z"
   },
   {
    "duration": 0,
    "start_time": "2023-06-12T22:51:39.167Z"
   },
   {
    "duration": 0,
    "start_time": "2023-06-12T22:51:39.168Z"
   },
   {
    "duration": 0,
    "start_time": "2023-06-12T22:51:39.168Z"
   },
   {
    "duration": 0,
    "start_time": "2023-06-12T22:51:39.169Z"
   },
   {
    "duration": 1792,
    "start_time": "2023-06-12T22:52:21.409Z"
   },
   {
    "duration": 933,
    "start_time": "2023-06-12T22:52:23.206Z"
   },
   {
    "duration": 161,
    "start_time": "2023-06-12T22:52:24.141Z"
   },
   {
    "duration": 327,
    "start_time": "2023-06-12T22:52:24.305Z"
   },
   {
    "duration": 2777,
    "start_time": "2023-06-12T22:52:24.634Z"
   },
   {
    "duration": 93,
    "start_time": "2023-06-12T22:52:27.412Z"
   },
   {
    "duration": 126,
    "start_time": "2023-06-12T22:52:27.510Z"
   },
   {
    "duration": 2,
    "start_time": "2023-06-12T22:52:27.638Z"
   },
   {
    "duration": 28,
    "start_time": "2023-06-12T22:52:27.642Z"
   },
   {
    "duration": 34,
    "start_time": "2023-06-12T22:52:27.673Z"
   },
   {
    "duration": 32,
    "start_time": "2023-06-12T22:52:27.712Z"
   },
   {
    "duration": 24,
    "start_time": "2023-06-12T22:52:27.746Z"
   },
   {
    "duration": 13,
    "start_time": "2023-06-12T22:52:27.772Z"
   },
   {
    "duration": 32,
    "start_time": "2023-06-12T22:52:27.786Z"
   },
   {
    "duration": 24,
    "start_time": "2023-06-12T22:52:27.820Z"
   },
   {
    "duration": 96,
    "start_time": "2023-06-12T22:52:27.845Z"
   },
   {
    "duration": 7,
    "start_time": "2023-06-12T22:52:27.942Z"
   },
   {
    "duration": 34,
    "start_time": "2023-06-12T22:52:27.950Z"
   },
   {
    "duration": 17,
    "start_time": "2023-06-12T22:52:27.986Z"
   },
   {
    "duration": 18,
    "start_time": "2023-06-12T22:52:28.006Z"
   },
   {
    "duration": 9,
    "start_time": "2023-06-12T22:52:28.026Z"
   },
   {
    "duration": 32,
    "start_time": "2023-06-12T22:52:28.037Z"
   },
   {
    "duration": 13,
    "start_time": "2023-06-12T22:52:28.071Z"
   },
   {
    "duration": 44,
    "start_time": "2023-06-12T22:52:28.086Z"
   },
   {
    "duration": 11,
    "start_time": "2023-06-12T22:52:28.132Z"
   },
   {
    "duration": 3,
    "start_time": "2023-06-12T22:52:28.145Z"
   },
   {
    "duration": 21,
    "start_time": "2023-06-12T22:52:28.150Z"
   },
   {
    "duration": 33,
    "start_time": "2023-06-12T22:52:28.176Z"
   },
   {
    "duration": 13,
    "start_time": "2023-06-12T22:52:28.211Z"
   },
   {
    "duration": 36,
    "start_time": "2023-06-12T22:52:28.226Z"
   },
   {
    "duration": 88,
    "start_time": "2023-06-12T22:52:28.263Z"
   },
   {
    "duration": 12,
    "start_time": "2023-06-12T22:52:28.353Z"
   },
   {
    "duration": 11,
    "start_time": "2023-06-12T22:52:28.367Z"
   },
   {
    "duration": 81,
    "start_time": "2023-06-12T22:52:28.395Z"
   },
   {
    "duration": 163,
    "start_time": "2023-06-12T22:52:28.477Z"
   },
   {
    "duration": 143,
    "start_time": "2023-06-12T22:52:28.641Z"
   },
   {
    "duration": 149,
    "start_time": "2023-06-12T22:52:28.785Z"
   },
   {
    "duration": 12,
    "start_time": "2023-06-12T22:52:28.936Z"
   },
   {
    "duration": 15,
    "start_time": "2023-06-12T22:52:28.949Z"
   },
   {
    "duration": 4,
    "start_time": "2023-06-12T22:52:28.966Z"
   },
   {
    "duration": 117,
    "start_time": "2023-06-12T22:52:28.996Z"
   },
   {
    "duration": 2,
    "start_time": "2023-06-12T22:52:29.115Z"
   },
   {
    "duration": 20,
    "start_time": "2023-06-12T22:52:29.119Z"
   },
   {
    "duration": 21,
    "start_time": "2023-06-12T22:52:29.141Z"
   },
   {
    "duration": 5,
    "start_time": "2023-06-12T22:52:29.164Z"
   },
   {
    "duration": 21,
    "start_time": "2023-06-12T22:52:29.171Z"
   },
   {
    "duration": 17,
    "start_time": "2023-06-12T22:52:29.200Z"
   },
   {
    "duration": 904,
    "start_time": "2023-06-12T22:52:29.218Z"
   },
   {
    "duration": 442,
    "start_time": "2023-06-12T22:52:30.123Z"
   },
   {
    "duration": 2,
    "start_time": "2023-06-12T22:52:30.567Z"
   },
   {
    "duration": 6739,
    "start_time": "2023-06-12T22:52:30.571Z"
   },
   {
    "duration": 204,
    "start_time": "2023-06-12T22:52:37.311Z"
   },
   {
    "duration": 4,
    "start_time": "2023-06-12T22:52:37.516Z"
   },
   {
    "duration": 17327,
    "start_time": "2023-06-12T22:52:37.522Z"
   },
   {
    "duration": 397,
    "start_time": "2023-06-12T22:52:54.850Z"
   },
   {
    "duration": 4,
    "start_time": "2023-06-12T22:52:55.249Z"
   },
   {
    "duration": 14,
    "start_time": "2023-06-12T22:52:55.254Z"
   },
   {
    "duration": 4,
    "start_time": "2023-06-12T22:52:55.270Z"
   },
   {
    "duration": 1544,
    "start_time": "2023-06-12T22:53:11.865Z"
   },
   {
    "duration": 914,
    "start_time": "2023-06-12T22:53:13.411Z"
   },
   {
    "duration": 140,
    "start_time": "2023-06-12T22:53:14.327Z"
   },
   {
    "duration": 356,
    "start_time": "2023-06-12T22:53:14.469Z"
   },
   {
    "duration": 2688,
    "start_time": "2023-06-12T22:53:14.828Z"
   },
   {
    "duration": 97,
    "start_time": "2023-06-12T22:53:17.518Z"
   },
   {
    "duration": 139,
    "start_time": "2023-06-12T22:53:17.617Z"
   },
   {
    "duration": 3,
    "start_time": "2023-06-12T22:53:17.757Z"
   },
   {
    "duration": 30,
    "start_time": "2023-06-12T22:53:17.761Z"
   },
   {
    "duration": 26,
    "start_time": "2023-06-12T22:53:17.800Z"
   },
   {
    "duration": 27,
    "start_time": "2023-06-12T22:53:17.827Z"
   },
   {
    "duration": 25,
    "start_time": "2023-06-12T22:53:17.856Z"
   },
   {
    "duration": 7,
    "start_time": "2023-06-12T22:53:17.883Z"
   },
   {
    "duration": 37,
    "start_time": "2023-06-12T22:53:17.894Z"
   },
   {
    "duration": 32,
    "start_time": "2023-06-12T22:53:17.933Z"
   },
   {
    "duration": 95,
    "start_time": "2023-06-12T22:53:17.966Z"
   },
   {
    "duration": 6,
    "start_time": "2023-06-12T22:53:18.063Z"
   },
   {
    "duration": 46,
    "start_time": "2023-06-12T22:53:18.071Z"
   },
   {
    "duration": 3,
    "start_time": "2023-06-12T22:53:18.118Z"
   },
   {
    "duration": 11,
    "start_time": "2023-06-12T22:53:18.123Z"
   },
   {
    "duration": 18,
    "start_time": "2023-06-12T22:53:18.135Z"
   },
   {
    "duration": 57,
    "start_time": "2023-06-12T22:53:18.155Z"
   },
   {
    "duration": 12,
    "start_time": "2023-06-12T22:53:18.214Z"
   },
   {
    "duration": 44,
    "start_time": "2023-06-12T22:53:18.228Z"
   },
   {
    "duration": 10,
    "start_time": "2023-06-12T22:53:18.273Z"
   },
   {
    "duration": 3,
    "start_time": "2023-06-12T22:53:18.284Z"
   },
   {
    "duration": 42,
    "start_time": "2023-06-12T22:53:18.288Z"
   },
   {
    "duration": 16,
    "start_time": "2023-06-12T22:53:18.334Z"
   },
   {
    "duration": 7,
    "start_time": "2023-06-12T22:53:18.351Z"
   },
   {
    "duration": 27,
    "start_time": "2023-06-12T22:53:18.359Z"
   },
   {
    "duration": 72,
    "start_time": "2023-06-12T22:53:18.396Z"
   },
   {
    "duration": 27,
    "start_time": "2023-06-12T22:53:18.469Z"
   },
   {
    "duration": 16,
    "start_time": "2023-06-12T22:53:18.500Z"
   },
   {
    "duration": 83,
    "start_time": "2023-06-12T22:53:18.519Z"
   },
   {
    "duration": 148,
    "start_time": "2023-06-12T22:53:18.609Z"
   },
   {
    "duration": 152,
    "start_time": "2023-06-12T22:53:18.759Z"
   },
   {
    "duration": 156,
    "start_time": "2023-06-12T22:53:18.912Z"
   },
   {
    "duration": 12,
    "start_time": "2023-06-12T22:53:19.070Z"
   },
   {
    "duration": 32,
    "start_time": "2023-06-12T22:53:19.083Z"
   },
   {
    "duration": 6,
    "start_time": "2023-06-12T22:53:19.117Z"
   },
   {
    "duration": 137,
    "start_time": "2023-06-12T22:53:19.124Z"
   },
   {
    "duration": 2,
    "start_time": "2023-06-12T22:53:19.263Z"
   },
   {
    "duration": 5,
    "start_time": "2023-06-12T22:53:19.267Z"
   },
   {
    "duration": 4,
    "start_time": "2023-06-12T22:53:19.274Z"
   },
   {
    "duration": 5,
    "start_time": "2023-06-12T22:53:19.281Z"
   },
   {
    "duration": 12,
    "start_time": "2023-06-12T22:53:19.295Z"
   },
   {
    "duration": 18,
    "start_time": "2023-06-12T22:53:19.310Z"
   },
   {
    "duration": 937,
    "start_time": "2023-06-12T22:53:19.329Z"
   },
   {
    "duration": 457,
    "start_time": "2023-06-12T22:53:20.268Z"
   },
   {
    "duration": 2,
    "start_time": "2023-06-12T22:53:20.727Z"
   },
   {
    "duration": 6541,
    "start_time": "2023-06-12T22:53:20.731Z"
   },
   {
    "duration": 202,
    "start_time": "2023-06-12T22:53:27.273Z"
   },
   {
    "duration": 4,
    "start_time": "2023-06-12T22:53:27.477Z"
   },
   {
    "duration": 17302,
    "start_time": "2023-06-12T22:53:27.483Z"
   },
   {
    "duration": 413,
    "start_time": "2023-06-12T22:53:44.786Z"
   },
   {
    "duration": 10,
    "start_time": "2023-06-12T22:53:45.200Z"
   },
   {
    "duration": 17,
    "start_time": "2023-06-12T22:53:45.212Z"
   },
   {
    "duration": 5,
    "start_time": "2023-06-12T22:53:45.231Z"
   },
   {
    "duration": 1453,
    "start_time": "2023-06-12T22:55:26.358Z"
   },
   {
    "duration": 822,
    "start_time": "2023-06-12T22:55:27.814Z"
   },
   {
    "duration": 146,
    "start_time": "2023-06-12T22:55:28.637Z"
   },
   {
    "duration": 291,
    "start_time": "2023-06-12T22:55:28.785Z"
   },
   {
    "duration": 2432,
    "start_time": "2023-06-12T22:55:29.077Z"
   },
   {
    "duration": 100,
    "start_time": "2023-06-12T22:55:31.511Z"
   },
   {
    "duration": 170,
    "start_time": "2023-06-12T22:55:31.612Z"
   },
   {
    "duration": 2,
    "start_time": "2023-06-12T22:55:31.784Z"
   },
   {
    "duration": 63,
    "start_time": "2023-06-12T22:55:31.799Z"
   },
   {
    "duration": 38,
    "start_time": "2023-06-12T22:55:31.866Z"
   },
   {
    "duration": 44,
    "start_time": "2023-06-12T22:55:31.906Z"
   },
   {
    "duration": 34,
    "start_time": "2023-06-12T22:55:31.952Z"
   },
   {
    "duration": 37,
    "start_time": "2023-06-12T22:55:31.987Z"
   },
   {
    "duration": 30,
    "start_time": "2023-06-12T22:55:32.026Z"
   },
   {
    "duration": 29,
    "start_time": "2023-06-12T22:55:32.057Z"
   },
   {
    "duration": 142,
    "start_time": "2023-06-12T22:55:32.088Z"
   },
   {
    "duration": 7,
    "start_time": "2023-06-12T22:55:32.232Z"
   },
   {
    "duration": 46,
    "start_time": "2023-06-12T22:55:32.240Z"
   },
   {
    "duration": 15,
    "start_time": "2023-06-12T22:55:32.287Z"
   },
   {
    "duration": 16,
    "start_time": "2023-06-12T22:55:32.304Z"
   },
   {
    "duration": 25,
    "start_time": "2023-06-12T22:55:32.322Z"
   },
   {
    "duration": 47,
    "start_time": "2023-06-12T22:55:32.349Z"
   },
   {
    "duration": 18,
    "start_time": "2023-06-12T22:55:32.397Z"
   },
   {
    "duration": 63,
    "start_time": "2023-06-12T22:55:32.417Z"
   },
   {
    "duration": 25,
    "start_time": "2023-06-12T22:55:32.483Z"
   },
   {
    "duration": 27,
    "start_time": "2023-06-12T22:55:32.517Z"
   },
   {
    "duration": 26,
    "start_time": "2023-06-12T22:55:32.545Z"
   },
   {
    "duration": 13,
    "start_time": "2023-06-12T22:55:32.576Z"
   },
   {
    "duration": 9,
    "start_time": "2023-06-12T22:55:32.591Z"
   },
   {
    "duration": 44,
    "start_time": "2023-06-12T22:55:32.603Z"
   },
   {
    "duration": 71,
    "start_time": "2023-06-12T22:55:32.648Z"
   },
   {
    "duration": 13,
    "start_time": "2023-06-12T22:55:32.721Z"
   },
   {
    "duration": 47,
    "start_time": "2023-06-12T22:55:32.736Z"
   },
   {
    "duration": 96,
    "start_time": "2023-06-12T22:55:32.785Z"
   },
   {
    "duration": 165,
    "start_time": "2023-06-12T22:55:32.883Z"
   },
   {
    "duration": 147,
    "start_time": "2023-06-12T22:55:33.050Z"
   },
   {
    "duration": 136,
    "start_time": "2023-06-12T22:55:33.207Z"
   },
   {
    "duration": 12,
    "start_time": "2023-06-12T22:55:33.345Z"
   },
   {
    "duration": 13,
    "start_time": "2023-06-12T22:55:33.359Z"
   },
   {
    "duration": 30,
    "start_time": "2023-06-12T22:55:33.374Z"
   },
   {
    "duration": 132,
    "start_time": "2023-06-12T22:55:33.409Z"
   },
   {
    "duration": 3,
    "start_time": "2023-06-12T22:55:33.542Z"
   },
   {
    "duration": 10,
    "start_time": "2023-06-12T22:55:33.546Z"
   },
   {
    "duration": 9,
    "start_time": "2023-06-12T22:55:33.557Z"
   },
   {
    "duration": 6,
    "start_time": "2023-06-12T22:55:33.567Z"
   },
   {
    "duration": 9,
    "start_time": "2023-06-12T22:55:33.574Z"
   },
   {
    "duration": 17,
    "start_time": "2023-06-12T22:55:33.585Z"
   },
   {
    "duration": 872,
    "start_time": "2023-06-12T22:55:33.603Z"
   },
   {
    "duration": 484,
    "start_time": "2023-06-12T22:55:34.477Z"
   },
   {
    "duration": 2,
    "start_time": "2023-06-12T22:55:34.963Z"
   },
   {
    "duration": 6471,
    "start_time": "2023-06-12T22:55:34.966Z"
   },
   {
    "duration": 203,
    "start_time": "2023-06-12T22:55:41.439Z"
   },
   {
    "duration": 4,
    "start_time": "2023-06-12T22:55:41.643Z"
   },
   {
    "duration": 17237,
    "start_time": "2023-06-12T22:55:41.649Z"
   },
   {
    "duration": 385,
    "start_time": "2023-06-12T22:55:58.887Z"
   },
   {
    "duration": 4,
    "start_time": "2023-06-12T22:55:59.274Z"
   },
   {
    "duration": 23,
    "start_time": "2023-06-12T22:55:59.280Z"
   },
   {
    "duration": 19,
    "start_time": "2023-06-12T22:55:59.310Z"
   },
   {
    "duration": 1621,
    "start_time": "2023-06-12T23:00:51.355Z"
   },
   {
    "duration": 903,
    "start_time": "2023-06-12T23:00:52.979Z"
   },
   {
    "duration": 162,
    "start_time": "2023-06-12T23:00:53.883Z"
   },
   {
    "duration": 291,
    "start_time": "2023-06-12T23:00:54.046Z"
   },
   {
    "duration": 2641,
    "start_time": "2023-06-12T23:00:54.339Z"
   },
   {
    "duration": 96,
    "start_time": "2023-06-12T23:00:56.982Z"
   },
   {
    "duration": 147,
    "start_time": "2023-06-12T23:00:57.079Z"
   },
   {
    "duration": 2,
    "start_time": "2023-06-12T23:00:57.228Z"
   },
   {
    "duration": 36,
    "start_time": "2023-06-12T23:00:57.231Z"
   },
   {
    "duration": 35,
    "start_time": "2023-06-12T23:00:57.269Z"
   },
   {
    "duration": 37,
    "start_time": "2023-06-12T23:00:57.307Z"
   },
   {
    "duration": 24,
    "start_time": "2023-06-12T23:00:57.345Z"
   },
   {
    "duration": 5,
    "start_time": "2023-06-12T23:00:57.370Z"
   },
   {
    "duration": 40,
    "start_time": "2023-06-12T23:00:57.379Z"
   },
   {
    "duration": 49,
    "start_time": "2023-06-12T23:00:57.421Z"
   },
   {
    "duration": 119,
    "start_time": "2023-06-12T23:00:57.473Z"
   },
   {
    "duration": 7,
    "start_time": "2023-06-12T23:00:57.595Z"
   },
   {
    "duration": 50,
    "start_time": "2023-06-12T23:00:57.604Z"
   },
   {
    "duration": 2,
    "start_time": "2023-06-12T23:00:57.656Z"
   },
   {
    "duration": 11,
    "start_time": "2023-06-12T23:00:57.660Z"
   },
   {
    "duration": 13,
    "start_time": "2023-06-12T23:00:57.672Z"
   },
   {
    "duration": 38,
    "start_time": "2023-06-12T23:00:57.687Z"
   },
   {
    "duration": 21,
    "start_time": "2023-06-12T23:00:57.727Z"
   },
   {
    "duration": 29,
    "start_time": "2023-06-12T23:00:57.751Z"
   },
   {
    "duration": 28,
    "start_time": "2023-06-12T23:00:57.782Z"
   },
   {
    "duration": 20,
    "start_time": "2023-06-12T23:00:57.816Z"
   },
   {
    "duration": 22,
    "start_time": "2023-06-12T23:00:57.838Z"
   },
   {
    "duration": 17,
    "start_time": "2023-06-12T23:00:57.861Z"
   },
   {
    "duration": 9,
    "start_time": "2023-06-12T23:00:57.880Z"
   },
   {
    "duration": 41,
    "start_time": "2023-06-12T23:00:57.891Z"
   },
   {
    "duration": 72,
    "start_time": "2023-06-12T23:00:57.934Z"
   },
   {
    "duration": 15,
    "start_time": "2023-06-12T23:00:58.008Z"
   },
   {
    "duration": 57,
    "start_time": "2023-06-12T23:00:58.027Z"
   },
   {
    "duration": 113,
    "start_time": "2023-06-12T23:00:58.086Z"
   },
   {
    "duration": 188,
    "start_time": "2023-06-12T23:00:58.201Z"
   },
   {
    "duration": 174,
    "start_time": "2023-06-12T23:00:58.395Z"
   },
   {
    "duration": 157,
    "start_time": "2023-06-12T23:00:58.571Z"
   },
   {
    "duration": 14,
    "start_time": "2023-06-12T23:00:58.730Z"
   },
   {
    "duration": 17,
    "start_time": "2023-06-12T23:00:58.747Z"
   },
   {
    "duration": 6,
    "start_time": "2023-06-12T23:00:58.766Z"
   },
   {
    "duration": 188,
    "start_time": "2023-06-12T23:00:58.778Z"
   },
   {
    "duration": 2,
    "start_time": "2023-06-12T23:00:58.969Z"
   },
   {
    "duration": 6,
    "start_time": "2023-06-12T23:00:58.974Z"
   },
   {
    "duration": 6,
    "start_time": "2023-06-12T23:00:58.982Z"
   },
   {
    "duration": 9,
    "start_time": "2023-06-12T23:00:58.999Z"
   },
   {
    "duration": 22,
    "start_time": "2023-06-12T23:00:59.009Z"
   },
   {
    "duration": 8,
    "start_time": "2023-06-12T23:00:59.033Z"
   },
   {
    "duration": 926,
    "start_time": "2023-06-12T23:00:59.043Z"
   },
   {
    "duration": 572,
    "start_time": "2023-06-12T23:00:59.970Z"
   },
   {
    "duration": 3,
    "start_time": "2023-06-12T23:01:00.544Z"
   },
   {
    "duration": 7058,
    "start_time": "2023-06-12T23:01:00.549Z"
   },
   {
    "duration": 220,
    "start_time": "2023-06-12T23:01:07.611Z"
   },
   {
    "duration": 6,
    "start_time": "2023-06-12T23:01:07.833Z"
   },
   {
    "duration": 20090,
    "start_time": "2023-06-12T23:01:07.840Z"
   },
   {
    "duration": 443,
    "start_time": "2023-06-12T23:01:27.935Z"
   },
   {
    "duration": 15,
    "start_time": "2023-06-12T23:01:28.380Z"
   },
   {
    "duration": 18,
    "start_time": "2023-06-12T23:01:28.396Z"
   },
   {
    "duration": 42,
    "start_time": "2023-06-12T23:01:28.419Z"
   },
   {
    "duration": 133246,
    "start_time": "2023-06-12T23:01:28.464Z"
   },
   {
    "duration": 229,
    "start_time": "2023-06-12T23:03:41.716Z"
   },
   {
    "duration": 10,
    "start_time": "2023-06-12T23:03:41.946Z"
   },
   {
    "duration": 0,
    "start_time": "2023-06-12T23:03:41.957Z"
   },
   {
    "duration": 0,
    "start_time": "2023-06-12T23:03:41.958Z"
   },
   {
    "duration": 0,
    "start_time": "2023-06-12T23:03:41.959Z"
   },
   {
    "duration": 0,
    "start_time": "2023-06-12T23:03:41.960Z"
   },
   {
    "duration": 0,
    "start_time": "2023-06-12T23:03:41.961Z"
   },
   {
    "duration": 0,
    "start_time": "2023-06-12T23:03:41.962Z"
   },
   {
    "duration": 0,
    "start_time": "2023-06-12T23:03:41.963Z"
   },
   {
    "duration": 139,
    "start_time": "2023-06-12T23:05:31.168Z"
   },
   {
    "duration": 6,
    "start_time": "2023-06-12T23:05:32.621Z"
   },
   {
    "duration": 497386,
    "start_time": "2023-06-12T23:05:51.868Z"
   },
   {
    "duration": 18,
    "start_time": "2023-06-12T23:14:23.011Z"
   },
   {
    "duration": 5,
    "start_time": "2023-06-12T23:14:29.019Z"
   },
   {
    "duration": 44,
    "start_time": "2023-06-12T23:15:10.478Z"
   },
   {
    "duration": 9,
    "start_time": "2023-06-12T23:15:10.914Z"
   },
   {
    "duration": 6,
    "start_time": "2023-06-12T23:16:28.920Z"
   },
   {
    "duration": 12,
    "start_time": "2023-06-12T23:16:29.373Z"
   },
   {
    "duration": 33,
    "start_time": "2023-06-12T23:16:32.748Z"
   },
   {
    "duration": 38,
    "start_time": "2023-06-12T23:19:34.320Z"
   },
   {
    "duration": 2925,
    "start_time": "2023-06-12T23:22:53.970Z"
   },
   {
    "duration": 29181,
    "start_time": "2023-06-12T23:23:10.426Z"
   },
   {
    "duration": 463,
    "start_time": "2023-06-12T23:24:00.056Z"
   },
   {
    "duration": 4,
    "start_time": "2023-06-12T23:24:00.849Z"
   },
   {
    "duration": 79350,
    "start_time": "2023-06-12T23:24:28.948Z"
   },
   {
    "duration": 17790,
    "start_time": "2023-06-12T23:27:25.004Z"
   },
   {
    "duration": 87,
    "start_time": "2023-06-12T23:27:42.796Z"
   },
   {
    "duration": 4,
    "start_time": "2023-06-12T23:27:42.885Z"
   },
   {
    "duration": 49,
    "start_time": "2023-06-12T23:27:54.501Z"
   },
   {
    "duration": 14,
    "start_time": "2023-06-12T23:27:55.654Z"
   },
   {
    "duration": 22,
    "start_time": "2023-06-12T23:27:56.091Z"
   },
   {
    "duration": 3,
    "start_time": "2023-06-12T23:27:56.458Z"
   },
   {
    "duration": 15,
    "start_time": "2023-06-12T23:27:57.163Z"
   },
   {
    "duration": 3,
    "start_time": "2023-06-12T23:27:58.120Z"
   },
   {
    "duration": 37,
    "start_time": "2023-06-12T23:29:34.187Z"
   },
   {
    "duration": 15,
    "start_time": "2023-06-12T23:29:34.869Z"
   },
   {
    "duration": 14,
    "start_time": "2023-06-12T23:29:35.093Z"
   },
   {
    "duration": 14,
    "start_time": "2023-06-12T23:29:35.307Z"
   },
   {
    "duration": 16,
    "start_time": "2023-06-12T23:29:35.493Z"
   },
   {
    "duration": 4,
    "start_time": "2023-06-12T23:29:35.726Z"
   },
   {
    "duration": 1420,
    "start_time": "2023-06-12T23:29:43.031Z"
   },
   {
    "duration": 855,
    "start_time": "2023-06-12T23:29:44.453Z"
   },
   {
    "duration": 128,
    "start_time": "2023-06-12T23:29:45.309Z"
   },
   {
    "duration": 278,
    "start_time": "2023-06-12T23:29:45.439Z"
   },
   {
    "duration": 3201,
    "start_time": "2023-06-12T23:29:45.719Z"
   },
   {
    "duration": 88,
    "start_time": "2023-06-12T23:29:48.922Z"
   },
   {
    "duration": 126,
    "start_time": "2023-06-12T23:29:49.012Z"
   },
   {
    "duration": 44,
    "start_time": "2023-06-12T23:29:49.139Z"
   },
   {
    "duration": 18,
    "start_time": "2023-06-12T23:29:49.195Z"
   },
   {
    "duration": 24,
    "start_time": "2023-06-12T23:29:49.216Z"
   },
   {
    "duration": 17,
    "start_time": "2023-06-12T23:29:49.242Z"
   },
   {
    "duration": 23,
    "start_time": "2023-06-12T23:29:49.261Z"
   },
   {
    "duration": 23,
    "start_time": "2023-06-12T23:29:49.285Z"
   },
   {
    "duration": 35,
    "start_time": "2023-06-12T23:29:49.310Z"
   },
   {
    "duration": 31,
    "start_time": "2023-06-12T23:29:49.347Z"
   },
   {
    "duration": 93,
    "start_time": "2023-06-12T23:29:49.380Z"
   },
   {
    "duration": 6,
    "start_time": "2023-06-12T23:29:49.475Z"
   },
   {
    "duration": 45,
    "start_time": "2023-06-12T23:29:49.482Z"
   },
   {
    "duration": 2,
    "start_time": "2023-06-12T23:29:49.529Z"
   },
   {
    "duration": 8,
    "start_time": "2023-06-12T23:29:49.533Z"
   },
   {
    "duration": 11,
    "start_time": "2023-06-12T23:29:49.543Z"
   },
   {
    "duration": 31,
    "start_time": "2023-06-12T23:29:49.556Z"
   },
   {
    "duration": 11,
    "start_time": "2023-06-12T23:29:49.595Z"
   },
   {
    "duration": 27,
    "start_time": "2023-06-12T23:29:49.608Z"
   },
   {
    "duration": 8,
    "start_time": "2023-06-12T23:29:49.637Z"
   },
   {
    "duration": 5,
    "start_time": "2023-06-12T23:29:49.647Z"
   },
   {
    "duration": 50,
    "start_time": "2023-06-12T23:29:49.653Z"
   },
   {
    "duration": 13,
    "start_time": "2023-06-12T23:29:49.707Z"
   },
   {
    "duration": 8,
    "start_time": "2023-06-12T23:29:49.721Z"
   },
   {
    "duration": 30,
    "start_time": "2023-06-12T23:29:49.730Z"
   },
   {
    "duration": 83,
    "start_time": "2023-06-12T23:29:49.761Z"
   },
   {
    "duration": 12,
    "start_time": "2023-06-12T23:29:49.846Z"
   },
   {
    "duration": 47,
    "start_time": "2023-06-12T23:29:49.859Z"
   },
   {
    "duration": 121,
    "start_time": "2023-06-12T23:29:49.907Z"
   },
   {
    "duration": 146,
    "start_time": "2023-06-12T23:29:50.030Z"
   },
   {
    "duration": 128,
    "start_time": "2023-06-12T23:29:50.178Z"
   },
   {
    "duration": 125,
    "start_time": "2023-06-12T23:29:50.307Z"
   },
   {
    "duration": 11,
    "start_time": "2023-06-12T23:29:50.434Z"
   },
   {
    "duration": 29,
    "start_time": "2023-06-12T23:29:50.446Z"
   },
   {
    "duration": 22,
    "start_time": "2023-06-12T23:29:50.476Z"
   },
   {
    "duration": 126,
    "start_time": "2023-06-12T23:29:50.499Z"
   },
   {
    "duration": 3,
    "start_time": "2023-06-12T23:29:50.627Z"
   },
   {
    "duration": 20,
    "start_time": "2023-06-12T23:29:50.632Z"
   },
   {
    "duration": 31,
    "start_time": "2023-06-12T23:29:50.653Z"
   },
   {
    "duration": 37,
    "start_time": "2023-06-12T23:29:50.685Z"
   },
   {
    "duration": 18,
    "start_time": "2023-06-12T23:29:50.724Z"
   },
   {
    "duration": 25,
    "start_time": "2023-06-12T23:29:50.744Z"
   },
   {
    "duration": 774,
    "start_time": "2023-06-12T23:29:50.771Z"
   },
   {
    "duration": 373,
    "start_time": "2023-06-12T23:29:51.547Z"
   },
   {
    "duration": 2,
    "start_time": "2023-06-12T23:29:51.921Z"
   },
   {
    "duration": 5924,
    "start_time": "2023-06-12T23:29:51.925Z"
   },
   {
    "duration": 197,
    "start_time": "2023-06-12T23:29:57.851Z"
   },
   {
    "duration": 5,
    "start_time": "2023-06-12T23:29:58.050Z"
   },
   {
    "duration": 16343,
    "start_time": "2023-06-12T23:29:58.056Z"
   },
   {
    "duration": 440,
    "start_time": "2023-06-12T23:30:14.401Z"
   },
   {
    "duration": 4,
    "start_time": "2023-06-12T23:30:14.842Z"
   },
   {
    "duration": 18,
    "start_time": "2023-06-12T23:30:14.847Z"
   },
   {
    "duration": 4,
    "start_time": "2023-06-12T23:30:14.867Z"
   },
   {
    "duration": 1389,
    "start_time": "2023-06-12T23:30:35.727Z"
   },
   {
    "duration": 903,
    "start_time": "2023-06-12T23:30:37.118Z"
   },
   {
    "duration": 186,
    "start_time": "2023-06-12T23:30:38.023Z"
   },
   {
    "duration": 519,
    "start_time": "2023-06-12T23:30:38.211Z"
   },
   {
    "duration": 3180,
    "start_time": "2023-06-12T23:30:38.732Z"
   },
   {
    "duration": 85,
    "start_time": "2023-06-12T23:30:41.914Z"
   },
   {
    "duration": 141,
    "start_time": "2023-06-12T23:30:42.001Z"
   },
   {
    "duration": 57,
    "start_time": "2023-06-12T23:30:42.144Z"
   },
   {
    "duration": 20,
    "start_time": "2023-06-12T23:30:42.203Z"
   },
   {
    "duration": 19,
    "start_time": "2023-06-12T23:30:42.225Z"
   },
   {
    "duration": 3,
    "start_time": "2023-06-12T23:30:42.245Z"
   },
   {
    "duration": 22,
    "start_time": "2023-06-12T23:30:42.250Z"
   },
   {
    "duration": 23,
    "start_time": "2023-06-12T23:30:42.274Z"
   },
   {
    "duration": 21,
    "start_time": "2023-06-12T23:30:42.298Z"
   },
   {
    "duration": 25,
    "start_time": "2023-06-12T23:30:42.321Z"
   },
   {
    "duration": 102,
    "start_time": "2023-06-12T23:30:42.348Z"
   },
   {
    "duration": 7,
    "start_time": "2023-06-12T23:30:42.452Z"
   },
   {
    "duration": 47,
    "start_time": "2023-06-12T23:30:42.461Z"
   },
   {
    "duration": 3,
    "start_time": "2023-06-12T23:30:42.510Z"
   },
   {
    "duration": 4,
    "start_time": "2023-06-12T23:30:42.515Z"
   },
   {
    "duration": 8,
    "start_time": "2023-06-12T23:30:42.521Z"
   },
   {
    "duration": 28,
    "start_time": "2023-06-12T23:30:42.531Z"
   },
   {
    "duration": 40,
    "start_time": "2023-06-12T23:30:42.561Z"
   },
   {
    "duration": 25,
    "start_time": "2023-06-12T23:30:42.603Z"
   },
   {
    "duration": 9,
    "start_time": "2023-06-12T23:30:42.629Z"
   },
   {
    "duration": 11,
    "start_time": "2023-06-12T23:30:42.640Z"
   },
   {
    "duration": 28,
    "start_time": "2023-06-12T23:30:42.652Z"
   },
   {
    "duration": 20,
    "start_time": "2023-06-12T23:30:42.694Z"
   },
   {
    "duration": 23,
    "start_time": "2023-06-12T23:30:42.715Z"
   },
   {
    "duration": 25,
    "start_time": "2023-06-12T23:30:42.739Z"
   },
   {
    "duration": 69,
    "start_time": "2023-06-12T23:30:42.766Z"
   },
   {
    "duration": 12,
    "start_time": "2023-06-12T23:30:42.837Z"
   },
   {
    "duration": 11,
    "start_time": "2023-06-12T23:30:42.850Z"
   },
   {
    "duration": 89,
    "start_time": "2023-06-12T23:30:42.862Z"
   },
   {
    "duration": 147,
    "start_time": "2023-06-12T23:30:42.952Z"
   },
   {
    "duration": 141,
    "start_time": "2023-06-12T23:30:43.101Z"
   },
   {
    "duration": 142,
    "start_time": "2023-06-12T23:30:43.243Z"
   },
   {
    "duration": 17,
    "start_time": "2023-06-12T23:30:43.387Z"
   },
   {
    "duration": 14,
    "start_time": "2023-06-12T23:30:43.405Z"
   },
   {
    "duration": 4,
    "start_time": "2023-06-12T23:30:43.420Z"
   },
   {
    "duration": 122,
    "start_time": "2023-06-12T23:30:43.426Z"
   },
   {
    "duration": 2,
    "start_time": "2023-06-12T23:30:43.550Z"
   },
   {
    "duration": 30,
    "start_time": "2023-06-12T23:30:43.554Z"
   },
   {
    "duration": 12,
    "start_time": "2023-06-12T23:30:43.586Z"
   },
   {
    "duration": 14,
    "start_time": "2023-06-12T23:30:43.600Z"
   },
   {
    "duration": 14,
    "start_time": "2023-06-12T23:30:43.616Z"
   },
   {
    "duration": 11,
    "start_time": "2023-06-12T23:30:43.631Z"
   },
   {
    "duration": 803,
    "start_time": "2023-06-12T23:30:43.644Z"
   },
   {
    "duration": 473,
    "start_time": "2023-06-12T23:30:44.449Z"
   },
   {
    "duration": 2,
    "start_time": "2023-06-12T23:30:44.924Z"
   },
   {
    "duration": 5894,
    "start_time": "2023-06-12T23:30:44.927Z"
   },
   {
    "duration": 192,
    "start_time": "2023-06-12T23:30:50.822Z"
   },
   {
    "duration": 5,
    "start_time": "2023-06-12T23:30:51.015Z"
   },
   {
    "duration": 15963,
    "start_time": "2023-06-12T23:30:51.022Z"
   },
   {
    "duration": 369,
    "start_time": "2023-06-12T23:31:06.987Z"
   },
   {
    "duration": 4,
    "start_time": "2023-06-12T23:31:07.358Z"
   },
   {
    "duration": 59,
    "start_time": "2023-06-12T23:31:07.363Z"
   },
   {
    "duration": 15,
    "start_time": "2023-06-12T23:31:07.423Z"
   },
   {
    "duration": 175661,
    "start_time": "2023-06-12T23:31:07.440Z"
   },
   {
    "duration": 811,
    "start_time": "2023-06-12T23:34:03.102Z"
   },
   {
    "duration": 5,
    "start_time": "2023-06-12T23:34:03.915Z"
   },
   {
    "duration": 411769,
    "start_time": "2023-06-12T23:34:03.922Z"
   },
   {
    "duration": 16,
    "start_time": "2023-06-12T23:40:55.693Z"
   },
   {
    "duration": 45,
    "start_time": "2023-06-12T23:40:55.710Z"
   },
   {
    "duration": 3,
    "start_time": "2023-06-12T23:40:55.757Z"
   },
   {
    "duration": 6,
    "start_time": "2023-06-12T23:40:55.762Z"
   },
   {
    "duration": 21,
    "start_time": "2023-06-12T23:40:55.769Z"
   },
   {
    "duration": 51,
    "start_time": "2023-06-12T23:40:55.791Z"
   },
   {
    "duration": 3,
    "start_time": "2023-06-12T23:59:06.581Z"
   },
   {
    "duration": 8,
    "start_time": "2023-06-12T23:59:06.906Z"
   },
   {
    "duration": 33,
    "start_time": "2023-06-12T23:59:11.601Z"
   }
  ],
  "kernelspec": {
   "display_name": "Python 3 (ipykernel)",
   "language": "python",
   "name": "python3"
  },
  "language_info": {
   "codemirror_mode": {
    "name": "ipython",
    "version": 3
   },
   "file_extension": ".py",
   "mimetype": "text/x-python",
   "name": "python",
   "nbconvert_exporter": "python",
   "pygments_lexer": "ipython3",
   "version": "3.9.5"
  },
  "toc": {
   "base_numbering": 1,
   "nav_menu": {},
   "number_sections": true,
   "sideBar": true,
   "skip_h1_title": true,
   "title_cell": "Table of Contents",
   "title_sidebar": "Contents",
   "toc_cell": false,
   "toc_position": {
    "height": "calc(100% - 180px)",
    "left": "10px",
    "top": "150px",
    "width": "165px"
   },
   "toc_section_display": true,
   "toc_window_display": true
  }
 },
 "nbformat": 4,
 "nbformat_minor": 2
}
