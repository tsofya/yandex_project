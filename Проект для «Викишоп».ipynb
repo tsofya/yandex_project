{
 "cells": [
  {
   "cell_type": "markdown",
   "metadata": {},
   "source": [
    "<div style=\"border:solid green 2px; padding: 20px\">\n",
    "<b>Привет, Софья!</b>\n",
    "\n",
    "Меня зовут Александр, и я буду проверять твой проект. Предлагаю общаться на «ты» :) Но если это не удобно - дай знать, и мы перейдем на \"вы\". \n",
    "\n",
    "Моя основная цель — не указать на совершенные тобою ошибки, а поделиться своим опытом и помочь тебе стать data science. Ты уже проделал большую работу над проектом, но давай сделаем его еще лучше. Ниже ты найдешь мои комментарии - **пожалуйста, не перемещай, не изменяй и не удаляй их**. Увидев у тебя ошибку, в первый раз я лишь укажу на ее наличие и дам тебе возможность самой найти и исправить ее. На реальной работе твой начальник будет поступать так же, а я пытаюсь подготовить тебя именно к работе аналитиком. Но если ты пока не справишься с такой задачей - при следующей проверке я дам более точную подсказку. Я буду использовать цветовую разметку:\n",
    "\n",
    "<div class=\"alert alert-danger\">\n",
    "<b>Комментарий ревьюера ❌:</b> Так выделены самые важные замечания. Без их отработки проект не будет принят. </div>\n",
    "\n",
    "<div class=\"alert alert-warning\">\n",
    "<b>Комментарий ревьюера ⚠️:</b> Так выделены небольшие замечания. Я надеюсь, что их ты тоже учтешь - твой проект от этого станет только лучше. Но настаивать на их отработке не буду.\n",
    "\n",
    "</div>\n",
    "\n",
    "<div class=\"alert alert-success\">\n",
    "<b>Комментарий ревьюера ✔️:</b> Так я выделяю все остальные комментарии.</div>\n",
    "\n",
    "Давай работать над проектом в диалоге: **если ты что-то меняешь в проекте или отвечаешь на мои комменатри — пиши об этом.** Мне будет легче отследить изменения, если ты выделишь свои комментарии:\n",
    "<div class=\"alert alert-info\"> <b>Комментарий студента:</b> Например, вот так.</div>\n",
    "\n",
    "Всё это поможет выполнить повторную проверку твоего проекта оперативнее. "
   ]
  },
  {
   "cell_type": "markdown",
   "metadata": {
    "toc": true
   },
   "source": [
    "<h1>Содержание<span class=\"tocSkip\"></span></h1>\n",
    "<div class=\"toc\"><ul class=\"toc-item\"><li><span><a href=\"#Подготовка\" data-toc-modified-id=\"Подготовка-1\"><span class=\"toc-item-num\">1&nbsp;&nbsp;</span>Подготовка</a></span></li><li><span><a href=\"#Обучение\" data-toc-modified-id=\"Обучение-2\"><span class=\"toc-item-num\">2&nbsp;&nbsp;</span>Обучение</a></span><ul class=\"toc-item\"><li><span><a href=\"#LogisticRegression\" data-toc-modified-id=\"LogisticRegression-2.1\"><span class=\"toc-item-num\">2.1&nbsp;&nbsp;</span>LogisticRegression</a></span></li><li><span><a href=\"#DecisionTreeClassifier\" data-toc-modified-id=\"DecisionTreeClassifier-2.2\"><span class=\"toc-item-num\">2.2&nbsp;&nbsp;</span>DecisionTreeClassifier</a></span></li><li><span><a href=\"#LGBMClassifier\" data-toc-modified-id=\"LGBMClassifier-2.3\"><span class=\"toc-item-num\">2.3&nbsp;&nbsp;</span>LGBMClassifier</a></span></li><li><span><a href=\"#CatBoostClassifier---не-вытягивает-ядро-тренажера,-каждый-раз-при-запуске-пишет,-&quot;Ядро-умерло&quot;\" data-toc-modified-id=\"CatBoostClassifier---не-вытягивает-ядро-тренажера,-каждый-раз-при-запуске-пишет,-&quot;Ядро-умерло&quot;-2.4\"><span class=\"toc-item-num\">2.4&nbsp;&nbsp;</span>CatBoostClassifier - не вытягивает ядро тренажера, каждый раз при запуске пишет, \"Ядро умерло\"</a></span></li></ul></li><li><span><a href=\"#Тестирование\" data-toc-modified-id=\"Тестирование-3\"><span class=\"toc-item-num\">3&nbsp;&nbsp;</span>Тестирование</a></span></li><li><span><a href=\"#Выводы\" data-toc-modified-id=\"Выводы-4\"><span class=\"toc-item-num\">4&nbsp;&nbsp;</span>Выводы</a></span></li><li><span><a href=\"#Чек-лист-проверки\" data-toc-modified-id=\"Чек-лист-проверки-5\"><span class=\"toc-item-num\">5&nbsp;&nbsp;</span>Чек-лист проверки</a></span></li></ul></div>"
   ]
  },
  {
   "cell_type": "markdown",
   "metadata": {},
   "source": [
    "# Проект для «Викишоп»"
   ]
  },
  {
   "cell_type": "markdown",
   "metadata": {},
   "source": [
    "Интернет-магазин «Викишоп» запускает новый сервис. Теперь пользователи могут редактировать и дополнять описания товаров, как в вики-сообществах. То есть клиенты предлагают свои правки и комментируют изменения других. Магазину нужен инструмент, который будет искать токсичные комментарии и отправлять их на модерацию. \n",
    "\n",
    "Обучите модель классифицировать комментарии на позитивные и негативные. В вашем распоряжении набор данных с разметкой о токсичности правок.\n",
    "\n",
    "Постройте модель со значением метрики качества *F1* не меньше 0.75. \n",
    "\n",
    "**Инструкция по выполнению проекта**\n",
    "\n",
    "1. Загрузите и подготовьте данные.\n",
    "2. Обучите разные модели. \n",
    "3. Сделайте выводы.\n",
    "\n",
    "Для выполнения проекта применять *BERT* необязательно, но вы можете попробовать.\n",
    "\n",
    "**Описание данных**\n",
    "\n",
    "Данные находятся в файле `toxic_comments.csv`. Столбец *text* в нём содержит текст комментария, а *toxic* — целевой признак."
   ]
  },
  {
   "cell_type": "markdown",
   "metadata": {},
   "source": [
    "## Подготовка"
   ]
  },
  {
   "cell_type": "code",
   "execution_count": 1,
   "metadata": {
    "scrolled": true
   },
   "outputs": [
    {
     "name": "stderr",
     "output_type": "stream",
     "text": [
      "[nltk_data] Downloading package wordnet to /home/jovyan/nltk_data...\n",
      "[nltk_data]   Package wordnet is already up-to-date!\n",
      "[nltk_data] Downloading package stopwords to /home/jovyan/nltk_data...\n",
      "[nltk_data]   Package stopwords is already up-to-date!\n",
      "[nltk_data] Downloading package punkt to /home/jovyan/nltk_data...\n",
      "[nltk_data]   Package punkt is already up-to-date!\n"
     ]
    }
   ],
   "source": [
    "import pandas as pd\n",
    "import numpy as np\n",
    "import nltk\n",
    "from nltk.stem import WordNetLemmatizer \n",
    "import re\n",
    "from sklearn.feature_extraction.text import TfidfVectorizer\n",
    "from nltk.corpus import stopwords\n",
    "from sklearn.linear_model import LogisticRegression\n",
    "from catboost import CatBoostClassifier\n",
    "from lightgbm import LGBMClassifier\n",
    "from sklearn.model_selection import train_test_split\n",
    "from sklearn.metrics import f1_score, confusion_matrix\n",
    "import warnings\n",
    "from sklearn.linear_model import LinearRegression \n",
    "from sklearn.tree import DecisionTreeClassifier\n",
    "warnings.filterwarnings('ignore')\n",
    "from sklearn.model_selection import train_test_split, cross_val_score, GridSearchCV\n",
    "nltk.download('wordnet')\n",
    "nltk.download('stopwords')\n",
    "nltk.download('punkt')\n",
    "import re\n",
    "from nltk.corpus import stopwords as nltk_stopwords"
   ]
  },
  {
   "cell_type": "code",
   "execution_count": 2,
   "metadata": {},
   "outputs": [
    {
     "data": {
      "text/html": [
       "<div>\n",
       "<style scoped>\n",
       "    .dataframe tbody tr th:only-of-type {\n",
       "        vertical-align: middle;\n",
       "    }\n",
       "\n",
       "    .dataframe tbody tr th {\n",
       "        vertical-align: top;\n",
       "    }\n",
       "\n",
       "    .dataframe thead th {\n",
       "        text-align: right;\n",
       "    }\n",
       "</style>\n",
       "<table border=\"1\" class=\"dataframe\">\n",
       "  <thead>\n",
       "    <tr style=\"text-align: right;\">\n",
       "      <th></th>\n",
       "      <th>Unnamed: 0</th>\n",
       "      <th>text</th>\n",
       "      <th>toxic</th>\n",
       "    </tr>\n",
       "  </thead>\n",
       "  <tbody>\n",
       "    <tr>\n",
       "      <th>0</th>\n",
       "      <td>0</td>\n",
       "      <td>Explanation\\nWhy the edits made under my usern...</td>\n",
       "      <td>0</td>\n",
       "    </tr>\n",
       "    <tr>\n",
       "      <th>1</th>\n",
       "      <td>1</td>\n",
       "      <td>D'aww! He matches this background colour I'm s...</td>\n",
       "      <td>0</td>\n",
       "    </tr>\n",
       "    <tr>\n",
       "      <th>2</th>\n",
       "      <td>2</td>\n",
       "      <td>Hey man, I'm really not trying to edit war. It...</td>\n",
       "      <td>0</td>\n",
       "    </tr>\n",
       "    <tr>\n",
       "      <th>3</th>\n",
       "      <td>3</td>\n",
       "      <td>\"\\nMore\\nI can't make any real suggestions on ...</td>\n",
       "      <td>0</td>\n",
       "    </tr>\n",
       "    <tr>\n",
       "      <th>4</th>\n",
       "      <td>4</td>\n",
       "      <td>You, sir, are my hero. Any chance you remember...</td>\n",
       "      <td>0</td>\n",
       "    </tr>\n",
       "  </tbody>\n",
       "</table>\n",
       "</div>"
      ],
      "text/plain": [
       "   Unnamed: 0                                               text  toxic\n",
       "0           0  Explanation\\nWhy the edits made under my usern...      0\n",
       "1           1  D'aww! He matches this background colour I'm s...      0\n",
       "2           2  Hey man, I'm really not trying to edit war. It...      0\n",
       "3           3  \"\\nMore\\nI can't make any real suggestions on ...      0\n",
       "4           4  You, sir, are my hero. Any chance you remember...      0"
      ]
     },
     "execution_count": 2,
     "metadata": {},
     "output_type": "execute_result"
    }
   ],
   "source": [
    "data = pd.read_csv('/datasets/toxic_comments.csv')\n",
    "data.head(5)"
   ]
  },
  {
   "cell_type": "markdown",
   "metadata": {},
   "source": [
    "<div class=\"alert alert-success\">\n",
    "<b>Комментарий ревьюера ✔️:</b> Огонь, данные на месте;)</div>"
   ]
  },
  {
   "cell_type": "code",
   "execution_count": 3,
   "metadata": {},
   "outputs": [
    {
     "name": "stdout",
     "output_type": "stream",
     "text": [
      "<class 'pandas.core.frame.DataFrame'>\n",
      "RangeIndex: 159292 entries, 0 to 159291\n",
      "Data columns (total 3 columns):\n",
      " #   Column      Non-Null Count   Dtype \n",
      "---  ------      --------------   ----- \n",
      " 0   Unnamed: 0  159292 non-null  int64 \n",
      " 1   text        159292 non-null  object\n",
      " 2   toxic       159292 non-null  int64 \n",
      "dtypes: int64(2), object(1)\n",
      "memory usage: 3.6+ MB\n"
     ]
    }
   ],
   "source": [
    "data.info()"
   ]
  },
  {
   "cell_type": "markdown",
   "metadata": {},
   "source": [
    "Проверим баланс классов"
   ]
  },
  {
   "cell_type": "code",
   "execution_count": 4,
   "metadata": {},
   "outputs": [
    {
     "data": {
      "text/plain": [
       "0    143106\n",
       "1     16186\n",
       "Name: toxic, dtype: int64"
      ]
     },
     "execution_count": 4,
     "metadata": {},
     "output_type": "execute_result"
    }
   ],
   "source": [
    "data['toxic'].value_counts()"
   ]
  },
  {
   "cell_type": "markdown",
   "metadata": {},
   "source": [
    "**Вывод**\n",
    "Классы несбалансированы. Необходимо учитывать это при обучении моделей."
   ]
  },
  {
   "cell_type": "markdown",
   "metadata": {},
   "source": [
    "Напишем функции для очистки и леммитизации "
   ]
  },
  {
   "cell_type": "code",
   "execution_count": 5,
   "metadata": {},
   "outputs": [],
   "source": [
    "def clear_text(text):\n",
    "    re_list = re.sub(r\"[^a-zA-Z']\", ' ', text)\n",
    "    re_list = re_list.split()\n",
    "    re_list = \" \".join(re_list)\n",
    "    return re_list\n",
    "\n",
    "m = WordNetLemmatizer()\n",
    "\n",
    "def lemmatize_text(text):\n",
    "    word_list = nltk.word_tokenize(text)\n",
    "    \n",
    "    return ' '.join([m.lemmatize(w) for w in word_list])"
   ]
  },
  {
   "cell_type": "code",
   "execution_count": 6,
   "metadata": {},
   "outputs": [
    {
     "name": "stdout",
     "output_type": "stream",
     "text": [
      "<class 'pandas.core.frame.DataFrame'>\n",
      "RangeIndex: 159292 entries, 0 to 159291\n",
      "Data columns (total 3 columns):\n",
      " #   Column      Non-Null Count   Dtype \n",
      "---  ------      --------------   ----- \n",
      " 0   Unnamed: 0  159292 non-null  int64 \n",
      " 1   text        159292 non-null  object\n",
      " 2   toxic       159292 non-null  int64 \n",
      "dtypes: int64(2), object(1)\n",
      "memory usage: 3.6+ MB\n"
     ]
    }
   ],
   "source": [
    "data.info()"
   ]
  },
  {
   "cell_type": "code",
   "execution_count": 7,
   "metadata": {},
   "outputs": [
    {
     "data": {
      "text/html": [
       "<div>\n",
       "<style scoped>\n",
       "    .dataframe tbody tr th:only-of-type {\n",
       "        vertical-align: middle;\n",
       "    }\n",
       "\n",
       "    .dataframe tbody tr th {\n",
       "        vertical-align: top;\n",
       "    }\n",
       "\n",
       "    .dataframe thead th {\n",
       "        text-align: right;\n",
       "    }\n",
       "</style>\n",
       "<table border=\"1\" class=\"dataframe\">\n",
       "  <thead>\n",
       "    <tr style=\"text-align: right;\">\n",
       "      <th></th>\n",
       "      <th>Unnamed: 0</th>\n",
       "      <th>text</th>\n",
       "      <th>toxic</th>\n",
       "      <th>lemm_text</th>\n",
       "    </tr>\n",
       "  </thead>\n",
       "  <tbody>\n",
       "    <tr>\n",
       "      <th>0</th>\n",
       "      <td>0</td>\n",
       "      <td>Explanation Why the edits made under my userna...</td>\n",
       "      <td>0</td>\n",
       "      <td>Explanation Why the edits made under my userna...</td>\n",
       "    </tr>\n",
       "    <tr>\n",
       "      <th>1</th>\n",
       "      <td>1</td>\n",
       "      <td>D'aww He matches this background colour I'm se...</td>\n",
       "      <td>0</td>\n",
       "      <td>D'aww He match this background colour I 'm see...</td>\n",
       "    </tr>\n",
       "    <tr>\n",
       "      <th>2</th>\n",
       "      <td>2</td>\n",
       "      <td>Hey man I'm really not trying to edit war It's...</td>\n",
       "      <td>0</td>\n",
       "      <td>Hey man I 'm really not trying to edit war It ...</td>\n",
       "    </tr>\n",
       "    <tr>\n",
       "      <th>3</th>\n",
       "      <td>3</td>\n",
       "      <td>More I can't make any real suggestions on impr...</td>\n",
       "      <td>0</td>\n",
       "      <td>More I ca n't make any real suggestion on impr...</td>\n",
       "    </tr>\n",
       "    <tr>\n",
       "      <th>4</th>\n",
       "      <td>4</td>\n",
       "      <td>You sir are my hero Any chance you remember wh...</td>\n",
       "      <td>0</td>\n",
       "      <td>You sir are my hero Any chance you remember wh...</td>\n",
       "    </tr>\n",
       "  </tbody>\n",
       "</table>\n",
       "</div>"
      ],
      "text/plain": [
       "   Unnamed: 0                                               text  toxic  \\\n",
       "0           0  Explanation Why the edits made under my userna...      0   \n",
       "1           1  D'aww He matches this background colour I'm se...      0   \n",
       "2           2  Hey man I'm really not trying to edit war It's...      0   \n",
       "3           3  More I can't make any real suggestions on impr...      0   \n",
       "4           4  You sir are my hero Any chance you remember wh...      0   \n",
       "\n",
       "                                           lemm_text  \n",
       "0  Explanation Why the edits made under my userna...  \n",
       "1  D'aww He match this background colour I 'm see...  \n",
       "2  Hey man I 'm really not trying to edit war It ...  \n",
       "3  More I ca n't make any real suggestion on impr...  \n",
       "4  You sir are my hero Any chance you remember wh...  "
      ]
     },
     "execution_count": 7,
     "metadata": {},
     "output_type": "execute_result"
    }
   ],
   "source": [
    "data['text'] = data['text'].apply(clear_text)\n",
    "data['lemm_text'] = data['text'].apply(lemmatize_text)\n",
    "data.head()"
   ]
  },
  {
   "cell_type": "markdown",
   "metadata": {},
   "source": [
    "<div class=\"alert alert-success\">\n",
    "<b>Комментарий ревьюера ✔️:</b>\n",
    "Так же можешь попробовать использовать spacy:\n",
    "    \n",
    "```python\n",
    "import spacy\n",
    "nlp = spacy.load('en_core_web_sm')\n",
    "\n",
    "def lemmatize_spacy(text):\n",
    "    return \" \".join([token.lemma_ for token in nlp(text)])\n",
    "\n",
    "data['lemm_spacy'] = data['text'].progress_apply(lemmatize_spacy)     \n",
    "```\n",
    "\n",
    "Вот так можно следить за выполнением функции (как раз выше его использовал)\n",
    "\n",
    "```python\n",
    "    \n",
    "from tqdm import tqdm\n",
    "tqdm.pandas()\n",
    "data['text'] = data['text'].progress_apply(lemmatize_text) \n",
    "```\n",
    "Где *lemmatize_text* - функция\n",
    "\n",
    "    \n",
    "P.S Кстати можно ускорить spacy ( раз в 5 +-)\n",
    "    \n",
    "```python\n",
    "new_corpus = []\n",
    "\n",
    "for doc in tqdm(nlp.pipe(data['text'], batch_size=64, n_process=-1, disable=[\"parser\", \"ner\"]), total=len(data['text'])):\n",
    "    word_list = [tok.lemma_ for tok in doc]\n",
    "    new_corpus.append(' '.join(word_list))\n",
    "    \n",
    "data['lemm_spacy_new'] = new_corpus   \n",
    "    \n",
    "    \n",
    "```\n",
    "    \n",
    "Для больших объемов текста ```SpaCy``` рекомендует использовать ```nlp.pipe```, который может работать в пакетах ```batch_size```(Допустим ```batch_size=64```, тогда все наши данные делятся на 64 пакета (как прям в фолдах, только там мы пишем число на сколько поделить наши данные (3/5/10 частей),а тут пишем, сколько данных отдать в обработку)  и имеет встроенную поддержку многопроцессорной обработки ```n_process``` (аналог ```n_jobs``` для GridSearchCV).\n",
    "\n",
    "Кроме того, нужно убедиться, что мы отключили все элементы конвейера, которые мы не планируем использовать, поскольку они просто потратят время на обработку. Если мы выполняем только лемматизацию, то необходимо передать ```disable=[\"parser\", \"ner\"]``` к ```nlp.pipe```.\n",
    "    \n",
    "    \n",
    "P.S.S Если запустишь ```nlp.pipe```, то первое время нужно подождать прежде, чем начнется обработка \n",
    "</div>"
   ]
  },
  {
   "cell_type": "code",
   "execution_count": 8,
   "metadata": {},
   "outputs": [],
   "source": [
    "state = np.random.RandomState(12345) #фиксируем значение для упрощения кода в дальнейшем"
   ]
  },
  {
   "cell_type": "code",
   "execution_count": 9,
   "metadata": {},
   "outputs": [],
   "source": [
    "target = data['toxic']\n",
    "features = data.drop(['toxic'], axis=1)\n",
    "\n",
    "features_train, features_test, target_train, target_test = train_test_split(features, \n",
    "                                                                              target, \n",
    "                                                                              test_size=0.2, \n",
    "                                                                              random_state=state)"
   ]
  },
  {
   "cell_type": "code",
   "execution_count": 10,
   "metadata": {},
   "outputs": [
    {
     "name": "stderr",
     "output_type": "stream",
     "text": [
      "[nltk_data] Downloading package stopwords to /home/jovyan/nltk_data...\n",
      "[nltk_data]   Package stopwords is already up-to-date!\n"
     ]
    }
   ],
   "source": [
    "nltk.download('stopwords')\n",
    "stopwords = set(nltk_stopwords.words('english'))\n"
   ]
  },
  {
   "cell_type": "code",
   "execution_count": 11,
   "metadata": {},
   "outputs": [],
   "source": [
    "count_tf_idf = TfidfVectorizer(stop_words=stopwords)\n",
    "\n",
    "features_train = count_tf_idf.fit_transform(features_train['lemm_text'].values.astype('U'))\n",
    "features_test = count_tf_idf.transform(features_test['lemm_text'].values.astype('U'))"
   ]
  },
  {
   "cell_type": "markdown",
   "metadata": {},
   "source": [
    "<div class=\"alert alert-warning\">\n",
    "<b>Комментарий ревьюера ⚠️:</b> Перевод в unicode актуально для русского языка, который был в тренажере, в данной задаче это делать нет необходимости\n",
    "\n",
    "</div>"
   ]
  },
  {
   "cell_type": "markdown",
   "metadata": {},
   "source": [
    "<div class=\"alert alert-success\">\n",
    "<b>Комментарий ревьюера ✔️:</b> Отлично, молодец, верно используешь Tfidf.\n",
    "    \n",
    "    \n",
    "Совет: Внутри кросс-валидации происходит разбиение выборки на train и valid. Однако, в таком случае векторизатор обучен на всей выборке(train), а это не совсем корректно. Чтобы избежать это можно воспользоваться Pipeline:\n",
    "    \n",
    "```python\n",
    "pipeline = Pipeline([\n",
    "    ('tfidf', TfidfVectorizer(stop_words=stopwords)),\n",
    "    ('logreg', LogisticRegression(random_state=42)),\n",
    "])\n",
    "parameters = {\n",
    "    'tfidf__max_df': (0.25, 0.5, 0.75),\n",
    "    'tfidf__ngram_range': [(1, 1), (1, 2)],\n",
    "    'logreg__C': [1,2,6]\n",
    "}\n",
    "\n",
    "grid_search_tune = RandomizedSearchCV(pipeline, parameters, cv=3, n_jobs=-1, scoring='f1', verbose=3)\n",
    "grid_search_tune.fit(train_features, train_targets)\n",
    "  \n",
    "    \n",
    "```\n",
    "    \n",
    "Это просто каркас, можешь сам выбрать какие параметры использовать для подбора:) \n",
    "    \n",
    "+  https://runebook.dev/ru/docs/scikit_learn/modules/generated/sklearn.model_selection.halvinggridsearchcv - тут про HalvingGridSearchCV\n",
    "    \n",
    "+  https://www.rupython.com/python-sklearn-pipeline-pipeline-28301.html - про pipeline\n",
    "+  https://towardsdatascience.com/how-to-use-sklearn-pipelines-for-ridiculously-neat-code-a61ab66ca90d\n",
    "\n",
    "</div>"
   ]
  },
  {
   "cell_type": "code",
   "execution_count": 12,
   "metadata": {},
   "outputs": [
    {
     "name": "stdout",
     "output_type": "stream",
     "text": [
      "(127433, 143414)\n",
      "(31859, 143414)\n"
     ]
    }
   ],
   "source": [
    "print(features_train.shape)\n",
    "print(features_test.shape)"
   ]
  },
  {
   "cell_type": "markdown",
   "metadata": {},
   "source": [
    "## Обучение"
   ]
  },
  {
   "cell_type": "markdown",
   "metadata": {},
   "source": [
    "###  LogisticRegression"
   ]
  },
  {
   "cell_type": "code",
   "execution_count": 13,
   "metadata": {},
   "outputs": [
    {
     "name": "stdout",
     "output_type": "stream",
     "text": [
      "F1  0.7598132729892986\n"
     ]
    },
    {
     "data": {
      "text/plain": [
       "{'C': 10, 'class_weight': 'balanced', 'solver': 'newton-cg'}"
      ]
     },
     "execution_count": 13,
     "metadata": {},
     "output_type": "execute_result"
    }
   ],
   "source": [
    "logistic_model = LogisticRegression()\n",
    "param_grid = {'solver':['newton-cg','liblinear'],\n",
    "             'class_weight':['balanced'],\n",
    "             'C' : [10]}\n",
    "grid_search = GridSearchCV(logistic_model, param_grid, scoring='f1',cv=3)\n",
    "grid_search.fit(features_train, target_train)\n",
    "LR_best_params = grid_search.best_params_\n",
    "print('F1 ', grid_search.best_score_)\n",
    "LR_best_params"
   ]
  },
  {
   "cell_type": "markdown",
   "metadata": {},
   "source": [
    "<div class=\"alert alert-warning\">\n",
    "<b>Комментарий ревьюера ⚠️:</b> Хорошо, но почему C:10? Все же стояло по перебирать параметры, например: \n",
    "    \n",
    "+  ```class_weight: [None, 'balanced']``` - да, у нас есть дисбаланс, но вдруг модель и без изменения весов получит лучше результат\n",
    "+  ```C: range(1, 11, 2)``` - от 1 до 11 с шагом 2 это параметр регуляризации (должен помочь)\n",
    "\n",
    "</div>"
   ]
  },
  {
   "cell_type": "markdown",
   "metadata": {},
   "source": [
    "### DecisionTreeClassifier"
   ]
  },
  {
   "cell_type": "code",
   "execution_count": 14,
   "metadata": {},
   "outputs": [
    {
     "name": "stdout",
     "output_type": "stream",
     "text": [
      "F1  0.6377649759281363\n"
     ]
    },
    {
     "data": {
      "text/plain": [
       "{'class_weight': 'balanced', 'max_depth': 100}"
      ]
     },
     "execution_count": 14,
     "metadata": {},
     "output_type": "execute_result"
    }
   ],
   "source": [
    "param_grid = {\n",
    "    'max_depth': [100], \n",
    "    'class_weight':['balanced']\n",
    "}\n",
    "tree_model = DecisionTreeClassifier(random_state=state)\n",
    "grid_search = GridSearchCV(estimator=tree_model, param_grid=param_grid,cv=3,scoring='f1')\n",
    "grid_search.fit(features_train, target_train)\n",
    "best_tree = grid_search.best_params_    \n",
    "print('F1 ', grid_search.best_score_)\n",
    "best_tree"
   ]
  },
  {
   "cell_type": "markdown",
   "metadata": {},
   "source": [
    "### LGBMClassifier"
   ]
  },
  {
   "cell_type": "code",
   "execution_count": 15,
   "metadata": {},
   "outputs": [
    {
     "name": "stdout",
     "output_type": "stream",
     "text": [
      "F1: 0.6827763500163079\n",
      "Лучшие параметры  {'max_depth': 10, 'n_estimators': 100}\n"
     ]
    }
   ],
   "source": [
    "param_grid = {'max_depth' : [10],\n",
    "            'n_estimators' : [100]\n",
    "}\n",
    "lgbm_model = LGBMClassifier(random_state=state)\n",
    "grid_search = GridSearchCV(estimator=lgbm_model, param_grid=param_grid,cv=3,scoring='f1')\n",
    "grid_search.fit(features_train, target_train)\n",
    "best_lgbm = grid_search.best_params_\n",
    "\n",
    "print('F1:', grid_search.best_score_)\n",
    "print('Лучшие параметры ', best_lgbm)"
   ]
  },
  {
   "cell_type": "markdown",
   "metadata": {},
   "source": [
    "### CatBoostClassifier - не вытягивает ядро тренажера, каждый раз при запуске пишет, \"Ядро умерло\""
   ]
  },
  {
   "cell_type": "code",
   "execution_count": 16,
   "metadata": {},
   "outputs": [],
   "source": [
    "#train_featurescat =  features_train.toarray() \n",
    "#valid_featurescat =  features_valid.toarray() \n",
    "#test_featurescat = features_test.toarray() \n",
    "#cat_model = CatBoostClassifier(eval_metric=\"F1\", \n",
    "#                                   iterations=100, \n",
    "#                                   max_depth=10)\n",
    "#cat_model.fit(train_featurescat, target_train)\n",
    "#cat_prediction = cat_model.predict(train_featurescat)\n",
    "#f1 = f1_score(target_train, cat_prediction)\n",
    "#print('F1:', f1_score)"
   ]
  },
  {
   "cell_type": "markdown",
   "metadata": {},
   "source": [
    "<div class=\"alert alert-warning\">\n",
    "<b>Комментарий ревьюера ⚠️:</b> Так, а зачем переводить в array?\n",
    "\n",
    "Для Catboost будет лучше на самом деле воспользовать внутренним кодированием:\n",
    "    \n",
    "    \n",
    "+  https://colab.research.google.com/drive/1bQOXIKpeyGZgda2qQqDijE2SIbSGX7-Z?usp=sharing   \n",
    "    \n",
    "Только вначале необходимо настроить `GPU` в `Google Colab`, так получится обработать все данные +- за 5-20 минут \n",
    "    \n",
    "    \n",
    "+  `Среда выполнения` -> `сменить среду выполнения`    \n",
    "+  Теперь выбираем `GPU` и `сохранить`  \n",
    "    \n",
    "P.S Ну или попробовать на CPU\n",
    "    \n",
    "    \n",
    " **не** стоит проводить тестирование на обучающей выборке, потому что мы получим позитивный результат, так как модель уже видела эти данные \n",
    "</div>"
   ]
  },
  {
   "cell_type": "markdown",
   "metadata": {},
   "source": [
    "## Тестирование"
   ]
  },
  {
   "cell_type": "code",
   "execution_count": 17,
   "metadata": {},
   "outputs": [
    {
     "name": "stdout",
     "output_type": "stream",
     "text": [
      "F1 0.7671942446043165\n",
      "Матрица ошибок\n",
      "[[27575  1054]\n",
      " [  564  2666]]\n"
     ]
    }
   ],
   "source": [
    "model = LogisticRegression()\n",
    "model.set_params(**LR_best_params)\n",
    "model.fit(features_train, target_train)\n",
    "prediction = model.predict(features_test)\n",
    "f1 = f1_score(target_test, prediction)\n",
    "print('F1', f1)\n",
    "print('Матрица ошибок')\n",
    "print(confusion_matrix(target_test, prediction))"
   ]
  },
  {
   "cell_type": "markdown",
   "metadata": {},
   "source": [
    "<div class=\"alert alert-success\">\n",
    "<b>Комментарий ревьюера ✔️:</b> \n",
    "\n",
    "Верно проверил тестирование\n",
    "    \n",
    "</div>"
   ]
  },
  {
   "cell_type": "markdown",
   "metadata": {},
   "source": [
    "Показатели данной модели удовлетворяют нашему условию и на тестовой выборке, значит мы однозначно можем ее рекомендовать."
   ]
  },
  {
   "cell_type": "markdown",
   "metadata": {},
   "source": [
    "## Выводы"
   ]
  },
  {
   "cell_type": "code",
   "execution_count": 20,
   "metadata": {},
   "outputs": [
    {
     "data": {
      "text/html": [
       "<div>\n",
       "<style scoped>\n",
       "    .dataframe tbody tr th:only-of-type {\n",
       "        vertical-align: middle;\n",
       "    }\n",
       "\n",
       "    .dataframe tbody tr th {\n",
       "        vertical-align: top;\n",
       "    }\n",
       "\n",
       "    .dataframe thead th {\n",
       "        text-align: right;\n",
       "    }\n",
       "</style>\n",
       "<table border=\"1\" class=\"dataframe\">\n",
       "  <thead>\n",
       "    <tr style=\"text-align: right;\">\n",
       "      <th></th>\n",
       "      <th>F1</th>\n",
       "    </tr>\n",
       "  </thead>\n",
       "  <tbody>\n",
       "    <tr>\n",
       "      <th>LogisticRegression</th>\n",
       "      <td>0.76</td>\n",
       "    </tr>\n",
       "    <tr>\n",
       "      <th>DecisionTree</th>\n",
       "      <td>0.64</td>\n",
       "    </tr>\n",
       "    <tr>\n",
       "      <th>LGBMRegressor</th>\n",
       "      <td>0.68</td>\n",
       "    </tr>\n",
       "  </tbody>\n",
       "</table>\n",
       "</div>"
      ],
      "text/plain": [
       "                      F1\n",
       "LogisticRegression  0.76\n",
       "DecisionTree        0.64\n",
       "LGBMRegressor       0.68"
      ]
     },
     "execution_count": 20,
     "metadata": {},
     "output_type": "execute_result"
    }
   ],
   "source": [
    "df = [  [0.76],\n",
    "        [0.64],\n",
    "        [0.68]]\n",
    "model = [\"LogisticRegression\", \"DecisionTree\", \"LGBMRegressor\"]\n",
    "pd.DataFrame(data=df, index=model, columns=[\"F1\"])"
   ]
  },
  {
   "cell_type": "markdown",
   "metadata": {},
   "source": [
    "В ходе работы мы подготовили данные к обучению. Разобрались, что в данных присутствует дисбаланс. Получили список лемматизированных слов и очистили лишние символы. Закодировали в юникоде, для качественного обучения\n",
    "\n",
    "Разделили на тренировочную и тестовую выборку\n",
    "\n",
    "Мы обучили несколько моделей и лучшей из них стала LogisticRegression с гиперпараметрами ('C': 10, 'class_weight': 'balanced', 'solver': 'newton-cg'), которая имеет меньше ложно отрицательных предсказаний и F1 = 0.7598 на тренировочной и 0.767 на тестовой.\n",
    "\n",
    "Можно сказать, что количество ложно положительных предсказаний у LogisticRegression не является проблемой, так как эти комментарии могут быть идентифицированы и отклонены после модерации. Итак, для наших бизнес-целей LogisticRegression является лучшей моделью."
   ]
  },
  {
   "cell_type": "markdown",
   "metadata": {},
   "source": [
    "<div class=\"alert alert-success\">\n",
    "<b>Комментарий ревьюера ✔️:</b> \n",
    "\n",
    "Для работы с текстами используют и другие подходы. Например, сейчас активно используются RNN (LSTM) и трансформеры (BERT и другие с улицы Сезам, например, ELMO). НО! Они не являются панацеей, не всегда они нужны, так как и TF-IDF или Word2Vec + модели из классического ML тоже могут справляться. \\\n",
    "BERT тяжелый, существует много его вариаций для разных задач, есть готовые модели, есть надстройки над библиотекой transformers. Если, обучать BERT на GPU (можно в Google Colab или Kaggle), то должно быть побыстрее.\\\n",
    "https://huggingface.co/transformers/model_doc/bert.html \\\n",
    "https://t.me/renat_alimbekov \\\n",
    "https://colah.github.io/posts/2015-08-Understanding-LSTMs/ - Про LSTM \\\n",
    "https://web.stanford.edu/~jurafsky/slp3/10.pdf - про энкодер-декодер модели, этеншены\\\n",
    "https://pytorch.org/tutorials/beginner/transformer_tutorial.html - официальный гайд\n",
    "по трансформеру от создателей pytorch\\\n",
    "https://transformer.huggingface.co/ - поболтать с трансформером \\\n",
    "Библиотеки: allennlp, fairseq, transformers, tensorflow-text — множество реализованных\n",
    "методов для трансформеров методов NLP \\\n",
    "Word2Vec https://radimrehurek.com/gensim/models/word2vec.html \n",
    "    \n",
    "</div>"
   ]
  },
  {
   "cell_type": "markdown",
   "metadata": {},
   "source": [
    "## Чек-лист проверки"
   ]
  },
  {
   "cell_type": "markdown",
   "metadata": {},
   "source": [
    "- [x]  Jupyter Notebook открыт\n",
    "- [ ]  Весь код выполняется без ошибок\n",
    "- [ ]  Ячейки с кодом расположены в порядке исполнения\n",
    "- [ ]  Данные загружены и подготовлены\n",
    "- [ ]  Модели обучены\n",
    "- [ ]  Значение метрики *F1* не меньше 0.75\n",
    "- [ ]  Выводы написаны"
   ]
  },
  {
   "cell_type": "markdown",
   "metadata": {},
   "source": [
    "<font color='blue'><b>Итоговый комментарий ревьюера</b></font>\n",
    "<div class=\"alert alert-success\">\n",
    "<b>Комментарий ревьюера ✔️:</b>Софья, спасибо за хороший проект!!! Я готов принять работу, но хочу убедиться, что тебе все понятно.<br>\n",
    "Если есть какие либо вопросы я с удовольствием на них отвечу:)</div>\n"
   ]
  },
  {
   "cell_type": "markdown",
   "metadata": {},
   "source": [
    "<div class=\"alert alert-success\">\n",
    "<b>Комментарий ревьюера V2✔️:</b> Удачи в следующих проектах!!!\n",
    "</div>"
   ]
  }
 ],
 "metadata": {
  "ExecuteTimeLog": [
   {
    "duration": 2357,
    "start_time": "2023-06-16T15:47:14.460Z"
   },
   {
    "duration": 3493,
    "start_time": "2023-06-16T15:48:32.580Z"
   },
   {
    "duration": 32,
    "start_time": "2023-06-16T15:48:59.231Z"
   },
   {
    "duration": 119,
    "start_time": "2023-06-16T15:49:46.151Z"
   },
   {
    "duration": 6,
    "start_time": "2023-06-16T15:49:54.730Z"
   },
   {
    "duration": 10,
    "start_time": "2023-06-16T15:51:11.554Z"
   },
   {
    "duration": 11,
    "start_time": "2023-06-16T15:51:26.809Z"
   },
   {
    "duration": 6637,
    "start_time": "2023-06-16T15:51:47.731Z"
   },
   {
    "duration": 2103,
    "start_time": "2023-06-17T12:02:51.556Z"
   },
   {
    "duration": 2503,
    "start_time": "2023-06-17T12:02:53.661Z"
   },
   {
    "duration": 33,
    "start_time": "2023-06-17T12:02:56.166Z"
   },
   {
    "duration": 14,
    "start_time": "2023-06-17T12:02:56.201Z"
   },
   {
    "duration": 7136,
    "start_time": "2023-06-17T12:02:56.217Z"
   },
   {
    "duration": 1774,
    "start_time": "2023-06-17T12:19:04.066Z"
   },
   {
    "duration": 941,
    "start_time": "2023-06-17T12:19:05.843Z"
   },
   {
    "duration": 47,
    "start_time": "2023-06-17T12:19:06.787Z"
   },
   {
    "duration": 10,
    "start_time": "2023-06-17T12:19:06.837Z"
   },
   {
    "duration": 6951,
    "start_time": "2023-06-17T12:19:06.850Z"
   },
   {
    "duration": 87,
    "start_time": "2023-06-17T12:19:13.803Z"
   },
   {
    "duration": 0,
    "start_time": "2023-06-17T12:19:13.893Z"
   },
   {
    "duration": 0,
    "start_time": "2023-06-17T12:19:13.894Z"
   },
   {
    "duration": 0,
    "start_time": "2023-06-17T12:19:13.896Z"
   },
   {
    "duration": 0,
    "start_time": "2023-06-17T12:19:13.897Z"
   },
   {
    "duration": 118,
    "start_time": "2023-06-17T12:21:46.938Z"
   },
   {
    "duration": 10,
    "start_time": "2023-06-17T12:22:06.674Z"
   },
   {
    "duration": 868,
    "start_time": "2023-06-17T12:22:08.199Z"
   },
   {
    "duration": 40,
    "start_time": "2023-06-17T12:22:09.069Z"
   },
   {
    "duration": 35,
    "start_time": "2023-06-17T12:22:09.111Z"
   },
   {
    "duration": 6019,
    "start_time": "2023-06-17T12:22:09.149Z"
   },
   {
    "duration": 6,
    "start_time": "2023-06-17T12:22:15.170Z"
   },
   {
    "duration": 85,
    "start_time": "2023-06-17T12:22:15.178Z"
   },
   {
    "duration": 77,
    "start_time": "2023-06-17T12:22:37.631Z"
   },
   {
    "duration": 94,
    "start_time": "2023-06-17T12:23:21.094Z"
   },
   {
    "duration": 10,
    "start_time": "2023-06-17T12:23:23.404Z"
   },
   {
    "duration": 4,
    "start_time": "2023-06-17T12:23:51.318Z"
   },
   {
    "duration": 17,
    "start_time": "2023-06-17T12:23:52.673Z"
   },
   {
    "duration": 16,
    "start_time": "2023-06-17T12:24:24.748Z"
   },
   {
    "duration": 12289,
    "start_time": "2023-06-17T12:24:47.928Z"
   },
   {
    "duration": 46,
    "start_time": "2023-06-17T12:25:17.656Z"
   },
   {
    "duration": 0,
    "start_time": "2023-06-17T12:25:17.705Z"
   },
   {
    "duration": 13,
    "start_time": "2023-06-17T12:25:27.942Z"
   },
   {
    "duration": 3,
    "start_time": "2023-06-17T12:25:28.378Z"
   },
   {
    "duration": 15,
    "start_time": "2023-06-17T12:36:52.685Z"
   },
   {
    "duration": 10,
    "start_time": "2023-06-17T12:37:36.557Z"
   },
   {
    "duration": 13,
    "start_time": "2023-06-17T12:37:47.023Z"
   },
   {
    "duration": 1751,
    "start_time": "2023-06-17T12:37:57.347Z"
   },
   {
    "duration": 949,
    "start_time": "2023-06-17T12:37:59.100Z"
   },
   {
    "duration": 50,
    "start_time": "2023-06-17T12:38:00.051Z"
   },
   {
    "duration": 30,
    "start_time": "2023-06-17T12:38:00.104Z"
   },
   {
    "duration": 7522,
    "start_time": "2023-06-17T12:38:00.136Z"
   },
   {
    "duration": 3,
    "start_time": "2023-06-17T12:38:07.659Z"
   },
   {
    "duration": 94,
    "start_time": "2023-06-17T12:38:07.664Z"
   },
   {
    "duration": 134,
    "start_time": "2023-06-17T12:38:07.760Z"
   },
   {
    "duration": 0,
    "start_time": "2023-06-17T12:38:07.896Z"
   },
   {
    "duration": 0,
    "start_time": "2023-06-17T12:38:07.898Z"
   },
   {
    "duration": 7,
    "start_time": "2023-06-17T12:38:16.393Z"
   },
   {
    "duration": 6,
    "start_time": "2023-06-17T12:38:21.046Z"
   },
   {
    "duration": 12760,
    "start_time": "2023-06-17T12:38:22.121Z"
   },
   {
    "duration": 5,
    "start_time": "2023-06-17T12:38:34.889Z"
   },
   {
    "duration": 13,
    "start_time": "2023-06-17T12:42:17.222Z"
   },
   {
    "duration": 65386,
    "start_time": "2023-06-17T12:43:31.292Z"
   },
   {
    "duration": 13,
    "start_time": "2023-06-17T12:45:44.119Z"
   },
   {
    "duration": 44,
    "start_time": "2023-06-17T12:46:05.338Z"
   },
   {
    "duration": 17,
    "start_time": "2023-06-17T12:46:11.133Z"
   },
   {
    "duration": 12,
    "start_time": "2023-06-17T12:47:06.193Z"
   },
   {
    "duration": 708524,
    "start_time": "2023-06-17T12:47:23.993Z"
   },
   {
    "duration": 0,
    "start_time": "2023-06-17T12:59:12.532Z"
   },
   {
    "duration": 1844,
    "start_time": "2023-06-17T13:52:16.700Z"
   },
   {
    "duration": 1007,
    "start_time": "2023-06-17T13:52:18.546Z"
   },
   {
    "duration": 50,
    "start_time": "2023-06-17T13:52:19.555Z"
   },
   {
    "duration": 6,
    "start_time": "2023-06-17T13:52:19.607Z"
   },
   {
    "duration": 8214,
    "start_time": "2023-06-17T13:52:19.615Z"
   },
   {
    "duration": 3,
    "start_time": "2023-06-17T13:52:27.831Z"
   },
   {
    "duration": 86,
    "start_time": "2023-06-17T13:52:27.836Z"
   },
   {
    "duration": 6,
    "start_time": "2023-06-17T13:52:27.924Z"
   },
   {
    "duration": 1549,
    "start_time": "2023-06-17T13:52:34.842Z"
   },
   {
    "duration": 0,
    "start_time": "2023-06-17T13:52:36.394Z"
   },
   {
    "duration": 0,
    "start_time": "2023-06-17T13:52:36.395Z"
   },
   {
    "duration": 0,
    "start_time": "2023-06-17T13:52:36.396Z"
   },
   {
    "duration": 0,
    "start_time": "2023-06-17T13:52:36.397Z"
   },
   {
    "duration": 1,
    "start_time": "2023-06-17T13:52:36.401Z"
   },
   {
    "duration": 0,
    "start_time": "2023-06-17T13:52:36.406Z"
   },
   {
    "duration": 0,
    "start_time": "2023-06-17T13:52:36.407Z"
   },
   {
    "duration": 0,
    "start_time": "2023-06-17T13:52:36.409Z"
   },
   {
    "duration": 0,
    "start_time": "2023-06-17T13:52:36.410Z"
   },
   {
    "duration": 0,
    "start_time": "2023-06-17T13:52:36.412Z"
   },
   {
    "duration": 0,
    "start_time": "2023-06-17T13:52:36.414Z"
   },
   {
    "duration": 0,
    "start_time": "2023-06-17T13:52:36.415Z"
   },
   {
    "duration": 1,
    "start_time": "2023-06-17T13:52:36.416Z"
   },
   {
    "duration": 564,
    "start_time": "2023-06-17T13:58:25.347Z"
   },
   {
    "duration": 1140,
    "start_time": "2023-06-17T13:58:25.914Z"
   },
   {
    "duration": 45,
    "start_time": "2023-06-17T13:58:36.861Z"
   },
   {
    "duration": 7,
    "start_time": "2023-06-17T13:58:39.348Z"
   },
   {
    "duration": 8905,
    "start_time": "2023-06-17T13:58:40.521Z"
   },
   {
    "duration": 4,
    "start_time": "2023-06-17T13:58:49.428Z"
   },
   {
    "duration": 1656,
    "start_time": "2023-06-17T13:58:58.999Z"
   },
   {
    "duration": 1492,
    "start_time": "2023-06-17T13:59:15.346Z"
   },
   {
    "duration": 1996,
    "start_time": "2023-06-17T13:59:52.195Z"
   },
   {
    "duration": 1088,
    "start_time": "2023-06-17T13:59:54.200Z"
   },
   {
    "duration": 40,
    "start_time": "2023-06-17T13:59:55.292Z"
   },
   {
    "duration": 17,
    "start_time": "2023-06-17T13:59:55.334Z"
   },
   {
    "duration": 8696,
    "start_time": "2023-06-17T13:59:55.355Z"
   },
   {
    "duration": 4,
    "start_time": "2023-06-17T14:00:04.052Z"
   },
   {
    "duration": 134,
    "start_time": "2023-06-17T14:00:04.058Z"
   },
   {
    "duration": 7,
    "start_time": "2023-06-17T14:00:04.193Z"
   },
   {
    "duration": 13411,
    "start_time": "2023-06-17T14:00:04.202Z"
   },
   {
    "duration": 5,
    "start_time": "2023-06-17T14:00:17.616Z"
   },
   {
    "duration": 165,
    "start_time": "2023-06-17T14:00:17.624Z"
   },
   {
    "duration": 0,
    "start_time": "2023-06-17T14:00:17.791Z"
   },
   {
    "duration": 0,
    "start_time": "2023-06-17T14:00:17.792Z"
   },
   {
    "duration": 0,
    "start_time": "2023-06-17T14:00:17.792Z"
   },
   {
    "duration": 40,
    "start_time": "2023-06-17T14:00:28.456Z"
   },
   {
    "duration": 1740,
    "start_time": "2023-06-17T18:52:37.574Z"
   },
   {
    "duration": 3104,
    "start_time": "2023-06-17T18:52:39.316Z"
   },
   {
    "duration": 33,
    "start_time": "2023-06-17T18:52:42.421Z"
   },
   {
    "duration": 22,
    "start_time": "2023-06-17T18:52:42.456Z"
   },
   {
    "duration": 6,
    "start_time": "2023-06-17T18:52:42.480Z"
   },
   {
    "duration": 34,
    "start_time": "2023-06-17T18:52:42.487Z"
   },
   {
    "duration": 89239,
    "start_time": "2023-06-17T18:52:42.523Z"
   },
   {
    "duration": 2,
    "start_time": "2023-06-17T18:54:11.764Z"
   },
   {
    "duration": 107,
    "start_time": "2023-06-17T18:54:11.768Z"
   },
   {
    "duration": 5,
    "start_time": "2023-06-17T18:54:11.876Z"
   },
   {
    "duration": 11584,
    "start_time": "2023-06-17T18:54:11.882Z"
   },
   {
    "duration": 4,
    "start_time": "2023-06-17T18:54:23.467Z"
   },
   {
    "duration": 67893,
    "start_time": "2023-06-17T18:54:23.474Z"
   },
   {
    "duration": 183968,
    "start_time": "2023-06-17T18:55:31.371Z"
   },
   {
    "duration": 0,
    "start_time": "2023-06-17T18:58:35.341Z"
   },
   {
    "duration": 23,
    "start_time": "2023-06-17T18:58:35.869Z"
   },
   {
    "duration": 73,
    "start_time": "2023-06-17T18:58:53.097Z"
   },
   {
    "duration": 7,
    "start_time": "2023-06-17T18:58:53.832Z"
   },
   {
    "duration": 15,
    "start_time": "2023-06-17T18:58:55.895Z"
   },
   {
    "duration": 3,
    "start_time": "2023-06-17T18:58:57.303Z"
   },
   {
    "duration": 1658,
    "start_time": "2023-06-17T18:59:03.811Z"
   },
   {
    "duration": 904,
    "start_time": "2023-06-17T18:59:05.472Z"
   },
   {
    "duration": 26,
    "start_time": "2023-06-17T18:59:06.377Z"
   },
   {
    "duration": 8,
    "start_time": "2023-06-17T18:59:06.405Z"
   },
   {
    "duration": 24,
    "start_time": "2023-06-17T18:59:06.414Z"
   },
   {
    "duration": 58,
    "start_time": "2023-06-17T18:59:06.442Z"
   },
   {
    "duration": 1678,
    "start_time": "2023-06-17T19:00:18.745Z"
   },
   {
    "duration": 857,
    "start_time": "2023-06-17T19:00:20.425Z"
   },
   {
    "duration": 28,
    "start_time": "2023-06-17T19:00:21.284Z"
   },
   {
    "duration": 33,
    "start_time": "2023-06-17T19:00:21.314Z"
   },
   {
    "duration": 4,
    "start_time": "2023-06-17T19:00:21.349Z"
   },
   {
    "duration": 45,
    "start_time": "2023-06-17T19:00:21.355Z"
   },
   {
    "duration": 86718,
    "start_time": "2023-06-17T19:00:21.402Z"
   },
   {
    "duration": 2,
    "start_time": "2023-06-17T19:01:48.122Z"
   },
   {
    "duration": 112,
    "start_time": "2023-06-17T19:01:48.132Z"
   },
   {
    "duration": 9,
    "start_time": "2023-06-17T19:01:48.245Z"
   },
   {
    "duration": 24,
    "start_time": "2023-06-17T19:01:48.257Z"
   },
   {
    "duration": 7,
    "start_time": "2023-06-17T19:01:48.282Z"
   },
   {
    "duration": 134,
    "start_time": "2023-06-17T19:01:48.290Z"
   },
   {
    "duration": 0,
    "start_time": "2023-06-17T19:01:48.425Z"
   },
   {
    "duration": 0,
    "start_time": "2023-06-17T19:01:48.427Z"
   },
   {
    "duration": 11,
    "start_time": "2023-06-17T19:02:23.415Z"
   },
   {
    "duration": 9,
    "start_time": "2023-06-17T19:03:42.168Z"
   },
   {
    "duration": 1618,
    "start_time": "2023-06-17T19:03:50.855Z"
   },
   {
    "duration": 879,
    "start_time": "2023-06-17T19:03:52.474Z"
   },
   {
    "duration": 31,
    "start_time": "2023-06-17T19:03:53.355Z"
   },
   {
    "duration": 13,
    "start_time": "2023-06-17T19:03:53.388Z"
   },
   {
    "duration": 4,
    "start_time": "2023-06-17T19:03:53.404Z"
   },
   {
    "duration": 58,
    "start_time": "2023-06-17T19:03:53.410Z"
   },
   {
    "duration": 82804,
    "start_time": "2023-06-17T19:03:53.469Z"
   },
   {
    "duration": 3,
    "start_time": "2023-06-17T19:05:16.274Z"
   },
   {
    "duration": 116,
    "start_time": "2023-06-17T19:05:16.278Z"
   },
   {
    "duration": 3,
    "start_time": "2023-06-17T19:05:16.396Z"
   },
   {
    "duration": 20,
    "start_time": "2023-06-17T19:05:16.400Z"
   },
   {
    "duration": 32,
    "start_time": "2023-06-17T19:05:16.422Z"
   },
   {
    "duration": 129,
    "start_time": "2023-06-17T19:05:16.455Z"
   },
   {
    "duration": 0,
    "start_time": "2023-06-17T19:05:16.585Z"
   },
   {
    "duration": 0,
    "start_time": "2023-06-17T19:05:16.586Z"
   },
   {
    "duration": 16,
    "start_time": "2023-06-17T19:08:06.664Z"
   },
   {
    "duration": 1607,
    "start_time": "2023-06-17T19:08:12.172Z"
   },
   {
    "duration": 892,
    "start_time": "2023-06-17T19:08:13.781Z"
   },
   {
    "duration": 29,
    "start_time": "2023-06-17T19:08:14.675Z"
   },
   {
    "duration": 5,
    "start_time": "2023-06-17T19:08:14.706Z"
   },
   {
    "duration": 31,
    "start_time": "2023-06-17T19:08:14.713Z"
   },
   {
    "duration": 34,
    "start_time": "2023-06-17T19:08:14.746Z"
   },
   {
    "duration": 82363,
    "start_time": "2023-06-17T19:08:14.782Z"
   },
   {
    "duration": 2,
    "start_time": "2023-06-17T19:09:37.147Z"
   },
   {
    "duration": 93,
    "start_time": "2023-06-17T19:09:37.151Z"
   },
   {
    "duration": 5,
    "start_time": "2023-06-17T19:09:37.246Z"
   },
   {
    "duration": 10592,
    "start_time": "2023-06-17T19:09:37.252Z"
   },
   {
    "duration": 4,
    "start_time": "2023-06-17T19:09:47.847Z"
   },
   {
    "duration": 1695,
    "start_time": "2023-06-17T19:29:31.508Z"
   },
   {
    "duration": 934,
    "start_time": "2023-06-17T19:29:33.205Z"
   },
   {
    "duration": 33,
    "start_time": "2023-06-17T19:29:34.141Z"
   },
   {
    "duration": 10,
    "start_time": "2023-06-17T19:29:34.176Z"
   },
   {
    "duration": 4,
    "start_time": "2023-06-17T19:29:34.187Z"
   },
   {
    "duration": 43,
    "start_time": "2023-06-17T19:29:34.193Z"
   },
   {
    "duration": 84438,
    "start_time": "2023-06-17T19:29:34.237Z"
   },
   {
    "duration": 4,
    "start_time": "2023-06-17T19:30:58.676Z"
   },
   {
    "duration": 94,
    "start_time": "2023-06-17T19:30:58.681Z"
   },
   {
    "duration": 4,
    "start_time": "2023-06-17T19:30:58.776Z"
   },
   {
    "duration": 10728,
    "start_time": "2023-06-17T19:30:58.782Z"
   },
   {
    "duration": 3,
    "start_time": "2023-06-17T19:31:09.512Z"
   },
   {
    "duration": 24,
    "start_time": "2023-06-17T19:31:09.517Z"
   },
   {
    "duration": 156,
    "start_time": "2023-06-17T19:31:09.544Z"
   },
   {
    "duration": 0,
    "start_time": "2023-06-17T19:31:09.702Z"
   },
   {
    "duration": 0,
    "start_time": "2023-06-17T19:31:09.703Z"
   },
   {
    "duration": 0,
    "start_time": "2023-06-17T19:31:09.705Z"
   },
   {
    "duration": 0,
    "start_time": "2023-06-17T19:31:09.706Z"
   },
   {
    "duration": 1755,
    "start_time": "2023-06-17T19:32:30.055Z"
   },
   {
    "duration": 929,
    "start_time": "2023-06-17T19:32:31.812Z"
   },
   {
    "duration": 31,
    "start_time": "2023-06-17T19:32:32.744Z"
   },
   {
    "duration": 5,
    "start_time": "2023-06-17T19:32:32.777Z"
   },
   {
    "duration": 6,
    "start_time": "2023-06-17T19:32:32.783Z"
   },
   {
    "duration": 38,
    "start_time": "2023-06-17T19:32:32.790Z"
   },
   {
    "duration": 88625,
    "start_time": "2023-06-17T19:32:32.830Z"
   },
   {
    "duration": 5,
    "start_time": "2023-06-17T19:34:01.458Z"
   },
   {
    "duration": 142,
    "start_time": "2023-06-17T19:34:01.465Z"
   },
   {
    "duration": 4,
    "start_time": "2023-06-17T19:34:01.610Z"
   },
   {
    "duration": 11676,
    "start_time": "2023-06-17T19:34:01.616Z"
   },
   {
    "duration": 3,
    "start_time": "2023-06-17T19:34:13.293Z"
   },
   {
    "duration": 10,
    "start_time": "2023-06-17T19:34:13.298Z"
   },
   {
    "duration": 997074,
    "start_time": "2023-06-17T19:34:13.309Z"
   },
   {
    "duration": 0,
    "start_time": "2023-06-17T19:50:50.385Z"
   },
   {
    "duration": 0,
    "start_time": "2023-06-17T19:50:50.386Z"
   },
   {
    "duration": 0,
    "start_time": "2023-06-17T19:50:50.387Z"
   },
   {
    "duration": 0,
    "start_time": "2023-06-17T19:50:50.389Z"
   },
   {
    "duration": 36484,
    "start_time": "2023-06-17T19:58:23.469Z"
   },
   {
    "duration": 35666,
    "start_time": "2023-06-17T20:00:53.176Z"
   },
   {
    "duration": 51523,
    "start_time": "2023-06-17T20:01:55.643Z"
   },
   {
    "duration": 61211,
    "start_time": "2023-06-17T20:03:10.038Z"
   },
   {
    "duration": 1641,
    "start_time": "2023-06-17T20:04:15.855Z"
   },
   {
    "duration": 852,
    "start_time": "2023-06-17T20:04:17.498Z"
   },
   {
    "duration": 30,
    "start_time": "2023-06-17T20:04:18.351Z"
   },
   {
    "duration": 11,
    "start_time": "2023-06-17T20:04:18.383Z"
   },
   {
    "duration": 6,
    "start_time": "2023-06-17T20:04:18.396Z"
   },
   {
    "duration": 44,
    "start_time": "2023-06-17T20:04:18.403Z"
   },
   {
    "duration": 76167,
    "start_time": "2023-06-17T20:04:18.449Z"
   },
   {
    "duration": 3,
    "start_time": "2023-06-17T20:05:34.618Z"
   },
   {
    "duration": 86,
    "start_time": "2023-06-17T20:05:34.632Z"
   },
   {
    "duration": 0,
    "start_time": "2023-06-17T20:05:34.720Z"
   },
   {
    "duration": 0,
    "start_time": "2023-06-17T20:05:34.721Z"
   },
   {
    "duration": 0,
    "start_time": "2023-06-17T20:05:34.722Z"
   },
   {
    "duration": 0,
    "start_time": "2023-06-17T20:05:34.724Z"
   },
   {
    "duration": 0,
    "start_time": "2023-06-17T20:05:34.725Z"
   },
   {
    "duration": 0,
    "start_time": "2023-06-17T20:05:34.727Z"
   },
   {
    "duration": 0,
    "start_time": "2023-06-17T20:05:34.728Z"
   },
   {
    "duration": 0,
    "start_time": "2023-06-17T20:05:34.730Z"
   },
   {
    "duration": 64,
    "start_time": "2023-06-17T20:06:24.008Z"
   },
   {
    "duration": 4,
    "start_time": "2023-06-17T20:06:25.436Z"
   },
   {
    "duration": 10299,
    "start_time": "2023-06-17T20:06:27.149Z"
   },
   {
    "duration": 3,
    "start_time": "2023-06-17T20:06:37.450Z"
   },
   {
    "duration": 78227,
    "start_time": "2023-06-17T20:06:50.509Z"
   },
   {
    "duration": 135,
    "start_time": "2023-06-17T20:08:52.910Z"
   },
   {
    "duration": 109905,
    "start_time": "2023-06-17T20:09:00.750Z"
   },
   {
    "duration": 205845,
    "start_time": "2023-06-17T20:11:06.048Z"
   },
   {
    "duration": 10,
    "start_time": "2023-06-17T20:18:32.528Z"
   },
   {
    "duration": 370018,
    "start_time": "2023-06-17T20:19:26.155Z"
   },
   {
    "duration": 108497,
    "start_time": "2023-06-17T20:27:33.263Z"
   },
   {
    "duration": 8,
    "start_time": "2023-06-17T20:29:21.762Z"
   },
   {
    "duration": 10,
    "start_time": "2023-06-17T20:31:35.254Z"
   },
   {
    "duration": 209938,
    "start_time": "2023-06-17T20:32:15.989Z"
   },
   {
    "duration": 0,
    "start_time": "2023-06-17T20:38:33.889Z"
   },
   {
    "duration": 433547,
    "start_time": "2023-06-17T20:38:46.109Z"
   },
   {
    "duration": 0,
    "start_time": "2023-06-17T20:45:59.660Z"
   },
   {
    "duration": 7,
    "start_time": "2023-06-17T20:46:02.821Z"
   },
   {
    "duration": 10,
    "start_time": "2023-06-17T20:46:10.320Z"
   },
   {
    "duration": 41447,
    "start_time": "2023-06-17T20:46:49.548Z"
   },
   {
    "duration": 39085,
    "start_time": "2023-06-17T20:47:47.872Z"
   },
   {
    "duration": 246704,
    "start_time": "2023-06-17T20:48:38.206Z"
   },
   {
    "duration": 1301342,
    "start_time": "2023-06-17T20:52:44.912Z"
   },
   {
    "duration": 0,
    "start_time": "2023-06-17T21:14:26.257Z"
   },
   {
    "duration": 87577,
    "start_time": "2023-06-17T21:15:23.902Z"
   },
   {
    "duration": 0,
    "start_time": "2023-06-17T21:16:51.483Z"
   },
   {
    "duration": 0,
    "start_time": "2023-06-17T21:16:51.484Z"
   },
   {
    "duration": 9,
    "start_time": "2023-06-17T21:16:56.677Z"
   },
   {
    "duration": 10,
    "start_time": "2023-06-17T21:16:57.856Z"
   },
   {
    "duration": 9,
    "start_time": "2023-06-17T21:17:26.471Z"
   },
   {
    "duration": 6,
    "start_time": "2023-06-17T21:17:39.910Z"
   },
   {
    "duration": 237161,
    "start_time": "2023-06-17T21:17:43.251Z"
   },
   {
    "duration": 55,
    "start_time": "2023-06-17T21:22:25.946Z"
   },
   {
    "duration": 1777,
    "start_time": "2023-06-17T21:22:45.250Z"
   },
   {
    "duration": 2710,
    "start_time": "2023-06-17T21:22:47.029Z"
   },
   {
    "duration": 33,
    "start_time": "2023-06-17T21:22:49.744Z"
   },
   {
    "duration": 30,
    "start_time": "2023-06-17T21:22:49.779Z"
   },
   {
    "duration": 5,
    "start_time": "2023-06-17T21:22:49.811Z"
   },
   {
    "duration": 47,
    "start_time": "2023-06-17T21:22:49.817Z"
   },
   {
    "duration": 87151,
    "start_time": "2023-06-17T21:22:49.866Z"
   },
   {
    "duration": 3,
    "start_time": "2023-06-17T21:24:17.018Z"
   },
   {
    "duration": 92,
    "start_time": "2023-06-17T21:24:17.022Z"
   },
   {
    "duration": 5,
    "start_time": "2023-06-17T21:24:17.116Z"
   },
   {
    "duration": 12038,
    "start_time": "2023-06-17T21:24:17.122Z"
   },
   {
    "duration": 4,
    "start_time": "2023-06-17T21:24:29.161Z"
   },
   {
    "duration": 182649,
    "start_time": "2023-06-17T21:24:29.166Z"
   },
   {
    "duration": 6,
    "start_time": "2023-06-17T21:27:31.818Z"
   },
   {
    "duration": 244126,
    "start_time": "2023-06-17T21:27:31.837Z"
   },
   {
    "duration": 588292,
    "start_time": "2023-06-17T21:31:35.965Z"
   },
   {
    "duration": 65,
    "start_time": "2023-06-17T21:41:44.575Z"
   },
   {
    "duration": 1703,
    "start_time": "2023-06-17T21:44:02.392Z"
   },
   {
    "duration": 2666,
    "start_time": "2023-06-17T21:44:04.097Z"
   },
   {
    "duration": 28,
    "start_time": "2023-06-17T21:44:06.765Z"
   },
   {
    "duration": 5,
    "start_time": "2023-06-17T21:44:06.795Z"
   },
   {
    "duration": 12,
    "start_time": "2023-06-17T21:44:06.802Z"
   },
   {
    "duration": 45,
    "start_time": "2023-06-17T21:44:06.815Z"
   },
   {
    "duration": 87264,
    "start_time": "2023-06-17T21:44:06.862Z"
   },
   {
    "duration": 14,
    "start_time": "2023-06-17T21:45:34.128Z"
   },
   {
    "duration": 71,
    "start_time": "2023-06-17T21:45:34.150Z"
   },
   {
    "duration": 4,
    "start_time": "2023-06-17T21:45:34.223Z"
   },
   {
    "duration": 11390,
    "start_time": "2023-06-17T21:45:34.228Z"
   },
   {
    "duration": 3,
    "start_time": "2023-06-17T21:45:45.620Z"
   },
   {
    "duration": 33,
    "start_time": "2023-06-17T21:45:45.624Z"
   },
   {
    "duration": 6,
    "start_time": "2023-06-17T21:45:45.660Z"
   },
   {
    "duration": 0,
    "start_time": "2023-06-17T22:10:01.797Z"
   },
   {
    "duration": 0,
    "start_time": "2023-06-17T22:10:01.798Z"
   },
   {
    "duration": 0,
    "start_time": "2023-06-17T22:10:01.799Z"
   },
   {
    "duration": 0,
    "start_time": "2023-06-17T22:10:01.803Z"
   },
   {
    "duration": 0,
    "start_time": "2023-06-17T22:10:01.804Z"
   },
   {
    "duration": 2,
    "start_time": "2023-06-17T22:10:21.165Z"
   },
   {
    "duration": 3,
    "start_time": "2023-06-17T22:10:22.411Z"
   },
   {
    "duration": 48,
    "start_time": "2023-06-17T22:10:49.649Z"
   },
   {
    "duration": 1785,
    "start_time": "2023-06-17T22:10:57.221Z"
   },
   {
    "duration": 4,
    "start_time": "2023-06-17T22:11:02.665Z"
   },
   {
    "duration": 98,
    "start_time": "2023-06-17T22:11:03.653Z"
   },
   {
    "duration": 1676,
    "start_time": "2023-06-17T22:11:23.469Z"
   },
   {
    "duration": 2879,
    "start_time": "2023-06-17T22:11:25.152Z"
   },
   {
    "duration": 39,
    "start_time": "2023-06-17T22:11:28.036Z"
   },
   {
    "duration": 5,
    "start_time": "2023-06-17T22:11:28.076Z"
   },
   {
    "duration": 4,
    "start_time": "2023-06-17T22:11:28.083Z"
   },
   {
    "duration": 36,
    "start_time": "2023-06-17T22:11:28.088Z"
   },
   {
    "duration": 87910,
    "start_time": "2023-06-17T22:11:28.133Z"
   },
   {
    "duration": 9,
    "start_time": "2023-06-17T22:12:56.048Z"
   },
   {
    "duration": 61,
    "start_time": "2023-06-17T22:12:56.059Z"
   },
   {
    "duration": 4,
    "start_time": "2023-06-17T22:12:56.121Z"
   },
   {
    "duration": 11811,
    "start_time": "2023-06-17T22:12:56.126Z"
   },
   {
    "duration": 14,
    "start_time": "2023-06-17T22:13:07.946Z"
   },
   {
    "duration": 5,
    "start_time": "2023-06-17T22:13:07.962Z"
   },
   {
    "duration": 12,
    "start_time": "2023-06-17T22:13:07.969Z"
   },
   {
    "duration": 11,
    "start_time": "2023-06-17T22:13:07.982Z"
   },
   {
    "duration": 1699,
    "start_time": "2023-06-17T22:15:03.408Z"
   },
   {
    "duration": 2815,
    "start_time": "2023-06-17T22:15:05.109Z"
   },
   {
    "duration": 36,
    "start_time": "2023-06-17T22:15:07.925Z"
   },
   {
    "duration": 17,
    "start_time": "2023-06-17T22:15:07.962Z"
   },
   {
    "duration": 9,
    "start_time": "2023-06-17T22:15:07.981Z"
   },
   {
    "duration": 33,
    "start_time": "2023-06-17T22:15:07.992Z"
   },
   {
    "duration": 85977,
    "start_time": "2023-06-17T22:15:08.026Z"
   },
   {
    "duration": 4,
    "start_time": "2023-06-17T22:16:34.004Z"
   },
   {
    "duration": 79,
    "start_time": "2023-06-17T22:16:34.009Z"
   },
   {
    "duration": 4,
    "start_time": "2023-06-17T22:16:34.090Z"
   },
   {
    "duration": 11499,
    "start_time": "2023-06-17T22:16:34.095Z"
   },
   {
    "duration": 3,
    "start_time": "2023-06-17T22:16:45.596Z"
   },
   {
    "duration": 10,
    "start_time": "2023-06-17T22:16:45.600Z"
   },
   {
    "duration": 6,
    "start_time": "2023-06-17T22:16:45.612Z"
   },
   {
    "duration": 11,
    "start_time": "2023-06-17T22:16:45.619Z"
   },
   {
    "duration": 3,
    "start_time": "2023-06-17T22:18:43.887Z"
   },
   {
    "duration": 60,
    "start_time": "2023-06-17T22:18:46.095Z"
   },
   {
    "duration": 2,
    "start_time": "2023-06-17T22:20:52.963Z"
   },
   {
    "duration": 1754,
    "start_time": "2023-06-17T22:22:15.953Z"
   },
   {
    "duration": 2803,
    "start_time": "2023-06-17T22:22:17.709Z"
   },
   {
    "duration": 44,
    "start_time": "2023-06-17T22:22:20.514Z"
   },
   {
    "duration": 15,
    "start_time": "2023-06-17T22:22:20.561Z"
   },
   {
    "duration": 14,
    "start_time": "2023-06-17T22:22:20.578Z"
   },
   {
    "duration": 68,
    "start_time": "2023-06-17T22:22:20.594Z"
   },
   {
    "duration": 86633,
    "start_time": "2023-06-17T22:22:20.664Z"
   },
   {
    "duration": 3,
    "start_time": "2023-06-17T22:23:47.298Z"
   },
   {
    "duration": 113,
    "start_time": "2023-06-17T22:23:47.302Z"
   },
   {
    "duration": 4,
    "start_time": "2023-06-17T22:23:47.417Z"
   },
   {
    "duration": 11664,
    "start_time": "2023-06-17T22:23:47.423Z"
   },
   {
    "duration": 3,
    "start_time": "2023-06-17T22:23:59.089Z"
   },
   {
    "duration": 182412,
    "start_time": "2023-06-17T22:23:59.093Z"
   },
   {
    "duration": 244199,
    "start_time": "2023-06-17T22:27:01.507Z"
   },
   {
    "duration": 2427956,
    "start_time": "2023-06-17T22:31:05.707Z"
   },
   {
    "duration": 3,
    "start_time": "2023-06-17T23:11:33.665Z"
   },
   {
    "duration": 37977,
    "start_time": "2023-06-17T23:11:33.669Z"
   },
   {
    "duration": 8,
    "start_time": "2023-06-17T23:12:11.647Z"
   },
   {
    "duration": 7,
    "start_time": "2023-06-17T23:17:39.556Z"
   },
   {
    "duration": 7,
    "start_time": "2023-06-17T23:17:47.471Z"
   }
  ],
  "kernelspec": {
   "display_name": "Python 3 (ipykernel)",
   "language": "python",
   "name": "python3"
  },
  "language_info": {
   "codemirror_mode": {
    "name": "ipython",
    "version": 3
   },
   "file_extension": ".py",
   "mimetype": "text/x-python",
   "name": "python",
   "nbconvert_exporter": "python",
   "pygments_lexer": "ipython3",
   "version": "3.9.5"
  },
  "toc": {
   "base_numbering": 1,
   "nav_menu": {},
   "number_sections": true,
   "sideBar": true,
   "skip_h1_title": true,
   "title_cell": "Содержание",
   "title_sidebar": "Contents",
   "toc_cell": true,
   "toc_position": {
    "height": "calc(100% - 180px)",
    "left": "10px",
    "top": "150px",
    "width": "302.391px"
   },
   "toc_section_display": true,
   "toc_window_display": false
  }
 },
 "nbformat": 4,
 "nbformat_minor": 2
}
