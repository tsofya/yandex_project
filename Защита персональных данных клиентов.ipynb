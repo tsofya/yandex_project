{
 "cells": [
  {
   "cell_type": "markdown",
   "metadata": {
    "toc": true
   },
   "source": [
    "<h1>Содержание<span class=\"tocSkip\"></span></h1>\n",
    "<div class=\"toc\"><ul class=\"toc-item\"><li><span><a href=\"#Загрузка-данных\" data-toc-modified-id=\"Загрузка-данных-1\"><span class=\"toc-item-num\">1&nbsp;&nbsp;</span>Загрузка данных</a></span></li><li><span><a href=\"#Умножение-матриц\" data-toc-modified-id=\"Умножение-матриц-2\"><span class=\"toc-item-num\">2&nbsp;&nbsp;</span>Умножение матриц</a></span></li><li><span><a href=\"#Алгоритм-преобразования\" data-toc-modified-id=\"Алгоритм-преобразования-3\"><span class=\"toc-item-num\">3&nbsp;&nbsp;</span>Алгоритм преобразования</a></span></li><li><span><a href=\"#Проверка-алгоритма\" data-toc-modified-id=\"Проверка-алгоритма-4\"><span class=\"toc-item-num\">4&nbsp;&nbsp;</span>Проверка алгоритма</a></span><ul class=\"toc-item\"><li><span><a href=\"#Вывод\" data-toc-modified-id=\"Вывод-4.1\"><span class=\"toc-item-num\">4.1&nbsp;&nbsp;</span>Вывод</a></span></li></ul></li><li><span><a href=\"#Чек-лист-проверки\" data-toc-modified-id=\"Чек-лист-проверки-5\"><span class=\"toc-item-num\">5&nbsp;&nbsp;</span>Чек-лист проверки</a></span></li></ul></div>"
   ]
  },
  {
   "cell_type": "markdown",
   "metadata": {},
   "source": [
    "# Защита персональных данных клиентов"
   ]
  },
  {
   "cell_type": "markdown",
   "metadata": {},
   "source": [
    "Вам нужно защитить данные клиентов страховой компании «Хоть потоп». Разработайте такой метод преобразования данных, чтобы по ним было сложно восстановить персональную информацию. Обоснуйте корректность его работы.\n",
    "\n",
    "Нужно защитить данные, чтобы при преобразовании качество моделей машинного обучения не ухудшилось. Подбирать наилучшую модель не требуется."
   ]
  },
  {
   "cell_type": "markdown",
   "metadata": {},
   "source": [
    "## Загрузка данных"
   ]
  },
  {
   "cell_type": "code",
   "execution_count": 1,
   "metadata": {},
   "outputs": [],
   "source": [
    "import pandas as pd\n",
    "import numpy as np\n",
    "from sklearn.model_selection import train_test_split\n",
    "from sklearn.preprocessing import StandardScaler\n",
    "from sklearn.linear_model import LinearRegression\n",
    "from sklearn.metrics import r2_score\n",
    "from sklearn.pipeline import Pipeline"
   ]
  },
  {
   "cell_type": "code",
   "execution_count": 2,
   "metadata": {},
   "outputs": [
    {
     "name": "stdout",
     "output_type": "stream",
     "text": [
      "   Пол  Возраст  Зарплата  Члены семьи  Страховые выплаты\n",
      "0    1     41.0   49600.0            1                  0\n",
      "1    0     46.0   38000.0            1                  1\n",
      "2    0     29.0   21000.0            0                  0\n",
      "3    0     21.0   41700.0            2                  0\n",
      "4    1     28.0   26100.0            0                  0\n",
      "<class 'pandas.core.frame.DataFrame'>\n",
      "RangeIndex: 5000 entries, 0 to 4999\n",
      "Data columns (total 5 columns):\n",
      " #   Column             Non-Null Count  Dtype  \n",
      "---  ------             --------------  -----  \n",
      " 0   Пол                5000 non-null   int64  \n",
      " 1   Возраст            5000 non-null   float64\n",
      " 2   Зарплата           5000 non-null   float64\n",
      " 3   Члены семьи        5000 non-null   int64  \n",
      " 4   Страховые выплаты  5000 non-null   int64  \n",
      "dtypes: float64(2), int64(3)\n",
      "memory usage: 195.4 KB\n"
     ]
    }
   ],
   "source": [
    "data = pd.read_csv('/datasets/insurance.csv')\n",
    "print(data.head())\n",
    "data.info()"
   ]
  },
  {
   "cell_type": "code",
   "execution_count": 3,
   "metadata": {
    "scrolled": true
   },
   "outputs": [
    {
     "data": {
      "text/html": [
       "<div>\n",
       "<style scoped>\n",
       "    .dataframe tbody tr th:only-of-type {\n",
       "        vertical-align: middle;\n",
       "    }\n",
       "\n",
       "    .dataframe tbody tr th {\n",
       "        vertical-align: top;\n",
       "    }\n",
       "\n",
       "    .dataframe thead th {\n",
       "        text-align: right;\n",
       "    }\n",
       "</style>\n",
       "<table border=\"1\" class=\"dataframe\">\n",
       "  <thead>\n",
       "    <tr style=\"text-align: right;\">\n",
       "      <th></th>\n",
       "      <th>Пол</th>\n",
       "      <th>Возраст</th>\n",
       "      <th>Зарплата</th>\n",
       "      <th>Члены семьи</th>\n",
       "      <th>Страховые выплаты</th>\n",
       "    </tr>\n",
       "  </thead>\n",
       "  <tbody>\n",
       "    <tr>\n",
       "      <th>count</th>\n",
       "      <td>5000.000000</td>\n",
       "      <td>5000.000000</td>\n",
       "      <td>5000.000000</td>\n",
       "      <td>5000.000000</td>\n",
       "      <td>5000.000000</td>\n",
       "    </tr>\n",
       "    <tr>\n",
       "      <th>mean</th>\n",
       "      <td>0.499000</td>\n",
       "      <td>30.952800</td>\n",
       "      <td>39916.360000</td>\n",
       "      <td>1.194200</td>\n",
       "      <td>0.148000</td>\n",
       "    </tr>\n",
       "    <tr>\n",
       "      <th>std</th>\n",
       "      <td>0.500049</td>\n",
       "      <td>8.440807</td>\n",
       "      <td>9900.083569</td>\n",
       "      <td>1.091387</td>\n",
       "      <td>0.463183</td>\n",
       "    </tr>\n",
       "    <tr>\n",
       "      <th>min</th>\n",
       "      <td>0.000000</td>\n",
       "      <td>18.000000</td>\n",
       "      <td>5300.000000</td>\n",
       "      <td>0.000000</td>\n",
       "      <td>0.000000</td>\n",
       "    </tr>\n",
       "    <tr>\n",
       "      <th>25%</th>\n",
       "      <td>0.000000</td>\n",
       "      <td>24.000000</td>\n",
       "      <td>33300.000000</td>\n",
       "      <td>0.000000</td>\n",
       "      <td>0.000000</td>\n",
       "    </tr>\n",
       "    <tr>\n",
       "      <th>50%</th>\n",
       "      <td>0.000000</td>\n",
       "      <td>30.000000</td>\n",
       "      <td>40200.000000</td>\n",
       "      <td>1.000000</td>\n",
       "      <td>0.000000</td>\n",
       "    </tr>\n",
       "    <tr>\n",
       "      <th>75%</th>\n",
       "      <td>1.000000</td>\n",
       "      <td>37.000000</td>\n",
       "      <td>46600.000000</td>\n",
       "      <td>2.000000</td>\n",
       "      <td>0.000000</td>\n",
       "    </tr>\n",
       "    <tr>\n",
       "      <th>max</th>\n",
       "      <td>1.000000</td>\n",
       "      <td>65.000000</td>\n",
       "      <td>79000.000000</td>\n",
       "      <td>6.000000</td>\n",
       "      <td>5.000000</td>\n",
       "    </tr>\n",
       "  </tbody>\n",
       "</table>\n",
       "</div>"
      ],
      "text/plain": [
       "               Пол      Возраст      Зарплата  Члены семьи  Страховые выплаты\n",
       "count  5000.000000  5000.000000   5000.000000  5000.000000        5000.000000\n",
       "mean      0.499000    30.952800  39916.360000     1.194200           0.148000\n",
       "std       0.500049     8.440807   9900.083569     1.091387           0.463183\n",
       "min       0.000000    18.000000   5300.000000     0.000000           0.000000\n",
       "25%       0.000000    24.000000  33300.000000     0.000000           0.000000\n",
       "50%       0.000000    30.000000  40200.000000     1.000000           0.000000\n",
       "75%       1.000000    37.000000  46600.000000     2.000000           0.000000\n",
       "max       1.000000    65.000000  79000.000000     6.000000           5.000000"
      ]
     },
     "execution_count": 3,
     "metadata": {},
     "output_type": "execute_result"
    }
   ],
   "source": [
    "data.describe()"
   ]
  },
  {
   "cell_type": "code",
   "execution_count": 4,
   "metadata": {},
   "outputs": [],
   "source": [
    "data[['Возраст']] = data[['Возраст']].astype(int)"
   ]
  },
  {
   "cell_type": "markdown",
   "metadata": {},
   "source": [
    "**Код не содержит пропуски, изменили тип столбца \"возраст\" на INT**"
   ]
  },
  {
   "cell_type": "markdown",
   "metadata": {},
   "source": [
    "## Умножение матриц"
   ]
  },
  {
   "cell_type": "markdown",
   "metadata": {},
   "source": [
    "В этом задании вы можете записывать формулы в *Jupyter Notebook.*\n",
    "\n",
    "Чтобы записать формулу внутри текста, окружите её символами доллара \\\\$; если снаружи —  двойными символами \\\\$\\\\$. Эти формулы записываются на языке вёрстки *LaTeX.* \n",
    "\n",
    "Для примера мы записали формулы линейной регрессии. Можете их скопировать и отредактировать, чтобы решить задачу.\n",
    "\n",
    "Работать в *LaTeX* необязательно."
   ]
  },
  {
   "cell_type": "markdown",
   "metadata": {},
   "source": [
    "Обозначения:\n",
    "\n",
    "- $X$ — матрица признаков (нулевой столбец состоит из единиц)\n",
    "\n",
    "- $y$ — вектор целевого признака\n",
    "\n",
    "- $P$ — матрица, на которую умножаются признаки\n",
    "\n",
    "- $w$ — вектор весов линейной регрессии (нулевой элемент равен сдвигу)"
   ]
  },
  {
   "cell_type": "markdown",
   "metadata": {},
   "source": [
    "Предсказания:\n",
    "\n",
    "$$\n",
    "a = Xw\n",
    "$$\n",
    "\n",
    "Задача обучения:\n",
    "\n",
    "$$\n",
    "w = \\arg\\min_w MSE(Xw, y) \n",
    "$$\n",
    "\n",
    "Формула обучения:\n",
    "\n",
    "$$\n",
    "w = (X^T X)^{-1} X^T y \n",
    "$$"
   ]
  },
  {
   "cell_type": "markdown",
   "metadata": {},
   "source": [
    "**Вопрос:** Изменится ли качество линейной регрессии при умножении признаков на обратимую матрицу?"
   ]
  },
  {
   "cell_type": "markdown",
   "metadata": {},
   "source": [
    "**Ответ:** Не изменится\n",
    "\n",
    "**Обоснование:** \n",
    "\n",
    "Используя свойства матриц \n",
    "Домножим сначала матрицу Х на единичную,которую раскроем как произведение матрицы Р на обратную\n",
    "\n",
    "$$\n",
    "a = Xw = XEw = XPP^{-1}w= XPw'\n",
    "$$\n",
    "\n",
    "Получилось,что $a=XPw'$ и $a=Xw$ => $w'=Р^{-1}w$,для подтверждения тождества подставим в формулу обучения и получим:\n",
    "\n",
    "$$\n",
    "w' = ((XP)^TXP)^{-1}(XP)^Ty = (P^TX^TXP)^{-1}P^TX^Ty =\n",
    "P^{-1}(X^TX)^{-1}(P^T)^{-1}P^TX^Ty= P^{-1}(X^TX)^{-1}EX^Ty =\n",
    "P^{-1}(X^TX)^{-1}X^Ty =  P^{-1}w\n",
    "$$\n",
    "\n",
    "Что и требовалось доказать $XPw'=Xw$."
   ]
  },
  {
   "cell_type": "markdown",
   "metadata": {},
   "source": [
    "## Алгоритм преобразования"
   ]
  },
  {
   "cell_type": "markdown",
   "metadata": {},
   "source": [
    "**Алгоритм**\n",
    "\n",
    "1. Разбиваем датасет на выборки.\n",
    "2. Создаем квадратную обратимую матрицу\n",
    "3. Перемножаем матрицы, тем самым получаем преобразованные признаки\n",
    "4. Обучаем модели\n",
    "5. Ищем метрику качества на исходных и  преобразованных данных\n",
    "6. Выводим результаты для сравнения и подведения итогов"
   ]
  },
  {
   "cell_type": "markdown",
   "metadata": {},
   "source": [
    "**Обоснование**\n",
    "Умножать признаки будем на одну и ту же матрицу, соблюдая условие для умножения матриц(совпадения кол-во столбцов), в результате будет произведение таблицы с признаками на вектор. Проверим это в 4 пункте."
   ]
  },
  {
   "cell_type": "markdown",
   "metadata": {},
   "source": [
    "## Проверка алгоритма"
   ]
  },
  {
   "cell_type": "code",
   "execution_count": 5,
   "metadata": {},
   "outputs": [],
   "source": [
    "features = data.drop('Страховые выплаты',axis=1)\n",
    "target = data['Страховые выплаты'] #целевой признак"
   ]
  },
  {
   "cell_type": "code",
   "execution_count": 6,
   "metadata": {},
   "outputs": [],
   "source": [
    "features_train, features_test, target_train, target_test = train_test_split(\n",
    "    features, target, test_size=0.25, random_state=12345)"
   ]
  },
  {
   "cell_type": "markdown",
   "metadata": {},
   "source": [
    "Посчитаем метрику R2 для отмасштабированной модели"
   ]
  },
  {
   "cell_type": "code",
   "execution_count": 7,
   "metadata": {},
   "outputs": [
    {
     "name": "stdout",
     "output_type": "stream",
     "text": [
      "R2 = 0.4352275712702668\n"
     ]
    }
   ],
   "source": [
    "model = LinearRegression()\n",
    "scaller = StandardScaler()\n",
    "pipeline = Pipeline([(\"standard_scaller\", scaller),(\"linear_regression\", model)])\n",
    "pipeline.fit(features_train, target_train)\n",
    "R2_data = r2_score(target_test, pipeline.predict(features_test))\n",
    "print(\"R2 =\", R2_data)"
   ]
  },
  {
   "cell_type": "markdown",
   "metadata": {},
   "source": [
    "**Метрика R2 модели без преобразования равна 0.4352275712702668**"
   ]
  },
  {
   "cell_type": "code",
   "execution_count": 8,
   "metadata": {},
   "outputs": [
    {
     "data": {
      "text/html": [
       "<div>\n",
       "<style scoped>\n",
       "    .dataframe tbody tr th:only-of-type {\n",
       "        vertical-align: middle;\n",
       "    }\n",
       "\n",
       "    .dataframe tbody tr th {\n",
       "        vertical-align: top;\n",
       "    }\n",
       "\n",
       "    .dataframe thead th {\n",
       "        text-align: right;\n",
       "    }\n",
       "</style>\n",
       "<table border=\"1\" class=\"dataframe\">\n",
       "  <thead>\n",
       "    <tr style=\"text-align: right;\">\n",
       "      <th></th>\n",
       "      <th>Пол</th>\n",
       "      <th>Возраст</th>\n",
       "      <th>Зарплата</th>\n",
       "      <th>Члены семьи</th>\n",
       "    </tr>\n",
       "  </thead>\n",
       "  <tbody>\n",
       "    <tr>\n",
       "      <th>0</th>\n",
       "      <td>1</td>\n",
       "      <td>41</td>\n",
       "      <td>49600.0</td>\n",
       "      <td>1</td>\n",
       "    </tr>\n",
       "    <tr>\n",
       "      <th>1</th>\n",
       "      <td>0</td>\n",
       "      <td>46</td>\n",
       "      <td>38000.0</td>\n",
       "      <td>1</td>\n",
       "    </tr>\n",
       "    <tr>\n",
       "      <th>2</th>\n",
       "      <td>0</td>\n",
       "      <td>29</td>\n",
       "      <td>21000.0</td>\n",
       "      <td>0</td>\n",
       "    </tr>\n",
       "    <tr>\n",
       "      <th>3</th>\n",
       "      <td>0</td>\n",
       "      <td>21</td>\n",
       "      <td>41700.0</td>\n",
       "      <td>2</td>\n",
       "    </tr>\n",
       "    <tr>\n",
       "      <th>4</th>\n",
       "      <td>1</td>\n",
       "      <td>28</td>\n",
       "      <td>26100.0</td>\n",
       "      <td>0</td>\n",
       "    </tr>\n",
       "  </tbody>\n",
       "</table>\n",
       "</div>"
      ],
      "text/plain": [
       "   Пол  Возраст  Зарплата  Члены семьи\n",
       "0    1       41   49600.0            1\n",
       "1    0       46   38000.0            1\n",
       "2    0       29   21000.0            0\n",
       "3    0       21   41700.0            2\n",
       "4    1       28   26100.0            0"
      ]
     },
     "metadata": {},
     "output_type": "display_data"
    },
    {
     "data": {
      "text/html": [
       "<div>\n",
       "<style scoped>\n",
       "    .dataframe tbody tr th:only-of-type {\n",
       "        vertical-align: middle;\n",
       "    }\n",
       "\n",
       "    .dataframe tbody tr th {\n",
       "        vertical-align: top;\n",
       "    }\n",
       "\n",
       "    .dataframe thead th {\n",
       "        text-align: right;\n",
       "    }\n",
       "</style>\n",
       "<table border=\"1\" class=\"dataframe\">\n",
       "  <thead>\n",
       "    <tr style=\"text-align: right;\">\n",
       "      <th></th>\n",
       "      <th>0</th>\n",
       "      <th>1</th>\n",
       "      <th>2</th>\n",
       "      <th>3</th>\n",
       "    </tr>\n",
       "  </thead>\n",
       "  <tbody>\n",
       "    <tr>\n",
       "      <th>0</th>\n",
       "      <td>446703.0</td>\n",
       "      <td>198572.0</td>\n",
       "      <td>297736.0</td>\n",
       "      <td>297687.0</td>\n",
       "    </tr>\n",
       "    <tr>\n",
       "      <th>1</th>\n",
       "      <td>342329.0</td>\n",
       "      <td>152188.0</td>\n",
       "      <td>228144.0</td>\n",
       "      <td>228095.0</td>\n",
       "    </tr>\n",
       "    <tr>\n",
       "      <th>2</th>\n",
       "      <td>189203.0</td>\n",
       "      <td>84116.0</td>\n",
       "      <td>126087.0</td>\n",
       "      <td>126058.0</td>\n",
       "    </tr>\n",
       "    <tr>\n",
       "      <th>3</th>\n",
       "      <td>375461.0</td>\n",
       "      <td>166892.0</td>\n",
       "      <td>250275.0</td>\n",
       "      <td>250248.0</td>\n",
       "    </tr>\n",
       "    <tr>\n",
       "      <th>4</th>\n",
       "      <td>235105.0</td>\n",
       "      <td>104516.0</td>\n",
       "      <td>156691.0</td>\n",
       "      <td>156658.0</td>\n",
       "    </tr>\n",
       "  </tbody>\n",
       "</table>\n",
       "</div>"
      ],
      "text/plain": [
       "          0         1         2         3\n",
       "0  446703.0  198572.0  297736.0  297687.0\n",
       "1  342329.0  152188.0  228144.0  228095.0\n",
       "2  189203.0   84116.0  126087.0  126058.0\n",
       "3  375461.0  166892.0  250275.0  250248.0\n",
       "4  235105.0  104516.0  156691.0  156658.0"
      ]
     },
     "metadata": {},
     "output_type": "display_data"
    },
    {
     "data": {
      "text/plain": [
       "array([[9, 4, 7, 2],\n",
       "       [7, 4, 3, 2],\n",
       "       [9, 4, 6, 6],\n",
       "       [7, 4, 6, 3]])"
      ]
     },
     "execution_count": 8,
     "metadata": {},
     "output_type": "execute_result"
    }
   ],
   "source": [
    "# Создадим матрицу\n",
    "count = features.shape[1]\n",
    "matrix = np.random.randint(1,10, (count,count))\n",
    "display(features.head())\n",
    "m_features = features @ matrix\n",
    "np.linalg.inv(matrix)\n",
    "display(m_features.head())\n",
    "matrix"
   ]
  },
  {
   "cell_type": "markdown",
   "metadata": {},
   "source": [
    "Произведем рассчет метрики модели с преобразованием"
   ]
  },
  {
   "cell_type": "code",
   "execution_count": 9,
   "metadata": {},
   "outputs": [],
   "source": [
    "features_train, features_test, target_train, target_test = train_test_split(\n",
    "    m_features, target, test_size=0.25, random_state=12345)"
   ]
  },
  {
   "cell_type": "code",
   "execution_count": 10,
   "metadata": {},
   "outputs": [
    {
     "name": "stdout",
     "output_type": "stream",
     "text": [
      "R2 = 0.43522757127006306\n"
     ]
    }
   ],
   "source": [
    "model = LinearRegression()\n",
    "scaller = StandardScaler()\n",
    "pipeline = Pipeline([(\"standard_scaller\", scaller),(\"linear_regression\", model)])\n",
    "pipeline.fit(features_train, target_train)\n",
    "R2_m_data = r2_score(target_test, pipeline.predict(features_test))\n",
    "print(\"R2 =\", R2_m_data)"
   ]
  },
  {
   "cell_type": "markdown",
   "metadata": {},
   "source": [
    "**Метрика R2 модели с преобразованием равна 0.4352275712701458**"
   ]
  },
  {
   "cell_type": "code",
   "execution_count": 11,
   "metadata": {},
   "outputs": [
    {
     "data": {
      "text/html": [
       "<div>\n",
       "<style scoped>\n",
       "    .dataframe tbody tr th:only-of-type {\n",
       "        vertical-align: middle;\n",
       "    }\n",
       "\n",
       "    .dataframe tbody tr th {\n",
       "        vertical-align: top;\n",
       "    }\n",
       "\n",
       "    .dataframe thead th {\n",
       "        text-align: right;\n",
       "    }\n",
       "</style>\n",
       "<table border=\"1\" class=\"dataframe\">\n",
       "  <thead>\n",
       "    <tr style=\"text-align: right;\">\n",
       "      <th></th>\n",
       "      <th>0</th>\n",
       "      <th>1</th>\n",
       "      <th>2</th>\n",
       "      <th>3</th>\n",
       "    </tr>\n",
       "  </thead>\n",
       "  <tbody>\n",
       "    <tr>\n",
       "      <th>0</th>\n",
       "      <td>446703.0</td>\n",
       "      <td>198572.0</td>\n",
       "      <td>297736.0</td>\n",
       "      <td>297687.0</td>\n",
       "    </tr>\n",
       "    <tr>\n",
       "      <th>1</th>\n",
       "      <td>342329.0</td>\n",
       "      <td>152188.0</td>\n",
       "      <td>228144.0</td>\n",
       "      <td>228095.0</td>\n",
       "    </tr>\n",
       "    <tr>\n",
       "      <th>2</th>\n",
       "      <td>189203.0</td>\n",
       "      <td>84116.0</td>\n",
       "      <td>126087.0</td>\n",
       "      <td>126058.0</td>\n",
       "    </tr>\n",
       "    <tr>\n",
       "      <th>3</th>\n",
       "      <td>375461.0</td>\n",
       "      <td>166892.0</td>\n",
       "      <td>250275.0</td>\n",
       "      <td>250248.0</td>\n",
       "    </tr>\n",
       "    <tr>\n",
       "      <th>4</th>\n",
       "      <td>235105.0</td>\n",
       "      <td>104516.0</td>\n",
       "      <td>156691.0</td>\n",
       "      <td>156658.0</td>\n",
       "    </tr>\n",
       "  </tbody>\n",
       "</table>\n",
       "</div>"
      ],
      "text/plain": [
       "          0         1         2         3\n",
       "0  446703.0  198572.0  297736.0  297687.0\n",
       "1  342329.0  152188.0  228144.0  228095.0\n",
       "2  189203.0   84116.0  126087.0  126058.0\n",
       "3  375461.0  166892.0  250275.0  250248.0\n",
       "4  235105.0  104516.0  156691.0  156658.0"
      ]
     },
     "metadata": {},
     "output_type": "display_data"
    },
    {
     "data": {
      "text/html": [
       "<div>\n",
       "<style scoped>\n",
       "    .dataframe tbody tr th:only-of-type {\n",
       "        vertical-align: middle;\n",
       "    }\n",
       "\n",
       "    .dataframe tbody tr th {\n",
       "        vertical-align: top;\n",
       "    }\n",
       "\n",
       "    .dataframe thead th {\n",
       "        text-align: right;\n",
       "    }\n",
       "</style>\n",
       "<table border=\"1\" class=\"dataframe\">\n",
       "  <thead>\n",
       "    <tr style=\"text-align: right;\">\n",
       "      <th></th>\n",
       "      <th>Пол</th>\n",
       "      <th>Возраст</th>\n",
       "      <th>Зарплата</th>\n",
       "      <th>Члены семьи</th>\n",
       "    </tr>\n",
       "  </thead>\n",
       "  <tbody>\n",
       "    <tr>\n",
       "      <th>0</th>\n",
       "      <td>1</td>\n",
       "      <td>41</td>\n",
       "      <td>49600.0</td>\n",
       "      <td>1</td>\n",
       "    </tr>\n",
       "    <tr>\n",
       "      <th>1</th>\n",
       "      <td>0</td>\n",
       "      <td>46</td>\n",
       "      <td>38000.0</td>\n",
       "      <td>1</td>\n",
       "    </tr>\n",
       "    <tr>\n",
       "      <th>2</th>\n",
       "      <td>0</td>\n",
       "      <td>29</td>\n",
       "      <td>21000.0</td>\n",
       "      <td>0</td>\n",
       "    </tr>\n",
       "    <tr>\n",
       "      <th>3</th>\n",
       "      <td>0</td>\n",
       "      <td>21</td>\n",
       "      <td>41700.0</td>\n",
       "      <td>2</td>\n",
       "    </tr>\n",
       "    <tr>\n",
       "      <th>4</th>\n",
       "      <td>1</td>\n",
       "      <td>28</td>\n",
       "      <td>26100.0</td>\n",
       "      <td>0</td>\n",
       "    </tr>\n",
       "  </tbody>\n",
       "</table>\n",
       "</div>"
      ],
      "text/plain": [
       "   Пол  Возраст  Зарплата  Члены семьи\n",
       "0    1       41   49600.0            1\n",
       "1    0       46   38000.0            1\n",
       "2    0       29   21000.0            0\n",
       "3    0       21   41700.0            2\n",
       "4    1       28   26100.0            0"
      ]
     },
     "execution_count": 11,
     "metadata": {},
     "output_type": "execute_result"
    }
   ],
   "source": [
    "display(m_features.head()) #данные после перобразования\n",
    "features.head() #исходнные данные "
   ]
  },
  {
   "cell_type": "code",
   "execution_count": 12,
   "metadata": {},
   "outputs": [
    {
     "data": {
      "text/html": [
       "<div>\n",
       "<style scoped>\n",
       "    .dataframe tbody tr th:only-of-type {\n",
       "        vertical-align: middle;\n",
       "    }\n",
       "\n",
       "    .dataframe tbody tr th {\n",
       "        vertical-align: top;\n",
       "    }\n",
       "\n",
       "    .dataframe thead th {\n",
       "        text-align: right;\n",
       "    }\n",
       "</style>\n",
       "<table border=\"1\" class=\"dataframe\">\n",
       "  <thead>\n",
       "    <tr style=\"text-align: right;\">\n",
       "      <th></th>\n",
       "      <th>0</th>\n",
       "      <th>1</th>\n",
       "      <th>2</th>\n",
       "      <th>3</th>\n",
       "    </tr>\n",
       "  </thead>\n",
       "  <tbody>\n",
       "    <tr>\n",
       "      <th>0</th>\n",
       "      <td>1.0</td>\n",
       "      <td>41.0</td>\n",
       "      <td>49600.0</td>\n",
       "      <td>1.0</td>\n",
       "    </tr>\n",
       "    <tr>\n",
       "      <th>1</th>\n",
       "      <td>-0.0</td>\n",
       "      <td>46.0</td>\n",
       "      <td>38000.0</td>\n",
       "      <td>1.0</td>\n",
       "    </tr>\n",
       "    <tr>\n",
       "      <th>2</th>\n",
       "      <td>-0.0</td>\n",
       "      <td>29.0</td>\n",
       "      <td>21000.0</td>\n",
       "      <td>0.0</td>\n",
       "    </tr>\n",
       "    <tr>\n",
       "      <th>3</th>\n",
       "      <td>-0.0</td>\n",
       "      <td>21.0</td>\n",
       "      <td>41700.0</td>\n",
       "      <td>2.0</td>\n",
       "    </tr>\n",
       "    <tr>\n",
       "      <th>4</th>\n",
       "      <td>1.0</td>\n",
       "      <td>28.0</td>\n",
       "      <td>26100.0</td>\n",
       "      <td>0.0</td>\n",
       "    </tr>\n",
       "  </tbody>\n",
       "</table>\n",
       "</div>"
      ],
      "text/plain": [
       "     0     1        2    3\n",
       "0  1.0  41.0  49600.0  1.0\n",
       "1 -0.0  46.0  38000.0  1.0\n",
       "2 -0.0  29.0  21000.0  0.0\n",
       "3 -0.0  21.0  41700.0  2.0\n",
       "4  1.0  28.0  26100.0  0.0"
      ]
     },
     "execution_count": 12,
     "metadata": {},
     "output_type": "execute_result"
    }
   ],
   "source": [
    "matrix = np.linalg.inv(matrix)\n",
    "recov_features = m_features @ matrix\n",
    "recov_features = round(recov_features,2)\n",
    "recov_features.head() #исходные данные"
   ]
  },
  {
   "cell_type": "markdown",
   "metadata": {},
   "source": [
    "### Вывод\n",
    "\n",
    "- В данной работе мы загрузили данные, качество данных адекватное, для экономии памяти мы заменили тип столбца \"Возраст\" на целочисленный\n",
    "- В результате был разработан алгоритм, где данные были преобразованы методом умножения признаков исходных данных на обратимую матрицу\n",
    "- Качество линейной регресии не изменилось от использования исxодной матрицы и исходной матрицы, умноженную на обратимую \n",
    "- Произвели доказательство нашей теории, основываясь на законах ленейной алегебры, а так же с помощью кода доказали это с использованием метрики R2.\n",
    "-  Метрика R2 модели без преобразования и метрика R2 модели с преобразованием совпали, (учитывая, что значения 12-ой цифры после запятой не считали)"
   ]
  },
  {
   "cell_type": "code",
   "execution_count": null,
   "metadata": {},
   "outputs": [],
   "source": []
  }
 ],
 "metadata": {
  "ExecuteTimeLog": [
   {
    "duration": 958,
    "start_time": "2023-05-24T15:33:24.156Z"
   },
   {
    "duration": 120,
    "start_time": "2023-05-24T15:33:25.116Z"
   },
   {
    "duration": 5,
    "start_time": "2023-05-24T15:42:33.871Z"
   },
   {
    "duration": 56,
    "start_time": "2023-05-24T15:42:37.575Z"
   },
   {
    "duration": 110,
    "start_time": "2023-05-24T15:42:45.012Z"
   },
   {
    "duration": 4,
    "start_time": "2023-05-24T15:42:56.016Z"
   },
   {
    "duration": 23,
    "start_time": "2023-05-24T15:43:03.184Z"
   },
   {
    "duration": 51,
    "start_time": "2023-05-24T15:45:57.770Z"
   },
   {
    "duration": 36,
    "start_time": "2023-05-24T15:46:11.612Z"
   },
   {
    "duration": 7,
    "start_time": "2023-05-24T16:06:10.154Z"
   },
   {
    "duration": 10,
    "start_time": "2023-05-24T16:06:14.715Z"
   },
   {
    "duration": 41,
    "start_time": "2023-05-24T16:07:14.174Z"
   },
   {
    "duration": 50,
    "start_time": "2023-05-27T13:12:06.252Z"
   },
   {
    "duration": 6,
    "start_time": "2023-05-27T13:12:17.845Z"
   },
   {
    "duration": 1110,
    "start_time": "2023-05-27T13:12:24.345Z"
   },
   {
    "duration": 85,
    "start_time": "2023-05-27T13:12:25.457Z"
   },
   {
    "duration": 23,
    "start_time": "2023-05-27T13:12:25.543Z"
   },
   {
    "duration": 4,
    "start_time": "2023-05-27T13:12:25.568Z"
   },
   {
    "duration": 4,
    "start_time": "2023-05-27T13:12:27.822Z"
   },
   {
    "duration": 55,
    "start_time": "2023-05-27T20:05:07.648Z"
   },
   {
    "duration": 1072,
    "start_time": "2023-05-27T20:05:11.202Z"
   },
   {
    "duration": 112,
    "start_time": "2023-05-27T20:05:12.276Z"
   },
   {
    "duration": 26,
    "start_time": "2023-05-27T20:05:17.713Z"
   },
   {
    "duration": 5,
    "start_time": "2023-05-27T20:05:20.399Z"
   },
   {
    "duration": 5,
    "start_time": "2023-05-27T20:05:23.937Z"
   },
   {
    "duration": 9,
    "start_time": "2023-05-27T20:05:23.944Z"
   },
   {
    "duration": 11,
    "start_time": "2023-05-27T20:05:23.954Z"
   },
   {
    "duration": 21,
    "start_time": "2023-05-27T20:05:48.292Z"
   },
   {
    "duration": 23,
    "start_time": "2023-05-27T20:06:10.793Z"
   },
   {
    "duration": 8,
    "start_time": "2023-05-27T20:06:11.853Z"
   },
   {
    "duration": 21,
    "start_time": "2023-05-27T20:06:15.700Z"
   },
   {
    "duration": 5,
    "start_time": "2023-05-27T20:06:19.392Z"
   },
   {
    "duration": 20,
    "start_time": "2023-05-27T20:06:19.851Z"
   },
   {
    "duration": 20,
    "start_time": "2023-05-27T20:06:27.589Z"
   },
   {
    "duration": 27,
    "start_time": "2023-05-27T20:08:36.357Z"
   },
   {
    "duration": 23,
    "start_time": "2023-05-27T20:09:51.635Z"
   },
   {
    "duration": 22,
    "start_time": "2023-05-27T20:10:19.885Z"
   },
   {
    "duration": 11,
    "start_time": "2023-05-27T20:10:26.480Z"
   },
   {
    "duration": 20,
    "start_time": "2023-05-27T20:10:33.232Z"
   },
   {
    "duration": 12,
    "start_time": "2023-05-27T20:11:05.826Z"
   },
   {
    "duration": 15,
    "start_time": "2023-05-27T20:11:09.433Z"
   },
   {
    "duration": 14,
    "start_time": "2023-05-27T20:11:12.883Z"
   },
   {
    "duration": 14,
    "start_time": "2023-05-27T20:11:14.879Z"
   },
   {
    "duration": 5,
    "start_time": "2023-05-27T20:11:29.607Z"
   },
   {
    "duration": 16,
    "start_time": "2023-05-27T20:11:30.136Z"
   },
   {
    "duration": 3,
    "start_time": "2023-05-27T20:11:36.474Z"
   },
   {
    "duration": 22,
    "start_time": "2023-05-27T20:11:36.479Z"
   },
   {
    "duration": 13,
    "start_time": "2023-05-27T20:11:37.174Z"
   },
   {
    "duration": 3,
    "start_time": "2023-05-27T20:11:43.886Z"
   },
   {
    "duration": 23,
    "start_time": "2023-05-27T20:11:43.891Z"
   },
   {
    "duration": 12,
    "start_time": "2023-05-27T20:11:44.045Z"
   },
   {
    "duration": 24,
    "start_time": "2023-05-27T20:11:44.059Z"
   },
   {
    "duration": 998,
    "start_time": "2023-05-27T20:12:40.729Z"
   },
   {
    "duration": 40,
    "start_time": "2023-05-27T20:12:41.729Z"
   },
   {
    "duration": 26,
    "start_time": "2023-05-27T20:12:41.771Z"
   },
   {
    "duration": 4,
    "start_time": "2023-05-27T20:12:41.799Z"
   },
   {
    "duration": 4,
    "start_time": "2023-05-27T20:12:43.947Z"
   },
   {
    "duration": 5,
    "start_time": "2023-05-27T20:12:44.142Z"
   },
   {
    "duration": 89,
    "start_time": "2023-05-27T20:12:44.987Z"
   },
   {
    "duration": 18,
    "start_time": "2023-05-27T20:13:24.915Z"
   },
   {
    "duration": 12,
    "start_time": "2023-05-27T20:13:36.294Z"
   },
   {
    "duration": 2,
    "start_time": "2023-05-27T20:14:51.217Z"
   },
   {
    "duration": 42,
    "start_time": "2023-05-27T20:14:51.221Z"
   },
   {
    "duration": 22,
    "start_time": "2023-05-27T20:14:51.264Z"
   },
   {
    "duration": 6,
    "start_time": "2023-05-27T20:14:57.278Z"
   },
   {
    "duration": 5,
    "start_time": "2023-05-27T20:14:59.978Z"
   },
   {
    "duration": 5,
    "start_time": "2023-05-27T20:14:59.985Z"
   },
   {
    "duration": 13,
    "start_time": "2023-05-27T20:15:00.060Z"
   },
   {
    "duration": 8,
    "start_time": "2023-05-27T20:15:01.892Z"
   },
   {
    "duration": 10,
    "start_time": "2023-05-27T20:15:09.170Z"
   },
   {
    "duration": 8,
    "start_time": "2023-05-27T20:28:51.248Z"
   },
   {
    "duration": 10,
    "start_time": "2023-05-27T20:28:53.963Z"
   },
   {
    "duration": 5,
    "start_time": "2023-05-27T20:48:07.960Z"
   },
   {
    "duration": 5,
    "start_time": "2023-05-27T20:48:08.327Z"
   },
   {
    "duration": 9,
    "start_time": "2023-05-27T20:48:09.392Z"
   },
   {
    "duration": 11,
    "start_time": "2023-05-27T20:48:10.019Z"
   },
   {
    "duration": 16,
    "start_time": "2023-05-27T20:48:10.839Z"
   },
   {
    "duration": 9,
    "start_time": "2023-05-27T20:48:11.793Z"
   },
   {
    "duration": 11,
    "start_time": "2023-05-27T20:48:12.019Z"
   },
   {
    "duration": 17,
    "start_time": "2023-05-27T20:53:39.896Z"
   },
   {
    "duration": 4,
    "start_time": "2023-05-27T20:53:40.188Z"
   },
   {
    "duration": 5,
    "start_time": "2023-05-27T20:53:40.383Z"
   },
   {
    "duration": 10,
    "start_time": "2023-05-27T20:53:40.900Z"
   },
   {
    "duration": 10,
    "start_time": "2023-05-27T20:53:41.339Z"
   },
   {
    "duration": 6,
    "start_time": "2023-05-27T20:53:42.459Z"
   },
   {
    "duration": 9,
    "start_time": "2023-05-27T20:53:44.446Z"
   },
   {
    "duration": 11,
    "start_time": "2023-05-27T20:53:50.390Z"
   },
   {
    "duration": 8,
    "start_time": "2023-05-27T20:53:55.419Z"
   },
   {
    "duration": 4,
    "start_time": "2023-05-27T21:02:43.494Z"
   },
   {
    "duration": 5,
    "start_time": "2023-05-27T21:02:43.726Z"
   },
   {
    "duration": 13,
    "start_time": "2023-05-27T21:02:44.208Z"
   },
   {
    "duration": 4,
    "start_time": "2023-05-27T21:07:16.834Z"
   },
   {
    "duration": 11,
    "start_time": "2023-05-27T21:07:17.199Z"
   },
   {
    "duration": 12,
    "start_time": "2023-05-27T21:08:00.695Z"
   },
   {
    "duration": 44,
    "start_time": "2023-05-27T21:09:22.007Z"
   },
   {
    "duration": 3,
    "start_time": "2023-05-27T21:21:54.956Z"
   },
   {
    "duration": 37,
    "start_time": "2023-05-27T21:21:55.283Z"
   },
   {
    "duration": 21,
    "start_time": "2023-05-27T21:21:55.498Z"
   },
   {
    "duration": 4,
    "start_time": "2023-05-27T21:21:55.739Z"
   },
   {
    "duration": 14,
    "start_time": "2023-05-27T21:21:58.140Z"
   },
   {
    "duration": 5,
    "start_time": "2023-05-27T21:21:58.340Z"
   },
   {
    "duration": 5,
    "start_time": "2023-05-27T21:21:58.560Z"
   },
   {
    "duration": 12,
    "start_time": "2023-05-27T21:21:58.979Z"
   },
   {
    "duration": 6,
    "start_time": "2023-05-27T21:21:59.607Z"
   },
   {
    "duration": 16,
    "start_time": "2023-05-27T21:21:59.801Z"
   },
   {
    "duration": 15,
    "start_time": "2023-05-27T21:22:34.156Z"
   },
   {
    "duration": 5410,
    "start_time": "2023-05-28T13:10:40.625Z"
   },
   {
    "duration": 102,
    "start_time": "2023-05-28T13:10:46.045Z"
   },
   {
    "duration": 194,
    "start_time": "2023-05-28T13:10:46.149Z"
   },
   {
    "duration": 87,
    "start_time": "2023-05-28T13:10:46.348Z"
   },
   {
    "duration": 703,
    "start_time": "2023-05-28T13:10:46.445Z"
   },
   {
    "duration": 0,
    "start_time": "2023-05-28T13:10:47.155Z"
   },
   {
    "duration": 0,
    "start_time": "2023-05-28T13:10:47.157Z"
   },
   {
    "duration": 0,
    "start_time": "2023-05-28T13:10:47.158Z"
   },
   {
    "duration": 0,
    "start_time": "2023-05-28T13:10:47.159Z"
   },
   {
    "duration": 0,
    "start_time": "2023-05-28T13:10:47.160Z"
   },
   {
    "duration": 54,
    "start_time": "2023-05-28T13:34:35.906Z"
   },
   {
    "duration": 5,
    "start_time": "2023-05-28T13:34:36.167Z"
   },
   {
    "duration": 18,
    "start_time": "2023-05-28T13:34:49.095Z"
   },
   {
    "duration": 1152,
    "start_time": "2023-05-28T13:34:55.004Z"
   },
   {
    "duration": 124,
    "start_time": "2023-05-28T13:34:56.158Z"
   },
   {
    "duration": 37,
    "start_time": "2023-05-28T13:34:56.285Z"
   },
   {
    "duration": 5,
    "start_time": "2023-05-28T13:34:56.326Z"
   },
   {
    "duration": 14,
    "start_time": "2023-05-28T13:34:59.873Z"
   },
   {
    "duration": 5,
    "start_time": "2023-05-28T13:35:00.171Z"
   },
   {
    "duration": 71,
    "start_time": "2023-05-28T13:35:01.318Z"
   },
   {
    "duration": 20,
    "start_time": "2023-05-28T13:35:01.812Z"
   },
   {
    "duration": 7,
    "start_time": "2023-05-28T13:35:02.573Z"
   },
   {
    "duration": 9,
    "start_time": "2023-05-28T13:35:03.319Z"
   },
   {
    "duration": 4,
    "start_time": "2023-05-28T13:35:36.362Z"
   },
   {
    "duration": 57,
    "start_time": "2023-05-28T13:35:36.863Z"
   },
   {
    "duration": 28,
    "start_time": "2023-05-28T13:35:37.218Z"
   },
   {
    "duration": 6,
    "start_time": "2023-05-28T13:35:37.459Z"
   },
   {
    "duration": 6,
    "start_time": "2023-05-28T13:35:40.714Z"
   },
   {
    "duration": 16,
    "start_time": "2023-05-28T13:35:41.112Z"
   },
   {
    "duration": 20,
    "start_time": "2023-05-28T13:35:41.612Z"
   },
   {
    "duration": 11,
    "start_time": "2023-05-28T13:36:05.959Z"
   },
   {
    "duration": 12,
    "start_time": "2023-05-28T13:36:09.644Z"
   },
   {
    "duration": 8,
    "start_time": "2023-05-28T13:36:11.338Z"
   },
   {
    "duration": 23,
    "start_time": "2023-05-28T13:36:11.701Z"
   },
   {
    "duration": 3,
    "start_time": "2023-05-28T13:36:21.256Z"
   },
   {
    "duration": 6,
    "start_time": "2023-05-28T13:36:21.533Z"
   },
   {
    "duration": 24,
    "start_time": "2023-05-28T13:36:22.002Z"
   },
   {
    "duration": 20,
    "start_time": "2023-05-28T13:36:22.432Z"
   },
   {
    "duration": 15,
    "start_time": "2023-05-28T13:36:23.098Z"
   },
   {
    "duration": 11,
    "start_time": "2023-05-28T13:36:23.220Z"
   },
   {
    "duration": 26,
    "start_time": "2023-05-28T13:37:57.476Z"
   },
   {
    "duration": 8,
    "start_time": "2023-05-28T13:38:07.823Z"
   },
   {
    "duration": 5,
    "start_time": "2023-05-28T13:38:12.205Z"
   },
   {
    "duration": 66,
    "start_time": "2023-05-28T13:38:13.655Z"
   },
   {
    "duration": 41,
    "start_time": "2023-05-28T13:38:14.076Z"
   },
   {
    "duration": 11,
    "start_time": "2023-05-28T13:38:14.205Z"
   },
   {
    "duration": 1084,
    "start_time": "2023-05-28T13:38:19.629Z"
   },
   {
    "duration": 42,
    "start_time": "2023-05-28T13:38:20.715Z"
   },
   {
    "duration": 36,
    "start_time": "2023-05-28T13:38:20.759Z"
   },
   {
    "duration": 7,
    "start_time": "2023-05-28T13:38:20.803Z"
   },
   {
    "duration": 10,
    "start_time": "2023-05-28T13:38:20.812Z"
   },
   {
    "duration": 10,
    "start_time": "2023-05-28T13:38:20.823Z"
   },
   {
    "duration": 105,
    "start_time": "2023-05-28T13:38:20.834Z"
   },
   {
    "duration": 0,
    "start_time": "2023-05-28T13:38:20.941Z"
   },
   {
    "duration": 0,
    "start_time": "2023-05-28T13:38:20.942Z"
   },
   {
    "duration": 0,
    "start_time": "2023-05-28T13:38:20.943Z"
   },
   {
    "duration": 1091,
    "start_time": "2023-05-28T13:39:16.120Z"
   },
   {
    "duration": 46,
    "start_time": "2023-05-28T13:39:17.215Z"
   },
   {
    "duration": 44,
    "start_time": "2023-05-28T13:39:17.263Z"
   },
   {
    "duration": 5,
    "start_time": "2023-05-28T13:39:17.310Z"
   },
   {
    "duration": 11,
    "start_time": "2023-05-28T13:39:17.317Z"
   },
   {
    "duration": 5,
    "start_time": "2023-05-28T13:39:17.331Z"
   },
   {
    "duration": 15,
    "start_time": "2023-05-28T13:39:17.338Z"
   },
   {
    "duration": 33,
    "start_time": "2023-05-28T13:39:17.355Z"
   },
   {
    "duration": 11,
    "start_time": "2023-05-28T13:39:17.393Z"
   },
   {
    "duration": 80,
    "start_time": "2023-05-28T13:39:17.407Z"
   },
   {
    "duration": 1168,
    "start_time": "2023-05-28T13:40:11.068Z"
   },
   {
    "duration": 43,
    "start_time": "2023-05-28T13:40:12.238Z"
   },
   {
    "duration": 46,
    "start_time": "2023-05-28T13:40:12.290Z"
   },
   {
    "duration": 4,
    "start_time": "2023-05-28T13:40:12.338Z"
   },
   {
    "duration": 24,
    "start_time": "2023-05-28T13:40:12.345Z"
   },
   {
    "duration": 25,
    "start_time": "2023-05-28T13:40:12.371Z"
   },
   {
    "duration": 21,
    "start_time": "2023-05-28T13:40:12.398Z"
   },
   {
    "duration": 65,
    "start_time": "2023-05-28T13:40:12.420Z"
   },
   {
    "duration": 12,
    "start_time": "2023-05-28T13:40:12.489Z"
   },
   {
    "duration": 20,
    "start_time": "2023-05-28T13:40:12.503Z"
   },
   {
    "duration": 1407,
    "start_time": "2023-05-29T07:25:05.099Z"
   },
   {
    "duration": 115,
    "start_time": "2023-05-29T07:25:06.507Z"
   },
   {
    "duration": 45,
    "start_time": "2023-05-29T07:25:06.623Z"
   },
   {
    "duration": 7,
    "start_time": "2023-05-29T07:25:06.670Z"
   },
   {
    "duration": 7,
    "start_time": "2023-05-29T07:25:06.679Z"
   },
   {
    "duration": 7,
    "start_time": "2023-05-29T07:25:06.687Z"
   },
   {
    "duration": 30,
    "start_time": "2023-05-29T07:25:06.695Z"
   },
   {
    "duration": 41,
    "start_time": "2023-05-29T07:25:06.731Z"
   },
   {
    "duration": 63,
    "start_time": "2023-05-29T07:25:06.775Z"
   },
   {
    "duration": 51,
    "start_time": "2023-05-29T07:25:06.840Z"
   },
   {
    "duration": 1067,
    "start_time": "2023-05-29T10:26:25.980Z"
   },
   {
    "duration": 101,
    "start_time": "2023-05-29T10:26:27.049Z"
   },
   {
    "duration": 33,
    "start_time": "2023-05-29T10:26:27.152Z"
   },
   {
    "duration": 5,
    "start_time": "2023-05-29T10:26:27.187Z"
   },
   {
    "duration": 40,
    "start_time": "2023-05-29T10:26:27.194Z"
   },
   {
    "duration": 16,
    "start_time": "2023-05-29T10:26:27.236Z"
   },
   {
    "duration": 21,
    "start_time": "2023-05-29T10:26:27.254Z"
   },
   {
    "duration": 17,
    "start_time": "2023-05-29T10:26:27.276Z"
   },
   {
    "duration": 21,
    "start_time": "2023-05-29T10:26:27.295Z"
   },
   {
    "duration": 120,
    "start_time": "2023-05-29T10:26:27.317Z"
   },
   {
    "duration": 10,
    "start_time": "2023-05-29T10:26:27.438Z"
   },
   {
    "duration": 16,
    "start_time": "2023-05-29T10:27:22.587Z"
   },
   {
    "duration": 4,
    "start_time": "2023-05-29T10:27:27.063Z"
   },
   {
    "duration": 11,
    "start_time": "2023-05-29T10:27:27.287Z"
   },
   {
    "duration": 8,
    "start_time": "2023-05-29T10:27:28.352Z"
   },
   {
    "duration": 980,
    "start_time": "2023-05-29T11:22:42.180Z"
   },
   {
    "duration": 46,
    "start_time": "2023-05-29T11:22:43.162Z"
   },
   {
    "duration": 34,
    "start_time": "2023-05-29T11:22:43.210Z"
   },
   {
    "duration": 4,
    "start_time": "2023-05-29T11:22:43.246Z"
   },
   {
    "duration": 16,
    "start_time": "2023-05-29T11:22:43.251Z"
   },
   {
    "duration": 15,
    "start_time": "2023-05-29T11:22:43.268Z"
   },
   {
    "duration": 15,
    "start_time": "2023-05-29T11:22:43.285Z"
   },
   {
    "duration": 22,
    "start_time": "2023-05-29T11:22:43.302Z"
   },
   {
    "duration": 7,
    "start_time": "2023-05-29T11:22:43.326Z"
   },
   {
    "duration": 104,
    "start_time": "2023-05-29T11:22:43.335Z"
   },
   {
    "duration": 9,
    "start_time": "2023-05-29T11:22:43.441Z"
   },
   {
    "duration": 18,
    "start_time": "2023-05-29T11:22:43.452Z"
   },
   {
    "duration": 11,
    "start_time": "2023-05-29T11:23:15.412Z"
   },
   {
    "duration": 11,
    "start_time": "2023-05-29T11:24:06.196Z"
   },
   {
    "duration": 11,
    "start_time": "2023-05-29T11:26:20.980Z"
   },
   {
    "duration": 12,
    "start_time": "2023-05-29T11:27:04.988Z"
   },
   {
    "duration": 12,
    "start_time": "2023-05-29T11:27:11.539Z"
   },
   {
    "duration": 11,
    "start_time": "2023-05-29T11:27:16.084Z"
   },
   {
    "duration": 8,
    "start_time": "2023-05-29T11:34:28.380Z"
   },
   {
    "duration": 13,
    "start_time": "2023-05-29T11:34:48.144Z"
   },
   {
    "duration": 11,
    "start_time": "2023-05-29T11:34:52.296Z"
   },
   {
    "duration": 1068,
    "start_time": "2023-05-29T11:34:58.507Z"
   },
   {
    "duration": 37,
    "start_time": "2023-05-29T11:34:59.577Z"
   },
   {
    "duration": 24,
    "start_time": "2023-05-29T11:34:59.616Z"
   },
   {
    "duration": 4,
    "start_time": "2023-05-29T11:34:59.642Z"
   },
   {
    "duration": 5,
    "start_time": "2023-05-29T11:34:59.648Z"
   },
   {
    "duration": 14,
    "start_time": "2023-05-29T11:34:59.655Z"
   },
   {
    "duration": 36,
    "start_time": "2023-05-29T11:34:59.670Z"
   },
   {
    "duration": 17,
    "start_time": "2023-05-29T11:34:59.708Z"
   },
   {
    "duration": 89,
    "start_time": "2023-05-29T11:34:59.727Z"
   },
   {
    "duration": 12,
    "start_time": "2023-05-29T11:34:59.819Z"
   },
   {
    "duration": 99,
    "start_time": "2023-05-29T11:34:59.833Z"
   },
   {
    "duration": 32,
    "start_time": "2023-05-29T11:34:59.933Z"
   },
   {
    "duration": 983,
    "start_time": "2023-05-29T11:35:12.175Z"
   },
   {
    "duration": 36,
    "start_time": "2023-05-29T11:35:13.160Z"
   },
   {
    "duration": 23,
    "start_time": "2023-05-29T11:35:13.197Z"
   },
   {
    "duration": 4,
    "start_time": "2023-05-29T11:35:13.222Z"
   },
   {
    "duration": 10,
    "start_time": "2023-05-29T11:35:13.227Z"
   },
   {
    "duration": 12,
    "start_time": "2023-05-29T11:35:13.238Z"
   },
   {
    "duration": 17,
    "start_time": "2023-05-29T11:35:13.251Z"
   },
   {
    "duration": 15,
    "start_time": "2023-05-29T11:35:13.269Z"
   },
   {
    "duration": 5,
    "start_time": "2023-05-29T11:35:13.316Z"
   },
   {
    "duration": 92,
    "start_time": "2023-05-29T11:35:13.323Z"
   },
   {
    "duration": 7,
    "start_time": "2023-05-29T11:35:13.417Z"
   },
   {
    "duration": 19,
    "start_time": "2023-05-29T11:35:13.426Z"
   },
   {
    "duration": 2,
    "start_time": "2023-05-29T11:35:20.288Z"
   },
   {
    "duration": 34,
    "start_time": "2023-05-29T11:35:20.848Z"
   },
   {
    "duration": 18,
    "start_time": "2023-05-29T11:35:21.248Z"
   },
   {
    "duration": 5,
    "start_time": "2023-05-29T11:35:21.451Z"
   },
   {
    "duration": 3,
    "start_time": "2023-05-29T11:35:24.753Z"
   },
   {
    "duration": 5,
    "start_time": "2023-05-29T11:35:24.927Z"
   },
   {
    "duration": 10,
    "start_time": "2023-05-29T11:35:25.577Z"
   },
   {
    "duration": 15,
    "start_time": "2023-05-29T11:35:26.185Z"
   },
   {
    "duration": 5,
    "start_time": "2023-05-29T11:35:27.502Z"
   },
   {
    "duration": 11,
    "start_time": "2023-05-29T11:35:27.927Z"
   },
   {
    "duration": 8,
    "start_time": "2023-05-29T11:35:29.222Z"
   },
   {
    "duration": 12,
    "start_time": "2023-05-29T11:35:29.501Z"
   },
   {
    "duration": 109,
    "start_time": "2023-05-29T11:36:00.712Z"
   },
   {
    "duration": 13,
    "start_time": "2023-05-29T11:36:15.945Z"
   },
   {
    "duration": 13,
    "start_time": "2023-05-29T11:36:36.722Z"
   },
   {
    "duration": 1389,
    "start_time": "2023-05-30T07:58:29.269Z"
   },
   {
    "duration": 37,
    "start_time": "2023-05-30T07:58:30.660Z"
   },
   {
    "duration": 43,
    "start_time": "2023-05-30T07:58:30.699Z"
   },
   {
    "duration": 93,
    "start_time": "2023-05-30T07:58:30.743Z"
   },
   {
    "duration": 92,
    "start_time": "2023-05-30T07:58:30.839Z"
   },
   {
    "duration": 81,
    "start_time": "2023-05-30T07:58:30.932Z"
   },
   {
    "duration": 67,
    "start_time": "2023-05-30T07:58:31.019Z"
   },
   {
    "duration": 52,
    "start_time": "2023-05-30T07:58:31.087Z"
   },
   {
    "duration": 8,
    "start_time": "2023-05-30T07:58:31.141Z"
   },
   {
    "duration": 91,
    "start_time": "2023-05-30T07:58:31.151Z"
   },
   {
    "duration": 96,
    "start_time": "2023-05-30T07:58:31.244Z"
   },
   {
    "duration": 35,
    "start_time": "2023-05-30T07:58:31.342Z"
   }
  ],
  "kernelspec": {
   "display_name": "Python 3 (ipykernel)",
   "language": "python",
   "name": "python3"
  },
  "language_info": {
   "codemirror_mode": {
    "name": "ipython",
    "version": 3
   },
   "file_extension": ".py",
   "mimetype": "text/x-python",
   "name": "python",
   "nbconvert_exporter": "python",
   "pygments_lexer": "ipython3",
   "version": "3.9.5"
  },
  "toc": {
   "base_numbering": 1,
   "nav_menu": {},
   "number_sections": true,
   "sideBar": true,
   "skip_h1_title": true,
   "title_cell": "Содержание",
   "title_sidebar": "Contents",
   "toc_cell": true,
   "toc_position": {
    "height": "calc(100% - 180px)",
    "left": "10px",
    "top": "150px",
    "width": "165px"
   },
   "toc_section_display": true,
   "toc_window_display": true
  }
 },
 "nbformat": 4,
 "nbformat_minor": 2
}
