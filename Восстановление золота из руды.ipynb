{
 "cells": [
  {
   "cell_type": "markdown",
   "metadata": {
    "toc": true
   },
   "source": [
    "<h1>Содержание<span class=\"tocSkip\"></span></h1>\n",
    "<div class=\"toc\"><ul class=\"toc-item\"><li><span><a href=\"#Подготовка-данных\" data-toc-modified-id=\"Подготовка-данных-1\"><span class=\"toc-item-num\">1&nbsp;&nbsp;</span>Подготовка данных</a></span><ul class=\"toc-item\"><li><span><a href=\"#Откройте-файлы-и-изучите-их\" data-toc-modified-id=\"Откройте-файлы-и-изучите-их-1.1\"><span class=\"toc-item-num\">1.1&nbsp;&nbsp;</span>Откройте файлы и изучите их</a></span></li><li><span><a href=\"#Проверка-эффективности-обогащения\" data-toc-modified-id=\"Проверка-эффективности-обогащения-1.2\"><span class=\"toc-item-num\">1.2&nbsp;&nbsp;</span>Проверка эффективности обогащения</a></span></li><li><span><a href=\"#-Комментарий-ревьюера-v1\" data-toc-modified-id=\"-Комментарий-ревьюера-v1-1.3\"><span class=\"toc-item-num\">1.3&nbsp;&nbsp;</span> Комментарий ревьюера v1</a></span></li><li><span><a href=\"#Анализ-признаков,-недоступныхв-тестовой-выборке.\" data-toc-modified-id=\"Анализ-признаков,-недоступныхв-тестовой-выборке.-1.4\"><span class=\"toc-item-num\">1.4&nbsp;&nbsp;</span>Анализ признаков, недоступныхв тестовой выборке.</a></span></li><li><span><a href=\"#-Комментарий-ревьюера-v1\" data-toc-modified-id=\"-Комментарий-ревьюера-v1-1.5\"><span class=\"toc-item-num\">1.5&nbsp;&nbsp;</span> Комментарий ревьюера v1</a></span></li><li><span><a href=\"#Предобработка-данных.\" data-toc-modified-id=\"Предобработка-данных.-1.6\"><span class=\"toc-item-num\">1.6&nbsp;&nbsp;</span>Предобработка данных.</a></span></li><li><span><a href=\"#-Комментарий-ревьюера-v1\" data-toc-modified-id=\"-Комментарий-ревьюера-v1-1.7\"><span class=\"toc-item-num\">1.7&nbsp;&nbsp;</span> Комментарий ревьюера v1</a></span></li><li><span><a href=\"#вывод\" data-toc-modified-id=\"вывод-1.8\"><span class=\"toc-item-num\">1.8&nbsp;&nbsp;</span>вывод</a></span></li><li><span><a href=\"#-Комментарий-ревьюера-v1\" data-toc-modified-id=\"-Комментарий-ревьюера-v1-1.9\"><span class=\"toc-item-num\">1.9&nbsp;&nbsp;</span> Комментарий ревьюера v1</a></span></li></ul></li><li><span><a href=\"#Анализ-данных\" data-toc-modified-id=\"Анализ-данных-2\"><span class=\"toc-item-num\">2&nbsp;&nbsp;</span>Анализ данных</a></span><ul class=\"toc-item\"><li><span><a href=\"#Рассмотрим-концентрация-металлов-(Au,-Ag,-Pb)-на-различных-этапах-очистки\" data-toc-modified-id=\"Рассмотрим-концентрация-металлов-(Au,-Ag,-Pb)-на-различных-этапах-очистки-2.1\"><span class=\"toc-item-num\">2.1&nbsp;&nbsp;</span>Рассмотрим концентрация металлов (Au, Ag, Pb) на различных этапах очистки</a></span></li><li><span><a href=\"#-Комментарий-ревьюера-v1\" data-toc-modified-id=\"-Комментарий-ревьюера-v1-2.2\"><span class=\"toc-item-num\">2.2&nbsp;&nbsp;</span> Комментарий ревьюера v1</a></span></li><li><span><a href=\"#Сравните-распределения-размеров-гранул-сырья-на-обучающей-и-тестовой-выборках.-Если-распределения-сильно-отличаются-друг-от-друга,-оценка-модели-будет-неправильной.\" data-toc-modified-id=\"Сравните-распределения-размеров-гранул-сырья-на-обучающей-и-тестовой-выборках.-Если-распределения-сильно-отличаются-друг-от-друга,-оценка-модели-будет-неправильной.-2.3\"><span class=\"toc-item-num\">2.3&nbsp;&nbsp;</span>Сравните распределения размеров гранул сырья на обучающей и тестовой выборках. Если распределения сильно отличаются друг от друга, оценка модели будет неправильной.</a></span></li><li><span><a href=\"#-Комментарий-ревьюера-v1\" data-toc-modified-id=\"-Комментарий-ревьюера-v1-2.4\"><span class=\"toc-item-num\">2.4&nbsp;&nbsp;</span> Комментарий ревьюера v1</a></span></li><li><span><a href=\"#-Комментарий-ревьюера-v2\" data-toc-modified-id=\"-Комментарий-ревьюера-v2-2.5\"><span class=\"toc-item-num\">2.5&nbsp;&nbsp;</span> Комментарий ревьюера v2</a></span></li><li><span><a href=\"#Исследуйте-суммарную-концентрацию-всех-веществ-на-разных-стадиях:-в-сырье,-в-черновом-и-финальном-концентратах.\" data-toc-modified-id=\"Исследуйте-суммарную-концентрацию-всех-веществ-на-разных-стадиях:-в-сырье,-в-черновом-и-финальном-концентратах.-2.6\"><span class=\"toc-item-num\">2.6&nbsp;&nbsp;</span>Исследуйте суммарную концентрацию всех веществ на разных стадиях: в сырье, в черновом и финальном концентратах.</a></span></li><li><span><a href=\"#-Комментарий-ревьюера-v1\" data-toc-modified-id=\"-Комментарий-ревьюера-v1-2.7\"><span class=\"toc-item-num\">2.7&nbsp;&nbsp;</span> Комментарий ревьюера v1</a></span></li></ul></li><li><span><a href=\"#Модель\" data-toc-modified-id=\"Модель-3\"><span class=\"toc-item-num\">3&nbsp;&nbsp;</span>Модель</a></span><ul class=\"toc-item\"><li><span><a href=\"#функция-для-вычисления-итоговой-sMAPE\" data-toc-modified-id=\"функция-для-вычисления-итоговой-sMAPE-3.1\"><span class=\"toc-item-num\">3.1&nbsp;&nbsp;</span>функция для вычисления итоговой sMAPE</a></span></li><li><span><a href=\"#-Комментарий-ревьюера-v1\" data-toc-modified-id=\"-Комментарий-ревьюера-v1-3.2\"><span class=\"toc-item-num\">3.2&nbsp;&nbsp;</span> Комментарий ревьюера v1</a></span></li><li><span><a href=\"#Обучение-разных-моделей-и-оценка-их-качества-кросс-валидацией.\" data-toc-modified-id=\"Обучение-разных-моделей-и-оценка-их-качества-кросс-валидацией.-3.3\"><span class=\"toc-item-num\">3.3&nbsp;&nbsp;</span>Обучение разных моделей и оценка их качества кросс-валидацией.</a></span></li><li><span><a href=\"#Модель-LinearRegression\" data-toc-modified-id=\"Модель-LinearRegression-3.4\"><span class=\"toc-item-num\">3.4&nbsp;&nbsp;</span>Модель LinearRegression</a></span></li><li><span><a href=\"#Модель-DecisionTreeRegressor\" data-toc-modified-id=\"Модель-DecisionTreeRegressor-3.5\"><span class=\"toc-item-num\">3.5&nbsp;&nbsp;</span>Модель DecisionTreeRegressor</a></span></li><li><span><a href=\"#-Комментарий-ревьюера-v1\" data-toc-modified-id=\"-Комментарий-ревьюера-v1-3.6\"><span class=\"toc-item-num\">3.6&nbsp;&nbsp;</span> Комментарий ревьюера v1</a></span></li><li><span><a href=\"#Модель-RandomForestRegressor\" data-toc-modified-id=\"Модель-RandomForestRegressor-3.7\"><span class=\"toc-item-num\">3.7&nbsp;&nbsp;</span>Модель RandomForestRegressor</a></span></li><li><span><a href=\"#-Комментарий-ревьюера-v1\" data-toc-modified-id=\"-Комментарий-ревьюера-v1-3.8\"><span class=\"toc-item-num\">3.8&nbsp;&nbsp;</span> Комментарий ревьюера v1</a></span></li><li><span><a href=\"#Тест\" data-toc-modified-id=\"Тест-3.9\"><span class=\"toc-item-num\">3.9&nbsp;&nbsp;</span>Тест</a></span></li><li><span><a href=\"#Сравнение-с-константной-моделью\" data-toc-modified-id=\"Сравнение-с-константной-моделью-3.10\"><span class=\"toc-item-num\">3.10&nbsp;&nbsp;</span>Сравнение с константной моделью</a></span></li><li><span><a href=\"#-Комментарий-ревьюера-v1\" data-toc-modified-id=\"-Комментарий-ревьюера-v1-3.11\"><span class=\"toc-item-num\">3.11&nbsp;&nbsp;</span> Комментарий ревьюера v1</a></span></li></ul></li><li><span><a href=\"#Итоговый-вывод:\" data-toc-modified-id=\"Итоговый-вывод:-4\"><span class=\"toc-item-num\">4&nbsp;&nbsp;</span>Итоговый вывод:</a></span></li><li><span><a href=\"#Чек-лист-готовности-проекта\" data-toc-modified-id=\"Чек-лист-готовности-проекта-5\"><span class=\"toc-item-num\">5&nbsp;&nbsp;</span>Чек-лист готовности проекта</a></span><ul class=\"toc-item\"><li><span><a href=\"#-Итоговый-комментарий\" data-toc-modified-id=\"-Итоговый-комментарий-5.1\"><span class=\"toc-item-num\">5.1&nbsp;&nbsp;</span> Итоговый комментарий</a></span></li><li><span><a href=\"#-Комментарий-ревьюера-v2\" data-toc-modified-id=\"-Комментарий-ревьюера-v2-5.2\"><span class=\"toc-item-num\">5.2&nbsp;&nbsp;</span> Комментарий ревьюера v2</a></span></li></ul></li></ul></div>"
   ]
  },
  {
   "cell_type": "markdown",
   "metadata": {},
   "source": [
    "# Восстановление золота из руды"
   ]
  },
  {
   "cell_type": "markdown",
   "metadata": {},
   "source": [
    "Подготовьте прототип модели машинного обучения для «Цифры». Компания разрабатывает решения для эффективной работы промышленных предприятий.\n",
    "\n",
    "Модель должна предсказать коэффициент восстановления золота из золотосодержащей руды. Используйте данные с параметрами добычи и очистки. \n",
    "\n",
    "Модель поможет оптимизировать производство, чтобы не запускать предприятие с убыточными характеристиками.\n",
    "\n",
    "Вам нужно:\n",
    "\n",
    "1. Подготовить данные;\n",
    "2. Провести исследовательский анализ данных;\n",
    "3. Построить и обучить модель.\n",
    "\n",
    "Чтобы выполнить проект, обращайтесь к библиотекам *pandas*, *matplotlib* и *sklearn.* Вам поможет их документация."
   ]
  },
  {
   "cell_type": "markdown",
   "metadata": {},
   "source": [
    "## Подготовка данных"
   ]
  },
  {
   "cell_type": "code",
   "execution_count": 1,
   "metadata": {},
   "outputs": [],
   "source": [
    "import pandas as pd\n",
    "import numpy as np\n",
    "import seaborn as sns\n",
    "import matplotlib.pyplot as plt\n",
    "from sklearn.model_selection import train_test_split, cross_val_score\n",
    "from sklearn.tree import DecisionTreeRegressor\n",
    "from sklearn.ensemble import RandomForestRegressor\n",
    "from sklearn.linear_model import LinearRegression\n",
    "from numpy.random import RandomState\n",
    "from sklearn.metrics import make_scorer, mean_absolute_error\n",
    "from sklearn.dummy import DummyRegressor"
   ]
  },
  {
   "cell_type": "markdown",
   "metadata": {},
   "source": [
    "### Откройте файлы и изучите их"
   ]
  },
  {
   "cell_type": "code",
   "execution_count": 2,
   "metadata": {},
   "outputs": [],
   "source": [
    "data_train = pd.read_csv('/datasets/gold_recovery_train_new.csv')\n",
    "data_test = pd.read_csv('/datasets/gold_recovery_test_new.csv')\n",
    "data_full = pd.read_csv('/datasets/gold_recovery_full_new.csv')"
   ]
  },
  {
   "cell_type": "code",
   "execution_count": 3,
   "metadata": {},
   "outputs": [
    {
     "data": {
      "text/html": [
       "<div>\n",
       "<style scoped>\n",
       "    .dataframe tbody tr th:only-of-type {\n",
       "        vertical-align: middle;\n",
       "    }\n",
       "\n",
       "    .dataframe tbody tr th {\n",
       "        vertical-align: top;\n",
       "    }\n",
       "\n",
       "    .dataframe thead th {\n",
       "        text-align: right;\n",
       "    }\n",
       "</style>\n",
       "<table border=\"1\" class=\"dataframe\">\n",
       "  <thead>\n",
       "    <tr style=\"text-align: right;\">\n",
       "      <th></th>\n",
       "      <th>date</th>\n",
       "      <th>final.output.concentrate_ag</th>\n",
       "      <th>final.output.concentrate_pb</th>\n",
       "      <th>final.output.concentrate_sol</th>\n",
       "      <th>final.output.concentrate_au</th>\n",
       "      <th>final.output.recovery</th>\n",
       "      <th>final.output.tail_ag</th>\n",
       "      <th>final.output.tail_pb</th>\n",
       "      <th>final.output.tail_sol</th>\n",
       "      <th>final.output.tail_au</th>\n",
       "      <th>...</th>\n",
       "      <th>secondary_cleaner.state.floatbank4_a_air</th>\n",
       "      <th>secondary_cleaner.state.floatbank4_a_level</th>\n",
       "      <th>secondary_cleaner.state.floatbank4_b_air</th>\n",
       "      <th>secondary_cleaner.state.floatbank4_b_level</th>\n",
       "      <th>secondary_cleaner.state.floatbank5_a_air</th>\n",
       "      <th>secondary_cleaner.state.floatbank5_a_level</th>\n",
       "      <th>secondary_cleaner.state.floatbank5_b_air</th>\n",
       "      <th>secondary_cleaner.state.floatbank5_b_level</th>\n",
       "      <th>secondary_cleaner.state.floatbank6_a_air</th>\n",
       "      <th>secondary_cleaner.state.floatbank6_a_level</th>\n",
       "    </tr>\n",
       "  </thead>\n",
       "  <tbody>\n",
       "    <tr>\n",
       "      <th>0</th>\n",
       "      <td>2016-01-15 00:00:00</td>\n",
       "      <td>6.055403</td>\n",
       "      <td>9.889648</td>\n",
       "      <td>5.507324</td>\n",
       "      <td>42.192020</td>\n",
       "      <td>70.541216</td>\n",
       "      <td>10.411962</td>\n",
       "      <td>0.895447</td>\n",
       "      <td>16.904297</td>\n",
       "      <td>2.143149</td>\n",
       "      <td>...</td>\n",
       "      <td>14.016835</td>\n",
       "      <td>-502.488007</td>\n",
       "      <td>12.099931</td>\n",
       "      <td>-504.715942</td>\n",
       "      <td>9.925633</td>\n",
       "      <td>-498.310211</td>\n",
       "      <td>8.079666</td>\n",
       "      <td>-500.470978</td>\n",
       "      <td>14.151341</td>\n",
       "      <td>-605.841980</td>\n",
       "    </tr>\n",
       "    <tr>\n",
       "      <th>1</th>\n",
       "      <td>2016-01-15 01:00:00</td>\n",
       "      <td>6.029369</td>\n",
       "      <td>9.968944</td>\n",
       "      <td>5.257781</td>\n",
       "      <td>42.701629</td>\n",
       "      <td>69.266198</td>\n",
       "      <td>10.462676</td>\n",
       "      <td>0.927452</td>\n",
       "      <td>16.634514</td>\n",
       "      <td>2.224930</td>\n",
       "      <td>...</td>\n",
       "      <td>13.992281</td>\n",
       "      <td>-505.503262</td>\n",
       "      <td>11.950531</td>\n",
       "      <td>-501.331529</td>\n",
       "      <td>10.039245</td>\n",
       "      <td>-500.169983</td>\n",
       "      <td>7.984757</td>\n",
       "      <td>-500.582168</td>\n",
       "      <td>13.998353</td>\n",
       "      <td>-599.787184</td>\n",
       "    </tr>\n",
       "  </tbody>\n",
       "</table>\n",
       "<p>2 rows × 87 columns</p>\n",
       "</div>"
      ],
      "text/plain": [
       "                  date  final.output.concentrate_ag  \\\n",
       "0  2016-01-15 00:00:00                     6.055403   \n",
       "1  2016-01-15 01:00:00                     6.029369   \n",
       "\n",
       "   final.output.concentrate_pb  final.output.concentrate_sol  \\\n",
       "0                     9.889648                      5.507324   \n",
       "1                     9.968944                      5.257781   \n",
       "\n",
       "   final.output.concentrate_au  final.output.recovery  final.output.tail_ag  \\\n",
       "0                    42.192020              70.541216             10.411962   \n",
       "1                    42.701629              69.266198             10.462676   \n",
       "\n",
       "   final.output.tail_pb  final.output.tail_sol  final.output.tail_au  ...  \\\n",
       "0              0.895447              16.904297              2.143149  ...   \n",
       "1              0.927452              16.634514              2.224930  ...   \n",
       "\n",
       "   secondary_cleaner.state.floatbank4_a_air  \\\n",
       "0                                 14.016835   \n",
       "1                                 13.992281   \n",
       "\n",
       "   secondary_cleaner.state.floatbank4_a_level  \\\n",
       "0                                 -502.488007   \n",
       "1                                 -505.503262   \n",
       "\n",
       "   secondary_cleaner.state.floatbank4_b_air  \\\n",
       "0                                 12.099931   \n",
       "1                                 11.950531   \n",
       "\n",
       "   secondary_cleaner.state.floatbank4_b_level  \\\n",
       "0                                 -504.715942   \n",
       "1                                 -501.331529   \n",
       "\n",
       "   secondary_cleaner.state.floatbank5_a_air  \\\n",
       "0                                  9.925633   \n",
       "1                                 10.039245   \n",
       "\n",
       "   secondary_cleaner.state.floatbank5_a_level  \\\n",
       "0                                 -498.310211   \n",
       "1                                 -500.169983   \n",
       "\n",
       "   secondary_cleaner.state.floatbank5_b_air  \\\n",
       "0                                  8.079666   \n",
       "1                                  7.984757   \n",
       "\n",
       "   secondary_cleaner.state.floatbank5_b_level  \\\n",
       "0                                 -500.470978   \n",
       "1                                 -500.582168   \n",
       "\n",
       "   secondary_cleaner.state.floatbank6_a_air  \\\n",
       "0                                 14.151341   \n",
       "1                                 13.998353   \n",
       "\n",
       "   secondary_cleaner.state.floatbank6_a_level  \n",
       "0                                 -605.841980  \n",
       "1                                 -599.787184  \n",
       "\n",
       "[2 rows x 87 columns]"
      ]
     },
     "execution_count": 3,
     "metadata": {},
     "output_type": "execute_result"
    }
   ],
   "source": [
    "data_train.head(2)"
   ]
  },
  {
   "cell_type": "code",
   "execution_count": 4,
   "metadata": {
    "scrolled": true
   },
   "outputs": [
    {
     "name": "stdout",
     "output_type": "stream",
     "text": [
      "<class 'pandas.core.frame.DataFrame'>\n",
      "RangeIndex: 14149 entries, 0 to 14148\n",
      "Data columns (total 87 columns):\n",
      " #   Column                                              Non-Null Count  Dtype  \n",
      "---  ------                                              --------------  -----  \n",
      " 0   date                                                14149 non-null  object \n",
      " 1   final.output.concentrate_ag                         14148 non-null  float64\n",
      " 2   final.output.concentrate_pb                         14148 non-null  float64\n",
      " 3   final.output.concentrate_sol                        13938 non-null  float64\n",
      " 4   final.output.concentrate_au                         14149 non-null  float64\n",
      " 5   final.output.recovery                               14149 non-null  float64\n",
      " 6   final.output.tail_ag                                14149 non-null  float64\n",
      " 7   final.output.tail_pb                                14049 non-null  float64\n",
      " 8   final.output.tail_sol                               14144 non-null  float64\n",
      " 9   final.output.tail_au                                14149 non-null  float64\n",
      " 10  primary_cleaner.input.sulfate                       14129 non-null  float64\n",
      " 11  primary_cleaner.input.depressant                    14117 non-null  float64\n",
      " 12  primary_cleaner.input.feed_size                     14149 non-null  float64\n",
      " 13  primary_cleaner.input.xanthate                      14049 non-null  float64\n",
      " 14  primary_cleaner.output.concentrate_ag               14149 non-null  float64\n",
      " 15  primary_cleaner.output.concentrate_pb               14063 non-null  float64\n",
      " 16  primary_cleaner.output.concentrate_sol              13863 non-null  float64\n",
      " 17  primary_cleaner.output.concentrate_au               14149 non-null  float64\n",
      " 18  primary_cleaner.output.tail_ag                      14148 non-null  float64\n",
      " 19  primary_cleaner.output.tail_pb                      14134 non-null  float64\n",
      " 20  primary_cleaner.output.tail_sol                     14103 non-null  float64\n",
      " 21  primary_cleaner.output.tail_au                      14149 non-null  float64\n",
      " 22  primary_cleaner.state.floatbank8_a_air              14145 non-null  float64\n",
      " 23  primary_cleaner.state.floatbank8_a_level            14148 non-null  float64\n",
      " 24  primary_cleaner.state.floatbank8_b_air              14145 non-null  float64\n",
      " 25  primary_cleaner.state.floatbank8_b_level            14148 non-null  float64\n",
      " 26  primary_cleaner.state.floatbank8_c_air              14147 non-null  float64\n",
      " 27  primary_cleaner.state.floatbank8_c_level            14148 non-null  float64\n",
      " 28  primary_cleaner.state.floatbank8_d_air              14146 non-null  float64\n",
      " 29  primary_cleaner.state.floatbank8_d_level            14148 non-null  float64\n",
      " 30  rougher.calculation.sulfate_to_au_concentrate       14148 non-null  float64\n",
      " 31  rougher.calculation.floatbank10_sulfate_to_au_feed  14148 non-null  float64\n",
      " 32  rougher.calculation.floatbank11_sulfate_to_au_feed  14148 non-null  float64\n",
      " 33  rougher.calculation.au_pb_ratio                     14149 non-null  float64\n",
      " 34  rougher.input.feed_ag                               14149 non-null  float64\n",
      " 35  rougher.input.feed_pb                               14049 non-null  float64\n",
      " 36  rougher.input.feed_rate                             14141 non-null  float64\n",
      " 37  rougher.input.feed_size                             14005 non-null  float64\n",
      " 38  rougher.input.feed_sol                              14071 non-null  float64\n",
      " 39  rougher.input.feed_au                               14149 non-null  float64\n",
      " 40  rougher.input.floatbank10_sulfate                   14120 non-null  float64\n",
      " 41  rougher.input.floatbank10_xanthate                  14141 non-null  float64\n",
      " 42  rougher.input.floatbank11_sulfate                   14113 non-null  float64\n",
      " 43  rougher.input.floatbank11_xanthate                  13721 non-null  float64\n",
      " 44  rougher.output.concentrate_ag                       14149 non-null  float64\n",
      " 45  rougher.output.concentrate_pb                       14149 non-null  float64\n",
      " 46  rougher.output.concentrate_sol                      14127 non-null  float64\n",
      " 47  rougher.output.concentrate_au                       14149 non-null  float64\n",
      " 48  rougher.output.recovery                             14149 non-null  float64\n",
      " 49  rougher.output.tail_ag                              14148 non-null  float64\n",
      " 50  rougher.output.tail_pb                              14149 non-null  float64\n",
      " 51  rougher.output.tail_sol                             14149 non-null  float64\n",
      " 52  rougher.output.tail_au                              14149 non-null  float64\n",
      " 53  rougher.state.floatbank10_a_air                     14148 non-null  float64\n",
      " 54  rougher.state.floatbank10_a_level                   14148 non-null  float64\n",
      " 55  rougher.state.floatbank10_b_air                     14148 non-null  float64\n",
      " 56  rougher.state.floatbank10_b_level                   14148 non-null  float64\n",
      " 57  rougher.state.floatbank10_c_air                     14148 non-null  float64\n",
      " 58  rougher.state.floatbank10_c_level                   14148 non-null  float64\n",
      " 59  rougher.state.floatbank10_d_air                     14149 non-null  float64\n",
      " 60  rougher.state.floatbank10_d_level                   14149 non-null  float64\n",
      " 61  rougher.state.floatbank10_e_air                     13713 non-null  float64\n",
      " 62  rougher.state.floatbank10_e_level                   14149 non-null  float64\n",
      " 63  rougher.state.floatbank10_f_air                     14149 non-null  float64\n",
      " 64  rougher.state.floatbank10_f_level                   14149 non-null  float64\n",
      " 65  secondary_cleaner.output.tail_ag                    14147 non-null  float64\n",
      " 66  secondary_cleaner.output.tail_pb                    14139 non-null  float64\n",
      " 67  secondary_cleaner.output.tail_sol                   12544 non-null  float64\n",
      " 68  secondary_cleaner.output.tail_au                    14149 non-null  float64\n",
      " 69  secondary_cleaner.state.floatbank2_a_air            13932 non-null  float64\n",
      " 70  secondary_cleaner.state.floatbank2_a_level          14148 non-null  float64\n",
      " 71  secondary_cleaner.state.floatbank2_b_air            14128 non-null  float64\n",
      " 72  secondary_cleaner.state.floatbank2_b_level          14148 non-null  float64\n",
      " 73  secondary_cleaner.state.floatbank3_a_air            14145 non-null  float64\n",
      " 74  secondary_cleaner.state.floatbank3_a_level          14148 non-null  float64\n",
      " 75  secondary_cleaner.state.floatbank3_b_air            14148 non-null  float64\n",
      " 76  secondary_cleaner.state.floatbank3_b_level          14148 non-null  float64\n",
      " 77  secondary_cleaner.state.floatbank4_a_air            14143 non-null  float64\n",
      " 78  secondary_cleaner.state.floatbank4_a_level          14148 non-null  float64\n",
      " 79  secondary_cleaner.state.floatbank4_b_air            14148 non-null  float64\n",
      " 80  secondary_cleaner.state.floatbank4_b_level          14148 non-null  float64\n",
      " 81  secondary_cleaner.state.floatbank5_a_air            14148 non-null  float64\n",
      " 82  secondary_cleaner.state.floatbank5_a_level          14148 non-null  float64\n",
      " 83  secondary_cleaner.state.floatbank5_b_air            14148 non-null  float64\n",
      " 84  secondary_cleaner.state.floatbank5_b_level          14148 non-null  float64\n",
      " 85  secondary_cleaner.state.floatbank6_a_air            14147 non-null  float64\n",
      " 86  secondary_cleaner.state.floatbank6_a_level          14148 non-null  float64\n",
      "dtypes: float64(86), object(1)\n",
      "memory usage: 9.4+ MB\n"
     ]
    }
   ],
   "source": [
    "data_train.info() "
   ]
  },
  {
   "cell_type": "code",
   "execution_count": 5,
   "metadata": {},
   "outputs": [
    {
     "data": {
      "text/html": [
       "<div>\n",
       "<style scoped>\n",
       "    .dataframe tbody tr th:only-of-type {\n",
       "        vertical-align: middle;\n",
       "    }\n",
       "\n",
       "    .dataframe tbody tr th {\n",
       "        vertical-align: top;\n",
       "    }\n",
       "\n",
       "    .dataframe thead th {\n",
       "        text-align: right;\n",
       "    }\n",
       "</style>\n",
       "<table border=\"1\" class=\"dataframe\">\n",
       "  <thead>\n",
       "    <tr style=\"text-align: right;\">\n",
       "      <th></th>\n",
       "      <th>date</th>\n",
       "      <th>primary_cleaner.input.sulfate</th>\n",
       "      <th>primary_cleaner.input.depressant</th>\n",
       "      <th>primary_cleaner.input.feed_size</th>\n",
       "      <th>primary_cleaner.input.xanthate</th>\n",
       "      <th>primary_cleaner.state.floatbank8_a_air</th>\n",
       "      <th>primary_cleaner.state.floatbank8_a_level</th>\n",
       "      <th>primary_cleaner.state.floatbank8_b_air</th>\n",
       "      <th>primary_cleaner.state.floatbank8_b_level</th>\n",
       "      <th>primary_cleaner.state.floatbank8_c_air</th>\n",
       "      <th>...</th>\n",
       "      <th>secondary_cleaner.state.floatbank4_a_air</th>\n",
       "      <th>secondary_cleaner.state.floatbank4_a_level</th>\n",
       "      <th>secondary_cleaner.state.floatbank4_b_air</th>\n",
       "      <th>secondary_cleaner.state.floatbank4_b_level</th>\n",
       "      <th>secondary_cleaner.state.floatbank5_a_air</th>\n",
       "      <th>secondary_cleaner.state.floatbank5_a_level</th>\n",
       "      <th>secondary_cleaner.state.floatbank5_b_air</th>\n",
       "      <th>secondary_cleaner.state.floatbank5_b_level</th>\n",
       "      <th>secondary_cleaner.state.floatbank6_a_air</th>\n",
       "      <th>secondary_cleaner.state.floatbank6_a_level</th>\n",
       "    </tr>\n",
       "  </thead>\n",
       "  <tbody>\n",
       "    <tr>\n",
       "      <th>0</th>\n",
       "      <td>2016-09-01 00:59:59</td>\n",
       "      <td>210.800909</td>\n",
       "      <td>14.993118</td>\n",
       "      <td>8.08</td>\n",
       "      <td>1.005021</td>\n",
       "      <td>1398.981301</td>\n",
       "      <td>-500.225577</td>\n",
       "      <td>1399.144926</td>\n",
       "      <td>-499.919735</td>\n",
       "      <td>1400.102998</td>\n",
       "      <td>...</td>\n",
       "      <td>12.023554</td>\n",
       "      <td>-497.795834</td>\n",
       "      <td>8.016656</td>\n",
       "      <td>-501.289139</td>\n",
       "      <td>7.946562</td>\n",
       "      <td>-432.317850</td>\n",
       "      <td>4.872511</td>\n",
       "      <td>-500.037437</td>\n",
       "      <td>26.705889</td>\n",
       "      <td>-499.709414</td>\n",
       "    </tr>\n",
       "    <tr>\n",
       "      <th>1</th>\n",
       "      <td>2016-09-01 01:59:59</td>\n",
       "      <td>215.392455</td>\n",
       "      <td>14.987471</td>\n",
       "      <td>8.08</td>\n",
       "      <td>0.990469</td>\n",
       "      <td>1398.777912</td>\n",
       "      <td>-500.057435</td>\n",
       "      <td>1398.055362</td>\n",
       "      <td>-499.778182</td>\n",
       "      <td>1396.151033</td>\n",
       "      <td>...</td>\n",
       "      <td>12.058140</td>\n",
       "      <td>-498.695773</td>\n",
       "      <td>8.130979</td>\n",
       "      <td>-499.634209</td>\n",
       "      <td>7.958270</td>\n",
       "      <td>-525.839648</td>\n",
       "      <td>4.878850</td>\n",
       "      <td>-500.162375</td>\n",
       "      <td>25.019940</td>\n",
       "      <td>-499.819438</td>\n",
       "    </tr>\n",
       "  </tbody>\n",
       "</table>\n",
       "<p>2 rows × 53 columns</p>\n",
       "</div>"
      ],
      "text/plain": [
       "                  date  primary_cleaner.input.sulfate  \\\n",
       "0  2016-09-01 00:59:59                     210.800909   \n",
       "1  2016-09-01 01:59:59                     215.392455   \n",
       "\n",
       "   primary_cleaner.input.depressant  primary_cleaner.input.feed_size  \\\n",
       "0                         14.993118                             8.08   \n",
       "1                         14.987471                             8.08   \n",
       "\n",
       "   primary_cleaner.input.xanthate  primary_cleaner.state.floatbank8_a_air  \\\n",
       "0                        1.005021                             1398.981301   \n",
       "1                        0.990469                             1398.777912   \n",
       "\n",
       "   primary_cleaner.state.floatbank8_a_level  \\\n",
       "0                               -500.225577   \n",
       "1                               -500.057435   \n",
       "\n",
       "   primary_cleaner.state.floatbank8_b_air  \\\n",
       "0                             1399.144926   \n",
       "1                             1398.055362   \n",
       "\n",
       "   primary_cleaner.state.floatbank8_b_level  \\\n",
       "0                               -499.919735   \n",
       "1                               -499.778182   \n",
       "\n",
       "   primary_cleaner.state.floatbank8_c_air  ...  \\\n",
       "0                             1400.102998  ...   \n",
       "1                             1396.151033  ...   \n",
       "\n",
       "   secondary_cleaner.state.floatbank4_a_air  \\\n",
       "0                                 12.023554   \n",
       "1                                 12.058140   \n",
       "\n",
       "   secondary_cleaner.state.floatbank4_a_level  \\\n",
       "0                                 -497.795834   \n",
       "1                                 -498.695773   \n",
       "\n",
       "   secondary_cleaner.state.floatbank4_b_air  \\\n",
       "0                                  8.016656   \n",
       "1                                  8.130979   \n",
       "\n",
       "   secondary_cleaner.state.floatbank4_b_level  \\\n",
       "0                                 -501.289139   \n",
       "1                                 -499.634209   \n",
       "\n",
       "   secondary_cleaner.state.floatbank5_a_air  \\\n",
       "0                                  7.946562   \n",
       "1                                  7.958270   \n",
       "\n",
       "   secondary_cleaner.state.floatbank5_a_level  \\\n",
       "0                                 -432.317850   \n",
       "1                                 -525.839648   \n",
       "\n",
       "   secondary_cleaner.state.floatbank5_b_air  \\\n",
       "0                                  4.872511   \n",
       "1                                  4.878850   \n",
       "\n",
       "   secondary_cleaner.state.floatbank5_b_level  \\\n",
       "0                                 -500.037437   \n",
       "1                                 -500.162375   \n",
       "\n",
       "   secondary_cleaner.state.floatbank6_a_air  \\\n",
       "0                                 26.705889   \n",
       "1                                 25.019940   \n",
       "\n",
       "   secondary_cleaner.state.floatbank6_a_level  \n",
       "0                                 -499.709414  \n",
       "1                                 -499.819438  \n",
       "\n",
       "[2 rows x 53 columns]"
      ]
     },
     "execution_count": 5,
     "metadata": {},
     "output_type": "execute_result"
    }
   ],
   "source": [
    "data_test.head(2)"
   ]
  },
  {
   "cell_type": "code",
   "execution_count": 6,
   "metadata": {
    "scrolled": true
   },
   "outputs": [
    {
     "name": "stdout",
     "output_type": "stream",
     "text": [
      "<class 'pandas.core.frame.DataFrame'>\n",
      "RangeIndex: 5290 entries, 0 to 5289\n",
      "Data columns (total 53 columns):\n",
      " #   Column                                      Non-Null Count  Dtype  \n",
      "---  ------                                      --------------  -----  \n",
      " 0   date                                        5290 non-null   object \n",
      " 1   primary_cleaner.input.sulfate               5286 non-null   float64\n",
      " 2   primary_cleaner.input.depressant            5285 non-null   float64\n",
      " 3   primary_cleaner.input.feed_size             5290 non-null   float64\n",
      " 4   primary_cleaner.input.xanthate              5286 non-null   float64\n",
      " 5   primary_cleaner.state.floatbank8_a_air      5290 non-null   float64\n",
      " 6   primary_cleaner.state.floatbank8_a_level    5290 non-null   float64\n",
      " 7   primary_cleaner.state.floatbank8_b_air      5290 non-null   float64\n",
      " 8   primary_cleaner.state.floatbank8_b_level    5290 non-null   float64\n",
      " 9   primary_cleaner.state.floatbank8_c_air      5290 non-null   float64\n",
      " 10  primary_cleaner.state.floatbank8_c_level    5290 non-null   float64\n",
      " 11  primary_cleaner.state.floatbank8_d_air      5290 non-null   float64\n",
      " 12  primary_cleaner.state.floatbank8_d_level    5290 non-null   float64\n",
      " 13  rougher.input.feed_ag                       5290 non-null   float64\n",
      " 14  rougher.input.feed_pb                       5290 non-null   float64\n",
      " 15  rougher.input.feed_rate                     5287 non-null   float64\n",
      " 16  rougher.input.feed_size                     5289 non-null   float64\n",
      " 17  rougher.input.feed_sol                      5269 non-null   float64\n",
      " 18  rougher.input.feed_au                       5290 non-null   float64\n",
      " 19  rougher.input.floatbank10_sulfate           5285 non-null   float64\n",
      " 20  rougher.input.floatbank10_xanthate          5290 non-null   float64\n",
      " 21  rougher.input.floatbank11_sulfate           5282 non-null   float64\n",
      " 22  rougher.input.floatbank11_xanthate          5265 non-null   float64\n",
      " 23  rougher.state.floatbank10_a_air             5290 non-null   float64\n",
      " 24  rougher.state.floatbank10_a_level           5290 non-null   float64\n",
      " 25  rougher.state.floatbank10_b_air             5290 non-null   float64\n",
      " 26  rougher.state.floatbank10_b_level           5290 non-null   float64\n",
      " 27  rougher.state.floatbank10_c_air             5290 non-null   float64\n",
      " 28  rougher.state.floatbank10_c_level           5290 non-null   float64\n",
      " 29  rougher.state.floatbank10_d_air             5290 non-null   float64\n",
      " 30  rougher.state.floatbank10_d_level           5290 non-null   float64\n",
      " 31  rougher.state.floatbank10_e_air             5290 non-null   float64\n",
      " 32  rougher.state.floatbank10_e_level           5290 non-null   float64\n",
      " 33  rougher.state.floatbank10_f_air             5290 non-null   float64\n",
      " 34  rougher.state.floatbank10_f_level           5290 non-null   float64\n",
      " 35  secondary_cleaner.state.floatbank2_a_air    5287 non-null   float64\n",
      " 36  secondary_cleaner.state.floatbank2_a_level  5290 non-null   float64\n",
      " 37  secondary_cleaner.state.floatbank2_b_air    5288 non-null   float64\n",
      " 38  secondary_cleaner.state.floatbank2_b_level  5290 non-null   float64\n",
      " 39  secondary_cleaner.state.floatbank3_a_air    5281 non-null   float64\n",
      " 40  secondary_cleaner.state.floatbank3_a_level  5290 non-null   float64\n",
      " 41  secondary_cleaner.state.floatbank3_b_air    5290 non-null   float64\n",
      " 42  secondary_cleaner.state.floatbank3_b_level  5290 non-null   float64\n",
      " 43  secondary_cleaner.state.floatbank4_a_air    5290 non-null   float64\n",
      " 44  secondary_cleaner.state.floatbank4_a_level  5290 non-null   float64\n",
      " 45  secondary_cleaner.state.floatbank4_b_air    5290 non-null   float64\n",
      " 46  secondary_cleaner.state.floatbank4_b_level  5290 non-null   float64\n",
      " 47  secondary_cleaner.state.floatbank5_a_air    5290 non-null   float64\n",
      " 48  secondary_cleaner.state.floatbank5_a_level  5290 non-null   float64\n",
      " 49  secondary_cleaner.state.floatbank5_b_air    5290 non-null   float64\n",
      " 50  secondary_cleaner.state.floatbank5_b_level  5290 non-null   float64\n",
      " 51  secondary_cleaner.state.floatbank6_a_air    5290 non-null   float64\n",
      " 52  secondary_cleaner.state.floatbank6_a_level  5290 non-null   float64\n",
      "dtypes: float64(52), object(1)\n",
      "memory usage: 2.1+ MB\n"
     ]
    }
   ],
   "source": [
    "data_test.info() "
   ]
  },
  {
   "cell_type": "code",
   "execution_count": 7,
   "metadata": {},
   "outputs": [
    {
     "data": {
      "text/html": [
       "<div>\n",
       "<style scoped>\n",
       "    .dataframe tbody tr th:only-of-type {\n",
       "        vertical-align: middle;\n",
       "    }\n",
       "\n",
       "    .dataframe tbody tr th {\n",
       "        vertical-align: top;\n",
       "    }\n",
       "\n",
       "    .dataframe thead th {\n",
       "        text-align: right;\n",
       "    }\n",
       "</style>\n",
       "<table border=\"1\" class=\"dataframe\">\n",
       "  <thead>\n",
       "    <tr style=\"text-align: right;\">\n",
       "      <th></th>\n",
       "      <th>date</th>\n",
       "      <th>final.output.concentrate_ag</th>\n",
       "      <th>final.output.concentrate_pb</th>\n",
       "      <th>final.output.concentrate_sol</th>\n",
       "      <th>final.output.concentrate_au</th>\n",
       "      <th>final.output.recovery</th>\n",
       "      <th>final.output.tail_ag</th>\n",
       "      <th>final.output.tail_pb</th>\n",
       "      <th>final.output.tail_sol</th>\n",
       "      <th>final.output.tail_au</th>\n",
       "      <th>...</th>\n",
       "      <th>secondary_cleaner.state.floatbank4_a_air</th>\n",
       "      <th>secondary_cleaner.state.floatbank4_a_level</th>\n",
       "      <th>secondary_cleaner.state.floatbank4_b_air</th>\n",
       "      <th>secondary_cleaner.state.floatbank4_b_level</th>\n",
       "      <th>secondary_cleaner.state.floatbank5_a_air</th>\n",
       "      <th>secondary_cleaner.state.floatbank5_a_level</th>\n",
       "      <th>secondary_cleaner.state.floatbank5_b_air</th>\n",
       "      <th>secondary_cleaner.state.floatbank5_b_level</th>\n",
       "      <th>secondary_cleaner.state.floatbank6_a_air</th>\n",
       "      <th>secondary_cleaner.state.floatbank6_a_level</th>\n",
       "    </tr>\n",
       "  </thead>\n",
       "  <tbody>\n",
       "    <tr>\n",
       "      <th>0</th>\n",
       "      <td>2016-01-15 00:00:00</td>\n",
       "      <td>6.055403</td>\n",
       "      <td>9.889648</td>\n",
       "      <td>5.507324</td>\n",
       "      <td>42.192020</td>\n",
       "      <td>70.541216</td>\n",
       "      <td>10.411962</td>\n",
       "      <td>0.895447</td>\n",
       "      <td>16.904297</td>\n",
       "      <td>2.143149</td>\n",
       "      <td>...</td>\n",
       "      <td>14.016835</td>\n",
       "      <td>-502.488007</td>\n",
       "      <td>12.099931</td>\n",
       "      <td>-504.715942</td>\n",
       "      <td>9.925633</td>\n",
       "      <td>-498.310211</td>\n",
       "      <td>8.079666</td>\n",
       "      <td>-500.470978</td>\n",
       "      <td>14.151341</td>\n",
       "      <td>-605.841980</td>\n",
       "    </tr>\n",
       "    <tr>\n",
       "      <th>1</th>\n",
       "      <td>2016-01-15 01:00:00</td>\n",
       "      <td>6.029369</td>\n",
       "      <td>9.968944</td>\n",
       "      <td>5.257781</td>\n",
       "      <td>42.701629</td>\n",
       "      <td>69.266198</td>\n",
       "      <td>10.462676</td>\n",
       "      <td>0.927452</td>\n",
       "      <td>16.634514</td>\n",
       "      <td>2.224930</td>\n",
       "      <td>...</td>\n",
       "      <td>13.992281</td>\n",
       "      <td>-505.503262</td>\n",
       "      <td>11.950531</td>\n",
       "      <td>-501.331529</td>\n",
       "      <td>10.039245</td>\n",
       "      <td>-500.169983</td>\n",
       "      <td>7.984757</td>\n",
       "      <td>-500.582168</td>\n",
       "      <td>13.998353</td>\n",
       "      <td>-599.787184</td>\n",
       "    </tr>\n",
       "  </tbody>\n",
       "</table>\n",
       "<p>2 rows × 87 columns</p>\n",
       "</div>"
      ],
      "text/plain": [
       "                  date  final.output.concentrate_ag  \\\n",
       "0  2016-01-15 00:00:00                     6.055403   \n",
       "1  2016-01-15 01:00:00                     6.029369   \n",
       "\n",
       "   final.output.concentrate_pb  final.output.concentrate_sol  \\\n",
       "0                     9.889648                      5.507324   \n",
       "1                     9.968944                      5.257781   \n",
       "\n",
       "   final.output.concentrate_au  final.output.recovery  final.output.tail_ag  \\\n",
       "0                    42.192020              70.541216             10.411962   \n",
       "1                    42.701629              69.266198             10.462676   \n",
       "\n",
       "   final.output.tail_pb  final.output.tail_sol  final.output.tail_au  ...  \\\n",
       "0              0.895447              16.904297              2.143149  ...   \n",
       "1              0.927452              16.634514              2.224930  ...   \n",
       "\n",
       "   secondary_cleaner.state.floatbank4_a_air  \\\n",
       "0                                 14.016835   \n",
       "1                                 13.992281   \n",
       "\n",
       "   secondary_cleaner.state.floatbank4_a_level  \\\n",
       "0                                 -502.488007   \n",
       "1                                 -505.503262   \n",
       "\n",
       "   secondary_cleaner.state.floatbank4_b_air  \\\n",
       "0                                 12.099931   \n",
       "1                                 11.950531   \n",
       "\n",
       "   secondary_cleaner.state.floatbank4_b_level  \\\n",
       "0                                 -504.715942   \n",
       "1                                 -501.331529   \n",
       "\n",
       "   secondary_cleaner.state.floatbank5_a_air  \\\n",
       "0                                  9.925633   \n",
       "1                                 10.039245   \n",
       "\n",
       "   secondary_cleaner.state.floatbank5_a_level  \\\n",
       "0                                 -498.310211   \n",
       "1                                 -500.169983   \n",
       "\n",
       "   secondary_cleaner.state.floatbank5_b_air  \\\n",
       "0                                  8.079666   \n",
       "1                                  7.984757   \n",
       "\n",
       "   secondary_cleaner.state.floatbank5_b_level  \\\n",
       "0                                 -500.470978   \n",
       "1                                 -500.582168   \n",
       "\n",
       "   secondary_cleaner.state.floatbank6_a_air  \\\n",
       "0                                 14.151341   \n",
       "1                                 13.998353   \n",
       "\n",
       "   secondary_cleaner.state.floatbank6_a_level  \n",
       "0                                 -605.841980  \n",
       "1                                 -599.787184  \n",
       "\n",
       "[2 rows x 87 columns]"
      ]
     },
     "execution_count": 7,
     "metadata": {},
     "output_type": "execute_result"
    }
   ],
   "source": [
    "data_full.head(2)"
   ]
  },
  {
   "cell_type": "code",
   "execution_count": 8,
   "metadata": {
    "scrolled": true
   },
   "outputs": [
    {
     "name": "stdout",
     "output_type": "stream",
     "text": [
      "<class 'pandas.core.frame.DataFrame'>\n",
      "RangeIndex: 19439 entries, 0 to 19438\n",
      "Data columns (total 87 columns):\n",
      " #   Column                                              Non-Null Count  Dtype  \n",
      "---  ------                                              --------------  -----  \n",
      " 0   date                                                19439 non-null  object \n",
      " 1   final.output.concentrate_ag                         19438 non-null  float64\n",
      " 2   final.output.concentrate_pb                         19438 non-null  float64\n",
      " 3   final.output.concentrate_sol                        19228 non-null  float64\n",
      " 4   final.output.concentrate_au                         19439 non-null  float64\n",
      " 5   final.output.recovery                               19439 non-null  float64\n",
      " 6   final.output.tail_ag                                19438 non-null  float64\n",
      " 7   final.output.tail_pb                                19338 non-null  float64\n",
      " 8   final.output.tail_sol                               19433 non-null  float64\n",
      " 9   final.output.tail_au                                19439 non-null  float64\n",
      " 10  primary_cleaner.input.sulfate                       19415 non-null  float64\n",
      " 11  primary_cleaner.input.depressant                    19402 non-null  float64\n",
      " 12  primary_cleaner.input.feed_size                     19439 non-null  float64\n",
      " 13  primary_cleaner.input.xanthate                      19335 non-null  float64\n",
      " 14  primary_cleaner.output.concentrate_ag               19439 non-null  float64\n",
      " 15  primary_cleaner.output.concentrate_pb               19323 non-null  float64\n",
      " 16  primary_cleaner.output.concentrate_sol              19069 non-null  float64\n",
      " 17  primary_cleaner.output.concentrate_au               19439 non-null  float64\n",
      " 18  primary_cleaner.output.tail_ag                      19435 non-null  float64\n",
      " 19  primary_cleaner.output.tail_pb                      19418 non-null  float64\n",
      " 20  primary_cleaner.output.tail_sol                     19377 non-null  float64\n",
      " 21  primary_cleaner.output.tail_au                      19439 non-null  float64\n",
      " 22  primary_cleaner.state.floatbank8_a_air              19435 non-null  float64\n",
      " 23  primary_cleaner.state.floatbank8_a_level            19438 non-null  float64\n",
      " 24  primary_cleaner.state.floatbank8_b_air              19435 non-null  float64\n",
      " 25  primary_cleaner.state.floatbank8_b_level            19438 non-null  float64\n",
      " 26  primary_cleaner.state.floatbank8_c_air              19437 non-null  float64\n",
      " 27  primary_cleaner.state.floatbank8_c_level            19438 non-null  float64\n",
      " 28  primary_cleaner.state.floatbank8_d_air              19436 non-null  float64\n",
      " 29  primary_cleaner.state.floatbank8_d_level            19438 non-null  float64\n",
      " 30  rougher.calculation.sulfate_to_au_concentrate       19437 non-null  float64\n",
      " 31  rougher.calculation.floatbank10_sulfate_to_au_feed  19437 non-null  float64\n",
      " 32  rougher.calculation.floatbank11_sulfate_to_au_feed  19437 non-null  float64\n",
      " 33  rougher.calculation.au_pb_ratio                     19439 non-null  float64\n",
      " 34  rougher.input.feed_ag                               19439 non-null  float64\n",
      " 35  rougher.input.feed_pb                               19339 non-null  float64\n",
      " 36  rougher.input.feed_rate                             19428 non-null  float64\n",
      " 37  rougher.input.feed_size                             19294 non-null  float64\n",
      " 38  rougher.input.feed_sol                              19340 non-null  float64\n",
      " 39  rougher.input.feed_au                               19439 non-null  float64\n",
      " 40  rougher.input.floatbank10_sulfate                   19405 non-null  float64\n",
      " 41  rougher.input.floatbank10_xanthate                  19431 non-null  float64\n",
      " 42  rougher.input.floatbank11_sulfate                   19395 non-null  float64\n",
      " 43  rougher.input.floatbank11_xanthate                  18986 non-null  float64\n",
      " 44  rougher.output.concentrate_ag                       19439 non-null  float64\n",
      " 45  rougher.output.concentrate_pb                       19439 non-null  float64\n",
      " 46  rougher.output.concentrate_sol                      19416 non-null  float64\n",
      " 47  rougher.output.concentrate_au                       19439 non-null  float64\n",
      " 48  rougher.output.recovery                             19439 non-null  float64\n",
      " 49  rougher.output.tail_ag                              19438 non-null  float64\n",
      " 50  rougher.output.tail_pb                              19439 non-null  float64\n",
      " 51  rougher.output.tail_sol                             19439 non-null  float64\n",
      " 52  rougher.output.tail_au                              19439 non-null  float64\n",
      " 53  rougher.state.floatbank10_a_air                     19438 non-null  float64\n",
      " 54  rougher.state.floatbank10_a_level                   19438 non-null  float64\n",
      " 55  rougher.state.floatbank10_b_air                     19438 non-null  float64\n",
      " 56  rougher.state.floatbank10_b_level                   19438 non-null  float64\n",
      " 57  rougher.state.floatbank10_c_air                     19438 non-null  float64\n",
      " 58  rougher.state.floatbank10_c_level                   19438 non-null  float64\n",
      " 59  rougher.state.floatbank10_d_air                     19439 non-null  float64\n",
      " 60  rougher.state.floatbank10_d_level                   19439 non-null  float64\n",
      " 61  rougher.state.floatbank10_e_air                     19003 non-null  float64\n",
      " 62  rougher.state.floatbank10_e_level                   19439 non-null  float64\n",
      " 63  rougher.state.floatbank10_f_air                     19439 non-null  float64\n",
      " 64  rougher.state.floatbank10_f_level                   19439 non-null  float64\n",
      " 65  secondary_cleaner.output.tail_ag                    19437 non-null  float64\n",
      " 66  secondary_cleaner.output.tail_pb                    19427 non-null  float64\n",
      " 67  secondary_cleaner.output.tail_sol                   17691 non-null  float64\n",
      " 68  secondary_cleaner.output.tail_au                    19439 non-null  float64\n",
      " 69  secondary_cleaner.state.floatbank2_a_air            19219 non-null  float64\n",
      " 70  secondary_cleaner.state.floatbank2_a_level          19438 non-null  float64\n",
      " 71  secondary_cleaner.state.floatbank2_b_air            19416 non-null  float64\n",
      " 72  secondary_cleaner.state.floatbank2_b_level          19438 non-null  float64\n",
      " 73  secondary_cleaner.state.floatbank3_a_air            19426 non-null  float64\n",
      " 74  secondary_cleaner.state.floatbank3_a_level          19438 non-null  float64\n",
      " 75  secondary_cleaner.state.floatbank3_b_air            19438 non-null  float64\n",
      " 76  secondary_cleaner.state.floatbank3_b_level          19438 non-null  float64\n",
      " 77  secondary_cleaner.state.floatbank4_a_air            19433 non-null  float64\n",
      " 78  secondary_cleaner.state.floatbank4_a_level          19438 non-null  float64\n",
      " 79  secondary_cleaner.state.floatbank4_b_air            19438 non-null  float64\n",
      " 80  secondary_cleaner.state.floatbank4_b_level          19438 non-null  float64\n",
      " 81  secondary_cleaner.state.floatbank5_a_air            19438 non-null  float64\n",
      " 82  secondary_cleaner.state.floatbank5_a_level          19438 non-null  float64\n",
      " 83  secondary_cleaner.state.floatbank5_b_air            19438 non-null  float64\n",
      " 84  secondary_cleaner.state.floatbank5_b_level          19438 non-null  float64\n",
      " 85  secondary_cleaner.state.floatbank6_a_air            19437 non-null  float64\n",
      " 86  secondary_cleaner.state.floatbank6_a_level          19438 non-null  float64\n",
      "dtypes: float64(86), object(1)\n",
      "memory usage: 12.9+ MB\n"
     ]
    }
   ],
   "source": [
    "data_full.info() "
   ]
  },
  {
   "cell_type": "markdown",
   "metadata": {},
   "source": [
    "**В данных есть пропуски и несоответствие типа в столбце \"date\"**"
   ]
  },
  {
   "cell_type": "markdown",
   "metadata": {},
   "source": [
    "### Проверка эффективности обогащения "
   ]
  },
  {
   "cell_type": "markdown",
   "metadata": {},
   "source": [
    "Эффективность обогощения"
   ]
  },
  {
   "cell_type": "code",
   "execution_count": 9,
   "metadata": {},
   "outputs": [],
   "source": [
    "c = data_train['rougher.output.concentrate_au'] #доля золота концентрате после очитски\n",
    "f = data_train['rougher.input.feed_au'] #доля золота в концентрате до очистки\n",
    "t = data_train['rougher.output.tail_au'] #доля золота в отвальных хвостах после очистки\n",
    "recovery = ((c*(f-t))/(f*(c-t))) * 100"
   ]
  },
  {
   "cell_type": "code",
   "execution_count": 10,
   "metadata": {},
   "outputs": [
    {
     "name": "stdout",
     "output_type": "stream",
     "text": [
      "MAE =  9.73512347450521e-15\n"
     ]
    }
   ],
   "source": [
    "print('MAE = ', mean_absolute_error(data_train['rougher.output.recovery'], recovery))"
   ]
  },
  {
   "cell_type": "markdown",
   "metadata": {},
   "source": [
    "**значение МАЕ близко к 0. Это означает, что эффективность обогащения рассчитана правильно.**"
   ]
  },
  {
   "cell_type": "markdown",
   "metadata": {},
   "source": [
    "### Анализ признаков, недоступныхв тестовой выборке."
   ]
  },
  {
   "cell_type": "code",
   "execution_count": 11,
   "metadata": {},
   "outputs": [
    {
     "name": "stdout",
     "output_type": "stream",
     "text": [
      "{'final.output.concentrate_sol', 'secondary_cleaner.output.tail_pb', 'secondary_cleaner.output.tail_au', 'rougher.output.concentrate_ag', 'primary_cleaner.output.tail_au', 'primary_cleaner.output.tail_sol', 'primary_cleaner.output.concentrate_au', 'final.output.tail_ag', 'secondary_cleaner.output.tail_ag', 'rougher.calculation.floatbank10_sulfate_to_au_feed', 'rougher.output.recovery', 'primary_cleaner.output.tail_ag', 'primary_cleaner.output.concentrate_ag', 'rougher.output.tail_pb', 'rougher.output.tail_sol', 'rougher.calculation.au_pb_ratio', 'final.output.concentrate_pb', 'final.output.concentrate_ag', 'final.output.tail_sol', 'final.output.tail_pb', 'secondary_cleaner.output.tail_sol', 'final.output.concentrate_au', 'rougher.output.concentrate_pb', 'rougher.output.tail_ag', 'primary_cleaner.output.tail_pb', 'primary_cleaner.output.concentrate_sol', 'rougher.output.concentrate_au', 'final.output.recovery', 'primary_cleaner.output.concentrate_pb', 'rougher.calculation.sulfate_to_au_concentrate', 'rougher.output.tail_au', 'rougher.output.concentrate_sol', 'final.output.tail_au', 'rougher.calculation.floatbank11_sulfate_to_au_feed'} \n",
      "\n",
      "Итого 34 признака\n"
     ]
    }
   ],
   "source": [
    "unavailable_signs = set(data_train.columns) - set(data_test.columns)\n",
    "\n",
    "print(unavailable_signs,\n",
    "      '\\n\\nИтого',len(unavailable_signs), \"признака\")"
   ]
  },
  {
   "cell_type": "markdown",
   "metadata": {},
   "source": [
    "**В основном в тестовой выборке отсутствуют значения типа \"output\", в меньшем количестве значения типа \"calculation\". Это фактические данные, которые мы можем получить только по факту реальных измерений, поэтому логично, что у нас они пропущены в тестовой выборке. Важно отметить, что некоторые из отсутствующих значений необходимы нам для проверки качества оценки модели**\n",
    "\n",
    "*Добавим их на этапе предобработки данных."
   ]
  },
  {
   "cell_type": "markdown",
   "metadata": {},
   "source": [
    "### Предобработка данных."
   ]
  },
  {
   "cell_type": "markdown",
   "metadata": {},
   "source": [
    "rougher.output.recovery и final.output.recovery добавим в тестовой выборке "
   ]
  },
  {
   "cell_type": "code",
   "execution_count": 12,
   "metadata": {},
   "outputs": [],
   "source": [
    "data_test = data_test.merge(data_full.loc[:, ['date','rougher.output.recovery','final.output.recovery']], on='date')"
   ]
  },
  {
   "cell_type": "markdown",
   "metadata": {},
   "source": [
    "Заменим тип в колонке 'date' с object на datetime"
   ]
  },
  {
   "cell_type": "code",
   "execution_count": 13,
   "metadata": {},
   "outputs": [],
   "source": [
    "data_train['date'] = pd.to_datetime(data_train['date'], format='%Y-%m-%d %H:%M:%S')"
   ]
  },
  {
   "cell_type": "code",
   "execution_count": 14,
   "metadata": {},
   "outputs": [],
   "source": [
    "data_test['date'] = pd.to_datetime(data_test['date'], format='%Y-%m-%d %H:%M:%S')"
   ]
  },
  {
   "cell_type": "code",
   "execution_count": 15,
   "metadata": {},
   "outputs": [],
   "source": [
    "data_full['date'] = pd.to_datetime(data_full['date'], format='%Y-%m-%d %H:%M:%S')"
   ]
  },
  {
   "cell_type": "markdown",
   "metadata": {},
   "source": [
    "Проверим пропущенные значения"
   ]
  },
  {
   "cell_type": "code",
   "execution_count": 16,
   "metadata": {
    "scrolled": true
   },
   "outputs": [
    {
     "data": {
      "text/html": [
       "<style  type=\"text/css\" >\n",
       "#T_29a8e_row0_col0,#T_29a8e_row1_col0,#T_29a8e_row2_col0,#T_29a8e_row4_col0,#T_29a8e_row5_col0,#T_29a8e_row6_col0,#T_29a8e_row8_col0,#T_29a8e_row9_col0,#T_29a8e_row10_col0,#T_29a8e_row11_col0,#T_29a8e_row12_col0,#T_29a8e_row14_col0,#T_29a8e_row17_col0,#T_29a8e_row18_col0,#T_29a8e_row19_col0,#T_29a8e_row20_col0,#T_29a8e_row21_col0,#T_29a8e_row22_col0,#T_29a8e_row23_col0,#T_29a8e_row24_col0,#T_29a8e_row25_col0,#T_29a8e_row26_col0,#T_29a8e_row27_col0,#T_29a8e_row28_col0,#T_29a8e_row29_col0,#T_29a8e_row30_col0,#T_29a8e_row31_col0,#T_29a8e_row32_col0,#T_29a8e_row33_col0,#T_29a8e_row34_col0,#T_29a8e_row36_col0,#T_29a8e_row39_col0,#T_29a8e_row40_col0,#T_29a8e_row41_col0,#T_29a8e_row42_col0,#T_29a8e_row44_col0,#T_29a8e_row45_col0,#T_29a8e_row46_col0,#T_29a8e_row47_col0,#T_29a8e_row48_col0,#T_29a8e_row49_col0,#T_29a8e_row50_col0,#T_29a8e_row51_col0,#T_29a8e_row52_col0,#T_29a8e_row53_col0,#T_29a8e_row54_col0,#T_29a8e_row55_col0,#T_29a8e_row56_col0,#T_29a8e_row57_col0,#T_29a8e_row58_col0,#T_29a8e_row59_col0,#T_29a8e_row60_col0,#T_29a8e_row62_col0,#T_29a8e_row63_col0,#T_29a8e_row64_col0,#T_29a8e_row65_col0,#T_29a8e_row66_col0,#T_29a8e_row68_col0,#T_29a8e_row70_col0,#T_29a8e_row71_col0,#T_29a8e_row72_col0,#T_29a8e_row73_col0,#T_29a8e_row74_col0,#T_29a8e_row75_col0,#T_29a8e_row76_col0,#T_29a8e_row77_col0,#T_29a8e_row78_col0,#T_29a8e_row79_col0,#T_29a8e_row80_col0,#T_29a8e_row81_col0,#T_29a8e_row82_col0,#T_29a8e_row83_col0,#T_29a8e_row84_col0,#T_29a8e_row85_col0,#T_29a8e_row86_col0{\n",
       "            background-color:  #3b4cc0;\n",
       "            color:  #f1f1f1;\n",
       "        }#T_29a8e_row3_col0,#T_29a8e_row7_col0,#T_29a8e_row13_col0,#T_29a8e_row15_col0,#T_29a8e_row35_col0,#T_29a8e_row37_col0,#T_29a8e_row38_col0{\n",
       "            background-color:  #5673e0;\n",
       "            color:  #000000;\n",
       "        }#T_29a8e_row16_col0,#T_29a8e_row69_col0{\n",
       "            background-color:  #7597f6;\n",
       "            color:  #000000;\n",
       "        }#T_29a8e_row43_col0,#T_29a8e_row61_col0{\n",
       "            background-color:  #94b6ff;\n",
       "            color:  #000000;\n",
       "        }#T_29a8e_row67_col0{\n",
       "            background-color:  #b40426;\n",
       "            color:  #f1f1f1;\n",
       "        }</style><table id=\"T_29a8e_\" ><thead>    <tr>        <th class=\"blank level0\" ></th>        <th class=\"col_heading level0 col0\" >0</th>    </tr></thead><tbody>\n",
       "                <tr>\n",
       "                        <th id=\"T_29a8e_level0_row0\" class=\"row_heading level0 row0\" >date</th>\n",
       "                        <td id=\"T_29a8e_row0_col0\" class=\"data row0 col0\" >0.000000</td>\n",
       "            </tr>\n",
       "            <tr>\n",
       "                        <th id=\"T_29a8e_level0_row1\" class=\"row_heading level0 row1\" >final.output.concentrate_ag</th>\n",
       "                        <td id=\"T_29a8e_row1_col0\" class=\"data row1 col0\" >0.000000</td>\n",
       "            </tr>\n",
       "            <tr>\n",
       "                        <th id=\"T_29a8e_level0_row2\" class=\"row_heading level0 row2\" >final.output.concentrate_pb</th>\n",
       "                        <td id=\"T_29a8e_row2_col0\" class=\"data row2 col0\" >0.000000</td>\n",
       "            </tr>\n",
       "            <tr>\n",
       "                        <th id=\"T_29a8e_level0_row3\" class=\"row_heading level0 row3\" >final.output.concentrate_sol</th>\n",
       "                        <td id=\"T_29a8e_row3_col0\" class=\"data row3 col0\" >1.000000</td>\n",
       "            </tr>\n",
       "            <tr>\n",
       "                        <th id=\"T_29a8e_level0_row4\" class=\"row_heading level0 row4\" >final.output.concentrate_au</th>\n",
       "                        <td id=\"T_29a8e_row4_col0\" class=\"data row4 col0\" >0.000000</td>\n",
       "            </tr>\n",
       "            <tr>\n",
       "                        <th id=\"T_29a8e_level0_row5\" class=\"row_heading level0 row5\" >final.output.recovery</th>\n",
       "                        <td id=\"T_29a8e_row5_col0\" class=\"data row5 col0\" >0.000000</td>\n",
       "            </tr>\n",
       "            <tr>\n",
       "                        <th id=\"T_29a8e_level0_row6\" class=\"row_heading level0 row6\" >final.output.tail_ag</th>\n",
       "                        <td id=\"T_29a8e_row6_col0\" class=\"data row6 col0\" >0.000000</td>\n",
       "            </tr>\n",
       "            <tr>\n",
       "                        <th id=\"T_29a8e_level0_row7\" class=\"row_heading level0 row7\" >final.output.tail_pb</th>\n",
       "                        <td id=\"T_29a8e_row7_col0\" class=\"data row7 col0\" >1.000000</td>\n",
       "            </tr>\n",
       "            <tr>\n",
       "                        <th id=\"T_29a8e_level0_row8\" class=\"row_heading level0 row8\" >final.output.tail_sol</th>\n",
       "                        <td id=\"T_29a8e_row8_col0\" class=\"data row8 col0\" >0.000000</td>\n",
       "            </tr>\n",
       "            <tr>\n",
       "                        <th id=\"T_29a8e_level0_row9\" class=\"row_heading level0 row9\" >final.output.tail_au</th>\n",
       "                        <td id=\"T_29a8e_row9_col0\" class=\"data row9 col0\" >0.000000</td>\n",
       "            </tr>\n",
       "            <tr>\n",
       "                        <th id=\"T_29a8e_level0_row10\" class=\"row_heading level0 row10\" >primary_cleaner.input.sulfate</th>\n",
       "                        <td id=\"T_29a8e_row10_col0\" class=\"data row10 col0\" >0.000000</td>\n",
       "            </tr>\n",
       "            <tr>\n",
       "                        <th id=\"T_29a8e_level0_row11\" class=\"row_heading level0 row11\" >primary_cleaner.input.depressant</th>\n",
       "                        <td id=\"T_29a8e_row11_col0\" class=\"data row11 col0\" >0.000000</td>\n",
       "            </tr>\n",
       "            <tr>\n",
       "                        <th id=\"T_29a8e_level0_row12\" class=\"row_heading level0 row12\" >primary_cleaner.input.feed_size</th>\n",
       "                        <td id=\"T_29a8e_row12_col0\" class=\"data row12 col0\" >0.000000</td>\n",
       "            </tr>\n",
       "            <tr>\n",
       "                        <th id=\"T_29a8e_level0_row13\" class=\"row_heading level0 row13\" >primary_cleaner.input.xanthate</th>\n",
       "                        <td id=\"T_29a8e_row13_col0\" class=\"data row13 col0\" >1.000000</td>\n",
       "            </tr>\n",
       "            <tr>\n",
       "                        <th id=\"T_29a8e_level0_row14\" class=\"row_heading level0 row14\" >primary_cleaner.output.concentrate_ag</th>\n",
       "                        <td id=\"T_29a8e_row14_col0\" class=\"data row14 col0\" >0.000000</td>\n",
       "            </tr>\n",
       "            <tr>\n",
       "                        <th id=\"T_29a8e_level0_row15\" class=\"row_heading level0 row15\" >primary_cleaner.output.concentrate_pb</th>\n",
       "                        <td id=\"T_29a8e_row15_col0\" class=\"data row15 col0\" >1.000000</td>\n",
       "            </tr>\n",
       "            <tr>\n",
       "                        <th id=\"T_29a8e_level0_row16\" class=\"row_heading level0 row16\" >primary_cleaner.output.concentrate_sol</th>\n",
       "                        <td id=\"T_29a8e_row16_col0\" class=\"data row16 col0\" >2.000000</td>\n",
       "            </tr>\n",
       "            <tr>\n",
       "                        <th id=\"T_29a8e_level0_row17\" class=\"row_heading level0 row17\" >primary_cleaner.output.concentrate_au</th>\n",
       "                        <td id=\"T_29a8e_row17_col0\" class=\"data row17 col0\" >0.000000</td>\n",
       "            </tr>\n",
       "            <tr>\n",
       "                        <th id=\"T_29a8e_level0_row18\" class=\"row_heading level0 row18\" >primary_cleaner.output.tail_ag</th>\n",
       "                        <td id=\"T_29a8e_row18_col0\" class=\"data row18 col0\" >0.000000</td>\n",
       "            </tr>\n",
       "            <tr>\n",
       "                        <th id=\"T_29a8e_level0_row19\" class=\"row_heading level0 row19\" >primary_cleaner.output.tail_pb</th>\n",
       "                        <td id=\"T_29a8e_row19_col0\" class=\"data row19 col0\" >0.000000</td>\n",
       "            </tr>\n",
       "            <tr>\n",
       "                        <th id=\"T_29a8e_level0_row20\" class=\"row_heading level0 row20\" >primary_cleaner.output.tail_sol</th>\n",
       "                        <td id=\"T_29a8e_row20_col0\" class=\"data row20 col0\" >0.000000</td>\n",
       "            </tr>\n",
       "            <tr>\n",
       "                        <th id=\"T_29a8e_level0_row21\" class=\"row_heading level0 row21\" >primary_cleaner.output.tail_au</th>\n",
       "                        <td id=\"T_29a8e_row21_col0\" class=\"data row21 col0\" >0.000000</td>\n",
       "            </tr>\n",
       "            <tr>\n",
       "                        <th id=\"T_29a8e_level0_row22\" class=\"row_heading level0 row22\" >primary_cleaner.state.floatbank8_a_air</th>\n",
       "                        <td id=\"T_29a8e_row22_col0\" class=\"data row22 col0\" >0.000000</td>\n",
       "            </tr>\n",
       "            <tr>\n",
       "                        <th id=\"T_29a8e_level0_row23\" class=\"row_heading level0 row23\" >primary_cleaner.state.floatbank8_a_level</th>\n",
       "                        <td id=\"T_29a8e_row23_col0\" class=\"data row23 col0\" >0.000000</td>\n",
       "            </tr>\n",
       "            <tr>\n",
       "                        <th id=\"T_29a8e_level0_row24\" class=\"row_heading level0 row24\" >primary_cleaner.state.floatbank8_b_air</th>\n",
       "                        <td id=\"T_29a8e_row24_col0\" class=\"data row24 col0\" >0.000000</td>\n",
       "            </tr>\n",
       "            <tr>\n",
       "                        <th id=\"T_29a8e_level0_row25\" class=\"row_heading level0 row25\" >primary_cleaner.state.floatbank8_b_level</th>\n",
       "                        <td id=\"T_29a8e_row25_col0\" class=\"data row25 col0\" >0.000000</td>\n",
       "            </tr>\n",
       "            <tr>\n",
       "                        <th id=\"T_29a8e_level0_row26\" class=\"row_heading level0 row26\" >primary_cleaner.state.floatbank8_c_air</th>\n",
       "                        <td id=\"T_29a8e_row26_col0\" class=\"data row26 col0\" >0.000000</td>\n",
       "            </tr>\n",
       "            <tr>\n",
       "                        <th id=\"T_29a8e_level0_row27\" class=\"row_heading level0 row27\" >primary_cleaner.state.floatbank8_c_level</th>\n",
       "                        <td id=\"T_29a8e_row27_col0\" class=\"data row27 col0\" >0.000000</td>\n",
       "            </tr>\n",
       "            <tr>\n",
       "                        <th id=\"T_29a8e_level0_row28\" class=\"row_heading level0 row28\" >primary_cleaner.state.floatbank8_d_air</th>\n",
       "                        <td id=\"T_29a8e_row28_col0\" class=\"data row28 col0\" >0.000000</td>\n",
       "            </tr>\n",
       "            <tr>\n",
       "                        <th id=\"T_29a8e_level0_row29\" class=\"row_heading level0 row29\" >primary_cleaner.state.floatbank8_d_level</th>\n",
       "                        <td id=\"T_29a8e_row29_col0\" class=\"data row29 col0\" >0.000000</td>\n",
       "            </tr>\n",
       "            <tr>\n",
       "                        <th id=\"T_29a8e_level0_row30\" class=\"row_heading level0 row30\" >rougher.calculation.sulfate_to_au_concentrate</th>\n",
       "                        <td id=\"T_29a8e_row30_col0\" class=\"data row30 col0\" >0.000000</td>\n",
       "            </tr>\n",
       "            <tr>\n",
       "                        <th id=\"T_29a8e_level0_row31\" class=\"row_heading level0 row31\" >rougher.calculation.floatbank10_sulfate_to_au_feed</th>\n",
       "                        <td id=\"T_29a8e_row31_col0\" class=\"data row31 col0\" >0.000000</td>\n",
       "            </tr>\n",
       "            <tr>\n",
       "                        <th id=\"T_29a8e_level0_row32\" class=\"row_heading level0 row32\" >rougher.calculation.floatbank11_sulfate_to_au_feed</th>\n",
       "                        <td id=\"T_29a8e_row32_col0\" class=\"data row32 col0\" >0.000000</td>\n",
       "            </tr>\n",
       "            <tr>\n",
       "                        <th id=\"T_29a8e_level0_row33\" class=\"row_heading level0 row33\" >rougher.calculation.au_pb_ratio</th>\n",
       "                        <td id=\"T_29a8e_row33_col0\" class=\"data row33 col0\" >0.000000</td>\n",
       "            </tr>\n",
       "            <tr>\n",
       "                        <th id=\"T_29a8e_level0_row34\" class=\"row_heading level0 row34\" >rougher.input.feed_ag</th>\n",
       "                        <td id=\"T_29a8e_row34_col0\" class=\"data row34 col0\" >0.000000</td>\n",
       "            </tr>\n",
       "            <tr>\n",
       "                        <th id=\"T_29a8e_level0_row35\" class=\"row_heading level0 row35\" >rougher.input.feed_pb</th>\n",
       "                        <td id=\"T_29a8e_row35_col0\" class=\"data row35 col0\" >1.000000</td>\n",
       "            </tr>\n",
       "            <tr>\n",
       "                        <th id=\"T_29a8e_level0_row36\" class=\"row_heading level0 row36\" >rougher.input.feed_rate</th>\n",
       "                        <td id=\"T_29a8e_row36_col0\" class=\"data row36 col0\" >0.000000</td>\n",
       "            </tr>\n",
       "            <tr>\n",
       "                        <th id=\"T_29a8e_level0_row37\" class=\"row_heading level0 row37\" >rougher.input.feed_size</th>\n",
       "                        <td id=\"T_29a8e_row37_col0\" class=\"data row37 col0\" >1.000000</td>\n",
       "            </tr>\n",
       "            <tr>\n",
       "                        <th id=\"T_29a8e_level0_row38\" class=\"row_heading level0 row38\" >rougher.input.feed_sol</th>\n",
       "                        <td id=\"T_29a8e_row38_col0\" class=\"data row38 col0\" >1.000000</td>\n",
       "            </tr>\n",
       "            <tr>\n",
       "                        <th id=\"T_29a8e_level0_row39\" class=\"row_heading level0 row39\" >rougher.input.feed_au</th>\n",
       "                        <td id=\"T_29a8e_row39_col0\" class=\"data row39 col0\" >0.000000</td>\n",
       "            </tr>\n",
       "            <tr>\n",
       "                        <th id=\"T_29a8e_level0_row40\" class=\"row_heading level0 row40\" >rougher.input.floatbank10_sulfate</th>\n",
       "                        <td id=\"T_29a8e_row40_col0\" class=\"data row40 col0\" >0.000000</td>\n",
       "            </tr>\n",
       "            <tr>\n",
       "                        <th id=\"T_29a8e_level0_row41\" class=\"row_heading level0 row41\" >rougher.input.floatbank10_xanthate</th>\n",
       "                        <td id=\"T_29a8e_row41_col0\" class=\"data row41 col0\" >0.000000</td>\n",
       "            </tr>\n",
       "            <tr>\n",
       "                        <th id=\"T_29a8e_level0_row42\" class=\"row_heading level0 row42\" >rougher.input.floatbank11_sulfate</th>\n",
       "                        <td id=\"T_29a8e_row42_col0\" class=\"data row42 col0\" >0.000000</td>\n",
       "            </tr>\n",
       "            <tr>\n",
       "                        <th id=\"T_29a8e_level0_row43\" class=\"row_heading level0 row43\" >rougher.input.floatbank11_xanthate</th>\n",
       "                        <td id=\"T_29a8e_row43_col0\" class=\"data row43 col0\" >3.000000</td>\n",
       "            </tr>\n",
       "            <tr>\n",
       "                        <th id=\"T_29a8e_level0_row44\" class=\"row_heading level0 row44\" >rougher.output.concentrate_ag</th>\n",
       "                        <td id=\"T_29a8e_row44_col0\" class=\"data row44 col0\" >0.000000</td>\n",
       "            </tr>\n",
       "            <tr>\n",
       "                        <th id=\"T_29a8e_level0_row45\" class=\"row_heading level0 row45\" >rougher.output.concentrate_pb</th>\n",
       "                        <td id=\"T_29a8e_row45_col0\" class=\"data row45 col0\" >0.000000</td>\n",
       "            </tr>\n",
       "            <tr>\n",
       "                        <th id=\"T_29a8e_level0_row46\" class=\"row_heading level0 row46\" >rougher.output.concentrate_sol</th>\n",
       "                        <td id=\"T_29a8e_row46_col0\" class=\"data row46 col0\" >0.000000</td>\n",
       "            </tr>\n",
       "            <tr>\n",
       "                        <th id=\"T_29a8e_level0_row47\" class=\"row_heading level0 row47\" >rougher.output.concentrate_au</th>\n",
       "                        <td id=\"T_29a8e_row47_col0\" class=\"data row47 col0\" >0.000000</td>\n",
       "            </tr>\n",
       "            <tr>\n",
       "                        <th id=\"T_29a8e_level0_row48\" class=\"row_heading level0 row48\" >rougher.output.recovery</th>\n",
       "                        <td id=\"T_29a8e_row48_col0\" class=\"data row48 col0\" >0.000000</td>\n",
       "            </tr>\n",
       "            <tr>\n",
       "                        <th id=\"T_29a8e_level0_row49\" class=\"row_heading level0 row49\" >rougher.output.tail_ag</th>\n",
       "                        <td id=\"T_29a8e_row49_col0\" class=\"data row49 col0\" >0.000000</td>\n",
       "            </tr>\n",
       "            <tr>\n",
       "                        <th id=\"T_29a8e_level0_row50\" class=\"row_heading level0 row50\" >rougher.output.tail_pb</th>\n",
       "                        <td id=\"T_29a8e_row50_col0\" class=\"data row50 col0\" >0.000000</td>\n",
       "            </tr>\n",
       "            <tr>\n",
       "                        <th id=\"T_29a8e_level0_row51\" class=\"row_heading level0 row51\" >rougher.output.tail_sol</th>\n",
       "                        <td id=\"T_29a8e_row51_col0\" class=\"data row51 col0\" >0.000000</td>\n",
       "            </tr>\n",
       "            <tr>\n",
       "                        <th id=\"T_29a8e_level0_row52\" class=\"row_heading level0 row52\" >rougher.output.tail_au</th>\n",
       "                        <td id=\"T_29a8e_row52_col0\" class=\"data row52 col0\" >0.000000</td>\n",
       "            </tr>\n",
       "            <tr>\n",
       "                        <th id=\"T_29a8e_level0_row53\" class=\"row_heading level0 row53\" >rougher.state.floatbank10_a_air</th>\n",
       "                        <td id=\"T_29a8e_row53_col0\" class=\"data row53 col0\" >0.000000</td>\n",
       "            </tr>\n",
       "            <tr>\n",
       "                        <th id=\"T_29a8e_level0_row54\" class=\"row_heading level0 row54\" >rougher.state.floatbank10_a_level</th>\n",
       "                        <td id=\"T_29a8e_row54_col0\" class=\"data row54 col0\" >0.000000</td>\n",
       "            </tr>\n",
       "            <tr>\n",
       "                        <th id=\"T_29a8e_level0_row55\" class=\"row_heading level0 row55\" >rougher.state.floatbank10_b_air</th>\n",
       "                        <td id=\"T_29a8e_row55_col0\" class=\"data row55 col0\" >0.000000</td>\n",
       "            </tr>\n",
       "            <tr>\n",
       "                        <th id=\"T_29a8e_level0_row56\" class=\"row_heading level0 row56\" >rougher.state.floatbank10_b_level</th>\n",
       "                        <td id=\"T_29a8e_row56_col0\" class=\"data row56 col0\" >0.000000</td>\n",
       "            </tr>\n",
       "            <tr>\n",
       "                        <th id=\"T_29a8e_level0_row57\" class=\"row_heading level0 row57\" >rougher.state.floatbank10_c_air</th>\n",
       "                        <td id=\"T_29a8e_row57_col0\" class=\"data row57 col0\" >0.000000</td>\n",
       "            </tr>\n",
       "            <tr>\n",
       "                        <th id=\"T_29a8e_level0_row58\" class=\"row_heading level0 row58\" >rougher.state.floatbank10_c_level</th>\n",
       "                        <td id=\"T_29a8e_row58_col0\" class=\"data row58 col0\" >0.000000</td>\n",
       "            </tr>\n",
       "            <tr>\n",
       "                        <th id=\"T_29a8e_level0_row59\" class=\"row_heading level0 row59\" >rougher.state.floatbank10_d_air</th>\n",
       "                        <td id=\"T_29a8e_row59_col0\" class=\"data row59 col0\" >0.000000</td>\n",
       "            </tr>\n",
       "            <tr>\n",
       "                        <th id=\"T_29a8e_level0_row60\" class=\"row_heading level0 row60\" >rougher.state.floatbank10_d_level</th>\n",
       "                        <td id=\"T_29a8e_row60_col0\" class=\"data row60 col0\" >0.000000</td>\n",
       "            </tr>\n",
       "            <tr>\n",
       "                        <th id=\"T_29a8e_level0_row61\" class=\"row_heading level0 row61\" >rougher.state.floatbank10_e_air</th>\n",
       "                        <td id=\"T_29a8e_row61_col0\" class=\"data row61 col0\" >3.000000</td>\n",
       "            </tr>\n",
       "            <tr>\n",
       "                        <th id=\"T_29a8e_level0_row62\" class=\"row_heading level0 row62\" >rougher.state.floatbank10_e_level</th>\n",
       "                        <td id=\"T_29a8e_row62_col0\" class=\"data row62 col0\" >0.000000</td>\n",
       "            </tr>\n",
       "            <tr>\n",
       "                        <th id=\"T_29a8e_level0_row63\" class=\"row_heading level0 row63\" >rougher.state.floatbank10_f_air</th>\n",
       "                        <td id=\"T_29a8e_row63_col0\" class=\"data row63 col0\" >0.000000</td>\n",
       "            </tr>\n",
       "            <tr>\n",
       "                        <th id=\"T_29a8e_level0_row64\" class=\"row_heading level0 row64\" >rougher.state.floatbank10_f_level</th>\n",
       "                        <td id=\"T_29a8e_row64_col0\" class=\"data row64 col0\" >0.000000</td>\n",
       "            </tr>\n",
       "            <tr>\n",
       "                        <th id=\"T_29a8e_level0_row65\" class=\"row_heading level0 row65\" >secondary_cleaner.output.tail_ag</th>\n",
       "                        <td id=\"T_29a8e_row65_col0\" class=\"data row65 col0\" >0.000000</td>\n",
       "            </tr>\n",
       "            <tr>\n",
       "                        <th id=\"T_29a8e_level0_row66\" class=\"row_heading level0 row66\" >secondary_cleaner.output.tail_pb</th>\n",
       "                        <td id=\"T_29a8e_row66_col0\" class=\"data row66 col0\" >0.000000</td>\n",
       "            </tr>\n",
       "            <tr>\n",
       "                        <th id=\"T_29a8e_level0_row67\" class=\"row_heading level0 row67\" >secondary_cleaner.output.tail_sol</th>\n",
       "                        <td id=\"T_29a8e_row67_col0\" class=\"data row67 col0\" >11.000000</td>\n",
       "            </tr>\n",
       "            <tr>\n",
       "                        <th id=\"T_29a8e_level0_row68\" class=\"row_heading level0 row68\" >secondary_cleaner.output.tail_au</th>\n",
       "                        <td id=\"T_29a8e_row68_col0\" class=\"data row68 col0\" >0.000000</td>\n",
       "            </tr>\n",
       "            <tr>\n",
       "                        <th id=\"T_29a8e_level0_row69\" class=\"row_heading level0 row69\" >secondary_cleaner.state.floatbank2_a_air</th>\n",
       "                        <td id=\"T_29a8e_row69_col0\" class=\"data row69 col0\" >2.000000</td>\n",
       "            </tr>\n",
       "            <tr>\n",
       "                        <th id=\"T_29a8e_level0_row70\" class=\"row_heading level0 row70\" >secondary_cleaner.state.floatbank2_a_level</th>\n",
       "                        <td id=\"T_29a8e_row70_col0\" class=\"data row70 col0\" >0.000000</td>\n",
       "            </tr>\n",
       "            <tr>\n",
       "                        <th id=\"T_29a8e_level0_row71\" class=\"row_heading level0 row71\" >secondary_cleaner.state.floatbank2_b_air</th>\n",
       "                        <td id=\"T_29a8e_row71_col0\" class=\"data row71 col0\" >0.000000</td>\n",
       "            </tr>\n",
       "            <tr>\n",
       "                        <th id=\"T_29a8e_level0_row72\" class=\"row_heading level0 row72\" >secondary_cleaner.state.floatbank2_b_level</th>\n",
       "                        <td id=\"T_29a8e_row72_col0\" class=\"data row72 col0\" >0.000000</td>\n",
       "            </tr>\n",
       "            <tr>\n",
       "                        <th id=\"T_29a8e_level0_row73\" class=\"row_heading level0 row73\" >secondary_cleaner.state.floatbank3_a_air</th>\n",
       "                        <td id=\"T_29a8e_row73_col0\" class=\"data row73 col0\" >0.000000</td>\n",
       "            </tr>\n",
       "            <tr>\n",
       "                        <th id=\"T_29a8e_level0_row74\" class=\"row_heading level0 row74\" >secondary_cleaner.state.floatbank3_a_level</th>\n",
       "                        <td id=\"T_29a8e_row74_col0\" class=\"data row74 col0\" >0.000000</td>\n",
       "            </tr>\n",
       "            <tr>\n",
       "                        <th id=\"T_29a8e_level0_row75\" class=\"row_heading level0 row75\" >secondary_cleaner.state.floatbank3_b_air</th>\n",
       "                        <td id=\"T_29a8e_row75_col0\" class=\"data row75 col0\" >0.000000</td>\n",
       "            </tr>\n",
       "            <tr>\n",
       "                        <th id=\"T_29a8e_level0_row76\" class=\"row_heading level0 row76\" >secondary_cleaner.state.floatbank3_b_level</th>\n",
       "                        <td id=\"T_29a8e_row76_col0\" class=\"data row76 col0\" >0.000000</td>\n",
       "            </tr>\n",
       "            <tr>\n",
       "                        <th id=\"T_29a8e_level0_row77\" class=\"row_heading level0 row77\" >secondary_cleaner.state.floatbank4_a_air</th>\n",
       "                        <td id=\"T_29a8e_row77_col0\" class=\"data row77 col0\" >0.000000</td>\n",
       "            </tr>\n",
       "            <tr>\n",
       "                        <th id=\"T_29a8e_level0_row78\" class=\"row_heading level0 row78\" >secondary_cleaner.state.floatbank4_a_level</th>\n",
       "                        <td id=\"T_29a8e_row78_col0\" class=\"data row78 col0\" >0.000000</td>\n",
       "            </tr>\n",
       "            <tr>\n",
       "                        <th id=\"T_29a8e_level0_row79\" class=\"row_heading level0 row79\" >secondary_cleaner.state.floatbank4_b_air</th>\n",
       "                        <td id=\"T_29a8e_row79_col0\" class=\"data row79 col0\" >0.000000</td>\n",
       "            </tr>\n",
       "            <tr>\n",
       "                        <th id=\"T_29a8e_level0_row80\" class=\"row_heading level0 row80\" >secondary_cleaner.state.floatbank4_b_level</th>\n",
       "                        <td id=\"T_29a8e_row80_col0\" class=\"data row80 col0\" >0.000000</td>\n",
       "            </tr>\n",
       "            <tr>\n",
       "                        <th id=\"T_29a8e_level0_row81\" class=\"row_heading level0 row81\" >secondary_cleaner.state.floatbank5_a_air</th>\n",
       "                        <td id=\"T_29a8e_row81_col0\" class=\"data row81 col0\" >0.000000</td>\n",
       "            </tr>\n",
       "            <tr>\n",
       "                        <th id=\"T_29a8e_level0_row82\" class=\"row_heading level0 row82\" >secondary_cleaner.state.floatbank5_a_level</th>\n",
       "                        <td id=\"T_29a8e_row82_col0\" class=\"data row82 col0\" >0.000000</td>\n",
       "            </tr>\n",
       "            <tr>\n",
       "                        <th id=\"T_29a8e_level0_row83\" class=\"row_heading level0 row83\" >secondary_cleaner.state.floatbank5_b_air</th>\n",
       "                        <td id=\"T_29a8e_row83_col0\" class=\"data row83 col0\" >0.000000</td>\n",
       "            </tr>\n",
       "            <tr>\n",
       "                        <th id=\"T_29a8e_level0_row84\" class=\"row_heading level0 row84\" >secondary_cleaner.state.floatbank5_b_level</th>\n",
       "                        <td id=\"T_29a8e_row84_col0\" class=\"data row84 col0\" >0.000000</td>\n",
       "            </tr>\n",
       "            <tr>\n",
       "                        <th id=\"T_29a8e_level0_row85\" class=\"row_heading level0 row85\" >secondary_cleaner.state.floatbank6_a_air</th>\n",
       "                        <td id=\"T_29a8e_row85_col0\" class=\"data row85 col0\" >0.000000</td>\n",
       "            </tr>\n",
       "            <tr>\n",
       "                        <th id=\"T_29a8e_level0_row86\" class=\"row_heading level0 row86\" >secondary_cleaner.state.floatbank6_a_level</th>\n",
       "                        <td id=\"T_29a8e_row86_col0\" class=\"data row86 col0\" >0.000000</td>\n",
       "            </tr>\n",
       "    </tbody></table>"
      ],
      "text/plain": [
       "<pandas.io.formats.style.Styler at 0x7f647a64dd90>"
      ]
     },
     "execution_count": 16,
     "metadata": {},
     "output_type": "execute_result"
    }
   ],
   "source": [
    "pd.DataFrame(round(data_train.isna().mean()*100,)).style.background_gradient('coolwarm')"
   ]
  },
  {
   "cell_type": "code",
   "execution_count": 17,
   "metadata": {
    "scrolled": true
   },
   "outputs": [
    {
     "data": {
      "text/html": [
       "<style  type=\"text/css\" >\n",
       "#T_32fd2_row0_col0,#T_32fd2_row1_col0,#T_32fd2_row2_col0,#T_32fd2_row3_col0,#T_32fd2_row4_col0,#T_32fd2_row5_col0,#T_32fd2_row6_col0,#T_32fd2_row7_col0,#T_32fd2_row8_col0,#T_32fd2_row9_col0,#T_32fd2_row10_col0,#T_32fd2_row11_col0,#T_32fd2_row12_col0,#T_32fd2_row13_col0,#T_32fd2_row14_col0,#T_32fd2_row15_col0,#T_32fd2_row16_col0,#T_32fd2_row17_col0,#T_32fd2_row18_col0,#T_32fd2_row19_col0,#T_32fd2_row20_col0,#T_32fd2_row21_col0,#T_32fd2_row22_col0,#T_32fd2_row23_col0,#T_32fd2_row24_col0,#T_32fd2_row25_col0,#T_32fd2_row26_col0,#T_32fd2_row27_col0,#T_32fd2_row28_col0,#T_32fd2_row29_col0,#T_32fd2_row30_col0,#T_32fd2_row31_col0,#T_32fd2_row32_col0,#T_32fd2_row33_col0,#T_32fd2_row34_col0,#T_32fd2_row35_col0,#T_32fd2_row36_col0,#T_32fd2_row37_col0,#T_32fd2_row38_col0,#T_32fd2_row39_col0,#T_32fd2_row40_col0,#T_32fd2_row41_col0,#T_32fd2_row42_col0,#T_32fd2_row43_col0,#T_32fd2_row44_col0,#T_32fd2_row45_col0,#T_32fd2_row46_col0,#T_32fd2_row47_col0,#T_32fd2_row48_col0,#T_32fd2_row49_col0,#T_32fd2_row50_col0,#T_32fd2_row51_col0,#T_32fd2_row52_col0,#T_32fd2_row53_col0,#T_32fd2_row54_col0{\n",
       "            background-color:  #3b4cc0;\n",
       "            color:  #f1f1f1;\n",
       "        }</style><table id=\"T_32fd2_\" ><thead>    <tr>        <th class=\"blank level0\" ></th>        <th class=\"col_heading level0 col0\" >0</th>    </tr></thead><tbody>\n",
       "                <tr>\n",
       "                        <th id=\"T_32fd2_level0_row0\" class=\"row_heading level0 row0\" >date</th>\n",
       "                        <td id=\"T_32fd2_row0_col0\" class=\"data row0 col0\" >0.000000</td>\n",
       "            </tr>\n",
       "            <tr>\n",
       "                        <th id=\"T_32fd2_level0_row1\" class=\"row_heading level0 row1\" >primary_cleaner.input.sulfate</th>\n",
       "                        <td id=\"T_32fd2_row1_col0\" class=\"data row1 col0\" >0.000000</td>\n",
       "            </tr>\n",
       "            <tr>\n",
       "                        <th id=\"T_32fd2_level0_row2\" class=\"row_heading level0 row2\" >primary_cleaner.input.depressant</th>\n",
       "                        <td id=\"T_32fd2_row2_col0\" class=\"data row2 col0\" >0.000000</td>\n",
       "            </tr>\n",
       "            <tr>\n",
       "                        <th id=\"T_32fd2_level0_row3\" class=\"row_heading level0 row3\" >primary_cleaner.input.feed_size</th>\n",
       "                        <td id=\"T_32fd2_row3_col0\" class=\"data row3 col0\" >0.000000</td>\n",
       "            </tr>\n",
       "            <tr>\n",
       "                        <th id=\"T_32fd2_level0_row4\" class=\"row_heading level0 row4\" >primary_cleaner.input.xanthate</th>\n",
       "                        <td id=\"T_32fd2_row4_col0\" class=\"data row4 col0\" >0.000000</td>\n",
       "            </tr>\n",
       "            <tr>\n",
       "                        <th id=\"T_32fd2_level0_row5\" class=\"row_heading level0 row5\" >primary_cleaner.state.floatbank8_a_air</th>\n",
       "                        <td id=\"T_32fd2_row5_col0\" class=\"data row5 col0\" >0.000000</td>\n",
       "            </tr>\n",
       "            <tr>\n",
       "                        <th id=\"T_32fd2_level0_row6\" class=\"row_heading level0 row6\" >primary_cleaner.state.floatbank8_a_level</th>\n",
       "                        <td id=\"T_32fd2_row6_col0\" class=\"data row6 col0\" >0.000000</td>\n",
       "            </tr>\n",
       "            <tr>\n",
       "                        <th id=\"T_32fd2_level0_row7\" class=\"row_heading level0 row7\" >primary_cleaner.state.floatbank8_b_air</th>\n",
       "                        <td id=\"T_32fd2_row7_col0\" class=\"data row7 col0\" >0.000000</td>\n",
       "            </tr>\n",
       "            <tr>\n",
       "                        <th id=\"T_32fd2_level0_row8\" class=\"row_heading level0 row8\" >primary_cleaner.state.floatbank8_b_level</th>\n",
       "                        <td id=\"T_32fd2_row8_col0\" class=\"data row8 col0\" >0.000000</td>\n",
       "            </tr>\n",
       "            <tr>\n",
       "                        <th id=\"T_32fd2_level0_row9\" class=\"row_heading level0 row9\" >primary_cleaner.state.floatbank8_c_air</th>\n",
       "                        <td id=\"T_32fd2_row9_col0\" class=\"data row9 col0\" >0.000000</td>\n",
       "            </tr>\n",
       "            <tr>\n",
       "                        <th id=\"T_32fd2_level0_row10\" class=\"row_heading level0 row10\" >primary_cleaner.state.floatbank8_c_level</th>\n",
       "                        <td id=\"T_32fd2_row10_col0\" class=\"data row10 col0\" >0.000000</td>\n",
       "            </tr>\n",
       "            <tr>\n",
       "                        <th id=\"T_32fd2_level0_row11\" class=\"row_heading level0 row11\" >primary_cleaner.state.floatbank8_d_air</th>\n",
       "                        <td id=\"T_32fd2_row11_col0\" class=\"data row11 col0\" >0.000000</td>\n",
       "            </tr>\n",
       "            <tr>\n",
       "                        <th id=\"T_32fd2_level0_row12\" class=\"row_heading level0 row12\" >primary_cleaner.state.floatbank8_d_level</th>\n",
       "                        <td id=\"T_32fd2_row12_col0\" class=\"data row12 col0\" >0.000000</td>\n",
       "            </tr>\n",
       "            <tr>\n",
       "                        <th id=\"T_32fd2_level0_row13\" class=\"row_heading level0 row13\" >rougher.input.feed_ag</th>\n",
       "                        <td id=\"T_32fd2_row13_col0\" class=\"data row13 col0\" >0.000000</td>\n",
       "            </tr>\n",
       "            <tr>\n",
       "                        <th id=\"T_32fd2_level0_row14\" class=\"row_heading level0 row14\" >rougher.input.feed_pb</th>\n",
       "                        <td id=\"T_32fd2_row14_col0\" class=\"data row14 col0\" >0.000000</td>\n",
       "            </tr>\n",
       "            <tr>\n",
       "                        <th id=\"T_32fd2_level0_row15\" class=\"row_heading level0 row15\" >rougher.input.feed_rate</th>\n",
       "                        <td id=\"T_32fd2_row15_col0\" class=\"data row15 col0\" >0.000000</td>\n",
       "            </tr>\n",
       "            <tr>\n",
       "                        <th id=\"T_32fd2_level0_row16\" class=\"row_heading level0 row16\" >rougher.input.feed_size</th>\n",
       "                        <td id=\"T_32fd2_row16_col0\" class=\"data row16 col0\" >0.000000</td>\n",
       "            </tr>\n",
       "            <tr>\n",
       "                        <th id=\"T_32fd2_level0_row17\" class=\"row_heading level0 row17\" >rougher.input.feed_sol</th>\n",
       "                        <td id=\"T_32fd2_row17_col0\" class=\"data row17 col0\" >0.000000</td>\n",
       "            </tr>\n",
       "            <tr>\n",
       "                        <th id=\"T_32fd2_level0_row18\" class=\"row_heading level0 row18\" >rougher.input.feed_au</th>\n",
       "                        <td id=\"T_32fd2_row18_col0\" class=\"data row18 col0\" >0.000000</td>\n",
       "            </tr>\n",
       "            <tr>\n",
       "                        <th id=\"T_32fd2_level0_row19\" class=\"row_heading level0 row19\" >rougher.input.floatbank10_sulfate</th>\n",
       "                        <td id=\"T_32fd2_row19_col0\" class=\"data row19 col0\" >0.000000</td>\n",
       "            </tr>\n",
       "            <tr>\n",
       "                        <th id=\"T_32fd2_level0_row20\" class=\"row_heading level0 row20\" >rougher.input.floatbank10_xanthate</th>\n",
       "                        <td id=\"T_32fd2_row20_col0\" class=\"data row20 col0\" >0.000000</td>\n",
       "            </tr>\n",
       "            <tr>\n",
       "                        <th id=\"T_32fd2_level0_row21\" class=\"row_heading level0 row21\" >rougher.input.floatbank11_sulfate</th>\n",
       "                        <td id=\"T_32fd2_row21_col0\" class=\"data row21 col0\" >0.000000</td>\n",
       "            </tr>\n",
       "            <tr>\n",
       "                        <th id=\"T_32fd2_level0_row22\" class=\"row_heading level0 row22\" >rougher.input.floatbank11_xanthate</th>\n",
       "                        <td id=\"T_32fd2_row22_col0\" class=\"data row22 col0\" >0.000000</td>\n",
       "            </tr>\n",
       "            <tr>\n",
       "                        <th id=\"T_32fd2_level0_row23\" class=\"row_heading level0 row23\" >rougher.state.floatbank10_a_air</th>\n",
       "                        <td id=\"T_32fd2_row23_col0\" class=\"data row23 col0\" >0.000000</td>\n",
       "            </tr>\n",
       "            <tr>\n",
       "                        <th id=\"T_32fd2_level0_row24\" class=\"row_heading level0 row24\" >rougher.state.floatbank10_a_level</th>\n",
       "                        <td id=\"T_32fd2_row24_col0\" class=\"data row24 col0\" >0.000000</td>\n",
       "            </tr>\n",
       "            <tr>\n",
       "                        <th id=\"T_32fd2_level0_row25\" class=\"row_heading level0 row25\" >rougher.state.floatbank10_b_air</th>\n",
       "                        <td id=\"T_32fd2_row25_col0\" class=\"data row25 col0\" >0.000000</td>\n",
       "            </tr>\n",
       "            <tr>\n",
       "                        <th id=\"T_32fd2_level0_row26\" class=\"row_heading level0 row26\" >rougher.state.floatbank10_b_level</th>\n",
       "                        <td id=\"T_32fd2_row26_col0\" class=\"data row26 col0\" >0.000000</td>\n",
       "            </tr>\n",
       "            <tr>\n",
       "                        <th id=\"T_32fd2_level0_row27\" class=\"row_heading level0 row27\" >rougher.state.floatbank10_c_air</th>\n",
       "                        <td id=\"T_32fd2_row27_col0\" class=\"data row27 col0\" >0.000000</td>\n",
       "            </tr>\n",
       "            <tr>\n",
       "                        <th id=\"T_32fd2_level0_row28\" class=\"row_heading level0 row28\" >rougher.state.floatbank10_c_level</th>\n",
       "                        <td id=\"T_32fd2_row28_col0\" class=\"data row28 col0\" >0.000000</td>\n",
       "            </tr>\n",
       "            <tr>\n",
       "                        <th id=\"T_32fd2_level0_row29\" class=\"row_heading level0 row29\" >rougher.state.floatbank10_d_air</th>\n",
       "                        <td id=\"T_32fd2_row29_col0\" class=\"data row29 col0\" >0.000000</td>\n",
       "            </tr>\n",
       "            <tr>\n",
       "                        <th id=\"T_32fd2_level0_row30\" class=\"row_heading level0 row30\" >rougher.state.floatbank10_d_level</th>\n",
       "                        <td id=\"T_32fd2_row30_col0\" class=\"data row30 col0\" >0.000000</td>\n",
       "            </tr>\n",
       "            <tr>\n",
       "                        <th id=\"T_32fd2_level0_row31\" class=\"row_heading level0 row31\" >rougher.state.floatbank10_e_air</th>\n",
       "                        <td id=\"T_32fd2_row31_col0\" class=\"data row31 col0\" >0.000000</td>\n",
       "            </tr>\n",
       "            <tr>\n",
       "                        <th id=\"T_32fd2_level0_row32\" class=\"row_heading level0 row32\" >rougher.state.floatbank10_e_level</th>\n",
       "                        <td id=\"T_32fd2_row32_col0\" class=\"data row32 col0\" >0.000000</td>\n",
       "            </tr>\n",
       "            <tr>\n",
       "                        <th id=\"T_32fd2_level0_row33\" class=\"row_heading level0 row33\" >rougher.state.floatbank10_f_air</th>\n",
       "                        <td id=\"T_32fd2_row33_col0\" class=\"data row33 col0\" >0.000000</td>\n",
       "            </tr>\n",
       "            <tr>\n",
       "                        <th id=\"T_32fd2_level0_row34\" class=\"row_heading level0 row34\" >rougher.state.floatbank10_f_level</th>\n",
       "                        <td id=\"T_32fd2_row34_col0\" class=\"data row34 col0\" >0.000000</td>\n",
       "            </tr>\n",
       "            <tr>\n",
       "                        <th id=\"T_32fd2_level0_row35\" class=\"row_heading level0 row35\" >secondary_cleaner.state.floatbank2_a_air</th>\n",
       "                        <td id=\"T_32fd2_row35_col0\" class=\"data row35 col0\" >0.000000</td>\n",
       "            </tr>\n",
       "            <tr>\n",
       "                        <th id=\"T_32fd2_level0_row36\" class=\"row_heading level0 row36\" >secondary_cleaner.state.floatbank2_a_level</th>\n",
       "                        <td id=\"T_32fd2_row36_col0\" class=\"data row36 col0\" >0.000000</td>\n",
       "            </tr>\n",
       "            <tr>\n",
       "                        <th id=\"T_32fd2_level0_row37\" class=\"row_heading level0 row37\" >secondary_cleaner.state.floatbank2_b_air</th>\n",
       "                        <td id=\"T_32fd2_row37_col0\" class=\"data row37 col0\" >0.000000</td>\n",
       "            </tr>\n",
       "            <tr>\n",
       "                        <th id=\"T_32fd2_level0_row38\" class=\"row_heading level0 row38\" >secondary_cleaner.state.floatbank2_b_level</th>\n",
       "                        <td id=\"T_32fd2_row38_col0\" class=\"data row38 col0\" >0.000000</td>\n",
       "            </tr>\n",
       "            <tr>\n",
       "                        <th id=\"T_32fd2_level0_row39\" class=\"row_heading level0 row39\" >secondary_cleaner.state.floatbank3_a_air</th>\n",
       "                        <td id=\"T_32fd2_row39_col0\" class=\"data row39 col0\" >0.000000</td>\n",
       "            </tr>\n",
       "            <tr>\n",
       "                        <th id=\"T_32fd2_level0_row40\" class=\"row_heading level0 row40\" >secondary_cleaner.state.floatbank3_a_level</th>\n",
       "                        <td id=\"T_32fd2_row40_col0\" class=\"data row40 col0\" >0.000000</td>\n",
       "            </tr>\n",
       "            <tr>\n",
       "                        <th id=\"T_32fd2_level0_row41\" class=\"row_heading level0 row41\" >secondary_cleaner.state.floatbank3_b_air</th>\n",
       "                        <td id=\"T_32fd2_row41_col0\" class=\"data row41 col0\" >0.000000</td>\n",
       "            </tr>\n",
       "            <tr>\n",
       "                        <th id=\"T_32fd2_level0_row42\" class=\"row_heading level0 row42\" >secondary_cleaner.state.floatbank3_b_level</th>\n",
       "                        <td id=\"T_32fd2_row42_col0\" class=\"data row42 col0\" >0.000000</td>\n",
       "            </tr>\n",
       "            <tr>\n",
       "                        <th id=\"T_32fd2_level0_row43\" class=\"row_heading level0 row43\" >secondary_cleaner.state.floatbank4_a_air</th>\n",
       "                        <td id=\"T_32fd2_row43_col0\" class=\"data row43 col0\" >0.000000</td>\n",
       "            </tr>\n",
       "            <tr>\n",
       "                        <th id=\"T_32fd2_level0_row44\" class=\"row_heading level0 row44\" >secondary_cleaner.state.floatbank4_a_level</th>\n",
       "                        <td id=\"T_32fd2_row44_col0\" class=\"data row44 col0\" >0.000000</td>\n",
       "            </tr>\n",
       "            <tr>\n",
       "                        <th id=\"T_32fd2_level0_row45\" class=\"row_heading level0 row45\" >secondary_cleaner.state.floatbank4_b_air</th>\n",
       "                        <td id=\"T_32fd2_row45_col0\" class=\"data row45 col0\" >0.000000</td>\n",
       "            </tr>\n",
       "            <tr>\n",
       "                        <th id=\"T_32fd2_level0_row46\" class=\"row_heading level0 row46\" >secondary_cleaner.state.floatbank4_b_level</th>\n",
       "                        <td id=\"T_32fd2_row46_col0\" class=\"data row46 col0\" >0.000000</td>\n",
       "            </tr>\n",
       "            <tr>\n",
       "                        <th id=\"T_32fd2_level0_row47\" class=\"row_heading level0 row47\" >secondary_cleaner.state.floatbank5_a_air</th>\n",
       "                        <td id=\"T_32fd2_row47_col0\" class=\"data row47 col0\" >0.000000</td>\n",
       "            </tr>\n",
       "            <tr>\n",
       "                        <th id=\"T_32fd2_level0_row48\" class=\"row_heading level0 row48\" >secondary_cleaner.state.floatbank5_a_level</th>\n",
       "                        <td id=\"T_32fd2_row48_col0\" class=\"data row48 col0\" >0.000000</td>\n",
       "            </tr>\n",
       "            <tr>\n",
       "                        <th id=\"T_32fd2_level0_row49\" class=\"row_heading level0 row49\" >secondary_cleaner.state.floatbank5_b_air</th>\n",
       "                        <td id=\"T_32fd2_row49_col0\" class=\"data row49 col0\" >0.000000</td>\n",
       "            </tr>\n",
       "            <tr>\n",
       "                        <th id=\"T_32fd2_level0_row50\" class=\"row_heading level0 row50\" >secondary_cleaner.state.floatbank5_b_level</th>\n",
       "                        <td id=\"T_32fd2_row50_col0\" class=\"data row50 col0\" >0.000000</td>\n",
       "            </tr>\n",
       "            <tr>\n",
       "                        <th id=\"T_32fd2_level0_row51\" class=\"row_heading level0 row51\" >secondary_cleaner.state.floatbank6_a_air</th>\n",
       "                        <td id=\"T_32fd2_row51_col0\" class=\"data row51 col0\" >0.000000</td>\n",
       "            </tr>\n",
       "            <tr>\n",
       "                        <th id=\"T_32fd2_level0_row52\" class=\"row_heading level0 row52\" >secondary_cleaner.state.floatbank6_a_level</th>\n",
       "                        <td id=\"T_32fd2_row52_col0\" class=\"data row52 col0\" >0.000000</td>\n",
       "            </tr>\n",
       "            <tr>\n",
       "                        <th id=\"T_32fd2_level0_row53\" class=\"row_heading level0 row53\" >rougher.output.recovery</th>\n",
       "                        <td id=\"T_32fd2_row53_col0\" class=\"data row53 col0\" >0.000000</td>\n",
       "            </tr>\n",
       "            <tr>\n",
       "                        <th id=\"T_32fd2_level0_row54\" class=\"row_heading level0 row54\" >final.output.recovery</th>\n",
       "                        <td id=\"T_32fd2_row54_col0\" class=\"data row54 col0\" >0.000000</td>\n",
       "            </tr>\n",
       "    </tbody></table>"
      ],
      "text/plain": [
       "<pandas.io.formats.style.Styler at 0x7f647a64d460>"
      ]
     },
     "execution_count": 17,
     "metadata": {},
     "output_type": "execute_result"
    }
   ],
   "source": [
    "pd.DataFrame(round(data_test.isna().mean()*100,)).style.background_gradient('coolwarm')"
   ]
  },
  {
   "cell_type": "code",
   "execution_count": 18,
   "metadata": {
    "scrolled": true
   },
   "outputs": [
    {
     "data": {
      "text/html": [
       "<style  type=\"text/css\" >\n",
       "#T_c436b_row0_col0,#T_c436b_row1_col0,#T_c436b_row2_col0,#T_c436b_row4_col0,#T_c436b_row5_col0,#T_c436b_row6_col0,#T_c436b_row8_col0,#T_c436b_row9_col0,#T_c436b_row10_col0,#T_c436b_row11_col0,#T_c436b_row12_col0,#T_c436b_row14_col0,#T_c436b_row17_col0,#T_c436b_row18_col0,#T_c436b_row19_col0,#T_c436b_row20_col0,#T_c436b_row21_col0,#T_c436b_row22_col0,#T_c436b_row23_col0,#T_c436b_row24_col0,#T_c436b_row25_col0,#T_c436b_row26_col0,#T_c436b_row27_col0,#T_c436b_row28_col0,#T_c436b_row29_col0,#T_c436b_row30_col0,#T_c436b_row31_col0,#T_c436b_row32_col0,#T_c436b_row33_col0,#T_c436b_row34_col0,#T_c436b_row36_col0,#T_c436b_row39_col0,#T_c436b_row40_col0,#T_c436b_row41_col0,#T_c436b_row42_col0,#T_c436b_row44_col0,#T_c436b_row45_col0,#T_c436b_row46_col0,#T_c436b_row47_col0,#T_c436b_row48_col0,#T_c436b_row49_col0,#T_c436b_row50_col0,#T_c436b_row51_col0,#T_c436b_row52_col0,#T_c436b_row53_col0,#T_c436b_row54_col0,#T_c436b_row55_col0,#T_c436b_row56_col0,#T_c436b_row57_col0,#T_c436b_row58_col0,#T_c436b_row59_col0,#T_c436b_row60_col0,#T_c436b_row62_col0,#T_c436b_row63_col0,#T_c436b_row64_col0,#T_c436b_row65_col0,#T_c436b_row66_col0,#T_c436b_row68_col0,#T_c436b_row70_col0,#T_c436b_row71_col0,#T_c436b_row72_col0,#T_c436b_row73_col0,#T_c436b_row74_col0,#T_c436b_row75_col0,#T_c436b_row76_col0,#T_c436b_row77_col0,#T_c436b_row78_col0,#T_c436b_row79_col0,#T_c436b_row80_col0,#T_c436b_row81_col0,#T_c436b_row82_col0,#T_c436b_row83_col0,#T_c436b_row84_col0,#T_c436b_row85_col0,#T_c436b_row86_col0{\n",
       "            background-color:  #3b4cc0;\n",
       "            color:  #f1f1f1;\n",
       "        }#T_c436b_row3_col0,#T_c436b_row7_col0,#T_c436b_row13_col0,#T_c436b_row15_col0,#T_c436b_row35_col0,#T_c436b_row37_col0,#T_c436b_row38_col0,#T_c436b_row69_col0{\n",
       "            background-color:  #5d7ce6;\n",
       "            color:  #000000;\n",
       "        }#T_c436b_row16_col0,#T_c436b_row43_col0,#T_c436b_row61_col0{\n",
       "            background-color:  #82a6fb;\n",
       "            color:  #000000;\n",
       "        }#T_c436b_row67_col0{\n",
       "            background-color:  #b40426;\n",
       "            color:  #f1f1f1;\n",
       "        }</style><table id=\"T_c436b_\" ><thead>    <tr>        <th class=\"blank level0\" ></th>        <th class=\"col_heading level0 col0\" >0</th>    </tr></thead><tbody>\n",
       "                <tr>\n",
       "                        <th id=\"T_c436b_level0_row0\" class=\"row_heading level0 row0\" >date</th>\n",
       "                        <td id=\"T_c436b_row0_col0\" class=\"data row0 col0\" >0.000000</td>\n",
       "            </tr>\n",
       "            <tr>\n",
       "                        <th id=\"T_c436b_level0_row1\" class=\"row_heading level0 row1\" >final.output.concentrate_ag</th>\n",
       "                        <td id=\"T_c436b_row1_col0\" class=\"data row1 col0\" >0.000000</td>\n",
       "            </tr>\n",
       "            <tr>\n",
       "                        <th id=\"T_c436b_level0_row2\" class=\"row_heading level0 row2\" >final.output.concentrate_pb</th>\n",
       "                        <td id=\"T_c436b_row2_col0\" class=\"data row2 col0\" >0.000000</td>\n",
       "            </tr>\n",
       "            <tr>\n",
       "                        <th id=\"T_c436b_level0_row3\" class=\"row_heading level0 row3\" >final.output.concentrate_sol</th>\n",
       "                        <td id=\"T_c436b_row3_col0\" class=\"data row3 col0\" >1.000000</td>\n",
       "            </tr>\n",
       "            <tr>\n",
       "                        <th id=\"T_c436b_level0_row4\" class=\"row_heading level0 row4\" >final.output.concentrate_au</th>\n",
       "                        <td id=\"T_c436b_row4_col0\" class=\"data row4 col0\" >0.000000</td>\n",
       "            </tr>\n",
       "            <tr>\n",
       "                        <th id=\"T_c436b_level0_row5\" class=\"row_heading level0 row5\" >final.output.recovery</th>\n",
       "                        <td id=\"T_c436b_row5_col0\" class=\"data row5 col0\" >0.000000</td>\n",
       "            </tr>\n",
       "            <tr>\n",
       "                        <th id=\"T_c436b_level0_row6\" class=\"row_heading level0 row6\" >final.output.tail_ag</th>\n",
       "                        <td id=\"T_c436b_row6_col0\" class=\"data row6 col0\" >0.000000</td>\n",
       "            </tr>\n",
       "            <tr>\n",
       "                        <th id=\"T_c436b_level0_row7\" class=\"row_heading level0 row7\" >final.output.tail_pb</th>\n",
       "                        <td id=\"T_c436b_row7_col0\" class=\"data row7 col0\" >1.000000</td>\n",
       "            </tr>\n",
       "            <tr>\n",
       "                        <th id=\"T_c436b_level0_row8\" class=\"row_heading level0 row8\" >final.output.tail_sol</th>\n",
       "                        <td id=\"T_c436b_row8_col0\" class=\"data row8 col0\" >0.000000</td>\n",
       "            </tr>\n",
       "            <tr>\n",
       "                        <th id=\"T_c436b_level0_row9\" class=\"row_heading level0 row9\" >final.output.tail_au</th>\n",
       "                        <td id=\"T_c436b_row9_col0\" class=\"data row9 col0\" >0.000000</td>\n",
       "            </tr>\n",
       "            <tr>\n",
       "                        <th id=\"T_c436b_level0_row10\" class=\"row_heading level0 row10\" >primary_cleaner.input.sulfate</th>\n",
       "                        <td id=\"T_c436b_row10_col0\" class=\"data row10 col0\" >0.000000</td>\n",
       "            </tr>\n",
       "            <tr>\n",
       "                        <th id=\"T_c436b_level0_row11\" class=\"row_heading level0 row11\" >primary_cleaner.input.depressant</th>\n",
       "                        <td id=\"T_c436b_row11_col0\" class=\"data row11 col0\" >0.000000</td>\n",
       "            </tr>\n",
       "            <tr>\n",
       "                        <th id=\"T_c436b_level0_row12\" class=\"row_heading level0 row12\" >primary_cleaner.input.feed_size</th>\n",
       "                        <td id=\"T_c436b_row12_col0\" class=\"data row12 col0\" >0.000000</td>\n",
       "            </tr>\n",
       "            <tr>\n",
       "                        <th id=\"T_c436b_level0_row13\" class=\"row_heading level0 row13\" >primary_cleaner.input.xanthate</th>\n",
       "                        <td id=\"T_c436b_row13_col0\" class=\"data row13 col0\" >1.000000</td>\n",
       "            </tr>\n",
       "            <tr>\n",
       "                        <th id=\"T_c436b_level0_row14\" class=\"row_heading level0 row14\" >primary_cleaner.output.concentrate_ag</th>\n",
       "                        <td id=\"T_c436b_row14_col0\" class=\"data row14 col0\" >0.000000</td>\n",
       "            </tr>\n",
       "            <tr>\n",
       "                        <th id=\"T_c436b_level0_row15\" class=\"row_heading level0 row15\" >primary_cleaner.output.concentrate_pb</th>\n",
       "                        <td id=\"T_c436b_row15_col0\" class=\"data row15 col0\" >1.000000</td>\n",
       "            </tr>\n",
       "            <tr>\n",
       "                        <th id=\"T_c436b_level0_row16\" class=\"row_heading level0 row16\" >primary_cleaner.output.concentrate_sol</th>\n",
       "                        <td id=\"T_c436b_row16_col0\" class=\"data row16 col0\" >2.000000</td>\n",
       "            </tr>\n",
       "            <tr>\n",
       "                        <th id=\"T_c436b_level0_row17\" class=\"row_heading level0 row17\" >primary_cleaner.output.concentrate_au</th>\n",
       "                        <td id=\"T_c436b_row17_col0\" class=\"data row17 col0\" >0.000000</td>\n",
       "            </tr>\n",
       "            <tr>\n",
       "                        <th id=\"T_c436b_level0_row18\" class=\"row_heading level0 row18\" >primary_cleaner.output.tail_ag</th>\n",
       "                        <td id=\"T_c436b_row18_col0\" class=\"data row18 col0\" >0.000000</td>\n",
       "            </tr>\n",
       "            <tr>\n",
       "                        <th id=\"T_c436b_level0_row19\" class=\"row_heading level0 row19\" >primary_cleaner.output.tail_pb</th>\n",
       "                        <td id=\"T_c436b_row19_col0\" class=\"data row19 col0\" >0.000000</td>\n",
       "            </tr>\n",
       "            <tr>\n",
       "                        <th id=\"T_c436b_level0_row20\" class=\"row_heading level0 row20\" >primary_cleaner.output.tail_sol</th>\n",
       "                        <td id=\"T_c436b_row20_col0\" class=\"data row20 col0\" >0.000000</td>\n",
       "            </tr>\n",
       "            <tr>\n",
       "                        <th id=\"T_c436b_level0_row21\" class=\"row_heading level0 row21\" >primary_cleaner.output.tail_au</th>\n",
       "                        <td id=\"T_c436b_row21_col0\" class=\"data row21 col0\" >0.000000</td>\n",
       "            </tr>\n",
       "            <tr>\n",
       "                        <th id=\"T_c436b_level0_row22\" class=\"row_heading level0 row22\" >primary_cleaner.state.floatbank8_a_air</th>\n",
       "                        <td id=\"T_c436b_row22_col0\" class=\"data row22 col0\" >0.000000</td>\n",
       "            </tr>\n",
       "            <tr>\n",
       "                        <th id=\"T_c436b_level0_row23\" class=\"row_heading level0 row23\" >primary_cleaner.state.floatbank8_a_level</th>\n",
       "                        <td id=\"T_c436b_row23_col0\" class=\"data row23 col0\" >0.000000</td>\n",
       "            </tr>\n",
       "            <tr>\n",
       "                        <th id=\"T_c436b_level0_row24\" class=\"row_heading level0 row24\" >primary_cleaner.state.floatbank8_b_air</th>\n",
       "                        <td id=\"T_c436b_row24_col0\" class=\"data row24 col0\" >0.000000</td>\n",
       "            </tr>\n",
       "            <tr>\n",
       "                        <th id=\"T_c436b_level0_row25\" class=\"row_heading level0 row25\" >primary_cleaner.state.floatbank8_b_level</th>\n",
       "                        <td id=\"T_c436b_row25_col0\" class=\"data row25 col0\" >0.000000</td>\n",
       "            </tr>\n",
       "            <tr>\n",
       "                        <th id=\"T_c436b_level0_row26\" class=\"row_heading level0 row26\" >primary_cleaner.state.floatbank8_c_air</th>\n",
       "                        <td id=\"T_c436b_row26_col0\" class=\"data row26 col0\" >0.000000</td>\n",
       "            </tr>\n",
       "            <tr>\n",
       "                        <th id=\"T_c436b_level0_row27\" class=\"row_heading level0 row27\" >primary_cleaner.state.floatbank8_c_level</th>\n",
       "                        <td id=\"T_c436b_row27_col0\" class=\"data row27 col0\" >0.000000</td>\n",
       "            </tr>\n",
       "            <tr>\n",
       "                        <th id=\"T_c436b_level0_row28\" class=\"row_heading level0 row28\" >primary_cleaner.state.floatbank8_d_air</th>\n",
       "                        <td id=\"T_c436b_row28_col0\" class=\"data row28 col0\" >0.000000</td>\n",
       "            </tr>\n",
       "            <tr>\n",
       "                        <th id=\"T_c436b_level0_row29\" class=\"row_heading level0 row29\" >primary_cleaner.state.floatbank8_d_level</th>\n",
       "                        <td id=\"T_c436b_row29_col0\" class=\"data row29 col0\" >0.000000</td>\n",
       "            </tr>\n",
       "            <tr>\n",
       "                        <th id=\"T_c436b_level0_row30\" class=\"row_heading level0 row30\" >rougher.calculation.sulfate_to_au_concentrate</th>\n",
       "                        <td id=\"T_c436b_row30_col0\" class=\"data row30 col0\" >0.000000</td>\n",
       "            </tr>\n",
       "            <tr>\n",
       "                        <th id=\"T_c436b_level0_row31\" class=\"row_heading level0 row31\" >rougher.calculation.floatbank10_sulfate_to_au_feed</th>\n",
       "                        <td id=\"T_c436b_row31_col0\" class=\"data row31 col0\" >0.000000</td>\n",
       "            </tr>\n",
       "            <tr>\n",
       "                        <th id=\"T_c436b_level0_row32\" class=\"row_heading level0 row32\" >rougher.calculation.floatbank11_sulfate_to_au_feed</th>\n",
       "                        <td id=\"T_c436b_row32_col0\" class=\"data row32 col0\" >0.000000</td>\n",
       "            </tr>\n",
       "            <tr>\n",
       "                        <th id=\"T_c436b_level0_row33\" class=\"row_heading level0 row33\" >rougher.calculation.au_pb_ratio</th>\n",
       "                        <td id=\"T_c436b_row33_col0\" class=\"data row33 col0\" >0.000000</td>\n",
       "            </tr>\n",
       "            <tr>\n",
       "                        <th id=\"T_c436b_level0_row34\" class=\"row_heading level0 row34\" >rougher.input.feed_ag</th>\n",
       "                        <td id=\"T_c436b_row34_col0\" class=\"data row34 col0\" >0.000000</td>\n",
       "            </tr>\n",
       "            <tr>\n",
       "                        <th id=\"T_c436b_level0_row35\" class=\"row_heading level0 row35\" >rougher.input.feed_pb</th>\n",
       "                        <td id=\"T_c436b_row35_col0\" class=\"data row35 col0\" >1.000000</td>\n",
       "            </tr>\n",
       "            <tr>\n",
       "                        <th id=\"T_c436b_level0_row36\" class=\"row_heading level0 row36\" >rougher.input.feed_rate</th>\n",
       "                        <td id=\"T_c436b_row36_col0\" class=\"data row36 col0\" >0.000000</td>\n",
       "            </tr>\n",
       "            <tr>\n",
       "                        <th id=\"T_c436b_level0_row37\" class=\"row_heading level0 row37\" >rougher.input.feed_size</th>\n",
       "                        <td id=\"T_c436b_row37_col0\" class=\"data row37 col0\" >1.000000</td>\n",
       "            </tr>\n",
       "            <tr>\n",
       "                        <th id=\"T_c436b_level0_row38\" class=\"row_heading level0 row38\" >rougher.input.feed_sol</th>\n",
       "                        <td id=\"T_c436b_row38_col0\" class=\"data row38 col0\" >1.000000</td>\n",
       "            </tr>\n",
       "            <tr>\n",
       "                        <th id=\"T_c436b_level0_row39\" class=\"row_heading level0 row39\" >rougher.input.feed_au</th>\n",
       "                        <td id=\"T_c436b_row39_col0\" class=\"data row39 col0\" >0.000000</td>\n",
       "            </tr>\n",
       "            <tr>\n",
       "                        <th id=\"T_c436b_level0_row40\" class=\"row_heading level0 row40\" >rougher.input.floatbank10_sulfate</th>\n",
       "                        <td id=\"T_c436b_row40_col0\" class=\"data row40 col0\" >0.000000</td>\n",
       "            </tr>\n",
       "            <tr>\n",
       "                        <th id=\"T_c436b_level0_row41\" class=\"row_heading level0 row41\" >rougher.input.floatbank10_xanthate</th>\n",
       "                        <td id=\"T_c436b_row41_col0\" class=\"data row41 col0\" >0.000000</td>\n",
       "            </tr>\n",
       "            <tr>\n",
       "                        <th id=\"T_c436b_level0_row42\" class=\"row_heading level0 row42\" >rougher.input.floatbank11_sulfate</th>\n",
       "                        <td id=\"T_c436b_row42_col0\" class=\"data row42 col0\" >0.000000</td>\n",
       "            </tr>\n",
       "            <tr>\n",
       "                        <th id=\"T_c436b_level0_row43\" class=\"row_heading level0 row43\" >rougher.input.floatbank11_xanthate</th>\n",
       "                        <td id=\"T_c436b_row43_col0\" class=\"data row43 col0\" >2.000000</td>\n",
       "            </tr>\n",
       "            <tr>\n",
       "                        <th id=\"T_c436b_level0_row44\" class=\"row_heading level0 row44\" >rougher.output.concentrate_ag</th>\n",
       "                        <td id=\"T_c436b_row44_col0\" class=\"data row44 col0\" >0.000000</td>\n",
       "            </tr>\n",
       "            <tr>\n",
       "                        <th id=\"T_c436b_level0_row45\" class=\"row_heading level0 row45\" >rougher.output.concentrate_pb</th>\n",
       "                        <td id=\"T_c436b_row45_col0\" class=\"data row45 col0\" >0.000000</td>\n",
       "            </tr>\n",
       "            <tr>\n",
       "                        <th id=\"T_c436b_level0_row46\" class=\"row_heading level0 row46\" >rougher.output.concentrate_sol</th>\n",
       "                        <td id=\"T_c436b_row46_col0\" class=\"data row46 col0\" >0.000000</td>\n",
       "            </tr>\n",
       "            <tr>\n",
       "                        <th id=\"T_c436b_level0_row47\" class=\"row_heading level0 row47\" >rougher.output.concentrate_au</th>\n",
       "                        <td id=\"T_c436b_row47_col0\" class=\"data row47 col0\" >0.000000</td>\n",
       "            </tr>\n",
       "            <tr>\n",
       "                        <th id=\"T_c436b_level0_row48\" class=\"row_heading level0 row48\" >rougher.output.recovery</th>\n",
       "                        <td id=\"T_c436b_row48_col0\" class=\"data row48 col0\" >0.000000</td>\n",
       "            </tr>\n",
       "            <tr>\n",
       "                        <th id=\"T_c436b_level0_row49\" class=\"row_heading level0 row49\" >rougher.output.tail_ag</th>\n",
       "                        <td id=\"T_c436b_row49_col0\" class=\"data row49 col0\" >0.000000</td>\n",
       "            </tr>\n",
       "            <tr>\n",
       "                        <th id=\"T_c436b_level0_row50\" class=\"row_heading level0 row50\" >rougher.output.tail_pb</th>\n",
       "                        <td id=\"T_c436b_row50_col0\" class=\"data row50 col0\" >0.000000</td>\n",
       "            </tr>\n",
       "            <tr>\n",
       "                        <th id=\"T_c436b_level0_row51\" class=\"row_heading level0 row51\" >rougher.output.tail_sol</th>\n",
       "                        <td id=\"T_c436b_row51_col0\" class=\"data row51 col0\" >0.000000</td>\n",
       "            </tr>\n",
       "            <tr>\n",
       "                        <th id=\"T_c436b_level0_row52\" class=\"row_heading level0 row52\" >rougher.output.tail_au</th>\n",
       "                        <td id=\"T_c436b_row52_col0\" class=\"data row52 col0\" >0.000000</td>\n",
       "            </tr>\n",
       "            <tr>\n",
       "                        <th id=\"T_c436b_level0_row53\" class=\"row_heading level0 row53\" >rougher.state.floatbank10_a_air</th>\n",
       "                        <td id=\"T_c436b_row53_col0\" class=\"data row53 col0\" >0.000000</td>\n",
       "            </tr>\n",
       "            <tr>\n",
       "                        <th id=\"T_c436b_level0_row54\" class=\"row_heading level0 row54\" >rougher.state.floatbank10_a_level</th>\n",
       "                        <td id=\"T_c436b_row54_col0\" class=\"data row54 col0\" >0.000000</td>\n",
       "            </tr>\n",
       "            <tr>\n",
       "                        <th id=\"T_c436b_level0_row55\" class=\"row_heading level0 row55\" >rougher.state.floatbank10_b_air</th>\n",
       "                        <td id=\"T_c436b_row55_col0\" class=\"data row55 col0\" >0.000000</td>\n",
       "            </tr>\n",
       "            <tr>\n",
       "                        <th id=\"T_c436b_level0_row56\" class=\"row_heading level0 row56\" >rougher.state.floatbank10_b_level</th>\n",
       "                        <td id=\"T_c436b_row56_col0\" class=\"data row56 col0\" >0.000000</td>\n",
       "            </tr>\n",
       "            <tr>\n",
       "                        <th id=\"T_c436b_level0_row57\" class=\"row_heading level0 row57\" >rougher.state.floatbank10_c_air</th>\n",
       "                        <td id=\"T_c436b_row57_col0\" class=\"data row57 col0\" >0.000000</td>\n",
       "            </tr>\n",
       "            <tr>\n",
       "                        <th id=\"T_c436b_level0_row58\" class=\"row_heading level0 row58\" >rougher.state.floatbank10_c_level</th>\n",
       "                        <td id=\"T_c436b_row58_col0\" class=\"data row58 col0\" >0.000000</td>\n",
       "            </tr>\n",
       "            <tr>\n",
       "                        <th id=\"T_c436b_level0_row59\" class=\"row_heading level0 row59\" >rougher.state.floatbank10_d_air</th>\n",
       "                        <td id=\"T_c436b_row59_col0\" class=\"data row59 col0\" >0.000000</td>\n",
       "            </tr>\n",
       "            <tr>\n",
       "                        <th id=\"T_c436b_level0_row60\" class=\"row_heading level0 row60\" >rougher.state.floatbank10_d_level</th>\n",
       "                        <td id=\"T_c436b_row60_col0\" class=\"data row60 col0\" >0.000000</td>\n",
       "            </tr>\n",
       "            <tr>\n",
       "                        <th id=\"T_c436b_level0_row61\" class=\"row_heading level0 row61\" >rougher.state.floatbank10_e_air</th>\n",
       "                        <td id=\"T_c436b_row61_col0\" class=\"data row61 col0\" >2.000000</td>\n",
       "            </tr>\n",
       "            <tr>\n",
       "                        <th id=\"T_c436b_level0_row62\" class=\"row_heading level0 row62\" >rougher.state.floatbank10_e_level</th>\n",
       "                        <td id=\"T_c436b_row62_col0\" class=\"data row62 col0\" >0.000000</td>\n",
       "            </tr>\n",
       "            <tr>\n",
       "                        <th id=\"T_c436b_level0_row63\" class=\"row_heading level0 row63\" >rougher.state.floatbank10_f_air</th>\n",
       "                        <td id=\"T_c436b_row63_col0\" class=\"data row63 col0\" >0.000000</td>\n",
       "            </tr>\n",
       "            <tr>\n",
       "                        <th id=\"T_c436b_level0_row64\" class=\"row_heading level0 row64\" >rougher.state.floatbank10_f_level</th>\n",
       "                        <td id=\"T_c436b_row64_col0\" class=\"data row64 col0\" >0.000000</td>\n",
       "            </tr>\n",
       "            <tr>\n",
       "                        <th id=\"T_c436b_level0_row65\" class=\"row_heading level0 row65\" >secondary_cleaner.output.tail_ag</th>\n",
       "                        <td id=\"T_c436b_row65_col0\" class=\"data row65 col0\" >0.000000</td>\n",
       "            </tr>\n",
       "            <tr>\n",
       "                        <th id=\"T_c436b_level0_row66\" class=\"row_heading level0 row66\" >secondary_cleaner.output.tail_pb</th>\n",
       "                        <td id=\"T_c436b_row66_col0\" class=\"data row66 col0\" >0.000000</td>\n",
       "            </tr>\n",
       "            <tr>\n",
       "                        <th id=\"T_c436b_level0_row67\" class=\"row_heading level0 row67\" >secondary_cleaner.output.tail_sol</th>\n",
       "                        <td id=\"T_c436b_row67_col0\" class=\"data row67 col0\" >9.000000</td>\n",
       "            </tr>\n",
       "            <tr>\n",
       "                        <th id=\"T_c436b_level0_row68\" class=\"row_heading level0 row68\" >secondary_cleaner.output.tail_au</th>\n",
       "                        <td id=\"T_c436b_row68_col0\" class=\"data row68 col0\" >0.000000</td>\n",
       "            </tr>\n",
       "            <tr>\n",
       "                        <th id=\"T_c436b_level0_row69\" class=\"row_heading level0 row69\" >secondary_cleaner.state.floatbank2_a_air</th>\n",
       "                        <td id=\"T_c436b_row69_col0\" class=\"data row69 col0\" >1.000000</td>\n",
       "            </tr>\n",
       "            <tr>\n",
       "                        <th id=\"T_c436b_level0_row70\" class=\"row_heading level0 row70\" >secondary_cleaner.state.floatbank2_a_level</th>\n",
       "                        <td id=\"T_c436b_row70_col0\" class=\"data row70 col0\" >0.000000</td>\n",
       "            </tr>\n",
       "            <tr>\n",
       "                        <th id=\"T_c436b_level0_row71\" class=\"row_heading level0 row71\" >secondary_cleaner.state.floatbank2_b_air</th>\n",
       "                        <td id=\"T_c436b_row71_col0\" class=\"data row71 col0\" >0.000000</td>\n",
       "            </tr>\n",
       "            <tr>\n",
       "                        <th id=\"T_c436b_level0_row72\" class=\"row_heading level0 row72\" >secondary_cleaner.state.floatbank2_b_level</th>\n",
       "                        <td id=\"T_c436b_row72_col0\" class=\"data row72 col0\" >0.000000</td>\n",
       "            </tr>\n",
       "            <tr>\n",
       "                        <th id=\"T_c436b_level0_row73\" class=\"row_heading level0 row73\" >secondary_cleaner.state.floatbank3_a_air</th>\n",
       "                        <td id=\"T_c436b_row73_col0\" class=\"data row73 col0\" >0.000000</td>\n",
       "            </tr>\n",
       "            <tr>\n",
       "                        <th id=\"T_c436b_level0_row74\" class=\"row_heading level0 row74\" >secondary_cleaner.state.floatbank3_a_level</th>\n",
       "                        <td id=\"T_c436b_row74_col0\" class=\"data row74 col0\" >0.000000</td>\n",
       "            </tr>\n",
       "            <tr>\n",
       "                        <th id=\"T_c436b_level0_row75\" class=\"row_heading level0 row75\" >secondary_cleaner.state.floatbank3_b_air</th>\n",
       "                        <td id=\"T_c436b_row75_col0\" class=\"data row75 col0\" >0.000000</td>\n",
       "            </tr>\n",
       "            <tr>\n",
       "                        <th id=\"T_c436b_level0_row76\" class=\"row_heading level0 row76\" >secondary_cleaner.state.floatbank3_b_level</th>\n",
       "                        <td id=\"T_c436b_row76_col0\" class=\"data row76 col0\" >0.000000</td>\n",
       "            </tr>\n",
       "            <tr>\n",
       "                        <th id=\"T_c436b_level0_row77\" class=\"row_heading level0 row77\" >secondary_cleaner.state.floatbank4_a_air</th>\n",
       "                        <td id=\"T_c436b_row77_col0\" class=\"data row77 col0\" >0.000000</td>\n",
       "            </tr>\n",
       "            <tr>\n",
       "                        <th id=\"T_c436b_level0_row78\" class=\"row_heading level0 row78\" >secondary_cleaner.state.floatbank4_a_level</th>\n",
       "                        <td id=\"T_c436b_row78_col0\" class=\"data row78 col0\" >0.000000</td>\n",
       "            </tr>\n",
       "            <tr>\n",
       "                        <th id=\"T_c436b_level0_row79\" class=\"row_heading level0 row79\" >secondary_cleaner.state.floatbank4_b_air</th>\n",
       "                        <td id=\"T_c436b_row79_col0\" class=\"data row79 col0\" >0.000000</td>\n",
       "            </tr>\n",
       "            <tr>\n",
       "                        <th id=\"T_c436b_level0_row80\" class=\"row_heading level0 row80\" >secondary_cleaner.state.floatbank4_b_level</th>\n",
       "                        <td id=\"T_c436b_row80_col0\" class=\"data row80 col0\" >0.000000</td>\n",
       "            </tr>\n",
       "            <tr>\n",
       "                        <th id=\"T_c436b_level0_row81\" class=\"row_heading level0 row81\" >secondary_cleaner.state.floatbank5_a_air</th>\n",
       "                        <td id=\"T_c436b_row81_col0\" class=\"data row81 col0\" >0.000000</td>\n",
       "            </tr>\n",
       "            <tr>\n",
       "                        <th id=\"T_c436b_level0_row82\" class=\"row_heading level0 row82\" >secondary_cleaner.state.floatbank5_a_level</th>\n",
       "                        <td id=\"T_c436b_row82_col0\" class=\"data row82 col0\" >0.000000</td>\n",
       "            </tr>\n",
       "            <tr>\n",
       "                        <th id=\"T_c436b_level0_row83\" class=\"row_heading level0 row83\" >secondary_cleaner.state.floatbank5_b_air</th>\n",
       "                        <td id=\"T_c436b_row83_col0\" class=\"data row83 col0\" >0.000000</td>\n",
       "            </tr>\n",
       "            <tr>\n",
       "                        <th id=\"T_c436b_level0_row84\" class=\"row_heading level0 row84\" >secondary_cleaner.state.floatbank5_b_level</th>\n",
       "                        <td id=\"T_c436b_row84_col0\" class=\"data row84 col0\" >0.000000</td>\n",
       "            </tr>\n",
       "            <tr>\n",
       "                        <th id=\"T_c436b_level0_row85\" class=\"row_heading level0 row85\" >secondary_cleaner.state.floatbank6_a_air</th>\n",
       "                        <td id=\"T_c436b_row85_col0\" class=\"data row85 col0\" >0.000000</td>\n",
       "            </tr>\n",
       "            <tr>\n",
       "                        <th id=\"T_c436b_level0_row86\" class=\"row_heading level0 row86\" >secondary_cleaner.state.floatbank6_a_level</th>\n",
       "                        <td id=\"T_c436b_row86_col0\" class=\"data row86 col0\" >0.000000</td>\n",
       "            </tr>\n",
       "    </tbody></table>"
      ],
      "text/plain": [
       "<pandas.io.formats.style.Styler at 0x7f647a64d160>"
      ]
     },
     "execution_count": 18,
     "metadata": {},
     "output_type": "execute_result"
    }
   ],
   "source": [
    "pd.DataFrame(round(data_full.isna().mean()*100,)).style.background_gradient('coolwarm')"
   ]
  },
  {
   "cell_type": "markdown",
   "metadata": {},
   "source": [
    "Мы можем либо удалить пропуски(т.к. их не много) или заменить значением. Известно, что все наблюдения представляют собой последовательные измерения,поэтому заполним пропуски методам ffill. Так же это поможет нам избежать проблем со значениями при создании моделей"
   ]
  },
  {
   "cell_type": "code",
   "execution_count": 19,
   "metadata": {},
   "outputs": [
    {
     "data": {
      "text/plain": [
       "0"
      ]
     },
     "execution_count": 19,
     "metadata": {},
     "output_type": "execute_result"
    }
   ],
   "source": [
    "data_train = data_train.fillna(method='ffill')\n",
    "data_train.isna().sum().sum()"
   ]
  },
  {
   "cell_type": "code",
   "execution_count": 20,
   "metadata": {},
   "outputs": [
    {
     "data": {
      "text/plain": [
       "0"
      ]
     },
     "execution_count": 20,
     "metadata": {},
     "output_type": "execute_result"
    }
   ],
   "source": [
    "data_test = data_test.fillna(method='ffill')\n",
    "data_test.isna().sum().sum()"
   ]
  },
  {
   "cell_type": "code",
   "execution_count": 21,
   "metadata": {},
   "outputs": [
    {
     "data": {
      "text/plain": [
       "0"
      ]
     },
     "execution_count": 21,
     "metadata": {},
     "output_type": "execute_result"
    }
   ],
   "source": [
    "data_full = data_full.fillna(method='ffill')\n",
    "data_full.isna().sum().sum()"
   ]
  },
  {
   "cell_type": "markdown",
   "metadata": {},
   "source": [
    "Проверка на дубликаты"
   ]
  },
  {
   "cell_type": "code",
   "execution_count": 22,
   "metadata": {},
   "outputs": [
    {
     "data": {
      "text/plain": [
       "0"
      ]
     },
     "execution_count": 22,
     "metadata": {},
     "output_type": "execute_result"
    }
   ],
   "source": [
    "data_test.duplicated().sum()"
   ]
  },
  {
   "cell_type": "code",
   "execution_count": 23,
   "metadata": {},
   "outputs": [
    {
     "data": {
      "text/plain": [
       "0"
      ]
     },
     "execution_count": 23,
     "metadata": {},
     "output_type": "execute_result"
    }
   ],
   "source": [
    "data_train.duplicated().sum()"
   ]
  },
  {
   "cell_type": "code",
   "execution_count": 24,
   "metadata": {},
   "outputs": [
    {
     "data": {
      "text/plain": [
       "0"
      ]
     },
     "execution_count": 24,
     "metadata": {},
     "output_type": "execute_result"
    }
   ],
   "source": [
    "data_full.duplicated().sum()"
   ]
  },
  {
   "cell_type": "markdown",
   "metadata": {},
   "source": [
    "### вывод\n",
    "\n",
    "Во время подготовки данных мы преобразовали \"сырые\" данные, а именно:\n",
    "- заменили пропуски методом bfill, с учетом того, что измерения выполняются последовательно\n",
    "- изменили тип данных в колонке с датой и временем на datetime\n",
    "- Явные дубликаты не обнаружены.\n",
    "\n",
    "Проверили эффективность обогащения и убедились в ее правильности\n",
    "\n",
    "Добавили в тестовую выборку необходимые признаки\n",
    "\n"
   ]
  },
  {
   "cell_type": "markdown",
   "metadata": {},
   "source": [
    "## Анализ данных"
   ]
  },
  {
   "cell_type": "markdown",
   "metadata": {},
   "source": [
    "### Рассмотрим концентрация металлов (Au, Ag, Pb) на различных этапах очистки"
   ]
  },
  {
   "cell_type": "code",
   "execution_count": 25,
   "metadata": {},
   "outputs": [
    {
     "data": {
      "image/png": "[encoded data removed]",
      "text/plain": [
       "<Figure size 1440x576 with 1 Axes>"
      ]
     },
     "metadata": {
      "needs_background": "light"
     },
     "output_type": "display_data"
    }
   ],
   "source": [
    "plt.figure(figsize=[20, 8])\n",
    "plt.title('Диаграмма концентрации Au на различных этапах очистки')\n",
    "sns.histplot(data_full['rougher.input.feed_au'],\n",
    "             label='Сырье',color='y')\n",
    "sns.histplot(data_full['rougher.output.concentrate_au'],\n",
    "             color='g',label='Концентрация после флотации')\n",
    "sns.histplot(data_full['primary_cleaner.output.concentrate_au'],\n",
    "             color='b', label='Концентрация после первичной очистки')\n",
    "sns.histplot(data_full['final.output.concentrate_au'],\n",
    "             color='r', label='Финальная концетрация металла')\n",
    "plt.grid()\n",
    "plt.legend(bbox_to_anchor=( 1.02 , 1 ), loc='upper left', borderaxespad= 0 )\n",
    "plt.xlabel('Концентрация металла')\n",
    "plt.ylabel('Количество наблюдений');"
   ]
  },
  {
   "cell_type": "code",
   "execution_count": 26,
   "metadata": {},
   "outputs": [
    {
     "data": {
      "image/png": "[encoded data removed]",
      "text/plain": [
       "<Figure size 1080x360 with 1 Axes>"
      ]
     },
     "metadata": {
      "needs_background": "light"
     },
     "output_type": "display_data"
    }
   ],
   "source": [
    "plt.figure(figsize=[15, 5])\n",
    "plt.title('Диаграмма концентрации Ag на различных этапах очистки')\n",
    "sns.histplot(data_full['rougher.input.feed_ag'],label='Сырье',\n",
    "             color='y',alpha = 0.8)\n",
    "sns.histplot(data_full['rougher.output.concentrate_ag'],color='g',\n",
    "             label='Концентрация после флотации',alpha = 0.6)\n",
    "sns.histplot(data_full['primary_cleaner.output.concentrate_ag'],\n",
    "             color='b', \n",
    "             label='Концентрация после первичной очистки', alpha = 0.6)\n",
    "sns.histplot(data_full['final.output.concentrate_ag'],color='r',\n",
    "             label='Финальная концетрация металла', alpha = 0.7)\n",
    "plt.grid()\n",
    "plt.legend()\n",
    "plt.xlabel('Концентрация металла')\n",
    "plt.ylabel('Количество наблюдений');"
   ]
  },
  {
   "cell_type": "code",
   "execution_count": 27,
   "metadata": {},
   "outputs": [
    {
     "data": {
      "image/png": "[encoded data removed]",
      "text/plain": [
       "<Figure size 1080x360 with 1 Axes>"
      ]
     },
     "metadata": {
      "needs_background": "light"
     },
     "output_type": "display_data"
    }
   ],
   "source": [
    "plt.figure(figsize=[15, 5])\n",
    "plt.title('Диаграмма концентрации Pb на различных этапах очистки')\n",
    "sns.histplot(data_full['rougher.input.feed_pb'],label='Сырье',\n",
    "             color='y',alpha = 0.8)\n",
    "sns.histplot(data_full['rougher.output.concentrate_pb'],color='g',\n",
    "             label='Концентрация после флотации',alpha = 0.6)\n",
    "sns.histplot(data_full['primary_cleaner.output.concentrate_pb'],color='b',\n",
    "             label='Концентрация после первичной очистки',alpha = 0.5)\n",
    "sns.histplot(data_full['final.output.concentrate_pb'],color='r',\n",
    "             label='Финальная концетрация металла',alpha = 0.7)\n",
    "plt.grid()\n",
    "plt.legend()\n",
    "plt.xlabel('Концентрация металла')\n",
    "plt.ylabel('Количество наблюдений');"
   ]
  },
  {
   "cell_type": "markdown",
   "metadata": {},
   "source": [
    "- **Концентрация золота (Au) постепенно увеличивается на всех этапах обработки.**\n",
    "- **Концентрация серебра (Аg) увеличивается на этапе флотации, а затем постепенно уменьшается, даже до уменьшения своей первоначальной концентрации**\n",
    "- **Концентрация свинца (Рb)  сначала увеличивается до этапа \"после первичной очитски\", затем остатется примерно на одном уровне.**"
   ]
  },
  {
   "cell_type": "markdown",
   "metadata": {},
   "source": [
    "### Сравните распределения размеров гранул сырья на обучающей и тестовой выборках. Если распределения сильно отличаются друг от друга, оценка модели будет неправильной."
   ]
  },
  {
   "cell_type": "code",
   "execution_count": 28,
   "metadata": {},
   "outputs": [
    {
     "data": {
      "image/png": "[encoded data removed]",
      "text/plain": [
       "<Figure size 1080x360 with 1 Axes>"
      ]
     },
     "metadata": {
      "needs_background": "light"
     },
     "output_type": "display_data"
    }
   ],
   "source": [
    "plt.figure(figsize=[15, 5])\n",
    "plt.title('График распределения гранул для этапа Rougher на обучающей и тестовой выборках')\n",
    "plt.xlim([20,120])\n",
    "sns.histplot(data_train['rougher.input.feed_size'], color='b', label='Обучающая выборка',kde = True, stat='density')\n",
    "sns.histplot(data_test['rougher.input.feed_size'], color='r', label='Тестовая выборка',kde = True, stat='density')\n",
    "plt.xlabel('Размер гранул') \n",
    "plt.ylabel('Количество наблюдений')\n",
    "plt.legend()  \n",
    "plt.grid();                                          "
   ]
  },
  {
   "cell_type": "markdown",
   "metadata": {},
   "source": [
    "**Для этапа флотации *плотность* распределения гранул находится примерно в одинаковом диапазоне, отличие в том что пик распределения для тестовой чуть больше 40, у обучающей в районе 50. C помощью параметра kde = True мы наглядно видим что характер рспределения значений совпадает.Следовательно, распределения не отличаются и оценка модели - корректна.**"
   ]
  },
  {
   "cell_type": "markdown",
   "metadata": {},
   "source": [
    "###  Исследуйте суммарную концентрацию всех веществ на разных стадиях: в сырье, в черновом и финальном концентратах. "
   ]
  },
  {
   "cell_type": "code",
   "execution_count": 29,
   "metadata": {},
   "outputs": [],
   "source": [
    "conc_rougher_input = 0\n",
    "conc_rougher_output = 0\n",
    "conc_final_output = 0\n",
    "for metal in ['au', 'ag', 'pb']:\n",
    "    conc_rougher_input += data_full[f'rougher.input.feed_{metal}']\n",
    "    conc_rougher_output += data_full[f'rougher.output.concentrate_{metal}']\n",
    "    conc_final_output += data_full[f'final.output.concentrate_{metal}']"
   ]
  },
  {
   "cell_type": "code",
   "execution_count": 30,
   "metadata": {},
   "outputs": [
    {
     "data": {
      "image/png": "[encoded data removed]",
      "text/plain": [
       "<Figure size 1080x504 with 1 Axes>"
      ]
     },
     "metadata": {
      "needs_background": "light"
     },
     "output_type": "display_data"
    }
   ],
   "source": [
    "plt.figure(figsize=[15, 7])\n",
    "plt.title('График суммарной концентрации веществ на разных стадиях')\n",
    "plt.xlim([-2,90])\n",
    "sns.histplot(conc_rougher_input, color='y', label='Сырье', kde=False)\n",
    "sns.histplot(conc_rougher_output, color='b', label='Концентрация после флотации', kde=False)\n",
    "sns.histplot(conc_final_output, color='r', label='Финальная концетрация',kde=False)\n",
    "plt.xlabel('Концентрация веществ')\n",
    "plt.ylabel('Количество наблюдений')\n",
    "plt.legend()  \n",
    "plt.grid();   "
   ]
  },
  {
   "cell_type": "markdown",
   "metadata": {},
   "source": [
    "**Из графика видно, что концентрация вещества к концу процесаа максимальна, а суммарный диапозон распределения минимальный**"
   ]
  },
  {
   "cell_type": "markdown",
   "metadata": {},
   "source": [
    "На всех диаграммах видно выбросы в районе нуля. Удалим их."
   ]
  },
  {
   "cell_type": "code",
   "execution_count": 31,
   "metadata": {},
   "outputs": [],
   "source": [
    "data_full = data_full[(data_full['rougher.output.concentrate_au'] != 0)\n",
    "                  & (data_full['rougher.output.concentrate_ag'] != 0) \n",
    "                  & (data_full['rougher.output.concentrate_pb'] != 0)]\n",
    "data_full = data_full[((data_full['final.output.concentrate_au'] != 0)  \n",
    "                  & (data_full['final.output.concentrate_ag'] != 0)\n",
    "                  & (data_full['final.output.concentrate_pb'] != 0))]\n",
    "\n",
    "#________________________________________________________________________\n",
    "\n",
    "data_train = data_train[(data_train['rougher.output.concentrate_au'] != 0) \n",
    "                  & (data_train['rougher.output.concentrate_ag'] != 0) \n",
    "                  & (data_train['rougher.output.concentrate_pb'] != 0) ]\n",
    "data_train = data_train[(data_train['final.output.concentrate_au'] != 0) \n",
    "                  & (data_train['final.output.concentrate_ag'] != 0) \n",
    "                  & (data_train['final.output.concentrate_pb'] != 0) ]\n",
    "#________________________________________________________________________"
   ]
  },
  {
   "cell_type": "markdown",
   "metadata": {},
   "source": [
    "## Модель"
   ]
  },
  {
   "cell_type": "markdown",
   "metadata": {},
   "source": [
    "###  функция для вычисления итоговой sMAPE\n",
    "\n",
    "sMAPE - «симметричное среднее абсолютное процентное отклонение»"
   ]
  },
  {
   "cell_type": "code",
   "execution_count": 32,
   "metadata": {},
   "outputs": [],
   "source": [
    "def get_smape(y_true, y_pred):\n",
    "        error = np.abs(y_true - y_pred)\n",
    "        scale = (np.abs(y_true) + np.abs(y_pred)) / 2\n",
    "        return np.mean(error / scale) * 100\n",
    "smape_scorer = make_scorer(get_smape, greater_is_better=False)"
   ]
  },
  {
   "cell_type": "code",
   "execution_count": 33,
   "metadata": {},
   "outputs": [],
   "source": [
    "def get_final_smape(smape_rougher, smape_final):\n",
    "        return 0.25 * smape_rougher + 0.75 * smape_final"
   ]
  },
  {
   "cell_type": "markdown",
   "metadata": {},
   "source": [
    "### Обучение разных моделей и оценка их качества кросс-валидацией.\n",
    "Выберите лучшую модель и проверьте её на тестовой выборке. Опишите выводы."
   ]
  },
  {
   "cell_type": "markdown",
   "metadata": {},
   "source": [
    "удалим колонку 'date', как не информативную для дальнейшего обучения модели"
   ]
  },
  {
   "cell_type": "code",
   "execution_count": 34,
   "metadata": {},
   "outputs": [],
   "source": [
    "data_train = data_train.drop('date', axis=1)\n",
    "data_test = data_test.drop('date', axis=1)"
   ]
  },
  {
   "cell_type": "markdown",
   "metadata": {},
   "source": [
    "удалим отсутствующие в тестовой выборке признаки, кроме целевых"
   ]
  },
  {
   "cell_type": "code",
   "execution_count": 35,
   "metadata": {},
   "outputs": [],
   "source": [
    "missed = set(data_train.columns) - set(data_test.columns)"
   ]
  },
  {
   "cell_type": "code",
   "execution_count": 36,
   "metadata": {},
   "outputs": [],
   "source": [
    "signs_for_delete_without_target_signs = missed - set(['rougher.output.recovery','final.output.recovery'])"
   ]
  },
  {
   "cell_type": "code",
   "execution_count": 37,
   "metadata": {},
   "outputs": [],
   "source": [
    "data_train = data_train.drop(columns=signs_for_delete_without_target_signs, axis=1)"
   ]
  },
  {
   "cell_type": "markdown",
   "metadata": {},
   "source": [
    "данные для обучающей модели"
   ]
  },
  {
   "cell_type": "code",
   "execution_count": 38,
   "metadata": {},
   "outputs": [],
   "source": [
    "features_train = data_train.drop(['rougher.output.recovery','final.output.recovery'], axis=1)\n",
    "target_train = data_train['rougher.output.recovery']\n",
    "target_final_train = data_train['final.output.recovery']"
   ]
  },
  {
   "cell_type": "markdown",
   "metadata": {},
   "source": [
    "### Модель LinearRegression"
   ]
  },
  {
   "cell_type": "code",
   "execution_count": 39,
   "metadata": {},
   "outputs": [
    {
     "name": "stdout",
     "output_type": "stream",
     "text": [
      "Cредняя оценка качества smape 10.059602069093534\n"
     ]
    }
   ],
   "source": [
    "model = LinearRegression()\n",
    "smape_rougher = cross_val_score(model,\n",
    "                          features_train,\n",
    "                          target_train,\n",
    "                          scoring=smape_scorer,\n",
    "                          cv=5)\n",
    "final_smape_rougher = smape_rougher.mean()\n",
    "model = LinearRegression()\n",
    "smape_final = cross_val_score(model,\n",
    "                        features_train,\n",
    "                        target_final_train,\n",
    "                        scoring=smape_scorer,\n",
    "                        cv=5)\n",
    "final_smape_final = smape_final.mean()\n",
    "result_smape = get_final_smape(final_smape_rougher, final_smape_final)*(-1)\n",
    "\n",
    "print('Cредняя оценка качества smape', result_smape)"
   ]
  },
  {
   "cell_type": "markdown",
   "metadata": {},
   "source": [
    "### Модель DecisionTreeRegressor"
   ]
  },
  {
   "cell_type": "code",
   "execution_count": 40,
   "metadata": {},
   "outputs": [],
   "source": [
    "STATE = RandomState(12345)"
   ]
  },
  {
   "cell_type": "code",
   "execution_count": 41,
   "metadata": {},
   "outputs": [
    {
     "name": "stdout",
     "output_type": "stream",
     "text": [
      "Cредняя оценка качества smape -  8.857694214162565 \n",
      "Глубина модели: 3\n"
     ]
    }
   ],
   "source": [
    "best_result_smape = 100\n",
    "best_depth = 0\n",
    "for depth in range(1, 6):\n",
    "    model = DecisionTreeRegressor(max_depth=depth, random_state=STATE)\n",
    "    smape_rougher = cross_val_score(model,\n",
    "                              features_train,\n",
    "                              target_train,\n",
    "                              scoring=smape_scorer,\n",
    "                              cv=5)\n",
    "    final_smape_rougher = smape_rougher.mean()\n",
    "\n",
    "    model = DecisionTreeRegressor(max_depth=depth, random_state=STATE)\n",
    "    smape_final = cross_val_score(model, \n",
    "                                  features_train,\n",
    "                                  target_final_train,\n",
    "                                  scoring=smape_scorer,\n",
    "                                  cv=5)\n",
    "    final_smape_final = smape_final.mean()\n",
    "    result_smape = get_final_smape(final_smape_rougher, final_smape_final)*(-1)\n",
    "    if result_smape < best_result_smape:\n",
    "        best_result_smape = result_smape\n",
    "        best_depth = depth\n",
    "\n",
    "print('Cредняя оценка качества smape - ', best_result_smape, '\\nГлубина модели:',best_depth)"
   ]
  },
  {
   "cell_type": "markdown",
   "metadata": {},
   "source": [
    "### Модель RandomForestRegressor"
   ]
  },
  {
   "cell_type": "code",
   "execution_count": 42,
   "metadata": {
    "scrolled": true
   },
   "outputs": [
    {
     "name": "stdout",
     "output_type": "stream",
     "text": [
      "Cредняя оценка качества smape 8.642118792342346 \n",
      "Глубина деревьев:  3 \n",
      "Количество деревьев:  9\n"
     ]
    }
   ],
   "source": [
    "best_result_smape = 100\n",
    "best_depth = 0\n",
    "best_est = 0\n",
    "for est in range(1,10,2):\n",
    "    for depth in range(1,5):\n",
    "        model = RandomForestRegressor(n_estimators=est, max_depth=depth, random_state=STATE)\n",
    "        smape_rougher = cross_val_score(model,\n",
    "                                  features_train,\n",
    "                                  target_train,\n",
    "                                  scoring=smape_scorer,\n",
    "                                  cv=5)\n",
    "        final_smape_rougher = smape_rougher.mean()\n",
    "\n",
    "        model = RandomForestRegressor(n_estimators=est, max_depth=depth, random_state=STATE)\n",
    "        smape_final = cross_val_score(model,\n",
    "                                features_train,\n",
    "                                target_final_train,\n",
    "                                scoring=smape_scorer,\n",
    "                                cv=5)\n",
    "        final_smape_final = smape_final.mean()\n",
    "        result_smape = get_final_smape(final_smape_rougher, final_smape_final)*(-1)\n",
    "        if result_smape < best_result_smape:\n",
    "            best_result_smape = result_smape\n",
    "            best_depth = depth\n",
    "            best_est = est\n",
    "\n",
    "print('Cредняя оценка качества smape', best_result_smape, \n",
    "      '\\nГлубина деревьев: ', best_depth, '\\nКоличество деревьев: ',best_est)"
   ]
  },
  {
   "cell_type": "markdown",
   "metadata": {},
   "source": [
    "### Тест"
   ]
  },
  {
   "cell_type": "markdown",
   "metadata": {},
   "source": [
    "данные для тестовой модели"
   ]
  },
  {
   "cell_type": "code",
   "execution_count": 43,
   "metadata": {},
   "outputs": [],
   "source": [
    "features_test = data_test.drop(['rougher.output.recovery','final.output.recovery'], axis=1)\n",
    "target_test = data_test['rougher.output.recovery']\n",
    "target_final_test = data_test['final.output.recovery']"
   ]
  },
  {
   "cell_type": "code",
   "execution_count": 44,
   "metadata": {},
   "outputs": [],
   "source": [
    "model = RandomForestRegressor(n_estimators=9, max_depth=3, random_state=STATE) #возьмем лучшие параметры\n",
    "model.fit(features_train, target_train)\n",
    "predicted_rougher = model.predict(features_test)\n",
    "\n",
    "model = RandomForestRegressor(n_estimators=9, max_depth=3, random_state=STATE)\n",
    "model.fit(features_train, target_final_train)\n",
    "predicted_final = model.predict(features_test)\n",
    "\n",
    "smape_test_rougher = get_smape(target_test, predicted_rougher)\n",
    "smape_test_final = get_smape(target_final_test, predicted_final)\n",
    "itog_smape_test = get_final_smape(smape_test_rougher, smape_test_final)"
   ]
  },
  {
   "cell_type": "code",
   "execution_count": 45,
   "metadata": {},
   "outputs": [
    {
     "name": "stdout",
     "output_type": "stream",
     "text": [
      "SMAPE для тестовой выборки: 9.303658568194596\n"
     ]
    }
   ],
   "source": [
    "print('SMAPE для тестовой выборки:' , itog_smape_test)"
   ]
  },
  {
   "cell_type": "markdown",
   "metadata": {},
   "source": [
    "- **Лучшая модель - RandomForestRegressor (smape 8.64) c параметрами: глубина деревьев - 3, количество деревьев - 9**\n",
    "- **Показатели на тестовой выборке - SMAPE - 9.1565**"
   ]
  },
  {
   "cell_type": "markdown",
   "metadata": {},
   "source": [
    "### Сравнение с константной моделью\n",
    "\n",
    "Для проверки моделей используем классификатор DummyRegressor, он сделает прогнозы с использованем простых правил и не генерирует никаких ценных сведений о данных"
   ]
  },
  {
   "cell_type": "code",
   "execution_count": 46,
   "metadata": {},
   "outputs": [
    {
     "data": {
      "text/plain": [
       "9.82279305388574"
      ]
     },
     "execution_count": 46,
     "metadata": {},
     "output_type": "execute_result"
    }
   ],
   "source": [
    "model = DummyRegressor(strategy=\"mean\")\n",
    "model.fit(features_train, target_train)\n",
    "predicted_r = model.predict(features_test)\n",
    "smape_rougher = get_smape(target_test, predicted_r)\n",
    "\n",
    "model = DummyRegressor(strategy=\"mean\")\n",
    "model.fit(features_train, target_final_train)\n",
    "predicted_f = model.predict(features_test)\n",
    "smape_final = get_smape(target_final_test, predicted_f)\n",
    "\n",
    "smape = get_final_smape(smape_rougher, smape_final)\n",
    "smape"
   ]
  },
  {
   "cell_type": "markdown",
   "metadata": {},
   "source": [
    "<div class=\"alert alert-block alert-info\">\n",
    "Показатель smape модели RandomForestRegressor (8.6421) меньше показателя константной модели(9.823), что означает хорошее качество полученной модели.После сравнения реального значения качества с фиктивными результатами, можем утверждать, что модель адекватна"
   ]
  },
  {
   "cell_type": "markdown",
   "metadata": {},
   "source": [
    "## Итоговый вывод:\n",
    "\n",
    "- **В ходе работы мы заменили пропуски методом bfill, с учетом того, что измерения выполняются последовательно**\n",
    "- **Изменили тип данных в колонке с датой и временем на datetime**\n",
    "- **Проверили эффективность обогащения и убедились в ее правильности**\n",
    "- **Удалили згачения с выбросам**\n",
    "\n",
    "\n",
    "- **Нам удалось выяснить, что самая высокая концентрация золота на финальном этапе обработки. Концентрация серебра достигает пика на этапе флотации.Свинец после первичной обработки достигает пика и остается на одном уровне концентрации.**\n",
    "\n",
    "\n",
    "- **Мы нашли симметричное среднее абсолютное процентное отклонение для каджой модели и получили следующие результаты:**\n",
    " <blockquote> \n",
    "- **Модель LinearRegression - mape 10.0596 - самый высокий результат, является наихудшим по сравнению с остальными**\n",
    "- **Модель DecisionTreeRegressor - smape 8.85769**\n",
    "- **Модель RandomForestRegressor - smape 8.64211879, данный показатель являетя лучшим среди полученных, Данную модель мы и протестировали на тестовой выборке**\n",
    "- **Значение теста: smape 9.1565346**\n",
    "- **С помощью константной модели DummyRegressor сравнили реальное значения качества с фиктивным, константная модель показала результат хуже, поэтому можем утверждать, что модель адекватна**\n",
    "     </blockquote> "
   ]
  }
 ],
 "metadata": {
  "ExecuteTimeLog": [
   {
    "duration": 1571,
    "start_time": "2023-04-06T19:46:09.951Z"
   },
   {
    "duration": 1921,
    "start_time": "2023-04-06T19:46:25.741Z"
   },
   {
    "duration": 4,
    "start_time": "2023-04-06T19:47:50.777Z"
   },
   {
    "duration": 190,
    "start_time": "2023-04-06T19:48:08.169Z"
   },
   {
    "duration": 157,
    "start_time": "2023-04-06T19:49:10.034Z"
   },
   {
    "duration": 4,
    "start_time": "2023-04-06T19:50:53.569Z"
   },
   {
    "duration": 153,
    "start_time": "2023-04-06T19:50:54.029Z"
   },
   {
    "duration": 4,
    "start_time": "2023-04-06T19:51:17.261Z"
   },
   {
    "duration": 143,
    "start_time": "2023-04-06T19:51:17.622Z"
   },
   {
    "duration": 260,
    "start_time": "2023-04-06T19:52:12.370Z"
   },
   {
    "duration": 4,
    "start_time": "2023-04-06T19:55:54.565Z"
   },
   {
    "duration": 20,
    "start_time": "2023-04-06T19:56:02.792Z"
   },
   {
    "duration": 15,
    "start_time": "2023-04-06T19:56:23.365Z"
   },
   {
    "duration": 21,
    "start_time": "2023-04-06T19:56:42.897Z"
   },
   {
    "duration": 152,
    "start_time": "2023-04-06T19:59:48.899Z"
   },
   {
    "duration": 17,
    "start_time": "2023-04-06T20:34:12.622Z"
   },
   {
    "duration": 3,
    "start_time": "2023-04-06T20:34:27.014Z"
   },
   {
    "duration": 2,
    "start_time": "2023-04-06T20:34:31.622Z"
   },
   {
    "duration": 12,
    "start_time": "2023-04-06T20:36:32.842Z"
   },
   {
    "duration": 21,
    "start_time": "2023-04-06T20:36:46.409Z"
   },
   {
    "duration": 17,
    "start_time": "2023-04-06T20:37:26.362Z"
   },
   {
    "duration": 201,
    "start_time": "2023-04-06T20:37:56.142Z"
   },
   {
    "duration": 127,
    "start_time": "2023-04-06T20:38:21.821Z"
   },
   {
    "duration": 16,
    "start_time": "2023-04-06T20:38:37.822Z"
   },
   {
    "duration": 11,
    "start_time": "2023-04-06T20:39:35.696Z"
   },
   {
    "duration": 2,
    "start_time": "2023-04-06T20:39:36.702Z"
   },
   {
    "duration": 13,
    "start_time": "2023-04-06T20:39:37.584Z"
   },
   {
    "duration": 136,
    "start_time": "2023-04-06T20:39:38.222Z"
   },
   {
    "duration": 18,
    "start_time": "2023-04-06T20:39:40.842Z"
   },
   {
    "duration": 14,
    "start_time": "2023-04-06T20:40:06.594Z"
   },
   {
    "duration": 11,
    "start_time": "2023-04-06T20:41:11.953Z"
   },
   {
    "duration": 10,
    "start_time": "2023-04-06T22:01:36.414Z"
   },
   {
    "duration": 8,
    "start_time": "2023-04-06T22:01:58.187Z"
   },
   {
    "duration": 16,
    "start_time": "2023-04-06T22:02:06.486Z"
   },
   {
    "duration": 7,
    "start_time": "2023-04-06T22:02:28.932Z"
   },
   {
    "duration": 13,
    "start_time": "2023-04-06T22:02:29.218Z"
   },
   {
    "duration": 6,
    "start_time": "2023-04-06T22:06:04.536Z"
   },
   {
    "duration": 5,
    "start_time": "2023-04-06T22:06:04.935Z"
   },
   {
    "duration": 5,
    "start_time": "2023-04-06T22:06:13.549Z"
   },
   {
    "duration": 5,
    "start_time": "2023-04-06T22:06:18.644Z"
   },
   {
    "duration": 5,
    "start_time": "2023-04-06T22:09:51.270Z"
   },
   {
    "duration": 4,
    "start_time": "2023-04-06T22:09:51.822Z"
   },
   {
    "duration": 3,
    "start_time": "2023-04-06T22:18:57.327Z"
   },
   {
    "duration": 2,
    "start_time": "2023-04-06T22:18:59.820Z"
   },
   {
    "duration": 5,
    "start_time": "2023-04-06T22:30:16.560Z"
   },
   {
    "duration": 13,
    "start_time": "2023-04-06T22:30:26.624Z"
   },
   {
    "duration": 9,
    "start_time": "2023-04-06T22:30:32.881Z"
   },
   {
    "duration": 4,
    "start_time": "2023-04-06T22:30:46.832Z"
   },
   {
    "duration": 4,
    "start_time": "2023-04-06T22:31:52.923Z"
   },
   {
    "duration": 5,
    "start_time": "2023-04-06T22:32:02.780Z"
   },
   {
    "duration": 4,
    "start_time": "2023-04-06T22:32:13.827Z"
   },
   {
    "duration": 10,
    "start_time": "2023-04-06T22:43:26.412Z"
   },
   {
    "duration": 14,
    "start_time": "2023-04-06T22:43:39.437Z"
   },
   {
    "duration": 11,
    "start_time": "2023-04-06T22:45:18.629Z"
   },
   {
    "duration": 11,
    "start_time": "2023-04-06T22:46:12.351Z"
   },
   {
    "duration": 17,
    "start_time": "2023-04-06T23:00:08.802Z"
   },
   {
    "duration": 12,
    "start_time": "2023-04-06T23:00:31.961Z"
   },
   {
    "duration": 13,
    "start_time": "2023-04-06T23:00:36.421Z"
   },
   {
    "duration": 13,
    "start_time": "2023-04-06T23:00:44.160Z"
   },
   {
    "duration": 10,
    "start_time": "2023-04-06T23:00:44.370Z"
   },
   {
    "duration": 20,
    "start_time": "2023-04-06T23:00:44.619Z"
   },
   {
    "duration": 4,
    "start_time": "2023-04-06T23:26:00.413Z"
   },
   {
    "duration": 662,
    "start_time": "2023-04-06T23:26:01.099Z"
   },
   {
    "duration": 7,
    "start_time": "2023-04-06T23:26:05.929Z"
   },
   {
    "duration": 5,
    "start_time": "2023-04-06T23:26:06.189Z"
   },
   {
    "duration": 7,
    "start_time": "2023-04-06T23:26:06.407Z"
   },
   {
    "duration": 10,
    "start_time": "2023-04-06T23:26:10.107Z"
   },
   {
    "duration": 9,
    "start_time": "2023-04-06T23:26:10.349Z"
   },
   {
    "duration": 15,
    "start_time": "2023-04-06T23:26:10.607Z"
   },
   {
    "duration": 6067,
    "start_time": "2023-04-06T23:34:41.424Z"
   },
   {
    "duration": 6219,
    "start_time": "2023-04-06T23:34:58.062Z"
   },
   {
    "duration": 289,
    "start_time": "2023-04-06T23:40:29.509Z"
   },
   {
    "duration": 228,
    "start_time": "2023-04-06T23:40:39.336Z"
   },
   {
    "duration": 206,
    "start_time": "2023-04-06T23:40:50.007Z"
   },
   {
    "duration": 250,
    "start_time": "2023-04-06T23:40:56.413Z"
   },
   {
    "duration": 66,
    "start_time": "2023-04-06T23:44:12.815Z"
   },
   {
    "duration": 265,
    "start_time": "2023-04-06T23:44:22.621Z"
   },
   {
    "duration": 277,
    "start_time": "2023-04-06T23:44:31.966Z"
   },
   {
    "duration": 1238,
    "start_time": "2023-04-06T23:45:17.307Z"
   },
   {
    "duration": 1513,
    "start_time": "2023-04-06T23:45:38.654Z"
   },
   {
    "duration": 1081,
    "start_time": "2023-04-06T23:46:23.136Z"
   },
   {
    "duration": 1016,
    "start_time": "2023-04-06T23:46:30.919Z"
   },
   {
    "duration": 1081,
    "start_time": "2023-04-06T23:46:36.815Z"
   },
   {
    "duration": 996,
    "start_time": "2023-04-06T23:46:48.715Z"
   },
   {
    "duration": 979,
    "start_time": "2023-04-06T23:47:22.679Z"
   },
   {
    "duration": 778,
    "start_time": "2023-04-06T23:48:07.276Z"
   },
   {
    "duration": 1031,
    "start_time": "2023-04-06T23:49:23.219Z"
   },
   {
    "duration": 865,
    "start_time": "2023-04-06T23:50:55.819Z"
   },
   {
    "duration": 1036,
    "start_time": "2023-04-06T23:51:01.211Z"
   },
   {
    "duration": 611,
    "start_time": "2023-04-06T23:52:23.301Z"
   },
   {
    "duration": 607,
    "start_time": "2023-04-06T23:52:23.914Z"
   },
   {
    "duration": 858,
    "start_time": "2023-04-06T23:53:07.506Z"
   },
   {
    "duration": 611,
    "start_time": "2023-04-06T23:53:21.620Z"
   },
   {
    "duration": 610,
    "start_time": "2023-04-06T23:55:00.066Z"
   },
   {
    "duration": 810,
    "start_time": "2023-04-06T23:56:21.177Z"
   },
   {
    "duration": 617,
    "start_time": "2023-04-06T23:56:34.633Z"
   },
   {
    "duration": 605,
    "start_time": "2023-04-06T23:56:43.838Z"
   },
   {
    "duration": 812,
    "start_time": "2023-04-06T23:56:47.204Z"
   },
   {
    "duration": 619,
    "start_time": "2023-04-06T23:57:02.304Z"
   },
   {
    "duration": 831,
    "start_time": "2023-04-06T23:57:15.539Z"
   },
   {
    "duration": 839,
    "start_time": "2023-04-06T23:58:06.218Z"
   },
   {
    "duration": 741,
    "start_time": "2023-04-06T23:59:53.762Z"
   },
   {
    "duration": 1338,
    "start_time": "2023-04-07T00:00:00.473Z"
   },
   {
    "duration": 748,
    "start_time": "2023-04-07T00:00:16.786Z"
   },
   {
    "duration": 1070,
    "start_time": "2023-04-07T00:01:34.716Z"
   },
   {
    "duration": 839,
    "start_time": "2023-04-07T00:01:50.737Z"
   },
   {
    "duration": 1061,
    "start_time": "2023-04-07T00:02:05.163Z"
   },
   {
    "duration": 823,
    "start_time": "2023-04-07T00:02:14.239Z"
   },
   {
    "duration": 1060,
    "start_time": "2023-04-07T00:02:34.286Z"
   },
   {
    "duration": 802,
    "start_time": "2023-04-07T00:02:39.476Z"
   },
   {
    "duration": 1064,
    "start_time": "2023-04-07T00:03:19.626Z"
   },
   {
    "duration": 843,
    "start_time": "2023-04-07T00:03:40.222Z"
   },
   {
    "duration": 1102,
    "start_time": "2023-04-07T00:03:48.154Z"
   },
   {
    "duration": 893,
    "start_time": "2023-04-07T00:04:37.781Z"
   },
   {
    "duration": 1175,
    "start_time": "2023-04-07T00:04:47.374Z"
   },
   {
    "duration": 821,
    "start_time": "2023-04-07T00:04:56.819Z"
   },
   {
    "duration": 1091,
    "start_time": "2023-04-07T00:05:04.282Z"
   },
   {
    "duration": 876,
    "start_time": "2023-04-07T00:05:11.418Z"
   },
   {
    "duration": 1176,
    "start_time": "2023-04-07T00:05:25.743Z"
   },
   {
    "duration": 879,
    "start_time": "2023-04-07T00:05:38.362Z"
   },
   {
    "duration": 1116,
    "start_time": "2023-04-07T00:05:43.163Z"
   },
   {
    "duration": 12,
    "start_time": "2023-04-07T00:17:42.728Z"
   },
   {
    "duration": 732,
    "start_time": "2023-04-07T00:18:28.906Z"
   },
   {
    "duration": 9,
    "start_time": "2023-04-07T00:18:56.825Z"
   },
   {
    "duration": 898,
    "start_time": "2023-04-07T00:19:01.730Z"
   },
   {
    "duration": 1035,
    "start_time": "2023-04-07T00:19:02.630Z"
   },
   {
    "duration": 773,
    "start_time": "2023-04-07T00:19:03.666Z"
   },
   {
    "duration": 730,
    "start_time": "2023-04-07T00:19:04.441Z"
   },
   {
    "duration": 21,
    "start_time": "2023-04-07T00:19:30.877Z"
   },
   {
    "duration": 1102,
    "start_time": "2023-04-07T00:22:40.921Z"
   },
   {
    "duration": 58,
    "start_time": "2023-04-07T00:40:34.755Z"
   },
   {
    "duration": 128,
    "start_time": "2023-04-07T00:40:49.851Z"
   },
   {
    "duration": 154,
    "start_time": "2023-04-07T00:41:15.023Z"
   },
   {
    "duration": 1070,
    "start_time": "2023-04-07T00:41:31.298Z"
   },
   {
    "duration": 857,
    "start_time": "2023-04-07T00:41:41.606Z"
   },
   {
    "duration": 1079,
    "start_time": "2023-04-07T00:43:08.294Z"
   },
   {
    "duration": 851,
    "start_time": "2023-04-07T00:43:13.642Z"
   },
   {
    "duration": 1096,
    "start_time": "2023-04-07T00:43:31.903Z"
   },
   {
    "duration": 844,
    "start_time": "2023-04-07T00:43:39.212Z"
   },
   {
    "duration": 166,
    "start_time": "2023-04-07T00:43:55.823Z"
   },
   {
    "duration": 1083,
    "start_time": "2023-04-07T00:44:07.991Z"
   },
   {
    "duration": 846,
    "start_time": "2023-04-07T00:44:12.210Z"
   },
   {
    "duration": 1075,
    "start_time": "2023-04-07T00:44:21.295Z"
   },
   {
    "duration": 858,
    "start_time": "2023-04-07T00:44:30.435Z"
   },
   {
    "duration": 1062,
    "start_time": "2023-04-07T00:44:36.552Z"
   },
   {
    "duration": 1039,
    "start_time": "2023-04-07T00:44:42.943Z"
   },
   {
    "duration": 852,
    "start_time": "2023-04-07T00:44:54.142Z"
   },
   {
    "duration": 1060,
    "start_time": "2023-04-07T00:44:58.923Z"
   },
   {
    "duration": 524,
    "start_time": "2023-04-07T00:45:05.357Z"
   },
   {
    "duration": 505,
    "start_time": "2023-04-07T00:45:08.567Z"
   },
   {
    "duration": 506,
    "start_time": "2023-04-07T00:45:12.002Z"
   },
   {
    "duration": 753,
    "start_time": "2023-04-07T00:45:20.739Z"
   },
   {
    "duration": 882,
    "start_time": "2023-04-07T00:45:26.163Z"
   },
   {
    "duration": 770,
    "start_time": "2023-04-07T00:45:50.454Z"
   },
   {
    "duration": 558,
    "start_time": "2023-04-07T00:46:00.662Z"
   },
   {
    "duration": 546,
    "start_time": "2023-04-07T00:46:12.404Z"
   },
   {
    "duration": 536,
    "start_time": "2023-04-07T00:46:17.703Z"
   },
   {
    "duration": 1361,
    "start_time": "2023-04-07T00:56:30.384Z"
   },
   {
    "duration": 1065,
    "start_time": "2023-04-07T00:58:50.225Z"
   },
   {
    "duration": 1293,
    "start_time": "2023-04-07T00:58:57.317Z"
   },
   {
    "duration": 19,
    "start_time": "2023-04-07T01:08:46.910Z"
   },
   {
    "duration": 20,
    "start_time": "2023-04-07T01:08:50.466Z"
   },
   {
    "duration": 769,
    "start_time": "2023-04-07T01:08:55.579Z"
   },
   {
    "duration": 20,
    "start_time": "2023-04-07T01:08:59.795Z"
   },
   {
    "duration": 1006,
    "start_time": "2023-04-07T01:09:06.472Z"
   },
   {
    "duration": 753,
    "start_time": "2023-04-07T01:09:07.480Z"
   },
   {
    "duration": 19,
    "start_time": "2023-04-07T01:09:10.517Z"
   },
   {
    "duration": 888,
    "start_time": "2023-04-07T01:09:37.675Z"
   },
   {
    "duration": 669,
    "start_time": "2023-04-07T01:09:58.859Z"
   },
   {
    "duration": 23,
    "start_time": "2023-04-07T01:10:08.153Z"
   },
   {
    "duration": 967,
    "start_time": "2023-04-07T01:10:23.519Z"
   },
   {
    "duration": 744,
    "start_time": "2023-04-07T01:15:31.400Z"
   },
   {
    "duration": 13,
    "start_time": "2023-04-07T01:17:29.482Z"
   },
   {
    "duration": 58,
    "start_time": "2023-04-07T01:17:47.244Z"
   },
   {
    "duration": 54,
    "start_time": "2023-04-07T01:19:21.893Z"
   },
   {
    "duration": 10,
    "start_time": "2023-04-07T01:19:35.749Z"
   },
   {
    "duration": 50,
    "start_time": "2023-04-07T01:32:18.048Z"
   },
   {
    "duration": 861,
    "start_time": "2023-04-07T01:32:35.767Z"
   },
   {
    "duration": 851,
    "start_time": "2023-04-07T01:32:48.941Z"
   },
   {
    "duration": 823,
    "start_time": "2023-04-07T01:34:24.119Z"
   },
   {
    "duration": 882,
    "start_time": "2023-04-07T01:34:39.488Z"
   },
   {
    "duration": 2785,
    "start_time": "2023-04-07T01:35:08.107Z"
   },
   {
    "duration": 837,
    "start_time": "2023-04-07T01:36:02.240Z"
   },
   {
    "duration": 895,
    "start_time": "2023-04-07T01:36:15.015Z"
   },
   {
    "duration": 14,
    "start_time": "2023-04-07T01:42:13.388Z"
   },
   {
    "duration": 924,
    "start_time": "2023-04-07T01:42:21.068Z"
   },
   {
    "duration": 7,
    "start_time": "2023-04-07T01:43:53.724Z"
   },
   {
    "duration": 2379,
    "start_time": "2023-04-07T01:43:54.785Z"
   },
   {
    "duration": 147,
    "start_time": "2023-04-07T01:45:19.320Z"
   },
   {
    "duration": 1214,
    "start_time": "2023-04-07T01:45:28.848Z"
   },
   {
    "duration": 984,
    "start_time": "2023-04-07T01:45:43.049Z"
   },
   {
    "duration": 1202,
    "start_time": "2023-04-07T01:45:48.907Z"
   },
   {
    "duration": 1195,
    "start_time": "2023-04-07T01:46:03.899Z"
   },
   {
    "duration": 1001,
    "start_time": "2023-04-07T01:46:14.207Z"
   },
   {
    "duration": 10,
    "start_time": "2023-04-07T01:46:43.189Z"
   },
   {
    "duration": 622,
    "start_time": "2023-04-07T01:46:43.666Z"
   },
   {
    "duration": 7,
    "start_time": "2023-04-07T01:47:13.351Z"
   },
   {
    "duration": 508,
    "start_time": "2023-04-07T01:47:14.336Z"
   },
   {
    "duration": 1005,
    "start_time": "2023-04-07T01:47:24.405Z"
   },
   {
    "duration": 7,
    "start_time": "2023-04-07T01:47:27.416Z"
   },
   {
    "duration": 1219,
    "start_time": "2023-04-07T01:47:27.947Z"
   },
   {
    "duration": 5,
    "start_time": "2023-04-07T01:48:51.207Z"
   },
   {
    "duration": 1402,
    "start_time": "2023-04-07T01:48:51.524Z"
   },
   {
    "duration": 1437,
    "start_time": "2023-04-07T01:49:00.752Z"
   },
   {
    "duration": 6,
    "start_time": "2023-04-07T01:52:17.999Z"
   },
   {
    "duration": 1018,
    "start_time": "2023-04-07T01:52:18.458Z"
   },
   {
    "duration": 6,
    "start_time": "2023-04-07T01:53:08.886Z"
   },
   {
    "duration": 1442,
    "start_time": "2023-04-07T01:53:09.245Z"
   },
   {
    "duration": 9,
    "start_time": "2023-04-07T01:54:07.017Z"
   },
   {
    "duration": 14,
    "start_time": "2023-04-07T01:54:12.386Z"
   },
   {
    "duration": 692,
    "start_time": "2023-04-07T01:54:26.496Z"
   },
   {
    "duration": 4,
    "start_time": "2023-04-07T01:54:53.607Z"
   },
   {
    "duration": 722,
    "start_time": "2023-04-07T01:54:54.347Z"
   },
   {
    "duration": 3,
    "start_time": "2023-04-07T01:55:06.847Z"
   },
   {
    "duration": 417,
    "start_time": "2023-04-07T01:55:07.683Z"
   },
   {
    "duration": 4,
    "start_time": "2023-04-07T01:55:48.583Z"
   },
   {
    "duration": 996,
    "start_time": "2023-04-07T01:55:49.082Z"
   },
   {
    "duration": 4,
    "start_time": "2023-04-07T01:56:01.787Z"
   },
   {
    "duration": 805,
    "start_time": "2023-04-07T01:56:02.359Z"
   },
   {
    "duration": 4,
    "start_time": "2023-04-07T01:56:24.983Z"
   },
   {
    "duration": 823,
    "start_time": "2023-04-07T01:56:25.634Z"
   },
   {
    "duration": 4,
    "start_time": "2023-04-07T01:58:34.140Z"
   },
   {
    "duration": 1604,
    "start_time": "2023-04-07T01:58:36.041Z"
   },
   {
    "duration": 4,
    "start_time": "2023-04-07T01:59:21.586Z"
   },
   {
    "duration": 416,
    "start_time": "2023-04-07T01:59:22.057Z"
   },
   {
    "duration": 4,
    "start_time": "2023-04-07T02:00:24.387Z"
   },
   {
    "duration": 2299,
    "start_time": "2023-04-07T02:00:26.351Z"
   },
   {
    "duration": 4,
    "start_time": "2023-04-07T02:00:51.206Z"
   },
   {
    "duration": 426,
    "start_time": "2023-04-07T02:00:52.732Z"
   },
   {
    "duration": 4,
    "start_time": "2023-04-07T02:01:45.484Z"
   },
   {
    "duration": 453,
    "start_time": "2023-04-07T02:01:46.055Z"
   },
   {
    "duration": 4,
    "start_time": "2023-04-07T02:01:54.727Z"
   },
   {
    "duration": 458,
    "start_time": "2023-04-07T02:01:58.707Z"
   },
   {
    "duration": 1028,
    "start_time": "2023-04-07T02:08:54.718Z"
   },
   {
    "duration": 23,
    "start_time": "2023-04-07T02:12:05.511Z"
   },
   {
    "duration": 780,
    "start_time": "2023-04-07T02:12:08.904Z"
   },
   {
    "duration": 769,
    "start_time": "2023-04-07T02:12:13.974Z"
   },
   {
    "duration": 24,
    "start_time": "2023-04-07T02:12:29.060Z"
   },
   {
    "duration": 1022,
    "start_time": "2023-04-07T02:12:29.855Z"
   },
   {
    "duration": 1396,
    "start_time": "2023-04-07T02:15:19.711Z"
   },
   {
    "duration": 666,
    "start_time": "2023-04-07T02:15:21.109Z"
   },
   {
    "duration": 3,
    "start_time": "2023-04-07T02:15:21.776Z"
   },
   {
    "duration": 2,
    "start_time": "2023-04-07T02:15:21.782Z"
   },
   {
    "duration": 24,
    "start_time": "2023-04-07T02:15:21.786Z"
   },
   {
    "duration": 3,
    "start_time": "2023-04-07T02:15:21.811Z"
   },
   {
    "duration": 3,
    "start_time": "2023-04-07T02:15:21.815Z"
   },
   {
    "duration": 3,
    "start_time": "2023-04-07T02:15:21.820Z"
   },
   {
    "duration": 6,
    "start_time": "2023-04-07T02:15:21.824Z"
   },
   {
    "duration": 11,
    "start_time": "2023-04-07T02:15:21.832Z"
   },
   {
    "duration": 4,
    "start_time": "2023-04-07T02:15:21.845Z"
   },
   {
    "duration": 34,
    "start_time": "2023-04-07T02:15:21.850Z"
   },
   {
    "duration": 10,
    "start_time": "2023-04-07T02:15:21.886Z"
   },
   {
    "duration": 26,
    "start_time": "2023-04-07T02:15:21.898Z"
   },
   {
    "duration": 13,
    "start_time": "2023-04-07T02:15:21.926Z"
   },
   {
    "duration": 9,
    "start_time": "2023-04-07T02:15:21.940Z"
   },
   {
    "duration": 7,
    "start_time": "2023-04-07T02:15:21.950Z"
   },
   {
    "duration": 5,
    "start_time": "2023-04-07T02:15:21.958Z"
   },
   {
    "duration": 29,
    "start_time": "2023-04-07T02:15:21.964Z"
   },
   {
    "duration": 9,
    "start_time": "2023-04-07T02:15:21.995Z"
   },
   {
    "duration": 30,
    "start_time": "2023-04-07T02:15:22.005Z"
   },
   {
    "duration": 25,
    "start_time": "2023-04-07T02:15:22.037Z"
   },
   {
    "duration": 133,
    "start_time": "2023-04-07T02:15:22.063Z"
   },
   {
    "duration": 92,
    "start_time": "2023-04-07T02:15:22.197Z"
   },
   {
    "duration": 989,
    "start_time": "2023-04-07T02:15:22.290Z"
   },
   {
    "duration": 774,
    "start_time": "2023-04-07T02:15:23.281Z"
   },
   {
    "duration": 873,
    "start_time": "2023-04-07T02:15:24.056Z"
   },
   {
    "duration": 1085,
    "start_time": "2023-04-07T02:15:24.933Z"
   },
   {
    "duration": 6,
    "start_time": "2023-04-07T02:15:26.019Z"
   },
   {
    "duration": 1345,
    "start_time": "2023-04-07T02:15:26.026Z"
   },
   {
    "duration": 30,
    "start_time": "2023-04-07T02:15:27.372Z"
   },
   {
    "duration": 1316,
    "start_time": "2023-04-07T02:15:47.039Z"
   },
   {
    "duration": 18,
    "start_time": "2023-04-07T02:16:55.320Z"
   },
   {
    "duration": 1270,
    "start_time": "2023-04-07T02:17:00.299Z"
   },
   {
    "duration": 14,
    "start_time": "2023-04-07T02:17:10.185Z"
   },
   {
    "duration": 15,
    "start_time": "2023-04-07T02:17:27.556Z"
   },
   {
    "duration": 1269,
    "start_time": "2023-04-07T02:17:31.088Z"
   },
   {
    "duration": 15,
    "start_time": "2023-04-07T02:17:40.816Z"
   },
   {
    "duration": 19,
    "start_time": "2023-04-07T02:17:57.675Z"
   },
   {
    "duration": 1265,
    "start_time": "2023-04-07T02:18:03.424Z"
   },
   {
    "duration": 76,
    "start_time": "2023-04-07T02:18:19.312Z"
   },
   {
    "duration": 75,
    "start_time": "2023-04-07T02:18:26.965Z"
   },
   {
    "duration": 4,
    "start_time": "2023-04-07T02:18:45.848Z"
   },
   {
    "duration": 23,
    "start_time": "2023-04-07T02:18:57.608Z"
   },
   {
    "duration": 1291,
    "start_time": "2023-04-07T02:19:00.688Z"
   },
   {
    "duration": 6,
    "start_time": "2023-04-07T02:22:44.298Z"
   },
   {
    "duration": 1269,
    "start_time": "2023-04-07T02:22:44.887Z"
   },
   {
    "duration": 1394,
    "start_time": "2023-04-07T02:23:05.819Z"
   },
   {
    "duration": 1492,
    "start_time": "2023-04-07T02:23:07.214Z"
   },
   {
    "duration": 0,
    "start_time": "2023-04-07T02:23:08.709Z"
   },
   {
    "duration": 0,
    "start_time": "2023-04-07T02:23:08.710Z"
   },
   {
    "duration": 0,
    "start_time": "2023-04-07T02:23:08.710Z"
   },
   {
    "duration": 0,
    "start_time": "2023-04-07T02:23:08.711Z"
   },
   {
    "duration": 0,
    "start_time": "2023-04-07T02:23:08.712Z"
   },
   {
    "duration": 0,
    "start_time": "2023-04-07T02:23:08.713Z"
   },
   {
    "duration": 0,
    "start_time": "2023-04-07T02:23:08.714Z"
   },
   {
    "duration": 0,
    "start_time": "2023-04-07T02:23:08.715Z"
   },
   {
    "duration": 0,
    "start_time": "2023-04-07T02:23:08.716Z"
   },
   {
    "duration": 0,
    "start_time": "2023-04-07T02:23:08.717Z"
   },
   {
    "duration": 0,
    "start_time": "2023-04-07T02:23:08.718Z"
   },
   {
    "duration": 0,
    "start_time": "2023-04-07T02:23:08.719Z"
   },
   {
    "duration": 0,
    "start_time": "2023-04-07T02:23:08.719Z"
   },
   {
    "duration": 0,
    "start_time": "2023-04-07T02:23:08.720Z"
   },
   {
    "duration": 0,
    "start_time": "2023-04-07T02:23:08.721Z"
   },
   {
    "duration": 0,
    "start_time": "2023-04-07T02:23:08.722Z"
   },
   {
    "duration": 0,
    "start_time": "2023-04-07T02:23:08.723Z"
   },
   {
    "duration": 0,
    "start_time": "2023-04-07T02:23:08.724Z"
   },
   {
    "duration": 0,
    "start_time": "2023-04-07T02:23:08.725Z"
   },
   {
    "duration": 1,
    "start_time": "2023-04-07T02:23:08.725Z"
   },
   {
    "duration": 0,
    "start_time": "2023-04-07T02:23:08.726Z"
   },
   {
    "duration": 0,
    "start_time": "2023-04-07T02:23:08.727Z"
   },
   {
    "duration": 0,
    "start_time": "2023-04-07T02:23:08.728Z"
   },
   {
    "duration": 0,
    "start_time": "2023-04-07T02:23:08.729Z"
   },
   {
    "duration": 0,
    "start_time": "2023-04-07T02:23:08.730Z"
   },
   {
    "duration": 0,
    "start_time": "2023-04-07T02:23:08.731Z"
   },
   {
    "duration": 0,
    "start_time": "2023-04-07T02:23:08.732Z"
   },
   {
    "duration": 0,
    "start_time": "2023-04-07T02:23:08.732Z"
   },
   {
    "duration": 0,
    "start_time": "2023-04-07T02:23:08.733Z"
   },
   {
    "duration": 9,
    "start_time": "2023-04-07T02:23:24.188Z"
   },
   {
    "duration": 1393,
    "start_time": "2023-04-07T02:23:31.224Z"
   },
   {
    "duration": 663,
    "start_time": "2023-04-07T02:23:32.619Z"
   },
   {
    "duration": 2,
    "start_time": "2023-04-07T02:23:33.284Z"
   },
   {
    "duration": 4,
    "start_time": "2023-04-07T02:23:33.287Z"
   },
   {
    "duration": 3,
    "start_time": "2023-04-07T02:23:33.292Z"
   },
   {
    "duration": 6,
    "start_time": "2023-04-07T02:23:33.296Z"
   },
   {
    "duration": 17,
    "start_time": "2023-04-07T02:23:33.304Z"
   },
   {
    "duration": 5,
    "start_time": "2023-04-07T02:23:33.322Z"
   },
   {
    "duration": 6,
    "start_time": "2023-04-07T02:23:33.328Z"
   },
   {
    "duration": 4,
    "start_time": "2023-04-07T02:23:33.339Z"
   },
   {
    "duration": 4,
    "start_time": "2023-04-07T02:23:33.344Z"
   },
   {
    "duration": 12,
    "start_time": "2023-04-07T02:23:33.349Z"
   },
   {
    "duration": 8,
    "start_time": "2023-04-07T02:23:33.363Z"
   },
   {
    "duration": 6,
    "start_time": "2023-04-07T02:23:33.372Z"
   },
   {
    "duration": 6,
    "start_time": "2023-04-07T02:23:33.380Z"
   },
   {
    "duration": 10,
    "start_time": "2023-04-07T02:23:33.388Z"
   },
   {
    "duration": 3,
    "start_time": "2023-04-07T02:23:33.400Z"
   },
   {
    "duration": 4,
    "start_time": "2023-04-07T02:23:33.404Z"
   },
   {
    "duration": 44,
    "start_time": "2023-04-07T02:23:33.410Z"
   },
   {
    "duration": 10,
    "start_time": "2023-04-07T02:23:33.455Z"
   },
   {
    "duration": 17,
    "start_time": "2023-04-07T02:23:33.466Z"
   },
   {
    "duration": 24,
    "start_time": "2023-04-07T02:23:33.484Z"
   },
   {
    "duration": 151,
    "start_time": "2023-04-07T02:23:33.509Z"
   },
   {
    "duration": 98,
    "start_time": "2023-04-07T02:23:33.661Z"
   },
   {
    "duration": 974,
    "start_time": "2023-04-07T02:23:33.760Z"
   },
   {
    "duration": 763,
    "start_time": "2023-04-07T02:23:34.736Z"
   },
   {
    "duration": 880,
    "start_time": "2023-04-07T02:23:35.500Z"
   },
   {
    "duration": 1116,
    "start_time": "2023-04-07T02:23:36.383Z"
   },
   {
    "duration": 5,
    "start_time": "2023-04-07T02:23:37.501Z"
   },
   {
    "duration": 1272,
    "start_time": "2023-04-07T02:23:37.508Z"
   },
   {
    "duration": 30,
    "start_time": "2023-04-07T02:23:38.781Z"
   },
   {
    "duration": 18,
    "start_time": "2023-04-07T02:24:20.664Z"
   },
   {
    "duration": 6,
    "start_time": "2023-04-07T02:24:25.086Z"
   },
   {
    "duration": 1303,
    "start_time": "2023-04-07T02:24:25.427Z"
   },
   {
    "duration": 852,
    "start_time": "2023-04-07T02:25:21.702Z"
   },
   {
    "duration": 19,
    "start_time": "2023-04-07T02:26:21.090Z"
   },
   {
    "duration": 874,
    "start_time": "2023-04-07T02:26:26.575Z"
   },
   {
    "duration": 764,
    "start_time": "2023-04-07T02:26:33.607Z"
   },
   {
    "duration": 996,
    "start_time": "2023-04-07T02:27:38.839Z"
   },
   {
    "duration": 739,
    "start_time": "2023-04-07T02:28:27.347Z"
   },
   {
    "duration": 20,
    "start_time": "2023-04-07T02:29:03.387Z"
   },
   {
    "duration": 22,
    "start_time": "2023-04-07T02:29:18.134Z"
   },
   {
    "duration": 864,
    "start_time": "2023-04-07T02:29:25.242Z"
   },
   {
    "duration": 746,
    "start_time": "2023-04-07T02:29:39.762Z"
   },
   {
    "duration": 23,
    "start_time": "2023-04-07T02:30:08.399Z"
   },
   {
    "duration": 833,
    "start_time": "2023-04-07T02:30:12.928Z"
   },
   {
    "duration": 981,
    "start_time": "2023-04-07T02:30:19.665Z"
   },
   {
    "duration": 760,
    "start_time": "2023-04-07T02:30:20.647Z"
   },
   {
    "duration": 859,
    "start_time": "2023-04-07T02:30:21.408Z"
   },
   {
    "duration": 6,
    "start_time": "2023-04-07T02:31:25.887Z"
   },
   {
    "duration": 1321,
    "start_time": "2023-04-07T02:31:26.488Z"
   },
   {
    "duration": 19,
    "start_time": "2023-04-07T02:31:30.147Z"
   },
   {
    "duration": 1384,
    "start_time": "2023-04-07T02:31:36.913Z"
   },
   {
    "duration": 672,
    "start_time": "2023-04-07T02:31:38.299Z"
   },
   {
    "duration": 3,
    "start_time": "2023-04-07T02:31:38.972Z"
   },
   {
    "duration": 4,
    "start_time": "2023-04-07T02:31:38.976Z"
   },
   {
    "duration": 11,
    "start_time": "2023-04-07T02:31:38.981Z"
   },
   {
    "duration": 4,
    "start_time": "2023-04-07T02:31:38.993Z"
   },
   {
    "duration": 3,
    "start_time": "2023-04-07T02:31:38.998Z"
   },
   {
    "duration": 4,
    "start_time": "2023-04-07T02:31:39.002Z"
   },
   {
    "duration": 7,
    "start_time": "2023-04-07T02:31:39.007Z"
   },
   {
    "duration": 4,
    "start_time": "2023-04-07T02:31:39.016Z"
   },
   {
    "duration": 21,
    "start_time": "2023-04-07T02:31:39.021Z"
   },
   {
    "duration": 13,
    "start_time": "2023-04-07T02:31:39.043Z"
   },
   {
    "duration": 8,
    "start_time": "2023-04-07T02:31:39.057Z"
   },
   {
    "duration": 5,
    "start_time": "2023-04-07T02:31:39.066Z"
   },
   {
    "duration": 6,
    "start_time": "2023-04-07T02:31:39.072Z"
   },
   {
    "duration": 2,
    "start_time": "2023-04-07T02:31:39.080Z"
   },
   {
    "duration": 4,
    "start_time": "2023-04-07T02:31:39.083Z"
   },
   {
    "duration": 9,
    "start_time": "2023-04-07T02:31:39.088Z"
   },
   {
    "duration": 43,
    "start_time": "2023-04-07T02:31:39.098Z"
   },
   {
    "duration": 9,
    "start_time": "2023-04-07T02:31:39.142Z"
   },
   {
    "duration": 17,
    "start_time": "2023-04-07T02:31:39.152Z"
   },
   {
    "duration": 22,
    "start_time": "2023-04-07T02:31:39.171Z"
   },
   {
    "duration": 147,
    "start_time": "2023-04-07T02:31:39.195Z"
   },
   {
    "duration": 98,
    "start_time": "2023-04-07T02:31:39.344Z"
   },
   {
    "duration": 970,
    "start_time": "2023-04-07T02:31:39.443Z"
   },
   {
    "duration": 763,
    "start_time": "2023-04-07T02:31:40.415Z"
   },
   {
    "duration": 866,
    "start_time": "2023-04-07T02:31:41.179Z"
   },
   {
    "duration": 1072,
    "start_time": "2023-04-07T02:31:42.048Z"
   },
   {
    "duration": 5,
    "start_time": "2023-04-07T02:31:43.121Z"
   },
   {
    "duration": 1284,
    "start_time": "2023-04-07T02:31:43.127Z"
   },
   {
    "duration": 34,
    "start_time": "2023-04-07T02:31:44.413Z"
   },
   {
    "duration": 16,
    "start_time": "2023-04-07T02:32:13.658Z"
   },
   {
    "duration": 5,
    "start_time": "2023-04-07T02:32:17.394Z"
   },
   {
    "duration": 1280,
    "start_time": "2023-04-07T02:32:17.848Z"
   },
   {
    "duration": 23,
    "start_time": "2023-04-07T02:32:36.841Z"
   },
   {
    "duration": 6,
    "start_time": "2023-04-07T02:32:39.773Z"
   },
   {
    "duration": 1270,
    "start_time": "2023-04-07T02:32:40.175Z"
   },
   {
    "duration": 23,
    "start_time": "2023-04-07T02:33:08.714Z"
   },
   {
    "duration": 6,
    "start_time": "2023-04-07T02:33:15.088Z"
   },
   {
    "duration": 1298,
    "start_time": "2023-04-07T02:33:15.448Z"
   },
   {
    "duration": 1385,
    "start_time": "2023-04-07T02:34:11.320Z"
   },
   {
    "duration": 645,
    "start_time": "2023-04-07T02:34:12.707Z"
   },
   {
    "duration": 3,
    "start_time": "2023-04-07T02:34:13.353Z"
   },
   {
    "duration": 9,
    "start_time": "2023-04-07T02:34:13.357Z"
   },
   {
    "duration": 7,
    "start_time": "2023-04-07T02:34:13.367Z"
   },
   {
    "duration": 4,
    "start_time": "2023-04-07T02:34:13.375Z"
   },
   {
    "duration": 3,
    "start_time": "2023-04-07T02:34:13.380Z"
   },
   {
    "duration": 4,
    "start_time": "2023-04-07T02:34:13.384Z"
   },
   {
    "duration": 5,
    "start_time": "2023-04-07T02:34:13.390Z"
   },
   {
    "duration": 7,
    "start_time": "2023-04-07T02:34:13.397Z"
   },
   {
    "duration": 4,
    "start_time": "2023-04-07T02:34:13.405Z"
   },
   {
    "duration": 34,
    "start_time": "2023-04-07T02:34:13.410Z"
   },
   {
    "duration": 8,
    "start_time": "2023-04-07T02:34:13.445Z"
   },
   {
    "duration": 11,
    "start_time": "2023-04-07T02:34:13.454Z"
   },
   {
    "duration": 7,
    "start_time": "2023-04-07T02:34:13.466Z"
   },
   {
    "duration": 3,
    "start_time": "2023-04-07T02:34:13.474Z"
   },
   {
    "duration": 18,
    "start_time": "2023-04-07T02:34:13.478Z"
   },
   {
    "duration": 3,
    "start_time": "2023-04-07T02:34:13.498Z"
   },
   {
    "duration": 16,
    "start_time": "2023-04-07T02:34:13.502Z"
   },
   {
    "duration": 8,
    "start_time": "2023-04-07T02:34:13.519Z"
   },
   {
    "duration": 35,
    "start_time": "2023-04-07T02:34:13.529Z"
   },
   {
    "duration": 25,
    "start_time": "2023-04-07T02:34:13.565Z"
   },
   {
    "duration": 130,
    "start_time": "2023-04-07T02:34:13.591Z"
   },
   {
    "duration": 98,
    "start_time": "2023-04-07T02:34:13.723Z"
   },
   {
    "duration": 980,
    "start_time": "2023-04-07T02:34:13.823Z"
   },
   {
    "duration": 770,
    "start_time": "2023-04-07T02:34:14.804Z"
   },
   {
    "duration": 898,
    "start_time": "2023-04-07T02:34:15.575Z"
   },
   {
    "duration": 1138,
    "start_time": "2023-04-07T02:34:16.476Z"
   },
   {
    "duration": 6,
    "start_time": "2023-04-07T02:34:17.615Z"
   },
   {
    "duration": 1287,
    "start_time": "2023-04-07T02:34:17.622Z"
   },
   {
    "duration": 33,
    "start_time": "2023-04-07T02:34:18.911Z"
   },
   {
    "duration": 20,
    "start_time": "2023-04-07T02:34:32.365Z"
   },
   {
    "duration": 6,
    "start_time": "2023-04-07T02:34:35.954Z"
   },
   {
    "duration": 1296,
    "start_time": "2023-04-07T02:34:36.408Z"
   },
   {
    "duration": 933,
    "start_time": "2023-04-07T02:36:06.664Z"
   },
   {
    "duration": 694,
    "start_time": "2023-04-07T02:36:20.316Z"
   },
   {
    "duration": 20,
    "start_time": "2023-04-07T02:36:28.258Z"
   },
   {
    "duration": 1175,
    "start_time": "2023-04-07T02:37:18.019Z"
   },
   {
    "duration": 1732,
    "start_time": "2023-04-07T09:59:59.097Z"
   },
   {
    "duration": 1778,
    "start_time": "2023-04-07T10:00:00.831Z"
   },
   {
    "duration": 3,
    "start_time": "2023-04-07T10:00:02.611Z"
   },
   {
    "duration": 26,
    "start_time": "2023-04-07T10:00:02.615Z"
   },
   {
    "duration": 24,
    "start_time": "2023-04-07T10:00:02.643Z"
   },
   {
    "duration": 19,
    "start_time": "2023-04-07T10:00:02.669Z"
   },
   {
    "duration": 16,
    "start_time": "2023-04-07T10:00:02.690Z"
   },
   {
    "duration": 32,
    "start_time": "2023-04-07T10:00:02.708Z"
   },
   {
    "duration": 28,
    "start_time": "2023-04-07T10:00:02.743Z"
   },
   {
    "duration": 18,
    "start_time": "2023-04-07T10:00:02.774Z"
   },
   {
    "duration": 37,
    "start_time": "2023-04-07T10:00:02.795Z"
   },
   {
    "duration": 34,
    "start_time": "2023-04-07T10:00:02.834Z"
   },
   {
    "duration": 68,
    "start_time": "2023-04-07T10:00:02.870Z"
   },
   {
    "duration": 45,
    "start_time": "2023-04-07T10:00:02.940Z"
   },
   {
    "duration": 54,
    "start_time": "2023-04-07T10:00:02.987Z"
   },
   {
    "duration": 20,
    "start_time": "2023-04-07T10:00:03.042Z"
   },
   {
    "duration": 11,
    "start_time": "2023-04-07T10:00:03.064Z"
   },
   {
    "duration": 13,
    "start_time": "2023-04-07T10:00:03.077Z"
   },
   {
    "duration": 55,
    "start_time": "2023-04-07T10:00:03.092Z"
   },
   {
    "duration": 18,
    "start_time": "2023-04-07T10:00:03.149Z"
   },
   {
    "duration": 31,
    "start_time": "2023-04-07T10:00:03.169Z"
   },
   {
    "duration": 27,
    "start_time": "2023-04-07T10:00:03.202Z"
   },
   {
    "duration": 134,
    "start_time": "2023-04-07T10:00:03.231Z"
   },
   {
    "duration": 101,
    "start_time": "2023-04-07T10:00:03.366Z"
   },
   {
    "duration": 1176,
    "start_time": "2023-04-07T10:00:03.469Z"
   },
   {
    "duration": 995,
    "start_time": "2023-04-07T10:00:04.647Z"
   },
   {
    "duration": 1066,
    "start_time": "2023-04-07T10:00:05.644Z"
   },
   {
    "duration": 1266,
    "start_time": "2023-04-07T10:00:06.712Z"
   },
   {
    "duration": 6,
    "start_time": "2023-04-07T10:00:07.980Z"
   },
   {
    "duration": 1622,
    "start_time": "2023-04-07T10:00:07.987Z"
   },
   {
    "duration": 34,
    "start_time": "2023-04-07T10:00:09.611Z"
   },
   {
    "duration": 20,
    "start_time": "2023-04-07T10:02:38.626Z"
   },
   {
    "duration": 1621,
    "start_time": "2023-04-07T11:22:20.100Z"
   },
   {
    "duration": 687,
    "start_time": "2023-04-07T11:22:21.724Z"
   },
   {
    "duration": 3,
    "start_time": "2023-04-07T11:22:22.414Z"
   },
   {
    "duration": 10,
    "start_time": "2023-04-07T11:22:22.423Z"
   },
   {
    "duration": 25,
    "start_time": "2023-04-07T11:22:22.436Z"
   },
   {
    "duration": 40,
    "start_time": "2023-04-07T11:22:22.463Z"
   },
   {
    "duration": 28,
    "start_time": "2023-04-07T11:22:22.505Z"
   },
   {
    "duration": 33,
    "start_time": "2023-04-07T11:22:22.534Z"
   },
   {
    "duration": 34,
    "start_time": "2023-04-07T11:22:22.569Z"
   },
   {
    "duration": 20,
    "start_time": "2023-04-07T11:22:22.605Z"
   },
   {
    "duration": 14,
    "start_time": "2023-04-07T11:22:22.628Z"
   },
   {
    "duration": 35,
    "start_time": "2023-04-07T11:22:22.644Z"
   },
   {
    "duration": 22,
    "start_time": "2023-04-07T11:22:22.681Z"
   },
   {
    "duration": 57,
    "start_time": "2023-04-07T11:22:22.706Z"
   },
   {
    "duration": 34,
    "start_time": "2023-04-07T11:22:22.765Z"
   },
   {
    "duration": 36,
    "start_time": "2023-04-07T11:22:22.801Z"
   },
   {
    "duration": 20,
    "start_time": "2023-04-07T11:22:22.839Z"
   },
   {
    "duration": 32,
    "start_time": "2023-04-07T11:22:22.861Z"
   },
   {
    "duration": 28,
    "start_time": "2023-04-07T11:22:22.895Z"
   },
   {
    "duration": 15,
    "start_time": "2023-04-07T11:22:22.925Z"
   },
   {
    "duration": 44,
    "start_time": "2023-04-07T11:22:22.943Z"
   },
   {
    "duration": 27,
    "start_time": "2023-04-07T11:22:22.989Z"
   },
   {
    "duration": 149,
    "start_time": "2023-04-07T11:22:23.018Z"
   },
   {
    "duration": 110,
    "start_time": "2023-04-07T11:22:23.170Z"
   },
   {
    "duration": 1312,
    "start_time": "2023-04-07T11:22:23.282Z"
   },
   {
    "duration": 985,
    "start_time": "2023-04-07T11:22:24.596Z"
   },
   {
    "duration": 1167,
    "start_time": "2023-04-07T11:22:25.583Z"
   },
   {
    "duration": 1382,
    "start_time": "2023-04-07T11:22:26.752Z"
   },
   {
    "duration": 6,
    "start_time": "2023-04-07T11:22:28.136Z"
   },
   {
    "duration": 1677,
    "start_time": "2023-04-07T11:22:28.144Z"
   },
   {
    "duration": 32,
    "start_time": "2023-04-07T11:22:29.823Z"
   },
   {
    "duration": 3,
    "start_time": "2023-04-07T11:22:29.857Z"
   },
   {
    "duration": 11,
    "start_time": "2023-04-07T11:22:29.862Z"
   },
   {
    "duration": 5,
    "start_time": "2023-04-07T11:22:29.875Z"
   },
   {
    "duration": 132,
    "start_time": "2023-04-07T11:22:29.881Z"
   },
   {
    "duration": 7,
    "start_time": "2023-04-07T12:37:30.747Z"
   },
   {
    "duration": 3,
    "start_time": "2023-04-07T12:38:05.069Z"
   },
   {
    "duration": 16,
    "start_time": "2023-04-07T12:39:31.744Z"
   },
   {
    "duration": 7,
    "start_time": "2023-04-07T12:50:20.134Z"
   },
   {
    "duration": 10,
    "start_time": "2023-04-07T12:50:56.356Z"
   },
   {
    "duration": 5,
    "start_time": "2023-04-07T12:50:56.567Z"
   },
   {
    "duration": 10,
    "start_time": "2023-04-07T12:50:56.776Z"
   },
   {
    "duration": 4,
    "start_time": "2023-04-07T12:55:45.432Z"
   },
   {
    "duration": 3,
    "start_time": "2023-04-07T12:55:50.568Z"
   },
   {
    "duration": 3,
    "start_time": "2023-04-07T12:55:52.511Z"
   },
   {
    "duration": 1675,
    "start_time": "2023-04-07T15:29:38.946Z"
   },
   {
    "duration": 3019,
    "start_time": "2023-04-07T15:29:40.623Z"
   },
   {
    "duration": 2,
    "start_time": "2023-04-07T15:29:43.644Z"
   },
   {
    "duration": 8,
    "start_time": "2023-04-07T15:29:43.648Z"
   },
   {
    "duration": 5,
    "start_time": "2023-04-07T15:29:43.657Z"
   },
   {
    "duration": 10,
    "start_time": "2023-04-07T15:29:43.664Z"
   },
   {
    "duration": 15,
    "start_time": "2023-04-07T15:29:43.675Z"
   },
   {
    "duration": 8,
    "start_time": "2023-04-07T15:29:43.692Z"
   },
   {
    "duration": 10,
    "start_time": "2023-04-07T15:29:43.701Z"
   },
   {
    "duration": 6,
    "start_time": "2023-04-07T15:29:43.712Z"
   },
   {
    "duration": 10,
    "start_time": "2023-04-07T15:29:43.720Z"
   },
   {
    "duration": 14,
    "start_time": "2023-04-07T15:29:43.732Z"
   },
   {
    "duration": 7,
    "start_time": "2023-04-07T15:29:43.748Z"
   },
   {
    "duration": 6,
    "start_time": "2023-04-07T15:29:43.759Z"
   },
   {
    "duration": 9,
    "start_time": "2023-04-07T15:29:43.766Z"
   },
   {
    "duration": 7,
    "start_time": "2023-04-07T15:29:43.776Z"
   },
   {
    "duration": 12,
    "start_time": "2023-04-07T15:29:43.784Z"
   },
   {
    "duration": 5,
    "start_time": "2023-04-07T15:29:43.798Z"
   },
   {
    "duration": 19,
    "start_time": "2023-04-07T15:29:43.804Z"
   },
   {
    "duration": 16,
    "start_time": "2023-04-07T15:29:43.825Z"
   },
   {
    "duration": 17,
    "start_time": "2023-04-07T15:29:43.843Z"
   },
   {
    "duration": 21,
    "start_time": "2023-04-07T15:29:43.862Z"
   },
   {
    "duration": 136,
    "start_time": "2023-04-07T15:29:43.884Z"
   },
   {
    "duration": 90,
    "start_time": "2023-04-07T15:29:44.021Z"
   },
   {
    "duration": 990,
    "start_time": "2023-04-07T15:29:44.113Z"
   },
   {
    "duration": 955,
    "start_time": "2023-04-07T15:29:45.105Z"
   },
   {
    "duration": 933,
    "start_time": "2023-04-07T15:29:46.061Z"
   },
   {
    "duration": 1241,
    "start_time": "2023-04-07T15:29:46.996Z"
   },
   {
    "duration": 7,
    "start_time": "2023-04-07T15:29:48.238Z"
   },
   {
    "duration": 1502,
    "start_time": "2023-04-07T15:29:48.246Z"
   },
   {
    "duration": 31,
    "start_time": "2023-04-07T15:29:49.750Z"
   },
   {
    "duration": 3,
    "start_time": "2023-04-07T15:29:49.783Z"
   },
   {
    "duration": 7,
    "start_time": "2023-04-07T15:29:49.788Z"
   },
   {
    "duration": 8,
    "start_time": "2023-04-07T15:29:49.796Z"
   },
   {
    "duration": 28,
    "start_time": "2023-04-07T15:29:49.806Z"
   },
   {
    "duration": 123,
    "start_time": "2023-04-07T15:29:49.836Z"
   },
   {
    "duration": 1499,
    "start_time": "2023-04-07T20:15:41.482Z"
   },
   {
    "duration": 2853,
    "start_time": "2023-04-07T20:15:42.983Z"
   },
   {
    "duration": 2,
    "start_time": "2023-04-07T20:15:45.837Z"
   },
   {
    "duration": 8,
    "start_time": "2023-04-07T20:15:45.841Z"
   },
   {
    "duration": 11,
    "start_time": "2023-04-07T20:15:45.850Z"
   },
   {
    "duration": 9,
    "start_time": "2023-04-07T20:15:45.862Z"
   },
   {
    "duration": 9,
    "start_time": "2023-04-07T20:15:45.872Z"
   },
   {
    "duration": 16,
    "start_time": "2023-04-07T20:15:45.882Z"
   },
   {
    "duration": 37,
    "start_time": "2023-04-07T20:15:45.900Z"
   },
   {
    "duration": 15,
    "start_time": "2023-04-07T20:15:45.941Z"
   },
   {
    "duration": 22,
    "start_time": "2023-04-07T20:15:45.958Z"
   },
   {
    "duration": 30,
    "start_time": "2023-04-07T20:15:45.982Z"
   },
   {
    "duration": 43,
    "start_time": "2023-04-07T20:15:46.014Z"
   },
   {
    "duration": 45,
    "start_time": "2023-04-07T20:15:46.059Z"
   },
   {
    "duration": 18,
    "start_time": "2023-04-07T20:15:46.106Z"
   },
   {
    "duration": 15,
    "start_time": "2023-04-07T20:15:46.125Z"
   },
   {
    "duration": 19,
    "start_time": "2023-04-07T20:15:46.142Z"
   },
   {
    "duration": 7,
    "start_time": "2023-04-07T20:15:46.163Z"
   },
   {
    "duration": 25,
    "start_time": "2023-04-07T20:15:46.171Z"
   },
   {
    "duration": 7,
    "start_time": "2023-04-07T20:15:46.198Z"
   },
   {
    "duration": 29,
    "start_time": "2023-04-07T20:15:46.207Z"
   },
   {
    "duration": 29,
    "start_time": "2023-04-07T20:15:46.237Z"
   },
   {
    "duration": 140,
    "start_time": "2023-04-07T20:15:46.268Z"
   },
   {
    "duration": 89,
    "start_time": "2023-04-07T20:15:46.409Z"
   },
   {
    "duration": 938,
    "start_time": "2023-04-07T20:15:46.500Z"
   },
   {
    "duration": 698,
    "start_time": "2023-04-07T20:15:47.440Z"
   },
   {
    "duration": 784,
    "start_time": "2023-04-07T20:15:48.140Z"
   },
   {
    "duration": 1051,
    "start_time": "2023-04-07T20:15:48.928Z"
   },
   {
    "duration": 6,
    "start_time": "2023-04-07T20:15:49.980Z"
   },
   {
    "duration": 1181,
    "start_time": "2023-04-07T20:15:49.987Z"
   },
   {
    "duration": 25,
    "start_time": "2023-04-07T20:15:51.169Z"
   },
   {
    "duration": 11,
    "start_time": "2023-04-07T20:15:51.196Z"
   },
   {
    "duration": 7,
    "start_time": "2023-04-07T20:15:51.208Z"
   },
   {
    "duration": 14,
    "start_time": "2023-04-07T20:15:51.217Z"
   },
   {
    "duration": 22,
    "start_time": "2023-04-07T20:15:51.232Z"
   },
   {
    "duration": 127,
    "start_time": "2023-04-07T20:15:51.255Z"
   },
   {
    "duration": 7,
    "start_time": "2023-04-07T20:27:38.714Z"
   },
   {
    "duration": 9,
    "start_time": "2023-04-07T20:36:29.435Z"
   },
   {
    "duration": 6,
    "start_time": "2023-04-07T20:38:08.037Z"
   },
   {
    "duration": 5,
    "start_time": "2023-04-07T20:38:19.815Z"
   },
   {
    "duration": 9,
    "start_time": "2023-04-07T20:38:20.815Z"
   },
   {
    "duration": 10,
    "start_time": "2023-04-07T20:41:35.375Z"
   },
   {
    "duration": 3,
    "start_time": "2023-04-07T20:44:38.995Z"
   },
   {
    "duration": 4,
    "start_time": "2023-04-07T20:45:00.252Z"
   },
   {
    "duration": 7,
    "start_time": "2023-04-07T20:45:00.737Z"
   },
   {
    "duration": 3,
    "start_time": "2023-04-07T20:45:01.172Z"
   },
   {
    "duration": 50,
    "start_time": "2023-04-07T20:45:02.373Z"
   },
   {
    "duration": 169,
    "start_time": "2023-04-07T20:45:15.075Z"
   },
   {
    "duration": 1361,
    "start_time": "2023-04-07T21:08:24.264Z"
   },
   {
    "duration": 705,
    "start_time": "2023-04-07T21:08:25.627Z"
   },
   {
    "duration": 3,
    "start_time": "2023-04-07T21:08:26.333Z"
   },
   {
    "duration": 6,
    "start_time": "2023-04-07T21:08:26.339Z"
   },
   {
    "duration": 8,
    "start_time": "2023-04-07T21:08:26.347Z"
   },
   {
    "duration": 15,
    "start_time": "2023-04-07T21:08:26.357Z"
   },
   {
    "duration": 5,
    "start_time": "2023-04-07T21:08:26.374Z"
   },
   {
    "duration": 11,
    "start_time": "2023-04-07T21:08:26.381Z"
   },
   {
    "duration": 9,
    "start_time": "2023-04-07T21:08:26.394Z"
   },
   {
    "duration": 8,
    "start_time": "2023-04-07T21:08:26.406Z"
   },
   {
    "duration": 12,
    "start_time": "2023-04-07T21:08:26.415Z"
   },
   {
    "duration": 18,
    "start_time": "2023-04-07T21:08:26.428Z"
   },
   {
    "duration": 8,
    "start_time": "2023-04-07T21:08:26.448Z"
   },
   {
    "duration": 13,
    "start_time": "2023-04-07T21:08:26.458Z"
   },
   {
    "duration": 11,
    "start_time": "2023-04-07T21:08:26.472Z"
   },
   {
    "duration": 6,
    "start_time": "2023-04-07T21:08:26.484Z"
   },
   {
    "duration": 4,
    "start_time": "2023-04-07T21:08:26.491Z"
   },
   {
    "duration": 5,
    "start_time": "2023-04-07T21:08:26.497Z"
   },
   {
    "duration": 18,
    "start_time": "2023-04-07T21:08:26.503Z"
   },
   {
    "duration": 9,
    "start_time": "2023-04-07T21:08:26.522Z"
   },
   {
    "duration": 17,
    "start_time": "2023-04-07T21:08:26.532Z"
   },
   {
    "duration": 53,
    "start_time": "2023-04-07T21:08:26.550Z"
   },
   {
    "duration": 124,
    "start_time": "2023-04-07T21:08:26.604Z"
   },
   {
    "duration": 90,
    "start_time": "2023-04-07T21:08:26.730Z"
   },
   {
    "duration": 903,
    "start_time": "2023-04-07T21:08:26.821Z"
   },
   {
    "duration": 719,
    "start_time": "2023-04-07T21:08:27.726Z"
   },
   {
    "duration": 834,
    "start_time": "2023-04-07T21:08:28.447Z"
   },
   {
    "duration": 1036,
    "start_time": "2023-04-07T21:08:29.284Z"
   },
   {
    "duration": 5,
    "start_time": "2023-04-07T21:08:30.322Z"
   },
   {
    "duration": 1249,
    "start_time": "2023-04-07T21:08:30.328Z"
   },
   {
    "duration": 27,
    "start_time": "2023-04-07T21:08:31.578Z"
   },
   {
    "duration": 19,
    "start_time": "2023-04-07T21:08:31.607Z"
   },
   {
    "duration": 17,
    "start_time": "2023-04-07T21:08:31.628Z"
   },
   {
    "duration": 22,
    "start_time": "2023-04-07T21:08:31.646Z"
   },
   {
    "duration": 28,
    "start_time": "2023-04-07T21:08:31.669Z"
   },
   {
    "duration": 20,
    "start_time": "2023-04-07T21:08:31.699Z"
   },
   {
    "duration": 159,
    "start_time": "2023-04-07T21:08:31.721Z"
   },
   {
    "duration": 53,
    "start_time": "2023-04-07T21:13:48.065Z"
   },
   {
    "duration": 55,
    "start_time": "2023-04-07T21:14:07.593Z"
   },
   {
    "duration": 51,
    "start_time": "2023-04-07T21:14:13.245Z"
   },
   {
    "duration": 1328,
    "start_time": "2023-04-07T21:19:06.300Z"
   },
   {
    "duration": 689,
    "start_time": "2023-04-07T21:19:07.630Z"
   },
   {
    "duration": 2,
    "start_time": "2023-04-07T21:19:08.321Z"
   },
   {
    "duration": 7,
    "start_time": "2023-04-07T21:19:08.326Z"
   },
   {
    "duration": 4,
    "start_time": "2023-04-07T21:19:08.334Z"
   },
   {
    "duration": 4,
    "start_time": "2023-04-07T21:19:08.339Z"
   },
   {
    "duration": 4,
    "start_time": "2023-04-07T21:19:08.344Z"
   },
   {
    "duration": 3,
    "start_time": "2023-04-07T21:19:08.350Z"
   },
   {
    "duration": 22,
    "start_time": "2023-04-07T21:19:08.355Z"
   },
   {
    "duration": 8,
    "start_time": "2023-04-07T21:19:08.380Z"
   },
   {
    "duration": 11,
    "start_time": "2023-04-07T21:19:08.389Z"
   },
   {
    "duration": 32,
    "start_time": "2023-04-07T21:19:08.402Z"
   },
   {
    "duration": 7,
    "start_time": "2023-04-07T21:19:08.436Z"
   },
   {
    "duration": 12,
    "start_time": "2023-04-07T21:19:08.444Z"
   },
   {
    "duration": 8,
    "start_time": "2023-04-07T21:19:08.457Z"
   },
   {
    "duration": 24,
    "start_time": "2023-04-07T21:19:08.467Z"
   },
   {
    "duration": 10,
    "start_time": "2023-04-07T21:19:08.493Z"
   },
   {
    "duration": 6,
    "start_time": "2023-04-07T21:19:08.504Z"
   },
   {
    "duration": 21,
    "start_time": "2023-04-07T21:19:08.512Z"
   },
   {
    "duration": 9,
    "start_time": "2023-04-07T21:19:08.535Z"
   },
   {
    "duration": 15,
    "start_time": "2023-04-07T21:19:08.546Z"
   },
   {
    "duration": 22,
    "start_time": "2023-04-07T21:19:08.563Z"
   },
   {
    "duration": 124,
    "start_time": "2023-04-07T21:19:08.587Z"
   },
   {
    "duration": 106,
    "start_time": "2023-04-07T21:19:08.713Z"
   },
   {
    "duration": 915,
    "start_time": "2023-04-07T21:19:08.820Z"
   },
   {
    "duration": 800,
    "start_time": "2023-04-07T21:19:09.737Z"
   },
   {
    "duration": 907,
    "start_time": "2023-04-07T21:19:10.538Z"
   },
   {
    "duration": 1103,
    "start_time": "2023-04-07T21:19:11.448Z"
   },
   {
    "duration": 7,
    "start_time": "2023-04-07T21:19:12.552Z"
   },
   {
    "duration": 1312,
    "start_time": "2023-04-07T21:19:12.561Z"
   },
   {
    "duration": 30,
    "start_time": "2023-04-07T21:19:13.875Z"
   },
   {
    "duration": 3,
    "start_time": "2023-04-07T21:19:13.907Z"
   },
   {
    "duration": 3,
    "start_time": "2023-04-07T21:19:13.912Z"
   },
   {
    "duration": 6,
    "start_time": "2023-04-07T21:19:13.917Z"
   },
   {
    "duration": 17,
    "start_time": "2023-04-07T21:19:13.924Z"
   },
   {
    "duration": 4,
    "start_time": "2023-04-07T21:19:13.943Z"
   },
   {
    "duration": 198,
    "start_time": "2023-04-07T21:19:13.949Z"
   },
   {
    "duration": 8,
    "start_time": "2023-04-07T21:20:22.891Z"
   },
   {
    "duration": 3,
    "start_time": "2023-04-07T21:30:29.027Z"
   },
   {
    "duration": 50,
    "start_time": "2023-04-07T21:31:44.969Z"
   },
   {
    "duration": 52,
    "start_time": "2023-04-07T21:40:24.287Z"
   },
   {
    "duration": 54,
    "start_time": "2023-04-07T21:42:24.996Z"
   },
   {
    "duration": 84,
    "start_time": "2023-04-07T21:43:26.407Z"
   },
   {
    "duration": 9,
    "start_time": "2023-04-07T21:44:10.846Z"
   },
   {
    "duration": 3,
    "start_time": "2023-04-07T21:44:17.386Z"
   },
   {
    "duration": 3,
    "start_time": "2023-04-07T21:44:18.258Z"
   },
   {
    "duration": 4,
    "start_time": "2023-04-07T21:45:11.858Z"
   },
   {
    "duration": 2,
    "start_time": "2023-04-07T21:45:38.406Z"
   },
   {
    "duration": 5,
    "start_time": "2023-04-07T21:46:00.826Z"
   },
   {
    "duration": 3,
    "start_time": "2023-04-07T21:46:11.986Z"
   },
   {
    "duration": 8,
    "start_time": "2023-04-07T21:46:27.917Z"
   },
   {
    "duration": 7,
    "start_time": "2023-04-07T21:46:46.846Z"
   },
   {
    "duration": 40,
    "start_time": "2023-04-07T21:47:59.471Z"
   },
   {
    "duration": 59,
    "start_time": "2023-04-07T21:48:19.064Z"
   },
   {
    "duration": 2,
    "start_time": "2023-04-07T21:48:45.024Z"
   },
   {
    "duration": 55,
    "start_time": "2023-04-07T21:48:45.824Z"
   },
   {
    "duration": 1216,
    "start_time": "2023-04-07T21:50:50.710Z"
   },
   {
    "duration": 0,
    "start_time": "2023-04-07T21:50:51.928Z"
   },
   {
    "duration": 0,
    "start_time": "2023-04-07T21:50:51.929Z"
   },
   {
    "duration": 3,
    "start_time": "2023-04-07T21:50:52.022Z"
   },
   {
    "duration": 3,
    "start_time": "2023-04-07T21:50:52.301Z"
   },
   {
    "duration": 4,
    "start_time": "2023-04-07T21:50:52.523Z"
   },
   {
    "duration": 3,
    "start_time": "2023-04-07T21:50:52.903Z"
   },
   {
    "duration": 3,
    "start_time": "2023-04-07T21:50:53.163Z"
   },
   {
    "duration": 4,
    "start_time": "2023-04-07T21:50:53.423Z"
   },
   {
    "duration": 3,
    "start_time": "2023-04-07T21:50:53.662Z"
   },
   {
    "duration": 62,
    "start_time": "2023-04-07T21:50:54.130Z"
   },
   {
    "duration": 7,
    "start_time": "2023-04-07T21:52:22.803Z"
   },
   {
    "duration": 4,
    "start_time": "2023-04-07T21:52:23.446Z"
   },
   {
    "duration": 3,
    "start_time": "2023-04-07T21:52:23.694Z"
   },
   {
    "duration": 3,
    "start_time": "2023-04-07T21:52:24.164Z"
   },
   {
    "duration": 2,
    "start_time": "2023-04-07T21:52:24.397Z"
   },
   {
    "duration": 5,
    "start_time": "2023-04-07T21:52:24.636Z"
   },
   {
    "duration": 4,
    "start_time": "2023-04-07T21:52:24.817Z"
   },
   {
    "duration": 4,
    "start_time": "2023-04-07T21:52:25.062Z"
   },
   {
    "duration": 7,
    "start_time": "2023-04-07T21:52:25.299Z"
   },
   {
    "duration": 3,
    "start_time": "2023-04-07T21:52:25.533Z"
   },
   {
    "duration": 3755,
    "start_time": "2023-04-07T21:52:26.035Z"
   },
   {
    "duration": 13,
    "start_time": "2023-04-07T21:53:20.897Z"
   },
   {
    "duration": 3,
    "start_time": "2023-04-07T21:53:25.303Z"
   },
   {
    "duration": 27365,
    "start_time": "2023-04-07T21:53:36.871Z"
   },
   {
    "duration": 1453,
    "start_time": "2023-04-07T21:57:13.365Z"
   },
   {
    "duration": 761,
    "start_time": "2023-04-07T21:57:14.821Z"
   },
   {
    "duration": 8,
    "start_time": "2023-04-07T21:57:15.584Z"
   },
   {
    "duration": 15,
    "start_time": "2023-04-07T21:57:15.594Z"
   },
   {
    "duration": 7,
    "start_time": "2023-04-07T21:57:15.611Z"
   },
   {
    "duration": 7,
    "start_time": "2023-04-07T21:57:15.620Z"
   },
   {
    "duration": 11,
    "start_time": "2023-04-07T21:57:15.629Z"
   },
   {
    "duration": 15,
    "start_time": "2023-04-07T21:57:15.642Z"
   },
   {
    "duration": 11,
    "start_time": "2023-04-07T21:57:15.659Z"
   },
   {
    "duration": 36,
    "start_time": "2023-04-07T21:57:15.673Z"
   },
   {
    "duration": 14,
    "start_time": "2023-04-07T21:57:15.711Z"
   },
   {
    "duration": 19,
    "start_time": "2023-04-07T21:57:15.727Z"
   },
   {
    "duration": 12,
    "start_time": "2023-04-07T21:57:15.748Z"
   },
   {
    "duration": 47,
    "start_time": "2023-04-07T21:57:15.762Z"
   },
   {
    "duration": 10,
    "start_time": "2023-04-07T21:57:15.810Z"
   },
   {
    "duration": 10,
    "start_time": "2023-04-07T21:57:15.822Z"
   },
   {
    "duration": 7,
    "start_time": "2023-04-07T21:57:15.833Z"
   },
   {
    "duration": 6,
    "start_time": "2023-04-07T21:57:15.841Z"
   },
   {
    "duration": 55,
    "start_time": "2023-04-07T21:57:15.848Z"
   },
   {
    "duration": 20,
    "start_time": "2023-04-07T21:57:15.915Z"
   },
   {
    "duration": 49,
    "start_time": "2023-04-07T21:57:15.937Z"
   },
   {
    "duration": 53,
    "start_time": "2023-04-07T21:57:15.987Z"
   },
   {
    "duration": 166,
    "start_time": "2023-04-07T21:57:16.042Z"
   },
   {
    "duration": 134,
    "start_time": "2023-04-07T21:57:16.210Z"
   },
   {
    "duration": 1159,
    "start_time": "2023-04-07T21:57:16.346Z"
   },
   {
    "duration": 822,
    "start_time": "2023-04-07T21:57:17.508Z"
   },
   {
    "duration": 915,
    "start_time": "2023-04-07T21:57:18.332Z"
   },
   {
    "duration": 1168,
    "start_time": "2023-04-07T21:57:19.250Z"
   },
   {
    "duration": 6,
    "start_time": "2023-04-07T21:57:20.419Z"
   },
   {
    "duration": 1391,
    "start_time": "2023-04-07T21:57:20.426Z"
   },
   {
    "duration": 27,
    "start_time": "2023-04-07T21:57:21.818Z"
   },
   {
    "duration": 6,
    "start_time": "2023-04-07T21:57:21.846Z"
   },
   {
    "duration": 41,
    "start_time": "2023-04-07T21:57:21.855Z"
   },
   {
    "duration": 20,
    "start_time": "2023-04-07T21:57:21.897Z"
   },
   {
    "duration": 35,
    "start_time": "2023-04-07T21:57:21.918Z"
   },
   {
    "duration": 26,
    "start_time": "2023-04-07T21:57:21.954Z"
   },
   {
    "duration": 35,
    "start_time": "2023-04-07T21:57:21.982Z"
   },
   {
    "duration": 19,
    "start_time": "2023-04-07T21:57:22.019Z"
   },
   {
    "duration": 11,
    "start_time": "2023-04-07T21:57:22.040Z"
   },
   {
    "duration": 18,
    "start_time": "2023-04-07T21:57:22.053Z"
   },
   {
    "duration": 16,
    "start_time": "2023-04-07T21:57:22.081Z"
   },
   {
    "duration": 6086,
    "start_time": "2023-04-07T21:57:22.099Z"
   },
   {
    "duration": 12,
    "start_time": "2023-04-07T21:57:28.193Z"
   },
   {
    "duration": 26988,
    "start_time": "2023-04-07T21:57:28.277Z"
   },
   {
    "duration": 11,
    "start_time": "2023-04-07T21:57:55.267Z"
   },
   {
    "duration": 17,
    "start_time": "2023-04-07T21:57:55.281Z"
   },
   {
    "duration": 4122,
    "start_time": "2023-04-07T21:57:55.300Z"
   },
   {
    "duration": 1466,
    "start_time": "2023-04-07T22:06:00.877Z"
   },
   {
    "duration": 693,
    "start_time": "2023-04-07T22:06:02.345Z"
   },
   {
    "duration": 3,
    "start_time": "2023-04-07T22:06:03.040Z"
   },
   {
    "duration": 34,
    "start_time": "2023-04-07T22:06:03.046Z"
   },
   {
    "duration": 17,
    "start_time": "2023-04-07T22:06:03.083Z"
   },
   {
    "duration": 17,
    "start_time": "2023-04-07T22:06:03.102Z"
   },
   {
    "duration": 39,
    "start_time": "2023-04-07T22:06:03.123Z"
   },
   {
    "duration": 23,
    "start_time": "2023-04-07T22:06:03.164Z"
   },
   {
    "duration": 29,
    "start_time": "2023-04-07T22:06:03.189Z"
   },
   {
    "duration": 23,
    "start_time": "2023-04-07T22:06:03.222Z"
   },
   {
    "duration": 16,
    "start_time": "2023-04-07T22:06:03.247Z"
   },
   {
    "duration": 32,
    "start_time": "2023-04-07T22:06:03.265Z"
   },
   {
    "duration": 11,
    "start_time": "2023-04-07T22:06:03.299Z"
   },
   {
    "duration": 58,
    "start_time": "2023-04-07T22:06:03.312Z"
   },
   {
    "duration": 31,
    "start_time": "2023-04-07T22:06:03.371Z"
   },
   {
    "duration": 19,
    "start_time": "2023-04-07T22:06:03.403Z"
   },
   {
    "duration": 15,
    "start_time": "2023-04-07T22:06:03.423Z"
   },
   {
    "duration": 30,
    "start_time": "2023-04-07T22:06:03.439Z"
   },
   {
    "duration": 24,
    "start_time": "2023-04-07T22:06:03.471Z"
   },
   {
    "duration": 9,
    "start_time": "2023-04-07T22:06:03.497Z"
   },
   {
    "duration": 31,
    "start_time": "2023-04-07T22:06:03.508Z"
   },
   {
    "duration": 61,
    "start_time": "2023-04-07T22:06:03.541Z"
   },
   {
    "duration": 139,
    "start_time": "2023-04-07T22:06:03.604Z"
   },
   {
    "duration": 101,
    "start_time": "2023-04-07T22:06:03.744Z"
   },
   {
    "duration": 1050,
    "start_time": "2023-04-07T22:06:03.848Z"
   },
   {
    "duration": 775,
    "start_time": "2023-04-07T22:06:04.901Z"
   },
   {
    "duration": 1097,
    "start_time": "2023-04-07T22:06:05.678Z"
   },
   {
    "duration": 1195,
    "start_time": "2023-04-07T22:06:06.779Z"
   },
   {
    "duration": 17,
    "start_time": "2023-04-07T22:06:07.976Z"
   },
   {
    "duration": 1384,
    "start_time": "2023-04-07T22:06:07.995Z"
   },
   {
    "duration": 26,
    "start_time": "2023-04-07T22:06:09.381Z"
   },
   {
    "duration": 6,
    "start_time": "2023-04-07T22:06:09.409Z"
   },
   {
    "duration": 8,
    "start_time": "2023-04-07T22:06:09.417Z"
   },
   {
    "duration": 6,
    "start_time": "2023-04-07T22:06:09.426Z"
   },
   {
    "duration": 7,
    "start_time": "2023-04-07T22:06:09.433Z"
   },
   {
    "duration": 7,
    "start_time": "2023-04-07T22:06:09.442Z"
   },
   {
    "duration": 25,
    "start_time": "2023-04-07T22:06:09.450Z"
   },
   {
    "duration": 10,
    "start_time": "2023-04-07T22:06:09.477Z"
   },
   {
    "duration": 5,
    "start_time": "2023-04-07T22:06:09.489Z"
   },
   {
    "duration": 9,
    "start_time": "2023-04-07T22:06:09.496Z"
   },
   {
    "duration": 6,
    "start_time": "2023-04-07T22:06:09.507Z"
   },
   {
    "duration": 5768,
    "start_time": "2023-04-07T22:06:09.515Z"
   },
   {
    "duration": 85,
    "start_time": "2023-04-07T22:06:15.287Z"
   },
   {
    "duration": 9699,
    "start_time": "2023-04-07T22:06:15.375Z"
   },
   {
    "duration": 646,
    "start_time": "2023-04-07T22:06:25.078Z"
   },
   {
    "duration": 0,
    "start_time": "2023-04-07T22:06:25.726Z"
   },
   {
    "duration": 0,
    "start_time": "2023-04-07T22:06:25.728Z"
   },
   {
    "duration": 0,
    "start_time": "2023-04-07T22:06:25.729Z"
   },
   {
    "duration": 0,
    "start_time": "2023-04-07T22:06:25.730Z"
   },
   {
    "duration": 167058,
    "start_time": "2023-04-07T22:06:52.794Z"
   },
   {
    "duration": 0,
    "start_time": "2023-04-07T22:09:39.854Z"
   },
   {
    "duration": 204024,
    "start_time": "2023-04-07T22:10:52.089Z"
   },
   {
    "duration": 8,
    "start_time": "2023-04-07T22:14:16.116Z"
   },
   {
    "duration": 4,
    "start_time": "2023-04-07T22:14:31.740Z"
   },
   {
    "duration": 3992,
    "start_time": "2023-04-07T22:14:31.968Z"
   },
   {
    "duration": 4,
    "start_time": "2023-04-07T22:14:35.962Z"
   },
   {
    "duration": 9191,
    "start_time": "2023-04-07T22:29:41.117Z"
   },
   {
    "duration": 73,
    "start_time": "2023-04-07T22:31:40.660Z"
   },
   {
    "duration": 10048,
    "start_time": "2023-04-07T22:31:51.175Z"
   },
   {
    "duration": 9695,
    "start_time": "2023-04-07T22:32:14.860Z"
   },
   {
    "duration": 9810,
    "start_time": "2023-04-07T22:32:51.405Z"
   },
   {
    "duration": 2898,
    "start_time": "2023-04-07T22:33:40.788Z"
   },
   {
    "duration": 3307,
    "start_time": "2023-04-07T22:34:26.066Z"
   },
   {
    "duration": 4,
    "start_time": "2023-04-07T22:36:00.372Z"
   },
   {
    "duration": 4,
    "start_time": "2023-04-07T22:36:00.658Z"
   },
   {
    "duration": 4,
    "start_time": "2023-04-07T22:36:00.851Z"
   },
   {
    "duration": 7,
    "start_time": "2023-04-07T22:36:01.062Z"
   },
   {
    "duration": 20,
    "start_time": "2023-04-07T22:36:01.468Z"
   },
   {
    "duration": 4,
    "start_time": "2023-04-07T22:36:01.720Z"
   },
   {
    "duration": 3,
    "start_time": "2023-04-07T22:36:01.905Z"
   },
   {
    "duration": 5,
    "start_time": "2023-04-07T22:36:02.396Z"
   },
   {
    "duration": 5,
    "start_time": "2023-04-07T22:36:02.711Z"
   },
   {
    "duration": 3,
    "start_time": "2023-04-07T22:36:02.965Z"
   },
   {
    "duration": 2470,
    "start_time": "2023-04-07T22:36:03.705Z"
   },
   {
    "duration": 2,
    "start_time": "2023-04-07T22:38:10.928Z"
   },
   {
    "duration": 5,
    "start_time": "2023-04-07T22:39:52.669Z"
   },
   {
    "duration": 3,
    "start_time": "2023-04-07T22:39:53.161Z"
   },
   {
    "duration": 2,
    "start_time": "2023-04-07T22:39:54.756Z"
   },
   {
    "duration": 3,
    "start_time": "2023-04-07T22:39:55.035Z"
   },
   {
    "duration": 3,
    "start_time": "2023-04-07T22:39:55.318Z"
   },
   {
    "duration": 4,
    "start_time": "2023-04-07T22:39:55.543Z"
   },
   {
    "duration": 5,
    "start_time": "2023-04-07T22:39:55.791Z"
   },
   {
    "duration": 4,
    "start_time": "2023-04-07T22:39:55.993Z"
   },
   {
    "duration": 3166,
    "start_time": "2023-04-07T22:39:56.911Z"
   },
   {
    "duration": 6,
    "start_time": "2023-04-07T22:42:40.612Z"
   },
   {
    "duration": 3,
    "start_time": "2023-04-07T22:42:41.225Z"
   },
   {
    "duration": 2840,
    "start_time": "2023-04-07T22:42:41.338Z"
   },
   {
    "duration": 1596,
    "start_time": "2023-04-07T22:52:49.875Z"
   },
   {
    "duration": 741,
    "start_time": "2023-04-07T22:52:51.473Z"
   },
   {
    "duration": 4,
    "start_time": "2023-04-07T22:52:52.215Z"
   },
   {
    "duration": 34,
    "start_time": "2023-04-07T22:52:52.222Z"
   },
   {
    "duration": 28,
    "start_time": "2023-04-07T22:52:52.259Z"
   },
   {
    "duration": 19,
    "start_time": "2023-04-07T22:52:52.289Z"
   },
   {
    "duration": 17,
    "start_time": "2023-04-07T22:52:52.311Z"
   },
   {
    "duration": 20,
    "start_time": "2023-04-07T22:52:52.330Z"
   },
   {
    "duration": 19,
    "start_time": "2023-04-07T22:52:52.352Z"
   },
   {
    "duration": 33,
    "start_time": "2023-04-07T22:52:52.373Z"
   },
   {
    "duration": 36,
    "start_time": "2023-04-07T22:52:52.409Z"
   },
   {
    "duration": 45,
    "start_time": "2023-04-07T22:52:52.447Z"
   },
   {
    "duration": 32,
    "start_time": "2023-04-07T22:52:52.494Z"
   },
   {
    "duration": 19,
    "start_time": "2023-04-07T22:52:52.532Z"
   },
   {
    "duration": 40,
    "start_time": "2023-04-07T22:52:52.554Z"
   },
   {
    "duration": 30,
    "start_time": "2023-04-07T22:52:52.596Z"
   },
   {
    "duration": 8,
    "start_time": "2023-04-07T22:52:52.628Z"
   },
   {
    "duration": 9,
    "start_time": "2023-04-07T22:52:52.639Z"
   },
   {
    "duration": 23,
    "start_time": "2023-04-07T22:52:52.651Z"
   },
   {
    "duration": 11,
    "start_time": "2023-04-07T22:52:52.675Z"
   },
   {
    "duration": 19,
    "start_time": "2023-04-07T22:52:52.688Z"
   },
   {
    "duration": 29,
    "start_time": "2023-04-07T22:52:52.709Z"
   },
   {
    "duration": 177,
    "start_time": "2023-04-07T22:52:52.740Z"
   },
   {
    "duration": 124,
    "start_time": "2023-04-07T22:52:52.919Z"
   },
   {
    "duration": 1081,
    "start_time": "2023-04-07T22:52:53.045Z"
   },
   {
    "duration": 824,
    "start_time": "2023-04-07T22:52:54.127Z"
   },
   {
    "duration": 987,
    "start_time": "2023-04-07T22:52:54.953Z"
   },
   {
    "duration": 1302,
    "start_time": "2023-04-07T22:52:55.942Z"
   },
   {
    "duration": 8,
    "start_time": "2023-04-07T22:52:57.246Z"
   },
   {
    "duration": 1452,
    "start_time": "2023-04-07T22:52:57.255Z"
   },
   {
    "duration": 36,
    "start_time": "2023-04-07T22:52:58.710Z"
   },
   {
    "duration": 138,
    "start_time": "2023-04-07T22:52:58.748Z"
   },
   {
    "duration": 0,
    "start_time": "2023-04-07T22:52:58.888Z"
   },
   {
    "duration": 0,
    "start_time": "2023-04-07T22:52:58.889Z"
   },
   {
    "duration": 0,
    "start_time": "2023-04-07T22:52:58.890Z"
   },
   {
    "duration": 0,
    "start_time": "2023-04-07T22:52:58.891Z"
   },
   {
    "duration": 0,
    "start_time": "2023-04-07T22:52:58.892Z"
   },
   {
    "duration": 0,
    "start_time": "2023-04-07T22:52:58.893Z"
   },
   {
    "duration": 0,
    "start_time": "2023-04-07T22:52:58.894Z"
   },
   {
    "duration": 0,
    "start_time": "2023-04-07T22:52:58.895Z"
   },
   {
    "duration": 0,
    "start_time": "2023-04-07T22:52:58.896Z"
   },
   {
    "duration": 0,
    "start_time": "2023-04-07T22:52:58.896Z"
   },
   {
    "duration": 0,
    "start_time": "2023-04-07T22:52:58.897Z"
   },
   {
    "duration": 0,
    "start_time": "2023-04-07T22:52:58.898Z"
   },
   {
    "duration": 0,
    "start_time": "2023-04-07T22:52:58.899Z"
   },
   {
    "duration": 0,
    "start_time": "2023-04-07T22:52:58.903Z"
   },
   {
    "duration": 0,
    "start_time": "2023-04-07T22:52:58.904Z"
   },
   {
    "duration": 4,
    "start_time": "2023-04-07T22:53:33.587Z"
   },
   {
    "duration": 3,
    "start_time": "2023-04-07T22:53:35.507Z"
   },
   {
    "duration": 7,
    "start_time": "2023-04-07T22:53:42.737Z"
   },
   {
    "duration": 3,
    "start_time": "2023-04-07T22:53:43.556Z"
   },
   {
    "duration": 3,
    "start_time": "2023-04-07T22:53:43.757Z"
   },
   {
    "duration": 5,
    "start_time": "2023-04-07T22:53:43.976Z"
   },
   {
    "duration": 6,
    "start_time": "2023-04-07T22:53:44.176Z"
   },
   {
    "duration": 3,
    "start_time": "2023-04-07T22:53:44.386Z"
   },
   {
    "duration": 14,
    "start_time": "2023-04-07T22:53:44.778Z"
   },
   {
    "duration": 6,
    "start_time": "2023-04-07T22:55:32.538Z"
   },
   {
    "duration": 3,
    "start_time": "2023-04-07T22:55:32.847Z"
   },
   {
    "duration": 3174,
    "start_time": "2023-04-07T22:55:33.698Z"
   },
   {
    "duration": 4,
    "start_time": "2023-04-07T22:56:10.147Z"
   },
   {
    "duration": 741,
    "start_time": "2023-04-07T22:57:42.020Z"
   },
   {
    "duration": 9903,
    "start_time": "2023-04-07T22:57:54.399Z"
   },
   {
    "duration": 19,
    "start_time": "2023-04-07T23:10:50.020Z"
   },
   {
    "duration": 0,
    "start_time": "2023-04-07T23:10:50.041Z"
   },
   {
    "duration": 0,
    "start_time": "2023-04-07T23:10:50.043Z"
   },
   {
    "duration": 101732,
    "start_time": "2023-04-07T23:12:29.233Z"
   },
   {
    "duration": 14,
    "start_time": "2023-04-07T23:18:26.135Z"
   },
   {
    "duration": 6,
    "start_time": "2023-04-07T23:18:29.064Z"
   },
   {
    "duration": 21,
    "start_time": "2023-04-07T23:18:29.318Z"
   },
   {
    "duration": 4,
    "start_time": "2023-04-07T23:19:24.030Z"
   },
   {
    "duration": 22,
    "start_time": "2023-04-07T23:19:24.274Z"
   },
   {
    "duration": 4,
    "start_time": "2023-04-07T23:22:42.014Z"
   },
   {
    "duration": 18,
    "start_time": "2023-04-07T23:22:42.524Z"
   },
   {
    "duration": 17,
    "start_time": "2023-04-07T23:23:13.334Z"
   },
   {
    "duration": 12,
    "start_time": "2023-04-07T23:24:12.044Z"
   },
   {
    "duration": 14,
    "start_time": "2023-04-07T23:24:36.599Z"
   },
   {
    "duration": 17,
    "start_time": "2023-04-07T23:24:58.772Z"
   },
   {
    "duration": 16,
    "start_time": "2023-04-07T23:25:24.524Z"
   },
   {
    "duration": 3546,
    "start_time": "2023-04-07T23:25:42.584Z"
   },
   {
    "duration": 9,
    "start_time": "2023-04-07T23:25:50.684Z"
   },
   {
    "duration": 3,
    "start_time": "2023-04-07T23:26:12.263Z"
   },
   {
    "duration": 3514,
    "start_time": "2023-04-07T23:27:26.294Z"
   },
   {
    "duration": 3,
    "start_time": "2023-04-07T23:27:29.810Z"
   },
   {
    "duration": 3559,
    "start_time": "2023-04-07T23:28:11.043Z"
   },
   {
    "duration": 3,
    "start_time": "2023-04-07T23:28:14.604Z"
   },
   {
    "duration": 3670,
    "start_time": "2023-04-07T23:28:48.589Z"
   },
   {
    "duration": 13,
    "start_time": "2023-04-07T23:28:52.260Z"
   },
   {
    "duration": 3587,
    "start_time": "2023-04-07T23:29:16.902Z"
   },
   {
    "duration": 4,
    "start_time": "2023-04-07T23:29:20.491Z"
   },
   {
    "duration": 3566,
    "start_time": "2023-04-07T23:29:35.941Z"
   },
   {
    "duration": 3,
    "start_time": "2023-04-07T23:29:39.509Z"
   },
   {
    "duration": 3521,
    "start_time": "2023-04-07T23:30:07.484Z"
   },
   {
    "duration": 4,
    "start_time": "2023-04-07T23:30:11.007Z"
   },
   {
    "duration": 8,
    "start_time": "2023-04-07T23:30:22.023Z"
   },
   {
    "duration": 3594,
    "start_time": "2023-04-07T23:30:46.136Z"
   },
   {
    "duration": 4,
    "start_time": "2023-04-07T23:30:49.732Z"
   },
   {
    "duration": 2791,
    "start_time": "2023-04-07T23:31:24.693Z"
   },
   {
    "duration": 3,
    "start_time": "2023-04-07T23:31:27.486Z"
   },
   {
    "duration": 4,
    "start_time": "2023-04-07T23:31:46.604Z"
   },
   {
    "duration": 2436,
    "start_time": "2023-04-07T23:31:46.872Z"
   },
   {
    "duration": 4,
    "start_time": "2023-04-07T23:31:49.310Z"
   },
   {
    "duration": 3,
    "start_time": "2023-04-07T23:32:22.603Z"
   },
   {
    "duration": 3,
    "start_time": "2023-04-07T23:32:28.629Z"
   },
   {
    "duration": 3,
    "start_time": "2023-04-07T23:32:35.380Z"
   },
   {
    "duration": 1333,
    "start_time": "2023-04-08T00:00:36.843Z"
   },
   {
    "duration": 642,
    "start_time": "2023-04-08T00:00:38.178Z"
   },
   {
    "duration": 19,
    "start_time": "2023-04-08T00:00:38.821Z"
   },
   {
    "duration": 16,
    "start_time": "2023-04-08T00:00:38.842Z"
   },
   {
    "duration": 27,
    "start_time": "2023-04-08T00:00:38.860Z"
   },
   {
    "duration": 26,
    "start_time": "2023-04-08T00:00:38.889Z"
   },
   {
    "duration": 32,
    "start_time": "2023-04-08T00:00:38.916Z"
   },
   {
    "duration": 30,
    "start_time": "2023-04-08T00:00:38.950Z"
   },
   {
    "duration": 5,
    "start_time": "2023-04-08T00:00:38.981Z"
   },
   {
    "duration": 21,
    "start_time": "2023-04-08T00:00:38.987Z"
   },
   {
    "duration": 27,
    "start_time": "2023-04-08T00:00:39.009Z"
   },
   {
    "duration": 49,
    "start_time": "2023-04-08T00:00:39.037Z"
   },
   {
    "duration": 21,
    "start_time": "2023-04-08T00:00:39.088Z"
   },
   {
    "duration": 17,
    "start_time": "2023-04-08T00:00:39.112Z"
   },
   {
    "duration": 9,
    "start_time": "2023-04-08T00:00:39.130Z"
   },
   {
    "duration": 74,
    "start_time": "2023-04-08T00:00:39.140Z"
   },
   {
    "duration": 16,
    "start_time": "2023-04-08T00:00:39.216Z"
   },
   {
    "duration": 23,
    "start_time": "2023-04-08T00:00:39.233Z"
   },
   {
    "duration": 13,
    "start_time": "2023-04-08T00:00:39.272Z"
   },
   {
    "duration": 28,
    "start_time": "2023-04-08T00:00:39.287Z"
   },
   {
    "duration": 36,
    "start_time": "2023-04-08T00:00:39.317Z"
   },
   {
    "duration": 27,
    "start_time": "2023-04-08T00:00:39.354Z"
   },
   {
    "duration": 126,
    "start_time": "2023-04-08T00:00:39.383Z"
   },
   {
    "duration": 94,
    "start_time": "2023-04-08T00:00:39.510Z"
   },
   {
    "duration": 968,
    "start_time": "2023-04-08T00:00:39.606Z"
   },
   {
    "duration": 741,
    "start_time": "2023-04-08T00:00:40.576Z"
   },
   {
    "duration": 807,
    "start_time": "2023-04-08T00:00:41.318Z"
   },
   {
    "duration": 1146,
    "start_time": "2023-04-08T00:00:42.126Z"
   },
   {
    "duration": 4,
    "start_time": "2023-04-08T00:00:43.273Z"
   },
   {
    "duration": 1297,
    "start_time": "2023-04-08T00:00:43.279Z"
   },
   {
    "duration": 25,
    "start_time": "2023-04-08T00:00:44.577Z"
   },
   {
    "duration": 6,
    "start_time": "2023-04-08T00:00:44.604Z"
   },
   {
    "duration": 23,
    "start_time": "2023-04-08T00:00:44.611Z"
   },
   {
    "duration": 33,
    "start_time": "2023-04-08T00:00:44.635Z"
   },
   {
    "duration": 37,
    "start_time": "2023-04-08T00:00:44.669Z"
   },
   {
    "duration": 23,
    "start_time": "2023-04-08T00:00:44.707Z"
   },
   {
    "duration": 22,
    "start_time": "2023-04-08T00:00:44.731Z"
   },
   {
    "duration": 17,
    "start_time": "2023-04-08T00:00:44.754Z"
   },
   {
    "duration": 2600,
    "start_time": "2023-04-08T00:00:44.772Z"
   },
   {
    "duration": 4,
    "start_time": "2023-04-08T00:00:47.376Z"
   },
   {
    "duration": 9591,
    "start_time": "2023-04-08T00:00:47.385Z"
   },
   {
    "duration": 94031,
    "start_time": "2023-04-08T00:00:56.977Z"
   },
   {
    "duration": 4,
    "start_time": "2023-04-08T00:02:31.010Z"
   },
   {
    "duration": 1370,
    "start_time": "2023-04-08T00:02:31.016Z"
   },
   {
    "duration": 0,
    "start_time": "2023-04-08T00:02:32.388Z"
   },
   {
    "duration": 2,
    "start_time": "2023-04-08T00:04:55.074Z"
   },
   {
    "duration": 3,
    "start_time": "2023-04-08T00:04:55.533Z"
   },
   {
    "duration": 3,
    "start_time": "2023-04-08T00:05:13.293Z"
   },
   {
    "duration": 2483,
    "start_time": "2023-04-08T00:06:09.992Z"
   },
   {
    "duration": 9063,
    "start_time": "2023-04-08T00:07:08.192Z"
   },
   {
    "duration": 95314,
    "start_time": "2023-04-08T00:08:25.642Z"
   },
   {
    "duration": 2434,
    "start_time": "2023-04-08T00:10:08.661Z"
   },
   {
    "duration": 4,
    "start_time": "2023-04-08T00:10:23.911Z"
   },
   {
    "duration": 1857,
    "start_time": "2023-04-08T12:43:48.633Z"
   },
   {
    "duration": 3179,
    "start_time": "2023-04-08T12:43:50.492Z"
   },
   {
    "duration": 29,
    "start_time": "2023-04-08T12:43:53.674Z"
   },
   {
    "duration": 35,
    "start_time": "2023-04-08T12:43:53.704Z"
   },
   {
    "duration": 30,
    "start_time": "2023-04-08T12:43:53.744Z"
   },
   {
    "duration": 25,
    "start_time": "2023-04-08T12:43:53.777Z"
   },
   {
    "duration": 39,
    "start_time": "2023-04-08T12:43:53.804Z"
   },
   {
    "duration": 34,
    "start_time": "2023-04-08T12:43:53.845Z"
   },
   {
    "duration": 7,
    "start_time": "2023-04-08T12:43:53.881Z"
   },
   {
    "duration": 11,
    "start_time": "2023-04-08T12:43:53.889Z"
   },
   {
    "duration": 6,
    "start_time": "2023-04-08T12:43:53.902Z"
   },
   {
    "duration": 20,
    "start_time": "2023-04-08T12:43:53.910Z"
   },
   {
    "duration": 10,
    "start_time": "2023-04-08T12:43:53.942Z"
   },
   {
    "duration": 12,
    "start_time": "2023-04-08T12:43:53.956Z"
   },
   {
    "duration": 13,
    "start_time": "2023-04-08T12:43:53.970Z"
   },
   {
    "duration": 79,
    "start_time": "2023-04-08T12:43:53.985Z"
   },
   {
    "duration": 18,
    "start_time": "2023-04-08T12:43:54.067Z"
   },
   {
    "duration": 24,
    "start_time": "2023-04-08T12:43:54.087Z"
   },
   {
    "duration": 40,
    "start_time": "2023-04-08T12:43:54.113Z"
   },
   {
    "duration": 13,
    "start_time": "2023-04-08T12:43:54.155Z"
   },
   {
    "duration": 24,
    "start_time": "2023-04-08T12:43:54.170Z"
   },
   {
    "duration": 54,
    "start_time": "2023-04-08T12:43:54.196Z"
   },
   {
    "duration": 153,
    "start_time": "2023-04-08T12:43:54.252Z"
   },
   {
    "duration": 117,
    "start_time": "2023-04-08T12:43:54.408Z"
   },
   {
    "duration": 1346,
    "start_time": "2023-04-08T12:43:54.527Z"
   },
   {
    "duration": 1065,
    "start_time": "2023-04-08T12:43:55.876Z"
   },
   {
    "duration": 1143,
    "start_time": "2023-04-08T12:43:56.943Z"
   },
   {
    "duration": 1506,
    "start_time": "2023-04-08T12:43:58.088Z"
   },
   {
    "duration": 7,
    "start_time": "2023-04-08T12:43:59.597Z"
   },
   {
    "duration": 1702,
    "start_time": "2023-04-08T12:43:59.607Z"
   },
   {
    "duration": 52,
    "start_time": "2023-04-08T12:44:01.312Z"
   },
   {
    "duration": 22,
    "start_time": "2023-04-08T12:44:01.366Z"
   },
   {
    "duration": 69,
    "start_time": "2023-04-08T12:44:01.390Z"
   },
   {
    "duration": 30,
    "start_time": "2023-04-08T12:44:01.461Z"
   },
   {
    "duration": 20,
    "start_time": "2023-04-08T12:44:01.494Z"
   },
   {
    "duration": 10,
    "start_time": "2023-04-08T12:44:01.516Z"
   },
   {
    "duration": 46,
    "start_time": "2023-04-08T12:44:01.528Z"
   },
   {
    "duration": 32,
    "start_time": "2023-04-08T12:44:01.576Z"
   },
   {
    "duration": 5434,
    "start_time": "2023-04-08T12:44:01.610Z"
   },
   {
    "duration": 6,
    "start_time": "2023-04-08T12:44:07.046Z"
   },
   {
    "duration": 8877,
    "start_time": "2023-04-08T12:44:07.057Z"
   },
   {
    "duration": 1628,
    "start_time": "2023-04-08T12:45:31.158Z"
   },
   {
    "duration": 687,
    "start_time": "2023-04-08T12:45:32.788Z"
   },
   {
    "duration": 27,
    "start_time": "2023-04-08T12:45:33.479Z"
   },
   {
    "duration": 18,
    "start_time": "2023-04-08T12:45:33.508Z"
   },
   {
    "duration": 31,
    "start_time": "2023-04-08T12:45:33.543Z"
   },
   {
    "duration": 17,
    "start_time": "2023-04-08T12:45:33.576Z"
   },
   {
    "duration": 20,
    "start_time": "2023-04-08T12:45:33.594Z"
   },
   {
    "duration": 41,
    "start_time": "2023-04-08T12:45:33.616Z"
   },
   {
    "duration": 7,
    "start_time": "2023-04-08T12:45:33.659Z"
   },
   {
    "duration": 13,
    "start_time": "2023-04-08T12:45:33.668Z"
   },
   {
    "duration": 10,
    "start_time": "2023-04-08T12:45:33.683Z"
   },
   {
    "duration": 17,
    "start_time": "2023-04-08T12:45:33.694Z"
   },
   {
    "duration": 28,
    "start_time": "2023-04-08T12:45:33.713Z"
   },
   {
    "duration": 6,
    "start_time": "2023-04-08T12:45:33.745Z"
   },
   {
    "duration": 16,
    "start_time": "2023-04-08T12:45:33.753Z"
   },
   {
    "duration": 77,
    "start_time": "2023-04-08T12:45:33.771Z"
   },
   {
    "duration": 21,
    "start_time": "2023-04-08T12:45:33.850Z"
   },
   {
    "duration": 37,
    "start_time": "2023-04-08T12:45:33.873Z"
   },
   {
    "duration": 32,
    "start_time": "2023-04-08T12:45:33.912Z"
   },
   {
    "duration": 13,
    "start_time": "2023-04-08T12:45:33.948Z"
   },
   {
    "duration": 21,
    "start_time": "2023-04-08T12:45:33.965Z"
   },
   {
    "duration": 24,
    "start_time": "2023-04-08T12:45:33.988Z"
   },
   {
    "duration": 155,
    "start_time": "2023-04-08T12:45:34.013Z"
   },
   {
    "duration": 106,
    "start_time": "2023-04-08T12:45:34.171Z"
   },
   {
    "duration": 1297,
    "start_time": "2023-04-08T12:45:34.279Z"
   },
   {
    "duration": 1139,
    "start_time": "2023-04-08T12:45:35.578Z"
   },
   {
    "duration": 1247,
    "start_time": "2023-04-08T12:45:36.719Z"
   },
   {
    "duration": 1565,
    "start_time": "2023-04-08T12:45:37.969Z"
   },
   {
    "duration": 13,
    "start_time": "2023-04-08T12:45:39.536Z"
   },
   {
    "duration": 1864,
    "start_time": "2023-04-08T12:45:39.554Z"
   },
   {
    "duration": 60,
    "start_time": "2023-04-08T12:45:41.421Z"
   },
   {
    "duration": 5,
    "start_time": "2023-04-08T12:45:41.483Z"
   },
   {
    "duration": 9,
    "start_time": "2023-04-08T12:45:41.490Z"
   },
   {
    "duration": 16,
    "start_time": "2023-04-08T12:45:41.501Z"
   },
   {
    "duration": 16,
    "start_time": "2023-04-08T12:45:41.520Z"
   },
   {
    "duration": 9,
    "start_time": "2023-04-08T12:45:41.538Z"
   },
   {
    "duration": 21,
    "start_time": "2023-04-08T12:45:41.549Z"
   },
   {
    "duration": 20,
    "start_time": "2023-04-08T12:45:41.572Z"
   },
   {
    "duration": 4371,
    "start_time": "2023-04-08T12:45:41.594Z"
   },
   {
    "duration": 74,
    "start_time": "2023-04-08T12:45:45.969Z"
   },
   {
    "duration": 9141,
    "start_time": "2023-04-08T12:45:46.049Z"
   },
   {
    "duration": 1494,
    "start_time": "2023-04-08T12:46:47.613Z"
   },
   {
    "duration": 680,
    "start_time": "2023-04-08T12:46:49.108Z"
   },
   {
    "duration": 24,
    "start_time": "2023-04-08T12:46:49.790Z"
   },
   {
    "duration": 36,
    "start_time": "2023-04-08T12:46:49.816Z"
   },
   {
    "duration": 21,
    "start_time": "2023-04-08T12:46:49.854Z"
   },
   {
    "duration": 22,
    "start_time": "2023-04-08T12:46:49.877Z"
   },
   {
    "duration": 21,
    "start_time": "2023-04-08T12:46:49.900Z"
   },
   {
    "duration": 20,
    "start_time": "2023-04-08T12:46:49.942Z"
   },
   {
    "duration": 6,
    "start_time": "2023-04-08T12:46:49.964Z"
   },
   {
    "duration": 8,
    "start_time": "2023-04-08T12:46:49.972Z"
   },
   {
    "duration": 5,
    "start_time": "2023-04-08T12:46:49.981Z"
   },
   {
    "duration": 19,
    "start_time": "2023-04-08T12:46:49.988Z"
   },
   {
    "duration": 36,
    "start_time": "2023-04-08T12:46:50.009Z"
   },
   {
    "duration": 29,
    "start_time": "2023-04-08T12:46:50.049Z"
   },
   {
    "duration": 14,
    "start_time": "2023-04-08T12:46:50.080Z"
   },
   {
    "duration": 99,
    "start_time": "2023-04-08T12:46:50.096Z"
   },
   {
    "duration": 17,
    "start_time": "2023-04-08T12:46:50.197Z"
   },
   {
    "duration": 40,
    "start_time": "2023-04-08T12:46:50.216Z"
   },
   {
    "duration": 19,
    "start_time": "2023-04-08T12:46:50.259Z"
   },
   {
    "duration": 11,
    "start_time": "2023-04-08T12:46:50.280Z"
   },
   {
    "duration": 53,
    "start_time": "2023-04-08T12:46:50.293Z"
   },
   {
    "duration": 32,
    "start_time": "2023-04-08T12:46:50.348Z"
   },
   {
    "duration": 164,
    "start_time": "2023-04-08T12:46:50.382Z"
   },
   {
    "duration": 124,
    "start_time": "2023-04-08T12:46:50.548Z"
   },
   {
    "duration": 1254,
    "start_time": "2023-04-08T12:46:50.674Z"
   },
   {
    "duration": 966,
    "start_time": "2023-04-08T12:46:51.929Z"
   },
   {
    "duration": 1148,
    "start_time": "2023-04-08T12:46:52.898Z"
   },
   {
    "duration": 1424,
    "start_time": "2023-04-08T12:46:54.048Z"
   },
   {
    "duration": 8,
    "start_time": "2023-04-08T12:46:55.474Z"
   },
   {
    "duration": 1749,
    "start_time": "2023-04-08T12:46:55.484Z"
   },
   {
    "duration": 41,
    "start_time": "2023-04-08T12:46:57.241Z"
   },
   {
    "duration": 5,
    "start_time": "2023-04-08T12:46:57.284Z"
   },
   {
    "duration": 15,
    "start_time": "2023-04-08T12:46:57.291Z"
   },
   {
    "duration": 27,
    "start_time": "2023-04-08T12:46:57.308Z"
   },
   {
    "duration": 14,
    "start_time": "2023-04-08T12:46:57.337Z"
   },
   {
    "duration": 7,
    "start_time": "2023-04-08T12:46:57.353Z"
   },
   {
    "duration": 11,
    "start_time": "2023-04-08T12:46:57.361Z"
   },
   {
    "duration": 12,
    "start_time": "2023-04-08T12:46:57.374Z"
   },
   {
    "duration": 2954,
    "start_time": "2023-04-08T12:46:57.388Z"
   },
   {
    "duration": 3,
    "start_time": "2023-04-08T12:47:00.344Z"
   },
   {
    "duration": 8447,
    "start_time": "2023-04-08T12:47:00.351Z"
   },
   {
    "duration": 90357,
    "start_time": "2023-04-08T12:47:08.800Z"
   },
   {
    "duration": 6,
    "start_time": "2023-04-08T12:48:39.158Z"
   },
   {
    "duration": 2606,
    "start_time": "2023-04-08T12:48:39.167Z"
   },
   {
    "duration": 4,
    "start_time": "2023-04-08T12:48:41.777Z"
   },
   {
    "duration": 1851,
    "start_time": "2023-04-08T13:24:05.887Z"
   },
   {
    "duration": 1155,
    "start_time": "2023-04-08T13:24:07.741Z"
   },
   {
    "duration": 61,
    "start_time": "2023-04-08T13:24:08.899Z"
   },
   {
    "duration": 33,
    "start_time": "2023-04-08T13:24:08.962Z"
   },
   {
    "duration": 22,
    "start_time": "2023-04-08T13:24:08.998Z"
   },
   {
    "duration": 35,
    "start_time": "2023-04-08T13:24:09.022Z"
   },
   {
    "duration": 28,
    "start_time": "2023-04-08T13:24:09.060Z"
   },
   {
    "duration": 28,
    "start_time": "2023-04-08T13:24:09.091Z"
   },
   {
    "duration": 24,
    "start_time": "2023-04-08T13:24:09.121Z"
   },
   {
    "duration": 10,
    "start_time": "2023-04-08T13:24:09.149Z"
   },
   {
    "duration": 21,
    "start_time": "2023-04-08T13:24:09.161Z"
   },
   {
    "duration": 29,
    "start_time": "2023-04-08T13:24:09.184Z"
   },
   {
    "duration": 26,
    "start_time": "2023-04-08T13:24:09.216Z"
   },
   {
    "duration": 8,
    "start_time": "2023-04-08T13:24:09.247Z"
   },
   {
    "duration": 24,
    "start_time": "2023-04-08T13:24:09.257Z"
   },
   {
    "duration": 130,
    "start_time": "2023-04-08T13:24:09.283Z"
   },
   {
    "duration": 21,
    "start_time": "2023-04-08T13:24:09.415Z"
   },
   {
    "duration": 35,
    "start_time": "2023-04-08T13:24:09.438Z"
   },
   {
    "duration": 27,
    "start_time": "2023-04-08T13:24:09.477Z"
   },
   {
    "duration": 16,
    "start_time": "2023-04-08T13:24:09.507Z"
   },
   {
    "duration": 25,
    "start_time": "2023-04-08T13:24:09.542Z"
   },
   {
    "duration": 51,
    "start_time": "2023-04-08T13:24:09.569Z"
   },
   {
    "duration": 145,
    "start_time": "2023-04-08T13:24:09.621Z"
   },
   {
    "duration": 146,
    "start_time": "2023-04-08T13:24:09.769Z"
   },
   {
    "duration": 1362,
    "start_time": "2023-04-08T13:24:09.917Z"
   },
   {
    "duration": 1060,
    "start_time": "2023-04-08T13:24:11.281Z"
   },
   {
    "duration": 1229,
    "start_time": "2023-04-08T13:24:12.344Z"
   },
   {
    "duration": 1538,
    "start_time": "2023-04-08T13:24:13.576Z"
   },
   {
    "duration": 7,
    "start_time": "2023-04-08T13:24:15.116Z"
   },
   {
    "duration": 1968,
    "start_time": "2023-04-08T13:24:15.125Z"
   },
   {
    "duration": 51,
    "start_time": "2023-04-08T13:24:17.094Z"
   },
   {
    "duration": 5,
    "start_time": "2023-04-08T13:24:17.149Z"
   },
   {
    "duration": 20,
    "start_time": "2023-04-08T13:24:17.156Z"
   },
   {
    "duration": 14,
    "start_time": "2023-04-08T13:24:17.179Z"
   },
   {
    "duration": 22,
    "start_time": "2023-04-08T13:24:17.195Z"
   },
   {
    "duration": 21,
    "start_time": "2023-04-08T13:24:17.222Z"
   },
   {
    "duration": 21,
    "start_time": "2023-04-08T13:24:17.245Z"
   },
   {
    "duration": 12,
    "start_time": "2023-04-08T13:24:17.278Z"
   },
   {
    "duration": 4959,
    "start_time": "2023-04-08T13:24:17.293Z"
   },
   {
    "duration": 82,
    "start_time": "2023-04-08T13:24:22.259Z"
   },
   {
    "duration": 9075,
    "start_time": "2023-04-08T13:24:22.346Z"
   },
   {
    "duration": 96107,
    "start_time": "2023-04-08T13:24:31.423Z"
   },
   {
    "duration": 13,
    "start_time": "2023-04-08T13:26:07.532Z"
   },
   {
    "duration": 2506,
    "start_time": "2023-04-08T13:26:07.547Z"
   },
   {
    "duration": 5,
    "start_time": "2023-04-08T13:26:10.055Z"
   },
   {
    "duration": 141,
    "start_time": "2023-04-08T13:35:22.451Z"
   },
   {
    "duration": 17,
    "start_time": "2023-04-08T13:36:23.768Z"
   },
   {
    "duration": 17,
    "start_time": "2023-04-08T13:36:47.564Z"
   },
   {
    "duration": 14,
    "start_time": "2023-04-08T13:36:55.475Z"
   },
   {
    "duration": 12,
    "start_time": "2023-04-08T13:37:08.219Z"
   },
   {
    "duration": 1495,
    "start_time": "2023-04-08T13:42:08.999Z"
   },
   {
    "duration": 720,
    "start_time": "2023-04-08T13:42:10.496Z"
   },
   {
    "duration": 35,
    "start_time": "2023-04-08T13:42:11.218Z"
   },
   {
    "duration": 22,
    "start_time": "2023-04-08T13:42:11.254Z"
   },
   {
    "duration": 33,
    "start_time": "2023-04-08T13:42:11.278Z"
   },
   {
    "duration": 15,
    "start_time": "2023-04-08T13:42:11.312Z"
   },
   {
    "duration": 21,
    "start_time": "2023-04-08T13:42:11.340Z"
   },
   {
    "duration": 24,
    "start_time": "2023-04-08T13:42:11.363Z"
   },
   {
    "duration": 29,
    "start_time": "2023-04-08T13:42:11.389Z"
   },
   {
    "duration": 89,
    "start_time": "2023-04-08T13:42:11.420Z"
   },
   {
    "duration": 51,
    "start_time": "2023-04-08T13:42:11.511Z"
   },
   {
    "duration": 65,
    "start_time": "2023-04-08T13:42:11.564Z"
   },
   {
    "duration": 36,
    "start_time": "2023-04-08T13:42:11.631Z"
   },
   {
    "duration": 13,
    "start_time": "2023-04-08T13:42:11.671Z"
   },
   {
    "duration": 25,
    "start_time": "2023-04-08T13:42:11.686Z"
   },
   {
    "duration": 74,
    "start_time": "2023-04-08T13:42:11.714Z"
   },
   {
    "duration": 17,
    "start_time": "2023-04-08T13:42:11.790Z"
   },
   {
    "duration": 37,
    "start_time": "2023-04-08T13:42:11.809Z"
   },
   {
    "duration": 17,
    "start_time": "2023-04-08T13:42:11.847Z"
   },
   {
    "duration": 15,
    "start_time": "2023-04-08T13:42:11.866Z"
   },
   {
    "duration": 23,
    "start_time": "2023-04-08T13:42:11.883Z"
   },
   {
    "duration": 60,
    "start_time": "2023-04-08T13:42:11.908Z"
   },
   {
    "duration": 175,
    "start_time": "2023-04-08T13:42:11.970Z"
   },
   {
    "duration": 154,
    "start_time": "2023-04-08T13:42:12.148Z"
   },
   {
    "duration": 1202,
    "start_time": "2023-04-08T13:42:12.304Z"
   },
   {
    "duration": 907,
    "start_time": "2023-04-08T13:42:13.508Z"
   },
   {
    "duration": 1094,
    "start_time": "2023-04-08T13:42:14.417Z"
   },
   {
    "duration": 1500,
    "start_time": "2023-04-08T13:42:15.513Z"
   },
   {
    "duration": 8,
    "start_time": "2023-04-08T13:42:17.014Z"
   },
   {
    "duration": 1601,
    "start_time": "2023-04-08T13:42:17.023Z"
   },
   {
    "duration": 45,
    "start_time": "2023-04-08T13:42:18.626Z"
   },
   {
    "duration": 4,
    "start_time": "2023-04-08T13:42:18.672Z"
   },
   {
    "duration": 12,
    "start_time": "2023-04-08T13:42:18.679Z"
   },
   {
    "duration": 17,
    "start_time": "2023-04-08T13:42:18.693Z"
   },
   {
    "duration": 22,
    "start_time": "2023-04-08T13:42:18.713Z"
   },
   {
    "duration": 7,
    "start_time": "2023-04-08T13:42:18.737Z"
   },
   {
    "duration": 14,
    "start_time": "2023-04-08T13:42:18.746Z"
   },
   {
    "duration": 13,
    "start_time": "2023-04-08T13:42:18.762Z"
   },
   {
    "duration": 2471,
    "start_time": "2023-04-08T13:42:18.777Z"
   },
   {
    "duration": 88,
    "start_time": "2023-04-08T13:42:21.254Z"
   },
   {
    "duration": 8587,
    "start_time": "2023-04-08T13:42:21.346Z"
   },
   {
    "duration": 88740,
    "start_time": "2023-04-08T13:42:29.942Z"
   },
   {
    "duration": 5,
    "start_time": "2023-04-08T13:43:58.684Z"
   },
   {
    "duration": 2343,
    "start_time": "2023-04-08T13:43:58.691Z"
   },
   {
    "duration": 5,
    "start_time": "2023-04-08T13:44:01.036Z"
   },
   {
    "duration": 77,
    "start_time": "2023-04-08T13:44:01.043Z"
   }
  ],
  "kernelspec": {
   "display_name": "Python 3 (ipykernel)",
   "language": "python",
   "name": "python3"
  },
  "language_info": {
   "codemirror_mode": {
    "name": "ipython",
    "version": 3
   },
   "file_extension": ".py",
   "mimetype": "text/x-python",
   "name": "python",
   "nbconvert_exporter": "python",
   "pygments_lexer": "ipython3",
   "version": "3.9.5"
  },
  "toc": {
   "base_numbering": 1,
   "nav_menu": {},
   "number_sections": true,
   "sideBar": true,
   "skip_h1_title": true,
   "title_cell": "Содержание",
   "title_sidebar": "Contents",
   "toc_cell": true,
   "toc_position": {
    "height": "calc(100% - 180px)",
    "left": "10px",
    "top": "150px",
    "width": "165px"
   },
   "toc_section_display": true,
   "toc_window_display": true
  }
 },
 "nbformat": 4,
 "nbformat_minor": 2
}
