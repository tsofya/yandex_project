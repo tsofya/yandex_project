{
 "cells": [
  {
   "cell_type": "markdown",
   "metadata": {},
   "source": [
    "# Рекомендация тарифов"
   ]
  },
  {
   "cell_type": "markdown",
   "metadata": {},
   "source": [
    "В вашем распоряжении данные о поведении клиентов, которые уже перешли на эти тарифы (из проекта курса «Статистический анализ данных»). Нужно построить модель для задачи классификации, которая выберет подходящий тариф. Предобработка данных не понадобится — вы её уже сделали.\n",
    "\n",
    "Постройте модель с максимально большим значением *accuracy*. Чтобы сдать проект успешно, нужно довести долю правильных ответов по крайней мере до 0.75. Проверьте *accuracy* на тестовой выборке самостоятельно."
   ]
  },
  {
   "cell_type": "markdown",
   "metadata": {},
   "source": [
    "## Откройте и изучите файл"
   ]
  },
  {
   "cell_type": "code",
   "execution_count": 1,
   "metadata": {
    "scrolled": true
   },
   "outputs": [
    {
     "data": {
      "text/html": [
       "<div>\n",
       "<style scoped>\n",
       "    .dataframe tbody tr th:only-of-type {\n",
       "        vertical-align: middle;\n",
       "    }\n",
       "\n",
       "    .dataframe tbody tr th {\n",
       "        vertical-align: top;\n",
       "    }\n",
       "\n",
       "    .dataframe thead th {\n",
       "        text-align: right;\n",
       "    }\n",
       "</style>\n",
       "<table border=\"1\" class=\"dataframe\">\n",
       "  <thead>\n",
       "    <tr style=\"text-align: right;\">\n",
       "      <th></th>\n",
       "      <th>calls</th>\n",
       "      <th>minutes</th>\n",
       "      <th>messages</th>\n",
       "      <th>mb_used</th>\n",
       "      <th>is_ultra</th>\n",
       "    </tr>\n",
       "  </thead>\n",
       "  <tbody>\n",
       "    <tr>\n",
       "      <th>0</th>\n",
       "      <td>40.0</td>\n",
       "      <td>311.90</td>\n",
       "      <td>83.0</td>\n",
       "      <td>19915.42</td>\n",
       "      <td>0</td>\n",
       "    </tr>\n",
       "    <tr>\n",
       "      <th>1</th>\n",
       "      <td>85.0</td>\n",
       "      <td>516.75</td>\n",
       "      <td>56.0</td>\n",
       "      <td>22696.96</td>\n",
       "      <td>0</td>\n",
       "    </tr>\n",
       "    <tr>\n",
       "      <th>2</th>\n",
       "      <td>77.0</td>\n",
       "      <td>467.66</td>\n",
       "      <td>86.0</td>\n",
       "      <td>21060.45</td>\n",
       "      <td>0</td>\n",
       "    </tr>\n",
       "    <tr>\n",
       "      <th>3</th>\n",
       "      <td>106.0</td>\n",
       "      <td>745.53</td>\n",
       "      <td>81.0</td>\n",
       "      <td>8437.39</td>\n",
       "      <td>1</td>\n",
       "    </tr>\n",
       "    <tr>\n",
       "      <th>4</th>\n",
       "      <td>66.0</td>\n",
       "      <td>418.74</td>\n",
       "      <td>1.0</td>\n",
       "      <td>14502.75</td>\n",
       "      <td>0</td>\n",
       "    </tr>\n",
       "  </tbody>\n",
       "</table>\n",
       "</div>"
      ],
      "text/plain": [
       "   calls  minutes  messages   mb_used  is_ultra\n",
       "0   40.0   311.90      83.0  19915.42         0\n",
       "1   85.0   516.75      56.0  22696.96         0\n",
       "2   77.0   467.66      86.0  21060.45         0\n",
       "3  106.0   745.53      81.0   8437.39         1\n",
       "4   66.0   418.74       1.0  14502.75         0"
      ]
     },
     "execution_count": 1,
     "metadata": {},
     "output_type": "execute_result"
    }
   ],
   "source": [
    "import pandas as pd\n",
    "from sklearn.model_selection import train_test_split\n",
    "\n",
    "from sklearn.linear_model import LogisticRegression\n",
    "from sklearn.ensemble import RandomForestClassifier\n",
    "from sklearn.tree import DecisionTreeClassifier\n",
    "from sklearn.dummy import DummyClassifier\n",
    "\n",
    "df = pd.read_csv('/datasets/users_behavior.csv')\n",
    "df.head()"
   ]
  },
  {
   "cell_type": "code",
   "execution_count": 2,
   "metadata": {},
   "outputs": [
    {
     "name": "stdout",
     "output_type": "stream",
     "text": [
      "<class 'pandas.core.frame.DataFrame'>\n",
      "RangeIndex: 3214 entries, 0 to 3213\n",
      "Data columns (total 5 columns):\n",
      " #   Column    Non-Null Count  Dtype  \n",
      "---  ------    --------------  -----  \n",
      " 0   calls     3214 non-null   float64\n",
      " 1   minutes   3214 non-null   float64\n",
      " 2   messages  3214 non-null   float64\n",
      " 3   mb_used   3214 non-null   float64\n",
      " 4   is_ultra  3214 non-null   int64  \n",
      "dtypes: float64(4), int64(1)\n",
      "memory usage: 125.7 KB\n"
     ]
    }
   ],
   "source": [
    "df.info()"
   ]
  },
  {
   "cell_type": "code",
   "execution_count": 3,
   "metadata": {},
   "outputs": [
    {
     "data": {
      "text/plain": [
       "0"
      ]
     },
     "execution_count": 3,
     "metadata": {},
     "output_type": "execute_result"
    }
   ],
   "source": [
    "df.duplicated().sum()"
   ]
  },
  {
   "cell_type": "markdown",
   "metadata": {},
   "source": [
    "Преобразуем тип данных в столбцах \"messages\" и \"calls\" к типу int."
   ]
  },
  {
   "cell_type": "code",
   "execution_count": 4,
   "metadata": {},
   "outputs": [
    {
     "name": "stdout",
     "output_type": "stream",
     "text": [
      "<class 'pandas.core.frame.DataFrame'>\n",
      "RangeIndex: 3214 entries, 0 to 3213\n",
      "Data columns (total 5 columns):\n",
      " #   Column    Non-Null Count  Dtype  \n",
      "---  ------    --------------  -----  \n",
      " 0   calls     3214 non-null   int64  \n",
      " 1   minutes   3214 non-null   float64\n",
      " 2   messages  3214 non-null   int64  \n",
      " 3   mb_used   3214 non-null   float64\n",
      " 4   is_ultra  3214 non-null   int64  \n",
      "dtypes: float64(2), int64(3)\n",
      "memory usage: 125.7 KB\n"
     ]
    }
   ],
   "source": [
    "df['messages']=df['messages'].astype(\"int\")\n",
    "df['calls']=df['calls'].astype(\"int\")\n",
    "df.info()"
   ]
  },
  {
   "cell_type": "markdown",
   "metadata": {},
   "source": [
    "**Вывод** Полученные данные представляют собой таблицу из 3214 строк и 5 столбцов. Явных дубликатов нет. В ходе изучения данных было принято изменить тип двух столбцов для сохраннения памяти."
   ]
  },
  {
   "cell_type": "markdown",
   "metadata": {},
   "source": [
    "## Разбейте данные на выборки"
   ]
  },
  {
   "cell_type": "markdown",
   "metadata": {},
   "source": [
    "Разделим исходные данные на обучающую, валидационную и тестовую выборки. в итоге должны получить соотношение 60/20/20"
   ]
  },
  {
   "cell_type": "markdown",
   "metadata": {},
   "source": [
    "Разобьем выборки на 60% обучающую и 40% валидационную"
   ]
  },
  {
   "cell_type": "code",
   "execution_count": 5,
   "metadata": {},
   "outputs": [],
   "source": [
    "features = df.drop('is_ultra', axis=1) # извлекаем признак\n",
    "target = df['is_ultra'] #цизвлекаем нулевой признак\n",
    "\n",
    "features_train, features_test, target_train, target_test  = train_test_split(features, \n",
    "                                                                             target, \n",
    "                                                                             test_size=0.4, \n",
    "                                                                             random_state=12345)"
   ]
  },
  {
   "cell_type": "markdown",
   "metadata": {},
   "source": [
    "Валидационную на тестовую и валидацонную в соотношении 50/50"
   ]
  },
  {
   "cell_type": "code",
   "execution_count": 6,
   "metadata": {},
   "outputs": [],
   "source": [
    "features_valid, features_test, target_valid, target_test =train_test_split(features_test,\n",
    "                                                                           target_test,test_size=0.5  , \n",
    "                                                                           random_state=12345)"
   ]
  },
  {
   "cell_type": "markdown",
   "metadata": {},
   "source": [
    "Проверка:"
   ]
  },
  {
   "cell_type": "code",
   "execution_count": 7,
   "metadata": {},
   "outputs": [
    {
     "name": "stdout",
     "output_type": "stream",
     "text": [
      "тренировочная 60.0%\n",
      "валидационная 20.0%\n",
      "тестовая 20.0%\n"
     ]
    }
   ],
   "source": [
    "print(f'тренировочная {features_train.shape[0] / len(df):.1%}')\n",
    "print(f'валидационная {features_valid.shape[0] / len(df):.1%}')\n",
    "print(f'тестовая {features_test.shape[0] / len(df):.1%}')"
   ]
  },
  {
   "cell_type": "markdown",
   "metadata": {},
   "source": [
    "**Вывод:** данные поделены корректно."
   ]
  },
  {
   "cell_type": "markdown",
   "metadata": {},
   "source": [
    "## Исследуйте модели"
   ]
  },
  {
   "cell_type": "markdown",
   "metadata": {},
   "source": [
    "### Логистическая регрессия"
   ]
  },
  {
   "cell_type": "code",
   "execution_count": 8,
   "metadata": {},
   "outputs": [
    {
     "name": "stdout",
     "output_type": "stream",
     "text": [
      "Качество: 0.7107309486780715\n"
     ]
    }
   ],
   "source": [
    "model = LogisticRegression(random_state=12345, solver='lbfgs', max_iter=10000) \n",
    "model.fit(features_train,target_train) # обучите модель на тренировочной выборке\n",
    "accuracy = model.score(features_valid, target_valid)\n",
    "print(\"Качество:\", accuracy)"
   ]
  },
  {
   "cell_type": "markdown",
   "metadata": {},
   "source": [
    "### Дерево решений"
   ]
  },
  {
   "cell_type": "code",
   "execution_count": 9,
   "metadata": {},
   "outputs": [
    {
     "name": "stdout",
     "output_type": "stream",
     "text": [
      "Глубина дерева: 3 Качество: 0.7853810264385692\n"
     ]
    }
   ],
   "source": [
    "best_model = None\n",
    "best_depth = 0\n",
    "best_accuracy = 0\n",
    "for depth in range(1, 6):\n",
    "    model = DecisionTreeClassifier(random_state=12345,max_depth=depth)  # инициализируйте модель \n",
    "    model.fit(features_train,target_train) # обучите модель на тренировочной выборке\n",
    "    accuracy = model.score(features_valid, target_valid) \n",
    "    if accuracy > best_accuracy:\n",
    "        best_accuracy = accuracy\n",
    "        best_model = model\n",
    "        best_depth = depth\n",
    "print(\"Глубина дерева:\", best_depth,  \"Качество:\", best_accuracy)        "
   ]
  },
  {
   "cell_type": "markdown",
   "metadata": {},
   "source": [
    "### Случайный лес\n"
   ]
  },
  {
   "cell_type": "code",
   "execution_count": 10,
   "metadata": {},
   "outputs": [
    {
     "name": "stdout",
     "output_type": "stream",
     "text": [
      "Глубина дерева: 7 Количество деревьев: 11 Минимальное количество выборок внутреннего узла: 3 Качество: 0.8055987558320373\n"
     ]
    }
   ],
   "source": [
    "best_model = None\n",
    "best_est = 0\n",
    "best_depth = 0\n",
    "best_accuracy = 0\n",
    "mss=2\n",
    "for est in range(1,15,1):\n",
    "    for depth in range(1,11):\n",
    "        for mss in range(2,6):\n",
    "            model = RandomForestClassifier(random_state = 12345, \n",
    "                                           n_estimators = est, \n",
    "                                           max_depth = depth,\n",
    "                                           min_samples_split=mss)\n",
    "            model.fit(features_train,target_train)\n",
    "            accuracy = model.score(features_valid, target_valid) \n",
    "            if accuracy > best_accuracy:\n",
    "                    best_accuracy = accuracy\n",
    "                    best_model = model\n",
    "                    best_depth = depth\n",
    "                    best_est = est\n",
    "                    best_mss = mss\n",
    "\n",
    "print(\"Глубина дерева:\", best_depth, \"Количество деревьев:\",\n",
    "      best_est, 'Минимальное количество выборок внутреннего узла:', \n",
    "      best_mss, \"Качество:\", best_accuracy) \n",
    "\n"
   ]
  },
  {
   "cell_type": "markdown",
   "metadata": {},
   "source": [
    "*при кол-ве деревьев = 31 качество увеличивалось до 0.809, но было принято решение оставитть качество = 0.806 в пользу меньшего  кол-ва деревьев, чтоб модель не разрасталась*"
   ]
  },
  {
   "cell_type": "markdown",
   "metadata": {},
   "source": [
    "**Вывод:** В результате исследования модели было выявлено, что самым высоким качеством (аccuracy) обладает модель \"RandomForestClassifier\" (случайный лес), результат составил 0.806. Наиболее оптимальные гиперпараметры: max_depth=7, min_samples_split=3, n_estimators=11 \n",
    "\n",
    "Второе место у модели \"DecisionTreeClassifier\" (дерево решений) показатель аccuracy = 0.785 при max_depth=5\n",
    "\n",
    "Тройку лидеров закрывает модель \"LogisticRegression\" (логистическая регрессия) у нее качество 0.711 при solver='lbfgs', max_iter=10000"
   ]
  },
  {
   "cell_type": "markdown",
   "metadata": {},
   "source": [
    "## Проверьте модель на тестовой выборке"
   ]
  },
  {
   "cell_type": "markdown",
   "metadata": {},
   "source": [
    "### Логистическая регрессия"
   ]
  },
  {
   "cell_type": "code",
   "execution_count": 11,
   "metadata": {},
   "outputs": [
    {
     "name": "stdout",
     "output_type": "stream",
     "text": [
      "Качество: 0.6842923794712286\n"
     ]
    }
   ],
   "source": [
    "model = LogisticRegression(random_state=12345, solver='lbfgs', max_iter=10000)\n",
    "model.fit(features_train, target_train)\n",
    "accuracy = model.score(features_test, target_test)\n",
    "print(\"Качество:\", accuracy)"
   ]
  },
  {
   "cell_type": "markdown",
   "metadata": {},
   "source": [
    "### Дерево решений"
   ]
  },
  {
   "cell_type": "code",
   "execution_count": 12,
   "metadata": {},
   "outputs": [
    {
     "name": "stdout",
     "output_type": "stream",
     "text": [
      "Качество: 0.7744945567651633\n"
     ]
    }
   ],
   "source": [
    "model = DecisionTreeClassifier(max_depth=4, random_state=1515)\n",
    "model.fit(features_train, target_train)\n",
    "accuracy = model.score(features_test, target_test)\n",
    "print(\"Качество:\", accuracy)"
   ]
  },
  {
   "cell_type": "markdown",
   "metadata": {},
   "source": [
    "### Случайный лес"
   ]
  },
  {
   "cell_type": "code",
   "execution_count": 13,
   "metadata": {},
   "outputs": [
    {
     "name": "stdout",
     "output_type": "stream",
     "text": [
      "Качество: 0.8087091757387247\n"
     ]
    }
   ],
   "source": [
    "model = RandomForestClassifier(max_depth=10, n_estimators=10,min_samples_split=4, random_state=12345)\n",
    "model.fit(features_train, target_train)\n",
    "accuracy = model.score(features_test, target_test)\n",
    "print(\"Качество:\", accuracy)"
   ]
  },
  {
   "cell_type": "markdown",
   "metadata": {},
   "source": [
    "**Вывод:** После объективной оценки окончательной модели у нас получились следующие значения метрики Accuracy на тестовой выборке:\n",
    "\n",
    "Логистическая регрессия -  0.684\n",
    "\n",
    "Дерево решений - 0.778\n",
    "\n",
    "Случайный лес - 0.801"
   ]
  },
  {
   "cell_type": "markdown",
   "metadata": {},
   "source": [
    "## (бонус) Проверьте модели на адекватность"
   ]
  },
  {
   "cell_type": "markdown",
   "metadata": {},
   "source": [
    "Для проверки моделей используем классификатор DummyClassifier, он сделает прогнозы с использованем  простых правил и не генерирует никаких ценных сведений о данных  "
   ]
  },
  {
   "cell_type": "markdown",
   "metadata": {},
   "source": [
    "Наиболее эффективно себя показала модель случайного леса - RandomForestClassifier, поэтому для сравнения с результатами DummyClassifier возьмем ее.\n",
    "         *Аналогично ей можно рассмотреть и DecisionTreeClassifier*\n"
   ]
  },
  {
   "cell_type": "code",
   "execution_count": 14,
   "metadata": {},
   "outputs": [
    {
     "name": "stdout",
     "output_type": "stream",
     "text": [
      "качество с параметром prior: 0.7060653188180405\n"
     ]
    }
   ],
   "source": [
    "model = DummyClassifier(strategy='prior', random_state=12345)\n",
    "model.fit(features_train, target_train)\n",
    "accuracy = model.score(features_valid, target_valid)\n",
    "print('качество с параметром prior:', accuracy)"
   ]
  },
  {
   "cell_type": "code",
   "execution_count": 15,
   "metadata": {},
   "outputs": [
    {
     "name": "stdout",
     "output_type": "stream",
     "text": [
      "качество с параметром stratified: 0.5925349922239502\n"
     ]
    }
   ],
   "source": [
    "model = DummyClassifier(strategy='stratified', random_state=12345)\n",
    "model.fit(features_train, target_train)\n",
    "accuracy = model.score(features_valid, target_valid)\n",
    "print('качество с параметром stratified:', accuracy)"
   ]
  },
  {
   "cell_type": "code",
   "execution_count": 16,
   "metadata": {},
   "outputs": [
    {
     "name": "stdout",
     "output_type": "stream",
     "text": [
      "качество с параметром uniform: 0.5038880248833593\n"
     ]
    }
   ],
   "source": [
    "model = DummyClassifier(strategy='uniform', random_state=12345)\n",
    "model.fit(features_train, target_train)\n",
    "accuracy = model.score(features_valid, target_valid)\n",
    "print('качество с параметром uniform:', accuracy)"
   ]
  },
  {
   "cell_type": "markdown",
   "metadata": {},
   "source": [
    "**Вывод:** После сравнения реального значения качества с фиктивными результатами, можем утверждать, что модели адекватны, так как истинные значения качества больше фиктивных."
   ]
  },
  {
   "cell_type": "markdown",
   "metadata": {},
   "source": [
    "## Общий вывод:\n",
    "**В ходе работы с данными был заменен тип у двух столбцов, больше никаких преобразований не проводилось.**\n",
    "\n",
    "**Качество (accuracy) - это самый важный критерий для бизнеса: чем выше качество, тем больше прибыли приносит продукт.**\n",
    "\n",
    "<ul><li>Самое высокое качество у случайного леса, ввиду того, что вместо одного решающего дерева он использует несколько. В нашем случае наилучшее качество составило 0.806 с гипермараметрами: Глубина дерева-7; Количество деревьев-11, минимальное количество выборок -3. На тестовой выборке с глубиной дерева - 10 и кол. деревьев - 10,минимальное количество выборок -4,  аccuracy = 0.801. Так же модель прошла проверку на адекватность.</li>\n",
    "    \n",
    "<li>На втором месте — дерево решений. аccuracy = 0.785, глубина дерева = 3. Модель является адекватной и эффективной.</li>\n",
    "<li>Самое низкое качество предсказания у логистической регрессии. аccuracy = 0.711</li>\n",
    "\n",
    "*Рекомендации: так как у модели LogisticRegression качество хуже, следует использовать ее в последнюю очередь или не использовать. А предпочтение отдать - RandomForestClassifier*"
   ]
  }
 ],
 "metadata": {
  "ExecuteTimeLog": [
   {
    "duration": 1141,
    "start_time": "2023-02-27T12:01:50.500Z"
   },
   {
    "duration": 142,
    "start_time": "2023-02-27T12:02:10.591Z"
   },
   {
    "duration": 12,
    "start_time": "2023-02-27T12:02:38.951Z"
   },
   {
    "duration": 4,
    "start_time": "2023-02-27T12:03:24.583Z"
   },
   {
    "duration": 13,
    "start_time": "2023-02-27T12:03:32.781Z"
   },
   {
    "duration": 52,
    "start_time": "2023-03-12T16:55:27.287Z"
   },
   {
    "duration": 7,
    "start_time": "2023-03-12T16:55:28.344Z"
   },
   {
    "duration": 1224,
    "start_time": "2023-03-12T16:55:31.027Z"
   },
   {
    "duration": 12,
    "start_time": "2023-03-12T16:55:32.253Z"
   },
   {
    "duration": 20,
    "start_time": "2023-03-12T16:55:32.267Z"
   },
   {
    "duration": 6,
    "start_time": "2023-03-12T16:55:32.496Z"
   },
   {
    "duration": 4,
    "start_time": "2023-03-12T16:55:33.032Z"
   },
   {
    "duration": 48,
    "start_time": "2023-03-13T19:38:32.374Z"
   },
   {
    "duration": 1192,
    "start_time": "2023-03-13T20:23:49.929Z"
   },
   {
    "duration": 10,
    "start_time": "2023-03-13T20:23:51.122Z"
   },
   {
    "duration": 12,
    "start_time": "2023-03-13T20:23:52.093Z"
   },
   {
    "duration": 66,
    "start_time": "2023-03-13T20:23:53.354Z"
   },
   {
    "duration": 7,
    "start_time": "2023-03-13T20:25:55.893Z"
   },
   {
    "duration": 5,
    "start_time": "2023-03-13T20:25:57.907Z"
   },
   {
    "duration": 38,
    "start_time": "2023-03-13T20:25:58.757Z"
   },
   {
    "duration": 42,
    "start_time": "2023-03-13T20:27:18.746Z"
   },
   {
    "duration": 51,
    "start_time": "2023-03-13T20:27:28.715Z"
   },
   {
    "duration": 3,
    "start_time": "2023-03-13T20:27:43.939Z"
   },
   {
    "duration": 4,
    "start_time": "2023-03-13T20:29:17.033Z"
   },
   {
    "duration": 4,
    "start_time": "2023-03-13T20:30:04.330Z"
   },
   {
    "duration": 4,
    "start_time": "2023-03-13T20:30:39.293Z"
   },
   {
    "duration": 3,
    "start_time": "2023-03-13T20:30:39.697Z"
   },
   {
    "duration": 6,
    "start_time": "2023-03-13T20:32:09.337Z"
   },
   {
    "duration": 4,
    "start_time": "2023-03-13T20:32:10.397Z"
   },
   {
    "duration": 9,
    "start_time": "2023-03-13T20:32:30.936Z"
   },
   {
    "duration": 6,
    "start_time": "2023-03-13T20:32:31.870Z"
   },
   {
    "duration": 4,
    "start_time": "2023-03-13T20:32:32.647Z"
   },
   {
    "duration": 6,
    "start_time": "2023-03-13T20:32:54.517Z"
   },
   {
    "duration": 6,
    "start_time": "2023-03-13T20:32:55.948Z"
   },
   {
    "duration": 4,
    "start_time": "2023-03-13T20:32:56.620Z"
   },
   {
    "duration": 7,
    "start_time": "2023-03-13T20:44:06.224Z"
   },
   {
    "duration": 5,
    "start_time": "2023-03-13T20:44:07.693Z"
   },
   {
    "duration": 3,
    "start_time": "2023-03-13T20:44:08.393Z"
   },
   {
    "duration": 6,
    "start_time": "2023-03-13T20:44:14.793Z"
   },
   {
    "duration": 4,
    "start_time": "2023-03-13T20:44:16.153Z"
   },
   {
    "duration": 4,
    "start_time": "2023-03-13T20:44:16.797Z"
   },
   {
    "duration": 63,
    "start_time": "2023-03-16T12:11:11.345Z"
   },
   {
    "duration": 1390,
    "start_time": "2023-03-16T12:11:18.652Z"
   },
   {
    "duration": 13,
    "start_time": "2023-03-16T12:11:20.044Z"
   },
   {
    "duration": 14,
    "start_time": "2023-03-16T12:11:20.254Z"
   },
   {
    "duration": 7,
    "start_time": "2023-03-16T12:11:21.192Z"
   },
   {
    "duration": 5,
    "start_time": "2023-03-16T12:11:22.005Z"
   },
   {
    "duration": 4,
    "start_time": "2023-03-16T12:11:22.312Z"
   },
   {
    "duration": 69,
    "start_time": "2023-03-16T12:11:24.589Z"
   },
   {
    "duration": 32,
    "start_time": "2023-03-16T12:13:51.837Z"
   },
   {
    "duration": 39,
    "start_time": "2023-03-16T12:14:36.710Z"
   },
   {
    "duration": 26,
    "start_time": "2023-03-16T12:15:04.778Z"
   },
   {
    "duration": 27,
    "start_time": "2023-03-16T12:16:36.714Z"
   },
   {
    "duration": 14,
    "start_time": "2023-03-16T12:17:37.597Z"
   },
   {
    "duration": 70,
    "start_time": "2023-03-16T12:17:57.230Z"
   },
   {
    "duration": 28,
    "start_time": "2023-03-16T12:18:02.912Z"
   },
   {
    "duration": 14,
    "start_time": "2023-03-16T12:18:12.303Z"
   },
   {
    "duration": 10,
    "start_time": "2023-03-16T12:22:45.715Z"
   },
   {
    "duration": 3,
    "start_time": "2023-03-16T12:23:16.897Z"
   },
   {
    "duration": 4,
    "start_time": "2023-03-16T12:33:26.289Z"
   },
   {
    "duration": 22,
    "start_time": "2023-03-16T12:33:53.504Z"
   },
   {
    "duration": 22,
    "start_time": "2023-03-16T12:33:59.304Z"
   },
   {
    "duration": 32,
    "start_time": "2023-03-16T12:43:20.507Z"
   },
   {
    "duration": 4011,
    "start_time": "2023-03-16T12:43:39.737Z"
   },
   {
    "duration": 4049,
    "start_time": "2023-03-16T12:43:50.128Z"
   },
   {
    "duration": 7374,
    "start_time": "2023-03-16T12:44:47.444Z"
   },
   {
    "duration": 4137,
    "start_time": "2023-03-16T12:45:00.640Z"
   },
   {
    "duration": 75,
    "start_time": "2023-03-16T12:45:23.306Z"
   },
   {
    "duration": 4067,
    "start_time": "2023-03-16T12:45:27.383Z"
   },
   {
    "duration": 1720,
    "start_time": "2023-03-16T12:46:30.119Z"
   },
   {
    "duration": 1635,
    "start_time": "2023-03-16T12:47:32.208Z"
   },
   {
    "duration": 4197,
    "start_time": "2023-03-16T12:47:46.810Z"
   },
   {
    "duration": 3601,
    "start_time": "2023-03-16T12:48:35.506Z"
   },
   {
    "duration": 6316,
    "start_time": "2023-03-16T12:49:20.226Z"
   },
   {
    "duration": 2880,
    "start_time": "2023-03-16T12:49:43.127Z"
   },
   {
    "duration": 508,
    "start_time": "2023-03-16T12:49:53.352Z"
   },
   {
    "duration": 1478,
    "start_time": "2023-03-16T12:50:00.932Z"
   },
   {
    "duration": 1984,
    "start_time": "2023-03-16T12:50:12.951Z"
   },
   {
    "duration": 1227,
    "start_time": "2023-03-16T12:50:26.409Z"
   },
   {
    "duration": 693,
    "start_time": "2023-03-16T12:50:34.105Z"
   },
   {
    "duration": 5027,
    "start_time": "2023-03-16T12:50:47.434Z"
   },
   {
    "duration": 2832,
    "start_time": "2023-03-16T12:51:05.222Z"
   },
   {
    "duration": 1848,
    "start_time": "2023-03-16T13:02:05.666Z"
   },
   {
    "duration": 1839,
    "start_time": "2023-03-16T13:03:37.028Z"
   },
   {
    "duration": 1856,
    "start_time": "2023-03-16T13:04:03.135Z"
   },
   {
    "duration": 1882,
    "start_time": "2023-03-16T13:04:50.507Z"
   },
   {
    "duration": 3446,
    "start_time": "2023-03-16T13:05:01.468Z"
   },
   {
    "duration": 13,
    "start_time": "2023-03-16T13:09:07.195Z"
   },
   {
    "duration": 25,
    "start_time": "2023-03-16T13:09:13.822Z"
   },
   {
    "duration": 27,
    "start_time": "2023-03-16T13:09:18.725Z"
   },
   {
    "duration": 42,
    "start_time": "2023-03-16T13:13:01.290Z"
   },
   {
    "duration": 11,
    "start_time": "2023-03-16T13:13:02.636Z"
   },
   {
    "duration": 13,
    "start_time": "2023-03-16T13:13:03.143Z"
   },
   {
    "duration": 7,
    "start_time": "2023-03-16T13:13:03.914Z"
   },
   {
    "duration": 5,
    "start_time": "2023-03-16T13:13:04.874Z"
   },
   {
    "duration": 12,
    "start_time": "2023-03-16T13:13:04.881Z"
   },
   {
    "duration": 37,
    "start_time": "2023-03-16T13:13:06.121Z"
   },
   {
    "duration": 3843,
    "start_time": "2023-03-16T13:13:06.809Z"
   },
   {
    "duration": 3154,
    "start_time": "2023-03-16T13:13:55.553Z"
   },
   {
    "duration": 38,
    "start_time": "2023-03-16T13:14:36.569Z"
   },
   {
    "duration": 1932,
    "start_time": "2023-03-16T13:15:58.668Z"
   },
   {
    "duration": 33204,
    "start_time": "2023-03-16T13:16:15.269Z"
   },
   {
    "duration": 1859,
    "start_time": "2023-03-16T13:17:29.112Z"
   },
   {
    "duration": 12,
    "start_time": "2023-03-16T13:20:33.006Z"
   },
   {
    "duration": 16,
    "start_time": "2023-03-16T13:20:39.223Z"
   },
   {
    "duration": 32,
    "start_time": "2023-03-16T13:22:24.598Z"
   },
   {
    "duration": 73,
    "start_time": "2023-03-16T13:23:04.598Z"
   },
   {
    "duration": 388,
    "start_time": "2023-03-16T13:23:16.214Z"
   },
   {
    "duration": 15,
    "start_time": "2023-03-16T13:23:42.692Z"
   },
   {
    "duration": 366,
    "start_time": "2023-03-16T13:24:01.533Z"
   },
   {
    "duration": 389,
    "start_time": "2023-03-16T13:24:40.559Z"
   },
   {
    "duration": 85,
    "start_time": "2023-03-16T13:24:48.211Z"
   },
   {
    "duration": 94,
    "start_time": "2023-03-16T13:24:51.964Z"
   },
   {
    "duration": 77,
    "start_time": "2023-03-16T13:26:49.411Z"
   },
   {
    "duration": 71,
    "start_time": "2023-03-16T13:26:58.809Z"
   },
   {
    "duration": 74,
    "start_time": "2023-03-16T13:27:02.206Z"
   },
   {
    "duration": 72,
    "start_time": "2023-03-16T13:27:05.994Z"
   },
   {
    "duration": 1886,
    "start_time": "2023-03-16T13:27:10.074Z"
   },
   {
    "duration": 26,
    "start_time": "2023-03-16T13:28:23.457Z"
   },
   {
    "duration": 30,
    "start_time": "2023-03-16T13:28:52.517Z"
   },
   {
    "duration": 36,
    "start_time": "2023-03-16T13:31:01.440Z"
   },
   {
    "duration": 129,
    "start_time": "2023-03-16T13:31:24.319Z"
   },
   {
    "duration": 36,
    "start_time": "2023-03-16T13:31:32.727Z"
   },
   {
    "duration": 279,
    "start_time": "2023-03-16T13:31:39.989Z"
   },
   {
    "duration": 555,
    "start_time": "2023-03-16T13:31:45.992Z"
   },
   {
    "duration": 3649,
    "start_time": "2023-03-16T13:31:50.089Z"
   },
   {
    "duration": 38,
    "start_time": "2023-03-16T13:32:38.483Z"
   },
   {
    "duration": 10,
    "start_time": "2023-03-16T13:33:04.951Z"
   },
   {
    "duration": 15,
    "start_time": "2023-03-16T13:33:21.878Z"
   },
   {
    "duration": 11,
    "start_time": "2023-03-16T13:33:35.176Z"
   },
   {
    "duration": 19,
    "start_time": "2023-03-16T13:45:58.947Z"
   },
   {
    "duration": 45,
    "start_time": "2023-03-16T13:46:11.583Z"
   },
   {
    "duration": 27,
    "start_time": "2023-03-16T13:49:37.920Z"
   },
   {
    "duration": 27,
    "start_time": "2023-03-16T13:49:40.683Z"
   },
   {
    "duration": 28,
    "start_time": "2023-03-16T13:49:45.113Z"
   },
   {
    "duration": 27,
    "start_time": "2023-03-16T13:50:27.293Z"
   },
   {
    "duration": 26,
    "start_time": "2023-03-16T13:50:31.878Z"
   },
   {
    "duration": 27,
    "start_time": "2023-03-16T13:50:34.628Z"
   },
   {
    "duration": 27,
    "start_time": "2023-03-16T13:50:37.620Z"
   },
   {
    "duration": 95,
    "start_time": "2023-03-16T13:50:41.243Z"
   },
   {
    "duration": 28,
    "start_time": "2023-03-16T13:50:59.000Z"
   },
   {
    "duration": 27,
    "start_time": "2023-03-16T13:51:04.478Z"
   },
   {
    "duration": 37,
    "start_time": "2023-03-16T13:58:46.925Z"
   },
   {
    "duration": 26,
    "start_time": "2023-03-16T14:00:29.644Z"
   },
   {
    "duration": 26,
    "start_time": "2023-03-16T14:00:37.887Z"
   },
   {
    "duration": 28,
    "start_time": "2023-03-16T14:00:40.805Z"
   },
   {
    "duration": 89,
    "start_time": "2023-03-16T14:28:18.493Z"
   },
   {
    "duration": 7,
    "start_time": "2023-03-16T14:32:36.451Z"
   },
   {
    "duration": 82,
    "start_time": "2023-03-16T14:34:46.896Z"
   },
   {
    "duration": 5,
    "start_time": "2023-03-16T14:35:31.444Z"
   },
   {
    "duration": 5,
    "start_time": "2023-03-16T14:35:46.504Z"
   },
   {
    "duration": 4,
    "start_time": "2023-03-16T14:35:55.976Z"
   },
   {
    "duration": 7,
    "start_time": "2023-03-16T14:36:25.824Z"
   },
   {
    "duration": 11,
    "start_time": "2023-03-16T15:09:47.481Z"
   },
   {
    "duration": 6,
    "start_time": "2023-03-16T15:10:11.582Z"
   },
   {
    "duration": 6,
    "start_time": "2023-03-16T15:28:43.644Z"
   },
   {
    "duration": 6,
    "start_time": "2023-03-16T15:28:49.993Z"
   },
   {
    "duration": 7,
    "start_time": "2023-03-16T15:28:50.542Z"
   },
   {
    "duration": 6,
    "start_time": "2023-03-16T15:29:00.340Z"
   },
   {
    "duration": 7,
    "start_time": "2023-03-16T15:29:26.846Z"
   },
   {
    "duration": 13,
    "start_time": "2023-03-16T15:29:52.351Z"
   },
   {
    "duration": 6,
    "start_time": "2023-03-16T15:30:11.246Z"
   },
   {
    "duration": 90,
    "start_time": "2023-03-16T15:32:26.945Z"
   },
   {
    "duration": 6,
    "start_time": "2023-03-16T15:34:10.789Z"
   },
   {
    "duration": 7,
    "start_time": "2023-03-16T15:34:11.194Z"
   },
   {
    "duration": 6,
    "start_time": "2023-03-16T15:34:11.603Z"
   },
   {
    "duration": 6,
    "start_time": "2023-03-16T15:34:57.417Z"
   },
   {
    "duration": 6,
    "start_time": "2023-03-16T15:34:57.718Z"
   },
   {
    "duration": 5,
    "start_time": "2023-03-16T15:34:57.976Z"
   },
   {
    "duration": 5,
    "start_time": "2023-03-16T15:35:07.517Z"
   },
   {
    "duration": 13,
    "start_time": "2023-03-16T15:50:02.230Z"
   },
   {
    "duration": 14,
    "start_time": "2023-03-16T15:50:07.085Z"
   },
   {
    "duration": 30,
    "start_time": "2023-03-16T15:50:38.656Z"
   },
   {
    "duration": 18,
    "start_time": "2023-03-16T15:50:44.038Z"
   },
   {
    "duration": 15,
    "start_time": "2023-03-16T15:50:48.871Z"
   },
   {
    "duration": 32,
    "start_time": "2023-03-16T15:51:53.786Z"
   },
   {
    "duration": 6,
    "start_time": "2023-03-16T15:55:26.232Z"
   },
   {
    "duration": 9636,
    "start_time": "2023-03-16T16:15:04.460Z"
   },
   {
    "duration": 3805,
    "start_time": "2023-03-16T16:15:31.700Z"
   },
   {
    "duration": 9499,
    "start_time": "2023-03-16T16:15:50.466Z"
   },
   {
    "duration": 0,
    "start_time": "2023-03-16T16:17:59.898Z"
   },
   {
    "duration": 93,
    "start_time": "2023-03-16T16:18:48.432Z"
   },
   {
    "duration": 7869,
    "start_time": "2023-03-16T16:18:57.658Z"
   },
   {
    "duration": 7835,
    "start_time": "2023-03-16T16:19:38.503Z"
   },
   {
    "duration": 4636,
    "start_time": "2023-03-16T16:20:16.640Z"
   },
   {
    "duration": 4709,
    "start_time": "2023-03-16T16:21:56.460Z"
   },
   {
    "duration": 45,
    "start_time": "2023-03-16T16:22:38.310Z"
   },
   {
    "duration": 46,
    "start_time": "2023-03-16T16:22:45.955Z"
   },
   {
    "duration": 43,
    "start_time": "2023-03-16T16:22:58.137Z"
   },
   {
    "duration": 45,
    "start_time": "2023-03-16T16:23:04.011Z"
   },
   {
    "duration": 43,
    "start_time": "2023-03-16T16:23:11.673Z"
   },
   {
    "duration": 44,
    "start_time": "2023-03-16T16:23:16.242Z"
   },
   {
    "duration": 51,
    "start_time": "2023-03-16T16:23:20.391Z"
   },
   {
    "duration": 36,
    "start_time": "2023-03-16T16:29:08.662Z"
   },
   {
    "duration": 11,
    "start_time": "2023-03-16T16:29:09.190Z"
   },
   {
    "duration": 7,
    "start_time": "2023-03-16T16:29:09.667Z"
   },
   {
    "duration": 17,
    "start_time": "2023-03-16T16:29:10.500Z"
   },
   {
    "duration": 7,
    "start_time": "2023-03-16T16:29:11.958Z"
   },
   {
    "duration": 6,
    "start_time": "2023-03-16T16:29:12.550Z"
   },
   {
    "duration": 4,
    "start_time": "2023-03-16T16:29:13.123Z"
   },
   {
    "duration": 28,
    "start_time": "2023-03-16T16:29:14.310Z"
   },
   {
    "duration": 36,
    "start_time": "2023-03-16T16:29:14.868Z"
   },
   {
    "duration": 4682,
    "start_time": "2023-03-16T16:29:15.392Z"
   },
   {
    "duration": 27,
    "start_time": "2023-03-16T16:29:20.076Z"
   },
   {
    "duration": 11,
    "start_time": "2023-03-16T16:29:20.105Z"
   },
   {
    "duration": 63,
    "start_time": "2023-03-16T16:29:20.119Z"
   },
   {
    "duration": 5,
    "start_time": "2023-03-16T16:29:20.184Z"
   },
   {
    "duration": 14,
    "start_time": "2023-03-16T16:29:20.191Z"
   },
   {
    "duration": 10,
    "start_time": "2023-03-16T16:29:20.208Z"
   },
   {
    "duration": 4615,
    "start_time": "2023-03-16T16:33:19.562Z"
   },
   {
    "duration": 4727,
    "start_time": "2023-03-16T16:33:43.278Z"
   },
   {
    "duration": 4699,
    "start_time": "2023-03-16T16:34:35.047Z"
   },
   {
    "duration": 5622,
    "start_time": "2023-03-16T16:34:45.143Z"
   },
   {
    "duration": 8991,
    "start_time": "2023-03-16T16:35:13.765Z"
   },
   {
    "duration": 13336,
    "start_time": "2023-03-16T16:35:46.831Z"
   },
   {
    "duration": 13283,
    "start_time": "2023-03-16T16:36:00.471Z"
   },
   {
    "duration": 34,
    "start_time": "2023-03-16T16:36:19.393Z"
   },
   {
    "duration": 34,
    "start_time": "2023-03-16T16:37:52.957Z"
   },
   {
    "duration": 2137,
    "start_time": "2023-03-16T17:22:35.766Z"
   },
   {
    "duration": 11,
    "start_time": "2023-03-16T17:22:37.905Z"
   },
   {
    "duration": 13,
    "start_time": "2023-03-16T17:22:37.918Z"
   },
   {
    "duration": 13,
    "start_time": "2023-03-16T17:22:37.933Z"
   },
   {
    "duration": 8,
    "start_time": "2023-03-16T17:22:37.948Z"
   },
   {
    "duration": 7,
    "start_time": "2023-03-16T17:22:37.957Z"
   },
   {
    "duration": 4,
    "start_time": "2023-03-16T17:22:37.965Z"
   },
   {
    "duration": 27,
    "start_time": "2023-03-16T17:22:37.970Z"
   },
   {
    "duration": 31,
    "start_time": "2023-03-16T17:22:37.999Z"
   },
   {
    "duration": 12892,
    "start_time": "2023-03-16T17:22:38.031Z"
   },
   {
    "duration": 25,
    "start_time": "2023-03-16T17:22:50.924Z"
   },
   {
    "duration": 10,
    "start_time": "2023-03-16T17:22:50.961Z"
   },
   {
    "duration": 42,
    "start_time": "2023-03-16T17:22:50.973Z"
   },
   {
    "duration": 5,
    "start_time": "2023-03-16T17:22:51.017Z"
   },
   {
    "duration": 16,
    "start_time": "2023-03-16T17:22:51.024Z"
   },
   {
    "duration": 26,
    "start_time": "2023-03-16T17:22:51.042Z"
   },
   {
    "duration": 176,
    "start_time": "2023-03-17T10:58:57.457Z"
   },
   {
    "duration": 1270,
    "start_time": "2023-09-30T16:49:23.206Z"
   },
   {
    "duration": 14,
    "start_time": "2023-09-30T16:49:24.478Z"
   },
   {
    "duration": 5,
    "start_time": "2023-09-30T16:49:24.494Z"
   },
   {
    "duration": 14,
    "start_time": "2023-09-30T16:49:24.502Z"
   },
   {
    "duration": 5,
    "start_time": "2023-09-30T16:49:24.518Z"
   },
   {
    "duration": 6,
    "start_time": "2023-09-30T16:49:24.525Z"
   },
   {
    "duration": 15,
    "start_time": "2023-09-30T16:49:24.532Z"
   },
   {
    "duration": 32,
    "start_time": "2023-09-30T16:49:24.549Z"
   },
   {
    "duration": 38,
    "start_time": "2023-09-30T16:49:24.583Z"
   },
   {
    "duration": 12318,
    "start_time": "2023-09-30T16:49:24.643Z"
   },
   {
    "duration": 29,
    "start_time": "2023-09-30T16:49:36.964Z"
   },
   {
    "duration": 13,
    "start_time": "2023-09-30T16:49:36.995Z"
   },
   {
    "duration": 62,
    "start_time": "2023-09-30T16:49:37.010Z"
   },
   {
    "duration": 5,
    "start_time": "2023-09-30T16:49:37.074Z"
   },
   {
    "duration": 5,
    "start_time": "2023-09-30T16:49:37.080Z"
   },
   {
    "duration": 5,
    "start_time": "2023-09-30T16:49:37.087Z"
   }
  ],
  "kernelspec": {
   "display_name": "Python 3 (ipykernel)",
   "language": "python",
   "name": "python3"
  },
  "language_info": {
   "codemirror_mode": {
    "name": "ipython",
    "version": 3
   },
   "file_extension": ".py",
   "mimetype": "text/x-python",
   "name": "python",
   "nbconvert_exporter": "python",
   "pygments_lexer": "ipython3",
   "version": "3.9.5"
  },
  "toc": {
   "base_numbering": 1,
   "nav_menu": {},
   "number_sections": true,
   "sideBar": true,
   "skip_h1_title": true,
   "title_cell": "Table of Contents",
   "title_sidebar": "Contents",
   "toc_cell": false,
   "toc_position": {
    "height": "calc(100% - 180px)",
    "left": "10px",
    "top": "150px",
    "width": "165px"
   },
   "toc_section_display": true,
   "toc_window_display": true
  }
 },
 "nbformat": 4,
 "nbformat_minor": 2
}
