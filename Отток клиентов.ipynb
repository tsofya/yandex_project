{
 "cells": [
  {
   "cell_type": "markdown",
   "metadata": {},
   "source": [
    "Привет, меня зовут Артем Хуршудов. Сегодня я проверю твой проект.\n",
    "<br> Дальнейшее общение будет происходить на \"ты\" если это не вызывает никаких проблем.\n",
    "<br> Желательно реагировать на каждый мой комментарий ('исправил', 'не понятно как исправить ошибку', ...)\n",
    "<br> Пожалуйста, не удаляй комментарии ревьюера, так как они повышают качество повторного ревью.\n",
    "\n",
    "Комментарии будут в <font color='green'>зеленой</font>, <font color='blue'>синей</font> или <font color='red'>красной</font> рамках:\n",
    "\n",
    "<div class=\"alert alert-block alert-success\">\n",
    "<b>Успех:</b> Если все сделано отлично\n",
    "</div>\n",
    "\n",
    "<div class=\"alert alert-block alert-info\">\n",
    "<b>Совет: </b> Если можно немного улучшить\n",
    "</div>\n",
    "\n",
    "<div class=\"alert alert-block alert-danger\">\n",
    "<b>Ошибка:</b> Если требуются исправления. Работа не может быть принята с красными комментариями.\n",
    "</div>\n",
    "\n",
    "-------------------\n",
    "\n",
    "Будет очень хорошо, если ты будешь помечать свои действия следующим образом:\n",
    "<div class=\"alert alert-block alert-warning\">\n",
    "<b>Комментарий студента:</b> ...\n",
    "</div>\n",
    "\n",
    "<div class=\"alert alert-block alert-warning\">\n",
    "<b>Изменения:</b> Были внесены следующие изменения ...\n",
    "</div>\n",
    "\n",
    "### <font color='orange'>Общее впечатление</font>\n",
    "* Большое спасибо за проделанную работу. Видно, что приложено много усилий.\n",
    "* Выводы и рассуждения получились содержательными, их было интересно читать.\n",
    "* Радует, что тебе удалось разобраться с техникой бутстрапа.\n",
    "* Отлично, что доверительный интервал и риск убытков посчитаны верно.\n",
    "* Я оставил несколько советов, надеюсь, что они будут учтены в будущих проектах.\n",
    "* Редко, кто сдает эту работу с первого раза, молодец!\n",
    "* Проект может быть зачтен, но я его отправлю назад, чтобы у тебя была возможность задать вопросы и внести правки, при желании. Однако, ты можешь просто вернуть проект в таком же виде и я его зачту."
   ]
  },
  {
   "cell_type": "markdown",
   "metadata": {},
   "source": [
    "### <font color='orange'>Общее впечатление (ревью 2)</font>\n",
    "* Проект зачтен!\n",
    "* Удачи в дальнейшем обучении и следующих работах!"
   ]
  },
  {
   "cell_type": "markdown",
   "metadata": {},
   "source": [
    "# Выбор локации для скважины"
   ]
  },
  {
   "cell_type": "markdown",
   "metadata": {},
   "source": [
    "Допустим, вы работаете в добывающей компании «ГлавРосГосНефть». Нужно решить, где бурить новую скважину.\n",
    "\n",
    "Вам предоставлены пробы нефти в трёх регионах: в каждом 10 000 месторождений, где измерили качество нефти и объём её запасов. Постройте модель машинного обучения, которая поможет определить регион, где добыча принесёт наибольшую прибыль. Проанализируйте возможную прибыль и риски техникой *Bootstrap.*\n",
    "\n",
    "Шаги для выбора локации:\n",
    "\n",
    "- В избранном регионе ищут месторождения, для каждого определяют значения признаков;\n",
    "- Строят модель и оценивают объём запасов;\n",
    "- Выбирают месторождения с самым высокими оценками значений. Количество месторождений зависит от бюджета компании и стоимости разработки одной скважины;\n",
    "- Прибыль равна суммарной прибыли отобранных месторождений."
   ]
  },
  {
   "cell_type": "markdown",
   "metadata": {},
   "source": [
    "## 1 Загрузка и подготовка данных"
   ]
  },
  {
   "cell_type": "code",
   "execution_count": 1,
   "metadata": {},
   "outputs": [],
   "source": [
    "import pandas as pd\n",
    "from sklearn.model_selection import train_test_split\n",
    "from sklearn.linear_model import LinearRegression\n",
    "\n",
    "import numpy as np\n",
    "from sklearn.metrics import mean_squared_error\n",
    "import matplotlib.pyplot as plt"
   ]
  },
  {
   "cell_type": "markdown",
   "metadata": {},
   "source": [
    "<div class=\"alert alert-block alert-success\">\n",
    "<b>Успех:</b> Отлично, что все импорты собраны в первой ячейке ноутбука! Если у того, кто будет запускать твой ноутбук будут отсутствовать некоторые библиотеки, то он это увидит сразу, а не в процессе!\n",
    "</div>"
   ]
  },
  {
   "cell_type": "code",
   "execution_count": 2,
   "metadata": {},
   "outputs": [],
   "source": [
    "data_0 = pd.read_csv('/datasets/geo_data_0.csv')\n",
    "data_1 = pd.read_csv('/datasets/geo_data_1.csv')\n",
    "data_2 = pd.read_csv('/datasets/geo_data_2.csv')"
   ]
  },
  {
   "cell_type": "markdown",
   "metadata": {},
   "source": [
    "Так как у нас три региона(три датасета) рассмотрим и обработаем каждый в отдельности."
   ]
  },
  {
   "cell_type": "markdown",
   "metadata": {},
   "source": [
    "### Регион №1"
   ]
  },
  {
   "cell_type": "code",
   "execution_count": 3,
   "metadata": {},
   "outputs": [
    {
     "data": {
      "text/html": [
       "<div>\n",
       "<style scoped>\n",
       "    .dataframe tbody tr th:only-of-type {\n",
       "        vertical-align: middle;\n",
       "    }\n",
       "\n",
       "    .dataframe tbody tr th {\n",
       "        vertical-align: top;\n",
       "    }\n",
       "\n",
       "    .dataframe thead th {\n",
       "        text-align: right;\n",
       "    }\n",
       "</style>\n",
       "<table border=\"1\" class=\"dataframe\">\n",
       "  <thead>\n",
       "    <tr style=\"text-align: right;\">\n",
       "      <th></th>\n",
       "      <th>id</th>\n",
       "      <th>f0</th>\n",
       "      <th>f1</th>\n",
       "      <th>f2</th>\n",
       "      <th>product</th>\n",
       "    </tr>\n",
       "  </thead>\n",
       "  <tbody>\n",
       "    <tr>\n",
       "      <th>0</th>\n",
       "      <td>txEyH</td>\n",
       "      <td>0.705745</td>\n",
       "      <td>-0.497823</td>\n",
       "      <td>1.221170</td>\n",
       "      <td>105.280062</td>\n",
       "    </tr>\n",
       "    <tr>\n",
       "      <th>1</th>\n",
       "      <td>2acmU</td>\n",
       "      <td>1.334711</td>\n",
       "      <td>-0.340164</td>\n",
       "      <td>4.365080</td>\n",
       "      <td>73.037750</td>\n",
       "    </tr>\n",
       "    <tr>\n",
       "      <th>2</th>\n",
       "      <td>409Wp</td>\n",
       "      <td>1.022732</td>\n",
       "      <td>0.151990</td>\n",
       "      <td>1.419926</td>\n",
       "      <td>85.265647</td>\n",
       "    </tr>\n",
       "    <tr>\n",
       "      <th>3</th>\n",
       "      <td>iJLyR</td>\n",
       "      <td>-0.032172</td>\n",
       "      <td>0.139033</td>\n",
       "      <td>2.978566</td>\n",
       "      <td>168.620776</td>\n",
       "    </tr>\n",
       "    <tr>\n",
       "      <th>4</th>\n",
       "      <td>Xdl7t</td>\n",
       "      <td>1.988431</td>\n",
       "      <td>0.155413</td>\n",
       "      <td>4.751769</td>\n",
       "      <td>154.036647</td>\n",
       "    </tr>\n",
       "  </tbody>\n",
       "</table>\n",
       "</div>"
      ],
      "text/plain": [
       "      id        f0        f1        f2     product\n",
       "0  txEyH  0.705745 -0.497823  1.221170  105.280062\n",
       "1  2acmU  1.334711 -0.340164  4.365080   73.037750\n",
       "2  409Wp  1.022732  0.151990  1.419926   85.265647\n",
       "3  iJLyR -0.032172  0.139033  2.978566  168.620776\n",
       "4  Xdl7t  1.988431  0.155413  4.751769  154.036647"
      ]
     },
     "execution_count": 3,
     "metadata": {},
     "output_type": "execute_result"
    }
   ],
   "source": [
    "data_0.head()"
   ]
  },
  {
   "cell_type": "code",
   "execution_count": 4,
   "metadata": {},
   "outputs": [
    {
     "name": "stdout",
     "output_type": "stream",
     "text": [
      "<class 'pandas.core.frame.DataFrame'>\n",
      "RangeIndex: 100000 entries, 0 to 99999\n",
      "Data columns (total 5 columns):\n",
      " #   Column   Non-Null Count   Dtype  \n",
      "---  ------   --------------   -----  \n",
      " 0   id       100000 non-null  object \n",
      " 1   f0       100000 non-null  float64\n",
      " 2   f1       100000 non-null  float64\n",
      " 3   f2       100000 non-null  float64\n",
      " 4   product  100000 non-null  float64\n",
      "dtypes: float64(4), object(1)\n",
      "memory usage: 3.8+ MB\n"
     ]
    }
   ],
   "source": [
    "data_0.info()"
   ]
  },
  {
   "cell_type": "code",
   "execution_count": 5,
   "metadata": {},
   "outputs": [
    {
     "data": {
      "text/html": [
       "<div>\n",
       "<style scoped>\n",
       "    .dataframe tbody tr th:only-of-type {\n",
       "        vertical-align: middle;\n",
       "    }\n",
       "\n",
       "    .dataframe tbody tr th {\n",
       "        vertical-align: top;\n",
       "    }\n",
       "\n",
       "    .dataframe thead th {\n",
       "        text-align: right;\n",
       "    }\n",
       "</style>\n",
       "<table border=\"1\" class=\"dataframe\">\n",
       "  <thead>\n",
       "    <tr style=\"text-align: right;\">\n",
       "      <th></th>\n",
       "      <th>f0</th>\n",
       "      <th>f1</th>\n",
       "      <th>f2</th>\n",
       "      <th>product</th>\n",
       "    </tr>\n",
       "  </thead>\n",
       "  <tbody>\n",
       "    <tr>\n",
       "      <th>count</th>\n",
       "      <td>100000.000000</td>\n",
       "      <td>100000.000000</td>\n",
       "      <td>100000.000000</td>\n",
       "      <td>100000.000000</td>\n",
       "    </tr>\n",
       "    <tr>\n",
       "      <th>mean</th>\n",
       "      <td>0.500419</td>\n",
       "      <td>0.250143</td>\n",
       "      <td>2.502647</td>\n",
       "      <td>92.500000</td>\n",
       "    </tr>\n",
       "    <tr>\n",
       "      <th>std</th>\n",
       "      <td>0.871832</td>\n",
       "      <td>0.504433</td>\n",
       "      <td>3.248248</td>\n",
       "      <td>44.288691</td>\n",
       "    </tr>\n",
       "    <tr>\n",
       "      <th>min</th>\n",
       "      <td>-1.408605</td>\n",
       "      <td>-0.848218</td>\n",
       "      <td>-12.088328</td>\n",
       "      <td>0.000000</td>\n",
       "    </tr>\n",
       "    <tr>\n",
       "      <th>25%</th>\n",
       "      <td>-0.072580</td>\n",
       "      <td>-0.200881</td>\n",
       "      <td>0.287748</td>\n",
       "      <td>56.497507</td>\n",
       "    </tr>\n",
       "    <tr>\n",
       "      <th>50%</th>\n",
       "      <td>0.502360</td>\n",
       "      <td>0.250252</td>\n",
       "      <td>2.515969</td>\n",
       "      <td>91.849972</td>\n",
       "    </tr>\n",
       "    <tr>\n",
       "      <th>75%</th>\n",
       "      <td>1.073581</td>\n",
       "      <td>0.700646</td>\n",
       "      <td>4.715088</td>\n",
       "      <td>128.564089</td>\n",
       "    </tr>\n",
       "    <tr>\n",
       "      <th>max</th>\n",
       "      <td>2.362331</td>\n",
       "      <td>1.343769</td>\n",
       "      <td>16.003790</td>\n",
       "      <td>185.364347</td>\n",
       "    </tr>\n",
       "  </tbody>\n",
       "</table>\n",
       "</div>"
      ],
      "text/plain": [
       "                  f0             f1             f2        product\n",
       "count  100000.000000  100000.000000  100000.000000  100000.000000\n",
       "mean        0.500419       0.250143       2.502647      92.500000\n",
       "std         0.871832       0.504433       3.248248      44.288691\n",
       "min        -1.408605      -0.848218     -12.088328       0.000000\n",
       "25%        -0.072580      -0.200881       0.287748      56.497507\n",
       "50%         0.502360       0.250252       2.515969      91.849972\n",
       "75%         1.073581       0.700646       4.715088     128.564089\n",
       "max         2.362331       1.343769      16.003790     185.364347"
      ]
     },
     "execution_count": 5,
     "metadata": {},
     "output_type": "execute_result"
    }
   ],
   "source": [
    "data_0.describe()"
   ]
  },
  {
   "cell_type": "code",
   "execution_count": 6,
   "metadata": {},
   "outputs": [
    {
     "data": {
      "text/plain": [
       "0"
      ]
     },
     "execution_count": 6,
     "metadata": {},
     "output_type": "execute_result"
    }
   ],
   "source": [
    "data_0.duplicated().sum()"
   ]
  },
  {
   "cell_type": "code",
   "execution_count": 7,
   "metadata": {},
   "outputs": [
    {
     "data": {
      "image/png": "[encoded data removed]",
      "text/plain": [
       "<Figure size 432x288 with 4 Axes>"
      ]
     },
     "metadata": {
      "needs_background": "light"
     },
     "output_type": "display_data"
    }
   ],
   "source": [
    "data_0.hist();"
   ]
  },
  {
   "cell_type": "markdown",
   "metadata": {},
   "source": [
    "**В данных нет пропусков и дубликатов. Гистограммы показали, что в столбцах нет выбросов и все данные однородные, или подчинены нормальному распределению**"
   ]
  },
  {
   "cell_type": "markdown",
   "metadata": {},
   "source": [
    "### Регион №2"
   ]
  },
  {
   "cell_type": "code",
   "execution_count": 8,
   "metadata": {},
   "outputs": [
    {
     "data": {
      "text/html": [
       "<div>\n",
       "<style scoped>\n",
       "    .dataframe tbody tr th:only-of-type {\n",
       "        vertical-align: middle;\n",
       "    }\n",
       "\n",
       "    .dataframe tbody tr th {\n",
       "        vertical-align: top;\n",
       "    }\n",
       "\n",
       "    .dataframe thead th {\n",
       "        text-align: right;\n",
       "    }\n",
       "</style>\n",
       "<table border=\"1\" class=\"dataframe\">\n",
       "  <thead>\n",
       "    <tr style=\"text-align: right;\">\n",
       "      <th></th>\n",
       "      <th>id</th>\n",
       "      <th>f0</th>\n",
       "      <th>f1</th>\n",
       "      <th>f2</th>\n",
       "      <th>product</th>\n",
       "    </tr>\n",
       "  </thead>\n",
       "  <tbody>\n",
       "    <tr>\n",
       "      <th>0</th>\n",
       "      <td>kBEdx</td>\n",
       "      <td>-15.001348</td>\n",
       "      <td>-8.276000</td>\n",
       "      <td>-0.005876</td>\n",
       "      <td>3.179103</td>\n",
       "    </tr>\n",
       "    <tr>\n",
       "      <th>1</th>\n",
       "      <td>62mP7</td>\n",
       "      <td>14.272088</td>\n",
       "      <td>-3.475083</td>\n",
       "      <td>0.999183</td>\n",
       "      <td>26.953261</td>\n",
       "    </tr>\n",
       "    <tr>\n",
       "      <th>2</th>\n",
       "      <td>vyE1P</td>\n",
       "      <td>6.263187</td>\n",
       "      <td>-5.948386</td>\n",
       "      <td>5.001160</td>\n",
       "      <td>134.766305</td>\n",
       "    </tr>\n",
       "    <tr>\n",
       "      <th>3</th>\n",
       "      <td>KcrkZ</td>\n",
       "      <td>-13.081196</td>\n",
       "      <td>-11.506057</td>\n",
       "      <td>4.999415</td>\n",
       "      <td>137.945408</td>\n",
       "    </tr>\n",
       "    <tr>\n",
       "      <th>4</th>\n",
       "      <td>AHL4O</td>\n",
       "      <td>12.702195</td>\n",
       "      <td>-8.147433</td>\n",
       "      <td>5.004363</td>\n",
       "      <td>134.766305</td>\n",
       "    </tr>\n",
       "  </tbody>\n",
       "</table>\n",
       "</div>"
      ],
      "text/plain": [
       "      id         f0         f1        f2     product\n",
       "0  kBEdx -15.001348  -8.276000 -0.005876    3.179103\n",
       "1  62mP7  14.272088  -3.475083  0.999183   26.953261\n",
       "2  vyE1P   6.263187  -5.948386  5.001160  134.766305\n",
       "3  KcrkZ -13.081196 -11.506057  4.999415  137.945408\n",
       "4  AHL4O  12.702195  -8.147433  5.004363  134.766305"
      ]
     },
     "execution_count": 8,
     "metadata": {},
     "output_type": "execute_result"
    }
   ],
   "source": [
    "data_1.head()"
   ]
  },
  {
   "cell_type": "code",
   "execution_count": 9,
   "metadata": {},
   "outputs": [
    {
     "name": "stdout",
     "output_type": "stream",
     "text": [
      "<class 'pandas.core.frame.DataFrame'>\n",
      "RangeIndex: 100000 entries, 0 to 99999\n",
      "Data columns (total 5 columns):\n",
      " #   Column   Non-Null Count   Dtype  \n",
      "---  ------   --------------   -----  \n",
      " 0   id       100000 non-null  object \n",
      " 1   f0       100000 non-null  float64\n",
      " 2   f1       100000 non-null  float64\n",
      " 3   f2       100000 non-null  float64\n",
      " 4   product  100000 non-null  float64\n",
      "dtypes: float64(4), object(1)\n",
      "memory usage: 3.8+ MB\n"
     ]
    }
   ],
   "source": [
    "data_1.info()"
   ]
  },
  {
   "cell_type": "code",
   "execution_count": 10,
   "metadata": {},
   "outputs": [
    {
     "data": {
      "text/html": [
       "<div>\n",
       "<style scoped>\n",
       "    .dataframe tbody tr th:only-of-type {\n",
       "        vertical-align: middle;\n",
       "    }\n",
       "\n",
       "    .dataframe tbody tr th {\n",
       "        vertical-align: top;\n",
       "    }\n",
       "\n",
       "    .dataframe thead th {\n",
       "        text-align: right;\n",
       "    }\n",
       "</style>\n",
       "<table border=\"1\" class=\"dataframe\">\n",
       "  <thead>\n",
       "    <tr style=\"text-align: right;\">\n",
       "      <th></th>\n",
       "      <th>f0</th>\n",
       "      <th>f1</th>\n",
       "      <th>f2</th>\n",
       "      <th>product</th>\n",
       "    </tr>\n",
       "  </thead>\n",
       "  <tbody>\n",
       "    <tr>\n",
       "      <th>count</th>\n",
       "      <td>100000.000000</td>\n",
       "      <td>100000.000000</td>\n",
       "      <td>100000.000000</td>\n",
       "      <td>100000.000000</td>\n",
       "    </tr>\n",
       "    <tr>\n",
       "      <th>mean</th>\n",
       "      <td>1.141296</td>\n",
       "      <td>-4.796579</td>\n",
       "      <td>2.494541</td>\n",
       "      <td>68.825000</td>\n",
       "    </tr>\n",
       "    <tr>\n",
       "      <th>std</th>\n",
       "      <td>8.965932</td>\n",
       "      <td>5.119872</td>\n",
       "      <td>1.703572</td>\n",
       "      <td>45.944423</td>\n",
       "    </tr>\n",
       "    <tr>\n",
       "      <th>min</th>\n",
       "      <td>-31.609576</td>\n",
       "      <td>-26.358598</td>\n",
       "      <td>-0.018144</td>\n",
       "      <td>0.000000</td>\n",
       "    </tr>\n",
       "    <tr>\n",
       "      <th>25%</th>\n",
       "      <td>-6.298551</td>\n",
       "      <td>-8.267985</td>\n",
       "      <td>1.000021</td>\n",
       "      <td>26.953261</td>\n",
       "    </tr>\n",
       "    <tr>\n",
       "      <th>50%</th>\n",
       "      <td>1.153055</td>\n",
       "      <td>-4.813172</td>\n",
       "      <td>2.011479</td>\n",
       "      <td>57.085625</td>\n",
       "    </tr>\n",
       "    <tr>\n",
       "      <th>75%</th>\n",
       "      <td>8.621015</td>\n",
       "      <td>-1.332816</td>\n",
       "      <td>3.999904</td>\n",
       "      <td>107.813044</td>\n",
       "    </tr>\n",
       "    <tr>\n",
       "      <th>max</th>\n",
       "      <td>29.421755</td>\n",
       "      <td>18.734063</td>\n",
       "      <td>5.019721</td>\n",
       "      <td>137.945408</td>\n",
       "    </tr>\n",
       "  </tbody>\n",
       "</table>\n",
       "</div>"
      ],
      "text/plain": [
       "                  f0             f1             f2        product\n",
       "count  100000.000000  100000.000000  100000.000000  100000.000000\n",
       "mean        1.141296      -4.796579       2.494541      68.825000\n",
       "std         8.965932       5.119872       1.703572      45.944423\n",
       "min       -31.609576     -26.358598      -0.018144       0.000000\n",
       "25%        -6.298551      -8.267985       1.000021      26.953261\n",
       "50%         1.153055      -4.813172       2.011479      57.085625\n",
       "75%         8.621015      -1.332816       3.999904     107.813044\n",
       "max        29.421755      18.734063       5.019721     137.945408"
      ]
     },
     "execution_count": 10,
     "metadata": {},
     "output_type": "execute_result"
    }
   ],
   "source": [
    "data_1.describe()"
   ]
  },
  {
   "cell_type": "code",
   "execution_count": 11,
   "metadata": {},
   "outputs": [
    {
     "data": {
      "image/png": "[encoded data removed]",
      "text/plain": [
       "<Figure size 432x288 with 4 Axes>"
      ]
     },
     "metadata": {
      "needs_background": "light"
     },
     "output_type": "display_data"
    }
   ],
   "source": [
    "data_1.hist();"
   ]
  },
  {
   "cell_type": "markdown",
   "metadata": {},
   "source": [
    "**В данных нет пропусков и дубликатов. Гистограммы показали, что в отличиче от первого региона, значения признака точек f3 распределена неравномерно, но большинство пиков ярко выражены. В столбце product пик в точке минимума, возможно запасы в скважинах в данном регионе не однородны, где-то нефти нет, где-то очень много**"
   ]
  },
  {
   "cell_type": "markdown",
   "metadata": {},
   "source": [
    "### Регион №3"
   ]
  },
  {
   "cell_type": "code",
   "execution_count": 12,
   "metadata": {},
   "outputs": [
    {
     "data": {
      "text/html": [
       "<div>\n",
       "<style scoped>\n",
       "    .dataframe tbody tr th:only-of-type {\n",
       "        vertical-align: middle;\n",
       "    }\n",
       "\n",
       "    .dataframe tbody tr th {\n",
       "        vertical-align: top;\n",
       "    }\n",
       "\n",
       "    .dataframe thead th {\n",
       "        text-align: right;\n",
       "    }\n",
       "</style>\n",
       "<table border=\"1\" class=\"dataframe\">\n",
       "  <thead>\n",
       "    <tr style=\"text-align: right;\">\n",
       "      <th></th>\n",
       "      <th>id</th>\n",
       "      <th>f0</th>\n",
       "      <th>f1</th>\n",
       "      <th>f2</th>\n",
       "      <th>product</th>\n",
       "    </tr>\n",
       "  </thead>\n",
       "  <tbody>\n",
       "    <tr>\n",
       "      <th>0</th>\n",
       "      <td>fwXo0</td>\n",
       "      <td>-1.146987</td>\n",
       "      <td>0.963328</td>\n",
       "      <td>-0.828965</td>\n",
       "      <td>27.758673</td>\n",
       "    </tr>\n",
       "    <tr>\n",
       "      <th>1</th>\n",
       "      <td>WJtFt</td>\n",
       "      <td>0.262778</td>\n",
       "      <td>0.269839</td>\n",
       "      <td>-2.530187</td>\n",
       "      <td>56.069697</td>\n",
       "    </tr>\n",
       "    <tr>\n",
       "      <th>2</th>\n",
       "      <td>ovLUW</td>\n",
       "      <td>0.194587</td>\n",
       "      <td>0.289035</td>\n",
       "      <td>-5.586433</td>\n",
       "      <td>62.871910</td>\n",
       "    </tr>\n",
       "    <tr>\n",
       "      <th>3</th>\n",
       "      <td>q6cA6</td>\n",
       "      <td>2.236060</td>\n",
       "      <td>-0.553760</td>\n",
       "      <td>0.930038</td>\n",
       "      <td>114.572842</td>\n",
       "    </tr>\n",
       "    <tr>\n",
       "      <th>4</th>\n",
       "      <td>WPMUX</td>\n",
       "      <td>-0.515993</td>\n",
       "      <td>1.716266</td>\n",
       "      <td>5.899011</td>\n",
       "      <td>149.600746</td>\n",
       "    </tr>\n",
       "  </tbody>\n",
       "</table>\n",
       "</div>"
      ],
      "text/plain": [
       "      id        f0        f1        f2     product\n",
       "0  fwXo0 -1.146987  0.963328 -0.828965   27.758673\n",
       "1  WJtFt  0.262778  0.269839 -2.530187   56.069697\n",
       "2  ovLUW  0.194587  0.289035 -5.586433   62.871910\n",
       "3  q6cA6  2.236060 -0.553760  0.930038  114.572842\n",
       "4  WPMUX -0.515993  1.716266  5.899011  149.600746"
      ]
     },
     "execution_count": 12,
     "metadata": {},
     "output_type": "execute_result"
    }
   ],
   "source": [
    "data_2.head()"
   ]
  },
  {
   "cell_type": "code",
   "execution_count": 13,
   "metadata": {},
   "outputs": [
    {
     "data": {
      "text/html": [
       "<div>\n",
       "<style scoped>\n",
       "    .dataframe tbody tr th:only-of-type {\n",
       "        vertical-align: middle;\n",
       "    }\n",
       "\n",
       "    .dataframe tbody tr th {\n",
       "        vertical-align: top;\n",
       "    }\n",
       "\n",
       "    .dataframe thead th {\n",
       "        text-align: right;\n",
       "    }\n",
       "</style>\n",
       "<table border=\"1\" class=\"dataframe\">\n",
       "  <thead>\n",
       "    <tr style=\"text-align: right;\">\n",
       "      <th></th>\n",
       "      <th>f0</th>\n",
       "      <th>f1</th>\n",
       "      <th>f2</th>\n",
       "      <th>product</th>\n",
       "    </tr>\n",
       "  </thead>\n",
       "  <tbody>\n",
       "    <tr>\n",
       "      <th>count</th>\n",
       "      <td>100000.000000</td>\n",
       "      <td>100000.000000</td>\n",
       "      <td>100000.000000</td>\n",
       "      <td>100000.000000</td>\n",
       "    </tr>\n",
       "    <tr>\n",
       "      <th>mean</th>\n",
       "      <td>0.002023</td>\n",
       "      <td>-0.002081</td>\n",
       "      <td>2.495128</td>\n",
       "      <td>95.000000</td>\n",
       "    </tr>\n",
       "    <tr>\n",
       "      <th>std</th>\n",
       "      <td>1.732045</td>\n",
       "      <td>1.730417</td>\n",
       "      <td>3.473445</td>\n",
       "      <td>44.749921</td>\n",
       "    </tr>\n",
       "    <tr>\n",
       "      <th>min</th>\n",
       "      <td>-8.760004</td>\n",
       "      <td>-7.084020</td>\n",
       "      <td>-11.970335</td>\n",
       "      <td>0.000000</td>\n",
       "    </tr>\n",
       "    <tr>\n",
       "      <th>25%</th>\n",
       "      <td>-1.162288</td>\n",
       "      <td>-1.174820</td>\n",
       "      <td>0.130359</td>\n",
       "      <td>59.450441</td>\n",
       "    </tr>\n",
       "    <tr>\n",
       "      <th>50%</th>\n",
       "      <td>0.009424</td>\n",
       "      <td>-0.009482</td>\n",
       "      <td>2.484236</td>\n",
       "      <td>94.925613</td>\n",
       "    </tr>\n",
       "    <tr>\n",
       "      <th>75%</th>\n",
       "      <td>1.158535</td>\n",
       "      <td>1.163678</td>\n",
       "      <td>4.858794</td>\n",
       "      <td>130.595027</td>\n",
       "    </tr>\n",
       "    <tr>\n",
       "      <th>max</th>\n",
       "      <td>7.238262</td>\n",
       "      <td>7.844801</td>\n",
       "      <td>16.739402</td>\n",
       "      <td>190.029838</td>\n",
       "    </tr>\n",
       "  </tbody>\n",
       "</table>\n",
       "</div>"
      ],
      "text/plain": [
       "                  f0             f1             f2        product\n",
       "count  100000.000000  100000.000000  100000.000000  100000.000000\n",
       "mean        0.002023      -0.002081       2.495128      95.000000\n",
       "std         1.732045       1.730417       3.473445      44.749921\n",
       "min        -8.760004      -7.084020     -11.970335       0.000000\n",
       "25%        -1.162288      -1.174820       0.130359      59.450441\n",
       "50%         0.009424      -0.009482       2.484236      94.925613\n",
       "75%         1.158535       1.163678       4.858794     130.595027\n",
       "max         7.238262       7.844801      16.739402     190.029838"
      ]
     },
     "execution_count": 13,
     "metadata": {},
     "output_type": "execute_result"
    }
   ],
   "source": [
    "data_2.describe()"
   ]
  },
  {
   "cell_type": "code",
   "execution_count": 14,
   "metadata": {},
   "outputs": [
    {
     "data": {
      "image/png": "[encoded data removed]",
      "text/plain": [
       "<Figure size 432x288 with 4 Axes>"
      ]
     },
     "metadata": {
      "needs_background": "light"
     },
     "output_type": "display_data"
    }
   ],
   "source": [
    "data_2.hist();"
   ]
  },
  {
   "cell_type": "markdown",
   "metadata": {},
   "source": [
    "**В данных нет пропусков и дубликатов. Гистограммы показали, что в столбцах нет выбросов и все данные однородные, или подчинены нормальному распределению**"
   ]
  },
  {
   "cell_type": "markdown",
   "metadata": {},
   "source": [
    "###  Вывод\n",
    "Данные хорошего качества, без пропусков и дубликатов. По распределению значений первый и третий похожи. Второй регион имеет выбросы в показателях. "
   ]
  },
  {
   "cell_type": "markdown",
   "metadata": {},
   "source": [
    "<div class=\"alert alert-block alert-success\">\n",
    "<b>Успех:</b> Данные загружены и осмотрены корректно. Радует, что распределения были визуализированы!\n",
    "</div>"
   ]
  },
  {
   "cell_type": "markdown",
   "metadata": {},
   "source": [
    "##  2 Обучение и проверка модели"
   ]
  },
  {
   "cell_type": "code",
   "execution_count": 15,
   "metadata": {},
   "outputs": [],
   "source": [
    "state = np.random.RandomState(12345) #фиксируем значение для упрощения кода в дальнейшем"
   ]
  },
  {
   "cell_type": "markdown",
   "metadata": {},
   "source": [
    "**Запишем функцию, которая:**\n",
    "- разбивает данные на обучающую и валидационную выборки в соотношении 75:25\n",
    "- обучает модель и делает предсказание на валидационной выборке\n",
    "- считает средний запас предсказанного сырья и RMSE модели\n"
   ]
  },
  {
   "cell_type": "code",
   "execution_count": 16,
   "metadata": {},
   "outputs": [],
   "source": [
    "def training_verification (data):\n",
    "    target=data['product']\n",
    "    features=data.drop(['product','id'], axis=1)\n",
    "    \n",
    "    features_train, features_valid, target_train, target_valid = train_test_split(\n",
    "        features, target, test_size=0.25, random_state=state)\n",
    "    \n",
    "    model=LinearRegression()\n",
    "    model.fit(features_train,target_train)\n",
    "    predict=model.predict(features_valid) # предсказание на валидационной вывборке\n",
    "    rmse = mean_squared_error(target_valid, predict)**0.5\n",
    "    print('RMSE', rmse)\n",
    "    print('Средний запас предсказанного сырья',predict.mean())\n",
    "    return  (predict, target_valid.reset_index(drop=True))"
   ]
  },
  {
   "cell_type": "code",
   "execution_count": 17,
   "metadata": {},
   "outputs": [
    {
     "name": "stdout",
     "output_type": "stream",
     "text": [
      "region 1\n",
      "RMSE 37.5794217150813\n",
      "Средний запас предсказанного сырья 92.59256778438035\n"
     ]
    },
    {
     "data": {
      "text/plain": [
       "(array([ 95.89495185,  77.57258261,  77.89263965, ...,  61.50983303,\n",
       "        118.18039721, 118.16939229]),\n",
       " 0         10.038645\n",
       " 1        114.551489\n",
       " 2        132.603635\n",
       " 3        169.072125\n",
       " 4        122.325180\n",
       "             ...    \n",
       " 24995    170.116726\n",
       " 24996     93.632175\n",
       " 24997    127.352259\n",
       " 24998     99.782700\n",
       " 24999    177.821022\n",
       " Name: product, Length: 25000, dtype: float64)"
      ]
     },
     "execution_count": 17,
     "metadata": {},
     "output_type": "execute_result"
    }
   ],
   "source": [
    "print('region 1')\n",
    "training_verification(data_0)"
   ]
  },
  {
   "cell_type": "code",
   "execution_count": 18,
   "metadata": {},
   "outputs": [
    {
     "name": "stdout",
     "output_type": "stream",
     "text": [
      "region 2\n",
      "RMSE 0.889736773768065\n",
      "Средний запас предсказанного сырья 68.76995145799754\n"
     ]
    },
    {
     "data": {
      "text/plain": [
       "(array([54.23815201, 83.21787849,  2.97146723, ..., 83.90176874,\n",
       "        -1.25947259, 26.16957032]),\n",
       " 0         53.906522\n",
       " 1         84.038886\n",
       " 2          3.179103\n",
       " 3         26.953261\n",
       " 4        110.992147\n",
       "             ...    \n",
       " 24995     26.953261\n",
       " 24996     80.859783\n",
       " 24997     84.038886\n",
       " 24998      0.000000\n",
       " 24999     26.953261\n",
       " Name: product, Length: 25000, dtype: float64)"
      ]
     },
     "execution_count": 18,
     "metadata": {},
     "output_type": "execute_result"
    }
   ],
   "source": [
    "print('region 2')\n",
    "training_verification(data_1)"
   ]
  },
  {
   "cell_type": "code",
   "execution_count": 19,
   "metadata": {},
   "outputs": [
    {
     "name": "stdout",
     "output_type": "stream",
     "text": [
      "region 3\n",
      "RMSE 39.958042459521614\n",
      "Средний запас предсказанного сырья 95.087528122523\n"
     ]
    },
    {
     "data": {
      "text/plain": [
       "(array([112.56187784,  69.46407333,  69.86622946, ..., 108.35059685,\n",
       "        106.59141919, 124.86622084]),\n",
       " 0         52.610856\n",
       " 1         52.273440\n",
       " 2         71.340473\n",
       " 3        162.937918\n",
       " 4        155.371552\n",
       "             ...    \n",
       " 24995     79.605182\n",
       " 24996    189.685353\n",
       " 24997    123.991040\n",
       " 24998     79.004742\n",
       " 24999    119.715838\n",
       " Name: product, Length: 25000, dtype: float64)"
      ]
     },
     "execution_count": 19,
     "metadata": {},
     "output_type": "execute_result"
    }
   ],
   "source": [
    "print('region 3')\n",
    "training_verification(data_2)"
   ]
  },
  {
   "cell_type": "markdown",
   "metadata": {},
   "source": [
    "*Сохраняем предсказания и правильные ответы на валидационной выборке*"
   ]
  },
  {
   "cell_type": "code",
   "execution_count": 31,
   "metadata": {},
   "outputs": [
    {
     "name": "stdout",
     "output_type": "stream",
     "text": [
      "RMSE 37.66554769247134\n",
      "Средний запас предсказанного сырья 92.47032123424688\n",
      "RMSE 0.8944120789112354\n",
      "Средний запас предсказанного сырья 68.81707989784623\n",
      "RMSE 40.03522428591007\n",
      "Средний запас предсказанного сырья 94.87727860610981\n"
     ]
    }
   ],
   "source": [
    "predict_0, validation_0 = training_verification(data_0)\n",
    "predict_1, validation_1 = training_verification(data_1)\n",
    "predict_2, validation_2 = training_verification(data_2)"
   ]
  },
  {
   "cell_type": "markdown",
   "metadata": {},
   "source": [
    "### Вывод: \n",
    "**RMSE - метрика, которая определяет величину среднеквадратичной ошибки в предсказании модели.**\n",
    "\n",
    "Модели обучены и проверены на качество предсказания. Исходя из полученных данный, можно заметить, что величина RMSE во втором регионе сильно отличается от двух других 40 против 1. Средний запас предсказанного сырья второго региона примерно на 20 тыс баррелей меньше первого и третьего "
   ]
  },
  {
   "cell_type": "markdown",
   "metadata": {},
   "source": [
    "<div class=\"alert alert-block alert-info\">\n",
    "<b>Совет: </b> Перед обучением линейных моделей желательно нормализовать признаки, при этом scaler должен быть обучен только на треине.\n",
    "</div>\n",
    "\n",
    "<div class=\"alert alert-block alert-success\">\n",
    "<b>Успех:</b> Модели обучены корректно. Радует, что ты активно используешь функции. Это помогает избежать дублирования кода, а значит уменьшает вероятность совершить ошибку/опечатку!\n",
    "</div>"
   ]
  },
  {
   "cell_type": "markdown",
   "metadata": {},
   "source": [
    "## 3 Подготовка к расчёту прибыли"
   ]
  },
  {
   "cell_type": "markdown",
   "metadata": {},
   "source": [
    "**Все ключевые значения для расчётов сохраним в отдельных переменных.**"
   ]
  },
  {
   "cell_type": "code",
   "execution_count": 21,
   "metadata": {},
   "outputs": [],
   "source": [
    "budget = 10**10  #Бюджет на разработку скважин в регионе — 10 млрд рублей. \n",
    "revenue_per_unit = 45 *10**4  #Доход с каждой единицы продукта составляет 450 тыс. рублей"
   ]
  },
  {
   "cell_type": "markdown",
   "metadata": {},
   "source": [
    "Достаточный объем сырья (стоимость 1 точки / стоимость продукта)"
   ]
  },
  {
   "cell_type": "code",
   "execution_count": 22,
   "metadata": {},
   "outputs": [
    {
     "name": "stdout",
     "output_type": "stream",
     "text": [
      "50.0 млн. рублей\n",
      "Достаточный объем сырья 111.11 тыс баррелей\n"
     ]
    }
   ],
   "source": [
    "coast_one_point = budget / 200 \n",
    "print(coast_one_point/ 10**6, 'млн. рублей') # бюджет на 1 скважину  \n",
    "sufficient_volume = coast_one_point / revenue_per_unit\n",
    "print('Достаточный объем сырья',round(sufficient_volume, 2), 'тыс баррелей') "
   ]
  },
  {
   "cell_type": "markdown",
   "metadata": {},
   "source": [
    "### Вывод: \n",
    "В среднем по регионам в скважинах нефти меньше, чем необходимо для безубыточной разработки скважины"
   ]
  },
  {
   "cell_type": "markdown",
   "metadata": {},
   "source": [
    "<div class=\"alert alert-block alert-info\">\n",
    "\n",
    "<b>Совет: </b> В названиях константных переменных лучше использовать только БОЛЬШИЕ буквы. Это соглашение между программистами: https://pythonworld.ru/osnovy/pep-8-rukovodstvo-po-napisaniyu-koda-na-python.html#id29 .\n",
    "</div>\n",
    "\n",
    "<div class=\"alert alert-block alert-success\">\n",
    "<b>Успех:</b> Точка безубыточности найдена верно, сравнение проведено!\n",
    "</div>"
   ]
  },
  {
   "cell_type": "markdown",
   "metadata": {},
   "source": [
    "##  4 Расчёт прибыли и рисков "
   ]
  },
  {
   "cell_type": "markdown",
   "metadata": {},
   "source": [
    "Методом bootstrap выбираем 500 точек. Из них смотрим на топ 200 по предиктам. На топ 200 смотрим прибыль. Так повторяем 1000 раз. И уже потом по массиву в 1000 элементов прибыли делаем выводы."
   ]
  },
  {
   "cell_type": "markdown",
   "metadata": {},
   "source": [
    "Напишем функцию, которая возвращает нам значение валовой прибыли"
   ]
  },
  {
   "cell_type": "code",
   "execution_count": 23,
   "metadata": {},
   "outputs": [],
   "source": [
    "def profit (target, predictions):\n",
    "    predict_sorted = pd.Series(predictions).sort_values(ascending=False)\n",
    "    selected = target[predict_sorted.index][:200]\n",
    "# 200 скважин с максимальными значениями предсказаний,целевое значение объёма сырья, соответствующее этим предсказаниям\n",
    "    return (revenue_per_unit * selected.sum()) - budget \n",
    "#рассчет прибыли (доход с продукта * сумма продуктов) - затраты на разработку"
   ]
  },
  {
   "cell_type": "markdown",
   "metadata": {},
   "source": [
    "<div class=\"alert alert-block alert-success\">\n",
    "<b>Успех:</b> Функция для подсчета прибыли определена верно.\n",
    "</div>"
   ]
  },
  {
   "cell_type": "code",
   "execution_count": 24,
   "metadata": {},
   "outputs": [],
   "source": [
    "def bootstrap (target, predictions):\n",
    "    values = []\n",
    "    for i in range(1000):\n",
    "        target_sample = target.sample(n=500, replace=True, random_state=state)\n",
    "        predictions_sample = pd.Series(predictions)[target_sample.index]\n",
    "        values.append(profit( target_sample, predictions_sample))\n",
    "    \n",
    "    values = pd.Series(values)\n",
    "    lower = values.quantile(q=0.025)  #начало доверительного интервала\n",
    "    upper = values.quantile(q=0.975)\n",
    "    mean = values.mean()\n",
    "    print('Средняя прибыль {:.2f} млн.руб'.format(mean/1000000))\n",
    "    print('Доверительный интервал: от: {:.2f} млн.руб до: {:.2f} млн.руб'.format((lower/1000000),(upper/1000000)))\n",
    "    print('Вероятность получить убыток: {:.1%}'.format((values < 0).mean()))\n",
    "    "
   ]
  },
  {
   "cell_type": "markdown",
   "metadata": {},
   "source": [
    "<div class=\"alert alert-block alert-success\">\n",
    "<b>Успех:</b> Отлично, что для подсчета доверительного интервала использовался именно метод квантилей!\n",
    "</div>"
   ]
  },
  {
   "cell_type": "markdown",
   "metadata": {},
   "source": [
    "<div class=\"alert alert-block alert-success\">\n",
    "<b>Успех:</b> Риск найден очень элегантно.\n",
    "</div>"
   ]
  },
  {
   "cell_type": "code",
   "execution_count": 25,
   "metadata": {},
   "outputs": [
    {
     "name": "stdout",
     "output_type": "stream",
     "text": [
      "Средняя прибыль 429.39 млн.руб\n",
      "Доверительный интервал: от: -84.48 млн.руб до: 937.14 млн.руб\n",
      "Вероятность получить убыток: 5.3%\n"
     ]
    }
   ],
   "source": [
    "bootstrap(validation_0, predict_0)"
   ]
  },
  {
   "cell_type": "code",
   "execution_count": 26,
   "metadata": {},
   "outputs": [
    {
     "name": "stdout",
     "output_type": "stream",
     "text": [
      "Средняя прибыль 545.65 млн.руб\n",
      "Доверительный интервал: от: 163.08 млн.руб до: 976.34 млн.руб\n",
      "Вероятность получить убыток: 0.2%\n"
     ]
    }
   ],
   "source": [
    "bootstrap(validation_1, predict_1)"
   ]
  },
  {
   "cell_type": "code",
   "execution_count": 27,
   "metadata": {},
   "outputs": [
    {
     "name": "stdout",
     "output_type": "stream",
     "text": [
      "Средняя прибыль 432.51 млн.руб\n",
      "Доверительный интервал: от: -153.56 млн.руб до: 967.18 млн.руб\n",
      "Вероятность получить убыток: 6.4%\n"
     ]
    }
   ],
   "source": [
    "bootstrap(validation_2, predict_2)"
   ]
  },
  {
   "cell_type": "markdown",
   "metadata": {},
   "source": [
    "**Анализируя полученные значения, можем сказать, что средняя прибыль во втором регионе выше чем в остальных. Граница  95%-й Доверительного интервала  не уходит в минус и риск убыток минимален**"
   ]
  },
  {
   "cell_type": "markdown",
   "metadata": {},
   "source": [
    "##  Общий вывод\n",
    "\n",
    "- В ходе работы мы проверили и убедились, что данные качественные. В них нет пропусков и дубликатов.\n",
    "- Обучили модель и нашли значение двух показателей. ('RMSE' и 'Средний запас предсказанного сырья')\n",
    "\n",
    "*RMSE - показатель, указывающий нам среднее расстояние между прогнозируемыми значениями из модели и фактическими значениями в наборе данных.Чем ниже RMSE, тем лучше данная модель может «соответствовать» набору данных.*\n",
    "\n",
    "<blockquote>\n",
    "\n",
    "- Для первого региона получились следующие значения:\n",
    "  RMSE 37.5\n",
    "  Средний запас предсказанного сырья 92.7  \n",
    "- Для второго:\n",
    " RMSE 0.9\n",
    "Средний запас предсказанного сырья 68.9\n",
    "- Для третьего:\n",
    "RMSE 40.3\n",
    "Средний запас предсказанного сырья 94.8\n",
    "\n",
    "Модель для региона №2 имеет самый низкий RMSE, что говорит нам о том, что она способна лучше всего соответствовать набору данных из трех потенциальных моделей.\n",
    "</blockquote> \n",
    "- С учетом метода bootstrap мы получили значения: средней прибыли, границ доверительного интервала и риск убыток.\n",
    "\n",
    "Для бурения Можно предложить **второй регион**, так как:\n",
    "\n",
    "<blockquote> \n",
    "    \n",
    "- вероятность получить убыток мала, она составляет лишь 1,5%. По сравнению с 10% в регионе 1 и 3. \n",
    "- Средняя прибыль в регионе №1 ~ 420 млн руб, во 2-ом ~500 млн руб, в 3 регионе, она меньше чем в двух других(380 млн рубл).\n",
    "- Что каксается доверительного интервала, для второго региона его нижняя граница имеет склонность к значениям больше 0. В первом и третьем регионе нижняя граница - отрицательна.\n",
    "\n",
    "    </blockquote> \n",
    "    \n",
    "*Рекомендация: изучить подробнее три признака точек f1,f2,f3, из-за  чего распределение значений f3 имеет выбросы и почему значения распределений второго региона отличаются от 1 и 3* \n",
    "    \n",
    "  "
   ]
  },
  {
   "cell_type": "markdown",
   "metadata": {},
   "source": [
    "<div class=\"alert alert-block alert-success\">\n",
    "<b>Успех:</b> Приятно видеть подробный вывод в конце проекта! С выбором региона согласен.\n",
    "</div>"
   ]
  },
  {
   "cell_type": "markdown",
   "metadata": {},
   "source": [
    "## Чек-лист готовности проекта"
   ]
  },
  {
   "cell_type": "markdown",
   "metadata": {},
   "source": [
    "Поставьте 'x' в выполненных пунктах. Далее нажмите Shift+Enter."
   ]
  },
  {
   "cell_type": "markdown",
   "metadata": {},
   "source": [
    "- [x]  Jupyter Notebook открыт\n",
    "- [x]  Весь код выполняется без ошибок\n",
    "- [x]  Ячейки с кодом расположены в порядке исполнения\n",
    "- [x]  Выполнен шаг 1: данные подготовлены\n",
    "- [x]  Выполнен шаг 2: модели обучены и проверены\n",
    "    - [x]  Данные корректно разбиты на обучающую и валидационную выборки\n",
    "    - [x]  Модели обучены, предсказания сделаны\n",
    "    - [x]  Предсказания и правильные ответы на валидационной выборке сохранены\n",
    "    - [x]  На экране напечатаны результаты\n",
    "    - [x]  Сделаны выводы\n",
    "- [x]  Выполнен шаг 3: проведена подготовка к расчёту прибыли\n",
    "    - [ ]  Для всех ключевых значений созданы константы Python\n",
    "    - [ ]  Посчитано минимальное среднее количество продукта в месторождениях региона, достаточное для разработки\n",
    "    - [ ]  По предыдущему пункту сделаны выводы\n",
    "    - [ ]  Написана функция расчёта прибыли\n",
    "- [x]  Выполнен шаг 4: посчитаны риски и прибыль\n",
    "    - [ ]  Проведена процедура *Bootstrap*\n",
    "    - [ ]  Все параметры бутстрепа соответствуют условию\n",
    "    - [ ]  Найдены все нужные величины\n",
    "    - [ ]  Предложен регион для разработки месторождения\n",
    "    - [ ]  Выбор региона обоснован"
   ]
  },
  {
   "cell_type": "code",
   "execution_count": null,
   "metadata": {},
   "outputs": [],
   "source": []
  }
 ],
 "metadata": {
  "ExecuteTimeLog": [
   {
    "duration": 1700,
    "start_time": "2023-04-02T21:54:39.992Z"
   },
   {
    "duration": 1220,
    "start_time": "2023-04-02T21:55:04.905Z"
   },
   {
    "duration": 21,
    "start_time": "2023-04-02T21:55:21.640Z"
   },
   {
    "duration": 17,
    "start_time": "2023-04-02T22:03:26.996Z"
   },
   {
    "duration": 46,
    "start_time": "2023-04-02T22:04:27.625Z"
   },
   {
    "duration": 13,
    "start_time": "2023-04-02T22:07:03.392Z"
   },
   {
    "duration": 16,
    "start_time": "2023-04-02T22:07:24.350Z"
   },
   {
    "duration": 51,
    "start_time": "2023-04-02T22:07:47.423Z"
   },
   {
    "duration": 13,
    "start_time": "2023-04-02T22:08:28.618Z"
   },
   {
    "duration": 49,
    "start_time": "2023-04-02T22:08:44.822Z"
   },
   {
    "duration": 71,
    "start_time": "2023-04-02T22:16:52.437Z"
   },
   {
    "duration": 51,
    "start_time": "2023-04-02T22:18:47.158Z"
   },
   {
    "duration": 267,
    "start_time": "2023-04-02T22:18:59.415Z"
   },
   {
    "duration": 47,
    "start_time": "2023-04-02T22:19:05.636Z"
   },
   {
    "duration": 223,
    "start_time": "2023-04-02T22:19:09.096Z"
   },
   {
    "duration": 46,
    "start_time": "2023-04-03T21:10:57.380Z"
   },
   {
    "duration": 1652,
    "start_time": "2023-04-03T21:11:00.853Z"
   },
   {
    "duration": 946,
    "start_time": "2023-04-03T21:11:02.507Z"
   },
   {
    "duration": 14,
    "start_time": "2023-04-03T21:11:03.455Z"
   },
   {
    "duration": 18,
    "start_time": "2023-04-03T21:11:03.471Z"
   },
   {
    "duration": 39,
    "start_time": "2023-04-03T21:11:03.491Z"
   },
   {
    "duration": 66,
    "start_time": "2023-04-03T21:11:03.532Z"
   },
   {
    "duration": 92,
    "start_time": "2023-04-03T21:11:03.601Z"
   },
   {
    "duration": 10,
    "start_time": "2023-04-03T21:11:06.659Z"
   },
   {
    "duration": 181,
    "start_time": "2023-04-03T21:11:16.479Z"
   },
   {
    "duration": 432,
    "start_time": "2023-04-03T21:11:33.766Z"
   },
   {
    "duration": 429,
    "start_time": "2023-04-03T21:11:43.221Z"
   },
   {
    "duration": 369,
    "start_time": "2023-04-03T21:11:53.424Z"
   },
   {
    "duration": 10,
    "start_time": "2023-04-03T21:11:53.816Z"
   },
   {
    "duration": 14,
    "start_time": "2023-04-03T21:11:54.387Z"
   },
   {
    "duration": 35,
    "start_time": "2023-04-03T21:11:55.504Z"
   },
   {
    "duration": 341,
    "start_time": "2023-04-03T21:12:04.222Z"
   },
   {
    "duration": 9,
    "start_time": "2023-04-03T21:12:07.739Z"
   },
   {
    "duration": 36,
    "start_time": "2023-04-03T21:12:08.622Z"
   },
   {
    "duration": 370,
    "start_time": "2023-04-03T21:12:17.639Z"
   },
   {
    "duration": 4,
    "start_time": "2023-04-03T21:21:26.278Z"
   },
   {
    "duration": 362,
    "start_time": "2023-04-03T21:21:26.514Z"
   },
   {
    "duration": 9,
    "start_time": "2023-04-03T21:21:27.298Z"
   },
   {
    "duration": 15,
    "start_time": "2023-04-03T21:21:27.490Z"
   },
   {
    "duration": 38,
    "start_time": "2023-04-03T21:21:27.686Z"
   },
   {
    "duration": 50,
    "start_time": "2023-04-03T21:21:27.878Z"
   },
   {
    "duration": 343,
    "start_time": "2023-04-03T21:21:28.744Z"
   },
   {
    "duration": 10,
    "start_time": "2023-04-03T21:21:29.089Z"
   },
   {
    "duration": 15,
    "start_time": "2023-04-03T21:21:29.101Z"
   },
   {
    "duration": 55,
    "start_time": "2023-04-03T21:21:29.118Z"
   },
   {
    "duration": 494,
    "start_time": "2023-04-03T21:21:29.175Z"
   },
   {
    "duration": 10,
    "start_time": "2023-04-03T21:21:29.671Z"
   },
   {
    "duration": 40,
    "start_time": "2023-04-03T21:21:29.956Z"
   },
   {
    "duration": 368,
    "start_time": "2023-04-03T21:21:29.999Z"
   },
   {
    "duration": 7,
    "start_time": "2023-04-03T21:23:31.086Z"
   },
   {
    "duration": 19,
    "start_time": "2023-04-03T21:24:07.059Z"
   },
   {
    "duration": 38,
    "start_time": "2023-04-03T21:24:41.853Z"
   },
   {
    "duration": 7,
    "start_time": "2023-04-03T21:24:50.134Z"
   },
   {
    "duration": 19,
    "start_time": "2023-04-03T21:24:50.420Z"
   },
   {
    "duration": 34,
    "start_time": "2023-04-03T21:24:50.720Z"
   },
   {
    "duration": 3,
    "start_time": "2023-04-03T21:24:54.923Z"
   },
   {
    "duration": 375,
    "start_time": "2023-04-03T21:24:55.144Z"
   },
   {
    "duration": 9,
    "start_time": "2023-04-03T21:24:55.585Z"
   },
   {
    "duration": 15,
    "start_time": "2023-04-03T21:24:55.772Z"
   },
   {
    "duration": 41,
    "start_time": "2023-04-03T21:24:55.989Z"
   },
   {
    "duration": 49,
    "start_time": "2023-04-03T21:24:56.197Z"
   },
   {
    "duration": 331,
    "start_time": "2023-04-03T21:24:56.397Z"
   },
   {
    "duration": 9,
    "start_time": "2023-04-03T21:24:56.731Z"
   },
   {
    "duration": 15,
    "start_time": "2023-04-03T21:24:56.824Z"
   },
   {
    "duration": 36,
    "start_time": "2023-04-03T21:24:57.055Z"
   },
   {
    "duration": 340,
    "start_time": "2023-04-03T21:24:57.274Z"
   },
   {
    "duration": 9,
    "start_time": "2023-04-03T21:24:58.167Z"
   },
   {
    "duration": 38,
    "start_time": "2023-04-03T21:24:58.178Z"
   },
   {
    "duration": 335,
    "start_time": "2023-04-03T21:24:58.218Z"
   },
   {
    "duration": 6,
    "start_time": "2023-04-03T21:24:59.362Z"
   },
   {
    "duration": 18,
    "start_time": "2023-04-03T21:24:59.602Z"
   },
   {
    "duration": 34,
    "start_time": "2023-04-03T21:24:59.854Z"
   },
   {
    "duration": 22,
    "start_time": "2023-04-03T21:28:13.924Z"
   },
   {
    "duration": 12,
    "start_time": "2023-04-03T21:31:10.801Z"
   },
   {
    "duration": 34,
    "start_time": "2023-04-03T21:31:46.417Z"
   },
   {
    "duration": 2041,
    "start_time": "2023-04-04T08:43:46.919Z"
   },
   {
    "duration": 1501,
    "start_time": "2023-04-04T08:43:48.963Z"
   },
   {
    "duration": 18,
    "start_time": "2023-04-04T08:43:50.466Z"
   },
   {
    "duration": 23,
    "start_time": "2023-04-04T08:43:50.486Z"
   },
   {
    "duration": 53,
    "start_time": "2023-04-04T08:43:50.511Z"
   },
   {
    "duration": 79,
    "start_time": "2023-04-04T08:43:50.566Z"
   },
   {
    "duration": 350,
    "start_time": "2023-04-04T08:43:53.999Z"
   },
   {
    "duration": 10,
    "start_time": "2023-04-04T08:43:54.427Z"
   },
   {
    "duration": 14,
    "start_time": "2023-04-04T08:43:55.061Z"
   },
   {
    "duration": 36,
    "start_time": "2023-04-04T08:43:55.429Z"
   },
   {
    "duration": 432,
    "start_time": "2023-04-04T08:43:55.779Z"
   },
   {
    "duration": 9,
    "start_time": "2023-04-04T08:43:56.213Z"
   },
   {
    "duration": 35,
    "start_time": "2023-04-04T08:43:56.799Z"
   },
   {
    "duration": 330,
    "start_time": "2023-04-04T08:43:57.099Z"
   },
   {
    "duration": 7,
    "start_time": "2023-04-04T08:43:58.139Z"
   },
   {
    "duration": 20,
    "start_time": "2023-04-04T08:43:58.491Z"
   },
   {
    "duration": 199,
    "start_time": "2023-04-04T08:43:59.096Z"
   },
   {
    "duration": 35,
    "start_time": "2023-04-04T08:45:51.401Z"
   },
   {
    "duration": 12,
    "start_time": "2023-04-04T09:13:47.955Z"
   },
   {
    "duration": 12,
    "start_time": "2023-04-04T09:14:01.915Z"
   },
   {
    "duration": 34,
    "start_time": "2023-04-04T09:14:19.252Z"
   },
   {
    "duration": 37,
    "start_time": "2023-04-04T09:16:03.996Z"
   },
   {
    "duration": 4,
    "start_time": "2023-04-04T09:22:24.595Z"
   },
   {
    "duration": 32,
    "start_time": "2023-04-04T09:22:29.371Z"
   },
   {
    "duration": 33,
    "start_time": "2023-04-04T09:23:45.931Z"
   },
   {
    "duration": 17,
    "start_time": "2023-04-04T09:23:53.243Z"
   },
   {
    "duration": 35,
    "start_time": "2023-04-04T09:23:53.915Z"
   },
   {
    "duration": 16,
    "start_time": "2023-04-04T09:24:25.291Z"
   },
   {
    "duration": 35,
    "start_time": "2023-04-04T09:24:25.652Z"
   },
   {
    "duration": 18,
    "start_time": "2023-04-04T09:24:33.210Z"
   },
   {
    "duration": 39,
    "start_time": "2023-04-04T09:24:33.714Z"
   },
   {
    "duration": 554,
    "start_time": "2023-04-04T09:27:54.282Z"
   },
   {
    "duration": 18,
    "start_time": "2023-04-04T09:27:54.873Z"
   },
   {
    "duration": 35,
    "start_time": "2023-04-04T09:27:55.226Z"
   },
   {
    "duration": 5,
    "start_time": "2023-04-04T09:30:27.755Z"
   },
   {
    "duration": 13,
    "start_time": "2023-04-04T09:30:28.011Z"
   },
   {
    "duration": 121,
    "start_time": "2023-04-04T09:30:28.370Z"
   },
   {
    "duration": 9,
    "start_time": "2023-04-04T09:30:47.931Z"
   },
   {
    "duration": 1575,
    "start_time": "2023-04-04T09:31:03.955Z"
   },
   {
    "duration": 430,
    "start_time": "2023-04-04T09:31:05.532Z"
   },
   {
    "duration": 14,
    "start_time": "2023-04-04T09:31:05.963Z"
   },
   {
    "duration": 16,
    "start_time": "2023-04-04T09:31:06.111Z"
   },
   {
    "duration": 38,
    "start_time": "2023-04-04T09:31:07.243Z"
   },
   {
    "duration": 46,
    "start_time": "2023-04-04T09:31:07.499Z"
   },
   {
    "duration": 370,
    "start_time": "2023-04-04T09:31:07.711Z"
   },
   {
    "duration": 16,
    "start_time": "2023-04-04T09:31:08.083Z"
   },
   {
    "duration": 16,
    "start_time": "2023-04-04T09:31:08.199Z"
   },
   {
    "duration": 48,
    "start_time": "2023-04-04T09:31:08.471Z"
   },
   {
    "duration": 475,
    "start_time": "2023-04-04T09:31:08.810Z"
   },
   {
    "duration": 15,
    "start_time": "2023-04-04T09:31:09.289Z"
   },
   {
    "duration": 37,
    "start_time": "2023-04-04T09:31:10.045Z"
   },
   {
    "duration": 453,
    "start_time": "2023-04-04T09:31:10.410Z"
   },
   {
    "duration": 6,
    "start_time": "2023-04-04T09:31:11.339Z"
   },
   {
    "duration": 18,
    "start_time": "2023-04-04T09:31:11.731Z"
   },
   {
    "duration": 163,
    "start_time": "2023-04-04T09:31:12.051Z"
   },
   {
    "duration": 7,
    "start_time": "2023-04-04T09:31:18.531Z"
   },
   {
    "duration": 26,
    "start_time": "2023-04-04T09:31:18.586Z"
   },
   {
    "duration": 40,
    "start_time": "2023-04-04T09:31:18.999Z"
   },
   {
    "duration": 588,
    "start_time": "2023-04-04T09:31:41.371Z"
   },
   {
    "duration": 16,
    "start_time": "2023-04-04T09:31:43.963Z"
   },
   {
    "duration": 40,
    "start_time": "2023-04-04T09:31:44.410Z"
   },
   {
    "duration": 6,
    "start_time": "2023-04-04T09:31:50.715Z"
   },
   {
    "duration": 204,
    "start_time": "2023-04-04T09:31:50.930Z"
   },
   {
    "duration": 13,
    "start_time": "2023-04-04T09:31:51.147Z"
   },
   {
    "duration": 23,
    "start_time": "2023-04-04T09:31:51.600Z"
   },
   {
    "duration": 12,
    "start_time": "2023-04-04T09:33:11.151Z"
   },
   {
    "duration": 209,
    "start_time": "2023-04-04T09:33:11.471Z"
   },
   {
    "duration": 18,
    "start_time": "2023-04-04T09:33:11.805Z"
   },
   {
    "duration": 4,
    "start_time": "2023-04-04T09:33:36.231Z"
   },
   {
    "duration": 11,
    "start_time": "2023-04-04T09:33:46.235Z"
   },
   {
    "duration": 49,
    "start_time": "2023-04-04T09:33:46.643Z"
   },
   {
    "duration": 19,
    "start_time": "2023-04-04T09:35:26.119Z"
   },
   {
    "duration": 20,
    "start_time": "2023-04-04T09:35:50.663Z"
   },
   {
    "duration": 15,
    "start_time": "2023-04-04T09:36:49.967Z"
   },
   {
    "duration": 20,
    "start_time": "2023-04-04T09:37:25.671Z"
   },
   {
    "duration": 16,
    "start_time": "2023-04-04T09:37:35.910Z"
   },
   {
    "duration": 4,
    "start_time": "2023-04-04T09:42:59.967Z"
   },
   {
    "duration": 5,
    "start_time": "2023-04-04T09:43:00.912Z"
   },
   {
    "duration": 21,
    "start_time": "2023-04-04T09:44:13.815Z"
   },
   {
    "duration": 4,
    "start_time": "2023-04-04T09:44:19.871Z"
   },
   {
    "duration": 31,
    "start_time": "2023-04-04T09:44:20.394Z"
   },
   {
    "duration": 10,
    "start_time": "2023-04-04T09:44:44.512Z"
   },
   {
    "duration": 6,
    "start_time": "2023-04-04T09:45:14.176Z"
   },
   {
    "duration": 39,
    "start_time": "2023-04-04T09:45:14.512Z"
   },
   {
    "duration": 4,
    "start_time": "2023-04-04T09:45:17.511Z"
   },
   {
    "duration": 4,
    "start_time": "2023-04-04T09:45:17.832Z"
   },
   {
    "duration": 29,
    "start_time": "2023-04-04T09:45:18.103Z"
   },
   {
    "duration": 5,
    "start_time": "2023-04-04T09:45:39.499Z"
   },
   {
    "duration": 38,
    "start_time": "2023-04-04T09:45:40.535Z"
   },
   {
    "duration": 32,
    "start_time": "2023-04-04T09:46:42.511Z"
   },
   {
    "duration": 37,
    "start_time": "2023-04-04T09:46:42.976Z"
   },
   {
    "duration": 4,
    "start_time": "2023-04-04T09:55:15.472Z"
   },
   {
    "duration": 33,
    "start_time": "2023-04-04T09:55:16.744Z"
   },
   {
    "duration": 5,
    "start_time": "2023-04-04T09:59:19.988Z"
   },
   {
    "duration": 36,
    "start_time": "2023-04-04T09:59:20.386Z"
   },
   {
    "duration": 36,
    "start_time": "2023-04-04T09:59:21.122Z"
   },
   {
    "duration": 31,
    "start_time": "2023-04-04T09:59:21.610Z"
   },
   {
    "duration": 5,
    "start_time": "2023-04-04T10:02:31.458Z"
   },
   {
    "duration": 91,
    "start_time": "2023-04-04T10:02:31.698Z"
   },
   {
    "duration": 32,
    "start_time": "2023-04-04T10:03:33.178Z"
   },
   {
    "duration": 41,
    "start_time": "2023-04-04T10:03:42.570Z"
   },
   {
    "duration": 4,
    "start_time": "2023-04-04T10:03:45.618Z"
   },
   {
    "duration": 34,
    "start_time": "2023-04-04T10:03:45.986Z"
   },
   {
    "duration": 3,
    "start_time": "2023-04-04T10:07:02.258Z"
   },
   {
    "duration": 3,
    "start_time": "2023-04-04T10:15:07.380Z"
   },
   {
    "duration": 3,
    "start_time": "2023-04-04T10:20:46.715Z"
   },
   {
    "duration": 4,
    "start_time": "2023-04-04T10:20:47.260Z"
   },
   {
    "duration": 5,
    "start_time": "2023-04-04T10:21:50.867Z"
   },
   {
    "duration": 4,
    "start_time": "2023-04-04T10:22:47.595Z"
   },
   {
    "duration": 5,
    "start_time": "2023-04-04T10:23:22.860Z"
   },
   {
    "duration": 3,
    "start_time": "2023-04-04T10:24:33.116Z"
   },
   {
    "duration": 3,
    "start_time": "2023-04-04T10:27:50.928Z"
   },
   {
    "duration": 4,
    "start_time": "2023-04-04T10:28:35.343Z"
   },
   {
    "duration": 4,
    "start_time": "2023-04-04T10:28:50.163Z"
   },
   {
    "duration": 4,
    "start_time": "2023-04-04T10:29:48.391Z"
   },
   {
    "duration": 5,
    "start_time": "2023-04-04T10:31:09.819Z"
   },
   {
    "duration": 4,
    "start_time": "2023-04-04T10:31:39.919Z"
   },
   {
    "duration": 12,
    "start_time": "2023-04-04T11:15:00.404Z"
   },
   {
    "duration": 5,
    "start_time": "2023-04-04T11:15:14.432Z"
   },
   {
    "duration": 6,
    "start_time": "2023-04-04T11:16:57.759Z"
   },
   {
    "duration": 4,
    "start_time": "2023-04-04T11:18:15.906Z"
   },
   {
    "duration": 4,
    "start_time": "2023-04-04T11:19:26.538Z"
   },
   {
    "duration": 1440,
    "start_time": "2023-04-04T15:58:56.168Z"
   },
   {
    "duration": 855,
    "start_time": "2023-04-04T15:58:57.610Z"
   },
   {
    "duration": 13,
    "start_time": "2023-04-04T15:58:58.466Z"
   },
   {
    "duration": 126,
    "start_time": "2023-04-04T15:58:58.480Z"
   },
   {
    "duration": 33,
    "start_time": "2023-04-04T15:58:58.608Z"
   },
   {
    "duration": 40,
    "start_time": "2023-04-04T15:58:58.643Z"
   },
   {
    "duration": 299,
    "start_time": "2023-04-04T15:58:58.684Z"
   },
   {
    "duration": 9,
    "start_time": "2023-04-04T15:58:58.984Z"
   },
   {
    "duration": 17,
    "start_time": "2023-04-04T15:58:58.994Z"
   },
   {
    "duration": 33,
    "start_time": "2023-04-04T15:58:59.012Z"
   },
   {
    "duration": 409,
    "start_time": "2023-04-04T15:58:59.047Z"
   },
   {
    "duration": 16,
    "start_time": "2023-04-04T15:58:59.458Z"
   },
   {
    "duration": 39,
    "start_time": "2023-04-04T15:58:59.475Z"
   },
   {
    "duration": 361,
    "start_time": "2023-04-04T15:58:59.517Z"
   },
   {
    "duration": 3,
    "start_time": "2023-04-04T15:58:59.880Z"
   },
   {
    "duration": 8,
    "start_time": "2023-04-04T15:58:59.884Z"
   },
   {
    "duration": 176,
    "start_time": "2023-04-04T15:58:59.893Z"
   },
   {
    "duration": 107,
    "start_time": "2023-04-04T15:59:00.070Z"
   },
   {
    "duration": 199,
    "start_time": "2023-04-04T15:59:00.179Z"
   },
   {
    "duration": 86,
    "start_time": "2023-04-04T15:59:00.382Z"
   },
   {
    "duration": 98,
    "start_time": "2023-04-04T15:59:00.473Z"
   },
   {
    "duration": 3,
    "start_time": "2023-04-04T17:15:33.345Z"
   },
   {
    "duration": 3,
    "start_time": "2023-04-04T17:15:36.085Z"
   },
   {
    "duration": 4,
    "start_time": "2023-04-04T17:15:36.825Z"
   },
   {
    "duration": 3,
    "start_time": "2023-04-04T17:15:57.823Z"
   },
   {
    "duration": 3,
    "start_time": "2023-04-04T17:16:52.590Z"
   },
   {
    "duration": 4,
    "start_time": "2023-04-04T17:31:28.643Z"
   },
   {
    "duration": 103,
    "start_time": "2023-04-04T17:40:00.994Z"
   },
   {
    "duration": 9,
    "start_time": "2023-04-04T17:40:13.434Z"
   },
   {
    "duration": 5,
    "start_time": "2023-04-04T17:42:09.123Z"
   },
   {
    "duration": 31,
    "start_time": "2023-04-04T17:42:09.842Z"
   },
   {
    "duration": 47,
    "start_time": "2023-04-04T17:43:10.823Z"
   },
   {
    "duration": 5,
    "start_time": "2023-04-04T17:46:14.163Z"
   },
   {
    "duration": 27,
    "start_time": "2023-04-04T17:46:14.842Z"
   },
   {
    "duration": 9,
    "start_time": "2023-04-04T17:47:56.762Z"
   },
   {
    "duration": 251,
    "start_time": "2023-04-04T17:48:10.922Z"
   },
   {
    "duration": 87,
    "start_time": "2023-04-04T17:49:22.982Z"
   },
   {
    "duration": 5,
    "start_time": "2023-04-04T17:49:32.250Z"
   },
   {
    "duration": 28,
    "start_time": "2023-04-04T17:49:32.801Z"
   },
   {
    "duration": 88,
    "start_time": "2023-04-04T17:49:33.283Z"
   },
   {
    "duration": 47,
    "start_time": "2023-04-04T17:49:33.823Z"
   },
   {
    "duration": 504,
    "start_time": "2023-04-04T17:49:34.366Z"
   },
   {
    "duration": 13,
    "start_time": "2023-04-04T17:50:06.593Z"
   },
   {
    "duration": 3,
    "start_time": "2023-04-04T17:50:15.922Z"
   },
   {
    "duration": 4,
    "start_time": "2023-04-04T17:50:16.212Z"
   },
   {
    "duration": 11,
    "start_time": "2023-04-04T17:50:16.475Z"
   },
   {
    "duration": 9,
    "start_time": "2023-04-04T18:46:47.150Z"
   },
   {
    "duration": 1595,
    "start_time": "2023-04-04T18:46:58.990Z"
   },
   {
    "duration": 768,
    "start_time": "2023-04-04T18:47:00.587Z"
   },
   {
    "duration": 13,
    "start_time": "2023-04-04T18:47:01.357Z"
   },
   {
    "duration": 35,
    "start_time": "2023-04-04T18:47:01.372Z"
   },
   {
    "duration": 41,
    "start_time": "2023-04-04T18:47:01.408Z"
   },
   {
    "duration": 39,
    "start_time": "2023-04-04T18:47:01.450Z"
   },
   {
    "duration": 301,
    "start_time": "2023-04-04T18:47:01.491Z"
   },
   {
    "duration": 8,
    "start_time": "2023-04-04T18:47:01.793Z"
   },
   {
    "duration": 41,
    "start_time": "2023-04-04T18:47:01.803Z"
   },
   {
    "duration": 45,
    "start_time": "2023-04-04T18:47:01.847Z"
   },
   {
    "duration": 366,
    "start_time": "2023-04-04T18:47:01.893Z"
   },
   {
    "duration": 10,
    "start_time": "2023-04-04T18:47:02.261Z"
   },
   {
    "duration": 67,
    "start_time": "2023-04-04T18:47:02.272Z"
   },
   {
    "duration": 340,
    "start_time": "2023-04-04T18:47:02.340Z"
   },
   {
    "duration": 3,
    "start_time": "2023-04-04T18:47:02.682Z"
   },
   {
    "duration": 12,
    "start_time": "2023-04-04T18:47:02.686Z"
   },
   {
    "duration": 71,
    "start_time": "2023-04-04T18:47:02.699Z"
   },
   {
    "duration": 111,
    "start_time": "2023-04-04T18:47:02.772Z"
   },
   {
    "duration": 199,
    "start_time": "2023-04-04T18:47:02.885Z"
   },
   {
    "duration": 497,
    "start_time": "2023-04-04T18:47:03.085Z"
   },
   {
    "duration": 3,
    "start_time": "2023-04-04T18:47:03.669Z"
   },
   {
    "duration": 94,
    "start_time": "2023-04-04T18:47:03.677Z"
   },
   {
    "duration": 4,
    "start_time": "2023-04-04T18:47:03.773Z"
   },
   {
    "duration": 11,
    "start_time": "2023-04-04T18:47:03.778Z"
   },
   {
    "duration": 115,
    "start_time": "2023-04-04T18:47:03.791Z"
   },
   {
    "duration": 303,
    "start_time": "2023-04-04T18:47:26.377Z"
   },
   {
    "duration": 3,
    "start_time": "2023-04-04T18:47:28.157Z"
   },
   {
    "duration": 3,
    "start_time": "2023-04-04T18:47:28.538Z"
   },
   {
    "duration": 3,
    "start_time": "2023-04-04T18:47:29.326Z"
   },
   {
    "duration": 4,
    "start_time": "2023-04-04T18:47:29.518Z"
   },
   {
    "duration": 16,
    "start_time": "2023-04-04T18:47:29.717Z"
   },
   {
    "duration": 4,
    "start_time": "2023-04-04T18:49:19.697Z"
   },
   {
    "duration": 314,
    "start_time": "2023-04-04T18:49:25.257Z"
   },
   {
    "duration": 2,
    "start_time": "2023-04-04T18:49:27.477Z"
   },
   {
    "duration": 4,
    "start_time": "2023-04-04T18:49:27.877Z"
   },
   {
    "duration": 3,
    "start_time": "2023-04-04T18:49:28.737Z"
   },
   {
    "duration": 5,
    "start_time": "2023-04-04T18:49:28.937Z"
   },
   {
    "duration": 15,
    "start_time": "2023-04-04T18:49:29.159Z"
   },
   {
    "duration": 5,
    "start_time": "2023-04-04T18:53:34.777Z"
   },
   {
    "duration": 16,
    "start_time": "2023-04-04T18:53:35.259Z"
   },
   {
    "duration": 5,
    "start_time": "2023-04-04T18:56:11.936Z"
   },
   {
    "duration": 20,
    "start_time": "2023-04-04T18:56:12.538Z"
   },
   {
    "duration": 4,
    "start_time": "2023-04-04T19:01:28.344Z"
   },
   {
    "duration": 4,
    "start_time": "2023-04-04T19:01:28.779Z"
   },
   {
    "duration": 22,
    "start_time": "2023-04-04T19:01:29.128Z"
   },
   {
    "duration": 8,
    "start_time": "2023-04-04T19:03:32.217Z"
   },
   {
    "duration": 8,
    "start_time": "2023-04-04T19:03:39.216Z"
   },
   {
    "duration": 11,
    "start_time": "2023-04-04T19:04:03.776Z"
   },
   {
    "duration": 8,
    "start_time": "2023-04-04T19:04:14.696Z"
   },
   {
    "duration": 5,
    "start_time": "2023-04-04T19:05:45.277Z"
   },
   {
    "duration": 23,
    "start_time": "2023-04-04T19:05:49.076Z"
   },
   {
    "duration": 4,
    "start_time": "2023-04-04T19:06:39.497Z"
   },
   {
    "duration": 4,
    "start_time": "2023-04-04T19:09:18.876Z"
   },
   {
    "duration": 22,
    "start_time": "2023-04-04T19:09:19.488Z"
   },
   {
    "duration": 3,
    "start_time": "2023-04-04T19:11:26.619Z"
   },
   {
    "duration": 10,
    "start_time": "2023-04-04T19:11:27.376Z"
   },
   {
    "duration": 5,
    "start_time": "2023-04-04T19:11:28.085Z"
   },
   {
    "duration": 29,
    "start_time": "2023-04-04T19:11:28.659Z"
   },
   {
    "duration": 6,
    "start_time": "2023-04-04T19:11:40.324Z"
   },
   {
    "duration": 18,
    "start_time": "2023-04-04T19:11:40.977Z"
   },
   {
    "duration": 4,
    "start_time": "2023-04-04T19:11:50.596Z"
   },
   {
    "duration": 1120,
    "start_time": "2023-04-04T19:11:50.977Z"
   },
   {
    "duration": 4,
    "start_time": "2023-04-04T19:12:24.739Z"
   },
   {
    "duration": 23,
    "start_time": "2023-04-04T19:12:25.257Z"
   },
   {
    "duration": 24,
    "start_time": "2023-04-04T19:12:34.516Z"
   },
   {
    "duration": 4,
    "start_time": "2023-04-04T19:12:37.016Z"
   },
   {
    "duration": 22,
    "start_time": "2023-04-04T19:12:37.636Z"
   },
   {
    "duration": 5,
    "start_time": "2023-04-04T19:15:51.867Z"
   },
   {
    "duration": 23,
    "start_time": "2023-04-04T19:15:52.637Z"
   },
   {
    "duration": 7,
    "start_time": "2023-04-04T19:16:21.145Z"
   },
   {
    "duration": 12,
    "start_time": "2023-04-04T19:16:40.477Z"
   },
   {
    "duration": 7,
    "start_time": "2023-04-04T19:16:56.484Z"
   },
   {
    "duration": 14,
    "start_time": "2023-04-04T19:16:57.476Z"
   },
   {
    "duration": 5,
    "start_time": "2023-04-04T19:18:33.776Z"
   },
   {
    "duration": 25,
    "start_time": "2023-04-04T19:18:33.808Z"
   },
   {
    "duration": 1230,
    "start_time": "2023-04-04T19:20:57.117Z"
   },
   {
    "duration": 325,
    "start_time": "2023-04-04T19:20:58.348Z"
   },
   {
    "duration": 11,
    "start_time": "2023-04-04T19:20:58.675Z"
   },
   {
    "duration": 13,
    "start_time": "2023-04-04T19:20:58.688Z"
   },
   {
    "duration": 33,
    "start_time": "2023-04-04T19:20:58.702Z"
   },
   {
    "duration": 61,
    "start_time": "2023-04-04T19:20:58.736Z"
   },
   {
    "duration": 310,
    "start_time": "2023-04-04T19:20:58.799Z"
   },
   {
    "duration": 9,
    "start_time": "2023-04-04T19:20:59.111Z"
   },
   {
    "duration": 13,
    "start_time": "2023-04-04T19:20:59.121Z"
   },
   {
    "duration": 48,
    "start_time": "2023-04-04T19:20:59.136Z"
   },
   {
    "duration": 375,
    "start_time": "2023-04-04T19:20:59.186Z"
   },
   {
    "duration": 13,
    "start_time": "2023-04-04T19:20:59.563Z"
   },
   {
    "duration": 34,
    "start_time": "2023-04-04T19:20:59.579Z"
   },
   {
    "duration": 344,
    "start_time": "2023-04-04T19:20:59.615Z"
   },
   {
    "duration": 3,
    "start_time": "2023-04-04T19:20:59.960Z"
   },
   {
    "duration": 19,
    "start_time": "2023-04-04T19:20:59.968Z"
   },
   {
    "duration": 29,
    "start_time": "2023-04-04T19:20:59.988Z"
   },
   {
    "duration": 115,
    "start_time": "2023-04-04T19:21:00.069Z"
   },
   {
    "duration": 209,
    "start_time": "2023-04-04T19:21:00.185Z"
   },
   {
    "duration": 475,
    "start_time": "2023-04-04T19:21:00.396Z"
   },
   {
    "duration": 3,
    "start_time": "2023-04-04T19:21:00.873Z"
   },
   {
    "duration": 105,
    "start_time": "2023-04-04T19:21:00.878Z"
   },
   {
    "duration": 27,
    "start_time": "2023-04-04T19:21:00.985Z"
   },
   {
    "duration": 45,
    "start_time": "2023-04-04T19:21:01.013Z"
   },
   {
    "duration": 12,
    "start_time": "2023-04-04T19:21:01.061Z"
   },
   {
    "duration": 161,
    "start_time": "2023-04-04T19:21:01.074Z"
   },
   {
    "duration": 4,
    "start_time": "2023-04-04T19:21:56.337Z"
   },
   {
    "duration": 14,
    "start_time": "2023-04-04T19:21:56.717Z"
   },
   {
    "duration": 5,
    "start_time": "2023-04-04T19:23:21.616Z"
   },
   {
    "duration": 3575,
    "start_time": "2023-04-04T19:23:27.219Z"
   },
   {
    "duration": 5,
    "start_time": "2023-04-04T19:23:40.876Z"
   },
   {
    "duration": 1580,
    "start_time": "2023-04-04T19:23:41.797Z"
   },
   {
    "duration": 1298,
    "start_time": "2023-04-04T19:25:19.868Z"
   },
   {
    "duration": 1293,
    "start_time": "2023-04-04T19:25:22.676Z"
   },
   {
    "duration": 1302,
    "start_time": "2023-04-04T19:25:27.456Z"
   },
   {
    "duration": 6,
    "start_time": "2023-04-04T19:26:30.665Z"
   },
   {
    "duration": 1818,
    "start_time": "2023-04-04T19:26:31.488Z"
   },
   {
    "duration": 1753,
    "start_time": "2023-04-04T19:29:18.777Z"
   },
   {
    "duration": 1694,
    "start_time": "2023-04-04T19:29:20.533Z"
   },
   {
    "duration": 1798,
    "start_time": "2023-04-04T19:29:22.229Z"
   },
   {
    "duration": 7,
    "start_time": "2023-04-04T19:29:44.365Z"
   },
   {
    "duration": 1778,
    "start_time": "2023-04-04T19:29:44.897Z"
   },
   {
    "duration": 1916,
    "start_time": "2023-04-04T19:29:46.677Z"
   },
   {
    "duration": 1834,
    "start_time": "2023-04-04T19:29:48.594Z"
   },
   {
    "duration": 6,
    "start_time": "2023-04-04T19:30:29.504Z"
   },
   {
    "duration": 1679,
    "start_time": "2023-04-04T19:30:30.056Z"
   },
   {
    "duration": 6,
    "start_time": "2023-04-04T19:30:46.924Z"
   },
   {
    "duration": 1982,
    "start_time": "2023-04-04T19:30:49.057Z"
   },
   {
    "duration": 8,
    "start_time": "2023-04-04T19:31:02.665Z"
   },
   {
    "duration": 1689,
    "start_time": "2023-04-04T19:31:03.685Z"
   },
   {
    "duration": 2004,
    "start_time": "2023-04-04T19:32:12.649Z"
   },
   {
    "duration": 1779,
    "start_time": "2023-04-04T19:32:18.077Z"
   },
   {
    "duration": 1912,
    "start_time": "2023-04-04T19:32:40.009Z"
   },
   {
    "duration": 1850,
    "start_time": "2023-04-04T19:32:58.673Z"
   },
   {
    "duration": 1732,
    "start_time": "2023-04-04T19:33:08.700Z"
   },
   {
    "duration": 6,
    "start_time": "2023-04-04T19:33:31.269Z"
   },
   {
    "duration": 1921,
    "start_time": "2023-04-04T19:33:31.780Z"
   },
   {
    "duration": 7,
    "start_time": "2023-04-04T19:33:45.350Z"
   },
   {
    "duration": 1843,
    "start_time": "2023-04-04T19:33:45.808Z"
   },
   {
    "duration": 6,
    "start_time": "2023-04-04T19:33:55.937Z"
   },
   {
    "duration": 1731,
    "start_time": "2023-04-04T19:33:56.493Z"
   },
   {
    "duration": 7,
    "start_time": "2023-04-04T19:36:39.136Z"
   },
   {
    "duration": 1934,
    "start_time": "2023-04-04T19:36:39.436Z"
   },
   {
    "duration": 55,
    "start_time": "2023-04-04T19:39:47.369Z"
   },
   {
    "duration": 2043,
    "start_time": "2023-04-04T19:39:47.695Z"
   },
   {
    "duration": 6,
    "start_time": "2023-04-04T19:39:57.380Z"
   },
   {
    "duration": 1778,
    "start_time": "2023-04-04T19:39:57.654Z"
   },
   {
    "duration": 10,
    "start_time": "2023-04-04T19:40:13.969Z"
   },
   {
    "duration": 1733,
    "start_time": "2023-04-04T19:40:14.273Z"
   },
   {
    "duration": 6,
    "start_time": "2023-04-04T19:40:28.169Z"
   },
   {
    "duration": 1760,
    "start_time": "2023-04-04T19:40:28.372Z"
   },
   {
    "duration": 7,
    "start_time": "2023-04-04T19:42:07.906Z"
   },
   {
    "duration": 2054,
    "start_time": "2023-04-04T19:42:08.142Z"
   },
   {
    "duration": 6,
    "start_time": "2023-04-04T19:42:26.835Z"
   },
   {
    "duration": 1680,
    "start_time": "2023-04-04T19:42:27.210Z"
   },
   {
    "duration": 1758,
    "start_time": "2023-04-04T19:43:11.260Z"
   },
   {
    "duration": 6,
    "start_time": "2023-04-04T19:43:28.288Z"
   },
   {
    "duration": 1683,
    "start_time": "2023-04-04T19:43:30.861Z"
   },
   {
    "duration": 7,
    "start_time": "2023-04-04T19:44:30.161Z"
   },
   {
    "duration": 1694,
    "start_time": "2023-04-04T19:44:30.634Z"
   },
   {
    "duration": 6,
    "start_time": "2023-04-04T19:44:41.375Z"
   },
   {
    "duration": 1920,
    "start_time": "2023-04-04T19:44:43.781Z"
   },
   {
    "duration": 6,
    "start_time": "2023-04-04T19:45:03.663Z"
   },
   {
    "duration": 1778,
    "start_time": "2023-04-04T19:46:00.974Z"
   },
   {
    "duration": 2002,
    "start_time": "2023-04-04T19:46:09.781Z"
   },
   {
    "duration": 8,
    "start_time": "2023-04-04T19:46:46.688Z"
   },
   {
    "duration": 2041,
    "start_time": "2023-04-04T19:46:47.352Z"
   },
   {
    "duration": 6,
    "start_time": "2023-04-04T19:47:09.588Z"
   },
   {
    "duration": 1673,
    "start_time": "2023-04-04T19:47:10.172Z"
   },
   {
    "duration": 1855,
    "start_time": "2023-04-04T19:47:11.847Z"
   },
   {
    "duration": 6,
    "start_time": "2023-04-04T19:47:30.809Z"
   },
   {
    "duration": 1860,
    "start_time": "2023-04-04T19:47:31.520Z"
   },
   {
    "duration": 6,
    "start_time": "2023-04-04T19:48:23.632Z"
   },
   {
    "duration": 1657,
    "start_time": "2023-04-04T19:48:24.094Z"
   },
   {
    "duration": 8,
    "start_time": "2023-04-04T19:48:42.481Z"
   },
   {
    "duration": 1868,
    "start_time": "2023-04-04T19:48:43.178Z"
   },
   {
    "duration": 5,
    "start_time": "2023-04-04T19:49:13.429Z"
   },
   {
    "duration": 1681,
    "start_time": "2023-04-04T19:49:15.033Z"
   },
   {
    "duration": 7,
    "start_time": "2023-04-04T19:49:35.220Z"
   },
   {
    "duration": 2055,
    "start_time": "2023-04-04T19:49:35.865Z"
   },
   {
    "duration": 6,
    "start_time": "2023-04-04T19:50:52.860Z"
   },
   {
    "duration": 1672,
    "start_time": "2023-04-04T19:50:53.304Z"
   },
   {
    "duration": 6,
    "start_time": "2023-04-04T19:51:19.097Z"
   },
   {
    "duration": 1636,
    "start_time": "2023-04-04T19:51:19.472Z"
   },
   {
    "duration": 6,
    "start_time": "2023-04-04T19:51:46.391Z"
   },
   {
    "duration": 1789,
    "start_time": "2023-04-04T19:51:46.920Z"
   },
   {
    "duration": 6,
    "start_time": "2023-04-04T19:51:56.610Z"
   },
   {
    "duration": 1693,
    "start_time": "2023-04-04T19:51:57.038Z"
   },
   {
    "duration": 7,
    "start_time": "2023-04-04T19:52:34.668Z"
   },
   {
    "duration": 1726,
    "start_time": "2023-04-04T19:52:34.913Z"
   },
   {
    "duration": 1783,
    "start_time": "2023-04-04T19:53:19.746Z"
   },
   {
    "duration": 1742,
    "start_time": "2023-04-04T19:53:21.531Z"
   },
   {
    "duration": 1845,
    "start_time": "2023-04-04T19:53:35.473Z"
   },
   {
    "duration": 4,
    "start_time": "2023-04-04T19:54:03.348Z"
   },
   {
    "duration": 34,
    "start_time": "2023-04-04T19:54:03.713Z"
   },
   {
    "duration": 77,
    "start_time": "2023-04-04T19:54:03.992Z"
   },
   {
    "duration": 37,
    "start_time": "2023-04-04T19:54:04.232Z"
   },
   {
    "duration": 501,
    "start_time": "2023-04-04T19:54:04.469Z"
   },
   {
    "duration": 4,
    "start_time": "2023-04-04T19:54:04.975Z"
   },
   {
    "duration": 4,
    "start_time": "2023-04-04T19:54:05.374Z"
   },
   {
    "duration": 3,
    "start_time": "2023-04-04T19:54:06.173Z"
   },
   {
    "duration": 10,
    "start_time": "2023-04-04T19:54:06.373Z"
   },
   {
    "duration": 7,
    "start_time": "2023-04-04T19:54:06.561Z"
   },
   {
    "duration": 1950,
    "start_time": "2023-04-04T19:54:07.072Z"
   },
   {
    "duration": 1935,
    "start_time": "2023-04-04T19:54:09.024Z"
   },
   {
    "duration": 2038,
    "start_time": "2023-04-04T19:54:10.960Z"
   },
   {
    "duration": 6,
    "start_time": "2023-04-04T20:00:31.910Z"
   },
   {
    "duration": 1919,
    "start_time": "2023-04-04T20:00:32.244Z"
   },
   {
    "duration": 1851,
    "start_time": "2023-04-04T20:00:43.532Z"
   },
   {
    "duration": 1734,
    "start_time": "2023-04-04T20:00:50.086Z"
   },
   {
    "duration": 1796,
    "start_time": "2023-04-04T20:00:51.822Z"
   },
   {
    "duration": 3,
    "start_time": "2023-04-04T20:24:31.608Z"
   },
   {
    "duration": 358,
    "start_time": "2023-04-04T20:24:31.688Z"
   },
   {
    "duration": 3,
    "start_time": "2023-04-04T20:48:20.627Z"
   },
   {
    "duration": 483,
    "start_time": "2023-04-04T20:55:04.686Z"
   },
   {
    "duration": 4,
    "start_time": "2023-04-04T21:11:07.545Z"
   },
   {
    "duration": 4,
    "start_time": "2023-04-04T21:13:11.705Z"
   },
   {
    "duration": 1854,
    "start_time": "2023-04-04T21:18:43.198Z"
   },
   {
    "duration": 1875,
    "start_time": "2023-04-04T21:18:45.054Z"
   },
   {
    "duration": 6,
    "start_time": "2023-04-04T21:19:06.714Z"
   },
   {
    "duration": 1615,
    "start_time": "2023-04-04T21:19:07.506Z"
   },
   {
    "duration": 1595,
    "start_time": "2023-04-04T21:19:54.206Z"
   },
   {
    "duration": 1641,
    "start_time": "2023-04-04T21:19:58.786Z"
   },
   {
    "duration": 1775,
    "start_time": "2023-04-04T21:20:06.726Z"
   },
   {
    "duration": 1808,
    "start_time": "2023-04-04T21:20:13.698Z"
   },
   {
    "duration": 5,
    "start_time": "2023-04-04T21:32:40.086Z"
   },
   {
    "duration": 6,
    "start_time": "2023-04-04T21:45:54.415Z"
   },
   {
    "duration": 1652,
    "start_time": "2023-04-04T21:45:55.453Z"
   },
   {
    "duration": 1663,
    "start_time": "2023-04-04T21:45:57.107Z"
   },
   {
    "duration": 1739,
    "start_time": "2023-04-04T21:45:58.772Z"
   },
   {
    "duration": 6,
    "start_time": "2023-04-04T21:46:43.095Z"
   },
   {
    "duration": 1725,
    "start_time": "2023-04-04T21:46:43.499Z"
   },
   {
    "duration": 1859,
    "start_time": "2023-04-04T21:46:45.226Z"
   },
   {
    "duration": 1957,
    "start_time": "2023-04-04T21:46:47.086Z"
   },
   {
    "duration": 6,
    "start_time": "2023-04-04T21:47:52.191Z"
   },
   {
    "duration": 1728,
    "start_time": "2023-04-04T21:47:52.699Z"
   },
   {
    "duration": 1672,
    "start_time": "2023-04-04T21:47:54.429Z"
   },
   {
    "duration": 1711,
    "start_time": "2023-04-04T21:47:56.103Z"
   },
   {
    "duration": 6,
    "start_time": "2023-04-04T21:48:16.352Z"
   },
   {
    "duration": 1723,
    "start_time": "2023-04-04T21:48:16.868Z"
   },
   {
    "duration": 1786,
    "start_time": "2023-04-04T21:48:18.593Z"
   },
   {
    "duration": 1636,
    "start_time": "2023-04-04T21:48:20.381Z"
   },
   {
    "duration": 6,
    "start_time": "2023-04-04T21:48:29.727Z"
   },
   {
    "duration": 1735,
    "start_time": "2023-04-04T21:48:29.941Z"
   },
   {
    "duration": 1757,
    "start_time": "2023-04-04T21:48:31.677Z"
   },
   {
    "duration": 1668,
    "start_time": "2023-04-04T21:48:33.435Z"
   },
   {
    "duration": 5,
    "start_time": "2023-04-04T21:48:57.136Z"
   },
   {
    "duration": 1679,
    "start_time": "2023-04-04T21:48:57.839Z"
   },
   {
    "duration": 1809,
    "start_time": "2023-04-04T21:48:59.520Z"
   },
   {
    "duration": 1757,
    "start_time": "2023-04-04T21:49:01.331Z"
   },
   {
    "duration": 4,
    "start_time": "2023-04-04T21:51:46.867Z"
   },
   {
    "duration": 1506,
    "start_time": "2023-04-04T21:51:47.105Z"
   },
   {
    "duration": 1478,
    "start_time": "2023-04-04T21:51:48.613Z"
   },
   {
    "duration": 1428,
    "start_time": "2023-04-04T21:51:50.092Z"
   },
   {
    "duration": 4,
    "start_time": "2023-04-04T21:52:25.007Z"
   },
   {
    "duration": 1315,
    "start_time": "2023-04-04T21:52:25.299Z"
   },
   {
    "duration": 1297,
    "start_time": "2023-04-04T21:52:26.616Z"
   },
   {
    "duration": 1303,
    "start_time": "2023-04-04T21:52:27.915Z"
   },
   {
    "duration": 1379,
    "start_time": "2023-04-04T22:14:56.752Z"
   },
   {
    "duration": 1355,
    "start_time": "2023-04-04T22:14:58.134Z"
   },
   {
    "duration": 1407,
    "start_time": "2023-04-04T22:14:59.491Z"
   },
   {
    "duration": 1551,
    "start_time": "2023-04-04T22:18:05.201Z"
   },
   {
    "duration": 1499,
    "start_time": "2023-04-04T22:18:09.308Z"
   },
   {
    "duration": 1369,
    "start_time": "2023-04-04T22:18:18.220Z"
   },
   {
    "duration": 1302,
    "start_time": "2023-04-04T22:25:50.927Z"
   },
   {
    "duration": 1394,
    "start_time": "2023-04-04T22:25:52.230Z"
   },
   {
    "duration": 1196,
    "start_time": "2023-04-04T22:37:30.688Z"
   },
   {
    "duration": 317,
    "start_time": "2023-04-04T22:37:31.886Z"
   },
   {
    "duration": 12,
    "start_time": "2023-04-04T22:37:32.205Z"
   },
   {
    "duration": 12,
    "start_time": "2023-04-04T22:37:32.218Z"
   },
   {
    "duration": 50,
    "start_time": "2023-04-04T22:37:32.232Z"
   },
   {
    "duration": 39,
    "start_time": "2023-04-04T22:37:32.283Z"
   },
   {
    "duration": 347,
    "start_time": "2023-04-04T22:37:32.324Z"
   },
   {
    "duration": 8,
    "start_time": "2023-04-04T22:37:32.673Z"
   },
   {
    "duration": 17,
    "start_time": "2023-04-04T22:37:32.682Z"
   },
   {
    "duration": 30,
    "start_time": "2023-04-04T22:37:32.701Z"
   },
   {
    "duration": 334,
    "start_time": "2023-04-04T22:37:32.732Z"
   },
   {
    "duration": 9,
    "start_time": "2023-04-04T22:37:33.068Z"
   },
   {
    "duration": 41,
    "start_time": "2023-04-04T22:37:33.079Z"
   },
   {
    "duration": 387,
    "start_time": "2023-04-04T22:37:33.121Z"
   },
   {
    "duration": 4,
    "start_time": "2023-04-04T22:37:33.509Z"
   },
   {
    "duration": 15,
    "start_time": "2023-04-04T22:37:33.514Z"
   },
   {
    "duration": 74,
    "start_time": "2023-04-04T22:37:33.530Z"
   },
   {
    "duration": 177,
    "start_time": "2023-04-04T22:37:33.605Z"
   },
   {
    "duration": 200,
    "start_time": "2023-04-04T22:37:33.784Z"
   },
   {
    "duration": 494,
    "start_time": "2023-04-04T22:37:33.986Z"
   },
   {
    "duration": 3,
    "start_time": "2023-04-04T22:37:34.481Z"
   },
   {
    "duration": 89,
    "start_time": "2023-04-04T22:37:34.486Z"
   },
   {
    "duration": 94,
    "start_time": "2023-04-04T22:37:34.577Z"
   },
   {
    "duration": 14,
    "start_time": "2023-04-04T22:37:34.673Z"
   },
   {
    "duration": 1463,
    "start_time": "2023-04-04T22:37:34.689Z"
   },
   {
    "duration": 1455,
    "start_time": "2023-04-04T22:37:36.154Z"
   },
   {
    "duration": 1475,
    "start_time": "2023-04-04T22:37:37.610Z"
   },
   {
    "duration": 333,
    "start_time": "2023-04-04T22:42:25.739Z"
   },
   {
    "duration": 314,
    "start_time": "2023-04-04T22:42:30.659Z"
   },
   {
    "duration": 378,
    "start_time": "2023-04-04T22:42:35.091Z"
   },
   {
    "duration": 509,
    "start_time": "2023-04-04T22:42:38.760Z"
   }
  ],
  "kernelspec": {
   "display_name": "Python 3 (ipykernel)",
   "language": "python",
   "name": "python3"
  },
  "language_info": {
   "codemirror_mode": {
    "name": "ipython",
    "version": 3
   },
   "file_extension": ".py",
   "mimetype": "text/x-python",
   "name": "python",
   "nbconvert_exporter": "python",
   "pygments_lexer": "ipython3",
   "version": "3.9.5"
  },
  "toc": {
   "base_numbering": 1,
   "nav_menu": {},
   "number_sections": false,
   "sideBar": true,
   "skip_h1_title": true,
   "title_cell": "Table of Contents",
   "title_sidebar": "Contents",
   "toc_cell": false,
   "toc_position": {},
   "toc_section_display": true,
   "toc_window_display": true
  }
 },
 "nbformat": 4,
 "nbformat_minor": 2
}
