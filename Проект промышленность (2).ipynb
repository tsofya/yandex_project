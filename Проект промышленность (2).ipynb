{
 "cells": [
  {
   "cell_type": "markdown",
   "metadata": {},
   "source": [
    "# Проект промышленность"
   ]
  },
  {
   "cell_type": "markdown",
   "metadata": {},
   "source": [
    "Чтобы оптимизировать производственные расходы, металлургический комбинат ООО «Так закаляем сталь» необходимо уменьшить потребление электроэнергии на этапе обработки стали. \n",
    "\n",
    "**Цель:** необходимо построить модель, которая предскажет температуру стали."
   ]
  },
  {
   "cell_type": "markdown",
   "metadata": {},
   "source": [
    "Сталеплавильный процесс — окислительный процесс, так как сталь получается в результате окисления и удаления большей части примесей чугуна — углерода, кремния, марганца, серы и фосфора (за исключением электросталеплавильного процесса, где в основном используется исключительно металлом в шихте). Отличительной особенностью сталеплавильных процессов является наличие окислительной атмосферы. Окисление примесей чугуна и других шихтовых материалов осуществляется кислородом, содержащимся в газах, оксидах железа и марганца. После окисления примесей, из металлического сплава удаляют растворённый в нём кислород, вводят легирующие элементы и получают сталь заданного химического состава."
   ]
  },
  {
   "cell_type": "markdown",
   "metadata": {},
   "source": [
    "## План работы\n",
    "\n",
    "1.   Открываем и исследуем данные\n",
    "- Загрузка данных\n",
    "- Статистические данные \n",
    "- Посмотреть распределения данных\n",
    "- Изучить пропуски\n",
    "- Удалить или заменить дубликаты, пропуски и выбросы (обратить внимание на партии, где нет последнего замера температуры, тк это целевой признак)\n",
    "- Выбрать подходящие данные (первый и последний)\n",
    "- Составить таблицу с признаками\n",
    "2. Подготовка данных\n",
    "- Исследуем корреляцию между признаками\n",
    "- Масштабируем признаки\n",
    "- Разделяем на выборки (тестовую и обучающую)\n",
    "3. Обучение моделей\n",
    "- Предположительно LinearRegression,RandomForest, CatBoost или LGBMRegressor \n",
    "- Выбор лучшей модели по показателю MAE\n",
    "4. Тестирование модели\n",
    "- Модель с наименьшим MAE проверяем на тестовой выборке\n",
    "5. Вывод. Отчет\n",
    "- Вывод результатов, общий вывод, написание отчета"
   ]
  },
  {
   "cell_type": "markdown",
   "metadata": {},
   "source": [
    "## Исследовательский анализ"
   ]
  },
  {
   "cell_type": "code",
   "execution_count": 1,
   "metadata": {},
   "outputs": [],
   "source": [
    "import pandas as pd\n",
    "import matplotlib.pyplot as plt\n",
    "import seaborn as sns\n",
    "import numpy as np\n",
    "\n",
    "from sklearn.preprocessing import StandardScaler\n",
    "from sklearn.model_selection import train_test_split\n",
    "from sklearn.model_selection import cross_val_score\n",
    "from sklearn.metrics import mean_absolute_error\n",
    "from sklearn.model_selection import GridSearchCV\n",
    "from sklearn.linear_model import LinearRegression\n",
    "from sklearn.ensemble import RandomForestRegressor\n",
    "from catboost import CatBoostRegressor\n",
    "\n",
    "from sklearn.dummy import DummyRegressor\n",
    "\n",
    "from sklearn import datasets\n",
    "from catboost import cv\n",
    "from sklearn.feature_selection import SelectFromModel\n",
    "import matplotlib\n",
    "from sklearn.pipeline import make_pipeline\n",
    "from sklearn.pipeline import Pipeline"
   ]
  },
  {
   "cell_type": "code",
   "execution_count": 2,
   "metadata": {},
   "outputs": [],
   "source": [
    "RANDOM_STATE = 310723"
   ]
  },
  {
   "cell_type": "code",
   "execution_count": 3,
   "metadata": {},
   "outputs": [
    {
     "data": {
      "text/html": [
       "<div>\n",
       "<style scoped>\n",
       "    .dataframe tbody tr th:only-of-type {\n",
       "        vertical-align: middle;\n",
       "    }\n",
       "\n",
       "    .dataframe tbody tr th {\n",
       "        vertical-align: top;\n",
       "    }\n",
       "\n",
       "    .dataframe thead th {\n",
       "        text-align: right;\n",
       "    }\n",
       "</style>\n",
       "<table border=\"1\" class=\"dataframe\">\n",
       "  <thead>\n",
       "    <tr style=\"text-align: right;\">\n",
       "      <th></th>\n",
       "      <th>key</th>\n",
       "      <th>Начало нагрева дугой</th>\n",
       "      <th>Конец нагрева дугой</th>\n",
       "      <th>Активная мощность</th>\n",
       "      <th>Реактивная мощность</th>\n",
       "    </tr>\n",
       "  </thead>\n",
       "  <tbody>\n",
       "    <tr>\n",
       "      <th>0</th>\n",
       "      <td>1</td>\n",
       "      <td>2019-05-03 11:02:14</td>\n",
       "      <td>2019-05-03 11:06:02</td>\n",
       "      <td>0.305130</td>\n",
       "      <td>0.211253</td>\n",
       "    </tr>\n",
       "    <tr>\n",
       "      <th>1</th>\n",
       "      <td>1</td>\n",
       "      <td>2019-05-03 11:07:28</td>\n",
       "      <td>2019-05-03 11:10:33</td>\n",
       "      <td>0.765658</td>\n",
       "      <td>0.477438</td>\n",
       "    </tr>\n",
       "    <tr>\n",
       "      <th>2</th>\n",
       "      <td>1</td>\n",
       "      <td>2019-05-03 11:11:44</td>\n",
       "      <td>2019-05-03 11:14:36</td>\n",
       "      <td>0.580313</td>\n",
       "      <td>0.430460</td>\n",
       "    </tr>\n",
       "    <tr>\n",
       "      <th>3</th>\n",
       "      <td>1</td>\n",
       "      <td>2019-05-03 11:18:14</td>\n",
       "      <td>2019-05-03 11:24:19</td>\n",
       "      <td>0.518496</td>\n",
       "      <td>0.379979</td>\n",
       "    </tr>\n",
       "    <tr>\n",
       "      <th>4</th>\n",
       "      <td>1</td>\n",
       "      <td>2019-05-03 11:26:09</td>\n",
       "      <td>2019-05-03 11:28:37</td>\n",
       "      <td>0.867133</td>\n",
       "      <td>0.643691</td>\n",
       "    </tr>\n",
       "  </tbody>\n",
       "</table>\n",
       "</div>"
      ],
      "text/plain": [
       "   key Начало нагрева дугой  Конец нагрева дугой  Активная мощность  \\\n",
       "0    1  2019-05-03 11:02:14  2019-05-03 11:06:02           0.305130   \n",
       "1    1  2019-05-03 11:07:28  2019-05-03 11:10:33           0.765658   \n",
       "2    1  2019-05-03 11:11:44  2019-05-03 11:14:36           0.580313   \n",
       "3    1  2019-05-03 11:18:14  2019-05-03 11:24:19           0.518496   \n",
       "4    1  2019-05-03 11:26:09  2019-05-03 11:28:37           0.867133   \n",
       "\n",
       "   Реактивная мощность  \n",
       "0             0.211253  \n",
       "1             0.477438  \n",
       "2             0.430460  \n",
       "3             0.379979  \n",
       "4             0.643691  "
      ]
     },
     "execution_count": 3,
     "metadata": {},
     "output_type": "execute_result"
    }
   ],
   "source": [
    "df_arc=pd.read_csv('/datasets/data_arc_new.csv') #данные об электродах\n",
    "df_arc.head()"
   ]
  },
  {
   "cell_type": "code",
   "execution_count": 4,
   "metadata": {},
   "outputs": [
    {
     "data": {
      "text/html": [
       "<div>\n",
       "<style scoped>\n",
       "    .dataframe tbody tr th:only-of-type {\n",
       "        vertical-align: middle;\n",
       "    }\n",
       "\n",
       "    .dataframe tbody tr th {\n",
       "        vertical-align: top;\n",
       "    }\n",
       "\n",
       "    .dataframe thead th {\n",
       "        text-align: right;\n",
       "    }\n",
       "</style>\n",
       "<table border=\"1\" class=\"dataframe\">\n",
       "  <thead>\n",
       "    <tr style=\"text-align: right;\">\n",
       "      <th></th>\n",
       "      <th>key</th>\n",
       "      <th>Bulk 1</th>\n",
       "      <th>Bulk 2</th>\n",
       "      <th>Bulk 3</th>\n",
       "      <th>Bulk 4</th>\n",
       "      <th>Bulk 5</th>\n",
       "      <th>Bulk 6</th>\n",
       "      <th>Bulk 7</th>\n",
       "      <th>Bulk 8</th>\n",
       "      <th>Bulk 9</th>\n",
       "      <th>Bulk 10</th>\n",
       "      <th>Bulk 11</th>\n",
       "      <th>Bulk 12</th>\n",
       "      <th>Bulk 13</th>\n",
       "      <th>Bulk 14</th>\n",
       "      <th>Bulk 15</th>\n",
       "    </tr>\n",
       "  </thead>\n",
       "  <tbody>\n",
       "    <tr>\n",
       "      <th>0</th>\n",
       "      <td>1</td>\n",
       "      <td>NaN</td>\n",
       "      <td>NaN</td>\n",
       "      <td>NaN</td>\n",
       "      <td>43.0</td>\n",
       "      <td>NaN</td>\n",
       "      <td>NaN</td>\n",
       "      <td>NaN</td>\n",
       "      <td>NaN</td>\n",
       "      <td>NaN</td>\n",
       "      <td>NaN</td>\n",
       "      <td>NaN</td>\n",
       "      <td>206.0</td>\n",
       "      <td>NaN</td>\n",
       "      <td>150.0</td>\n",
       "      <td>154.0</td>\n",
       "    </tr>\n",
       "    <tr>\n",
       "      <th>1</th>\n",
       "      <td>2</td>\n",
       "      <td>NaN</td>\n",
       "      <td>NaN</td>\n",
       "      <td>NaN</td>\n",
       "      <td>73.0</td>\n",
       "      <td>NaN</td>\n",
       "      <td>NaN</td>\n",
       "      <td>NaN</td>\n",
       "      <td>NaN</td>\n",
       "      <td>NaN</td>\n",
       "      <td>NaN</td>\n",
       "      <td>NaN</td>\n",
       "      <td>206.0</td>\n",
       "      <td>NaN</td>\n",
       "      <td>149.0</td>\n",
       "      <td>154.0</td>\n",
       "    </tr>\n",
       "    <tr>\n",
       "      <th>2</th>\n",
       "      <td>3</td>\n",
       "      <td>NaN</td>\n",
       "      <td>NaN</td>\n",
       "      <td>NaN</td>\n",
       "      <td>34.0</td>\n",
       "      <td>NaN</td>\n",
       "      <td>NaN</td>\n",
       "      <td>NaN</td>\n",
       "      <td>NaN</td>\n",
       "      <td>NaN</td>\n",
       "      <td>NaN</td>\n",
       "      <td>NaN</td>\n",
       "      <td>205.0</td>\n",
       "      <td>NaN</td>\n",
       "      <td>152.0</td>\n",
       "      <td>153.0</td>\n",
       "    </tr>\n",
       "    <tr>\n",
       "      <th>3</th>\n",
       "      <td>4</td>\n",
       "      <td>NaN</td>\n",
       "      <td>NaN</td>\n",
       "      <td>NaN</td>\n",
       "      <td>81.0</td>\n",
       "      <td>NaN</td>\n",
       "      <td>NaN</td>\n",
       "      <td>NaN</td>\n",
       "      <td>NaN</td>\n",
       "      <td>NaN</td>\n",
       "      <td>NaN</td>\n",
       "      <td>NaN</td>\n",
       "      <td>207.0</td>\n",
       "      <td>NaN</td>\n",
       "      <td>153.0</td>\n",
       "      <td>154.0</td>\n",
       "    </tr>\n",
       "    <tr>\n",
       "      <th>4</th>\n",
       "      <td>5</td>\n",
       "      <td>NaN</td>\n",
       "      <td>NaN</td>\n",
       "      <td>NaN</td>\n",
       "      <td>78.0</td>\n",
       "      <td>NaN</td>\n",
       "      <td>NaN</td>\n",
       "      <td>NaN</td>\n",
       "      <td>NaN</td>\n",
       "      <td>NaN</td>\n",
       "      <td>NaN</td>\n",
       "      <td>NaN</td>\n",
       "      <td>203.0</td>\n",
       "      <td>NaN</td>\n",
       "      <td>151.0</td>\n",
       "      <td>152.0</td>\n",
       "    </tr>\n",
       "  </tbody>\n",
       "</table>\n",
       "</div>"
      ],
      "text/plain": [
       "   key  Bulk 1  Bulk 2  Bulk 3  Bulk 4  Bulk 5  Bulk 6  Bulk 7  Bulk 8  \\\n",
       "0    1     NaN     NaN     NaN    43.0     NaN     NaN     NaN     NaN   \n",
       "1    2     NaN     NaN     NaN    73.0     NaN     NaN     NaN     NaN   \n",
       "2    3     NaN     NaN     NaN    34.0     NaN     NaN     NaN     NaN   \n",
       "3    4     NaN     NaN     NaN    81.0     NaN     NaN     NaN     NaN   \n",
       "4    5     NaN     NaN     NaN    78.0     NaN     NaN     NaN     NaN   \n",
       "\n",
       "   Bulk 9  Bulk 10  Bulk 11  Bulk 12  Bulk 13  Bulk 14  Bulk 15  \n",
       "0     NaN      NaN      NaN    206.0      NaN    150.0    154.0  \n",
       "1     NaN      NaN      NaN    206.0      NaN    149.0    154.0  \n",
       "2     NaN      NaN      NaN    205.0      NaN    152.0    153.0  \n",
       "3     NaN      NaN      NaN    207.0      NaN    153.0    154.0  \n",
       "4     NaN      NaN      NaN    203.0      NaN    151.0    152.0  "
      ]
     },
     "execution_count": 4,
     "metadata": {},
     "output_type": "execute_result"
    }
   ],
   "source": [
    "df_bulk=pd.read_csv('/datasets/data_bulk_new.csv') #данные о подаче сыпучих материалов (объём)\n",
    "df_bulk.head()"
   ]
  },
  {
   "cell_type": "code",
   "execution_count": 5,
   "metadata": {},
   "outputs": [
    {
     "data": {
      "text/html": [
       "<div>\n",
       "<style scoped>\n",
       "    .dataframe tbody tr th:only-of-type {\n",
       "        vertical-align: middle;\n",
       "    }\n",
       "\n",
       "    .dataframe tbody tr th {\n",
       "        vertical-align: top;\n",
       "    }\n",
       "\n",
       "    .dataframe thead th {\n",
       "        text-align: right;\n",
       "    }\n",
       "</style>\n",
       "<table border=\"1\" class=\"dataframe\">\n",
       "  <thead>\n",
       "    <tr style=\"text-align: right;\">\n",
       "      <th></th>\n",
       "      <th>key</th>\n",
       "      <th>Bulk 1</th>\n",
       "      <th>Bulk 2</th>\n",
       "      <th>Bulk 3</th>\n",
       "      <th>Bulk 4</th>\n",
       "      <th>Bulk 5</th>\n",
       "      <th>Bulk 6</th>\n",
       "      <th>Bulk 7</th>\n",
       "      <th>Bulk 8</th>\n",
       "      <th>Bulk 9</th>\n",
       "      <th>Bulk 10</th>\n",
       "      <th>Bulk 11</th>\n",
       "      <th>Bulk 12</th>\n",
       "      <th>Bulk 13</th>\n",
       "      <th>Bulk 14</th>\n",
       "      <th>Bulk 15</th>\n",
       "    </tr>\n",
       "  </thead>\n",
       "  <tbody>\n",
       "    <tr>\n",
       "      <th>0</th>\n",
       "      <td>1</td>\n",
       "      <td>NaN</td>\n",
       "      <td>NaN</td>\n",
       "      <td>NaN</td>\n",
       "      <td>2019-05-03 11:28:48</td>\n",
       "      <td>NaN</td>\n",
       "      <td>NaN</td>\n",
       "      <td>NaN</td>\n",
       "      <td>NaN</td>\n",
       "      <td>NaN</td>\n",
       "      <td>NaN</td>\n",
       "      <td>NaN</td>\n",
       "      <td>2019-05-03 11:24:31</td>\n",
       "      <td>NaN</td>\n",
       "      <td>2019-05-03 11:14:50</td>\n",
       "      <td>2019-05-03 11:10:43</td>\n",
       "    </tr>\n",
       "    <tr>\n",
       "      <th>1</th>\n",
       "      <td>2</td>\n",
       "      <td>NaN</td>\n",
       "      <td>NaN</td>\n",
       "      <td>NaN</td>\n",
       "      <td>2019-05-03 11:36:50</td>\n",
       "      <td>NaN</td>\n",
       "      <td>NaN</td>\n",
       "      <td>NaN</td>\n",
       "      <td>NaN</td>\n",
       "      <td>NaN</td>\n",
       "      <td>NaN</td>\n",
       "      <td>NaN</td>\n",
       "      <td>2019-05-03 11:53:30</td>\n",
       "      <td>NaN</td>\n",
       "      <td>2019-05-03 11:48:37</td>\n",
       "      <td>2019-05-03 11:44:39</td>\n",
       "    </tr>\n",
       "    <tr>\n",
       "      <th>2</th>\n",
       "      <td>3</td>\n",
       "      <td>NaN</td>\n",
       "      <td>NaN</td>\n",
       "      <td>NaN</td>\n",
       "      <td>2019-05-03 12:32:39</td>\n",
       "      <td>NaN</td>\n",
       "      <td>NaN</td>\n",
       "      <td>NaN</td>\n",
       "      <td>NaN</td>\n",
       "      <td>NaN</td>\n",
       "      <td>NaN</td>\n",
       "      <td>NaN</td>\n",
       "      <td>2019-05-03 12:27:13</td>\n",
       "      <td>NaN</td>\n",
       "      <td>2019-05-03 12:21:01</td>\n",
       "      <td>2019-05-03 12:16:16</td>\n",
       "    </tr>\n",
       "    <tr>\n",
       "      <th>3</th>\n",
       "      <td>4</td>\n",
       "      <td>NaN</td>\n",
       "      <td>NaN</td>\n",
       "      <td>NaN</td>\n",
       "      <td>2019-05-03 12:43:22</td>\n",
       "      <td>NaN</td>\n",
       "      <td>NaN</td>\n",
       "      <td>NaN</td>\n",
       "      <td>NaN</td>\n",
       "      <td>NaN</td>\n",
       "      <td>NaN</td>\n",
       "      <td>NaN</td>\n",
       "      <td>2019-05-03 12:58:00</td>\n",
       "      <td>NaN</td>\n",
       "      <td>2019-05-03 12:51:11</td>\n",
       "      <td>2019-05-03 12:46:36</td>\n",
       "    </tr>\n",
       "    <tr>\n",
       "      <th>4</th>\n",
       "      <td>5</td>\n",
       "      <td>NaN</td>\n",
       "      <td>NaN</td>\n",
       "      <td>NaN</td>\n",
       "      <td>2019-05-03 13:30:47</td>\n",
       "      <td>NaN</td>\n",
       "      <td>NaN</td>\n",
       "      <td>NaN</td>\n",
       "      <td>NaN</td>\n",
       "      <td>NaN</td>\n",
       "      <td>NaN</td>\n",
       "      <td>NaN</td>\n",
       "      <td>2019-05-03 13:30:47</td>\n",
       "      <td>NaN</td>\n",
       "      <td>2019-05-03 13:34:12</td>\n",
       "      <td>2019-05-03 13:30:47</td>\n",
       "    </tr>\n",
       "  </tbody>\n",
       "</table>\n",
       "</div>"
      ],
      "text/plain": [
       "   key Bulk 1 Bulk 2 Bulk 3               Bulk 4 Bulk 5 Bulk 6 Bulk 7 Bulk 8  \\\n",
       "0    1    NaN    NaN    NaN  2019-05-03 11:28:48    NaN    NaN    NaN    NaN   \n",
       "1    2    NaN    NaN    NaN  2019-05-03 11:36:50    NaN    NaN    NaN    NaN   \n",
       "2    3    NaN    NaN    NaN  2019-05-03 12:32:39    NaN    NaN    NaN    NaN   \n",
       "3    4    NaN    NaN    NaN  2019-05-03 12:43:22    NaN    NaN    NaN    NaN   \n",
       "4    5    NaN    NaN    NaN  2019-05-03 13:30:47    NaN    NaN    NaN    NaN   \n",
       "\n",
       "  Bulk 9 Bulk 10 Bulk 11              Bulk 12 Bulk 13              Bulk 14  \\\n",
       "0    NaN     NaN     NaN  2019-05-03 11:24:31     NaN  2019-05-03 11:14:50   \n",
       "1    NaN     NaN     NaN  2019-05-03 11:53:30     NaN  2019-05-03 11:48:37   \n",
       "2    NaN     NaN     NaN  2019-05-03 12:27:13     NaN  2019-05-03 12:21:01   \n",
       "3    NaN     NaN     NaN  2019-05-03 12:58:00     NaN  2019-05-03 12:51:11   \n",
       "4    NaN     NaN     NaN  2019-05-03 13:30:47     NaN  2019-05-03 13:34:12   \n",
       "\n",
       "               Bulk 15  \n",
       "0  2019-05-03 11:10:43  \n",
       "1  2019-05-03 11:44:39  \n",
       "2  2019-05-03 12:16:16  \n",
       "3  2019-05-03 12:46:36  \n",
       "4  2019-05-03 13:30:47  "
      ]
     },
     "execution_count": 5,
     "metadata": {},
     "output_type": "execute_result"
    }
   ],
   "source": [
    "df_bulk_time=pd.read_csv('/datasets/data_bulk_time_new.csv') #данные о подаче сыпучих материалов (время)\n",
    "df_bulk_time.head()"
   ]
  },
  {
   "cell_type": "code",
   "execution_count": 6,
   "metadata": {},
   "outputs": [
    {
     "data": {
      "text/html": [
       "<div>\n",
       "<style scoped>\n",
       "    .dataframe tbody tr th:only-of-type {\n",
       "        vertical-align: middle;\n",
       "    }\n",
       "\n",
       "    .dataframe tbody tr th {\n",
       "        vertical-align: top;\n",
       "    }\n",
       "\n",
       "    .dataframe thead th {\n",
       "        text-align: right;\n",
       "    }\n",
       "</style>\n",
       "<table border=\"1\" class=\"dataframe\">\n",
       "  <thead>\n",
       "    <tr style=\"text-align: right;\">\n",
       "      <th></th>\n",
       "      <th>key</th>\n",
       "      <th>Газ 1</th>\n",
       "    </tr>\n",
       "  </thead>\n",
       "  <tbody>\n",
       "    <tr>\n",
       "      <th>0</th>\n",
       "      <td>1</td>\n",
       "      <td>29.749986</td>\n",
       "    </tr>\n",
       "    <tr>\n",
       "      <th>1</th>\n",
       "      <td>2</td>\n",
       "      <td>12.555561</td>\n",
       "    </tr>\n",
       "    <tr>\n",
       "      <th>2</th>\n",
       "      <td>3</td>\n",
       "      <td>28.554793</td>\n",
       "    </tr>\n",
       "    <tr>\n",
       "      <th>3</th>\n",
       "      <td>4</td>\n",
       "      <td>18.841219</td>\n",
       "    </tr>\n",
       "    <tr>\n",
       "      <th>4</th>\n",
       "      <td>5</td>\n",
       "      <td>5.413692</td>\n",
       "    </tr>\n",
       "  </tbody>\n",
       "</table>\n",
       "</div>"
      ],
      "text/plain": [
       "   key      Газ 1\n",
       "0    1  29.749986\n",
       "1    2  12.555561\n",
       "2    3  28.554793\n",
       "3    4  18.841219\n",
       "4    5   5.413692"
      ]
     },
     "execution_count": 6,
     "metadata": {},
     "output_type": "execute_result"
    }
   ],
   "source": [
    "df_gas=pd.read_csv('/datasets/data_gas_new.csv') #данные о продувке сплава газом\n",
    "df_gas.head()"
   ]
  },
  {
   "cell_type": "code",
   "execution_count": 7,
   "metadata": {},
   "outputs": [
    {
     "data": {
      "text/html": [
       "<div>\n",
       "<style scoped>\n",
       "    .dataframe tbody tr th:only-of-type {\n",
       "        vertical-align: middle;\n",
       "    }\n",
       "\n",
       "    .dataframe tbody tr th {\n",
       "        vertical-align: top;\n",
       "    }\n",
       "\n",
       "    .dataframe thead th {\n",
       "        text-align: right;\n",
       "    }\n",
       "</style>\n",
       "<table border=\"1\" class=\"dataframe\">\n",
       "  <thead>\n",
       "    <tr style=\"text-align: right;\">\n",
       "      <th></th>\n",
       "      <th>key</th>\n",
       "      <th>Время замера</th>\n",
       "      <th>Температура</th>\n",
       "    </tr>\n",
       "  </thead>\n",
       "  <tbody>\n",
       "    <tr>\n",
       "      <th>0</th>\n",
       "      <td>1</td>\n",
       "      <td>2019-05-03 11:02:04</td>\n",
       "      <td>1571.0</td>\n",
       "    </tr>\n",
       "    <tr>\n",
       "      <th>1</th>\n",
       "      <td>1</td>\n",
       "      <td>2019-05-03 11:07:18</td>\n",
       "      <td>1604.0</td>\n",
       "    </tr>\n",
       "    <tr>\n",
       "      <th>2</th>\n",
       "      <td>1</td>\n",
       "      <td>2019-05-03 11:11:34</td>\n",
       "      <td>1618.0</td>\n",
       "    </tr>\n",
       "    <tr>\n",
       "      <th>3</th>\n",
       "      <td>1</td>\n",
       "      <td>2019-05-03 11:18:04</td>\n",
       "      <td>1601.0</td>\n",
       "    </tr>\n",
       "    <tr>\n",
       "      <th>4</th>\n",
       "      <td>1</td>\n",
       "      <td>2019-05-03 11:25:59</td>\n",
       "      <td>1606.0</td>\n",
       "    </tr>\n",
       "  </tbody>\n",
       "</table>\n",
       "</div>"
      ],
      "text/plain": [
       "   key         Время замера  Температура\n",
       "0    1  2019-05-03 11:02:04       1571.0\n",
       "1    1  2019-05-03 11:07:18       1604.0\n",
       "2    1  2019-05-03 11:11:34       1618.0\n",
       "3    1  2019-05-03 11:18:04       1601.0\n",
       "4    1  2019-05-03 11:25:59       1606.0"
      ]
     },
     "execution_count": 7,
     "metadata": {},
     "output_type": "execute_result"
    }
   ],
   "source": [
    "df_temp=pd.read_csv('/datasets/data_temp_new.csv') #результаты измерения температуры\n",
    "df_temp.head()"
   ]
  },
  {
   "cell_type": "code",
   "execution_count": 8,
   "metadata": {},
   "outputs": [
    {
     "data": {
      "text/html": [
       "<div>\n",
       "<style scoped>\n",
       "    .dataframe tbody tr th:only-of-type {\n",
       "        vertical-align: middle;\n",
       "    }\n",
       "\n",
       "    .dataframe tbody tr th {\n",
       "        vertical-align: top;\n",
       "    }\n",
       "\n",
       "    .dataframe thead th {\n",
       "        text-align: right;\n",
       "    }\n",
       "</style>\n",
       "<table border=\"1\" class=\"dataframe\">\n",
       "  <thead>\n",
       "    <tr style=\"text-align: right;\">\n",
       "      <th></th>\n",
       "      <th>key</th>\n",
       "      <th>Wire 1</th>\n",
       "      <th>Wire 2</th>\n",
       "      <th>Wire 3</th>\n",
       "      <th>Wire 4</th>\n",
       "      <th>Wire 5</th>\n",
       "      <th>Wire 6</th>\n",
       "      <th>Wire 7</th>\n",
       "      <th>Wire 8</th>\n",
       "      <th>Wire 9</th>\n",
       "    </tr>\n",
       "  </thead>\n",
       "  <tbody>\n",
       "    <tr>\n",
       "      <th>0</th>\n",
       "      <td>1</td>\n",
       "      <td>60.059998</td>\n",
       "      <td>NaN</td>\n",
       "      <td>NaN</td>\n",
       "      <td>NaN</td>\n",
       "      <td>NaN</td>\n",
       "      <td>NaN</td>\n",
       "      <td>NaN</td>\n",
       "      <td>NaN</td>\n",
       "      <td>NaN</td>\n",
       "    </tr>\n",
       "    <tr>\n",
       "      <th>1</th>\n",
       "      <td>2</td>\n",
       "      <td>96.052315</td>\n",
       "      <td>NaN</td>\n",
       "      <td>NaN</td>\n",
       "      <td>NaN</td>\n",
       "      <td>NaN</td>\n",
       "      <td>NaN</td>\n",
       "      <td>NaN</td>\n",
       "      <td>NaN</td>\n",
       "      <td>NaN</td>\n",
       "    </tr>\n",
       "    <tr>\n",
       "      <th>2</th>\n",
       "      <td>3</td>\n",
       "      <td>91.160157</td>\n",
       "      <td>NaN</td>\n",
       "      <td>NaN</td>\n",
       "      <td>NaN</td>\n",
       "      <td>NaN</td>\n",
       "      <td>NaN</td>\n",
       "      <td>NaN</td>\n",
       "      <td>NaN</td>\n",
       "      <td>NaN</td>\n",
       "    </tr>\n",
       "    <tr>\n",
       "      <th>3</th>\n",
       "      <td>4</td>\n",
       "      <td>89.063515</td>\n",
       "      <td>NaN</td>\n",
       "      <td>NaN</td>\n",
       "      <td>NaN</td>\n",
       "      <td>NaN</td>\n",
       "      <td>NaN</td>\n",
       "      <td>NaN</td>\n",
       "      <td>NaN</td>\n",
       "      <td>NaN</td>\n",
       "    </tr>\n",
       "    <tr>\n",
       "      <th>4</th>\n",
       "      <td>5</td>\n",
       "      <td>89.238236</td>\n",
       "      <td>9.11456</td>\n",
       "      <td>NaN</td>\n",
       "      <td>NaN</td>\n",
       "      <td>NaN</td>\n",
       "      <td>NaN</td>\n",
       "      <td>NaN</td>\n",
       "      <td>NaN</td>\n",
       "      <td>NaN</td>\n",
       "    </tr>\n",
       "  </tbody>\n",
       "</table>\n",
       "</div>"
      ],
      "text/plain": [
       "   key     Wire 1   Wire 2  Wire 3  Wire 4  Wire 5  Wire 6  Wire 7  Wire 8  \\\n",
       "0    1  60.059998      NaN     NaN     NaN     NaN     NaN     NaN     NaN   \n",
       "1    2  96.052315      NaN     NaN     NaN     NaN     NaN     NaN     NaN   \n",
       "2    3  91.160157      NaN     NaN     NaN     NaN     NaN     NaN     NaN   \n",
       "3    4  89.063515      NaN     NaN     NaN     NaN     NaN     NaN     NaN   \n",
       "4    5  89.238236  9.11456     NaN     NaN     NaN     NaN     NaN     NaN   \n",
       "\n",
       "   Wire 9  \n",
       "0     NaN  \n",
       "1     NaN  \n",
       "2     NaN  \n",
       "3     NaN  \n",
       "4     NaN  "
      ]
     },
     "execution_count": 8,
     "metadata": {},
     "output_type": "execute_result"
    }
   ],
   "source": [
    "df_wire=pd.read_csv('/datasets/data_wire_new.csv') #данные о проволочных материалах (объём)\n",
    "df_wire.head()"
   ]
  },
  {
   "cell_type": "code",
   "execution_count": 9,
   "metadata": {},
   "outputs": [
    {
     "data": {
      "text/html": [
       "<div>\n",
       "<style scoped>\n",
       "    .dataframe tbody tr th:only-of-type {\n",
       "        vertical-align: middle;\n",
       "    }\n",
       "\n",
       "    .dataframe tbody tr th {\n",
       "        vertical-align: top;\n",
       "    }\n",
       "\n",
       "    .dataframe thead th {\n",
       "        text-align: right;\n",
       "    }\n",
       "</style>\n",
       "<table border=\"1\" class=\"dataframe\">\n",
       "  <thead>\n",
       "    <tr style=\"text-align: right;\">\n",
       "      <th></th>\n",
       "      <th>key</th>\n",
       "      <th>Wire 1</th>\n",
       "      <th>Wire 2</th>\n",
       "      <th>Wire 3</th>\n",
       "      <th>Wire 4</th>\n",
       "      <th>Wire 5</th>\n",
       "      <th>Wire 6</th>\n",
       "      <th>Wire 7</th>\n",
       "      <th>Wire 8</th>\n",
       "      <th>Wire 9</th>\n",
       "    </tr>\n",
       "  </thead>\n",
       "  <tbody>\n",
       "    <tr>\n",
       "      <th>0</th>\n",
       "      <td>1</td>\n",
       "      <td>2019-05-03 11:06:19</td>\n",
       "      <td>NaN</td>\n",
       "      <td>NaN</td>\n",
       "      <td>NaN</td>\n",
       "      <td>NaN</td>\n",
       "      <td>NaN</td>\n",
       "      <td>NaN</td>\n",
       "      <td>NaN</td>\n",
       "      <td>NaN</td>\n",
       "    </tr>\n",
       "    <tr>\n",
       "      <th>1</th>\n",
       "      <td>2</td>\n",
       "      <td>2019-05-03 11:36:50</td>\n",
       "      <td>NaN</td>\n",
       "      <td>NaN</td>\n",
       "      <td>NaN</td>\n",
       "      <td>NaN</td>\n",
       "      <td>NaN</td>\n",
       "      <td>NaN</td>\n",
       "      <td>NaN</td>\n",
       "      <td>NaN</td>\n",
       "    </tr>\n",
       "    <tr>\n",
       "      <th>2</th>\n",
       "      <td>3</td>\n",
       "      <td>2019-05-03 12:11:46</td>\n",
       "      <td>NaN</td>\n",
       "      <td>NaN</td>\n",
       "      <td>NaN</td>\n",
       "      <td>NaN</td>\n",
       "      <td>NaN</td>\n",
       "      <td>NaN</td>\n",
       "      <td>NaN</td>\n",
       "      <td>NaN</td>\n",
       "    </tr>\n",
       "    <tr>\n",
       "      <th>3</th>\n",
       "      <td>4</td>\n",
       "      <td>2019-05-03 12:43:22</td>\n",
       "      <td>NaN</td>\n",
       "      <td>NaN</td>\n",
       "      <td>NaN</td>\n",
       "      <td>NaN</td>\n",
       "      <td>NaN</td>\n",
       "      <td>NaN</td>\n",
       "      <td>NaN</td>\n",
       "      <td>NaN</td>\n",
       "    </tr>\n",
       "    <tr>\n",
       "      <th>4</th>\n",
       "      <td>5</td>\n",
       "      <td>2019-05-03 13:20:44</td>\n",
       "      <td>2019-05-03 13:15:34</td>\n",
       "      <td>NaN</td>\n",
       "      <td>NaN</td>\n",
       "      <td>NaN</td>\n",
       "      <td>NaN</td>\n",
       "      <td>NaN</td>\n",
       "      <td>NaN</td>\n",
       "      <td>NaN</td>\n",
       "    </tr>\n",
       "  </tbody>\n",
       "</table>\n",
       "</div>"
      ],
      "text/plain": [
       "   key               Wire 1               Wire 2 Wire 3 Wire 4 Wire 5 Wire 6  \\\n",
       "0    1  2019-05-03 11:06:19                  NaN    NaN    NaN    NaN    NaN   \n",
       "1    2  2019-05-03 11:36:50                  NaN    NaN    NaN    NaN    NaN   \n",
       "2    3  2019-05-03 12:11:46                  NaN    NaN    NaN    NaN    NaN   \n",
       "3    4  2019-05-03 12:43:22                  NaN    NaN    NaN    NaN    NaN   \n",
       "4    5  2019-05-03 13:20:44  2019-05-03 13:15:34    NaN    NaN    NaN    NaN   \n",
       "\n",
       "  Wire 7 Wire 8 Wire 9  \n",
       "0    NaN    NaN    NaN  \n",
       "1    NaN    NaN    NaN  \n",
       "2    NaN    NaN    NaN  \n",
       "3    NaN    NaN    NaN  \n",
       "4    NaN    NaN    NaN  "
      ]
     },
     "execution_count": 9,
     "metadata": {},
     "output_type": "execute_result"
    }
   ],
   "source": [
    "df_wire_time=pd.read_csv('/datasets/data_wire_time_new.csv') #данные о проволочных материалах (время)\n",
    "df_wire_time.head()"
   ]
  },
  {
   "cell_type": "code",
   "execution_count": 10,
   "metadata": {},
   "outputs": [],
   "source": [
    "def statistics (df):\n",
    "    info = df.info() \n",
    "    print(f\"Общая информация\\n {info}\\n\")\n",
    "    describe = df.describe()\n",
    "    print(f'Cтатистическиe данные\\n {describe}\\n')\n",
    "    duplicated = df.duplicated().sum()\n",
    "    print(f'Количествo дубликатов\\n {duplicated}\\n')\n",
    "    isna = df.isna().sum()\n",
    "    print(f'Количествo пропусков\\n {isna}')\n",
    "    df.hist(figsize=(10,10));"
   ]
  },
  {
   "cell_type": "markdown",
   "metadata": {},
   "source": [
    "### Электроды"
   ]
  },
  {
   "cell_type": "code",
   "execution_count": 11,
   "metadata": {},
   "outputs": [
    {
     "name": "stdout",
     "output_type": "stream",
     "text": [
      "<class 'pandas.core.frame.DataFrame'>\n",
      "RangeIndex: 14876 entries, 0 to 14875\n",
      "Data columns (total 5 columns):\n",
      " #   Column                Non-Null Count  Dtype  \n",
      "---  ------                --------------  -----  \n",
      " 0   key                   14876 non-null  int64  \n",
      " 1   Начало нагрева дугой  14876 non-null  object \n",
      " 2   Конец нагрева дугой   14876 non-null  object \n",
      " 3   Активная мощность     14876 non-null  float64\n",
      " 4   Реактивная мощность   14876 non-null  float64\n",
      "dtypes: float64(2), int64(1), object(2)\n",
      "memory usage: 581.2+ KB\n",
      "Общая информация\n",
      " None\n",
      "\n",
      "Cтатистическиe данные\n",
      "                 key  Активная мощность  Реактивная мощность\n",
      "count  14876.000000       14876.000000         14876.000000\n",
      "mean    1615.220422           0.662752             0.438986\n",
      "std      934.571502           0.258885             5.873485\n",
      "min        1.000000           0.223120          -715.479924\n",
      "25%      806.000000           0.467115             0.337175\n",
      "50%     1617.000000           0.599587             0.441639\n",
      "75%     2429.000000           0.830070             0.608201\n",
      "max     3241.000000           1.463773             1.270284\n",
      "\n",
      "Количествo дубликатов\n",
      " 0\n",
      "\n",
      "Количествo пропусков\n",
      " key                     0\n",
      "Начало нагрева дугой    0\n",
      "Конец нагрева дугой     0\n",
      "Активная мощность       0\n",
      "Реактивная мощность     0\n",
      "dtype: int64\n",
      "None\n"
     ]
    },
    {
     "data": {
      "image/png": "[encoded data removed]",
      "text/plain": [
       "<Figure size 720x720 with 4 Axes>"
      ]
     },
     "metadata": {
      "needs_background": "light"
     },
     "output_type": "display_data"
    }
   ],
   "source": [
    "print(statistics(df_arc))"
   ]
  },
  {
   "cell_type": "code",
   "execution_count": 12,
   "metadata": {},
   "outputs": [],
   "source": [
    "#df_arc = df_arc.drop(df_arc[df_arc['Активная мощность'] <= 0].index).reset_index(drop=True)\n",
    "df_arc = df_arc.drop(df_arc[df_arc['Реактивная мощность'] <= 0].index).reset_index(drop=True)"
   ]
  },
  {
   "cell_type": "code",
   "execution_count": 13,
   "metadata": {},
   "outputs": [
    {
     "data": {
      "text/html": [
       "<div>\n",
       "<style scoped>\n",
       "    .dataframe tbody tr th:only-of-type {\n",
       "        vertical-align: middle;\n",
       "    }\n",
       "\n",
       "    .dataframe tbody tr th {\n",
       "        vertical-align: top;\n",
       "    }\n",
       "\n",
       "    .dataframe thead th {\n",
       "        text-align: right;\n",
       "    }\n",
       "</style>\n",
       "<table border=\"1\" class=\"dataframe\">\n",
       "  <thead>\n",
       "    <tr style=\"text-align: right;\">\n",
       "      <th></th>\n",
       "      <th>key</th>\n",
       "      <th>Начало нагрева дугой</th>\n",
       "      <th>Конец нагрева дугой</th>\n",
       "      <th>Среднее значение мощности</th>\n",
       "    </tr>\n",
       "  </thead>\n",
       "  <tbody>\n",
       "    <tr>\n",
       "      <th>0</th>\n",
       "      <td>1</td>\n",
       "      <td>2019-05-03 11:02:14</td>\n",
       "      <td>2019-05-03 11:06:02</td>\n",
       "      <td>0.258192</td>\n",
       "    </tr>\n",
       "    <tr>\n",
       "      <th>1</th>\n",
       "      <td>1</td>\n",
       "      <td>2019-05-03 11:07:28</td>\n",
       "      <td>2019-05-03 11:10:33</td>\n",
       "      <td>0.621548</td>\n",
       "    </tr>\n",
       "    <tr>\n",
       "      <th>2</th>\n",
       "      <td>1</td>\n",
       "      <td>2019-05-03 11:11:44</td>\n",
       "      <td>2019-05-03 11:14:36</td>\n",
       "      <td>0.505386</td>\n",
       "    </tr>\n",
       "    <tr>\n",
       "      <th>3</th>\n",
       "      <td>1</td>\n",
       "      <td>2019-05-03 11:18:14</td>\n",
       "      <td>2019-05-03 11:24:19</td>\n",
       "      <td>0.449237</td>\n",
       "    </tr>\n",
       "    <tr>\n",
       "      <th>4</th>\n",
       "      <td>1</td>\n",
       "      <td>2019-05-03 11:26:09</td>\n",
       "      <td>2019-05-03 11:28:37</td>\n",
       "      <td>0.755412</td>\n",
       "    </tr>\n",
       "    <tr>\n",
       "      <th>...</th>\n",
       "      <td>...</td>\n",
       "      <td>...</td>\n",
       "      <td>...</td>\n",
       "      <td>...</td>\n",
       "    </tr>\n",
       "    <tr>\n",
       "      <th>14870</th>\n",
       "      <td>3241</td>\n",
       "      <td>2019-09-06 16:49:05</td>\n",
       "      <td>2019-09-06 16:51:42</td>\n",
       "      <td>0.369657</td>\n",
       "    </tr>\n",
       "    <tr>\n",
       "      <th>14871</th>\n",
       "      <td>3241</td>\n",
       "      <td>2019-09-06 16:55:11</td>\n",
       "      <td>2019-09-06 16:58:11</td>\n",
       "      <td>0.552369</td>\n",
       "    </tr>\n",
       "    <tr>\n",
       "      <th>14872</th>\n",
       "      <td>3241</td>\n",
       "      <td>2019-09-06 17:06:48</td>\n",
       "      <td>2019-09-06 17:09:52</td>\n",
       "      <td>0.904514</td>\n",
       "    </tr>\n",
       "    <tr>\n",
       "      <th>14873</th>\n",
       "      <td>3241</td>\n",
       "      <td>2019-09-06 17:21:58</td>\n",
       "      <td>2019-09-06 17:22:55</td>\n",
       "      <td>0.445905</td>\n",
       "    </tr>\n",
       "    <tr>\n",
       "      <th>14874</th>\n",
       "      <td>3241</td>\n",
       "      <td>2019-09-06 17:24:54</td>\n",
       "      <td>2019-09-06 17:26:15</td>\n",
       "      <td>0.320202</td>\n",
       "    </tr>\n",
       "  </tbody>\n",
       "</table>\n",
       "<p>14875 rows × 4 columns</p>\n",
       "</div>"
      ],
      "text/plain": [
       "        key Начало нагрева дугой  Конец нагрева дугой  \\\n",
       "0         1  2019-05-03 11:02:14  2019-05-03 11:06:02   \n",
       "1         1  2019-05-03 11:07:28  2019-05-03 11:10:33   \n",
       "2         1  2019-05-03 11:11:44  2019-05-03 11:14:36   \n",
       "3         1  2019-05-03 11:18:14  2019-05-03 11:24:19   \n",
       "4         1  2019-05-03 11:26:09  2019-05-03 11:28:37   \n",
       "...     ...                  ...                  ...   \n",
       "14870  3241  2019-09-06 16:49:05  2019-09-06 16:51:42   \n",
       "14871  3241  2019-09-06 16:55:11  2019-09-06 16:58:11   \n",
       "14872  3241  2019-09-06 17:06:48  2019-09-06 17:09:52   \n",
       "14873  3241  2019-09-06 17:21:58  2019-09-06 17:22:55   \n",
       "14874  3241  2019-09-06 17:24:54  2019-09-06 17:26:15   \n",
       "\n",
       "       Среднее значение мощности  \n",
       "0                       0.258192  \n",
       "1                       0.621548  \n",
       "2                       0.505386  \n",
       "3                       0.449237  \n",
       "4                       0.755412  \n",
       "...                          ...  \n",
       "14870                   0.369657  \n",
       "14871                   0.552369  \n",
       "14872                   0.904514  \n",
       "14873                   0.445905  \n",
       "14874                   0.320202  \n",
       "\n",
       "[14875 rows x 4 columns]"
      ]
     },
     "execution_count": 13,
     "metadata": {},
     "output_type": "execute_result"
    }
   ],
   "source": [
    "df_arc['Среднее значение мощности'] = df_arc[['Активная мощность', 'Реактивная мощность']].mean(axis=1)\n",
    "df_arc = df_arc.drop(['Активная мощность', 'Реактивная мощность'], axis=1)\n",
    "df_arc"
   ]
  },
  {
   "cell_type": "markdown",
   "metadata": {},
   "source": [
    "Распределение активной мощности похоже на нормальное. Были удалены данные, где Реактиваня мощность - отрицательная, так как мощность должна быть положительной. Пропусков и дубликатов нет, данные чистые.Значения в key - не уникальны."
   ]
  },
  {
   "cell_type": "markdown",
   "metadata": {},
   "source": [
    "###  Сыпучиe материалы (Объем)"
   ]
  },
  {
   "cell_type": "code",
   "execution_count": 14,
   "metadata": {},
   "outputs": [
    {
     "name": "stdout",
     "output_type": "stream",
     "text": [
      "<class 'pandas.core.frame.DataFrame'>\n",
      "RangeIndex: 3129 entries, 0 to 3128\n",
      "Data columns (total 16 columns):\n",
      " #   Column   Non-Null Count  Dtype  \n",
      "---  ------   --------------  -----  \n",
      " 0   key      3129 non-null   int64  \n",
      " 1   Bulk 1   252 non-null    float64\n",
      " 2   Bulk 2   22 non-null     float64\n",
      " 3   Bulk 3   1298 non-null   float64\n",
      " 4   Bulk 4   1014 non-null   float64\n",
      " 5   Bulk 5   77 non-null     float64\n",
      " 6   Bulk 6   576 non-null    float64\n",
      " 7   Bulk 7   25 non-null     float64\n",
      " 8   Bulk 8   1 non-null      float64\n",
      " 9   Bulk 9   19 non-null     float64\n",
      " 10  Bulk 10  176 non-null    float64\n",
      " 11  Bulk 11  177 non-null    float64\n",
      " 12  Bulk 12  2450 non-null   float64\n",
      " 13  Bulk 13  18 non-null     float64\n",
      " 14  Bulk 14  2806 non-null   float64\n",
      " 15  Bulk 15  2248 non-null   float64\n",
      "dtypes: float64(15), int64(1)\n",
      "memory usage: 391.2 KB\n",
      "Общая информация\n",
      " None\n",
      "\n",
      "Cтатистическиe данные\n",
      "                key      Bulk 1      Bulk 2       Bulk 3       Bulk 4  \\\n",
      "count  3129.000000  252.000000   22.000000  1298.000000  1014.000000   \n",
      "mean   1624.383509   39.242063  253.045455   113.879045   104.394477   \n",
      "std     933.337642   18.277654   21.180578    75.483494    48.184126   \n",
      "min       1.000000   10.000000  228.000000     6.000000    12.000000   \n",
      "25%     816.000000   27.000000  242.000000    58.000000    72.000000   \n",
      "50%    1622.000000   31.000000  251.500000    97.500000   102.000000   \n",
      "75%    2431.000000   46.000000  257.750000   152.000000   133.000000   \n",
      "max    3241.000000  185.000000  325.000000   454.000000   281.000000   \n",
      "\n",
      "           Bulk 5      Bulk 6      Bulk 7  Bulk 8      Bulk 9     Bulk 10  \\\n",
      "count   77.000000  576.000000   25.000000     1.0   19.000000  176.000000   \n",
      "mean   107.025974  118.925347  305.600000    49.0   76.315789   83.284091   \n",
      "std     81.790646   72.057776  191.022904     NaN   21.720581   26.060347   \n",
      "min     11.000000   17.000000   47.000000    49.0   63.000000   24.000000   \n",
      "25%     70.000000   69.750000  155.000000    49.0   66.000000   64.000000   \n",
      "50%     86.000000  100.000000  298.000000    49.0   68.000000   86.500000   \n",
      "75%    132.000000  157.000000  406.000000    49.0   70.500000  102.000000   \n",
      "max    603.000000  503.000000  772.000000    49.0  147.000000  159.000000   \n",
      "\n",
      "          Bulk 11      Bulk 12     Bulk 13      Bulk 14      Bulk 15  \n",
      "count  177.000000  2450.000000   18.000000  2806.000000  2248.000000  \n",
      "mean    76.819209   260.471020  181.111111   170.284747   160.513345  \n",
      "std     59.655365   120.649269   46.088009    65.868652    51.765319  \n",
      "min      8.000000    53.000000  151.000000    16.000000     1.000000  \n",
      "25%     25.000000   204.000000  153.250000   119.000000   105.000000  \n",
      "50%     64.000000   208.000000  155.500000   151.000000   160.000000  \n",
      "75%    106.000000   316.000000  203.500000   205.750000   205.000000  \n",
      "max    313.000000  1849.000000  305.000000   636.000000   405.000000  \n",
      "\n",
      "Количествo дубликатов\n",
      " 0\n",
      "\n",
      "Количествo пропусков\n",
      " key           0\n",
      "Bulk 1     2877\n",
      "Bulk 2     3107\n",
      "Bulk 3     1831\n",
      "Bulk 4     2115\n",
      "Bulk 5     3052\n",
      "Bulk 6     2553\n",
      "Bulk 7     3104\n",
      "Bulk 8     3128\n",
      "Bulk 9     3110\n",
      "Bulk 10    2953\n",
      "Bulk 11    2952\n",
      "Bulk 12     679\n",
      "Bulk 13    3111\n",
      "Bulk 14     323\n",
      "Bulk 15     881\n",
      "dtype: int64\n",
      "None\n"
     ]
    },
    {
     "data": {
      "image/png": "[encoded data removed]",
      "text/plain": [
       "<Figure size 720x720 with 16 Axes>"
      ]
     },
     "metadata": {
      "needs_background": "light"
     },
     "output_type": "display_data"
    }
   ],
   "source": [
    "print(statistics(df_bulk))"
   ]
  },
  {
   "cell_type": "markdown",
   "metadata": {},
   "source": [
    "Заменим пропуски на нули для дальнейшего упрощения рассчетов"
   ]
  },
  {
   "cell_type": "code",
   "execution_count": 15,
   "metadata": {},
   "outputs": [],
   "source": [
    "df_bulk = df_bulk.fillna(0)"
   ]
  },
  {
   "cell_type": "markdown",
   "metadata": {},
   "source": [
    "###  Сыпучиe материалы (Время)"
   ]
  },
  {
   "cell_type": "code",
   "execution_count": 16,
   "metadata": {},
   "outputs": [
    {
     "name": "stdout",
     "output_type": "stream",
     "text": [
      "<class 'pandas.core.frame.DataFrame'>\n",
      "RangeIndex: 3129 entries, 0 to 3128\n",
      "Data columns (total 16 columns):\n",
      " #   Column   Non-Null Count  Dtype \n",
      "---  ------   --------------  ----- \n",
      " 0   key      3129 non-null   int64 \n",
      " 1   Bulk 1   252 non-null    object\n",
      " 2   Bulk 2   22 non-null     object\n",
      " 3   Bulk 3   1298 non-null   object\n",
      " 4   Bulk 4   1014 non-null   object\n",
      " 5   Bulk 5   77 non-null     object\n",
      " 6   Bulk 6   576 non-null    object\n",
      " 7   Bulk 7   25 non-null     object\n",
      " 8   Bulk 8   1 non-null      object\n",
      " 9   Bulk 9   19 non-null     object\n",
      " 10  Bulk 10  176 non-null    object\n",
      " 11  Bulk 11  177 non-null    object\n",
      " 12  Bulk 12  2450 non-null   object\n",
      " 13  Bulk 13  18 non-null     object\n",
      " 14  Bulk 14  2806 non-null   object\n",
      " 15  Bulk 15  2248 non-null   object\n",
      "dtypes: int64(1), object(15)\n",
      "memory usage: 391.2+ KB\n",
      "Общая информация\n",
      " None\n",
      "\n",
      "Cтатистическиe данные\n",
      "                key\n",
      "count  3129.000000\n",
      "mean   1624.383509\n",
      "std     933.337642\n",
      "min       1.000000\n",
      "25%     816.000000\n",
      "50%    1622.000000\n",
      "75%    2431.000000\n",
      "max    3241.000000\n",
      "\n",
      "Количествo дубликатов\n",
      " 0\n",
      "\n",
      "Количествo пропусков\n",
      " key           0\n",
      "Bulk 1     2877\n",
      "Bulk 2     3107\n",
      "Bulk 3     1831\n",
      "Bulk 4     2115\n",
      "Bulk 5     3052\n",
      "Bulk 6     2553\n",
      "Bulk 7     3104\n",
      "Bulk 8     3128\n",
      "Bulk 9     3110\n",
      "Bulk 10    2953\n",
      "Bulk 11    2952\n",
      "Bulk 12     679\n",
      "Bulk 13    3111\n",
      "Bulk 14     323\n",
      "Bulk 15     881\n",
      "dtype: int64\n",
      "None\n"
     ]
    },
    {
     "data": {
      "image/png": "[encoded data removed]",
      "text/plain": [
       "<Figure size 720x720 with 1 Axes>"
      ]
     },
     "metadata": {
      "needs_background": "light"
     },
     "output_type": "display_data"
    }
   ],
   "source": [
    "print(statistics(df_bulk_time))"
   ]
  },
  {
   "cell_type": "markdown",
   "metadata": {},
   "source": [
    "### Продувка сплава газом"
   ]
  },
  {
   "cell_type": "code",
   "execution_count": 17,
   "metadata": {
    "scrolled": true
   },
   "outputs": [
    {
     "name": "stdout",
     "output_type": "stream",
     "text": [
      "<class 'pandas.core.frame.DataFrame'>\n",
      "RangeIndex: 3239 entries, 0 to 3238\n",
      "Data columns (total 2 columns):\n",
      " #   Column  Non-Null Count  Dtype  \n",
      "---  ------  --------------  -----  \n",
      " 0   key     3239 non-null   int64  \n",
      " 1   Газ 1   3239 non-null   float64\n",
      "dtypes: float64(1), int64(1)\n",
      "memory usage: 50.7 KB\n",
      "Общая информация\n",
      " None\n",
      "\n",
      "Cтатистическиe данные\n",
      "                key        Газ 1\n",
      "count  3239.000000  3239.000000\n",
      "mean   1621.861377    11.002062\n",
      "std     935.386334     6.220327\n",
      "min       1.000000     0.008399\n",
      "25%     812.500000     7.043089\n",
      "50%    1622.000000     9.836267\n",
      "75%    2431.500000    13.769915\n",
      "max    3241.000000    77.995040\n",
      "\n",
      "Количествo дубликатов\n",
      " 0\n",
      "\n",
      "Количествo пропусков\n",
      " key      0\n",
      "Газ 1    0\n",
      "dtype: int64\n",
      "None\n"
     ]
    },
    {
     "data": {
      "image/png": "[encoded data removed]",
      "text/plain": [
       "<Figure size 720x720 with 2 Axes>"
      ]
     },
     "metadata": {
      "needs_background": "light"
     },
     "output_type": "display_data"
    }
   ],
   "source": [
    "print(statistics(df_gas))"
   ]
  },
  {
   "cell_type": "markdown",
   "metadata": {},
   "source": [
    "### Результаты измерения температуры"
   ]
  },
  {
   "cell_type": "code",
   "execution_count": 18,
   "metadata": {},
   "outputs": [
    {
     "name": "stdout",
     "output_type": "stream",
     "text": [
      "<class 'pandas.core.frame.DataFrame'>\n",
      "RangeIndex: 18092 entries, 0 to 18091\n",
      "Data columns (total 3 columns):\n",
      " #   Column        Non-Null Count  Dtype  \n",
      "---  ------        --------------  -----  \n",
      " 0   key           18092 non-null  int64  \n",
      " 1   Время замера  18092 non-null  object \n",
      " 2   Температура   14665 non-null  float64\n",
      "dtypes: float64(1), int64(1), object(1)\n",
      "memory usage: 424.2+ KB\n",
      "Общая информация\n",
      " None\n",
      "\n",
      "Cтатистическиe данные\n",
      "                 key   Температура\n",
      "count  18092.000000  14665.000000\n",
      "mean    1616.460977   1590.722741\n",
      "std      934.641385     20.394381\n",
      "min        1.000000   1191.000000\n",
      "25%      807.750000   1580.000000\n",
      "50%     1618.000000   1590.000000\n",
      "75%     2429.000000   1599.000000\n",
      "max     3241.000000   1705.000000\n",
      "\n",
      "Количествo дубликатов\n",
      " 0\n",
      "\n",
      "Количествo пропусков\n",
      " key                0\n",
      "Время замера       0\n",
      "Температура     3427\n",
      "dtype: int64\n",
      "None\n"
     ]
    },
    {
     "data": {
      "image/png": "[encoded data removed]",
      "text/plain": [
       "<Figure size 720x720 with 2 Axes>"
      ]
     },
     "metadata": {
      "needs_background": "light"
     },
     "output_type": "display_data"
    }
   ],
   "source": [
    "print(statistics(df_temp))"
   ]
  },
  {
   "cell_type": "markdown",
   "metadata": {},
   "source": [
    "Удалим пропуски, так как они составляют меньше 10% от всех данных "
   ]
  },
  {
   "cell_type": "code",
   "execution_count": 19,
   "metadata": {},
   "outputs": [],
   "source": [
    "df_temp = df_temp.dropna(axis=0)\n",
    "df_temp.reset_index(drop=True, inplace=True)"
   ]
  },
  {
   "cell_type": "markdown",
   "metadata": {},
   "source": [
    "Удалим строки, оставив только начальное и конечное значение, если у температуры значение только одно, то такие данные мы тоже удаляем, ведь у нас нет конечной температуры."
   ]
  },
  {
   "cell_type": "code",
   "execution_count": 20,
   "metadata": {},
   "outputs": [],
   "source": [
    "df_temp = df_temp.groupby(by = 'key', as_index = False).agg(['first', 'last'])"
   ]
  },
  {
   "cell_type": "code",
   "execution_count": 21,
   "metadata": {},
   "outputs": [
    {
     "data": {
      "text/html": [
       "<div>\n",
       "<style scoped>\n",
       "    .dataframe tbody tr th:only-of-type {\n",
       "        vertical-align: middle;\n",
       "    }\n",
       "\n",
       "    .dataframe tbody tr th {\n",
       "        vertical-align: top;\n",
       "    }\n",
       "\n",
       "    .dataframe thead tr th {\n",
       "        text-align: left;\n",
       "    }\n",
       "\n",
       "    .dataframe thead tr:last-of-type th {\n",
       "        text-align: right;\n",
       "    }\n",
       "</style>\n",
       "<table border=\"1\" class=\"dataframe\">\n",
       "  <thead>\n",
       "    <tr>\n",
       "      <th></th>\n",
       "      <th colspan=\"2\" halign=\"left\">Время замера</th>\n",
       "      <th colspan=\"2\" halign=\"left\">Температура</th>\n",
       "    </tr>\n",
       "    <tr>\n",
       "      <th></th>\n",
       "      <th>first</th>\n",
       "      <th>last</th>\n",
       "      <th>first</th>\n",
       "      <th>last</th>\n",
       "    </tr>\n",
       "    <tr>\n",
       "      <th>key</th>\n",
       "      <th></th>\n",
       "      <th></th>\n",
       "      <th></th>\n",
       "      <th></th>\n",
       "    </tr>\n",
       "  </thead>\n",
       "  <tbody>\n",
       "    <tr>\n",
       "      <th>1</th>\n",
       "      <td>2019-05-03 11:02:04</td>\n",
       "      <td>2019-05-03 11:30:38</td>\n",
       "      <td>1571.0</td>\n",
       "      <td>1613.0</td>\n",
       "    </tr>\n",
       "    <tr>\n",
       "      <th>2</th>\n",
       "      <td>2019-05-03 11:34:04</td>\n",
       "      <td>2019-05-03 11:55:09</td>\n",
       "      <td>1581.0</td>\n",
       "      <td>1602.0</td>\n",
       "    </tr>\n",
       "    <tr>\n",
       "      <th>3</th>\n",
       "      <td>2019-05-03 12:06:44</td>\n",
       "      <td>2019-05-03 12:35:57</td>\n",
       "      <td>1596.0</td>\n",
       "      <td>1599.0</td>\n",
       "    </tr>\n",
       "    <tr>\n",
       "      <th>4</th>\n",
       "      <td>2019-05-03 12:39:27</td>\n",
       "      <td>2019-05-03 12:59:47</td>\n",
       "      <td>1601.0</td>\n",
       "      <td>1625.0</td>\n",
       "    </tr>\n",
       "    <tr>\n",
       "      <th>5</th>\n",
       "      <td>2019-05-03 13:11:03</td>\n",
       "      <td>2019-05-03 13:36:39</td>\n",
       "      <td>1576.0</td>\n",
       "      <td>1602.0</td>\n",
       "    </tr>\n",
       "  </tbody>\n",
       "</table>\n",
       "</div>"
      ],
      "text/plain": [
       "            Время замера                      Температура        \n",
       "                   first                 last       first    last\n",
       "key                                                              \n",
       "1    2019-05-03 11:02:04  2019-05-03 11:30:38      1571.0  1613.0\n",
       "2    2019-05-03 11:34:04  2019-05-03 11:55:09      1581.0  1602.0\n",
       "3    2019-05-03 12:06:44  2019-05-03 12:35:57      1596.0  1599.0\n",
       "4    2019-05-03 12:39:27  2019-05-03 12:59:47      1601.0  1625.0\n",
       "5    2019-05-03 13:11:03  2019-05-03 13:36:39      1576.0  1602.0"
      ]
     },
     "execution_count": 21,
     "metadata": {},
     "output_type": "execute_result"
    }
   ],
   "source": [
    "df_temp.head()"
   ]
  },
  {
   "cell_type": "code",
   "execution_count": 22,
   "metadata": {},
   "outputs": [
    {
     "data": {
      "text/html": [
       "<div>\n",
       "<style scoped>\n",
       "    .dataframe tbody tr th:only-of-type {\n",
       "        vertical-align: middle;\n",
       "    }\n",
       "\n",
       "    .dataframe tbody tr th {\n",
       "        vertical-align: top;\n",
       "    }\n",
       "\n",
       "    .dataframe thead th {\n",
       "        text-align: right;\n",
       "    }\n",
       "</style>\n",
       "<table border=\"1\" class=\"dataframe\">\n",
       "  <thead>\n",
       "    <tr style=\"text-align: right;\">\n",
       "      <th></th>\n",
       "      <th>Время 1</th>\n",
       "      <th>Время 2</th>\n",
       "      <th>Температура 1</th>\n",
       "      <th>Температура 2</th>\n",
       "    </tr>\n",
       "    <tr>\n",
       "      <th>key</th>\n",
       "      <th></th>\n",
       "      <th></th>\n",
       "      <th></th>\n",
       "      <th></th>\n",
       "    </tr>\n",
       "  </thead>\n",
       "  <tbody>\n",
       "    <tr>\n",
       "      <th>1</th>\n",
       "      <td>2019-05-03 11:02:04</td>\n",
       "      <td>2019-05-03 11:30:38</td>\n",
       "      <td>1571.0</td>\n",
       "      <td>1613.0</td>\n",
       "    </tr>\n",
       "    <tr>\n",
       "      <th>2</th>\n",
       "      <td>2019-05-03 11:34:04</td>\n",
       "      <td>2019-05-03 11:55:09</td>\n",
       "      <td>1581.0</td>\n",
       "      <td>1602.0</td>\n",
       "    </tr>\n",
       "    <tr>\n",
       "      <th>3</th>\n",
       "      <td>2019-05-03 12:06:44</td>\n",
       "      <td>2019-05-03 12:35:57</td>\n",
       "      <td>1596.0</td>\n",
       "      <td>1599.0</td>\n",
       "    </tr>\n",
       "    <tr>\n",
       "      <th>4</th>\n",
       "      <td>2019-05-03 12:39:27</td>\n",
       "      <td>2019-05-03 12:59:47</td>\n",
       "      <td>1601.0</td>\n",
       "      <td>1625.0</td>\n",
       "    </tr>\n",
       "    <tr>\n",
       "      <th>5</th>\n",
       "      <td>2019-05-03 13:11:03</td>\n",
       "      <td>2019-05-03 13:36:39</td>\n",
       "      <td>1576.0</td>\n",
       "      <td>1602.0</td>\n",
       "    </tr>\n",
       "    <tr>\n",
       "      <th>...</th>\n",
       "      <td>...</td>\n",
       "      <td>...</td>\n",
       "      <td>...</td>\n",
       "      <td>...</td>\n",
       "    </tr>\n",
       "    <tr>\n",
       "      <th>3237</th>\n",
       "      <td>2019-09-06 11:31:15</td>\n",
       "      <td>2019-09-06 11:31:15</td>\n",
       "      <td>1569.0</td>\n",
       "      <td>1569.0</td>\n",
       "    </tr>\n",
       "    <tr>\n",
       "      <th>3238</th>\n",
       "      <td>2019-09-06 12:16:15</td>\n",
       "      <td>2019-09-06 12:16:15</td>\n",
       "      <td>1584.0</td>\n",
       "      <td>1584.0</td>\n",
       "    </tr>\n",
       "    <tr>\n",
       "      <th>3239</th>\n",
       "      <td>2019-09-06 14:16:50</td>\n",
       "      <td>2019-09-06 14:16:50</td>\n",
       "      <td>1598.0</td>\n",
       "      <td>1598.0</td>\n",
       "    </tr>\n",
       "    <tr>\n",
       "      <th>3240</th>\n",
       "      <td>2019-09-06 15:25:21</td>\n",
       "      <td>2019-09-06 15:25:21</td>\n",
       "      <td>1617.0</td>\n",
       "      <td>1617.0</td>\n",
       "    </tr>\n",
       "    <tr>\n",
       "      <th>3241</th>\n",
       "      <td>2019-09-06 16:48:55</td>\n",
       "      <td>2019-09-06 16:48:55</td>\n",
       "      <td>1586.0</td>\n",
       "      <td>1586.0</td>\n",
       "    </tr>\n",
       "  </tbody>\n",
       "</table>\n",
       "<p>3216 rows × 4 columns</p>\n",
       "</div>"
      ],
      "text/plain": [
       "                  Время 1              Время 2  Температура 1  Температура 2\n",
       "key                                                                         \n",
       "1     2019-05-03 11:02:04  2019-05-03 11:30:38         1571.0         1613.0\n",
       "2     2019-05-03 11:34:04  2019-05-03 11:55:09         1581.0         1602.0\n",
       "3     2019-05-03 12:06:44  2019-05-03 12:35:57         1596.0         1599.0\n",
       "4     2019-05-03 12:39:27  2019-05-03 12:59:47         1601.0         1625.0\n",
       "5     2019-05-03 13:11:03  2019-05-03 13:36:39         1576.0         1602.0\n",
       "...                   ...                  ...            ...            ...\n",
       "3237  2019-09-06 11:31:15  2019-09-06 11:31:15         1569.0         1569.0\n",
       "3238  2019-09-06 12:16:15  2019-09-06 12:16:15         1584.0         1584.0\n",
       "3239  2019-09-06 14:16:50  2019-09-06 14:16:50         1598.0         1598.0\n",
       "3240  2019-09-06 15:25:21  2019-09-06 15:25:21         1617.0         1617.0\n",
       "3241  2019-09-06 16:48:55  2019-09-06 16:48:55         1586.0         1586.0\n",
       "\n",
       "[3216 rows x 4 columns]"
      ]
     },
     "execution_count": 22,
     "metadata": {},
     "output_type": "execute_result"
    }
   ],
   "source": [
    "df_temp.columns = ['Время 1', 'Время 2','Температура 1','Температура 2']\n",
    "df_temp"
   ]
  },
  {
   "cell_type": "code",
   "execution_count": 23,
   "metadata": {},
   "outputs": [],
   "source": [
    "df_temp = df_temp.drop(df_temp[df_temp['Время 1'] == df_temp['Время 2']].index)"
   ]
  },
  {
   "cell_type": "code",
   "execution_count": 24,
   "metadata": {},
   "outputs": [
    {
     "data": {
      "text/html": [
       "<div>\n",
       "<style scoped>\n",
       "    .dataframe tbody tr th:only-of-type {\n",
       "        vertical-align: middle;\n",
       "    }\n",
       "\n",
       "    .dataframe tbody tr th {\n",
       "        vertical-align: top;\n",
       "    }\n",
       "\n",
       "    .dataframe thead th {\n",
       "        text-align: right;\n",
       "    }\n",
       "</style>\n",
       "<table border=\"1\" class=\"dataframe\">\n",
       "  <thead>\n",
       "    <tr style=\"text-align: right;\">\n",
       "      <th></th>\n",
       "      <th>Время 1</th>\n",
       "      <th>Время 2</th>\n",
       "      <th>Температура 1</th>\n",
       "      <th>Температура 2</th>\n",
       "    </tr>\n",
       "    <tr>\n",
       "      <th>key</th>\n",
       "      <th></th>\n",
       "      <th></th>\n",
       "      <th></th>\n",
       "      <th></th>\n",
       "    </tr>\n",
       "  </thead>\n",
       "  <tbody>\n",
       "    <tr>\n",
       "      <th>1</th>\n",
       "      <td>2019-05-03 11:02:04</td>\n",
       "      <td>2019-05-03 11:30:38</td>\n",
       "      <td>1571.0</td>\n",
       "      <td>1613.0</td>\n",
       "    </tr>\n",
       "    <tr>\n",
       "      <th>2</th>\n",
       "      <td>2019-05-03 11:34:04</td>\n",
       "      <td>2019-05-03 11:55:09</td>\n",
       "      <td>1581.0</td>\n",
       "      <td>1602.0</td>\n",
       "    </tr>\n",
       "    <tr>\n",
       "      <th>3</th>\n",
       "      <td>2019-05-03 12:06:44</td>\n",
       "      <td>2019-05-03 12:35:57</td>\n",
       "      <td>1596.0</td>\n",
       "      <td>1599.0</td>\n",
       "    </tr>\n",
       "    <tr>\n",
       "      <th>4</th>\n",
       "      <td>2019-05-03 12:39:27</td>\n",
       "      <td>2019-05-03 12:59:47</td>\n",
       "      <td>1601.0</td>\n",
       "      <td>1625.0</td>\n",
       "    </tr>\n",
       "    <tr>\n",
       "      <th>5</th>\n",
       "      <td>2019-05-03 13:11:03</td>\n",
       "      <td>2019-05-03 13:36:39</td>\n",
       "      <td>1576.0</td>\n",
       "      <td>1602.0</td>\n",
       "    </tr>\n",
       "    <tr>\n",
       "      <th>...</th>\n",
       "      <td>...</td>\n",
       "      <td>...</td>\n",
       "      <td>...</td>\n",
       "      <td>...</td>\n",
       "    </tr>\n",
       "    <tr>\n",
       "      <th>2495</th>\n",
       "      <td>2019-08-10 11:27:47</td>\n",
       "      <td>2019-08-10 11:50:47</td>\n",
       "      <td>1570.0</td>\n",
       "      <td>1591.0</td>\n",
       "    </tr>\n",
       "    <tr>\n",
       "      <th>2496</th>\n",
       "      <td>2019-08-10 11:56:48</td>\n",
       "      <td>2019-08-10 12:25:13</td>\n",
       "      <td>1554.0</td>\n",
       "      <td>1591.0</td>\n",
       "    </tr>\n",
       "    <tr>\n",
       "      <th>2497</th>\n",
       "      <td>2019-08-10 12:37:26</td>\n",
       "      <td>2019-08-10 12:53:28</td>\n",
       "      <td>1571.0</td>\n",
       "      <td>1589.0</td>\n",
       "    </tr>\n",
       "    <tr>\n",
       "      <th>2498</th>\n",
       "      <td>2019-08-10 12:58:11</td>\n",
       "      <td>2019-08-10 13:23:31</td>\n",
       "      <td>1591.0</td>\n",
       "      <td>1594.0</td>\n",
       "    </tr>\n",
       "    <tr>\n",
       "      <th>2499</th>\n",
       "      <td>2019-08-10 13:33:21</td>\n",
       "      <td>2019-08-10 13:58:58</td>\n",
       "      <td>1569.0</td>\n",
       "      <td>1603.0</td>\n",
       "    </tr>\n",
       "  </tbody>\n",
       "</table>\n",
       "<p>2475 rows × 4 columns</p>\n",
       "</div>"
      ],
      "text/plain": [
       "                  Время 1              Время 2  Температура 1  Температура 2\n",
       "key                                                                         \n",
       "1     2019-05-03 11:02:04  2019-05-03 11:30:38         1571.0         1613.0\n",
       "2     2019-05-03 11:34:04  2019-05-03 11:55:09         1581.0         1602.0\n",
       "3     2019-05-03 12:06:44  2019-05-03 12:35:57         1596.0         1599.0\n",
       "4     2019-05-03 12:39:27  2019-05-03 12:59:47         1601.0         1625.0\n",
       "5     2019-05-03 13:11:03  2019-05-03 13:36:39         1576.0         1602.0\n",
       "...                   ...                  ...            ...            ...\n",
       "2495  2019-08-10 11:27:47  2019-08-10 11:50:47         1570.0         1591.0\n",
       "2496  2019-08-10 11:56:48  2019-08-10 12:25:13         1554.0         1591.0\n",
       "2497  2019-08-10 12:37:26  2019-08-10 12:53:28         1571.0         1589.0\n",
       "2498  2019-08-10 12:58:11  2019-08-10 13:23:31         1591.0         1594.0\n",
       "2499  2019-08-10 13:33:21  2019-08-10 13:58:58         1569.0         1603.0\n",
       "\n",
       "[2475 rows x 4 columns]"
      ]
     },
     "execution_count": 24,
     "metadata": {},
     "output_type": "execute_result"
    }
   ],
   "source": [
    "df_temp"
   ]
  },
  {
   "cell_type": "markdown",
   "metadata": {},
   "source": [
    "Партии у которых нет конечной температуры нам не актуальны"
   ]
  },
  {
   "cell_type": "markdown",
   "metadata": {},
   "source": [
    "### Проволочные материалы (Объем)"
   ]
  },
  {
   "cell_type": "code",
   "execution_count": 25,
   "metadata": {},
   "outputs": [
    {
     "name": "stdout",
     "output_type": "stream",
     "text": [
      "<class 'pandas.core.frame.DataFrame'>\n",
      "RangeIndex: 3081 entries, 0 to 3080\n",
      "Data columns (total 10 columns):\n",
      " #   Column  Non-Null Count  Dtype  \n",
      "---  ------  --------------  -----  \n",
      " 0   key     3081 non-null   int64  \n",
      " 1   Wire 1  3055 non-null   float64\n",
      " 2   Wire 2  1079 non-null   float64\n",
      " 3   Wire 3  63 non-null     float64\n",
      " 4   Wire 4  14 non-null     float64\n",
      " 5   Wire 5  1 non-null      float64\n",
      " 6   Wire 6  73 non-null     float64\n",
      " 7   Wire 7  11 non-null     float64\n",
      " 8   Wire 8  19 non-null     float64\n",
      " 9   Wire 9  29 non-null     float64\n",
      "dtypes: float64(9), int64(1)\n",
      "memory usage: 240.8 KB\n",
      "Общая информация\n",
      " None\n",
      "\n",
      "Cтатистическиe данные\n",
      "                key       Wire 1       Wire 2      Wire 3      Wire 4  Wire 5  \\\n",
      "count  3081.000000  3055.000000  1079.000000   63.000000   14.000000   1.000   \n",
      "mean   1623.426485   100.895853    50.577323  189.482681   57.442841  15.132   \n",
      "std     932.996726    42.012518    39.320216   99.513444   28.824667     NaN   \n",
      "min       1.000000     1.918800     0.030160    0.144144   24.148801  15.132   \n",
      "25%     823.000000    72.115684    20.193680   95.135044   40.807002  15.132   \n",
      "50%    1619.000000   100.158234    40.142956  235.194977   45.234282  15.132   \n",
      "75%    2434.000000   126.060483    70.227558  276.252014   76.124619  15.132   \n",
      "max    3241.000000   330.314424   282.780152  385.008668  113.231044  15.132   \n",
      "\n",
      "           Wire 6     Wire 7      Wire 8     Wire 9  \n",
      "count   73.000000  11.000000   19.000000  29.000000  \n",
      "mean    48.016974  10.039007   53.625193  34.155752  \n",
      "std     33.919845   8.610584   16.881728  19.931616  \n",
      "min      0.034320   0.234208   45.076721   4.622800  \n",
      "25%     25.053600   6.762756   46.094879  22.058401  \n",
      "50%     42.076324   9.017009   46.279999  30.066399  \n",
      "75%     64.212723  11.886057   48.089603  43.862003  \n",
      "max    180.454575  32.847674  102.762401  90.053604  \n",
      "\n",
      "Количествo дубликатов\n",
      " 0\n",
      "\n",
      "Количествo пропусков\n",
      " key          0\n",
      "Wire 1      26\n",
      "Wire 2    2002\n",
      "Wire 3    3018\n",
      "Wire 4    3067\n",
      "Wire 5    3080\n",
      "Wire 6    3008\n",
      "Wire 7    3070\n",
      "Wire 8    3062\n",
      "Wire 9    3052\n",
      "dtype: int64\n",
      "None\n"
     ]
    },
    {
     "data": {
      "image/png": "[encoded data removed]",
      "text/plain": [
       "<Figure size 720x720 with 12 Axes>"
      ]
     },
     "metadata": {
      "needs_background": "light"
     },
     "output_type": "display_data"
    }
   ],
   "source": [
    "print(statistics(df_wire))"
   ]
  },
  {
   "cell_type": "code",
   "execution_count": 26,
   "metadata": {},
   "outputs": [],
   "source": [
    "#заменим пропуски нулями \n",
    "df_wire = df_wire.fillna(0)"
   ]
  },
  {
   "cell_type": "markdown",
   "metadata": {},
   "source": [
    "### Проволочные материалы (Время)"
   ]
  },
  {
   "cell_type": "code",
   "execution_count": 27,
   "metadata": {},
   "outputs": [
    {
     "name": "stdout",
     "output_type": "stream",
     "text": [
      "<class 'pandas.core.frame.DataFrame'>\n",
      "RangeIndex: 3081 entries, 0 to 3080\n",
      "Data columns (total 10 columns):\n",
      " #   Column  Non-Null Count  Dtype \n",
      "---  ------  --------------  ----- \n",
      " 0   key     3081 non-null   int64 \n",
      " 1   Wire 1  3055 non-null   object\n",
      " 2   Wire 2  1079 non-null   object\n",
      " 3   Wire 3  63 non-null     object\n",
      " 4   Wire 4  14 non-null     object\n",
      " 5   Wire 5  1 non-null      object\n",
      " 6   Wire 6  73 non-null     object\n",
      " 7   Wire 7  11 non-null     object\n",
      " 8   Wire 8  19 non-null     object\n",
      " 9   Wire 9  29 non-null     object\n",
      "dtypes: int64(1), object(9)\n",
      "memory usage: 240.8+ KB\n",
      "Общая информация\n",
      " None\n",
      "\n",
      "Cтатистическиe данные\n",
      "                key\n",
      "count  3081.000000\n",
      "mean   1623.426485\n",
      "std     932.996726\n",
      "min       1.000000\n",
      "25%     823.000000\n",
      "50%    1619.000000\n",
      "75%    2434.000000\n",
      "max    3241.000000\n",
      "\n",
      "Количествo дубликатов\n",
      " 0\n",
      "\n",
      "Количествo пропусков\n",
      " key          0\n",
      "Wire 1      26\n",
      "Wire 2    2002\n",
      "Wire 3    3018\n",
      "Wire 4    3067\n",
      "Wire 5    3080\n",
      "Wire 6    3008\n",
      "Wire 7    3070\n",
      "Wire 8    3062\n",
      "Wire 9    3052\n",
      "dtype: int64\n",
      "None\n"
     ]
    },
    {
     "data": {
      "image/png": "[encoded data removed]",
      "text/plain": [
       "<Figure size 720x720 with 1 Axes>"
      ]
     },
     "metadata": {
      "needs_background": "light"
     },
     "output_type": "display_data"
    }
   ],
   "source": [
    "print(statistics(df_wire_time))"
   ]
  },
  {
   "cell_type": "code",
   "execution_count": 28,
   "metadata": {},
   "outputs": [],
   "source": [
    "#заменим пропуски нулями \n",
    "df_wire_time = df_wire_time.fillna(0)"
   ]
  },
  {
   "cell_type": "markdown",
   "metadata": {},
   "source": [
    "### Итоговый вывод по плану \n",
    "\n",
    "На данном этапе мы изучили процесс сталеплавления, уточнили детали и составили план нашей работы. \n",
    "На этапе исследовтельского анализа мы обработали 7 датасетов. Нашли их статистические данные, построили гистограммы, обработали пропуски\n",
    "\n",
    "- df_arc - электроды. В столбце реактивной мнощности были удалены отрицательные значения. Значение мощностей записали как их среднее значение (убираем сложности рассчета для вычисления работы, полной мощности)\n",
    "- df_bulk - сыпучие материалы. Пропуски мы заменили нулями, так как пропущенные значения означают, что данные примеси не добавлялись. \n",
    "- df_bulk_time. Пропуски в данном датасете совпадают по количеству с пропусками в df_bulk.\n",
    "- df_gas - продувка газом. Пропусков нет, дубликатов нет - данные чистые\n",
    "- df_temp - температура. Пропуски были удалены, так как их небольшое количество. Так же данные без конечной температуры для нас неактуальны, их мы тоже удалили. В итоговом датафрейме оставили только начальную и конечную температуры.(промежуточную удалили)\n",
    "- df_wire - проволочные материалы.  Пропуски мы заменили нулями, так как пропущенные значения означают, что данные примеси не добавлялись. \n",
    "- df_wire_time.  Пропуски в данном датасете совпадают по количеству с пропусками в df_wire.\n",
    "\n",
    "\n",
    "Удалили все ненужные значения, \n",
    "\n",
    "Во всех таблицах количество значений key разное, это надо будет учесть при объединении.\n",
    "\n",
    "Целевой признак - конечная температура"
   ]
  },
  {
   "cell_type": "markdown",
   "metadata": {},
   "source": [
    "## Создаем таблицу со всеми признаками"
   ]
  },
  {
   "cell_type": "markdown",
   "metadata": {},
   "source": [
    "У нас есть столбцы с временем, которые в обучение не будут играть роли, но мы можем сделать из таких столбцов новый признак.\n",
    "\n",
    "Например df_temp и df_arc. "
   ]
  },
  {
   "cell_type": "code",
   "execution_count": 29,
   "metadata": {},
   "outputs": [
    {
     "name": "stdout",
     "output_type": "stream",
     "text": [
      "                 Время 1             Время 2  Температура 1  Температура 2  \\\n",
      "key                                                                          \n",
      "1    2019-05-03 11:02:04 2019-05-03 11:30:38         1571.0         1613.0   \n",
      "2    2019-05-03 11:34:04 2019-05-03 11:55:09         1581.0         1602.0   \n",
      "3    2019-05-03 12:06:44 2019-05-03 12:35:57         1596.0         1599.0   \n",
      "4    2019-05-03 12:39:27 2019-05-03 12:59:47         1601.0         1625.0   \n",
      "5    2019-05-03 13:11:03 2019-05-03 13:36:39         1576.0         1602.0   \n",
      "...                  ...                 ...            ...            ...   \n",
      "2495 2019-08-10 11:27:47 2019-08-10 11:50:47         1570.0         1591.0   \n",
      "2496 2019-08-10 11:56:48 2019-08-10 12:25:13         1554.0         1591.0   \n",
      "2497 2019-08-10 12:37:26 2019-08-10 12:53:28         1571.0         1589.0   \n",
      "2498 2019-08-10 12:58:11 2019-08-10 13:23:31         1591.0         1594.0   \n",
      "2499 2019-08-10 13:33:21 2019-08-10 13:58:58         1569.0         1603.0   \n",
      "\n",
      "      Время нагрева(сек)  \n",
      "key                       \n",
      "1                   1714  \n",
      "2                   1265  \n",
      "3                   1753  \n",
      "4                   1220  \n",
      "5                   1536  \n",
      "...                  ...  \n",
      "2495                1380  \n",
      "2496                1705  \n",
      "2497                 962  \n",
      "2498                1520  \n",
      "2499                1537  \n",
      "\n",
      "[2475 rows x 5 columns]\n"
     ]
    }
   ],
   "source": [
    "# Преобразование столбца в тип datetime\n",
    "df_temp['Время 1'] = pd.to_datetime(df_temp['Время 1'])\n",
    "df_temp['Время 2'] = pd.to_datetime(df_temp['Время 2'])\n",
    "# Создание столбца \n",
    "df_temp['Время нагрева(сек)'] = df_temp['Время 2'] - df_temp['Время 1']\n",
    "df_temp['Время нагрева(сек)'] = df_temp['Время нагрева(сек)'].dt.seconds\n",
    "# Вывод датафрейма\n",
    "print(df_temp)"
   ]
  },
  {
   "cell_type": "code",
   "execution_count": 30,
   "metadata": {},
   "outputs": [
    {
     "name": "stdout",
     "output_type": "stream",
     "text": [
      "      Среднее значение мощности  Время нагрева дугой(сек)\n",
      "key                                                      \n",
      "1                      0.517955                      1098\n",
      "2                      0.449096                       811\n",
      "3                      0.700110                       655\n",
      "4                      0.595435                       741\n",
      "5                      0.492618                       869\n",
      "...                         ...                       ...\n",
      "3237                   0.456729                       909\n",
      "3238                   0.402154                       546\n",
      "3239                   0.524347                      1216\n",
      "3240                   0.569123                       839\n",
      "3241                   0.518529                       659\n",
      "\n",
      "[3214 rows x 2 columns]\n"
     ]
    }
   ],
   "source": [
    "# Преобразование столбца в тип datetime\n",
    "df_arc['Начало нагрева дугой'] = pd.to_datetime(df_arc['Начало нагрева дугой'])\n",
    "df_arc['Конец нагрева дугой'] = pd.to_datetime(df_arc['Конец нагрева дугой'])\n",
    "# Создание столбца\n",
    "df_arc['Время нагрева дугой(сек)'] = df_arc['Конец нагрева дугой'] - df_arc['Начало нагрева дугой']\n",
    "df_arc['Время нагрева дугой(сек)'] = df_arc['Время нагрева дугой(сек)'].dt.seconds\n",
    "# Вывод датафрейма сгруппированного по key\n",
    "df_arc = df_arc.groupby('key').agg({'Среднее значение мощности': 'mean', 'Время нагрева дугой(сек)': 'sum'})\n",
    "print(df_arc)"
   ]
  },
  {
   "cell_type": "code",
   "execution_count": 31,
   "metadata": {},
   "outputs": [
    {
     "data": {
      "text/html": [
       "<div>\n",
       "<style scoped>\n",
       "    .dataframe tbody tr th:only-of-type {\n",
       "        vertical-align: middle;\n",
       "    }\n",
       "\n",
       "    .dataframe tbody tr th {\n",
       "        vertical-align: top;\n",
       "    }\n",
       "\n",
       "    .dataframe thead th {\n",
       "        text-align: right;\n",
       "    }\n",
       "</style>\n",
       "<table border=\"1\" class=\"dataframe\">\n",
       "  <thead>\n",
       "    <tr style=\"text-align: right;\">\n",
       "      <th></th>\n",
       "      <th>key</th>\n",
       "      <th>Время 1</th>\n",
       "      <th>Время 2</th>\n",
       "      <th>Температура 1</th>\n",
       "      <th>Температура 2</th>\n",
       "      <th>Время нагрева(сек)</th>\n",
       "      <th>Среднее значение мощности</th>\n",
       "      <th>Время нагрева дугой(сек)</th>\n",
       "      <th>Газ 1</th>\n",
       "      <th>Wire 1</th>\n",
       "      <th>...</th>\n",
       "      <th>Bulk 6</th>\n",
       "      <th>Bulk 7</th>\n",
       "      <th>Bulk 8</th>\n",
       "      <th>Bulk 9</th>\n",
       "      <th>Bulk 10</th>\n",
       "      <th>Bulk 11</th>\n",
       "      <th>Bulk 12</th>\n",
       "      <th>Bulk 13</th>\n",
       "      <th>Bulk 14</th>\n",
       "      <th>Bulk 15</th>\n",
       "    </tr>\n",
       "  </thead>\n",
       "  <tbody>\n",
       "    <tr>\n",
       "      <th>0</th>\n",
       "      <td>1</td>\n",
       "      <td>2019-05-03 11:02:04</td>\n",
       "      <td>2019-05-03 11:30:38</td>\n",
       "      <td>1571.0</td>\n",
       "      <td>1613.0</td>\n",
       "      <td>1714</td>\n",
       "      <td>0.517955</td>\n",
       "      <td>1098</td>\n",
       "      <td>29.749986</td>\n",
       "      <td>60.059998</td>\n",
       "      <td>...</td>\n",
       "      <td>0.0</td>\n",
       "      <td>0.0</td>\n",
       "      <td>0.0</td>\n",
       "      <td>0.0</td>\n",
       "      <td>0.0</td>\n",
       "      <td>0.0</td>\n",
       "      <td>206.0</td>\n",
       "      <td>0.0</td>\n",
       "      <td>150.0</td>\n",
       "      <td>154.0</td>\n",
       "    </tr>\n",
       "    <tr>\n",
       "      <th>1</th>\n",
       "      <td>2</td>\n",
       "      <td>2019-05-03 11:34:04</td>\n",
       "      <td>2019-05-03 11:55:09</td>\n",
       "      <td>1581.0</td>\n",
       "      <td>1602.0</td>\n",
       "      <td>1265</td>\n",
       "      <td>0.449096</td>\n",
       "      <td>811</td>\n",
       "      <td>12.555561</td>\n",
       "      <td>96.052315</td>\n",
       "      <td>...</td>\n",
       "      <td>0.0</td>\n",
       "      <td>0.0</td>\n",
       "      <td>0.0</td>\n",
       "      <td>0.0</td>\n",
       "      <td>0.0</td>\n",
       "      <td>0.0</td>\n",
       "      <td>206.0</td>\n",
       "      <td>0.0</td>\n",
       "      <td>149.0</td>\n",
       "      <td>154.0</td>\n",
       "    </tr>\n",
       "    <tr>\n",
       "      <th>2</th>\n",
       "      <td>3</td>\n",
       "      <td>2019-05-03 12:06:44</td>\n",
       "      <td>2019-05-03 12:35:57</td>\n",
       "      <td>1596.0</td>\n",
       "      <td>1599.0</td>\n",
       "      <td>1753</td>\n",
       "      <td>0.700110</td>\n",
       "      <td>655</td>\n",
       "      <td>28.554793</td>\n",
       "      <td>91.160157</td>\n",
       "      <td>...</td>\n",
       "      <td>0.0</td>\n",
       "      <td>0.0</td>\n",
       "      <td>0.0</td>\n",
       "      <td>0.0</td>\n",
       "      <td>0.0</td>\n",
       "      <td>0.0</td>\n",
       "      <td>205.0</td>\n",
       "      <td>0.0</td>\n",
       "      <td>152.0</td>\n",
       "      <td>153.0</td>\n",
       "    </tr>\n",
       "    <tr>\n",
       "      <th>3</th>\n",
       "      <td>4</td>\n",
       "      <td>2019-05-03 12:39:27</td>\n",
       "      <td>2019-05-03 12:59:47</td>\n",
       "      <td>1601.0</td>\n",
       "      <td>1625.0</td>\n",
       "      <td>1220</td>\n",
       "      <td>0.595435</td>\n",
       "      <td>741</td>\n",
       "      <td>18.841219</td>\n",
       "      <td>89.063515</td>\n",
       "      <td>...</td>\n",
       "      <td>0.0</td>\n",
       "      <td>0.0</td>\n",
       "      <td>0.0</td>\n",
       "      <td>0.0</td>\n",
       "      <td>0.0</td>\n",
       "      <td>0.0</td>\n",
       "      <td>207.0</td>\n",
       "      <td>0.0</td>\n",
       "      <td>153.0</td>\n",
       "      <td>154.0</td>\n",
       "    </tr>\n",
       "    <tr>\n",
       "      <th>4</th>\n",
       "      <td>5</td>\n",
       "      <td>2019-05-03 13:11:03</td>\n",
       "      <td>2019-05-03 13:36:39</td>\n",
       "      <td>1576.0</td>\n",
       "      <td>1602.0</td>\n",
       "      <td>1536</td>\n",
       "      <td>0.492618</td>\n",
       "      <td>869</td>\n",
       "      <td>5.413692</td>\n",
       "      <td>89.238236</td>\n",
       "      <td>...</td>\n",
       "      <td>0.0</td>\n",
       "      <td>0.0</td>\n",
       "      <td>0.0</td>\n",
       "      <td>0.0</td>\n",
       "      <td>0.0</td>\n",
       "      <td>0.0</td>\n",
       "      <td>203.0</td>\n",
       "      <td>0.0</td>\n",
       "      <td>151.0</td>\n",
       "      <td>152.0</td>\n",
       "    </tr>\n",
       "    <tr>\n",
       "      <th>...</th>\n",
       "      <td>...</td>\n",
       "      <td>...</td>\n",
       "      <td>...</td>\n",
       "      <td>...</td>\n",
       "      <td>...</td>\n",
       "      <td>...</td>\n",
       "      <td>...</td>\n",
       "      <td>...</td>\n",
       "      <td>...</td>\n",
       "      <td>...</td>\n",
       "      <td>...</td>\n",
       "      <td>...</td>\n",
       "      <td>...</td>\n",
       "      <td>...</td>\n",
       "      <td>...</td>\n",
       "      <td>...</td>\n",
       "      <td>...</td>\n",
       "      <td>...</td>\n",
       "      <td>...</td>\n",
       "      <td>...</td>\n",
       "      <td>...</td>\n",
       "    </tr>\n",
       "    <tr>\n",
       "      <th>2324</th>\n",
       "      <td>2495</td>\n",
       "      <td>2019-08-10 11:27:47</td>\n",
       "      <td>2019-08-10 11:50:47</td>\n",
       "      <td>1570.0</td>\n",
       "      <td>1591.0</td>\n",
       "      <td>1380</td>\n",
       "      <td>0.672384</td>\n",
       "      <td>723</td>\n",
       "      <td>7.125735</td>\n",
       "      <td>89.150879</td>\n",
       "      <td>...</td>\n",
       "      <td>0.0</td>\n",
       "      <td>0.0</td>\n",
       "      <td>0.0</td>\n",
       "      <td>0.0</td>\n",
       "      <td>90.0</td>\n",
       "      <td>0.0</td>\n",
       "      <td>256.0</td>\n",
       "      <td>0.0</td>\n",
       "      <td>129.0</td>\n",
       "      <td>223.0</td>\n",
       "    </tr>\n",
       "    <tr>\n",
       "      <th>2325</th>\n",
       "      <td>2496</td>\n",
       "      <td>2019-08-10 11:56:48</td>\n",
       "      <td>2019-08-10 12:25:13</td>\n",
       "      <td>1554.0</td>\n",
       "      <td>1591.0</td>\n",
       "      <td>1705</td>\n",
       "      <td>0.587246</td>\n",
       "      <td>940</td>\n",
       "      <td>9.412616</td>\n",
       "      <td>114.179527</td>\n",
       "      <td>...</td>\n",
       "      <td>0.0</td>\n",
       "      <td>0.0</td>\n",
       "      <td>0.0</td>\n",
       "      <td>0.0</td>\n",
       "      <td>122.0</td>\n",
       "      <td>0.0</td>\n",
       "      <td>256.0</td>\n",
       "      <td>0.0</td>\n",
       "      <td>129.0</td>\n",
       "      <td>226.0</td>\n",
       "    </tr>\n",
       "    <tr>\n",
       "      <th>2326</th>\n",
       "      <td>2497</td>\n",
       "      <td>2019-08-10 12:37:26</td>\n",
       "      <td>2019-08-10 12:53:28</td>\n",
       "      <td>1571.0</td>\n",
       "      <td>1589.0</td>\n",
       "      <td>962</td>\n",
       "      <td>1.009555</td>\n",
       "      <td>569</td>\n",
       "      <td>6.271699</td>\n",
       "      <td>94.086723</td>\n",
       "      <td>...</td>\n",
       "      <td>0.0</td>\n",
       "      <td>0.0</td>\n",
       "      <td>0.0</td>\n",
       "      <td>0.0</td>\n",
       "      <td>0.0</td>\n",
       "      <td>0.0</td>\n",
       "      <td>230.0</td>\n",
       "      <td>0.0</td>\n",
       "      <td>124.0</td>\n",
       "      <td>226.0</td>\n",
       "    </tr>\n",
       "    <tr>\n",
       "      <th>2327</th>\n",
       "      <td>2498</td>\n",
       "      <td>2019-08-10 12:58:11</td>\n",
       "      <td>2019-08-10 13:23:31</td>\n",
       "      <td>1591.0</td>\n",
       "      <td>1594.0</td>\n",
       "      <td>1520</td>\n",
       "      <td>0.544213</td>\n",
       "      <td>750</td>\n",
       "      <td>14.953657</td>\n",
       "      <td>118.110717</td>\n",
       "      <td>...</td>\n",
       "      <td>0.0</td>\n",
       "      <td>0.0</td>\n",
       "      <td>0.0</td>\n",
       "      <td>0.0</td>\n",
       "      <td>101.0</td>\n",
       "      <td>0.0</td>\n",
       "      <td>206.0</td>\n",
       "      <td>0.0</td>\n",
       "      <td>129.0</td>\n",
       "      <td>207.0</td>\n",
       "    </tr>\n",
       "    <tr>\n",
       "      <th>2328</th>\n",
       "      <td>2499</td>\n",
       "      <td>2019-08-10 13:33:21</td>\n",
       "      <td>2019-08-10 13:58:58</td>\n",
       "      <td>1569.0</td>\n",
       "      <td>1603.0</td>\n",
       "      <td>1537</td>\n",
       "      <td>0.379240</td>\n",
       "      <td>883</td>\n",
       "      <td>11.336151</td>\n",
       "      <td>110.160958</td>\n",
       "      <td>...</td>\n",
       "      <td>0.0</td>\n",
       "      <td>0.0</td>\n",
       "      <td>0.0</td>\n",
       "      <td>0.0</td>\n",
       "      <td>0.0</td>\n",
       "      <td>0.0</td>\n",
       "      <td>233.0</td>\n",
       "      <td>0.0</td>\n",
       "      <td>126.0</td>\n",
       "      <td>227.0</td>\n",
       "    </tr>\n",
       "  </tbody>\n",
       "</table>\n",
       "<p>2329 rows × 33 columns</p>\n",
       "</div>"
      ],
      "text/plain": [
       "       key             Время 1             Время 2  Температура 1  \\\n",
       "0        1 2019-05-03 11:02:04 2019-05-03 11:30:38         1571.0   \n",
       "1        2 2019-05-03 11:34:04 2019-05-03 11:55:09         1581.0   \n",
       "2        3 2019-05-03 12:06:44 2019-05-03 12:35:57         1596.0   \n",
       "3        4 2019-05-03 12:39:27 2019-05-03 12:59:47         1601.0   \n",
       "4        5 2019-05-03 13:11:03 2019-05-03 13:36:39         1576.0   \n",
       "...    ...                 ...                 ...            ...   \n",
       "2324  2495 2019-08-10 11:27:47 2019-08-10 11:50:47         1570.0   \n",
       "2325  2496 2019-08-10 11:56:48 2019-08-10 12:25:13         1554.0   \n",
       "2326  2497 2019-08-10 12:37:26 2019-08-10 12:53:28         1571.0   \n",
       "2327  2498 2019-08-10 12:58:11 2019-08-10 13:23:31         1591.0   \n",
       "2328  2499 2019-08-10 13:33:21 2019-08-10 13:58:58         1569.0   \n",
       "\n",
       "      Температура 2  Время нагрева(сек)  Среднее значение мощности  \\\n",
       "0            1613.0                1714                   0.517955   \n",
       "1            1602.0                1265                   0.449096   \n",
       "2            1599.0                1753                   0.700110   \n",
       "3            1625.0                1220                   0.595435   \n",
       "4            1602.0                1536                   0.492618   \n",
       "...             ...                 ...                        ...   \n",
       "2324         1591.0                1380                   0.672384   \n",
       "2325         1591.0                1705                   0.587246   \n",
       "2326         1589.0                 962                   1.009555   \n",
       "2327         1594.0                1520                   0.544213   \n",
       "2328         1603.0                1537                   0.379240   \n",
       "\n",
       "      Время нагрева дугой(сек)      Газ 1      Wire 1  ...  Bulk 6  Bulk 7  \\\n",
       "0                         1098  29.749986   60.059998  ...     0.0     0.0   \n",
       "1                          811  12.555561   96.052315  ...     0.0     0.0   \n",
       "2                          655  28.554793   91.160157  ...     0.0     0.0   \n",
       "3                          741  18.841219   89.063515  ...     0.0     0.0   \n",
       "4                          869   5.413692   89.238236  ...     0.0     0.0   \n",
       "...                        ...        ...         ...  ...     ...     ...   \n",
       "2324                       723   7.125735   89.150879  ...     0.0     0.0   \n",
       "2325                       940   9.412616  114.179527  ...     0.0     0.0   \n",
       "2326                       569   6.271699   94.086723  ...     0.0     0.0   \n",
       "2327                       750  14.953657  118.110717  ...     0.0     0.0   \n",
       "2328                       883  11.336151  110.160958  ...     0.0     0.0   \n",
       "\n",
       "      Bulk 8  Bulk 9  Bulk 10  Bulk 11  Bulk 12  Bulk 13  Bulk 14  Bulk 15  \n",
       "0        0.0     0.0      0.0      0.0    206.0      0.0    150.0    154.0  \n",
       "1        0.0     0.0      0.0      0.0    206.0      0.0    149.0    154.0  \n",
       "2        0.0     0.0      0.0      0.0    205.0      0.0    152.0    153.0  \n",
       "3        0.0     0.0      0.0      0.0    207.0      0.0    153.0    154.0  \n",
       "4        0.0     0.0      0.0      0.0    203.0      0.0    151.0    152.0  \n",
       "...      ...     ...      ...      ...      ...      ...      ...      ...  \n",
       "2324     0.0     0.0     90.0      0.0    256.0      0.0    129.0    223.0  \n",
       "2325     0.0     0.0    122.0      0.0    256.0      0.0    129.0    226.0  \n",
       "2326     0.0     0.0      0.0      0.0    230.0      0.0    124.0    226.0  \n",
       "2327     0.0     0.0    101.0      0.0    206.0      0.0    129.0    207.0  \n",
       "2328     0.0     0.0      0.0      0.0    233.0      0.0    126.0    227.0  \n",
       "\n",
       "[2329 rows x 33 columns]"
      ]
     },
     "execution_count": 31,
     "metadata": {},
     "output_type": "execute_result"
    }
   ],
   "source": [
    "df = (\n",
    "    df_temp.merge(df_arc, how='inner', on = 'key')\n",
    "    .merge(df_gas, how='inner', on = 'key')\n",
    "    .merge(df_wire, how='inner', on = 'key')\n",
    "    .merge(df_bulk, how='inner', on = 'key'))\n",
    "df"
   ]
  },
  {
   "cell_type": "code",
   "execution_count": 32,
   "metadata": {},
   "outputs": [
    {
     "data": {
      "image/png": "[encoded data removed]",
      "text/plain": [
       "<Figure size 2160x2160 with 2 Axes>"
      ]
     },
     "metadata": {
      "needs_background": "light"
     },
     "output_type": "display_data"
    }
   ],
   "source": [
    "# Вычислим корреляционную матрицу\n",
    "correlation_matrix = df.corr()\n",
    "# Выведем графически корреляционную матрицу\n",
    "plt.figure(figsize=(30, 30))\n",
    "sns.heatmap(correlation_matrix, annot=True, cmap='coolwarm')\n",
    "plt.show()"
   ]
  },
  {
   "cell_type": "markdown",
   "metadata": {},
   "source": [
    "по матрцие кореляций видим, что есть слабо коррелируемые и вообще пустые значения, их мы в дальнейшем удалим."
   ]
  },
  {
   "cell_type": "code",
   "execution_count": 33,
   "metadata": {},
   "outputs": [],
   "source": [
    "df.drop(['Wire 5','Время 1', 'Время 2'],inplace=True, axis=1)"
   ]
  },
  {
   "cell_type": "markdown",
   "metadata": {},
   "source": [
    "заметим, что наш целевой признак - конечная температура (Температура 2) хорошо коррелирует с такими столбцами как:\n",
    "- \"Температура 1\" (начальная температура) \n",
    "- \"Время нагрева дугой(сек)\"\n",
    "- \"Wire 1\"\n",
    "- \"Bulk 4\"\n",
    "- \"Bulk 12\"\n",
    "- \"Bulk 14\"\n",
    "- \"Bulk 15\""
   ]
  },
  {
   "cell_type": "markdown",
   "metadata": {},
   "source": [
    "wire 8 и bulk 9 сильно коллерируют между собой, из-за этого возникает мультиколлинеарность. Что бы ее разрушить можно Удалить одну или несколько сильно коррелированных переменных. Удалим wire 8"
   ]
  },
  {
   "cell_type": "code",
   "execution_count": 34,
   "metadata": {},
   "outputs": [],
   "source": [
    "df = df.drop(['Wire 8'], axis = 1)"
   ]
  },
  {
   "cell_type": "markdown",
   "metadata": {},
   "source": [
    "Итого: Мы составили общую таблицу, в ней 2329 строк.\n",
    "Посчетали дополнительные новые столбцы, сгруппировали и убрали все лишнее.\n",
    "Построили корелляционную матрицу.\n",
    "\n",
    "На следующем этапе мы начнем процесс обучения моделей."
   ]
  },
  {
   "cell_type": "markdown",
   "metadata": {},
   "source": [
    "## Обучение моделей"
   ]
  },
  {
   "cell_type": "markdown",
   "metadata": {},
   "source": [
    "### Подготовка"
   ]
  },
  {
   "cell_type": "code",
   "execution_count": 35,
   "metadata": {},
   "outputs": [],
   "source": [
    "train, test = train_test_split(df, test_size = 0.25, random_state = RANDOM_STATE)\n",
    "\n",
    "cv_counts = 5"
   ]
  },
  {
   "cell_type": "code",
   "execution_count": 36,
   "metadata": {},
   "outputs": [],
   "source": [
    "features_train = train.drop(['Температура 2','key'], axis =1)\n",
    "target_train = train['Температура 2']\n",
    "\n",
    "features_test = test.drop(['Температура 2','key'], axis =1)\n",
    "target_test = test['Температура 2']"
   ]
  },
  {
   "cell_type": "markdown",
   "metadata": {},
   "source": [
    "### LinearRegression"
   ]
  },
  {
   "cell_type": "code",
   "execution_count": 38,
   "metadata": {},
   "outputs": [
    {
     "name": "stdout",
     "output_type": "stream",
     "text": [
      "MAE LinearRegression - 6.701\n"
     ]
    }
   ],
   "source": [
    "  \n",
    "model = Pipeline([\n",
    "    ('scaler', StandardScaler()),       # Масштабирование\n",
    "    ('regression', LinearRegression())  # Линейная регрессия\n",
    "])\n",
    "\n",
    "MAE_LR = (cross_val_score(model, \n",
    "                             features_train, \n",
    "                             target_train, \n",
    "                             cv=cv_counts, \n",
    "                             scoring='neg_mean_absolute_error').mean() * -1)\n",
    "print('MAE LinearRegression -', round(MAE_LR,3))\n",
    "\n"
   ]
  },
  {
   "cell_type": "markdown",
   "metadata": {},
   "source": [
    "### ForestRegressor"
   ]
  },
  {
   "cell_type": "code",
   "execution_count": 40,
   "metadata": {},
   "outputs": [
    {
     "name": "stdout",
     "output_type": "stream",
     "text": [
      "Лучшие параметры: {'criterion': 'mae', 'n_estimators': 150, 'random_state': 310723}\n",
      "\n",
      "MAE Forest - 6.447\n",
      "CPU times: user 3min 4s, sys: 189 ms, total: 3min 4s\n",
      "Wall time: 3min 5s\n"
     ]
    }
   ],
   "source": [
    "%%time\n",
    "model = RandomForestRegressor() \n",
    "\n",
    "param_grid = [{'criterion':['mae'],\n",
    "               'n_estimators': [50, 100, 150],\n",
    "               'random_state':[RANDOM_STATE]}]\n",
    "\n",
    "grid_search = GridSearchCV(model, param_grid, scoring='neg_mean_absolute_error', cv=cv_counts)\n",
    "\n",
    "grid_search.fit(features_train, target_train)\n",
    "\n",
    "print('Лучшие параметры:', grid_search.best_params_)\n",
    "print()\n",
    "\n",
    "MAE_forest = max(grid_search.cv_results_['mean_test_score']) * -1\n",
    "print('MAE Forest -', round(MAE_forest,3))"
   ]
  },
  {
   "cell_type": "markdown",
   "metadata": {},
   "source": [
    "### CatBoostRegressor"
   ]
  },
  {
   "cell_type": "code",
   "execution_count": 46,
   "metadata": {},
   "outputs": [
    {
     "name": "stdout",
     "output_type": "stream",
     "text": [
      "Лучшие параметры: {'learning_rate': 0.1, 'max_depth': 5, 'n_estimators': 150}\n",
      "\n",
      "MAE CatBoost - 5.97\n",
      "CPU times: user 3min 14s, sys: 1.9 s, total: 3min 16s\n",
      "Wall time: 4min 53s\n"
     ]
    }
   ],
   "source": [
    "%%time\n",
    "\n",
    "param_grid = {\n",
    "    'learning_rate': [0.01, 0.1, 1],\n",
    "    'max_depth': [5, 7, 10],\n",
    "    'n_estimators': [50, 100, 150]\n",
    "}\n",
    "cat_model = CatBoostRegressor(silent=True)\n",
    "grid_search = GridSearchCV(cat_model, param_grid, cv=cv_counts, scoring='neg_mean_absolute_error')\n",
    "grid_search.fit(features_train, target_train)\n",
    "best_params = grid_search.best_params_\n",
    "best_cat_model = grid_search.best_estimator_\n",
    "\n",
    "print('Лучшие параметры:', grid_search.best_params_)\n",
    "print()\n",
    "\n",
    "MAE_CatBoost = max(grid_search.cv_results_['mean_test_score']) * -1\n",
    "print('MAE CatBoost -', round(MAE_CatBoost,3))"
   ]
  },
  {
   "cell_type": "markdown",
   "metadata": {},
   "source": [
    "### Итог:\n",
    "| ___ | LinearRegression | ForestRegressor | CatBoost |\n",
    "| --- | --- | --- | --- |\n",
    "| MAE | 6.701 | 6.447 | 5.97 |\n",
    "\n",
    "\n",
    "Лучший результат показала модель CatBoostRegressor с параметрами 'learning_rate': 0.1, 'max_depth': 5, 'n_estimators': 150"
   ]
  },
  {
   "cell_type": "markdown",
   "metadata": {},
   "source": [
    "## Тестирование модели"
   ]
  },
  {
   "cell_type": "code",
   "execution_count": 47,
   "metadata": {},
   "outputs": [
    {
     "name": "stdout",
     "output_type": "stream",
     "text": [
      "RMSE для CatBoostRegressor на тестовой: 5.823\n",
      "CPU times: user 4.01 ms, sys: 47 µs, total: 4.05 ms\n",
      "Wall time: 2.44 ms\n"
     ]
    }
   ],
   "source": [
    "%%time          \n",
    "          \n",
    "cat_predict_test = best_cat_model.predict(features_test)\n",
    "MAE_CatBoost_test = mean_absolute_error(target_test, cat_predict_test)\n",
    "print(\"RMSE для CatBoostRegressor на тестовой:\", round(MAE_CatBoost_test,3))"
   ]
  },
  {
   "cell_type": "code",
   "execution_count": 40,
   "metadata": {},
   "outputs": [
    {
     "name": "stdout",
     "output_type": "stream",
     "text": [
      "RMSE для CatBoostRegressor на тестовой: 5.823\n"
     ]
    }
   ],
   "source": [
    "# КОД ТИМЛИДА\n",
    "params = {'learning_rate': 0.1, 'max_depth': 5, 'n_estimators': 150}\n",
    "model = CatBoostRegressor(verbose=0, **params)\n",
    "model.fit(features_train, target_train)\n",
    "cat_predict_test = model.predict(features_test)\n",
    "MAE_CatBoost_test = mean_absolute_error(target_test, cat_predict_test)\n",
    "print(\"RMSE для CatBoostRegressor на тестовой:\", round(MAE_CatBoost_test,3))"
   ]
  },
  {
   "cell_type": "markdown",
   "metadata": {},
   "source": [
    "Качество на тестовой выборке критично не изменилось, это говрит нам о том, что выбранная модель не сломается на новых данных и мы можем смело рекомендовать ее."
   ]
  },
  {
   "cell_type": "markdown",
   "metadata": {},
   "source": [
    "### Проверка адекватности модели "
   ]
  },
  {
   "cell_type": "code",
   "execution_count": 48,
   "metadata": {},
   "outputs": [
    {
     "name": "stdout",
     "output_type": "stream",
     "text": [
      "MAE DummyRegressor: 8.279\n"
     ]
    }
   ],
   "source": [
    "model = DummyRegressor(strategy='mean') # Создание базовой модели DummyRegressor\n",
    "model.fit(features_train, target_train)\n",
    "predict=model.predict(features_train)\n",
    "MAE = mean_absolute_error(target_train, predict)\n",
    "print('MAE DummyRegressor:', round(MAE,3))"
   ]
  },
  {
   "cell_type": "markdown",
   "metadata": {},
   "source": [
    "Если MAE основной модели меньше, чем MAE базовой модели, это говорит о том, что модель является адекватной. 5.975 < 8.279\n",
    "\n",
    "Модель адекватна\n",
    " "
   ]
  },
  {
   "cell_type": "markdown",
   "metadata": {},
   "source": [
    "### Изучение значимсти признаков"
   ]
  },
  {
   "cell_type": "code",
   "execution_count": 49,
   "metadata": {},
   "outputs": [],
   "source": [
    "#features_name = features_train.columns"
   ]
  },
  {
   "cell_type": "code",
   "execution_count": 50,
   "metadata": {},
   "outputs": [
    {
     "data": {
      "text/html": [
       "<div>\n",
       "<style scoped>\n",
       "    .dataframe tbody tr th:only-of-type {\n",
       "        vertical-align: middle;\n",
       "    }\n",
       "\n",
       "    .dataframe tbody tr th {\n",
       "        vertical-align: top;\n",
       "    }\n",
       "\n",
       "    .dataframe thead th {\n",
       "        text-align: right;\n",
       "    }\n",
       "</style>\n",
       "<table border=\"1\" class=\"dataframe\">\n",
       "  <thead>\n",
       "    <tr style=\"text-align: right;\">\n",
       "      <th></th>\n",
       "      <th>feature</th>\n",
       "      <th>importance</th>\n",
       "    </tr>\n",
       "  </thead>\n",
       "  <tbody>\n",
       "    <tr>\n",
       "      <th>0</th>\n",
       "      <td>Время нагрева дугой(сек)</td>\n",
       "      <td>26.874178</td>\n",
       "    </tr>\n",
       "    <tr>\n",
       "      <th>1</th>\n",
       "      <td>Температура 1</td>\n",
       "      <td>26.045472</td>\n",
       "    </tr>\n",
       "    <tr>\n",
       "      <th>2</th>\n",
       "      <td>Время нагрева(сек)</td>\n",
       "      <td>9.710127</td>\n",
       "    </tr>\n",
       "    <tr>\n",
       "      <th>3</th>\n",
       "      <td>Wire 1</td>\n",
       "      <td>6.097600</td>\n",
       "    </tr>\n",
       "    <tr>\n",
       "      <th>4</th>\n",
       "      <td>Bulk 15</td>\n",
       "      <td>5.161245</td>\n",
       "    </tr>\n",
       "    <tr>\n",
       "      <th>5</th>\n",
       "      <td>Bulk 6</td>\n",
       "      <td>5.108518</td>\n",
       "    </tr>\n",
       "    <tr>\n",
       "      <th>6</th>\n",
       "      <td>Wire 2</td>\n",
       "      <td>3.833573</td>\n",
       "    </tr>\n",
       "    <tr>\n",
       "      <th>7</th>\n",
       "      <td>Bulk 1</td>\n",
       "      <td>2.809561</td>\n",
       "    </tr>\n",
       "    <tr>\n",
       "      <th>8</th>\n",
       "      <td>Газ 1</td>\n",
       "      <td>2.677819</td>\n",
       "    </tr>\n",
       "    <tr>\n",
       "      <th>9</th>\n",
       "      <td>Bulk 14</td>\n",
       "      <td>2.634625</td>\n",
       "    </tr>\n",
       "    <tr>\n",
       "      <th>10</th>\n",
       "      <td>Bulk 12</td>\n",
       "      <td>2.440779</td>\n",
       "    </tr>\n",
       "    <tr>\n",
       "      <th>11</th>\n",
       "      <td>Bulk 4</td>\n",
       "      <td>1.841965</td>\n",
       "    </tr>\n",
       "    <tr>\n",
       "      <th>12</th>\n",
       "      <td>Среднее значение мощности</td>\n",
       "      <td>1.063805</td>\n",
       "    </tr>\n",
       "    <tr>\n",
       "      <th>13</th>\n",
       "      <td>Wire 6</td>\n",
       "      <td>0.678734</td>\n",
       "    </tr>\n",
       "    <tr>\n",
       "      <th>14</th>\n",
       "      <td>Bulk 3</td>\n",
       "      <td>0.549409</td>\n",
       "    </tr>\n",
       "    <tr>\n",
       "      <th>15</th>\n",
       "      <td>Wire 7</td>\n",
       "      <td>0.529771</td>\n",
       "    </tr>\n",
       "    <tr>\n",
       "      <th>16</th>\n",
       "      <td>Bulk 5</td>\n",
       "      <td>0.448330</td>\n",
       "    </tr>\n",
       "    <tr>\n",
       "      <th>17</th>\n",
       "      <td>Wire 4</td>\n",
       "      <td>0.434862</td>\n",
       "    </tr>\n",
       "    <tr>\n",
       "      <th>18</th>\n",
       "      <td>Bulk 11</td>\n",
       "      <td>0.368531</td>\n",
       "    </tr>\n",
       "    <tr>\n",
       "      <th>19</th>\n",
       "      <td>Bulk 10</td>\n",
       "      <td>0.245951</td>\n",
       "    </tr>\n",
       "    <tr>\n",
       "      <th>20</th>\n",
       "      <td>Bulk 7</td>\n",
       "      <td>0.236636</td>\n",
       "    </tr>\n",
       "    <tr>\n",
       "      <th>21</th>\n",
       "      <td>Wire 3</td>\n",
       "      <td>0.149259</td>\n",
       "    </tr>\n",
       "    <tr>\n",
       "      <th>22</th>\n",
       "      <td>Bulk 2</td>\n",
       "      <td>0.053905</td>\n",
       "    </tr>\n",
       "    <tr>\n",
       "      <th>23</th>\n",
       "      <td>Wire 9</td>\n",
       "      <td>0.005346</td>\n",
       "    </tr>\n",
       "    <tr>\n",
       "      <th>24</th>\n",
       "      <td>Bulk 8</td>\n",
       "      <td>0.000000</td>\n",
       "    </tr>\n",
       "    <tr>\n",
       "      <th>25</th>\n",
       "      <td>Bulk 9</td>\n",
       "      <td>0.000000</td>\n",
       "    </tr>\n",
       "    <tr>\n",
       "      <th>26</th>\n",
       "      <td>Bulk 13</td>\n",
       "      <td>0.000000</td>\n",
       "    </tr>\n",
       "  </tbody>\n",
       "</table>\n",
       "</div>"
      ],
      "text/plain": [
       "                      feature  importance\n",
       "0    Время нагрева дугой(сек)   26.874178\n",
       "1               Температура 1   26.045472\n",
       "2          Время нагрева(сек)    9.710127\n",
       "3                      Wire 1    6.097600\n",
       "4                     Bulk 15    5.161245\n",
       "5                      Bulk 6    5.108518\n",
       "6                      Wire 2    3.833573\n",
       "7                      Bulk 1    2.809561\n",
       "8                       Газ 1    2.677819\n",
       "9                     Bulk 14    2.634625\n",
       "10                    Bulk 12    2.440779\n",
       "11                     Bulk 4    1.841965\n",
       "12  Среднее значение мощности    1.063805\n",
       "13                     Wire 6    0.678734\n",
       "14                     Bulk 3    0.549409\n",
       "15                     Wire 7    0.529771\n",
       "16                     Bulk 5    0.448330\n",
       "17                     Wire 4    0.434862\n",
       "18                    Bulk 11    0.368531\n",
       "19                    Bulk 10    0.245951\n",
       "20                     Bulk 7    0.236636\n",
       "21                     Wire 3    0.149259\n",
       "22                     Bulk 2    0.053905\n",
       "23                     Wire 9    0.005346\n",
       "24                     Bulk 8    0.000000\n",
       "25                     Bulk 9    0.000000\n",
       "26                    Bulk 13    0.000000"
      ]
     },
     "execution_count": 50,
     "metadata": {},
     "output_type": "execute_result"
    }
   ],
   "source": [
    "importances = best_cat_model.feature_importances_\n",
    "feature_list = list(features_train.columns)\n",
    "feature_results = pd.DataFrame({'feature': feature_list,'importance': importances})\n",
    "feature_results = feature_results.sort_values('importance',ascending = False).reset_index(drop=True)\n",
    "feature_results"
   ]
  },
  {
   "cell_type": "markdown",
   "metadata": {},
   "source": [
    "Признаки Wire 6, Bulk 3,Wire 7,Bulk 5,Wire 4,ulk 11,Bulk 10,Bulk 7,Wire 3,Bulk 2,Wire 9\t,Bulk 8,Bulk 9 и Bulk 13 не значимы, т.е ценности ососбой не представляют.\n",
    "\n",
    "Самым ценным признаком является Время нагрева дугой(сек) и начальная температура. Это было ожидаемо."
   ]
  },
  {
   "cell_type": "markdown",
   "metadata": {},
   "source": [
    "## Вывод\n",
    "\n",
    "В ходе работы был проведен исследовательский анализ, где мы \n",
    "- заменили пропуски на ноль в таблицах с примесями сыпучих и проволочных материалов. \n",
    "- Удалили пропуски в таблице с температурой. \n",
    "- Посчитали среднее значение мощности\n",
    "- Обработали начальное и конечное время и температура (удалены значения с одной отметкой времмени и удалены промежуточные значения)\n",
    "Так же была создана таблица с общими данными, в которую вошли новые признаки-столбцы, созданные на основе значений времени в датасетах с энергией и температуррой (df_arc и df_temp)\n",
    "\n",
    "\n",
    "Создав корреляционную матрицу, стало ясно, что наш целевой признак \"Конечная температура\" лучше всего коррелирует со следующими признаками : (\"Температура 1\" (начальная температура),\n",
    "\"Время нагрева дугой(сек)\",\n",
    "\"Wire 1\",\n",
    "\"Bulk 4\",\n",
    "\"Bulk 12\",\n",
    "\"Bulk 14\",\n",
    "\"Bulk 15\")\n",
    "\n",
    "При этом мы исключили мультиколлинеарность\n",
    "\n",
    "\n",
    "На следующем этапе было произведено разделение всех данных на тестовую и тренировочную выборки.\n",
    "\n",
    "После обучения моделей мы получили следующие результаты:\n",
    "- LinearRegression, МАЕ = 6.701\t\n",
    "- RandomForestRegressor с параметром 'n_estimators'= 150, МАЕ = 6.443\t\n",
    "- CatBoostRegressor с параметрами 'learning_rate'= 0.1, 'max_depth'= 5, 'n_estimators'= 150, МАЕ = 5.958\n",
    "\n",
    "На тестовой выборке у модели CatBoostRegressor МАЕ = 5.712\n",
    "\n",
    "\n",
    "Проверку на адекватность модель прошла.\n",
    "\n",
    "\n",
    "Самым ценным признаком является Время нагрева дугой(сек) и начальная температура\n",
    "\n",
    "\n",
    "Условия были соблюдены. МАЕ во всех трех моделях получились меньше 6.8\n"
   ]
  },
  {
   "cell_type": "markdown",
   "metadata": {},
   "source": [
    "## Отчет\n",
    "\n",
    "1. Работа прошла в соответствие с планом. На этапе выбора модели было приянто решение остановиться на трех моделях: LinearRegression,RandomForest, CatBoost. Так же в дополнение к плану была добавлена проверка на адекватность, которую модель прошла успешно. Время нагрева(сек) и время нагрева дуг(сек) получено с помощью разницы начального конечного времени на данных этапах. \n",
    "\n",
    "\n",
    "2. На протяжение работы трудности были с созданием и проверкой моделей, обучение, без правильно подобранных параметров проходит очень долго. \n",
    "\n",
    "\n",
    "3. После проделанной работы ключевыми можно назвать следующие шаги: \n",
    "- преобразуем данные\n",
    "- рассчитываем время нагрева, мощность\n",
    "- объединяем данные из разных источников\n",
    "- удаляем ненужные данные\n",
    "- разделяем данные на выборки\n",
    "- масштабируем\n",
    "- обучаем\n",
    "- тестируем\n",
    "- опркделяем значимость признаков\n",
    "- делаем вывод\n",
    "4. Для обучения моделей мы использовали целевой признак - Конечная температура. В качестве предобработки был проведен анализ и разбиение температуры на начальную и конечную. Нецелевые признаки, такие как средняя мощность (посчитана как среднее между активной и реактивной), \n",
    "\n",
    "5. Итоговая модель CatBoostRegressor имеет наименьший МАЕ среди остальных, гиперпараметры - {'learning_rate': 0.1, 'max_depth': 5, 'n_estimators': 150}\n",
    "- МАЕ на основной = 5.958\n",
    "- МАЕ на тестовой = 5.712\n",
    "- МАЕ на базовой = 8.279\n"
   ]
  },
  {
   "cell_type": "markdown",
   "metadata": {},
   "source": [
    "## Отчет\n",
    "\n",
    "1. Работа прошла в соответствие с планом. На этапе выбора модели было приянто решение остановиться на трех моделях: LinearRegression,RandomForest, CatBoost. Так же в дополнение к плану была добавлена проверка на адекватность, которую модель прошла успешно. Время нагрева(сек) и время нагрева дуг(сек) получено с помощью разницы начального конечного времени на данных этапах. \n",
    "\n",
    "\n",
    "2. На протяжение работы трудности были с созданием и проверкой моделей, обучение, без правильно подобранных параметров проходит очень долго. \n",
    "\n",
    "\n",
    "3. После проделанной работы ключевыми можно назвать следующие шаги: \n",
    "- преобразуем данные\n",
    "- рассчитываем время нагрева, мощность\n",
    "- объединяем данные из разных источников\n",
    "- удаляем ненужные данные\n",
    "- разделяем данные на выборки\n",
    "- масштабируем\n",
    "- обучаем\n",
    "- тестируем\n",
    "- опркделяем значимость признаков\n",
    "- делаем вывод\n",
    "4. Для обучения моделей мы использовали целевой признак - Конечная температура. В качестве предобработки был проведен анализ и разбиение температуры на начальную и конечную. Нецелевые признаки, такие как средняя мощность (посчитана как среднее между активной и реактивной), \n",
    "\n",
    "5. Итоговая модель CatBoostRegressor имеет наименьший МАЕ среди остальных, гиперпараметры - {'learning_rate': 0.1, 'max_depth': 5, 'n_estimators': 150}\n",
    "- МАЕ на основной = 5.958\n",
    "- МАЕ на тестовой = 5.712\n",
    "- МАЕ на базовой = 8.279\n"
   ]
  },
  {
   "cell_type": "code",
   "execution_count": null,
   "metadata": {},
   "outputs": [],
   "source": []
  }
 ],
 "metadata": {
  "ExecuteTimeLog": [
   {
    "duration": 120,
    "start_time": "2023-08-06T19:44:43.654Z"
   },
   {
    "duration": 144,
    "start_time": "2023-08-06T19:45:49.463Z"
   },
   {
    "duration": 1264,
    "start_time": "2023-08-06T19:47:01.702Z"
   },
   {
    "duration": 4,
    "start_time": "2023-08-06T19:47:14.101Z"
   },
   {
    "duration": 201,
    "start_time": "2023-08-06T19:50:55.784Z"
   },
   {
    "duration": 192,
    "start_time": "2023-08-06T19:51:41.345Z"
   },
   {
    "duration": 202,
    "start_time": "2023-08-06T20:02:48.917Z"
   },
   {
    "duration": 86,
    "start_time": "2023-08-06T20:03:03.796Z"
   },
   {
    "duration": 48,
    "start_time": "2023-08-06T20:03:20.762Z"
   },
   {
    "duration": 46,
    "start_time": "2023-08-06T20:06:53.597Z"
   },
   {
    "duration": 3,
    "start_time": "2023-08-06T20:07:03.685Z"
   },
   {
    "duration": 3,
    "start_time": "2023-08-06T20:07:03.975Z"
   },
   {
    "duration": 56,
    "start_time": "2023-08-06T20:07:04.218Z"
   },
   {
    "duration": 31,
    "start_time": "2023-08-06T20:07:04.399Z"
   },
   {
    "duration": 35,
    "start_time": "2023-08-06T20:07:04.568Z"
   },
   {
    "duration": 35,
    "start_time": "2023-08-06T20:07:04.764Z"
   },
   {
    "duration": 54,
    "start_time": "2023-08-06T20:07:24.639Z"
   },
   {
    "duration": 82,
    "start_time": "2023-08-06T20:08:45.370Z"
   },
   {
    "duration": 47,
    "start_time": "2023-08-06T20:09:26.502Z"
   },
   {
    "duration": 103,
    "start_time": "2023-08-06T20:10:09.167Z"
   },
   {
    "duration": 45,
    "start_time": "2023-08-06T20:10:38.118Z"
   },
   {
    "duration": 75,
    "start_time": "2023-08-06T20:10:51.399Z"
   },
   {
    "duration": 80,
    "start_time": "2023-08-06T21:17:57.619Z"
   },
   {
    "duration": 66,
    "start_time": "2023-08-06T21:18:09.406Z"
   },
   {
    "duration": 56,
    "start_time": "2023-08-06T21:19:09.834Z"
   },
   {
    "duration": 4,
    "start_time": "2023-08-06T21:25:23.596Z"
   },
   {
    "duration": 48,
    "start_time": "2023-08-06T21:26:33.096Z"
   },
   {
    "duration": 13,
    "start_time": "2023-08-06T21:33:38.825Z"
   },
   {
    "duration": 356,
    "start_time": "2023-08-06T21:33:54.860Z"
   },
   {
    "duration": 312,
    "start_time": "2023-08-06T21:34:05.159Z"
   },
   {
    "duration": 390,
    "start_time": "2023-08-06T21:34:23.529Z"
   },
   {
    "duration": 399,
    "start_time": "2023-08-06T21:34:51.555Z"
   },
   {
    "duration": 11,
    "start_time": "2023-08-06T21:36:17.055Z"
   },
   {
    "duration": 14,
    "start_time": "2023-08-06T21:36:25.803Z"
   },
   {
    "duration": 424,
    "start_time": "2023-08-06T21:39:05.945Z"
   },
   {
    "duration": 336,
    "start_time": "2023-08-06T21:40:06.971Z"
   },
   {
    "duration": 315,
    "start_time": "2023-08-06T21:40:51.796Z"
   },
   {
    "duration": 269,
    "start_time": "2023-08-06T21:41:01.490Z"
   },
   {
    "duration": 249,
    "start_time": "2023-08-06T21:42:16.570Z"
   },
   {
    "duration": 209,
    "start_time": "2023-08-06T21:42:25.034Z"
   },
   {
    "duration": 242,
    "start_time": "2023-08-06T21:43:32.595Z"
   },
   {
    "duration": 385,
    "start_time": "2023-08-06T21:43:42.641Z"
   },
   {
    "duration": 146,
    "start_time": "2023-08-06T21:44:34.822Z"
   },
   {
    "duration": 305,
    "start_time": "2023-08-06T21:48:04.464Z"
   },
   {
    "duration": 151,
    "start_time": "2023-08-06T21:48:17.560Z"
   },
   {
    "duration": 12,
    "start_time": "2023-08-06T21:53:53.339Z"
   },
   {
    "duration": 11,
    "start_time": "2023-08-06T21:56:17.009Z"
   },
   {
    "duration": 271,
    "start_time": "2023-08-06T21:56:17.794Z"
   },
   {
    "duration": 153,
    "start_time": "2023-08-06T21:56:19.769Z"
   },
   {
    "duration": 21,
    "start_time": "2023-08-06T21:58:42.869Z"
   },
   {
    "duration": 80,
    "start_time": "2023-08-06T22:07:12.877Z"
   },
   {
    "duration": 70,
    "start_time": "2023-08-06T22:22:17.070Z"
   },
   {
    "duration": 39,
    "start_time": "2023-08-06T22:26:40.060Z"
   },
   {
    "duration": 1943,
    "start_time": "2023-08-06T22:28:20.798Z"
   },
   {
    "duration": 261,
    "start_time": "2023-08-06T22:28:32.660Z"
   },
   {
    "duration": 259,
    "start_time": "2023-08-06T22:28:40.531Z"
   },
   {
    "duration": 324,
    "start_time": "2023-08-06T22:28:48.219Z"
   },
   {
    "duration": 210,
    "start_time": "2023-08-06T22:28:55.899Z"
   },
   {
    "duration": 269,
    "start_time": "2023-08-06T22:29:01.656Z"
   },
   {
    "duration": 162,
    "start_time": "2023-08-06T22:29:06.300Z"
   },
   {
    "duration": 167,
    "start_time": "2023-08-06T22:29:11.330Z"
   },
   {
    "duration": 191,
    "start_time": "2023-08-06T22:29:16.788Z"
   },
   {
    "duration": 56,
    "start_time": "2023-08-06T22:30:09.520Z"
   },
   {
    "duration": 1809,
    "start_time": "2023-08-06T22:30:55.820Z"
   },
   {
    "duration": 148,
    "start_time": "2023-08-06T22:31:11.450Z"
   },
   {
    "duration": 234,
    "start_time": "2023-08-06T22:31:30.138Z"
   },
   {
    "duration": 148,
    "start_time": "2023-08-06T22:31:42.638Z"
   },
   {
    "duration": 159,
    "start_time": "2023-08-06T22:31:48.318Z"
   },
   {
    "duration": 214,
    "start_time": "2023-08-06T22:31:57.047Z"
   },
   {
    "duration": 8,
    "start_time": "2023-08-06T22:40:14.271Z"
   },
   {
    "duration": 3,
    "start_time": "2023-08-06T22:48:17.729Z"
   },
   {
    "duration": 260,
    "start_time": "2023-08-06T22:48:23.869Z"
   },
   {
    "duration": 94,
    "start_time": "2023-08-07T17:51:59.916Z"
   },
   {
    "duration": 82,
    "start_time": "2023-08-07T17:53:05.632Z"
   },
   {
    "duration": 86,
    "start_time": "2023-08-07T17:53:14.035Z"
   },
   {
    "duration": 4,
    "start_time": "2023-08-07T17:53:59.429Z"
   },
   {
    "duration": 4,
    "start_time": "2023-08-07T17:54:36.093Z"
   },
   {
    "duration": 3,
    "start_time": "2023-08-07T17:57:30.913Z"
   },
   {
    "duration": 45,
    "start_time": "2023-08-07T17:57:33.423Z"
   },
   {
    "duration": 7,
    "start_time": "2023-08-07T17:57:44.543Z"
   },
   {
    "duration": 1209,
    "start_time": "2023-08-07T17:57:53.237Z"
   },
   {
    "duration": 3,
    "start_time": "2023-08-07T17:57:54.448Z"
   },
   {
    "duration": 110,
    "start_time": "2023-08-07T17:57:54.453Z"
   },
   {
    "duration": 149,
    "start_time": "2023-08-07T17:57:54.565Z"
   },
   {
    "duration": 94,
    "start_time": "2023-08-07T17:57:54.715Z"
   },
   {
    "duration": 110,
    "start_time": "2023-08-07T17:57:54.810Z"
   },
   {
    "duration": 241,
    "start_time": "2023-08-07T17:57:54.921Z"
   },
   {
    "duration": 58,
    "start_time": "2023-08-07T17:57:55.163Z"
   },
   {
    "duration": 92,
    "start_time": "2023-08-07T17:57:55.222Z"
   },
   {
    "duration": 4,
    "start_time": "2023-08-07T17:57:55.315Z"
   },
   {
    "duration": 38,
    "start_time": "2023-08-07T17:57:55.319Z"
   },
   {
    "duration": 9,
    "start_time": "2023-08-07T17:57:55.358Z"
   },
   {
    "duration": 21,
    "start_time": "2023-08-07T17:57:55.368Z"
   },
   {
    "duration": 217,
    "start_time": "2023-08-07T17:57:55.392Z"
   },
   {
    "duration": 95,
    "start_time": "2023-08-07T17:57:55.610Z"
   },
   {
    "duration": 106,
    "start_time": "2023-08-07T17:57:55.706Z"
   },
   {
    "duration": 0,
    "start_time": "2023-08-07T17:57:55.813Z"
   },
   {
    "duration": 0,
    "start_time": "2023-08-07T17:57:55.814Z"
   },
   {
    "duration": 0,
    "start_time": "2023-08-07T17:57:55.815Z"
   },
   {
    "duration": 0,
    "start_time": "2023-08-07T17:57:55.816Z"
   },
   {
    "duration": 0,
    "start_time": "2023-08-07T17:57:55.817Z"
   },
   {
    "duration": 0,
    "start_time": "2023-08-07T17:57:55.818Z"
   },
   {
    "duration": 50,
    "start_time": "2023-08-07T17:58:17.172Z"
   },
   {
    "duration": 4,
    "start_time": "2023-08-07T17:59:00.508Z"
   },
   {
    "duration": 26,
    "start_time": "2023-08-07T17:59:01.586Z"
   },
   {
    "duration": 4,
    "start_time": "2023-08-07T18:00:21.932Z"
   },
   {
    "duration": 30,
    "start_time": "2023-08-07T18:00:24.039Z"
   },
   {
    "duration": 3,
    "start_time": "2023-08-07T18:00:50.517Z"
   },
   {
    "duration": 29,
    "start_time": "2023-08-07T18:00:52.356Z"
   },
   {
    "duration": 4,
    "start_time": "2023-08-07T18:03:31.207Z"
   },
   {
    "duration": 525,
    "start_time": "2023-08-07T18:03:32.510Z"
   },
   {
    "duration": 5,
    "start_time": "2023-08-07T18:04:04.473Z"
   },
   {
    "duration": 3,
    "start_time": "2023-08-07T18:04:14.695Z"
   },
   {
    "duration": 562,
    "start_time": "2023-08-07T18:04:16.085Z"
   },
   {
    "duration": 4,
    "start_time": "2023-08-07T18:04:24.026Z"
   },
   {
    "duration": 597,
    "start_time": "2023-08-07T18:04:24.910Z"
   },
   {
    "duration": 1304,
    "start_time": "2023-08-07T18:06:25.795Z"
   },
   {
    "duration": 3,
    "start_time": "2023-08-07T18:06:41.850Z"
   },
   {
    "duration": 1082,
    "start_time": "2023-08-07T18:06:46.775Z"
   },
   {
    "duration": 273,
    "start_time": "2023-08-07T18:10:07.955Z"
   },
   {
    "duration": 12,
    "start_time": "2023-08-07T18:12:19.822Z"
   },
   {
    "duration": 6,
    "start_time": "2023-08-07T18:13:19.551Z"
   },
   {
    "duration": 8,
    "start_time": "2023-08-07T18:13:23.220Z"
   },
   {
    "duration": 17,
    "start_time": "2023-08-07T18:13:31.855Z"
   },
   {
    "duration": 286,
    "start_time": "2023-08-07T18:13:52.025Z"
   },
   {
    "duration": 9,
    "start_time": "2023-08-07T18:14:02.234Z"
   },
   {
    "duration": 7,
    "start_time": "2023-08-07T18:14:11.742Z"
   },
   {
    "duration": 349,
    "start_time": "2023-08-07T18:14:16.591Z"
   },
   {
    "duration": 193,
    "start_time": "2023-08-07T18:16:12.454Z"
   },
   {
    "duration": 917,
    "start_time": "2023-08-07T18:17:23.973Z"
   },
   {
    "duration": 3,
    "start_time": "2023-08-07T18:18:31.254Z"
   },
   {
    "duration": 4,
    "start_time": "2023-08-07T18:18:41.934Z"
   },
   {
    "duration": 239,
    "start_time": "2023-08-07T18:21:39.687Z"
   },
   {
    "duration": 4,
    "start_time": "2023-08-07T18:22:01.659Z"
   },
   {
    "duration": 9,
    "start_time": "2023-08-07T18:22:12.817Z"
   },
   {
    "duration": 5,
    "start_time": "2023-08-07T18:31:29.467Z"
   },
   {
    "duration": 733,
    "start_time": "2023-08-07T18:31:30.387Z"
   },
   {
    "duration": 7,
    "start_time": "2023-08-07T18:31:31.532Z"
   },
   {
    "duration": 1285,
    "start_time": "2023-08-07T18:31:33.270Z"
   },
   {
    "duration": 11,
    "start_time": "2023-08-07T18:31:34.557Z"
   },
   {
    "duration": 214,
    "start_time": "2023-08-07T18:31:35.106Z"
   },
   {
    "duration": 311,
    "start_time": "2023-08-07T18:31:36.073Z"
   },
   {
    "duration": 233,
    "start_time": "2023-08-07T18:31:46.499Z"
   },
   {
    "duration": 908,
    "start_time": "2023-08-07T18:32:09.975Z"
   },
   {
    "duration": 3,
    "start_time": "2023-08-07T18:32:10.885Z"
   },
   {
    "duration": 174,
    "start_time": "2023-08-07T18:32:11.404Z"
   },
   {
    "duration": 9,
    "start_time": "2023-08-07T18:32:11.628Z"
   },
   {
    "duration": 9,
    "start_time": "2023-08-07T18:32:12.110Z"
   },
   {
    "duration": 1104,
    "start_time": "2023-08-07T19:27:22.230Z"
   },
   {
    "duration": 4,
    "start_time": "2023-08-07T19:27:23.337Z"
   },
   {
    "duration": 89,
    "start_time": "2023-08-07T19:27:23.343Z"
   },
   {
    "duration": 42,
    "start_time": "2023-08-07T19:27:23.434Z"
   },
   {
    "duration": 70,
    "start_time": "2023-08-07T19:27:23.479Z"
   },
   {
    "duration": 42,
    "start_time": "2023-08-07T19:27:23.553Z"
   },
   {
    "duration": 33,
    "start_time": "2023-08-07T19:27:23.596Z"
   },
   {
    "duration": 34,
    "start_time": "2023-08-07T19:27:23.631Z"
   },
   {
    "duration": 25,
    "start_time": "2023-08-07T19:27:23.666Z"
   },
   {
    "duration": 3,
    "start_time": "2023-08-07T19:27:23.693Z"
   },
   {
    "duration": 434,
    "start_time": "2023-08-07T19:27:23.697Z"
   },
   {
    "duration": 10,
    "start_time": "2023-08-07T19:27:24.138Z"
   },
   {
    "duration": 1468,
    "start_time": "2023-08-07T19:27:24.149Z"
   },
   {
    "duration": 3,
    "start_time": "2023-08-07T19:27:25.619Z"
   },
   {
    "duration": 196,
    "start_time": "2023-08-07T19:27:25.624Z"
   },
   {
    "duration": 266,
    "start_time": "2023-08-07T19:27:25.821Z"
   },
   {
    "duration": 296,
    "start_time": "2023-08-07T19:27:26.088Z"
   },
   {
    "duration": 7,
    "start_time": "2023-08-07T19:27:26.385Z"
   },
   {
    "duration": 1030,
    "start_time": "2023-08-07T19:27:26.393Z"
   },
   {
    "duration": 3,
    "start_time": "2023-08-07T19:27:27.425Z"
   },
   {
    "duration": 176,
    "start_time": "2023-08-07T19:27:27.430Z"
   },
   {
    "duration": 11,
    "start_time": "2023-08-07T19:27:27.608Z"
   },
   {
    "duration": 143,
    "start_time": "2023-08-07T19:27:27.621Z"
   },
   {
    "duration": 1096,
    "start_time": "2023-08-07T21:30:25.438Z"
   },
   {
    "duration": 2,
    "start_time": "2023-08-07T21:30:26.536Z"
   },
   {
    "duration": 66,
    "start_time": "2023-08-07T21:30:26.540Z"
   },
   {
    "duration": 30,
    "start_time": "2023-08-07T21:30:26.608Z"
   },
   {
    "duration": 34,
    "start_time": "2023-08-07T21:30:26.640Z"
   },
   {
    "duration": 42,
    "start_time": "2023-08-07T21:30:26.676Z"
   },
   {
    "duration": 32,
    "start_time": "2023-08-07T21:30:26.719Z"
   },
   {
    "duration": 25,
    "start_time": "2023-08-07T21:30:26.752Z"
   },
   {
    "duration": 27,
    "start_time": "2023-08-07T21:30:26.778Z"
   },
   {
    "duration": 4,
    "start_time": "2023-08-07T21:30:26.807Z"
   },
   {
    "duration": 428,
    "start_time": "2023-08-07T21:30:26.812Z"
   },
   {
    "duration": 7,
    "start_time": "2023-08-07T21:30:27.242Z"
   },
   {
    "duration": 1241,
    "start_time": "2023-08-07T21:30:27.250Z"
   },
   {
    "duration": 4,
    "start_time": "2023-08-07T21:30:28.492Z"
   },
   {
    "duration": 176,
    "start_time": "2023-08-07T21:30:28.497Z"
   },
   {
    "duration": 243,
    "start_time": "2023-08-07T21:30:28.675Z"
   },
   {
    "duration": 266,
    "start_time": "2023-08-07T21:30:28.920Z"
   },
   {
    "duration": 7,
    "start_time": "2023-08-07T21:30:29.188Z"
   },
   {
    "duration": 79,
    "start_time": "2023-08-07T21:30:29.196Z"
   },
   {
    "duration": 0,
    "start_time": "2023-08-07T21:30:29.277Z"
   },
   {
    "duration": 0,
    "start_time": "2023-08-07T21:30:29.278Z"
   },
   {
    "duration": 0,
    "start_time": "2023-08-07T21:30:29.279Z"
   },
   {
    "duration": 0,
    "start_time": "2023-08-07T21:30:29.280Z"
   },
   {
    "duration": 0,
    "start_time": "2023-08-07T21:30:29.281Z"
   },
   {
    "duration": 0,
    "start_time": "2023-08-07T21:30:29.282Z"
   },
   {
    "duration": 361,
    "start_time": "2023-08-07T21:30:53.511Z"
   },
   {
    "duration": 4,
    "start_time": "2023-08-07T21:46:00.620Z"
   },
   {
    "duration": 99,
    "start_time": "2023-08-07T21:46:14.800Z"
   },
   {
    "duration": 8,
    "start_time": "2023-08-07T21:46:36.431Z"
   },
   {
    "duration": 3,
    "start_time": "2023-08-07T21:46:42.534Z"
   },
   {
    "duration": 5,
    "start_time": "2023-08-07T21:46:47.501Z"
   },
   {
    "duration": 3,
    "start_time": "2023-08-07T21:46:48.218Z"
   },
   {
    "duration": 9,
    "start_time": "2023-08-07T21:47:07.089Z"
   },
   {
    "duration": 6,
    "start_time": "2023-08-07T21:47:22.443Z"
   },
   {
    "duration": 2,
    "start_time": "2023-08-07T21:47:43.342Z"
   },
   {
    "duration": 2,
    "start_time": "2023-08-07T21:47:43.893Z"
   },
   {
    "duration": 55,
    "start_time": "2023-08-07T21:47:44.440Z"
   },
   {
    "duration": 29,
    "start_time": "2023-08-07T21:47:44.888Z"
   },
   {
    "duration": 48,
    "start_time": "2023-08-07T21:47:47.987Z"
   },
   {
    "duration": 53,
    "start_time": "2023-08-07T21:47:51.213Z"
   },
   {
    "duration": 43,
    "start_time": "2023-08-07T21:47:53.949Z"
   },
   {
    "duration": 36,
    "start_time": "2023-08-07T21:47:56.967Z"
   },
   {
    "duration": 33,
    "start_time": "2023-08-07T21:47:57.524Z"
   },
   {
    "duration": 3,
    "start_time": "2023-08-07T21:47:58.963Z"
   },
   {
    "duration": 438,
    "start_time": "2023-08-07T21:48:02.378Z"
   },
   {
    "duration": 5,
    "start_time": "2023-08-07T21:48:08.954Z"
   },
   {
    "duration": 1217,
    "start_time": "2023-08-07T21:48:19.590Z"
   },
   {
    "duration": 3,
    "start_time": "2023-08-07T21:48:27.989Z"
   },
   {
    "duration": 153,
    "start_time": "2023-08-07T21:48:33.685Z"
   },
   {
    "duration": 239,
    "start_time": "2023-08-07T21:48:35.731Z"
   },
   {
    "duration": 258,
    "start_time": "2023-08-07T21:48:40.088Z"
   },
   {
    "duration": 7,
    "start_time": "2023-08-07T21:48:43.980Z"
   },
   {
    "duration": 5,
    "start_time": "2023-08-07T21:48:52.853Z"
   },
   {
    "duration": 6,
    "start_time": "2023-08-07T21:48:53.241Z"
   },
   {
    "duration": 48,
    "start_time": "2023-08-07T21:49:48.691Z"
   },
   {
    "duration": 43,
    "start_time": "2023-08-07T21:50:19.099Z"
   },
   {
    "duration": 8,
    "start_time": "2023-08-07T21:58:15.100Z"
   },
   {
    "duration": 16,
    "start_time": "2023-08-07T21:58:23.054Z"
   },
   {
    "duration": 11,
    "start_time": "2023-08-07T22:00:01.141Z"
   },
   {
    "duration": 9,
    "start_time": "2023-08-07T22:00:04.536Z"
   },
   {
    "duration": 2,
    "start_time": "2023-08-07T22:00:49.098Z"
   },
   {
    "duration": 12,
    "start_time": "2023-08-07T22:00:49.692Z"
   },
   {
    "duration": 1054,
    "start_time": "2023-08-07T22:00:58.842Z"
   },
   {
    "duration": 3,
    "start_time": "2023-08-07T22:00:59.897Z"
   },
   {
    "duration": 61,
    "start_time": "2023-08-07T22:00:59.901Z"
   },
   {
    "duration": 29,
    "start_time": "2023-08-07T22:00:59.964Z"
   },
   {
    "duration": 50,
    "start_time": "2023-08-07T22:00:59.995Z"
   },
   {
    "duration": 60,
    "start_time": "2023-08-07T22:01:00.047Z"
   },
   {
    "duration": 97,
    "start_time": "2023-08-07T22:01:00.108Z"
   },
   {
    "duration": 73,
    "start_time": "2023-08-07T22:01:00.207Z"
   },
   {
    "duration": 61,
    "start_time": "2023-08-07T22:01:00.281Z"
   },
   {
    "duration": 52,
    "start_time": "2023-08-07T22:01:00.343Z"
   },
   {
    "duration": 490,
    "start_time": "2023-08-07T22:01:00.397Z"
   },
   {
    "duration": 6,
    "start_time": "2023-08-07T22:01:00.889Z"
   },
   {
    "duration": 1343,
    "start_time": "2023-08-07T22:01:00.896Z"
   },
   {
    "duration": 4,
    "start_time": "2023-08-07T22:01:02.241Z"
   },
   {
    "duration": 224,
    "start_time": "2023-08-07T22:01:02.246Z"
   },
   {
    "duration": 363,
    "start_time": "2023-08-07T22:01:02.471Z"
   },
   {
    "duration": 266,
    "start_time": "2023-08-07T22:01:02.835Z"
   },
   {
    "duration": 7,
    "start_time": "2023-08-07T22:01:03.102Z"
   },
   {
    "duration": 30,
    "start_time": "2023-08-07T22:01:03.110Z"
   },
   {
    "duration": 45,
    "start_time": "2023-08-07T22:01:03.141Z"
   },
   {
    "duration": 74,
    "start_time": "2023-08-07T22:01:03.187Z"
   },
   {
    "duration": 0,
    "start_time": "2023-08-07T22:01:03.263Z"
   },
   {
    "duration": 0,
    "start_time": "2023-08-07T22:01:03.264Z"
   },
   {
    "duration": 0,
    "start_time": "2023-08-07T22:01:03.265Z"
   },
   {
    "duration": 0,
    "start_time": "2023-08-07T22:01:03.266Z"
   },
   {
    "duration": 0,
    "start_time": "2023-08-07T22:01:03.267Z"
   },
   {
    "duration": 0,
    "start_time": "2023-08-07T22:01:03.268Z"
   },
   {
    "duration": 111,
    "start_time": "2023-08-07T22:01:40.495Z"
   },
   {
    "duration": 9,
    "start_time": "2023-08-07T22:03:49.138Z"
   },
   {
    "duration": 9,
    "start_time": "2023-08-07T22:05:38.908Z"
   },
   {
    "duration": 8,
    "start_time": "2023-08-07T22:06:06.753Z"
   },
   {
    "duration": 9,
    "start_time": "2023-08-07T22:06:09.850Z"
   },
   {
    "duration": 9,
    "start_time": "2023-08-07T22:06:29.297Z"
   },
   {
    "duration": 8,
    "start_time": "2023-08-07T22:06:47.500Z"
   },
   {
    "duration": 1061,
    "start_time": "2023-08-07T22:06:54.052Z"
   },
   {
    "duration": 3,
    "start_time": "2023-08-07T22:06:55.114Z"
   },
   {
    "duration": 64,
    "start_time": "2023-08-07T22:06:55.118Z"
   },
   {
    "duration": 30,
    "start_time": "2023-08-07T22:06:55.183Z"
   },
   {
    "duration": 33,
    "start_time": "2023-08-07T22:06:55.215Z"
   },
   {
    "duration": 42,
    "start_time": "2023-08-07T22:06:55.249Z"
   },
   {
    "duration": 39,
    "start_time": "2023-08-07T22:06:55.292Z"
   },
   {
    "duration": 26,
    "start_time": "2023-08-07T22:06:55.333Z"
   },
   {
    "duration": 27,
    "start_time": "2023-08-07T22:06:55.360Z"
   },
   {
    "duration": 4,
    "start_time": "2023-08-07T22:06:55.388Z"
   },
   {
    "duration": 410,
    "start_time": "2023-08-07T22:06:55.393Z"
   },
   {
    "duration": 8,
    "start_time": "2023-08-07T22:06:55.805Z"
   },
   {
    "duration": 1330,
    "start_time": "2023-08-07T22:06:55.814Z"
   },
   {
    "duration": 3,
    "start_time": "2023-08-07T22:06:57.146Z"
   },
   {
    "duration": 178,
    "start_time": "2023-08-07T22:06:57.150Z"
   },
   {
    "duration": 261,
    "start_time": "2023-08-07T22:06:57.329Z"
   },
   {
    "duration": 263,
    "start_time": "2023-08-07T22:06:57.591Z"
   },
   {
    "duration": 7,
    "start_time": "2023-08-07T22:06:57.856Z"
   },
   {
    "duration": 20,
    "start_time": "2023-08-07T22:06:57.865Z"
   },
   {
    "duration": 10,
    "start_time": "2023-08-07T22:06:57.886Z"
   },
   {
    "duration": 78,
    "start_time": "2023-08-07T22:06:57.897Z"
   },
   {
    "duration": 0,
    "start_time": "2023-08-07T22:06:57.976Z"
   },
   {
    "duration": 0,
    "start_time": "2023-08-07T22:06:57.978Z"
   },
   {
    "duration": 0,
    "start_time": "2023-08-07T22:06:57.980Z"
   },
   {
    "duration": 0,
    "start_time": "2023-08-07T22:06:57.981Z"
   },
   {
    "duration": 0,
    "start_time": "2023-08-07T22:06:57.982Z"
   },
   {
    "duration": 0,
    "start_time": "2023-08-07T22:06:57.983Z"
   },
   {
    "duration": 420,
    "start_time": "2023-08-07T22:10:12.413Z"
   },
   {
    "duration": 8,
    "start_time": "2023-08-07T22:10:18.896Z"
   },
   {
    "duration": 11,
    "start_time": "2023-08-07T22:10:21.534Z"
   },
   {
    "duration": 10,
    "start_time": "2023-08-07T22:10:31.294Z"
   },
   {
    "duration": 9,
    "start_time": "2023-08-07T22:12:08.624Z"
   },
   {
    "duration": 335,
    "start_time": "2023-08-07T22:13:55.193Z"
   },
   {
    "duration": 8,
    "start_time": "2023-08-07T22:14:03.104Z"
   },
   {
    "duration": 1025,
    "start_time": "2023-08-07T22:15:30.190Z"
   },
   {
    "duration": 3,
    "start_time": "2023-08-07T22:15:31.217Z"
   },
   {
    "duration": 132,
    "start_time": "2023-08-07T22:15:31.221Z"
   },
   {
    "duration": 31,
    "start_time": "2023-08-07T22:15:31.355Z"
   },
   {
    "duration": 81,
    "start_time": "2023-08-07T22:15:31.388Z"
   },
   {
    "duration": 68,
    "start_time": "2023-08-07T22:15:31.471Z"
   },
   {
    "duration": 40,
    "start_time": "2023-08-07T22:15:31.541Z"
   },
   {
    "duration": 39,
    "start_time": "2023-08-07T22:15:31.582Z"
   },
   {
    "duration": 42,
    "start_time": "2023-08-07T22:15:31.622Z"
   },
   {
    "duration": 21,
    "start_time": "2023-08-07T22:15:31.665Z"
   },
   {
    "duration": 499,
    "start_time": "2023-08-07T22:15:31.687Z"
   },
   {
    "duration": 7,
    "start_time": "2023-08-07T22:15:32.187Z"
   },
   {
    "duration": 1436,
    "start_time": "2023-08-07T22:15:32.195Z"
   },
   {
    "duration": 4,
    "start_time": "2023-08-07T22:15:33.635Z"
   },
   {
    "duration": 180,
    "start_time": "2023-08-07T22:15:33.641Z"
   },
   {
    "duration": 265,
    "start_time": "2023-08-07T22:15:33.823Z"
   },
   {
    "duration": 314,
    "start_time": "2023-08-07T22:15:34.090Z"
   },
   {
    "duration": 6,
    "start_time": "2023-08-07T22:15:34.406Z"
   },
   {
    "duration": 44,
    "start_time": "2023-08-07T22:15:34.414Z"
   },
   {
    "duration": 39,
    "start_time": "2023-08-07T22:15:34.460Z"
   },
   {
    "duration": 36,
    "start_time": "2023-08-07T22:15:34.501Z"
   },
   {
    "duration": 83,
    "start_time": "2023-08-07T22:15:34.538Z"
   },
   {
    "duration": 0,
    "start_time": "2023-08-07T22:15:34.623Z"
   },
   {
    "duration": 0,
    "start_time": "2023-08-07T22:15:34.624Z"
   },
   {
    "duration": 0,
    "start_time": "2023-08-07T22:15:34.625Z"
   },
   {
    "duration": 1,
    "start_time": "2023-08-07T22:15:34.626Z"
   },
   {
    "duration": 0,
    "start_time": "2023-08-07T22:15:34.627Z"
   },
   {
    "duration": 0,
    "start_time": "2023-08-07T22:15:34.629Z"
   },
   {
    "duration": 101,
    "start_time": "2023-08-07T22:25:00.398Z"
   },
   {
    "duration": 10,
    "start_time": "2023-08-07T22:25:30.937Z"
   },
   {
    "duration": 10,
    "start_time": "2023-08-07T22:25:39.046Z"
   },
   {
    "duration": 4,
    "start_time": "2023-08-07T22:26:48.214Z"
   },
   {
    "duration": 11,
    "start_time": "2023-08-07T22:26:55.931Z"
   },
   {
    "duration": 6,
    "start_time": "2023-08-07T22:30:47.993Z"
   },
   {
    "duration": 11,
    "start_time": "2023-08-07T22:30:57.520Z"
   },
   {
    "duration": 3,
    "start_time": "2023-08-07T22:34:05.999Z"
   },
   {
    "duration": 3,
    "start_time": "2023-08-07T22:34:06.625Z"
   },
   {
    "duration": 28,
    "start_time": "2023-08-07T22:44:11.416Z"
   },
   {
    "duration": 11,
    "start_time": "2023-08-07T22:44:48.447Z"
   },
   {
    "duration": 18,
    "start_time": "2023-08-07T22:44:55.796Z"
   },
   {
    "duration": 1046,
    "start_time": "2023-08-07T22:45:18.260Z"
   },
   {
    "duration": 3,
    "start_time": "2023-08-07T22:45:19.307Z"
   },
   {
    "duration": 55,
    "start_time": "2023-08-07T22:45:19.312Z"
   },
   {
    "duration": 29,
    "start_time": "2023-08-07T22:45:19.369Z"
   },
   {
    "duration": 33,
    "start_time": "2023-08-07T22:45:19.399Z"
   },
   {
    "duration": 41,
    "start_time": "2023-08-07T22:45:19.433Z"
   },
   {
    "duration": 29,
    "start_time": "2023-08-07T22:45:19.476Z"
   },
   {
    "duration": 23,
    "start_time": "2023-08-07T22:45:19.506Z"
   },
   {
    "duration": 25,
    "start_time": "2023-08-07T22:45:19.530Z"
   },
   {
    "duration": 4,
    "start_time": "2023-08-07T22:45:19.558Z"
   },
   {
    "duration": 402,
    "start_time": "2023-08-07T22:45:19.564Z"
   },
   {
    "duration": 7,
    "start_time": "2023-08-07T22:45:19.967Z"
   },
   {
    "duration": 26,
    "start_time": "2023-08-07T22:45:19.975Z"
   },
   {
    "duration": 1199,
    "start_time": "2023-08-07T22:45:20.003Z"
   },
   {
    "duration": 3,
    "start_time": "2023-08-07T22:45:21.203Z"
   },
   {
    "duration": 162,
    "start_time": "2023-08-07T22:45:21.207Z"
   },
   {
    "duration": 246,
    "start_time": "2023-08-07T22:45:21.371Z"
   },
   {
    "duration": 270,
    "start_time": "2023-08-07T22:45:21.619Z"
   },
   {
    "duration": 8,
    "start_time": "2023-08-07T22:45:21.892Z"
   },
   {
    "duration": 15,
    "start_time": "2023-08-07T22:45:21.901Z"
   },
   {
    "duration": 20,
    "start_time": "2023-08-07T22:45:21.918Z"
   },
   {
    "duration": 23,
    "start_time": "2023-08-07T22:45:21.940Z"
   },
   {
    "duration": 9,
    "start_time": "2023-08-07T22:45:21.964Z"
   },
   {
    "duration": 17,
    "start_time": "2023-08-07T22:45:21.974Z"
   },
   {
    "duration": 903,
    "start_time": "2023-08-07T22:45:21.992Z"
   },
   {
    "duration": 3,
    "start_time": "2023-08-07T22:45:22.897Z"
   },
   {
    "duration": 159,
    "start_time": "2023-08-07T22:45:22.901Z"
   },
   {
    "duration": 5,
    "start_time": "2023-08-07T22:45:23.063Z"
   },
   {
    "duration": 106,
    "start_time": "2023-08-07T22:49:59.515Z"
   },
   {
    "duration": 1021,
    "start_time": "2023-08-07T22:50:15.597Z"
   },
   {
    "duration": 2,
    "start_time": "2023-08-07T22:50:16.620Z"
   },
   {
    "duration": 59,
    "start_time": "2023-08-07T22:50:16.624Z"
   },
   {
    "duration": 28,
    "start_time": "2023-08-07T22:50:16.685Z"
   },
   {
    "duration": 33,
    "start_time": "2023-08-07T22:50:16.715Z"
   },
   {
    "duration": 41,
    "start_time": "2023-08-07T22:50:16.750Z"
   },
   {
    "duration": 31,
    "start_time": "2023-08-07T22:50:16.792Z"
   },
   {
    "duration": 24,
    "start_time": "2023-08-07T22:50:16.824Z"
   },
   {
    "duration": 25,
    "start_time": "2023-08-07T22:50:16.849Z"
   },
   {
    "duration": 3,
    "start_time": "2023-08-07T22:50:16.875Z"
   },
   {
    "duration": 400,
    "start_time": "2023-08-07T22:50:16.879Z"
   },
   {
    "duration": 6,
    "start_time": "2023-08-07T22:50:17.280Z"
   },
   {
    "duration": 26,
    "start_time": "2023-08-07T22:50:17.287Z"
   },
   {
    "duration": 1202,
    "start_time": "2023-08-07T22:50:17.316Z"
   },
   {
    "duration": 2,
    "start_time": "2023-08-07T22:50:18.520Z"
   },
   {
    "duration": 162,
    "start_time": "2023-08-07T22:50:18.524Z"
   },
   {
    "duration": 242,
    "start_time": "2023-08-07T22:50:18.688Z"
   },
   {
    "duration": 252,
    "start_time": "2023-08-07T22:50:18.937Z"
   },
   {
    "duration": 6,
    "start_time": "2023-08-07T22:50:19.191Z"
   },
   {
    "duration": 9,
    "start_time": "2023-08-07T22:50:19.199Z"
   },
   {
    "duration": 8,
    "start_time": "2023-08-07T22:50:19.210Z"
   },
   {
    "duration": 25,
    "start_time": "2023-08-07T22:50:19.219Z"
   },
   {
    "duration": 5,
    "start_time": "2023-08-07T22:50:19.245Z"
   },
   {
    "duration": 12,
    "start_time": "2023-08-07T22:50:19.251Z"
   },
   {
    "duration": 927,
    "start_time": "2023-08-07T22:50:19.264Z"
   },
   {
    "duration": 3,
    "start_time": "2023-08-07T22:50:20.193Z"
   },
   {
    "duration": 156,
    "start_time": "2023-08-07T22:50:20.197Z"
   },
   {
    "duration": 6,
    "start_time": "2023-08-07T22:50:20.354Z"
   },
   {
    "duration": 99,
    "start_time": "2023-08-07T22:55:01.622Z"
   },
   {
    "duration": 1091,
    "start_time": "2023-08-07T22:55:09.516Z"
   },
   {
    "duration": 2,
    "start_time": "2023-08-07T22:55:10.609Z"
   },
   {
    "duration": 62,
    "start_time": "2023-08-07T22:55:10.613Z"
   },
   {
    "duration": 29,
    "start_time": "2023-08-07T22:55:10.677Z"
   },
   {
    "duration": 33,
    "start_time": "2023-08-07T22:55:10.707Z"
   },
   {
    "duration": 41,
    "start_time": "2023-08-07T22:55:10.742Z"
   },
   {
    "duration": 31,
    "start_time": "2023-08-07T22:55:10.784Z"
   },
   {
    "duration": 23,
    "start_time": "2023-08-07T22:55:10.817Z"
   },
   {
    "duration": 29,
    "start_time": "2023-08-07T22:55:10.842Z"
   },
   {
    "duration": 3,
    "start_time": "2023-08-07T22:55:10.873Z"
   },
   {
    "duration": 423,
    "start_time": "2023-08-07T22:55:10.877Z"
   },
   {
    "duration": 7,
    "start_time": "2023-08-07T22:55:11.301Z"
   },
   {
    "duration": 110,
    "start_time": "2023-08-07T22:55:11.309Z"
   },
   {
    "duration": 0,
    "start_time": "2023-08-07T22:55:11.421Z"
   },
   {
    "duration": 0,
    "start_time": "2023-08-07T22:55:11.422Z"
   },
   {
    "duration": 0,
    "start_time": "2023-08-07T22:55:11.423Z"
   },
   {
    "duration": 0,
    "start_time": "2023-08-07T22:55:11.424Z"
   },
   {
    "duration": 0,
    "start_time": "2023-08-07T22:55:11.425Z"
   },
   {
    "duration": 0,
    "start_time": "2023-08-07T22:55:11.437Z"
   },
   {
    "duration": 0,
    "start_time": "2023-08-07T22:55:11.438Z"
   },
   {
    "duration": 0,
    "start_time": "2023-08-07T22:55:11.439Z"
   },
   {
    "duration": 0,
    "start_time": "2023-08-07T22:55:11.440Z"
   },
   {
    "duration": 0,
    "start_time": "2023-08-07T22:55:11.441Z"
   },
   {
    "duration": 0,
    "start_time": "2023-08-07T22:55:11.442Z"
   },
   {
    "duration": 0,
    "start_time": "2023-08-07T22:55:11.443Z"
   },
   {
    "duration": 0,
    "start_time": "2023-08-07T22:55:11.444Z"
   },
   {
    "duration": 0,
    "start_time": "2023-08-07T22:55:11.445Z"
   },
   {
    "duration": 0,
    "start_time": "2023-08-07T22:55:11.446Z"
   },
   {
    "duration": 19,
    "start_time": "2023-08-07T23:03:39.746Z"
   },
   {
    "duration": 1243,
    "start_time": "2023-08-07T23:04:04.590Z"
   },
   {
    "duration": 5,
    "start_time": "2023-08-07T23:04:05.834Z"
   },
   {
    "duration": 189,
    "start_time": "2023-08-07T23:04:05.840Z"
   },
   {
    "duration": 270,
    "start_time": "2023-08-07T23:04:06.031Z"
   },
   {
    "duration": 270,
    "start_time": "2023-08-07T23:04:06.304Z"
   },
   {
    "duration": 6,
    "start_time": "2023-08-07T23:04:06.699Z"
   },
   {
    "duration": 10,
    "start_time": "2023-08-07T23:04:07.106Z"
   },
   {
    "duration": 8,
    "start_time": "2023-08-07T23:04:07.293Z"
   },
   {
    "duration": 13,
    "start_time": "2023-08-07T23:04:07.463Z"
   },
   {
    "duration": 5,
    "start_time": "2023-08-07T23:04:07.695Z"
   },
   {
    "duration": 10,
    "start_time": "2023-08-07T23:04:07.839Z"
   },
   {
    "duration": 927,
    "start_time": "2023-08-07T23:04:08.344Z"
   },
   {
    "duration": 3,
    "start_time": "2023-08-07T23:04:09.273Z"
   },
   {
    "duration": 158,
    "start_time": "2023-08-07T23:04:09.277Z"
   },
   {
    "duration": 6,
    "start_time": "2023-08-07T23:04:09.438Z"
   },
   {
    "duration": 23,
    "start_time": "2023-08-07T23:12:17.106Z"
   },
   {
    "duration": 51,
    "start_time": "2023-08-07T23:12:27.634Z"
   },
   {
    "duration": 97,
    "start_time": "2023-08-07T23:15:34.317Z"
   },
   {
    "duration": 1083,
    "start_time": "2023-08-07T23:15:46.517Z"
   },
   {
    "duration": 3,
    "start_time": "2023-08-07T23:15:47.601Z"
   },
   {
    "duration": 84,
    "start_time": "2023-08-07T23:15:47.605Z"
   },
   {
    "duration": 29,
    "start_time": "2023-08-07T23:15:47.691Z"
   },
   {
    "duration": 34,
    "start_time": "2023-08-07T23:15:47.722Z"
   },
   {
    "duration": 40,
    "start_time": "2023-08-07T23:15:47.757Z"
   },
   {
    "duration": 31,
    "start_time": "2023-08-07T23:15:47.798Z"
   },
   {
    "duration": 23,
    "start_time": "2023-08-07T23:15:47.831Z"
   },
   {
    "duration": 25,
    "start_time": "2023-08-07T23:15:47.855Z"
   },
   {
    "duration": 3,
    "start_time": "2023-08-07T23:15:47.882Z"
   },
   {
    "duration": 416,
    "start_time": "2023-08-07T23:15:47.886Z"
   },
   {
    "duration": 7,
    "start_time": "2023-08-07T23:15:48.303Z"
   },
   {
    "duration": 16,
    "start_time": "2023-08-07T23:15:48.311Z"
   },
   {
    "duration": 1201,
    "start_time": "2023-08-07T23:15:48.337Z"
   },
   {
    "duration": 2,
    "start_time": "2023-08-07T23:15:49.540Z"
   },
   {
    "duration": 171,
    "start_time": "2023-08-07T23:15:49.544Z"
   },
   {
    "duration": 246,
    "start_time": "2023-08-07T23:15:49.716Z"
   },
   {
    "duration": 253,
    "start_time": "2023-08-07T23:15:49.963Z"
   },
   {
    "duration": 5,
    "start_time": "2023-08-07T23:15:50.217Z"
   },
   {
    "duration": 19,
    "start_time": "2023-08-07T23:15:50.224Z"
   },
   {
    "duration": 8,
    "start_time": "2023-08-07T23:15:50.244Z"
   },
   {
    "duration": 16,
    "start_time": "2023-08-07T23:15:50.253Z"
   },
   {
    "duration": 10,
    "start_time": "2023-08-07T23:15:50.270Z"
   },
   {
    "duration": 21,
    "start_time": "2023-08-07T23:15:50.282Z"
   },
   {
    "duration": 905,
    "start_time": "2023-08-07T23:15:50.304Z"
   },
   {
    "duration": 3,
    "start_time": "2023-08-07T23:15:51.211Z"
   },
   {
    "duration": 157,
    "start_time": "2023-08-07T23:15:51.215Z"
   },
   {
    "duration": 6,
    "start_time": "2023-08-07T23:15:51.374Z"
   },
   {
    "duration": 78,
    "start_time": "2023-08-07T23:15:51.381Z"
   },
   {
    "duration": 52,
    "start_time": "2023-08-07T23:16:10.966Z"
   },
   {
    "duration": 3505,
    "start_time": "2023-08-07T23:21:49.500Z"
   },
   {
    "duration": 6294,
    "start_time": "2023-08-07T23:22:08.925Z"
   },
   {
    "duration": 2,
    "start_time": "2023-08-07T23:22:37.291Z"
   },
   {
    "duration": 4040,
    "start_time": "2023-08-07T23:23:05.304Z"
   },
   {
    "duration": 1044,
    "start_time": "2023-08-07T23:30:21.755Z"
   },
   {
    "duration": 2,
    "start_time": "2023-08-07T23:30:22.801Z"
   },
   {
    "duration": 61,
    "start_time": "2023-08-07T23:30:22.804Z"
   },
   {
    "duration": 29,
    "start_time": "2023-08-07T23:30:22.866Z"
   },
   {
    "duration": 32,
    "start_time": "2023-08-07T23:30:22.896Z"
   },
   {
    "duration": 40,
    "start_time": "2023-08-07T23:30:22.930Z"
   },
   {
    "duration": 31,
    "start_time": "2023-08-07T23:30:22.972Z"
   },
   {
    "duration": 24,
    "start_time": "2023-08-07T23:30:23.005Z"
   },
   {
    "duration": 27,
    "start_time": "2023-08-07T23:30:23.031Z"
   },
   {
    "duration": 4,
    "start_time": "2023-08-07T23:30:23.059Z"
   },
   {
    "duration": 395,
    "start_time": "2023-08-07T23:30:23.064Z"
   },
   {
    "duration": 6,
    "start_time": "2023-08-07T23:30:23.460Z"
   },
   {
    "duration": 12,
    "start_time": "2023-08-07T23:30:23.467Z"
   },
   {
    "duration": 1228,
    "start_time": "2023-08-07T23:30:23.481Z"
   },
   {
    "duration": 3,
    "start_time": "2023-08-07T23:30:24.710Z"
   },
   {
    "duration": 161,
    "start_time": "2023-08-07T23:30:24.714Z"
   },
   {
    "duration": 245,
    "start_time": "2023-08-07T23:30:24.876Z"
   },
   {
    "duration": 255,
    "start_time": "2023-08-07T23:30:25.122Z"
   },
   {
    "duration": 6,
    "start_time": "2023-08-07T23:30:25.378Z"
   },
   {
    "duration": 13,
    "start_time": "2023-08-07T23:30:25.385Z"
   },
   {
    "duration": 9,
    "start_time": "2023-08-07T23:30:25.400Z"
   },
   {
    "duration": 29,
    "start_time": "2023-08-07T23:30:25.410Z"
   },
   {
    "duration": 5,
    "start_time": "2023-08-07T23:30:25.440Z"
   },
   {
    "duration": 27,
    "start_time": "2023-08-07T23:30:25.446Z"
   },
   {
    "duration": 935,
    "start_time": "2023-08-07T23:30:25.474Z"
   },
   {
    "duration": 2,
    "start_time": "2023-08-07T23:30:26.411Z"
   },
   {
    "duration": 276,
    "start_time": "2023-08-07T23:30:26.414Z"
   },
   {
    "duration": 6,
    "start_time": "2023-08-07T23:30:26.692Z"
   },
   {
    "duration": 66,
    "start_time": "2023-08-07T23:30:26.700Z"
   },
   {
    "duration": 1649,
    "start_time": "2023-08-07T23:30:26.768Z"
   },
   {
    "duration": 0,
    "start_time": "2023-08-07T23:30:28.419Z"
   },
   {
    "duration": 3886,
    "start_time": "2023-08-07T23:31:34.615Z"
   },
   {
    "duration": 55,
    "start_time": "2023-08-07T23:33:31.105Z"
   },
   {
    "duration": 4070,
    "start_time": "2023-08-07T23:33:35.970Z"
   },
   {
    "duration": 1099,
    "start_time": "2023-08-07T23:36:24.460Z"
   },
   {
    "duration": 3,
    "start_time": "2023-08-07T23:36:25.561Z"
   },
   {
    "duration": 62,
    "start_time": "2023-08-07T23:36:25.565Z"
   },
   {
    "duration": 28,
    "start_time": "2023-08-07T23:36:25.629Z"
   },
   {
    "duration": 33,
    "start_time": "2023-08-07T23:36:25.659Z"
   },
   {
    "duration": 41,
    "start_time": "2023-08-07T23:36:25.693Z"
   },
   {
    "duration": 36,
    "start_time": "2023-08-07T23:36:25.736Z"
   },
   {
    "duration": 24,
    "start_time": "2023-08-07T23:36:25.774Z"
   },
   {
    "duration": 25,
    "start_time": "2023-08-07T23:36:25.799Z"
   },
   {
    "duration": 3,
    "start_time": "2023-08-07T23:36:25.825Z"
   },
   {
    "duration": 402,
    "start_time": "2023-08-07T23:36:25.829Z"
   },
   {
    "duration": 9,
    "start_time": "2023-08-07T23:36:26.233Z"
   },
   {
    "duration": 15,
    "start_time": "2023-08-07T23:36:26.243Z"
   },
   {
    "duration": 1212,
    "start_time": "2023-08-07T23:36:26.260Z"
   },
   {
    "duration": 3,
    "start_time": "2023-08-07T23:36:27.474Z"
   },
   {
    "duration": 166,
    "start_time": "2023-08-07T23:36:27.479Z"
   },
   {
    "duration": 243,
    "start_time": "2023-08-07T23:36:27.647Z"
   },
   {
    "duration": 254,
    "start_time": "2023-08-07T23:36:27.891Z"
   },
   {
    "duration": 6,
    "start_time": "2023-08-07T23:36:28.147Z"
   },
   {
    "duration": 15,
    "start_time": "2023-08-07T23:36:28.154Z"
   },
   {
    "duration": 13,
    "start_time": "2023-08-07T23:36:28.170Z"
   },
   {
    "duration": 13,
    "start_time": "2023-08-07T23:36:28.185Z"
   },
   {
    "duration": 9,
    "start_time": "2023-08-07T23:36:28.199Z"
   },
   {
    "duration": 24,
    "start_time": "2023-08-07T23:36:28.209Z"
   },
   {
    "duration": 919,
    "start_time": "2023-08-07T23:36:28.235Z"
   },
   {
    "duration": 3,
    "start_time": "2023-08-07T23:36:29.155Z"
   },
   {
    "duration": 158,
    "start_time": "2023-08-07T23:36:29.159Z"
   },
   {
    "duration": 6,
    "start_time": "2023-08-07T23:36:29.318Z"
   },
   {
    "duration": 67,
    "start_time": "2023-08-07T23:36:29.326Z"
   },
   {
    "duration": 3787,
    "start_time": "2023-08-07T23:36:29.394Z"
   },
   {
    "duration": 319,
    "start_time": "2023-08-08T15:12:43.306Z"
   },
   {
    "duration": 182,
    "start_time": "2023-08-08T15:12:44.907Z"
   },
   {
    "duration": 1369,
    "start_time": "2023-08-08T15:18:48.410Z"
   },
   {
    "duration": 3,
    "start_time": "2023-08-08T15:18:49.781Z"
   },
   {
    "duration": 134,
    "start_time": "2023-08-08T15:18:49.793Z"
   },
   {
    "duration": 58,
    "start_time": "2023-08-08T15:18:56.504Z"
   },
   {
    "duration": 36,
    "start_time": "2023-08-08T15:18:56.729Z"
   },
   {
    "duration": 44,
    "start_time": "2023-08-08T15:18:57.130Z"
   },
   {
    "duration": 48,
    "start_time": "2023-08-08T15:18:57.642Z"
   },
   {
    "duration": 39,
    "start_time": "2023-08-08T15:18:59.517Z"
   },
   {
    "duration": 48,
    "start_time": "2023-08-08T15:18:59.725Z"
   },
   {
    "duration": 6,
    "start_time": "2023-08-08T15:19:01.322Z"
   },
   {
    "duration": 593,
    "start_time": "2023-08-08T15:20:15.502Z"
   },
   {
    "duration": 11,
    "start_time": "2023-08-08T15:20:16.097Z"
   },
   {
    "duration": 27,
    "start_time": "2023-08-08T15:20:16.115Z"
   },
   {
    "duration": 5,
    "start_time": "2023-08-08T15:21:24.810Z"
   },
   {
    "duration": 4,
    "start_time": "2023-08-08T15:21:24.821Z"
   },
   {
    "duration": 96,
    "start_time": "2023-08-08T15:21:24.826Z"
   },
   {
    "duration": 42,
    "start_time": "2023-08-08T15:21:24.929Z"
   },
   {
    "duration": 69,
    "start_time": "2023-08-08T15:21:24.975Z"
   },
   {
    "duration": 48,
    "start_time": "2023-08-08T15:21:25.047Z"
   },
   {
    "duration": 50,
    "start_time": "2023-08-08T15:21:25.097Z"
   },
   {
    "duration": 37,
    "start_time": "2023-08-08T15:21:25.149Z"
   },
   {
    "duration": 44,
    "start_time": "2023-08-08T15:21:25.198Z"
   },
   {
    "duration": 7,
    "start_time": "2023-08-08T15:21:25.244Z"
   },
   {
    "duration": 707,
    "start_time": "2023-08-08T15:21:25.254Z"
   },
   {
    "duration": 8,
    "start_time": "2023-08-08T15:21:25.963Z"
   },
   {
    "duration": 46,
    "start_time": "2023-08-08T15:21:25.973Z"
   },
   {
    "duration": 1787,
    "start_time": "2023-08-08T15:21:26.025Z"
   },
   {
    "duration": 10,
    "start_time": "2023-08-08T15:21:27.814Z"
   },
   {
    "duration": 223,
    "start_time": "2023-08-08T15:21:27.825Z"
   },
   {
    "duration": 403,
    "start_time": "2023-08-08T15:21:28.051Z"
   },
   {
    "duration": 394,
    "start_time": "2023-08-08T15:21:28.455Z"
   },
   {
    "duration": 8,
    "start_time": "2023-08-08T15:21:28.851Z"
   },
   {
    "duration": 21,
    "start_time": "2023-08-08T15:21:28.861Z"
   },
   {
    "duration": 29,
    "start_time": "2023-08-08T15:21:28.884Z"
   },
   {
    "duration": 16,
    "start_time": "2023-08-08T15:21:28.917Z"
   },
   {
    "duration": 5,
    "start_time": "2023-08-08T15:21:28.935Z"
   },
   {
    "duration": 16,
    "start_time": "2023-08-08T15:21:28.942Z"
   },
   {
    "duration": 1393,
    "start_time": "2023-08-08T15:21:28.959Z"
   },
   {
    "duration": 4,
    "start_time": "2023-08-08T15:21:30.353Z"
   },
   {
    "duration": 240,
    "start_time": "2023-08-08T15:21:30.359Z"
   },
   {
    "duration": 13,
    "start_time": "2023-08-08T15:21:30.601Z"
   },
   {
    "duration": 468,
    "start_time": "2023-08-08T15:22:45.586Z"
   },
   {
    "duration": 1778,
    "start_time": "2023-08-09T22:32:56.274Z"
   },
   {
    "duration": 14,
    "start_time": "2023-08-09T22:32:58.060Z"
   },
   {
    "duration": 169,
    "start_time": "2023-08-09T22:32:58.076Z"
   },
   {
    "duration": 177,
    "start_time": "2023-08-09T22:32:58.247Z"
   },
   {
    "duration": 179,
    "start_time": "2023-08-09T22:32:58.426Z"
   },
   {
    "duration": 128,
    "start_time": "2023-08-09T22:32:58.608Z"
   },
   {
    "duration": 279,
    "start_time": "2023-08-09T22:32:58.740Z"
   },
   {
    "duration": 71,
    "start_time": "2023-08-09T22:32:59.021Z"
   },
   {
    "duration": 134,
    "start_time": "2023-08-09T22:32:59.095Z"
   },
   {
    "duration": 4,
    "start_time": "2023-08-09T22:32:59.232Z"
   },
   {
    "duration": 687,
    "start_time": "2023-08-09T22:32:59.237Z"
   },
   {
    "duration": 10,
    "start_time": "2023-08-09T22:32:59.926Z"
   },
   {
    "duration": 75,
    "start_time": "2023-08-09T22:32:59.939Z"
   },
   {
    "duration": 2300,
    "start_time": "2023-08-09T22:33:00.018Z"
   },
   {
    "duration": 4,
    "start_time": "2023-08-09T22:33:02.321Z"
   },
   {
    "duration": 359,
    "start_time": "2023-08-09T22:33:02.326Z"
   },
   {
    "duration": 426,
    "start_time": "2023-08-09T22:33:02.687Z"
   },
   {
    "duration": 460,
    "start_time": "2023-08-09T22:33:03.116Z"
   },
   {
    "duration": 20,
    "start_time": "2023-08-09T22:33:03.580Z"
   },
   {
    "duration": 119,
    "start_time": "2023-08-09T22:33:03.602Z"
   },
   {
    "duration": 43,
    "start_time": "2023-08-09T22:33:03.723Z"
   },
   {
    "duration": 42,
    "start_time": "2023-08-09T22:33:03.769Z"
   },
   {
    "duration": 38,
    "start_time": "2023-08-09T22:33:03.814Z"
   },
   {
    "duration": 67,
    "start_time": "2023-08-09T22:33:03.855Z"
   },
   {
    "duration": 2009,
    "start_time": "2023-08-09T22:33:03.924Z"
   },
   {
    "duration": 15,
    "start_time": "2023-08-09T22:33:05.940Z"
   },
   {
    "duration": 329,
    "start_time": "2023-08-09T22:33:05.958Z"
   },
   {
    "duration": 14,
    "start_time": "2023-08-09T22:33:06.297Z"
   },
   {
    "duration": 102,
    "start_time": "2023-08-09T22:33:06.315Z"
   },
   {
    "duration": 6476,
    "start_time": "2023-08-09T22:33:06.418Z"
   },
   {
    "duration": 1507,
    "start_time": "2023-08-10T11:26:24.725Z"
   },
   {
    "duration": 3,
    "start_time": "2023-08-10T11:26:26.235Z"
   },
   {
    "duration": 164,
    "start_time": "2023-08-10T11:26:26.240Z"
   },
   {
    "duration": 121,
    "start_time": "2023-08-10T11:26:26.406Z"
   },
   {
    "duration": 210,
    "start_time": "2023-08-10T11:26:26.530Z"
   },
   {
    "duration": 81,
    "start_time": "2023-08-10T11:26:26.742Z"
   },
   {
    "duration": 112,
    "start_time": "2023-08-10T11:26:26.827Z"
   },
   {
    "duration": 63,
    "start_time": "2023-08-10T11:26:26.941Z"
   },
   {
    "duration": 80,
    "start_time": "2023-08-10T11:26:27.006Z"
   },
   {
    "duration": 5,
    "start_time": "2023-08-10T11:26:27.087Z"
   },
   {
    "duration": 555,
    "start_time": "2023-08-10T11:26:27.093Z"
   },
   {
    "duration": 9,
    "start_time": "2023-08-10T11:26:27.651Z"
   },
   {
    "duration": 33,
    "start_time": "2023-08-10T11:26:27.662Z"
   },
   {
    "duration": 1813,
    "start_time": "2023-08-10T11:26:27.699Z"
   },
   {
    "duration": 4,
    "start_time": "2023-08-10T11:26:29.520Z"
   },
   {
    "duration": 239,
    "start_time": "2023-08-10T11:26:29.532Z"
   },
   {
    "duration": 353,
    "start_time": "2023-08-10T11:26:29.773Z"
   },
   {
    "duration": 358,
    "start_time": "2023-08-10T11:26:30.128Z"
   },
   {
    "duration": 9,
    "start_time": "2023-08-10T11:26:30.487Z"
   },
   {
    "duration": 92,
    "start_time": "2023-08-10T11:26:30.497Z"
   },
   {
    "duration": 72,
    "start_time": "2023-08-10T11:26:30.591Z"
   },
   {
    "duration": 78,
    "start_time": "2023-08-10T11:26:30.665Z"
   },
   {
    "duration": 99,
    "start_time": "2023-08-10T11:26:30.745Z"
   },
   {
    "duration": 60,
    "start_time": "2023-08-10T11:26:30.846Z"
   },
   {
    "duration": 1458,
    "start_time": "2023-08-10T11:26:30.908Z"
   },
   {
    "duration": 4,
    "start_time": "2023-08-10T11:26:32.368Z"
   },
   {
    "duration": 456,
    "start_time": "2023-08-10T11:26:32.373Z"
   },
   {
    "duration": 34,
    "start_time": "2023-08-10T11:26:32.830Z"
   },
   {
    "duration": 184,
    "start_time": "2023-08-10T11:26:32.866Z"
   },
   {
    "duration": 5171,
    "start_time": "2023-08-10T11:26:33.052Z"
   },
   {
    "duration": 22,
    "start_time": "2023-08-10T12:00:35.170Z"
   },
   {
    "duration": 32,
    "start_time": "2023-08-10T12:00:53.571Z"
   },
   {
    "duration": 31,
    "start_time": "2023-08-10T12:01:21.992Z"
   },
   {
    "duration": 185,
    "start_time": "2023-08-10T12:03:27.231Z"
   },
   {
    "duration": 38,
    "start_time": "2023-08-10T12:03:38.194Z"
   },
   {
    "duration": 38,
    "start_time": "2023-08-10T12:03:59.215Z"
   },
   {
    "duration": 1488,
    "start_time": "2023-08-10T21:14:41.297Z"
   },
   {
    "duration": 2,
    "start_time": "2023-08-10T21:14:42.787Z"
   },
   {
    "duration": 498,
    "start_time": "2023-08-10T21:14:42.791Z"
   },
   {
    "duration": 80,
    "start_time": "2023-08-10T21:14:43.291Z"
   },
   {
    "duration": 208,
    "start_time": "2023-08-10T21:14:43.377Z"
   },
   {
    "duration": 117,
    "start_time": "2023-08-10T21:14:43.587Z"
   },
   {
    "duration": 80,
    "start_time": "2023-08-10T21:14:43.706Z"
   },
   {
    "duration": 96,
    "start_time": "2023-08-10T21:14:43.787Z"
   },
   {
    "duration": 93,
    "start_time": "2023-08-10T21:14:43.885Z"
   },
   {
    "duration": 4,
    "start_time": "2023-08-10T21:14:43.982Z"
   },
   {
    "duration": 539,
    "start_time": "2023-08-10T21:14:43.991Z"
   },
   {
    "duration": 7,
    "start_time": "2023-08-10T21:14:44.532Z"
   },
   {
    "duration": 35,
    "start_time": "2023-08-10T21:14:44.541Z"
   },
   {
    "duration": 1534,
    "start_time": "2023-08-10T21:14:44.578Z"
   },
   {
    "duration": 4,
    "start_time": "2023-08-10T21:14:46.114Z"
   },
   {
    "duration": 220,
    "start_time": "2023-08-10T21:14:46.119Z"
   },
   {
    "duration": 289,
    "start_time": "2023-08-10T21:14:46.341Z"
   },
   {
    "duration": 318,
    "start_time": "2023-08-10T21:14:46.632Z"
   },
   {
    "duration": 18,
    "start_time": "2023-08-10T21:14:46.956Z"
   },
   {
    "duration": 27,
    "start_time": "2023-08-10T21:14:46.977Z"
   },
   {
    "duration": 18,
    "start_time": "2023-08-10T21:14:47.006Z"
   },
   {
    "duration": 58,
    "start_time": "2023-08-10T21:14:47.026Z"
   },
   {
    "duration": 27,
    "start_time": "2023-08-10T21:14:47.086Z"
   },
   {
    "duration": 22,
    "start_time": "2023-08-10T21:14:47.114Z"
   },
   {
    "duration": 1267,
    "start_time": "2023-08-10T21:14:47.138Z"
   },
   {
    "duration": 3,
    "start_time": "2023-08-10T21:14:48.407Z"
   },
   {
    "duration": 259,
    "start_time": "2023-08-10T21:14:48.411Z"
   },
   {
    "duration": 8,
    "start_time": "2023-08-10T21:14:48.674Z"
   },
   {
    "duration": 107,
    "start_time": "2023-08-10T21:14:48.685Z"
   },
   {
    "duration": 0,
    "start_time": "2023-08-10T21:14:48.794Z"
   },
   {
    "duration": 0,
    "start_time": "2023-08-10T21:14:48.795Z"
   },
   {
    "duration": 16,
    "start_time": "2023-08-10T21:16:48.897Z"
   },
   {
    "duration": 17,
    "start_time": "2023-08-10T21:17:11.492Z"
   },
   {
    "duration": 97,
    "start_time": "2023-08-10T21:17:20.652Z"
   },
   {
    "duration": 2638,
    "start_time": "2023-08-10T21:27:43.475Z"
   },
   {
    "duration": 22,
    "start_time": "2023-08-10T21:29:10.333Z"
   },
   {
    "duration": 30,
    "start_time": "2023-08-10T21:29:11.444Z"
   },
   {
    "duration": 97,
    "start_time": "2023-08-10T21:29:34.477Z"
   },
   {
    "duration": 6507,
    "start_time": "2023-08-10T21:29:43.014Z"
   },
   {
    "duration": 10,
    "start_time": "2023-08-10T21:39:21.694Z"
   },
   {
    "duration": 5573,
    "start_time": "2023-08-10T21:39:27.055Z"
   },
   {
    "duration": 17,
    "start_time": "2023-08-10T21:43:24.285Z"
   },
   {
    "duration": 20,
    "start_time": "2023-08-10T21:43:42.951Z"
   },
   {
    "duration": 208,
    "start_time": "2023-08-10T21:52:49.917Z"
   },
   {
    "duration": 59,
    "start_time": "2023-08-10T21:54:40.483Z"
   },
   {
    "duration": 17,
    "start_time": "2023-08-10T21:54:50.898Z"
   },
   {
    "duration": 1416,
    "start_time": "2023-08-10T21:55:12.074Z"
   },
   {
    "duration": 5,
    "start_time": "2023-08-10T21:55:13.493Z"
   },
   {
    "duration": 91,
    "start_time": "2023-08-10T21:55:13.501Z"
   },
   {
    "duration": 44,
    "start_time": "2023-08-10T21:55:13.594Z"
   },
   {
    "duration": 48,
    "start_time": "2023-08-10T21:55:13.642Z"
   },
   {
    "duration": 47,
    "start_time": "2023-08-10T21:55:13.692Z"
   },
   {
    "duration": 46,
    "start_time": "2023-08-10T21:55:13.741Z"
   },
   {
    "duration": 36,
    "start_time": "2023-08-10T21:55:13.789Z"
   },
   {
    "duration": 39,
    "start_time": "2023-08-10T21:55:13.827Z"
   },
   {
    "duration": 8,
    "start_time": "2023-08-10T21:55:13.868Z"
   },
   {
    "duration": 572,
    "start_time": "2023-08-10T21:55:13.878Z"
   },
   {
    "duration": 10,
    "start_time": "2023-08-10T21:55:14.456Z"
   },
   {
    "duration": 49,
    "start_time": "2023-08-10T21:55:14.469Z"
   },
   {
    "duration": 1792,
    "start_time": "2023-08-10T21:55:14.522Z"
   },
   {
    "duration": 4,
    "start_time": "2023-08-10T21:55:16.317Z"
   },
   {
    "duration": 236,
    "start_time": "2023-08-10T21:55:16.323Z"
   },
   {
    "duration": 352,
    "start_time": "2023-08-10T21:55:16.564Z"
   },
   {
    "duration": 390,
    "start_time": "2023-08-10T21:55:16.918Z"
   },
   {
    "duration": 10,
    "start_time": "2023-08-10T21:55:17.310Z"
   },
   {
    "duration": 20,
    "start_time": "2023-08-10T21:55:17.322Z"
   },
   {
    "duration": 21,
    "start_time": "2023-08-10T21:55:17.357Z"
   },
   {
    "duration": 22,
    "start_time": "2023-08-10T21:55:17.381Z"
   },
   {
    "duration": 7,
    "start_time": "2023-08-10T21:55:17.405Z"
   },
   {
    "duration": 14,
    "start_time": "2023-08-10T21:55:17.414Z"
   },
   {
    "duration": 1445,
    "start_time": "2023-08-10T21:55:17.430Z"
   },
   {
    "duration": 4,
    "start_time": "2023-08-10T21:55:18.877Z"
   },
   {
    "duration": 291,
    "start_time": "2023-08-10T21:55:18.883Z"
   },
   {
    "duration": 20,
    "start_time": "2023-08-10T21:55:19.175Z"
   },
   {
    "duration": 40,
    "start_time": "2023-08-10T21:55:19.198Z"
   },
   {
    "duration": 39,
    "start_time": "2023-08-10T21:55:19.240Z"
   },
   {
    "duration": 79,
    "start_time": "2023-08-10T21:55:19.282Z"
   },
   {
    "duration": 5413,
    "start_time": "2023-08-10T21:55:19.369Z"
   },
   {
    "duration": 128,
    "start_time": "2023-08-10T21:55:24.784Z"
   },
   {
    "duration": 0,
    "start_time": "2023-08-10T21:55:24.914Z"
   },
   {
    "duration": 6,
    "start_time": "2023-08-10T21:55:58.717Z"
   },
   {
    "duration": 20,
    "start_time": "2023-08-10T21:56:01.337Z"
   },
   {
    "duration": 146,
    "start_time": "2023-08-10T22:12:37.032Z"
   },
   {
    "duration": 2017,
    "start_time": "2023-08-10T22:15:04.774Z"
   },
   {
    "duration": 1394,
    "start_time": "2023-08-10T22:15:17.649Z"
   },
   {
    "duration": 15,
    "start_time": "2023-08-10T22:15:19.046Z"
   },
   {
    "duration": 91,
    "start_time": "2023-08-10T22:15:19.063Z"
   },
   {
    "duration": 59,
    "start_time": "2023-08-10T22:15:19.159Z"
   },
   {
    "duration": 45,
    "start_time": "2023-08-10T22:15:19.221Z"
   },
   {
    "duration": 45,
    "start_time": "2023-08-10T22:15:19.269Z"
   },
   {
    "duration": 48,
    "start_time": "2023-08-10T22:15:19.316Z"
   },
   {
    "duration": 26,
    "start_time": "2023-08-10T22:15:19.367Z"
   },
   {
    "duration": 31,
    "start_time": "2023-08-10T22:15:19.395Z"
   },
   {
    "duration": 4,
    "start_time": "2023-08-10T22:15:19.427Z"
   },
   {
    "duration": 556,
    "start_time": "2023-08-10T22:15:19.433Z"
   },
   {
    "duration": 9,
    "start_time": "2023-08-10T22:15:19.991Z"
   },
   {
    "duration": 21,
    "start_time": "2023-08-10T22:15:20.002Z"
   },
   {
    "duration": 1656,
    "start_time": "2023-08-10T22:15:20.028Z"
   },
   {
    "duration": 4,
    "start_time": "2023-08-10T22:15:21.687Z"
   },
   {
    "duration": 210,
    "start_time": "2023-08-10T22:15:21.694Z"
   },
   {
    "duration": 340,
    "start_time": "2023-08-10T22:15:21.906Z"
   },
   {
    "duration": 351,
    "start_time": "2023-08-10T22:15:22.248Z"
   },
   {
    "duration": 8,
    "start_time": "2023-08-10T22:15:22.601Z"
   },
   {
    "duration": 15,
    "start_time": "2023-08-10T22:15:22.611Z"
   },
   {
    "duration": 40,
    "start_time": "2023-08-10T22:15:22.629Z"
   },
   {
    "duration": 29,
    "start_time": "2023-08-10T22:15:22.671Z"
   },
   {
    "duration": 8,
    "start_time": "2023-08-10T22:15:22.702Z"
   },
   {
    "duration": 13,
    "start_time": "2023-08-10T22:15:22.712Z"
   },
   {
    "duration": 1339,
    "start_time": "2023-08-10T22:15:22.727Z"
   },
   {
    "duration": 4,
    "start_time": "2023-08-10T22:15:24.074Z"
   },
   {
    "duration": 234,
    "start_time": "2023-08-10T22:15:24.080Z"
   },
   {
    "duration": 6,
    "start_time": "2023-08-10T22:15:24.316Z"
   },
   {
    "duration": 41,
    "start_time": "2023-08-10T22:15:24.325Z"
   },
   {
    "duration": 127,
    "start_time": "2023-08-10T22:15:24.368Z"
   },
   {
    "duration": 0,
    "start_time": "2023-08-10T22:15:24.498Z"
   },
   {
    "duration": 0,
    "start_time": "2023-08-10T22:15:24.499Z"
   },
   {
    "duration": 1,
    "start_time": "2023-08-10T22:15:24.500Z"
   },
   {
    "duration": 0,
    "start_time": "2023-08-10T22:15:24.502Z"
   },
   {
    "duration": 36,
    "start_time": "2023-08-10T22:16:04.903Z"
   },
   {
    "duration": 37,
    "start_time": "2023-08-10T22:16:16.748Z"
   },
   {
    "duration": 55,
    "start_time": "2023-08-10T22:16:22.289Z"
   },
   {
    "duration": 5801,
    "start_time": "2023-08-10T22:19:18.048Z"
   },
   {
    "duration": 9,
    "start_time": "2023-08-10T22:19:31.049Z"
   },
   {
    "duration": 18,
    "start_time": "2023-08-10T22:19:31.451Z"
   },
   {
    "duration": 513,
    "start_time": "2023-08-10T22:22:25.192Z"
   },
   {
    "duration": 282,
    "start_time": "2023-08-10T22:44:46.499Z"
   },
   {
    "duration": 57,
    "start_time": "2023-08-10T22:45:35.419Z"
   },
   {
    "duration": 8,
    "start_time": "2023-08-10T22:46:54.619Z"
   },
   {
    "duration": 60,
    "start_time": "2023-08-10T22:46:55.219Z"
   },
   {
    "duration": 23,
    "start_time": "2023-08-10T22:47:38.194Z"
   },
   {
    "duration": 6,
    "start_time": "2023-08-10T22:55:03.263Z"
   },
   {
    "duration": 27,
    "start_time": "2023-08-10T22:55:05.644Z"
   },
   {
    "duration": 64,
    "start_time": "2023-08-10T23:02:15.614Z"
   },
   {
    "duration": 163,
    "start_time": "2023-08-11T00:12:40.886Z"
   },
   {
    "duration": 4,
    "start_time": "2023-08-11T00:13:23.992Z"
   },
   {
    "duration": 973,
    "start_time": "2023-08-11T00:13:29.301Z"
   },
   {
    "duration": 73,
    "start_time": "2023-08-11T00:14:17.974Z"
   },
   {
    "duration": 132,
    "start_time": "2023-08-11T00:14:40.577Z"
   },
   {
    "duration": 1398,
    "start_time": "2023-08-11T00:16:41.573Z"
   },
   {
    "duration": 581,
    "start_time": "2023-08-11T00:16:49.681Z"
   },
   {
    "duration": 237,
    "start_time": "2023-08-11T00:16:53.850Z"
   },
   {
    "duration": 73,
    "start_time": "2023-08-11T00:17:14.428Z"
   },
   {
    "duration": 656,
    "start_time": "2023-08-11T00:17:19.025Z"
   },
   {
    "duration": 151,
    "start_time": "2023-08-11T00:43:56.601Z"
   },
   {
    "duration": 127,
    "start_time": "2023-08-11T00:44:51.782Z"
   },
   {
    "duration": 33,
    "start_time": "2023-08-11T00:45:09.974Z"
   },
   {
    "duration": 823,
    "start_time": "2023-08-11T00:45:17.571Z"
   },
   {
    "duration": 1991,
    "start_time": "2023-08-11T00:46:02.222Z"
   },
   {
    "duration": 1822,
    "start_time": "2023-08-11T00:46:33.268Z"
   },
   {
    "duration": 12,
    "start_time": "2023-08-11T00:48:30.374Z"
   },
   {
    "duration": 179,
    "start_time": "2023-08-11T00:49:32.878Z"
   },
   {
    "duration": 149,
    "start_time": "2023-08-11T00:50:34.642Z"
   },
   {
    "duration": 145,
    "start_time": "2023-08-11T00:50:54.007Z"
   },
   {
    "duration": 172,
    "start_time": "2023-08-11T00:51:24.582Z"
   },
   {
    "duration": 0,
    "start_time": "2023-08-11T01:06:15.875Z"
   },
   {
    "duration": 113971,
    "start_time": "2023-08-11T01:07:23.675Z"
   },
   {
    "duration": 20053,
    "start_time": "2023-08-11T01:09:19.415Z"
   },
   {
    "duration": 323059,
    "start_time": "2023-08-11T01:09:51.357Z"
   },
   {
    "duration": 149,
    "start_time": "2023-08-11T01:17:02.331Z"
   },
   {
    "duration": 23,
    "start_time": "2023-08-11T01:17:14.884Z"
   },
   {
    "duration": 129,
    "start_time": "2023-08-11T01:17:20.049Z"
   },
   {
    "duration": 313416,
    "start_time": "2023-08-11T01:17:39.411Z"
   },
   {
    "duration": 167529,
    "start_time": "2023-08-11T01:25:38.862Z"
   },
   {
    "duration": 311369,
    "start_time": "2023-08-11T01:29:18.297Z"
   },
   {
    "duration": 131,
    "start_time": "2023-08-11T01:43:24.147Z"
   },
   {
    "duration": 10,
    "start_time": "2023-08-11T01:48:05.451Z"
   },
   {
    "duration": 15,
    "start_time": "2023-08-11T01:53:19.001Z"
   },
   {
    "duration": 6,
    "start_time": "2023-08-11T01:54:04.755Z"
   },
   {
    "duration": 7,
    "start_time": "2023-08-11T01:54:10.700Z"
   },
   {
    "duration": 17,
    "start_time": "2023-08-11T01:56:24.744Z"
   },
   {
    "duration": 6,
    "start_time": "2023-08-11T01:56:40.576Z"
   },
   {
    "duration": 7,
    "start_time": "2023-08-11T01:56:45.879Z"
   },
   {
    "duration": 6,
    "start_time": "2023-08-11T01:56:54.575Z"
   },
   {
    "duration": 4,
    "start_time": "2023-08-11T01:57:52.879Z"
   },
   {
    "duration": 13,
    "start_time": "2023-08-11T01:58:05.584Z"
   },
   {
    "duration": 5,
    "start_time": "2023-08-11T01:58:27.529Z"
   },
   {
    "duration": 8,
    "start_time": "2023-08-11T01:59:46.899Z"
   },
   {
    "duration": 7,
    "start_time": "2023-08-11T02:03:50.199Z"
   },
   {
    "duration": 151,
    "start_time": "2023-08-11T02:04:07.874Z"
   },
   {
    "duration": 6,
    "start_time": "2023-08-11T02:04:15.118Z"
   },
   {
    "duration": 14,
    "start_time": "2023-08-11T02:04:44.014Z"
   },
   {
    "duration": 1546,
    "start_time": "2023-08-11T02:45:33.526Z"
   },
   {
    "duration": 3,
    "start_time": "2023-08-11T02:45:35.074Z"
   },
   {
    "duration": 69,
    "start_time": "2023-08-11T02:45:35.078Z"
   },
   {
    "duration": 45,
    "start_time": "2023-08-11T02:45:35.150Z"
   },
   {
    "duration": 37,
    "start_time": "2023-08-11T02:45:35.197Z"
   },
   {
    "duration": 44,
    "start_time": "2023-08-11T02:45:35.235Z"
   },
   {
    "duration": 35,
    "start_time": "2023-08-11T02:45:35.281Z"
   },
   {
    "duration": 27,
    "start_time": "2023-08-11T02:45:35.318Z"
   },
   {
    "duration": 30,
    "start_time": "2023-08-11T02:45:35.347Z"
   },
   {
    "duration": 4,
    "start_time": "2023-08-11T02:45:35.380Z"
   },
   {
    "duration": 481,
    "start_time": "2023-08-11T02:45:35.386Z"
   },
   {
    "duration": 8,
    "start_time": "2023-08-11T02:45:35.868Z"
   },
   {
    "duration": 17,
    "start_time": "2023-08-11T02:45:35.878Z"
   },
   {
    "duration": 1487,
    "start_time": "2023-08-11T02:45:35.896Z"
   },
   {
    "duration": 4,
    "start_time": "2023-08-11T02:45:37.385Z"
   },
   {
    "duration": 204,
    "start_time": "2023-08-11T02:45:37.391Z"
   },
   {
    "duration": 302,
    "start_time": "2023-08-11T02:45:37.597Z"
   },
   {
    "duration": 303,
    "start_time": "2023-08-11T02:45:37.901Z"
   },
   {
    "duration": 8,
    "start_time": "2023-08-11T02:45:38.205Z"
   },
   {
    "duration": 18,
    "start_time": "2023-08-11T02:45:38.215Z"
   },
   {
    "duration": 24,
    "start_time": "2023-08-11T02:45:38.234Z"
   },
   {
    "duration": 16,
    "start_time": "2023-08-11T02:45:38.260Z"
   },
   {
    "duration": 6,
    "start_time": "2023-08-11T02:45:38.277Z"
   },
   {
    "duration": 14,
    "start_time": "2023-08-11T02:45:38.285Z"
   },
   {
    "duration": 1299,
    "start_time": "2023-08-11T02:45:38.301Z"
   },
   {
    "duration": 4,
    "start_time": "2023-08-11T02:45:39.603Z"
   },
   {
    "duration": 193,
    "start_time": "2023-08-11T02:45:39.608Z"
   },
   {
    "duration": 7,
    "start_time": "2023-08-11T02:45:39.805Z"
   },
   {
    "duration": 42,
    "start_time": "2023-08-11T02:45:39.815Z"
   },
   {
    "duration": 27,
    "start_time": "2023-08-11T02:45:39.860Z"
   },
   {
    "duration": 68,
    "start_time": "2023-08-11T02:45:39.889Z"
   },
   {
    "duration": 5184,
    "start_time": "2023-08-11T02:45:39.958Z"
   },
   {
    "duration": 17,
    "start_time": "2023-08-11T02:45:45.143Z"
   },
   {
    "duration": 11,
    "start_time": "2023-08-11T02:45:45.162Z"
   },
   {
    "duration": 16,
    "start_time": "2023-08-11T02:45:45.175Z"
   },
   {
    "duration": 173,
    "start_time": "2023-08-11T02:45:45.193Z"
   },
   {
    "duration": 158056,
    "start_time": "2023-08-11T02:45:45.370Z"
   },
   {
    "duration": 285341,
    "start_time": "2023-08-11T02:48:23.428Z"
   },
   {
    "duration": 5,
    "start_time": "2023-08-11T02:53:08.771Z"
   },
   {
    "duration": 7,
    "start_time": "2023-08-11T02:53:08.778Z"
   },
   {
    "duration": 2229,
    "start_time": "2023-08-11T15:57:50.752Z"
   },
   {
    "duration": 11,
    "start_time": "2023-08-11T15:57:52.984Z"
   },
   {
    "duration": 116,
    "start_time": "2023-08-11T15:57:52.997Z"
   },
   {
    "duration": 57,
    "start_time": "2023-08-11T15:57:53.116Z"
   },
   {
    "duration": 75,
    "start_time": "2023-08-11T15:57:53.175Z"
   },
   {
    "duration": 75,
    "start_time": "2023-08-11T15:57:53.252Z"
   },
   {
    "duration": 59,
    "start_time": "2023-08-11T15:57:53.330Z"
   },
   {
    "duration": 233,
    "start_time": "2023-08-11T15:57:53.398Z"
   },
   {
    "duration": 47,
    "start_time": "2023-08-11T15:57:53.633Z"
   },
   {
    "duration": 25,
    "start_time": "2023-08-11T15:57:53.687Z"
   },
   {
    "duration": 673,
    "start_time": "2023-08-11T15:57:53.715Z"
   },
   {
    "duration": 12,
    "start_time": "2023-08-11T15:57:54.393Z"
   },
   {
    "duration": 81,
    "start_time": "2023-08-11T15:57:54.410Z"
   },
   {
    "duration": 1957,
    "start_time": "2023-08-11T15:57:54.497Z"
   },
   {
    "duration": 7,
    "start_time": "2023-08-11T15:57:56.456Z"
   },
   {
    "duration": 266,
    "start_time": "2023-08-11T15:57:56.467Z"
   },
   {
    "duration": 412,
    "start_time": "2023-08-11T15:57:56.736Z"
   },
   {
    "duration": 393,
    "start_time": "2023-08-11T15:57:57.151Z"
   },
   {
    "duration": 33,
    "start_time": "2023-08-11T15:57:57.546Z"
   },
   {
    "duration": 40,
    "start_time": "2023-08-11T15:57:57.599Z"
   },
   {
    "duration": 13,
    "start_time": "2023-08-11T15:57:57.640Z"
   },
   {
    "duration": 74,
    "start_time": "2023-08-11T15:57:57.654Z"
   },
   {
    "duration": 13,
    "start_time": "2023-08-11T15:57:57.729Z"
   },
   {
    "duration": 26,
    "start_time": "2023-08-11T15:57:57.744Z"
   },
   {
    "duration": 1578,
    "start_time": "2023-08-11T15:57:57.772Z"
   },
   {
    "duration": 19,
    "start_time": "2023-08-11T15:57:59.352Z"
   },
   {
    "duration": 251,
    "start_time": "2023-08-11T15:57:59.379Z"
   },
   {
    "duration": 7,
    "start_time": "2023-08-11T15:57:59.633Z"
   },
   {
    "duration": 38,
    "start_time": "2023-08-11T15:57:59.642Z"
   },
   {
    "duration": 17,
    "start_time": "2023-08-11T15:58:44.120Z"
   },
   {
    "duration": 22,
    "start_time": "2023-08-11T15:58:44.434Z"
   },
   {
    "duration": 77,
    "start_time": "2023-08-11T15:58:51.378Z"
   },
   {
    "duration": 7136,
    "start_time": "2023-08-11T15:58:58.154Z"
   },
   {
    "duration": 9,
    "start_time": "2023-08-11T16:01:01.802Z"
   },
   {
    "duration": 384,
    "start_time": "2023-08-11T16:01:02.086Z"
   },
   {
    "duration": 6,
    "start_time": "2023-08-11T16:01:08.882Z"
   },
   {
    "duration": 51,
    "start_time": "2023-08-11T16:01:08.891Z"
   },
   {
    "duration": 134,
    "start_time": "2023-08-11T16:01:08.944Z"
   },
   {
    "duration": 47,
    "start_time": "2023-08-11T16:01:09.081Z"
   },
   {
    "duration": 60,
    "start_time": "2023-08-11T16:01:09.130Z"
   },
   {
    "duration": 106,
    "start_time": "2023-08-11T16:01:09.196Z"
   },
   {
    "duration": 46,
    "start_time": "2023-08-11T16:01:09.304Z"
   },
   {
    "duration": 62,
    "start_time": "2023-08-11T16:01:09.352Z"
   },
   {
    "duration": 31,
    "start_time": "2023-08-11T16:01:09.419Z"
   },
   {
    "duration": 5,
    "start_time": "2023-08-11T16:01:09.452Z"
   },
   {
    "duration": 719,
    "start_time": "2023-08-11T16:01:09.463Z"
   },
   {
    "duration": 19,
    "start_time": "2023-08-11T16:01:10.193Z"
   },
   {
    "duration": 38,
    "start_time": "2023-08-11T16:01:10.218Z"
   },
   {
    "duration": 2053,
    "start_time": "2023-08-11T16:01:10.258Z"
   },
   {
    "duration": 5,
    "start_time": "2023-08-11T16:01:12.314Z"
   },
   {
    "duration": 248,
    "start_time": "2023-08-11T16:01:12.321Z"
   },
   {
    "duration": 365,
    "start_time": "2023-08-11T16:01:12.587Z"
   },
   {
    "duration": 389,
    "start_time": "2023-08-11T16:01:12.964Z"
   },
   {
    "duration": 31,
    "start_time": "2023-08-11T16:01:13.355Z"
   },
   {
    "duration": 60,
    "start_time": "2023-08-11T16:01:13.389Z"
   },
   {
    "duration": 72,
    "start_time": "2023-08-11T16:01:13.451Z"
   },
   {
    "duration": 29,
    "start_time": "2023-08-11T16:01:13.525Z"
   },
   {
    "duration": 58,
    "start_time": "2023-08-11T16:01:13.555Z"
   },
   {
    "duration": 22,
    "start_time": "2023-08-11T16:01:13.617Z"
   },
   {
    "duration": 1509,
    "start_time": "2023-08-11T16:01:13.641Z"
   },
   {
    "duration": 10,
    "start_time": "2023-08-11T16:01:15.152Z"
   },
   {
    "duration": 271,
    "start_time": "2023-08-11T16:01:15.163Z"
   },
   {
    "duration": 27,
    "start_time": "2023-08-11T16:01:15.437Z"
   },
   {
    "duration": 55,
    "start_time": "2023-08-11T16:01:15.478Z"
   },
   {
    "duration": 31,
    "start_time": "2023-08-11T16:01:15.535Z"
   },
   {
    "duration": 124,
    "start_time": "2023-08-11T16:01:15.568Z"
   },
   {
    "duration": 6748,
    "start_time": "2023-08-11T16:01:15.694Z"
   },
   {
    "duration": 30,
    "start_time": "2023-08-11T16:01:22.445Z"
   },
   {
    "duration": 30,
    "start_time": "2023-08-11T16:01:22.485Z"
   },
   {
    "duration": 19,
    "start_time": "2023-08-11T16:01:22.517Z"
   },
   {
    "duration": 813,
    "start_time": "2023-08-11T16:01:28.189Z"
   },
   {
    "duration": 5,
    "start_time": "2023-08-11T16:04:00.911Z"
   },
   {
    "duration": 53,
    "start_time": "2023-08-11T16:04:11.378Z"
   },
   {
    "duration": 63,
    "start_time": "2023-08-11T16:37:04.531Z"
   },
   {
    "duration": 1607,
    "start_time": "2023-08-11T16:48:59.220Z"
   },
   {
    "duration": 3,
    "start_time": "2023-08-11T16:49:00.829Z"
   },
   {
    "duration": 110,
    "start_time": "2023-08-11T16:49:00.833Z"
   },
   {
    "duration": 143,
    "start_time": "2023-08-11T16:49:00.944Z"
   },
   {
    "duration": 91,
    "start_time": "2023-08-11T16:49:01.089Z"
   },
   {
    "duration": 109,
    "start_time": "2023-08-11T16:49:01.182Z"
   },
   {
    "duration": 234,
    "start_time": "2023-08-11T16:49:01.292Z"
   },
   {
    "duration": 57,
    "start_time": "2023-08-11T16:49:01.527Z"
   },
   {
    "duration": 90,
    "start_time": "2023-08-11T16:49:01.586Z"
   },
   {
    "duration": 4,
    "start_time": "2023-08-11T16:49:01.677Z"
   },
   {
    "duration": 504,
    "start_time": "2023-08-11T16:49:01.682Z"
   },
   {
    "duration": 7,
    "start_time": "2023-08-11T16:49:02.188Z"
   },
   {
    "duration": 45,
    "start_time": "2023-08-11T16:49:02.197Z"
   },
   {
    "duration": 1337,
    "start_time": "2023-08-11T16:49:02.246Z"
   },
   {
    "duration": 2,
    "start_time": "2023-08-11T16:49:03.584Z"
   },
   {
    "duration": 251,
    "start_time": "2023-08-11T16:49:03.588Z"
   },
   {
    "duration": 259,
    "start_time": "2023-08-11T16:49:03.841Z"
   },
   {
    "duration": 260,
    "start_time": "2023-08-11T16:49:04.102Z"
   },
   {
    "duration": 6,
    "start_time": "2023-08-11T16:49:04.363Z"
   },
   {
    "duration": 12,
    "start_time": "2023-08-11T16:49:04.370Z"
   },
   {
    "duration": 14,
    "start_time": "2023-08-11T16:49:04.383Z"
   },
   {
    "duration": 15,
    "start_time": "2023-08-11T16:49:04.398Z"
   },
   {
    "duration": 5,
    "start_time": "2023-08-11T16:49:04.415Z"
   },
   {
    "duration": 18,
    "start_time": "2023-08-11T16:49:04.437Z"
   },
   {
    "duration": 1020,
    "start_time": "2023-08-11T16:49:04.457Z"
   },
   {
    "duration": 3,
    "start_time": "2023-08-11T16:49:05.478Z"
   },
   {
    "duration": 170,
    "start_time": "2023-08-11T16:49:05.483Z"
   },
   {
    "duration": 6,
    "start_time": "2023-08-11T16:49:05.655Z"
   },
   {
    "duration": 39,
    "start_time": "2023-08-11T16:49:05.662Z"
   },
   {
    "duration": 17,
    "start_time": "2023-08-11T16:49:05.703Z"
   },
   {
    "duration": 47,
    "start_time": "2023-08-11T16:49:05.722Z"
   },
   {
    "duration": 4602,
    "start_time": "2023-08-11T16:49:05.771Z"
   },
   {
    "duration": 5,
    "start_time": "2023-08-11T16:49:10.374Z"
   },
   {
    "duration": 7,
    "start_time": "2023-08-11T16:49:10.381Z"
   },
   {
    "duration": 10,
    "start_time": "2023-08-11T16:49:10.390Z"
   },
   {
    "duration": 13,
    "start_time": "2023-08-11T16:49:10.401Z"
   },
   {
    "duration": 222,
    "start_time": "2023-08-11T16:49:10.416Z"
   },
   {
    "duration": 612249,
    "start_time": "2023-08-11T16:49:10.640Z"
   },
   {
    "duration": 264674,
    "start_time": "2023-08-11T16:59:22.891Z"
   },
   {
    "duration": 5,
    "start_time": "2023-08-11T17:03:47.567Z"
   },
   {
    "duration": 16,
    "start_time": "2023-08-11T17:03:47.575Z"
   },
   {
    "duration": 121,
    "start_time": "2023-08-11T17:03:47.593Z"
   },
   {
    "duration": 0,
    "start_time": "2023-08-11T17:03:47.718Z"
   },
   {
    "duration": 10,
    "start_time": "2023-08-11T17:06:25.821Z"
   },
   {
    "duration": 3,
    "start_time": "2023-08-11T18:11:59.751Z"
   },
   {
    "duration": 14,
    "start_time": "2023-08-11T18:12:00.902Z"
   },
   {
    "duration": 12,
    "start_time": "2023-08-11T18:14:48.730Z"
   },
   {
    "duration": 13,
    "start_time": "2023-08-11T18:19:17.562Z"
   },
   {
    "duration": 12,
    "start_time": "2023-08-11T18:19:37.335Z"
   },
   {
    "duration": 14,
    "start_time": "2023-08-11T18:19:52.740Z"
   },
   {
    "duration": 13,
    "start_time": "2023-08-11T18:19:56.662Z"
   },
   {
    "duration": 13,
    "start_time": "2023-08-11T18:20:09.541Z"
   },
   {
    "duration": 9,
    "start_time": "2023-08-11T18:25:04.072Z"
   },
   {
    "duration": 70,
    "start_time": "2023-08-11T18:25:28.506Z"
   },
   {
    "duration": 12,
    "start_time": "2023-08-11T18:25:35.725Z"
   },
   {
    "duration": 12,
    "start_time": "2023-08-11T18:26:44.049Z"
   },
   {
    "duration": 11,
    "start_time": "2023-08-11T18:27:06.292Z"
   },
   {
    "duration": 9,
    "start_time": "2023-08-11T18:28:46.631Z"
   },
   {
    "duration": 156,
    "start_time": "2023-08-11T18:32:45.248Z"
   },
   {
    "duration": 169,
    "start_time": "2023-08-11T18:33:06.561Z"
   },
   {
    "duration": 19,
    "start_time": "2023-08-11T18:35:56.204Z"
   },
   {
    "duration": 13,
    "start_time": "2023-08-11T18:36:14.029Z"
   },
   {
    "duration": 14,
    "start_time": "2023-08-11T18:36:30.015Z"
   },
   {
    "duration": 2,
    "start_time": "2023-08-11T18:39:19.882Z"
   },
   {
    "duration": 1482,
    "start_time": "2023-08-11T18:58:59.701Z"
   },
   {
    "duration": 1380,
    "start_time": "2023-08-11T19:05:10.653Z"
   },
   {
    "duration": 2,
    "start_time": "2023-08-11T19:05:12.035Z"
   },
   {
    "duration": 74,
    "start_time": "2023-08-11T19:05:12.039Z"
   },
   {
    "duration": 30,
    "start_time": "2023-08-11T19:05:12.114Z"
   },
   {
    "duration": 40,
    "start_time": "2023-08-11T19:05:12.146Z"
   },
   {
    "duration": 40,
    "start_time": "2023-08-11T19:05:12.188Z"
   },
   {
    "duration": 36,
    "start_time": "2023-08-11T19:05:12.230Z"
   },
   {
    "duration": 24,
    "start_time": "2023-08-11T19:05:12.267Z"
   },
   {
    "duration": 39,
    "start_time": "2023-08-11T19:05:12.293Z"
   },
   {
    "duration": 4,
    "start_time": "2023-08-11T19:05:12.335Z"
   },
   {
    "duration": 468,
    "start_time": "2023-08-11T19:05:12.341Z"
   },
   {
    "duration": 7,
    "start_time": "2023-08-11T19:05:12.811Z"
   },
   {
    "duration": 25,
    "start_time": "2023-08-11T19:05:12.819Z"
   },
   {
    "duration": 1336,
    "start_time": "2023-08-11T19:05:12.847Z"
   },
   {
    "duration": 3,
    "start_time": "2023-08-11T19:05:14.185Z"
   },
   {
    "duration": 210,
    "start_time": "2023-08-11T19:05:14.190Z"
   },
   {
    "duration": 315,
    "start_time": "2023-08-11T19:05:14.401Z"
   },
   {
    "duration": 276,
    "start_time": "2023-08-11T19:05:14.718Z"
   },
   {
    "duration": 7,
    "start_time": "2023-08-11T19:05:14.995Z"
   },
   {
    "duration": 65,
    "start_time": "2023-08-11T19:05:15.003Z"
   },
   {
    "duration": 31,
    "start_time": "2023-08-11T19:05:15.070Z"
   },
   {
    "duration": 63,
    "start_time": "2023-08-11T19:05:15.103Z"
   },
   {
    "duration": 21,
    "start_time": "2023-08-11T19:05:15.168Z"
   },
   {
    "duration": 18,
    "start_time": "2023-08-11T19:05:15.191Z"
   },
   {
    "duration": 979,
    "start_time": "2023-08-11T19:05:15.210Z"
   },
   {
    "duration": 2,
    "start_time": "2023-08-11T19:05:16.191Z"
   },
   {
    "duration": 167,
    "start_time": "2023-08-11T19:05:16.195Z"
   },
   {
    "duration": 6,
    "start_time": "2023-08-11T19:05:16.366Z"
   },
   {
    "duration": 24,
    "start_time": "2023-08-11T19:05:16.373Z"
   },
   {
    "duration": 17,
    "start_time": "2023-08-11T19:05:16.398Z"
   },
   {
    "duration": 56,
    "start_time": "2023-08-11T19:05:16.417Z"
   },
   {
    "duration": 4331,
    "start_time": "2023-08-11T19:05:16.475Z"
   },
   {
    "duration": 5,
    "start_time": "2023-08-11T19:05:20.808Z"
   },
   {
    "duration": 23,
    "start_time": "2023-08-11T19:05:20.815Z"
   },
   {
    "duration": 9,
    "start_time": "2023-08-11T19:05:20.839Z"
   },
   {
    "duration": 11,
    "start_time": "2023-08-11T19:05:20.850Z"
   },
   {
    "duration": 380,
    "start_time": "2023-08-11T19:05:20.863Z"
   },
   {
    "duration": 608526,
    "start_time": "2023-08-11T19:05:21.246Z"
   },
   {
    "duration": 239908,
    "start_time": "2023-08-11T19:15:29.774Z"
   },
   {
    "duration": 5,
    "start_time": "2023-08-11T19:19:29.683Z"
   },
   {
    "duration": 6,
    "start_time": "2023-08-11T19:19:29.689Z"
   },
   {
    "duration": 5,
    "start_time": "2023-08-11T19:19:29.697Z"
   },
   {
    "duration": 141,
    "start_time": "2023-08-11T19:19:29.704Z"
   },
   {
    "duration": 15,
    "start_time": "2023-08-11T19:22:53.017Z"
   },
   {
    "duration": 165,
    "start_time": "2023-08-11T19:24:57.417Z"
   },
   {
    "duration": 178,
    "start_time": "2023-08-11T19:25:19.046Z"
   },
   {
    "duration": 181,
    "start_time": "2023-08-11T19:25:40.482Z"
   },
   {
    "duration": 10,
    "start_time": "2023-08-11T19:26:19.879Z"
   },
   {
    "duration": 11,
    "start_time": "2023-08-11T19:26:39.890Z"
   },
   {
    "duration": 8,
    "start_time": "2023-08-11T19:32:56.710Z"
   },
   {
    "duration": 10,
    "start_time": "2023-08-11T19:33:00.829Z"
   },
   {
    "duration": 9,
    "start_time": "2023-08-11T19:36:01.593Z"
   },
   {
    "duration": 9,
    "start_time": "2023-08-11T19:40:21.404Z"
   },
   {
    "duration": 7,
    "start_time": "2023-08-11T19:42:34.039Z"
   },
   {
    "duration": 9,
    "start_time": "2023-08-11T19:42:36.379Z"
   },
   {
    "duration": 10,
    "start_time": "2023-08-11T19:42:43.483Z"
   },
   {
    "duration": 1348,
    "start_time": "2023-08-11T19:42:53.252Z"
   },
   {
    "duration": 2,
    "start_time": "2023-08-11T19:42:54.602Z"
   },
   {
    "duration": 62,
    "start_time": "2023-08-11T19:42:54.606Z"
   },
   {
    "duration": 30,
    "start_time": "2023-08-11T19:42:54.669Z"
   },
   {
    "duration": 39,
    "start_time": "2023-08-11T19:42:54.701Z"
   },
   {
    "duration": 45,
    "start_time": "2023-08-11T19:42:54.742Z"
   },
   {
    "duration": 35,
    "start_time": "2023-08-11T19:42:54.790Z"
   },
   {
    "duration": 28,
    "start_time": "2023-08-11T19:42:54.827Z"
   },
   {
    "duration": 29,
    "start_time": "2023-08-11T19:42:54.857Z"
   },
   {
    "duration": 4,
    "start_time": "2023-08-11T19:42:54.888Z"
   },
   {
    "duration": 456,
    "start_time": "2023-08-11T19:42:54.894Z"
   },
   {
    "duration": 7,
    "start_time": "2023-08-11T19:42:55.351Z"
   },
   {
    "duration": 17,
    "start_time": "2023-08-11T19:42:55.359Z"
   },
   {
    "duration": 1300,
    "start_time": "2023-08-11T19:42:55.379Z"
   },
   {
    "duration": 3,
    "start_time": "2023-08-11T19:42:56.681Z"
   },
   {
    "duration": 184,
    "start_time": "2023-08-11T19:42:56.686Z"
   },
   {
    "duration": 266,
    "start_time": "2023-08-11T19:42:56.872Z"
   },
   {
    "duration": 276,
    "start_time": "2023-08-11T19:42:57.139Z"
   },
   {
    "duration": 7,
    "start_time": "2023-08-11T19:42:57.416Z"
   },
   {
    "duration": 23,
    "start_time": "2023-08-11T19:42:57.424Z"
   },
   {
    "duration": 23,
    "start_time": "2023-08-11T19:42:57.449Z"
   },
   {
    "duration": 68,
    "start_time": "2023-08-11T19:42:57.474Z"
   },
   {
    "duration": 62,
    "start_time": "2023-08-11T19:42:57.544Z"
   },
   {
    "duration": 31,
    "start_time": "2023-08-11T19:42:57.608Z"
   },
   {
    "duration": 1013,
    "start_time": "2023-08-11T19:42:57.641Z"
   },
   {
    "duration": 3,
    "start_time": "2023-08-11T19:42:58.656Z"
   },
   {
    "duration": 202,
    "start_time": "2023-08-11T19:42:58.660Z"
   },
   {
    "duration": 7,
    "start_time": "2023-08-11T19:42:58.863Z"
   },
   {
    "duration": 45,
    "start_time": "2023-08-11T19:42:58.871Z"
   },
   {
    "duration": 61,
    "start_time": "2023-08-11T19:42:58.918Z"
   },
   {
    "duration": 45,
    "start_time": "2023-08-11T19:42:58.980Z"
   },
   {
    "duration": 4591,
    "start_time": "2023-08-11T19:42:59.027Z"
   },
   {
    "duration": 4,
    "start_time": "2023-08-11T19:43:03.619Z"
   },
   {
    "duration": 23,
    "start_time": "2023-08-11T19:43:03.625Z"
   },
   {
    "duration": 17,
    "start_time": "2023-08-11T19:43:03.650Z"
   },
   {
    "duration": 35,
    "start_time": "2023-08-11T19:43:03.669Z"
   },
   {
    "duration": 545,
    "start_time": "2023-08-11T19:43:03.705Z"
   },
   {
    "duration": 11954,
    "start_time": "2023-08-11T19:43:04.256Z"
   },
   {
    "duration": 9089,
    "start_time": "2023-08-11T19:43:16.211Z"
   },
   {
    "duration": 97,
    "start_time": "2023-08-11T19:43:25.301Z"
   },
   {
    "duration": 5,
    "start_time": "2023-08-11T19:43:25.401Z"
   },
   {
    "duration": 10,
    "start_time": "2023-08-11T19:43:25.407Z"
   },
   {
    "duration": 16,
    "start_time": "2023-08-11T19:43:25.418Z"
   },
   {
    "duration": 0,
    "start_time": "2023-08-11T19:43:25.435Z"
   },
   {
    "duration": 5,
    "start_time": "2023-08-11T19:43:44.372Z"
   },
   {
    "duration": 44,
    "start_time": "2023-08-11T19:44:26.864Z"
   },
   {
    "duration": 9,
    "start_time": "2023-08-11T19:45:18.681Z"
   },
   {
    "duration": 5,
    "start_time": "2023-08-11T19:46:08.452Z"
   },
   {
    "duration": 1368,
    "start_time": "2023-08-11T19:46:41.020Z"
   },
   {
    "duration": 2,
    "start_time": "2023-08-11T19:46:42.390Z"
   },
   {
    "duration": 60,
    "start_time": "2023-08-11T19:46:42.393Z"
   },
   {
    "duration": 38,
    "start_time": "2023-08-11T19:46:42.460Z"
   },
   {
    "duration": 38,
    "start_time": "2023-08-11T19:46:42.499Z"
   },
   {
    "duration": 41,
    "start_time": "2023-08-11T19:46:42.538Z"
   },
   {
    "duration": 32,
    "start_time": "2023-08-11T19:46:42.580Z"
   },
   {
    "duration": 23,
    "start_time": "2023-08-11T19:46:42.614Z"
   },
   {
    "duration": 27,
    "start_time": "2023-08-11T19:46:42.639Z"
   },
   {
    "duration": 3,
    "start_time": "2023-08-11T19:46:42.669Z"
   },
   {
    "duration": 409,
    "start_time": "2023-08-11T19:46:42.674Z"
   },
   {
    "duration": 7,
    "start_time": "2023-08-11T19:46:43.085Z"
   },
   {
    "duration": 14,
    "start_time": "2023-08-11T19:46:43.094Z"
   },
   {
    "duration": 1252,
    "start_time": "2023-08-11T19:46:43.109Z"
   },
   {
    "duration": 3,
    "start_time": "2023-08-11T19:46:44.363Z"
   },
   {
    "duration": 215,
    "start_time": "2023-08-11T19:46:44.368Z"
   },
   {
    "duration": 254,
    "start_time": "2023-08-11T19:46:44.585Z"
   },
   {
    "duration": 257,
    "start_time": "2023-08-11T19:46:44.840Z"
   },
   {
    "duration": 6,
    "start_time": "2023-08-11T19:46:45.099Z"
   },
   {
    "duration": 32,
    "start_time": "2023-08-11T19:46:45.106Z"
   },
   {
    "duration": 28,
    "start_time": "2023-08-11T19:46:45.140Z"
   },
   {
    "duration": 17,
    "start_time": "2023-08-11T19:46:45.170Z"
   },
   {
    "duration": 15,
    "start_time": "2023-08-11T19:46:45.189Z"
   },
   {
    "duration": 17,
    "start_time": "2023-08-11T19:46:45.205Z"
   },
   {
    "duration": 939,
    "start_time": "2023-08-11T19:46:45.223Z"
   },
   {
    "duration": 3,
    "start_time": "2023-08-11T19:46:46.164Z"
   },
   {
    "duration": 170,
    "start_time": "2023-08-11T19:46:46.168Z"
   },
   {
    "duration": 6,
    "start_time": "2023-08-11T19:46:46.341Z"
   },
   {
    "duration": 15,
    "start_time": "2023-08-11T19:46:46.348Z"
   },
   {
    "duration": 42,
    "start_time": "2023-08-11T19:46:46.365Z"
   },
   {
    "duration": 40,
    "start_time": "2023-08-11T19:46:46.409Z"
   },
   {
    "duration": 4362,
    "start_time": "2023-08-11T19:46:46.450Z"
   },
   {
    "duration": 5,
    "start_time": "2023-08-11T19:46:50.813Z"
   },
   {
    "duration": 21,
    "start_time": "2023-08-11T19:46:50.819Z"
   },
   {
    "duration": 7,
    "start_time": "2023-08-11T19:46:50.841Z"
   },
   {
    "duration": 4,
    "start_time": "2023-08-11T19:46:50.850Z"
   },
   {
    "duration": 32,
    "start_time": "2023-08-11T19:46:50.855Z"
   },
   {
    "duration": 853,
    "start_time": "2023-08-11T19:46:50.888Z"
   },
   {
    "duration": 27125,
    "start_time": "2023-08-11T19:46:51.745Z"
   },
   {
    "duration": 1336,
    "start_time": "2023-08-11T19:47:49.880Z"
   },
   {
    "duration": 3,
    "start_time": "2023-08-11T19:47:51.218Z"
   },
   {
    "duration": 68,
    "start_time": "2023-08-11T19:47:51.222Z"
   },
   {
    "duration": 31,
    "start_time": "2023-08-11T19:47:51.293Z"
   },
   {
    "duration": 37,
    "start_time": "2023-08-11T19:47:51.325Z"
   },
   {
    "duration": 41,
    "start_time": "2023-08-11T19:47:51.363Z"
   },
   {
    "duration": 33,
    "start_time": "2023-08-11T19:47:51.406Z"
   },
   {
    "duration": 28,
    "start_time": "2023-08-11T19:47:51.440Z"
   },
   {
    "duration": 27,
    "start_time": "2023-08-11T19:47:51.470Z"
   },
   {
    "duration": 3,
    "start_time": "2023-08-11T19:47:51.500Z"
   },
   {
    "duration": 467,
    "start_time": "2023-08-11T19:47:51.505Z"
   },
   {
    "duration": 8,
    "start_time": "2023-08-11T19:47:51.974Z"
   },
   {
    "duration": 32,
    "start_time": "2023-08-11T19:47:51.983Z"
   },
   {
    "duration": 1292,
    "start_time": "2023-08-11T19:47:52.017Z"
   },
   {
    "duration": 3,
    "start_time": "2023-08-11T19:47:53.311Z"
   },
   {
    "duration": 183,
    "start_time": "2023-08-11T19:47:53.315Z"
   },
   {
    "duration": 270,
    "start_time": "2023-08-11T19:47:53.500Z"
   },
   {
    "duration": 249,
    "start_time": "2023-08-11T19:47:53.771Z"
   },
   {
    "duration": 17,
    "start_time": "2023-08-11T19:47:54.021Z"
   },
   {
    "duration": 10,
    "start_time": "2023-08-11T19:47:54.039Z"
   },
   {
    "duration": 14,
    "start_time": "2023-08-11T19:47:54.050Z"
   },
   {
    "duration": 14,
    "start_time": "2023-08-11T19:47:54.065Z"
   },
   {
    "duration": 7,
    "start_time": "2023-08-11T19:47:54.081Z"
   },
   {
    "duration": 25,
    "start_time": "2023-08-11T19:47:54.089Z"
   },
   {
    "duration": 1051,
    "start_time": "2023-08-11T19:47:54.115Z"
   },
   {
    "duration": 4,
    "start_time": "2023-08-11T19:47:55.167Z"
   },
   {
    "duration": 166,
    "start_time": "2023-08-11T19:47:55.172Z"
   },
   {
    "duration": 6,
    "start_time": "2023-08-11T19:47:55.341Z"
   },
   {
    "duration": 14,
    "start_time": "2023-08-11T19:47:55.348Z"
   },
   {
    "duration": 17,
    "start_time": "2023-08-11T19:47:55.363Z"
   },
   {
    "duration": 61,
    "start_time": "2023-08-11T19:47:55.381Z"
   },
   {
    "duration": 4434,
    "start_time": "2023-08-11T19:47:55.444Z"
   },
   {
    "duration": 4,
    "start_time": "2023-08-11T19:47:59.879Z"
   },
   {
    "duration": 6,
    "start_time": "2023-08-11T19:47:59.884Z"
   },
   {
    "duration": 17,
    "start_time": "2023-08-11T19:47:59.891Z"
   },
   {
    "duration": 28,
    "start_time": "2023-08-11T19:47:59.909Z"
   },
   {
    "duration": 46,
    "start_time": "2023-08-11T19:47:59.938Z"
   },
   {
    "duration": 762,
    "start_time": "2023-08-11T19:47:59.985Z"
   },
   {
    "duration": 146258,
    "start_time": "2023-08-11T19:48:00.839Z"
   },
   {
    "duration": 12871,
    "start_time": "2023-08-11T19:50:27.098Z"
   },
   {
    "duration": 90,
    "start_time": "2023-08-11T19:50:39.970Z"
   },
   {
    "duration": 5,
    "start_time": "2023-08-11T19:50:40.061Z"
   },
   {
    "duration": 8,
    "start_time": "2023-08-11T19:50:40.067Z"
   },
   {
    "duration": 5,
    "start_time": "2023-08-11T19:50:40.076Z"
   },
   {
    "duration": 0,
    "start_time": "2023-08-11T19:50:40.139Z"
   },
   {
    "duration": 9,
    "start_time": "2023-08-11T19:50:42.636Z"
   },
   {
    "duration": 4,
    "start_time": "2023-08-11T19:52:47.132Z"
   },
   {
    "duration": 11,
    "start_time": "2023-08-11T20:08:29.260Z"
   },
   {
    "duration": 1413,
    "start_time": "2023-08-11T20:09:48.838Z"
   },
   {
    "duration": 2,
    "start_time": "2023-08-11T20:09:50.254Z"
   },
   {
    "duration": 75,
    "start_time": "2023-08-11T20:09:50.258Z"
   },
   {
    "duration": 29,
    "start_time": "2023-08-11T20:09:50.335Z"
   },
   {
    "duration": 33,
    "start_time": "2023-08-11T20:09:50.366Z"
   },
   {
    "duration": 43,
    "start_time": "2023-08-11T20:09:50.400Z"
   },
   {
    "duration": 41,
    "start_time": "2023-08-11T20:09:50.445Z"
   },
   {
    "duration": 26,
    "start_time": "2023-08-11T20:09:50.487Z"
   },
   {
    "duration": 27,
    "start_time": "2023-08-11T20:09:50.514Z"
   },
   {
    "duration": 5,
    "start_time": "2023-08-11T20:09:50.543Z"
   },
   {
    "duration": 444,
    "start_time": "2023-08-11T20:09:50.550Z"
   },
   {
    "duration": 10,
    "start_time": "2023-08-11T20:09:50.995Z"
   },
   {
    "duration": 27,
    "start_time": "2023-08-11T20:09:51.007Z"
   },
   {
    "duration": 1385,
    "start_time": "2023-08-11T20:09:51.037Z"
   },
   {
    "duration": 4,
    "start_time": "2023-08-11T20:09:52.424Z"
   },
   {
    "duration": 240,
    "start_time": "2023-08-11T20:09:52.438Z"
   },
   {
    "duration": 278,
    "start_time": "2023-08-11T20:09:52.679Z"
   },
   {
    "duration": 326,
    "start_time": "2023-08-11T20:09:52.959Z"
   },
   {
    "duration": 7,
    "start_time": "2023-08-11T20:09:53.287Z"
   },
   {
    "duration": 60,
    "start_time": "2023-08-11T20:09:53.295Z"
   },
   {
    "duration": 19,
    "start_time": "2023-08-11T20:09:53.357Z"
   },
   {
    "duration": 37,
    "start_time": "2023-08-11T20:09:53.378Z"
   },
   {
    "duration": 13,
    "start_time": "2023-08-11T20:09:53.417Z"
   },
   {
    "duration": 28,
    "start_time": "2023-08-11T20:09:53.432Z"
   },
   {
    "duration": 1172,
    "start_time": "2023-08-11T20:09:53.461Z"
   },
   {
    "duration": 5,
    "start_time": "2023-08-11T20:09:54.639Z"
   },
   {
    "duration": 231,
    "start_time": "2023-08-11T20:09:54.646Z"
   },
   {
    "duration": 7,
    "start_time": "2023-08-11T20:09:54.879Z"
   },
   {
    "duration": 21,
    "start_time": "2023-08-11T20:09:54.887Z"
   },
   {
    "duration": 73,
    "start_time": "2023-08-11T20:09:54.909Z"
   },
   {
    "duration": 45,
    "start_time": "2023-08-11T20:09:54.984Z"
   },
   {
    "duration": 4478,
    "start_time": "2023-08-11T20:09:55.031Z"
   },
   {
    "duration": 5,
    "start_time": "2023-08-11T20:09:59.510Z"
   },
   {
    "duration": 21,
    "start_time": "2023-08-11T20:09:59.517Z"
   },
   {
    "duration": 5,
    "start_time": "2023-08-11T20:09:59.539Z"
   },
   {
    "duration": 9,
    "start_time": "2023-08-11T20:09:59.545Z"
   },
   {
    "duration": 7,
    "start_time": "2023-08-11T20:09:59.556Z"
   },
   {
    "duration": 883,
    "start_time": "2023-08-11T20:09:59.564Z"
   },
   {
    "duration": 3674,
    "start_time": "2023-08-11T20:10:00.449Z"
   },
   {
    "duration": 238733,
    "start_time": "2023-08-11T20:17:53.009Z"
   },
   {
    "duration": 6,
    "start_time": "2023-08-11T20:23:18.230Z"
   },
   {
    "duration": 5,
    "start_time": "2023-08-11T20:23:19.666Z"
   },
   {
    "duration": 3,
    "start_time": "2023-08-11T20:23:21.402Z"
   },
   {
    "duration": 3,
    "start_time": "2023-08-11T20:23:21.749Z"
   },
   {
    "duration": 11,
    "start_time": "2023-08-11T20:23:22.095Z"
   },
   {
    "duration": 3,
    "start_time": "2023-08-11T20:40:48.054Z"
   },
   {
    "duration": 3,
    "start_time": "2023-08-11T20:40:52.003Z"
   },
   {
    "duration": 1415,
    "start_time": "2023-08-11T20:56:40.712Z"
   },
   {
    "duration": 3,
    "start_time": "2023-08-11T20:56:42.128Z"
   },
   {
    "duration": 71,
    "start_time": "2023-08-11T20:56:42.133Z"
   },
   {
    "duration": 29,
    "start_time": "2023-08-11T20:56:42.206Z"
   },
   {
    "duration": 46,
    "start_time": "2023-08-11T20:56:42.236Z"
   },
   {
    "duration": 41,
    "start_time": "2023-08-11T20:56:42.283Z"
   },
   {
    "duration": 45,
    "start_time": "2023-08-11T20:56:42.326Z"
   },
   {
    "duration": 24,
    "start_time": "2023-08-11T20:56:42.373Z"
   },
   {
    "duration": 28,
    "start_time": "2023-08-11T20:56:42.398Z"
   },
   {
    "duration": 3,
    "start_time": "2023-08-11T20:56:42.430Z"
   },
   {
    "duration": 440,
    "start_time": "2023-08-11T20:56:42.435Z"
   },
   {
    "duration": 6,
    "start_time": "2023-08-11T20:56:42.877Z"
   },
   {
    "duration": 78,
    "start_time": "2023-08-11T20:56:42.884Z"
   },
   {
    "duration": 1307,
    "start_time": "2023-08-11T20:56:42.964Z"
   },
   {
    "duration": 4,
    "start_time": "2023-08-11T20:56:44.273Z"
   },
   {
    "duration": 177,
    "start_time": "2023-08-11T20:56:44.278Z"
   },
   {
    "duration": 318,
    "start_time": "2023-08-11T20:56:44.457Z"
   },
   {
    "duration": 273,
    "start_time": "2023-08-11T20:56:44.777Z"
   },
   {
    "duration": 7,
    "start_time": "2023-08-11T20:56:45.052Z"
   },
   {
    "duration": 33,
    "start_time": "2023-08-11T20:56:45.061Z"
   },
   {
    "duration": 36,
    "start_time": "2023-08-11T20:56:45.095Z"
   },
   {
    "duration": 38,
    "start_time": "2023-08-11T20:56:45.133Z"
   },
   {
    "duration": 7,
    "start_time": "2023-08-11T20:56:45.172Z"
   },
   {
    "duration": 11,
    "start_time": "2023-08-11T20:56:45.180Z"
   },
   {
    "duration": 989,
    "start_time": "2023-08-11T20:56:45.193Z"
   },
   {
    "duration": 3,
    "start_time": "2023-08-11T20:56:46.183Z"
   },
   {
    "duration": 175,
    "start_time": "2023-08-11T20:56:46.187Z"
   },
   {
    "duration": 7,
    "start_time": "2023-08-11T20:56:46.365Z"
   },
   {
    "duration": 21,
    "start_time": "2023-08-11T20:56:46.373Z"
   },
   {
    "duration": 18,
    "start_time": "2023-08-11T20:56:46.396Z"
   },
   {
    "duration": 54,
    "start_time": "2023-08-11T20:56:46.416Z"
   },
   {
    "duration": 4549,
    "start_time": "2023-08-11T20:56:46.471Z"
   },
   {
    "duration": 4,
    "start_time": "2023-08-11T20:56:51.022Z"
   },
   {
    "duration": 7,
    "start_time": "2023-08-11T20:56:51.038Z"
   },
   {
    "duration": 21,
    "start_time": "2023-08-11T20:56:51.046Z"
   },
   {
    "duration": 13,
    "start_time": "2023-08-11T20:56:51.068Z"
   },
   {
    "duration": 8,
    "start_time": "2023-08-11T20:56:51.083Z"
   },
   {
    "duration": 557,
    "start_time": "2023-08-11T20:56:51.093Z"
   },
   {
    "duration": 1879,
    "start_time": "2023-08-12T07:06:45.683Z"
   },
   {
    "duration": 3,
    "start_time": "2023-08-12T07:06:47.565Z"
   },
   {
    "duration": 134,
    "start_time": "2023-08-12T07:06:47.570Z"
   },
   {
    "duration": 155,
    "start_time": "2023-08-12T07:06:47.707Z"
   },
   {
    "duration": 143,
    "start_time": "2023-08-12T07:06:47.863Z"
   },
   {
    "duration": 81,
    "start_time": "2023-08-12T07:06:48.008Z"
   },
   {
    "duration": 140,
    "start_time": "2023-08-12T07:06:48.091Z"
   },
   {
    "duration": 73,
    "start_time": "2023-08-12T07:06:48.233Z"
   },
   {
    "duration": 84,
    "start_time": "2023-08-12T07:06:48.307Z"
   },
   {
    "duration": 4,
    "start_time": "2023-08-12T07:06:48.396Z"
   },
   {
    "duration": 577,
    "start_time": "2023-08-12T07:06:48.402Z"
   },
   {
    "duration": 9,
    "start_time": "2023-08-12T07:06:48.981Z"
   },
   {
    "duration": 36,
    "start_time": "2023-08-12T07:06:48.992Z"
   },
   {
    "duration": 1761,
    "start_time": "2023-08-12T07:06:49.033Z"
   },
   {
    "duration": 4,
    "start_time": "2023-08-12T07:06:50.796Z"
   },
   {
    "duration": 245,
    "start_time": "2023-08-12T07:06:50.813Z"
   },
   {
    "duration": 343,
    "start_time": "2023-08-12T07:06:51.060Z"
   },
   {
    "duration": 353,
    "start_time": "2023-08-12T07:06:51.410Z"
   },
   {
    "duration": 10,
    "start_time": "2023-08-12T07:06:51.764Z"
   },
   {
    "duration": 20,
    "start_time": "2023-08-12T07:06:51.776Z"
   },
   {
    "duration": 32,
    "start_time": "2023-08-12T07:06:51.798Z"
   },
   {
    "duration": 39,
    "start_time": "2023-08-12T07:06:51.833Z"
   },
   {
    "duration": 16,
    "start_time": "2023-08-12T07:06:51.876Z"
   },
   {
    "duration": 29,
    "start_time": "2023-08-12T07:06:51.893Z"
   },
   {
    "duration": 1331,
    "start_time": "2023-08-12T07:06:51.923Z"
   },
   {
    "duration": 4,
    "start_time": "2023-08-12T07:06:53.256Z"
   },
   {
    "duration": 214,
    "start_time": "2023-08-12T07:06:53.262Z"
   },
   {
    "duration": 8,
    "start_time": "2023-08-12T07:06:53.479Z"
   },
   {
    "duration": 46,
    "start_time": "2023-08-12T07:06:53.488Z"
   },
   {
    "duration": 31,
    "start_time": "2023-08-12T07:06:53.540Z"
   },
   {
    "duration": 79,
    "start_time": "2023-08-12T07:06:53.573Z"
   },
   {
    "duration": 6091,
    "start_time": "2023-08-12T07:06:53.653Z"
   },
   {
    "duration": 7,
    "start_time": "2023-08-12T07:06:59.747Z"
   },
   {
    "duration": 23,
    "start_time": "2023-08-12T07:06:59.756Z"
   },
   {
    "duration": 12,
    "start_time": "2023-08-12T07:06:59.781Z"
   },
   {
    "duration": 53,
    "start_time": "2023-08-12T07:06:59.795Z"
   },
   {
    "duration": 24,
    "start_time": "2023-08-12T07:06:59.850Z"
   },
   {
    "duration": 977,
    "start_time": "2023-08-12T07:06:59.876Z"
   },
   {
    "duration": 195714,
    "start_time": "2023-08-12T07:07:00.860Z"
   },
   {
    "duration": 363511,
    "start_time": "2023-08-12T07:10:16.576Z"
   },
   {
    "duration": 8,
    "start_time": "2023-08-12T07:16:20.090Z"
   },
   {
    "duration": 53,
    "start_time": "2023-08-12T07:16:20.100Z"
   },
   {
    "duration": 18,
    "start_time": "2023-08-12T07:16:20.155Z"
   },
   {
    "duration": 31,
    "start_time": "2023-08-12T07:16:20.175Z"
   },
   {
    "duration": 49,
    "start_time": "2023-08-12T07:16:20.208Z"
   },
   {
    "duration": 1781,
    "start_time": "2023-08-12T11:24:50.391Z"
   },
   {
    "duration": 3,
    "start_time": "2023-08-12T11:24:52.174Z"
   },
   {
    "duration": 136,
    "start_time": "2023-08-12T11:24:52.178Z"
   },
   {
    "duration": 157,
    "start_time": "2023-08-12T11:24:52.316Z"
   },
   {
    "duration": 139,
    "start_time": "2023-08-12T11:24:52.475Z"
   },
   {
    "duration": 120,
    "start_time": "2023-08-12T11:24:52.616Z"
   },
   {
    "duration": 251,
    "start_time": "2023-08-12T11:24:52.738Z"
   },
   {
    "duration": 62,
    "start_time": "2023-08-12T11:24:52.991Z"
   },
   {
    "duration": 97,
    "start_time": "2023-08-12T11:24:53.055Z"
   },
   {
    "duration": 4,
    "start_time": "2023-08-12T11:24:53.156Z"
   },
   {
    "duration": 541,
    "start_time": "2023-08-12T11:24:53.162Z"
   },
   {
    "duration": 8,
    "start_time": "2023-08-12T11:24:53.704Z"
   },
   {
    "duration": 29,
    "start_time": "2023-08-12T11:24:53.714Z"
   },
   {
    "duration": 1636,
    "start_time": "2023-08-12T11:24:53.745Z"
   },
   {
    "duration": 5,
    "start_time": "2023-08-12T11:24:55.384Z"
   },
   {
    "duration": 216,
    "start_time": "2023-08-12T11:24:55.391Z"
   },
   {
    "duration": 319,
    "start_time": "2023-08-12T11:24:55.609Z"
   },
   {
    "duration": 333,
    "start_time": "2023-08-12T11:24:55.930Z"
   },
   {
    "duration": 211,
    "start_time": "2023-08-12T11:24:56.265Z"
   },
   {
    "duration": 67,
    "start_time": "2023-08-12T11:24:56.478Z"
   },
   {
    "duration": 48,
    "start_time": "2023-08-12T11:24:56.547Z"
   },
   {
    "duration": 23,
    "start_time": "2023-08-12T11:24:56.597Z"
   },
   {
    "duration": 20,
    "start_time": "2023-08-12T11:24:56.622Z"
   },
   {
    "duration": 46,
    "start_time": "2023-08-12T11:24:56.644Z"
   },
   {
    "duration": 1251,
    "start_time": "2023-08-12T11:24:56.693Z"
   },
   {
    "duration": 4,
    "start_time": "2023-08-12T11:24:57.946Z"
   },
   {
    "duration": 211,
    "start_time": "2023-08-12T11:24:57.960Z"
   },
   {
    "duration": 8,
    "start_time": "2023-08-12T11:24:58.175Z"
   },
   {
    "duration": 24,
    "start_time": "2023-08-12T11:24:58.185Z"
   },
   {
    "duration": 57,
    "start_time": "2023-08-12T11:24:58.211Z"
   },
   {
    "duration": 83,
    "start_time": "2023-08-12T11:24:58.270Z"
   },
   {
    "duration": 5615,
    "start_time": "2023-08-12T11:24:58.355Z"
   },
   {
    "duration": 5,
    "start_time": "2023-08-12T11:25:03.972Z"
   },
   {
    "duration": 22,
    "start_time": "2023-08-12T11:25:03.979Z"
   },
   {
    "duration": 16,
    "start_time": "2023-08-12T11:25:04.003Z"
   },
   {
    "duration": 24,
    "start_time": "2023-08-12T11:25:04.021Z"
   },
   {
    "duration": 11,
    "start_time": "2023-08-12T11:25:04.048Z"
   },
   {
    "duration": 206,
    "start_time": "2023-08-12T11:25:04.060Z"
   },
   {
    "duration": 182362,
    "start_time": "2023-08-12T11:25:04.268Z"
   },
   {
    "duration": 298795,
    "start_time": "2023-08-12T11:28:06.632Z"
   },
   {
    "duration": 7,
    "start_time": "2023-08-12T11:33:05.429Z"
   },
   {
    "duration": 35,
    "start_time": "2023-08-12T11:33:05.437Z"
   },
   {
    "duration": 14,
    "start_time": "2023-08-12T11:33:05.474Z"
   },
   {
    "duration": 136,
    "start_time": "2023-08-12T11:33:05.490Z"
   },
   {
    "duration": 1689,
    "start_time": "2023-08-12T11:35:05.312Z"
   },
   {
    "duration": 4,
    "start_time": "2023-08-12T11:35:07.003Z"
   },
   {
    "duration": 83,
    "start_time": "2023-08-12T11:35:07.009Z"
   },
   {
    "duration": 37,
    "start_time": "2023-08-12T11:35:07.095Z"
   },
   {
    "duration": 41,
    "start_time": "2023-08-12T11:35:07.134Z"
   },
   {
    "duration": 48,
    "start_time": "2023-08-12T11:35:07.177Z"
   },
   {
    "duration": 41,
    "start_time": "2023-08-12T11:35:07.228Z"
   },
   {
    "duration": 35,
    "start_time": "2023-08-12T11:35:07.271Z"
   },
   {
    "duration": 41,
    "start_time": "2023-08-12T11:35:07.308Z"
   },
   {
    "duration": 5,
    "start_time": "2023-08-12T11:35:07.352Z"
   },
   {
    "duration": 647,
    "start_time": "2023-08-12T11:35:07.359Z"
   },
   {
    "duration": 9,
    "start_time": "2023-08-12T11:35:08.008Z"
   },
   {
    "duration": 42,
    "start_time": "2023-08-12T11:35:08.019Z"
   },
   {
    "duration": 1803,
    "start_time": "2023-08-12T11:35:08.063Z"
   },
   {
    "duration": 4,
    "start_time": "2023-08-12T11:35:09.869Z"
   },
   {
    "duration": 240,
    "start_time": "2023-08-12T11:35:09.876Z"
   },
   {
    "duration": 347,
    "start_time": "2023-08-12T11:35:10.118Z"
   },
   {
    "duration": 354,
    "start_time": "2023-08-12T11:35:10.468Z"
   },
   {
    "duration": 8,
    "start_time": "2023-08-12T11:35:10.824Z"
   },
   {
    "duration": 25,
    "start_time": "2023-08-12T11:35:10.834Z"
   },
   {
    "duration": 20,
    "start_time": "2023-08-12T11:35:10.862Z"
   },
   {
    "duration": 25,
    "start_time": "2023-08-12T11:35:10.884Z"
   },
   {
    "duration": 13,
    "start_time": "2023-08-12T11:35:10.911Z"
   },
   {
    "duration": 28,
    "start_time": "2023-08-12T11:35:10.926Z"
   },
   {
    "duration": 1375,
    "start_time": "2023-08-12T11:35:10.956Z"
   },
   {
    "duration": 4,
    "start_time": "2023-08-12T11:35:12.334Z"
   },
   {
    "duration": 219,
    "start_time": "2023-08-12T11:35:12.340Z"
   },
   {
    "duration": 8,
    "start_time": "2023-08-12T11:35:12.562Z"
   },
   {
    "duration": 29,
    "start_time": "2023-08-12T11:35:12.572Z"
   },
   {
    "duration": 63,
    "start_time": "2023-08-12T11:35:12.604Z"
   },
   {
    "duration": 78,
    "start_time": "2023-08-12T11:35:12.669Z"
   },
   {
    "duration": 6105,
    "start_time": "2023-08-12T11:35:12.749Z"
   },
   {
    "duration": 7,
    "start_time": "2023-08-12T11:35:18.855Z"
   },
   {
    "duration": 49,
    "start_time": "2023-08-12T11:35:18.864Z"
   },
   {
    "duration": 69,
    "start_time": "2023-08-12T11:35:18.915Z"
   },
   {
    "duration": 66,
    "start_time": "2023-08-12T11:35:18.986Z"
   },
   {
    "duration": 15,
    "start_time": "2023-08-12T11:35:19.054Z"
   },
   {
    "duration": 97,
    "start_time": "2023-08-12T11:35:19.071Z"
   },
   {
    "duration": 182937,
    "start_time": "2023-08-12T11:35:19.170Z"
   },
   {
    "duration": 289069,
    "start_time": "2023-08-12T11:38:22.109Z"
   },
   {
    "duration": 7,
    "start_time": "2023-08-12T11:43:11.180Z"
   },
   {
    "duration": 10,
    "start_time": "2023-08-12T11:43:11.189Z"
   },
   {
    "duration": 25,
    "start_time": "2023-08-12T11:43:11.200Z"
   },
   {
    "duration": 18,
    "start_time": "2023-08-12T11:43:11.227Z"
   },
   {
    "duration": 4,
    "start_time": "2023-08-12T12:09:41.931Z"
   },
   {
    "duration": 15,
    "start_time": "2023-08-12T12:09:41.938Z"
   },
   {
    "duration": 67,
    "start_time": "2023-08-12T12:09:41.955Z"
   },
   {
    "duration": 35,
    "start_time": "2023-08-12T12:09:42.024Z"
   },
   {
    "duration": 38,
    "start_time": "2023-08-12T12:09:42.062Z"
   },
   {
    "duration": 43,
    "start_time": "2023-08-12T12:09:42.102Z"
   },
   {
    "duration": 35,
    "start_time": "2023-08-12T12:09:42.148Z"
   },
   {
    "duration": 145,
    "start_time": "2023-08-12T12:09:42.185Z"
   },
   {
    "duration": 30,
    "start_time": "2023-08-12T12:09:42.332Z"
   },
   {
    "duration": 3,
    "start_time": "2023-08-12T12:09:42.364Z"
   },
   {
    "duration": 539,
    "start_time": "2023-08-12T12:09:42.370Z"
   },
   {
    "duration": 8,
    "start_time": "2023-08-12T12:09:42.911Z"
   },
   {
    "duration": 18,
    "start_time": "2023-08-12T12:09:42.921Z"
   },
   {
    "duration": 1634,
    "start_time": "2023-08-12T12:09:42.941Z"
   },
   {
    "duration": 4,
    "start_time": "2023-08-12T12:09:44.578Z"
   },
   {
    "duration": 217,
    "start_time": "2023-08-12T12:09:44.584Z"
   },
   {
    "duration": 344,
    "start_time": "2023-08-12T12:09:44.803Z"
   },
   {
    "duration": 380,
    "start_time": "2023-08-12T12:09:45.149Z"
   },
   {
    "duration": 8,
    "start_time": "2023-08-12T12:09:45.531Z"
   },
   {
    "duration": 27,
    "start_time": "2023-08-12T12:09:45.541Z"
   },
   {
    "duration": 12,
    "start_time": "2023-08-12T12:09:45.569Z"
   },
   {
    "duration": 24,
    "start_time": "2023-08-12T12:09:45.583Z"
   },
   {
    "duration": 15,
    "start_time": "2023-08-12T12:09:45.608Z"
   },
   {
    "duration": 16,
    "start_time": "2023-08-12T12:09:45.624Z"
   },
   {
    "duration": 1238,
    "start_time": "2023-08-12T12:09:45.641Z"
   },
   {
    "duration": 3,
    "start_time": "2023-08-12T12:09:46.882Z"
   },
   {
    "duration": 208,
    "start_time": "2023-08-12T12:09:46.887Z"
   },
   {
    "duration": 7,
    "start_time": "2023-08-12T12:09:47.097Z"
   },
   {
    "duration": 20,
    "start_time": "2023-08-12T12:09:47.107Z"
   },
   {
    "duration": 41,
    "start_time": "2023-08-12T12:09:47.130Z"
   },
   {
    "duration": 53,
    "start_time": "2023-08-12T12:09:47.173Z"
   },
   {
    "duration": 5894,
    "start_time": "2023-08-12T12:09:47.228Z"
   },
   {
    "duration": 7,
    "start_time": "2023-08-12T12:09:53.124Z"
   },
   {
    "duration": 10,
    "start_time": "2023-08-12T12:09:53.134Z"
   },
   {
    "duration": 58,
    "start_time": "2023-08-12T12:09:53.146Z"
   },
   {
    "duration": 13,
    "start_time": "2023-08-12T12:09:53.206Z"
   },
   {
    "duration": 7,
    "start_time": "2023-08-12T12:09:53.221Z"
   },
   {
    "duration": 935,
    "start_time": "2023-08-12T12:09:53.230Z"
   },
   {
    "duration": 185894,
    "start_time": "2023-08-12T12:09:54.169Z"
   },
   {
    "duration": 293786,
    "start_time": "2023-08-12T12:17:53.867Z"
   },
   {
    "duration": 6,
    "start_time": "2023-08-12T12:22:47.655Z"
   },
   {
    "duration": 16,
    "start_time": "2023-08-12T12:22:47.663Z"
   },
   {
    "duration": 9,
    "start_time": "2023-08-12T12:22:47.681Z"
   },
   {
    "duration": 31,
    "start_time": "2023-08-12T12:22:47.692Z"
   },
   {
    "duration": 0,
    "start_time": "2023-08-12T12:24:51.541Z"
   },
   {
    "duration": 674,
    "start_time": "2023-08-12T12:24:55.486Z"
   },
   {
    "duration": 700,
    "start_time": "2023-08-12T12:25:16.062Z"
   },
   {
    "duration": 7,
    "start_time": "2023-08-12T12:30:11.140Z"
   },
   {
    "duration": 1703,
    "start_time": "2023-08-12T21:04:59.346Z"
   },
   {
    "duration": 3,
    "start_time": "2023-08-12T21:05:01.052Z"
   },
   {
    "duration": 88,
    "start_time": "2023-08-12T21:05:01.056Z"
   },
   {
    "duration": 33,
    "start_time": "2023-08-12T21:05:01.145Z"
   },
   {
    "duration": 51,
    "start_time": "2023-08-12T21:05:01.181Z"
   },
   {
    "duration": 52,
    "start_time": "2023-08-12T21:05:01.234Z"
   },
   {
    "duration": 97,
    "start_time": "2023-08-12T21:05:01.288Z"
   },
   {
    "duration": 105,
    "start_time": "2023-08-12T21:05:01.387Z"
   },
   {
    "duration": 85,
    "start_time": "2023-08-12T21:05:01.494Z"
   },
   {
    "duration": 36,
    "start_time": "2023-08-12T21:05:01.581Z"
   },
   {
    "duration": 569,
    "start_time": "2023-08-12T21:05:01.619Z"
   },
   {
    "duration": 16,
    "start_time": "2023-08-12T21:05:02.195Z"
   },
   {
    "duration": 55,
    "start_time": "2023-08-12T21:05:02.214Z"
   },
   {
    "duration": 1666,
    "start_time": "2023-08-12T21:05:02.273Z"
   },
   {
    "duration": 4,
    "start_time": "2023-08-12T21:05:03.942Z"
   },
   {
    "duration": 209,
    "start_time": "2023-08-12T21:05:03.947Z"
   },
   {
    "duration": 328,
    "start_time": "2023-08-12T21:05:04.158Z"
   },
   {
    "duration": 344,
    "start_time": "2023-08-12T21:05:04.488Z"
   },
   {
    "duration": 7,
    "start_time": "2023-08-12T21:05:04.834Z"
   },
   {
    "duration": 24,
    "start_time": "2023-08-12T21:05:04.842Z"
   },
   {
    "duration": 12,
    "start_time": "2023-08-12T21:05:04.867Z"
   },
   {
    "duration": 33,
    "start_time": "2023-08-12T21:05:04.880Z"
   },
   {
    "duration": 15,
    "start_time": "2023-08-12T21:05:04.915Z"
   },
   {
    "duration": 17,
    "start_time": "2023-08-12T21:05:04.931Z"
   },
   {
    "duration": 1267,
    "start_time": "2023-08-12T21:05:04.950Z"
   },
   {
    "duration": 3,
    "start_time": "2023-08-12T21:05:06.219Z"
   },
   {
    "duration": 247,
    "start_time": "2023-08-12T21:05:06.224Z"
   },
   {
    "duration": 9,
    "start_time": "2023-08-12T21:05:06.472Z"
   },
   {
    "duration": 38,
    "start_time": "2023-08-12T21:05:06.483Z"
   },
   {
    "duration": 59,
    "start_time": "2023-08-12T21:05:06.523Z"
   },
   {
    "duration": 91,
    "start_time": "2023-08-12T21:05:06.585Z"
   },
   {
    "duration": 5858,
    "start_time": "2023-08-12T21:05:06.677Z"
   },
   {
    "duration": 5,
    "start_time": "2023-08-12T21:05:12.536Z"
   },
   {
    "duration": 14,
    "start_time": "2023-08-12T21:05:12.542Z"
   },
   {
    "duration": 16,
    "start_time": "2023-08-12T21:05:12.558Z"
   },
   {
    "duration": 56,
    "start_time": "2023-08-12T21:05:12.575Z"
   },
   {
    "duration": 28,
    "start_time": "2023-08-12T21:05:12.633Z"
   },
   {
    "duration": 836,
    "start_time": "2023-08-12T21:05:12.663Z"
   },
   {
    "duration": 136,
    "start_time": "2023-08-12T21:06:33.961Z"
   },
   {
    "duration": 1261,
    "start_time": "2023-08-12T21:06:48.984Z"
   }
  ],
  "kernelspec": {
   "display_name": "Python 3 (ipykernel)",
   "language": "python",
   "name": "python3"
  },
  "language_info": {
   "codemirror_mode": {
    "name": "ipython",
    "version": 3
   },
   "file_extension": ".py",
   "mimetype": "text/x-python",
   "name": "python",
   "nbconvert_exporter": "python",
   "pygments_lexer": "ipython3",
   "version": "3.9.5"
  },
  "toc": {
   "base_numbering": 1,
   "nav_menu": {},
   "number_sections": true,
   "sideBar": true,
   "skip_h1_title": true,
   "title_cell": "Table of Contents",
   "title_sidebar": "Contents",
   "toc_cell": false,
   "toc_position": {
    "height": "calc(100% - 180px)",
    "left": "10px",
    "top": "150px",
    "width": "165px"
   },
   "toc_section_display": true,
   "toc_window_display": false
  }
 },
 "nbformat": 4,
 "nbformat_minor": 2
}
