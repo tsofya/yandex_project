{
 "cells": [
  {
   "cell_type": "markdown",
   "id": "10ec7570",
   "metadata": {
    "deletable": false,
    "editable": false,
    "id": "c81daeeb"
   },
   "source": [
    "# Исследование надежности заемщиков\n"
   ]
  },
  {
   "cell_type": "markdown",
   "id": "c8d3e85a",
   "metadata": {
    "deletable": false,
    "editable": false,
    "id": "827c20bf"
   },
   "source": [
    "Во второй части проекта вы выполните шаги 3 и 4. Их вручную проверит ревьюер.\n",
    "Чтобы вам не пришлось писать код заново для шагов 1 и 2, мы добавили авторские решения в ячейки с кодом. \n",
    "\n"
   ]
  },
  {
   "cell_type": "markdown",
   "id": "b538916d",
   "metadata": {
    "deletable": false,
    "editable": false,
    "id": "744d7639"
   },
   "source": [
    "## Откройте таблицу и изучите общую информацию о данных"
   ]
  },
  {
   "cell_type": "markdown",
   "id": "48e009bb",
   "metadata": {
    "deletable": false,
    "editable": false,
    "id": "e7a14c31"
   },
   "source": [
    "**Задание 1. Импортируйте библиотеку pandas. Считайте данные из csv-файла в датафрейм и сохраните в переменную `data`. Путь к файлу:**\n",
    "\n",
    "`/datasets/data.csv`"
   ]
  },
  {
   "cell_type": "code",
   "execution_count": 2,
   "id": "f1cbd8e6",
   "metadata": {
    "deletable": false,
    "id": "7bcf75c9"
   },
   "outputs": [],
   "source": [
    "import pandas as pd\n",
    "\n",
    "try:\n",
    "    data = pd.read_csv('/datasets/data.csv')\n",
    "except:\n",
    "    data = pd.read_csv('https://code.s3.yandex.net/datasets/data.csv')"
   ]
  },
  {
   "cell_type": "markdown",
   "id": "36d8b42f",
   "metadata": {
    "deletable": false,
    "editable": false,
    "id": "b8038fe3"
   },
   "source": [
    "**Задание 2. Выведите первые 20 строчек датафрейма `data` на экран.**"
   ]
  },
  {
   "cell_type": "code",
   "execution_count": 3,
   "id": "db0ae06c",
   "metadata": {
    "deletable": false,
    "id": "2a7cab99",
    "outputId": "1a8f3ef2-d323-4ec2-ddf7-89670b5944c4"
   },
   "outputs": [
    {
     "data": {
      "text/html": [
       "<div>\n",
       "<style scoped>\n",
       "    .dataframe tbody tr th:only-of-type {\n",
       "        vertical-align: middle;\n",
       "    }\n",
       "\n",
       "    .dataframe tbody tr th {\n",
       "        vertical-align: top;\n",
       "    }\n",
       "\n",
       "    .dataframe thead th {\n",
       "        text-align: right;\n",
       "    }\n",
       "</style>\n",
       "<table border=\"1\" class=\"dataframe\">\n",
       "  <thead>\n",
       "    <tr style=\"text-align: right;\">\n",
       "      <th></th>\n",
       "      <th>children</th>\n",
       "      <th>days_employed</th>\n",
       "      <th>dob_years</th>\n",
       "      <th>education</th>\n",
       "      <th>education_id</th>\n",
       "      <th>family_status</th>\n",
       "      <th>family_status_id</th>\n",
       "      <th>gender</th>\n",
       "      <th>income_type</th>\n",
       "      <th>debt</th>\n",
       "      <th>total_income</th>\n",
       "      <th>purpose</th>\n",
       "    </tr>\n",
       "  </thead>\n",
       "  <tbody>\n",
       "    <tr>\n",
       "      <th>0</th>\n",
       "      <td>1</td>\n",
       "      <td>-8437.673028</td>\n",
       "      <td>42</td>\n",
       "      <td>высшее</td>\n",
       "      <td>0</td>\n",
       "      <td>женат / замужем</td>\n",
       "      <td>0</td>\n",
       "      <td>F</td>\n",
       "      <td>сотрудник</td>\n",
       "      <td>0</td>\n",
       "      <td>253875.639453</td>\n",
       "      <td>покупка жилья</td>\n",
       "    </tr>\n",
       "    <tr>\n",
       "      <th>1</th>\n",
       "      <td>1</td>\n",
       "      <td>-4024.803754</td>\n",
       "      <td>36</td>\n",
       "      <td>среднее</td>\n",
       "      <td>1</td>\n",
       "      <td>женат / замужем</td>\n",
       "      <td>0</td>\n",
       "      <td>F</td>\n",
       "      <td>сотрудник</td>\n",
       "      <td>0</td>\n",
       "      <td>112080.014102</td>\n",
       "      <td>приобретение автомобиля</td>\n",
       "    </tr>\n",
       "    <tr>\n",
       "      <th>2</th>\n",
       "      <td>0</td>\n",
       "      <td>-5623.422610</td>\n",
       "      <td>33</td>\n",
       "      <td>Среднее</td>\n",
       "      <td>1</td>\n",
       "      <td>женат / замужем</td>\n",
       "      <td>0</td>\n",
       "      <td>M</td>\n",
       "      <td>сотрудник</td>\n",
       "      <td>0</td>\n",
       "      <td>145885.952297</td>\n",
       "      <td>покупка жилья</td>\n",
       "    </tr>\n",
       "    <tr>\n",
       "      <th>3</th>\n",
       "      <td>3</td>\n",
       "      <td>-4124.747207</td>\n",
       "      <td>32</td>\n",
       "      <td>среднее</td>\n",
       "      <td>1</td>\n",
       "      <td>женат / замужем</td>\n",
       "      <td>0</td>\n",
       "      <td>M</td>\n",
       "      <td>сотрудник</td>\n",
       "      <td>0</td>\n",
       "      <td>267628.550329</td>\n",
       "      <td>дополнительное образование</td>\n",
       "    </tr>\n",
       "    <tr>\n",
       "      <th>4</th>\n",
       "      <td>0</td>\n",
       "      <td>340266.072047</td>\n",
       "      <td>53</td>\n",
       "      <td>среднее</td>\n",
       "      <td>1</td>\n",
       "      <td>гражданский брак</td>\n",
       "      <td>1</td>\n",
       "      <td>F</td>\n",
       "      <td>пенсионер</td>\n",
       "      <td>0</td>\n",
       "      <td>158616.077870</td>\n",
       "      <td>сыграть свадьбу</td>\n",
       "    </tr>\n",
       "    <tr>\n",
       "      <th>5</th>\n",
       "      <td>0</td>\n",
       "      <td>-926.185831</td>\n",
       "      <td>27</td>\n",
       "      <td>высшее</td>\n",
       "      <td>0</td>\n",
       "      <td>гражданский брак</td>\n",
       "      <td>1</td>\n",
       "      <td>M</td>\n",
       "      <td>компаньон</td>\n",
       "      <td>0</td>\n",
       "      <td>255763.565419</td>\n",
       "      <td>покупка жилья</td>\n",
       "    </tr>\n",
       "    <tr>\n",
       "      <th>6</th>\n",
       "      <td>0</td>\n",
       "      <td>-2879.202052</td>\n",
       "      <td>43</td>\n",
       "      <td>высшее</td>\n",
       "      <td>0</td>\n",
       "      <td>женат / замужем</td>\n",
       "      <td>0</td>\n",
       "      <td>F</td>\n",
       "      <td>компаньон</td>\n",
       "      <td>0</td>\n",
       "      <td>240525.971920</td>\n",
       "      <td>операции с жильем</td>\n",
       "    </tr>\n",
       "    <tr>\n",
       "      <th>7</th>\n",
       "      <td>0</td>\n",
       "      <td>-152.779569</td>\n",
       "      <td>50</td>\n",
       "      <td>СРЕДНЕЕ</td>\n",
       "      <td>1</td>\n",
       "      <td>женат / замужем</td>\n",
       "      <td>0</td>\n",
       "      <td>M</td>\n",
       "      <td>сотрудник</td>\n",
       "      <td>0</td>\n",
       "      <td>135823.934197</td>\n",
       "      <td>образование</td>\n",
       "    </tr>\n",
       "    <tr>\n",
       "      <th>8</th>\n",
       "      <td>2</td>\n",
       "      <td>-6929.865299</td>\n",
       "      <td>35</td>\n",
       "      <td>ВЫСШЕЕ</td>\n",
       "      <td>0</td>\n",
       "      <td>гражданский брак</td>\n",
       "      <td>1</td>\n",
       "      <td>F</td>\n",
       "      <td>сотрудник</td>\n",
       "      <td>0</td>\n",
       "      <td>95856.832424</td>\n",
       "      <td>на проведение свадьбы</td>\n",
       "    </tr>\n",
       "    <tr>\n",
       "      <th>9</th>\n",
       "      <td>0</td>\n",
       "      <td>-2188.756445</td>\n",
       "      <td>41</td>\n",
       "      <td>среднее</td>\n",
       "      <td>1</td>\n",
       "      <td>женат / замужем</td>\n",
       "      <td>0</td>\n",
       "      <td>M</td>\n",
       "      <td>сотрудник</td>\n",
       "      <td>0</td>\n",
       "      <td>144425.938277</td>\n",
       "      <td>покупка жилья для семьи</td>\n",
       "    </tr>\n",
       "    <tr>\n",
       "      <th>10</th>\n",
       "      <td>2</td>\n",
       "      <td>-4171.483647</td>\n",
       "      <td>36</td>\n",
       "      <td>высшее</td>\n",
       "      <td>0</td>\n",
       "      <td>женат / замужем</td>\n",
       "      <td>0</td>\n",
       "      <td>M</td>\n",
       "      <td>компаньон</td>\n",
       "      <td>0</td>\n",
       "      <td>113943.491460</td>\n",
       "      <td>покупка недвижимости</td>\n",
       "    </tr>\n",
       "    <tr>\n",
       "      <th>11</th>\n",
       "      <td>0</td>\n",
       "      <td>-792.701887</td>\n",
       "      <td>40</td>\n",
       "      <td>среднее</td>\n",
       "      <td>1</td>\n",
       "      <td>женат / замужем</td>\n",
       "      <td>0</td>\n",
       "      <td>F</td>\n",
       "      <td>сотрудник</td>\n",
       "      <td>0</td>\n",
       "      <td>77069.234271</td>\n",
       "      <td>покупка коммерческой недвижимости</td>\n",
       "    </tr>\n",
       "    <tr>\n",
       "      <th>12</th>\n",
       "      <td>0</td>\n",
       "      <td>NaN</td>\n",
       "      <td>65</td>\n",
       "      <td>среднее</td>\n",
       "      <td>1</td>\n",
       "      <td>гражданский брак</td>\n",
       "      <td>1</td>\n",
       "      <td>M</td>\n",
       "      <td>пенсионер</td>\n",
       "      <td>0</td>\n",
       "      <td>NaN</td>\n",
       "      <td>сыграть свадьбу</td>\n",
       "    </tr>\n",
       "    <tr>\n",
       "      <th>13</th>\n",
       "      <td>0</td>\n",
       "      <td>-1846.641941</td>\n",
       "      <td>54</td>\n",
       "      <td>неоконченное высшее</td>\n",
       "      <td>2</td>\n",
       "      <td>женат / замужем</td>\n",
       "      <td>0</td>\n",
       "      <td>F</td>\n",
       "      <td>сотрудник</td>\n",
       "      <td>0</td>\n",
       "      <td>130458.228857</td>\n",
       "      <td>приобретение автомобиля</td>\n",
       "    </tr>\n",
       "    <tr>\n",
       "      <th>14</th>\n",
       "      <td>0</td>\n",
       "      <td>-1844.956182</td>\n",
       "      <td>56</td>\n",
       "      <td>высшее</td>\n",
       "      <td>0</td>\n",
       "      <td>гражданский брак</td>\n",
       "      <td>1</td>\n",
       "      <td>F</td>\n",
       "      <td>компаньон</td>\n",
       "      <td>1</td>\n",
       "      <td>165127.911772</td>\n",
       "      <td>покупка жилой недвижимости</td>\n",
       "    </tr>\n",
       "    <tr>\n",
       "      <th>15</th>\n",
       "      <td>1</td>\n",
       "      <td>-972.364419</td>\n",
       "      <td>26</td>\n",
       "      <td>среднее</td>\n",
       "      <td>1</td>\n",
       "      <td>женат / замужем</td>\n",
       "      <td>0</td>\n",
       "      <td>F</td>\n",
       "      <td>сотрудник</td>\n",
       "      <td>0</td>\n",
       "      <td>116820.904450</td>\n",
       "      <td>строительство собственной недвижимости</td>\n",
       "    </tr>\n",
       "    <tr>\n",
       "      <th>16</th>\n",
       "      <td>0</td>\n",
       "      <td>-1719.934226</td>\n",
       "      <td>35</td>\n",
       "      <td>среднее</td>\n",
       "      <td>1</td>\n",
       "      <td>женат / замужем</td>\n",
       "      <td>0</td>\n",
       "      <td>F</td>\n",
       "      <td>сотрудник</td>\n",
       "      <td>0</td>\n",
       "      <td>289202.704229</td>\n",
       "      <td>недвижимость</td>\n",
       "    </tr>\n",
       "    <tr>\n",
       "      <th>17</th>\n",
       "      <td>0</td>\n",
       "      <td>-2369.999720</td>\n",
       "      <td>33</td>\n",
       "      <td>высшее</td>\n",
       "      <td>0</td>\n",
       "      <td>гражданский брак</td>\n",
       "      <td>1</td>\n",
       "      <td>M</td>\n",
       "      <td>сотрудник</td>\n",
       "      <td>0</td>\n",
       "      <td>90410.586745</td>\n",
       "      <td>строительство недвижимости</td>\n",
       "    </tr>\n",
       "    <tr>\n",
       "      <th>18</th>\n",
       "      <td>0</td>\n",
       "      <td>400281.136913</td>\n",
       "      <td>53</td>\n",
       "      <td>среднее</td>\n",
       "      <td>1</td>\n",
       "      <td>вдовец / вдова</td>\n",
       "      <td>2</td>\n",
       "      <td>F</td>\n",
       "      <td>пенсионер</td>\n",
       "      <td>0</td>\n",
       "      <td>56823.777243</td>\n",
       "      <td>на покупку подержанного автомобиля</td>\n",
       "    </tr>\n",
       "    <tr>\n",
       "      <th>19</th>\n",
       "      <td>0</td>\n",
       "      <td>-10038.818549</td>\n",
       "      <td>48</td>\n",
       "      <td>СРЕДНЕЕ</td>\n",
       "      <td>1</td>\n",
       "      <td>в разводе</td>\n",
       "      <td>3</td>\n",
       "      <td>F</td>\n",
       "      <td>сотрудник</td>\n",
       "      <td>0</td>\n",
       "      <td>242831.107982</td>\n",
       "      <td>на покупку своего автомобиля</td>\n",
       "    </tr>\n",
       "  </tbody>\n",
       "</table>\n",
       "</div>"
      ],
      "text/plain": [
       "    children  days_employed  dob_years            education  education_id  \\\n",
       "0          1   -8437.673028         42               высшее             0   \n",
       "1          1   -4024.803754         36              среднее             1   \n",
       "2          0   -5623.422610         33              Среднее             1   \n",
       "3          3   -4124.747207         32              среднее             1   \n",
       "4          0  340266.072047         53              среднее             1   \n",
       "5          0    -926.185831         27               высшее             0   \n",
       "6          0   -2879.202052         43               высшее             0   \n",
       "7          0    -152.779569         50              СРЕДНЕЕ             1   \n",
       "8          2   -6929.865299         35               ВЫСШЕЕ             0   \n",
       "9          0   -2188.756445         41              среднее             1   \n",
       "10         2   -4171.483647         36               высшее             0   \n",
       "11         0    -792.701887         40              среднее             1   \n",
       "12         0            NaN         65              среднее             1   \n",
       "13         0   -1846.641941         54  неоконченное высшее             2   \n",
       "14         0   -1844.956182         56               высшее             0   \n",
       "15         1    -972.364419         26              среднее             1   \n",
       "16         0   -1719.934226         35              среднее             1   \n",
       "17         0   -2369.999720         33               высшее             0   \n",
       "18         0  400281.136913         53              среднее             1   \n",
       "19         0  -10038.818549         48              СРЕДНЕЕ             1   \n",
       "\n",
       "       family_status  family_status_id gender income_type  debt  \\\n",
       "0    женат / замужем                 0      F   сотрудник     0   \n",
       "1    женат / замужем                 0      F   сотрудник     0   \n",
       "2    женат / замужем                 0      M   сотрудник     0   \n",
       "3    женат / замужем                 0      M   сотрудник     0   \n",
       "4   гражданский брак                 1      F   пенсионер     0   \n",
       "5   гражданский брак                 1      M   компаньон     0   \n",
       "6    женат / замужем                 0      F   компаньон     0   \n",
       "7    женат / замужем                 0      M   сотрудник     0   \n",
       "8   гражданский брак                 1      F   сотрудник     0   \n",
       "9    женат / замужем                 0      M   сотрудник     0   \n",
       "10   женат / замужем                 0      M   компаньон     0   \n",
       "11   женат / замужем                 0      F   сотрудник     0   \n",
       "12  гражданский брак                 1      M   пенсионер     0   \n",
       "13   женат / замужем                 0      F   сотрудник     0   \n",
       "14  гражданский брак                 1      F   компаньон     1   \n",
       "15   женат / замужем                 0      F   сотрудник     0   \n",
       "16   женат / замужем                 0      F   сотрудник     0   \n",
       "17  гражданский брак                 1      M   сотрудник     0   \n",
       "18    вдовец / вдова                 2      F   пенсионер     0   \n",
       "19         в разводе                 3      F   сотрудник     0   \n",
       "\n",
       "     total_income                                 purpose  \n",
       "0   253875.639453                           покупка жилья  \n",
       "1   112080.014102                 приобретение автомобиля  \n",
       "2   145885.952297                           покупка жилья  \n",
       "3   267628.550329              дополнительное образование  \n",
       "4   158616.077870                         сыграть свадьбу  \n",
       "5   255763.565419                           покупка жилья  \n",
       "6   240525.971920                       операции с жильем  \n",
       "7   135823.934197                             образование  \n",
       "8    95856.832424                   на проведение свадьбы  \n",
       "9   144425.938277                 покупка жилья для семьи  \n",
       "10  113943.491460                    покупка недвижимости  \n",
       "11   77069.234271       покупка коммерческой недвижимости  \n",
       "12            NaN                         сыграть свадьбу  \n",
       "13  130458.228857                 приобретение автомобиля  \n",
       "14  165127.911772              покупка жилой недвижимости  \n",
       "15  116820.904450  строительство собственной недвижимости  \n",
       "16  289202.704229                            недвижимость  \n",
       "17   90410.586745              строительство недвижимости  \n",
       "18   56823.777243      на покупку подержанного автомобиля  \n",
       "19  242831.107982            на покупку своего автомобиля  "
      ]
     },
     "execution_count": 3,
     "metadata": {},
     "output_type": "execute_result"
    }
   ],
   "source": [
    "data.head(20)"
   ]
  },
  {
   "cell_type": "markdown",
   "id": "418d9272",
   "metadata": {
    "deletable": false,
    "editable": false,
    "id": "1c12e233"
   },
   "source": [
    "**Задание 3. Выведите основную информацию о датафрейме с помощью метода `info()`.**"
   ]
  },
  {
   "cell_type": "code",
   "execution_count": 4,
   "id": "8c71f7cd",
   "metadata": {
    "deletable": false,
    "id": "2b757bca",
    "outputId": "15376089-8dad-46c9-b520-c05248d43158"
   },
   "outputs": [
    {
     "name": "stdout",
     "output_type": "stream",
     "text": [
      "<class 'pandas.core.frame.DataFrame'>\n",
      "RangeIndex: 21525 entries, 0 to 21524\n",
      "Data columns (total 12 columns):\n",
      " #   Column            Non-Null Count  Dtype  \n",
      "---  ------            --------------  -----  \n",
      " 0   children          21525 non-null  int64  \n",
      " 1   days_employed     19351 non-null  float64\n",
      " 2   dob_years         21525 non-null  int64  \n",
      " 3   education         21525 non-null  object \n",
      " 4   education_id      21525 non-null  int64  \n",
      " 5   family_status     21525 non-null  object \n",
      " 6   family_status_id  21525 non-null  int64  \n",
      " 7   gender            21525 non-null  object \n",
      " 8   income_type       21525 non-null  object \n",
      " 9   debt              21525 non-null  int64  \n",
      " 10  total_income      19351 non-null  float64\n",
      " 11  purpose           21525 non-null  object \n",
      "dtypes: float64(2), int64(5), object(5)\n",
      "memory usage: 2.0+ MB\n"
     ]
    }
   ],
   "source": [
    "data.info()"
   ]
  },
  {
   "cell_type": "markdown",
   "id": "f959e6c3",
   "metadata": {
    "deletable": false,
    "editable": false,
    "id": "333ec665"
   },
   "source": [
    "## Предобработка данных"
   ]
  },
  {
   "cell_type": "markdown",
   "id": "f1d6340a",
   "metadata": {
    "deletable": false,
    "editable": false,
    "id": "02d92d53"
   },
   "source": [
    "### Удаление пропусков"
   ]
  },
  {
   "cell_type": "markdown",
   "id": "27af5862",
   "metadata": {
    "deletable": false,
    "editable": false,
    "id": "cd84967c"
   },
   "source": [
    "**Задание 4. Выведите количество пропущенных значений для каждого столбца. Используйте комбинацию двух методов.**"
   ]
  },
  {
   "cell_type": "code",
   "execution_count": 5,
   "id": "5054e204",
   "metadata": {
    "deletable": false,
    "id": "7f9b2309",
    "outputId": "81f4d817-781c-465c-ed15-91ce4446810d"
   },
   "outputs": [
    {
     "data": {
      "text/plain": [
       "children               0\n",
       "days_employed       2174\n",
       "dob_years              0\n",
       "education              0\n",
       "education_id           0\n",
       "family_status          0\n",
       "family_status_id       0\n",
       "gender                 0\n",
       "income_type            0\n",
       "debt                   0\n",
       "total_income        2174\n",
       "purpose                0\n",
       "dtype: int64"
      ]
     },
     "execution_count": 5,
     "metadata": {},
     "output_type": "execute_result"
    }
   ],
   "source": [
    "data.isna().sum()"
   ]
  },
  {
   "cell_type": "markdown",
   "id": "bc31a7ba",
   "metadata": {
    "deletable": false,
    "editable": false,
    "id": "db86e27b"
   },
   "source": [
    "**Задание 5. В двух столбцах есть пропущенные значения. Один из них — `days_employed`. Пропуски в этом столбце вы обработаете на следующем этапе. Другой столбец с пропущенными значениями — `total_income` — хранит данные о доходах. На сумму дохода сильнее всего влияет тип занятости, поэтому заполнить пропуски в этом столбце нужно медианным значением по каждому типу из столбца `income_type`. Например, у человека с типом занятости `сотрудник` пропуск в столбце `total_income` должен быть заполнен медианным доходом среди всех записей с тем же типом.**"
   ]
  },
  {
   "cell_type": "code",
   "execution_count": 6,
   "id": "57ec3d67",
   "metadata": {
    "deletable": false,
    "id": "42006a93"
   },
   "outputs": [],
   "source": [
    "for t in data['income_type'].unique():\n",
    "    data.loc[(data['income_type'] == t) & (data['total_income'].isna()), 'total_income'] = \\\n",
    "    data.loc[(data['income_type'] == t), 'total_income'].median()"
   ]
  },
  {
   "cell_type": "markdown",
   "id": "7251c95d",
   "metadata": {
    "deletable": false,
    "editable": false,
    "id": "89da5ece"
   },
   "source": [
    "### Обработка аномальных значений"
   ]
  },
  {
   "cell_type": "markdown",
   "id": "8a2cd82e",
   "metadata": {
    "deletable": false,
    "editable": false,
    "id": "57964554"
   },
   "source": [
    "**Задание 6. В данных могут встречаться артефакты (аномалии) — значения, которые не отражают действительность и появились по какой-то ошибке. таким артефактом будет отрицательное количество дней трудового стажа в столбце `days_employed`. Для реальных данных это нормально. Обработайте значения в этом столбце: замените все отрицательные значения положительными с помощью метода `abs()`.**"
   ]
  },
  {
   "cell_type": "code",
   "execution_count": 7,
   "id": "83b9528b",
   "metadata": {
    "deletable": false,
    "id": "f6f055bf"
   },
   "outputs": [],
   "source": [
    "data['days_employed'] = data['days_employed'].abs()"
   ]
  },
  {
   "cell_type": "markdown",
   "id": "68c7ccf2",
   "metadata": {
    "deletable": false,
    "editable": false,
    "id": "6107dd2f"
   },
   "source": [
    "**Задание 7. Для каждого типа занятости выведите медианное значение трудового стажа `days_employed` в днях.**"
   ]
  },
  {
   "cell_type": "code",
   "execution_count": 8,
   "id": "e4a42046",
   "metadata": {
    "deletable": false,
    "id": "85a5faf6",
    "outputId": "801ef80e-522b-4668-f34e-565af7432bcf"
   },
   "outputs": [
    {
     "data": {
      "text/plain": [
       "income_type\n",
       "безработный        366413.652744\n",
       "в декрете            3296.759962\n",
       "госслужащий          2689.368353\n",
       "компаньон            1547.382223\n",
       "пенсионер          365213.306266\n",
       "предприниматель       520.848083\n",
       "сотрудник            1574.202821\n",
       "студент               578.751554\n",
       "Name: days_employed, dtype: float64"
      ]
     },
     "execution_count": 8,
     "metadata": {},
     "output_type": "execute_result"
    }
   ],
   "source": [
    "data.groupby('income_type')['days_employed'].agg('median')"
   ]
  },
  {
   "cell_type": "markdown",
   "id": "c99119ad",
   "metadata": {
    "deletable": false,
    "editable": false,
    "id": "38d1a030"
   },
   "source": [
    "У двух типов (безработные и пенсионеры) получатся аномально большие значения. Исправить такие значения сложно, поэтому оставьте их как есть. Тем более этот столбец не понадобится вам для исследования."
   ]
  },
  {
   "cell_type": "markdown",
   "id": "7f5cc126",
   "metadata": {
    "deletable": false,
    "editable": false,
    "id": "d8a9f147"
   },
   "source": [
    "**Задание 8. Выведите перечень уникальных значений столбца `children`.**"
   ]
  },
  {
   "cell_type": "code",
   "execution_count": 9,
   "id": "93f614c7",
   "metadata": {
    "deletable": false,
    "id": "ef5056eb",
    "outputId": "6975b15c-7f95-4697-d16d-a0c79b657b03"
   },
   "outputs": [
    {
     "data": {
      "text/plain": [
       "array([ 1,  0,  3,  2, -1,  4, 20,  5])"
      ]
     },
     "execution_count": 9,
     "metadata": {},
     "output_type": "execute_result"
    }
   ],
   "source": [
    "data['children'].unique()"
   ]
  },
  {
   "cell_type": "markdown",
   "id": "288023a5",
   "metadata": {
    "deletable": false,
    "editable": false,
    "id": "40b9ebf2"
   },
   "source": [
    "**Задание 9. В столбце `children` есть два аномальных значения. Удалите строки, в которых встречаются такие аномальные значения из датафрейма `data`.**"
   ]
  },
  {
   "cell_type": "code",
   "execution_count": 10,
   "id": "cec7e15a",
   "metadata": {
    "deletable": false,
    "id": "3ff9801d"
   },
   "outputs": [],
   "source": [
    "data = data[(data['children'] != -1) & (data['children'] != 20)]"
   ]
  },
  {
   "cell_type": "markdown",
   "id": "bf83f63a",
   "metadata": {
    "deletable": false,
    "editable": false,
    "id": "bbc4d0ce"
   },
   "source": [
    "**Задание 10. Ещё раз выведите перечень уникальных значений столбца `children`, чтобы убедиться, что артефакты удалены.**"
   ]
  },
  {
   "cell_type": "code",
   "execution_count": 11,
   "id": "7310412b",
   "metadata": {
    "deletable": false,
    "id": "ad4fa8b7",
    "outputId": "b2097101-d49d-44d9-901b-32a65c9463d1"
   },
   "outputs": [
    {
     "data": {
      "text/plain": [
       "array([1, 0, 3, 2, 4, 5])"
      ]
     },
     "execution_count": 11,
     "metadata": {},
     "output_type": "execute_result"
    }
   ],
   "source": [
    "data['children'].unique()"
   ]
  },
  {
   "cell_type": "markdown",
   "id": "2de56b9d",
   "metadata": {
    "deletable": false,
    "editable": false,
    "id": "75440b63"
   },
   "source": [
    "### Удаление пропусков (продолжение)"
   ]
  },
  {
   "cell_type": "markdown",
   "id": "586e4a48",
   "metadata": {
    "deletable": false,
    "editable": false,
    "id": "f4ea573f"
   },
   "source": [
    "**Задание 11. Заполните пропуски в столбце `days_employed` медианными значениями по каждого типа занятости `income_type`.**"
   ]
  },
  {
   "cell_type": "code",
   "execution_count": 12,
   "id": "2149f997",
   "metadata": {
    "deletable": false,
    "id": "af6b1a7e"
   },
   "outputs": [],
   "source": [
    "for t in data['income_type'].unique():\n",
    "    data.loc[(data['income_type'] == t) & (data['days_employed'].isna()), 'days_employed'] = \\\n",
    "    data.loc[(data['income_type'] == t), 'days_employed'].median()"
   ]
  },
  {
   "cell_type": "markdown",
   "id": "3fd8e3ae",
   "metadata": {
    "deletable": false,
    "editable": false,
    "id": "2753f40d"
   },
   "source": [
    "**Задание 12. Убедитесь, что все пропуски заполнены. Проверьте себя и ещё раз выведите количество пропущенных значений для каждого столбца с помощью двух методов.**"
   ]
  },
  {
   "cell_type": "code",
   "execution_count": 13,
   "id": "f96d12e0",
   "metadata": {
    "deletable": false,
    "id": "55f78bc2",
    "outputId": "8da1e4e1-358e-4e87-98c9-f261bce0a7b2"
   },
   "outputs": [
    {
     "data": {
      "text/plain": [
       "children            0\n",
       "days_employed       0\n",
       "dob_years           0\n",
       "education           0\n",
       "education_id        0\n",
       "family_status       0\n",
       "family_status_id    0\n",
       "gender              0\n",
       "income_type         0\n",
       "debt                0\n",
       "total_income        0\n",
       "purpose             0\n",
       "dtype: int64"
      ]
     },
     "execution_count": 13,
     "metadata": {},
     "output_type": "execute_result"
    }
   ],
   "source": [
    "data.isna().sum()"
   ]
  },
  {
   "cell_type": "markdown",
   "id": "1858ef5b",
   "metadata": {
    "deletable": false,
    "editable": false,
    "id": "ddc81e43"
   },
   "source": [
    "### Изменение типов данных"
   ]
  },
  {
   "cell_type": "markdown",
   "id": "9ae7cd49",
   "metadata": {
    "deletable": false,
    "editable": false,
    "id": "42d19d24"
   },
   "source": [
    "**Задание 13. Замените вещественный тип данных в столбце `total_income` на целочисленный с помощью метода `astype()`.**"
   ]
  },
  {
   "cell_type": "code",
   "execution_count": 14,
   "id": "169e260e",
   "metadata": {
    "deletable": false,
    "id": "920b65ad"
   },
   "outputs": [],
   "source": [
    "data['total_income'] = data['total_income'].astype(int)"
   ]
  },
  {
   "cell_type": "markdown",
   "id": "99043438",
   "metadata": {
    "deletable": false,
    "editable": false,
    "id": "80c420ba"
   },
   "source": [
    "### Обработка дубликатов"
   ]
  },
  {
   "cell_type": "markdown",
   "id": "e9b5fce8",
   "metadata": {
    "deletable": false,
    "editable": false
   },
   "source": [
    "**Задание 14. Обработайте неявные дубликаты в столбце `education`. В этом столбце есть одни и те же значения, но записанные по-разному: с использованием заглавных и строчных букв. Приведите их к нижнему регистру. Проверьте остальные столбцы.**"
   ]
  },
  {
   "cell_type": "code",
   "execution_count": 15,
   "id": "88876ca7",
   "metadata": {
    "deletable": false
   },
   "outputs": [],
   "source": [
    "data['education'] = data['education'].str.lower()"
   ]
  },
  {
   "cell_type": "markdown",
   "id": "7c535529",
   "metadata": {
    "deletable": false,
    "editable": false,
    "id": "dc587695"
   },
   "source": [
    "**Задание 15. Выведите на экран количество строк-дубликатов в данных. Если такие строки присутствуют, удалите их.**"
   ]
  },
  {
   "cell_type": "code",
   "execution_count": 16,
   "id": "5f4692e1",
   "metadata": {
    "deletable": false,
    "id": "3ee445e4",
    "outputId": "9684deba-1934-42d1-99e1-cda61740f822"
   },
   "outputs": [
    {
     "data": {
      "text/plain": [
       "71"
      ]
     },
     "execution_count": 16,
     "metadata": {},
     "output_type": "execute_result"
    }
   ],
   "source": [
    "data.duplicated().sum()"
   ]
  },
  {
   "cell_type": "code",
   "execution_count": 17,
   "id": "1d233b5e",
   "metadata": {
    "deletable": false,
    "id": "8575fe05"
   },
   "outputs": [],
   "source": [
    "data = data.drop_duplicates()"
   ]
  },
  {
   "cell_type": "markdown",
   "id": "fedf0798",
   "metadata": {
    "deletable": false,
    "editable": false,
    "id": "9904cf55"
   },
   "source": [
    "### Категоризация данных"
   ]
  },
  {
   "cell_type": "markdown",
   "id": "6e82cf4e",
   "metadata": {
    "deletable": false,
    "editable": false,
    "id": "72fcc8a2"
   },
   "source": [
    "**Задание 16. На основании диапазонов, указанных ниже, создайте в датафрейме `data` столбец `total_income_category` с категориями:**\n",
    "\n",
    "- 0–30000 — `'E'`;\n",
    "- 30001–50000 — `'D'`;\n",
    "- 50001–200000 — `'C'`;\n",
    "- 200001–1000000 — `'B'`;\n",
    "- 1000001 и выше — `'A'`.\n",
    "\n",
    "\n",
    "**Например, кредитополучателю с доходом 25000 нужно назначить категорию `'E'`, а клиенту, получающему 235000, — `'B'`. Используйте собственную функцию с именем `categorize_income()` и метод `apply()`.**"
   ]
  },
  {
   "cell_type": "code",
   "execution_count": 18,
   "id": "a97e942b",
   "metadata": {
    "deletable": false,
    "id": "e1771346"
   },
   "outputs": [],
   "source": [
    "def categorize_income(income):\n",
    "    try:\n",
    "        if 0 <= income <= 30000:\n",
    "            return 'E'\n",
    "        elif 30001 <= income <= 50000:\n",
    "            return 'D'\n",
    "        elif 50001 <= income <= 200000:\n",
    "            return 'C'\n",
    "        elif 200001 <= income <= 1000000:\n",
    "            return 'B'\n",
    "        elif income >= 1000001:\n",
    "            return 'A'\n",
    "    except:\n",
    "        pass"
   ]
  },
  {
   "cell_type": "code",
   "execution_count": 19,
   "id": "d19268ec",
   "metadata": {
    "deletable": false,
    "id": "d5f3586d"
   },
   "outputs": [],
   "source": [
    "data['total_income_category'] = data['total_income'].apply(categorize_income)"
   ]
  },
  {
   "cell_type": "markdown",
   "id": "5dc80626",
   "metadata": {
    "deletable": false,
    "editable": false,
    "id": "dde49b5c"
   },
   "source": [
    "**Задание 17. Выведите на экран перечень уникальных целей взятия кредита из столбца `purpose`.**"
   ]
  },
  {
   "cell_type": "code",
   "execution_count": 20,
   "id": "8e1721bd",
   "metadata": {
    "deletable": false,
    "id": "f67ce9b3",
    "outputId": "673c12d9-7d7e-4ae0-9812-c622c89dd244"
   },
   "outputs": [
    {
     "data": {
      "text/plain": [
       "array(['покупка жилья', 'приобретение автомобиля',\n",
       "       'дополнительное образование', 'сыграть свадьбу',\n",
       "       'операции с жильем', 'образование', 'на проведение свадьбы',\n",
       "       'покупка жилья для семьи', 'покупка недвижимости',\n",
       "       'покупка коммерческой недвижимости', 'покупка жилой недвижимости',\n",
       "       'строительство собственной недвижимости', 'недвижимость',\n",
       "       'строительство недвижимости', 'на покупку подержанного автомобиля',\n",
       "       'на покупку своего автомобиля',\n",
       "       'операции с коммерческой недвижимостью',\n",
       "       'строительство жилой недвижимости', 'жилье',\n",
       "       'операции со своей недвижимостью', 'автомобили',\n",
       "       'заняться образованием', 'сделка с подержанным автомобилем',\n",
       "       'получение образования', 'автомобиль', 'свадьба',\n",
       "       'получение дополнительного образования', 'покупка своего жилья',\n",
       "       'операции с недвижимостью', 'получение высшего образования',\n",
       "       'свой автомобиль', 'сделка с автомобилем',\n",
       "       'профильное образование', 'высшее образование',\n",
       "       'покупка жилья для сдачи', 'на покупку автомобиля', 'ремонт жилью',\n",
       "       'заняться высшим образованием'], dtype=object)"
      ]
     },
     "execution_count": 20,
     "metadata": {},
     "output_type": "execute_result"
    }
   ],
   "source": [
    "data['purpose'].unique()"
   ]
  },
  {
   "cell_type": "markdown",
   "id": "d5bcd92c",
   "metadata": {
    "deletable": false,
    "editable": false,
    "id": "85d0aef0"
   },
   "source": [
    "**Задание 18. Создайте функцию, которая на основании данных из столбца `purpose` сформирует новый столбец `purpose_category`, в который войдут следующие категории:**\n",
    "\n",
    "- `'операции с автомобилем'`,\n",
    "- `'операции с недвижимостью'`,\n",
    "- `'проведение свадьбы'`,\n",
    "- `'получение образования'`.\n",
    "\n",
    "**Например, если в столбце `purpose` находится подстрока `'на покупку автомобиля'`, то в столбце `purpose_category` должна появиться строка `'операции с автомобилем'`.**\n",
    "\n",
    "**Используйте собственную функцию с именем `categorize_purpose()` и метод `apply()`. Изучите данные в столбце `purpose` и определите, какие подстроки помогут вам правильно определить категорию.**"
   ]
  },
  {
   "cell_type": "code",
   "execution_count": 21,
   "id": "a92585ae",
   "metadata": {
    "deletable": false,
    "id": "e149fab4"
   },
   "outputs": [],
   "source": [
    "def categorize_purpose(row):\n",
    "    try:\n",
    "        if 'автом' in row:\n",
    "            return 'операции с автомобилем'\n",
    "        elif 'жил' in row or 'недвиж' in row:\n",
    "            return 'операции с недвижимостью'\n",
    "        elif 'свад' in row:\n",
    "            return 'проведение свадьбы'\n",
    "        elif 'образов' in row:\n",
    "            return 'получение образования'\n",
    "    except:\n",
    "        return 'нет категории'"
   ]
  },
  {
   "cell_type": "code",
   "execution_count": 22,
   "id": "eaf28ee3",
   "metadata": {
    "deletable": false,
    "id": "bf36e69b"
   },
   "outputs": [],
   "source": [
    "data['purpose_category'] = data['purpose'].apply(categorize_purpose)"
   ]
  },
  {
   "cell_type": "markdown",
   "id": "f1e7293f",
   "metadata": {
    "deletable": false,
    "editable": false,
    "id": "09b242bf"
   },
   "source": [
    "### Шаг 3. Исследуйте данные и ответьте на вопросы"
   ]
  },
  {
   "cell_type": "markdown",
   "id": "84cdc09e",
   "metadata": {
    "deletable": false,
    "editable": false,
    "id": "c5d66278"
   },
   "source": [
    "#### 3.1 Есть ли зависимость между количеством детей и возвратом кредита в срок?"
   ]
  },
  {
   "cell_type": "code",
   "execution_count": 23,
   "id": "204971f6",
   "metadata": {},
   "outputs": [],
   "source": [
    "# Сгруппируем данные по количеству детей и найдем соответсвующее им количество взятых кредитов и просрочек."
   ]
  },
  {
   "cell_type": "code",
   "execution_count": 24,
   "id": "ec92fe5c",
   "metadata": {
    "deletable": false,
    "id": "2cacfc4a"
   },
   "outputs": [
    {
     "data": {
      "text/html": [
       "<div>\n",
       "<style scoped>\n",
       "    .dataframe tbody tr th:only-of-type {\n",
       "        vertical-align: middle;\n",
       "    }\n",
       "\n",
       "    .dataframe tbody tr th {\n",
       "        vertical-align: top;\n",
       "    }\n",
       "\n",
       "    .dataframe thead tr th {\n",
       "        text-align: left;\n",
       "    }\n",
       "\n",
       "    .dataframe thead tr:last-of-type th {\n",
       "        text-align: right;\n",
       "    }\n",
       "</style>\n",
       "<table border=\"1\" class=\"dataframe\">\n",
       "  <thead>\n",
       "    <tr>\n",
       "      <th></th>\n",
       "      <th colspan=\"2\" halign=\"left\">debt</th>\n",
       "    </tr>\n",
       "    <tr>\n",
       "      <th></th>\n",
       "      <th>count</th>\n",
       "      <th>sum</th>\n",
       "    </tr>\n",
       "    <tr>\n",
       "      <th>children</th>\n",
       "      <th></th>\n",
       "      <th></th>\n",
       "    </tr>\n",
       "  </thead>\n",
       "  <tbody>\n",
       "    <tr>\n",
       "      <th>0</th>\n",
       "      <td>14091</td>\n",
       "      <td>1063</td>\n",
       "    </tr>\n",
       "    <tr>\n",
       "      <th>1</th>\n",
       "      <td>4808</td>\n",
       "      <td>444</td>\n",
       "    </tr>\n",
       "    <tr>\n",
       "      <th>2</th>\n",
       "      <td>2052</td>\n",
       "      <td>194</td>\n",
       "    </tr>\n",
       "    <tr>\n",
       "      <th>3</th>\n",
       "      <td>330</td>\n",
       "      <td>27</td>\n",
       "    </tr>\n",
       "    <tr>\n",
       "      <th>4</th>\n",
       "      <td>41</td>\n",
       "      <td>4</td>\n",
       "    </tr>\n",
       "    <tr>\n",
       "      <th>5</th>\n",
       "      <td>9</td>\n",
       "      <td>0</td>\n",
       "    </tr>\n",
       "  </tbody>\n",
       "</table>\n",
       "</div>"
      ],
      "text/plain": [
       "           debt      \n",
       "          count   sum\n",
       "children             \n",
       "0         14091  1063\n",
       "1          4808   444\n",
       "2          2052   194\n",
       "3           330    27\n",
       "4            41     4\n",
       "5             9     0"
      ]
     },
     "execution_count": 24,
     "metadata": {},
     "output_type": "execute_result"
    }
   ],
   "source": [
    "# Ваш код будет здесь. Вы можете создавать новые ячейки.\n",
    "chil_debt=data.groupby('children').agg({'debt':['count','sum']})\n",
    "chil_debt"
   ]
  },
  {
   "cell_type": "code",
   "execution_count": 25,
   "id": "c8d7321d",
   "metadata": {},
   "outputs": [
    {
     "data": {
      "text/plain": [
       "count    3555.166667\n",
       "sum       288.666667\n",
       "dtype: float64"
      ]
     },
     "execution_count": 25,
     "metadata": {},
     "output_type": "execute_result"
    }
   ],
   "source": [
    "# посчитаем коэффициент задолжности по кредиту для каждой категории с количеством детей\n",
    "chil_quality=chil_debt['debt'].mean()\n",
    "chil_quality"
   ]
  },
  {
   "cell_type": "markdown",
   "id": "fe7bea26",
   "metadata": {
    "deletable": false,
    "id": "3a6b99ec"
   },
   "source": [
    "**Вывод:** Проанализировав полученные значения, видно, что кредитополучатели без детей являются более ответственными, чем клиенты, у которых есть дети. Видимо, наличие ребенка накладывает на клиента дополнительные финансовое бремя (обязательства) и клиенты либо менее ответственно относятся к своим кредитным обязательствам, либо не имеют возможности в срок оплачивать обязательства."
   ]
  },
  {
   "cell_type": "markdown",
   "id": "bd978274",
   "metadata": {
    "deletable": false,
    "editable": false,
    "id": "97be82ca"
   },
   "source": [
    "#### 3.2 Есть ли зависимость между семейным положением и возвратом кредита в срок?"
   ]
  },
  {
   "cell_type": "code",
   "execution_count": 26,
   "id": "3cde8c6c",
   "metadata": {
    "deletable": false,
    "id": "dc3f7ee8"
   },
   "outputs": [
    {
     "data": {
      "text/html": [
       "<div>\n",
       "<style scoped>\n",
       "    .dataframe tbody tr th:only-of-type {\n",
       "        vertical-align: middle;\n",
       "    }\n",
       "\n",
       "    .dataframe tbody tr th {\n",
       "        vertical-align: top;\n",
       "    }\n",
       "\n",
       "    .dataframe thead tr th {\n",
       "        text-align: left;\n",
       "    }\n",
       "\n",
       "    .dataframe thead tr:last-of-type th {\n",
       "        text-align: right;\n",
       "    }\n",
       "</style>\n",
       "<table border=\"1\" class=\"dataframe\">\n",
       "  <thead>\n",
       "    <tr>\n",
       "      <th></th>\n",
       "      <th colspan=\"2\" halign=\"left\">debt</th>\n",
       "    </tr>\n",
       "    <tr>\n",
       "      <th></th>\n",
       "      <th>count</th>\n",
       "      <th>sum</th>\n",
       "    </tr>\n",
       "    <tr>\n",
       "      <th>family_status</th>\n",
       "      <th></th>\n",
       "      <th></th>\n",
       "    </tr>\n",
       "  </thead>\n",
       "  <tbody>\n",
       "    <tr>\n",
       "      <th>Не женат / не замужем</th>\n",
       "      <td>2796</td>\n",
       "      <td>273</td>\n",
       "    </tr>\n",
       "    <tr>\n",
       "      <th>в разводе</th>\n",
       "      <td>1189</td>\n",
       "      <td>84</td>\n",
       "    </tr>\n",
       "    <tr>\n",
       "      <th>вдовец / вдова</th>\n",
       "      <td>951</td>\n",
       "      <td>63</td>\n",
       "    </tr>\n",
       "    <tr>\n",
       "      <th>гражданский брак</th>\n",
       "      <td>4134</td>\n",
       "      <td>385</td>\n",
       "    </tr>\n",
       "    <tr>\n",
       "      <th>женат / замужем</th>\n",
       "      <td>12261</td>\n",
       "      <td>927</td>\n",
       "    </tr>\n",
       "  </tbody>\n",
       "</table>\n",
       "</div>"
      ],
      "text/plain": [
       "                        debt     \n",
       "                       count  sum\n",
       "family_status                    \n",
       "Не женат / не замужем   2796  273\n",
       "в разводе               1189   84\n",
       "вдовец / вдова           951   63\n",
       "гражданский брак        4134  385\n",
       "женат / замужем        12261  927"
      ]
     },
     "execution_count": 26,
     "metadata": {},
     "output_type": "execute_result"
    }
   ],
   "source": [
    "#Аналогично пункту 3.1 рассмотрим зависимость между данными столбцами\n",
    "family_grouped=data.groupby('family_status').agg({'debt':['count','sum']})\n",
    "family_grouped"
   ]
  },
  {
   "cell_type": "code",
   "execution_count": 27,
   "id": "2b4740e4",
   "metadata": {
    "scrolled": false
   },
   "outputs": [
    {
     "data": {
      "text/plain": [
       "family_status\n",
       "Не женат / не замужем    0.097639\n",
       "в разводе                0.070648\n",
       "вдовец / вдова           0.066246\n",
       "гражданский брак         0.093130\n",
       "женат / замужем          0.075606\n",
       "dtype: float64"
      ]
     },
     "execution_count": 27,
     "metadata": {},
     "output_type": "execute_result"
    }
   ],
   "source": [
    "family_debt_quality=family_grouped['debt']['sum']/family_grouped['debt']['count']\n",
    "family_debt_quality"
   ]
  },
  {
   "cell_type": "markdown",
   "id": "856122dd",
   "metadata": {
    "deletable": false,
    "id": "1cef7837"
   },
   "source": []
  },
  {
   "cell_type": "markdown",
   "id": "ef3be1c8",
   "metadata": {
    "deletable": false,
    "editable": false,
    "id": "1e8b2fca"
   },
   "source": [
    "#### 3.3 Есть ли зависимость между уровнем дохода и возвратом кредита в срок?"
   ]
  },
  {
   "cell_type": "code",
   "execution_count": 27,
   "id": "a75cb82d",
   "metadata": {
    "deletable": false,
    "id": "cd7e3720"
   },
   "outputs": [
    {
     "data": {
      "text/html": [
       "<div>\n",
       "<style scoped>\n",
       "    .dataframe tbody tr th:only-of-type {\n",
       "        vertical-align: middle;\n",
       "    }\n",
       "\n",
       "    .dataframe tbody tr th {\n",
       "        vertical-align: top;\n",
       "    }\n",
       "\n",
       "    .dataframe thead tr th {\n",
       "        text-align: left;\n",
       "    }\n",
       "\n",
       "    .dataframe thead tr:last-of-type th {\n",
       "        text-align: right;\n",
       "    }\n",
       "</style>\n",
       "<table border=\"1\" class=\"dataframe\">\n",
       "  <thead>\n",
       "    <tr>\n",
       "      <th></th>\n",
       "      <th colspan=\"2\" halign=\"left\">debt</th>\n",
       "    </tr>\n",
       "    <tr>\n",
       "      <th></th>\n",
       "      <th>count</th>\n",
       "      <th>sum</th>\n",
       "    </tr>\n",
       "    <tr>\n",
       "      <th>total_income_category</th>\n",
       "      <th></th>\n",
       "      <th></th>\n",
       "    </tr>\n",
       "  </thead>\n",
       "  <tbody>\n",
       "    <tr>\n",
       "      <th>A</th>\n",
       "      <td>25</td>\n",
       "      <td>2</td>\n",
       "    </tr>\n",
       "    <tr>\n",
       "      <th>B</th>\n",
       "      <td>5014</td>\n",
       "      <td>354</td>\n",
       "    </tr>\n",
       "    <tr>\n",
       "      <th>C</th>\n",
       "      <td>15921</td>\n",
       "      <td>1353</td>\n",
       "    </tr>\n",
       "    <tr>\n",
       "      <th>D</th>\n",
       "      <td>349</td>\n",
       "      <td>21</td>\n",
       "    </tr>\n",
       "    <tr>\n",
       "      <th>E</th>\n",
       "      <td>22</td>\n",
       "      <td>2</td>\n",
       "    </tr>\n",
       "  </tbody>\n",
       "</table>\n",
       "</div>"
      ],
      "text/plain": [
       "                        debt      \n",
       "                       count   sum\n",
       "total_income_category             \n",
       "A                         25     2\n",
       "B                       5014   354\n",
       "C                      15921  1353\n",
       "D                        349    21\n",
       "E                         22     2"
      ]
     },
     "execution_count": 27,
     "metadata": {},
     "output_type": "execute_result"
    }
   ],
   "source": [
    "# Ваш код будет здесь. Вы можете создавать новые ячейки.\n",
    "total_income_grouped=data.groupby('total_income_category').agg({'debt':['count','sum']})\n",
    "total_income_grouped"
   ]
  },
  {
   "cell_type": "code",
   "execution_count": 28,
   "id": "76b94cee",
   "metadata": {},
   "outputs": [
    {
     "data": {
      "text/plain": [
       "total_income_category\n",
       "A    0.080000\n",
       "B    0.070602\n",
       "C    0.084982\n",
       "D    0.060172\n",
       "E    0.090909\n",
       "dtype: float64"
      ]
     },
     "execution_count": 28,
     "metadata": {},
     "output_type": "execute_result"
    }
   ],
   "source": [
    "total_income_quality = total_income_grouped['debt']['sum']/total_income_grouped['debt']['count']\n",
    "total_income_quality"
   ]
  },
  {
   "cell_type": "markdown",
   "id": "22433e7b",
   "metadata": {
    "deletable": false,
    "id": "e8593def"
   },
   "source": [
    "**Вывод:**  Исходя из здравого смысла логично предположить, что чаще всего должниками становятся люди с небольшим доходом, которым финансовые проблемы не позволяют вовремя осуществлять платежи. Но глядя на наши результаты лично мой вывод таков: выборка по заемщикам, как с наименьшим доходом, так и с наибольшим крайне недостаточна для формирования однозначных выводов. Можно думать, что E-категория самая низкооплачиваемая не может корректно распоряжаться деньгами и «влезает» в кредиты, но тогда неясно почему у А-категории также достаточно высокий процент задолженности. В общем вывод по группам А и Е неочевиден, слишком мало данных.\n",
    "\n",
    "Если же взять для анализа только группы В, С и D, то по полученным данным не наблюдаем зависимости \"те, кто получает больше ЗП, лучше возвращает кредит». В целом это логично, так как материальный достаток - не единственная переменная, которая влияет на качество кредитной истории."
   ]
  },
  {
   "cell_type": "markdown",
   "id": "d641e524",
   "metadata": {
    "deletable": false,
    "editable": false,
    "id": "99ecbd1f"
   },
   "source": [
    "#### 3.4 Как разные цели кредита влияют на его возврат в срок?"
   ]
  },
  {
   "cell_type": "code",
   "execution_count": 29,
   "id": "ab086031",
   "metadata": {
    "deletable": false,
    "id": "2b687290"
   },
   "outputs": [
    {
     "data": {
      "text/html": [
       "<div>\n",
       "<style scoped>\n",
       "    .dataframe tbody tr th:only-of-type {\n",
       "        vertical-align: middle;\n",
       "    }\n",
       "\n",
       "    .dataframe tbody tr th {\n",
       "        vertical-align: top;\n",
       "    }\n",
       "\n",
       "    .dataframe thead tr th {\n",
       "        text-align: left;\n",
       "    }\n",
       "\n",
       "    .dataframe thead tr:last-of-type th {\n",
       "        text-align: right;\n",
       "    }\n",
       "</style>\n",
       "<table border=\"1\" class=\"dataframe\">\n",
       "  <thead>\n",
       "    <tr>\n",
       "      <th></th>\n",
       "      <th colspan=\"2\" halign=\"left\">debt</th>\n",
       "    </tr>\n",
       "    <tr>\n",
       "      <th></th>\n",
       "      <th>count</th>\n",
       "      <th>sum</th>\n",
       "    </tr>\n",
       "    <tr>\n",
       "      <th>purpose_category</th>\n",
       "      <th></th>\n",
       "      <th></th>\n",
       "    </tr>\n",
       "  </thead>\n",
       "  <tbody>\n",
       "    <tr>\n",
       "      <th>операции с автомобилем</th>\n",
       "      <td>4279</td>\n",
       "      <td>400</td>\n",
       "    </tr>\n",
       "    <tr>\n",
       "      <th>операции с недвижимостью</th>\n",
       "      <td>10751</td>\n",
       "      <td>780</td>\n",
       "    </tr>\n",
       "    <tr>\n",
       "      <th>получение образования</th>\n",
       "      <td>3988</td>\n",
       "      <td>369</td>\n",
       "    </tr>\n",
       "    <tr>\n",
       "      <th>проведение свадьбы</th>\n",
       "      <td>2313</td>\n",
       "      <td>183</td>\n",
       "    </tr>\n",
       "  </tbody>\n",
       "</table>\n",
       "</div>"
      ],
      "text/plain": [
       "                           debt     \n",
       "                          count  sum\n",
       "purpose_category                    \n",
       "операции с автомобилем     4279  400\n",
       "операции с недвижимостью  10751  780\n",
       "получение образования      3988  369\n",
       "проведение свадьбы         2313  183"
      ]
     },
     "execution_count": 29,
     "metadata": {},
     "output_type": "execute_result"
    }
   ],
   "source": [
    "# Ваш код будет здесь. Вы можете создавать новые ячейки.\n",
    "total_purpose_grouped=data.groupby('purpose_category').agg({'debt':['count','sum']})\n",
    "total_purpose_grouped"
   ]
  },
  {
   "cell_type": "code",
   "execution_count": 30,
   "id": "9b9ba296",
   "metadata": {},
   "outputs": [
    {
     "data": {
      "text/plain": [
       "purpose_category\n",
       "операции с автомобилем      0.093480\n",
       "операции с недвижимостью    0.072551\n",
       "получение образования       0.092528\n",
       "проведение свадьбы          0.079118\n",
       "dtype: float64"
      ]
     },
     "execution_count": 30,
     "metadata": {},
     "output_type": "execute_result"
    }
   ],
   "source": [
    "total_purpose_quality = total_purpose_grouped['debt']['sum']/total_purpose_grouped['debt']['count']\n",
    "total_purpose_quality"
   ]
  },
  {
   "cell_type": "markdown",
   "id": "c8b8022c",
   "metadata": {
    "deletable": false,
    "id": "b4bb2ce6"
   },
   "source": [
    "**Вывод:** Проанализировав полученные значения, видно, что возврат кредита связан с целью кредита. Больше всего просрочек у кредитов на автомобиль и образование. Кредит на проведение свадьбы и кредит на недвижимось имеют меньше просрочек. \n"
   ]
  },
  {
   "cell_type": "markdown",
   "id": "44aada26",
   "metadata": {
    "deletable": false,
    "editable": false,
    "id": "09c3ac4c"
   },
   "source": [
    "#### 3.5 Приведите возможные причины появления пропусков в исходных данных."
   ]
  },
  {
   "cell_type": "markdown",
   "id": "13658013",
   "metadata": {
    "deletable": false,
    "id": "9da2ceda"
   },
   "source": [
    "*Ответ:* В исходной таблице нам встретились пропуски в столбце с струдовым стажем и ежемесячным доходом. Причем их количество сопвпало.Одной из причин возниковения данных пропусков может быть технологическая ошибка. \n",
    "Данные, при выдаче кредита изначально не могли иметь пропуска, так как при отсутствие дохода и работы человеку кредит не одобряется. Возможно, после одобрения кредита стаж или доход заемщика изменился, старую информацию удалили, а актуальную еще не внесли. В подтверждение второго предположение, можно отметить, что доход и стаж это довольно быстро изменяющиеся параметры, по сравнению с другиими.\n"
   ]
  },
  {
   "cell_type": "markdown",
   "id": "eb0e27c7",
   "metadata": {
    "deletable": false,
    "editable": false,
    "id": "7b0487d6"
   },
   "source": [
    "#### 3.6 Объясните, почему заполнить пропуски медианным значением — лучшее решение для количественных переменных."
   ]
  },
  {
   "cell_type": "markdown",
   "id": "4474a0f3",
   "metadata": {
    "deletable": false,
    "id": "7ecf2b8e"
   },
   "source": [
    "*Ответ:* Для заполнения пропусков в количественных переменных было выбранно медианное значение, так как велична медианы расчитана для каждого типа занятости отдельно и на нее не влияют отклонения от стандартных значений. Среднее значение не использовалось, потому что, некоторые значения могут сильно отличаться от дргуих и тогда занчение среднего будет некорректно и иметь ошибочную информацию."
   ]
  },
  {
   "cell_type": "markdown",
   "id": "5227103b",
   "metadata": {
    "deletable": false,
    "editable": false,
    "id": "6db5255a"
   },
   "source": [
    "### Шаг 4: общий вывод."
   ]
  },
  {
   "cell_type": "markdown",
   "id": "d8a654c4",
   "metadata": {
    "deletable": false,
    "id": "bad65432"
   },
   "source": [
    "Исходя из полученный результатов, можно сделать вывод, что самым надежным заемщиком из числа потенциальных клиентов явлеятеся человек, удовлетворяющий следующим критериям:\n",
    "\n",
    "-без детей или с одним ребенком (есть случаи, когда большое количество детей (5 детей) дает хорошую зависимость по погашению кредита); \n",
    "\n",
    "-в приоритете вдовы / вдовцы, затем люди состоящие в браке или разведенные;\n",
    "\n",
    "-со средним (30001–50000) или выше среднего (200001–1000000) доходом;\n",
    "\n",
    "-имеющий цели, связанные с покупкой недвижимости.\n",
    "\n"
   ]
  },
  {
   "cell_type": "markdown",
   "id": "fda4264f",
   "metadata": {},
   "source": [
    "###### Общий вывод:\n",
    "\n",
    "*Было проведено исследование, чтобы выявить влияние разных факторов на факт погашения кредита в срок. Входные данные – статистика о платежеспособности клиента. Результаты исследования будут учтены при построении модели кредитного скоринга – специальной системы, которая оценивает способность потенциального заемщика вернуть кредит банку.*\n",
    "\n",
    "**Перед проведением исследования был сформирован ряд гипотез**\n",
    "\n",
    "<ol>\n",
    "<li>Гипотеза 1: «Есть зависимость между количеством детей и возвратом кредита в срок»</li>\n",
    "<li>Гипотеза 2: «Есть зависимость между семейным положением и возвратом кредита в срок»</li>\n",
    "<li>Гипотеза 3: «Есть зависимость между уровнем дохода и возвратом кредита в срок»</li>\n",
    "<li>Гипотеза 4: «Влияние разных целей кредита на его возврат в срок»</li>\n",
    "</ol>\n",
    "В результате удалось выявить зависимость:\n",
    "\n",
    "###### Гипотеза 1 частично подтверждена: (для более точных выводов необходимо больше данных по клиентам с 3, 4 и 5 детьми)\n",
    "<ul>\n",
    "<li>Доля просроченных кредитов у заемщиков без детей 7,5%</li>\n",
    "<li>Доля просроченных кредитов у заемщиков с 1 ребенком 9,2%</li>\n",
    "<li>Доля просроченных кредитов с 2 детьми по отношению 9,5%</li>\n",
    "</ul>\n",
    "\n",
    "*Рекомендация: провести дополнительное исследование на большей выборке данных c заемщиками в семьях, у которых 3, 4 и 5 детей*\n",
    "\n",
    "###### Гипотеза 2 подтверждена\n",
    "<ul>\n",
    "<li>У не женатых клиентов и тех, у кого официально не зарегистрирован брак, выше вероятность стать должниками 9,8%</li>\n",
    "<li>Те, кто в разводе, женат/замужем  или вдовец/вдова становятся должниками c вероятностью 7,1% , 7,6% и 6,6% соответственно.</li>\n",
    "</ul>\n",
    "    \n",
    "*Рекомендация: разница между 2 пунктами списка примерно 2%, поэтому я бы не рекомендовала наделять этой зависимостью высокий вес при принятии решения о кредитоспособности*\n",
    "   \n",
    "###### Гипотеза 3 частично подтверждена \n",
    "    \n",
    "<ul> \n",
    "<li>7,1% - доля просроченных кредитов с уровнем дохода от 200001 до 1000000 </li>\n",
    "<li>8,5% - доля просроченных кредитов с уровнем дохода от 50001 до 200000</li>\n",
    "</ul> \n",
    "*Рекомендация: для подтверждения наблюдения о том, что возврат кредита зависит от дохода (чем больше доход, тем меньше доля просроченного кредита) необходимо предоставить больше данных о доходах дохода относящихся к категориям А,D и E*\n",
    "\n",
    "###### Гипотеза 4 подтверждена:\n",
    "<ul>\n",
    "<li>Больше всего просрочек по кредиту с целью операцией с автомобилем и получением образования доля составляет 9,4% и 9,3% соответственно.</li>\n",
    "<li>Кредит на проведение свадьбы и кредит на недвижимость имеют меньше просрочек их процентное соотношение равно 7,9% и 7,3%.</li>\n",
    "</ul>\n",
    "\n",
    "**Общие рекомендации:**\n",
    "<ol>\n",
    "<li>Специалистам, которые занимаются построением модели кредитного скоринга, можно использовать зависимость из второй и четвертой гипотезы (семейное положение и цели кредита)</li>\n",
    "<li>Необходимо собрать более полную выборку для повторной проверки первой и третьей гипотезы.</li>\n",
    "</ol>"
   ]
  },
  {
   "cell_type": "code",
   "execution_count": null,
   "id": "5e982398",
   "metadata": {},
   "outputs": [],
   "source": []
  },
  {
   "cell_type": "markdown",
   "id": "4860ea4b",
   "metadata": {},
   "source": [
    "\n"
   ]
  }
 ],
 "metadata": {
  "ExecuteTimeLog": [
   {
    "duration": 56,
    "start_time": "2022-12-15T10:00:41.622Z"
   },
   {
    "duration": 1040,
    "start_time": "2022-12-15T10:00:49.207Z"
   },
   {
    "duration": 24,
    "start_time": "2022-12-15T10:00:50.251Z"
   },
   {
    "duration": 20,
    "start_time": "2022-12-15T10:00:50.277Z"
   },
   {
    "duration": 17,
    "start_time": "2022-12-15T10:00:50.299Z"
   },
   {
    "duration": 78,
    "start_time": "2022-12-15T10:00:50.318Z"
   },
   {
    "duration": 5,
    "start_time": "2022-12-15T10:00:50.542Z"
   },
   {
    "duration": 11,
    "start_time": "2022-12-15T10:00:50.933Z"
   },
   {
    "duration": 5,
    "start_time": "2022-12-15T10:00:51.646Z"
   },
   {
    "duration": 8,
    "start_time": "2022-12-15T10:00:51.958Z"
   },
   {
    "duration": 5,
    "start_time": "2022-12-15T10:00:52.294Z"
   },
   {
    "duration": 36,
    "start_time": "2022-12-15T10:00:53.038Z"
   },
   {
    "duration": 16,
    "start_time": "2022-12-15T10:00:53.718Z"
   },
   {
    "duration": 5,
    "start_time": "2022-12-15T10:00:54.582Z"
   },
   {
    "duration": 13,
    "start_time": "2022-12-15T10:00:55.415Z"
   },
   {
    "duration": 21,
    "start_time": "2022-12-15T10:00:55.998Z"
   },
   {
    "duration": 27,
    "start_time": "2022-12-15T10:00:56.294Z"
   },
   {
    "duration": 5,
    "start_time": "2022-12-15T10:00:57.214Z"
   },
   {
    "duration": 17,
    "start_time": "2022-12-15T10:00:57.494Z"
   },
   {
    "duration": 8,
    "start_time": "2022-12-15T10:00:58.639Z"
   },
   {
    "duration": 5,
    "start_time": "2022-12-15T10:01:00.054Z"
   },
   {
    "duration": 38,
    "start_time": "2022-12-15T10:01:00.061Z"
   },
   {
    "duration": 66,
    "start_time": "2022-12-15T10:01:00.926Z"
   },
   {
    "duration": 36,
    "start_time": "2022-12-15T10:01:01.430Z"
   },
   {
    "duration": 2,
    "start_time": "2022-12-15T10:01:33.174Z"
   },
   {
    "duration": 10,
    "start_time": "2022-12-15T10:01:36.662Z"
   },
   {
    "duration": 19,
    "start_time": "2022-12-15T10:01:54.247Z"
   },
   {
    "duration": 7,
    "start_time": "2022-12-15T10:02:11.558Z"
   },
   {
    "duration": 12,
    "start_time": "2022-12-15T10:02:22.165Z"
   },
   {
    "duration": 764,
    "start_time": "2022-12-15T10:08:05.398Z"
   },
   {
    "duration": 4,
    "start_time": "2022-12-15T10:08:14.088Z"
   },
   {
    "duration": 8,
    "start_time": "2022-12-15T10:08:29.654Z"
   },
   {
    "duration": 17,
    "start_time": "2022-12-15T10:14:19.563Z"
   },
   {
    "duration": 14,
    "start_time": "2022-12-15T10:14:51.934Z"
   },
   {
    "duration": 820,
    "start_time": "2022-12-15T10:15:10.367Z"
   },
   {
    "duration": 7,
    "start_time": "2022-12-15T10:15:23.103Z"
   },
   {
    "duration": 8,
    "start_time": "2022-12-15T10:16:28.782Z"
   },
   {
    "duration": 7,
    "start_time": "2022-12-15T10:16:38.463Z"
   },
   {
    "duration": 19,
    "start_time": "2022-12-15T10:16:45.206Z"
   },
   {
    "duration": 8,
    "start_time": "2022-12-15T10:16:49.614Z"
   },
   {
    "duration": 16,
    "start_time": "2022-12-15T10:17:10.646Z"
   },
   {
    "duration": 17,
    "start_time": "2022-12-15T10:17:12.822Z"
   },
   {
    "duration": 17,
    "start_time": "2022-12-15T10:17:18.607Z"
   },
   {
    "duration": 19,
    "start_time": "2022-12-15T10:17:26.294Z"
   },
   {
    "duration": 49,
    "start_time": "2022-12-17T11:47:54.207Z"
   },
   {
    "duration": 7,
    "start_time": "2022-12-17T11:48:26.057Z"
   },
   {
    "duration": 6,
    "start_time": "2022-12-17T11:48:28.667Z"
   },
   {
    "duration": 667,
    "start_time": "2022-12-17T11:48:35.845Z"
   },
   {
    "duration": 23,
    "start_time": "2022-12-17T11:48:36.949Z"
   },
   {
    "duration": 15,
    "start_time": "2022-12-17T11:48:37.896Z"
   },
   {
    "duration": 10,
    "start_time": "2022-12-17T11:48:38.775Z"
   },
   {
    "duration": 34,
    "start_time": "2022-12-17T11:48:39.159Z"
   },
   {
    "duration": 4,
    "start_time": "2022-12-17T11:48:39.758Z"
   },
   {
    "duration": 9,
    "start_time": "2022-12-17T11:48:40.170Z"
   },
   {
    "duration": 5,
    "start_time": "2022-12-17T11:48:40.811Z"
   },
   {
    "duration": 7,
    "start_time": "2022-12-17T11:48:41.215Z"
   },
   {
    "duration": 5,
    "start_time": "2022-12-17T11:48:41.628Z"
   },
   {
    "duration": 33,
    "start_time": "2022-12-17T11:48:42.263Z"
   },
   {
    "duration": 10,
    "start_time": "2022-12-17T11:48:42.691Z"
   },
   {
    "duration": 4,
    "start_time": "2022-12-17T11:48:43.315Z"
   },
   {
    "duration": 12,
    "start_time": "2022-12-17T11:48:43.964Z"
   },
   {
    "duration": 20,
    "start_time": "2022-12-17T11:48:44.426Z"
   },
   {
    "duration": 19,
    "start_time": "2022-12-17T11:48:44.637Z"
   },
   {
    "duration": 4,
    "start_time": "2022-12-17T11:48:45.296Z"
   },
   {
    "duration": 10,
    "start_time": "2022-12-17T11:48:45.527Z"
   },
   {
    "duration": 6,
    "start_time": "2022-12-17T11:48:45.940Z"
   },
   {
    "duration": 4,
    "start_time": "2022-12-17T11:48:46.318Z"
   },
   {
    "duration": 11,
    "start_time": "2022-12-17T11:48:47.073Z"
   },
   {
    "duration": 3,
    "start_time": "2022-12-17T11:48:47.110Z"
   },
   {
    "duration": 15,
    "start_time": "2022-12-17T11:48:47.322Z"
   },
   {
    "duration": 7,
    "start_time": "2022-12-17T11:48:47.572Z"
   },
   {
    "duration": 13,
    "start_time": "2022-12-17T11:48:48.671Z"
   },
   {
    "duration": 8,
    "start_time": "2022-12-17T11:48:51.440Z"
   },
   {
    "duration": 21,
    "start_time": "2022-12-17T11:48:51.449Z"
   },
   {
    "duration": 8,
    "start_time": "2022-12-17T11:48:51.471Z"
   },
   {
    "duration": 152,
    "start_time": "2022-12-17T11:48:52.077Z"
   },
   {
    "duration": 211,
    "start_time": "2022-12-17T11:50:19.130Z"
   },
   {
    "duration": 17,
    "start_time": "2022-12-17T12:02:50.392Z"
   },
   {
    "duration": 184,
    "start_time": "2022-12-17T12:04:32.507Z"
   },
   {
    "duration": 13,
    "start_time": "2022-12-17T12:07:04.493Z"
   },
   {
    "duration": 9,
    "start_time": "2022-12-17T12:07:23.693Z"
   },
   {
    "duration": 15,
    "start_time": "2022-12-17T12:22:13.370Z"
   },
   {
    "duration": 14,
    "start_time": "2022-12-17T12:24:53.399Z"
   },
   {
    "duration": 10,
    "start_time": "2022-12-17T12:26:38.256Z"
   },
   {
    "duration": 635,
    "start_time": "2022-12-19T10:09:16.155Z"
   },
   {
    "duration": 20,
    "start_time": "2022-12-19T10:09:17.660Z"
   },
   {
    "duration": 17,
    "start_time": "2022-12-19T10:09:18.229Z"
   },
   {
    "duration": 9,
    "start_time": "2022-12-19T10:09:19.398Z"
   },
   {
    "duration": 30,
    "start_time": "2022-12-19T10:09:19.820Z"
   },
   {
    "duration": 4,
    "start_time": "2022-12-19T10:09:20.355Z"
   },
   {
    "duration": 7,
    "start_time": "2022-12-19T10:09:20.923Z"
   },
   {
    "duration": 4,
    "start_time": "2022-12-19T10:09:21.027Z"
   },
   {
    "duration": 6,
    "start_time": "2022-12-19T10:09:21.075Z"
   },
   {
    "duration": 4,
    "start_time": "2022-12-19T10:09:21.123Z"
   },
   {
    "duration": 29,
    "start_time": "2022-12-19T10:09:21.243Z"
   },
   {
    "duration": 9,
    "start_time": "2022-12-19T10:09:21.304Z"
   },
   {
    "duration": 4,
    "start_time": "2022-12-19T10:09:21.401Z"
   },
   {
    "duration": 10,
    "start_time": "2022-12-19T10:09:21.476Z"
   },
   {
    "duration": 18,
    "start_time": "2022-12-19T10:09:21.541Z"
   },
   {
    "duration": 16,
    "start_time": "2022-12-19T10:09:21.643Z"
   },
   {
    "duration": 3,
    "start_time": "2022-12-19T10:09:21.699Z"
   },
   {
    "duration": 10,
    "start_time": "2022-12-19T10:09:21.706Z"
   },
   {
    "duration": 5,
    "start_time": "2022-12-19T10:09:21.739Z"
   },
   {
    "duration": 3,
    "start_time": "2022-12-19T10:09:21.803Z"
   },
   {
    "duration": 8,
    "start_time": "2022-12-19T10:09:21.842Z"
   },
   {
    "duration": 2,
    "start_time": "2022-12-19T10:09:21.972Z"
   },
   {
    "duration": 12,
    "start_time": "2022-12-19T10:09:21.999Z"
   },
   {
    "duration": 10,
    "start_time": "2022-12-19T10:09:22.012Z"
   },
   {
    "duration": 10,
    "start_time": "2022-12-19T10:09:22.108Z"
   },
   {
    "duration": 6,
    "start_time": "2022-12-19T10:09:22.138Z"
   },
   {
    "duration": 12,
    "start_time": "2022-12-19T10:09:22.243Z"
   },
   {
    "duration": 7,
    "start_time": "2022-12-19T10:09:22.304Z"
   },
   {
    "duration": 14,
    "start_time": "2022-12-19T10:09:22.356Z"
   },
   {
    "duration": 5,
    "start_time": "2022-12-19T10:09:22.403Z"
   },
   {
    "duration": 9,
    "start_time": "2022-12-19T11:43:34.620Z"
   },
   {
    "duration": 24,
    "start_time": "2022-12-19T11:43:45.465Z"
   },
   {
    "duration": 9,
    "start_time": "2022-12-19T11:44:15.541Z"
   },
   {
    "duration": 10,
    "start_time": "2022-12-19T11:45:11.041Z"
   },
   {
    "duration": 6,
    "start_time": "2022-12-19T11:45:28.036Z"
   },
   {
    "duration": 12,
    "start_time": "2022-12-19T11:45:46.696Z"
   },
   {
    "duration": 6,
    "start_time": "2022-12-19T11:45:50.965Z"
   },
   {
    "duration": 12,
    "start_time": "2022-12-19T11:56:56.459Z"
   },
   {
    "duration": 452,
    "start_time": "2022-12-19T14:00:50.130Z"
   },
   {
    "duration": 23,
    "start_time": "2022-12-19T14:00:50.584Z"
   },
   {
    "duration": 14,
    "start_time": "2022-12-19T14:00:50.608Z"
   },
   {
    "duration": 9,
    "start_time": "2022-12-19T14:00:50.625Z"
   },
   {
    "duration": 52,
    "start_time": "2022-12-19T14:00:50.636Z"
   },
   {
    "duration": 4,
    "start_time": "2022-12-19T14:00:50.689Z"
   },
   {
    "duration": 10,
    "start_time": "2022-12-19T14:00:50.694Z"
   },
   {
    "duration": 35,
    "start_time": "2022-12-19T14:00:50.705Z"
   },
   {
    "duration": 31,
    "start_time": "2022-12-19T14:00:50.741Z"
   },
   {
    "duration": 5,
    "start_time": "2022-12-19T14:00:50.777Z"
   },
   {
    "duration": 37,
    "start_time": "2022-12-19T14:00:50.784Z"
   },
   {
    "duration": 8,
    "start_time": "2022-12-19T14:00:50.823Z"
   },
   {
    "duration": 9,
    "start_time": "2022-12-19T14:00:50.833Z"
   },
   {
    "duration": 13,
    "start_time": "2022-12-19T14:00:50.844Z"
   },
   {
    "duration": 20,
    "start_time": "2022-12-19T14:00:50.858Z"
   },
   {
    "duration": 16,
    "start_time": "2022-12-19T14:00:50.879Z"
   },
   {
    "duration": 5,
    "start_time": "2022-12-19T14:00:50.896Z"
   },
   {
    "duration": 35,
    "start_time": "2022-12-19T14:00:50.902Z"
   },
   {
    "duration": 17,
    "start_time": "2022-12-19T14:00:50.939Z"
   },
   {
    "duration": 5,
    "start_time": "2022-12-19T14:00:50.958Z"
   },
   {
    "duration": 24,
    "start_time": "2022-12-19T14:00:50.964Z"
   },
   {
    "duration": 8,
    "start_time": "2022-12-19T14:00:50.990Z"
   },
   {
    "duration": 22,
    "start_time": "2022-12-19T14:00:51.000Z"
   },
   {
    "duration": 6,
    "start_time": "2022-12-19T14:00:51.023Z"
   },
   {
    "duration": 16,
    "start_time": "2022-12-19T14:00:51.030Z"
   },
   {
    "duration": 7,
    "start_time": "2022-12-19T14:00:51.048Z"
   },
   {
    "duration": 24,
    "start_time": "2022-12-19T14:00:51.057Z"
   },
   {
    "duration": 7,
    "start_time": "2022-12-19T14:00:51.084Z"
   },
   {
    "duration": 21,
    "start_time": "2022-12-19T14:00:51.092Z"
   },
   {
    "duration": 20,
    "start_time": "2022-12-19T14:00:51.126Z"
   },
   {
    "duration": 54,
    "start_time": "2023-01-01T14:53:34.221Z"
   },
   {
    "duration": 46,
    "start_time": "2023-09-30T15:55:23.802Z"
   },
   {
    "duration": 467,
    "start_time": "2023-09-30T15:56:06.390Z"
   },
   {
    "duration": 20,
    "start_time": "2023-09-30T15:56:07.540Z"
   },
   {
    "duration": 14,
    "start_time": "2023-09-30T15:56:07.928Z"
   },
   {
    "duration": 10,
    "start_time": "2023-09-30T15:56:08.754Z"
   },
   {
    "duration": 32,
    "start_time": "2023-09-30T15:56:09.184Z"
   },
   {
    "duration": 4,
    "start_time": "2023-09-30T15:56:09.812Z"
   },
   {
    "duration": 7,
    "start_time": "2023-09-30T15:56:10.228Z"
   },
   {
    "duration": 4,
    "start_time": "2023-09-30T15:56:10.878Z"
   },
   {
    "duration": 6,
    "start_time": "2023-09-30T15:56:11.969Z"
   },
   {
    "duration": 4,
    "start_time": "2023-09-30T15:56:12.928Z"
   },
   {
    "duration": 44,
    "start_time": "2023-09-30T15:56:14.011Z"
   },
   {
    "duration": 11,
    "start_time": "2023-09-30T15:56:14.498Z"
   },
   {
    "duration": 4,
    "start_time": "2023-09-30T15:56:15.388Z"
   },
   {
    "duration": 10,
    "start_time": "2023-09-30T15:56:16.169Z"
   },
   {
    "duration": 18,
    "start_time": "2023-09-30T15:56:16.991Z"
   },
   {
    "duration": 16,
    "start_time": "2023-09-30T15:56:17.541Z"
   },
   {
    "duration": 3,
    "start_time": "2023-09-30T15:56:19.897Z"
   },
   {
    "duration": 10,
    "start_time": "2023-09-30T15:56:20.129Z"
   },
   {
    "duration": 5,
    "start_time": "2023-09-30T15:56:20.557Z"
   },
   {
    "duration": 3,
    "start_time": "2023-09-30T15:56:21.349Z"
   },
   {
    "duration": 8,
    "start_time": "2023-09-30T15:56:21.571Z"
   },
   {
    "duration": 3,
    "start_time": "2023-09-30T15:56:22.237Z"
   },
   {
    "duration": 14,
    "start_time": "2023-09-30T15:56:22.464Z"
   },
   {
    "duration": 8,
    "start_time": "2023-09-30T15:56:22.661Z"
   },
   {
    "duration": 13,
    "start_time": "2023-09-30T15:56:23.440Z"
   },
   {
    "duration": 7,
    "start_time": "2023-09-30T15:56:23.684Z"
   }
  ],
  "colab": {
   "name": "dpp_template_part2.ipynb",
   "provenance": []
  },
  "kernelspec": {
   "display_name": "Python 3 (ipykernel)",
   "language": "python",
   "name": "python3"
  },
  "language_info": {
   "codemirror_mode": {
    "name": "ipython",
    "version": 3
   },
   "file_extension": ".py",
   "mimetype": "text/x-python",
   "name": "python",
   "nbconvert_exporter": "python",
   "pygments_lexer": "ipython3",
   "version": "3.9.5"
  },
  "toc": {
   "base_numbering": 1,
   "nav_menu": {},
   "number_sections": true,
   "sideBar": true,
   "skip_h1_title": true,
   "title_cell": "Table of Contents",
   "title_sidebar": "Contents",
   "toc_cell": false,
   "toc_position": {
    "height": "calc(100% - 180px)",
    "left": "10px",
    "top": "150px",
    "width": "165px"
   },
   "toc_section_display": true,
   "toc_window_display": true
  }
 },
 "nbformat": 4,
 "nbformat_minor": 5
}
